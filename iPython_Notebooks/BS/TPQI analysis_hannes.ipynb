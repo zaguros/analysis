{
 "metadata": {
  "name": ""
 },
 "nbformat": 3,
 "nbformat_minor": 0,
 "worksheets": [
  {
   "cells": [
    {
     "cell_type": "markdown",
     "metadata": {},
     "source": [
      "TODO\n",
      "\n",
      "* analysis of tailcounts / shot t-dependent during run\n",
      "\n",
      "* CR time histograms for both lt1 and lt2?\n",
      "\n",
      "* finish repump histograms\n",
      "\n",
      "* more flexible plotting of photon time hists\n",
      "\n",
      "Analysis vs runs\n",
      "\n",
      "* tailcounts vs run\n",
      "\n",
      "* sequence starts vs run\n"
     ]
    },
    {
     "cell_type": "code",
     "collapsed": false,
     "input": [
      "import sys\n",
      "sys.path.append(r'/Users/wp/Documents/Code/python_libs/adsy-python/lib')\n",
      "from adsy.ipython import *\n",
      "extended_styles()"
     ],
     "language": "python",
     "metadata": {},
     "outputs": [
      {
       "html": [
        "\n",
        "        <script type=\"text/javascript\">\n",
        "        var toggleInput;\n",
        "        (function() {\n",
        "            var inputInterval;\n",
        "            var intervalCount = 0;\n",
        "            var init = false;\n",
        "            var inputUp = false;\n",
        "            toggleInput = function() {\n",
        "                if(inputUp) {\n",
        "                    $('div.input').slideDown();\n",
        "                    $('div.code_cell').attr('style', '');\n",
        "                }\n",
        "                else {\n",
        "                    $('div.input').slideUp();\n",
        "                    $('div.code_cell').attr('style', 'padding: 0px; margin: 0px');\n",
        "                }\n",
        "                inputUp = !inputUp;\n",
        "                init = true;\n",
        "            }\n",
        "            function initExtendedStyles() {\n",
        "                if(intervalCount > 15) {\n",
        "                    clearInterval(inputInterval);\n",
        "                }\n",
        "                intervalCount += 1;\n",
        "                try {\n",
        "                    toggleInput();\n",
        "                    clearInterval(inputInterval);\n",
        "                } catch(e) {}\n",
        "            }\n",
        "            if (typeof jQuery == 'undefined') {\n",
        "                // if jQuery Library is not loaded\n",
        "                var script = document.createElement( 'script' );\n",
        "                script.type = 'text/javascript';\n",
        "                script.src = 'https://ajax.googleapis.com/ajax/libs/jquery/1.8.3/jquery.min.js';\n",
        "                document.body.appendChild(script);\n",
        "            }\n",
        "\n",
        "            setTimeout(initExtendedStyles, 200);\n",
        "            // jQuery is doing this interval trick\n",
        "            // I guess its the way to do it then.\n",
        "            inputInterval = setInterval(initExtendedStyles, 1000);\n",
        "        }());\n",
        "        </script>\n",
        "       <a href=\"javascript:toggleInput()\">Toggle Input</a>\n",
        "        "
       ],
       "metadata": {},
       "output_type": "pyout",
       "prompt_number": 248,
       "text": [
        "<IPython.core.display.HTML at 0x10fc9b250>"
       ]
      }
     ],
     "prompt_number": 248
    },
    {
     "cell_type": "code",
     "collapsed": false,
     "input": [
      "execfile(r'D:\\measuring\\analysis\\scripts\\setup_analysis.py')\n",
      "from analysis.lib.pq import pq_tools\n",
      "reload(pq_tools)\n",
      "import os, h5py\n",
      "\n",
      "\n",
      "COLORS = 'RoyalBlue', 'Crimson', 'LimeGreen', 'DarkOrange', 'BlueViolet'"
     ],
     "language": "python",
     "metadata": {},
     "outputs": [],
     "prompt_number": 2
    },
    {
     "cell_type": "heading",
     "level": 4,
     "metadata": {},
     "source": [
      "Methods for g2-computing"
     ]
    },
    {
     "cell_type": "code",
     "collapsed": false,
     "input": [
      "# calculation of coincidences between the two detectors\n",
      "\n",
      "def filter_coincidences(coincidences, **kw):\n",
      "    channel_delay = kw.pop('channel_delay', CHANNELDELAY)\n",
      "    ch0_start = kw.get('ch0_start', CH0_START)\n",
      "    ch1_start = CH0_START + channel_delay\n",
      "    tail_length = kw.pop('tail_length', TAIL_LENGTH)\n",
      "    pulse_sep = kw.pop('pulse_sep', PULSE_SEP)\n",
      "    noof_pulses = kw.pop('noof_pulses', NOOF_PULSES)\n",
      "    \n",
      "    f_st0 = pq_tools.filter_synctimes(coincidences[:,1], ch0_start, ch0_start+tail_length, noof_pulses, pulse_sep, pq_file = False)\n",
      "    f_st1 = pq_tools.filter_synctimes(coincidences[:,2], ch1_start, ch1_start+tail_length, noof_pulses, pulse_sep, pq_file = False)\n",
      "            \n",
      "    return f_st0 & f_st1 # & f_dt\n",
      "    \n",
      "\n",
      "    \n",
      "def _in_center_peak(dts):\n",
      "    return (dts>-CNTR_PEAK_RANGE) & (dts<CNTR_PEAK_RANGE)\n",
      "\n",
      "def normalized_center_peak_height(dts, max_peak_dt=None):\n",
      "    peak_dts = dts.copy()[_in_center_peak(dts)]\n",
      "    if max_peak_dt != None:\n",
      "        fltr = (peak_dts>-max_peak_dt) & (peak_dts<max_peak_dt)\n",
      "        peak_dts = peak_dts[fltr]\n",
      "    \n",
      "    r = float(len(dts[logical_not(_in_center_peak(dts))]))\n",
      "    p = float(len(peak_dts))\n",
      "    u_r = sqrt(r)\n",
      "    u_p = sqrt(p)\n",
      "    h = p/r\n",
      "    u_h = sqrt( (u_p/r)**2 + (p/r**2 * u_r)**2 )\n",
      "    print p\n",
      "\n",
      "    return h, u_h\n",
      "\n",
      "def visibility(dts_in, dts_out, max_peak_dt=None):\n",
      "    i, u_i = normalized_center_peak_height(dts_in, max_peak_dt)\n",
      "    o, u_o = normalized_center_peak_height(dts_out, max_peak_dt)\n",
      "    \n",
      "    v = 1. - o/i\n",
      "    u_v = sqrt( (u_o/i)**2 + (o/i**2 * u_i)**2 )\n",
      "    \n",
      "    return v, u_v    \n",
      "    \n",
      "    \n",
      "### plotting\n",
      "def _plot_coincidences(ax, dts, **kw):\n",
      "    color = kw.pop('color', COLORS[0])\n",
      "    lw = kw.pop('lw', 0)\n",
      "    \n",
      "    ax.hist(dts*1e-3, bins=G2_BINEDGES*1e-3, color=color, lw=lw)\n",
      "    ax.set_xlabel('dt (ns)')\n",
      "    ax.set_ylabel('coincidences')\n",
      "    \n",
      "def plot_coincidences(fp, filter=True, **kw):\n",
      "    coincidences = get_coincidences(fp, **kw)\n",
      "    dts = coincidences[:,0] - CHANNELDELAY\n",
      "    \n",
      "    # some (default) filtering\n",
      "    if filter:\n",
      "        f_st0 = filter_synctimes(coincidences[:,1], CH0_START, CH0_STOP)\n",
      "        f_st1 = filter_synctimes(coincidences[:,2], CH1_START, CH1_STOP)\n",
      "        dts = dts[f_st0 & f_st1]\n",
      "    \n",
      "    fig, ax = subplots(1,1, figsize=(6,4))\n",
      "    _plot_coincidences(ax, dts)\n",
      "    \n",
      "    fig.suptitle(get_msmt_header(fp) + ' -- coincidences')\n",
      "    folder, _fn = os.path.split(fp)\n",
      "    fig.savefig(os.path.join(folder, 'coincidences.png'))"
     ],
     "language": "python",
     "metadata": {},
     "outputs": [],
     "prompt_number": 16
    },
    {
     "cell_type": "heading",
     "level": 1,
     "metadata": {},
     "source": [
      "Analysis run"
     ]
    },
    {
     "cell_type": "heading",
     "level": 2,
     "metadata": {},
     "source": [
      "Analyse a single experiment run"
     ]
    },
    {
     "cell_type": "code",
     "collapsed": false,
     "input": [
      "BASE_FOLDER_LABANALYSIS = r'D:\\measuring\\data\\20140702\\TPQI'\n",
      "\n",
      "# which folder to look at\n",
      "RUN_FOLDER = os.path.join(BASE_FOLDER_LABANALYSIS,\n",
      "                          r'150850_Bell_BS_tpqi_parallel_BS_pulse_shaping')\n",
      "\n",
      "# re-evaluations\n",
      "FORCE_PHOTONHIST_EVALUATION = False \n",
      "FORCE_COINCIDENCE_EVALUATION = False\n",
      "\n",
      "# photon histogram settings\n",
      "START_BIN = 5360e3\n",
      "LENGTH = 0.2e6\n",
      "BINSIZE = 0.1e4\n",
      "\n",
      "def analyze_single_run(fp):\n",
      "    # tail\n",
      "    plots.plot_photon_hist(fp)\n",
      "    # plot_tail(fp)\n",
      "    \n",
      "    # CR information\n",
      "    # plot_CR_hist_total(fp)\n",
      "    # plot_CR_hist_sequence_timeout(fp)\n",
      "    \n",
      "    # coincidences\n",
      "    # plot_coincidences(fp)\n",
      "    \n",
      "def analyze_runs(folder):\n",
      "    fps = get_all_msmt_filepaths(folder)\n",
      "    for fp in fps:\n",
      "        try:\n",
      "            analyze_single_run(fp)\n",
      "        except:\n",
      "            'Skip this one... Check for write protection:'\n",
      "            print fp\n",
      "            print\n",
      "        close('all')\n",
      "\n",
      "fp =  tb.get_msmt_fp(RUN_FOLDER)\n",
      "\n",
      "pqf = pq_tools.pqf_from_fp(fp, rights = 'r+')\n",
      "\n",
      "pq_tools.plot_photon_hist(pqf, start = START_BIN, length = LENGTH, hist_binsize = BINSIZE)\n"
     ],
     "language": "python",
     "metadata": {},
     "outputs": [
      {
       "metadata": {},
       "output_type": "pyout",
       "prompt_number": 4,
       "text": [
        "(<matplotlib.figure.Figure at 0x815f790>,\n",
        " (<matplotlib.axes.AxesSubplot at 0x815f890>,\n",
        "  <matplotlib.axes.AxesSubplot at 0x81dfc10>))"
       ]
      },
      {
       "metadata": {},
       "output_type": "display_data",
       "png": "[encoded data removed]",
       "text": [
        "<matplotlib.figure.Figure at 0x815f790>"
       ]
      }
     ],
     "prompt_number": 4
    },
    {
     "cell_type": "heading",
     "level": 2,
     "metadata": {},
     "source": [
      "Aggregated analysis"
     ]
    },
    {
     "cell_type": "heading",
     "level": 3,
     "metadata": {},
     "source": [
      "Coincidences"
     ]
    },
    {
     "cell_type": "code",
     "collapsed": false,
     "input": [
      "BASE = BASE_FOLDER_LABANALYSIS\n",
      "HWP_IN_FOLDERS = [\n",
      "                  r'153807_Bell_BS_tpqi_parallel_BS_pulse_shaping',\n",
      "                  ]\n",
      "\n",
      "\n",
      "HWP_OUT_FOLDERS = [\n",
      "                   r'150850_Bell_BS_tpqi_parallel_BS_pulse_shaping',\n",
      "                   ]\n",
      "\n",
      "G2_BINEDGES = arange((-15*600)*1e3-55e3, (15*600)*1e3+55e3, 100*1e3) \n",
      "SUM_BINEDGES = arange((-15*600-300)*1e3, (15*600+900)*1e3, 600*1e3)\n",
      "SUM_CNTRS = arange(-15*600*1e3, 15*600*1e3, 600*1e3)\n",
      "\n",
      "CNTR_PEAK_RANGE = 300e3\n",
      "\n",
      "##FILTERING:\n",
      "\n",
      "CH0_START = 5378.5e3\n",
      "CHANNELDELAY = 3.14e3\n",
      "PULSE_SEP = 600e3\n",
      "TAIL_LENGTH = 200e3\n",
      "NOOF_PULSES = 15\n",
      "\n",
      "def _aggregated_coincidences(in_folders, out_folders):\n",
      "    in_coincidences = empty((0,4))\n",
      "    for _f in in_folders:\n",
      "        _f = os.path.join(BASE, _f)\n",
      "        print _f\n",
      "        in_coincidences = vstack((in_coincidences, pq_tools.get_coincidences_from_folder(_f)))\n",
      "    \n",
      "    out_coincidences = empty((0,4))\n",
      "    for _f in out_folders:\n",
      "        _f = os.path.join(BASE, _f)\n",
      "        out_coincidences = vstack((out_coincidences, pq_tools.get_coincidences_from_folder(_f)))\n",
      "        \n",
      "    return in_coincidences, out_coincidences\n",
      "\n",
      "\n",
      "def get_aggregated_coincidences(in_folders=HWP_IN_FOLDERS, out_folders=HWP_OUT_FOLDERS):        \n",
      "    in_coincidences, out_coincidences = _aggregated_coincidences(in_folders, out_folders)\n",
      "    \n",
      "    #length = 20\n",
      "    ch0_start = CH0_START\n",
      "    \n",
      "    fltr_in = filter_coincidences(in_coincidences)\n",
      "    fltr_out = filter_coincidences(out_coincidences)    \n",
      "    \n",
      "    in_dts = in_coincidences[fltr_in,0] + CHANNELDELAY\n",
      "    out_dts = out_coincidences[fltr_out,0] + CHANNELDELAY\n",
      "    \n",
      "    v,u_v = visibility(in_dts, out_dts)\n",
      "    print 'Visibility: ({:.1f} +/- {:.1f})%'.format(v*100., u_v*100.)\n",
      "       \n",
      "    fig, (ax_in, ax_out) = subplots(1,2, figsize=(25,5), sharey=False, sharex=True)\n",
      "    ax_in.set_title('HWP in')\n",
      "    ax_out.set_title('HWP out')\n",
      "    \n",
      "    _plot_coincidences(ax_in, in_dts)\n",
      "    _plot_coincidences(ax_out, out_dts, color=COLORS[1])\n",
      "\n",
      "    peakcounts_in, _be = histogram(in_dts, bins=SUM_BINEDGES)\n",
      "    peakcounts_out, _be = histogram(out_dts, bins=SUM_BINEDGES)\n",
      "\n",
      "    # print sums of the peaks \n",
      "    # for i,c in enumerate(peakcounts_in):\n",
      "    #     ax_in.text(SUM_CNTRS[i], ax_in.get_ylim()[1]-10, \"{}\".format(peakcounts_in[i]),\n",
      "    #                ha='center', va='top')\n",
      "        \n",
      "    # for i,c in enumerate(peakcounts_out):\n",
      "    #     ax_out.text(SUM_CNTRS[i], ax_out.get_ylim()[1]-10, \"{}\".format(peakcounts_out[i]),\n",
      "    #                ha='center', va='top')\n",
      "        \n",
      "    ax_in.set_xlim(-700,700) # in ns\n",
      "    \n",
      "    \n",
      "    return in_dts, out_dts\n",
      "\n",
      "in_dts, out_dts = get_aggregated_coincidences()"
     ],
     "language": "python",
     "metadata": {},
     "outputs": [
      {
       "output_type": "stream",
       "stream": "stdout",
       "text": [
        "D:\\measuring\\data\\20140702\\TPQI\\153807_Bell_BS_tpqi_parallel_BS_pulse_shaping\n",
        "Visibility: (67.0 +/- 7.7)%"
       ]
      },
      {
       "output_type": "stream",
       "stream": "stdout",
       "text": [
        "\n"
       ]
      },
      {
       "metadata": {},
       "output_type": "display_data",
       "png": "[encoded data removed]",
       "text": [
        "<matplotlib.figure.Figure at 0x58a66f0>"
       ]
      }
     ],
     "prompt_number": 7
    },
    {
     "cell_type": "code",
     "collapsed": false,
     "input": [
      "f = h5py.File('TPQI.h5py', 'w')\n",
      "f['coincidences_HWP_in'] = in_dts\n",
      "f['coincidences_HWP_in'].attrs['description'] = 'contains the filtered list of dt-values in ns'\n",
      "f['coincidences_HWP_out'] = out_dts\n",
      "f['coincidences_HWP_out'].attrs['description'] = 'contains the filtered list of dt-values in ns'\n",
      "f.close()"
     ],
     "language": "python",
     "metadata": {},
     "outputs": [
      {
       "ename": "NameError",
       "evalue": "name 'h5py' is not defined",
       "output_type": "pyerr",
       "traceback": [
        "\u001b[1;31m---------------------------------------------------------------------------\u001b[0m\n\u001b[1;31mNameError\u001b[0m                                 Traceback (most recent call last)",
        "\u001b[1;32m<ipython-input-57-4403bb5c7b1b>\u001b[0m in \u001b[0;36m<module>\u001b[1;34m()\u001b[0m\n\u001b[1;32m----> 1\u001b[1;33m \u001b[0mf\u001b[0m \u001b[1;33m=\u001b[0m \u001b[0mh5py\u001b[0m\u001b[1;33m.\u001b[0m\u001b[0mFile\u001b[0m\u001b[1;33m(\u001b[0m\u001b[1;34m'TPQI.h5py'\u001b[0m\u001b[1;33m,\u001b[0m \u001b[1;34m'w'\u001b[0m\u001b[1;33m)\u001b[0m\u001b[1;33m\u001b[0m\u001b[0m\n\u001b[0m\u001b[0;32m      2\u001b[0m \u001b[0mf\u001b[0m\u001b[1;33m[\u001b[0m\u001b[1;34m'coincidences_HWP_in'\u001b[0m\u001b[1;33m]\u001b[0m \u001b[1;33m=\u001b[0m \u001b[0min_dts\u001b[0m\u001b[1;33m\u001b[0m\u001b[0m\n\u001b[0;32m      3\u001b[0m \u001b[0mf\u001b[0m\u001b[1;33m[\u001b[0m\u001b[1;34m'coincidences_HWP_in'\u001b[0m\u001b[1;33m]\u001b[0m\u001b[1;33m.\u001b[0m\u001b[0mattrs\u001b[0m\u001b[1;33m[\u001b[0m\u001b[1;34m'description'\u001b[0m\u001b[1;33m]\u001b[0m \u001b[1;33m=\u001b[0m \u001b[1;34m'contains the filtered list of dt-values in ns'\u001b[0m\u001b[1;33m\u001b[0m\u001b[0m\n\u001b[0;32m      4\u001b[0m \u001b[0mf\u001b[0m\u001b[1;33m[\u001b[0m\u001b[1;34m'coincidences_HWP_out'\u001b[0m\u001b[1;33m]\u001b[0m \u001b[1;33m=\u001b[0m \u001b[0mout_dts\u001b[0m\u001b[1;33m\u001b[0m\u001b[0m\n\u001b[0;32m      5\u001b[0m \u001b[0mf\u001b[0m\u001b[1;33m[\u001b[0m\u001b[1;34m'coincidences_HWP_out'\u001b[0m\u001b[1;33m]\u001b[0m\u001b[1;33m.\u001b[0m\u001b[0mattrs\u001b[0m\u001b[1;33m[\u001b[0m\u001b[1;34m'description'\u001b[0m\u001b[1;33m]\u001b[0m \u001b[1;33m=\u001b[0m \u001b[1;34m'contains the filtered list of dt-values in ns'\u001b[0m\u001b[1;33m\u001b[0m\u001b[0m\n",
        "\u001b[1;31mNameError\u001b[0m: name 'h5py' is not defined"
       ]
      }
     ],
     "prompt_number": 57
    },
    {
     "cell_type": "code",
     "collapsed": false,
     "input": [
      "in_folders = HWP_IN_FOLDERS\n",
      "out_folders = HWP_OUT_FOLDERS     \n",
      "\n",
      "CH0_START = 5378.5e3\n",
      "CHANNELDELAY = 3.14e3\n",
      "PULSE_SEP = 600e3\n",
      "TAIL_LENGTH = 200e3\n",
      "NOOF_PULSES = 15\n",
      "CH0_STOP = CH0_START + TAIL_LENGTH\n",
      "\n",
      "\n",
      "in_coincidences, out_coincidences = _aggregated_coincidences(in_folders, out_folders)\n",
      "    \n",
      "fltr_in = filter_coincidences(in_coincidences)\n",
      "fltr_out = filter_coincidences(out_coincidences)    \n",
      "in_dts = in_coincidences[fltr_in,0] - CHANNELDELAY\n",
      "out_dts = out_coincidences[fltr_out,0] - CHANNELDELAY\n",
      "    \n",
      "v = array([])\n",
      "u_v = array([])\n",
      "dtmaxs = arange(5e3, 35e3, 5e3)\n",
      "for dtmax in dtmaxs:\n",
      "    _v, _u_v = visibility(in_dts, out_dts, max_peak_dt=dtmax)\n",
      "    v = append(v, _v)\n",
      "    u_v = append(u_v, _u_v)\n",
      "    \n",
      "fig, ax = subplots(1,1)\n",
      "ax.errorbar(dtmaxs*1e-3, v, yerr=u_v, fmt='o')\n",
      "ax.set_xlabel('max. dt (ns)')\n",
      "ax.set_ylabel('visibility')\n",
      "ax.set_title('TPQI visibility vs max. coincidence delay')\n",
      "ax.set_xlim(2,32)\n",
      "    \n",
      "info = \"\"\"\n",
      "ch0 start: {} ns\n",
      "ch1 start: {} ns\n",
      "length: {} ns\n",
      "\"\"\".format(CH0_START*1e-3, (CH0_START-CHANNELDELAY)*1e-3, (CH0_STOP-CH0_START)*1e-3)\n",
      "print info    \n",
      "#ax.text(40, 0.85, info, ha='left', va='top')\n"
     ],
     "language": "python",
     "metadata": {},
     "outputs": [
      {
       "output_type": "stream",
       "stream": "stdout",
       "text": [
        "D:\\measuring\\data\\20140702\\TPQI\\153807_Bell_BS_tpqi_parallel_BS_pulse_shaping\n",
        "18.0"
       ]
      },
      {
       "output_type": "stream",
       "stream": "stdout",
       "text": [
        "\n",
        "1.0\n",
        "36.0\n",
        "6.0\n",
        "50.0\n",
        "11.0\n",
        "60.0\n",
        "15.0\n",
        "61.0\n",
        "16.0\n",
        "62.0\n",
        "16.0\n",
        "\n",
        "ch0 start: 5378.5 ns\n",
        "ch1 start: 5375.36 ns\n",
        "length: 200.0 ns\n"
       ]
      },
      {
       "output_type": "stream",
       "stream": "stdout",
       "text": [
        "\n"
       ]
      },
      {
       "metadata": {},
       "output_type": "display_data",
       "png": "[encoded data removed]",
       "text": [
        "<matplotlib.figure.Figure at 0xbd768f0>"
       ]
      }
     ],
     "prompt_number": 17
    },
    {
     "cell_type": "code",
     "collapsed": false,
     "input": [
      "ch0_starts = np.arange(CH0_START-3e3, CH0_START+1e3, 0.3e3)\n",
      "tail_length = 200e3\n",
      "dtmax = 20e3\n",
      "\n",
      "v = array([])\n",
      "u_v = array([])\n",
      "\n",
      "for ch0_start in ch0_starts:\n",
      "    fltr_in = filter_coincidences(in_coincidences, ch0_start=ch0_start,\n",
      "                                  length=tail_length)\n",
      "    fltr_out = filter_coincidences(out_coincidences, ch0_start=ch0_start,\n",
      "                                   length=tail_length)\n",
      "    in_dts = in_coincidences[fltr_in,0] - CHANNELDELAY\n",
      "    out_dts = out_coincidences[fltr_out,0] - CHANNELDELAY\n",
      "    _v, _u_v = visibility(in_dts, out_dts, max_peak_dt=dtmax)\n",
      "    v = append(v, _v)\n",
      "    u_v = append(u_v, _u_v)\n",
      "  \n",
      "    \n",
      "fig, ax = subplots(1,1)\n",
      "ax.errorbar((ch0_starts - CH0_START)*1e-3, v, yerr=u_v, fmt='o')\n",
      "ax.set_xlabel('tail start offset (ns)')\n",
      "ax.set_ylabel('visibility')\n",
      "ax.set_title('TPQI visibility vs tail start offset')\n",
      "\n",
      "info = \"\"\"\n",
      "max dt: {} ns\n",
      "length: {} ns\n",
      "start: {} ns\n",
      "\"\"\".format(dtmax*1e-3, tail_length*1e-3, CH0_START*1e-3)\n",
      "\n",
      "print info"
     ],
     "language": "python",
     "metadata": {},
     "outputs": [
      {
       "output_type": "stream",
       "stream": "stdout",
       "text": [
        "\n",
        "max dt: 20.0 ns\n",
        "length: 200.0 ns\n",
        "start: 5378.5 ns\n",
        "\n"
       ]
      },
      {
       "metadata": {},
       "output_type": "display_data",
       "png": "[encoded data removed]",
       "text": [
        "<matplotlib.figure.Figure at 0x31858110>"
       ]
      }
     ],
     "prompt_number": 55
    },
    {
     "cell_type": "code",
     "collapsed": false,
     "input": [
      "ch0_start = 5378.5e3\n",
      "tail_lengths = arange(10e3, 100e3, 10e3)\n",
      "dtmax =5e3\n",
      "\n",
      "v = array([])\n",
      "u_v = array([])\n",
      "\n",
      "for tail_length in tail_lengths:\n",
      "    fltr_in = filter_coincidences(in_coincidences, ch0_start=ch0_start,\n",
      "                                  tail_length=tail_length)\n",
      "    fltr_out = filter_coincidences(out_coincidences, ch0_start=ch0_start,\n",
      "                                   tail_length=tail_length)\n",
      "    in_dts = in_coincidences[fltr_in,0] - CHANNELDELAY\n",
      "    out_dts = out_coincidences[fltr_out,0] - CHANNELDELAY\n",
      "    _v, _u_v = visibility(in_dts, out_dts, max_peak_dt=dtmax)\n",
      "    v = append(v, _v)\n",
      "    u_v = append(u_v, _u_v)\n",
      "\n",
      "\n",
      "    \n",
      "fig, ax = subplots(1,1)\n",
      "ax.errorbar(tail_lengths*1e-3, v, yerr=u_v, fmt='o')\n",
      "ax.set_xlabel('tail length (ns)')\n",
      "ax.set_ylabel('visibility')\n",
      "ax.set_title('TPQI visibility vs tail length')\n",
      "\n",
      "info = \"\"\"\n",
      "max dt: {} ns\n",
      "ch0 start: {} ns\n",
      "\"\"\".format(dtmax*1e-3, ch0_start*1e-3)\n",
      "\n",
      "print info"
     ],
     "language": "python",
     "metadata": {},
     "outputs": [
      {
       "output_type": "stream",
       "stream": "stdout",
       "text": [
        "\n",
        "max dt: 5.0 ns\n",
        "ch0 start: 5378.5 ns\n",
        "\n"
       ]
      },
      {
       "metadata": {},
       "output_type": "display_data",
       "png": "[encoded data removed]",
       "text": [
        "<matplotlib.figure.Figure at 0xafe6730>"
       ]
      }
     ],
     "prompt_number": 15
    },
    {
     "cell_type": "code",
     "collapsed": false,
     "input": [
      "\n",
      "\n",
      "o = 0.0017857142857142857\n",
      "u_o = 0.0012626906806902636\n",
      "i = 0.030973451327433628\n",
      "u_i = 0.0082780030680839403\n",
      "\n",
      "v = 1. - o/i\n",
      "u_v = sqrt( (u_o/i)**2 + (o/i**2 * u_i)**2 )"
     ],
     "language": "python",
     "metadata": {},
     "outputs": [],
     "prompt_number": 151
    },
    {
     "cell_type": "code",
     "collapsed": false,
     "input": [
      "v"
     ],
     "language": "python",
     "metadata": {},
     "outputs": [
      {
       "metadata": {},
       "output_type": "pyout",
       "prompt_number": 152,
       "text": [
        "0.9423469387755102"
       ]
      }
     ],
     "prompt_number": 152
    },
    {
     "cell_type": "code",
     "collapsed": false,
     "input": [
      "u_v"
     ],
     "language": "python",
     "metadata": {},
     "outputs": [
      {
       "metadata": {},
       "output_type": "pyout",
       "prompt_number": 153,
       "text": [
        "0.043581617806166005"
       ]
      }
     ],
     "prompt_number": 153
    },
    {
     "cell_type": "code",
     "collapsed": false,
     "input": [
      "sqrt(2)/1120."
     ],
     "language": "python",
     "metadata": {},
     "outputs": [
      {
       "metadata": {},
       "output_type": "pyout",
       "prompt_number": 148,
       "text": [
        "0.0012626906806902636"
       ]
      }
     ],
     "prompt_number": 148
    },
    {
     "cell_type": "code",
     "collapsed": false,
     "input": [
      "0.0017857142857142857 0.0012626906806902636\n",
      "0.030973451327433628 0.0082780030680839403"
     ],
     "language": "python",
     "metadata": {},
     "outputs": []
    }
   ],
   "metadata": {}
  }
 ]
}