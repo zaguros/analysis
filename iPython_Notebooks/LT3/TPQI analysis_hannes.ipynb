{
 "metadata": {
  "name": ""
 },
 "nbformat": 3,
 "nbformat_minor": 0,
 "worksheets": [
  {
   "cells": [
    {
     "cell_type": "markdown",
     "metadata": {},
     "source": [
      "TODO\n",
      "\n",
      "* analysis of tailcounts / shot t-dependent during run\n",
      "\n",
      "* CR time histograms for both lt1 and lt2?\n",
      "\n",
      "* finish repump histograms\n",
      "\n",
      "* more flexible plotting of photon time hists\n",
      "\n",
      "Analysis vs runs\n",
      "\n",
      "* tailcounts vs run\n",
      "\n",
      "* sequence starts vs run\n"
     ]
    },
    {
     "cell_type": "code",
     "collapsed": false,
     "input": [
      "import sys\n",
      "sys.path.append(r'/Users/wp/Documents/Code/python_libs/adsy-python/lib')\n",
      "from adsy.ipython import *\n",
      "extended_styles()"
     ],
     "language": "python",
     "metadata": {},
     "outputs": [
      {
       "ename": "ImportError",
       "evalue": "No module named adsy.ipython",
       "output_type": "pyerr",
       "traceback": [
        "\u001b[1;31m---------------------------------------------------------------------------\u001b[0m\n\u001b[1;31mImportError\u001b[0m                               Traceback (most recent call last)",
        "\u001b[1;32m<ipython-input-1-d67404135695>\u001b[0m in \u001b[0;36m<module>\u001b[1;34m()\u001b[0m\n\u001b[0;32m      1\u001b[0m \u001b[1;32mimport\u001b[0m \u001b[0msys\u001b[0m\u001b[1;33m\u001b[0m\u001b[0m\n\u001b[0;32m      2\u001b[0m \u001b[0msys\u001b[0m\u001b[1;33m.\u001b[0m\u001b[0mpath\u001b[0m\u001b[1;33m.\u001b[0m\u001b[0mappend\u001b[0m\u001b[1;33m(\u001b[0m\u001b[1;34mr'/Users/wp/Documents/Code/python_libs/adsy-python/lib'\u001b[0m\u001b[1;33m)\u001b[0m\u001b[1;33m\u001b[0m\u001b[0m\n\u001b[1;32m----> 3\u001b[1;33m \u001b[1;32mfrom\u001b[0m \u001b[0madsy\u001b[0m\u001b[1;33m.\u001b[0m\u001b[0mipython\u001b[0m \u001b[1;32mimport\u001b[0m \u001b[1;33m*\u001b[0m\u001b[1;33m\u001b[0m\u001b[0m\n\u001b[0m\u001b[0;32m      4\u001b[0m \u001b[0mextended_styles\u001b[0m\u001b[1;33m(\u001b[0m\u001b[1;33m)\u001b[0m\u001b[1;33m\u001b[0m\u001b[0m\n",
        "\u001b[1;31mImportError\u001b[0m: No module named adsy.ipython"
       ]
      }
     ],
     "prompt_number": 1
    },
    {
     "cell_type": "code",
     "collapsed": false,
     "input": [
      "execfile(r'D:\\measuring\\analysis\\scripts\\setup_analysis.py')\n",
      "from analysis.lib.pq import pq_tools\n",
      "reload(pq_tools)\n",
      "import os, h5py\n",
      "\n",
      "\n",
      "COLORS = 'RoyalBlue', 'Crimson', 'LimeGreen', 'DarkOrange', 'BlueViolet'"
     ],
     "language": "python",
     "metadata": {},
     "outputs": [],
     "prompt_number": 1
    },
    {
     "cell_type": "heading",
     "level": 4,
     "metadata": {},
     "source": [
      "Methods for g2-computing"
     ]
    },
    {
     "cell_type": "code",
     "collapsed": false,
     "input": [
      "# calculation of coincidences between the two detectors\n",
      "\n",
      "def filter_coincidences(coincidences, **kw):\n",
      "    channel_delay = kw.pop('channel_delay', CHANNELDELAY)\n",
      "    ch0_start = kw.get('ch0_start', CH0_START)\n",
      "    ch1_start = CH0_START + channel_delay\n",
      "    tail_length = kw.pop('tail_length', TAIL_LENGTH)\n",
      "    pulse_sep = kw.pop('pulse_sep', PULSE_SEP)\n",
      "    noof_pulses = kw.pop('noof_pulses', NOOF_PULSES)\n",
      "    \n",
      "    f_st0 = pq_tools.filter_synctimes(coincidences[:,1], ch0_start, ch0_start+tail_length, noof_pulses, pulse_sep, pq_file = False)\n",
      "    f_st1 = pq_tools.filter_synctimes(coincidences[:,2], ch1_start, ch1_start+tail_length, noof_pulses, pulse_sep, pq_file = False)\n",
      "            \n",
      "    return f_st0 & f_st1 # & f_dt\n",
      "    \n",
      "\n",
      "    \n",
      "def _in_center_peak(dts):\n",
      "    return (dts>-CNTR_PEAK_RANGE) & (dts<CNTR_PEAK_RANGE)\n",
      "\n",
      "def normalized_center_peak_height(dts, max_peak_dt=None):\n",
      "    peak_dts = dts.copy()[_in_center_peak(dts)]\n",
      "    if max_peak_dt != None:\n",
      "        fltr = (peak_dts>-max_peak_dt) & (peak_dts<max_peak_dt)\n",
      "        peak_dts = peak_dts[fltr]\n",
      "    \n",
      "    r = float(len(dts[logical_not(_in_center_peak(dts))]))\n",
      "    p = float(len(peak_dts))\n",
      "    u_r = sqrt(r)\n",
      "    u_p = sqrt(p)\n",
      "    h = p/r\n",
      "    u_h = sqrt( (u_p/r)**2 + (p/r**2 * u_r)**2 )\n",
      "\n",
      "    return h, u_h\n",
      "\n",
      "def visibility(dts_in, dts_out, max_peak_dt=None):\n",
      "    i, u_i = normalized_center_peak_height(dts_in, max_peak_dt)\n",
      "    o, u_o = normalized_center_peak_height(dts_out, max_peak_dt)\n",
      "    \n",
      "    v = 1. - o/i\n",
      "    u_v = sqrt( (u_o/i)**2 + (o/i**2 * u_i)**2 )\n",
      "    \n",
      "    return v, u_v    \n",
      "    \n",
      "    \n",
      "### plotting\n",
      "def _plot_coincidences(ax, dts, **kw):\n",
      "    color = kw.pop('color', COLORS[0])\n",
      "    lw = kw.pop('lw', 0)\n",
      "    \n",
      "    ax.hist(dts*1e-3, bins=G2_BINEDGES*1e-3, color=color, lw=lw)\n",
      "    ax.set_xlabel('dt (ns)')\n",
      "    ax.set_ylabel('coincidences')\n",
      "    \n",
      "def plot_coincidences(fp, filter=True, **kw):\n",
      "    coincidences = get_coincidences(fp, **kw)\n",
      "    dts = coincidences[:,0] - CHANNELDELAY\n",
      "    \n",
      "    # some (default) filtering\n",
      "    if filter:\n",
      "        f_st0 = filter_synctimes(coincidences[:,1], CH0_START, CH0_STOP)\n",
      "        f_st1 = filter_synctimes(coincidences[:,2], CH1_START, CH1_STOP)\n",
      "        dts = dts[f_st0 & f_st1]\n",
      "    \n",
      "    fig, ax = subplots(1,1, figsize=(6,4))\n",
      "    _plot_coincidences(ax, dts)\n",
      "    \n",
      "    fig.suptitle(get_msmt_header(fp) + ' -- coincidences')\n",
      "    folder, _fn = os.path.split(fp)\n",
      "    fig.savefig(os.path.join(folder, 'coincidences.png'))"
     ],
     "language": "python",
     "metadata": {},
     "outputs": [],
     "prompt_number": 9
    },
    {
     "cell_type": "heading",
     "level": 1,
     "metadata": {},
     "source": [
      "Analysis run"
     ]
    },
    {
     "cell_type": "heading",
     "level": 2,
     "metadata": {},
     "source": [
      "Analyse a single experiment run"
     ]
    },
    {
     "cell_type": "code",
     "collapsed": false,
     "input": [
      "BASE_FOLDER_LABANALYSIS = r'D:\\measuring\\data'\n",
      "\n",
      "# which folder to look at\n",
      "RUN_FOLDER = os.path.join(BASE_FOLDER_LABANALYSIS,\n",
      "                          r'20141011/194911_Bell_BS_TPQI_on_resonance_run_2/194911_Bell_BS_TPQI_on_resonance_run_2_tpqi')\n",
      "                            \n",
      "\n",
      "# re-evaluations\n",
      "FORCE_PHOTONHIST_EVALUATION = True \n",
      "FORCE_COINCIDENCE_EVALUATION = True\n",
      "\n",
      "# photon histogram settings\n",
      "START_BIN = 5435e3\n",
      "LENGTH = 30e3\n",
      "BINSIZE = 0.01e4\n",
      "\n",
      "def analyze_single_run(fp):\n",
      "    # tail\n",
      "    plots.plot_photon_hist(fp)\n",
      "    # plot_tail(fp)\n",
      "    \n",
      "    # CR information\n",
      "    # plot_CR_hist_total(fp)\n",
      "    # plot_CR_hist_sequence_timeout(fp)\n",
      "    \n",
      "    # coincidences\n",
      "    # plot_coincidences(fp)\n",
      "    \n",
      "def analyze_runs(folder):\n",
      "    fps = get_all_msmt_filepaths(folder)\n",
      "    for fp in fps:\n",
      "        try:\n",
      "            analyze_single_run(fp)\n",
      "        except:\n",
      "            'Skip this one... Check for write protection:'\n",
      "            print fp\n",
      "            print\n",
      "        close('all')\n",
      "\n",
      "fp =  tb.get_msmt_fp(RUN_FOLDER)\n",
      "\n",
      "pqf = pq_tools.pqf_from_fp(fp, rights = 'r+')\n",
      "\n",
      "pq_tools.plot_photon_hist(pqf, start = START_BIN, length = LENGTH, hist_binsize = BINSIZE)\n"
     ],
     "language": "python",
     "metadata": {},
     "outputs": [
      {
       "metadata": {},
       "output_type": "pyout",
       "prompt_number": 30,
       "text": [
        "(<matplotlib.figure.Figure at 0xb931db0>,\n",
        " (<matplotlib.axes.AxesSubplot at 0xb92f150>,\n",
        "  <matplotlib.axes.AxesSubplot at 0xc46d7b0>))"
       ]
      },
      {
       "metadata": {},
       "output_type": "display_data",
       "png": "[encoded data removed]",
       "text": [
        "<matplotlib.figure.Figure at 0xb931db0>"
       ]
      }
     ],
     "prompt_number": 30
    },
    {
     "cell_type": "heading",
     "level": 2,
     "metadata": {},
     "source": [
      "Aggregated analysis"
     ]
    },
    {
     "cell_type": "heading",
     "level": 3,
     "metadata": {},
     "source": [
      "Coincidences"
     ]
    },
    {
     "cell_type": "code",
     "collapsed": false,
     "input": [
      "BASE = BASE_FOLDER_LABANALYSIS\n",
      "HWP_IN_FOLDERS = [\n",
      "                  r'20141011/194911_Bell_BS_TPQI_on_resonance_run_2/194911_Bell_BS_TPQI_on_resonance_run_2_norm-shifted',\n",
      "                  r'20141011/214817_Bell_BS_TPQI_run_3/214817_Bell_BS_TPQI_run_3-norm-shifted',\n",
      "                  r'20141012/012300_Bell_BS_TPQI_run_4/012300_Bell_BS_TPQI_run_4-norm-shifted',\n",
      "                  r'20141012/023024_Bell_BS_TPQI_run_5/023024_Bell_BS_TPQI_run_5-norm-shifted',\n",
      "                  r'20141012/045022_Bell_BS_TPQI_run_6/045022_Bell_BS_TPQI_run_6-norm-shifted',\n",
      "                 ]\n",
      "\n",
      "\n",
      "HWP_OUT_FOLDERS = [\n",
      "                   r'20141011/194911_Bell_BS_TPQI_on_resonance_run_2/194911_Bell_BS_TPQI_on_resonance_run_2_tpqi',\n",
      "                   r'20141011/214817_Bell_BS_TPQI_run_3/214817_Bell_BS_TPQI_run_3-tpqi',\n",
      "                   r'20141012/012300_Bell_BS_TPQI_run_4/012300_Bell_BS_TPQI_run_4-tpqi',\n",
      "                   r'20141012/023024_Bell_BS_TPQI_run_5/023024_Bell_BS_TPQI_run_5-tpqi',\n",
      "                   r'20141012/045022_Bell_BS_TPQI_run_6/045022_Bell_BS_TPQI_run_6-tpqi',\n",
      "                   ]\n",
      "\n",
      "G2_BINEDGES = arange((-15*600)*1e3-55e3, (15*600)*1e3+55e3, 100*1e3) \n",
      "SUM_BINEDGES = arange((-15*600-300)*1e3, (15*600+900)*1e3, 600*1e3)\n",
      "SUM_CNTRS = arange(-15*600*1e3, 15*600*1e3, 600*1e3)\n",
      "\n",
      "#G2_BINEDGES = arange((-15*600)*1e3-55e3, (15*600)*1e3+55e3, 50*1e3) \n",
      "#SUM_BINEDGES = arange((-15*600-300)*1e3, (15*600+900)*1e3, 300*1e3)\n",
      "#SUM_CNTRS = arange(-15*600*1e3, 15*600*1e3, 300*1e3)\n",
      "\n",
      "CNTR_PEAK_RANGE = 300e3\n",
      "\n",
      "##FILTERING:\n",
      "\n",
      "CH0_START = 5442.5e3#+1*300e3\n",
      "CHANNELDELAY = 1.0e3#1.0e3#+300e3\n",
      "PULSE_SEP = 600e3\n",
      "TAIL_LENGTH = 200e3\n",
      "NOOF_PULSES = 15\n",
      "\n",
      "def _aggregated_coincidences(in_folders, out_folders):\n",
      "    in_coincidences = empty((0,4))\n",
      "    for _f in in_folders:\n",
      "        _f = os.path.join(BASE, _f)\n",
      "        print _f\n",
      "        in_coincidences = vstack((in_coincidences, pq_tools.get_coincidences_from_folder(_f)))\n",
      "    \n",
      "    out_coincidences = empty((0,4))\n",
      "    for _f in out_folders:\n",
      "        _f = os.path.join(BASE, _f)\n",
      "        out_coincidences = vstack((out_coincidences, pq_tools.get_coincidences_from_folder(_f)))\n",
      "        \n",
      "    return in_coincidences, out_coincidences\n",
      "\n",
      "\n",
      "def get_aggregated_coincidences(in_folders=HWP_IN_FOLDERS, out_folders=HWP_OUT_FOLDERS):        \n",
      "    in_coincidences, out_coincidences = _aggregated_coincidences(in_folders, out_folders)\n",
      "    \n",
      "    #length = 20\n",
      "    ch0_start = CH0_START\n",
      "    \n",
      "    fltr_in = filter_coincidences(in_coincidences)\n",
      "    fltr_out = filter_coincidences(out_coincidences)    \n",
      "    \n",
      "    in_dts = in_coincidences[fltr_in,0] + CHANNELDELAY\n",
      "    out_dts = out_coincidences[fltr_out,0] + CHANNELDELAY\n",
      "    \n",
      "    v,u_v = visibility(in_dts, out_dts)\n",
      "    print 'Visibility: ({:.1f} +/- {:.1f})%'.format(v*100., u_v*100.)\n",
      "       \n",
      "    fig, (ax_in, ax_out) = subplots(1,2, figsize=(25,5), sharey=True, sharex=True)\n",
      "    ax_in.set_title('HWP in')\n",
      "    ax_out.set_title('HWP out')\n",
      "    \n",
      "    _plot_coincidences(ax_in, in_dts)\n",
      "    _plot_coincidences(ax_out, out_dts, color=COLORS[1])\n",
      "    #ax_in.set_ylim(0,5)\n",
      "\n",
      "    peakcounts_in, _be = histogram(in_dts, bins=SUM_BINEDGES)\n",
      "    peakcounts_out, _be = histogram(out_dts, bins=SUM_BINEDGES)\n",
      "\n",
      "    #print sums of the peaks \n",
      "    #for i,c in enumerate(peakcounts_in):\n",
      "    #     ax_in.text(SUM_CNTRS[i], ax_in.get_ylim()[1]-10, \"{}\".format(peakcounts_in[i]),\n",
      "    #                ha='center', va='top')\n",
      "        \n",
      "    # for i,c in enumerate(peakcounts_out):\n",
      "    #     ax_out.text(SUM_CNTRS[i], ax_out.get_ylim()[1]-10, \"{}\".format(peakcounts_out[i]),\n",
      "    #                ha='center', va='top')\n",
      "        \n",
      "    ax_in.set_xlim(-1000,1000) # in ns\n",
      "    #ax_in.set_ylim(0,5)\n",
      "    \n",
      "    return in_dts, out_dts\n",
      "\n",
      "in_dts, out_dts = get_aggregated_coincidences()"
     ],
     "language": "python",
     "metadata": {},
     "outputs": [
      {
       "output_type": "stream",
       "stream": "stdout",
       "text": [
        "D:\\measuring\\data\\20141011/194911_Bell_BS_TPQI_on_resonance_run_2/194911_Bell_BS_TPQI_on_resonance_run_2_norm-shifted\n",
        "D:\\measuring\\data\\20141011/214817_Bell_BS_TPQI_run_3/214817_Bell_BS_TPQI_run_3-norm-shifted\n",
        "D:\\measuring\\data\\20141012/012300_Bell_BS_TPQI_run_4/012300_Bell_BS_TPQI_run_4-norm-shifted\n",
        "D:\\measuring\\data\\20141012/023024_Bell_BS_TPQI_run_5/023024_Bell_BS_TPQI_run_5-norm-shifted\n",
        "D:\\measuring\\data\\20141012/045022_Bell_BS_TPQI_run_6/045022_Bell_BS_TPQI_run_6-norm-shifted\n",
        "Visibility: (84.2 +/- 7.6)%\n"
       ]
      },
      {
       "metadata": {},
       "output_type": "display_data",
       "png": "[encoded data removed]",
       "text": [
        "<matplotlib.figure.Figure at 0xcf106b0>"
       ]
      }
     ],
     "prompt_number": 44
    },
    {
     "cell_type": "code",
     "collapsed": false,
     "input": [
      "f = h5py.File('TPQI.h5py', 'w')\n",
      "f['coincidences_HWP_in'] = in_dts\n",
      "f['coincidences_HWP_in'].attrs['description'] = 'contains the filtered list of dt-values in ns'\n",
      "f['coincidences_HWP_out'] = out_dts\n",
      "f['coincidences_HWP_out'].attrs['description'] = 'contains the filtered list of dt-values in ns'\n",
      "f.close()"
     ],
     "language": "python",
     "metadata": {},
     "outputs": [],
     "prompt_number": 25
    },
    {
     "cell_type": "code",
     "collapsed": false,
     "input": [
      "in_folders = HWP_IN_FOLDERS\n",
      "out_folders = HWP_OUT_FOLDERS     \n",
      "\n",
      "CH0_START = 5444.e3\n",
      "CHANNELDELAY = 1.e3\n",
      "PULSE_SEP = 600e3\n",
      "TAIL_LENGTH = 200e3\n",
      "NOOF_PULSES = 15\n",
      "CH0_STOP = CH0_START + TAIL_LENGTH\n",
      "\n",
      "\n",
      "in_coincidences, out_coincidences = _aggregated_coincidences(in_folders, out_folders)\n",
      "    \n",
      "fltr_in = filter_coincidences(in_coincidences)\n",
      "fltr_out = filter_coincidences(out_coincidences)    \n",
      "in_dts = in_coincidences[fltr_in,0] - CHANNELDELAY\n",
      "out_dts = out_coincidences[fltr_out,0] - CHANNELDELAY\n",
      "    \n",
      "v = array([])\n",
      "u_v = array([])\n",
      "dtmaxs = arange(5e3, 50e3, 5e3)\n",
      "for dtmax in dtmaxs:\n",
      "    _v, _u_v = visibility(in_dts, out_dts, max_peak_dt=dtmax)\n",
      "    v = append(v, _v)\n",
      "    u_v = append(u_v, _u_v)\n",
      "    \n",
      "fig, ax = subplots(1,1)\n",
      "ax.errorbar(dtmaxs*1e-3, v, yerr=u_v, fmt='o')\n",
      "ax.set_xlabel('max. dt (ns)')\n",
      "ax.set_ylabel('visibility')\n",
      "ax.set_title('TPQI visibility vs max. coincidence delay')\n",
      "#ax.set_xlim(2,32)\n",
      "    \n",
      "info = \"\"\"\n",
      "ch0 start: {} ns\n",
      "ch1 start: {} ns\n",
      "length: {} ns\n",
      "\"\"\".format(CH0_START*1e-3, (CH0_START-CHANNELDELAY)*1e-3, (CH0_STOP-CH0_START)*1e-3)\n",
      "print info    \n",
      "#ax.text(40, 0.85, info, ha='left', va='top')\n"
     ],
     "language": "python",
     "metadata": {},
     "outputs": [
      {
       "output_type": "stream",
       "stream": "stdout",
       "text": [
        "D:\\measuring\\data\\20141011/194911_Bell_BS_TPQI_on_resonance_run_2/194911_Bell_BS_TPQI_on_resonance_run_2_norm-shifted\n",
        "D:\\measuring\\data\\20141011/214817_Bell_BS_TPQI_run_3/214817_Bell_BS_TPQI_run_3-norm-shifted\n",
        "D:\\measuring\\data\\20141012/012300_Bell_BS_TPQI_run_4/012300_Bell_BS_TPQI_run_4-norm-shifted\n",
        "D:\\measuring\\data\\20141012/023024_Bell_BS_TPQI_run_5/023024_Bell_BS_TPQI_run_5-norm-shifted\n",
        "D:\\measuring\\data\\20141012/045022_Bell_BS_TPQI_run_6/045022_Bell_BS_TPQI_run_6-norm-shifted\n",
        "\n",
        "ch0 start: 5444.0 ns\n",
        "ch1 start: 5443.0 ns\n",
        "length: 200.0 ns\n"
       ]
      },
      {
       "output_type": "stream",
       "stream": "stdout",
       "text": [
        "\n"
       ]
      },
      {
       "metadata": {},
       "output_type": "display_data",
       "png": "[encoded data removed]",
       "text": [
        "<matplotlib.figure.Figure at 0xb99bc70>"
       ]
      }
     ],
     "prompt_number": 39
    },
    {
     "cell_type": "code",
     "collapsed": false,
     "input": [
      "ch0_starts = np.arange(CH0_START-3e3, CH0_START+1e3, 0.3e3)\n",
      "tail_length = 200e3\n",
      "dtmax = 50e3\n",
      "\n",
      "v = array([])\n",
      "u_v = array([])\n",
      "\n",
      "for ch0_start in ch0_starts:\n",
      "    fltr_in = filter_coincidences(in_coincidences, ch0_start=ch0_start,\n",
      "                                  length=tail_length)\n",
      "    fltr_out = filter_coincidences(out_coincidences, ch0_start=ch0_start,\n",
      "                                   length=tail_length)\n",
      "    in_dts = in_coincidences[fltr_in,0] - CHANNELDELAY\n",
      "    out_dts = out_coincidences[fltr_out,0] - CHANNELDELAY\n",
      "    _v, _u_v = visibility(in_dts, out_dts, max_peak_dt=dtmax)\n",
      "    v = append(v, _v)\n",
      "    u_v = append(u_v, _u_v)\n",
      "  \n",
      "    \n",
      "fig, ax = subplots(1,1)\n",
      "ax.errorbar((ch0_starts - CH0_START)*1e-3, v, yerr=u_v, fmt='o')\n",
      "ax.set_xlabel('tail start offset (ns)')\n",
      "ax.set_ylabel('visibility')\n",
      "ax.set_title('TPQI visibility vs tail start offset')\n",
      "\n",
      "info = \"\"\"\n",
      "max dt: {} ns\n",
      "length: {} ns\n",
      "start: {} ns\n",
      "\"\"\".format(dtmax*1e-3, tail_length*1e-3, CH0_START*1e-3)\n",
      "\n",
      "print info"
     ],
     "language": "python",
     "metadata": {},
     "outputs": [
      {
       "output_type": "stream",
       "stream": "stdout",
       "text": [
        "\n",
        "max dt: 50.0 ns\n",
        "length: 200.0 ns\n",
        "start: 5444.0 ns\n",
        "\n"
       ]
      },
      {
       "metadata": {},
       "output_type": "display_data",
       "png": "[encoded data removed]",
       "text": [
        "<matplotlib.figure.Figure at 0xb8009d0>"
       ]
      }
     ],
     "prompt_number": 40
    },
    {
     "cell_type": "code",
     "collapsed": false,
     "input": [
      "ch0_start = CH0_START+1e3\n",
      "tail_lengths = arange(10e3, 100e3, 10e3)\n",
      "dtmax = 20e3\n",
      "\n",
      "v = array([])\n",
      "u_v = array([])\n",
      "\n",
      "for tail_length in tail_lengths:\n",
      "    fltr_in = filter_coincidences(in_coincidences, ch0_start=ch0_start,\n",
      "                                  tail_length=tail_length)\n",
      "    fltr_out = filter_coincidences(out_coincidences, ch0_start=ch0_start,\n",
      "                                   tail_length=tail_length)\n",
      "    in_dts = in_coincidences[fltr_in,0] - CHANNELDELAY\n",
      "    out_dts = out_coincidences[fltr_out,0] - CHANNELDELAY\n",
      "    _v, _u_v = visibility(in_dts, out_dts, max_peak_dt=dtmax)\n",
      "    v = append(v, _v)\n",
      "    u_v = append(u_v, _u_v)\n",
      "\n",
      "\n",
      "    \n",
      "fig, ax = subplots(1,1)\n",
      "ax.errorbar(tail_lengths*1e-3, v, yerr=u_v, fmt='o')\n",
      "ax.set_xlabel('tail length (ns)')\n",
      "ax.set_ylabel('visibility')\n",
      "ax.set_title('TPQI visibility vs tail length')\n",
      "\n",
      "info = \"\"\"\n",
      "max dt: {} ns\n",
      "ch0 start: {} ns\n",
      "\"\"\".format(dtmax, ch0_start)\n",
      "\n",
      "print info"
     ],
     "language": "python",
     "metadata": {},
     "outputs": [
      {
       "output_type": "stream",
       "stream": "stdout",
       "text": [
        "\n",
        "max dt: 20000.0 ns\n",
        "ch0 start: 5443500.0 ns\n",
        "\n"
       ]
      },
      {
       "metadata": {},
       "output_type": "display_data",
       "png": "[encoded data removed]",
       "text": [
        "<matplotlib.figure.Figure at 0xd0506b0>"
       ]
      }
     ],
     "prompt_number": 42
    },
    {
     "cell_type": "code",
     "collapsed": false,
     "input": [
      "\n",
      "\n",
      "o = 3.\n",
      "u_o = np.sqrt(3.)\n",
      "i = 31.\n",
      "u_i = np.sqrt(31.)\n",
      "\n",
      "v = 1. - o/i\n",
      "u_v = sqrt( (u_o/i)**2 + (o/i**2 * u_i)**2 )"
     ],
     "language": "python",
     "metadata": {},
     "outputs": [],
     "prompt_number": 72
    },
    {
     "cell_type": "code",
     "collapsed": false,
     "input": [
      "v"
     ],
     "language": "python",
     "metadata": {},
     "outputs": [
      {
       "metadata": {},
       "output_type": "pyout",
       "prompt_number": 73,
       "text": [
        "0.9032258064516129"
       ]
      }
     ],
     "prompt_number": 73
    },
    {
     "cell_type": "code",
     "collapsed": false,
     "input": [
      "u_v"
     ],
     "language": "python",
     "metadata": {},
     "outputs": [
      {
       "metadata": {},
       "output_type": "pyout",
       "prompt_number": 74,
       "text": [
        "0.058513697895981466"
       ]
      }
     ],
     "prompt_number": 74
    },
    {
     "cell_type": "code",
     "collapsed": false,
     "input": [
      "sqrt(2)/1120."
     ],
     "language": "python",
     "metadata": {},
     "outputs": [
      {
       "metadata": {},
       "output_type": "pyout",
       "prompt_number": 148,
       "text": [
        "0.0012626906806902636"
       ]
      }
     ],
     "prompt_number": 148
    },
    {
     "cell_type": "code",
     "collapsed": false,
     "input": [
      "0.0017857142857142857 0.0012626906806902636\n",
      "0.030973451327433628 0.0082780030680839403"
     ],
     "language": "python",
     "metadata": {},
     "outputs": []
    },
    {
     "cell_type": "code",
     "collapsed": false,
     "input": [
      "folder=r'D:\\measuring\\data\\20141012\\045022_Bell_BS_TPQI_run_6'\n",
      "filepaths = tb.get_all_msmt_filepaths(folder) \n",
      "for i,f in enumerate(filepaths):\n",
      "    pqf = pq_tools.pqf_from_fp(f, rights = 'r+')\n",
      "    drn,fn = os.path.split(f)\n",
      "    \n",
      "    drn0=os.path.join(drn,os.path.split(drn)[1] + '-tpqi')\n",
      "    drn1=os.path.join(drn,os.path.split(drn)[1] + '-norm')\n",
      "    fn0=os.path.splitext(fn)[0]+'-tpqi.hdf5'\n",
      "    fn1=os.path.splitext(fn)[0]+'-norm.hdf5'\n",
      "    if not os.path.exists(drn0):\n",
      "        os.mkdir(drn0)\n",
      "        os.mkdir(drn1)\n",
      "        mode = 'w'    \n",
      "    else:\n",
      "        mode = 'r+'  \n",
      "    print os.path.join(drn0,fn0)\n",
      "    split0 = h5py.File(os.path.join(drn0,fn0),mode)\n",
      "    split1 = h5py.File(os.path.join(drn1,fn1),mode)\n",
      "    pq_tools.split_pqf_by_syncs(pqf,[split0,split1],251,2)\n",
      "    split0.flush()\n",
      "    split1.flush()\n",
      "    split0.close()\n",
      "    split1.close()"
     ],
     "language": "python",
     "metadata": {},
     "outputs": [
      {
       "output_type": "stream",
       "stream": "stdout",
       "text": [
        "D:\\measuring\\data\\20141012\\045022_Bell_BS_TPQI_run_6\\045022_Bell_BS_TPQI_run_6-tpqi\\045022_Bell_BS_TPQI_run_6-tpqi.hdf5\n"
       ]
      }
     ],
     "prompt_number": 21
    },
    {
     "cell_type": "code",
     "collapsed": false,
     "input": [
      "                  r'20141011/194911_Bell_BS_TPQI_on_resonance_run_2/194911_Bell_BS_TPQI_on_resonance_run_2_norm',\n",
      "                  r'20141011/214817_Bell_BS_TPQI_run_3/214817_Bell_BS_TPQI_run_3-norm',\n",
      "                  r'20141012/012300_Bell_BS_TPQI_run_4/012300_Bell_BS_TPQI_run_4-norm',\n",
      "                  r'20141012/023024_Bell_BS_TPQI_run_5/023024_Bell_BS_TPQI_run_5-norm',\n",
      "                  r'20141012/045022_Bell_BS_TPQI_run_6/045022_Bell_BS_TPQI_run_6-norm',"
     ],
     "language": "python",
     "metadata": {},
     "outputs": []
    },
    {
     "cell_type": "code",
     "collapsed": false,
     "input": [
      "### shifting the second pulse of the normalization run:\n",
      "folder=r'D:\\measuring\\data\\20141012/045022_Bell_BS_TPQI_run_6/045022_Bell_BS_TPQI_run_6-norm'\n",
      "filepaths = tb.get_all_msmt_filepaths(folder) \n",
      "for i,f in enumerate(filepaths):\n",
      "    pqf = pq_tools.pqf_from_fp(f, rights = 'r+')\n",
      "    channel = pqf['/PQ_channel-1'].value\n",
      "    special = pqf['/PQ_special-1'].value\n",
      "    sync_number = pqf['/PQ_sync_number-1'].value\n",
      "    sync_time = pqf['/PQ_sync_time-1'].value\n",
      "    time = pqf['/PQ_time-1'].value\n",
      "    \n",
      "    t0 = 5700.0e3\n",
      "    t1 = 5900.0e3\n",
      "    shifter = pq_tools.filter_synctimes(pqf, t0, t1, window_reps=15, window_period=600000, pq_file = True)\n",
      "    \n",
      "    drn,fn = os.path.split(f)\n",
      "    \n",
      "    drn0=os.path.join(drn,os.path.split(drn)[1] + '-shifted')\n",
      "    fn0=os.path.splitext(fn)[0]+'-shifted.hdf5'\n",
      "    if not os.path.exists(drn0):\n",
      "        os.mkdir(drn0)\n",
      "        mode = 'w'    \n",
      "    else:\n",
      "        mode = 'r+'  \n",
      "\n",
      "    print os.path.join(drn0,fn0)\n",
      "    \n",
      "    shifted = h5py.File(os.path.join(drn0,fn0),mode)\n",
      "    \n",
      "    shifted.create_dataset('PQ_channel-1', data=channel)\n",
      "    shifted.create_dataset('/PQ_special-1', data=special)\n",
      "    shifted.create_dataset('/PQ_sync_number-1', data= sync_number)\n",
      "    shifted.create_dataset('/PQ_sync_time-1', data= (sync_time-(shifter*300e3)))\n",
      "    shifted.create_dataset('/PQ_time-1', data= (time-(shifter*300e3)))\n",
      "    \n",
      "    shifted.flush()\n",
      "    shifted.close()"
     ],
     "language": "python",
     "metadata": {},
     "outputs": [
      {
       "output_type": "stream",
       "stream": "stdout",
       "text": [
        "D:\\measuring\\data\\20141012/045022_Bell_BS_TPQI_run_6/045022_Bell_BS_TPQI_run_6-norm\\045022_Bell_BS_TPQI_run_6-norm-shifted\\045022_Bell_BS_TPQI_run_6-norm-shifted.hdf5\n"
       ]
      }
     ],
     "prompt_number": 6
    },
    {
     "cell_type": "code",
     "collapsed": false,
     "input": [
      "a= np.array([2,3,2,3])\n",
      "b= np.array([False,True,True,False])"
     ],
     "language": "python",
     "metadata": {},
     "outputs": [],
     "prompt_number": 19
    },
    {
     "cell_type": "code",
     "collapsed": false,
     "input": [
      "a+b*2"
     ],
     "language": "python",
     "metadata": {},
     "outputs": [
      {
       "metadata": {},
       "output_type": "pyout",
       "prompt_number": 20,
       "text": [
        "array([2, 5, 4, 3])"
       ]
      }
     ],
     "prompt_number": 20
    },
    {
     "cell_type": "code",
     "collapsed": false,
     "input": [],
     "language": "python",
     "metadata": {},
     "outputs": []
    }
   ],
   "metadata": {}
  }
 ]
}