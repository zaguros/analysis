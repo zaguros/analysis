{
 "cells": [
  {
   "cell_type": "code",
   "execution_count": null,
   "metadata": {
    "collapsed": false
   },
   "outputs": [],
   "source": [
    "## setup analysis\n",
    "execfile(r'D:\\measuring\\analysis\\scripts\\setup_analysis.py')\n",
    "from analysis.lib.purification import purify_pq as ppq; reload(ppq)\n",
    "from analysis.lib.purification import purify_analysis as pa; reload(pa)\n",
    "import analysis.lib.purification.purify_analysis_params as analysis_params;reload(analysis_params)\n",
    "%matplotlib inline\n",
    "\n",
    "folder_lt3 = r'D:\\measuring\\data\\Purification_lt3_raw_data\\Eta_vs_Theta'\n",
    "folder_lt4 = r'D:\\measuring\\data\\Purification_lt4_raw_data\\Eta_vs_Theta'\n",
    "\n",
    "### ssro calibrations\n",
    "day = '20160726_' # for ssro calibration\n",
    "\n",
    "ssro_calib_lt3 = day+'095123'\n",
    "ssro_calib_lt4 = day+'104600'\n",
    "\n",
    "Purify_analysis = pa.purify_analysis('Eta_v_Theta',folder_lt3,folder_lt4,ssro_calib_lt3,ssro_calib_lt4)\n",
    "\n",
    "### list of good timestamps and RO calibration\n",
    "all_lt3,all_lt4 = [],[]\n",
    "\n",
    "### get all valid time stamps. remember that data has to be stored locally.\n",
    "msmt_days = ['20160726','20160824']\n",
    "theta_percent = 35\n",
    "\n",
    "for d in msmt_days:\n",
    "    tstamp_lt3,tstamp_lt4 = Purify_analysis.tstamps_for_both_setups(d,contains = 'ZZ_'+str(theta_percent)+'percent')\n",
    "                                                                   # ,newest_tstamp = '133400') ### newest timestamp allows for only taking parts of a day.\n",
    "    all_lt3.extend(tstamp_lt3)\n",
    "    all_lt4.extend(tstamp_lt4)\n",
    "\n",
    "Purify_analysis.load_raw_data(all_lt3,all_lt4,verbose = True)\n",
    "\n",
    "offset = analysis_params.data_settings['shifted_data_correction_time']*np.ones(np.shape(all_lt4))\n",
    "offset_ch1 = analysis_params.data_settings['shifted_data_start_offset_ch1']*np.ones(np.shape(all_lt4))\n",
    "Purify_analysis.correct_pq_times(offsets=offset,offsets_ch1=offset_ch1)\n",
    "print all_lt3,all_lt4"
   ]
  },
  {
   "cell_type": "code",
   "execution_count": null,
   "metadata": {
    "collapsed": false
   },
   "outputs": [],
   "source": [
    "##### Set filters:\n",
    "photon_channel = 2 # 0 or 1; 2 means both HH detectors\n",
    "st_start = 3055e3#2763e3\n",
    "st_len       = 40e3 #50 ns\n",
    "st_len_w2    = 40e3\n",
    "ch1_offset = 0\n",
    "max_reps_w2 = 250\n",
    "\n",
    "Purify_analysis.apply_temporal_filters_to_prefiltered_data(st_start = st_start,\n",
    "                                                       st_len = st_len,\n",
    "                                                       st_len_w2 = st_len_w2\n",
    "                                                       )\n",
    "Purify_analysis.apply_sync_filter_w1_w2()\n",
    "Purify_analysis.correlate_RO_results_no_purification(apply_ROC = True)"
   ]
  },
  {
   "cell_type": "code",
   "execution_count": null,
   "metadata": {
    "collapsed": false
   },
   "outputs": [],
   "source": [
    "### this window can be used to analyze one of the full timetrace in order to get a feeling for the tail and the windows.\n",
    "### later on all timestamps should be combined to get a clear pikkcture\n",
    "\n",
    "a_lt4 = ppq.purifyPQAnalysis(tb.data_from_time(all_lt4[0],folder = folder_lt4))\n",
    "\n",
    "vert0 = st_start/1000. ### start of the first window\n",
    "\n",
    "# BK_analysis.plot_total_histogram(1,st_start-20e3,200e3,1e3,log_plot=True)\n",
    "pq_plots.plot_marker_filter_comparison(a_lt4.pqf,mrkr_chan = 1,start =3045e3,  length = 80e3, hist_binsize = 0.1e3, save = False, log=False,plot_threshold_ch0 =vert0,plot_threshold_ch1 =vert0) #start =7480"
   ]
  },
  {
   "cell_type": "code",
   "execution_count": null,
   "metadata": {
    "collapsed": false
   },
   "outputs": [],
   "source": [
    "#### compare theory vs. reality\n",
    "theta_vals = [1/3.,0.25,1/5.,1/6.,0.125,0.1] #in units of pi\n",
    "eta_vals = [0.79,0.51,0.3959,0.29,0.18,0.14]\n",
    "\n",
    "a = [ 0.06983436,  0.21139007,  0.33169605,  0.38707952]\n",
    "b =[ 0.00516695,  0.00663856 , 0.00776175,  0.00842587]\n",
    "\n",
    "real_theta_vals = 0.5-np.array([0.153355,0.2525,0.2827,0.323754,0.362197,0.3865])\n",
    "def eta_theory(theta,Ploss):\n",
    "    return (np.sin(theta*np.pi)**2*(1+Ploss))/(2-(1-Ploss)*np.sin(theta*np.pi)**2) \n",
    "print eta_theory(1/3.,0.99)\n",
    "fig = plt.figure()\n",
    "ax = plt.subplot()\n",
    "theory_range = np.linspace(0,0.5,100)\n",
    "plt.plot(theory_range,eta_theory(theory_range,0.99),label = 'Theory')\n",
    "plt.plot(theta_vals,eta_vals,marker = 'o',label='Naive data')\n",
    "plt.plot(real_theta_vals,eta_vals,'o',label='theta from SPCorrs')\n",
    "plt.legend(loc=2)\n",
    "\n",
    "ax.set_xlabel(r'$\\theta$ ($\\pi$)',fontsize=18)\n",
    "ax.set_ylabel(r'$\\eta$',fontsize=18)\n",
    "plt.show()\n",
    "plt.close('all')"
   ]
  },
  {
   "cell_type": "code",
   "execution_count": null,
   "metadata": {
    "collapsed": false
   },
   "outputs": [],
   "source": [
    "def format_plot(fig,ax):\n",
    "    linewidths = 1.5\n",
    "    textsize = 14\n",
    "    ax.tick_params(labelsize = textsize,width =linewidths)\n",
    "    for axis in ['top','bottom','left','right']:\n",
    "        ax.spines[axis].set_linewidth(linewidths)\n",
    "    ax.yaxis.label.set_size(textsize)\n",
    "    ax.xaxis.label.set_size(textsize)\n",
    "    \n",
    "    \n",
    "def num2str(num, precision): \n",
    "    return \"%0.*f\" % (precision, num)\n",
    "\n",
    "save_plot_folder = r'D:\\measuring\\data\\purification_plots'\n",
    "def save_and_close_plot(f = save_plot_folder, save = False, name = None):\n",
    "\n",
    "    if name == None:\n",
    "        name = 'Results'\n",
    "\n",
    "    if save:\n",
    "        plt.savefig(os.path.join(f,name+'.pdf'),format='pdf',bbox_inches='tight')\n",
    "        plt.savefig(os.path.join(f,name+'.png'),format='png',bbox_inches='tight')\n",
    "\n",
    "    plt.show()\n",
    "    plt.close('all')\n",
    "    \n",
    "def plot_parity_results(corr,err=np.array([0,0]),events = np.array([0,0]),state = 'parity_mixed'):\n",
    "\n",
    "\n",
    "    fig = plt.figure()\n",
    "    ax = plt.subplot()\n",
    "    plt.ylabel('Expectation value')\n",
    "    # plt.title('Corrected')\n",
    "    plt.bar(np.arange(0,2), np.squeeze(np.asarray(corr)), yerr=err, align = 'center',\n",
    "            color = '#436CDE',linewidth = 1.5,error_kw=dict(lw = 1.5,capthick=1.5))\n",
    "    for k in range(2):\n",
    "        plt.text(k,0.02, num2str(np.squeeze(np.asarray(corr))[k],2), ha = 'center')\n",
    "#         plt.text(k,err[k]+corr[k]+0.02, num2str(np.squeeze(np.asarray(events))[k],0), ha = 'center')\n",
    "\n",
    "    if np.amax(corr)+np.amax(err) > 0.5:\n",
    "        plt.ylim([0,np.amax(corr)+np.amax(err)])\n",
    "    else:\n",
    "        plt.ylim([-0.7,0.7])\n",
    "    plt.xticks([0,1], ['<XX>','<ZZ>'])\n",
    "    ax.set_xlim(-0.6,1.6)\n",
    "    format_plot(fig,ax)\n",
    "    plt.axhline(0,lw=1.5,color = 'black')\n",
    "    ax.tick_params(top = 'off',bottom = 'off')\n",
    "    save_and_close_plot(save = True,name = 'Separable_state')\n",
    "    \n"
   ]
  },
  {
   "cell_type": "code",
   "execution_count": null,
   "metadata": {
    "collapsed": false
   },
   "outputs": [],
   "source": [
    "### ZZ probabiliteis values:\n",
    "ZZ_p = [ 0.00347118,  0.21944022,  0.48764476,  0.28944384]\n",
    "ZZ_p_u = [ 0.00597591,  0.00708,     0.00996275,  0.00922813]\n",
    "\n",
    "\n",
    "### XX probabilities values:\n",
    "XX_p = [ 0.19011589,  0.29882374,  0.22117005,  0.28989031]\n",
    "XX_p_u = [ 0.00778677,  0.00888261,  0.00793844,  0.00881881]\n",
    "\n",
    "### calculate expectation values\n",
    "ZZ = (ZZ_p[0]+ZZ_p[3]-0.5)*2\n",
    "ZZ_u = np.sqrt(ZZ_p_u[0]**2+ZZ_p_u[3]**2)*2\n",
    "XX = (XX_p[0]+XX_p[3]-0.5)*2\n",
    "XX_u = np.sqrt(XX_p_u[0]**2+XX_p_u[3]**2)*2\n",
    "\n",
    "plot_parity_results(np.array([XX,ZZ]),err = np.array([XX_u,ZZ_u]))"
   ]
  },
  {
   "cell_type": "code",
   "execution_count": null,
   "metadata": {
    "collapsed": true
   },
   "outputs": [],
   "source": []
  }
 ],
 "metadata": {
  "kernelspec": {
   "display_name": "Python 2",
   "language": "python",
   "name": "python2"
  },
  "language_info": {
   "codemirror_mode": {
    "name": "ipython",
    "version": 2
   },
   "file_extension": ".py",
   "mimetype": "text/x-python",
   "name": "python",
   "nbconvert_exporter": "python",
   "pygments_lexer": "ipython2",
   "version": "2.7.3"
  }
 },
 "nbformat": 4,
 "nbformat_minor": 0
}
