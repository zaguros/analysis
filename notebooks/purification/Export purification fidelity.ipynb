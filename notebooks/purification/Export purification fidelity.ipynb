{
 "cells": [
  {
   "cell_type": "code",
   "execution_count": null,
   "metadata": {
    "collapsed": false
   },
   "outputs": [],
   "source": [
    "## setup analysis\n",
    "execfile(r'D:\\measuring\\analysis\\scripts\\setup_analysis.py')\n",
    "from analysis.lib.purification import purify_pq as ppq; reload(ppq)\n",
    "from analysis.lib.purification import purify_analysis as pa; reload(pa)\n",
    "%matplotlib inline\n",
    "import csv\n",
    "import os\n",
    "\n",
    "thetas = ['pi/4','pi/5','pi/6','pi/8']\n",
    "\n",
    "save = True\n",
    "fileDir = r'C:\\Users\\tud276629\\Documents'"
   ]
  },
  {
   "cell_type": "code",
   "execution_count": null,
   "metadata": {
    "collapsed": true
   },
   "outputs": [],
   "source": [
    "def sweep_parameter(param_name,sweep_pts,apply_ROC, plot_all = False):\n",
    "    \n",
    "    ## get correlation probabilties\n",
    "    psi_m_XX,psi_p_XX,psi_m_XX_corrs,psi_p_XX_corrs = Purify_XX.sweep_filter_parameter_vs_correlations(param_name,sweep_pts,\n",
    "                                                                         apply_ROC = apply_ROC,do_plot= False)\n",
    "    psi_m_YY,psi_p_YY,psi_m_YY_corrs,psi_p_YY_corrs = Purify_YY.sweep_filter_parameter_vs_correlations(param_name,sweep_pts,\n",
    "                                                                         apply_ROC = apply_ROC,do_plot= False)\n",
    "    psi_m_ZZ,psi_p_ZZ,psi_m_ZZ_corrs,psi_p_ZZ_corrs = Purify_ZZ.sweep_filter_parameter_vs_correlations(param_name,sweep_pts,\n",
    "                                                                         apply_ROC = apply_ROC,do_plot= False)       \n",
    "    ## calculate fidelities\n",
    "    psi_m_F = (psi_m_XX[1] + psi_m_YY[1] + psi_m_ZZ[1]+1)/4.\n",
    "    psi_p_F = (psi_p_XX[1] + psi_p_YY[1] + psi_p_ZZ[1]+1)/4.\n",
    "      \n",
    "    ## calciulate error bars\n",
    "    psi_m_F_u = np.sqrt(psi_m_XX[2]**2 + psi_m_YY[2]**2 + psi_m_ZZ[2]**2)/4.\n",
    "    psi_p_F_u = np.sqrt(psi_p_XX[2]**2 + psi_p_YY[2]**2 + psi_p_ZZ[2]**2)/4.\n",
    "    \n",
    "    return zip(sweep_pts,\\\n",
    "               psi_m_XX[1],psi_m_XX[2],psi_m_YY[1],psi_m_YY[2],psi_m_ZZ[1],psi_m_ZZ[2],\\\n",
    "               psi_p_XX[1],psi_p_XX[2],psi_p_YY[1],psi_p_YY[2],psi_p_ZZ[1],psi_p_ZZ[2],\\\n",
    "               psi_m_F,psi_m_F_u,psi_p_F,psi_p_F_u)"
   ]
  },
  {
   "cell_type": "code",
   "execution_count": null,
   "metadata": {
    "collapsed": false
   },
   "outputs": [],
   "source": [
    "for theta in thetas:\n",
    "\n",
    "    folder_lt3,folder_lt4 = pa.get_folders_from_theta(theta)\n",
    "    ssro_calib_lt3,ssro_calib_lt4 = pa.get_ssro_calibs()\n",
    "\n",
    "    Purify_XX = pa.purify_analysis('purification_analysis',folder_lt3,folder_lt4,ssro_calib_lt3,ssro_calib_lt4)\n",
    "    Purify_YY = pa.purify_analysis('purification_analysis',folder_lt3,folder_lt4,ssro_calib_lt3,ssro_calib_lt4)\n",
    "    Purify_ZZ = pa.purify_analysis('purification_analysis',folder_lt3,folder_lt4,ssro_calib_lt3,ssro_calib_lt4)\n",
    "\n",
    "    Purify_XX.get_tstamps_and_offsets(contains = 'XX')\n",
    "    Purify_YY.get_tstamps_and_offsets(contains = 'YY')\n",
    "    Purify_ZZ.get_tstamps_and_offsets(contains = 'ZZ')\n",
    "\n",
    "        ### load the data\n",
    "    Purify_XX.load_raw_data()\n",
    "    Purify_XX.correct_pq_times()\n",
    "    Purify_YY.load_raw_data()\n",
    "    Purify_YY.correct_pq_times()\n",
    "    Purify_ZZ.load_raw_data()\n",
    "    Purify_ZZ.correct_pq_times()\n",
    "    bins = np.arange(50,450,50)\n",
    "    \n",
    "    corrVals = sweep_parameter('bin_w2',bins,apply_ROC = True,plot_all = True)\n",
    "      \n",
    "    if save:\n",
    "        f = open(os.path.join(fileDir,'correlations_for_'+str.replace(theta,\"/\",'') +'.csv'), 'w')\n",
    "        writer = csv.writer(f, delimiter='\\t')\n",
    "        writer.writerows([['bin','m_XX','m_XX_u','m_YY','m_YY_u','m_ZZ','m_ZZ_u',\\\n",
    "                         'p_XX','p_XX_u','p_YY','p_YY_u','p_ZZ','p_ZZ_u',\\\n",
    "                         'm_F','m_F_u','p_F','p_F_u']])\n",
    "        writer.writerows(corrVals)\n",
    "        f.close()\n",
    "        \n",
    "    print 'Theta, ', theta\n",
    "    print 'Stats for first 50 bins:'\n",
    "    print corrVals[0]"
   ]
  },
  {
   "cell_type": "code",
   "execution_count": null,
   "metadata": {
    "collapsed": true
   },
   "outputs": [],
   "source": []
  }
 ],
 "metadata": {
  "kernelspec": {
   "display_name": "Python 2",
   "language": "python",
   "name": "python2"
  },
  "language_info": {
   "codemirror_mode": {
    "name": "ipython",
    "version": 2
   },
   "file_extension": ".py",
   "mimetype": "text/x-python",
   "name": "python",
   "nbconvert_exporter": "python",
   "pygments_lexer": "ipython2",
   "version": "2.7.3"
  }
 },
 "nbformat": 4,
 "nbformat_minor": 0
}
