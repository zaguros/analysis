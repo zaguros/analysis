{
 "cells": [
  {
   "cell_type": "markdown",
   "metadata": {},
   "source": [
    "# Load the data"
   ]
  },
  {
   "cell_type": "code",
   "execution_count": null,
   "metadata": {
    "collapsed": false
   },
   "outputs": [],
   "source": [
    "## setup analysis\n",
    "execfile(r'D:\\measuring\\analysis\\scripts\\setup_analysis.py')\n",
    "from analysis.lib.purification import purify_pq as ppq; reload(ppq)\n",
    "from analysis.lib.purification import purify_BK as pbk; reload(pbk)\n",
    "%matplotlib inline\n",
    "\n",
    "folder_lt3 = r'D:\\measuring\\data\\Purification_lt3_raw_data\\BK_XX'\n",
    "folder_lt4 = r'D:\\measuring\\data\\Purification_lt4_raw_data\\BK_XX'\n",
    "\n",
    "### ssro calibrations\n",
    "day = '20160630_' # for ssro calibration\n",
    "\n",
    "ssro_calib_lt4 = day+'125528'\n",
    "ssro_calib_lt3 = day+'142843'\n",
    "\n",
    "BK_analysis = pbk.BK_analysis('XX',folder_lt3,folder_lt4,ssro_calib_lt3,ssro_calib_lt4)\n",
    "# a = ppq.purify_pq(folder, hdf5_mode='r')#, pq_folder='bs_remote')\n",
    "# b = ppq.purify_pq(lt3_folder, hdf5_mode='r')#, pq_folder='bs_remote')"
   ]
  },
  {
   "cell_type": "code",
   "execution_count": null,
   "metadata": {
    "collapsed": false
   },
   "outputs": [],
   "source": [
    "### list of good timestamps and RO calibration\n",
    "all_lt3,all_lt4 = [],[]\n",
    "\n",
    "### get all valid time stamps. remember that data has to be stored locally.\n",
    "msmt_days  = ['20160630','20160701','20160702']\n",
    "for d in msmt_days:\n",
    "\n",
    "    tstamp_lt3,tstamp_lt4 = BK_analysis.tstamps_for_both_setups(d)#,newest_tstamp = '110000') ### newest timestamp allows for only taking parts of a day.\n",
    "    all_lt3.extend(tstamp_lt3)\n",
    "    all_lt4.extend(tstamp_lt4)\n",
    "\n",
    "    \n",
    "print all_lt3\n",
    "print all_lt4"
   ]
  },
  {
   "cell_type": "code",
   "execution_count": null,
   "metadata": {
    "collapsed": false
   },
   "outputs": [],
   "source": [
    "BK_analysis.load_raw_data(all_lt3,all_lt4)\n",
    "# BK_analysis.filter_CR_after(threshold =None)"
   ]
  },
  {
   "cell_type": "code",
   "execution_count": null,
   "metadata": {
    "collapsed": false
   },
   "outputs": [],
   "source": [
    "BK_analysis.check_tail_w1_w2(st_start = 2498e3,st_len = 50e3,p_sep = 500e3)"
   ]
  },
  {
   "cell_type": "code",
   "execution_count": null,
   "metadata": {
    "collapsed": false
   },
   "outputs": [],
   "source": [
    "### autocorrelation of photon clicks --> do we have huge waiting times in the experiment\n",
    "reload(pq_plots)\n",
    "a_lt4 = ppq.purifyPQAnalysis(tb.latest_data(tstamp_lt4[0],folder = folder_lt4))\n",
    "print a_lt4\n",
    "pq_plots.plot_autocorrelation_histogram(a_lt4.pqf,start = 0,length = 200e3,binsize=0.1e3)"
   ]
  },
  {
   "cell_type": "markdown",
   "metadata": {},
   "source": [
    "### Filtering and correlations"
   ]
  },
  {
   "cell_type": "code",
   "execution_count": null,
   "metadata": {
    "collapsed": true
   },
   "outputs": [],
   "source": [
    "photon_channel = 2 # 0 or 1; 2 means both HH detectors\n",
    "st_start = 2499e3#2763e3\n",
    "st_len       = 8e3 #50 ns\n",
    "st_len_w2    = 8e3\n",
    "#p_sep       = 2500e3 #600 ns\n",
    "p_sep        =500e3#2732e3 #XXX why has this changed?\n",
    "dt_max       = 8e3\n",
    "ch1_offset = 0.0e3"
   ]
  },
  {
   "cell_type": "code",
   "execution_count": null,
   "metadata": {
    "collapsed": false,
    "scrolled": false
   },
   "outputs": [],
   "source": [
    "### this window can be used to analyze one of the full timetrace in order to get a feeling for the tail and the windows.\n",
    "### later on all timestamps should be combined to get a clear pikkcture\n",
    "\n",
    "a_lt4 = ppq.purifyPQAnalysis(tb.latest_data(tstamp_lt4[1],folder = folder_lt4))\n",
    "\n",
    "vert0 = st_start/1000. ### start of the first window\n",
    "vert1 = (st_start+p_sep)/1000. ### for the second window\n",
    "\n",
    "# BK_analysis.plot_total_histogram(1,st_start-20e3,200e3,1e3,log_plot=True)\n",
    "pq_plots.plot_marker_filter_comparison(a_lt4.pqf,mrkr_chan = 1,start =2470e3,  length = 50e3, hist_binsize = 0.1e3, save = False, log=False,plot_threshold_ch0 =vert0,plot_threshold_ch1 =vert1) #start =7480\n",
    "# pq_plots.plot_marker_filter_comparison(a_lt4.pqf,mrkr_chan = 1,start =1965e3+1000e3,  length = 10e3, hist_binsize = 0.1e3, save = False, log=False,plot_threshold_ch0 =vert1,plot_threshold_ch1 =vert1) #start =7480\n",
    "# pq_plots.plot_photon_hist(b.pqf,start =1965+500,  length = 250, hist_binsize = 1, save = False, log=True) #start =7480"
   ]
  },
  {
   "cell_type": "code",
   "execution_count": null,
   "metadata": {
    "collapsed": false
   },
   "outputs": [],
   "source": [
    "### return the length of events without temporal filter:\n",
    "\n",
    "no_of_events = 0\n",
    "for i in range(len(BK_analysis.lt3_dict['ssro_results'])):\n",
    "    no_of_events += len(BK_analysis.lt3_dict['ssro_results'][i])\n",
    "\n",
    "print 'number of unfiltered (temporal and CR) events', no_of_events\n",
    "\n",
    "\n",
    "\n",
    "### apply temporal filter (see above for filters)\n",
    "BK_analysis.filter_CR_after(threshold = 1,verbose = False)\n",
    "BK_analysis.apply_temporal_filters_to_prefiltered_data(st_start = st_start,\n",
    "                                                       st_len = st_len,\n",
    "                                                       st_len_w2 = st_len_w2,\n",
    "                                                       p_sep = p_sep,\n",
    "                                                       dt_max = dt_max,\n",
    "                                                       ch1_offset = ch1_offset)\n"
   ]
  },
  {
   "cell_type": "code",
   "execution_count": null,
   "metadata": {
    "collapsed": false
   },
   "outputs": [],
   "source": [
    "### filter the PQ data: Return an array which is True at each position where an event was in a window\n",
    "BK_analysis.attach_state_filtered_syncs(verbose = False)"
   ]
  },
  {
   "cell_type": "code",
   "execution_count": null,
   "metadata": {
    "collapsed": false,
    "scrolled": false
   },
   "outputs": [],
   "source": [
    "### applies the time fitlered sync numbers to the adwin RO results of each setup\n",
    "BK_analysis.correlate_RO_results(verbose = True,apply_ROC = False)"
   ]
  },
  {
   "cell_type": "code",
   "execution_count": null,
   "metadata": {
    "collapsed": false
   },
   "outputs": [],
   "source": [
    "### correlations vs. window start?\n",
    "BK_analysis.sweep_filter_parameter_vs_correlations('st_start',np.linspace(2490e3,2510e3,20))"
   ]
  },
  {
   "cell_type": "code",
   "execution_count": null,
   "metadata": {
    "collapsed": false
   },
   "outputs": [],
   "source": [
    "BK_analysis.sweep_filter_parameter_vs_correlations('st_len',np.linspace(2e3,15e3,50))"
   ]
  },
  {
   "cell_type": "code",
   "execution_count": null,
   "metadata": {
    "collapsed": false
   },
   "outputs": [],
   "source": [
    "BK_analysis.sweep_filter_parameter_vs_correlations('ch1_offset',np.linspace(-5e3,5e3,25))"
   ]
  },
  {
   "cell_type": "code",
   "execution_count": null,
   "metadata": {
    "collapsed": false
   },
   "outputs": [],
   "source": [
    "BK_analysis.sweep_filter_parameter_vs_correlations('dt_max',np.linspace(2e3,5e3,15))"
   ]
  },
  {
   "cell_type": "code",
   "execution_count": null,
   "metadata": {
    "collapsed": false
   },
   "outputs": [],
   "source": [
    "BK_analysis.sweep_filter_parameter_vs_correlations('CR_after_threshold',np.linspace(1,20,7))"
   ]
  },
  {
   "cell_type": "code",
   "execution_count": null,
   "metadata": {
    "collapsed": true
   },
   "outputs": [],
   "source": [
    "#### put readout corrected analysis here."
   ]
  },
  {
   "cell_type": "code",
   "execution_count": null,
   "metadata": {
    "collapsed": false
   },
   "outputs": [],
   "source": [
    "np.array([1,2,1,2])[np.array([True,False,True,False])]"
   ]
  },
  {
   "cell_type": "code",
   "execution_count": null,
   "metadata": {
    "collapsed": true
   },
   "outputs": [],
   "source": []
  },
  {
   "cell_type": "code",
   "execution_count": null,
   "metadata": {
    "collapsed": true
   },
   "outputs": [],
   "source": []
  }
 ],
 "metadata": {
  "kernelspec": {
   "display_name": "Python 2",
   "language": "python",
   "name": "python2"
  },
  "language_info": {
   "codemirror_mode": {
    "name": "ipython",
    "version": 2
   },
   "file_extension": ".py",
   "mimetype": "text/x-python",
   "name": "python",
   "nbconvert_exporter": "python",
   "pygments_lexer": "ipython2",
   "version": "2.7.11"
  }
 },
 "nbformat": 4,
 "nbformat_minor": 0
}
