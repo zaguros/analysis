{
 "cells": [
  {
   "cell_type": "code",
   "execution_count": null,
   "metadata": {
    "collapsed": false
   },
   "outputs": [],
   "source": [
    "## setup analysis\n",
    "execfile(r'D:\\measuring\\analysis\\scripts\\setup_analysis.py')\n",
    "from analysis.lib.purification import purify_pq as ppq; reload(ppq)\n",
    "from analysis.lib.purification import purify_BK as pbk; reload(pbk)\n",
    "from analysis.lib.pq import pq_tools;reload(pq_tools)\n",
    "\n",
    "%matplotlib inline\n",
    "from analysis.lib.fitting import fit, common\n",
    "\n",
    "folder_lt4 = r'D:\\measuring\\data\\Purification_lt4_raw_data\\TPQI_with_Pippin_SIL3'\n",
    "folder_lt4_disting = r'D:\\measuring\\data\\Purification_lt4_raw_data\\TPQI_final_final_disting'\n",
    "\n",
    "filename_contains = 'TPQI'\n",
    "\n",
    "from analysis.lib.purification import purify_TPQI as TPQI; reload(TPQI)"
   ]
  },
  {
   "cell_type": "code",
   "execution_count": null,
   "metadata": {
    "collapsed": false
   },
   "outputs": [],
   "source": [
    "### define parameters\n",
    "start_ch0 = 2435e3#+500e3\n",
    "start_offset_ch1 = 0e3\n",
    "window_length = 50e3\n",
    "pulse_sep = 700e3\n",
    "number_of_pulses = 10"
   ]
  },
  {
   "cell_type": "code",
   "execution_count": null,
   "metadata": {
    "collapsed": false
   },
   "outputs": [],
   "source": [
    "### get coincidences\n",
    "# execfile(r'D:\\measuring\\analysis\\scripts\\setup_analysis.py')\n",
    "reload(TPQI)\n",
    "reload(pq_tools)\n",
    "dts, filtered_dts = TPQI.TPQI_analysis(folder_lt4,start_ch0,start_ch0+start_offset_ch1,\n",
    "                                       window_length,\n",
    "                                       pulse_sep,\n",
    "                                       number_of_pulses,\n",
    "                                       contains =  filename_contains,\n",
    "                                       Verbose = False)\n",
    "len(dts),len(filtered_dts)\n",
    "\n",
    "\n",
    "# dts_disting, filtered_dts_disting = TPQI.TPQI_analysis(folder_lt4_disting,start_ch0,start_ch0+start_offset_ch1,\n",
    "#                                                        window_length,\n",
    "#                                                        pulse_sep,\n",
    "#                                                        number_of_pulses, \n",
    "#                                                        Verbose = False)\n",
    "len(dts),len(filtered_dts)"
   ]
  },
  {
   "cell_type": "code",
   "execution_count": null,
   "metadata": {
    "collapsed": true
   },
   "outputs": [],
   "source": []
  },
  {
   "cell_type": "code",
   "execution_count": null,
   "metadata": {
    "collapsed": false
   },
   "outputs": [],
   "source": [
    "### plot result\n",
    "\n",
    "lim = 1500\n",
    "\n",
    "hist_binsize = 5\n",
    "bins = np.arange(min(filtered_dts)-100.5,max(filtered_dts)+100.5,hist_binsize)\n",
    "y,x=np.histogram(filtered_dts, bins=bins)\n",
    "bin_centres = x[:-1] + (x[1] - x[0])/2\n",
    "fig = plt.figure()\n",
    "ax = fig.add_subplot(111)\n",
    "ax.plot(bin_centres,y)\n",
    "ax.set_xlabel('Difference time (ns)')\n",
    "ax.set_ylabel('Coincidences in bin')\n",
    "# ax.set_range\n",
    "ax.set_title('TPQI')\n",
    "ax.set_xlim([-lim,lim])\n",
    "# ax.set_ylim([0,30])\n",
    "\n",
    "# envelope = lambda t: (75/50) * 5* np.exp(-abs(t)**2/20**2.)*(1-np.cos(2*np.pi*0.040*t))/2\n",
    "# #envelope = lambda t: (75/50) * 5* np.exp(-abs(t)**2/20**2.)\n",
    "\n",
    "# xp = np.arange(min(filtered_dts)-100.5,max(filtered_dts)+100.5,1)\n",
    "# env = envelope(xp)\n",
    "# ax.plot(xp,env)\n",
    "\n",
    "plt.show()\n",
    "plt.close('all')\n",
    "\n",
    "\n",
    "# ### plot result\n",
    "\n",
    "# bins = np.arange(min(filtered_dts_disting)-100.5,max(filtered_dts_disting)+100.5,hist_binsize)\n",
    "# y,x=np.histogram(filtered_dts_disting, bins=bins)\n",
    "# bin_centres = x[:-1] + (x[1] - x[0])/2\n",
    "# fig = plt.figure()\n",
    "# ax = fig.add_subplot(111)\n",
    "# ax.plot(bin_centres,y)\n",
    "# ax.set_xlabel('Difference time (ns)')\n",
    "# ax.set_ylabel('Coincidences in bin')\n",
    "# # ax.set_range\n",
    "# ax.set_title('TPQI')\n",
    "# ax.set_xlim([-lim,lim])\n",
    "# # ax.set_ylim([0,30])\n",
    "\n",
    "# envelope_dist = lambda t: 10* np.exp(-abs(t)**2/20**2.)\n",
    "# xp = np.arange(min(filtered_dts)-100.5,max(filtered_dts)+100.5,1)\n",
    "# env = envelope_dist(xp)\n",
    "# ax.plot(xp,env)\n",
    "# plt.show()\n",
    "# plt.close('all')\n",
    "\n"
   ]
  },
  {
   "cell_type": "code",
   "execution_count": null,
   "metadata": {
    "collapsed": false,
    "scrolled": false
   },
   "outputs": [],
   "source": [
    "def fit_tpqi(g_a,n_pulses):\n",
    "    \"\"\"\n",
    "    fitfunction for TPQI\n",
    "        y(x) = a * (n_pulses - x)/n_pulses\n",
    "\n",
    "    I.g.:\n",
    "        g_a : amplitude\n",
    "    \"\"\"\n",
    "    fitfunc_str = 'a'\n",
    "\n",
    "    a = fit.Parameter(g_a, 'a')\n",
    "    n_pulses = fit.Parameter(n_pulses, 'n_pulses')\n",
    "    p0 = [a, n_pulses]\n",
    "\n",
    "    def fitfunc(x):\n",
    "        return a() * (n_pulses() - x)/n_pulses()\n",
    "\n",
    "    return p0, fitfunc, fitfunc_str\n",
    "\n",
    "\n",
    "counts = np.zeros(number_of_pulses)\n",
    "diff =  range(1,number_of_pulses+1)\n",
    "for z in diff:\n",
    "    c_left = np.sum((filtered_dts<(200-z*pulse_sep/1e3)) & (filtered_dts>(-200-z*pulse_sep/1e3)))\n",
    "    c_right = np.sum((filtered_dts<(200+z*pulse_sep/1e3)) & (filtered_dts>(-200+z*pulse_sep/1e3)))\n",
    "    counts[z-1] = (c_left + c_right)/2\n",
    "    \n",
    "reload(fit)\n",
    "fitted = fit.fit1d(diff,counts,fit_tpqi,300,10,ret=True)\n",
    "\n",
    "plt.plot(diff, counts ,'o')\n",
    "plt.plot(diff,fitted['fitfunc'](diff))\n",
    "plt.xlabel('Pulse difference')\n",
    "plt.ylabel('Coincidences')\n",
    "\n",
    "fitted_counts_in_next_pulse = fitted['params'][0]\n",
    "print 'Fitted coincidences with next pulse', fitted_counts_in_next_pulse"
   ]
  },
  {
   "cell_type": "code",
   "execution_count": null,
   "metadata": {
    "collapsed": false
   },
   "outputs": [],
   "source": [
    "counts_in_next_pulse = (np.sum((filtered_dts<-pulse_sep/1e3+200) & (filtered_dts>-pulse_sep/1e3-200))+np.sum((filtered_dts>pulse_sep/1e3-200) & (filtered_dts<pulse_sep/1e3+200)))/2\n",
    "counts_in_same_pulse = np.sum((filtered_dts<200) & (filtered_dts>-200))\n",
    "print counts_in_next_pulse\n",
    "\n",
    "print 'counts left',np.sum((filtered_dts<-pulse_sep/1e3+200) & (filtered_dts>-pulse_sep/1e3-200))\n",
    "print 'counts right',np.sum((filtered_dts>pulse_sep/1e3-200) & (filtered_dts<pulse_sep/1e3+200))\n",
    "print 'averaged coincidences with following pulses',counts_in_next_pulse \n",
    "print 'coincidences in same pulse',counts_in_same_pulse\n",
    "\n",
    "print fitted_counts_in_next_pulse\n",
    "tail_lt3 = 7.2 #9.1975 for SIL 3\n",
    "tail_lt4 = 5.1514\n",
    "\n",
    "p1 = tail_lt3\n",
    "p2 = tail_lt4\n",
    "\n",
    "Visibility = 2*p1*p2/(2*p1*p2 + p1**2 + p2**2)\n",
    "# Visibility = 0.5\n",
    "print 'assumed tail LT3/LT4',tail_lt3,tail_lt4\n",
    "print 'distiungishable expected vis', Visibility\n",
    "print 'measured Visibility', counts_in_same_pulse/float(counts_in_next_pulse)\n",
    "print 'measured Visibility', counts_in_same_pulse/float(fitted_counts_in_next_pulse)\n",
    "print 'normalized TPQI visibility', 1-(counts_in_same_pulse/float(counts_in_next_pulse))/Visibility\n",
    "print 'normalized TPQI visibility', 1-(counts_in_same_pulse/float(fitted_counts_in_next_pulse))/Visibility\n"
   ]
  },
  {
   "cell_type": "code",
   "execution_count": null,
   "metadata": {
    "collapsed": false
   },
   "outputs": [],
   "source": [
    "def sweep_tpqi_param(param_name,sweep_pts,contains = 'TPQI'):\n",
    "    vis = []\n",
    "    vis_u = []\n",
    "    initialVal = tpqi_dict[param_name]\n",
    "    for p in sweep_pts:\n",
    "        tpqi_dict[param_name] = p\n",
    "        # get dts\n",
    "        dts, filtered_dts = TPQI.TPQI_analysis(folder_lt4,\n",
    "                                               tpqi_dict['start_ch0'],tpqi_dict['start_ch0']+tpqi_dict['start_offset_ch1'],\n",
    "                                               tpqi_dict['window_length'],\n",
    "                                              tpqi_dict['pulse_sep'],\n",
    "                                               tpqi_dict['number_of_pulses'], contains = contains,\n",
    "                                               Verbose = False)\n",
    "        ## calc visibility\n",
    "        counts_in_next_pulse = float((np.sum((filtered_dts<-pulse_sep-200) & \\\n",
    "                                       (filtered_dts>-pulse_sep+200))+np.sum((filtered_dts>pulse_sep-200) & \\\n",
    "                                       (filtered_dts<pulse_sep+200)))/2.)\n",
    "        counts_in_same_pulse = float(np.sum((filtered_dts<200) & (filtered_dts>-200)))\n",
    "\n",
    "        tail_lt3 = 7.2 #9.1975 for SIL 2 of pippin\n",
    "        tail_lt4 = 5.1514\n",
    "\n",
    "        p1 = tail_lt3\n",
    "        p2 = tail_lt4\n",
    "        \n",
    "        counts = np.zeros(number_of_pulses)\n",
    "        diff =  range(1,number_of_pulses+1)\n",
    "        for z in diff:\n",
    "            c_left = np.sum((filtered_dts<(200-z*pulse_sep/1e3)) & (filtered_dts>(-200-z*pulse_sep/1e3)))\n",
    "            c_right = np.sum((filtered_dts<(200+z*pulse_sep/1e3)) & (filtered_dts>(-200+z*pulse_sep/1e3)))\n",
    "            counts[z-1] = (c_left + c_right)/2\n",
    "        fitted = fit.fit1d(diff,counts,fit_tpqi,300,10,ret=True,do_print = False)\n",
    "        counts_in_next_pulse = fitted['params'][0]\n",
    "#         print counts_in_next_pulse\n",
    "\n",
    "        Visibility = 2*p1*p2/(2*p1*p2 + p1**2 + p2**2)\n",
    "        if counts_in_same_pulse != 0 and counts_in_next_pulse != 0:\n",
    "            vis.append(1-(counts_in_same_pulse/float(counts_in_next_pulse))/Visibility)\n",
    "            vis_u.append(np.sqrt((counts_in_same_pulse**2)/counts_in_next_pulse**3+ \\\n",
    "                                 (counts_in_same_pulse)/counts_in_next_pulse**2)/(Visibility))\n",
    "#             print counts_in_same_pulse, counts_in_next_pulse,vis_u[-1]\n",
    "        else:\n",
    "            vis.append(0)\n",
    "            vis_u.append(0)\n",
    "    \n",
    "    ### do some plotting\n",
    "    fig = plt.figure()\n",
    "    ax = plt.subplot()\n",
    "    plt.errorbar(sweep_pts,vis,vis_u)\n",
    "    ax.set_xlabel(param_name)\n",
    "    ax.set_ylabel('Visibility')\n",
    "    plt.show()\n",
    "    plt.close('all')\n",
    "    \n",
    "    tpqi_dict[param_name] = initialVal\n",
    "# Error propagation for N1/N2     Sqrt[N2^2 \\[Sigma]1^2 + N1^2 \\[Sigma]2^2]/N2^2"
   ]
  },
  {
   "cell_type": "code",
   "execution_count": null,
   "metadata": {
    "collapsed": false,
    "scrolled": false
   },
   "outputs": [],
   "source": [
    "##### sweep tpqi parameters\n",
    "tpqi_dict = {\n",
    "    'start_ch0' : 2435e3,\n",
    "    'start_offset_ch1' : 1e3,\n",
    "    'window_length' : 50e3,\n",
    "    'pulse_sep' : 700e3,\n",
    "    'number_of_pulses' : 10,\n",
    "    'cr_after_threshold' : 0} # to be programmed\n",
    "sweep_tpqi_param('start_ch0',np.linspace(2415e3,2425e3,15),contains = filename_contains)\n",
    "sweep_tpqi_param('window_length',np.linspace(10e3,60e3,15),contains = filename_contains)"
   ]
  },
  {
   "cell_type": "code",
   "execution_count": null,
   "metadata": {
    "collapsed": false
   },
   "outputs": [],
   "source": [
    "### regular histgram plotting:\n",
    "reload(pq_plots)\n",
    "# f = tb.latest_data('105117',folder = folder_lt4)\n",
    "# a = pqsequence.PQSequenceAnalysis(f)\n",
    "f = tb.latest_data('Bell',folder = folder_lt4)\n",
    "b = pqsequence.PQSequenceAnalysis(f)\n",
    "\n",
    "# pq_plots.plot_photon_hist(a.pqf,hist_binsize = 1e2,start=2.430e6,length=0.01e6,log = False)\n",
    "pq_plots.plot_photon_hist(b.pqf,hist_binsize = 1e2,start=2.410e6,length=0.040e6,log = False)\n",
    "# a.plot_histogram(0,hist_binsize = 1e2,start=2.430e6,length=0.01e6,log_plot = False)\n",
    "# a.plot_histogram(1,hist_binsize = 1e2,start=2.430e6,length=0.01e6,log_plot = False)"
   ]
  },
  {
   "cell_type": "code",
   "execution_count": null,
   "metadata": {
    "collapsed": false
   },
   "outputs": [],
   "source": [
    "LDE_attemps_per_rep = 100\n",
    "\n",
    "\n",
    "f = tb.latest_data('150410',folder = folder_lt4)\n",
    "a = pqsequence.PQSequenceAnalysis(f)\n",
    "a.reps = 50000 # i got this from the hdf5 file\n",
    "# a.plot_histogram(0,hist_binsize = 1e3,start=2.410e6+9*.7e6,length=0.05e6)\n",
    "a.plot_histogram(1,hist_binsize = 5e2,start=2.43e6,length=0.01e6,log_plot = False)\n",
    "(h0, b0), (h1, b1) = pq_tools.get_photon_hist(a.pqf, index = 1, start = 2.434e6,length = 0.0025e6,hist_binsize = 2e2)\n",
    "h_ZPL = h1\n",
    "h_ZPL = np.append(h_ZPL, h_ZPL[-1])#/(a.reps*LDE_attemps_per_rep)\n",
    "\n",
    "f = tb.latest_data('170029',folder = r'D:\\measuring\\data\\Purification_lt4_raw_data\\TPQI_3_laserPulse')\n",
    "a = pqsequence.PQSequenceAnalysis(f)\n",
    "a.reps = 50000\n",
    "(h0, b0), (h1, b1) = pq_tools.get_photon_hist(a.pqf, index = 1, start = 2.434e6,length = 0.0025e6,hist_binsize = 2e2)\n",
    "h_laser = h1\n",
    "h_laser = np.append(h_laser, h_laser[-1])#/(a.reps*LDE_attemps_per_rep)\n",
    "\n",
    "fig = plt.figure()\n",
    "ax = plt.subplot()\n",
    "plt.plot(b0,h_ZPL)\n",
    "plt.plot(b0+0.5e3,h_laser*10)\n",
    "ax.set_yscale('log')\n",
    "ax.set_ylim(0.1,2000)\n",
    "ax.set_xlim(2.433e6,2.436e6)\n",
    "plt.show()\n",
    "# a.plot_histogram(0,hist_binsize = 1e2,start=2.430e6,length=0.01e6,log_plot = False)\n",
    "# a.plot_histogram(1,hist_binsize = 1e2,start=2.430e6,length=0.01e6,log_plot = False)\n",
    "\n"
   ]
  },
  {
   "cell_type": "code",
   "execution_count": null,
   "metadata": {
    "collapsed": false
   },
   "outputs": [],
   "source": [
    "### fitting the laser pulses:\n",
    "(h0, b0), (h1, b1) = pq_tools.get_photon_hist(a.pqf, index = 1, start = 2.430e6,length = 0.01e6,hist_binsize = 1e2)\n",
    "channel = 0\n",
    "#fit laser pulse data\n",
    "ff = common.fit_gauss\n",
    "y_laser = h0 if channel == 0 else h1\n",
    "y_laser = np.append(y_laser, y_laser[-1])\n",
    "\n",
    "args=[0.1,3,2433.73e3,2e3]\n",
    "fitres = fit.fit1d(b0, y_laser, ff, *args, fixed = [0],\n",
    "                   do_print = True, ret = True)\n",
    "x0_laser = fitres['params_dict']['x0']\n",
    "A_laser = fitres['params_dict']['A']\n",
    "fig = plt.figure()\n",
    "ax = plt.subplot()\n",
    "plt.plot(b0,y_laser)\n",
    "plot.plot_fit1d(fitres, np.linspace(2.430e6,2.430e6+0.01e6,201),ax=ax, plot_data=False,add_txt=False, lw = 2)\n",
    "\n",
    "\n",
    "\n",
    "channel = 1\n",
    "#fit laser pulse data\n",
    "ff = common.fit_gauss\n",
    "y_laser = h0 if channel == 0 else h1\n",
    "y_laser = np.append(y_laser, y_laser[-1])\n",
    "\n",
    "args=[0.1,3,2433.73e3,2e3]\n",
    "fitres = fit.fit1d(b0, y_laser, ff, *args, fixed = [0],\n",
    "                   do_print = True, ret = True)\n",
    "x0_laser = fitres['params_dict']['x0']\n",
    "A_laser = fitres['params_dict']['A']\n",
    "plt.plot(b0,y_laser)\n",
    "plot.plot_fit1d(fitres, np.linspace(2.430e6,2.430e6+0.01e6,201),ax=ax, plot_data=False,add_txt=False, lw = 2)\n"
   ]
  },
  {
   "cell_type": "code",
   "execution_count": null,
   "metadata": {
    "collapsed": false
   },
   "outputs": [],
   "source": [
    "#### lets have a look at the normalization measurements:\n",
    "### LT4\n",
    "folder_normalization = r'D:\\measuring\\data\\Purification_lt4_raw_data\\TPQI_2_normalization'\n",
    "f = tb.latest_data('norm_LT4',folder = folder_normalization)\n",
    "a = pqsequence.PQSequenceAnalysis(f)\n",
    "a.reps = 10\n",
    "a.plot_histogram(0,hist_binsize = 1e3,start=2.418e6,length=0.05e6)\n",
    "# a.g.attrs['completed_reps']\n",
    "### LT3\n",
    "f = tb.latest_data('norm_LT3',folder = folder_normalization)\n",
    "a = pqsequence.PQSequenceAnalysis(f)\n",
    "a.reps = 10\n",
    "a.plot_histogram(0,hist_binsize = 1e3,start=2.418e6,length=0.05e6)\n",
    "# a.g.attrs['completed_reps']"
   ]
  },
  {
   "cell_type": "markdown",
   "metadata": {
    "collapsed": true
   },
   "source": [
    "# aNALYSIS OF THE lde RUNS"
   ]
  },
  {
   "cell_type": "code",
   "execution_count": null,
   "metadata": {
    "collapsed": false
   },
   "outputs": [],
   "source": [
    "folder_TPQI_LDE = r'D:\\measuring\\data\\Purification_lt4_raw_data\\TPQI_from_LDE_2'\n",
    "from analysis.lib.bell.old import TPQI; reload(TPQI)"
   ]
  },
  {
   "cell_type": "code",
   "execution_count": null,
   "metadata": {
    "collapsed": true
   },
   "outputs": [],
   "source": [
    "### define parameters\n",
    "start_ch0 = 2.500e6#+500e3\n",
    "start_offset_ch1 = 0#1.5e3\n",
    "window_length = 50e3\n",
    "pulse_sep = 500e3\n",
    "number_of_pulses = 2"
   ]
  },
  {
   "cell_type": "code",
   "execution_count": null,
   "metadata": {
    "collapsed": false
   },
   "outputs": [],
   "source": [
    "### get coincidences\n",
    "reload(TPQI)\n",
    "dts, filtered_dts = TPQI.TPQI_analysis(folder_TPQI_LDE,start_ch0,start_ch0+start_offset_ch1,window_length,pulse_sep,number_of_pulses)"
   ]
  },
  {
   "cell_type": "code",
   "execution_count": null,
   "metadata": {
    "collapsed": false
   },
   "outputs": [],
   "source": [
    "### plot result\n",
    "hist_binsize = 15\n",
    "bins = np.arange(min(filtered_dts)-100.5,max(filtered_dts)+100.5,hist_binsize)\n",
    "y,x=np.histogram(filtered_dts, bins=bins)\n",
    "fig = plt.figure()\n",
    "ax = fig.add_subplot(111)\n",
    "ax.plot(x[:-1],y)\n",
    "ax.set_xlabel('Difference time (ns)')\n",
    "ax.set_ylabel('Coincidences in bin')\n",
    "# ax.set_range\n",
    "ax.set_title('TPQI')\n",
    "# ax.set_xlim([-800,800])\n",
    "plt.show()\n",
    "plt.close('all')"
   ]
  },
  {
   "cell_type": "markdown",
   "metadata": {},
   "source": [
    "### check pulse position"
   ]
  },
  {
   "cell_type": "code",
   "execution_count": null,
   "metadata": {
    "collapsed": false
   },
   "outputs": [],
   "source": [
    "#### lets have a look at the normalization measurements:\n",
    "### LT4\n",
    "\n",
    "f = tb.latest_data('XX',folder = folder_TPQI_LDE)\n",
    "a = pqsequence.PQSequenceAnalysis(f)\n",
    "a.reps = 10\n",
    "a.plot_histogram(0,hist_binsize = 1e3,start=2.473e6+0.5e6,length=0.09e6)\n",
    "# a.g.attrs['completed_reps']"
   ]
  },
  {
   "cell_type": "code",
   "execution_count": null,
   "metadata": {
    "collapsed": false
   },
   "outputs": [],
   "source": [
    "import numpy as np\n",
    "nf_start = 0\n",
    "nf_sweep = 0.5\n",
    "scan_min = nf_start-nf_sweep\n",
    "scan_max = nf_start +nf_sweep\n",
    "opt_nf_step = 0.1\n",
    "steps=int((scan_max - scan_min) / opt_nf_step)\n",
    "nf_sweep=np.append(np.linspace(nf_start,scan_min+opt_nf_step,int(steps/2.)),\n",
    "        np.linspace(scan_min, scan_max, steps))\n",
    "nf_sweep=np.append(nf_sweep,np.linspace(scan_max-opt_nf_step,nf_start,int(steps/2.)))       "
   ]
  },
  {
   "cell_type": "code",
   "execution_count": null,
   "metadata": {
    "collapsed": false
   },
   "outputs": [],
   "source": [
    "nf_sweep[::-1]"
   ]
  },
  {
   "cell_type": "code",
   "execution_count": null,
   "metadata": {
    "collapsed": true
   },
   "outputs": [],
   "source": []
  }
 ],
 "metadata": {
  "kernelspec": {
   "display_name": "Python 2",
   "language": "python",
   "name": "python2"
  },
  "language_info": {
   "codemirror_mode": {
    "name": "ipython",
    "version": 2
   },
   "file_extension": ".py",
   "mimetype": "text/x-python",
   "name": "python",
   "nbconvert_exporter": "python",
   "pygments_lexer": "ipython2",
   "version": "2.7.3"
  }
 },
 "nbformat": 4,
 "nbformat_minor": 0
}
