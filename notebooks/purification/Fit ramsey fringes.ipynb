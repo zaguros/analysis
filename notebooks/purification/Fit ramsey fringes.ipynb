{
 "cells": [
  {
   "cell_type": "code",
   "execution_count": null,
   "metadata": {
    "collapsed": true
   },
   "outputs": [],
   "source": [
    "import sys\n",
    "import numpy as np\n",
    "\n",
    "sys.path.append(r'D:/measuring')\n",
    "sys.path.append(r'D:/measuring/analysis')\n",
    "\n",
    "from analysis.scripts.espin import electron_ramsey_analysis as e_ramsey; reload(e_ramsey)\n",
    "%matplotlib inline"
   ]
  },
  {
   "cell_type": "code",
   "execution_count": null,
   "metadata": {
    "collapsed": false
   },
   "outputs": [],
   "source": [
    "reload(e_ramsey)\n",
    "e_ramsey.fit_Ramsey_6_cos_hf_fixed('074941',None,3000,0.5,0.5,0.001,0.00216,0.000189,fixed=[])"
   ]
  },
  {
   "cell_type": "code",
   "execution_count": null,
   "metadata": {
    "collapsed": false
   },
   "outputs": [],
   "source": [
    "reload(e_ramsey)\n",
    "e_ramsey.fit_Ramsey_6_sin_hf_fixed('20161122/083919',None,3000,0.5,0.5,-0.002,0.00216,0.000189,fixed=[])"
   ]
  },
  {
   "cell_type": "code",
   "execution_count": null,
   "metadata": {
    "collapsed": false
   },
   "outputs": [],
   "source": [
    "reload(e_ramsey)\n",
    "e_ramsey.fit_Ramsey_6_sin_hf_fixed(None,None,4000,0.5,0.5,0.001,0.00219,0.000192,fixed=[])"
   ]
  },
  {
   "cell_type": "code",
   "execution_count": null,
   "metadata": {
    "collapsed": true
   },
   "outputs": [],
   "source": []
  }
 ],
 "metadata": {
  "kernelspec": {
   "display_name": "Python 2",
   "language": "python",
   "name": "python2"
  },
  "language_info": {
   "codemirror_mode": {
    "name": "ipython",
    "version": 2
   },
   "file_extension": ".py",
   "mimetype": "text/x-python",
   "name": "python",
   "nbconvert_exporter": "python",
   "pygments_lexer": "ipython2",
   "version": "2.7.3"
  }
 },
 "nbformat": 4,
 "nbformat_minor": 0
}
