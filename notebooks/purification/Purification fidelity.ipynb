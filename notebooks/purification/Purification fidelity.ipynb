{
 "cells": [
  {
   "cell_type": "code",
   "execution_count": null,
   "metadata": {
    "collapsed": false
   },
   "outputs": [],
   "source": [
    "## setup analysis\n",
    "execfile(r'D:\\measuring\\analysis\\scripts\\setup_analysis.py')\n",
    "from analysis.lib.purification import purify_pq as ppq; reload(ppq)\n",
    "from analysis.lib.purification import purify_analysis as pa; reload(pa)\n",
    "%matplotlib inline\n",
    "\n",
    "theta = 'pi/8'\n"
   ]
  },
  {
   "cell_type": "code",
   "execution_count": null,
   "metadata": {
    "collapsed": false
   },
   "outputs": [],
   "source": [
    "folder_lt3,folder_lt4 = pa.get_folders_from_theta(theta)\n",
    "ssro_calib_lt3,ssro_calib_lt4 = pa.get_ssro_calibs()\n",
    "\n",
    "Purify_XX = pa.purify_analysis('purification_analysis',folder_lt3,folder_lt4,ssro_calib_lt3,ssro_calib_lt4)\n",
    "Purify_YY = pa.purify_analysis('purification_analysis',folder_lt3,folder_lt4,ssro_calib_lt3,ssro_calib_lt4)\n",
    "Purify_ZZ = pa.purify_analysis('purification_analysis',folder_lt3,folder_lt4,ssro_calib_lt3,ssro_calib_lt4)\n",
    "\n",
    "Purify_XX.get_tstamps_and_offsets(contains = 'XX')\n",
    "Purify_YY.get_tstamps_and_offsets(contains = 'YY')\n",
    "Purify_ZZ.get_tstamps_and_offsets(contains = 'ZZ')\n"
   ]
  },
  {
   "cell_type": "code",
   "execution_count": null,
   "metadata": {
    "collapsed": false
   },
   "outputs": [],
   "source": [
    "### load the data\n",
    "Purify_XX.load_raw_data()\n",
    "Purify_XX.correct_pq_times()\n",
    "Purify_YY.load_raw_data()\n",
    "Purify_YY.correct_pq_times()\n",
    "Purify_ZZ.load_raw_data()\n",
    "Purify_ZZ.correct_pq_times()"
   ]
  },
  {
   "cell_type": "code",
   "execution_count": null,
   "metadata": {
    "collapsed": false
   },
   "outputs": [],
   "source": [
    "def sweep_parameter(param_name,sweep_pts,apply_ROC, plot_all = False):\n",
    "    \n",
    "    ## get correlation probabilties\n",
    "    psi_m_XX,psi_p_XX,psi_m_XX_corrs,psi_p_XX_corrs = Purify_XX.sweep_filter_parameter_vs_correlations(param_name,sweep_pts,\n",
    "                                                                         apply_ROC = apply_ROC,do_plot= False)\n",
    "    psi_m_YY,psi_p_YY,psi_m_YY_corrs,psi_p_YY_corrs = Purify_YY.sweep_filter_parameter_vs_correlations(param_name,sweep_pts,\n",
    "                                                                         apply_ROC = apply_ROC,do_plot= False)\n",
    "    psi_m_ZZ,psi_p_ZZ,psi_m_ZZ_corrs,psi_p_ZZ_corrs = Purify_ZZ.sweep_filter_parameter_vs_correlations(param_name,sweep_pts,\n",
    "                                                                         apply_ROC = apply_ROC,do_plot= False)       \n",
    "    ## calculate fidelities\n",
    "    psi_m_F = (psi_m_XX[1] + psi_m_YY[1] + psi_m_ZZ[1]+1)/4.\n",
    "    psi_p_F = (psi_p_XX[1] + psi_p_YY[1] + psi_p_ZZ[1]+1)/4.\n",
    "      \n",
    "    ## calciulate error bars\n",
    "    psi_m_F_u = np.sqrt(psi_m_XX[2]**2 + psi_m_YY[2]**2 + psi_m_ZZ[2]**2)/4.\n",
    "    psi_p_F_u = np.sqrt(psi_p_XX[2]**2 + psi_p_YY[2]**2 + psi_p_ZZ[2]**2)/4.\n",
    "    \n",
    "    # calculate ebits    \n",
    "    ebits_p, ebits_p_u = pa.calculate_ebits(psi_m_YY,psi_m_ZZ,psi_m_XX_corrs)\n",
    "    ebits_m, ebits_m_u = pa.calculate_ebits(psi_p_YY,psi_p_ZZ,psi_p_XX_corrs)\n",
    "    \n",
    "    psi_F = 0.5*(psi_m_F+psi_p_F)\n",
    "    psi_F_u = 0.5*np.sqrt(psi_m_F_u**2+psi_p_F_u**2)\n",
    "    \n",
    "    \n",
    "    fig  = plt.figure()\n",
    "    ax = plt.subplot()\n",
    "    ax.set_xlabel(param_name)\n",
    "    ax.set_ylabel('Fidelity')\n",
    "    plt.errorbar(sweep_pts,psi_m_F,psi_m_F_u,label = '-')\n",
    "    plt.errorbar(sweep_pts,psi_p_F,psi_p_F_u,label = '+')\n",
    "    if param_name == 'bin_w2':\n",
    "        plt.xlim(np.array(plt.xlim()) + [-50,50])\n",
    "    plt.legend()\n",
    "    plt.show()\n",
    "    plt.close('all')\n",
    " \n",
    "    fig  = plt.figure()\n",
    "    ax = plt.subplot()\n",
    "    ax.set_xlabel(param_name)\n",
    "    ax.set_ylabel('Fidelity (avg)')\n",
    "    plt.errorbar(sweep_pts,psi_F,psi_F_u)\n",
    "    if param_name == 'bin_w2':\n",
    "        plt.xlim(np.array(plt.xlim()) + [-50,50])\n",
    "    plt.show()\n",
    "    plt.close('all')\n",
    "    \n",
    "    fig  = plt.figure()\n",
    "    ax = plt.subplot()\n",
    "    ax.set_xlabel(param_name)\n",
    "    ax.set_ylabel('ebits')\n",
    "\n",
    "    plt.errorbar(sweep_pts,ebits_p,ebits_p_u,label = '+')\n",
    "    plt.errorbar(sweep_pts,ebits_m,ebits_m_u,label = '-')\n",
    "    if param_name == 'bin_w2':\n",
    "        plt.xlim(np.array(plt.xlim()) + [-50,50])\n",
    "    plt.legend()\n",
    "    plt.show()\n",
    "    plt.close('all')\n",
    "    \n",
    "    ### get the rate for any given data point\n",
    "    ### keep in mind that this includes ALL down time of the experiment. Some might argue that this is an unfair comparison\n",
    "    ### we therefore also include a diagram that uses the operation time of the sequence only and the number of times the sequence has run\n",
    "    ### tomography is excluded from this calculated rate\n",
    "    total_time = 0\n",
    "    total_time += Purify_XX.get_total_time() + Purify_YY.get_total_time() + Purify_ZZ.get_total_time()\n",
    "    total_counts = psi_m_XX[0]+psi_p_XX[0]+psi_m_YY[0]+psi_p_YY[0]+psi_m_ZZ[0]+psi_p_ZZ[0]\n",
    "    fig  = plt.figure()\n",
    "    ax = plt.subplot()\n",
    "    ax.set_xlabel(param_name)\n",
    "    ax.set_ylabel('Rate (Hz)')\n",
    "    plt.plot(sweep_pts,total_counts/total_time, label = 'incl. overhead')\n",
    "    if param_name == 'bin_w2':\n",
    "        plt.xlim(np.array(plt.xlim()) + [-50,50]) \n",
    "    total_time = 0\n",
    "    total_time += Purify_XX.estimate_sequence_time() + Purify_YY.estimate_sequence_time() + Purify_ZZ.estimate_sequence_time()\n",
    "    \n",
    "    plt.plot(sweep_pts,total_counts/total_time, label = 'excl. overhead')\n",
    "    if param_name == 'bin_w2':\n",
    "        plt.xlim(np.array(plt.xlim()) + [-50,50])\n",
    "    plt.legend(loc = 2)\n",
    "    plt.show()\n",
    "    plt.close('all')\n",
    "    \n",
    "    ## plot individual correlations\n",
    "    if plot_all:\n",
    "        fig  = plt.figure()\n",
    "        ax = plt.subplot()\n",
    "        ax.set_xlabel(param_name)\n",
    "        ax.set_ylabel('Expectation value')\n",
    "        plt.errorbar(sweep_pts,psi_m_XX[1],psi_m_XX[2],label = 'XX')\n",
    "        plt.errorbar(sweep_pts,psi_m_YY[1],psi_m_YY[2],label = 'YY')\n",
    "        plt.errorbar(sweep_pts,psi_m_ZZ[1],psi_m_ZZ[2],label = 'ZZ')\n",
    "        if param_name == 'bin_w2':\n",
    "            plt.xlim(np.array(plt.xlim()) + [-50,50])   \n",
    "        plt.title('Psi_minus correlations')\n",
    "        plt.legend()\n",
    "        plt.show()\n",
    "        plt.close('all')\n",
    "        \n",
    "        fig  = plt.figure()\n",
    "        ax = plt.subplot()\n",
    "        ax.set_xlabel(param_name)\n",
    "        ax.set_ylabel('Expectation value')\n",
    "        plt.errorbar(sweep_pts,psi_p_XX[1],psi_p_XX[2],label = 'XX')\n",
    "        plt.errorbar(sweep_pts,psi_p_YY[1],psi_p_YY[2],label = 'YY')\n",
    "        plt.errorbar(sweep_pts,psi_p_ZZ[1],psi_p_ZZ[2],label = 'ZZ')\n",
    "        if param_name == 'bin_w2':\n",
    "            plt.xlim(np.array(plt.xlim()) + [-50,50])\n",
    "        plt.title('Psi_plus correlations')\n",
    "        plt.legend()\n",
    "        plt.show()\n",
    "        plt.close('all')"
   ]
  },
  {
   "cell_type": "code",
   "execution_count": null,
   "metadata": {
    "collapsed": false,
    "scrolled": false
   },
   "outputs": [],
   "source": [
    "sweep_parameter('bin_w2',np.arange(50,450,50),apply_ROC = True,plot_all = True)"
   ]
  },
  {
   "cell_type": "code",
   "execution_count": null,
   "metadata": {
    "collapsed": true
   },
   "outputs": [],
   "source": [
    "sweep_parameter('st_start',np.linspace(-4e3,4e3,10)+2773.5e3,apply_ROC = True)"
   ]
  },
  {
   "cell_type": "code",
   "execution_count": null,
   "metadata": {
    "collapsed": false
   },
   "outputs": [],
   "source": [
    "#### some plotting globals\n",
    "lw = 1.\n",
    "fontsize = 11.\n",
    "markersize = 3\n",
    "color_list = ['#4FA6FF','#50A53A','orange','Gray','yellow']\n",
    "\n",
    "#### compare correlations in one plot + nicer plotting\n",
    "#### also gets the fidelity etc.\n",
    "#### we only look at average correlations (so averaged over the plus and minus signature).\n",
    "def load_data(theta):\n",
    "    folder_lt3,folder_lt4 = pa.get_folders_from_theta(theta)\n",
    "    ssro_calib_lt3,ssro_calib_lt4 = pa.get_ssro_calibs()\n",
    "\n",
    "    Purify_XX = pa.purify_analysis('purification_analysis',folder_lt3,folder_lt4,ssro_calib_lt3,ssro_calib_lt4)\n",
    "    Purify_YY = pa.purify_analysis('purification_analysis',folder_lt3,folder_lt4,ssro_calib_lt3,ssro_calib_lt4)\n",
    "    Purify_ZZ = pa.purify_analysis('purification_analysis',folder_lt3,folder_lt4,ssro_calib_lt3,ssro_calib_lt4)\n",
    "\n",
    "    Purify_XX.get_tstamps_and_offsets(contains = 'XX')\n",
    "    Purify_YY.get_tstamps_and_offsets(contains = 'YY')\n",
    "    Purify_ZZ.get_tstamps_and_offsets(contains = 'ZZ')\n",
    "    \n",
    "    Purify_XX.load_raw_data()\n",
    "    Purify_XX.correct_pq_times()\n",
    "    Purify_YY.load_raw_data()\n",
    "    Purify_YY.correct_pq_times()\n",
    "    Purify_ZZ.load_raw_data()\n",
    "    Purify_ZZ.correct_pq_times()\n",
    "    \n",
    "    return Purify_XX,Purify_YY,Purify_ZZ\n",
    "    \n",
    "def get_corrs(param_name,sweep_pts,Purify_XX,Purify_YY,Purify_ZZ,apply_ROC = True):\n",
    "    ## get correlation probabilties\n",
    "    psi_m_XX,psi_p_XX,psi_m_XX_corrs,psi_p_XX_corrs = Purify_XX.sweep_filter_parameter_vs_correlations(param_name,sweep_pts,\n",
    "                                                                         apply_ROC = apply_ROC,do_plot= False)\n",
    "    psi_m_YY,psi_p_YY,psi_m_YY_corrs,psi_p_YY_corrs = Purify_YY.sweep_filter_parameter_vs_correlations(param_name,sweep_pts,\n",
    "                                                                         apply_ROC = apply_ROC,do_plot= False)\n",
    "    psi_m_ZZ,psi_p_ZZ,psi_m_ZZ_corrs,psi_p_ZZ_corrs = Purify_ZZ.sweep_filter_parameter_vs_correlations(param_name,sweep_pts,\n",
    "                                                                         apply_ROC = apply_ROC,do_plot= False)       \n",
    "    ## calculate fidelities\n",
    "    psi_m_F = (psi_m_XX[1] + psi_m_YY[1] + psi_m_ZZ[1]+1)/4.\n",
    "    psi_p_F = (psi_p_XX[1] + psi_p_YY[1] + psi_p_ZZ[1]+1)/4.\n",
    "      \n",
    "    ## calciulate error bars\n",
    "    psi_m_F_u = np.sqrt(psi_m_XX[2]**2 + psi_m_YY[2]**2 + psi_m_ZZ[2]**2)/4.\n",
    "    psi_p_F_u = np.sqrt(psi_p_XX[2]**2 + psi_p_YY[2]**2 + psi_p_ZZ[2]**2)/4.\n",
    "    \n",
    "    # calculate ebits    \n",
    "    ebits_p, ebits_p_u = pa.calculate_ebits(psi_m_YY,psi_m_ZZ,psi_m_XX_corrs)\n",
    "    ebits_m, ebits_m_u = pa.calculate_ebits(psi_p_YY,psi_p_ZZ,psi_p_XX_corrs)\n",
    "    \n",
    "    psi_F = 0.5*(psi_m_F+psi_p_F)\n",
    "    psi_F_u = 0.5*np.sqrt(psi_m_F_u**2+psi_p_F_u**2)\n",
    "    \n",
    "    psi_XX    = (psi_m_XX[1]+psi_p_XX[1])/2.\n",
    "    psi_YY    = (psi_m_YY[1]+psi_p_YY[1])/2.\n",
    "    psi_ZZ    = (psi_m_ZZ[1]+psi_p_ZZ[1])/2.\n",
    "    psi_XX_u  = np.sqrt(psi_m_XX[2]**2+psi_p_XX[2]**2)/2.\n",
    "    psi_YY_u  = np.sqrt(psi_m_YY[2]**2+psi_p_YY[2]**2)/2.\n",
    "    psi_ZZ_u  = np.sqrt(psi_m_ZZ[2]**2+psi_p_ZZ[2]**2)/2.\n",
    "    \n",
    "    return psi_F,psi_F_u,psi_XX,psi_XX_u,psi_YY,psi_YY_u,psi_ZZ,psi_ZZ_u\n",
    "\n",
    "def plot_values_bars(x_list,y_list,y_u_list):\n",
    "    \n",
    "    for x,y,y_u,color in zip(x_list,y_list,y_u_list,color_list):\n",
    "        plt.errorbar(x,y,y_u,fmt = 'o',color = color,ms=markersize,mew=lw,zorder=3) #formatting still needs to be done\n",
    "        ### we want to include bars to signify integration here\n",
    "        barwidth = x[1]-x[0]\n",
    "        plt.bar(x-barwidth,y,width = barwidth,alpha = 0.1,color = color,zorder=0)\n",
    "        \n",
    "def plot_model_fidelity(theta):\n",
    "    \n",
    "    if theta == 'pi/8':\n",
    "        model_x =  np.arange(50,450,50)\n",
    "        model_y = np.array([0.69838,0.628115,0.550945,0.4897,0.451624,0.430624,0.418807,0.41139])\n",
    "    elif theta == 'pi/6':\n",
    "        model_x =  np.arange(50,450,50)\n",
    "        model_y = np.array([0.671159,0.588074, 0.502691,0.440062, 0.40325, 0.38368, 0.373077, 0.366722])\n",
    "    elif theta == 'pi/5':\n",
    "        model_x =  np.arange(50,450,50)\n",
    "        model_y = np.array([0.640959, 0.546748, 0.456214, 0.393848, 0.358362, 0.339751, 0.3299, 0.32427])\n",
    "    elif theta == 'pi/4':\n",
    "        model_x =  np.arange(50,450,50)\n",
    "        model_y = np.array([0.580464, 0.472287, 0.379295,0.320023, 0.286901, 0.269389, 0.260286,0.255461])\n",
    "        \n",
    "    plt.plot(model_x,model_y,'--',color=color_list[0],lw=lw,zorder=1)"
   ]
  },
  {
   "cell_type": "code",
   "execution_count": null,
   "metadata": {
    "collapsed": false
   },
   "outputs": [],
   "source": [
    "####\n",
    "theta = 'pi/6' #'pi/8'\n",
    "XX,YY,ZZ = load_data(theta)"
   ]
  },
  {
   "cell_type": "code",
   "execution_count": null,
   "metadata": {
    "collapsed": false
   },
   "outputs": [],
   "source": [
    "x_sweep = np.arange(50,450,50)\n",
    "psi_F,psi_F_u,psi_XX,psi_XX_u,psi_YY,psi_YY_u,psi_ZZ,psi_ZZ_u = get_corrs('bin_w2',x_sweep,XX,YY,ZZ,apply_ROC = True)"
   ]
  },
  {
   "cell_type": "code",
   "execution_count": null,
   "metadata": {
    "collapsed": false
   },
   "outputs": [],
   "source": [
    "y_list = [psi_F,psi_XX,psi_YY,psi_ZZ];\n",
    "x_list = [x_sweep]*len(y_list);\n",
    "y_u_list = [psi_F_u,psi_XX_u,psi_YY_u,psi_ZZ_u];"
   ]
  },
  {
   "cell_type": "code",
   "execution_count": null,
   "metadata": {
    "collapsed": false
   },
   "outputs": [],
   "source": [
    "import matplotlib.lines as mlines\n",
    "\n",
    "save_folder = r'K:\\ns\\qt\\Diamond\\Projects\\Purification\\Paper\\Plots'\n",
    "golden_ratio = 1.61803\n",
    "mm_to_inches = 0.0393701 ### inch/mm\n",
    "figure_width = mm_to_inches*80\n",
    "fig = plt.figure(figsize =(figure_width,figure_width/golden_ratio))\n",
    "ax = plt.subplot(111)\n",
    "\n",
    "color_list = ['#4FA6FF','#50A53A','orange','Gray']\n",
    "\n",
    "plot_values_bars(x_list,y_list,y_u_list)\n",
    "plot_model_fidelity(theta)\n",
    "\n",
    "ax.tick_params(labelsize = fontsize,width =lw)\n",
    "# ax.set_ylabel('Expectation value',size = fontsize)\n",
    "ax.set_xlabel('N (binned)',size = fontsize)\n",
    "# ax.set_ylabel('Expectation value / Fidelity')\n",
    "ax.set_xticks([0,100,200,300,400])\n",
    "ax.set_ylim([0,1])\n",
    "ax.set_xlim([0,420])\n",
    "\n",
    "### formatting of the legend\n",
    "legend_list = ['Fidelity',r'$\\langle \\hat{X}\\hat{X} \\rangle$',r'$\\langle \\hat{Y}\\hat{Y} \\rangle$',r'$\\langle \\hat{Z}\\hat{Z} \\rangle$']\n",
    "Fid = mlines.Line2D([], [], color=color_list[0], marker='o',\n",
    "                          markersize=markersize,mew=lw, label=legend_list[0])\n",
    "XX = mlines.Line2D([], [], color=color_list[1], marker='o',mew=lw,\n",
    "                          markersize=markersize, label=legend_list[1])\n",
    "YY = mlines.Line2D([], [], color=color_list[2], marker='o',mew=lw,\n",
    "                          markersize=markersize, label=legend_list[2])\n",
    "ZZ = mlines.Line2D([], [], color=color_list[3], marker='o',mew=lw,\n",
    "                          markersize=markersize, label=legend_list[3])\n",
    "# ax.legend(legend_list, loc=2, borderaxespad=0.,fontsize =fontsize )\n",
    "ax.legend(handles=[Fid,XX,YY,ZZ],ncol=2,numpoints = 1,frameon=False,\n",
    "                                  handlelength=0,handletextpad = 0.4,columnspacing = 0.8,\n",
    "                                  borderaxespad =0.05,\n",
    "                                  fontsize=fontsize-1)\n",
    "\n",
    "ax.xaxis.set_tick_params(width=lw)\n",
    "ax.yaxis.set_tick_params(width=lw)\n",
    "\n",
    "[i.set_linewidth(lw) for i in ax.spines.itervalues()]\n",
    "plt.savefig(os.path.join(save_folder,'binned_correlations_'+theta[-1]+'.png'),format='png',bbox_inches = 'tight',pad_inches=0.3)\n",
    "plt.savefig(os.path.join(save_folder,'binned_correlations_'+theta[-1]+'.pdf'),format='pdf',bbox_inches = 'tight',pad_inches=0.3)\n",
    "plt.show()\n"
   ]
  },
  {
   "cell_type": "code",
   "execution_count": null,
   "metadata": {
    "collapsed": true
   },
   "outputs": [],
   "source": [
    "ax.legend?"
   ]
  },
  {
   "cell_type": "code",
   "execution_count": null,
   "metadata": {
    "collapsed": true
   },
   "outputs": [],
   "source": []
  }
 ],
 "metadata": {
  "kernelspec": {
   "display_name": "Python 2",
   "language": "python",
   "name": "python2"
  },
  "language_info": {
   "codemirror_mode": {
    "name": "ipython",
    "version": 2
   },
   "file_extension": ".py",
   "mimetype": "text/x-python",
   "name": "python",
   "nbconvert_exporter": "python",
   "pygments_lexer": "ipython2",
   "version": "2.7.3"
  }
 },
 "nbformat": 4,
 "nbformat_minor": 0
}
