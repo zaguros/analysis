{
 "cells": [
  {
   "cell_type": "code",
   "execution_count": null,
   "metadata": {
    "collapsed": false
   },
   "outputs": [],
   "source": [
    "## setup analysis\n",
    "execfile(r'D:\\measuring\\analysis\\scripts\\setup_analysis.py')\n",
    "from analysis.lib.purification import purify_pq as ppq; reload(ppq)\n",
    "from analysis.lib.purification import purify_analysis as pa; reload(pa)\n",
    "%matplotlib inline"
   ]
  },
  {
   "cell_type": "code",
   "execution_count": null,
   "metadata": {
    "collapsed": false
   },
   "outputs": [],
   "source": [
    "setup = 'lt4'\n",
    "basefolder = r'D:\\measuring\\data\\Purification_'+setup+'_raw_data\\SSROs\\AllFiles'\n",
    "reload(ssro)\n",
    "### find all folders\n",
    "tstamp=None\n",
    "folder_list = []\n",
    "while tb.latest_data(contains='SSRO',folder = basefolder,raise_exc = False,older_than=tstamp):\n",
    "    tstamp,folder = tb.latest_data(contains='SSRO',folder = basefolder,raise_exc = False,return_timestamp=True,older_than=tstamp)\n",
    "    folder_list.append(folder)\n",
    "\n",
    "    \n",
    "### joint ssro analyis:\n",
    "ssro.lump_multiple_SSROcalibs(folder_list)"
   ]
  },
  {
   "cell_type": "code",
   "execution_count": null,
   "metadata": {
    "collapsed": false
   },
   "outputs": [],
   "source": [
    "setup = 'lt3'\n",
    "basefolder = r'D:\\measuring\\data\\Purification_'+setup+'_raw_data\\SSROs\\AllFiles'\n",
    "reload(ssro)\n",
    "### find all folders\n",
    "tstamp=None\n",
    "folder_list = []\n",
    "while tb.latest_data(contains='SSRO',folder = basefolder,raise_exc = False,older_than=tstamp):\n",
    "    tstamp,folder = tb.latest_data(contains='SSRO',folder = basefolder,raise_exc = False,return_timestamp=True,older_than=tstamp)\n",
    "    folder_list.append(folder)\n",
    "\n",
    "    \n",
    "### joint ssro analyis:\n",
    "ssro.lump_multiple_SSROcalibs(folder_list,mwinit=True)"
   ]
  },
  {
   "cell_type": "code",
   "execution_count": null,
   "metadata": {
    "collapsed": true
   },
   "outputs": [],
   "source": [
    "### length of MBI ROs for nuclear spins is 40 us on LT4 and 40 us on LT3\n",
    "### from this one inquires a measurement error of \n",
    "### LT3: 0.0164 (errors are around 0.00007)\n",
    "### LT4: 0.0144 (errors are 0.00007)\n",
    "### averaging the two gives: 0.0154\n",
    "\n",
    "### from this we also obtain avg. RO fidelities for the two setups:\n",
    "### LT3: 0.965586080539 error: 0.000469704209135\n",
    "### LT4: 0.947348717949 error: 0.000493533486825\n",
    "\n",
    "### for ms = 0\n",
    "### LT3: 0.937927056828 0.00062852678779\n",
    "### LT4: 0.898543589744 0.000683741618143\n",
    "\n",
    "### for the dark +-1 state\n",
    "### LT3: 0.99324510425 0.000214937584394\n",
    "### LT4: 0.996153846154 0.000140171341062"
   ]
  }
 ],
 "metadata": {
  "kernelspec": {
   "display_name": "Python 2",
   "language": "python",
   "name": "python2"
  },
  "language_info": {
   "codemirror_mode": {
    "name": "ipython",
    "version": 2
   },
   "file_extension": ".py",
   "mimetype": "text/x-python",
   "name": "python",
   "nbconvert_exporter": "python",
   "pygments_lexer": "ipython2",
   "version": "2.7.3"
  }
 },
 "nbformat": 4,
 "nbformat_minor": 0
}
