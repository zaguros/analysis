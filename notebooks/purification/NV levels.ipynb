{
 "cells": [
  {
   "cell_type": "code",
   "execution_count": 1,
   "metadata": {
    "collapsed": false
   },
   "outputs": [
    {
     "name": "stdout",
     "output_type": "stream",
     "text": [
      "reloaded\n"
     ]
    }
   ],
   "source": [
    "execfile(r'D:\\measuring\\analysis\\scripts\\setup_analysis.py')\n",
    "%matplotlib inline"
   ]
  },
  {
   "cell_type": "markdown",
   "metadata": {},
   "source": [
    "### NV levels without a magnetic field"
   ]
  },
  {
   "cell_type": "code",
   "execution_count": 2,
   "metadata": {
    "collapsed": false
   },
   "outputs": [
    {
     "name": "stdout",
     "output_type": "stream",
     "text": [
      "63.0\n",
      "57.5\n",
      "[ 55.56161571  55.7723708   57.5         63.          66.18447774\n",
      "  69.10350983]\n"
     ]
    }
   ],
   "source": [
    "B = [0.,0.,0.]\n",
    "Ex = 63\n",
    "Ey = 57.5\n",
    "Strain = Ex-Ey\n",
    "Ex = (Ex+Ey)/2 + Strain/2\n",
    "Ey = (Ex+Ey)/2 - Strain/2\n",
    "\n",
    "print Ex\n",
    "print Ey\n",
    "\n",
    "print nvlevels.get_ES_ExEy(Ex,Ey,20,B_field=B)\n"
   ]
  },
  {
   "cell_type": "code",
   "execution_count": 3,
   "metadata": {
    "collapsed": false
   },
   "outputs": [],
   "source": [
    "def create_plottables_energies(Ex,Ey,Strain_start,Strain_end,pts,B_field=[0.,0.,0.]):\n",
    "    Strain = Ex-Ey\n",
    "    ExZero = (Ex+Ey)/2 \n",
    "    EyZero = (Ex+Ey)/2 \n",
    "\n",
    "    result_list = [range(pts),range(pts),range(pts),range(pts),range(pts),range(pts)] #i know, this is ugly\n",
    "    Strainarray = np.linspace(Strain_start,Strain_end,pts)\n",
    "    for i in range(pts):\n",
    "\n",
    "        result_list[0][i],result_list[1][i],result_list[2][i],result_list[3][i],result_list[4][i],result_list[5][i] = nvlevels.get_ES_ExEy(ExZero+Strainarray[i]/2,EyZero-Strainarray[i]/2,B_field=B_field)\n",
    "    return Strainarray,result_list"
   ]
  },
  {
   "cell_type": "code",
   "execution_count": 165,
   "metadata": {
    "collapsed": false
   },
   "outputs": [],
   "source": [
    "def plot_plottables(Strainarray,result_list,ax=None,return_ax = False):\n",
    "\n",
    "    if ax == None:\n",
    "        golden_ratio = 1.61803\n",
    "        mm_to_inches = 0.0393701 ### inch/mm\n",
    "        figure_width = mm_to_inches*89\n",
    "        fig = plt.figure(figsize =(figure_width,figure_width/golden_ratio))\n",
    "        ax = plt.subplot(111)\n",
    "        \n",
    "    legend_list = [\"Ey'\",\"Ex'\",'Ey','Ex','A1','A2']\n",
    "    if len(legend_list) == len(result_list):\n",
    "        for res,legend in zip(result_list,legend_list):\n",
    "            plt.plot(Strainarray,res,label = legend)\n",
    "    else:\n",
    "        for res in result_list:\n",
    "            plt.plot(Strainarray,res,lw=1.5)\n",
    "        \n",
    "    plt.legend(bbox_to_anchor=(1.05, 1), loc=2, borderaxespad=0.)\n",
    "    plt.ylabel('Frequency (GHz)')\n",
    "    plt.xlabel('Strain splitting (GHz)')\n",
    "    if return_ax:\n",
    "        return ax\n",
    "    plt.show()\n",
    "    plt.close(\"all\")"
   ]
  },
  {
   "cell_type": "code",
   "execution_count": 106,
   "metadata": {
    "collapsed": false
   },
   "outputs": [],
   "source": [
    "import copy\n",
    "reload(nvlevels)\n",
    "def create_plottables_transitions(Ex,Ey,Strain_start,Strain_end,pts,B_field=[0.,0.,0.],m1=True,p1=True):\n",
    "    \n",
    "    Strain = Ex-Ey\n",
    "    ExZero = (Ex+Ey)/2 \n",
    "    EyZero = (Ex+Ey)/2 \n",
    "    \n",
    "    Strainarray = np.linspace(Strain_start,Strain_end,pts)\n",
    "    result_list = [range(pts),range(pts),range(pts),range(pts),range(pts),range(pts),range(pts),range(pts),range(pts),range(pts),range(pts),range(pts)] #i know, this is ugly\n",
    "    if m1 and p1:\n",
    "        result_list = [range(pts),range(pts),range(pts),range(pts),range(pts),range(pts),range(pts),range(pts),range(pts),range(pts),range(pts),range(pts)] #i know, this is ugly\n",
    "        for i in range(pts):\n",
    "            slice_list = nvlevels.get_transitions_ExEy(ExZero+Strainarray[i]/2,EyZero-Strainarray[i]/2,B_field=B_field,show_FB_E_transitions=False,show_FB_A_transitions=False)\n",
    "            for kk,res in enumerate(slice_list):\n",
    "                result_list[kk][i] = copy.deepcopy(res)\n",
    "    else:\n",
    "        result_list = [range(pts),range(pts),range(pts),range(pts),range(pts),range(pts),range(pts),range(pts)]\n",
    "        if m1:\n",
    "            print 'm1 transitions'\n",
    "            for i in range(pts):\n",
    "                slice_list = nvlevels.get_transitions_ExEy(ExZero+Strainarray[i]/2,EyZero-Strainarray[i]/2,B_field=B_field,\n",
    "                                                           show_FB_E_transitions=False,\n",
    "                                                           show_FB_A_transitions=False,\n",
    "                                                           show_A_transitions = False,\n",
    "                                                           show_E_prime_flip_transitions = True,\n",
    "                                                           show_p1_transitions=False)\n",
    "                for kk,res in enumerate(slice_list):\n",
    "                    result_list[kk][i] = res\n",
    "        else:\n",
    "            print 'p1'\n",
    "            for i in range(pts):\n",
    "                slice_list = nvlevels.get_transitions_ExEy(ExZero+Strainarray[i]/2,EyZero-Strainarray[i]/2,B_field=B_field,\n",
    "                                                           show_FB_E_transitions=False,\n",
    "                                                           show_A_transitions = False,\n",
    "                                                           show_E_prime_flip_transitions = True,\n",
    "                                                           show_FB_A_transitions=False,show_m1_transitions=False)\n",
    "            \n",
    "                for kk,res in enumerate(slice_list):\n",
    "                    result_list[kk][i] = res\n",
    "    \n",
    "    return Strainarray,result_list"
   ]
  },
  {
   "cell_type": "code",
   "execution_count": 179,
   "metadata": {
    "collapsed": false
   },
   "outputs": [
    {
     "name": "stdout",
     "output_type": "stream",
     "text": [
      "Magnetic field in Gauss:  418.2\n",
      "7.1\n",
      "m1 transitions\n",
      "p1\n"
     ]
    },
    {
     "data": {
      "image/png": "[encoded data removed]",
      "text/plain": [
       "<matplotlib.figure.Figure at 0xd1fb518>"
      ]
     },
     "metadata": {},
     "output_type": "display_data"
    },
    {
     "name": "stdout",
     "output_type": "stream",
     "text": [
      "m1 transitions\n",
      "p1\n"
     ]
    },
    {
     "data": {
      "image/png": "[encoded data removed]",
      "text/plain": [
       "<matplotlib.figure.Figure at 0xd2c8c50>"
      ]
     },
     "metadata": {},
     "output_type": "display_data"
    }
   ],
   "source": [
    "#### Pippin SIL 2 with magnetic field\n",
    "reload(nvlevels)\n",
    "# larmor frequency at LT3: 447734.89 Hz\n",
    "gamma_c = 1.0705e3 #g-factor for C13 in Hz/G\n",
    "Bz = 447734.89/gamma_c\n",
    "print 'Magnetic field in Gauss: ', round(Bz,1)\n",
    "B = [0.,0.,Bz]\n",
    "Ex = 49.6\n",
    "Ey = 42.5\n",
    "print Ex-Ey\n",
    "xm1,ym1 = create_plottables_transitions(Ex,Ey,0,10,100,B_field=B,m1=True,p1=False)\n",
    "\n",
    "xp1,yp1 = create_plottables_transitions(Ex,Ey,0,10,100,B_field=B,m1=False,p1=True)\n",
    "ax = plot_plottables(np.array(xm1)/2.,[np.array(ym1[1])-min(ym1[1]),np.array(ym1[4])-min(ym1[1]),np.array(yp1[4])-min(ym1[1])],return_ax = True)\n",
    "\n",
    "### plot styling:\n",
    "fontsize = 12\n",
    "lw = 1\n",
    "ax.set_xlabel(r'Strain (GHz)',size = fontsize)\n",
    "ax.set_ylabel(r'$\\omega - \\omega_\\mathrm{Ex}(0)$',size = fontsize)\n",
    "ax.xaxis.set_tick_params(width=lw,labelsize = fontsize-1)\n",
    "ax.yaxis.set_tick_params(width=lw,labelsize=fontsize-1)\n",
    "# ax.legend([r'$|m_s = 0\\rangle \\rightarrow |E_x\\rangle$',r'$|m_s = +1\\rangle \\rightarrow |A_1\\rangle$',\n",
    "#            r'$|m_s = -1\\rangle \\rightarrow |A_1\\rangle$'],loc=2, borderaxespad=0.2,frameon = False,\n",
    "#          fontsize = fontsize-2)\n",
    "[i.set_linewidth(lw) for i in ax.spines.itervalues()]\n",
    "plt.savefig('opt_trans_bfield_418G.pdf',format='pdf',bbox_inches = 'tight',pad_inches=0.3)\n",
    "plt.show()\n",
    "plt.close()\n",
    "\n",
    "\n",
    "### and with no magnetic field\n",
    "xm1,ym1 = create_plottables_transitions(Ex,Ey,0,10,100,B_field=[0,0,0],m1=True,p1=False)\n",
    "\n",
    "xp1,yp1 = create_plottables_transitions(Ex,Ey,0,10,100,B_field=[0,0,0],m1=False,p1=True)\n",
    "ax = plot_plottables(np.array(xm1)/2.,[np.array(ym1[1])-min(ym1[1]),np.array(ym1[4])-min(ym1[1]),np.array(yp1[4])-min(ym1[1])],return_ax = True)\n",
    "\n",
    "### plot styling:\n",
    "fontsize = 12\n",
    "lw = 1\n",
    "ax.set_xlabel(r'Strain (GHz)',size = fontsize)\n",
    "ax.set_ylabel(r'$\\omega - \\omega_\\mathrm{Ex}(0)$',size = fontsize)\n",
    "ax.xaxis.set_tick_params(width=lw,labelsize = fontsize-1)\n",
    "ax.yaxis.set_tick_params(width=lw,labelsize=fontsize-1)\n",
    "# ax.legend([r'$|m_s = 0\\rangle \\rightarrow |E_x\\rangle$',r'$|m_s = +1\\rangle \\rightarrow |A_1\\rangle$',\n",
    "#            r'$|m_s = -1\\rangle \\rightarrow |A_1\\rangle$'],loc=2, borderaxespad=0.2,frameon = False,\n",
    "#          fontsize = fontsize-2)\n",
    "[i.set_linewidth(lw) for i in ax.spines.itervalues()]\n",
    "plt.savefig('opt_trans_no_bfield.pdf',format='pdf',bbox_inches = 'tight',pad_inches=0.3)\n",
    "plt.show()\n",
    "plt.close()"
   ]
  },
  {
   "cell_type": "code",
   "execution_count": null,
   "metadata": {
    "collapsed": true
   },
   "outputs": [],
   "source": [
    "plot_plottables(xm1,ym1)\n",
    "plot_plottables(xp1,yp1)\n"
   ]
  },
  {
   "cell_type": "code",
   "execution_count": 66,
   "metadata": {
    "collapsed": false
   },
   "outputs": [
    {
     "data": {
      "text/plain": [
       "<matplotlib.text.Text at 0xca632b0>"
      ]
     },
     "execution_count": 66,
     "metadata": {},
     "output_type": "execute_result"
    },
    {
     "data": {
      "image/png": "[encoded data removed]",
      "text/plain": [
       "<matplotlib.figure.Figure at 0xb78ac88>"
      ]
     },
     "metadata": {},
     "output_type": "display_data"
    }
   ],
   "source": [
    "fig = plt.figure()\n",
    "ax = plt.subplot()\n",
    "Ex = [57.4,57.2,56.86,56.64,56.35,56.32,56.15]\n",
    "Ey = [52.14,52.25,52.335,52.55,52.83,53.15,54.2]\n",
    "Voltage = [0,9,18,27,36,45,54]\n",
    "\n",
    "plt.plot(Voltage,Ex,marker='o')\n",
    "plt.plot(Voltage,Ey,marker='o')\n",
    "plt.xlabel('Voltage (V)')\n",
    "plt.ylabel('Frequency (GHz)')"
   ]
  },
  {
   "cell_type": "code",
   "execution_count": 17,
   "metadata": {
    "collapsed": false
   },
   "outputs": [],
   "source": []
  },
  {
   "cell_type": "code",
   "execution_count": null,
   "metadata": {
    "collapsed": false
   },
   "outputs": [],
   "source": []
  }
 ],
 "metadata": {
  "kernelspec": {
   "display_name": "Python 2",
   "language": "python",
   "name": "python2"
  },
  "language_info": {
   "codemirror_mode": {
    "name": "ipython",
    "version": 2
   },
   "file_extension": ".py",
   "mimetype": "text/x-python",
   "name": "python",
   "nbconvert_exporter": "python",
   "pygments_lexer": "ipython2",
   "version": "2.7.11"
  }
 },
 "nbformat": 4,
 "nbformat_minor": 0
}
