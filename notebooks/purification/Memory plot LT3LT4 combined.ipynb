{
 "cells": [
  {
   "cell_type": "code",
   "execution_count": null,
   "metadata": {
    "collapsed": false
   },
   "outputs": [],
   "source": [
    "execfile(r'D:\\measuring\\analysis\\scripts\\setup_analysis.py')\n",
    "%matplotlib inline\n",
    "from analysis.lib.purification import purify_analysis as pa; reload(pa)"
   ]
  },
  {
   "cell_type": "code",
   "execution_count": null,
   "metadata": {
    "collapsed": true
   },
   "outputs": [],
   "source": [
    "import matplotlib as mpl\n",
    "\n",
    "\n",
    "mpl.rcParams['font.family'] = 'sans-serif'\n",
    "mpl.rcParams['font.sans-serif'] = 'Helvetica'"
   ]
  },
  {
   "cell_type": "code",
   "execution_count": null,
   "metadata": {
    "collapsed": true
   },
   "outputs": [],
   "source": [
    "# time stamp defs\n",
    "\n",
    "#### compose the timestamps, used order is: X,mX,Y,mY,Z,mZ\n",
    "### shown data is for pi/6 in the LDE element\n",
    "daystamp = '20160817'\n",
    "LT3_tstamp_list = ['140755','151440','142421','143655','144136','144736']\n",
    "LT3_tstamp_list = [daystamp+'_'+s for s in LT3_tstamp_list]\n",
    "LT3_ssro = r'K:\\ns\\qt\\Diamond\\Projects\\Purification\\Data\\SSROs_lt3\\combined_ssro_MWInit'\n",
    "LT4_tstamp_list = ['172831','173338','175151','175644','150853','151312']\n",
    "LT4_tstamp_list = [daystamp+'_'+s for s in LT4_tstamp_list]\n",
    "LT4_ssro = r'K:\\ns\\qt\\Diamond\\Projects\\Purification\\Data\\SSROs_lt4\\combined_ssro'\n",
    "base_folder_lt3 = r'K:\\ns\\qt\\Diamond\\Projects\\Purification\\Data\\pur_lt3_local'\n",
    "base_folder_lt4 = r'K:\\ns\\qt\\Diamond\\Projects\\Purification\\Data\\pur_lt4_local'"
   ]
  },
  {
   "cell_type": "code",
   "execution_count": null,
   "metadata": {
    "collapsed": false
   },
   "outputs": [],
   "source": [
    "#get data def\n",
    "reload(mbi)\n",
    "def do_carbon_ROC(f,f_u,setup):\n",
    "    c = 2*(f-0.5)\n",
    "    c_u = 2*f_u\n",
    "    c,c_u = pa.do_carbon_ROC_1q(c,c_u,setup)\n",
    "    return (c/2)+0.5,c_u/2\n",
    "\n",
    "def get_MBI_data(tstamp,ssrofolder,setup):\n",
    "    if setup == 'lt3':\n",
    "        base_folder = base_folder_lt3\n",
    "    elif setup == 'lt4':\n",
    "        base_folder = base_folder_lt4\n",
    "    else:\n",
    "        raise ValueError('No setup specified in get_MBI_data')\n",
    "\n",
    "    ### note that the data is not carbon read-out corrected.\n",
    "    folder = tb.data_from_time(tstamp,folder = base_folder)\n",
    "    #     ssro_folder = tb.data_from_time(ssrostamp)\n",
    "    a = mbi.MBIAnalysis(folder)\n",
    "    a.get_sweep_pts()\n",
    "    a.get_readout_results(name='adwindata')\n",
    "    a.get_electron_ROC(ssrofolder)\n",
    "    a.p0,a.u_p0 = do_carbon_ROC(a.p0.reshape(-1)[:],a.u_p0.reshape(-1)[:],setup) #13C ROC\n",
    "    return a.sweep_pts.reshape(-1)[:],a.p0,a.u_p0\n",
    "\n",
    "def interpolate(x_in,y,y_u,x_ref):\n",
    "    \"\"\"\n",
    "    Interpolates data such that new sweep points match a reference (x_ref)\n",
    "    \"\"\"\n",
    "    new_y = np.zeros(len(x_ref))\n",
    "    new_y_u = np.zeros(len(x_ref))\n",
    "\n",
    "    new_y = np.interp(x_ref,x_in,y)\n",
    "    new_y_u = np.interp(x_ref,x_in,y_u)\n",
    "    \n",
    "    print new_y,new_y_u\n",
    "    return x_ref,new_y,new_y_u"
   ]
  },
  {
   "cell_type": "code",
   "execution_count": null,
   "metadata": {
    "collapsed": true
   },
   "outputs": [],
   "source": [
    "### calc averages for bloch sphere\n",
    "def return_avgs(Tstamps, ssro,setup):\n",
    "    x_list,y_list,y_u_list = [],[],[]\n",
    "    for t in Tstamps:\n",
    "        x,y,y_u = get_MBI_data(t,ssro,setup)\n",
    "        x_list.append(x);y_list.append(y);y_u_list.append(y_u)\n",
    "        \n",
    "       \n",
    "    if len(x_list[0]) != len(x_list[1]): ### lt3 has a measurement with deviating number of points\n",
    "        ## interpolate results:\n",
    "        x_list[0],y_list[0],y_u_list[0] = interpolate(x_list[0],y_list[0],y_u_list[0],x_list[1])\n",
    "\n",
    "    ### calculate average state fidelity\n",
    "    avg_yXY = np.zeros(len(x_list[1]))\n",
    "    avg_yXY_u = np.zeros(len(x_list[1]))\n",
    "    avg_yZ = np.zeros(len(x_list[-1]))\n",
    "    avg_yZ_u = np.zeros(len(x_list[-1]))\n",
    "\n",
    "    ## get the avg XY values\n",
    "    for y,y_u in zip(y_list[:-2],y_u_list[:-2]): ## assumption: all sweep points are the same\n",
    "        avg_yXY = avg_yXY+(np.absolute(2*(y-0.5))/2+0.5)/4.\n",
    "        avg_yXY_u = avg_yXY_u+y_u**2/16.\n",
    "\n",
    "        ## get the avg Z values\n",
    "    for y,y_u in zip(y_list[-2:],y_u_list[-2:]): \n",
    "        avg_yZ = avg_yZ+(np.absolute(2*(y-0.5))/2.+0.5)/2.\n",
    "        avg_yZ_u = avg_yZ_u+y_u**2/4.    \n",
    "\n",
    "    avg_yXY_u = np.sqrt(avg_yXY_u)\n",
    "    avg_yZ_u = np.sqrt(avg_yZ_u)\n",
    "    \n",
    "    return x_list,y_list,y_u_list,avg_yXY,avg_yXY_u,avg_yZ,avg_yZ_u"
   ]
  },
  {
   "cell_type": "code",
   "execution_count": null,
   "metadata": {
    "collapsed": false
   },
   "outputs": [],
   "source": [
    "x_list4,y_list4,y_u_list4,avg_yXY4,avg_yXY_u4,avg_yZ4,avg_yZ_u4 = return_avgs(LT4_tstamp_list,LT4_ssro,'lt4')\n",
    "x_list3,y_list3,y_u_list3,avg_yXY3,avg_yXY_u3,avg_yZ3,avg_yZ_u3 = return_avgs(LT3_tstamp_list,LT3_ssro,'lt3')"
   ]
  },
  {
   "cell_type": "code",
   "execution_count": null,
   "metadata": {
    "collapsed": false
   },
   "outputs": [],
   "source": [
    "### fit XY decays:\n",
    "# p0,fitfunc,fitfunc_str = common.fit_exp_decay_with_offset(0.5, 0.45, 300);fixed = [0]\n",
    "p0,fitfunc,fitfunc_str = common.fit_general_exponential(0.5,0.45,0,250,1.4);fixed = [0,2]\n",
    "fit_result4 = fit.fit1d(x_list4[0],avg_yXY4, None, p0=p0, fitfunc=fitfunc, do_print=True, ret=True,fixed=fixed)\n",
    "fit_x4 = np.linspace(x_list4[0][0],x_list4[0][-1],600)\n",
    "p0,fitfunc,fitfunc_str = common.fit_general_exponential(0.5,0.45,0,250,1.2);fixed = [0,2]\n",
    "fit_result3 = fit.fit1d(x_list3[0],avg_yXY3, None, p0=p0, fitfunc=fitfunc, do_print=True, ret=True,fixed=fixed)\n",
    "fit_x3 = np.linspace(x_list3[0][0],x_list3[0][-1],600)"
   ]
  },
  {
   "cell_type": "code",
   "execution_count": null,
   "metadata": {
    "collapsed": false
   },
   "outputs": [],
   "source": [
    "save_folder = r'K:\\ns\\qt\\Diamond\\Projects\\Purification\\Paper\\Plots' \n",
    "### plot decays\n",
    "golden_ratio = 1.61803\n",
    "mm_to_inches = 0.0393701 ### inch/mm\n",
    "figure_width = mm_to_inches*55\n",
    "fig = plt.figure(figsize =(figure_width,figure_width/golden_ratio))\n",
    "ax = plt.subplot(111)\n",
    "### formatting\n",
    "lw = 1.\n",
    "fontsize = 11.\n",
    "markersize = 4.\n",
    "\n",
    "### colors\n",
    "col_XY = '#3594F2'\n",
    "# green = np.array([79/255.,166/255.,58/255.]) ### the color col_XY expressed in RGB values\n",
    "blue = np.array([53,148,242])/255.\n",
    "green = blue\n",
    "white = np.array([1,1,1])\n",
    "x_max4 = x_list4[0][-1]\n",
    "x_max3 = x_list3[0][-1]\n",
    "col_Z = '#82DB81' #130/219/129\n",
    "orange_z = np.array([130,219,129])/255.# This is orange --> np.array([242,147,53])/255.\n",
    "color_gradient4 = [(1-float(x)/x_max4)*green+(float(x)/x_max4)*white for x in x_list4[0]]\n",
    "color_gradient24 = [(1-float(x)/x_max4)*orange_z+(float(x)/x_max4)*orange_z for x in x_list4[0]]\n",
    "color_gradient3 = [(1-float(x)/x_max3)*green+(float(x)/x_max3)*white for x in x_list3[0]]\n",
    "color_gradient23 = [(1-float(x)/x_max3)*orange_z+(float(x)/x_max3)*orange_z for x in x_list3[0]]\n",
    "\n",
    "\n",
    "## apply formatting\n",
    "ax.set_ylabel(r'Avg. state fidelity',size = fontsize)\n",
    "ax.set_xlabel('Entangling attempts',size = fontsize)\n",
    "ax.yaxis.set_ticks([0.4,0.6,0.8,1.0])\n",
    "ax.xaxis.set_ticks([0,100,200,300,400])\n",
    "ax.tick_params(labelsize = fontsize,width =lw)\n",
    "ax.set_ylim([0.5,1])\n",
    "ax.set_xlim([0,450])\n",
    "[i.set_linewidth(lw) for i in ax.spines.itervalues()]\n",
    "\n",
    "\n",
    "### plot data\n",
    "ax.scatter(x_list4[0],avg_yXY4, c=color_gradient4, s=markersize**2, zorder=3,linewidths=lw/2.)\n",
    "ax.errorbar(x_list4[0],avg_yXY4,avg_yXY_u4,fmt='.', markersize = 0,zorder=0,ecolor=col_XY,mew=lw/2.)\n",
    "ax.errorbar(x_list4[-1],avg_yZ4,avg_yZ_u4,fmt = 'o',ms = markersize,color=col_Z,mew=lw/2.,zorder = 1)\n",
    "ax.plot(fit_x4,fit_result4['fitfunc'](fit_x4),'-',color=col_XY,lw=lw,zorder = 0)\n",
    "\n",
    "ax.scatter(x_list3[0],avg_yXY3, c=color_gradient3,marker = '^', s=markersize**2, zorder=3,linewidths=lw/2.)\n",
    "ax.errorbar(x_list3[0],avg_yXY3,avg_yXY_u3,fmt='.', zorder=0, markersize = 0,ecolor=col_XY,mew=lw/2.)\n",
    "ax.errorbar(x_list3[-1],avg_yZ3,avg_yZ_u3,fmt = '^',ms = markersize,color=col_Z,mew=lw/2.,zorder = 1)\n",
    "ax.plot(fit_x4,fit_result3['fitfunc'](fit_x4),'-',color=col_XY,lw=lw,zorder = 0)\n",
    "plt.savefig(os.path.join(save_folder,'memory_decay_comb.png'),format='png',bbox_inches = 'tight',pad_inches=0.3)\n",
    "plt.savefig(os.path.join(save_folder,'memory_decay_comb.pdf'),format='pdf',bbox_inches = 'tight',pad_inches=0.3)"
   ]
  },
  {
   "cell_type": "code",
   "execution_count": null,
   "metadata": {
    "collapsed": false
   },
   "outputs": [],
   "source": [
    "## time stamp ordering: X,mX,Y,mY,Z,mZ\n",
    "i = 2\n",
    "print x_list4[i]\n",
    "print 1-np.round(y_list4[i],2)\n",
    "print np.round(y_u_list4[i],2)"
   ]
  },
  {
   "cell_type": "code",
   "execution_count": null,
   "metadata": {
    "collapsed": false
   },
   "outputs": [],
   "source": [
    "### bloch sphere LT3\n",
    "from analysis.lib.purification import blochsphere_qutip as bl; reload(bl)\n",
    "### convert all y entries to bloch vector coordinates\n",
    "def plot_bloch(y_list,color_gradient,color_gradient2,name,marker = 'o'):\n",
    "    bv_list = [2*(y-0.5) for y in y_list]\n",
    "\n",
    "\n",
    "    b = bl.Bloch(figsize=[1.2,1.2])\n",
    "    # b = bl.Bloch(figsize=[3.2,3.2])\n",
    "    ## X values\n",
    "    b.add_points([np.zeros(len(bv_list[4])),np.zeros(len(bv_list[4])),bv_list[4]],color2=True,invert_colors = False)\n",
    "    b.add_points([np.zeros(len(bv_list[5])),np.zeros(len(bv_list[5])),bv_list[5]],color2=True,invert_colors = True)\n",
    "    ## Y values\n",
    "    b.add_points([-bv_list[2],np.zeros(len(bv_list[2])),np.zeros(len(bv_list[2]))])\n",
    "    b.add_points([-bv_list[3][::-1],np.zeros(len(bv_list[3]))[::-1],np.zeros(len(bv_list[3]))[::-1]],invert_colors = True)\n",
    "    ## Z values\n",
    "    b.add_points([np.zeros(len(bv_list[0])),bv_list[0],np.zeros(len(bv_list[0]))],invert_colors = False)\n",
    "    b.add_points([np.zeros(len(bv_list[1])),bv_list[1][::-1],np.zeros(len(bv_list[1]))],invert_colors = True)\n",
    "\n",
    "    ## styling\n",
    "    b.frame_alpha = 0.01\n",
    "    b.point_marker = marker\n",
    "    b.point_color  = color_gradient\n",
    "    b.point_color2 = color_gradient2\n",
    "    b.point_size   = [9]\n",
    "    b.zlabel = [\"$\\\\left| 0 \\\\right>$\",\"\"]#[\"X\",\"\"]\n",
    "    b.ylabel = [\"$\\\\left| X \\\\right>$\",\"\"]\n",
    "    b.xlabel = [\"\",\"$\\\\left| Y \\\\right>$\"]\n",
    "\n",
    "    b.save(name =os.path.join(save_folder,'bloch_'+name+'.pdf'),format = 'pdf') \n",
    "#     b.save(name =os.path.join(save_folder,'bloch_'+name+'.png'),format = 'png')\n",
    "#     b.show()\n"
   ]
  },
  {
   "cell_type": "code",
   "execution_count": null,
   "metadata": {
    "collapsed": false
   },
   "outputs": [],
   "source": [
    "plot_bloch(y_list3,color_gradient3,color_gradient23,'LT3',marker = '^')"
   ]
  },
  {
   "cell_type": "code",
   "execution_count": null,
   "metadata": {
    "collapsed": false
   },
   "outputs": [],
   "source": [
    "plot_bloch(y_list4,color_gradient4,color_gradient24,'LT4')"
   ]
  },
  {
   "cell_type": "markdown",
   "metadata": {
    "collapsed": true
   },
   "source": [
    "# Feedback vs. No feedback"
   ]
  },
  {
   "cell_type": "code",
   "execution_count": null,
   "metadata": {
    "collapsed": false
   },
   "outputs": [],
   "source": [
    "#### LT3\n",
    "\n",
    "from analysis.scripts.mbi import mbi_data_general_fits as fits; reload(fits)\n",
    "####\n",
    "#parameters / timestamps\n",
    "tstamp_feedback = '20160817_135340'\n",
    "tstamp_no_feedback = '20160817_132707'\n",
    "####\n",
    "Result_w_feedback = fits.exp_sin(timestamp=  tstamp_feedback,\n",
    "                      offset=[0.5], amplitude = [0.5], center = [0], decay_constant = [300], \n",
    "                      exp_power = [2],\n",
    "                      frequency = [0.], phase =[0], \n",
    "                      fixed = [0,2,4,5,6], base_folder = base_folder_lt3,\n",
    "                      ylim = None,ssro_folder = LT3_ssro,\n",
    "                      plot_fit = True, do_print = True, show_guess = False)[0]\n",
    "Result_wo_feedback = fits.exp_sin(timestamp=  tstamp_no_feedback,\n",
    "                      offset=[0.5], amplitude = [0.5], center = [0], decay_constant = [300], \n",
    "                      exp_power = [2],base_folder = base_folder_lt3,\n",
    "                      frequency = [0.04], phase =[0], \n",
    "                      fixed = [0,2,4],\n",
    "                      ylim = None,ssro_folder = LT3_ssro,\n",
    "                      plot_fit = True, do_print = True, show_guess = False)[0]"
   ]
  },
  {
   "cell_type": "code",
   "execution_count": null,
   "metadata": {
    "collapsed": false
   },
   "outputs": [],
   "source": [
    "save_folder = r'K:\\ns\\qt\\Diamond\\Projects\\Purification\\Paper\\Plots' \n",
    "golden_ratio = 1.61803\n",
    "mm_to_inches = 0.0393701 ### inch/mm\n",
    "figure_width = mm_to_inches*45\n",
    "fig = plt.figure(figsize =(figure_width*1.5,figure_width/golden_ratio))\n",
    "ax = plt.subplot(111)\n",
    "x_wo_feed = np.linspace(Result_wo_feedback['x'][0],200,600)\n",
    "x_w_feed = np.linspace(Result_w_feedback['x'][0],200,600)\n",
    "\n",
    "### formatting\n",
    "lw = 1\n",
    "fontsize = 11\n",
    "markersize = 4\n",
    "\n",
    "col_w_feed = '#3594F2'\n",
    "col_wo_feed = '#F29335'\n",
    "\n",
    "ax.set_ylabel(r'p($|$0$\\rangle$)',size = fontsize)\n",
    "ax.set_xlabel('Entangling attempts',size = fontsize)\n",
    "# ax.set_xticklabels([0,20,40,60,80,100],size = fontsize)\n",
    "ax.yaxis.set_ticks([0.0,0.5,1.0])\n",
    "# ax.set_yticklabels([0.0,0.5,1.0])\n",
    "ax.xaxis.set_tick_params(width=lw,labelsize = fontsize)\n",
    "ax.yaxis.set_tick_params(width=lw,labelsize = fontsize)\n",
    "ax.set_xlim(0,100)\n",
    "ax.set_ylim([0,1])\n",
    "[i.set_linewidth(lw) for i in ax.spines.itervalues()]\n",
    "ax.yaxis.set_label_coords(-0.23,0.5)\n",
    "### commencde plotting\n",
    "plt.plot(x_w_feed,Result_w_feedback['fitfunc'](x_w_feed),color = col_w_feed,lw=lw)\n",
    "plt.plot(x_wo_feed,Result_wo_feedback['fitfunc'](x_wo_feed), color = col_wo_feed,lw = lw)\n",
    "plt.errorbar(Result_wo_feedback['x'],Result_wo_feedback['y'],Result_wo_feedback['y_u'],fmt = 'o',color = col_wo_feed,ms = markersize,mew=lw/2.,elinewidth=lw)\n",
    "plt.errorbar(Result_w_feedback['x'],Result_w_feedback['y'],Result_w_feedback['y_u'],fmt = 'o',color = col_w_feed,ms = markersize,mew=lw/2.,elinewidth=lw)\n",
    "plt.savefig(os.path.join(save_folder,'feedback_nofeedback_LT3.png'),format='png',bbox_inches = 'tight',pad_inches=0.3)\n",
    "plt.savefig(os.path.join(save_folder,'feedback_nofeedback_LT3.pdf'),format='pdf',bbox_inches = 'tight',pad_inches=0.3)"
   ]
  },
  {
   "cell_type": "code",
   "execution_count": null,
   "metadata": {
    "collapsed": false
   },
   "outputs": [],
   "source": [
    "#### LT4\n",
    "from analysis.scripts.mbi import mbi_data_general_fits as fits; reload(fits)\n",
    "####\n",
    "#parameters / timestamps\n",
    "tstamp_feedback = '20160817_141641'\n",
    "tstamp_no_feedback = '20160817_132726'\n",
    "####\n",
    "Result_wo_feedback = fits.exp_sin(timestamp=  tstamp_no_feedback,\n",
    "                      offset=[0.5], amplitude = [0.5], center = [0], decay_constant = [300], \n",
    "                      exp_power = [2],ssro_folder = LT4_ssro,\n",
    "                      frequency = [0.04],phase =[0], \n",
    "                      fixed = [0,2,4],\n",
    "                      ylim = None,base_folder = base_folder_lt4,\n",
    "                      plot_fit = True, do_print = True, show_guess = False)[0]\n",
    "Result_w_feedback = fits.exp_sin(timestamp=  tstamp_feedback,\n",
    "                      offset=[0.5], amplitude = [0.5], center = [0], decay_constant = [300], \n",
    "                      exp_power = [2],ssro_folder = LT4_ssro, base_folder = base_folder_lt4,\n",
    "                      frequency = [0.], phase =[0], \n",
    "                      fixed = [0,2,4,5,6],\n",
    "                      ylim = None,\n",
    "                      plot_fit = True, do_print = True, show_guess = False)[0]\n"
   ]
  },
  {
   "cell_type": "code",
   "execution_count": null,
   "metadata": {
    "collapsed": false
   },
   "outputs": [],
   "source": [
    "save_folder = r'K:\\ns\\qt\\Diamond\\Projects\\Purification\\Paper\\Plots' \n",
    "golden_ratio = 1.61803\n",
    "mm_to_inches = 0.0393701 ### inch/mm\n",
    "figure_width = mm_to_inches*45\n",
    "fig = plt.figure(figsize =(figure_width*1.5,figure_width/golden_ratio))\n",
    "ax = plt.subplot(111)\n",
    "x_wo_feed = np.linspace(Result_wo_feedback['x'][0],100,600)\n",
    "x_w_feed = np.linspace(Result_w_feedback['x'][0],100,600)\n",
    "\n",
    "### formatting\n",
    "lw = 1\n",
    "fontsize = 11\n",
    "markersize = 4\n",
    "\n",
    "col_w_feed = '#3594F2'\n",
    "col_wo_feed = '#F29335'\n",
    "\n",
    "ax.set_ylabel(r'p($|$0$\\rangle$)',size = fontsize)\n",
    "ax.set_xlabel('Entangling attempts',size = fontsize)\n",
    "ax.set_xticklabels([0,20,40,60,80,100],size = fontsize)\n",
    "ax.yaxis.set_ticks([0.0,0.5,1.0])\n",
    "ax.set_yticklabels([0.0,0.5,1.0],size = fontsize)\n",
    "ax.xaxis.set_tick_params(width=lw)\n",
    "ax.yaxis.set_tick_params(width=lw)\n",
    "ax.set_ylim([0,1])\n",
    "[i.set_linewidth(lw) for i in ax.spines.itervalues()]\n",
    "ax.yaxis.set_label_coords(-0.23,0.5)\n",
    "### commencde plotting\n",
    "plt.plot(x_w_feed,Result_w_feedback['fitfunc'](x_w_feed),color = col_w_feed,lw=lw)\n",
    "plt.plot(x_wo_feed,Result_wo_feedback['fitfunc'](x_wo_feed), color = col_wo_feed,lw = lw)\n",
    "plt.errorbar(Result_wo_feedback['x'],Result_wo_feedback['y'],Result_wo_feedback['y_u'],fmt = 'o',color = col_wo_feed,ms = markersize,mew=lw/2.,elinewidth=lw)\n",
    "plt.errorbar(Result_w_feedback['x'],Result_w_feedback['y'],Result_w_feedback['y_u'],fmt = 'o',color = col_w_feed,ms = markersize,mew=lw/2.,elinewidth=lw)\n",
    "plt.savefig(os.path.join(save_folder,'feedback_nofeedback_LT4.png'),format='png',bbox_inches = 'tight',pad_inches=0.3)\n",
    "plt.savefig(os.path.join(save_folder,'feedback_nofeedback_LT4.pdf'),format='pdf',bbox_inches = 'tight',pad_inches=0.3)"
   ]
  },
  {
   "cell_type": "code",
   "execution_count": null,
   "metadata": {
    "collapsed": false
   },
   "outputs": [],
   "source": [
    "print Result_wo_feedback['x']\n",
    "print np.round(Result_wo_feedback['y'],2)\n",
    "print np.round(Result_wo_feedback['y_u'],2)"
   ]
  },
  {
   "cell_type": "code",
   "execution_count": null,
   "metadata": {
    "collapsed": false
   },
   "outputs": [],
   "source": [
    "print Result_w_feedback['x']\n",
    "print np.round(Result_w_feedback['y'],2)\n",
    "print np.round(Result_w_feedback['y_u'],2)"
   ]
  },
  {
   "cell_type": "code",
   "execution_count": null,
   "metadata": {
    "collapsed": true
   },
   "outputs": [],
   "source": []
  }
 ],
 "metadata": {
  "kernelspec": {
   "display_name": "Python 2",
   "language": "python",
   "name": "python2"
  },
  "language_info": {
   "codemirror_mode": {
    "name": "ipython",
    "version": 2
   },
   "file_extension": ".py",
   "mimetype": "text/x-python",
   "name": "python",
   "nbconvert_exporter": "python",
   "pygments_lexer": "ipython2",
   "version": "2.7.3"
  }
 },
 "nbformat": 4,
 "nbformat_minor": 1
}
