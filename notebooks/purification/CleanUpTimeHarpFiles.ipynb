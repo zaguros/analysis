{
 "cells": [
  {
   "cell_type": "code",
   "execution_count": null,
   "metadata": {
    "collapsed": false
   },
   "outputs": [],
   "source": [
    "## setup analysis\n",
    "execfile(r'D:\\measuring\\analysis\\scripts\\setup_analysis.py')\n",
    "from analysis.lib.purification import purify_pq as ppq; reload(ppq)\n",
    "from analysis.lib.purification import purify_BK as pbk; reload(pbk)\n",
    "%matplotlib inline\n",
    "homedir = !chdir\n",
    "folder = r'D:\\measuring\\data'"
   ]
  },
  {
   "cell_type": "code",
   "execution_count": null,
   "metadata": {
    "collapsed": false
   },
   "outputs": [],
   "source": [
    "def find_all_relevant_files(folder):\n",
    "    \"\"\"\n",
    "    Finds all purification related data.\n",
    "    Neglects files that are smaller than a 5 Mb.\n",
    "    \"\"\"\n",
    "    t0 = '20161224_00000'\n",
    "    filepaths = []\n",
    "    filenames = []\n",
    "    filenameouts = []\n",
    "    fs = []\n",
    "    measurement_name = 'Purify_XX'\n",
    "    while tb.latest_data(contains = measurement_name,folder=folder,older_than = t0,raise_exc=False):\n",
    "        t0,f = tb.latest_data(contains = measurement_name,folder = folder,return_timestamp=True,older_than=t0)\n",
    "        filepath = tb.get_msmt_fp(f)\n",
    "        filesize = os.path.getsize(filepath)\n",
    "        if filesize > 5e6: # file size is given in bytes\n",
    "            fs.append(f)\n",
    "            filename = os.path.split(filepath)[1]\n",
    "            filenameout = filename[:-5]+'_slim.hdf5'\n",
    "            filepaths.append(filepath);filenames.append(filename);filenameouts.append(filenameout)\n",
    "    return fs,filepaths,filenames,filenameouts\n",
    "fs,filepaths,filenames,filenameouts = find_all_relevant_files(folder)\n",
    "print fs"
   ]
  },
  {
   "cell_type": "code",
   "execution_count": null,
   "metadata": {
    "collapsed": false
   },
   "outputs": [],
   "source": [
    "### WATCH OUT THIS WILL DELETE ALL PQ DATA FROM THE SELECTED FILES --> NOT RECOVERABLE!\n",
    "if True:\n",
    "    for f,filepath,filename,filenameout in zip(fs,filepaths,filenames,filenameouts):\n",
    "        index = 1\n",
    "        keys = []#['PQ_hist']\n",
    "        h5file = h5py.File(filepath,'r+')\n",
    "        breakstatement = True\n",
    "        while breakstatement:\n",
    "            try:\n",
    "                dataset = h5file['PQ_time-'+str(index)]\n",
    "            except:\n",
    "                breakstatement = False\n",
    "                break\n",
    "            keys += ['PQ_special-'+str(index),\n",
    "                'PQ_sync_number-'+str(index),'PQ_sync_time-'+str(index),'PQ_time-'+str(index),'PQ_channel-'+str(index)]\n",
    "            index +=1\n",
    "\n",
    "        ### found all the relevant PQ names now we can delete\n",
    "        for k in keys:\n",
    "            try:\n",
    "                del h5file[k]\n",
    "            except:\n",
    "                print 'could not delete %s in %s... no photons??' % (k,filename)\n",
    "\n",
    "        h5file.flush()\n",
    "        h5file.close()"
   ]
  },
  {
   "cell_type": "code",
   "execution_count": null,
   "metadata": {
    "collapsed": false,
    "scrolled": true
   },
   "outputs": [],
   "source": [
    "for f,filename,filenameout in zip(fs,filenames,filenameouts):\n",
    "    ### repack files into something more compact\n",
    "    %cd {f}\n",
    "    !h5repack {filename} {filenameout}"
   ]
  },
  {
   "cell_type": "code",
   "execution_count": null,
   "metadata": {
    "collapsed": false,
    "scrolled": true
   },
   "outputs": [],
   "source": [
    "for f,filename,filenameout in zip(fs,filenames,filenameouts):\n",
    "    ### delete unpacled files\n",
    "    %cd {f}\n",
    "    !del {filename}"
   ]
  },
  {
   "cell_type": "code",
   "execution_count": null,
   "metadata": {
    "collapsed": false,
    "scrolled": true
   },
   "outputs": [],
   "source": [
    "for f,filename,filenameout in zip(fs,filenames,filenameouts):\n",
    "    ### rename packed files\n",
    "    %cd {f}\n",
    "    !ren {filenameout} {filename}"
   ]
  },
  {
   "cell_type": "code",
   "execution_count": null,
   "metadata": {
    "collapsed": true
   },
   "outputs": [],
   "source": []
  }
 ],
 "metadata": {
  "kernelspec": {
   "display_name": "Python 2",
   "language": "python",
   "name": "python2"
  },
  "language_info": {
   "codemirror_mode": {
    "name": "ipython",
    "version": 2
   },
   "file_extension": ".py",
   "mimetype": "text/x-python",
   "name": "python",
   "nbconvert_exporter": "python",
   "pygments_lexer": "ipython2",
   "version": "2.7.3"
  }
 },
 "nbformat": 4,
 "nbformat_minor": 0
}
