{
 "cells": [
  {
   "cell_type": "code",
   "execution_count": 1,
   "metadata": {
    "collapsed": true
   },
   "outputs": [],
   "source": [
    "from mayavi import mlab\n",
    "import numpy as np\n",
    "import pylab as pl\n",
    "import os"
   ]
  },
  {
   "cell_type": "code",
   "execution_count": 2,
   "metadata": {
    "collapsed": false
   },
   "outputs": [
    {
     "name": "stdout",
     "output_type": "stream",
     "text": [
      "Notebook initialized with x3d backend.\n"
     ]
    }
   ],
   "source": [
    "mlab.init_notebook()"
   ]
  },
  {
   "cell_type": "code",
   "execution_count": 119,
   "metadata": {
    "collapsed": true
   },
   "outputs": [],
   "source": [
    "relative_scale_factor = 4.\n",
    "rsf = relative_scale_factor\n",
    "x = np.array([1,2,3,4])\n",
    "y = np.array([1,2,3,4])\n",
    "X,Y = np.meshgrid(x,y)"
   ]
  },
  {
   "cell_type": "code",
   "execution_count": 130,
   "metadata": {
    "collapsed": false
   },
   "outputs": [],
   "source": [
    "#### extracted values for the density matrices here non-local only\n",
    "dm_same = rsf*np.array([[-0.001+0.j,     0.082+0.054j,  0.046+0.027j,  0.004-0.025j],\n",
    "           [ 0.082-0.054j,  0.475+0.j,     0.205+0.012j, -0.026-0.026j],\n",
    "           [ 0.046-0.027j,  0.205-0.012j,  0.425+0.j,    -0.019-0.022j],\n",
    "           [ 0.004+0.025j, -0.026+0.026j, -0.019+0.022j,  0.101+0.j   ]])\n",
    "\n",
    "### error bars for same detector clicking\n",
    "dm_same_u = rsf*np.array([[ 0.022+0.j,     0.027+0.026j,  0.028+0.026j,  0.026+0.037j],\n",
    "                      [ 0.027+0.026j,  0.022+0.j,     0.026+0.037j,  0.028+0.026j],\n",
    "                      [ 0.028+0.026j,  0.026+0.037j,  0.022+0.j,     0.027+0.026j],\n",
    "                      [ 0.026+0.037j,  0.028+0.026j,  0.027+0.026j,  0.022+0.j   ]])\n"
   ]
  },
  {
   "cell_type": "code",
   "execution_count": 131,
   "metadata": {
    "collapsed": false
   },
   "outputs": [],
   "source": [
    "### dm for opposite detector only:\n",
    "dm_opposite = rsf*np.array([[ 0.018+0.j,     0.020+0.004j,  0.051+0.021j, -0.002-0.019j],\n",
    "                       [ 0.020-0.004j,  0.462+0.j,    -0.224-0.051j, -0.022-0.059j],\n",
    "                       [ 0.051-0.021j, -0.224+0.051j,  0.400+0.j,    0.061+0.054j],\n",
    "                       [-0.002+0.019j, -0.022+0.059j,  0.061-0.054j,  0.120+0.j,  ]])\n",
    "dm_opposite_u = rsf*np.array([[ 0.022+0.j,     0.028+0.029j,  0.028+0.028j,  0.026+0.034j],\n",
    "                         [ 0.028+0.029j,  0.022+0.j,     0.026+0.034j,  0.028+0.028j],\n",
    "                         [ 0.028+0.028j,  0.026+0.034j,  0.022+0.j,     0.028+0.029j],\n",
    "                         [ 0.026+0.034j,  0.028+0.028j,  0.028+0.029j,  0.022+0.j   ]])\n"
   ]
  },
  {
   "cell_type": "code",
   "execution_count": 141,
   "metadata": {
    "collapsed": false
   },
   "outputs": [],
   "source": [
    "#### LOCAL NUCLEAR SPIN DENSITY MATRICES\n",
    "dm_lt4 = rsf*np.array([[ 0.002+0.j,     0.011+0.015j, -0.001-0.023j,  0.001+0.007j],\n",
    "          [ 0.011-0.015j,  0.510+0.j,    -0.491-0.018j, -0.011+0.032j],\n",
    "          [-0.001+0.023j, -0.491+0.018j,  0.469+0.j,     0.003-0.022j], \n",
    "          [ 0.001-0.007j, -0.011-0.032j,  0.003+0.022j,  0.019+0.j   ]])\n",
    "\n",
    "dm_lt4_u = np.zeros_like(dm_lt4)\n",
    "dm_lt3 = rsf*np.array([[ 0.058+0.j,     0.061-0.004j,  0.020-0.022j,  0.008+0.j   ],\n",
    "                       [ 0.061+0.004j,  0.482+0.j,    -0.478+0.001j, -0.006+0.012j],\n",
    "                       [ 0.020+0.022j, -0.478-0.001j,  0.471+0.j,    -0.027+0.002j],\n",
    "                       [ 0.008+0.j,    -0.006-0.012j, -0.027-0.002j, -0.010+0.j   ]])\n",
    "dm_lt3_u = np.zeros_like(dm_lt3)"
   ]
  },
  {
   "cell_type": "code",
   "execution_count": 163,
   "metadata": {
    "collapsed": false
   },
   "outputs": [],
   "source": [
    "### case selector: which dm to plot?\n",
    "plot_dm = 'same' ### 'opposite' 'same' 'lt3' 'lt4'\n",
    "plot_vals = 'imag'  ### 'real' 'abs' 'imag'\n",
    "errorbars = True\n",
    "save_folder = r'M:\\tnw\\ns\\qt\\Diamond\\Projects\\Purification\\Paper\\Plots' #saves automatically to the right folder. For illustrator auto updates.\n",
    "# save_folder = r'D:\\nkalb\\Desktop'\n",
    "if plot_dm== 'same':\n",
    "    save_name = \"dm_same_mayavi\"\n",
    "    dm = dm_same\n",
    "    dm_u = dm_same_u\n",
    "    \n",
    "elif plot_dm == 'opposite':\n",
    "    save_name = \"dm_opposite_mayavi\"\n",
    "    dm = dm_opposite\n",
    "    dm_u = dm_opposite_u\n",
    "\n",
    "elif plot_dm == 'lt3':\n",
    "    save_name = \"dm_lt3\"\n",
    "    dm = dm_lt3\n",
    "    dm_u = dm_lt3_u\n",
    "    errorbars = False\n",
    "\n",
    "else:\n",
    "    save_name = 'dm_lt4'\n",
    "    dm = dm_lt4\n",
    "    dm_u = dm_lt4_u\n",
    "    errorbars = False\n",
    "    \n",
    "if plot_vals == 'real':\n",
    "    z_labels = ['0.5','0.25','0.0','-0.25']\n",
    "    zz = np.arange(-.3*rsf,0.5*rsf+0.01,0.1*rsf)\n",
    "    save_name = save_name+'_re.png'\n",
    "    dm = dm.real\n",
    "    dm_u = dm_u.real\n",
    "elif plot_vals == 'abs':\n",
    "    z_labels = ['0.5','0.25','0.0']\n",
    "    zz = np.arange(-.0*rsf,0.5*rsf+0.01,0.1*rsf)\n",
    "    save_name = save_name+'_abs.png'\n",
    "    dm = abs(dm.real)\n",
    "    dm_u = abs(dm_u.real)\n",
    "else:\n",
    "    zz = np.arange(-.2*rsf,0.2*rsf+0.01,0.1*rsf)\n",
    "    z_labels = ['0.2','0.0','-0.2']\n",
    "    save_name = save_name+'_im.png'\n",
    "    dm = dm.imag\n",
    "    dm_u = dm_u.imag\n",
    "    \n",
    "    \n",
    "if plot_dm == 'lt3' or plot_dm == 'lt4':\n",
    "    x_labels = [r'|0,-X>','|1,-X>','|0,+X>','|1,+X>']\n",
    "    y_labels = [r'<0,-X|','<1,-X|','<0,+X|','<1,+X|'] \n",
    "    y_off = +0.89\n",
    "else:\n",
    "    x_labels = [r'|0,0>','|1,0>','|0,1>','|1,1>']\n",
    "    y_labels = [r'<0,0|','<1,0|','<0,1|','<1,1|']\n",
    "    y_off = +0.75"
   ]
  },
  {
   "cell_type": "code",
   "execution_count": 164,
   "metadata": {
    "collapsed": false
   },
   "outputs": [],
   "source": [
    "mlab.clf()\n",
    "plt=  mlab.figure(figure=None,bgcolor=(1,1,1), fgcolor=(0,0,0), engine=None, size=(400, 350))# \n",
    "lateral_scale = 0.75\n",
    "mlab.barchart(X,Y,dm,color = (0/255.,0/255.,0/255.),lateral_scale=lateral_scale,opacity =0.9,mode = '2dcross',\n",
    "              line_width = 2,figure = plt)\n",
    "plt=mlab.barchart(X,Y,dm,color = (53/255.,148/255.,242/255.),lateral_scale=lateral_scale,opacity =0.625,\n",
    "                  auto_scale = False,figure = plt)#,mode = '2dsquare')\n",
    "\n",
    "\n",
    "if errorbars:\n",
    "    ### need to extract the z starting point and length value for the errorbars\n",
    "    u_start = dm-dm_u\n",
    "    u_end = dm+dm_u\n",
    "\n",
    "    e_bar_cap = 0.1\n",
    "    for i in range(len(x)):\n",
    "        for j in range(len(y)):\n",
    "\n",
    "            ebar = np.linspace(-e_bar_cap,e_bar_cap,2)\n",
    "\n",
    "            if u_start[j][i] != u_end[j][i]: ## error bar is not 0:\n",
    "\n",
    "                mlab.plot3d(x[i]*np.ones(2),y[j]*np.ones(2),np.linspace(u_start[j][i],u_end[j][i],2),\n",
    "                            line_width=0.03,tube_radius=0.02,opacity = 1.)\n",
    "                mlab.plot3d(x[i]+ebar,y[j]+ebar,u_end[j][i]*np.ones(2),\n",
    "                        line_width=0.03,tube_radius=0.01,opacity = 1.)       \n",
    "\n",
    "            mlab.plot3d(x[i]+ebar,y[j]+ebar,u_start[j][i]*np.ones(2),\n",
    "                        line_width=0.03,tube_radius=0.01,opacity = 1.)"
   ]
  },
  {
   "cell_type": "code",
   "execution_count": 165,
   "metadata": {
    "collapsed": false
   },
   "outputs": [],
   "source": [
    "### now include a line mesh around the 3Dbars for better visualization:\n",
    "ls = (1-lateral_scale)/2\n",
    "\n",
    "for k in range(4):\n",
    "    for l in range(4):\n",
    "        simple_x = np.array([ls,ls,1-ls,1-ls,ls]) +0.5+k\n",
    "        simple_y = np.array([ls,1-ls,1-ls,ls,ls]) +0.5+l\n",
    "        if dm[k][l] !=0:\n",
    "            simple_z = np.array([0.0,dm[l][k]])\n",
    "            for z in simple_z:\n",
    "                mlab.plot3d(simple_x,simple_y,z*np.ones(len(simple_y)),\n",
    "                        line_width=0.01,tube_radius=0.01,opacity = 1.)\n",
    "            for i in range(len(simple_x)):\n",
    "                mlab.plot3d(simple_x[i]*np.ones(2),simple_y[i]*np.ones(2),simple_z,line_width=0.01,tube_radius=0.01,opacity=1.)\n",
    "        else:\n",
    "            mlab.plot3d(simple_x,simple_y,0*np.ones(len(simple_y)),\n",
    "                        line_width=0.01,tube_radius=0.01,opacity = 1.)"
   ]
  },
  {
   "cell_type": "code",
   "execution_count": 166,
   "metadata": {
    "collapsed": false
   },
   "outputs": [],
   "source": [
    "### add plot axes.\n",
    "xx = yy = np.arange(0.5,4.6,1)\n",
    "\n",
    "xy = xz = yx = yz = zx = zy = np.zeros_like(xx)\n",
    "zx = zy = np.zeros_like(zz)\n",
    "lensoffset = 0.5\n",
    "#### plot the axes including tick labels\n",
    "mlab.plot3d(yx+lensoffset,yy,yz,line_width=0.01,tube_radius=0.01,color = (0.4,0.4,0.4))\n",
    "mlab.plot3d(zx+lensoffset,zy+lensoffset,zz,line_width=0.01,tube_radius=0.01,color = (0.4,0.4,0.4))\n",
    "mlab.plot3d(xx,xy+lensoffset+4,xz,line_width=0.01,tube_radius=0.01,color = (0.4,0.4,0.4))\n",
    "#### plot frame\n",
    "\n",
    "### fix the viewing angle\n",
    "mlab.view(azimuth = 45+90,elevation = 60,distance=12.5)\n",
    "\n",
    "### create vertical lines at the outer corners\n",
    "\n",
    "mlab.plot3d(4.5*np.ones(5),4.5*np.ones(5),np.linspace(-0.0*rsf,np.amax(zz),5),line_width=0.01,\n",
    "                tube_radius=0.01,color = (0.4,0.4,0.4))\n",
    "mlab.plot3d(4.5*np.ones(5),0.5*np.ones(5),np.linspace(-0.0*rsf,np.amax(zz),5),line_width=0.01,\n",
    "                tube_radius=0.01,color = (0.4,0.4,0.4))\n",
    "\n",
    "### make the axis and tick labels\n",
    "text_scale = 0.18\n",
    "for l in z_labels:\n",
    "    mlab.text3d(0.5,0.5,(float(l)-text_scale/5)*rsf,l,scale=text_scale,orientation=(90,90,90),orient_to_camera=False)\n",
    "    mlab.plot3d(yx+lensoffset+4,yy,rsf*float(l)*np.ones_like(yy),line_width=0.01,\n",
    "                tube_radius=0.01,color = (0.4,0.4,0.4))\n",
    "    mlab.plot3d(xx,xy+lensoffset,rsf*float(l)*np.ones_like(xx),line_width=0.01,\n",
    "                tube_radius=0.01,color = (0.4,0.4,0.4))\n",
    "    \n",
    "\n",
    "### make X and Y labels\n",
    "pos_list = [1.5,2.5,3.5,4.5]\n",
    "for pos,l in zip(pos_list,x_labels):\n",
    "    mlab.text3d(pos-0.65,4.5+y_off,0,l,scale=text_scale,orientation=(90,180,90),orient_to_camera=False)\n",
    "\n",
    "for pos,l in zip(pos_list,y_labels):\n",
    "    mlab.text3d(0+0.42,pos-0.2,0.05,l,scale=text_scale,orientation=(90,180,0),orient_to_camera=False)\n",
    "    \n"
   ]
  },
  {
   "cell_type": "code",
   "execution_count": 167,
   "metadata": {
    "collapsed": false
   },
   "outputs": [],
   "source": [
    "#### plug in the correct lighting\n",
    "plt.scene.anti_aliasing_frames = 10#20\n",
    "# plt.scene.polygon_smoothing = True\n",
    "plt.scene.light_manager.number_of_lights = 5\n",
    "[l1,l2,l3,l4,l5] = plt.scene.light_manager.lights"
   ]
  },
  {
   "cell_type": "code",
   "execution_count": 168,
   "metadata": {
    "collapsed": false
   },
   "outputs": [],
   "source": [
    "c = (53/255.,148/255.,242/255.)\n",
    "l1.activate = True ### this is standard to point along the direction of the camera\n",
    "l1.intensity = 0.5\n",
    "l1.color = c\n",
    "\n",
    "### need one light from below and one from above:\n",
    "l2.activate = True\n",
    "l2.elevation = 90\n",
    "l2.azimuth = 135\n",
    "l2.intensity = 1\n",
    "l2.color = c\n",
    "\n",
    "l3.activate = True\n",
    "l3.elevation = -90\n",
    "l3.azimuth = 0\n",
    "l3.intensity = 1\n",
    "l3.color = c\n",
    "\n",
    "l4.activate = True\n",
    "l4.elevation= -45\n",
    "l4.azimuth = -65\n",
    "l4.intensity = 1\n",
    "l4.color = c\n",
    "\n",
    "l5.activate = True\n",
    "l5.elevation= 35\n",
    "l5.azimuth = 105\n",
    "l5.intensity = 1.\n",
    "l5.color = c"
   ]
  },
  {
   "cell_type": "code",
   "execution_count": 169,
   "metadata": {
    "collapsed": false
   },
   "outputs": [],
   "source": [
    "mlab.view(distance=11.5)\n",
    "mlab.savefig(os.path.join(save_folder,save_name),figure=plt,magnification=4)#high resolution use mag = 10 / low res use mag = 1\n",
    "mlab.close(all=True)"
   ]
  },
  {
   "cell_type": "code",
   "execution_count": null,
   "metadata": {
    "collapsed": true
   },
   "outputs": [],
   "source": []
  },
  {
   "cell_type": "code",
   "execution_count": null,
   "metadata": {
    "collapsed": true
   },
   "outputs": [],
   "source": []
  },
  {
   "cell_type": "code",
   "execution_count": null,
   "metadata": {
    "collapsed": true
   },
   "outputs": [],
   "source": []
  },
  {
   "cell_type": "code",
   "execution_count": null,
   "metadata": {
    "collapsed": true
   },
   "outputs": [],
   "source": []
  }
 ],
 "metadata": {
  "kernelspec": {
   "display_name": "Python 2",
   "language": "python",
   "name": "python2"
  },
  "language_info": {
   "codemirror_mode": {
    "name": "ipython",
    "version": 2
   },
   "file_extension": ".py",
   "mimetype": "text/x-python",
   "name": "python",
   "nbconvert_exporter": "python",
   "pygments_lexer": "ipython2",
   "version": "2.7.11"
  }
 },
 "nbformat": 4,
 "nbformat_minor": 0
}
