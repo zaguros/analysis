{
 "cells": [
  {
   "cell_type": "code",
   "execution_count": null,
   "metadata": {
    "collapsed": false
   },
   "outputs": [],
   "source": [
    "execfile(r'D:\\measuring\\analysis\\scripts\\setup_analysis.py')\n",
    "import analysis.lib.purification.purify_ssro as pu_ssro;reload(pu_ssro)\n",
    "%matplotlib inline"
   ]
  },
  {
   "cell_type": "markdown",
   "metadata": {},
   "source": [
    "This notebook collects all adwin phase feedback calibrations that were conducted during the purification experiment.\n",
    "The goal is to obtain an estimate for the phase feedback drift per day (long term drift).\n",
    "To this end, we analyze all data and match the fitted and expected frequencies."
   ]
  },
  {
   "cell_type": "code",
   "execution_count": null,
   "metadata": {
    "collapsed": false
   },
   "outputs": [],
   "source": [
    "def setup_selector(setup,lt3_option,lt4_option):\n",
    "    if setup =='lt3':\n",
    "        return lt3_option\n",
    "    elif setup == 'lt4':\n",
    "        return lt4_option\n",
    "    else:\n",
    "        raise NameError('unknown setup!!!')\n",
    "\n",
    "def get_folders(setup):\n",
    "    base_dir = r\"D:\\measuring\\data\"\n",
    "    \n",
    "    base_folder = base_dir + setup_selector(setup,'\\phase_comp_lt3','\\phase_comp_lt4')\n",
    "    contains = setup_selector(setup,'Pippin_SIL2_ADwin_phase_compensation','')\n",
    "    \n",
    "    timestamps = []\n",
    "    folders = []\n",
    "    start_time = '20161001_000000'\n",
    "    stop_time = '20160701_000000'\n",
    "    \n",
    "    while tb.latest_data(contains = contains,newer_than = stop_time,older_than = start_time,\n",
    "                         raise_exc = False,folder = base_folder):\n",
    "        t,f = tb.latest_data(contains = contains,newer_than = stop_time,older_than = start_time,folder=base_folder,\n",
    "                       raise_exc = False,return_timestamp=True)\n",
    "        folders = folders + [f]\n",
    "        timestamps = timestamps + [t]\n",
    "        start_time = t\n",
    "    return folders,timestamps\n",
    "\n",
    "\n",
    "def get_raw_data(setup,folders,do_plot=False):\n",
    "    \"\"\"\n",
    "    this functions gets sweep points, RO values and initial detunings for the applied sequence.\n",
    "    \"\"\"\n",
    "    \n",
    "    ## get setup specific ssro folder\n",
    "    ssro_tstamp = setup_selector(setup,'20160817_095152','20160817_094254')\n",
    "    ssro_folder = tb.data_from_time(ssro_tstamp)\n",
    "    detunings = []\n",
    "    phases = []\n",
    "    x_list = []\n",
    "    y_list = []\n",
    "    \n",
    "    for f in folders:\n",
    "        a = mbi.MBIAnalysis(f)\n",
    "               \n",
    "        a.get_sweep_pts()\n",
    "        a.get_readout_results(name='adwindata')\n",
    "        a.get_electron_ROC(ssro_folder)\n",
    "        if do_plot:\n",
    "            ax = a.plot_results_vs_sweepparam(ret='ax')\n",
    "            \n",
    "        x = a.sweep_pts.reshape(-1)[:]\n",
    "        y = a.p0.reshape(-1)[:]\n",
    "        \n",
    "        x_list = x_list + [x]\n",
    "        y_list = y_list + [y]\n",
    "        detunings = detunings + [a.g.attrs['phase_detuning']]\n",
    "        phases = phases + [a.g.attrs['phase_per_sequence_repetition']]\n",
    "    return x_list,y_list,np.array(detunings),np.array(phases)\n",
    "\n",
    "\n",
    "def prefilter_data(y_list,detunings,phases):\n",
    "    det_filt = detunings > 1.\n",
    "    nan_filt = np.array([True]*len(y_list))\n",
    "    max_val_filt = np.array([True]*len(y_list))\n",
    "    for ii,ys in enumerate(y_list):\n",
    "        nans = np.isnan(ys)\n",
    "        if True in nans:\n",
    "            nan_filt[ii] = False\n",
    "        \n",
    "        if np.amax(ys) < 0.8:\n",
    "            max_val_filt[ii] = False\n",
    "            \n",
    "    ### the phase per repetition is assumed to be approximately constant. Meaning that sudden large deviations should be discarded\n",
    "    phase_filt = np.abs(phases-np.mean(phases))<10\n",
    "    \n",
    "    return np.logical_and(np.logical_and(np.logical_and(nan_filt,det_filt),max_val_filt),phase_filt)\n",
    "\n",
    "def perform_fits(x_list,y_list,detunings):\n",
    "    fit_res = []\n",
    "    for x,y,d in zip(x_list,y_list,detunings):\n",
    "        guess_A = np.amax(y)-0.5\n",
    "        guess_o = 0.5\n",
    "        p0, fitfunc, fitfunc_str = common.fit_exp_cos(guess_o,guess_A, 0, 200, 2,d/360., 0)\n",
    "        fit_result = fit.fit1d(x,y, None, p0=p0, fitfunc=fitfunc, do_print=False, ret=True,fixed=[0,2,4])\n",
    "        fit_res = fit_res + [fit_result]\n",
    "    return fit_res\n",
    "\n",
    "def convert_tstamp_to_minutes(tstamp):\n",
    "    ### there are probably better ways to do this....\n",
    "    mo = int(tstamp[4:6])*60*24*30\n",
    "    d = int(tstamp[6:8])*60*24\n",
    "    h = int(tstamp[8:10])*60\n",
    "    mi = int(tstamp[10:12])\n",
    "    s = float(tstamp[12:14])/60.\n",
    "    return d+h+mi+s+mo\n",
    "\n"
   ]
  },
  {
   "cell_type": "code",
   "execution_count": null,
   "metadata": {
    "collapsed": true
   },
   "outputs": [],
   "source": [
    "def analyze_phasefeedback(setup,do_plot_raw = False):\n",
    "    fs,ts = get_folders(setup)\n",
    "    x_list,y_list,detunings,phases = get_raw_data(setup,fs,do_plot=do_plot_raw)\n",
    "    filt = prefilter_data(y_list,detunings,phases)\n",
    "\n",
    "    ### prepare to weed out some data\n",
    "    delete_data = []\n",
    "    for ii,boole in enumerate(filt):\n",
    "        if not boole:\n",
    "            delete_data = [ii]+delete_data   \n",
    "    print delete_data\n",
    "    for d in delete_data:\n",
    "#         print 'deleting ',fs[d]\n",
    "        del x_list[d]\n",
    "        del y_list[d]\n",
    "    fs = np.array(fs)[filt]\n",
    "    ts = np.array(ts)[filt]\n",
    "    detunings = detunings[filt]\n",
    "    phases = phases[filt]\n",
    "    \n",
    "    fit_res = perform_fits(x_list,y_list,detunings)\n",
    "        \n",
    "    detuning_deviation = []\n",
    "    detuning_deviation_u = []\n",
    "    for res,d in zip(fit_res,detunings):\n",
    "        detuning_deviation = detuning_deviation + [res['params_dict']['f']*360-d]\n",
    "        detuning_deviation_u = detuning_deviation_u + [res['error_dict']['f']*360]\n",
    "    \n",
    "    ### convert detuning deviation into the deviation from the mean measured phase.\n",
    "    detuning_deviation = phases-detunings+detuning_deviation\n",
    "    detuning_deviation = detuning_deviation - np.mean(detuning_deviation)\n",
    "\n",
    "    #### convert timestamps to absolute minutes\n",
    "    ts = [convert_tstamp_to_minutes(t) for t in ts]\n",
    "    t0 = np.array(ts)-ts[-1]\n",
    "    ### generic plot with the measurement number on the x-axis\n",
    "    fig,[ax1,ax2] = plt.subplots(2)\n",
    "\n",
    "    ax1.set_xlabel('Measurement number')\n",
    "    ax1.errorbar(range(len(detuning_deviation)),detuning_deviation,detuning_deviation_u,fmt='.')\n",
    "    \n",
    "    ### generic plot with the measurement number on the x-axis\n",
    "    ax2.set_xlabel('Absolute time (hours)')\n",
    "    print 'this is the mean error bar for the fit result', np.mean(detuning_deviation_u)\n",
    "    ax2.errorbar(t0/60.,detuning_deviation,detuning_deviation_u,fmt='.')\n",
    "    fig.text(0,0.5,'Deviation (degrees per attempt)',rotation='vertical',size=12,ha='center',va='center')\n",
    "    \n",
    "\n",
    "    plt.subplots_adjust(hspace=0.34)\n",
    "    plt.show()\n",
    "    plt.close('all')\n",
    "    \n",
    "    ### need to also check the current measurement parameter \n",
    "    ### for the actual reality to compensate for miss calibration or multiple calibrations in a row \n",
    "    ### this should allow to do some sort of time correlation\n",
    "    \n",
    "    ### convert the timestamps to time difference\n",
    "    t1 = np.ediff1d(t0)\n",
    "    d1 = np.ediff1d(detuning_deviation)\n",
    "        \n",
    "    ### plot the drift over time\n",
    "    fig = plt.figure()\n",
    "    ax = plt.subplot()\n",
    "    ax.set_xscale(\"log\", nonposx='clip')\n",
    "    ax.set_xlabel('time difference (hours)')\n",
    "    ax.set_ylabel('Change in phase per repetition')\n",
    "    plt.errorbar(t1*(-1)/60.,d1,detuning_deviation_u[:-1],fmt='.')\n",
    "    plt.show()\n",
    "    plt.close('all')\n",
    "    \n",
    "    \n",
    "    return detuning_deviation"
   ]
  },
  {
   "cell_type": "code",
   "execution_count": null,
   "metadata": {
    "collapsed": true
   },
   "outputs": [],
   "source": [
    "def histogram_and_gauss(arr):\n",
    "    hist,bins = np.histogram(arr, bins=31)\n",
    "    fig = plt.figure()\n",
    "    ax = plt.subplot()\n",
    "    binsize = bins[1]-bins[0]\n",
    "    bins = bins[:-1]-binsize/2.\n",
    "    plt.plot(bins,hist,'o')\n",
    "    \n",
    "    p0,fitfunc,fitfunc_str = common.fit_gauss(0,3,0,0.4)\n",
    "    res= fit.fit1d(bins,hist,None,fitfunc=fitfunc,p0=p0,do_print=True,ret=True,fixed =[0,2])\n",
    "    fit_x = np.linspace(np.amin(bins),np.amax(bins),100)\n",
    "    plt.plot(fit_x,res['fitfunc'](fit_x),'r-')\n",
    "    ax.set_xlabel('Deviation (degrees/attempt)')\n",
    "    ax.set_ylabel('Number of occurences')\n",
    "    plt.show()\n",
    "    plt.close('all')\n",
    "        "
   ]
  },
  {
   "cell_type": "markdown",
   "metadata": {},
   "source": [
    "## LT3"
   ]
  },
  {
   "cell_type": "code",
   "execution_count": null,
   "metadata": {
    "collapsed": false,
    "scrolled": true
   },
   "outputs": [],
   "source": [
    "det_deviations_LT3 = analyze_phasefeedback('lt3')"
   ]
  },
  {
   "cell_type": "code",
   "execution_count": null,
   "metadata": {
    "collapsed": false
   },
   "outputs": [],
   "source": [
    "histogram_and_gauss(det_deviations_LT3)"
   ]
  },
  {
   "cell_type": "code",
   "execution_count": null,
   "metadata": {
    "collapsed": false,
    "scrolled": true
   },
   "outputs": [],
   "source": [
    "det_deviations_LT4 = analyze_phasefeedback('lt4',do_plot_raw=False)"
   ]
  },
  {
   "cell_type": "code",
   "execution_count": null,
   "metadata": {
    "collapsed": false
   },
   "outputs": [],
   "source": [
    "histogram_and_gauss(det_deviations_LT4)"
   ]
  },
  {
   "cell_type": "code",
   "execution_count": null,
   "metadata": {
    "collapsed": false
   },
   "outputs": [],
   "source": [
    "### LT3 and LT4 combined\n",
    "histogram_and_gauss(np.append(det_deviations_LT3,det_deviations_LT4))"
   ]
  },
  {
   "cell_type": "code",
   "execution_count": null,
   "metadata": {
    "collapsed": true
   },
   "outputs": [],
   "source": []
  }
 ],
 "metadata": {
  "kernelspec": {
   "display_name": "Python 2",
   "language": "python",
   "name": "python2"
  },
  "language_info": {
   "codemirror_mode": {
    "name": "ipython",
    "version": 2
   },
   "file_extension": ".py",
   "mimetype": "text/x-python",
   "name": "python",
   "nbconvert_exporter": "python",
   "pygments_lexer": "ipython2",
   "version": "2.7.11"
  }
 },
 "nbformat": 4,
 "nbformat_minor": 1
}
