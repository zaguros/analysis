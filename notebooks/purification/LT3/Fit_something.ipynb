{
 "cells": [
  {
   "cell_type": "code",
   "execution_count": null,
   "metadata": {
    "collapsed": false
   },
   "outputs": [],
   "source": [
    "execfile(r'D:\\measuring\\analysis\\scripts\\setup_analysis.py')\n",
    "from analysis.lib.fitting import fit, common\n",
    "import inspect\n",
    "%matplotlib inline"
   ]
  },
  {
   "cell_type": "code",
   "execution_count": null,
   "metadata": {
    "collapsed": false
   },
   "outputs": [],
   "source": [
    "#d1=np.loadtxt(r'D:\\measuring\\data\\20150318\\115243_Saturation_curve_Pippin_SIL1_PSB_PQ01018115\\115243_Saturation_curve_Pippin_SIL1_PSB_PQ01018115.dat', skiprows=4)\n",
    "#d2=np.loadtxt(r'D:\\measuring\\data\\20150318\\115942_Saturation_curve_Pippin_SIL1_PSB_PQ01023273\\115942_Saturation_curve_Pippin_SIL1_PSB_PQ01023273.dat', skiprows=4)\n",
    "d= np.loadtxt(r'X:\\data\\20150626\\LT4_PO_CableInserted.dat', skiprows=10)"
   ]
  },
  {
   "cell_type": "code",
   "execution_count": null,
   "metadata": {
    "collapsed": false
   },
   "outputs": [],
   "source": [
    "y2=d[:,0]\n",
    "y=d[:,1]\n",
    "x=np.arange(len(y))*0.128+5419"
   ]
  },
  {
   "cell_type": "code",
   "execution_count": null,
   "metadata": {
    "collapsed": false
   },
   "outputs": [],
   "source": [
    "f = common.fit_gauss\n",
    "args=np.arange(len(inspect.getargspec(f)[0]))\n",
    "print f(*args)[2]\n",
    "print inspect.getargspec(f)[0]"
   ]
  },
  {
   "cell_type": "code",
   "execution_count": null,
   "metadata": {
    "collapsed": false
   },
   "outputs": [],
   "source": [
    "args=[0,100,5424,1.]\n",
    "fitres = fit.fit1d(x, y, f,*args, fixed = [0],\n",
    "                   do_print = True, ret = True, maxfev=100)"
   ]
  },
  {
   "cell_type": "code",
   "execution_count": null,
   "metadata": {
    "collapsed": false
   },
   "outputs": [],
   "source": [
    "p1 = fitres['params_dict']\n",
    "plt.plot(x,y, 'o')\n",
    "plot_pts=100\n",
    "x_p=np.linspace(min(x),max(x),plot_pts)\n",
    "if fitres['success']:\n",
    "    f_p = fitres['fitfunc'](x_p)\n",
    "    plt.plot(x_p,f_p)\n",
    "#f_g = f(*args)[1](x_p)\n",
    "#plt.plot(x_p,f_g)"
   ]
  },
  {
   "cell_type": "code",
   "execution_count": null,
   "metadata": {
    "collapsed": false
   },
   "outputs": [],
   "source": [
    "x0=p1['x0']\n",
    "sigma = p1['sigma']\n",
    "a=0\n",
    "A = p1['A']\n",
    "fA=np.linspace(10,100,100)\n",
    "yy=x0+np.sqrt(2)*np.sqrt(sigma**2*np.log(fA))\n",
    "plt.plot(fA,yy)"
   ]
  },
  {
   "cell_type": "raw",
   "metadata": {},
   "source": [
    "---------------"
   ]
  },
  {
   "cell_type": "code",
   "execution_count": null,
   "metadata": {
    "collapsed": false
   },
   "outputs": [],
   "source": [
    "fit_functions = [f for _, f in common.__dict__.iteritems() if callable(f)]\n",
    "for f in fit_functions:\n",
    "    try:\n",
    "        args=arange(len(inspect.getargspec(f)[0]))\n",
    "        print f.__name__,':  ', \n",
    "        print f(*args)[2]\n",
    "        print inspect.getargspec(f)[0]\n",
    "        print '-'*\n",
    "    except:\n",
    "        continue"
   ]
  },
  {
   "cell_type": "code",
   "execution_count": null,
   "metadata": {
    "collapsed": false
   },
   "outputs": [],
   "source": []
  }
 ],
 "metadata": {
  "kernelspec": {
   "display_name": "Python 2",
   "language": "python",
   "name": "python2"
  },
  "language_info": {
   "codemirror_mode": {
    "name": "ipython",
    "version": 2
   },
   "file_extension": ".py",
   "mimetype": "text/x-python",
   "name": "python",
   "nbconvert_exporter": "python",
   "pygments_lexer": "ipython2",
   "version": "2.7.3"
  }
 },
 "nbformat": 4,
 "nbformat_minor": 0
}
