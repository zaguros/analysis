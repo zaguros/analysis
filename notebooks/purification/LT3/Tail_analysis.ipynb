{
 "metadata": {
  "kernelspec": {
   "display_name": "Python 2",
   "language": "python",
   "name": "python2"
  },
  "language_info": {
   "codemirror_mode": {
    "name": "ipython",
    "version": 2
   },
   "file_extension": ".py",
   "mimetype": "text/x-python",
   "name": "python",
   "nbconvert_exporter": "python",
   "pygments_lexer": "ipython2",
   "version": "2.7.3"
  },
  "name": ""
 },
 "nbformat": 3,
 "nbformat_minor": 0,
 "worksheets": [
  {
   "cells": [
    {
     "cell_type": "code",
     "collapsed": false,
     "input": [
      "execfile(r'D:\\measuring\\analysis\\scripts\\setup_analysis.py')\n",
      "%matplotlib inline\n",
      "\n",
      "folder=tb.latest_data('_tail')#'133447')#('161623')#('160600')#('tail_Sweep')\n",
      "print folder\n",
      "name = 'adwindata'\n",
      "\n",
      "analyze_lt3 = True\n",
      "\n",
      "# lt3 vs lt4 PSB\n",
      "pq_device = ''\n",
      "\n",
      "a = pqsequence.TailAnalysis(folder, hdf5_mode='r', pq_device = pq_device)#, pq_folder='bs_remote')\n",
      "\n",
      "a.get_sweep_pts()\n",
      "#a.sweep_pts = a.g.attrs['aom_amplitude']\n",
      "a.get_sweep_idxs(noof_syncs_per_sweep_pt=250)\n",
      "a.get_readout_results(name)\n",
      "if analyze_lt3:\n",
      "    if a.g.attrs['general_sweep_name']=='eom_off_amplitude':\n",
      "        print 'sweeping EOM off voltage'\n",
      "        a.get_tail_vs_sweep(0,1780,22, pq_binsize_ns=1, hist_binsize_ns=1.,verbose=True)\n",
      "    elif a.g.attrs['general_sweep_name']=='eom_overshoot1':\n",
      "        print 'sweeping EOM overshoot1'\n",
      "        a.get_tail_vs_sweep(0,1850,500, pq_binsize_ns=1, hist_binsize_ns=1.,verbose=True)\n",
      "    else:\n",
      "        a.get_tail_vs_sweep(0,2750,200, pq_binsize_ns=1, hist_binsize_ns=1.,verbose=True)\n",
      "\n",
      "else: ### LT4 analysis\n",
      "    a.get_tail_vs_sweep(1,2800,100, pq_binsize_ns=1, hist_binsize_ns=1.,verbose=True)\n",
      "\n",
      "\n",
      "\n",
      "print 'Sweep tail.  from : {}\\{} '.format(tb.timestamp_from_datetime(tb.get_datetime_from_folder(folder))[:8]\\\n",
      "                                                 ,tb.timestamp_from_datetime(tb.get_datetime_from_folder(folder))[8:])    \n",
      "print 'optimum aom voltage : {:.3f}'.format(a.g.attrs['general_sweep_pts'][np.argmax(a.tail_cts_per_sweep_idx)]),\\\n",
      "    'with tail counts: {:.0f}e-4 counts/shot'.format(np.max(a.tail_cts_per_sweep_idx)*1e4)\n",
      "\n",
      "print a.g.attrs['general_sweep_pts']\n",
      "print a.reps\n",
      "#print a.syncs_per_sweep\n",
      "#print a.sweep_idxs\n",
      "\n",
      "save=True\n",
      "a.plot_tail_cts_vs_sweep(save=save, channels=1)\n",
      "a.plot_tail_hists_vs_sweep(save=save,log_plot = True)\n",
      "a.plot_tail_hist_integated(save=save, log_plot=True)\n",
      "a.plot_tail_hist_all(save=save, log_plot=1, offset=0, indices=[np.argmax(a.tail_cts_per_sweep_idx)])"
     ],
     "language": "python",
     "metadata": {
      "scrolled": false
     },
     "outputs": []
    },
    {
     "cell_type": "raw",
     "metadata": {
      "collapsed": false,
      "scrolled": false
     },
     "source": [
      "pq_plots.plot_photon_hist(a.pqf,pq_device = pq_device,start= 0,  length =2000e6, hist_binsize = 1e3, save = False, log=False, index = 1)\n",
      "#pq_plots.plot_photon_hist(a.pqf,start =2700,  length =4000, hist_binsize = 1, save = False, log=False, index = 2)\n",
      "\n",
      "fig = plt.figure(figsize = (10,6))\n",
      "#plt.plot(pqf['/PQ_hist'].value)\n",
      "#plt.xlim(2380,2480)\n",
      "import os, sys \n",
      "from os import listdir \n",
      "from os.path import isfile, join \n",
      "import numpy as np \n",
      "import matplotlib.pyplot as plt \n",
      "import h5py\n",
      "from analysis.lib.tools import toolbox\n",
      "from scipy.optimize import curve_fit\n",
      "from analysis.lib.fitting import fit, common\n",
      "\n",
      "%matplotlib inline \n",
      "\n",
      "\n",
      "\n",
      "from analysis.lib.pq import pq_tools\n",
      "reload(pq_tools)\n"
     ]
    },
    {
     "cell_type": "code",
     "collapsed": false,
     "input": [
      "folder=tb.latest_data('380')#('Tail')#('163003')\n",
      "print folder\n",
      "h5filepath = toolbox.measurement_filename(folder)\n",
      "\n",
      "pqf = h5py.File(h5filepath,'r')"
     ],
     "language": "python",
     "metadata": {},
     "outputs": []
    },
    {
     "cell_type": "code",
     "collapsed": false,
     "input": [
      "print pqf['/PQ_sync_number-1'].value\n",
      "\n",
      "print 'PSB tail counts : {:.0f}e-4 cts/shot'.format(float(np.cumsum(pqf['/PQ_hist'].value[2380:2480])[-1])/(250*50000)*1e4)"
     ],
     "language": "python",
     "metadata": {},
     "outputs": []
    },
    {
     "cell_type": "code",
     "collapsed": false,
     "input": [
      "pq_binsize_ns = 1\n",
      "start_ns =2380# 2000+2800#2674-17#2754#2674-5#2768#660\n",
      "hist_binsize_ns = 1\n",
      "tail_length_ns = 2000#50#3500-2800\n",
      "reps = 50000\n",
      "syncs_per_sweep = 250\n",
      "sync_nrs=pqf['/PQ_sync_number-1'].value\n",
      "channel = 0\n",
      "\n",
      "\n",
      "#sweep_pts = [0.1, 0.15833333, 0.21666667, 0.275, 0.33333333, 0.39166667, 0.45,0.50833333, 0.56666667, 0.625, 0.68333333, 0.74166667, 0.8]\n",
      "sweep_pts = [0.4]\n",
      "is_ph = pq_tools.get_photons(pqf)[channel]\n",
      "sweep_length = len(sweep_pts)\n",
      "sweep_idxs=np.mod(np.floor((sync_nrs-1)/syncs_per_sweep),sweep_length)\n",
      " \n",
      "sync_time_ns = pqf['/PQ_sync_time-1'].value * pq_binsize_ns\n",
      "hist_bins = np.arange(start_ns-hist_binsize_ns*.5,start_ns+1*tail_length_ns+hist_binsize_ns,hist_binsize_ns)\n",
      "tail_hist_h=np.zeros((sweep_length,len(hist_bins)-1))\n",
      "\n",
      "st_fltr = (start_ns  <= sync_time_ns) &  (sync_time_ns< (start_ns + tail_length_ns))\n",
      "valid_tail_idxs = sweep_idxs[np.where(is_ph & st_fltr)]\n",
      "tail_cts_per_sweep_idx=np.zeros(sweep_length)\n",
      "\n",
      "print valid_tail_idxs[:20]\n",
      "\n",
      "for sweep_idx in range(sweep_length):\n",
      "            tail_cts_per_sweep_idx[sweep_idx]= \\\n",
      "                                float(len(np.where(valid_tail_idxs==sweep_idx)[0])) / (reps*syncs_per_sweep/sweep_length)\n",
      "            tail_hist_h[sweep_idx], tail_hist_b = \\\n",
      "                                np.histogram(sync_time_ns[np.where(is_ph & (sweep_idxs == sweep_idx))], bins=hist_bins)\n",
      "                \n",
      "\n",
      "\n",
      "print 'total_photons in channel', channel, ':', len(sync_time_ns[np.where(is_ph)])  \n",
      "print 'total_photons in window:', len(sync_time_ns[np.where(is_ph & st_fltr)]) \n",
      "print 'total_sweeps in window:', len(valid_tail_idxs) \n",
      "print 'total ph in window with sweep element 0:', len(np.where(valid_tail_idxs==0)[0])\n",
      "print 'div factor:', (reps*syncs_per_sweep/sweep_length)\n",
      "\n",
      "\n",
      "y_err=np.sqrt(tail_cts_per_sweep_idx)/np.sqrt((reps*syncs_per_sweep/sweep_length))\n",
      "\n",
      "print '\\nStart at {} ns, with length = {} ns'.format(start_ns, tail_length_ns)\n",
      "print 'tail counts: {:.2f} +/- {:.2f} *1e-4 cts per shot'.format(tail_cts_per_sweep_idx[0]*1e4,y_err[0]*1e4)\n",
      "\n",
      "\n",
      "print sync_time_ns[:20]"
     ],
     "language": "python",
     "metadata": {},
     "outputs": []
    },
    {
     "cell_type": "code",
     "collapsed": false,
     "input": [
      "fig = plt.figure(figsize = (6,4))\n",
      "ax = fig.add_subplot(1, 1, 1)\n",
      "\n",
      "y_err=np.sqrt(tail_cts_per_sweep_idx)/np.sqrt((reps*syncs_per_sweep/sweep_length))\n",
      "\n",
      "print 'tail counts: {:.2f} +/- {:.2f} *1e-4 cts per shot'.format(tail_cts_per_sweep_idx[0]*1e4,y_err[0]*1e4)\n",
      "\n",
      "ax.errorbar(sweep_pts, tail_cts_per_sweep_idx*1e4, fmt='o',yerr=y_err*1e4)\n",
      "  \n",
      "ax.set_xlabel('aom_amplitude')\n",
      "ax.set_ylabel('Tail counts per shot * 10^-4')\n",
      "ax.set_title(os.path.basename(folder)+'_'+os.path.basename(h5filepath))\n",
      "text = 'start @ {} ns\\nchannel {}'.format(start_ns, channel)\n",
      "#ax.text(0.4, 1,text , fontsize=14, style = 'italic')\n",
      "\n",
      "log_plot = True\n",
      "fig = plt.figure(figsize = (6,4))\n",
      "ax = fig.add_subplot(1, 1, 1)\n",
      "\n",
      "xx=tail_hist_b[:-1]\n",
      "yy=np.sum(tail_hist_h, axis=0)\n",
      "yy =tail_hist_h[0]\n",
      "if log_plot:\n",
      "    ax.semilogy(xx,yy,'-', color = 'k')\n",
      "else:\n",
      "    ax.plot(xx,yy)\n",
      "    \n",
      "#ax.bar(xx,yy)\n",
      "#ax.colorbar()\n",
      "ax.set_xlabel('Time after sync [ns]')\n",
      "ax.set_ylabel('Counts')\n"
     ],
     "language": "python",
     "metadata": {},
     "outputs": []
    },
    {
     "cell_type": "code",
     "collapsed": false,
     "input": [
      "from analysis.lib.fitting import fit, common, rabi\n",
      "ax=a.plot_tail_cts_vs_sweep(save=False, ret='ax')\n",
      "x=a.g.attrs['general_sweep_pts']\n",
      "y=a.tail_cts_per_sweep_idx\n",
      "ff = common.fit_parabole\n",
      "#o + A * (x-c)**2\n",
      "#['g_o', 'g_A', 'g_c']\n",
      "args = [0,np.max(y), x[np.argmin(y)]]\n",
      "print args\n",
      "fitres = fit.fit1d(x, y, ff, *args, fixed = [],\n",
      "                   do_print = True, ret = True)\n",
      "plot_pts=100\n",
      "x_p=np.linspace(min(x),max(x),plot_pts)\n",
      "if fitres['success']:\n",
      "    f_p = fitres['fitfunc'](x_p)*1e4\n",
      "    ax.plot(x_p,f_p)"
     ],
     "language": "python",
     "metadata": {},
     "outputs": []
    },
    {
     "cell_type": "code",
     "collapsed": false,
     "input": [
      "from analysis.lib.fitting import fit, common, rabi\n",
      "from analysis.lib.tools import plot\n",
      "fig, ax = plt.subplots(1,1, figsize=(4.5,4))\n",
      "fs=zeros(a.sweep_length)\n",
      "taus = zeros(a.sweep_length)\n",
      "for i in range(a.sweep_length):\n",
      "    x=a.tail_hist_b[:-1]        \n",
      "    y=a.tail_hist_h[i]\n",
      "    fit_result = fit.fit1d(x, y, rabi.fit_rabi_damped_exp_with_offset, \n",
      "            1/5.,1000,0,10., x[0], ret = True, color = 'r', linewidth = 2.0)\n",
      "    fs[i] = fit_result['params_dict']['f']\n",
      "    taus[i] = fit_result['params_dict']['tau']\n",
      "    plot.plot_fit1d(fit_result, np.linspace(x[0],x[-1],201), ax=ax,\n",
      "        plot_data=True, print_info=False)\n",
      "fig, ax = plt.subplots(1,1, figsize=(4.5,4))\n",
      "#print taus, fs\n",
      "ax.plot(a.sweep_pts, fs)\n",
      "fig, ax = plt.subplots(1,1, figsize=(4.5,4))\n",
      "ax.plot(a.sweep_pts, taus)\n"
     ],
     "language": "python",
     "metadata": {},
     "outputs": []
    },
    {
     "cell_type": "code",
     "collapsed": false,
     "input": [
      "\n",
      "folder=tb.latest_data('32_deg')\n",
      "name = 'adwindata'\n",
      "TH_or_HH = 'TH'\n",
      "a = pqsequence.TailAnalysis(folder, hdf5_mode='r')#, pq_folder='bs_remote')\n",
      "a.get_cr_results(name,plot= True)\n",
      "a.get_sweep_pts()\n",
      "a.plot_cr_vs_sweep()"
     ],
     "language": "python",
     "metadata": {},
     "outputs": []
    },
    {
     "cell_type": "code",
     "collapsed": false,
     "input": [
      "execfile(r'D:\\measuring\\analysis\\scripts\\setup_analysis.py')\n",
      "#folder=tb.latest_data('Bell')\n",
      "folder=tb.data_from_time('20141012023031')\n",
      "#folder=r'D:\\measuring\\data\\20140519\\192030_Bell_lt3_tailS_The111no2_SIL1_Ey_+11deg'\n",
      "name = 'ssro'\n",
      "a = pqsequence.TailAnalysis(folder, hdf5_mode='r', pq_folder='bs_remote')\n",
      "a.reps=200000\n",
      "a.plot_histogram(0, start=5.350e6, length=1000000, hist_binsize=1000, save=False)"
     ],
     "language": "python",
     "metadata": {},
     "outputs": []
    },
    {
     "cell_type": "code",
     "collapsed": false,
     "input": [
      "from analysis.lib.pq import pq_tools\n",
      "reload(pq_tools)"
     ],
     "language": "python",
     "metadata": {},
     "outputs": []
    },
    {
     "cell_type": "code",
     "collapsed": false,
     "input": [
      "fltr0=pq_tools.filter_synctimes(a.pqf, 5371.5e3, 5397e3,15,600e3)\n",
      "fltr1=pq_tools.filter_synctimes(a.pqf, 5374e3, 5399.5e3,15,600e3)\n",
      "cs=pq_tools.get_coincidences(a.pqf, fltr0, fltr1)\n",
      "dts_ns = cs[:,0]*1e-3\n",
      "len(cs)"
     ],
     "language": "python",
     "metadata": {},
     "outputs": []
    },
    {
     "cell_type": "code",
     "collapsed": false,
     "input": [
      "binsize=10\n",
      "G2_BINEDGES = arange(-19000,19000,binsize)\n",
      "#G2_BINEDGES = np.hstack((arange(-700,-500,binsize),arange(-100,100,binsize),arange(500,700,binsize)))\n",
      "#print G2_BINEDGES\n",
      "figure(figsize=(20,5))\n",
      "b_=hist(dts_ns, bins=G2_BINEDGES)"
     ],
     "language": "python",
     "metadata": {},
     "outputs": []
    },
    {
     "cell_type": "code",
     "collapsed": false,
     "input": [
      "execfile(r'D:\\measuring\\analysis\\scripts\\setup_analysis.py')\n",
      "folder=tb.latest_data('Bell')\n",
      "folder=tb.data_from_time('20140710153945')\n",
      "a = sequence.SequenceAnalysis(folder)\n",
      "a.get_cr_results(name)\n",
      "a.get_sweep_pts()\n",
      "a.plot_cr_vs_sweep()\n",
      "a.finish()"
     ],
     "language": "python",
     "metadata": {},
     "outputs": []
    },
    {
     "cell_type": "code",
     "collapsed": false,
     "input": [
      "from analysis.lib.fitting import fit, common\n",
      "from analysis.lib.tools import plot\n",
      "fig, ax = plt.subplots(1,1, figsize=(4.5,4))\n",
      "fs=np.zeros(a.sweep_length)\n",
      "taus = np.zeros(a.sweep_length)\n",
      "for i in range(a.sweep_length):\n",
      "    x=a.tail_hist_b[:-1]        \n",
      "    y=a.tail_hist_h[i]\n",
      "    p0, fitfunc, fitfunc_str = common.fit_general_exponential(0.,300,5427.,2., 2.)\n",
      "#     ax.plot(np.linspace(x[0],x[-1],201), fitfunc(np.linspace(x[0],x[-1],201)), ':', lw=2)\n",
      "    fit_result = fit.fit1d(x, y, None, p0=p0, fitfunc=fitfunc, \n",
      "            ret = True, color = 'r', linewidth = 2.0,fixed=[4],do_print=True)\n",
      "    \n",
      "    plot.plot_fit1d(fit_result, np.linspace(x[0],x[-1],201), ax=ax,\n",
      "        plot_data=True, print_info=True)\n",
      "#     fs[i] = fit_result['params_dict']['f']\n",
      "#     taus[i] = fit_result['params_dict']['tau']\n",
      "# fig, ax = plt.subplots(1,1, figsize=(4.5,4))\n",
      "# #print taus, fs\n",
      "# ax.plot(a.sweep_pts, fs)\n",
      "# fig, ax = plt.subplots(1,1, figsize=(4.5,4))\n",
      "# ax.plot(a.sweep_pts, taus)"
     ],
     "language": "python",
     "metadata": {},
     "outputs": []
    },
    {
     "cell_type": "code",
     "collapsed": false,
     "input": [
      "624-166"
     ],
     "language": "python",
     "metadata": {},
     "outputs": []
    },
    {
     "cell_type": "code",
     "collapsed": false,
     "input": [
      "tau = 10.886 # us\n",
      "NPulse = 12\n",
      "C13Gate = 2*NPulse*tau\n",
      "trigger = 467.623 # us\n",
      "phase_gate = 8*2*0.161\n",
      "avg_rep_time = 0.22\n",
      "duration_in_awg = 1+2*C13Gate+phase_gate+trigger + avg_rep_time\n",
      "print duration_in_awg"
     ],
     "language": "python",
     "metadata": {},
     "outputs": []
    },
    {
     "cell_type": "code",
     "collapsed": true,
     "input": [],
     "language": "python",
     "metadata": {},
     "outputs": []
    }
   ],
   "metadata": {}
  }
 ]
}