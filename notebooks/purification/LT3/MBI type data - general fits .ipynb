{
 "metadata": {
  "kernelspec": {
   "display_name": "Python 2",
   "language": "python",
   "name": "python2"
  },
  "language_info": {
   "codemirror_mode": {
    "name": "ipython",
    "version": 2
   },
   "file_extension": ".py",
   "mimetype": "text/x-python",
   "name": "python",
   "nbconvert_exporter": "python",
   "pygments_lexer": "ipython2",
   "version": "2.7.3"
  },
  "name": ""
 },
 "nbformat": 3,
 "nbformat_minor": 0,
 "worksheets": [
  {
   "cells": [
    {
     "cell_type": "heading",
     "level": 2,
     "metadata": {},
     "source": [
      "General fits for MBI type data"
     ]
    },
    {
     "cell_type": "code",
     "collapsed": false,
     "input": [
      "import sys\n",
      "import numpy as np\n",
      "\n",
      "sys.path.append(r'D:/measuring')\n",
      "sys.path.append(r'D:/measuring/analysis')\n",
      "\n",
      "from analysis.scripts.mbi import mbi_data_general_fits as fits; reload(fits)\n",
      "%matplotlib inline\n"
     ],
     "language": "python",
     "metadata": {},
     "outputs": []
    },
    {
     "cell_type": "code",
     "collapsed": false,
     "input": [
      "reload(fits)\n",
      "Result = fits.exp_sin(timestamp=None, contains = '_N_1_',\n",
      "                      offset=[0.5], amplitude = [.5], center = [0], decay_constant = [0.8], \n",
      "                      exp_power = [2],\n",
      "                      frequency = [0.00001], phase =[0.], \n",
      "                      fixed = [],\n",
      "                      ylim = None,\n",
      "                      plot_fit = True, do_print = True, show_guess = True)\n",
      "# Result[0]['params_dict']['f']*360\n",
      "#### params\n",
      "# 0: offset ; \n",
      "# 1: amplitude;mbi\n",
      "# 2: center;\n",
      "# 3: decay_constant; \n",
      "# 4: exp_power ; \n",
      "# 5: frequency ; \n",
      "# 6: phase"
     ],
     "language": "python",
     "metadata": {
      "scrolled": false
     },
     "outputs": []
    },
    {
     "cell_type": "code",
     "collapsed": false,
     "input": [
      "reload(fits)\n",
      "Result = fits.general_exponential(timestamp=None, contains = '071120',\n",
      "                      offset=0.5, amplitude = .5, center = 0., decay_constant = 0.8, \n",
      "                      exp_power = 2.,\n",
      "                      fixed = [0,1],\n",
      "                      ylim = None,\n",
      "                      plot_fit = False, do_print = True, show_guess = False)\n",
      "Result"
     ],
     "language": "python",
     "metadata": {},
     "outputs": []
    },
    {
     "cell_type": "heading",
     "level": 3,
     "metadata": {},
     "source": [
      "Two frequencies"
     ]
    },
    {
     "cell_type": "code",
     "collapsed": false,
     "input": [
      "reload(fits)\n",
      "Result = fits.exp_sin(timestamp=None, contains = '',\n",
      "                      offset=[0.5], amplitude = [0.5, 0.5], center = [0]*2, decay_constant = [10]*2,\n",
      "                      frequency = [432835.,432835 + 30e3], phase=[-90,280],#[1/(750e-9),1/(750e-9)-1/(1e-6)], phase =[0]*2, \n",
      "                      fixed = [0,2],\n",
      "                      ylim = None,\n",
      "                      plot_fit = True, do_print = True, show_guess = True)\n",
      "# (offset[0],amplitude[0],decay_constant[0],amplitude[0],\n",
      "# frequency[0],  phase[0], amplitude[1], frequency[1],  phase[1])\n"
     ],
     "language": "python",
     "metadata": {
      "scrolled": false
     },
     "outputs": []
    },
    {
     "cell_type": "code",
     "collapsed": false,
     "input": [
      "np.linspace(0,540,20)%360"
     ],
     "language": "python",
     "metadata": {},
     "outputs": []
    },
    {
     "cell_type": "code",
     "collapsed": true,
     "input": [],
     "language": "python",
     "metadata": {},
     "outputs": []
    }
   ],
   "metadata": {}
  }
 ]
}