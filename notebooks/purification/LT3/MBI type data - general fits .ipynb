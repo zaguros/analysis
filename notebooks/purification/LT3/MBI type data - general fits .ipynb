{
 "cells": [
  {
   "cell_type": "markdown",
   "metadata": {},
   "source": [
    "## General fits for MBI type data"
   ]
  },
  {
   "cell_type": "code",
   "execution_count": null,
   "metadata": {
    "collapsed": false
   },
   "outputs": [],
   "source": [
    "import sys\n",
    "import numpy as np\n",
    "\n",
    "sys.path.append(r'D:/measuring')\n",
    "sys.path.append(r'D:/measuring/analysis')\n",
    "\n",
    "from analysis.scripts.mbi import mbi_data_general_fits as fits; reload(fits)\n",
    "%matplotlib inline\n"
   ]
  },
  {
   "cell_type": "code",
   "execution_count": null,
   "metadata": {
    "collapsed": false,
    "scrolled": false
   },
   "outputs": [],
   "source": [
    "reload(fits)\n",
    "Result = fits.exp_sin(timestamp=None, contains = '142421',\n",
    "                      offset=[0.5], amplitude = [.5], center = [0], decay_constant = [200], \n",
    "                      exp_power = [1],\n",
    "                      frequency = [0], phase =[0], \n",
    "                      fixed = [0,2,4,5,6],\n",
    "                      ylim = None,\n",
    "                      plot_fit = True, do_print = True, show_guess = True)\n",
    "# Result[0]['params_dict']['f']*360\n",
    "#### params\n",
    "# 0: offset ; \n",
    "# 1: amplitude;\n",
    "# 2: center;\n",
    "# 3: decay_constant; \n",
    "# 4: exp_power ; \n",
    "# 5: frequency ; \n",
    "# 6: phase"
   ]
  },
  {
   "cell_type": "code",
   "execution_count": null,
   "metadata": {
    "collapsed": true
   },
   "outputs": [],
   "source": []
  },
  {
   "cell_type": "markdown",
   "metadata": {},
   "source": [
    "### Two frequencies"
   ]
  },
  {
   "cell_type": "code",
   "execution_count": null,
   "metadata": {
    "collapsed": false,
    "scrolled": false
   },
   "outputs": [],
   "source": [
    "reload(fits)\n",
    "Result = fits.exp_sin(timestamp=None, contains = 'msm1',\n",
    "                      offset=[0.5], amplitude = [0.6]*2, center = [0]*2, decay_constant = [10]*2, exp_power = [2]*2,\n",
    "                      frequency = [800.,20.], phase=[0,0],#[1/(750e-9),1/(750e-9)-1/(1e-6)], phase =[0]*2, \n",
    "                      fixed = [0,2,3,4],\n",
    "                      ylim = None,\n",
    "                      plot_fit = True, do_print = True, show_guess = True)\n",
    "# (offset[0],amplitude[0],decay_constant[0],amplitude[0],\n",
    "# frequency[0],  phase[0], amplitude[1], frequency[1],  phase[1])\n"
   ]
  },
  {
   "cell_type": "code",
   "execution_count": null,
   "metadata": {
    "collapsed": false
   },
   "outputs": [],
   "source": [
    "np.linspace(0,540,20)%360"
   ]
  },
  {
   "cell_type": "code",
   "execution_count": null,
   "metadata": {
    "collapsed": true
   },
   "outputs": [],
   "source": []
  }
 ],
 "metadata": {
  "kernelspec": {
   "display_name": "Python 2",
   "language": "python",
   "name": "python2"
  },
  "language_info": {
   "codemirror_mode": {
    "name": "ipython",
    "version": 2
   },
   "file_extension": ".py",
   "mimetype": "text/x-python",
   "name": "python",
   "nbconvert_exporter": "python",
   "pygments_lexer": "ipython2",
   "version": "2.7.3"
  }
 },
 "nbformat": 4,
 "nbformat_minor": 0
}
