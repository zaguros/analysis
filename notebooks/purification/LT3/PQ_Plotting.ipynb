{
 "cells": [
  {
   "cell_type": "code",
   "execution_count": null,
   "metadata": {
    "collapsed": false
   },
   "outputs": [],
   "source": [
    "execfile(r'D:\\measuring\\analysis\\scripts\\setup_analysis.py')\n",
    "%matplotlib inline\n",
    "\n",
    "folder=tb.latest_data('no_Pi')\n",
    "a = pqsequence.TailAnalysis(folder, hdf5_mode='r')"
   ]
  },
  {
   "cell_type": "code",
   "execution_count": null,
   "metadata": {
    "collapsed": false
   },
   "outputs": [],
   "source": [
    "# pq_plots.plot_photon_hist(a.pqf,start =0e3,  length =3000e3, hist_binsize = 1e3, save = False, log=False)\n",
    "pq_plots.plot_marker_filter_comparison(\n",
    "    a.pqf,start =1750e3,mrkr_chan = 1,#,2.41E6,#+0.5e6,  \n",
    "    length = 0.3E6, \n",
    "    hist_binsize = 1e3, \n",
    "    save = False, \n",
    "    log=True)"
   ]
  },
  {
   "cell_type": "code",
   "execution_count": null,
   "metadata": {
    "collapsed": false
   },
   "outputs": [],
   "source": [
    "pq_plots.plot_photon_hist(a.pqf,start =0,  length =7000, hist_binsize = 1, save = False, log=False)"
   ]
  },
  {
   "cell_type": "code",
   "execution_count": null,
   "metadata": {
    "collapsed": true
   },
   "outputs": [],
   "source": []
  }
 ],
 "metadata": {
  "kernelspec": {
   "display_name": "Python 2",
   "language": "python",
   "name": "python2"
  },
  "language_info": {
   "codemirror_mode": {
    "name": "ipython",
    "version": 2
   },
   "file_extension": ".py",
   "mimetype": "text/x-python",
   "name": "python",
   "nbconvert_exporter": "python",
   "pygments_lexer": "ipython2",
   "version": "2.7.3"
  }
 },
 "nbformat": 4,
 "nbformat_minor": 0
}
