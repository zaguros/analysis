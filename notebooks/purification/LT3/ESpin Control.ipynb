{
 "metadata": {
  "kernelspec": {
   "display_name": "Python 2",
   "language": "python",
   "name": "python2"
  },
  "language_info": {
   "codemirror_mode": {
    "name": "ipython",
    "version": 2
   },
   "file_extension": ".py",
   "mimetype": "text/x-python",
   "name": "python",
   "nbconvert_exporter": "python",
   "pygments_lexer": "ipython2",
   "version": "2.7.3"
  },
  "name": ""
 },
 "nbformat": 3,
 "nbformat_minor": 0,
 "worksheets": [
  {
   "cells": [
    {
     "cell_type": "code",
     "collapsed": false,
     "input": [
      "execfile(r'D:\\measuring\\analysis\\scripts\\setup_analysis.py')\n",
      "%matplotlib inline\n",
      "import matplotlib as mpl\n",
      "mpl.rc(\"savefig\", dpi=100)"
     ],
     "language": "python",
     "metadata": {
      "scrolled": true
     },
     "outputs": []
    },
    {
     "cell_type": "code",
     "collapsed": false,
     "input": [
      "reload(ssro)\n",
      "ssro.ssrocalib(plot_photon_ms0=False)"
     ],
     "language": "python",
     "metadata": {
      "scrolled": false
     },
     "outputs": []
    },
    {
     "cell_type": "code",
     "collapsed": false,
     "input": [
      "reload(ssro)\n",
      "ssro.ssrocalib_MWInit(plot_photon_ms0=False)"
     ],
     "language": "python",
     "metadata": {
      "scrolled": false
     },
     "outputs": []
    },
    {
     "cell_type": "heading",
     "level": 1,
     "metadata": {},
     "source": [
      "DARKESR"
     ]
    },
    {
     "cell_type": "code",
     "collapsed": false,
     "input": [
      "execfile(r'D:\\measuring\\analysis\\scripts\\espin\\dark_esr_analysis_purification.py')"
     ],
     "language": "python",
     "metadata": {
      "scrolled": false
     },
     "outputs": []
    },
    {
     "cell_type": "heading",
     "level": 1,
     "metadata": {},
     "source": [
      "Pi pulses"
     ]
    },
    {
     "cell_type": "code",
     "collapsed": false,
     "input": [
      "from analysis.scripts.bell import calibration_tools\n",
      "reload(calibration_tools)\n",
      "folder=tb.latest_data('Pi_Calibration')\n",
      "print folder\n",
      "fig, ax = plt.subplots(1,1, figsize=(4.5,4))\n",
      "fit=calibration_tools.fit_parabolic(folder, x0_guess=0.95,a_guess=0,of_guess=0, ax=ax)#, info_xy=(0.88,ymin-(ymax-ymin)*0.35))\n",
      "# fit_result=calibration_tools.plot_result(folder, ax=ax, ret=True)\n",
      "#ax.set_ylim(0,1.)\n",
      "print 'fitted infidelity', 1-fit['params'][0]\n",
      "print 'Fitted minimum at ', fit['params'][2]"
     ],
     "language": "python",
     "metadata": {
      "scrolled": false
     },
     "outputs": []
    },
    {
     "cell_type": "heading",
     "level": 1,
     "metadata": {},
     "source": [
      "Pi/2"
     ]
    },
    {
     "cell_type": "code",
     "collapsed": false,
     "input": [
      "execfile(r'D:\\measuring\\analysis\\scripts\\espin\\calibration_pi2_CORPSE.py')"
     ],
     "language": "python",
     "metadata": {
      "scrolled": false
     },
     "outputs": []
    },
    {
     "cell_type": "heading",
     "level": 1,
     "metadata": {},
     "source": [
      "Electron T1"
     ]
    },
    {
     "cell_type": "code",
     "collapsed": false,
     "input": [
      "### no RO correction\n",
      "from analysis.lib.fitting import fit\n",
      "folder= tb.latest_data('_0_')\n",
      "a=sequence.SequenceAnalysis(folder)\n",
      "a.get_sweep_pts()\n",
      "a.get_readout_results(name='ssro')\n",
      "a.get_electron_ROC()\n",
      "ax = a.plot_result_vs_sweepparam(ret='ax', name='ssro')\n",
      "ax.set_ylim(0.0,1.0)\n",
      "y = a.p0\n",
      "p0,fitfunc,fitfunc_str = common.fit_exp_decay_with_offset(0.3,0.7,50e3)\n",
      "fit_result = fit.fit1d(a.sweep_pts,y,None,p0=p0,fitfunc=fitfunc,do_print=True,fixed=[0],ret=True)\n",
      "plot.plot_fit1d(fit_result,np.linspace(a.sweep_pts[0],a.sweep_pts[-1],100),ax=ax,plot_data=False)\n",
      "print 'minimal point:',a.sweep_pts[np.argmin(a.normalized_ssro)]"
     ],
     "language": "python",
     "metadata": {},
     "outputs": []
    },
    {
     "cell_type": "heading",
     "level": 1,
     "metadata": {},
     "source": [
      "PM Sweep"
     ]
    },
    {
     "cell_type": "code",
     "collapsed": false,
     "input": [
      "from analysis.scripts.bell import calibration_tools\n",
      "reload(calibration_tools)\n",
      "folder=tb.latest_data('PMrisetime')\n",
      "fig, ax = plt.subplots(1,1, figsize=(4.5,4))\n",
      "fit=calibration_tools.plot_result(folder, ax=ax)\n",
      "#fit=calibration_tools.fit_parabolic(folder, x0_guess=1e-9,a_guess=-2e14,of_guess=0.02, ax=ax, info_xy=(-5e-9,-0.02))\n",
      "#fit_result=calibration_tools.plot_result(folder, ax=ax, ret=True)\n",
      "ax.set_ylim(0,1.)"
     ],
     "language": "python",
     "metadata": {},
     "outputs": []
    },
    {
     "cell_type": "heading",
     "level": 1,
     "metadata": {
      "collapsed": true
     },
     "source": [
      "Theta pulse"
     ]
    },
    {
     "cell_type": "code",
     "collapsed": false,
     "input": [
      "from analysis.scripts.bell import calibration_tools\n",
      "reload(calibration_tools)\n",
      "folder=tb.latest_data('theta')\n",
      "print folder\n",
      "fig, ax = plt.subplots(1,1, figsize=(4.5,4))\n",
      "fit=calibration_tools.fit_parabolic(folder, x0_guess=0.82,a_guess=0,of_guess=0, ax=ax,fixed = [])\n",
      "print fit['fitfunc_str']\n",
      "print fit['params_dict']"
     ],
     "language": "python",
     "metadata": {},
     "outputs": []
    },
    {
     "cell_type": "heading",
     "level": 2,
     "metadata": {
      "collapsed": true
     },
     "source": [
      "Electron Rabi"
     ]
    },
    {
     "cell_type": "code",
     "collapsed": false,
     "input": [
      "from analysis.scripts.bell import calibration_tools\n",
      "reload(calibration_tools)\n",
      "folder=tb.latest_data('Rabi')\n",
      "print folder\n",
      "fig, ax = plt.subplots(1,1, figsize=(4.5,4))\n",
      "fit=calibration_tools.fit_rabi(folder, f_guess=0.875,A_guess=0,fit_phi = False, ax=ax)\n",
      "print fit['fitfunc_str']\n",
      "print fit['params_dict']"
     ],
     "language": "python",
     "metadata": {},
     "outputs": []
    },
    {
     "cell_type": "code",
     "collapsed": true,
     "input": [],
     "language": "python",
     "metadata": {},
     "outputs": []
    }
   ],
   "metadata": {}
  }
 ]
}
