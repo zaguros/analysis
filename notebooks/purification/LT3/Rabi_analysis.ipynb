{
 "cells": [
  {
   "cell_type": "code",
   "execution_count": null,
   "metadata": {
    "collapsed": false
   },
   "outputs": [],
   "source": [
    "execfile(r'D:\\measuring\\analysis\\scripts\\setup_analysis.py')\n",
    "%matplotlib inline\n",
    "\n",
    "folder=tb.latest_data('164501', folder ='Y:\\data')\n",
    "\n",
    "analyze_lt3 = False\n",
    "# lt3 vs lt4 PSB\n",
    "name = 'adwindata'\n",
    "a = pqsequence.TailAnalysis(folder, hdf5_mode='r')#, pq_folder='bs_remote')\n",
    "\n",
    "a.get_sweep_pts()\n",
    "#a.sweep_pts = a.g.attrs['aom_amplitude']\n",
    "a.get_sweep_idxs(noof_syncs_per_sweep_pt=250)\n",
    "a.get_readout_results(name)\n",
    "if analyze_lt3:\n",
    "    a.get_tail_vs_sweep(0,2720,100, pq_binsize_ns=1, hist_binsize_ns=1.,verbose=True)\n",
    "else:\n",
    "    a.get_tail_vs_sweep(1,2790,100, pq_binsize_ns=1, hist_binsize_ns=1.,verbose=True)\n",
    "    \n"
   ]
  },
  {
   "cell_type": "code",
   "execution_count": null,
   "metadata": {
    "collapsed": false
   },
   "outputs": [],
   "source": [
    "if analyze_lt3:\n",
    "    pulse_start = 2757\n",
    "else:\n",
    "    pulse_start = 2800\n",
    "fit_length = 35\n",
    "\n",
    "x=a.tail_hist_b[:-1] \n",
    "y= a.tail_hist_h.squeeze()\n",
    "\n",
    "arg_start = np.argmin(abs(x-pulse_start))\n",
    "arg_end = np.argmin(abs(x-pulse_start-fit_length))\n",
    "\n",
    "offset =  x[arg_start] \n",
    "x_for_fit=x[arg_start:arg_end] -  offset\n",
    "y_for_fit=y[arg_start:arg_end]\n",
    "\n",
    "### create a plot\n",
    "fig = plt.figure(figsize =(7,7))\n",
    "ax1 = fig.add_subplot(211)\n",
    "if analyze_lt3:\n",
    "    plt.title(a.default_plot_title + ', LT3 analysis')\n",
    "else:\n",
    "    plt.title(a.default_plot_title + ', LT4 analysis')\n",
    "   \n",
    "plt.xlabel('Time (ns)')\n",
    "plt.ylabel('Counts')\n",
    "\n",
    "ax2 = fig.add_subplot(212)\n",
    "plt.xlabel('Time (ns)')\n",
    "plt.ylabel('Counts')\n",
    "\n",
    "## plot data\n",
    "ax1.plot(x,y,linewidth = 2)\n",
    "ax2.plot(x_for_fit,y_for_fit,'b.',markersize =8)\n",
    "\n",
    "def fit_rabi(g_f, g_A, g_x0, g_phi,g_t1,g_t2):\n",
    "    fitfunc_str = 'A *(exp(-x/t1) cos(2pi * (f*x + phi/360) ) + 1)*exp(-x/t2)'\n",
    "\n",
    "    f = fit.Parameter(g_f, 'f')\n",
    "    A = fit.Parameter(g_A, 'A')\n",
    "    x0 = fit.Parameter(g_x0, 'x0')\n",
    "    phi = fit.Parameter(g_phi, 'phi')\n",
    "    t1   = fit.Parameter(g_t1, 't1')\n",
    "    t2   = fit.Parameter(g_t2, 't2')\n",
    "    p0 = [f, A,x0,phi,t1,t2]\n",
    "\n",
    "    def fitfunc(x):\n",
    "        return A()*(np.exp(-(x-x0())/t1()) * np.cos(2*np.pi*( f()*(x-x0()) + phi()/360.))+1)*np.exp(-(x-x0())/t2())\n",
    "\n",
    "    return p0, fitfunc, fitfunc_str\n",
    "\n",
    "\n",
    "def fit_rabi_2(g_f, g_A,g_x0, g_phi,g_t1):\n",
    "    fitfunc_str = 'A*(exp(-x/t1) cos(2pi * (f*x + phi/360) ) +1)'\n",
    "\n",
    "    f = fit.Parameter(g_f, 'f')\n",
    "    A = fit.Parameter(g_A, 'A')\n",
    "    x0 = fit.Parameter(g_x0, 'x0')\n",
    "    phi = fit.Parameter(g_phi, 'phi')\n",
    "    t1   = fit.Parameter(g_t1, 't1')\n",
    "    p0 = [f, A,x0,phi,t1]\n",
    "\n",
    "    def fitfunc(x):\n",
    "        return (A()*(np.exp(-(x-x0())/t1()) * np.cos(2*np.pi*( f()*(x-x0()) + phi()/360.))+1))\n",
    "\n",
    "    return p0, fitfunc, fitfunc_str\n",
    "\n",
    "#p0, fitfunc, fitfunc_str = common.fit_decaying_cos(0.15, 1e4, 1e4, 170,20)\n",
    "# 'A *exp(-x/t) cos(2pi * (f*x + phi/360) ) + a'\n",
    "# g_f, g_a, g_A, g_phi,g_t\n",
    "\n",
    "p0, fitfunc, fitfunc_str = fit_rabi(0.03, 1.1e4,0, 180,15,200)\n",
    "\n",
    "#p0, fitfunc, fitfunc_str = fit_rabi_2(0.03, 0.7e4,0,180,16)\n",
    "\n",
    "show_guess = True\n",
    "if show_guess:\n",
    "    # print decay\n",
    "    ax1.plot(np.linspace(x_for_fit[0]+offset,x_for_fit[-1]+offset,201), fitfunc(np.linspace(x_for_fit[0],x_for_fit[-1],201)), ':', lw=2)\n",
    "    ax2.plot(np.linspace(x_for_fit[0],x_for_fit[-1],201), fitfunc(np.linspace(x_for_fit[0],x_for_fit[-1],201)), ':', lw=2)\n",
    "\n",
    "fit_result = fit.fit1d(x_for_fit, y_for_fit, None, p0=p0, fitfunc=fitfunc, \n",
    "        ret = True,fixed=[3,4],do_print=True)\n",
    "\n",
    "if isinstance(fit_result, int):\n",
    "    print \"Fit failed!\"\n",
    "else: \n",
    "    ax1.plot(np.linspace(x_for_fit[0]+offset,x_for_fit[-1]+offset,201), fit_result['fitfunc'](np.linspace(x_for_fit[0],x_for_fit[-1],201)),'r')\n",
    "    ax2.plot(np.linspace(x_for_fit[0],x_for_fit[-1],201),fit_result['fitfunc'](np.linspace(x_for_fit[0],x_for_fit[-1],201)),'r')"
   ]
  },
  {
   "cell_type": "code",
   "execution_count": null,
   "metadata": {
    "collapsed": false
   },
   "outputs": [],
   "source": [
    "1-16/62."
   ]
  },
  {
   "cell_type": "code",
   "execution_count": null,
   "metadata": {
    "collapsed": false
   },
   "outputs": [],
   "source": [
    "lt3_rabi_freq = [0.125,0.110,0.033,0.188]\n",
    "lt3_tau = [16.8,17.6,20.5,13.8]\n",
    "\n",
    "lt4_rabi_freq = [0.167,0.159,0.040,0.218,0.057,0.123,0.298,0.266,0.087]\n",
    "lt4_tau = [13.7,15.7,21.8,10.5,19.5,18.6,11.8,12.5,18.2]\n",
    "\n",
    "\n",
    "### create a plot\n",
    "fig = plt.figure(figsize =(7,10))\n",
    "ax1 = fig.add_subplot(211)\n",
    "\n",
    "plt.xlabel('Rabi frequency (GHz)')\n",
    "plt.ylabel('Decay constant (ns)')\n",
    "lt3_plot = plt.scatter(lt3_rabi_freq,lt3_tau)\n",
    "lt4_plot = plt.scatter(lt4_rabi_freq,lt4_tau,marker='x')\n",
    "plt.legend([lt3_plot,lt4_plot],['LT3','LT4'])\n",
    "plt.show()"
   ]
  },
  {
   "cell_type": "code",
   "execution_count": null,
   "metadata": {
    "collapsed": true
   },
   "outputs": [],
   "source": [
    "#### just to get a clearer picture here is the textbook solution for a coherence decay limited by spont. emission.\n",
    "\n"
   ]
  }
 ],
 "metadata": {
  "kernelspec": {
   "display_name": "Python 2",
   "language": "python",
   "name": "python2"
  },
  "language_info": {
   "codemirror_mode": {
    "name": "ipython",
    "version": 2
   },
   "file_extension": ".py",
   "mimetype": "text/x-python",
   "name": "python",
   "nbconvert_exporter": "python",
   "pygments_lexer": "ipython2",
   "version": "2.7.3"
  }
 },
 "nbformat": 4,
 "nbformat_minor": 0
}
