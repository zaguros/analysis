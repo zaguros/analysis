{
 "metadata": {
  "kernelspec": {
   "display_name": "Python 2",
   "language": "python",
   "name": "python2"
  },
  "language_info": {
   "codemirror_mode": {
    "name": "ipython",
    "version": 2
   },
   "file_extension": ".py",
   "mimetype": "text/x-python",
   "name": "python",
   "nbconvert_exporter": "python",
   "pygments_lexer": "ipython2",
   "version": "2.7.3"
  },
  "name": ""
 },
 "nbformat": 3,
 "nbformat_minor": 0,
 "worksheets": [
  {
   "cells": [
    {
     "cell_type": "code",
     "collapsed": false,
     "input": [
      "execfile(r'D:\\measuring\\analysis\\scripts\\setup_analysis.py')\n",
      "\n",
      "\n",
      "from analysis.scripts.QEC import carbon_ramsey_analysis as cr\n",
      "%matplotlib inline "
     ],
     "language": "python",
     "metadata": {},
     "outputs": []
    },
    {
     "cell_type": "heading",
     "level": 2,
     "metadata": {},
     "source": [
      "Raw pos/neg data analysis"
     ]
    },
    {
     "cell_type": "code",
     "collapsed": false,
     "input": [
      "from analysis.scripts.QEC import Two_Qubit_Tomography as Tomo2\n",
      "\n",
      "tag = '_tau0_6.356e-06_part5_'\n",
      "\n",
      "\n",
      "Tomo2.BarPlotTomoContrast(tag = tag,return_data = False)\n",
      "        "
     ],
     "language": "python",
     "metadata": {},
     "outputs": []
    },
    {
     "cell_type": "heading",
     "level": 2,
     "metadata": {},
     "source": [
      "Gate calibration"
     ]
    },
    {
     "cell_type": "code",
     "collapsed": false,
     "input": [
      "### Gate calibration, Version 3: Try a set of 9 tau,N combinations to find optimum1\n",
      "\n",
      "from analysis.scripts.QEC import Carbon_gate_calibration_v2 as carbon_calib_v2; reload(carbon_calib_v2)\n",
      "\n",
      "#carbon_calib_v2.get_gate_fidelity(carbon = 1,older_than='20151214_135000')\n",
      "#carbon_calib_v2.get_gate_fidelity(carbon = 2)\n",
      "carbon_calib_v2.get_gate_fidelity(carbon = 3,older_than= None)\n",
      "\n"
     ],
     "language": "python",
     "metadata": {},
     "outputs": []
    },
    {
     "cell_type": "heading",
     "level": 1,
     "metadata": {},
     "source": [
      "Gate Calibration Multiple Taus"
     ]
    },
    {
     "cell_type": "code",
     "collapsed": false,
     "input": [
      "import sys\n",
      "import os\n",
      "sys.path.append(r'D:/measuring/analysis/scripts/purification')\n",
      "\n",
      "%matplotlib inline \n",
      "import Carbon_gate_calibration_vP as ccP\n",
      "reload(ccP)\n",
      "\n",
      "'''\n",
      "Analysis script to analyze gate calibrations\n",
      "\n",
      "Usage\n",
      "The function allows 3 types of graphs which can be turned on and off by setting the following keywords to true:\n",
      "1.) plot_fidelity: Plots fidelity bar graphs\n",
      "2.) plot_gate_time: Plots gate time (N*tau) vs. fidelity\n",
      "3.) line_fidelity: Plots a line graph of version one for compactness\n",
      "\n",
      "To only look at a specific number of taus, specify tau_nrs. Ex: tau_nrs = [0,3]\n",
      "To only view specific parts specify parts. Ex: parts = [1]\n",
      "\n",
      "Comparison of different taus is in progress\n",
      "'''\n",
      "\n",
      "# gates1, gate_values1, b1, b_u1 = ccP.get_gate_fidelity(carbon = 5, \n",
      "#             newer_than='20160128_090000', older_than= None, tau_nrs = [0],\n",
      "#             plot_fidelity = False, gate_time = False, return_data = True, line_fidelity = False, ssro_tstamp = '180819')\n",
      "# gates2, gate_values2, b2, b_u2 = ccP.get_gate_fidelity(carbon = 5, \n",
      "#             newer_than='20160127_180000', older_than= '20160127_230000', tau_nrs = [2],\n",
      "#             plot_fidelity = False, gate_time = False, return_data = True, line_fidelity = False, ssro_tstamp = '180819')\n",
      "# ccP.line_plot_fidelity(gates = [gates1,gates2], gate_values = None, b = [b1,b2],b_u = [b_u1,b_u2])\n",
      "# ccP.plot_gate_time(gates = [gates1,gates2], gate_values =[gate_values1,gate_values2], b = [b1,b2],b_u = [b_u1,b_u2])\n",
      "# ccP.bar_plot_fidelity(gates = gates1, gate_values = gate_values1, b = b1, b_u = b_u1)\n",
      "\n",
      "# See Guide. \n",
      "carbons = [2]\n",
      "for c in carbons:\n",
      "    ccP.gate_sweep_analysis(carbon = c, \n",
      "                            newer_than= '20170516_125130', older_than= '20170516_132739',tau_nrs=[0],\n",
      "                            plot_fidelity = False, gate_time = False, \n",
      "                            return_data = False,uncond_data = False, line_fidelity = True)\n",
      "#  data with error. Long list. newer_than= '20160305_170000', older_than= '20160305_182000',"
     ],
     "language": "python",
     "metadata": {
      "scrolled": false
     },
     "outputs": []
    },
    {
     "cell_type": "code",
     "collapsed": false,
     "input": [
      "### Gate calibration, multiple tau blocks for positive and negative readout\n",
      "import sys\n",
      "import os\n",
      "sys.path.append(r'D:/measuring/analysis/scripts/purification')\n",
      "\n",
      "%matplotlib inline \n",
      "import Carbon_gate_calibration_vP as ccP\n",
      "reload(ccP)\n",
      "\n",
      "fig = plt.figure()\n",
      "# ccP.get_gate_fidelity(carbon = 5, newer_than='20160123_114000', older_than= '20160123_200000', tau_nrs = [0,1,2,3],\n",
      "#                      plot_fidelity = False, plot_gate_time = True)\n",
      "# ccP.get_gate_fidelity(carbon = 5, newer_than='20160128_090000', older_than= None, tau_nrs = [0],\n",
      "#                      plot_fidelity = False, plot_gate_time = False,plot_graph=True)#, ssro_tstamp = '180407')\n",
      "x1,y1,y1_u=ccP.get_gate_fidelity(carbon = 5, newer_than='20160128_090000', older_than= None, tau_nrs = [2],\n",
      "                     plot_fidelity = False, plot_gate_time = False,plot_graph = False)#, ssro_tstamp = '180407')\n",
      "x2,y2,y2_u=ccP.get_gate_fidelity(carbon = 5, newer_than='20160127_180000', older_than= '20160127_230000', tau_nrs = [2],\n",
      "                      plot_fidelity = False, plot_gate_time = False,plot_graph = False)#, ssro_tstamp = '180407')\n",
      "plt.errorbar(x1,y1,y1_u)\n",
      "plt.errorbar(x2,y2,y2_u)\n"
     ],
     "language": "python",
     "metadata": {},
     "outputs": []
    },
    {
     "cell_type": "code",
     "collapsed": false,
     "input": [
      "import numpy as np\n",
      "# a = np.arange(10) \n",
      "# print a \n",
      "# a = [x + 0.5 for x in a]\n",
      "# print a\n",
      "\n",
      "# np.arange(10.5)\n",
      "\n",
      "a = [[1,2],[3,4],[5,6],[5,6]]\n",
      "\n",
      "def column(matrix, i):\n",
      "    return [row[i] for row in matrix]\n",
      "\n",
      "b = column(a,1)\n",
      "print set(b)\n",
      "\n",
      "# for i in range(10):\n",
      "#     print i\n",
      "\n",
      "[array([ 0.49337856,  0.38516116,  0.42881862,  0.50293472,  0.57477793,\n",
      "        0.49652835,  0.45806816,  0.37223734,  0.45035392,  0.53954661,\n",
      "        0.38170208,  0.36420275,  0.38601517,  0.52389754,  0.56116538,\n",
      "        0.47264674,  0.42196329,  0.33164542])]"
     ],
     "language": "python",
     "metadata": {},
     "outputs": []
    },
    {
     "cell_type": "heading",
     "level": 2,
     "metadata": {},
     "source": [
      "Frequency Calibration"
     ]
    },
    {
     "cell_type": "code",
     "collapsed": false,
     "input": [
      "### DD frequency calibration ###\n",
      "reload(cr)\n",
      "Result=cr.Carbon_Ramsey_DD_freq(frequency =460e3, offset = 0.5, amplitude = 0.4,exponent=1,carbon= 1,\n",
      "                        decay_constant =0.01,phase =0, plot_fit = True, show_guess = False,fixed = [2,4])"
     ],
     "language": "python",
     "metadata": {
      "scrolled": false
     },
     "outputs": []
    },
    {
     "cell_type": "code",
     "collapsed": false,
     "input": [
      "### Single frequency ###\n",
      "reload(cr)\n",
      "Result=cr.Carbon_Ramsey(title = 'msm0', frequency =0.5e3, offset = 0.5, amplitude = 0.4,exponent=1,  \n",
      "                        decay_constant =100,phase =0, plot_fit = True, show_guess = True,fixed = [2,3,4])"
     ],
     "language": "python",
     "metadata": {},
     "outputs": []
    },
    {
     "cell_type": "code",
     "collapsed": false,
     "input": [
      "### Phase sweep ###\n",
      "reload(cr)\n",
      "Result=cr.Carbon_Ramsey(timestamp='20150421_135423' , \n",
      "                        offset = 0.5, amplitude = 0.1, x0=0, decay_constant = 1e5, exponent = 2, \n",
      "                        frequency = 1/360., phase =0, \n",
      "                        plot_fit = True, show_guess = False,fixed = [0,2,3,4,5])"
     ],
     "language": "python",
     "metadata": {},
     "outputs": []
    },
    {
     "cell_type": "heading",
     "level": 2,
     "metadata": {},
     "source": [
      "Single carbon init"
     ]
    },
    {
     "cell_type": "code",
     "collapsed": false,
     "input": [
      "from analysis.scripts.QEC import Two_Qubit_Tomography as Tomo2\n",
      "reload(Tomo2)\n",
      "### carbon init\n",
      "carbons =[2]\n",
      "init_method ='MBI' ### 'swap' or 'MBI'\n",
      "\n",
      "for c in carbons:\n",
      "        Tomo2.BarPlotTomoContrast(tag = '_'+str(c)+'_'+init_method,return_data = True)\n",
      "        "
     ],
     "language": "python",
     "metadata": {
      "scrolled": false
     },
     "outputs": []
    },
    {
     "cell_type": "code",
     "collapsed": true,
     "input": [],
     "language": "python",
     "metadata": {},
     "outputs": []
    }
   ],
   "metadata": {}
  }
 ]
}
