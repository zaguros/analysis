{
 "cells": [
  {
   "cell_type": "code",
   "execution_count": null,
   "metadata": {
    "collapsed": false
   },
   "outputs": [],
   "source": [
    "import numpy as np\n",
    "import os,sys\n",
    "from matplotlib import pyplot as plt\n",
    "sys.path.append(\"D:/measuring/\")\n",
    "from analysis.lib.m2.ssro import ssro as ssroc\n",
    "from analysis.lib.fitting import fit, common\n",
    "from analysis.lib.tools import plot\n",
    "%matplotlib inline"
   ]
  },
  {
   "cell_type": "markdown",
   "metadata": {},
   "source": [
    "# Magnet stability"
   ]
  },
  {
   "cell_type": "code",
   "execution_count": null,
   "metadata": {
    "collapsed": false
   },
   "outputs": [],
   "source": [
    "execfile('D:/measuring/analysis/scripts/espin/dark_esr_loop_analysis.py')"
   ]
  },
  {
   "cell_type": "code",
   "execution_count": null,
   "metadata": {
    "collapsed": false
   },
   "outputs": [],
   "source": [
    "fig = plt.figure()\n",
    "ax = plt.subplot()\n",
    "\n",
    "n, bins, patches = plt.hist(y,50, facecolor='g')\n",
    "print n\n",
    "print bins\n",
    "plt.xlabel(\"ms=-1 frequency\")\n",
    "plt.ylabel(\"# of occurences\")\n",
    "\n",
    "np.sum(n)"
   ]
  },
  {
   "cell_type": "code",
   "execution_count": null,
   "metadata": {
    "collapsed": false
   },
   "outputs": [],
   "source": [
    "fig = plt.figure()\n",
    "ax = plt.subplot()\n",
    "mean_frq = np.mean(y)\n",
    "p0, fitfunc, fitfunc_str = common.fit_gauss(0.0, 150., 0,20)\n",
    "print len(n),len(bins)\n",
    "bins_rescaled = [(x-mean_frq)*1e3 for x in bins]\n",
    "fit_result = fit.fit1d(bins_rescaled[:-1],n, None, p0=p0, fitfunc=fitfunc, do_print=True, ret=True,fixed=[0])\n",
    "\n",
    "plot.plot_fit1d(fit_result, np.linspace(-35,50,101), ax=ax, plot_data=True,color = 'r',add_txt = True, lw = 1)\n",
    "plt.xlabel(\"Detuning from {:2f} GHz (kHz)\".format(mean_frq*1e-3))\n",
    "plt.ylabel(\"# of occurences\")\n",
    "plt.show()\n",
    "plt.close('all')"
   ]
  },
  {
   "cell_type": "code",
   "execution_count": null,
   "metadata": {
    "collapsed": false
   },
   "outputs": [],
   "source": [
    "#calculate the mean on the fitted errorbars in kHz!\n",
    "y_err= np.sort(y_err)\n",
    "print 'mean fitting error',np.mean(y_err*1e3)"
   ]
  },
  {
   "cell_type": "code",
   "execution_count": null,
   "metadata": {
    "collapsed": false
   },
   "outputs": [],
   "source": [
    "mean_frq ##in MHz"
   ]
  },
  {
   "cell_type": "code",
   "execution_count": null,
   "metadata": {
    "collapsed": true
   },
   "outputs": [],
   "source": []
  }
 ],
 "metadata": {
  "kernelspec": {
   "display_name": "Python 2",
   "language": "python",
   "name": "python2"
  },
  "language_info": {
   "codemirror_mode": {
    "name": "ipython",
    "version": 2
   },
   "file_extension": ".py",
   "mimetype": "text/x-python",
   "name": "python",
   "nbconvert_exporter": "python",
   "pygments_lexer": "ipython2",
   "version": "2.7.3"
  }
 },
 "nbformat": 4,
 "nbformat_minor": 0
}
