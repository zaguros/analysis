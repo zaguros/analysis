{
 "cells": [
  {
   "cell_type": "markdown",
   "metadata": {},
   "source": [
    "# #Fingerprints LT3"
   ]
  },
  {
   "cell_type": "code",
   "execution_count": null,
   "metadata": {
    "collapsed": false
   },
   "outputs": [],
   "source": [
    "# from pylab import rcParams\n",
    "# rcParams['figure.figsize'] = 5, 10\n",
    "\n",
    "import sys\n",
    "import os\n",
    "import numpy as np\n",
    "sys.path.append(r'D:/measuring')\n",
    "sys.path.append(r'D:/measuring/analysis')\n",
    "sys.path.append(r'D:/measuring/analysis/scripts/purification/')\n",
    "\n",
    "import fp_analysis_load_separate as fp_ls;\n",
    "reload(fp_ls)\n",
    "%matplotlib inline  "
   ]
  },
  {
   "cell_type": "code",
   "execution_count": null,
   "metadata": {
    "collapsed": false
   },
   "outputs": [],
   "source": [
    "# loading data\n",
    "#Combined script, N = [8,16,32,64]\n",
    "import fp_analysis_load_separate as fp_ls; reload(fp_ls)\n",
    "listN = [16,32,64]\n",
    "\n",
    "a_list_min, folder_list_min = fp_ls.load_data(N= listN, el_trans = 'plus')\n",
    "# print folder_list_min\n",
    "# a_list_plus, folder_list_plus = fp_ls.load_data(N= listN, el_trans = 'plus') ### \n",
    "print folder_list_min\n",
    "print 'Loading complete'\n"
   ]
  },
  {
   "cell_type": "code",
   "execution_count": null,
   "metadata": {
    "collapsed": false
   },
   "outputs": [],
   "source": [
    "#plot the ms=-1 fp\n",
    "reload(fp_ls)\n",
    "hf_par   = []#[22e3]\n",
    "hf_perp =  []#[25e3]\n",
    "\n",
    "fp_ls.fingerprint(a = a_list_min, folder = folder_list_min, disp_sim_spin = True, N = [64],\n",
    "                   el_trans = 'min', HF_perp = hf_perp, HF_par = hf_par ,xticks = 0.5, xlim = [3.5,13.5])"
   ]
  },
  {
   "cell_type": "code",
   "execution_count": null,
   "metadata": {
    "collapsed": false,
    "scrolled": false
   },
   "outputs": [],
   "source": [
    "#plot the ms=-1 fp\n",
    "reload(fp_ls)\n",
    "hf_par   = [-30e3,13e3,42e3,-80e3,-114e3] #,np.linspace(40e3,40e3,3)))\n",
    "hf_perp =  [87.5e3,32e3,22e3,160e3,57e3] #,np.linspace(100e3,158e3,3)))\n",
    "\n",
    "fp_ls.fingerprint(a = a_list_min, folder = folder_list_min, disp_sim_spin = True, N = [8],\n",
    "                   el_trans = 'min', HF_perp = hf_perp, HF_par = hf_par , xlim = [3.5,23.5])\n"
   ]
  },
  {
   "cell_type": "code",
   "execution_count": null,
   "metadata": {
    "collapsed": false,
    "scrolled": false
   },
   "outputs": [],
   "source": [
    "#Plot single fingerprint (index takes the entry from the data array)\n",
    "reload(fp_ls)\n",
    "index = 0\n",
    "hf_par  = [160e3]#np.linspace(850e3,850e3,1)\n",
    "hf_perp = [150e3]#np.linspace(50e3,80e3,1)\n",
    "fp_ls.fingerprint(a = [a_list_min[index]], folder = [folder_list_min[index]], disp_sim_spin = True, N = [listN[index]],\n",
    "                   el_trans = 'min', xlim=[3.,8.],xticks=0.5, HF_par = hf_par, HF_perp = hf_perp)"
   ]
  },
  {
   "cell_type": "code",
   "execution_count": null,
   "metadata": {
    "collapsed": false
   },
   "outputs": [],
   "source": [
    "f_l = 446.6e3\n",
    "k = 4\n",
    "tau_k = 4.3e-6\n",
    "A_par = (k-0.5)/tau_k - 2*f_l\n",
    "print A_par"
   ]
  },
  {
   "cell_type": "code",
   "execution_count": null,
   "metadata": {
    "collapsed": false
   },
   "outputs": [],
   "source": [
    "gamma_c = 6.728287e7\n",
    "gam_correct = gamma_c*1e-4/(2*np.pi)\n",
    "f_l = 446.6e3\n",
    "print gam_correct\n",
    "B_field = f_l/gam_correct \n",
    "print B_field"
   ]
  },
  {
   "cell_type": "code",
   "execution_count": null,
   "metadata": {
    "collapsed": false,
    "scrolled": false
   },
   "outputs": [],
   "source": [
    "# Plot plus\\\n",
    "\n",
    "# hyperfine_params_pippin_SIL1_msm1 = {}\n",
    "# hyperfine_params_pippin_SIL1_msm1['C1']  = {'par' : -335e3 , 'perp':312.5e3}\n",
    "# hyperfine_params_pippin_SIL1_msm1['C2']  = {'par' : -90e3  , 'perp':122.5e3} \n",
    "# hyperfine_params_pippin_SIL1_msm1['C3']  = {'par' : -92.5e3, 'perp':68.8e3}  \n",
    "# hyperfine_params_pippin_SIL1_msm1['C4']  = {'par' : 22e3,    'perp':25e3}\n",
    "# hyperfine_params_pippin_SIL1_msm1['C5']  = {'par' : -18e3,   'perp':30e3}\n",
    "# hyperfine_params_pippin_SIL1_msm1['C6']  = {'par' : -6.3e3,  'perp':27.5e3}\n",
    "# hyperfine_params_pippin_SIL1_msm1['C7']  = {'par' : 27.5e3,  'perp':27e3}\n",
    "# hyperfine_params_pippin_SIL1_msm1['C8']  = {'par' : -36.5e3, 'perp':44e3}\n",
    "\n",
    "\n",
    "hf_par   = [-30e3,17e3,42e3,-80e3,-110e3, 8e3] #,np.linspace(40e3,40e3,3)))\n",
    "hf_perp =  [87.5e3,32e3,22e3,100e3,57e3, 25e3] #,np.linspace(100e3,158e3,3)\n",
    "reload(fp_ls)\n",
    "fp_ls.fingerprint(a = a_list_plus, folder = folder_list_plus, disp_sim_spin = True, N = [32],\n",
    "                   el_trans = 'plus', xlim=[3.5,27.5] ,xticks=0.5, HF_par = hf_par,HF_perp = hf_perp)"
   ]
  },
  {
   "cell_type": "code",
   "execution_count": null,
   "metadata": {
    "collapsed": false,
    "scrolled": false
   },
   "outputs": [],
   "source": [
    "# Plots for SK Thesis\n",
    "\n",
    "\n",
    "hf_par   = [-30e3,17e3,42e3,-80e3,-110e3, 8e3] #,np.linspace(40e3,40e3,3)))\n",
    "hf_perp =  [87.5e3,32e3,22e3,100e3,57e3, 25e3] #,np.linspace(100e3,158e3,3)\n",
    "reload(fp_ls)\n",
    "fp_ls.fingerprint_v2(a = a_list_plus, folder = folder_list_plus, disp_sim_spin = True, N = [8],\n",
    "                   el_trans = 'plus', xlim=[7,9] ,xticks=0.5, HF_par = hf_par,HF_perp = hf_perp)"
   ]
  },
  {
   "cell_type": "code",
   "execution_count": null,
   "metadata": {
    "collapsed": false
   },
   "outputs": [],
   "source": [
    "# only one\n",
    "hf_par = [-335e3, -18e3, -6.3e3] #+ np.linspace(-6e3,-6.2e3,2).tolist()\n",
    "hf_perp = [290e3, 30e3, 25e3] #+ np.linspace(20e3, 25e3,2).tolist()\n",
    "reload(fp_ls)\n",
    "index = 2 \n",
    "Nlist = [8,16,32,64]\n",
    "fp_ls.fingerprint(a = [a_list_plus[index]], folder = [folder_list_plus[index]], disp_sim_spin = True, N = [Nlist[index]],\n",
    "                   el_trans = 'plus', xlim=[19.6,19.8] ,xticks=0.01, HF_par = hf_par,HF_perp = hf_perp)"
   ]
  }
 ],
 "metadata": {
  "kernelspec": {
   "display_name": "Python 2",
   "language": "python",
   "name": "python2"
  },
  "language_info": {
   "codemirror_mode": {
    "name": "ipython",
    "version": 2
   },
   "file_extension": ".py",
   "mimetype": "text/x-python",
   "name": "python",
   "nbconvert_exporter": "python",
   "pygments_lexer": "ipython2",
   "version": "2.7.3"
  }
 },
 "nbformat": 4,
 "nbformat_minor": 0
}
