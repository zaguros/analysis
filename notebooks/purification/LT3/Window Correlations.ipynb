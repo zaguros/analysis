{
 "metadata": {
  "name": "",
  "signature": ""
 },
 "nbformat": 3,
 "nbformat_minor": 0,
 "worksheets": [
  {
   "cells": [
    {
     "cell_type": "code",
     "collapsed": false,
     "input": [
      "execfile(r'D:\\measuring\\analysis\\scripts\\setup_analysis.py')\n",
      "folder=tb.latest_data('Bell')\n",
      "#timestamp='164007'\n",
      "#folder=tb.data_from_time(timestamp)\n",
      "#folder=r'D:\\measuring\\data\\20141120\\232419_Bell_lt3_full_Belllhfbt_day7_run20'\n",
      "name = 'ssro'\n",
      "pq_folder = tb.latest_data('Bell', folder =r'X:\\data')\n",
      "a = pqsequence.TailAnalysis(folder, hdf5_mode='r',pq_folder=pq_folder)#r'X:\\data\\20140708\\174133_Bell_BS_tpqi_parallel_BS_SAM_SIL5_Heating_opt_rabis')"
     ],
     "language": "python",
     "metadata": {},
     "outputs": []
    },
    {
     "cell_type": "code",
     "collapsed": false,
     "input": [
      "pq_plots.plot_photon_hist(a.pqf,start = 5792e3, length = 1000e3, hist_binsize = 1000, save = False, log=True)"
     ],
     "language": "python",
     "metadata": {},
     "outputs": []
    },
    {
     "cell_type": "code",
     "collapsed": false,
     "input": [
      "st_start_ch0 = 5444000\n",
      "st_len       = 50000 #50 ns\n",
      "ch0_ch1_diff = 600 #1 ns\n",
      "st_start_ch1 = st_start_ch0 + ch0_ch1_diff\n",
      "pulse_sep    = 350000 #600 ns"
     ],
     "language": "python",
     "metadata": {},
     "outputs": []
    },
    {
     "cell_type": "code",
     "collapsed": false,
     "input": [
      "Total_shots, Tot_ph_per_shot, TC_p_shot_first_tail, TC_p_shot_second_tail, TC_p_shot = pq_tools.get_combined_tail_counts_per_shot(tb.measurement_filename(pq_folder),\n",
      "                                                                                                                5440*1e3,\n",
      "                                                                                                                5640*1e3,\n",
      "                                                                                                                6040*1e3,\n",
      "                                                                                                                6240*1e3, \n",
      "                                                                                                                st_start_ch0,\n",
      "                                                                                                                pulse_sep,\n",
      "                                                                                                                st_len,\n",
      "                                                                                                                ch0_ch1_diff,\n",
      "                                                                                                                VERBOSE = False)\n",
      "print \n",
      "print \"Total shots\", Total_shots\n",
      "print \"Total photon counts per shot\", Tot_ph_per_shot/(10**(-4))\n",
      "print \"Total combined tailcounts per shot\", TC_p_shot/(10**(-4))\n",
      "print \"First tail tailcounts per shot\", TC_p_shot_first_tail/(10**(-4))\n",
      "print \"Second tail tailcounts per shot\", TC_p_shot_second_tail/(10**(-4))\n"
     ],
     "language": "python",
     "metadata": {},
     "outputs": []
    },
    {
     "cell_type": "heading",
     "level": 4,
     "metadata": {},
     "source": [
      "Spin photon correlations:"
     ]
    },
    {
     "cell_type": "code",
     "collapsed": false,
     "input": [
      "ad_reps = a.adwingrp('ssro')['entanglement_events'].value\n",
      "\n",
      "is_PLU_mrkr = pq_tools.get_markers(a.pqf, 1)\n",
      "noof_PLU_markers = len(where(is_PLU_mrkr)[0])\n",
      "if ad_reps != noof_PLU_markers:\n",
      "    print 'Adwin events ({}) do not match PQ events ({}) - data set seems faulty :('.format(ad_reps,noof_PLU_markers)\n",
      "else:\n",
      "    print 'OK :)'\n",
      "\n",
      "is_ph0, is_ph1 = pq_tools.get_photons(a.pqf)\n",
      "is_valid_ph0_w1 = is_ph0 & pq_tools.filter_synctimes(a.pqf, st_start_ch0 ,(st_start_ch0+st_len))\n",
      "is_valid_ph0_w2 = is_ph0 & pq_tools.filter_synctimes(a.pqf,(st_start_ch0+pulse_sep) ,(st_start_ch0+pulse_sep+st_len))\n",
      "is_valid_ph1_w1 = is_ph1 & pq_tools.filter_synctimes(a.pqf,st_start_ch1 ,(st_start_ch1+st_len))\n",
      "is_valid_ph1_w2 = is_ph1 & pq_tools.filter_synctimes(a.pqf,(st_start_ch1+pulse_sep) ,(st_start_ch1+pulse_sep+st_len))\n",
      "is_ph_with_PLU_mrkr_in_first_window = (is_valid_ph0_w1 | is_valid_ph1_w1) & pq_tools.filter_marker(a.pqf,1)\n",
      "is_ph_with_PLU_mrkr_in_second_window = (is_valid_ph0_w2 | is_valid_ph1_w2) & pq_tools.filter_marker(a.pqf,1)\n",
      "sync_numbers = a.pqf['/PQ_sync_number-1'].value\n",
      "if ad_reps == noof_PLU_markers:\n",
      "    PLU_sync_numbers = sync_numbers[is_PLU_mrkr] # change in if statement\n",
      "elif (ad_reps+1) == noof_PLU_markers:\n",
      "    PLU_sync_numbers = sync_numbers[is_PLU_mrkr][1:]\n",
      "first_window_photons_sync_numbers = sync_numbers[is_ph_with_PLU_mrkr_in_first_window]\n",
      "first_window_readouts = pq_tools.filter_on_same_sync_number(\n",
      "    first_window_photons_sync_numbers, PLU_sync_numbers)\n",
      "second_window_photons_sync_numbers = sync_numbers[is_ph_with_PLU_mrkr_in_second_window]\n",
      "second_window_readouts = pq_tools.filter_on_same_sync_number(\n",
      "    second_window_photons_sync_numbers, PLU_sync_numbers)\n",
      "print np.sum(first_window_readouts)"
     ],
     "language": "python",
     "metadata": {},
     "outputs": []
    },
    {
     "cell_type": "code",
     "collapsed": false,
     "input": [
      "ad_ssro = a.adwingrp('ssro')['RO_data'].value == 0 #check for >0 photons, making 1 <-> ms=0 RO\n",
      "ad_ssro_duration = a.g.attrs['SSRO_duration']\n",
      "ssro_folder = tb.latest_data('SSROCalibration') #tb.data_from_time('20140708183041')# tb.latest_data('SSROCalibration' , older_than=timestamp)\n",
      "ssro_fids = ssro.get_SSRO_calibration(ssro_folder, ad_ssro_duration)\n",
      "\n",
      "first_window_ssro_results = ad_ssro[first_window_readouts]\n",
      "second_window_ssro_results = ad_ssro[second_window_readouts]\n",
      "\n",
      "# P_ms1 generally stands for the probability to measure ms=1\n",
      "# P_photon is the probability for getting a photon\n",
      "win1_P_photon = 1. - float(first_window_ssro_results.sum())/len(first_window_ssro_results)\n",
      "u_win1_P_photon = sqrt(win1_P_photon * (1.-win1_P_photon)/len(first_window_ssro_results))\n",
      "\n",
      "win2_P_photon = 1. - float(second_window_ssro_results.sum())/len(second_window_ssro_results)\n",
      "u_win2_P_photon = sqrt(win2_P_photon * (1.-win2_P_photon)/len(second_window_ssro_results))\n",
      "\n",
      "fig, (ax, ax_corr) = subplots(1,2, figsize=(11,4),\n",
      "                              sharex=True, sharey=True)\n",
      "\n",
      "### uncorrected for e-SSRO\n",
      "ax.bar(range(2), [win1_P_photon, win2_P_photon], color=['r', 'r'],\n",
      "       align='center', yerr=[u_win1_P_photon, u_win2_P_photon], ecolor='k',\n",
      "       width=0.8)\n",
      "\n",
      "ax.set_xlim(-0.5,1.5)\n",
      "ax.set_ylim(-0.05, 1.15)\n",
      "\n",
      "ax.set_ylabel('P ($m_s =\\, 0$)')\n",
      "\n",
      "ax.set_xticks([0,1])\n",
      "ax.set_xticklabels(['Photon in 1st window \\n ({})'.format(len(first_window_ssro_results)),\n",
      "                    'Photon in 2nd window \\n ({})'.format(len(second_window_ssro_results))])\n",
      "ax.axvline(0.5, c='k', ls='--')\n",
      "ax.axhline(0, c='k', ls=':')\n",
      "ax.axhline(1, c='k', ls=':')\n",
      "\n",
      "ax.text(0, win1_P_photon + 0.05, \"{:.1f} $\\pm$ {:.1f} %\".format(win1_P_photon*100, u_win1_P_photon*100),\n",
      "        va='bottom', ha='center',\n",
      "        bbox = {'facecolor' : 'white', 'alpha' : 0.5})\n",
      "ax.text(1, win2_P_photon + 0.05, \"{:.1f} $\\pm$ {:.1f} %\".format(win2_P_photon*100, u_win2_P_photon*100),\n",
      "        va='bottom', ha='center',\n",
      "        bbox = {'facecolor' : 'white', 'alpha' : 0.5})\n",
      "ax.set_title('Uncorrected readout')\n",
      "\n",
      "### corrected for e-SSRO\n",
      "win1_P0, u_win1_P0 = roc.single_qubit_outcome_with_ROC_from_fraction(win1_P_photon, u_win1_P_photon, \n",
      "                                                                     *ssro_fids)\n",
      "win2_P0, u_win2_P0 = roc.single_qubit_outcome_with_ROC_from_fraction(win2_P_photon, u_win2_P_photon,\n",
      "                                                                     *ssro_fids)\n",
      "\n",
      "ax_corr.bar(range(2), [win1_P0, win2_P0], color=['b','b'],\n",
      "       align='center', yerr=[u_win1_P0, u_win2_P0], ecolor='k',\n",
      "       width=0.8)\n",
      "ax_corr.axvline(0.5, c='k', ls='--')\n",
      "ax_corr.axhline(0, c='k', ls=':')\n",
      "ax_corr.axhline(1, c='k', ls=':')\n",
      "\n",
      "ax_corr.text(0, win1_P0 + 0.05, \"{:.1f} $\\pm$ {:.1f} %\".format(win1_P0*100, u_win1_P0*100),\n",
      "        va='bottom', ha='center',\n",
      "        bbox = {'facecolor' : 'white', 'alpha' : 0.5})\n",
      "ax_corr.text(1, win2_P0 + 0.05, \"{:.1f} $\\pm$ {:.1f} %\".format(win2_P0*100, u_win2_P0*100),\n",
      "        va='bottom', ha='center',\n",
      "        bbox = {'facecolor' : 'white', 'alpha' : 0.5})\n",
      "ax_corr.set_title('Corrected readout \\n '+a.timestamp)\n",
      "fig.savefig(os.path.join(folder, 'Spin-photon_correlations.png'))"
     ],
     "language": "python",
     "metadata": {},
     "outputs": []
    },
    {
     "cell_type": "code",
     "collapsed": false,
     "input": [
      "a.get_cr_results('ssro')"
     ],
     "language": "python",
     "metadata": {},
     "outputs": []
    },
    {
     "cell_type": "code",
     "collapsed": false,
     "input": [],
     "language": "python",
     "metadata": {},
     "outputs": []
    }
   ],
   "metadata": {}
  }
 ]
}
