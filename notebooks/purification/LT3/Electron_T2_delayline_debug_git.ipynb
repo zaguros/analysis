{
 "cells": [
  {
   "cell_type": "code",
   "execution_count": null,
   "metadata": {
    "collapsed": false
   },
   "outputs": [],
   "source": [
    "execfile(r'D:\\measuring\\analysis\\scripts\\setup_analysis.py')\n",
    "%matplotlib inline\n",
    "\n",
    "#datadir = r'D:\\measuring\\analysis_data\\delayline'\n",
    "#ssro_calib_folder = r'D:\\measuring\\analysis_data\\delayline\\20170224\\120011_SSRO_calib_MWInit_Pippin_SIL3_SSROCalibration_MWInit'\n",
    "\n",
    "ssro_calib_folder = r'D:\\measuring\\data\\20170224\\120011_SSRO_calib_MWInit_Pippin_SIL3_SSROCalibration_MWInit'\n",
    "datadir=None"
   ]
  },
  {
   "cell_type": "markdown",
   "metadata": {},
   "source": [
    "## First calibrate the SSRO and MW pulses"
   ]
  },
  {
   "cell_type": "markdown",
   "metadata": {},
   "source": [
    "## T2 (Hahn echo) timed by AWG (no triggers)"
   ]
  },
  {
   "cell_type": "code",
   "execution_count": null,
   "metadata": {
    "collapsed": false
   },
   "outputs": [],
   "source": [
    "### no RO correction\n",
    "\n",
    "prev_timestamp = r\"20170227000000\"\n",
    "\n",
    "folder= tb.latest_data('ElectronT2NoTriggers', folder=datadir, older_than=prev_timestamp)\n",
    "a=sequence.SequenceAnalysis(folder)\n",
    "a.get_sweep_pts()\n",
    "a.get_readout_results(name='ssro')\n",
    "a.get_electron_ROC(ssro_calib_folder=ssro_calib_folder)\n",
    "ax = a.plot_result_vs_sweepparam(ret='ax', name='ssro')\n",
    "ax.set_ylim(0.0, 1.0)"
   ]
  },
  {
   "cell_type": "markdown",
   "metadata": {},
   "source": [
    "## Defocussing offset using self-trigger - stitched"
   ]
  },
  {
   "cell_type": "code",
   "execution_count": null,
   "metadata": {
    "collapsed": false,
    "scrolled": true
   },
   "outputs": [],
   "source": [
    "### stitched\n",
    "\n",
    "num_msmts = 10\n",
    "msmt_folders = []\n",
    "\n",
    "prev_timestamp = r\"20170227000000\"\n",
    "\n",
    "for i in range(num_msmts):\n",
    "    next_folder = tb.latest_data('ElectronRefocussingTriggered_OneTrigger', folder=datadir, older_than=prev_timestamp)\n",
    "    prev_timestamp = \"\".join(tb.get_date_time_string_from_folder(next_folder))\n",
    "    \n",
    "    msmt_folders.insert(0, next_folder)\n",
    "\n",
    "print(msmt_folders)\n",
    "\n",
    "ax = None\n",
    "\n",
    "stitched_DELAYT_sweep_pts = list()\n",
    "stitched_DELAYT_p0 = list()\n",
    "stitched_DELAYT_u_p0 = list()\n",
    "\n",
    "for folder in msmt_folders:\n",
    "    a = sequence.SequenceAnalysis(folder)\n",
    "    a.get_sweep_pts()\n",
    "    a.get_readout_results(name='ssro')\n",
    "    a.get_electron_ROC(ssro_calib_folder=ssro_calib_folder)\n",
    "    ax = a.plot_result_vs_sweepparam(ret='ax', name='ssro', ax=ax)\n",
    "    \n",
    "    stitched_DELAYT_sweep_pts += a.sweep_pts.tolist()\n",
    "    stitched_DELAYT_p0 += a.p0.tolist()\n",
    "    stitched_DELAYT_u_p0 += a.u_p0.tolist()\n",
    "    \n",
    "stitched_DELAYT_sweep_pts = np.array(stitched_DELAYT_sweep_pts)\n",
    "stitched_DELAYT_p0 = np.array(stitched_DELAYT_p0)\n",
    "stitched_DELAYT_u_p0 = np.array(stitched_DELAYT_u_p0)\n",
    "\n",
    "ax.set_ylim(0.0,1.0)\n",
    "plt.gcf().set_size_inches(16,8)\n",
    "# a=sequence.SequenceAnalysis(folder)\n",
    "# a.get_sweep_pts()\n",
    "# a.get_readout_results(name='ssro')\n",
    "# a.get_electron_ROC()\n",
    "# ax = a.plot_result_vs_sweepparam(ret='ax', name='ssro')\n",
    "# ax.set_ylim(0.0, 1.0)"
   ]
  },
  {
   "cell_type": "code",
   "execution_count": null,
   "metadata": {
    "collapsed": false
   },
   "outputs": [],
   "source": [
    "max_msmt = 2\n",
    "\n",
    "a = sequence.SequenceAnalysis(msmt_folders[max_msmt])\n",
    "a.get_sweep_pts()\n",
    "a.get_readout_results(name='ssro')\n",
    "a.get_electron_ROC(ssro_calib_folder=ssro_calib_folder)\n",
    "ax = a.plot_result_vs_sweepparam(ret='ax', name='ssro')\n",
    "\n",
    "ax.set_ylim(0.0,1.0)\n",
    "plt.gcf().set_size_inches(16,8)"
   ]
  },
  {
   "cell_type": "markdown",
   "metadata": {},
   "source": [
    "## Defocussing offset using AWG timing - stitched"
   ]
  },
  {
   "cell_type": "code",
   "execution_count": null,
   "metadata": {
    "collapsed": false,
    "scrolled": true
   },
   "outputs": [],
   "source": [
    "### stitched\n",
    "\n",
    "num_msmts = 10\n",
    "msmt_folders = []\n",
    "\n",
    "prev_timestamp = r\"20170227000000\"\n",
    "\n",
    "for i in range(num_msmts):\n",
    "    next_folder = tb.latest_data('ElectronRefocussingTriggered_NoTrigger', folder=datadir, older_than=prev_timestamp)\n",
    "    prev_timestamp = \"\".join(tb.get_date_time_string_from_folder(next_folder))\n",
    "    \n",
    "    msmt_folders.insert(0, next_folder)\n",
    "\n",
    "print(msmt_folders)\n",
    "\n",
    "ax = None\n",
    "\n",
    "stitched_AWGT_sweep_pts = list()\n",
    "stitched_AWGT_p0 = list()\n",
    "stitched_AWGT_u_p0 = list()\n",
    "\n",
    "for folder in msmt_folders:\n",
    "    a = sequence.SequenceAnalysis(folder)\n",
    "    a.get_sweep_pts()\n",
    "    a.get_readout_results(name='ssro')\n",
    "    a.get_electron_ROC(ssro_calib_folder=ssro_calib_folder)\n",
    "    ax = a.plot_result_vs_sweepparam(ret='ax', name='ssro', ax=ax)\n",
    "    \n",
    "    stitched_AWGT_sweep_pts += a.sweep_pts.tolist()\n",
    "    stitched_AWGT_p0 += a.p0.tolist()\n",
    "    stitched_AWGT_u_p0 += a.u_p0.tolist()\n",
    "    \n",
    "stitched_AWGT_sweep_pts = np.array(stitched_AWGT_sweep_pts)\n",
    "stitched_AWGT_p0 = np.array(stitched_AWGT_p0)\n",
    "stitched_AWGT_u_p0 = np.array(stitched_AWGT_u_p0)\n",
    "\n",
    "ax.set_ylim(0.0,1.0)\n",
    "plt.gcf().set_size_inches(16,8)\n",
    "# a=sequence.SequenceAnalysis(folder)\n",
    "# a.get_sweep_pts()\n",
    "# a.get_readout_results(name='ssro')\n",
    "# a.get_electron_ROC()\n",
    "# ax = a.plot_result_vs_sweepparam(ret='ax', name='ssro')\n",
    "# ax.set_ylim(0.0, 1.0)"
   ]
  },
  {
   "cell_type": "code",
   "execution_count": null,
   "metadata": {
    "collapsed": true
   },
   "outputs": [],
   "source": [
    "def fit_refocussing_gaussian(x, y, A_guess, t0_guess, sigma_guess, baseline_guess=0.5):\n",
    "    from analysis.lib.fitting import fit\n",
    "    \n",
    "    A = fit.Parameter(A_guess, 'A')\n",
    "    t0 = fit.Parameter(t0_guess, 't0')\n",
    "    sigma = fit.Parameter(sigma_guess, 'sigma')\n",
    "    bl = fit.Parameter(baseline_guess, 'bl')\n",
    "    \n",
    "    p0 = [A, t0, sigma, bl]\n",
    "    fitfunc_str = 'A * exp(-0.5 * ((t-t0)/sigma)^2) + bl'\n",
    "    \n",
    "    def fitfunc(t):\n",
    "        return A() * np.exp(-0.5 * ((t-t0())/sigma()) ** 2) + bl()\n",
    "    \n",
    "    fit_result = fit.fit1d(x, y, None, p0=p0, fitfunc=fitfunc, fitfunc_str=fitfunc_str, do_print=False, ret=True)\n",
    "    \n",
    "    return fit_result\n",
    "\n",
    "def fit_refocussing_parabola(x, y, A0_guess, t0_guess, A2_guess):\n",
    "    from analysis.lib.fitting import fit\n",
    "    \n",
    "    A0 = fit.Parameter(A0_guess, 'A0')\n",
    "    t0 = fit.Parameter(t0_guess, 't0')\n",
    "    A2 = fit.Parameter(A2_guess, 'A2')\n",
    "    \n",
    "    p0 = [A0, t0, A2]\n",
    "    fitfunc_str = '-A2 * (t - t0)^2 + A0'\n",
    "    \n",
    "    def fitfunc(t):\n",
    "        return -A2() * (t - t0())**2 + A0()\n",
    "    \n",
    "    fit_result = fit.fit1d(x, y, None, p0=p0, fitfunc=fitfunc, fitfunc_str=fitfunc_str, do_print=False, ret=True)\n",
    "    \n",
    "    return fit_result\n",
    "\n",
    "def jitter_window_convoluted_gaussian(t, t0, A0, t_j, sigma):\n",
    "    from scipy.special import erf\n",
    "    \n",
    "    tc = t-t0\n",
    "    \n",
    "    return (sigma*A0/t_j)*np.sqrt(np.pi/2)*(erf((tc + t_j/2)/(sigma*np.sqrt(2))) - erf((tc - t_j/2)/(sigma*np.sqrt(2))))"
   ]
  },
  {
   "cell_type": "code",
   "execution_count": null,
   "metadata": {
    "collapsed": true
   },
   "outputs": [],
   "source": [
    "cutout_width = 0.4\n",
    "\n",
    "# jitter window\n",
    "t_j = 20.0e-3"
   ]
  },
  {
   "cell_type": "code",
   "execution_count": null,
   "metadata": {
    "collapsed": false,
    "scrolled": true
   },
   "outputs": [],
   "source": [
    "fig = plt.figure(figsize=(16,8))\n",
    "\n",
    "\n",
    "\n",
    "cutout_AWGT = (stitched_AWGT_sweep_pts > -cutout_width/2) & (stitched_AWGT_sweep_pts < cutout_width/2)\n",
    "\n",
    "x_AWGT = stitched_AWGT_sweep_pts[cutout_AWGT]\n",
    "y_AWGT = stitched_AWGT_p0[cutout_AWGT]\n",
    "u_y_AWGT = stitched_AWGT_u_p0[cutout_AWGT]\n",
    "\n",
    "plt.errorbar(x_AWGT, y_AWGT, fmt='o', yerr=u_y_AWGT)\n",
    "plt.ylim(0,1)\n",
    "\n",
    "fit_result_gauss_AWGT = fit_refocussing_gaussian(x_AWGT, y_AWGT, \n",
    "                               A_guess=0.5, t0_guess=0.0, sigma_guess=0.1)\n",
    "fit_result_parabola_AWGT = fit_refocussing_parabola(x_AWGT, y_AWGT, \n",
    "                                                    A0_guess =0.9, t0_guess=0.0, A2_guess=30)\n",
    "\n",
    "plot.plot_fit1d(fit_result_gauss_AWGT, np.linspace(x_AWGT[0], x_AWGT[-1], 201), ax=plt.gca(), plot_data=False, print_info=False)\n",
    "# plot.plot_fit1d(fit_result_parabola_AWGT, np.linspace(x_AWGT[0],x_AWGT[-1], 201), ax=plt.gca(), plot_data=False, print_info=False, color='b')\n",
    "\n",
    "A_AWGT = fit_result_gauss_AWGT['params_dict']['A']\n",
    "bl_AWGT = fit_result_gauss_AWGT['params_dict']['bl']\n",
    "sigma_AWGT = fit_result_gauss_AWGT['params_dict']['sigma']\n",
    "t0_AWGT = fit_result_gauss_AWGT['params_dict']['t0']\n",
    "\n",
    "A2_parabola_AWGT = fit_result_parabola_AWGT['params_dict']['A2']\n",
    "\n",
    "def parabola_AWGT(t):\n",
    "    return -(A_AWGT / sigma_AWGT**2) * (t-t0_AWGT)**2 + A_AWGT + bl_AWGT\n",
    "\n",
    "parabola_x = np.linspace(x_AWGT[0], x_AWGT[-1], 201)\n",
    "\n",
    "jitter_reduction_parabola = A2_parabola_AWGT * (t_j)**2 / 12.0\n",
    "clean_ampl_gauss = fit_result_gauss_AWGT['fitfunc'](t0_AWGT)\n",
    "jitter_ampl_gauss = jitter_window_convoluted_gaussian(t0_AWGT, \n",
    "                                                       t0=t0_AWGT, A0=A_AWGT, t_j=t_j, sigma=sigma_AWGT) +  bl_AWGT\n",
    "jitter_reduction_gauss = clean_ampl_gauss - jitter_ampl_gauss\n",
    "\n",
    "print(\"Fitted AWG timing amplitude: {}\".format(clean_ampl_gauss))\n",
    "# print(\"Reduction in amplitude due to jitter (parabola approximation): {}\".format(jitter_reduction_parabola))\n",
    "print(\"Reduction in amplitude due to jitter (Gaussian approximation): {}\".format(jitter_reduction_gauss))\n",
    "\n",
    "\n",
    "# plt.plot(parabola_x, parabola_AWGT(parabola_x))\n",
    "# plt.plot(parabola_x, parabola_AWGT(parabola_x) - jitter_reduction_parabola)\n",
    "plt.plot(parabola_x, jitter_window_convoluted_gaussian(parabola_x, \n",
    "                                                       t0=t0_AWGT, A0=A_AWGT, t_j=t_j, sigma=sigma_AWGT) + bl_AWGT, color='y')\n",
    "\n",
    "plt.title('20170224 Defocussed Hahn echo using AWG timing')\n",
    "plt.xlabel('defocussing offset (us)')\n",
    "plt.ylabel('F(|0>)')\n",
    "\n",
    "print('Gaussian fit params: {}'.format(fit_result_gauss_AWGT['params_dict']))\n",
    "#print(fit_result_parabola_AWGT['params_dict'])"
   ]
  },
  {
   "cell_type": "markdown",
   "metadata": {},
   "source": [
    "Rule of thumb for amplitude reduction due to jitter:\n",
    "- assuming a gaussian profile of height 0.5 plusbaseline 0.5\n",
    "- approximating around t0 with a parabola\n",
    "- convoluting with a uniform jitter window\n",
    "- using FWHM = 2.355 * sigma\n",
    "\n",
    "5.55 / 24 * (t_j / FWHM)^2"
   ]
  },
  {
   "cell_type": "code",
   "execution_count": null,
   "metadata": {
    "collapsed": false
   },
   "outputs": [],
   "source": [
    "def reduction_rule_of_thumb(t_j, FWHM):\n",
    "    return 5.55/24 * (t_j/FWHM)**2\n",
    "\n",
    "FWHM = 2.355 * sigma_AWGT\n",
    "\n",
    "rot_result = reduction_rule_of_thumb(t_j, FWHM)\n",
    "\n",
    "print(\"Rule of thumb result for jitter reduction, based on AWG timing results: \")\n",
    "print(\"FWHM:\\t{} us\".format(FWHM))\n",
    "print(\"t_j:\\t{} ns\".format(t_j*1e3))\n",
    "print(\"ROT:\\t{}\".format(rot_result))"
   ]
  },
  {
   "cell_type": "code",
   "execution_count": null,
   "metadata": {
    "collapsed": false
   },
   "outputs": [],
   "source": [
    "fig = plt.figure(figsize=(16,8))\n",
    "\n",
    "max_idx = np.argmax(stitched_DELAYT_p0)\n",
    "max_offset = stitched_DELAYT_sweep_pts[max_idx]\n",
    "print('Maximum found at offset {} us'.format(max_offset))\n",
    "\n",
    "max_offset = -2.95\n",
    "\n",
    "cutout_DELAYT = (stitched_DELAYT_sweep_pts > max_offset - cutout_width/2) & (stitched_DELAYT_sweep_pts < max_offset + cutout_width/2)\n",
    "\n",
    "x_DELAYT = stitched_DELAYT_sweep_pts[cutout_DELAYT]\n",
    "y_DELAYT = stitched_DELAYT_p0[cutout_DELAYT]\n",
    "u_y_DELAYT = stitched_DELAYT_u_p0[cutout_DELAYT]\n",
    "\n",
    "fit_result_gauss_DELAYT = fit_refocussing_gaussian(x_DELAYT, y_DELAYT, \n",
    "                                     A_guess=0.5, t0_guess=max_offset, sigma_guess=0.1)\n",
    "fit_result_parabola_DELAYT = fit_refocussing_parabola(x_DELAYT, y_DELAYT, \n",
    "                                                    A0_guess =0.9, t0_guess=0.0, A2_guess=30)\n",
    "\n",
    "\n",
    "plt.errorbar(x_DELAYT, y_DELAYT, fmt='o', yerr=u_y_DELAYT)\n",
    "plot.plot_fit1d(fit_result_gauss_DELAYT, np.linspace(x_DELAYT[0], x_DELAYT[-1], 201), ax=plt.gca(), plot_data=False, print_info=False)\n",
    "# plot.plot_fit1d(fit_result_parabola_DELAYT, np.linspace(x_DELAYT[0], x_DELAYT[-1], 201), ax=plt.gca(), plot_data=False, print_info=False, color='b')\n",
    "\n",
    "plt.ylim(0,1)\n",
    "\n",
    "t0_DELAYT = fit_result_gauss_DELAYT['params_dict']['t0']\n",
    "\n",
    "delayline_amplitude = fit_result_gauss_DELAYT['fitfunc'](t0_DELAYT)\n",
    "\n",
    "print(\"Fitted delayline timing amplitude: {}\".format(delayline_amplitude))\n",
    "\n",
    "print(fit_result_gauss_DELAYT['params_dict'])\n",
    "# print(fit_result_parabola_DELAYT['params_dict'])"
   ]
  },
  {
   "cell_type": "code",
   "execution_count": null,
   "metadata": {
    "collapsed": false
   },
   "outputs": [],
   "source": [
    "(A_AWGT / sigma_AWGT**2)"
   ]
  },
  {
   "cell_type": "code",
   "execution_count": null,
   "metadata": {
    "collapsed": true
   },
   "outputs": [],
   "source": []
  }
 ],
 "metadata": {
  "kernelspec": {
   "display_name": "Python 2",
   "language": "python",
   "name": "python2"
  },
  "language_info": {
   "codemirror_mode": {
    "name": "ipython",
    "version": 2
   },
   "file_extension": ".py",
   "mimetype": "text/x-python",
   "name": "python",
   "nbconvert_exporter": "python",
   "pygments_lexer": "ipython2",
   "version": "2.7.3"
  }
 },
 "nbformat": 4,
 "nbformat_minor": 0
}
