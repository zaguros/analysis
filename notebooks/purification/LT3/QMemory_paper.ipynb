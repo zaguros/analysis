{
 "cells": [
  {
   "cell_type": "code",
   "execution_count": null,
   "metadata": {
    "collapsed": false
   },
   "outputs": [],
   "source": [
    "import numpy as np\n",
    "import os,sys\n",
    "import matplotlib\n",
    "reload(matplotlib)\n",
    "\n",
    "# matplotlib.rc('pdf', fonttype=42)\n",
    "\n",
    "sys.path.append(\"D:/measuring/\")\n",
    "sys.path.append(r'D:/measuring/analysis')\n",
    "import analysis.lib.fitting.common as fitlib\n",
    "from analysis.lib.Qmemory import CarbonDephasing as CD\n",
    "reload(CD)\n",
    "execfile(r'D:\\measuring\\analysis\\scripts\\setup_analysis.py')\n",
    "%matplotlib inline"
   ]
  },
  {
   "cell_type": "markdown",
   "metadata": {},
   "source": [
    "# Repump Speed"
   ]
  },
  {
   "cell_type": "code",
   "execution_count": null,
   "metadata": {
    "collapsed": false,
    "scrolled": false
   },
   "outputs": [],
   "source": [
    "reload(CD)\n",
    "CD.repump_speed(timestamp='20170323_091021',\n",
    "        #older_than = '20160331_203030' , #remmeber this for SSRO calibration!\n",
    "        powers = [1000e-9], exclude_first_n_points =0, log_plot = True,\n",
    "        amplitude =0.2, decay_constant_one = 20., decay_constant_two = 400., x_offs = 0, offset=0.01, fixed = [0], \n",
    "        do_plot = True, do_fit = True, print_fit = True, plot_fit=True,  plot_fit_guess = False, \n",
    "        init_states=['p1','m1'], ro_states=['0'])"
   ]
  },
  {
   "cell_type": "code",
   "execution_count": null,
   "metadata": {
    "collapsed": false
   },
   "outputs": [],
   "source": [
    "reload(CD)\n",
    "CD.ionization_probabilities(timestamps=['20170323_084238'],#20151105_030558',\n",
    "        exclude_first_n_points =[0], decay_constant_guess = [2e3], binwidth_ns = None,\n",
    "        log_plot = False, do_fit = True, show_guess = False,plot_results = True, do_print = True, colors = ['r'],save_fig = False,\n",
    "        fixed = [0], labels = [''],CR_after_check = True)"
   ]
  },
  {
   "cell_type": "code",
   "execution_count": null,
   "metadata": {
    "collapsed": false
   },
   "outputs": [],
   "source": [
    "reload(CD)\n",
    "CD.ionization_paper_plot(timestamps=['20170322_173246'],#20151105_030558',\n",
    "        exclude_first_n_points =[0], decay_constant_guess = [2e3], binwidth_ns = None,\n",
    "        log_plot = False, do_fit = True, show_guess = False,plot_results = True, do_print = True, colors = ['r'],save_fig = False,\n",
    "        fixed = [0], labels = [''])"
   ]
  },
  {
   "cell_type": "code",
   "execution_count": null,
   "metadata": {
    "collapsed": false
   },
   "outputs": [],
   "source": [
    "matplotlib.rc('pdf', fonttype=42)\n",
    "pdf_with_rc_fonts = {\n",
    "    'font.family': 'serif',\n",
    "    'font.serif': ['Times New Roman'],\n",
    "    'font.sans-serif': ['Arial'],\n",
    "}\n",
    "matplotlib.rcParams.update(pdf_with_rc_fonts)\n",
    "\n",
    "from matplotlib import rcParams\n",
    "rcParams['xtick.major.size'] = 4\n",
    "#xtick.minor.size\n",
    "rcParams['font.family'] = 'sans-serif'\n",
    "rcParams['font.sans-serif'] = ['Arial']\n",
    "rcParams['font.family'] = 'serif'\n",
    "rcParams['font.serif'] = ['Times New Roman']\n",
    "rcParams['lines.linewidth'] = 1\n",
    "rcParams['axes.linewidth'] = 0.6\n",
    "color_list = ['b','g','y','r','brown','m','c']\n",
    "CR_after_check = True ### discard events with ionization for data analysis? (this relies on the CR check after the SSRO.)\n",
    "linewidth = 1\n",
    "errorbar_width = 2\n",
    "figwidthPRL=3.+3./8.\n",
    "golden_ratio = 1.62\n",
    "figsize=(figwidthPRL,figwidthPRL/1.4)\n",
    "axeslabel_fontsize = 7\n",
    "ticklabel_fontsize = 7\n",
    "fignumber_fontsize=11\n",
    "legend_fontsize = 7\n",
    "markersize = 3\n",
    "majorticklength = 3\n",
    "minorticklength = 1.5\n",
    "tickwidth = 0.6\n",
    "axeswidth = 0.6\n",
    "save_figure_to = 'D:\\measuring\\QMem_plots'\n",
    "\n",
    "fig = plt.figure(figsize=figsize)\n",
    "ax = plt.subplot()\n",
    "plt.tick_params(pad = 4, axis='both', which='major', labelsize=ticklabel_fontsize, width = tickwidth, length=majorticklength)\n",
    "plt.tick_params(pad = 4, axis='both', which='minor', labelsize=ticklabel_fontsize, width = tickwidth, length=minorticklength)\n",
    "y_max = 500\n",
    "ax.yaxis.set_ticks(np.arange(0, y_max,100))\n",
    "plt.ylim(0,y_max)\n",
    "plt.xlabel(r'Repump laser power ($\\mu$W)', size=axeslabel_fontsize)\n",
    "plt.ylabel(r'Decay time constant (ns)', size=axeslabel_fontsize)\n",
    "plt.tight_layout()\n",
    "yscaling = 5\n",
    "fig.text(0.09,0.9, 'x'+str(yscaling),size=fignumber_fontsize, color = 'r')\n",
    "\n",
    "plt.errorbar(powers*1000000, tau2/np.array(yscaling), yerr = tau2_err/np.array(yscaling), zorder = 500, capsize= errorbar_width, fmt = '.', ls= '', color = 'r', elinewidth=linewidth)\n",
    "plt.errorbar(powers*1000000, tau, yerr = tau_err , zorder = 500, capsize= errorbar_width, fmt = '.', ls= '', color = 'k', elinewidth=linewidth)\n",
    "plt.savefig(os.path.join(save_figure_to, 'Supp_repump_saturation.pdf'), format='pdf')\n",
    "plt.savefig(os.path.join(save_figure_to, 'Supp_repump_saturation.png'), format='png')\n",
    "plt.show()\n",
    "plt.close('all')\n",
    "\n",
    "# fig = plt.figure()\n",
    "# ax = plt.subplot()\n",
    "# plt.xlabel('tau2')\n",
    "# plt.ylabel('tau')\n",
    "# plt.ylim(0,700)\n",
    "# plt.xlim(0,3500)\n",
    "# plt.errorbar(tau2, tau, yerr = tau_err, xerr=tau2_err, fmt = 'o', color = 'k', label = 'x')\n",
    "# plt.show()\n",
    "# plt.close('all')\n",
    "#plt.errorbar(tau,tau2, xerr=tau_err, yerr = tau2_err, fmt = 'o', color = 'k', label = 'x')\n",
    "#print fit_result['params_dict']['tau2'], ' +- ', fit_result['error_dict']['tau2']"
   ]
  },
  {
   "cell_type": "code",
   "execution_count": null,
   "metadata": {
    "collapsed": false
   },
   "outputs": [],
   "source": [
    "fig = plt.figure()\n",
    "ax = plt.subplot()\n",
    "plt.xlabel('tau')\n",
    "plt.ylabel('tau2')\n",
    "plt.ylim(0,3500)\n",
    "plt.xlim(0,700)\n",
    "p0, fitfunc, fitfunc_str = fitlib.fit_line(g_a=0,g_b=6.5)\n",
    "x=np.arange(0,700,1)\n",
    "plt.errorbar(x, fitfunc(x), fmt = '', color = 'r', label = 'x')\n",
    "plt.errorbar(tau, tau2, yerr = tau2_err, xerr=tau_err, fmt = 'o', color = 'k', label = 'x')\n",
    "print p0, fitfunc, fitfunc_str\n",
    "fit_result = fit.fit1d(tau, tau2, None, p0 = p0, fitfunc = fitfunc, do_print = True, ret = True)\n",
    "print fit_result\n",
    "\n",
    "plot.plot_fit1d(fit_result, np.linspace(0,1.1 *np.max(tau2),1001), show_guess=True, ax=ax, plot_data=True, add_txt=False, lw=2, color = 'g')\n",
    "\n",
    "plt.show()\n",
    "plt.close('all')\n",
    "#plt.errorbar(tau,tau2, xerr=tau_err, yerr = tau2_err, fmt = 'o', color = 'k', label = 'x')\n",
    "#print fit_result['params_dict']['tau2'], ' +- ', fit_result['error_dict']['tau2']"
   ]
  },
  {
   "cell_type": "markdown",
   "metadata": {},
   "source": [
    "## Paper plot"
   ]
  },
  {
   "cell_type": "code",
   "execution_count": null,
   "metadata": {
    "collapsed": false,
    "scrolled": false
   },
   "outputs": [],
   "source": [
    "reload(CD)\n",
    "binwidth = [None,None,None,None,None]\n",
    "binwidth = [12,12,25,25,25]\n",
    "start_tstamps = ['20151105_032629','20151031_182230','20151025_235900','20151024_131500','20151024_233353' ]\n",
    "stop_timestamps = [ '20151103_211016','20151030_220005','20151025_102306','20151023_193751','20151024_145547']\n",
    "CD.repump_speed_paper_plot(older_than=start_tstamps, newer_than=stop_timestamps, binwidth_ns=binwidth,\n",
    "        exclude_first_n_points = [5,7,2,2,2], offset = [0.,0.,0.,0.,0.], amplitude = [0.8,0.8,0.8,0.8, 0.8], \n",
    "        x0 = [0.,0.,0.,0., 0.], decay_constant_one = [50, 20,300,150,200],\n",
    "        decay_constant_two = [500.,523.,800.,800.,500.],\n",
    "        labels = [r'$E_{1,2}$ 2000 nW',r'$A_{1,2}$ 2000 nW',r'$A_{1,2}$ 190 nW',r'$A_{1,2}$ 100 nW',r'$A_{1,2}$ 50 nW'],\n",
    "        x_offs=[0,0,0,0,0], colors=['y','g','c','b','k'], cutoff_ns = [1000,1200,1800,2500,1000],#[800,2200,1200,1500],\n",
    "        plot_fit = True, do_print = False, fixed = [[0],[0],[0],[0],[0]], show_guess = False)"
   ]
  },
  {
   "cell_type": "code",
   "execution_count": null,
   "metadata": {
    "collapsed": false
   },
   "outputs": [],
   "source": [
    "reload(CD)\n",
    "tstamps_E = ['20151219_215910','20151219_215525','20151219_215138']#,\n",
    "tstamps_A = ['20151221_161917','20151221_161445','20151221_161024']\n",
    "CD.repump_speed_pm1_paper_plot(tstamps_E=tstamps_E,tstamps_A=tstamps_A, binwidth_ns=[17,17,17], \n",
    "        labels = [r'$p_{\\left|+1\\right\\rangle}$',r'$p_{\\left|-1\\right\\rangle}$',r'$1-p_{\\left|0\\right\\rangle}$'], #ssro_calib_timestamp=['20151221_160634',None],\n",
    "        exclude_first_n_points_A = [6,6,6], exclude_first_n_points_E = [12,12,12], offset = [0.,0.,0.], amplitude = [0.2,0.7,0.7], x0 = [0.,0.,0.], decay_constant_one = [50,50,50], \n",
    "        decay_constant_two = [440.,440.,440.], x_offs=[-200,0,0], colors=['k','r','b','g'], cutoff_ns = [600,600,600],\n",
    "        plot_fit = True, do_print = False, marker = ['+', 'x', '.'], fixed = [[0,3,4],[0,2,3],[0,2,3]], show_guess = False)"
   ]
  },
  {
   "cell_type": "markdown",
   "metadata": {},
   "source": [
    "# General plotting of positive and negative data"
   ]
  },
  {
   "cell_type": "code",
   "execution_count": null,
   "metadata": {
    "collapsed": false
   },
   "outputs": [],
   "source": [
    "reload(CD)\n",
    "fig = plt.figure()\n",
    "ax = plt.subplot()\n",
    "\n",
    "older_than = None\n",
    "x,y1,y_u,f = CD.get_PosNeg_data('_Tomo_X_C1',older_than = older_than)\n",
    "CD.plot_data(x,y1,y_u=y_u,fmt='o-')\n",
    "# x,y1,y_u,f = CD.get_PosNeg_data('_Tomo_Z_C2',older_than = older_than)\n",
    "# CD.plot_data(x,y1,y_u=y_u,fmt='o-')\n",
    "# x,y1,y_u,f = CD.get_PosNeg_data('_Tomo_Z_C3',older_than = older_than)\n",
    "# CD.plot_data(x,y1,y_u=y_u,fmt='o-')\n",
    "# x,y1,y_u,f = CD.get_PosNeg_data('_Tomo_Z_C5',older_than = older_than)\n",
    "# CD.plot_data(x,y1,y_u=y_u,fmt='o-')\n",
    "# x,y1,y_u,f = CD.get_PosNeg_data('_Tomo_Z_C6',older_than = older_than)\n",
    "# CD.plot_data(x,y1,y_u=y_u,fmt='o-')\n",
    "# x,y1,y_u,f = CD.get_PosNeg_data('_statemX_Tomo_ZZ_C12',older_than = '20151023_142159')\n",
    "# CD.plot_data(x,y1,y_u=y_u,fmt='o-')\n",
    "# x,y1,y_u,f = CD.get_PosNeg_data('_Tomo_Y_C2')\n",
    "# CD.plot_data(x,y1,y_u=y_u,fmt='o')\n",
    "# x,y1,y_u,f = CD.get_PosNeg_data('_statemX_Tomo_XX_C25')\n",
    "# CD.plot_data(x,y1,y_u=y_u,fmt='o-')\n",
    "\n",
    "#test stuff\n",
    "# p0, fitfunc,fitfuncstr = common.fit_cos(freq,offset,amp,phase)\n",
    "\n",
    "# CD.fit_exp_pos_neg_data('_Tomo_X_C1')\n",
    "# carbons = [1]\n",
    "# for c in carbons:\n",
    "#     f = CD.fit_exp_pos_neg_data('_Tomo_X_C'+ str(c))\n",
    "\n",
    "\n",
    "plt.title(CD.get_tstamp_from_folder(f))\n",
    "plt.xlabel('Repetitions')\n",
    "plt.ylabel('<X>')\n",
    "plt.legend(['C1'],loc=1)#,'logical X C25 YY','logical X C25 XY','logical X C25 YX'])\n",
    "plt.savefig(os.path.join(f,'Pos_neg_data.png'),format='png')\n",
    "plt.show()\n",
    "plt.close('all')"
   ]
  },
  {
   "cell_type": "markdown",
   "metadata": {},
   "source": [
    "# Fit exponential to positive/negative data"
   ]
  },
  {
   "cell_type": "code",
   "execution_count": null,
   "metadata": {
    "collapsed": false
   },
   "outputs": [],
   "source": [
    "reload(CD)\n",
    "import colorsys\n",
    "\n",
    "fig = plt.figure()\n",
    "ax = plt.subplot()\n",
    "fit_exp = False\n",
    "\n",
    "#### get exp decays for all carbon combinations.\n",
    "i = 0\n",
    "states = ['X','mX']\n",
    "carbons = ['26']\n",
    "N =  len(states)*len(carbons)\n",
    "HSV_tuples = [(x*1.0/N, 0.7, 1.) for x in range(N)]\n",
    "RGB_tuples = map(lambda x: colorsys.hsv_to_rgb(*x), HSV_tuples)\n",
    "\n",
    "for state in states:\n",
    "    for Cs in carbons:\n",
    "        f = CD.fit_exp_pos_neg_data('_state'+state+'_Tomo_ZZ_C'+Cs,label = 'C'+Cs+' '+state,ax=ax,color=RGB_tuples[i], fmt='o')\n",
    "        i+=1\n",
    "\n",
    "# f = CD.fit_exp_pos_neg_data('_Tomo_Z_C1',label = 'C1',ax=ax, color='b', fmt='o')\n",
    "# f = CD.fit_exp_pos_neg_data('_Tomo_Z_C2',label = 'C2',ax=ax, color='g', fmt='o')\n",
    "# f = CD.fit_exp_pos_neg_data('_Tomo_Z_C3',label = 'C3',ax=ax, color='r', fmt='o')\n",
    "# f = CD.fit_exp_pos_neg_data('_Tomo_Z_C5',label = 'C5',ax=ax, color='y', fmt='o')\n",
    "# f = CD.fit_exp_pos_neg_data('_Tomo_Z_C6',label = 'C6',ax=ax, color='c', fmt='o')\n",
    "#print f\n",
    "\n",
    "#### plotting/formatting saving\n",
    "plt.title(CD.get_tstamp_from_folder(f)+' 2000 nW')\n",
    "plt.xlabel('Number of Repetitions')\n",
    "plt.ylabel('Expectation value')\n",
    "plt.legend(['C1','fit','C2','fit','C3','fit','C5','fit','C6','fit'],bbox_to_anchor=(1.05, 1), loc=2, borderaxespad=0.)#,'','C3','','C5','','C6'])\n",
    "plt.savefig(os.path.join(f,'Pos_neg_fit_exponential.png'),format='png')\n",
    "plt.show()\n",
    "plt.close('all')"
   ]
  },
  {
   "cell_type": "markdown",
   "metadata": {},
   "source": [
    "# General plot of Bloch vector length"
   ]
  },
  {
   "cell_type": "code",
   "execution_count": null,
   "metadata": {
    "collapsed": false,
    "scrolled": false
   },
   "outputs": [],
   "source": [
    "### routine gets raw data for 'X' and 'Y' tomography of a carbon and plots it.\n",
    "\n",
    "reload(CD)\n",
    "older_than = '20150723_094107'\n",
    "#older_than = None\n",
    "f_name = 'Memory_Sweep_timing_'\n",
    "\n",
    "CD.Sweep_repetitions(carbon = '1',folder_name = f_name, older_than = older_than, do_T2correct=True, fit_result=False, return_fits=True, fitGauss=True)\n",
    "#CD.Sweep_repetitions(carbon = '5',folder_name = 'Memory_Sweep_repump_time_', older_than = None, do_T2correct=False, fit_result=False, return_fits=True, fitGauss=True)\n",
    "#CD.Sweep_repetitions(carbon = '3',folder_name = 'Memory_Sweep_repump_time_', older_than = older_than)\n",
    "#folder_name = 'Memory_Sweep_repump_time_'\n",
    "#CD.Sweep_repetitions(carbon = c,folder_name = folder_name,logicstate = 'X',return_fits=True,plot_result = True, older_than = '20151002_135716' )\n",
    "#CD.Sweep_repetitions(carbon = c, folder_name = folder_name, logicstate = 'mX', return_fits=True, plot_result = True)#, older_than = '20151002_140212')"
   ]
  },
  {
   "cell_type": "code",
   "execution_count": null,
   "metadata": {
    "collapsed": false
   },
   "outputs": [],
   "source": [
    "reload(CD)\n",
    "f_name = 'Memory_Sweep_repump_time_'\n",
    "older_than = '20151022_190000'#'20151022_220000'\n",
    "CD.avg_repump_time_paper_plot(carbons = ['1','5','2','3'], colors=['b','c','g','y'],\n",
    "                              folder_name = f_name, older_than = older_than,\n",
    "                              save=False, fig_name = 'Fig3a_avgRPtime', CR_after_check=True) "
   ]
  },
  {
   "cell_type": "code",
   "execution_count": null,
   "metadata": {
    "collapsed": false
   },
   "outputs": [],
   "source": [
    "reload(CD)\n",
    "f_name = 'Memory_sweep_timing_'\n",
    "older_than = '20150723_094542'#'20151022_220000'\n",
    "CD.t_sweep_paper_plot(carbons = ['1', '2', '5'], colors=['b','c','g'], labels = ['-37.0','+18.4','+23.7'],\n",
    "        folder_name = f_name, older_than = older_than, do_Z=True,\n",
    "        is_X_measurement = False, ignore_logic_state =True,fit_results=False,\n",
    "        save=False, fig_name = 'Supp_tsweep', CR_after_check=True) "
   ]
  },
  {
   "cell_type": "code",
   "execution_count": null,
   "metadata": {
    "collapsed": false,
    "scrolled": true
   },
   "outputs": [],
   "source": [
    "reload(CD) \n",
    "# CD.Sweep_Rep_List(carbons = ['3','6'],older_than = '20151102_080000', save=True) \n",
    "older_than = '20151102_080000'\n",
    "logicstate_list = ['X']*5 # length should be equally long to the carbon list\n",
    "CD.decay_vs_rep_paper_plot(DPS=False, carbons = ['6','1','5','2','3'], logicstate_list = logicstate_list,\n",
    "            fit_results = True,do_T2correct=False, older_than = older_than, \n",
    "            x_max = 800, tick_spacing=200, colors = ['k','b','c','g','y'],  plotclassical = False, fig_name='Fig3_XDecay', plotlabel ='(b)')\n",
    "logicstate_list = ['X','X','X','mX'] # length should be equally long to the carbon list\n",
    "CD.decay_vs_rep_paper_plot(DPS=True,carbons = ['5','2','25','25'], logicstate_list = logicstate_list,\n",
    "            fit_results = True,do_T2correct=False, older_than = older_than, plotclassical = False,\n",
    "            x_max=2300, tick_spacing=500, colors = ['c','g','m','r'], fig_name='Fig4a_DFS', plotlabel ='(a)')"
   ]
  },
  {
   "cell_type": "code",
   "execution_count": null,
   "metadata": {
    "collapsed": false
   },
   "outputs": [],
   "source": [
    "reload(CD)\n",
    "# CD.Osci_period(carbon = '5',older_than = None,freq=0,fixed = [0,1,3])\n",
    "# CD.Osci_period(carbon = '2',older_than = None)\n",
    "CD.Osci_period(carbon = '2',older_than = None,fit_results = True)"
   ]
  },
  {
   "cell_type": "markdown",
   "metadata": {},
   "source": [
    "# Coupling strength vs repetition decay"
   ]
  },
  {
   "cell_type": "code",
   "execution_count": null,
   "metadata": {
    "collapsed": false,
    "scrolled": false
   },
   "outputs": [],
   "source": [
    "reload(CD)\n",
    "\n",
    "update_data = True\n",
    "try:  #does last data exist?\n",
    "    dummy = lastdata\n",
    "except:\n",
    "    print 'No last data'\n",
    "    update_data = True\n",
    "    lastdata=None\n",
    "\n",
    "do_T2correct = True\n",
    "LogPlot = True\n",
    "\n",
    "c_idents = ['1','2','3','5','6','12','13','15','16','23','25','26','35','36','56']\n",
    "#c_idents = ['1','15']\n",
    "\n",
    "older_than_list=['20151105_050000', '20151102_080000','20151026_020000','20151024_131500','20151025_030000']\n",
    "labels = [r'2000 nW $E_{1,2}$', r'2000 nW $A_{1,2}$',r'190 nW $A_{1,2}$',r'100 nW $A_{1,2}$',r'50 nW $A_{1,2}$']\n",
    "styles = ['yo', 'go', 'co', 'bo',  'ko']\n",
    "fit_colors = ['y','g','c', 'b' ,'k']   # no color assigned means no fit is done.\n",
    "\n",
    "lastdata = CD.coupling_vs_rep_paper_plot(c_idents=c_idents, older_than_list=older_than_list, \n",
    "                labels = labels, styles=styles, fit_colors=fit_colors, LogPlot=LogPlot, \n",
    "                fixed = [[0],[0],[0],[0],[0]], is_X_measurement = True, do_Z=False,\n",
    "                update_data=update_data, lastdata = lastdata, do_T2correct=do_T2correct, \n",
    "                fit_guess = [(1,0.00044,20),(1,0.00044,20),(1,0.0006,20),(1,0.00075,20),(1,0.001,20)], fit_guess_art = (1, 0.00044,0))"
   ]
  },
  {
   "cell_type": "code",
   "execution_count": null,
   "metadata": {
    "collapsed": false
   },
   "outputs": [],
   "source": [
    "reload(CD)\n",
    "\n",
    "update_data = True\n",
    "try:  #does last data exist?\n",
    "    dummy = lastdata\n",
    "except:\n",
    "    print 'No last data'\n",
    "    update_data = True\n",
    "    lastdata=None\n",
    "\n",
    "do_T2correct_list = [False,True]\n",
    "do_T2correct = False\n",
    "LogPlot = True\n",
    "\n",
    "c_idents = ['1','2','3','5','6','12','13','15','16','23','25','26','35','36','56']\n",
    "#c_idents = ['1','2','3','5','6']\n",
    "#c_idents = ['12','13','15','16','23','25','26','35','36','56']\n",
    "#c_idents = ['1','12','25']\n",
    "\n",
    "older_than_list=['20151102_080000', '20151102_080000']\n",
    "#older_than_Z='20151027_050000'\n",
    "older_than_Z='20151102_211941'\n",
    "labels = ['uncorrected X decay', 'corrected X decay']\n",
    "styles = ['k.', 'g.']\n",
    "fit_colors = ['k','g']   # no color assigned means no fit is done.\n",
    "\n",
    "lastdata = CD.coupling_vs_rep_paper_plot(c_idents=c_idents, older_than_list=older_than_list,older_than_Z=older_than_Z,\n",
    "                labels = labels, styles=styles, fit_colors=fit_colors, LogPlot=LogPlot, \n",
    "                fixed = [[0],[0],[0],[0],[0]], return_vals=True, do_Z=True,\n",
    "                update_data=update_data, lastdata = lastdata, do_T2correct=do_T2correct, do_T2correct_list =do_T2correct_list,\n",
    "                fit_guess = [(1,0.00044,0), (1,0.00044,0), (1,0.00044,0)], fit_guess_art = [], legend_pos=3)"
   ]
  },
  {
   "cell_type": "code",
   "execution_count": null,
   "metadata": {
    "collapsed": false
   },
   "outputs": [],
   "source": [
    "ShortRP=[21,32,47,114]\n",
    "LongRP=[275,540,675,971]\n",
    "Fitted_times=[400,550,670,730]\n",
    "plt.errorbar(LongRP,ShortRP,None,fmt = 'ro')\n",
    "plt.ylabel('Short repump time')\n",
    "plt.xlabel('Long repump time')\n",
    "plt.ylim(0,150)\n",
    "plt.xlim(0,1000)\n"
   ]
  },
  {
   "cell_type": "code",
   "execution_count": null,
   "metadata": {
    "collapsed": false
   },
   "outputs": [],
   "source": [
    "plt.errorbar(Fitted_times, LongRP, None,fmt = 'bo', label = 'long')\n",
    "plt.errorbar(Fitted_times, np.array(4*np.pi)*ShortRP, None,fmt = 'ro',label='4pi * short')\n",
    "plt.errorbar(np.arange(0,1500,10),np.arange(0,1500,10), None,fmt = 'y',label='y=x')\n",
    "plt.legend(loc=2)\n",
    "plt.ylabel('Measured repump time')\n",
    "plt.xlabel('Fitted repump time')\n",
    "plt.xlim(0,1500)\n",
    "plt.ylim(0,1500)\n",
    "print np.array(np.pi)*Fitted_times"
   ]
  },
  {
   "cell_type": "markdown",
   "metadata": {},
   "source": [
    "## Initialization values for various carbons (execute script 3Qubit_inits)"
   ]
  },
  {
   "cell_type": "code",
   "execution_count": null,
   "metadata": {
    "collapsed": false
   },
   "outputs": [],
   "source": [
    "from analysis.scripts.QEC import Two_Qubit_Tomography as Tomo2\n",
    "reload(Tomo2)\n",
    "carbon_combinations = [[1,2,3],[1,2,5],[1,2,6],[1,3,5],[1,3,6],[1,5,6],[2,3,5],[2,3,6],[2,5,6],[3,5,6]]\n",
    "# carbon_combinations = [[1,2,5]]\n",
    "for kk in carbon_combinations:\n",
    "    x_label,x,res,res_err = Tomo2.BarPlotTomoContrast(tag = '_'+str(kk[0])+str(kk[1])+str(kk[2])+'_init',\n",
    "                                                      plot_fit = False, \n",
    "                                                      return_data = True,\n",
    "                                                      save = False)\n",
    "    print 'Carbons {} {} {}: {} {:.2} +- {:.2} and {} {:.2} +- {:.2}'.format(kk[0],kk[1],kk[2],x_label[0],res[0],res_err[0],x_label[1],res[1],res_err[1])"
   ]
  },
  {
   "cell_type": "markdown",
   "metadata": {},
   "source": [
    "# Decay with repump power/time"
   ]
  },
  {
   "cell_type": "code",
   "execution_count": null,
   "metadata": {
    "collapsed": false
   },
   "outputs": [],
   "source": [
    "reload(CD)\n",
    "reload(fitlib)\n",
    "\n",
    "fig = plt.figure()\n",
    "ax = plt.subplot()\n",
    "plt.xlabel('Pump power (uW))')\n",
    "plt.ylabel('Fitted decay constant')\n",
    "#plt.ylim([0,4])\n",
    "\n",
    "update_data=True\n",
    "if update_data:\n",
    "    older_than ='20150903_232308'\n",
    "    powers=np.array([3.5e-6, 2.7e-6, 2e-6, 1.5e-6, 1e-6, 5e-7, 2e-7, 1e-7, 6e-8, 4e-8, 3e-8])\n",
    "    x1,y1,y_u1, folder = CD.repump_power_vs_repetitions(c_identifier='1', repump_powers = powers, do_T2correct=True, older_than = '20150904_121025')\n",
    "    x2,y2,y_u2, folder2 = CD.repump_power_vs_repetitions(c_identifier='2', repump_powers = powers, do_T2correct=True, older_than = '20150903_232308')\n",
    "\n",
    "plt.errorbar(powers*1e6,y1,y_u1,fmt = 'o',color = 'b', label = 'C1')\n",
    "plt.errorbar(powers*1e6,y2,y_u2,fmt = 'o',color = 'g', label = 'C2')\n",
    "\n",
    "if older_than != None:\n",
    "    plt.title('older_than ' + older_than)\n",
    "else:\n",
    "    plt.title(CD.get_tstamp_from_folder(folder))\n",
    "plt.legend()#bbox_to_anchor=(1.05, 1), loc=2, borderaxespad=0.)\n",
    "plt.savefig(os.path.join(folder,'power_vs_repetitions.pdf'),format='pdf')\n",
    "plt.savefig(os.path.join(folder,'power_vs_repeititons.png'),format='png')\n",
    "plt.show()\n",
    "plt.close('all')\n",
    "    \n",
    "######################### GET SHORT AND FAST PUMPING TIMESCALES AND PLOT DATA AS A FUNCTION OF THOSE\n",
    "\n",
    "if update_data:\n",
    "    tau, tau_err = CD.repump_speed_doubleExp(older_than='20150904_125052', exclude_first_n_points = 10, \n",
    "            offset = 1, amplitude_one = -0.7, amplitude_two = -0, x0 = 0, decay_constant_one = 0.06, \n",
    "            decay_constant_two = 1.06, fixed = [3,4], show_guess = True, do_print = False, \n",
    "            powers=[3500e-9, 2700e-9, 2000e-9, 1500e-9, 1000e-9, 500e-9, 200e-9, 100e-9, 60e-9, 40e-9, 30e-9], \n",
    "            plot_fit = False, plot_results = False)\n",
    "    #tau = tau+np.array(0.45)\n",
    "\n",
    "# tau2, tau_err2 = CD.repump_speed_doubleExp(timestamp='20150903_232308',#'20150903_125250',\n",
    "#         exclude_first_n_points = 10, offset = 1, amplitude_one = -0.7,\n",
    "#         amplitude_two = -0, x0 = 0, decay_constant_one = 0.06, \n",
    "#         decay_constant_two = 1.06, fixed = [3,4], show_guess = False, do_print = False, \n",
    "#         powers=[3500e-9, 2700e-9, 2000e-9, 1500e-9, 1000e-9, 500e-9, 200e-9, 100e-9, 60e-9, 40e-9, 30e-9], \n",
    "#         plot_fit = False, plot_results = True)\n",
    "\n",
    "fig = plt.figure()\n",
    "ax = plt.subplot()\n",
    "\n",
    "plt.xlabel('Repump time constant (us)')\n",
    "plt.ylabel('Fitted decay constant')\n",
    "if False: #Log-Plot\n",
    "    plt.ylim(10,500)\n",
    "    ax.set_yscale(\"log\", nonposy='clip')\n",
    "else:\n",
    "    plt.ylim(0,500)\n",
    "plt.errorbar(tau, y1, yerr = y_u1,xerr = tau_err,fmt = 'o',color = 'b', label = 'C1')\n",
    "plt.errorbar(tau, y2, yerr = y_u2,xerr = tau_err,fmt = 'o',color = 'g', label = 'C2')\n",
    "\n",
    "\n",
    "p0,fitfunc,fitfunc_str =fitlib.fit_dephasing_constant_offset(1., 55.*(10**(-3)), 0.)\n",
    "#p0,fitfunc,fitfunc_str =fitlib.fit_hyperbola(1., 55.*(10**(-3)), 0.07)\n",
    "#p0,fitfunc,fitfunc_str =fitlib.fit_exp_decay_shifted_with_offset(0,200,0.2,0) # g_a : offset g_A : initial Amplitude g_tau : decay constant g_x0 : x offset\n",
    "\n",
    "if True: #show guess\n",
    "    ax.plot(np.linspace(0.05,1.1*np.max(tau),201), fitfunc(np.linspace(0.05,1.2,201)), ':', lw=2, color = 'r')\n",
    "\n",
    "fit_result = fit.fit1d(np.array(tau), np.array(y1), None, p0 = p0, fitfunc = fitfunc, do_print = True, ret = True, fixed = [0])\n",
    "plot.plot_fit1d(fit_result, np.linspace(0.05,1.1*np.max(tau),1001), ax=ax, plot_data=False, add_txt=False, lw=2, color = 'b')\n",
    "\n",
    "p0,fitfunc,fitfunc_str =fitlib.fit_dephasing_constant_offset(1., 20.*(10**(-3)), 0.07)\n",
    "fit_result2 = fit.fit1d(np.array(tau),np.array(y2) ,None, p0 = p0, fitfunc = fitfunc, do_print = False, ret = True,fixed = [0])\n",
    "print fit_result['params_dict']\n",
    "print fit_result2['params_dict']\n",
    "plot.plot_fit1d(fit_result2, np.linspace(0.05,1.1 *np.max(tau),1001), ax=ax, plot_data=False, add_txt=False, lw=2, color = 'g')\n",
    "if True:\n",
    "    print 'saving to: ', folder\n",
    "    plt.savefig(os.path.join(folder,'repumptimescale_vs_repetitions.pdf'),format='pdf')\n",
    "    plt.savefig(os.path.join(folder,'repumptimescale_vs_repetitions.png'),format='png')\n",
    "plt.show()\n",
    "plt.close('all')\n"
   ]
  },
  {
   "cell_type": "markdown",
   "metadata": {},
   "source": [
    "##### Compareregular Pi and BB1 pulses"
   ]
  },
  {
   "cell_type": "code",
   "execution_count": null,
   "metadata": {
    "collapsed": false
   },
   "outputs": [],
   "source": [
    "execfile(r'D:\\measuring\\analysis\\scripts\\Quantum_Memory\\LT2_compare_pi_bb1.py')"
   ]
  },
  {
   "cell_type": "raw",
   "metadata": {},
   "source": []
  },
  {
   "cell_type": "markdown",
   "metadata": {},
   "source": [
    "##### First plot of reps vs repump time"
   ]
  },
  {
   "cell_type": "code",
   "execution_count": null,
   "metadata": {
    "collapsed": false
   },
   "outputs": [],
   "source": [
    "RepumpPower_uW=[1.8, 0.5, 0.1, 0.03, 0.06, 0.04, 1., 0.2, 0.46, 0.5]\n",
    "RepumpTimes_fast_ns=[74.5, 115, 264, 707, 341, 647, 97.9, 162, 428, 122]\n",
    "RepumpTimes_fast_us=np.array(RepumpTimes_fast_ns)/1000.\n",
    "RepumpTimes_fast_Err_ns=[0.5, 10, 34, 86, 53, 69, 0.7, 14, 7, 0.9]\n",
    "RepumpTimes_fast_Err=np.array(RepumpTimes_fast_Err_ns)/1000.\n",
    "RepumpTimes_slow_ns=[926, 850, 1393, 2970, 1382, 3347, 1087, 1035, 1778, 1173]\n",
    "RepumpTimes_slow_Err=[158, 139, 144, 686, 168, 737, 169, 130, 234, 173]\n",
    "NoReps=[220, 138, 112, 72, 86, 86, 198, 158, 79, 184]\n",
    "NoRepsErr=[15, 10, 10, 5, 7, 4, 14, 22, 6, 17]\n",
    "plt.errorbar(RepumpTimes_fast_us, NoReps, xerr=RepumpTimes_fast_Err, yerr=NoRepsErr, fmt = 'o', label = 'fast')\n",
    "#plt.errorbar(RepumpTimes_slow_ns, NoReps, xerr=RepumpTimes_slow_Err, yerr=NoRepsErr, fmt = 'o', label = 'slow')\n",
    "plt.xlabel('Short repump timescale (us)')\n",
    "plt.ylabel('Repetitions (1/e)')\n",
    "plt.ylim(0.500)\n",
    "    \n",
    "g_a, g_A, g_tau = 70, 200, 150\n",
    "#p0, fitfunc, fitfunc_str = fitlib.fit_exp_decay_with_offset(g_a, g_A, g_tau)\n",
    "p0,fitfunc,fitfunc_str =fitlib.fit_dephasing_constant_offset(1., 100.*(10**(-3)), 0.)\n",
    "#plot the initial guess\n",
    "\n",
    "if True: #Show Guess\n",
    "    plt.plot(np.linspace(0.1,1,201), fitfunc(np.linspace(0.1,1.,201)), ':', lw=2)\n",
    "   \n",
    "    \n",
    "fit_result = fit.fit1d(np.array(RepumpTimes_fast_us),np.array( NoReps), None, p0=p0, fitfunc=fitfunc, ret=True, do_print=False,fixed=[0])\n",
    "\n",
    "if True: ## plot data and fit\n",
    "    ax = plt.subplot()\n",
    "    plot.plot_fit1d(fit_result, np.linspace(0.05,1.,1001), ax=ax, plot_data=False)\n"
   ]
  },
  {
   "cell_type": "markdown",
   "metadata": {},
   "source": [
    "#### ZZ decay as a function of perp hyperfine strength"
   ]
  },
  {
   "cell_type": "code",
   "execution_count": null,
   "metadata": {
    "collapsed": false
   },
   "outputs": [],
   "source": [
    "reload(CD)\n",
    "\n",
    "\n",
    "### get exp decays for all carbon combinations.\n",
    "carbons = ['12','13','15','16','23','25','26','35','36','56','1','2','3','5','6']\n",
    "older_than = '20151026_014111' ### 190 nW\n",
    "CD.Z_decay_vs_perp_coupling(c_idents = carbons, older_than = older_than)\n",
    "\n",
    "carbons = ['1','2','3','5','6']\n",
    "older_than = '20151026_014111' ### 190 nW\n",
    "CD.Z_decay_vs_perp_coupling(c_idents = carbons, older_than = older_than)"
   ]
  },
  {
   "cell_type": "markdown",
   "metadata": {},
   "source": [
    "#### Laser stability"
   ]
  },
  {
   "cell_type": "code",
   "execution_count": null,
   "metadata": {
    "collapsed": false
   },
   "outputs": [],
   "source": [
    "from analysis.lib.Qmemory import CheckLaserPower as Laser; reload(Laser)\n",
    "\n",
    "Laser.CheckPower('NewfocusAOM','ADWIN',nr_of_files=10)\n",
    "Laser.CheckPower('MatisseAOM','ADWIN',nr_of_files=10)"
   ]
  },
  {
   "cell_type": "code",
   "execution_count": null,
   "metadata": {
    "collapsed": false
   },
   "outputs": [],
   "source": []
  }
 ],
 "metadata": {
  "kernelspec": {
   "display_name": "Python 2",
   "language": "python",
   "name": "python2"
  },
  "language_info": {
   "codemirror_mode": {
    "name": "ipython",
    "version": 2
   },
   "file_extension": ".py",
   "mimetype": "text/x-python",
   "name": "python",
   "nbconvert_exporter": "python",
   "pygments_lexer": "ipython2",
   "version": "2.7.3"
  }
 },
 "nbformat": 4,
 "nbformat_minor": 0
}
