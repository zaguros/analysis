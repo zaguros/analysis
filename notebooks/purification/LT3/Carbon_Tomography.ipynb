{
 "cells": [
  {
   "cell_type": "code",
   "execution_count": null,
   "metadata": {
    "collapsed": false
   },
   "outputs": [],
   "source": [
    "import sys\n",
    "sys.path.append(r'D:/measuring')\n",
    "import numpy as np\n",
    "sys.path.append(r'D:/measuring/analysis')\n",
    "%matplotlib inline\n",
    "from analysis.scripts.QEC import Two_Qubit_Tomography as Tomo2\n",
    "import matplotlib as mpl\n",
    "mpl.rc(\"savefig\", dpi=80)"
   ]
  },
  {
   "cell_type": "markdown",
   "metadata": {},
   "source": [
    "# Tomographies General"
   ]
  },
  {
   "cell_type": "markdown",
   "metadata": {},
   "source": [
    "###  Single measurement"
   ]
  },
  {
   "cell_type": "code",
   "execution_count": null,
   "metadata": {
    "collapsed": false,
    "scrolled": false
   },
   "outputs": [],
   "source": [
    "reload(Tomo2)\n",
    "# tstamp = '20160412_121041'\n",
    "# Tomo2.BarPlotTomo(timestamp = tstamp, ssro_calib_timestamp = None)\n",
    "\n",
    "Tomo2.BarPlotTomo(tag = 'X_p')\n"
   ]
  },
  {
   "cell_type": "markdown",
   "metadata": {},
   "source": [
    "### Contrast measurement"
   ]
  },
  {
   "cell_type": "code",
   "execution_count": null,
   "metadata": {
    "collapsed": false,
    "scrolled": false
   },
   "outputs": [],
   "source": [
    "\n",
    "reload(Tomo2)\n",
    "\n",
    "init_method = 'both'\n",
    "carbons = [1]\n",
    "\n",
    "for c in carbons:\n",
    "    if init_method == 'both' or init_method == 'MBI':\n",
    "        Tomo2.BarPlotTomoContrast(tag = '_' + str(c) + '_MBI', older_than = None)\n",
    "        \n",
    "    if init_method == 'both' or init_method == 'swap':\n",
    "        Tomo2.BarPlotTomoContrast(tag = '_' + str(c) + '_swap', older_than = None)    \n",
    "    \n",
    "\n",
    "        \n",
    "\n",
    "# Tomo2.BarPlotTomoContrast(tag = '_elStatemY_swapRO_True')\n",
    "# Tomo2.BarPlotTomoContrast(tag = '_Tomo_Y_elState_X_C1')\n",
    "\n",
    "# Tomo2.BarPlotTomoContrast(tag = '_1_MBI')\n",
    "# Tomo2.BarPlotTomoContrast(tag = '_Tomo_X_C5')\n",
    "# Tomo2.BarPlotTomoContrast(tag = '_statemX_Tomo_XY_C25')\n",
    "# Tomo2.BarPlotTomoContrast(tag = '_statemX_Tomo_YY_C25')\n",
    "# Tomo2.BarPlotTomoContrast(tag = '_statemX_Tomo_YX_C25')\n",
    "# Tomo2.BarPlotTomoContrast(tag = '_5_MBI')\n",
    "\n",
    "# Tomo2.BarPlotTomoContrast(tag = '_1_swap')\n",
    "# Tomo2.BarPlotTomoContrast(tag = '_2_swap')\n",
    "# Tomo2.BarPlotTomoContrast(tag = '_8_swap')\n",
    "# Tomo2.BarPlotTomoContrast(tag = '_multiC_MBI_')\n",
    "\n",
    "# mpl.rcParams['axes.linewidth']=2\n",
    "# Tomo2.BarPlotTomoContrastFull_mult_msmts(older_than='20150423_010040')"
   ]
  },
  {
   "cell_type": "code",
   "execution_count": null,
   "metadata": {
    "collapsed": false,
    "scrolled": false
   },
   "outputs": [],
   "source": [
    "reload(Tomo2)\n",
    "carbons = [1]\n",
    "for c in carbons:\n",
    "    Tomo2.CompleteTomo(folder_tag = 'Pippin', \n",
    "                       older_than = None, \n",
    "                       newer_than = None,\n",
    "                       return_num = 1,\n",
    "                       return_newest_or_oldest = 'Oldest',\n",
    "                       plot_fit = False)"
   ]
  },
  {
   "cell_type": "code",
   "execution_count": null,
   "metadata": {
    "collapsed": true
   },
   "outputs": [],
   "source": []
  }
 ],
 "metadata": {
  "kernelspec": {
   "display_name": "Python 2",
   "language": "python",
   "name": "python2"
  },
  "language_info": {
   "codemirror_mode": {
    "name": "ipython",
    "version": 2
   },
   "file_extension": ".py",
   "mimetype": "text/x-python",
   "name": "python",
   "nbconvert_exporter": "python",
   "pygments_lexer": "ipython2",
   "version": "2.7.3"
  }
 },
 "nbformat": 4,
 "nbformat_minor": 0
}
