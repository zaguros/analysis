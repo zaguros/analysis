{
 "metadata": {
  "kernelspec": {
   "display_name": "Python 2",
   "language": "python",
   "name": "python2"
  },
  "language_info": {
   "codemirror_mode": {
    "name": "ipython",
    "version": 2
   },
   "file_extension": ".py",
   "mimetype": "text/x-python",
   "name": "python",
   "nbconvert_exporter": "python",
   "pygments_lexer": "ipython2",
   "version": "2.7.3"
  },
  "name": ""
 },
 "nbformat": 3,
 "nbformat_minor": 0,
 "worksheets": [
  {
   "cells": [
    {
     "cell_type": "code",
     "collapsed": false,
     "input": [
      "execfile(r'D:\\measuring\\analysis\\scripts\\setup_analysis.py')\n",
      "%matplotlib inline\n",
      "import matplotlib as mpl\n",
      "mpl.rc(\"savefig\", dpi=100)\n",
      "from analysis.lib.single_click_ent import Espin_DD_analysis as DD"
     ],
     "language": "python",
     "metadata": {},
     "outputs": []
    },
    {
     "cell_type": "code",
     "collapsed": false,
     "input": [
      "reload(DD)\n",
      "\n",
      "analysis_dict = {   '1': 1,\n",
      "    '4': 1,\n",
      "    '8': 1,\n",
      "    '16': 1, \n",
      "    '32': 1,\n",
      "    '64': 1,\n",
      "    '128': 1,\n",
      "    '256': 3,\n",
      "    '512': 5,\n",
      "    '1024':  7}\n",
      "\n",
      "key = '1024'\n",
      "\n",
      "### ms = -1 data set\n",
      "DD.analyse_dataset('_'+key+'_part',older_than = '20170615_090000',newer_than = '20170614_173530',\n",
      "                   n_datasets = 5,subsets = analysis_dict[key])"
     ],
     "language": "python",
     "metadata": {},
     "outputs": []
    },
    {
     "cell_type": "code",
     "collapsed": false,
     "input": [
      "reload(DD)\n",
      "analysis_dict = {   '1': 1,\n",
      "    '4': 1,\n",
      "    '8': 1,\n",
      "    '16': 1, \n",
      "    '32': 1,\n",
      "    '64': 1,\n",
      "    '128': 3,\n",
      "    '256': 6,\n",
      "    '512': 9,\n",
      "    '1024':  7}\n",
      "### +1 data set\n",
      "key = '1024'\n",
      "DD.analyse_dataset('_'+key+'_part',older_than = '20170615_235959',newer_than = '20170615_114250',\n",
      "                   n_datasets = 5,subsets = analysis_dict[key])"
     ],
     "language": "python",
     "metadata": {},
     "outputs": []
    },
    {
     "cell_type": "code",
     "collapsed": false,
     "input": [
      "##### vary the number of pulses\n",
      "### ms = -1 data set\n",
      "reload(DD)\n",
      "DD.analyse_dataset('_'+'0'+'_part',older_than = '20170619_095753',newer_than = '20170614_094709',\n",
      "                   n_datasets = 1,subsets = 5)\n",
      "\n",
      "DD.analyse_dataset('_'+'-10.0'+'_part',older_than = '20170619_12000',newer_than = '20170614_095752',\n",
      "                   n_datasets = 1,subsets = 5)"
     ],
     "language": "python",
     "metadata": {},
     "outputs": []
    },
    {
     "cell_type": "code",
     "collapsed": true,
     "input": [],
     "language": "python",
     "metadata": {},
     "outputs": []
    }
   ],
   "metadata": {}
  }
 ]
}