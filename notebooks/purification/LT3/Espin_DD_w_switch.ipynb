{
 "cells": [
  {
   "cell_type": "code",
   "execution_count": null,
   "metadata": {
    "collapsed": false
   },
   "outputs": [],
   "source": [
    "execfile(r'D:\\measuring\\analysis\\scripts\\setup_analysis.py')\n",
    "%matplotlib inline\n",
    "import matplotlib as mpl\n",
    "mpl.rc(\"savefig\", dpi=100)\n",
    "mpl.rc(\"pdf\", fonttype =42)\n",
    "mpl.rc(\"font\",**{'family':'sans-serif','sans-serif':['Helvetica Neue LT Std 55 Roman']})\n",
    "mpl.rc(\"xtick\",**{'top':True,'direction':'in'})\n",
    "mpl.rc(\"ytick\",**{'right':True,'direction':'in'})\n",
    "from analysis.lib.single_click_ent import Espin_DD_analysis as DD"
   ]
  },
  {
   "cell_type": "code",
   "execution_count": null,
   "metadata": {
    "collapsed": false
   },
   "outputs": [],
   "source": [
    "reload(DD)\n",
    "\n",
    "analysis_dict = {   '1': 1,\n",
    "    '4': 1,\n",
    "    '8': 1,\n",
    "    '16': 1, \n",
    "    '32': 1,\n",
    "    '64': 1,\n",
    "    '128': 1,\n",
    "    '256': 3,\n",
    "    '512': 5,\n",
    "    '1024':  7}\n",
    "\n",
    "### ms = -1 data set\n",
    "labels = analysis_dict.keys()\n",
    "labels = ['1','8','16','32','64','128','256','512','1024']\n",
    "results = []\n",
    "for k in labels:\n",
    "    fitres = DD.analyse_dataset('_'+k+'_part',older_than = '20170615_090000',newer_than = '20170614_173530',\n",
    "                       n_datasets = 5,subsets = analysis_dict[k],return_fit = True,do_plot = True)\n",
    "    \n",
    "    results = results + [fitres]"
   ]
  },
  {
   "cell_type": "code",
   "execution_count": null,
   "metadata": {
    "collapsed": false
   },
   "outputs": [],
   "source": [
    "reload(DD)\n",
    "fig = plt.figure(figsize = (7,4))\n",
    "ax = plt.subplot(111)\n",
    "\n",
    "for l,f in zip(labels,results):\n",
    "    ax.errorbar(f['x'],f['y'],f['y_u'],fmt='o',label=l)\n",
    "\n",
    "ax.set_xscale('log')\n",
    "ax.set_xlim([0.1,250])\n",
    "plt.legend()\n",
    "plt.show()"
   ]
  },
  {
   "cell_type": "code",
   "execution_count": null,
   "metadata": {
    "collapsed": false
   },
   "outputs": [],
   "source": [
    "reload(DD)\n",
    "analysis_dict = {   '1': 1,\n",
    "    '4': 1,\n",
    "    '8': 1,\n",
    "    '16': 1, \n",
    "    '32': 1,\n",
    "    '64': 1,\n",
    "    '128': 3,\n",
    "    '256': 6,\n",
    "    '512': 9,\n",
    "    '1024':  7}\n",
    "### +1 data set\n",
    "key = '1024'\n",
    "DD.analyse_dataset('_'+key+'_part',older_than = '20170615_235959',newer_than = '20170615_114250',\n",
    "                   n_datasets = 5,subsets = analysis_dict[key])"
   ]
  },
  {
   "cell_type": "code",
   "execution_count": null,
   "metadata": {
    "collapsed": false
   },
   "outputs": [],
   "source": [
    "##### vary the number of pulses\n",
    "### ms = -1 data set\n",
    "reload(DD)\n",
    "DD.analyse_dataset('_'+'0'+'_part',older_than = '20170619_095753',newer_than = '20170614_094709',\n",
    "                   n_datasets = 1,subsets = 5)\n",
    "\n",
    "DD.analyse_dataset('_'+'-10.0'+'_part',older_than = '20170619_12000',newer_than = '20170614_095752',\n",
    "                   n_datasets = 1,subsets = 5)"
   ]
  },
  {
   "cell_type": "code",
   "execution_count": null,
   "metadata": {
    "collapsed": true
   },
   "outputs": [],
   "source": []
  }
 ],
 "metadata": {
  "kernelspec": {
   "display_name": "Python 2",
   "language": "python",
   "name": "python2"
  },
  "language_info": {
   "codemirror_mode": {
    "name": "ipython",
    "version": 2
   },
   "file_extension": ".py",
   "mimetype": "text/x-python",
   "name": "python",
   "nbconvert_exporter": "python",
   "pygments_lexer": "ipython2",
   "version": "2.7.11"
  }
 },
 "nbformat": 4,
 "nbformat_minor": 0
}
