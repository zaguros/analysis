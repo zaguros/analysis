{
 "cells": [
  {
   "cell_type": "code",
   "execution_count": null,
   "metadata": {
    "collapsed": false
   },
   "outputs": [],
   "source": [
    "## setup analysis\n",
    "execfile(r'D:\\measuring\\analysis\\scripts\\setup_analysis.py')\n",
    "from analysis.lib.purification import purify_pq as ppq; reload(ppq)\n",
    "from analysis.lib.purification import purify_analysis as pa; reload(pa)\n",
    "%matplotlib inline\n",
    "\n",
    "folder_lt3 = r'D:\\measuring\\data\\Purification_lt3_raw_data\\Eta_vs_Theta'\n",
    "folder_lt4 = r'D:\\measuring\\data\\Purification_lt4_raw_data\\Eta_vs_Theta'\n",
    "\n",
    "### ssro calibrations\n",
    "day = '20160726_' # for ssro calibration\n",
    "ssro_calib_lt3,ssro_calib_lt4 = pa.get_ssro_calibs()\n",
    "\n",
    "Purify_analysis = pa.purify_analysis('Eta_v_Theta',folder_lt3,folder_lt4,ssro_calib_lt3,ssro_calib_lt4)\n",
    "\n",
    "msmt_days_unshifted = ['20160726']\n",
    "msmt_days_shifted = ['20160824']\n",
    "\n",
    "ms0_percents = [10,15,25,35,50,75]\n",
    "real_theta_vals = np.flipud((0.5-np.array([0.153355,0.2525,0.2827,0.323754,0.362197,0.3865]))\n",
    ")*np.pi\n",
    "real_pop_vals = np.sin(real_theta_vals)**2\n",
    "TPQI_vis = 0.725#0.725\n",
    "TPQI_vis_u = 0.03\n",
    "%matplotlib inline"
   ]
  },
  {
   "cell_type": "code",
   "execution_count": null,
   "metadata": {
    "collapsed": false
   },
   "outputs": [],
   "source": [
    "fidelities = []\n",
    "fidelities_u = []\n",
    "fidelities_mixed = []\n",
    "fidelities_mixed_u = []\n",
    "val00 = []\n",
    "val11 = []\n",
    "\n",
    "for ms0_percent in ms0_percents:\n",
    "    if ms0_percent != 35:\n",
    "        string = 'eta_'+str(ms0_percent)+'percent'\n",
    "        st_start = 3055e3#2763e3\n",
    "    else:\n",
    "        string = 'ZZ_'+str(ms0_percent)+'percent'\n",
    "        st_start = 3057e3#2763e3\n",
    "        \n",
    "    Purify_analysis.get_tstamps_and_offsets(unshifted_days = msmt_days_unshifted, shifted_days = msmt_days_shifted, contains = string)\n",
    "    Purify_analysis.load_raw_data()\n",
    "    \n",
    "    ##### Set filters:\n",
    "    st_start = 3055e3#2763e3\n",
    "    st_len       = 40e3 #50 ns\n",
    "    st_len_w2    = 40e3\n",
    "    \n",
    "    Purify_analysis.apply_temporal_filters_to_prefiltered_data(st_start = st_start,\n",
    "                                                           st_len = st_len,\n",
    "                                                           st_len_w2 = st_len_w2\n",
    "                                                           )\n",
    "    Purify_analysis.apply_sync_filter_w1_w2()\n",
    "    corrected_corrs,u_corrected_corrs,no = Purify_analysis.correlate_RO_results_no_purification(apply_ROC = True,return_value = True,verbose=False)\n",
    "    val00.append(corrected_corrs[3])\n",
    "    val11.append(corrected_corrs[0])\n",
    "    fidelities.append((corrected_corrs[1]+corrected_corrs[2] + 2*np.sqrt(TPQI_vis*corrected_corrs[1]*corrected_corrs[2]))/2)\n",
    "    fidelities_u.append(np.sqrt((1+np.sqrt(TPQI_vis*corrected_corrs[2]/corrected_corrs[1]))*u_corrected_corrs[1]**2\\\n",
    "                               +(1+np.sqrt(TPQI_vis*corrected_corrs[1]/corrected_corrs[2]))*u_corrected_corrs[2]**2\\\n",
    "                               +np.sqrt(corrected_corrs[1]*corrected_corrs[2]/TPQI_vis)*TPQI_vis_u**2)/2)\n",
    "    \n",
    "    fidelities_mixed.append((corrected_corrs[1]+corrected_corrs[2])/2)\n",
    "    fidelities_mixed_u.append(np.sqrt(u_corrected_corrs[1]**2+u_corrected_corrs[2]**2)/2)\n",
    "\n"
   ]
  },
  {
   "cell_type": "code",
   "execution_count": null,
   "metadata": {
    "collapsed": false
   },
   "outputs": [],
   "source": [
    "purified_state_pops = real_pop_vals[1:5]#np.array([15,25,34.5,50])/100.\n",
    "## fidelities were derived from the ipython notebook Purification fidelities.\n",
    "pur_Fids_m_and_p = np.flipud(np.array([[0.50086235948, 0.0291095025243,0.511807360737, 0.0293224710122],\n",
    "                    [0.60207101112, 0.0343278921738,0.56564097942, 0.0340960124038],\n",
    "                    [0.646418396751, 0.0333146903515,0.646120106595, 0.0343019299242],\n",
    "                    [0.732227985693,  0.0392381744896, 0.72610488295, 0.0373220861641]]))\n",
    "\n",
    "\n",
    "purified_state_fid =  0.5*(pur_Fids_m_and_p[:,0]+pur_Fids_m_and_p[:,2])\n",
    "purified_state_fid_u =  0.5*np.sqrt(pur_Fids_m_and_p[:,1]**2+pur_Fids_m_and_p[:,3]**2)\n",
    "\n",
    "model_theta_pur = [0.0954915, 0.146447, 0.206107, 0.273005, 0.345492, 0.421783, 0.5]\n",
    "model_fids_pur = [0.715444, 0.701993, 0.68198, 0.656421, 0.625711, 0.590059,0.549683]\n",
    "\n",
    "model_theta_store = [0.0244717, 0.0544967, 0.0954915, 0.146447, 0.206107, 0.273005, \n",
    "0.345492, 0.421783, 0.5, 0.578217, 0.654508]\n",
    "model_fids_stored_0 = [0.719141, 0.756781, 0.746996, 0.716113, 0.672593, 0.620398, \\\n",
    "0.562094, 0.499757, 0.439788, 0.446315, 0.452703]\n",
    "model_fids_stored_25 = [0.704976, 0.741284, 0.731845, 0.702055, 0.660076, 0.609729, \\\n",
    "0.553488, 0.493357, 0.435464, 0.441008, 0.446435]\n",
    "model_fids_stored_50 = [0.678982, 0.712845, 0.704042, 0.676257, 0.637105, 0.590148, \\\n",
    "0.537695, 0.481613, 0.427528, 0.431269, 0.434931]\n",
    "\n",
    "model_fids_e_0 = [0.737539, 0.777146, 0.76685, 0.734353, 0.688559, 0.633637, 0.572286, \\\n",
    "0.506691, 0.443709, 0.452459, 0.461024]\n",
    "model_fids_e_25 = [0.737539, 0.777146, 0.76685, 0.734353, 0.688559, 0.633637, 0.572286, \\\n",
    "0.506691, 0.443709, 0.452459, 0.461024]\n",
    "model_fids_e_50 = [0.737539, 0.777146, 0.76685, 0.734353, 0.688559, 0.633637, 0.572286, \\\n",
    "0.506691, 0.443709, 0.452459, 0.461024]\n",
    "\n",
    "raw_estate_fids = [0.749274, 0.789511, 0.779051, 0.746036, 0.699514, 0.643718, \\\n",
    "0.581391, 0.514753, 0.450691, 0.458356, 0.465859]\n",
    "\n",
    "def corrs_theta_theory(theta,pd1,pd2,pdc):\n",
    "    p11 = 2*np.cos(theta)**4 * pdc\n",
    "    p00=np.sin(theta)**4 * (pd1*(1-pd2)+pd2*(1-pd1))\n",
    "    p01=np.sin(theta)**2 * np.cos(theta)**2 * pd2\n",
    "    p10=np.sin(theta)**2 * np.cos(theta)**2 * pd1\n",
    "    return np.array([p00,p01,p10,p11])/np.tile((p00+p01+p10+p11)[np.newaxis].T,4).T\n",
    "\n",
    "\n",
    "pd1 = 8e-4;\n",
    "pd2 = 0.5*pd1;\n",
    "pdc = 2.5e-6;\n",
    "e_state_thetas = np.arange(np.pi/20,np.pi/2+np.pi/21.,np.pi/20) \n",
    "e_state_pops = np.sin(e_state_thetas)**2\n",
    "corrs_e_state = corrs_theta_theory(e_state_thetas,pd1,pd2,pdc)\n",
    "model_fids_estate = ((corrs_e_state[1]+corrs_e_state[2] + 2*np.sqrt(TPQI_vis*corrs_e_state[1]*corrs_e_state[2]))/2)\n",
    "model_fids_estate_mixed = ((corrs_e_state[1]+corrs_e_state[2])/2)\n",
    "\n",
    "print TPQI_vis\n",
    "\n",
    "\n",
    "# print e_state_pops\n",
    "print purified_state_pops\n",
    "print purified_state_fid\n",
    "print purified_state_fid_u\n",
    "\n",
    "print np.round(real_pop_vals,3)\n",
    "print np.round(fidelities_mixed,3)\n",
    "print np.round(fidelities_mixed_u,3)"
   ]
  },
  {
   "cell_type": "code",
   "execution_count": null,
   "metadata": {
    "collapsed": true
   },
   "outputs": [],
   "source": [
    "import matplotlib as mpl\n",
    "mpl.rcParams['font.family'] = 'sans-serif'\n",
    "mpl.rcParams['font.sans-serif'] = 'Helvetica'"
   ]
  },
  {
   "cell_type": "code",
   "execution_count": null,
   "metadata": {
    "collapsed": false
   },
   "outputs": [],
   "source": [
    "save_folder = r'K:\\ns\\qt\\Diamond\\Projects\\Purification\\Paper\\Plots'\n",
    "golden_ratio = 1.61803\n",
    "mm_to_inches = 0.0393701 ### inch/mm\n",
    "figure_width = mm_to_inches*78\n",
    "fig = plt.figure(figsize =(figure_width,figure_width/golden_ratio))\n",
    "ax = plt.subplot(111)\n",
    "\n",
    "lw = 1\n",
    "fontsize = 10\n",
    "markersize = 4\n",
    "ax.tick_params(labelsize = fontsize,width =lw)\n",
    "for axis in ['top','bottom','left','right']:\n",
    "    ax.spines[axis].set_linewidth(lw)\n",
    "ax.yaxis.label.set_size(fontsize)\n",
    "ax.xaxis.label.set_size(fontsize)\n",
    "\n",
    "\n",
    "plt.plot(model_theta_pur,model_fids_pur,linestyle='--',color='#3594F2',lw=lw)\n",
    "plt.errorbar(purified_state_pops,purified_state_fid,purified_state_fid_u,marker='o',ms=markersize,mew =0.5,capsize=3, elinewidth=lw,ls='none', color='#3594F2',label = 'Purified state',zorder=10)\n",
    "plt.plot(e_state_pops,model_fids_estate,linestyle='-',color='#F29335',lw=lw,zorder=0)\n",
    "\n",
    "ax.set_ylabel('Fidelity w. Bell state')\n",
    "plt.yticks([0.25,0.5,0.75])\n",
    "plt.xlim([0.1,0.55])\n",
    "plt.ylim([0.4,0.85])\n",
    "\n",
    "### for the final plot we want to hide the x ticks as they are given in the panel below:\n",
    "\n",
    "ax.set_xlabel(r'sin$^2 \\theta$')\n",
    "\n",
    "plt.savefig(os.path.join(save_folder,'did_we_purify_estate.png'),\n",
    "                    format='png',bbox_inches = 'tight',pad_inches=0.3)\n",
    "plt.savefig(os.path.join(save_folder,'did_we_purify_estate.pdf'),\n",
    "                    format='pdf',bbox_inches = 'tight',pad_inches=0.3)\n",
    "plt.show()\n",
    "plt.close('all')"
   ]
  },
  {
   "cell_type": "code",
   "execution_count": null,
   "metadata": {
    "collapsed": false
   },
   "outputs": [],
   "source": [
    "save_folder = r'K:\\ns\\qt\\Diamond\\Projects\\Purification\\Paper\\Plots'\n",
    "\n",
    "golden_ratio = 1.61803\n",
    "mm_to_inches = 0.0393701 ### inch/mm\n",
    "figure_width = mm_to_inches*78\n",
    "fig = plt.figure(figsize =(figure_width,figure_width/golden_ratio))\n",
    "ax = plt.subplot(111)\n",
    "\n",
    "lw = 1\n",
    "fontsize = 10\n",
    "markersize = 4\n",
    "ax.tick_params(labelsize = fontsize,width =lw)\n",
    "for axis in ['top','bottom','left','right']:\n",
    "    ax.spines[axis].set_linewidth(lw)\n",
    "ax.yaxis.label.set_size(fontsize)\n",
    "ax.xaxis.label.set_size(fontsize)\n",
    "\n",
    "#-----\n",
    "#colors\n",
    "#-----\n",
    "blue = '#3594F2'\n",
    "orange = '#F29335'\n",
    "\n",
    "espin_purple = '#632A85'\n",
    "nspin_yellow = '#D2920B'\n",
    "\n",
    "plt.errorbar(purified_state_pops,purified_state_fid,purified_state_fid_u,marker='o',\n",
    "             ms=markersize,mew =0.5,capsize=3, elinewidth=lw,ls='none', color=blue,label = 'Distilled state',zorder=10)\n",
    "plt.errorbar(real_pop_vals,fidelities_mixed,fidelities_mixed_u,marker='o',ms=markersize,mew =0.5,capsize=3,\n",
    "             elinewidth=lw,ls='none',color=espin_purple,label = r'Measured raw'+\"\\n\"+r'electron state',zorder = 10)\n",
    "#r'Measured e$^-$state',zorder=10)\n",
    "# plt.plot([0.0,1.0],[0.5,0.5],'-',color='black',alpha=0.5) # horizontal line for class. fidelity\n",
    "ax.fill_between(model_theta_store,model_fids_stored_0,model_fids_stored_50,\n",
    "                                    color=nspin_yellow,alpha=0.2,linewidth=0.0)\n",
    "plt.plot(model_theta_store,model_fids_stored_25,linestyle='-',\n",
    "                     color=nspin_yellow,lw=lw,label = 'Nuclei: raw state') #Stored raw state\n",
    "# plt.plot(e_state_pops,model_fids_stored,linestyle='-.',color='black',lw=lw)\n",
    "plt.plot(e_state_pops,model_fids_estate_mixed,linestyle='--',color=espin_purple,lw=lw,label = r'Model')\n",
    "plt.plot(model_theta_pur,model_fids_pur,linestyle='--',color=blue,lw=lw,label = 'Model')\n",
    "\n",
    "ax.fill_between(model_theta_store,model_fids_e_0,model_fids_e_50,color=espin_purple,alpha=0.2,linewidth=0.0)\n",
    "plt.plot(model_theta_store,model_fids_e_25,linestyle='-',\n",
    "         color=espin_purple,lw=lw,label = 'Electrons: raw state')#'e$^-$raw state')\n",
    "\n",
    "print purified_state_pops\n",
    "print model_theta_store\n",
    "print model_fids_stored_0\n",
    "\n",
    "\n",
    "#ax.set_ylabel('Fidelity w. Bell state')\n",
    "ax.set_ylabel('State fidelity')\n",
    "# linewidths = lw\n",
    "# textsize = fontsize\n",
    "\n",
    "plt.yticks([0.25,0.5,0.75])\n",
    "plt.xticks([0.1,0.2,0.3,0.4,0.5])\n",
    "plt.xlim([0.1,0.5])\n",
    "plt.ylim([0.2,0.85])\n",
    "# ax.legend()\n",
    "handles, labels = ax.get_legend_handles_labels()\n",
    "labels, handles = zip(*sorted(zip(labels, handles), key=lambda t: t[0]))\n",
    "labels,handles = list(labels),list(handles)\n",
    "### get the right label ordering:\n",
    "# labels[1],labels[2] = labels[2],labels[1]\n",
    "# handles[1],handles[2] = handles[2],handles[1]\n",
    "\n",
    "#### this assignment works for the old labels.\n",
    "labels = [labels[0],labels[1],labels[5],labels[2]]\n",
    "handles = [(handles[0],handles[-2]),handles[1],handles[5],(handles[-3],handles[2])]\n",
    "\n",
    "# ax.legend()\n",
    "ax.legend(handles, labels,borderaxespad=0.,fontsize =fontsize-1,frameon=False,\n",
    "                  ncol=1,bbox_to_anchor=(1.01, 0.85), loc=2,numpoints=1,\n",
    "                                  handletextpad = 0.2,columnspacing = 0.8)\n",
    "# ax.legend(handles=[Fid,XX,YY,ZZ],ncol=2,numpoints = 1,frameon=False,\n",
    "#                                   handlelength=0,handletextpad = 0.4,columnspacing = 0.8,\n",
    "#                                   borderaxespad =0.05,\n",
    "#                                   fontsize=fontsize-1)\n",
    "\n",
    "### for the final plot we want to hide the x ticks as they are given in the panel below:\n",
    "# ax.set_xticklabels([])\n",
    "# ax.set_xlabel('Population in ms=0')\n",
    "ax.set_xlabel(r'sin$^2 \\theta$')\n",
    "\n",
    "plt.savefig(os.path.join(save_folder,'did_we_purify_combined.png'),\n",
    "                    format='png',bbox_inches = 'tight',pad_inches=0.3)\n",
    "plt.savefig(os.path.join(save_folder,'did_we_purify_combined.pdf'),\n",
    "                    format='pdf',bbox_inches = 'tight',pad_inches=0.3)\n",
    "plt.show()\n",
    "plt.close('all')"
   ]
  },
  {
   "cell_type": "code",
   "execution_count": null,
   "metadata": {
    "collapsed": false
   },
   "outputs": [],
   "source": [
    "fig = plt.figure(figsize =(figure_width,figure_width/golden_ratio))\n",
    "ax = plt.subplot(111)\n",
    "\n",
    "ax.tick_params(labelsize = fontsize,width =lw)\n",
    "for axis in ['top','bottom','left','right']:\n",
    "    ax.spines[axis].set_linewidth(lw)\n",
    "ax.yaxis.label.set_size(fontsize)\n",
    "ax.xaxis.label.set_size(fontsize)\n",
    "\n",
    "\n",
    "el_state_legend = r'Measured raw'+\"\\n\"+r'electron state'\n",
    "el_state_legend = 'Raw state: data'\n",
    "plt.errorbar(purified_state_pops,purified_state_fid,purified_state_fid_u,marker='o',\n",
    "             ms=markersize,mew =0.5,capsize=3, elinewidth=lw,ls='none', color=blue,label = 'Distilled state: data',zorder=10)\n",
    "plt.errorbar(real_pop_vals,fidelities_mixed,fidelities_mixed_u,marker='o',ms=markersize,mew =0.5,capsize=3,\n",
    "             elinewidth=lw,ls='none',color=espin_purple,label = el_state_legend,zorder = 10)\n",
    "\n",
    "ax.fill_between(model_theta_store,model_fids_stored_0,model_fids_stored_50,\n",
    "                                    color=nspin_yellow,alpha=0.2,linewidth=0.0)\n",
    "plt.plot(model_theta_store,model_fids_stored_25,linestyle='-',\n",
    "                     color=nspin_yellow,lw=lw,label = 'Nuclei: raw state') \n",
    "\n",
    "plt.plot(e_state_pops,model_fids_estate_mixed,linestyle='--',color=espin_purple,lw=lw,label = r'Raw state: model')\n",
    "plt.plot(model_theta_pur,model_fids_pur,linestyle='--',color=blue,lw=lw,label = 'Distilled state: model')\n",
    "\n",
    "# error bar for e model does not make sense yet. it is all the same right now\n",
    "# ax.fill_between(model_theta_store,model_fids_e_0,model_fids_e_50,color=espin_purple,alpha=0.2,linewidth=0.0)\n",
    "plt.plot(model_theta_store,model_fids_e_25,linestyle='-',\n",
    "         color=espin_purple,lw=lw,label = 'Electrons: raw state')\n",
    "\n",
    "ax.set_ylabel('State fidelity')\n",
    "\n",
    "\n",
    "plt.yticks([0.25,0.5,0.75])\n",
    "plt.xticks([0.1,0.2,0.3,0.4,0.5])\n",
    "plt.xlim([0.1,0.5])\n",
    "plt.ylim([0.2,0.85])\n",
    "\n",
    "handles, labels = ax.get_legend_handles_labels()\n",
    "labels, handles = zip(*sorted(zip(labels, handles), key=lambda t: t[0])) #alphabetical sorting\n",
    "labels,handles = list(labels),list(handles)\n",
    "\n",
    "\n",
    "### we make an empty handle for descriptive purposes\n",
    "r = mpl.patches.Rectangle((0,0), 1, 1, fill=False, edgecolor='none',\n",
    "                                 visible=False)\n",
    "#### this assignment works for the old labels.\n",
    "labels = [labels[0],labels[1],labels[4],labels[5],\"\",\"Idealized models\",labels[2],labels[3]]\n",
    "handles = [handles[0],handles[1],handles[4],handles[5],r,r,handles[2],handles[3]]\n",
    "\n",
    "\n",
    "ax.legend(handles, labels,borderaxespad=0.,fontsize =fontsize-1,frameon=False,\n",
    "                  ncol=1,bbox_to_anchor=(1.01, 0.95), loc=2,numpoints=1,\n",
    "                                  handletextpad = 0.2,columnspacing = 0.7,labelspacing = 0.25)\n",
    "\n",
    "### for the final plot we want to hide the x ticks as they are given in the panel below:\n",
    "ax.set_xlabel(r'sin$^2 \\theta$')\n",
    "\n",
    "plt.savefig(os.path.join(save_folder,'did_we_purify_combined_diff_labels.png'),\n",
    "                    format='png',bbox_inches = 'tight',pad_inches=0.3)\n",
    "plt.savefig(os.path.join(save_folder,'did_we_purify_combined_diff_labels.pdf'),\n",
    "                    format='pdf',bbox_inches = 'tight',pad_inches=0.3)\n",
    "plt.show()\n",
    "plt.close('all')"
   ]
  },
  {
   "cell_type": "code",
   "execution_count": null,
   "metadata": {
    "collapsed": true
   },
   "outputs": [],
   "source": [
    "model_handles = handles[2]\n"
   ]
  },
  {
   "cell_type": "code",
   "execution_count": null,
   "metadata": {
    "collapsed": false
   },
   "outputs": [],
   "source": [
    "purple_line = handles[2][0]"
   ]
  },
  {
   "cell_type": "code",
   "execution_count": null,
   "metadata": {
    "collapsed": false
   },
   "outputs": [],
   "source": []
  },
  {
   "cell_type": "markdown",
   "metadata": {},
   "source": [
    "## Hypothesis testing"
   ]
  },
  {
   "cell_type": "markdown",
   "metadata": {},
   "source": [
    "Interpolate to find value at points"
   ]
  },
  {
   "cell_type": "code",
   "execution_count": null,
   "metadata": {
    "collapsed": false
   },
   "outputs": [],
   "source": [
    "nullValues = np.interp(purified_state_pops, model_theta_store, model_fids_e_25)\n",
    "purState=zip(nullValues,purified_state_fid,purified_state_fid_u)"
   ]
  },
  {
   "cell_type": "markdown",
   "metadata": {},
   "source": [
    "Error bars represent one standard deviation. Assume normally distributed outcomes (CLT)"
   ]
  },
  {
   "cell_type": "code",
   "execution_count": null,
   "metadata": {
    "collapsed": false
   },
   "outputs": [],
   "source": [
    "from scipy.stats import norm\n",
    "\n",
    "for x, mean, error in purState:\n",
    "    print norm.cdf(x,mean,error)\n",
    "    "
   ]
  },
  {
   "cell_type": "markdown",
   "metadata": {},
   "source": [
    "And vs raw state?"
   ]
  },
  {
   "cell_type": "code",
   "execution_count": null,
   "metadata": {
    "collapsed": false
   },
   "outputs": [],
   "source": [
    "nullValuesRaw = np.interp(purified_state_pops, model_theta_store, raw_estate_fids)\n",
    "purStateVsRaw =zip(nullValuesRaw,purified_state_fid,purified_state_fid_u)\n",
    "\n",
    "from scipy.stats import norm\n",
    "\n",
    "for x, mean, error in purStateVsRaw:\n",
    "    print norm.cdf(x,mean,error)\n"
   ]
  },
  {
   "cell_type": "code",
   "execution_count": null,
   "metadata": {
    "collapsed": false
   },
   "outputs": [],
   "source": [
    "purified_state_pops"
   ]
  },
  {
   "cell_type": "code",
   "execution_count": null,
   "metadata": {
    "collapsed": false
   },
   "outputs": [],
   "source": [
    "save_folder = r'K:\\ns\\qt\\Diamond\\Projects\\Purification\\Paper\\Plots'\n",
    "\n",
    "golden_ratio = 1.61803\n",
    "mm_to_inches = 0.0393701 ### inch/mm\n",
    "figure_width = mm_to_inches*78\n",
    "fig = plt.figure(figsize =(figure_width,figure_width/golden_ratio))\n",
    "ax = plt.subplot(111)\n",
    "\n",
    "lw = 1\n",
    "fontsize = 10\n",
    "markersize = 4\n",
    "ax.tick_params(labelsize = fontsize,width =lw)\n",
    "for axis in ['top','bottom','left','right']:\n",
    "    ax.spines[axis].set_linewidth(lw)\n",
    "ax.yaxis.label.set_size(fontsize)\n",
    "ax.xaxis.label.set_size(fontsize)\n",
    "\n",
    "plt.errorbar(purified_state_pops,purified_state_fid,purified_state_fid_u,marker='o',\n",
    "             ms=markersize,mew =0.5,capsize=3, elinewidth=lw,ls='none', color='#3594F2',label = 'Distilled state',zorder=10)\n",
    "plt.plot(model_theta_store,model_fids_e_25,linestyle='-',color='#50A53A',lw=lw,label = 'e$^-$raw state')\n",
    "plt.plot(model_theta_store,raw_estate_fids,linestyle='--',color='#F29335',lw=lw,label = 'Initial state')\n",
    "\n",
    "\n",
    "#ax.set_ylabel('Fidelity w. Bell state')\n",
    "ax.set_ylabel('State fidelity')\n",
    "# linewidths = lw\n",
    "# textsize = fontsize\n",
    "\n",
    "plt.yticks([0.25,0.5,0.75])\n",
    "plt.xticks([0.1,0.2,0.3,0.4,0.5])\n",
    "plt.xlim([0.1,0.5])\n",
    "plt.ylim([0.4,0.8])\n",
    "# ax.legend()\n",
    "handles, labels = ax.get_legend_handles_labels()\n",
    "labels, handles = zip(*sorted(zip(labels, handles), key=lambda t: t[0]))\n",
    "labels,handles = list(labels),list(handles)\n",
    "\n",
    "# ax.legend()\n",
    "ax.legend(handles, labels,borderaxespad=0.,fontsize =fontsize-1,frameon=False,\n",
    "                  ncol=1,bbox_to_anchor=(1.01, 0.85), loc=2,numpoints=1,\n",
    "                                  handletextpad = 0.2,columnspacing = 0.8)\n",
    "# ax.legend(handles=[Fid,XX,YY,ZZ],ncol=2,numpoints = 1,frameon=False,\n",
    "#                                   handlelength=0,handletextpad = 0.4,columnspacing = 0.8,\n",
    "#                                   borderaxespad =0.05,\n",
    "#                                   fontsize=fontsize-1)\n",
    "\n",
    "### for the final plot we want to hide the x ticks as they are given in the panel below:\n",
    "# ax.set_xticklabels([])\n",
    "# ax.set_xlabel('Population in ms=0')\n",
    "ax.set_xlabel(r'sin$^2 \\theta$')\n",
    "\n",
    "plt.savefig(os.path.join(save_folder,'pvaluePlot.png'),\n",
    "                    format='png',bbox_inches = 'tight',pad_inches=0.3)\n",
    "plt.savefig(os.path.join(save_folder,'pvaluePlot.pdf'),\n",
    "                    format='pdf',bbox_inches = 'tight',pad_inches=0.3)\n",
    "plt.show()\n",
    "plt.close('all')"
   ]
  },
  {
   "cell_type": "code",
   "execution_count": null,
   "metadata": {
    "collapsed": true
   },
   "outputs": [],
   "source": []
  }
 ],
 "metadata": {
  "kernelspec": {
   "display_name": "Python 2",
   "language": "python",
   "name": "python2"
  },
  "language_info": {
   "codemirror_mode": {
    "name": "ipython",
    "version": 2
   },
   "file_extension": ".py",
   "mimetype": "text/x-python",
   "name": "python",
   "nbconvert_exporter": "python",
   "pygments_lexer": "ipython2",
   "version": "2.7.3"
  }
 },
 "nbformat": 4,
 "nbformat_minor": 0
}
