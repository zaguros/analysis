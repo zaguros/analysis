{
 "metadata": {
  "name": "",
  "signature": ""
 },
 "nbformat": 3,
 "nbformat_minor": 0,
 "worksheets": [
  {
   "cells": [
    {
     "cell_type": "code",
     "collapsed": false,
     "input": [
      "d=np.loadtxt(r'D:\\measuring\\data\\20150209\\103700_count_fluctuations\\1038_initial_status_ZPL.txt', skiprows=1)"
     ],
     "language": "python",
     "metadata": {},
     "outputs": []
    },
    {
     "cell_type": "code",
     "collapsed": false,
     "input": [
      "d[:,0]"
     ],
     "language": "python",
     "metadata": {},
     "outputs": []
    },
    {
     "cell_type": "code",
     "collapsed": false,
     "input": [
      "x=d[:,0]\n",
      "y=d[:,1]\n",
      "print 'mean {:.1f} Kcts'.format(np.mean(y)/1000.)\n",
      "print 'var {:.1f} Kcts'.format(np.var(y)/1000.)"
     ],
     "language": "python",
     "metadata": {},
     "outputs": []
    },
    {
     "cell_type": "code",
     "collapsed": false,
     "input": [
      "r=500\n",
      "plot(x[0:r]/100.,y[0:r])"
     ],
     "language": "python",
     "metadata": {},
     "outputs": []
    },
    {
     "cell_type": "code",
     "collapsed": false,
     "input": [
      "yf=np.abs(np.fft.fft(y))\n",
      "np.argmax(yf)"
     ],
     "language": "python",
     "metadata": {},
     "outputs": []
    },
    {
     "cell_type": "code",
     "collapsed": false,
     "input": [
      "rf=400\n",
      "xf=np.fft.fftfreq(len(y[1:rf]), d=0.01)\n",
      "print xf\n",
      "plot(xf,yf[1:rf])"
     ],
     "language": "python",
     "metadata": {},
     "outputs": []
    },
    {
     "cell_type": "code",
     "collapsed": true,
     "input": [],
     "language": "python",
     "metadata": {},
     "outputs": []
    },
    {
     "cell_type": "code",
     "collapsed": false,
     "input": [
      "t = np.arange(256)\n",
      "sp = np.fft.fft(np.sin(t))\n",
      "freq = np.fft.fftfreq(t.shape[-1])\n",
      "plot(freq, sp.real, freq, sp.imag)"
     ],
     "language": "python",
     "metadata": {},
     "outputs": []
    },
    {
     "cell_type": "code",
     "collapsed": false,
     "input": [],
     "language": "python",
     "metadata": {},
     "outputs": []
    },
    {
     "cell_type": "code",
     "collapsed": false,
     "input": [],
     "language": "python",
     "metadata": {},
     "outputs": []
    }
   ],
   "metadata": {}
  }
 ]
}
