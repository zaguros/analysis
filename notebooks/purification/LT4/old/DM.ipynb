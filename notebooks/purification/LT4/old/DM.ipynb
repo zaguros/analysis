{
 "metadata": {
  "name": "",
  "signature": ""
 },
 "nbformat": 3,
 "nbformat_minor": 0,
 "worksheets": [
  {
   "cells": [
    {
     "cell_type": "code",
     "collapsed": false,
     "input": [
      "execfile(r'D:\\measuring\\analysis\\scripts\\setup_analysis.py')"
     ],
     "language": "python",
     "metadata": {},
     "outputs": []
    },
    {
     "cell_type": "code",
     "collapsed": false,
     "input": [
      "execfile(r'D:\\measuring\\measurement\\scripts\\lt4_scripts\\dm\\zernike.py')"
     ],
     "language": "python",
     "metadata": {},
     "outputs": []
    },
    {
     "cell_type": "code",
     "collapsed": false,
     "input": [
      "import scipy.misc as ms"
     ],
     "language": "python",
     "metadata": {},
     "outputs": []
    },
    {
     "cell_type": "code",
     "collapsed": false,
     "input": [
      "im = ms.imread(r'D:\\einstein.png', flatten=True)\n",
      "ms.\n",
      "im_sml=ms.imresize(im,(12,12)).astype(np.uint8)\n",
      "imnorm = im_sml/3\n",
      "imshow(imnorm)"
     ],
     "language": "python",
     "metadata": {},
     "outputs": []
    },
    {
     "cell_type": "code",
     "collapsed": false,
     "input": [
      "import scipy"
     ],
     "language": "python",
     "metadata": {},
     "outputs": []
    },
    {
     "cell_type": "code",
     "collapsed": false,
     "input": [
      "scipy.version.full_version"
     ],
     "language": "python",
     "metadata": {},
     "outputs": []
    },
    {
     "cell_type": "code",
     "collapsed": false,
     "input": [
      "d.keys()"
     ],
     "language": "python",
     "metadata": {},
     "outputs": []
    },
    {
     "cell_type": "code",
     "collapsed": false,
     "input": [
      "fn=r'D:\\measuring\\data\\20150202\\142119_DM_sweep_curve_ThePippin_Sil1_zernike_50\\142119_DM_sweep_curve_ThePippin_Sil1_zernike_50._msurf.npz'\n",
      "d=np.load(fn)\n",
      "ax = imshow(d['Z_diff'])\n",
      "plt.colorbar()"
     ],
     "language": "python",
     "metadata": {},
     "outputs": []
    },
    {
     "cell_type": "code",
     "collapsed": false,
     "input": [
      "T_file_path = 'K:\\ns\\qt\\Diamond\\Setups\\LTLab_B07'"
     ],
     "language": "python",
     "metadata": {},
     "outputs": []
    },
    {
     "cell_type": "code",
     "collapsed": false,
     "input": [
      "x=np.loadtxt(r'D:\\measuring\\data\\20150123\\ThePippin_Sil1_DM_try2_voltages_opt_step_0')\n",
      "y=np.loadtxt(r'D:\\measuring\\data\\20150123\\ThePippin_Sil1_DM_try2_countrates_opt_step_2')"
     ],
     "language": "python",
     "metadata": {},
     "outputs": []
    },
    {
     "cell_type": "code",
     "collapsed": false,
     "input": [
      "len(y)"
     ],
     "language": "python",
     "metadata": {},
     "outputs": []
    },
    {
     "cell_type": "code",
     "collapsed": false,
     "input": [
      "d=np.loadtxt(r'D:\\measuring\\data\\20150202\\174020_DM_total_curve_ThePippin_Sil1_no_pol\\174020_DM_total_curve_ThePippin_Sil1_no_pol.dat', skiprows=4)"
     ],
     "language": "python",
     "metadata": {},
     "outputs": []
    },
    {
     "cell_type": "code",
     "collapsed": false,
     "input": [
      "x=d[:,0];y=d[:,1];z=d[:,2]"
     ],
     "language": "python",
     "metadata": {},
     "outputs": []
    },
    {
     "cell_type": "code",
     "collapsed": false,
     "input": [
      "plot(x,y)"
     ],
     "language": "python",
     "metadata": {},
     "outputs": []
    },
    {
     "cell_type": "code",
     "collapsed": false,
     "input": [],
     "language": "python",
     "metadata": {},
     "outputs": []
    }
   ],
   "metadata": {}
  }
 ]
}
