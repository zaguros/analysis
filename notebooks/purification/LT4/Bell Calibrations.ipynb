{
 "cells": [
  {
   "cell_type": "code",
   "execution_count": null,
   "metadata": {
    "collapsed": false
   },
   "outputs": [],
   "source": [
    "execfile(r'D:\\measuring\\analysis\\scripts\\setup_analysis.py')\n",
    "%matplotlib inline"
   ]
  },
  {
   "cell_type": "markdown",
   "metadata": {},
   "source": [
    "#### Stage 0: ESR"
   ]
  },
  {
   "cell_type": "code",
   "execution_count": null,
   "metadata": {
    "collapsed": false
   },
   "outputs": [],
   "source": [
    "execfile(r'D:/measuring/analysis/scripts/espin/simple_esr_fit.py')"
   ]
  },
  {
   "cell_type": "markdown",
   "metadata": {},
   "source": [
    "#### Stage 1: SSRO"
   ]
  },
  {
   "cell_type": "code",
   "execution_count": null,
   "metadata": {
    "collapsed": false
   },
   "outputs": [],
   "source": [
    "ssro.ssrocalib(plot_photon_ms0=False)\n",
    "print 'Threshold = 96.5'"
   ]
  },
  {
   "cell_type": "code",
   "execution_count": null,
   "metadata": {
    "collapsed": false
   },
   "outputs": [],
   "source": [
    "pqsequence.fast_ssro_calib(RO_length_ns=3700, plot_sweep_index=1)"
   ]
  },
  {
   "cell_type": "markdown",
   "metadata": {},
   "source": [
    "#### Stage 3.1: Dark ESR"
   ]
  },
  {
   "cell_type": "code",
   "execution_count": null,
   "metadata": {
    "collapsed": false
   },
   "outputs": [],
   "source": [
    "execfile(r'D:\\measuring\\analysis\\scripts\\espin\\dark_esr_analysis_bell.py')"
   ]
  },
  {
   "cell_type": "markdown",
   "metadata": {},
   "source": [
    "#### Stage 3.2: Pi pulse multiplicity 1"
   ]
  },
  {
   "cell_type": "code",
   "execution_count": null,
   "metadata": {
    "collapsed": false
   },
   "outputs": [],
   "source": [
    "folder= tb.latest_data('Pi_Calibration')\n",
    "a=sequence.SequenceAnalysis(folder)\n",
    "a.get_sweep_pts()\n",
    "a.get_readout_results(name='ssro')\n",
    "ax = a.plot_result_vs_sweepparam(ret='ax', name='ssro')\n",
    "ax.set_ylim(0.0,1)\n",
    "print 'minimal point:',a.sweep_pts[np.argmin(a.normalized_ssro)]"
   ]
  },
  {
   "cell_type": "markdown",
   "metadata": {},
   "source": [
    "#### Stage 3.3: Pi pulse multiplicity 15"
   ]
  },
  {
   "cell_type": "code",
   "execution_count": null,
   "metadata": {
    "collapsed": false
   },
   "outputs": [],
   "source": [
    "from analysis.scripts.bell import calibration_tools\n",
    "reload(calibration_tools)\n",
    "folder=tb.latest_data('Pi_Calibration')\n",
    "fit=calibration_tools.fit_parabolic(folder, x0_guess=0.9,a_guess=0.)\n",
    "\n",
    "print 'Pi pulse calib. 15 rep. from : {} '.format(tb.timestamp_from_datetime(tb.get_datetime_from_folder(folder)))\n",
    "\n",
    "print 'Fidelity {:.3f} +/- {:.3f}'.format(fit['params'][0]*100, fit['error'][0]*100)\n",
    "print '\\tFitted minimum at {:.3f} V'.format(fit['params'][2])\n",
    "#print 'Fitted minimum at {:.4f}+/- {:.4f}'.format(fit['params'][2], fit['error'][2])\n",
    "#print 'minimal point:',a.sweep_pts[np.argmin(a.normalized_ssro)]"
   ]
  },
  {
   "cell_type": "markdown",
   "metadata": {},
   "source": [
    "#### Stage 3.4 Pi/2 calibration"
   ]
  },
  {
   "cell_type": "code",
   "execution_count": null,
   "metadata": {
    "collapsed": false
   },
   "outputs": [],
   "source": [
    "execfile(r'D:\\measuring\\analysis\\scripts\\espin\\calibration_pi2_CORPSE.py')"
   ]
  },
  {
   "cell_type": "markdown",
   "metadata": {},
   "source": [
    "###### Stage 3.42: Pi/2 pulse multiplicity 15"
   ]
  },
  {
   "cell_type": "code",
   "execution_count": null,
   "metadata": {
    "collapsed": false
   },
   "outputs": [],
   "source": [
    "from analysis.scripts.bell import calibration_tools\n",
    "reload(calibration_tools)\n",
    "folder=tb.latest_data('Pi2_Calibration')\n",
    "fig, ax = plt.subplots(1,1, figsize=(4.5,4))\n",
    "ax.set_ylim(0.75,1)\n",
    "fit=calibration_tools.fit_parabolic(folder, of_guess=0, x0_guess=0.84,a_guess=-1.,ax=ax)\n",
    "fit_result=calibration_tools.plot_result(folder, ax=ax, ret=True)\n",
    "\n",
    "\n",
    "print 'Pi/2 pulse calib. 15 rep. from : {} '.format(tb.timestamp_from_datetime(tb.get_datetime_from_folder(folder)))\n",
    "print 'Fidelity {:.3f} +/- {:.3f}'.format(fit['params'][0], fit['error'][0])\n",
    "print '\\tFitted minimum at {:.3f} V'.format(fit['params'][2])"
   ]
  },
  {
   "cell_type": "code",
   "execution_count": null,
   "metadata": {
    "collapsed": false
   },
   "outputs": [],
   "source": [
    "GoalValue=0.03\n",
    "m=2.065\n",
    "GoalValue*m/2."
   ]
  },
  {
   "cell_type": "markdown",
   "metadata": {},
   "source": [
    "### Stage 3.5 Pi/4 calibration"
   ]
  },
  {
   "cell_type": "code",
   "execution_count": null,
   "metadata": {
    "collapsed": false
   },
   "outputs": [],
   "source": [
    "execfile(r'D:\\measuring\\analysis\\scripts\\espin\\calibration_pi4.py')\n",
    "print '3Pi/4 pulse calib.  from : {}\\{} '.format(tb.timestamp_from_datetime(tb.get_datetime_from_folder(folder))[:8],tb.timestamp_from_datetime(tb.get_datetime_from_folder(folder))[8:])"
   ]
  },
  {
   "cell_type": "code",
   "execution_count": null,
   "metadata": {
    "collapsed": false
   },
   "outputs": [],
   "source": [
    "GoalValue=0.776-0.75\n",
    "m=1.419408/2.\n",
    "GoalValue*m"
   ]
  },
  {
   "cell_type": "markdown",
   "metadata": {},
   "source": [
    "#### Stage 3.52 Pi/4 pole calibration"
   ]
  },
  {
   "cell_type": "code",
   "execution_count": null,
   "metadata": {
    "collapsed": false
   },
   "outputs": [],
   "source": [
    "from analysis.scripts.bell import calibration_tools\n",
    "reload(calibration_tools)\n",
    "folder=tb.latest_data('NPi4Calibration')\n",
    "fig, ax = plt.subplots(1,1, figsize=(4.5,4))\n",
    "ax.set_ylim(0.8,1)\n",
    "fit=calibration_tools.fit_parabolic(folder,of_guess=0., x0_guess=.87,a_guess=-1., ax=ax, info_xy='auto')\n",
    "print '3Pi/4 pulse pole calib.  from : {}\\{} '.format(tb.timestamp_from_datetime(tb.get_datetime_from_folder(folder))[:8]\\\n",
    "                                                 ,tb.timestamp_from_datetime(tb.get_datetime_from_folder(folder))[8:])\n",
    "print 'Fitted maximum at {:.4f}'.format(fit['params'][2])\n",
    "print 'Fidelity {:.3f} +/- {:.3f}'.format(fit['params'][0], fit['error'][0])"
   ]
  },
  {
   "cell_type": "markdown",
   "metadata": {},
   "source": [
    "#### Stage 4.1: Bell echo"
   ]
  },
  {
   "cell_type": "code",
   "execution_count": null,
   "metadata": {
    "collapsed": false
   },
   "outputs": [],
   "source": [
    "folder= tb.latest_data('echo')\n",
    "a=sequence.SequenceAnalysis(folder)\n",
    "a.get_sweep_pts()\n",
    "a.get_readout_results(name='ssro')\n",
    "a.get_electron_ROC()\n",
    "ax = a.plot_result_vs_sweepparam(ret='ax', name='ssro')\n",
    "ax.set_ylim(0.,0.02)"
   ]
  },
  {
   "cell_type": "markdown",
   "metadata": {},
   "source": [
    "#### Stage 4.2: Random MW RO correlation"
   ]
  },
  {
   "cell_type": "code",
   "execution_count": null,
   "metadata": {
    "collapsed": false
   },
   "outputs": [],
   "source": [
    "Run RND MW notebook"
   ]
  },
  {
   "cell_type": "markdown",
   "metadata": {},
   "source": [
    "#### Stage 4.3: SP COrrelations"
   ]
  },
  {
   "cell_type": "raw",
   "metadata": {},
   "source": [
    "In Window Correlations notebook for now"
   ]
  },
  {
   "cell_type": "code",
   "execution_count": null,
   "metadata": {
    "collapsed": false
   },
   "outputs": [],
   "source": [
    "from scipy import optimize"
   ]
  },
  {
   "cell_type": "code",
   "execution_count": null,
   "metadata": {
    "collapsed": false
   },
   "outputs": [],
   "source": []
  }
 ],
 "metadata": {
  "kernelspec": {
   "display_name": "Python 2",
   "language": "python",
   "name": "python2"
  },
  "language_info": {
   "codemirror_mode": {
    "name": "ipython",
    "version": 2
   },
   "file_extension": ".py",
   "mimetype": "text/x-python",
   "name": "python",
   "nbconvert_exporter": "python",
   "pygments_lexer": "ipython2",
   "version": "2.7.3"
  }
 },
 "nbformat": 4,
 "nbformat_minor": 0
}
