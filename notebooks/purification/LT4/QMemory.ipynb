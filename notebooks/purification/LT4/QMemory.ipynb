{
 "cells": [
  {
   "cell_type": "code",
   "execution_count": null,
   "metadata": {
    "collapsed": false
   },
   "outputs": [],
   "source": [
    "import numpy as np\n",
    "import os,sys\n",
    "%matplotlib inline\n",
    "sys.path.append(\"D:/measuring/\")\n",
    "sys.path.append(r'D:/measuring/analysis')\n",
    "import analysis.lib.fitting.common as fitlib\n",
    "from analysis.lib.Qmemory import CarbonDephasing as CD\n",
    "reload(CD)\n",
    "execfile(r'D:\\measuring\\analysis\\scripts\\setup_analysis.py')\n",
    "import matplotlib\n",
    "reload(matplotlib)\n",
    "\n",
    "matplotlib.rc('pdf', fonttype=42)\n",
    "%matplotlib inline"
   ]
  },
  {
   "cell_type": "markdown",
   "metadata": {},
   "source": [
    "# Repump Speed"
   ]
  },
  {
   "cell_type": "code",
   "execution_count": null,
   "metadata": {
    "collapsed": false,
    "scrolled": false
   },
   "outputs": [],
   "source": [
    "reload(CD)\n",
    "CD.repump_speed(\n",
    "    #timestamp='20160510_152240',\n",
    "    powers = [1000e-9], exclude_first_n_points = 2, log_plot = True,\n",
    "    amplitude =0.2, decay_constant_one = 200., decay_constant_two = 400., x_offs = 0, offset=0.01, fixed = [0], \n",
    "    do_plot = True, do_fit = True, print_fit = True, plot_fit=True,  plot_fit_guess = False, \n",
    "    init_states=['m1'], ro_states=['0'])"
   ]
  },
  {
   "cell_type": "markdown",
   "metadata": {},
   "source": [
    "# Fit exponential decay"
   ]
  },
  {
   "cell_type": "code",
   "execution_count": null,
   "metadata": {
    "collapsed": false,
    "scrolled": false
   },
   "outputs": [],
   "source": [
    "reload(CD) \n",
    "carbons = ['4','5','8']\n",
    "logicstate_list = ['X']*len(carbons) # Only effective for two-carbon DPS\n",
    "X_measurement = True\n",
    "older_than = '20160418_140944'\n",
    "older_than = None\n",
    "\n",
    "CD.Sweep_Rep_List(folder_name = 'NoOfRepetitions', carbons = carbons,\n",
    "                  logicstate_list = logicstate_list,\n",
    "                  fit_results = True,\n",
    "                  ssro_calib_timestamp = None,\n",
    "                  do_T2correct = False,\n",
    "                  ymin = 0.01, #uncomment to get minimum of data\n",
    "                  is_X_measurement = X_measurement,\n",
    "                  older_than = older_than, #remeber this also changes SSRO calibration!')\n",
    "                  log_plot = False)"
   ]
  },
  {
   "cell_type": "markdown",
   "metadata": {},
   "source": [
    "# Fit average repump time"
   ]
  },
  {
   "cell_type": "code",
   "execution_count": null,
   "metadata": {
    "collapsed": false,
    "scrolled": false
   },
   "outputs": [],
   "source": [
    "### routine gets raw data for 'X' and 'Y' tomography of a carbon and plots it.\n",
    "reload(CD)\n",
    "older_than = '20160412_135526'\n",
    "older_than = None\n",
    "is_X_measurement = True\n",
    "do_T2correct = False\n",
    "\n",
    "CD.Sweep_Rep_List(carbons = ['4','5'],\n",
    "    folder_name = 'Memory_Sweep_repump_time_', older_than = older_than, #older than also changes SSRO calib\n",
    "    do_T2correct = do_T2correct, is_X_measurement = is_X_measurement, ymin=0.0,\n",
    "    fit_result=True, fitGauss=True, return_fit_params = False)"
   ]
  },
  {
   "cell_type": "code",
   "execution_count": null,
   "metadata": {
    "collapsed": false,
    "scrolled": false
   },
   "outputs": [],
   "source": [
    "### routine gets raw data for 'X' and 'Y' tomography of a carbon and plots it.\n",
    "reload(CD)\n",
    "older_than = '20160422_050813'\n",
    "older_than = None\n",
    "is_X_measurement = False\n",
    "do_T2correct = False\n",
    "plot_individual_fits = False\n",
    "CD.sweep_avg_repump_and_tau_larmor(carbons = ['4','5','8'], tau_larmor_list = np.arange(1.9,2.4,0.1),\n",
    "    folder_name = 'Memory_Sweep_repump_time_', older_than = older_than, #older than also changes SSRO calib\n",
    "    do_T2correct = do_T2correct, is_X_measurement = is_X_measurement,do_plot_results = plot_individual_fits)"
   ]
  },
  {
   "cell_type": "markdown",
   "metadata": {},
   "source": [
    "## Coupling strength vs repetition decay"
   ]
  },
  {
   "cell_type": "code",
   "execution_count": null,
   "metadata": {
    "collapsed": false
   },
   "outputs": [],
   "source": [
    "reload(CD)\n",
    "reload(fitlib)\n",
    "fig = plt.figure()\n",
    "ax = plt.subplot()\n",
    "\n",
    "update_data = True\n",
    "do_T2correct = False\n",
    "LogPlot = True\n",
    "c_idents = ['1','2']\n",
    "older_than = '20160401_112029'\n",
    "\n",
    "    \n",
    "def update_data_func(c_idents,older_than,do_Z = False):\n",
    "\n",
    "    ### get bloch vector decay\n",
    "    x,y,y_u,folder = CD.coupling_vs_repetitions(c_idents,older_than = older_than, #SSRO_timestamp = '20160404_152948',\n",
    "                                                folder_name = 'Memory_NoOfRepetitions_', do_T2correct=do_T2correct)\n",
    "    y = y[np.argsort(x)]\n",
    "    y_u = y_u[np.argsort(x)]\n",
    "        \n",
    "    print 'update done!!'\n",
    "    \n",
    "    if do_Z == False:\n",
    "        x = np.sort(x*1e-3)\n",
    "        return x,y,y_u,folder\n",
    "    \n",
    "    Z_fits = Z_fits[np.argsort(x)]\n",
    "    Z_fits_u = Z_fits_u[np.argsort(x)]\n",
    "    x = np.sort(x*1e-3)\n",
    "    return x,y,y_u,Z_fits,Z_fits_u,folder\n",
    "\n",
    "if update_data:\n",
    "    x,y,y_u,folder = update_data_func(c_idents,older_than = older_than,do_Z = False) # 2 uW break\n",
    "\n",
    "plt.errorbar(x,y,y_u,fmt = 'ro', label = 'Pippin')\n",
    "\n",
    "plt.legend(loc=1)#bbox_to_anchor=(1.05, 1), loc=2, borderaxespad=0.)\n",
    "plt.xlabel('Coupling strength (kHz)')   \n",
    "plt.ylabel('Fitted decay constant')\n",
    "if older_than != None:\n",
    "    plt.title('older_than ' + older_than)\n",
    "else:\n",
    "    plt.title(CD.get_tstamp_from_folder(folder))\n",
    "\n",
    "if LogPlot:\n",
    "    plt.ylim([10,2000])\n",
    "    plt.xlim([2,100])\n",
    "    #ax.set_xscale(\"log\", nonposy='clip')\n",
    "    ax.set_yscale(\"log\", nonposy='clip')\n",
    "else:\n",
    "    plt.ylim([0,1000])\n",
    "#print x== x4\n",
    "#print x\n",
    "#print x4\n",
    "#print folder\n",
    "#p0,fitfunc,fitfunc_str =fitlib.fit_dephasing_constant_offset(1,0.0005,0)\n",
    "#p0,fitfunc,fitfunc_str =fitlib.fit_dephasing_tau(1,0.001,0)\n",
    "p0,fitfunc,fitfunc_str =fitlib.fit_dephasing_coupl(1,0.0005,0)\n",
    "#p0,fitfunc,fitfunc_str =fitlib.fit_exp_decay_shifted_with_offset(0,700,40,0) # g_a : offset g_A : initial Amplitude g_tau : decay constant g_x0 : x offse\n",
    "if False:  # Show Guess\n",
    "    ax.plot(np.linspace(2,90,201), fitfunc(np.linspace(2,90,201)), ':', lw=2)\n",
    "    print 'fitfun value ', fitfunc(np.linspace(2,90,21))\n",
    "\n",
    "#x_fit, y_fit, y_u_fit = numpy.concatenate((x[0:],x_s)), numpy.concatenate((y[0:],y_s)), numpy.concatenate((y_u[0:],y_u_s))\n",
    "\n",
    "fit_result1 = fit.fit1d(x, y, None, p0 = p0, fitfunc = fitfunc, do_print = True, ret = True, fixed = [0,2])\n",
    "#p0,fitfunc,fitfunc_str =fitlib.fit_dephasing_constant_offset(1,0.0005,0.08)\n",
    "p0,fitfunc,fitfunc_str =fitlib.fit_dephasing_coupl(1,0.0005,0)\n",
    "#plot.plot_fit1d(fit_result1, np.linspace(3,100,1001), ax=ax, color = 'r', plot_data=False, add_txt = False, lw = 2)\n",
    "\n",
    "if False:\n",
    "    print 'saving to ', folder\n",
    "    plt.savefig(os.path.join(folder,'coupling_vs_repetitions.pdf'),format='pdf')\n",
    "    plt.savefig(os.path.join(folder,'coupling_vs_repeititons.png'),format='png')\n",
    "plt.show()\n",
    "plt.close('all')"
   ]
  },
  {
   "cell_type": "code",
   "execution_count": null,
   "metadata": {
    "collapsed": false
   },
   "outputs": [],
   "source": [
    "reload(CD)\n",
    "# CD.Osci_period(carbon = '5',older_than = None,freq=0,fixed = [0,1,3])\n",
    "# CD.Osci_period(carbon = '2',older_than = None)\n",
    "CD.Osci_period(carbon = '2',older_than = None,fit_results = True)"
   ]
  },
  {
   "cell_type": "markdown",
   "metadata": {},
   "source": [
    "## Initialization values for various carbons (execute script 3Qubit_inits)"
   ]
  },
  {
   "cell_type": "code",
   "execution_count": null,
   "metadata": {
    "collapsed": false
   },
   "outputs": [],
   "source": [
    "from analysis.scripts.QEC import Two_Qubit_Tomography as Tomo2\n",
    "reload(Tomo2)\n",
    "carbon_combinations = [[1,2,3],[1,2,5],[1,2,6],[1,3,5],[1,3,6],[1,5,6],[2,3,5],[2,3,6],[2,5,6],[3,5,6]]\n",
    "# carbon_combinations = [[1,2,5]]\n",
    "for kk in carbon_combinations:\n",
    "    x_label,x,res,res_err = Tomo2.BarPlotTomoContrast(tag = '_'+str(kk[0])+str(kk[1])+str(kk[2])+'_init',\n",
    "                                                      plot_fit = False, \n",
    "                                                      return_data = True,\n",
    "                                                      save = False)\n",
    "    print 'Carbons {} {} {}: {} {:.2} +- {:.2} and {} {:.2} +- {:.2}'.format(kk[0],kk[1],kk[2],x_label[0],res[0],res_err[0],x_label[1],res[1],res_err[1])"
   ]
  },
  {
   "cell_type": "markdown",
   "metadata": {},
   "source": [
    "#### Laser stability"
   ]
  },
  {
   "cell_type": "code",
   "execution_count": null,
   "metadata": {
    "collapsed": false
   },
   "outputs": [],
   "source": [
    "from analysis.lib.Qmemory import CheckLaserPower as Laser; reload(Laser)\n",
    "\n",
    "Laser.CheckPower('NewfocusAOM','ADWIN',nr_of_files=10)\n",
    "Laser.CheckPower('MatisseAOM','ADWIN',nr_of_files=10)"
   ]
  },
  {
   "cell_type": "markdown",
   "metadata": {},
   "source": [
    "# Memory Paper Plots"
   ]
  },
  {
   "cell_type": "code",
   "execution_count": null,
   "metadata": {
    "collapsed": false
   },
   "outputs": [],
   "source": [
    "reload(CD)\n",
    "binwidth = [None,None,None,None,None]\n",
    "binwidth = [12,12,25,25,25]\n",
    "start_tstamps = ['20151105_032629','20151031_182230','20151025_235900','20151024_131500','20151024_233353' ]\n",
    "stop_timestamps = [ '20151103_211016','20151030_220005','20151025_102306','20151023_193751','20151024_145547']\n",
    "CD.repump_speed_paper_plot(older_than=start_tstamps, newer_than=stop_timestamps, binwidth_ns=binwidth,\n",
    "        exclude_first_n_points = [5,7,2,2,2], offset = [0.,0.,0.,0.,0.], amplitude = [0.8,0.8,0.8,0.8, 0.8], \n",
    "        x0 = [0.,0.,0.,0., 0.], decay_constant_one = [50, 20,300,150,200],\n",
    "        decay_constant_two = [500.,523.,800.,800.,500.], labels = ['E 2000 nW','A 2000 nW','A 190 nW','A 100 nW','A 50 nW'],\n",
    "        x_offs=[0,0,0,0,0], colors=['y','g','c','b','k'], cutoff_ns = [1000,1200,1800,2500,1000],#[800,2200,1200,1500],\n",
    "        plot_fit = True, do_print = False, fixed = [[0],[0],[0],[0],[0]], show_guess = False)"
   ]
  },
  {
   "cell_type": "code",
   "execution_count": null,
   "metadata": {
    "collapsed": false
   },
   "outputs": [],
   "source": [
    "reload(CD)\n",
    "tstamps_E = ['20151219_215910','20151219_215525','20151219_215138']#,\n",
    "tstamps_A = ['20151221_161917','20151221_161445','20151221_161024']\n",
    "CD.repump_speed_pm1_paper_plot(tstamps_E=tstamps_E,tstamps_A=tstamps_A, binwidth_ns=[17,17,17], \n",
    "        labels = [r'$p_{\\left|+1\\right\\rangle}$',r'$p_{\\left|-1\\right\\rangle}$',r'$1-p_{\\left|0\\right\\rangle}$'], #ssro_calib_timestamp=['20151221_160634',None],\n",
    "        exclude_first_n_points_A = [6,6,6], exclude_first_n_points_E = [12,12,12], offset = [0.,0.,0.], amplitude = [0.2,0.7,0.7], x0 = [0.,0.,0.], decay_constant_one = [50,50,50], \n",
    "        decay_constant_two = [440.,440.,440.], x_offs=[-200,0,0], colors=['k','r','b','g'], cutoff_ns = [600,600,600],\n",
    "        plot_fit = True, do_print = False, marker = ['+', 'x', '.'], fixed = [[0,3,4],[0,2,3],[0,2,3]], show_guess = False)"
   ]
  },
  {
   "cell_type": "code",
   "execution_count": null,
   "metadata": {
    "collapsed": false
   },
   "outputs": [],
   "source": [
    "reload(CD)\n",
    "f_name = 'Memory_Sweep_repump_time_'\n",
    "older_than = '20151022_190000'#'20151022_220000'\n",
    "CD.avg_repump_time_paper_plot(carbons = ['1','5','2','3'], colors=['b','c','g','y'],\n",
    "                              folder_name = f_name, older_than = older_than, save=False, fig_name = 'Fig3a_avgRPtime', CR_after_check=False) "
   ]
  },
  {
   "cell_type": "code",
   "execution_count": null,
   "metadata": {
    "collapsed": false
   },
   "outputs": [],
   "source": [
    "reload(CD) \n",
    "# CD.Sweep_Rep_List(carbons = ['3','6'],older_than = '20151102_080000', save=True) \n",
    "older_than = '20151102_080000'\n",
    "logicstate_list = ['X']*5 # length should be equally long to the carbon list\n",
    "CD.decay_vs_rep_paper_plot(carbons = ['6','1','5','2','3'], logicstate_list = logicstate_list,\n",
    "            fit_results = True,do_T2correct=True, older_than = older_than, \n",
    "            x_max = 800, colors = ['k','b','c','g','y'],  plotquantum = True, plotclassical = True, fig_name='Fig3_XDecay', plotlabel ='(b)')\n",
    "logicstate_list = ['X','X','X','mX'] # length should be equally long to the carbon list\n",
    "CD.decay_vs_rep_paper_plot(carbons = ['5','2','25','25'], logicstate_list = logicstate_list,\n",
    "            fit_results = True,do_T2correct=True, older_than = older_than,plotquantum = True,plotclassical = True,\n",
    "            x_max=2300, colors = ['c','g','m','r'], fig_name='Fig4a_DFS', plotlabel ='(a)')"
   ]
  },
  {
   "cell_type": "code",
   "execution_count": null,
   "metadata": {
    "collapsed": false
   },
   "outputs": [],
   "source": [
    "reload(CD)\n",
    "\n",
    "update_data = True\n",
    "try:  #does last data exist?\n",
    "    dummy = lastdata\n",
    "except:\n",
    "    print 'No last data'\n",
    "    update_data = True\n",
    "    lastdata=None\n",
    "\n",
    "do_T2correct = True\n",
    "LogPlot = True\n",
    "\n",
    "c_idents = ['1','2','3','5','6','12','13','15','16','23','25','26','35','36','56']\n",
    "#c_idents = ['1','2','15','16']\n",
    "\n",
    "older_than_list=['20151105_050000', '20151102_080000','20151026_020000','20151024_131500','20151025_030000']\n",
    "labels = ['E 2000 nW', 'A 2000 nW','A 190 nW','A 100 nW','A 50 nW']\n",
    "styles = ['yo', 'go', 'co', 'bo',  'ko']\n",
    "fit_colors = ['y','g','c', 'b' ,'k']   # no color assigned means no fit is done.\n",
    "\n",
    "lastdata = CD.coupling_vs_rep_paper_plot(c_idents=c_idents, older_than_list=older_than_list, \n",
    "                labels = labels, styles=styles, fit_colors=fit_colors, LogPlot=LogPlot, \n",
    "                fixed = [[0],[0],[0],[0],[0]], CR_after_check=True,\n",
    "                update_data=update_data, lastdata = lastdata, do_T2correct=do_T2correct, \n",
    "                fit_guess = (1,0.00044,0), fit_guess_art = (1, 0.00044,0))"
   ]
  },
  {
   "cell_type": "code",
   "execution_count": null,
   "metadata": {
    "collapsed": false
   },
   "outputs": [],
   "source": [
    "reload(CD)\n",
    "#tstamps = ['20151030_164714','20151030_165302','20151103_185409'] #'20150826_102333'], #A1 only: '20150902_142407']\n",
    "start_tstamps = ['20151203_150419','20151203_150117','20151203_150815']#,'20150902_142407'] #'20150826_102333'], #A1 only: '20150902_142407'],\n",
    "stop_timestamps = ['20151203_150117','20151203_145911','20151203_150649']\n",
    "binwidth_ns = [None,None,20]\n",
    "tau, tau_err = CD.repump_speed_paper_plot(older_than=start_tstamps, newer_than=stop_timestamps, binwidth_ns=binwidth_ns,\n",
    "        exclude_first_n_points = [6,6,6], offset = [0.0,0.0,0.0], amplitude = [0.8,0.8,0.8], x0 = [0.,0.,0.], decay_constant_one = [30,30,30], \n",
    "        decay_constant_two = [300.,300.,300], x_offs=[0,0.0,10], colors=['r','k','b','g'],\n",
    "        plot_fit = True, do_print = False, fixed = [[0],[0],[]], show_guess = False, invert=[True,False,False,True])"
   ]
  }
 ],
 "metadata": {
  "kernelspec": {
   "display_name": "Python 2",
   "language": "python",
   "name": "python2"
  },
  "language_info": {
   "codemirror_mode": {
    "name": "ipython",
    "version": 2
   },
   "file_extension": ".py",
   "mimetype": "text/x-python",
   "name": "python",
   "nbconvert_exporter": "python",
   "pygments_lexer": "ipython2",
   "version": "2.7.11"
  }
 },
 "nbformat": 4,
 "nbformat_minor": 0
}
