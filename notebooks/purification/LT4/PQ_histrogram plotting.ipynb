{
 "cells": [
  {
   "cell_type": "code",
   "execution_count": null,
   "metadata": {
    "collapsed": false
   },
   "outputs": [],
   "source": [
    "my_msmt_name = 'MW_position'\n",
    "\n",
    "execfile(r'D:\\measuring\\analysis\\scripts\\setup_analysis.py')\n",
    "folder=tb.latest_data(my_msmt_name)#, folder  = 'X:\\data')\n",
    "a = pqsequence.TailAnalysis(folder, hdf5_mode='r')#, pq_folder='bs_remote')\n",
    "agrp=a.adwingrp('adwindata')\n",
    "print folder\n",
    "%matplotlib inline"
   ]
  },
  {
   "cell_type": "code",
   "execution_count": null,
   "metadata": {
    "collapsed": false
   },
   "outputs": [],
   "source": [
    "pq_plots.plot_marker_filter_comparison(\n",
    "    a.pqf,start =4e6,mrkr_chan = 1,#,2.41E6,#+0.5e6,  \n",
    "    length =2e6, \n",
    "    hist_binsize = 1e3, \n",
    "    save = False, \n",
    "    log=True)"
   ]
  },
  {
   "cell_type": "code",
   "execution_count": null,
   "metadata": {
    "collapsed": false
   },
   "outputs": [],
   "source": [
    "(h0, b0), (h1, b1) =pq_tools.get_photon_hist(\n",
    "    a.pqf,start =1.85e6 ,\n",
    "    length = 0.02E6, \n",
    "    hist_binsize = 1e2)\n",
    "plt.figure()\n",
    "plt.plot(b0[:-1],h0)\n",
    "\n",
    "def fit_gaussian(g_f, g_a, g_A, g_phi,g_t, *arg):\n",
    "    fitfunc_str = 'A *exp(-0.5*((x-x0)/t)**2)'\n",
    "\n",
    "    A = fit.Parameter(g_A, 'A')\n",
    "    t   = fit.Parameter(g_t, 't')\n",
    "    x0   = fit.Parameter(g_x0, 't')\n",
    "    p0 = [f, a, A,phi,t]\n",
    "\n",
    "    def fitfunc(x):\n",
    "        return a() + A()*np.exp(-(x/t())**2) * np.cos(2*np.pi*( f()*x + phi()/360.))\n",
    "\n",
    "    return p0, fitfunc, fitfunc_str\n",
    "\n",
    "fit_result=fit.fit1d(x,y,common.fit_line,2,8,ret=True,\n",
    "                    fixed=[0],do_print=True)"
   ]
  },
  {
   "cell_type": "code",
   "execution_count": null,
   "metadata": {
    "collapsed": false
   },
   "outputs": [],
   "source": [
    "pq_plots.plot_marker_filter_comparison(\n",
    "    a.pqf,start =1.8e6,mrkr_chan = 1,#,2.41E6,#+0.5e6,  \n",
    "    length = 0.15E6, \n",
    "    hist_binsize = 1e3, \n",
    "    save = False, \n",
    "    log=True)\n",
    "\n",
    "#pq_plots.plot_photon_hist(a.pqf,start = 2920E3,  length = 500E3, hist_binsize = 1E3, save = False, log=True)"
   ]
  },
  {
   "cell_type": "code",
   "execution_count": null,
   "metadata": {
    "collapsed": false
   },
   "outputs": [],
   "source": [
    "### when looking for PLU windows\n",
    "\n",
    "pq_plots.plot_marker_filter_comparison(a.pqf,\n",
    "                          mrkr_chan = 1,\n",
    "                          start = 2.787e6,#3.04E6-0.3E6,#+2.23e6, #settings.bs_process_params['st_start_ch0'],  \n",
    "                          length= 0.03e6,#settings.bs_process_params['st_len']+settings.bs_process_params['pulse_sep'], \n",
    "                          hist_binsize = 100,save = False,log=True)"
   ]
  },
  {
   "cell_type": "code",
   "execution_count": null,
   "metadata": {
    "collapsed": true
   },
   "outputs": [],
   "source": []
  },
  {
   "cell_type": "code",
   "execution_count": null,
   "metadata": {
    "collapsed": false
   },
   "outputs": [],
   "source": [
    "#### plot sweep pts vs. cr counts\n",
    "\n",
    "# a.get_sweep_pts()\n",
    "a.get_cr_results(name='adwindata',plot= True)\n",
    "# a.plot_cr_vs_sweep(ionization_crit = 3)"
   ]
  },
  {
   "cell_type": "code",
   "execution_count": null,
   "metadata": {
    "collapsed": true
   },
   "outputs": [],
   "source": []
  }
 ],
 "metadata": {
  "kernelspec": {
   "display_name": "Python 2",
   "language": "python",
   "name": "python2"
  },
  "language_info": {
   "codemirror_mode": {
    "name": "ipython",
    "version": 2
   },
   "file_extension": ".py",
   "mimetype": "text/x-python",
   "name": "python",
   "nbconvert_exporter": "python",
   "pygments_lexer": "ipython2",
   "version": "2.7.3"
  }
 },
 "nbformat": 4,
 "nbformat_minor": 0
}
