{
 "cells": [
  {
   "cell_type": "code",
   "execution_count": null,
   "metadata": {
    "collapsed": false,
    "scrolled": false
   },
   "outputs": [],
   "source": [
    "my_msmt_name = 'SPCo'\n",
    "\n",
    "execfile(r'D:\\measuring\\analysis\\scripts\\setup_analysis.py')\n",
    "folder=tb.latest_data(my_msmt_name)#, folder  = 'X:\\data')\n",
    "a = pqsequence.TailAnalysis(folder, hdf5_mode='r')#, pq_folder='bs_remote')\n",
    "agrp=a.adwingrp('adwindata')\n",
    "print folder\n",
    "%matplotlib inline\n",
    "\n",
    "TH = False\n",
    "\n",
    "if TH:\n",
    "    pq_plots.plot_marker_filter_comparison(\n",
    "        a.pqf,start = 3.1e3,mrkr_chan = 1,#,2.41E6,#+0.5e6,  \n",
    "        length =0.4e3, \n",
    "        hist_binsize = 1,\n",
    "        save = False, \n",
    "        log=True)\n",
    "else:\n",
    "    pq_plots.plot_marker_filter_comparison(\n",
    "        a.pqf,start = 3.80e6,mrkr_chan = 1,#,2.41E6,#+0.5e6,  \n",
    "        length =0.75e6, \n",
    "        hist_binsize = 1e3, \n",
    "        save = False, \n",
    "        log=False)"
   ]
  },
  {
   "cell_type": "code",
   "execution_count": null,
   "metadata": {
    "collapsed": false
   },
   "outputs": [],
   "source": [
    "3940-3758\n",
    "\n"
   ]
  }
 ],
 "metadata": {
  "kernelspec": {
   "display_name": "Python 2",
   "language": "python",
   "name": "python2"
  },
  "language_info": {
   "codemirror_mode": {
    "name": "ipython",
    "version": 2
   },
   "file_extension": ".py",
   "mimetype": "text/x-python",
   "name": "python",
   "nbconvert_exporter": "python",
   "pygments_lexer": "ipython2",
   "version": "2.7.3"
  }
 },
 "nbformat": 4,
 "nbformat_minor": 0
}
