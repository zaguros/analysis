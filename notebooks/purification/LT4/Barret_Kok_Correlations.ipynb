{
 "cells": [
  {
   "cell_type": "code",
   "execution_count": null,
   "metadata": {
    "collapsed": false
   },
   "outputs": [],
   "source": [
    "execfile(r'D:\\measuring\\analysis\\scripts\\setup_analysis.py')\n",
    "from analysis.lib.purification import purify_pq as ppq; reload(ppq)\n",
    "%matplotlib inline\n",
    "is_remote_lt3_measurement = True\n",
    "folder=tb.latest_data('SPCorrs')\n",
    "#folder=tb.latest_data('192646')\n",
    "lt3_folder=tb.latest_data('SPCorrs', folder ='Z:\\data')\n",
    "#folder = r'D:\\measuring\\data\\20151127\\110547_Bell_lt3_SPCORR_ZPL_SPCORR_lt3'\n",
    "print 'folder :', folder\n",
    "print 'lt3_folder', lt3_folder\n",
    "name = 'ssro'\n",
    "a = ppq.purify_pq(folder, hdf5_mode='r')#, pq_folder='bs_remote')\n",
    "b = ppq.purify_pq(lt3_folder, hdf5_mode='r')#, pq_folder='bs_remote')"
   ]
  },
  {
   "cell_type": "code",
   "execution_count": null,
   "metadata": {
    "collapsed": false
   },
   "outputs": [],
   "source": [
    "pq_plots.plot_photon_hist(a.pqf,start =1965e3+500e3,  length = 50e3, hist_binsize = 1e3, save = False, log=True) #start =7480\n",
    "pq_plots.plot_photon_hist(a.pqf,start =1965e3+1000e3,  length = 50e3, hist_binsize = 1e3, save = False, log=True) #start =7480\n",
    "pq_plots.plot_photon_hist(b.pqf,start =1965+500,  length = 250, hist_binsize = 1, save = False, log=True) #start =7480"
   ]
  },
  {
   "cell_type": "code",
   "execution_count": null,
   "metadata": {
    "collapsed": false
   },
   "outputs": [],
   "source": [
    "# ## check whether the plu does the job?\n",
    "# pq_plots.plot_marker_filter_comparison(a.pqf,\n",
    "#                           mrkr_chan = 1,\n",
    "#                           start = 1900e3+500e3, #settings.bs_process_params['st_start_ch0'],  \n",
    "#                           length= 0.21E6,#settings.bs_process_params['st_len']+settings.bs_process_params['pulse_sep'], \n",
    "#                           hist_binsize = 1e3,save = False,log=True)\n",
    "# pq_plots.plot_marker_filter_comparison(a.pqf,\n",
    "#                           mrkr_chan = 1,\n",
    "#                           start = 1900e3+1000e3, #settings.bs_process_params['st_start_ch0'],  \n",
    "#                           length= 0.21E6,#settings.bs_process_params['st_len']+settings.bs_process_params['pulse_sep'], \n",
    "#                           hist_binsize = 1e3,save = False,log=True)"
   ]
  },
  {
   "cell_type": "code",
   "execution_count": null,
   "metadata": {
    "collapsed": false
   },
   "outputs": [],
   "source": [
    "sp_lt = a.pqf['/PQ_special-1'].value # Special: marker channel\n",
    "ch_lt = a.pqf['/PQ_channel-1'].value # Channel: photon channel\n",
    "sn_lt = a.pqf['/PQ_sync_number-1'].value # Sync number: the number of the last sync signal\n",
    "st_lt = a.pqf['/PQ_sync_time-1'].value # Sync time: time that has passed since the last sync signal\n",
    "#tt_lt = a.pqf['/PQ_time-1'].value "
   ]
  },
  {
   "cell_type": "code",
   "execution_count": null,
   "metadata": {
    "collapsed": false
   },
   "outputs": [],
   "source": [
    "photon_channel = 2 # 0 or 1; 2 means both HH detectors\n",
    "st_start = 1965e3+500e3#2763e3\n",
    "st_len       = 50e3 #50 ns\n",
    "st_len_w2    = 50e3\n",
    "#p_sep       = 2500e3 #600 ns\n",
    "p_sep        =500e3#2732e3 #XXX why has this changed?"
   ]
  },
  {
   "cell_type": "code",
   "execution_count": null,
   "metadata": {
    "collapsed": false
   },
   "outputs": [],
   "source": [
    "reload(ppq)\n",
    "\n",
    "sync_filter = a.filter_pq_data_from_adwin_syncs()\n",
    "sp_filtered = sp_lt[sync_filter]\n",
    "ch_filtered = ch_lt[sync_filter]\n",
    "sn_filtered = sn_lt[sync_filter]\n",
    "st_filtered = st_lt[sync_filter]\n",
    "\n",
    "print 'Cumulative clicks'\n",
    "print len(sp_filtered),len(ch_filtered),len(sn_filtered),len(st_filtered)"
   ]
  },
  {
   "cell_type": "code",
   "execution_count": null,
   "metadata": {
    "collapsed": false
   },
   "outputs": [],
   "source": [
    "### filter the PQ data: Return an array which is True at each position where an event was in a window\n",
    "st_fltr_w1 = (st_filtered > st_start)  & (st_filtered < (st_start  + st_len)) & (sp_filtered == 0)\n",
    "st_fltr_w2 = (st_filtered > st_start + p_sep)  & (st_filtered < (st_start + p_sep + st_len_w2)) & (sp_filtered == 0)\n",
    "st_fltr_w1_ch1 = st_fltr_w1 & (ch_filtered == 1)\n",
    "st_fltr_w1_ch0 = st_fltr_w1 & (ch_filtered == 0)\n",
    "st_fltr_w2_ch1 = st_fltr_w2 & (ch_filtered == 1)\n",
    "st_fltr_w2_ch0 = st_fltr_w2 & (ch_filtered == 0)\n",
    "### filter the numbers according to \n",
    "w1_sn = sn_filtered[st_fltr_w1]\n",
    "w2_sn = sn_filtered[st_fltr_w2]\n",
    "noof_w1 = np.sum(st_fltr_w1)\n",
    "noof_w2 = np.sum(st_fltr_w2)\n",
    "\n",
    "\n",
    "### trick add one element to the w1 filter to shift both on top of each other (can alter be erased)\n",
    "st_fltr_w1_ch1 = np.insert(st_fltr_w1_ch1,0,False); st_fltr_w1_ch0 = np.insert(st_fltr_w1_ch0,0,False)\n",
    "# st_fltr_w2_ch0 = np.append(st_fltr_w2_ch0,False);st_fltr_w2_ch1 = np.append(st_fltr_w2_ch1,False)\n",
    "\n",
    "\n",
    "### get only the late clicks here\n",
    "st_fltr_psi_plus   = np.logical_or(np.logical_and(st_fltr_w1_ch1[:-1],st_fltr_w2_ch1),np.logical_and(st_fltr_w1_ch0[:-1],st_fltr_w2_ch0))\n",
    "st_fltr_psi_minus  = np.logical_or(np.logical_and(st_fltr_w1_ch0[:-1],st_fltr_w2_ch1),np.logical_and(st_fltr_w1_ch1[:-1],st_fltr_w2_ch0))\n",
    "\n",
    "\n",
    "# print np.sum(np.logical_and(st_fltr_w1_ch1,st_fltr_w2_ch1)),np.logical_and(st_fltr_w1_ch1,st_fltr_w2_ch0)\n",
    "print 'clicks in each selected windows', noof_w1,noof_w2\n",
    "print 'psi_minus events', np.sum(st_fltr_psi_minus[1:-1])\n",
    "print 'psi_plus events', np.sum(st_fltr_psi_plus[1:-1])\n"
   ]
  },
  {
   "cell_type": "code",
   "execution_count": null,
   "metadata": {
    "collapsed": false
   },
   "outputs": [],
   "source": [
    "### get RO results\n",
    "# psi_plus syncs\n",
    "sn_psi_p = sn_filtered[st_fltr_psi_plus]\n",
    "# psi_minus syncs\n",
    "sn_psi_m = sn_filtered[st_fltr_psi_minus]\n",
    "\n",
    "\n",
    "a_fltr_p_1 = b.filter_adwin_data_from_pq_syncs(sn_psi_p)\n",
    "a_fltr_p_2 = a.filter_adwin_data_from_pq_syncs(sn_psi_p)\n",
    "print 'No of events psi_plus', len(a_fltr_p_1[0])\n",
    "a_fltr_m_1 = b.filter_adwin_data_from_pq_syncs(sn_psi_m)\n",
    "a_fltr_m_2 = a.filter_adwin_data_from_pq_syncs(sn_psi_m)\n",
    "print 'No of events psi_minus', len(a_fltr_m_1[0])\n",
    "\n",
    "p_1_ro0 = b.agrp['ssro_results'].value[a_fltr_p_1[0]]\n",
    "p_2_ro0 = a.agrp['ssro_results'].value[a_fltr_p_2[0]]\n",
    "m_1_ro0 = b.agrp['ssro_results'].value[a_fltr_m_1[0]]\n",
    "m_2_ro0 = a.agrp['ssro_results'].value[a_fltr_m_2[0]]\n",
    "\n",
    "print 'p_correlated for psi_minus', float(np.sum(np.equal(m_1_ro0,m_2_ro0)))/len(m_1_ro0)\n",
    "print 'p_correlated for psi_plus', float(np.sum(np.equal(p_1_ro0,p_2_ro0)))/len(p_1_ro0)\n",
    "# print len(b.filter_adwin_data_from_pq_syncs(w1_sn)[1]), len(b.filter_adwin_data_from_pq_syncs(w2_sn)[1])\n",
    "\n",
    "# adwin_filter_w1 = a.filter_adwin_data_from_pq_syncs(w1_sn)\n",
    "# adwin_filter_w2 = a.filter_adwin_data_from_pq_syncs(w2_sn)\n",
    "# noof_reps2= a.agrp['completed_reps'].value*a.g['joint_params'].attrs['LDE_attempts']\n",
    "# noof_w1_ro0 = np.sum(a.agrp['ssro_results'].value[adwin_filter_w1[0]])\n",
    "# noof_w2_ro0 = np.sum(a.agrp['ssro_results'].value[adwin_filter_w2[0]])\n",
    "# print len(a.filter_adwin_data_from_pq_syncs(w1_sn)[1]), len(a.filter_adwin_data_from_pq_syncs(w2_sn)[1])"
   ]
  },
  {
   "cell_type": "code",
   "execution_count": null,
   "metadata": {
    "collapsed": false
   },
   "outputs": [],
   "source": [
    "reload(ppq)\n",
    "\n",
    "if is_lt3_measurement == True:  \n",
    "    ssro_calib_folder  = tb.latest_data('SSROCalib', folder ='Z:\\data')\n",
    "    ro_time = b.agrp.attrs['E_RO_durations'][0]\n",
    "else:\n",
    "    ssro_calib_folder  = tb.latest_data('SSROCalib')\n",
    "    ro_time = a.agrp.attrs['E_RO_durations'][0]\n",
    "#sweep_index , what does it do??\n",
    "ssro_fids = ppq.get_analysed_fast_ssro_calibration(ssro_calib_folder,readout_time = ro_time)"
   ]
  },
  {
   "cell_type": "code",
   "execution_count": null,
   "metadata": {
    "collapsed": true
   },
   "outputs": [],
   "source": [
    "#### put readout corrected analysis here."
   ]
  },
  {
   "cell_type": "code",
   "execution_count": null,
   "metadata": {
    "collapsed": false
   },
   "outputs": [],
   "source": [
    "hist(st_lt[fltr_ro][np.in1d(ro0_sn,w2_sn)])"
   ]
  }
 ],
 "metadata": {
  "kernelspec": {
   "display_name": "Python 2",
   "language": "python",
   "name": "python2"
  },
  "language_info": {
   "codemirror_mode": {
    "name": "ipython",
    "version": 2
   },
   "file_extension": ".py",
   "mimetype": "text/x-python",
   "name": "python",
   "nbconvert_exporter": "python",
   "pygments_lexer": "ipython2",
   "version": "2.7.3"
  }
 },
 "nbformat": 4,
 "nbformat_minor": 0
}
