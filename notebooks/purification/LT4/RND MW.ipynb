{
 "metadata": {
  "name": "",
  "signature": ""
 },
 "nbformat": 3,
 "nbformat_minor": 0,
 "worksheets": [
  {
   "cells": [
    {
     "cell_type": "code",
     "collapsed": false,
     "input": [
      "execfile(r'D:\\measuring\\analysis\\scripts\\setup_analysis.py')"
     ],
     "language": "python",
     "metadata": {},
     "outputs": []
    },
    {
     "cell_type": "code",
     "collapsed": false,
     "input": [
      "folder= tb.latest_data('Bell_RND')\n",
      "#folder=r'D:\\measuring\\data\\20150415\\152249_Bell_RND_RO_SAMPLE_CFG_48'\n",
      "save = True\n",
      "RO_start=10620\n",
      "\n",
      "\n",
      "a = pqsequence.PQSequenceAnalysis(folder)\n",
      "a.reps=a.g.attrs['repetitions']*a.g['joint_params'].attrs['LDE_attempts_before_CR']\n",
      "\n",
      "pq_binsize_ns=1\n",
      "\n",
      "RO_length = 3700#a.g['joint_params'].attrs['LDE_RO_duration']*1e9\n",
      "\n",
      "#a.plot_histogram(0,start=RO_start, length=RO_length, hist_binsize=1, save=False, log_plot=False)\n",
      "ssro_calib_folder = tb.latest_data('FastSSRO')\n",
      "\n",
      "roc = error.SingleQubitROC()\n",
      "#roc.F0, roc.u_F0, roc.F1, roc.u_F1 =pqsequence.get_analysed_fast_ssro_calibration(ssro_calib_folder, RO_length)\n",
      "roc.F0, roc.u_F0, roc.F1, roc.u_F1=(0.941,0.005,0.995,0.005)\n",
      "#print pqsequence.get_analysed_fast_ssro_calibration(ssro_calib_folder, RO_length)\n",
      "##ssro.get_SSRO_calibration(ssro_calib_folder, ro_duration)\n",
      "\n",
      "tb.get_measurement_name_from_folder(folder)"
     ],
     "language": "python",
     "metadata": {},
     "outputs": []
    },
    {
     "cell_type": "code",
     "collapsed": false,
     "input": [
      "#a.plot_histogram(0,start=0, length=7000, hist_binsize=1, save=False, log_plot=False)"
     ],
     "language": "python",
     "metadata": {},
     "outputs": []
    },
    {
     "cell_type": "code",
     "collapsed": false,
     "input": [
      "fig, ax = plt.subplots(1,1, figsize=(4.5,4))\n",
      "\n",
      "sync_nrs=a.pqf['/PQ_sync_number-1'].value \n",
      "is_marker_1_event=pq_tools.get_markers(a.pqf,1)\n",
      "is_marker_2_event=pq_tools.get_markers(a.pqf,2)\n",
      "noof_rnd_0_events=np.sum(is_marker_1_event)\n",
      "noof_rnd_1_events=np.sum(is_marker_2_event)\n",
      "print 'noof_rnd 0/1 events:',noof_rnd_0_events, '/' , noof_rnd_1_events\n",
      "print 'bias toward 0 : {:.2f} % '.format(50-float(noof_rnd_0_events)/(noof_rnd_0_events+noof_rnd_1_events)*100),', error : {:.2f} %'.format(1/np.sqrt(len(np.where(is_marker_1_event)[0])+len(np.where(is_marker_2_event)[0]))*100)\n",
      "print 'noof syncs:', sync_nrs[-1]\n",
      "print 'Detected marker events {} / {}:'.format(noof_rnd_0_events+noof_rnd_1_events, a.reps)\n",
      "\n",
      "is_photon_0, is_rnd_clk=pq_tools.get_photons(a.pqf)\n",
      "sync_time_ns = a.pqf['/PQ_sync_time-1'].value * pq_binsize_ns\n",
      "\n",
      "\n",
      "st_fltr = (RO_start  <= sync_time_ns) &  (sync_time_ns< (RO_start + RO_length))\n",
      "is_photon_0_in_ro_window = st_fltr & is_photon_0\n",
      "photon_in_0_ro_window_sync_numbers = np.unique(sync_nrs[is_photon_0_in_ro_window])\n",
      "no_photon_in_0_ro_window_sync_numbers = np.setdiff1d(sync_nrs,photon_in_0_ro_window_sync_numbers)\n",
      "av_p0=float(len(np.unique(photon_in_0_ro_window_sync_numbers)))/a.reps\n",
      "u_av_p0 = np.sqrt(av_p0*(1-av_p0)/a.reps)\n",
      "av_F0, u_av_F0 = roc.num_eval(np.array([av_p0]),np.array([u_av_p0]))\n",
      "print 'averaged RO results: F0 {:.2f} $\\pm$ {:.2f} % '.format(av_F0[0]*100,u_av_F0[0]*100 )\n",
      "\n",
      "\n",
      "noof_reps_wo_rnd_clk=len(np.unique(sync_nrs[is_marker_1_event | is_marker_2_event]))\n",
      "print 'number of reps with a random clk', noof_reps_wo_rnd_clk\n",
      "print 'syncs without a random click: {} / {} = {:.2f} %'.format(a.reps-noof_reps_wo_rnd_clk, a.reps, float(a.reps-noof_reps_wo_rnd_clk)/a.reps*100.)\n",
      "\n",
      "is_last_random_click=np.append(np.diff(np.asarray(is_rnd_clk, dtype='int'))==-1,is_rnd_clk[-1])\n",
      "#start_rnd=np.min(sync_time_ns[is_rnd_clk])-20\n",
      "#length_rnd=np.max(sync_time_ns[is_rnd_clk])-start_rnd+20\n",
      "#pq_plots.plot_photon_hist_filter_comparison(a.pqf,is_last_random_click,start = start_rnd, length = length_rnd, hist_binsize = 1, save = False)\n",
      "\n",
      "marker_1_sync_numbers= sync_nrs[is_marker_1_event]\n",
      "marker_2_sync_numbers= sync_nrs[is_marker_2_event]\n",
      "\n",
      "marker_1_ro_ms0_events=pq_tools.filter_on_same_sync_number(photon_in_0_ro_window_sync_numbers,marker_1_sync_numbers)\n",
      "marker_2_ro_ms0_events=pq_tools.filter_on_same_sync_number(photon_in_0_ro_window_sync_numbers,marker_2_sync_numbers)\n",
      "marker_1_ro_ms1_events=pq_tools.filter_on_same_sync_number(no_photon_in_0_ro_window_sync_numbers,marker_1_sync_numbers)#np.invert(marker_1_ro_ms0_events) #this also works.\n",
      "marker_2_ro_ms1_events=pq_tools.filter_on_same_sync_number(no_photon_in_0_ro_window_sync_numbers,marker_2_sync_numbers)#np.invert(marker_2_ro_ms0_events)\n",
      "noof_marker_1_ro_ms0_events=np.sum(marker_1_ro_ms0_events)\n",
      "noof_marker_2_ro_ms0_events=np.sum(marker_2_ro_ms0_events)\n",
      "noof_marker_1_ro_ms1_events=np.sum(marker_1_ro_ms1_events)\n",
      "noof_marker_2_ro_ms1_events=np.sum(marker_2_ro_ms1_events)\n",
      "\n",
      "print 'MA1 & RO0: {}, MA1 & RO1: {}, MA2 & RO0: {}, MA2 & RO1: {}'.format(noof_marker_1_ro_ms0_events, noof_marker_1_ro_ms1_events,noof_marker_2_ro_ms0_events, noof_marker_2_ro_ms1_events)\n",
      "\n",
      "\n",
      "if noof_rnd_0_events>0:\n",
      "    ma_1_p0=(float(noof_marker_1_ro_ms0_events)/(noof_marker_1_ro_ms1_events+noof_marker_1_ro_ms0_events))\n",
      "    ma_1_u_p0 = np.sqrt(ma_1_p0*(1-ma_1_p0)/(noof_marker_1_ro_ms1_events+noof_marker_1_ro_ms0_events))\n",
      "else: \n",
      "    ma_1_p0=0\n",
      "    ma_1_u_p0=0\n",
      "if noof_rnd_1_events>0:\n",
      "    ma_2_p0=(float(noof_marker_2_ro_ms0_events)/(noof_marker_2_ro_ms1_events+noof_marker_2_ro_ms0_events))\n",
      "    ma_2_u_p0 = np.sqrt(ma_2_p0*(1-ma_2_p0)/(noof_marker_2_ro_ms1_events+noof_marker_2_ro_ms0_events))        \n",
      "else:\n",
      "    ma_2_p0=0\n",
      "    ma_2_u_p0=0\n",
      "print 'Uncorrected: RND 0: F0 {:.2f}% +- {:.3f}%, RND 1: F0 {:.2f}% +- {:.3f}%'.format(ma_1_p0*100,ma_1_u_p0*100, ma_2_p0*100,ma_2_u_p0*100)\n",
      "if ma_1_p0*100>92.4 and ma_2_p0*100<1.5:\n",
      "    print 'All thresholds are met.'\n",
      "else:\n",
      "    print 'Thresholds are not met! Compare to 92.4 and 1.5'\n",
      "\n",
      "p0, u_p0 = roc.num_eval(np.array([ma_1_p0,ma_2_p0]),np.array([ma_1_u_p0,ma_2_u_p0]))\n",
      "print 'Corrected: RND 0 : F0 {:.2f}%, RND 1: F0 {:.2f}%'.format(p0[0]*100, p0[1]*100)\n",
      "\n",
      "ax.bar( range(2),p0, \n",
      "    #color=[settings.COLORS[0], settings.COLORS[1]],\n",
      "    align='center', yerr=u_p0, \n",
      "    ecolor='k', width=0.8)\n",
      "ax.set_title(a.timestamp+'\\n Corrected RO')\n",
      "ax.text(0, -.15, 'Rnd_no = 0',ha='center', va='bottom')\n",
      "ax.text(1, -.15, 'Rnd_no = 1',ha='center', va='bottom')\n",
      "ax.set_xticks([0,1])\n",
      "#ax.text(1, 1.05, '{:.0f}+/-{:.0f} %'.format(p0*100., u_p0*100.),\n",
      "#    ha='center', va='bottom', color=settings.COLORS[1])  \n",
      "\n",
      "ax.text(0, 1.02,'F0: {:.2f} $\\pm$ {:.2f} %'.format(p0[0]*100,u_p0[0]*100 ),ha='center', va='bottom')\n",
      "ax.text(1, 1.02,'F0: {:.2f} $\\pm$ {:.2f} %'.format(p0[1]*100,u_p0[1]*100 ),ha='center', va='bottom')\n",
      "ax.set_ylabel('Fidelity ms0')\n",
      "ax.set_ylim(0,1.1)\n",
      "if save:\n",
      "    a.save_fig_incremental_filename(fig,'random_mw_correlation_corrected')"
     ],
     "language": "python",
     "metadata": {},
     "outputs": []
    },
    {
     "cell_type": "code",
     "collapsed": false,
     "input": [
      "print 'RND checks from : {} '.format(tb.timestamp_from_datetime(tb.get_datetime_from_folder(folder)))\n",
      "print '\\tUncorrected: RND 0: F0 {:.2f}% +- {:.3f}%, RND 1: F0 {:.2f}% +- {:.3f}%'.format(ma_1_p0*100,ma_1_u_p0*100, ma_2_p0*100,ma_2_u_p0*100)\n",
      "print '\\tCorrected: RND 0 : F0 {:.2f}%, RND 1: F0 {:.2f}%'.format(p0[0]*100, p0[1]*100)\n",
      "print ''\n",
      "if ma_1_p0>=0.924 and ma_2_p0<=0.015:\n",
      "    print 'thresholds are met'\n",
      "else:\n",
      "    print 'thresholds are not met: compare to 92.4 and 1.5'"
     ],
     "language": "python",
     "metadata": {},
     "outputs": []
    },
    {
     "cell_type": "code",
     "collapsed": false,
     "input": [],
     "language": "python",
     "metadata": {},
     "outputs": []
    },
    {
     "cell_type": "code",
     "collapsed": false,
     "input": [
      "import time"
     ],
     "language": "python",
     "metadata": {},
     "outputs": []
    },
    {
     "cell_type": "code",
     "collapsed": false,
     "input": [
      "time.strftime('%Y%m%d%H%M')"
     ],
     "language": "python",
     "metadata": {},
     "outputs": []
    },
    {
     "cell_type": "code",
     "collapsed": false,
     "input": [
      "tb.timestamp_from_datetime(datetime.time)"
     ],
     "language": "python",
     "metadata": {},
     "outputs": []
    },
    {
     "cell_type": "code",
     "collapsed": false,
     "input": [],
     "language": "python",
     "metadata": {},
     "outputs": []
    },
    {
     "cell_type": "code",
     "collapsed": false,
     "input": [],
     "language": "python",
     "metadata": {},
     "outputs": []
    },
    {
     "cell_type": "code",
     "collapsed": false,
     "input": [],
     "language": "python",
     "metadata": {},
     "outputs": []
    },
    {
     "cell_type": "code",
     "collapsed": false,
     "input": [],
     "language": "python",
     "metadata": {},
     "outputs": []
    },
    {
     "cell_type": "code",
     "collapsed": false,
     "input": [],
     "language": "python",
     "metadata": {},
     "outputs": []
    },
    {
     "cell_type": "code",
     "collapsed": false,
     "input": [],
     "language": "python",
     "metadata": {},
     "outputs": []
    },
    {
     "cell_type": "code",
     "collapsed": false,
     "input": [],
     "language": "python",
     "metadata": {},
     "outputs": []
    }
   ],
   "metadata": {}
  }
 ]
}
