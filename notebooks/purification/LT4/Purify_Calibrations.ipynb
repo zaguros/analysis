{
 "cells": [
  {
   "cell_type": "code",
   "execution_count": null,
   "metadata": {
    "collapsed": false
   },
   "outputs": [],
   "source": [
    "execfile(r'D:\\measuring\\analysis\\scripts\\setup_analysis.py')\n",
    "import analysis.lib.purification.purify_ssro as pu_ssro;reload(pu_ssro)\n",
    "%matplotlib inline"
   ]
  },
  {
   "cell_type": "markdown",
   "metadata": {},
   "source": [
    "## Repump speed"
   ]
  },
  {
   "cell_type": "code",
   "execution_count": null,
   "metadata": {
    "collapsed": true
   },
   "outputs": [],
   "source": [
    "### to be written // imported from Qmemory"
   ]
  },
  {
   "cell_type": "code",
   "execution_count": null,
   "metadata": {
    "collapsed": false
   },
   "outputs": [],
   "source": [
    "reload(pu_ssro)\n",
    "pu_ssro.plot_pos_neg_data(contains = '')"
   ]
  },
  {
   "cell_type": "markdown",
   "metadata": {},
   "source": [
    "## average repump time Z"
   ]
  },
  {
   "cell_type": "code",
   "execution_count": null,
   "metadata": {
    "collapsed": false
   },
   "outputs": [],
   "source": [
    "reload(pu_ssro)\n",
    "pu_ssro.average_repump_time(contains = '_Z',do_fit = True)"
   ]
  },
  {
   "cell_type": "markdown",
   "metadata": {},
   "source": [
    "\n",
    "\n",
    "## average repump time XY"
   ]
  },
  {
   "cell_type": "code",
   "execution_count": null,
   "metadata": {
    "collapsed": false,
    "scrolled": false
   },
   "outputs": [],
   "source": [
    "reload(pu_ssro)\n",
    "pu_ssro.average_repump_time(contains = '_X',do_fit = True)"
   ]
  },
  {
   "cell_type": "markdown",
   "metadata": {},
   "source": [
    "## Number of repetitions"
   ]
  },
  {
   "cell_type": "code",
   "execution_count": null,
   "metadata": {
    "collapsed": false,
    "scrolled": false
   },
   "outputs": [],
   "source": [
    "reload(pu_ssro)\n",
    "pu_ssro.number_of_repetitions(contains = '_X',do_fit = True,fixed=[0,2,5,6])\n",
    "#pu_ssro.number_of_repetitions(contains = '_Z',do_fit = True,fixed=[0,2,5,6])"
   ]
  },
  {
   "cell_type": "markdown",
   "metadata": {},
   "source": [
    "## El to C swap"
   ]
  },
  {
   "cell_type": "code",
   "execution_count": null,
   "metadata": {
    "collapsed": false
   },
   "outputs": [],
   "source": [
    "reload(pu_ssro)\n",
    "pu_ssro.el_to_c_swap(input_el=['X','mX','Y','mY','Z'])"
   ]
  },
  {
   "cell_type": "code",
   "execution_count": null,
   "metadata": {
    "collapsed": false
   },
   "outputs": [],
   "source": [
    "reload(pu_ssro)\n",
    "pu_ssro.el_to_c_swap_success(input_el= ['X','mX','Y','mY','Z','mZ'])"
   ]
  },
  {
   "cell_type": "markdown",
   "metadata": {},
   "source": [
    "## Calibrate LDE phase"
   ]
  },
  {
   "cell_type": "code",
   "execution_count": null,
   "metadata": {
    "collapsed": false
   },
   "outputs": [],
   "source": [
    "reload(pu_ssro)\n",
    "pu_ssro.calibrate_LDE_phase(do_fit = True,fixed = [1],show_guess = False, freq = 8/360.)"
   ]
  },
  {
   "cell_type": "markdown",
   "metadata": {},
   "source": [
    "## Calibrate feedback phase"
   ]
  },
  {
   "cell_type": "code",
   "execution_count": null,
   "metadata": {
    "collapsed": false
   },
   "outputs": [],
   "source": [
    "reload(pu_ssro)\n",
    "pu_ssro.calibrate_LDE_phase(contains = 'phase',do_fit = True,fixed = [1,4],show_guess = False, freq = 16/360.,decay = 50e3)"
   ]
  },
  {
   "cell_type": "code",
   "execution_count": null,
   "metadata": {
    "collapsed": false
   },
   "outputs": [],
   "source": [
    "print 360/16.982 # 2.299\n",
    "print 360/17.625 # 2.298\n",
    "360/16.339 # 2.3"
   ]
  },
  {
   "cell_type": "markdown",
   "metadata": {
    "collapsed": true
   },
   "source": [
    "# Apply feedback phase analysis"
   ]
  },
  {
   "cell_type": "code",
   "execution_count": null,
   "metadata": {
    "collapsed": false
   },
   "outputs": [],
   "source": [
    "phase_per_sequence_repetition = (-2.35+(25-6.6)-0.5+0.24)\n",
    "delta = 40\n",
    "phase_to_compensate = (305+phase_per_sequence_repetition*1)%360\n",
    "print phase_to_compensate\n",
    "phase_per_compensation_repetition = 17.557\n",
    "\n",
    "phase_acquired = 0\n",
    "mindev = 361\n",
    "\n",
    "for x in range(80):\n",
    "    phase_acquired += phase_per_compensation_repetition\n",
    "    if phase_acquired > 360:\n",
    "        phase_acquired -= 360\n",
    "    \n",
    "    dev = abs(phase_to_compensate - phase_acquired)\n",
    "    #print x,dev\n",
    "    if dev < mindev:\n",
    "        mindev = dev\n",
    "        minx = x+1\n",
    "print mindev\n",
    "print minx"
   ]
  },
  {
   "cell_type": "code",
   "execution_count": null,
   "metadata": {
    "collapsed": false
   },
   "outputs": [],
   "source": [
    "from analysis.scripts.mbi import mbi_data_general_fits as fits; reload(fits)\n",
    "\n",
    "Result = fits.exp_sin(timestamp=  None, contains = 'phase_compensation_Z',\n",
    "                      offset=[0.5], amplitude = [0.485], center = [0], decay_constant = [350], \n",
    "                      exp_power = [2],\n",
    "                      frequency = [3./360], phase =[0.], \n",
    "                      fixed = [0,2,4],\n",
    "                      ylim = None,\n",
    "                      plot_fit = True,do_print = True, show_guess = False)\n",
    "phase_per_point = 360*Result[0]['params_dict']['f']\n",
    "phase_error =  360*Result[0]['error_dict']['f']\n",
    "offset = Result[0]['params_dict']['phi']\n",
    "offset_error = Result[0]['error_dict']['phi']\n",
    "\n",
    "print phase_per_point,phase_error\n",
    "print offset, offset_error"
   ]
  },
  {
   "cell_type": "markdown",
   "metadata": {},
   "source": [
    "# Check phase offset after LDE 2"
   ]
  },
  {
   "cell_type": "code",
   "execution_count": null,
   "metadata": {
    "collapsed": false
   },
   "outputs": [],
   "source": [
    "reload(pu_ssro)\n",
    "\n",
    "tomo = 'Z'\n",
    "Result = pu_ssro.calibrate_LDE_phase(contains = 'phase_offset_after_LDE',do_fit = True,ret = True, \n",
    "                                     tomo_basis = tomo,fixed = [0,1,4],show_guess = False, phi0=160,decay = 1e5,freq = 1./360)\n",
    "\n",
    "offset = Result['params_dict']['phi']\n",
    "offset_error = Result['error_dict']['phi']\n",
    "\n",
    "print 'the offset phase changes by (error): ',360 - offset, offset_error"
   ]
  },
  {
   "cell_type": "markdown",
   "metadata": {},
   "source": [
    "# Full sequence local"
   ]
  },
  {
   "cell_type": "code",
   "execution_count": null,
   "metadata": {
    "collapsed": false,
    "scrolled": false
   },
   "outputs": [],
   "source": [
    "reload(pu_ssro)\n",
    "pu_ssro.number_of_repetitions(contains = 'full',do_fit = False,fixed=[0,2,5,6],x_only = True)"
   ]
  },
  {
   "cell_type": "markdown",
   "metadata": {
    "collapsed": true
   },
   "source": [
    "# Classical correlations"
   ]
  },
  {
   "cell_type": "code",
   "execution_count": null,
   "metadata": {
    "collapsed": false
   },
   "outputs": [],
   "source": [
    "reload(pu_ssro)\n",
    "pu_ssro.calibrate_LDE_phase(contains = '_classical_correlations_onC13_Z',do_fit = False,ret = False, \n",
    " tomo_basis = '',show_guess = False,post_select_e_outcome = True)\n"
   ]
  },
  {
   "cell_type": "code",
   "execution_count": null,
   "metadata": {
    "collapsed": true
   },
   "outputs": [],
   "source": []
  }
 ],
 "metadata": {
  "kernelspec": {
   "display_name": "Python 2",
   "language": "python",
   "name": "python2"
  },
  "language_info": {
   "codemirror_mode": {
    "name": "ipython",
    "version": 2
   },
   "file_extension": ".py",
   "mimetype": "text/x-python",
   "name": "python",
   "nbconvert_exporter": "python",
   "pygments_lexer": "ipython2",
   "version": "2.7.3"
  }
 },
 "nbformat": 4,
 "nbformat_minor": 0
}
