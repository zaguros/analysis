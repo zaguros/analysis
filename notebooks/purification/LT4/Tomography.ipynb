{
 "cells": [
  {
   "cell_type": "code",
   "execution_count": null,
   "metadata": {
    "collapsed": false
   },
   "outputs": [],
   "source": [
    "import sys\n",
    "sys.path.append(r'D:/measuring')\n",
    "import numpy as np\n",
    "sys.path.append(r'D:/measuring/analysis')\n",
    "%matplotlib inline"
   ]
  },
  {
   "cell_type": "markdown",
   "metadata": {},
   "source": [
    "# Tomographies General"
   ]
  },
  {
   "cell_type": "markdown",
   "metadata": {},
   "source": [
    "###  Single measurement"
   ]
  },
  {
   "cell_type": "code",
   "execution_count": null,
   "metadata": {
    "collapsed": false
   },
   "outputs": [],
   "source": [
    "from analysis.scripts.QEC import Two_Qubit_Tomography as Tomo2; reload(Tomo2)\n",
    "# a = Tomo2.BarPlotTomo(folder_name = '024446_Swap-gate_111_1_sil18negative_5_swap')\n",
    "b = Tomo2.BarPlotTomo(folder_name = '_dm_noMBE_n')\n"
   ]
  },
  {
   "cell_type": "markdown",
   "metadata": {},
   "source": [
    "### Contrast measurement"
   ]
  },
  {
   "cell_type": "code",
   "execution_count": null,
   "metadata": {
    "collapsed": false,
    "scrolled": false
   },
   "outputs": [],
   "source": [
    "from analysis.scripts.QEC import Two_Qubit_Tomography as Tomo2\n",
    "reload(Tomo2)\n",
    "Tomo2.BarPlotTomoContrast(tag = '13C_dm_mx_')\n"
   ]
  },
  {
   "cell_type": "code",
   "execution_count": null,
   "metadata": {
    "collapsed": false,
    "scrolled": false
   },
   "outputs": [],
   "source": [
    "from analysis.scripts.QEC import Two_Qubit_Tomography as Tomo2; reload(Tomo2)\n",
    "reload(Tomo2)\n",
    "carbons = [4]\n",
    "for c in carbons:\n",
    "    Tomo2.CompleteTomo(folder_tag = 'Swap_gate_111no2_carbon' + str(c), \n",
    "                       older_than = None, \n",
    "                       newer_than = None,\n",
    "                       return_num = 6,\n",
    "                       plot_fit = True)"
   ]
  },
  {
   "cell_type": "code",
   "execution_count": null,
   "metadata": {
    "collapsed": false
   },
   "outputs": [],
   "source": [
    "gt = [183,137,230,246,131]\n",
    "fid = [0.8, 0.62,0.41,0.7,0.62]\n",
    "import matplotlib.pyplot as plt\n",
    "plt.plot(gt,fid,'ro')"
   ]
  },
  {
   "cell_type": "code",
   "execution_count": null,
   "metadata": {
    "collapsed": true
   },
   "outputs": [],
   "source": []
  }
 ],
 "metadata": {
  "kernelspec": {
   "display_name": "Python 2",
   "language": "python",
   "name": "python2"
  },
  "language_info": {
   "codemirror_mode": {
    "name": "ipython",
    "version": 2
   },
   "file_extension": ".py",
   "mimetype": "text/x-python",
   "name": "python",
   "nbconvert_exporter": "python",
   "pygments_lexer": "ipython2",
   "version": "2.7.3"
  }
 },
 "nbformat": 4,
 "nbformat_minor": 0
}
