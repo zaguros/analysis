{
 "cells": [
  {
   "cell_type": "code",
   "execution_count": null,
   "metadata": {
    "collapsed": false
   },
   "outputs": [],
   "source": [
    "execfile(r'D:\\measuring\\analysis\\scripts\\setup_analysis.py')\n",
    "folder=tb.latest_data()\n",
    "a= pqsequence.PQSequenceAnalysis(folder,hdf5_mode='r')\n",
    "a.get_sweep_pts()\n",
    "agrp=a.adwingrp('ssro')\n",
    "a.get_sweep_idxs(noof_syncs_per_sweep_pt=agrp.attrs['syncs_per_sweep'])\n",
    "a.get_readout_results('ssro')"
   ]
  },
  {
   "cell_type": "code",
   "execution_count": null,
   "metadata": {
    "collapsed": false
   },
   "outputs": [],
   "source": [
    "pq_plots.plot_photon_hist(a.pqf,start = 9900,  length = 3000, hist_binsize = 1, save = False, log=False)"
   ]
  },
  {
   "cell_type": "code",
   "execution_count": null,
   "metadata": {
    "collapsed": false
   },
   "outputs": [],
   "source": [
    "sp_lt = a.pqf['/PQ_special-1'].value      \n",
    "ch_lt = a.pqf['/PQ_channel-1'].value\n",
    "sn_lt = a.pqf['/PQ_sync_number-1'].value\n",
    "st_lt = a.pqf['/PQ_sync_time-1'].value"
   ]
  },
  {
   "cell_type": "markdown",
   "metadata": {},
   "source": [
    "### RO vs sweep"
   ]
  },
  {
   "cell_type": "code",
   "execution_count": null,
   "metadata": {
    "collapsed": false
   },
   "outputs": [],
   "source": [
    "ro_channel    = 0\n",
    "ro_start      = 7900\n",
    "ro_length     = 4000\n",
    "fltr_ro    = (sp_lt == 0) & (ch_lt == ro_channel)  & (st_lt > ro_start)  & (st_lt < (ro_start  + ro_length))   \n",
    "\n",
    "ro_results = np.zeros(a.sweep_length)\n",
    "sn_ro = sn_lt[fltr_ro]\n",
    "for sweep_idx in range(a.sweep_length):\n",
    "    sn_ro_swe_idx = sn_lt[(a.sweep_idxs ==sweep_idx) & fltr_ro]\n",
    "    #print len(np.unique(sn_ro_swe_idx))\n",
    "    #fltr_ro_sweep_idxs=np.in1d(sn_sweep_idx, sn_ro)\n",
    "    ro_results[sweep_idx] = float(len(np.unique(sn_ro_swe_idx)))/(a.reps*a.syncs_per_sweep/a.sweep_length)"
   ]
  },
  {
   "cell_type": "code",
   "execution_count": null,
   "metadata": {
    "collapsed": false
   },
   "outputs": [],
   "source": [
    "u_ro_results = np.sqrt(ro_results*(1-ro_results)/(a.reps*a.syncs_per_sweep/a.sweep_length))"
   ]
  },
  {
   "cell_type": "code",
   "execution_count": null,
   "metadata": {
    "collapsed": false
   },
   "outputs": [],
   "source": [
    "ax=subplot(111)\n",
    "ax.errorbar(a.sweep_pts,ro_results, yerr=u_ro_results)\n",
    "ax.set_xlabel(a.sweep_name)"
   ]
  },
  {
   "cell_type": "markdown",
   "metadata": {},
   "source": [
    "### Tail W1/W2 vs sweep"
   ]
  },
  {
   "cell_type": "code",
   "execution_count": null,
   "metadata": {
    "collapsed": false
   },
   "outputs": [],
   "source": [
    "ro_channel    = 0\n",
    "st_start = 9900\n",
    "st_len   = 200 #50 ns\n",
    "st_len_w2= 200\n",
    "\n",
    "w1 = np.zeros(a.sweep_length)\n",
    "w2 = np.zeros(a.sweep_length)\n",
    "w0 = np.zeros(a.sweep_length)\n",
    "for sweep_idx in range(a.sweep_length):\n",
    "    p_sep = agrp.attrs['opt_sep'][sweep_idx]*1e9 #600 ns\n",
    "    st_fltr_w0 = (sp_lt == 0) & (ch_lt == ro_channel)  & (st_lt > st_start)  & (st_lt < (st_start  + st_len)) \n",
    "    st_fltr_w1 = (sp_lt == 0) & (ch_lt == ro_channel)  & (st_lt > st_start+ p_sep)  & (st_lt < (st_start + p_sep + st_len)) \n",
    "    st_fltr_w2 = (sp_lt == 0) & (ch_lt == ro_channel)  & (st_lt > st_start + 2*p_sep)  & (st_lt < (st_start + 2*p_sep + st_len_w2)) \n",
    "    w0[sweep_idx] = np.sum(st_fltr_w0 & (a.sweep_idxs ==sweep_idx))\n",
    "    w1[sweep_idx] = np.sum(st_fltr_w1 & (a.sweep_idxs ==sweep_idx))\n",
    "    w2[sweep_idx] = np.sum(st_fltr_w2 & (a.sweep_idxs ==sweep_idx))    "
   ]
  },
  {
   "cell_type": "code",
   "execution_count": null,
   "metadata": {
    "collapsed": false
   },
   "outputs": [],
   "source": [
    "print 'avg tail:', (np.sum(w1) + np.sum(w2))/(a.reps*a.syncs_per_sweep)*1e4"
   ]
  },
  {
   "cell_type": "code",
   "execution_count": null,
   "metadata": {
    "collapsed": false
   },
   "outputs": [],
   "source": [
    "ax=subplot(111)\n",
    "ax.set_title(a.default_plot_title)\n",
    "ratiow1w2 = w1/w2\n",
    "u_ratiow1w2 = np.sqrt(w1/w2**2 + w2*(w1/w2**2)**2)\n",
    "ratiow0w1 = 0.5*w0/w1\n",
    "u_ratiow0w1 = np.sqrt(w0/w1**2 + w1*(w0/w1**2)**2)\n",
    "ratiow0w2 = 0.5*w0/w2\n",
    "u_ratiow0w2 = np.sqrt(w0/w2**2 + w2*(w0/w2**2)**2)\n",
    "ax.errorbar(a.sweep_pts,ratiow1w2,yerr=u_ratiow1w2, label = 'w1/w2')\n",
    "ax.errorbar(a.sweep_pts,ratiow0w1,yerr=u_ratiow0w1, label = '0.5*w0/w1')\n",
    "ax.errorbar(a.sweep_pts,ratiow0w2,yerr=u_ratiow0w2, label = '0.5*w0/w2')\n",
    "ax.set_xlabel(a.sweep_name)\n",
    "ax.set_ylabel('Ratio w1/w2')\n",
    "ax.text(0.05, 0.95, 'Opt. pulse sep. = {} ns'.format(p_sep), transform=ax.transAxes,\n",
    "        verticalalignment='top',horizontalalignment='left')\n",
    "ax.legend()\n",
    "\n",
    "#ax.text(a.sweep_pts[1],ax.get_ylim()[0]+0.05,'Opt. pulse sep. = {} ns'.format(p_sep))"
   ]
  },
  {
   "cell_type": "code",
   "execution_count": null,
   "metadata": {
    "collapsed": false
   },
   "outputs": [],
   "source": [
    "hist(st_lt[(a.sweep_idxs ==3)],bins =linspace(9900,10900,1000))\n",
    "print ''"
   ]
  },
  {
   "cell_type": "code",
   "execution_count": null,
   "metadata": {
    "collapsed": false
   },
   "outputs": [],
   "source": [
    "w2"
   ]
  },
  {
   "cell_type": "code",
   "execution_count": null,
   "metadata": {
    "collapsed": false
   },
   "outputs": [],
   "source": [
    "a.sweep_pts"
   ]
  },
  {
   "cell_type": "code",
   "execution_count": null,
   "metadata": {
    "collapsed": false
   },
   "outputs": [],
   "source": [
    "a.normalized_ssro"
   ]
  },
  {
   "cell_type": "code",
   "execution_count": null,
   "metadata": {
    "collapsed": false
   },
   "outputs": [],
   "source": []
  }
 ],
 "metadata": {
  "kernelspec": {
   "display_name": "Python 2",
   "language": "python",
   "name": "python2"
  },
  "language_info": {
   "codemirror_mode": {
    "name": "ipython",
    "version": 2
   },
   "file_extension": ".py",
   "mimetype": "text/x-python",
   "name": "python",
   "nbconvert_exporter": "python",
   "pygments_lexer": "ipython2",
   "version": "2.7.3"
  }
 },
 "nbformat": 4,
 "nbformat_minor": 0
}
