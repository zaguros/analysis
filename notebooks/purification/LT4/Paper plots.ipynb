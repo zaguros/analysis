{
 "cells": [
  {
   "cell_type": "code",
   "execution_count": null,
   "metadata": {
    "collapsed": false
   },
   "outputs": [],
   "source": [
    "execfile(r'D:\\measuring\\analysis\\scripts\\setup_analysis.py')\n",
    "%matplotlib inline"
   ]
  },
  {
   "cell_type": "markdown",
   "metadata": {},
   "source": [
    "# Feedback vs. no feedback"
   ]
  },
  {
   "cell_type": "code",
   "execution_count": null,
   "metadata": {
    "collapsed": false
   },
   "outputs": [],
   "source": [
    "from analysis.scripts.mbi import mbi_data_general_fits as fits; reload(fits)\n",
    "####\n",
    "#parameters / timestamps\n",
    "ssro_tstamp = '20160817_094252'\n",
    "tstamp_feedback = '20160817_141641'\n",
    "tstamp_no_feedback = '20160817_132726'\n",
    "####\n",
    "Result_w_feedback = fits.exp_sin(timestamp=  tstamp_feedback,\n",
    "                      offset=[0.5], amplitude = [0.5], center = [0], decay_constant = [300], \n",
    "                      exp_power = [2],\n",
    "                      frequency = [0.], phase =[0], \n",
    "                      fixed = [0,2,4,5,6],\n",
    "                      ylim = None,\n",
    "                      plot_fit = True, do_print = True, show_guess = False)[0]\n",
    "Result_wo_feedback = fits.exp_sin(timestamp=  tstamp_no_feedback,\n",
    "                      offset=[0.5], amplitude = [0.5], center = [0], decay_constant = [300], \n",
    "                      exp_power = [2],\n",
    "                      frequency = [0.04], phase =[0], \n",
    "                      fixed = [0,2,4],\n",
    "                      ylim = None,\n",
    "                      plot_fit = True, do_print = True, show_guess = False)[0]"
   ]
  },
  {
   "cell_type": "code",
   "execution_count": null,
   "metadata": {
    "collapsed": false
   },
   "outputs": [],
   "source": [
    "save_folder = r'K:\\ns\\qt\\Diamond\\Projects\\Purification\\Paper\\Plots' \n",
    "golden_ratio = 1.61803\n",
    "mm_to_inches = 0.0393701 ### inch/mm\n",
    "figure_width = mm_to_inches*45\n",
    "fig = plt.figure(figsize =(figure_width,figure_width/golden_ratio))\n",
    "ax = plt.subplot(111)\n",
    "x_wo_feed = np.linspace(Result_wo_feedback['x'][0],100,600)\n",
    "x_w_feed = np.linspace(Result_w_feedback['x'][0],100,600)\n",
    "\n",
    "### formatting\n",
    "lw = 1\n",
    "fontsize = 11\n",
    "markersize = 4\n",
    "\n",
    "col_w_feed = '#3594F2'\n",
    "col_wo_feed = '#F29335'\n",
    "\n",
    "ax.set_ylabel(r'p($|$Z$\\rangle$)',size = fontsize)\n",
    "ax.set_xlabel('Entangling attempts',size = fontsize)\n",
    "ax.set_xticklabels([0,20,40,60,80,100],size = fontsize)\n",
    "ax.yaxis.set_ticks([0.0,0.5,1.0])\n",
    "ax.set_yticklabels([0.0,0.5,1.0],size = fontsize)\n",
    "ax.xaxis.set_tick_params(width=lw)\n",
    "ax.yaxis.set_tick_params(width=lw)\n",
    "ax.set_ylim([0,1])\n",
    "[i.set_linewidth(lw) for i in ax.spines.itervalues()]\n",
    "ax.yaxis.set_label_coords(-0.23,0.5)\n",
    "### commencde plotting\n",
    "plt.plot(x_w_feed,Result_w_feedback['fitfunc'](x_w_feed),color = col_w_feed,lw=lw)\n",
    "plt.plot(x_wo_feed,Result_wo_feedback['fitfunc'](x_wo_feed), color = col_wo_feed,lw = lw)\n",
    "plt.errorbar(Result_wo_feedback['x'],Result_wo_feedback['y'],Result_wo_feedback['y_u'],fmt = 'o',color = col_wo_feed,ms = markersize,mew=lw/2.,elinewidth=lw)\n",
    "plt.errorbar(Result_w_feedback['x'],Result_w_feedback['y'],Result_w_feedback['y_u'],fmt = 'o',color = col_w_feed,ms = markersize,mew=lw/2.,elinewidth=lw)\n",
    "plt.savefig(os.path.join(save_folder,'feedback_nofeedback.png'),format='png',bbox_inches = 'tight',pad_inches=0.3)\n",
    "plt.savefig(os.path.join(save_folder,'feedback_nofeedback.pdf'),format='pdf',bbox_inches = 'tight',pad_inches=0.3)"
   ]
  },
  {
   "cell_type": "markdown",
   "metadata": {},
   "source": [
    "# Quantum Memory"
   ]
  },
  {
   "cell_type": "code",
   "execution_count": null,
   "metadata": {
    "collapsed": true
   },
   "outputs": [],
   "source": [
    "#### compose the timestamps, used order is: X,mX,Y,mY,Z,mZ\n",
    "### shown data is for pi/6\n",
    "daystamp = '20160817'\n",
    "LT3_tstamp_list = ['140755','151440','142421','143655','144136','144736']\n",
    "LT3_tstamp_list = [daystamp+'_'+s for s in LT3_tstamp_list]\n",
    "LT3_ssro = '20160817_095152'\n",
    "LT4_tstamp_list = ['172831','173338','175151','175644','150853','151312']\n",
    "LT4_tstamp_list = [daystamp+'_'+s for s in LT4_tstamp_list]\n",
    "LT4_ssro = '20160817_094254'"
   ]
  },
  {
   "cell_type": "code",
   "execution_count": null,
   "metadata": {
    "collapsed": true
   },
   "outputs": [],
   "source": [
    "def get_MBI_data(tstamp,ssrostamp):\n",
    "    ### note that the data is not carbon read-out corrected.\n",
    "    folder = tb.data_from_time(tstamp)\n",
    "    ssro_folder = tb.data_from_time(ssrostamp)\n",
    "    a = mbi.MBIAnalysis(folder)\n",
    "    a.get_sweep_pts()\n",
    "    a.get_readout_results(name='adwindata')\n",
    "    a.get_electron_ROC()\n",
    "    \n",
    "    return a.sweep_pts.reshape(-1)[:],a.p0.reshape(-1)[:],a.u_p0.reshape(-1)[:]"
   ]
  },
  {
   "cell_type": "code",
   "execution_count": null,
   "metadata": {
    "collapsed": false
   },
   "outputs": [],
   "source": [
    "x_list,y_list,y_u_list = [],[],[]\n",
    "for t in LT4_tstamp_list:\n",
    "    x,y,y_u = get_MBI_data(t,LT4_ssro)\n",
    "    x_list.append(x);y_list.append(y);y_u_list.append(y_u)\n",
    "    \n",
    "### calculate average state fidelity\n",
    "avg_yXY = np.zeros(len(x_list[0]))\n",
    "avg_yXY_u = np.zeros(len(x_list[0]))\n",
    "avg_yZ = np.zeros(len(x_list[-1]))\n",
    "avg_yZ_u = np.zeros(len(x_list[-1]))\n",
    "\n",
    "## get the avg XY values\n",
    "for y,y_u in zip(y_list[:-2],y_u_list[:-2]): ## we assume that all sweep points for all measurements are the same (could also write a function to check this...)\n",
    "    avg_yXY = avg_yXY+(np.absolute(2*(y-0.5))/2+0.5)/4.\n",
    "    avg_yXY_u = avg_yXY_u+y_u**2/16.\n",
    "\n",
    "    ## get the avg Z values\n",
    "for y,y_u in zip(y_list[-2:],y_u_list[-2:]): ## we assume that all sweep points for all measurements are the same (could also write a function to check this...)\n",
    "    avg_yZ = avg_yZ+(np.absolute(2*(y-0.5))/2.+0.5)/2.\n",
    "    avg_yZ_u = avg_yZ_u+y_u**2/4.    \n",
    "\n",
    "avg_yXY_u = np.sqrt(avg_yXY_u)\n",
    "avg_yZ_u = np.sqrt(avg_yZ_u)"
   ]
  },
  {
   "cell_type": "code",
   "execution_count": null,
   "metadata": {
    "collapsed": false
   },
   "outputs": [],
   "source": [
    "### fit XY decay:\n",
    "p0,fitfunc,fitfunc_str = common.fit_exp_decay_with_offset(0.5, 0.45, 300);fixed = [0]\n",
    "p0,fitfunc,fitfunc_str = common.fit_gauss(0.5,0.45,0,250);fixed = [0,2]\n",
    "p0,fitfunc,fitfunc_str = common.fit_general_exponential(0.5,0.45,0,250,1.0); fixed = [0,2]\n",
    "fit_result = fit.fit1d(x_list[0],avg_yXY, None, p0=p0, fitfunc=fitfunc, do_print=True, ret=True,fixed=fixed)\n",
    "fit_x = np.linspace(x_list[0][0],500,600)"
   ]
  },
  {
   "cell_type": "code",
   "execution_count": null,
   "metadata": {
    "collapsed": false
   },
   "outputs": [],
   "source": [
    "### plot decays\n",
    "golden_ratio = 1.61803\n",
    "mm_to_inches = 0.0393701 ### inch/mm\n",
    "figure_width = mm_to_inches*89\n",
    "fig = plt.figure(figsize =(figure_width,figure_width/golden_ratio))\n",
    "ax = plt.subplot(111)\n",
    "### formatting\n",
    "lw = 1.\n",
    "fontsize = 11.\n",
    "markersize = 4.\n",
    "\n",
    "### colors\n",
    "col_XY = '#3594F2'\n",
    "# green = np.array([79/255.,166/255.,58/255.]) ### the color col_XY expressed in RGB values\n",
    "blue = np.array([53,148,242])/255.\n",
    "green = blue\n",
    "white = np.array([1,1,1])\n",
    "x_max = x_list[0][-1]\n",
    "col_Z = '#F29335' #242/147/53\n",
    "orange_z = np.array([242,147,53])/255.\n",
    "color_gradient = [(1-float(x)/x_max)*green+(float(x)/x_max)*white for x in x_list[0]]\n",
    "color_gradient2 = [(1-float(x)/x_max)*orange_z+(float(x)/x_max)*orange_z for x in x_list[0]]\n",
    "\n",
    "## apply formatting\n",
    "ax.set_ylabel(r'Average fidelity',size = fontsize)\n",
    "ax.set_xlabel('Entangling attempts',size = fontsize)\n",
    "ax.yaxis.set_ticks([0.4,0.6,0.8,1.0])\n",
    "ax.xaxis.set_ticks([0,100,200,300,400])\n",
    "ax.tick_params(labelsize = fontsize,width =lw)\n",
    "ax.set_ylim([0.4,1])\n",
    "ax.set_xlim([0,450])\n",
    "[i.set_linewidth(lw) for i in ax.spines.itervalues()]\n",
    "\n",
    "### implement color gradient\n",
    "\n",
    "\n",
    "ax.scatter(x_list[0],avg_yXY, c=color_gradient, s=markersize**2, zorder=3,linewidths=lw/2.)\n",
    "ax.errorbar(x_list[0],avg_yXY,avg_yXY_u,fmt='.', zorder=0,ecolor=col_XY,mew=lw/2.)\n",
    "ax.errorbar(x_list[-1],avg_yZ,avg_yZ_u,fmt = 'o',ms = markersize,color=col_Z,mew=lw/2.)\n",
    "ax.plot(fit_x,fit_result['fitfunc'](fit_x),'-',color=col_XY,lw=lw)\n",
    "plt.savefig(os.path.join(save_folder,'memory_decay_LT4.png'),format='png',bbox_inches = 'tight',pad_inches=0.3)\n",
    "plt.savefig(os.path.join(save_folder,'memory_decay_LT4.pdf'),format='pdf',bbox_inches = 'tight',pad_inches=0.3)"
   ]
  },
  {
   "cell_type": "code",
   "execution_count": null,
   "metadata": {
    "collapsed": false
   },
   "outputs": [],
   "source": [
    "from analysis.lib.purification import blochsphere_qutip as bl; reload(bl)\n",
    "### convert all y entries to bloch vector coordinates\n",
    "bv_list = [2*(y-0.5) for y in y_list]\n",
    "\n",
    "\n",
    "b = bl.Bloch(figsize=[1.2,1.2])\n",
    "# b = bl.Bloch(figsize=[3.2,3.2])\n",
    "## X values\n",
    "b.add_points([bv_list[0],np.zeros(len(bv_list[0])),np.zeros(len(bv_list[0]))],invert_colors = False)\n",
    "b.add_points([bv_list[1][::-1],np.zeros(len(bv_list[1]))[::-1],np.zeros(len(bv_list[1]))[::-1]],invert_colors = True)\n",
    "## Y values\n",
    "b.add_points([np.zeros(len(bv_list[2])),bv_list[2],np.zeros(len(bv_list[2]))])\n",
    "b.add_points([np.zeros(len(bv_list[3]))[::-1],bv_list[3][::-1],np.zeros(len(bv_list[3]))[::-1]],invert_colors = True)\n",
    "## Z values\n",
    "b.add_points([np.zeros(len(bv_list[4])),np.zeros(len(bv_list[4])),bv_list[4]],color2 = True,invert_colors = False)\n",
    "b.add_points([np.zeros(len(bv_list[5])),np.zeros(len(bv_list[5])),bv_list[5]],color2 = True,invert_colors = False)\n",
    "\n",
    "## styling\n",
    "b.frame_alpha = 0.01\n",
    "b.point_marker = 'o'\n",
    "b.point_color  = color_gradient\n",
    "b.point_color2 = color_gradient2\n",
    "b.point_size   = [9]\n",
    "b.xlabel = [\"$\\\\left|0\\\\right>$\",\"\"]#[\"X\",\"\"]\n",
    "b.ylabel = [\"$y$\",\"\"]\n",
    "b.zlabel = [\"$-x$\",\"\"]\n",
    "\n",
    "b.save(name =os.path.join(save_folder,'bloch_LT4.pdf'),format = 'pdf') \n",
    "# b.save(name =os.path.join(save_folder,'bloch_LT4.png'),format = 'png')\n",
    "# b.axes.scatter?\n",
    "# b.show()\n"
   ]
  },
  {
   "cell_type": "code",
   "execution_count": null,
   "metadata": {
    "collapsed": false
   },
   "outputs": [],
   "source": [
    "#### bloch sphere in the computational basis X --> Z!\n",
    "\n",
    "from analysis.lib.purification import blochsphere_qutip as bl; reload(bl)\n",
    "### convert all y entries to bloch vector coordinates\n",
    "bv_list = [2*(y-0.5) for y in y_list]\n",
    "\n",
    "\n",
    "b = bl.Bloch(figsize=[1.2,1.2])\n",
    "# b = bl.Bloch(figsize=[3.2,3.2])\n",
    "## X values\n",
    "b.add_points([np.zeros(len(bv_list[0])),np.zeros(len(bv_list[0])),bv_list[0]],invert_colors = False)\n",
    "b.add_points([np.zeros(len(bv_list[1])),np.zeros(len(bv_list[1])),bv_list[1][::-1]],invert_colors = True)\n",
    "## Y values\n",
    "b.add_points([-bv_list[2],np.zeros(len(bv_list[2]))[::-1],np.zeros(len(bv_list[2]))])\n",
    "b.add_points([-bv_list[3][::-1],np.zeros(len(bv_list[3]))[::-1],np.zeros(len(bv_list[3]))[::-1]],invert_colors = True)\n",
    "## Z values\n",
    "b.add_points([np.zeros(len(bv_list[4])),-bv_list[4],np.zeros(len(bv_list[4]))],color2 = True,invert_colors = False)\n",
    "b.add_points([np.zeros(len(bv_list[5])),-bv_list[5],np.zeros(len(bv_list[5]))],color2 = True,invert_colors = False)\n",
    "\n",
    "## styling\n",
    "b.frame_alpha = 0.01\n",
    "b.point_marker = 'o'\n",
    "b.point_color  = color_gradient\n",
    "b.point_color2 = color_gradient2\n",
    "b.point_size   = [9]\n",
    "b.zlabel = [\"$\\\\left| \\\\mathrm{0}\\\\right>$\",\"\"]#[\"X\",\"\"]\n",
    "b.ylabel = [\"x\",\"\"]\n",
    "b.xlabel = [\"\",\"y\"]\n",
    "\n",
    "b.save(name =os.path.join(save_folder,'bloch_LT4.pdf'),format = 'pdf') \n",
    "# b.save(name =os.path.join(save_folder,'bloch_LT4.png'),format = 'png')\n",
    "# b.axes.scatter?\n",
    "# b.show()\n"
   ]
  },
  {
   "cell_type": "code",
   "execution_count": null,
   "metadata": {
    "collapsed": true
   },
   "outputs": [],
   "source": []
  }
 ],
 "metadata": {
  "kernelspec": {
   "display_name": "Python 2",
   "language": "python",
   "name": "python2"
  },
  "language_info": {
   "codemirror_mode": {
    "name": "ipython",
    "version": 2
   },
   "file_extension": ".py",
   "mimetype": "text/x-python",
   "name": "python",
   "nbconvert_exporter": "python",
   "pygments_lexer": "ipython2",
   "version": "2.7.3"
  }
 },
 "nbformat": 4,
 "nbformat_minor": 0
}
