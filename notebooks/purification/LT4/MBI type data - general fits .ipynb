{
 "cells": [
  {
   "cell_type": "markdown",
   "metadata": {},
   "source": [
    "## General fits for MBI type data"
   ]
  },
  {
   "cell_type": "code",
   "execution_count": null,
   "metadata": {
    "collapsed": false
   },
   "outputs": [],
   "source": [
    "import sys\n",
    "import numpy as np\n",
    "\n",
    "sys.path.append(r'D:/measuring')\n",
    "sys.path.append(r'D:/measuring/analysis')\n",
    "\n",
    "from analysis.scripts.mbi import mbi_data_general_fits as fits; reload(fits)\n",
    "from analysis.lib.m2.ssro import mbi\n",
    "from analysis.lib.tools import toolbox as tb\n",
    "reload(mbi); reload(tb)\n",
    "import matplotlib.pyplot as plt\n",
    "%matplotlib inline\n"
   ]
  },
  {
   "cell_type": "code",
   "execution_count": null,
   "metadata": {
    "collapsed": false,
    "scrolled": false
   },
   "outputs": [],
   "source": [
    "import matplotlib.pyplot as plt\n",
    "reload(fits)\n",
    "Result = fits.exp_sin(timestamp=  None, contains = '',\n",
    "                      offset=[0.8], amplitude = [0.1], center = [0], decay_constant = [10], \n",
    "                      exp_power = [2],\n",
    "                      frequency = [0], phase =[0], \n",
    "                      fixed = [2,4,5,6],\n",
    "                      ylim = [0.0,1],\n",
    "                      plot_fit = True, do_print = True, show_guess = False,\n",
    "                     correct_ionization = True)\n",
    "\n",
    "###params\n",
    "# 0 : offset\n",
    "# 1 : amplitude\n",
    "# 2 : center\n",
    "# 3 : decay_constant\n",
    "# 4 : exp_power\n",
    "# 5 : frequency\n",
    "# 6 : phase"
   ]
  },
  {
   "cell_type": "code",
   "execution_count": null,
   "metadata": {
    "collapsed": false,
    "scrolled": false
   },
   "outputs": [],
   "source": [
    "reload(fits)\n",
    "Result = fits.exp_sin(timestamp=None, contains = '',\n",
    "                      offset=[0.5], amplitude = [0.76,0.75], center = [0]*2, decay_constant = [30]*2, exp_power = [2]*2,\n",
    "                      frequency = [443393.29,88e3], phase =[-179,-185],                       \n",
    "                      fixed = [0,2,4],\n",
    "                      ylim = None, plot_fit = True, do_print = True, show_guess = False)\n",
    "\n",
    "# fit param order for fixing\n",
    "#0 offset[0], 1 amplitude[0], 2 decay_constant[0], 3 amplitude[0],\n",
    "#4 frequency[0], 5 phase[0], 6 amplitude[1], 7 frequency[1], 8 phase[1])"
   ]
  },
  {
   "cell_type": "markdown",
   "metadata": {
    "collapsed": false
   },
   "source": [
    "# Compare Cr before and after"
   ]
  },
  {
   "cell_type": "code",
   "execution_count": null,
   "metadata": {
    "collapsed": false
   },
   "outputs": [],
   "source": [
    "reload(fits)\n",
    "fits.get_CR_histos(contains = '144243')\n",
    "fits.get_CR_histos(contains = '144058')"
   ]
  },
  {
   "cell_type": "code",
   "execution_count": null,
   "metadata": {
    "collapsed": false
   },
   "outputs": [],
   "source": [
    "reload(mbi); reload(tb)\n",
    "\n",
    "folder= tb.latest_data()#older_than='20170720103200')\n",
    "a=mbi.MBIAnalysis(folder)\n",
    "a.get_sweep_pts()\n",
    "a.get_readout_results(name='adwindata')\n",
    "a.get_electron_ROC()\n",
    "ax = a.plot_results_vs_sweepparam(ret='ax', name='adwindata')\n",
    "ax.set_ylim(0.0, 1.0)\n",
    "\n",
    "minimum_pos = np.argmin(a.p0)\n",
    "print(\"minimum at: \" + str(a.sweep_pts[minimum_pos]))\n",
    "\n",
    "closest_to_half_pos = np.argmin(np.abs(a.p0 - 0.5))\n",
    "print(\"closest to 0.5 at: %d, value %.3f\" % (a.sweep_pts[closest_to_half_pos], a.p0[closest_to_half_pos]))\n",
    "plt.show()\n",
    "plt.close('all')"
   ]
  },
  {
   "cell_type": "markdown",
   "metadata": {},
   "source": [
    "# pos neg data"
   ]
  },
  {
   "cell_type": "code",
   "execution_count": null,
   "metadata": {
    "collapsed": false
   },
   "outputs": [],
   "source": [
    "import matplotlib.pyplot as plt\n",
    "reload(mbi); reload(tb)\n",
    "\n",
    "p_folder= tb.latest_data('positive')\n",
    "p_a=mbi.MBIAnalysis(p_folder)\n",
    "p_a.get_sweep_pts()\n",
    "p_a.get_readout_results(name='adwindata')\n",
    "p_a.get_electron_ROC()\n",
    "\n",
    "m_folder= tb.latest_data('negative')\n",
    "m_a=mbi.MBIAnalysis(m_folder)\n",
    "m_a.get_sweep_pts()\n",
    "m_a.get_readout_results(name='adwindata')\n",
    "m_a.get_electron_ROC()\n",
    "\n",
    "plt.errorbar(p_a.sweep_pts, p_a.p0, p_a.u_p0, label='pos', fmt='o')\n",
    "plt.errorbar(m_a.sweep_pts, m_a.p0, m_a.u_p0, label='neg', fmt='o')\n",
    "\n",
    "diff_x = p_a.sweep_pts\n",
    "diff_y = p_a.p0 - m_a.p0\n",
    "diff_y_u = np.sqrt((p_a.u_p0**2) + (m_a.u_p0)**2)\n",
    "\n",
    "plt.errorbar(diff_x, diff_y , diff_y_u, label='diff', fmt='o')\n",
    "plt.ylim(-1,1)\n",
    "plt.legend()\n",
    "plt.axhline(0)\n",
    "plt.title(p_a.default_plot_title)\n",
    "\n",
    "closest_to_zero_pos = np.argmin(np.abs(diff_y))\n",
    "print(\"closest to zero at: %d, value %.3f\" % (diff_x[closest_to_zero_pos], diff_y[closest_to_zero_pos]))\n",
    "plt.close('all')"
   ]
  },
  {
   "cell_type": "markdown",
   "metadata": {},
   "source": [
    "# Pos neg same file data"
   ]
  },
  {
   "cell_type": "code",
   "execution_count": null,
   "metadata": {
    "collapsed": false,
    "scrolled": false
   },
   "outputs": [],
   "source": [
    "import matplotlib.pyplot as plt\n",
    "reload(mbi); reload(tb)\n",
    "from analysis.lib.fitting import fit, common\n",
    "reload(fit)\n",
    "reload(common)\n",
    "\n",
    "m_name = \"T2star_C7\"\n",
    "tomos = ['X', 'Y']\n",
    "tomo_data = {}\n",
    "\n",
    "folder = tb.latest_data(m_name)\n",
    "a = mbi.MBIAnalysis(folder)\n",
    "\n",
    "calculate_bloch = True\n",
    "do_fit = True\n",
    "\n",
    "for t in tomos:\n",
    "    a.get_sweep_pts()\n",
    "    a.get_readout_results(name=t + \"_positive\")\n",
    "    a.get_electron_ROC()\n",
    "    \n",
    "    x = a.sweep_pts\n",
    "    pos_y = (a.p0.reshape(-1) - 0.5) * 2\n",
    "    pos_y_u = a.u_p0.reshape(-1) * 2\n",
    "    \n",
    "    a.get_readout_results(name=t + \"_negative\")\n",
    "    a.get_electron_ROC()\n",
    "    \n",
    "    neg_y = (a.p0.reshape(-1) - 0.5) * 2\n",
    "    neg_y_u = a.u_p0.reshape(-1) * 2\n",
    "    \n",
    "    cor_y = 0.5*pos_y - 0.5*neg_y\n",
    "    cor_y_u = np.sqrt(pos_y_u**2 + neg_y_u**2) / 2\n",
    "    \n",
    "    tomo_data[t] = {\n",
    "        'x': x,\n",
    "        'y': cor_y,\n",
    "        'y_u': cor_y_u\n",
    "    }\n",
    "    \n",
    "if calculate_bloch:\n",
    "    bloch_length = np.zeros_like(tomo_data[tomos[0]]['y'])\n",
    "    bloch_length_u = np.zeros_like(tomo_data[tomos[0]]['y_u'])\n",
    "    for t in tomos:\n",
    "        bloch_length += tomo_data[t]['y'] ** 2\n",
    "        bloch_length_u += (tomo_data[t]['y_u'] * tomo_data[t]['y']) ** 2\n",
    "    bloch_length = np.sqrt(bloch_length) / np.sqrt(0.5*len(tomos))\n",
    "    bloch_length_u = np.sqrt(bloch_length_u) / bloch_length / np.sqrt(0.5*len(tomos))\n",
    "    \n",
    "    tomo_data['bloch'] = {\n",
    "        'x': tomo_data[tomos[0]]['x'],\n",
    "        'y': bloch_length,\n",
    "        'y_u': bloch_length_u\n",
    "    }\n",
    "    \n",
    "    tomos += ['bloch']\n",
    "    \n",
    "fit_xvals = np.linspace(0.0e-3, 12.0e-3)\n",
    "\n",
    "for t in tomos:\n",
    "    \n",
    "    \n",
    "    if do_fit:\n",
    "        g_f = 300.0\n",
    "        g_B = None\n",
    "        fixed = [1]\n",
    "        fit_method = common.fit_gaussian_decaying_cos\n",
    "        if t == 'bloch':\n",
    "            g_f = 0.0\n",
    "            g_B = 0.0\n",
    "            fixed=[0,1,3,5]\n",
    "            fit_method = common.fit_gaussian_decaying_offset_cos\n",
    "        \n",
    "        fr = fit.fit1d(\n",
    "            tomo_data[t]['x'], tomo_data[t]['y'], \n",
    "            fit_method,\n",
    "            g_f, 0.0, 1.0, 0.0, 10.0e-3, g_B, \n",
    "            fixed=fixed,\n",
    "            do_print=True)\n",
    "        \n",
    "        ebar = plt.errorbar(\n",
    "            tomo_data[t]['x'], tomo_data[t]['y'], tomo_data[t]['y_u'],                \n",
    "            label=\"%s, T2* = %.2f +/- %.2f ms\" % (t, fr['params_dict']['t'] * 1e3, fr['error_dict']['t'] * 1e3), \n",
    "            fmt='o'\n",
    "        )\n",
    "        plt.plot(fit_xvals, fr['fitfunc'](fit_xvals), color=ebar[0].get_color())\n",
    "    else:\n",
    "        ebar = plt.errorbar(tomo_data[t]['x'], tomo_data[t]['y'], tomo_data[t]['y_u'], label=t, fmt='o')\n",
    "\n",
    "plt.ylim(-1,1)\n",
    "plt.legend(loc=4)\n",
    "plt.axhline(0)\n",
    "plt.title(a.default_plot_title)\n",
    "plt.show()\n",
    "plt.close('all')"
   ]
  },
  {
   "cell_type": "code",
   "execution_count": null,
   "metadata": {
    "collapsed": false
   },
   "outputs": [],
   "source": [
    "f_l = 440e3\n",
    "mismatch = -10.0\n",
    "full_rotations = 3\n",
    "\n",
    "print(360.0*full_rotations*(f_l/(f_l + mismatch) - 1))\n",
    "\n",
    "print(np.cos(np.pi/2.+2*np.pi*(f_l/(f_l + mismatch) - 1)))"
   ]
  },
  {
   "cell_type": "code",
   "execution_count": null,
   "metadata": {
    "collapsed": true
   },
   "outputs": [],
   "source": []
  }
 ],
 "metadata": {
  "kernelspec": {
   "display_name": "Python 2",
   "language": "python",
   "name": "python2"
  },
  "language_info": {
   "codemirror_mode": {
    "name": "ipython",
    "version": 2
   },
   "file_extension": ".py",
   "mimetype": "text/x-python",
   "name": "python",
   "nbconvert_exporter": "python",
   "pygments_lexer": "ipython2",
   "version": "2.7.3"
  }
 },
 "nbformat": 4,
 "nbformat_minor": 0
}
