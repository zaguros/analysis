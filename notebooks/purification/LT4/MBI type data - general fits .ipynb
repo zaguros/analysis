{
 "cells": [
  {
   "cell_type": "markdown",
   "metadata": {},
   "source": [
    "## General fits for MBI type data"
   ]
  },
  {
   "cell_type": "code",
   "execution_count": null,
   "metadata": {
    "collapsed": false
   },
   "outputs": [],
   "source": [
    "import sys\n",
    "import numpy as np\n",
    "\n",
    "sys.path.append(r'D:/measuring')\n",
    "sys.path.append(r'D:/measuring/analysis')\n",
    "\n",
    "from analysis.scripts.mbi import mbi_data_general_fits as fits; reload(fits)\n",
    "%matplotlib inline\n"
   ]
  },
  {
   "cell_type": "code",
   "execution_count": null,
   "metadata": {
    "collapsed": false
   },
   "outputs": [],
   "source": [
    "reload(fits)\n",
    "Result = fits.exp_sin(timestamp=  None, contains = '111',\n",
    "                      offset=[0.5], amplitude = [0.5], center = [0], decay_constant = [1000e-3], \n",
    "                      exp_power = [2],\n",
    "                      frequency = [0.], phase =[0], \n",
    "                      fixed = [0,2,4,5,6],\n",
    "                      ylim = None,\n",
    "                      plot_fit = True, do_print = True, show_guess = False)\n",
    "\n",
    "###params\n",
    "# 0 : offset\n",
    "# 1 : amplitude\n",
    "# 2 : center\n",
    "# 3 : decay_constant\n",
    "# 4 : exp_power\n",
    "# 5 : frequency\n",
    "# 6 : phase"
   ]
  },
  {
   "cell_type": "code",
   "execution_count": null,
   "metadata": {
    "collapsed": false,
    "scrolled": false
   },
   "outputs": [],
   "source": [
    "reload(fits)\n",
    "Result = fits.exp_sin(timestamp=None, contains = '111no2',\n",
    "                      offset=[0.5], amplitude = [0.76,0.75], center = [0]*2, decay_constant = [30]*2, exp_power = [2]*2,\n",
    "                      frequency = [443393.29,416812.23], phase =[-179,-185],                       \n",
    "                      fixed = [0,2,4],\n",
    "                      ylim = None,\n",
    "                      plot_fit = True, do_print = True, show_guess = False)\n",
    "\n",
    "# fit param order for fixing\n",
    "#0 offset[0], 1 amplitude[0], 2 decay_constant[0], 3 amplitude[0],\n",
    "#4 frequency[0], 5 phase[0], 6 amplitude[1], 7 frequency[1], 8 phase[1])"
   ]
  },
  {
   "cell_type": "markdown",
   "metadata": {
    "collapsed": false
   },
   "source": [
    "# Compare Cr before and after"
   ]
  },
  {
   "cell_type": "code",
   "execution_count": null,
   "metadata": {
    "collapsed": false
   },
   "outputs": [],
   "source": [
    "reload(fits)\n",
    "fits.get_CR_histos(contains = '144243')\n",
    "fits.get_CR_histos(contains = '144058')"
   ]
  },
  {
   "cell_type": "code",
   "execution_count": null,
   "metadata": {
    "collapsed": true
   },
   "outputs": [],
   "source": []
  }
 ],
 "metadata": {
  "kernelspec": {
   "display_name": "Python 2",
   "language": "python",
   "name": "python2"
  },
  "language_info": {
   "codemirror_mode": {
    "name": "ipython",
    "version": 2
   },
   "file_extension": ".py",
   "mimetype": "text/x-python",
   "name": "python",
   "nbconvert_exporter": "python",
   "pygments_lexer": "ipython2",
   "version": "2.7.3"
  }
 },
 "nbformat": 4,
 "nbformat_minor": 0
}
