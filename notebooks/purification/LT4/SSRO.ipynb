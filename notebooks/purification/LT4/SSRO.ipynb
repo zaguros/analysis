{
 "cells": [
  {
   "cell_type": "code",
   "execution_count": null,
   "metadata": {
    "collapsed": false
   },
   "outputs": [],
   "source": [
    "execfile(r'D:\\measuring\\analysis\\scripts\\setup_analysis.py')\n",
    "%matplotlib inline"
   ]
  },
  {
   "cell_type": "code",
   "execution_count": null,
   "metadata": {
    "collapsed": false
   },
   "outputs": [],
   "source": [
    "nvlevels.get_ES_ExEy(73.0,76.8, transitions=True)"
   ]
  },
  {
   "cell_type": "code",
   "execution_count": null,
   "metadata": {
    "collapsed": false
   },
   "outputs": [],
   "source": [
    "from analysis.lib.nv import detection"
   ]
  },
  {
   "cell_type": "code",
   "execution_count": null,
   "metadata": {
    "collapsed": false
   },
   "outputs": [],
   "source": [
    "detection.get_SSRO_vs_strain(11,.79,3)"
   ]
  },
  {
   "cell_type": "code",
   "execution_count": null,
   "metadata": {
    "collapsed": false
   },
   "outputs": [],
   "source": [
    "ssro.ssrocalib(plot_photon_ms0=False)\n",
    "#ssro.ssrocalib(folder=tb.data_from_time('20140612/120235'))"
   ]
  },
  {
   "cell_type": "code",
   "execution_count": null,
   "metadata": {
    "collapsed": false,
    "scrolled": false
   },
   "outputs": [],
   "source": [
    "#### determine red saturation powers\n",
    "execfile(r'D:\\measuring\\analysis\\scripts\\ssro\\ssro_vs_power.py')"
   ]
  },
  {
   "cell_type": "code",
   "execution_count": null,
   "metadata": {
    "collapsed": false
   },
   "outputs": [],
   "source": [
    "execfile(r'D:\\measuring\\analysis\\scripts\\setup_analysis.py')\n",
    "\n",
    "folder= tb.latest_data('FastSSRO')\n",
    "#folder = r'D:\\measuring\\data\\20150212\\133749_PQPulsarMeasurement_FastSSROCalib_SAM_SIL5'\n",
    "#folder=tb.data_from_time('125319')\n",
    "a=pqsequence.FastSSROAnalysis(folder)#, pq_folder='bs_remote')\n",
    "a.get_sweep_pts()\n",
    "a.get_readout_results('ssro')\n",
    "a.get_sweep_idxs(noof_syncs_per_sweep_pt=1)\n",
    "a.get_fastssro_results(channel=0,pq_binsize_ns=1.0, hist_binsize_ns=100.0)\n"
   ]
  },
  {
   "cell_type": "code",
   "execution_count": null,
   "metadata": {
    "collapsed": false
   },
   "outputs": [],
   "source": [
    "a.get_cr_results('ssro')\n",
    "sn = np.arange(a.reps)\n",
    "sn_cr = sn[a.cr_after>0]+1\n",
    "fltr=np.in1d(a.sync_nrs,sn_cr)\n",
    "ax=a.plot_fidelity_cpsh_vs_sweep(RO_length_ns=3500, ret = 'ax',fltr=fltr)\n",
    "ax.set_ylim(0.8,1.01)"
   ]
  },
  {
   "cell_type": "code",
   "execution_count": null,
   "metadata": {
    "collapsed": false
   },
   "outputs": [],
   "source": [
    "a.extra_time_ns = 1010\n",
    "ax=a.plot_fidelity_cpsh_vs_sweep(RO_length_ns=3500, ret = 'ax')\n",
    "ax.set_ylim(0.8,1.01)"
   ]
  },
  {
   "cell_type": "code",
   "execution_count": null,
   "metadata": {
    "collapsed": false
   },
   "outputs": [],
   "source": [
    "a.extra_time_ns = 1000\n",
    "d=a.plot_relaxation_vs_sweep(0,'RO')"
   ]
  },
  {
   "cell_type": "code",
   "execution_count": null,
   "metadata": {
    "collapsed": false
   },
   "outputs": [],
   "source": [
    "print sum(fltr), len(a.sync_nrs)\n",
    "print fltr[:10]"
   ]
  },
  {
   "cell_type": "code",
   "execution_count": null,
   "metadata": {
    "collapsed": false
   },
   "outputs": [],
   "source": [
    "sweep_index =5\n",
    "ax=a.plot_mean_fidelity(sweep_index, RO_length_ns=3500, ret='ax')\n",
    "ax.set_ylim(0.5,1.01)"
   ]
  },
  {
   "cell_type": "code",
   "execution_count": null,
   "metadata": {
    "collapsed": false
   },
   "outputs": [],
   "source": [
    "sweep_index = 5\n",
    "print a.extra_time_ns\n",
    "a.extra_time_ns = 1000\n",
    "ax=a.plot_relaxation(sweep_index,ms=0, st='RO', ret='ax')\n",
    "a.plot_relaxation(sweep_index,ms=0, st='SP')\n",
    "a.plot_relaxation(sweep_index,ms=1, st='RO')\n",
    "a.plot_relaxation(sweep_index,ms=1, st='SP')\n"
   ]
  },
  {
   "cell_type": "code",
   "execution_count": null,
   "metadata": {
    "collapsed": false
   },
   "outputs": [],
   "source": [
    "a.get_cr_results('ssro')\n",
    "a.plot_cr_vs_sweep()"
   ]
  },
  {
   "cell_type": "code",
   "execution_count": null,
   "metadata": {
    "collapsed": false
   },
   "outputs": [],
   "source": [
    "bar(arange(1000),a.pqf['PQ_hist_lengths'][:1000])"
   ]
  },
  {
   "cell_type": "code",
   "execution_count": null,
   "metadata": {
    "collapsed": false
   },
   "outputs": [],
   "source": [
    "a._get_RO_window(1,5)"
   ]
  },
  {
   "cell_type": "code",
   "execution_count": null,
   "metadata": {
    "collapsed": false
   },
   "outputs": [],
   "source": [
    "a.hist_binsize_ns=1\n",
    "x,y=a._get_relaxation(1,5,60000,100000)"
   ]
  },
  {
   "cell_type": "code",
   "execution_count": null,
   "metadata": {
    "collapsed": false
   },
   "outputs": [],
   "source": [
    "sum(x)/100e-6/5000"
   ]
  },
  {
   "cell_type": "code",
   "execution_count": null,
   "metadata": {
    "collapsed": false
   },
   "outputs": [],
   "source": [
    "f1,_tmp=a._get_fidelity_and_mean_cpsh(1,5,152000,3000)"
   ]
  },
  {
   "cell_type": "code",
   "execution_count": null,
   "metadata": {
    "collapsed": false
   },
   "outputs": [],
   "source": [
    "4/5000.+f1"
   ]
  },
  {
   "cell_type": "code",
   "execution_count": null,
   "metadata": {
    "collapsed": false
   },
   "outputs": [],
   "source": [
    "execfile(r'D:\\measuring\\analysis\\scripts\\laser_scan\\plot_simplest_gate_tuning.py')"
   ]
  },
  {
   "cell_type": "code",
   "execution_count": null,
   "metadata": {
    "collapsed": false
   },
   "outputs": [],
   "source": [
    "import h5py\n",
    "datafile = r'X:\\data\\20140529\\185317_Bell_BS_test_BS_lt1_tail_Pippin_Sil3_0V'\n",
    "data = h5py.File(datafile,'r')\n",
    "times = data['PQ_sync_time-1'].value\n",
    "sync_numbers = data['PQ_sync_number-1'].value\n",
    "channel = data['PQ_channel-1'].value"
   ]
  },
  {
   "cell_type": "code",
   "execution_count": null,
   "metadata": {
    "collapsed": false
   },
   "outputs": [],
   "source": [
    "fig = plt.figure()\n",
    "ax = fig.add_subplot(111)\n",
    "ax.hist(times,1000)"
   ]
  },
  {
   "cell_type": "code",
   "execution_count": null,
   "metadata": {
    "collapsed": false
   },
   "outputs": [],
   "source": [
    "fig = plt.figure()\n",
    "ax = fig.add_subplot(111)\n",
    "ax.hist(sync_numbers[0:1000])"
   ]
  },
  {
   "cell_type": "code",
   "execution_count": null,
   "metadata": {
    "collapsed": false
   },
   "outputs": [],
   "source": [
    "np.max(channel)"
   ]
  },
  {
   "cell_type": "code",
   "execution_count": null,
   "metadata": {
    "collapsed": false
   },
   "outputs": [],
   "source": [
    "x,y=nvlevels.get_levels()\n",
    "plot(x,y)\n"
   ]
  },
  {
   "cell_type": "code",
   "execution_count": null,
   "metadata": {
    "collapsed": false
   },
   "outputs": [],
   "source": [
    "sort(nvlevels.get_ES(E_field=[7.2/2,0,0])[0])"
   ]
  },
  {
   "cell_type": "code",
   "execution_count": null,
   "metadata": {
    "collapsed": false
   },
   "outputs": [],
   "source": [
    "execfile(r'D:\\measuring\\analysis\\scripts\\laser_scan\\plot_simplest_gate_tuning.py')"
   ]
  },
  {
   "cell_type": "code",
   "execution_count": null,
   "metadata": {
    "collapsed": false
   },
   "outputs": [],
   "source": [
    "1389./26.*20"
   ]
  },
  {
   "cell_type": "code",
   "execution_count": null,
   "metadata": {
    "collapsed": false
   },
   "outputs": [],
   "source": []
  }
 ],
 "metadata": {
  "kernelspec": {
   "display_name": "Python 2",
   "language": "python",
   "name": "python2"
  },
  "language_info": {
   "codemirror_mode": {
    "name": "ipython",
    "version": 2
   },
   "file_extension": ".py",
   "mimetype": "text/x-python",
   "name": "python",
   "nbconvert_exporter": "python",
   "pygments_lexer": "ipython2",
   "version": "2.7.3"
  }
 },
 "nbformat": 4,
 "nbformat_minor": 0
}
