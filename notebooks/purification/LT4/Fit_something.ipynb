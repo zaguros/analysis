{
 "cells": [
  {
   "cell_type": "code",
   "execution_count": null,
   "metadata": {
    "collapsed": false
   },
   "outputs": [],
   "source": [
    "execfile(r'D:\\measuring\\analysis\\scripts\\setup_analysis.py')\n",
    "from analysis.lib.fitting import fit, common\n",
    "import inspect"
   ]
  },
  {
   "cell_type": "code",
   "execution_count": null,
   "metadata": {
    "collapsed": false
   },
   "outputs": [],
   "source": [
    "d1=np.loadtxt(r'D:\\measuring\\data\\20150318\\095112_Saturation_curve_SAM_PSB_MM_PQ01023273\\095112_Saturation_curve_SAM_PSB_MM_PQ01023273.dat', skiprows=4)\n",
    "d2=np.loadtxt(r'D:\\measuring\\data\\20150318\\095631_Saturation_curve_SAM_PSB_MM_LCH5215\\095631_Saturation_curve_SAM_PSB_MM_LCH5215.dat', skiprows=4)"
   ]
  },
  {
   "cell_type": "code",
   "execution_count": null,
   "metadata": {
    "collapsed": false
   },
   "outputs": [],
   "source": [
    "x=d1[:,0]\n",
    "y1=d1[:,1]\n",
    "y2=d2[:,1]"
   ]
  },
  {
   "cell_type": "code",
   "execution_count": null,
   "metadata": {
    "collapsed": false
   },
   "outputs": [],
   "source": [
    "fig = plt.figure()\n",
    "ax = fig.add_subplot(111)\n",
    "ax.plot(x,y2,'b', label='LCH5215' )\n",
    "ax.plot(x,y1,'r', label='PQ0102327')\n",
    "ax.set_xlabel('Power [uW]')\n",
    "ax.set_ylabel('counts')\n",
    "ax.set_ylim(0,1200000)\n",
    "ax2=ax.twinx()\n",
    "ax2.plot(x[1:],(y2[1:]/y1[1:]), 'g')\n",
    "ax2.set_ylim(0.9,1.1)\n",
    "ax2.set_ylabel('LC/PQ')\n",
    "ax.legend(loc=4)\n",
    "ax.set_title(title)"
   ]
  },
  {
   "cell_type": "code",
   "execution_count": null,
   "metadata": {
    "collapsed": false
   },
   "outputs": [],
   "source": [
    "ax.legend?"
   ]
  },
  {
   "cell_type": "code",
   "execution_count": null,
   "metadata": {
    "collapsed": false
   },
   "outputs": [],
   "source": [
    "f=np.loadtxt(r'D:\\measuring\\data\\20141230\\Hans_Sil1_SM_ZPL_DM_all_at_50_voltages_opt_step_50', dtype='float')"
   ]
  },
  {
   "cell_type": "code",
   "execution_count": null,
   "metadata": {
    "collapsed": false
   },
   "outputs": [],
   "source": [
    "len(f)"
   ]
  },
  {
   "cell_type": "code",
   "execution_count": null,
   "metadata": {
    "collapsed": false
   },
   "outputs": [],
   "source": [
    "\n",
    "title= 'after 14 optimization round'\n",
    "fig = plt.figure()\n",
    "ax = fig.add_subplot(111)\n",
    "ax.plot(f[14][:140],'ro', ms = 5)\n",
    "ax.set_xlabel('actuator number')\n",
    "ax.set_ylabel('counts at 200uW')\n",
    "ax.set_title(title)"
   ]
  },
  {
   "cell_type": "code",
   "execution_count": null,
   "metadata": {
    "collapsed": false
   },
   "outputs": [],
   "source": [
    "#np.loadtxt?\n",
    "#d=np.loadtxt(r'K:\\ns\\qt\\Diamond\\Projects\\Bell\\Data\\2014-12-17_laser_lock_spectra\\foto.txt', skiprows=1, delimiter=',', dtype='float')\n",
    "d=np.loadtxt(r'K:\\ns\\qt\\Diamond\\Projects\\Bell\\Data\\2014-12-17_laser_lock_spectra\\2014-12-18_with_analog_and_pid_locks.csv', skiprows=2, dtype='float', usecols=(0,2), delimiter=',')\n",
    "x=d[:,0]/1e6\n",
    "y=d[:,1]\n",
    "x=x[y>10]\n",
    "y=y[y>10]\n",
    "plt.plot(x,y, '-')\n",
    "d2=np.loadtxt(r'K:\\ns\\qt\\Diamond\\Projects\\Bell\\Data\\2014-12-17_laser_lock_spectra\\2014-12-18_without_analog.csv', skiprows=2, dtype='float', usecols=(0,2), delimiter=',')\n",
    "x2=d2[:,0]/1e6\n",
    "y2=d2[:,1]\n",
    "x2=x2[y2>10]\n",
    "y2=y2[y2>10]\n",
    "plt.plot(x2,y2, 'r-')\n"
   ]
  },
  {
   "cell_type": "code",
   "execution_count": null,
   "metadata": {
    "collapsed": false
   },
   "outputs": [],
   "source": [
    "f = common.fit_parabole\n",
    "args=arange(len(inspect.getargspec(f)[0]))\n",
    "print f(*args)[2]\n",
    "print inspect.getargspec(f)[0]"
   ]
  },
  {
   "cell_type": "code",
   "execution_count": null,
   "metadata": {
    "collapsed": false
   },
   "outputs": [],
   "source": [
    "args=[10,200,135.32, 0.01,1000, 135.32, .2 ]\n",
    "fitres = fit.fit1d(x, y, f, *args, fixed = [2,5],\n",
    "                   do_print = True, ret = True)"
   ]
  },
  {
   "cell_type": "code",
   "execution_count": null,
   "metadata": {
    "collapsed": false
   },
   "outputs": [],
   "source": [
    "p1 = fitres['params_dict']\n",
    "plt.plot(x,y, 'o')\n",
    "plot_pts=100\n",
    "x_p=np.linspace(min(x),max(x),plot_pts)\n",
    "if fitres['success']:\n",
    "    f_p = fitres['fitfunc'](x_p)\n",
    "    plt.plot(x_p,f_p)\n",
    "#f_g = f(*args)[1](x_p)\n",
    "#plt.plot(x_p,f_g)"
   ]
  },
  {
   "cell_type": "code",
   "execution_count": null,
   "metadata": {
    "collapsed": false
   },
   "outputs": [],
   "source": [
    "print p1\n",
    "print 'FWHM: ', 2.3*p1['sigma']"
   ]
  },
  {
   "cell_type": "raw",
   "metadata": {},
   "source": [
    "---------------"
   ]
  },
  {
   "cell_type": "code",
   "execution_count": null,
   "metadata": {
    "collapsed": false
   },
   "outputs": [],
   "source": [
    "fit_functions = [f for _, f in common.__dict__.iteritems() if callable(f)]\n",
    "for f in fit_functions:\n",
    "    try:\n",
    "        args=arange(len(inspect.getargspec(f)[0]))\n",
    "        print f.__name__,':  ', \n",
    "        print f(*args)[2]\n",
    "        print inspect.getargspec(f)[0]\n",
    "        print '-'*\n",
    "    except:\n",
    "        continue"
   ]
  },
  {
   "cell_type": "code",
   "execution_count": null,
   "metadata": {
    "collapsed": false
   },
   "outputs": [],
   "source": []
  }
 ],
 "metadata": {
  "kernelspec": {
   "display_name": "Python 2",
   "language": "python",
   "name": "python2"
  },
  "language_info": {
   "codemirror_mode": {
    "name": "ipython",
    "version": 2
   },
   "file_extension": ".py",
   "mimetype": "text/x-python",
   "name": "python",
   "nbconvert_exporter": "python",
   "pygments_lexer": "ipython2",
   "version": "2.7.3"
  }
 },
 "nbformat": 4,
 "nbformat_minor": 0
}
