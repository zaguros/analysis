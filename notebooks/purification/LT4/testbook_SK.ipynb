{
 "metadata": {
  "name": "",
  "signature": ""
 },
 "nbformat": 3,
 "nbformat_minor": 0,
 "worksheets": [
  {
   "cells": [
    {
     "cell_type": "code",
     "collapsed": false,
     "input": [
      "import visa\n",
      "# rm = visa.ResourceManager\n",
      "print visa.get_instruments_list()\n",
      "print visa.instrument('TCPIP0::192.168.0.51')\n"
     ],
     "language": "python",
     "metadata": {},
     "outputs": []
    },
    {
     "cell_type": "code",
     "collapsed": false,
     "input": [
      "# execfile(r'D:\\measuring\\measurement\\instruments\\test_visa_SK.py')"
     ],
     "language": "python",
     "metadata": {},
     "outputs": []
    },
    {
     "cell_type": "code",
     "collapsed": false,
     "input": [
      "reload(r'D:\\measuring\\measurement\\instruments\\toptica_DLpro.py')\n",
      "execfile(r'D:\\measuring\\measurement\\instruments\\toptica_DLpro.py')"
     ],
     "language": "python",
     "metadata": {},
     "outputs": []
    }
   ],
   "metadata": {}
  }
 ]
}
