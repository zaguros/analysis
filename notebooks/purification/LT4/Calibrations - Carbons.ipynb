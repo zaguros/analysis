{
 "cells": [
  {
   "cell_type": "code",
   "execution_count": null,
   "metadata": {
    "collapsed": false
   },
   "outputs": [],
   "source": [
    "execfile(r'D:\\measuring\\analysis\\scripts\\setup_analysis.py')\n",
    "\n",
    "from analysis.scripts.QEC import carbon_ramsey_analysis as cr\n",
    "import sys\n",
    "import os\n",
    "%matplotlib inline "
   ]
  },
  {
   "cell_type": "markdown",
   "metadata": {},
   "source": [
    "## Gate calibration"
   ]
  },
  {
   "cell_type": "code",
   "execution_count": null,
   "metadata": {
    "collapsed": false,
    "scrolled": false
   },
   "outputs": [],
   "source": [
    "### Gate calibration, Version 3: Try a set of 9 tau,N combinations to find optimum1\n",
    "\n",
    "from analysis.scripts.QEC import Carbon_gate_calibration_v2 as carbon_calib_v2; reload(carbon_calib_v2)\n",
    "\n",
    "#carbon_calib_v2.get_gate_fidelity(carbon = 1,older_than='20151214_135000')\n",
    "#carbon_calib_v2.get_gate_fidelity(carbon = 2)\n",
    "carbon_calib_v2.get_gate_fidelity(carbon = 3,older_than= None)\n",
    "\n"
   ]
  },
  {
   "cell_type": "markdown",
   "metadata": {},
   "source": [
    "# Gate Calibration Multiple Taus"
   ]
  },
  {
   "cell_type": "code",
   "execution_count": null,
   "metadata": {
    "collapsed": false,
    "scrolled": false
   },
   "outputs": [],
   "source": [
    "sys.path.append(r'D:/measuring/analysis/scripts/purification')\n",
    "%matplotlib inline \n",
    "import Carbon_gate_calibration_vP as ccP\n",
    "reload(ccP)\n",
    "\n",
    "'''\n",
    "Analysis script to analyze gate calibrations\n",
    "\n",
    "Usage\n",
    "The function allows 3 types of graphs which can be turned on and off by setting the following keywords to true:\n",
    "1.) plot_fidelity: Plots fidelity bar graphs\n",
    "2.) plot_gate_time: Plots gate time (N*tau) vs. fidelity\n",
    "3.) line_fidelity: Plots a line graph of version one for compactness\n",
    "\n",
    "To only look at a specific number of taus, specify tau_nrs. Ex: tau_nrs = [0,3]\n",
    "To only view specific parts specify parts. Ex: parts = [1]\n",
    "\n",
    "Comparison of different taus is in progress\n",
    "'''\n",
    "\n",
    "# gates1, gate_values1, b1, b_u1 = ccP.get_gate_fidelity(carbon = 5, \n",
    "#             newer_than='20160128_090000', older_than= None, tau_nrs = [0],\n",
    "#             plot_fidelity = False, gate_time = False, return_data = True, line_fidelity = False, ssro_tstamp = '180819')\n",
    "# gates2, gate_values2, b2, b_u2 = ccP.get_gate_fidelity(carbon = 5, \n",
    "#             newer_than='20160127_180000', older_than= '20160127_230000', tau_nrs = [2],\n",
    "#             plot_fidelity = False, gate_time = False, return_data = True, line_fidelity = False, ssro_tstamp = '180819')\n",
    "# ccP.line_plot_fidelity(gates = [gates1,gates2], gate_values = None, b = [b1,b2],b_u = [b_u1,b_u2])\n",
    "# ccP.plot_gate_time(gates = [gates1,gates2], gate_values =[gate_values1,gate_values2], b = [b1,b2],b_u = [b_u1,b_u2])\n",
    "# ccP.bar_plot_fidelity(gates = gates1, gate_values = gate_values1, b = b1, b_u = b_u1)\n",
    "\n",
    "# See Guide. \n",
    "carbons = [4]\n",
    "for c in carbons:\n",
    "    print  '-'*40\n",
    "    print 'C' + str(c) + ': work in progress'\n",
    "    ccP.gate_sweep_analysis(carbon = c, \n",
    "                newer_than= '20160715_000000', older_than= '20160718_000000',tau_nrs=[0],\n",
    "                plot_fidelity = False, gate_time = False, return_data = False, line_fidelity = True)\n",
    "#  data with error. Long list. newer_than= '20160305_170000', older_than= '20160305_182000',"
   ]
  },
  {
   "cell_type": "code",
   "execution_count": null,
   "metadata": {
    "collapsed": false
   },
   "outputs": [],
   "source": [
    "### Gate calibration, multiple tau blocks for positive and negative readout\n",
    "import sys\n",
    "import os\n",
    "sys.path.append(r'D:/measuring/analysis/scripts/purification')\n",
    "\n",
    "%matplotlib inline \n",
    "import Carbon_gate_calibration_vP as ccP\n",
    "reload(ccP)\n",
    "\n",
    "fig = plt.figure()\n",
    "# ccP.get_gate_fidelity(carbon = 5, newer_than='20160123_114000', older_than= '20160123_200000', tau_nrs = [0,1,2,3],\n",
    "#                      plot_fidelity = False, plot_gate_time = True)\n",
    "# ccP.get_gate_fidelity(carbon = 5, newer_than='20160128_090000', older_than= None, tau_nrs = [0],\n",
    "#                      plot_fidelity = False, plot_gate_time = False,plot_graph=True)#, ssro_tstamp = '180407')\n",
    "x1,y1,y1_u=ccP.get_gate_fidelity(carbon = 5, newer_than='20160128_090000', older_than= None, tau_nrs = [2],\n",
    "                     plot_fidelity = False, plot_gate_time = False,plot_graph = False)#, ssro_tstamp = '180407')\n",
    "x2,y2,y2_u=ccP.get_gate_fidelity(carbon = 5, newer_than='20160127_180000', older_than= '20160127_230000', tau_nrs = [2],\n",
    "                      plot_fidelity = False, plot_gate_time = False,plot_graph = False)#, ssro_tstamp = '180407')\n",
    "plt.errorbar(x1,y1,y1_u)\n",
    "plt.errorbar(x2,y2,y2_u)\n"
   ]
  },
  {
   "cell_type": "markdown",
   "metadata": {},
   "source": [
    "## Frequency Calibration"
   ]
  },
  {
   "cell_type": "code",
   "execution_count": null,
   "metadata": {
    "collapsed": false,
    "scrolled": false
   },
   "outputs": [],
   "source": [
    "### DD frequency calibration ###\n",
    "reload(cr)\n",
    "Result=cr.Carbon_Ramsey_DD_freq(frequency =448e3, offset = 0.5, amplitude = 0.4,exponent=1,carbon= 8,\n",
    "                        decay_constant =0.01,phase =0, plot_fit = True, show_guess = False,fixed = [2,4])"
   ]
  },
  {
   "cell_type": "code",
   "execution_count": null,
   "metadata": {
    "collapsed": false
   },
   "outputs": [],
   "source": [
    "### Single frequency ###\n",
    "reload(cr)\n",
    "Result=cr.Carbon_Ramsey(title = 'msm0', frequency =0.5e3, offset = 0.5, amplitude = 0.4,exponent=1,  \n",
    "                        decay_constant =100,phase =0, plot_fit = True, show_guess = True,fixed = [2,3,4])"
   ]
  },
  {
   "cell_type": "code",
   "execution_count": null,
   "metadata": {
    "collapsed": false
   },
   "outputs": [],
   "source": [
    "### Phase sweep ###\n",
    "reload(cr)\n",
    "Result=cr.Carbon_Ramsey(timestamp='20150421_135423' , \n",
    "                        offset = 0.5, amplitude = 0.1, x0=0, decay_constant = 1e5, exponent = 2, \n",
    "                        frequency = 1/360., phase =0, \n",
    "                        plot_fit = True, show_guess = False,fixed = [0,2,3,4,5])"
   ]
  },
  {
   "cell_type": "markdown",
   "metadata": {},
   "source": [
    "## Single carbon init"
   ]
  },
  {
   "cell_type": "code",
   "execution_count": null,
   "metadata": {
    "collapsed": false,
    "scrolled": false
   },
   "outputs": [],
   "source": [
    "from analysis.scripts.QEC import Two_Qubit_Tomography as Tomo2\n",
    "reload(Tomo2)\n",
    "### carbon init\n",
    "carbons =[4]\n",
    "init_method ='MBI' ### 'swap' or 'MBI'\n",
    "\n",
    "for c in carbons:\n",
    "       Tomo2.BarPlotTomoContrast(tag = '_'+str(c)+'_'+init_method,return_data = True)\n",
    "        "
   ]
  },
  {
   "cell_type": "code",
   "execution_count": null,
   "metadata": {
    "collapsed": true
   },
   "outputs": [],
   "source": []
  }
 ],
 "metadata": {
  "kernelspec": {
   "display_name": "Python 2",
   "language": "python",
   "name": "python2"
  },
  "language_info": {
   "codemirror_mode": {
    "name": "ipython",
    "version": 2
   },
   "file_extension": ".py",
   "mimetype": "text/x-python",
   "name": "python",
   "nbconvert_exporter": "python",
   "pygments_lexer": "ipython2",
   "version": "2.7.3"
  }
 },
 "nbformat": 4,
 "nbformat_minor": 0
}
