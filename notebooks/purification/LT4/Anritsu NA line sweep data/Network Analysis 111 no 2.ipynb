{
 "cells": [
  {
   "cell_type": "code",
   "execution_count": null,
   "metadata": {
    "collapsed": true
   },
   "outputs": [],
   "source": [
    "import numpy as np\n",
    "import sys\n",
    "from matplotlib import pyplot as plt\n",
    "%matplotlib inline"
   ]
  },
  {
   "cell_type": "code",
   "execution_count": null,
   "metadata": {
    "collapsed": false
   },
   "outputs": [],
   "source": [
    "\n",
    "def extract_data(filename):\n",
    "    x = np.array([])\n",
    "    y = np.array([])\n",
    "    with open(filename,\"r\") as f:\n",
    "        for line in f.readlines():\n",
    "            if line[2] in str(range(10)):\n",
    "                srch = '\",\"'\n",
    "                x = np.append(x,float(line[1:line.find(srch)]))\n",
    "                y = np.append(y,float(line[line.find(srch)+3:-2]))\n",
    "                \n",
    "    return [x,y]"
   ]
  },
  {
   "cell_type": "code",
   "execution_count": null,
   "metadata": {
    "collapsed": false
   },
   "outputs": [],
   "source": [
    "[freq,transmission] = extract_data('transfull.csv')"
   ]
  },
  {
   "cell_type": "code",
   "execution_count": null,
   "metadata": {
    "collapsed": false
   },
   "outputs": [],
   "source": [
    "[freq,return_loss] = extract_data('returnfullnotermination.csv')"
   ]
  },
  {
   "cell_type": "code",
   "execution_count": null,
   "metadata": {
    "collapsed": false
   },
   "outputs": [],
   "source": [
    "fig = plt.figure()\n",
    "ax = plt.subplot()\n",
    "\n",
    "plt.plot(freq,-return_loss)\n",
    "plt.plot(freq,transmission)\n",
    "plt.xlim([1.4e3,1.8e3])\n",
    "plt.ylim([-35,0])\n",
    "plt.xlabel('Frequency (MHz)')\n",
    "plt.ylabel('Return loss / Transmission (dB)')\n",
    "plt.show()\n",
    "plt.close('all')"
   ]
  },
  {
   "cell_type": "code",
   "execution_count": null,
   "metadata": {
    "collapsed": false
   },
   "outputs": [],
   "source": [
    "fig = plt.figure()\n",
    "ax = plt.subplot()\n",
    "\n",
    "plt.plot(freq,((1-np.power(10,-return_loss/10))-np.power(10,transmission/10)))\n",
    "\n",
    "plt.xlabel('Frequency (MHz)')\n",
    "# plt.xlim([3.3e3,3.5e3])\n",
    "# plt.ylim([-80,20])\n",
    "plt.vlines([1740,1740*2],0.4,1)\n",
    "plt.ylabel('Dissipation (dB)')\n",
    "plt.show()\n",
    "plt.close('all')"
   ]
  },
  {
   "cell_type": "code",
   "execution_count": null,
   "metadata": {
    "collapsed": false
   },
   "outputs": [],
   "source": [
    "print np.power(10,-return_loss/10.)[300]\n",
    "print np.power(10,transmission/10)[300]\n",
    "\n",
    "np.power(np.array([2]),np.array([2]))\n",
    "freq[300]"
   ]
  },
  {
   "cell_type": "code",
   "execution_count": null,
   "metadata": {
    "collapsed": true
   },
   "outputs": [],
   "source": [
    "[freq,transmission] = extract_data('transzoom.csv')\n",
    "[freq,return_loss] = extract_data('returnzoomavg.csv')"
   ]
  },
  {
   "cell_type": "code",
   "execution_count": null,
   "metadata": {
    "collapsed": false
   },
   "outputs": [],
   "source": [
    "fig = plt.figure()\n",
    "ax = plt.subplot()\n",
    "\n",
    "plt.plot(freq,-return_loss,label = '-1*Return loss')\n",
    "plt.plot(freq,transmission,label = 'Transmission')\n",
    "# plt.xlim([1.7e3,1.8e3])\n",
    "# plt.ylim([-15,15])\n",
    "plt.xlabel('Frequency (MHz)')\n",
    "plt.ylabel('Return loss / Transmission (dB)')\n",
    "plt.legend(bbox_to_anchor=(1.05, 1), loc=2, borderaxespad=0.)\n",
    "plt.show()\n",
    "plt.close('all')"
   ]
  },
  {
   "cell_type": "code",
   "execution_count": null,
   "metadata": {
    "collapsed": false
   },
   "outputs": [],
   "source": [
    "fig = plt.figure()\n",
    "ax = plt.subplot()\n",
    "\n",
    "plt.plot(freq,((1-np.power(10,-return_loss/10))-np.power(10,transmission/10)))\n",
    "\n",
    "plt.xlabel('Frequency (MHz)')\n",
    "# plt.xlim([1.7e3,1.8e3])\n",
    "# plt.ylim([10,20])\n",
    "plt.ylabel('Dissipation (dB)')\n",
    "plt.show()\n",
    "plt.close('all')"
   ]
  },
  {
   "cell_type": "code",
   "execution_count": null,
   "metadata": {
    "collapsed": true
   },
   "outputs": [],
   "source": []
  }
 ],
 "metadata": {
  "kernelspec": {
   "display_name": "Python 2",
   "language": "python",
   "name": "python2"
  },
  "language_info": {
   "codemirror_mode": {
    "name": "ipython",
    "version": 2
   },
   "file_extension": ".py",
   "mimetype": "text/x-python",
   "name": "python",
   "nbconvert_exporter": "python",
   "pygments_lexer": "ipython2",
   "version": "2.7.11"
  }
 },
 "nbformat": 4,
 "nbformat_minor": 0
}
