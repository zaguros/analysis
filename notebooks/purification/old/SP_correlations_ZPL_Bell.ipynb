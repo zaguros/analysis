{
 "cells": [
  {
   "cell_type": "code",
   "execution_count": null,
   "metadata": {
    "collapsed": false
   },
   "outputs": [],
   "source": [
    "import sys\n",
    "import os\n",
    "import datetime\n",
    "\n",
    "base_folder = r'D:\\measuring'\n",
    "\n",
    "if not base_folder in sys.path:\n",
    "    sys.path.append(base_folder)\n",
    "execfile(os.path.join(base_folder,r'analysis\\scripts\\setup_analysis.py'))\n",
    "execfile(os.path.join(base_folder,r'analysis\\scripts\\bell\\setup_bell_analysis.py'))\n",
    "%matplotlib inline"
   ]
  },
  {
   "cell_type": "code",
   "execution_count": null,
   "metadata": {
    "collapsed": false
   },
   "outputs": [],
   "source": [
    "measurement_pattern =  'ZPL_SPCORR_lt3'\n",
    "#bs_folder = r'X:\\data\\20150626\\162644_Bell_BS_SPCORR_ZPL_SPCORR_lt3'\n",
    "bs_folder = tb.latest_data(measurement_pattern, folder = r'X:\\data')\n",
    "lt3_folder = r'D:\\measuring\\data'\n",
    "fps_folder = tb.get_all_msmt_filepaths(bs_folder, pattern=measurement_pattern)\n",
    "\n",
    "output_folder = tb.latest_data(measurement_pattern, folder = lt3_folder)\n",
    "analysis_fp = os.path.join(output_folder,tb.get_timestamp_from_now()+'_'+'total_events.hdf5')"
   ]
  },
  {
   "cell_type": "code",
   "execution_count": null,
   "metadata": {
    "collapsed": false
   },
   "outputs": [],
   "source": [
    "bell_data.process_bell_data(fps_folder, lt3_folder, None, #measurement_pattern, \n",
    "                            settings.bs_process_params, settings.lt_process_params,\n",
    "                            analysis_fp, update_previous_analysis_fp = None, \n",
    "                            ignore_unequal_markers   = False, \n",
    "                            process_lt3 = True, process_lt4 = False, \n",
    "                            VERBOSE=True)\n",
    "#here we get a list of files that actually contributed to the data ie had at leas one entanglement event\n",
    "bs_fps, lt3_fps, lt4_fps = bell_data.get_unique_bell_fps_from_analysis_file(analysis_fp)\n",
    "print ''"
   ]
  },
  {
   "cell_type": "code",
   "execution_count": null,
   "metadata": {
    "collapsed": false
   },
   "outputs": [],
   "source": [
    "#analyse data correlations\n",
    "f = h5py.File(analysis_fp,'r')\n",
    "db = f['analysis']['total_ent_events'].value\n",
    "d3 = f['analysis']['total_lt3_ssro'].value\n",
    "d4 = f['analysis']['total_lt4_ssro'].value\n",
    "db_fps=f['analysis']['total_ent_events_fps'].value\n",
    "f.close()\n",
    "reload(settings)\n",
    "ap=settings.analysis_params\n",
    "print ap['st_start_ch1']\n",
    "#ap['st_start_ch0']=5426300\n",
    "#ap['st_start_ch1']=5426100\n",
    "# ap['st_len']=55000\n",
    "# ap['st_start_ch0'] = 5425200\n",
    "corr_mats = btools.get_sp_corrs(db,d3,db_fps,settings.analysis_params, lt3=True, VERBOSE=True)"
   ]
  },
  {
   "cell_type": "code",
   "execution_count": null,
   "metadata": {
    "collapsed": false,
    "scrolled": false
   },
   "outputs": [],
   "source": [
    "fp  = tb.get_msmt_fp(bs_folder) #bs_fps[0]\n",
    "pqf = h5py.File(fp,'r')\n",
    "vert0 = settings.analysis_params['st_start_ch0']/1000.\n",
    "print vert0\n",
    "vert1 = settings.analysis_params['st_start_ch1']/1000.\n",
    "pq_plots.plot_marker_filter_comparison(pqf,\n",
    "                          mrkr_chan = 1,\n",
    "                          start = 5415000, #settings.bs_process_params['st_start_ch0'],  \n",
    "                          length=  70e3,#settings.bs_process_params['st_len']+settings.bs_process_params['pulse_sep'], \n",
    "                          hist_binsize = 0.3e3, save = False, log=True, plot_threshold_ch0 =vert0 ,plot_threshold_ch1 =vert1) #start =7480\n",
    "pqf.close()\n"
   ]
  },
  {
   "cell_type": "code",
   "execution_count": null,
   "metadata": {
    "collapsed": false,
    "scrolled": true
   },
   "outputs": [],
   "source": [
    "#here we get the tail & pulse counts per run\n",
    "ap = settings.analysis_params\n",
    "bell_data.process_bs_hist_stats(bs_fps, settings.analysis_params ,analysis_fp, update_previous_analysis_fp = None)\n",
    "print ''"
   ]
  },
  {
   "cell_type": "code",
   "execution_count": null,
   "metadata": {
    "collapsed": false,
    "scrolled": false
   },
   "outputs": [],
   "source": [
    "f = h5py.File(analysis_fp,'r')\n",
    "bs_hist_stats = f['analysis']['bs_hist_stats'].value\n",
    "f.close()\n",
    "tail  = np.sum(bs_hist_stats[:,be._cl_bs_tail].astype(np.float))/np.sum(bs_hist_stats[:,be._cl_bs_last_sync])*1e4\n",
    "u_tail = np.sqrt(np.sum(bs_hist_stats[:,be._cl_bs_tail].astype(np.float)))/np.sum(bs_hist_stats[:,be._cl_bs_last_sync])*1e4\n",
    "print ap['st_start_ch1']\n",
    "print 'Tail: {:.2f} +- {:.3f}'.format(tail,u_tail)\n",
    "print 'compare to threshold 2.3'"
   ]
  },
  {
   "cell_type": "code",
   "execution_count": null,
   "metadata": {
    "collapsed": false,
    "scrolled": true
   },
   "outputs": [],
   "source": [
    "# P_ms1 generally stands for the probability to measure ms=1\n",
    "# P_photon is the probability for getting a photon\n",
    "win1_P_photon, u_win1_P_photon = corr_mats['w1'][0:2]\n",
    "noof_w1 = corr_mats['w1'][4]\n",
    "win2_P_photon, u_win2_P_photon = corr_mats['w2'][0:2]\n",
    "noof_w2 = corr_mats['w2'][4]\n",
    "\n",
    "fig, (ax, ax_corr) = plt.subplots(1,2, figsize=(11,4),\n",
    "                              sharex=True, sharey=True)\n",
    "\n",
    "### uncorrected for e-SSRO\n",
    "ax.bar(range(2), [win1_P_photon, win2_P_photon], color=['r', 'r'],\n",
    "       align='center', yerr=[u_win1_P_photon, u_win2_P_photon], ecolor='k',\n",
    "       width=0.8)\n",
    "\n",
    "ax.set_xlim(-0.5,1.5)\n",
    "ax.set_ylim(-0.05, 1.15)\n",
    "\n",
    "ax.set_ylabel('P ($m_s =\\, 0$)')\n",
    "\n",
    "ax.set_xticks([0,1])\n",
    "ax.set_xticklabels(['Photon in 1st window \\n ({})'.format(noof_w1),\n",
    "                    'Photon in 2nd window \\n ({})'.format(noof_w2)])\n",
    "ax.axvline(0.5, c='k', ls='--')\n",
    "ax.axhline(0, c='k', ls=':')\n",
    "ax.axhline(1, c='k', ls=':')\n",
    "\n",
    "ax.text(0, win1_P_photon + 0.05, \"{:.1f} $\\pm$ {:.1f} %\".format(win1_P_photon*100, u_win1_P_photon*100),\n",
    "        va='bottom', ha='center',\n",
    "        bbox = {'facecolor' : 'white', 'alpha' : 0.5})\n",
    "ax.text(1, win2_P_photon + 0.05, \"{:.1f} $\\pm$ {:.1f} %\".format(win2_P_photon*100, u_win2_P_photon*100),\n",
    "        va='bottom', ha='center',\n",
    "        bbox = {'facecolor' : 'white', 'alpha' : 0.5})\n",
    "ax.set_title('Uncorrected readout\\nTail: {:.2f} +- {:.3f}'.format(tail,u_tail))\n",
    "\n",
    "### corrected for e-SSRO\n",
    "win1_P0, u_win1_P0 = corr_mats['w1'][2:4]\n",
    "win2_P0, u_win2_P0 = corr_mats['w2'][2:4]\n",
    "\n",
    "ax_corr.bar(range(2), [win1_P0, win2_P0], color=['b','b'],\n",
    "       align='center', yerr=[u_win1_P0, u_win2_P0], ecolor='k',\n",
    "       width=0.8)\n",
    "ax_corr.axvline(0.5, c='k', ls='--')\n",
    "ax_corr.axhline(0, c='k', ls=':')\n",
    "ax_corr.axhline(1, c='k', ls=':')\n",
    "\n",
    "ax_corr.text(0, win1_P0 + 0.05, \"{:.1f} $\\pm$ {:.1f} %\".format(win1_P0*100, u_win1_P0*100),\n",
    "        va='bottom', ha='center',\n",
    "        bbox = {'facecolor' : 'white', 'alpha' : 0.5})\n",
    "ax_corr.text(1, win2_P0 + 0.05, \"{:.1f} $\\pm$ {:.1f} %\".format(win2_P0*100, u_win2_P0*100),\n",
    "        va='bottom', ha='center',\n",
    "        bbox = {'facecolor' : 'white', 'alpha' : 0.5})\n",
    "ax_corr.set_title('Corrected readout \\n '+os.path.split(analysis_fp)[1])\n",
    "fig.savefig(os.path.join(output_folder, 'Spin-photon_correlations.png'))"
   ]
  },
  {
   "cell_type": "code",
   "execution_count": null,
   "metadata": {
    "collapsed": false,
    "scrolled": false
   },
   "outputs": [],
   "source": [
    "print 'ZPL SP corr from date : {}'.format(tb.get_plot_title_from_folder(bs_folder)[:15])\n",
    "print '\\tTail counts : {:.2f} +- {:.3f}'.format(tail,u_tail)\n",
    "print '\\tUncorrected readout : w1 : {:.1f} +/- {:.1f} % & w2 : {:.1f} +/- {:.1f} %'.format(win1_P_photon*100, u_win1_P_photon*100,win2_P_photon*100, u_win2_P_photon*100)\n",
    "print '\\tCorrected readout : w1 : {:.1f} +/- {:.1f} % & w2 : {:.1f} +/- {:.1f} %'.format(win1_P0*100, u_win2_P0*100,win2_P0*100, u_win2_P0*100)\n",
    "if win1_P_photon*100 <=2.5 and win2_P_photon*100>93 and tail>2.3:\n",
    "    print 'all thresholds (93 and 2.5 and 2.3) are met.'\n",
    "else:\n",
    "    print 'threasholds are NOT met. Compare to threshold: 93 and 2.5 and tail: 2.3'"
   ]
  },
  {
   "cell_type": "markdown",
   "metadata": {
    "collapsed": true
   },
   "source": []
  },
  {
   "cell_type": "code",
   "execution_count": null,
   "metadata": {
    "collapsed": true
   },
   "outputs": [],
   "source": []
  },
  {
   "cell_type": "code",
   "execution_count": null,
   "metadata": {
    "collapsed": true
   },
   "outputs": [],
   "source": []
  },
  {
   "cell_type": "code",
   "execution_count": null,
   "metadata": {
    "collapsed": true
   },
   "outputs": [],
   "source": []
  },
  {
   "cell_type": "code",
   "execution_count": null,
   "metadata": {
    "collapsed": true
   },
   "outputs": [],
   "source": []
  },
  {
   "cell_type": "code",
   "execution_count": null,
   "metadata": {
    "collapsed": true
   },
   "outputs": [],
   "source": []
  },
  {
   "cell_type": "code",
   "execution_count": null,
   "metadata": {
    "collapsed": true
   },
   "outputs": [],
   "source": []
  },
  {
   "cell_type": "code",
   "execution_count": null,
   "metadata": {
    "collapsed": true
   },
   "outputs": [],
   "source": []
  }
 ],
 "metadata": {
  "kernelspec": {
   "display_name": "Python 2",
   "language": "python",
   "name": "python2"
  },
  "language_info": {
   "codemirror_mode": {
    "name": "ipython",
    "version": 2
   },
   "file_extension": ".py",
   "mimetype": "text/x-python",
   "name": "python",
   "nbconvert_exporter": "python",
   "pygments_lexer": "ipython2",
   "version": "2.7.3"
  }
 },
 "nbformat": 4,
 "nbformat_minor": 0
}
