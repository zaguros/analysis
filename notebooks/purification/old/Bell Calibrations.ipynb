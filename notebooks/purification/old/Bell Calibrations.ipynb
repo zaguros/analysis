{
 "cells": [
  {
   "cell_type": "code",
   "execution_count": null,
   "metadata": {
    "collapsed": false
   },
   "outputs": [],
   "source": [
    "execfile(r'D:\\measuring\\analysis\\scripts\\setup_analysis.py')\n",
    "%matplotlib inline"
   ]
  },
  {
   "cell_type": "markdown",
   "metadata": {},
   "source": [
    "#### Stage 0: ESR"
   ]
  },
  {
   "cell_type": "code",
   "execution_count": null,
   "metadata": {
    "collapsed": false
   },
   "outputs": [],
   "source": [
    "execfile(r'D:/measuring/analysis/scripts/espin/simple_esr_fit.py')"
   ]
  },
  {
   "cell_type": "markdown",
   "metadata": {},
   "source": [
    "#### Stage 1: SSRO"
   ]
  },
  {
   "cell_type": "code",
   "execution_count": null,
   "metadata": {
    "collapsed": false,
    "scrolled": true
   },
   "outputs": [],
   "source": [
    "ssro.ssrocalib(plot_photon_ms0=False)\n",
    "print 'Threshold is 96.6'"
   ]
  },
  {
   "cell_type": "code",
   "execution_count": null,
   "metadata": {
    "collapsed": false
   },
   "outputs": [],
   "source": [
    "pqsequence.fast_ssro_calib(RO_length_ns=3700, plot_sweep_index=4)\n",
    "#pqsequence.fast_ssro_calib(folder='D:/measuring/data/20150226/162913_PQPulsarMeasurement_FastSSROCalib_Pippin_SIL1', RO_length_ns=5000, plot_sweep_index=3)"
   ]
  },
  {
   "cell_type": "markdown",
   "metadata": {},
   "source": [
    "#### Stage 3.1: Dark ESR"
   ]
  },
  {
   "cell_type": "code",
   "execution_count": null,
   "metadata": {
    "collapsed": false
   },
   "outputs": [],
   "source": [
    "execfile(r'D:\\measuring\\analysis\\scripts\\espin\\dark_esr_analysis_bell.py')"
   ]
  },
  {
   "cell_type": "markdown",
   "metadata": {},
   "source": [
    "#### Stage 3.2: Pi pulse multiplicity 1"
   ]
  },
  {
   "cell_type": "code",
   "execution_count": null,
   "metadata": {
    "collapsed": false
   },
   "outputs": [],
   "source": [
    "folder= tb.latest_data('Pi_Calibration')\n",
    "a=sequence.SequenceAnalysis(folder)\n",
    "a.get_sweep_pts()\n",
    "a.get_readout_results(name='ssro')\n",
    "ax = a.plot_result_vs_sweepparam(ret='ax', name='ssro')\n",
    "ax.set_ylim(0.0,1.0)\n",
    "print 'minimal point:',a.sweep_pts[np.argmin(a.normalized_ssro)]"
   ]
  },
  {
   "cell_type": "markdown",
   "metadata": {},
   "source": [
    "# Stage 3.3: Pi pulse multiplicity 15"
   ]
  },
  {
   "cell_type": "code",
   "execution_count": null,
   "metadata": {
    "collapsed": false,
    "scrolled": false
   },
   "outputs": [],
   "source": [
    "from analysis.scripts.bell import calibration_tools\n",
    "reload(calibration_tools)\n",
    "folder=tb.latest_data('Pi_Calibration')\n",
    "fig, ax = plt.subplots(1,1, figsize=(4.5,4))\n",
    "ymin=0.0\n",
    "ymax = 1\n",
    "fit=calibration_tools.fit_parabolic(folder, x0_guess=0.72,a_guess=2.,ax=ax,info_xy=(0.92,ymin-(ymax-ymin)*0.35))\n",
    "fit_result=calibration_tools.plot_result(folder, ax=ax, ret=True)\n",
    "ax.set_ylim(ymin,ymax)\n",
    "\n",
    "print 'Pi pulse calib. 15 rep. from : {} '.format(tb.timestamp_from_datetime(tb.get_datetime_from_folder(folder)))\n",
    "\n",
    "print 'Fidelity {:.1f} +/- {:.1f}'.format(fit['params'][0]*100., fit['error'][0]*100.)\n",
    "print '\\tFitted minimum at {:.3f} V'.format(fit['params'][2])\n"
   ]
  },
  {
   "cell_type": "markdown",
   "metadata": {},
   "source": [
    "#### Stage 3.4 Pi/2 calibration"
   ]
  },
  {
   "cell_type": "code",
   "execution_count": null,
   "metadata": {
    "collapsed": false,
    "scrolled": false
   },
   "outputs": [],
   "source": [
    "execfile(r'D:\\measuring\\analysis\\scripts\\espin\\calibration_pi2_CORPSE.py')"
   ]
  },
  {
   "cell_type": "code",
   "execution_count": null,
   "metadata": {
    "collapsed": false
   },
   "outputs": [],
   "source": [
    "x0=0.8837\n",
    "m=-1.195752\n",
    "BellOffset=0.03\n",
    "print 'msmt_param_Bell_Offset Pippin LT3', -BellOffset*m/2\n"
   ]
  },
  {
   "cell_type": "markdown",
   "metadata": {},
   "source": [
    "###Stage 3.42 Pi/2 calibration"
   ]
  },
  {
   "cell_type": "code",
   "execution_count": null,
   "metadata": {
    "collapsed": false,
    "scrolled": true
   },
   "outputs": [],
   "source": [
    "from analysis.scripts.bell import calibration_tools\n",
    "reload(calibration_tools)\n",
    "folder=tb.latest_data('Pi2_Calibration')\n",
    "fig, ax = plt.subplots(1,1, figsize=(4.5,4))\n",
    "ymin=0.9\n",
    "ymax = 1\n",
    "fit=calibration_tools.fit_parabolic(folder, x0_guess=0.84,a_guess=-2.,ax=ax,info_xy=(0.83,ymin-(ymax-ymin)*0.35))\n",
    "fit_result=calibration_tools.plot_result(folder, ax=ax, ret=True)\n",
    "ax.set_ylim(ymin,ymax)\n",
    "\n",
    "print 'Pi/2 pulse calib. 15 rep. from : {} '.format(tb.timestamp_from_datetime(tb.get_datetime_from_folder(folder)))\n",
    "\n",
    "print 'Fidelity {:.3f} +/- {:.3f}'.format(fit['params'][0], fit['error'][0])\n",
    "print '\\tFitted minimum at {:.3f} V'.format(fit['params'][2])"
   ]
  },
  {
   "cell_type": "markdown",
   "metadata": {},
   "source": [
    "#### Stage 4.1: Bell echo"
   ]
  },
  {
   "cell_type": "code",
   "execution_count": null,
   "metadata": {
    "collapsed": false,
    "scrolled": true
   },
   "outputs": [],
   "source": [
    "folder= tb.latest_data('echo')\n",
    "a=sequence.SequenceAnalysis(folder)\n",
    "a.get_sweep_pts()\n",
    "b = a.get_readout_results(name='ssro')\n",
    "print b\n",
    "a.get_electron_ROC( )\n",
    "ax = a.plot_result_vs_sweepparam(ret='ax', name='ssro')\n",
    "ax.set_ylim(0.,0.02)\n",
    "#ax.set_ylim(-0.02,0.02)"
   ]
  },
  {
   "cell_type": "code",
   "execution_count": null,
   "metadata": {
    "collapsed": false
   },
   "outputs": [],
   "source": [
    "execfile(r'K:/ns/qt/Diamond/Eigenpapers/15-Bell/SOM/figures/DD/plot_Bell_echo_sweep.py')"
   ]
  },
  {
   "cell_type": "markdown",
   "metadata": {},
   "source": [
    "#### Stage 4.2: Random MW RO correlation"
   ]
  },
  {
   "cell_type": "code",
   "execution_count": null,
   "metadata": {
    "collapsed": false
   },
   "outputs": [],
   "source": [
    "open notebook Bell RND check"
   ]
  },
  {
   "cell_type": "markdown",
   "metadata": {},
   "source": [
    "#### Stage 4.3: SP COrrelations"
   ]
  },
  {
   "cell_type": "raw",
   "metadata": {},
   "source": [
    "In Window Correlations notebook for now"
   ]
  }
 ],
 "metadata": {
  "kernelspec": {
   "display_name": "Python 2",
   "language": "python",
   "name": "python2"
  },
  "language_info": {
   "codemirror_mode": {
    "name": "ipython",
    "version": 2
   },
   "file_extension": ".py",
   "mimetype": "text/x-python",
   "name": "python",
   "nbconvert_exporter": "python",
   "pygments_lexer": "ipython2",
   "version": "2.7.3"
  }
 },
 "nbformat": 4,
 "nbformat_minor": 0
}
