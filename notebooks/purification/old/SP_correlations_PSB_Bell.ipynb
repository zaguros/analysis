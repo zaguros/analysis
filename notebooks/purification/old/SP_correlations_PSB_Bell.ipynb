{
 "cells": [
  {
   "cell_type": "code",
   "execution_count": null,
   "metadata": {
    "collapsed": false
   },
   "outputs": [],
   "source": [
    "execfile(r'D:\\measuring\\analysis\\scripts\\setup_analysis.py')\n",
    "%matplotlib inline\n",
    "# folder=tb.latest_data('150849')\n",
    "folder=tb.latest_data('SPCorr_lt3')\n",
    "#folder = r'D:\\measuring\\data\\20151127\\110547_Bell_lt3_SPCORR_ZPL_SPCORR_lt3'\n",
    "print 'folder :', folder \n",
    "name = 'ssro'\n",
    "a = pqsequence.TailAnalysis(folder, hdf5_mode='r')#, pq_folder='bs_remote')\n",
    "# a.agrp=a.adwingrp('ssro')"
   ]
  },
  {
   "cell_type": "code",
   "execution_count": null,
   "metadata": {
    "collapsed": false
   },
   "outputs": [],
   "source": [
    "pq_plots.plot_photon_hist(a.pqf,start = 0,  length = 5000, hist_binsize = 1., save = False, log=True) #start =7480"
   ]
  },
  {
   "cell_type": "code",
   "execution_count": null,
   "metadata": {
    "collapsed": false
   },
   "outputs": [],
   "source": [
    "ro_channel    = 0\n",
    "photon_channel = 0\n",
    "ro_start      = 10730 \n",
    "ro_length     = 3700\n",
    "\n",
    "st_start = 7570 #if 'lt3' in a.folder else 5350\n",
    "if photon_channel == 1:\n",
    "    st_start = 7602\n",
    "st_len       = 50 #50 ns\n",
    "st_len_w2    = 50\n",
    "p_sep        = 350 #600 ns"
   ]
  },
  {
   "cell_type": "code",
   "execution_count": null,
   "metadata": {
    "collapsed": false
   },
   "outputs": [],
   "source": [
    "#JB\n",
    "ro_channel    = 0 # Read out channel.\n",
    "photon_channel = 0 # Photon channel.\n",
    "ro_start      = 10730 \n",
    "ro_length     = 3700\n",
    "\n",
    "st_start = 7570 #if 'lt3' in a.folder else 5350\n",
    "if photon_channel == 1:\n",
    "    st_start = 7582 # Offset for ZPL channel to compensate for delay and reflected laser detection\n",
    "print st_start\n",
    "st_len       = 50 # Lenght of first window #50 ns\n",
    "st_len_w2    = 50 # Length of second window\n",
    "p_sep        = 350 # Separation between windows that will be correlated #600 ns"
   ]
  },
  {
   "cell_type": "code",
   "execution_count": null,
   "metadata": {
    "collapsed": false
   },
   "outputs": [],
   "source": [
    "sp_lt = a.pqf['/PQ_special-1'].value\n",
    "ch_lt = a.pqf['/PQ_channel-1'].value\n",
    "sn_lt = a.pqf['/PQ_sync_number-1'].value\n",
    "st_lt = a.pqf['/PQ_sync_time-1'].value\n",
    "#tt_lt = a.pqf['/PQ_time-1'].value "
   ]
  },
  {
   "cell_type": "code",
   "execution_count": null,
   "metadata": {
    "collapsed": false
   },
   "outputs": [],
   "source": [
    "#JB\n",
    "# In the data structure, photon detector clicks are saved with a some associated parameters (channel, time, trial...)\n",
    "sp_lt = a.pqf['/PQ_special-1'].value # Special: marker channel\n",
    "ch_lt = a.pqf['/PQ_channel-1'].value # Channel: photon channel\n",
    "sn_lt = a.pqf['/PQ_sync_number-1'].value # Sync number: the number of the last sync signal\n",
    "st_lt = a.pqf['/PQ_sync_time-1'].value # Sync time: time that has passed since the last sync signal\n",
    "#tt_lt = a.pqf['/PQ_time-1'].value "
   ]
  },
  {
   "cell_type": "code",
   "execution_count": null,
   "metadata": {
    "collapsed": false
   },
   "outputs": [],
   "source": [
    "st_fltr_w1 = (sp_lt == 0) & (ch_lt == photon_channel)  & (st_lt > st_start)  & (st_lt < (st_start  + st_len)) \n",
    "st_fltr_w2 = (sp_lt == 0) & (ch_lt == photon_channel)  & (st_lt > st_start + p_sep)  & (st_lt < (st_start + p_sep + st_len_w2)) \n",
    "fltr_ro    = (sp_lt == 0) & (ch_lt == ro_channel)  & (st_lt > ro_start)  & (st_lt < (ro_start  + ro_length))     "
   ]
  },
  {
   "cell_type": "code",
   "execution_count": null,
   "metadata": {
    "collapsed": false
   },
   "outputs": [],
   "source": [
    "#JB\n",
    "# The sync number identifies detector clicks that were measured in the same trial\n",
    "# Create a filter that selects all detector clicks from the PSB channel when the laser was on\n",
    "fltr_PBS_laserOn = (sp_lt == 0) & (ch_lt == 0) & (st_lt > 7573) & (st_lt < 7660)\n",
    "# Create a filter that selects all detector clicks from the ZPL channel when the laser was off\n",
    "fltr_ZPL_laserOff = (sp_lt == 0) & (ch_lt == 1) & (st_lt > 7603) & (st_lt < 7630)\n",
    "# Retreive sync number for detector clicks that pass filter 1\n",
    "sn_PBS_laserOn = sn_lt[fltr_PBS_laserOn]\n",
    "# Retreive sync number for detector clicks that pass filter 2\n",
    "sn_ZPL_laserOff =sn_lt[fltr_ZPL_laserOff]\n",
    "# Find sync numbers that occur in both groups\n",
    "sn_filtered = sn_PBS_laserOn[np.in1d(sn_PBS_laserOn, sn_ZPL_laserOff)]\n",
    "print 'Total number of detector clicks:', len(fltr_PBS_laserOn)\n",
    "print 'Total number of trials:', len(np.unique(sn_lt))\n",
    "print 'Trials with a click on PBS channel while laser is on:', len(np.unique(sn_PBS_laserOn)), '(', (1.0 * len(np.unique(sn_PBS_laserOn))) / len(np.unique(sn_lt)) * 100, '%)'\n",
    "print 'Trials with a click on ZPL channel while laser is off:', len(np.unique(sn_ZPL_laserOff)), '(', (1.0 * len(np.unique(sn_ZPL_laserOff))) / len(np.unique(sn_lt)) * 100, '%)'\n",
    "print 'Trials with both a PBS photon with laser on and a ZPL photon with laser off:', len(sn_filtered) "
   ]
  },
  {
   "cell_type": "code",
   "execution_count": null,
   "metadata": {
    "collapsed": true
   },
   "outputs": [],
   "source": [
    "noof_reps = len(np.unique(sn_lt))\n",
    "noof_reps2= a.agrp['completed_reps'].value*a.g['joint_params'].attrs['LDE_attempts_before_CR']\n",
    "ro0_sn = sn_lt[fltr_ro]\n",
    "noof_ro0 = np.sum(fltr_ro)\n",
    "w1_sn = sn_lt[st_fltr_w1]\n",
    "w2_sn = sn_lt[st_fltr_w2]\n",
    "noof_w1_ro0 = np.sum(np.in1d(w1_sn,ro0_sn))\n",
    "noof_w2_ro0 = np.sum(np.in1d(w2_sn,ro0_sn))\n",
    "noof_w1 = np.sum(st_fltr_w1)\n",
    "noof_w2 = np.sum(st_fltr_w2)"
   ]
  },
  {
   "cell_type": "code",
   "execution_count": null,
   "metadata": {
    "collapsed": false
   },
   "outputs": [],
   "source": [
    "print noof_reps,noof_reps2, noof_ro0, noof_w1_ro0, noof_w2_ro0, noof_w1, noof_w2\n",
    "print 'missed syncs', float(noof_reps)/noof_reps2\n",
    "print 'tail_cts', float(noof_w1+noof_w2)/noof_reps*1e4"
   ]
  },
  {
   "cell_type": "code",
   "execution_count": null,
   "metadata": {
    "collapsed": false
   },
   "outputs": [],
   "source": [
    "ssro_calib_folder  = tb.latest_data('FastSSRO')\n",
    "#try:\n",
    "#    F0,u_F0, F1, u_F1 = pqsequence.get_analysed_fast_ssro_calibration(ssro_calib_folder, readout_time=None, sweep_index=None)\n",
    "#except IOError:\n",
    "#    print 'FastSSRO calibration not found'\n",
    "F0,u_F0, F1, u_F1 = (0.955,0.005, 0.985, 0.005)# F0,u_F0, F1, u_F1 = (0.935,0.005, 0.99, 0.005)\n",
    "ssro_fids = (F0,u_F0, F1, u_F1)"
   ]
  },
  {
   "cell_type": "code",
   "execution_count": null,
   "metadata": {
    "collapsed": false,
    "scrolled": true
   },
   "outputs": [],
   "source": [
    "# P_ms1 generally stands for the probability to measure ms=1\n",
    "# P_photon is the probability for getting a photon\n",
    "win1_P_photon = float(noof_w1_ro0)/noof_w1\n",
    "u_win1_P_photon = np.sqrt(win1_P_photon * (1.-win1_P_photon)/noof_w1)\n",
    "\n",
    "win2_P_photon = float(noof_w2_ro0)/noof_w2\n",
    "u_win2_P_photon = np.sqrt(win2_P_photon * (1.-win2_P_photon)/noof_w2)\n",
    "\n",
    "fig, (ax, ax_corr) = plt.subplots(1,2, figsize=(11,4),\n",
    "                              sharex=True, sharey=True)\n",
    "\n",
    "### uncorrected for e-SSRO\n",
    "ax.bar(range(2), [win1_P_photon, win2_P_photon], color=['r', 'r'],\n",
    "       align='center', yerr=[u_win1_P_photon, u_win2_P_photon], ecolor='k',\n",
    "       width=0.8)\n",
    "\n",
    "ax.set_xlim(-0.5,1.5)\n",
    "ax.set_ylim(-0.05, 1.15)\n",
    "\n",
    "ax.set_ylabel('P ($m_s =\\, 0$)')\n",
    "\n",
    "ax.set_xticks([0,1])\n",
    "ax.set_xticklabels(['Photon in 1st window \\n ({})'.format(noof_w1),\n",
    "                    'Photon in 2nd window \\n ({})'.format(noof_w2)])\n",
    "ax.axvline(0.5, c='k', ls='--')\n",
    "ax.axhline(0, c='k', ls=':')\n",
    "ax.axhline(1, c='k', ls=':')\n",
    "\n",
    "ax.text(0, win1_P_photon + 0.05, \"{:.1f} $\\pm$ {:.1f} %\".format(win1_P_photon*100, u_win1_P_photon*100),\n",
    "        va='bottom', ha='center',\n",
    "        bbox = {'facecolor' : 'white', 'alpha' : 0.5})\n",
    "ax.text(1, win2_P_photon + 0.05, \"{:.1f} $\\pm$ {:.1f} %\".format(win2_P_photon*100, u_win2_P_photon*100),\n",
    "        va='bottom', ha='center',\n",
    "        bbox = {'facecolor' : 'white', 'alpha' : 0.5})\n",
    "ax.set_title('Uncorrected readout')\n",
    "\n",
    "### corrected for e-SSRO\n",
    "win1_P0, u_win1_P0 = roc.single_qubit_outcome_with_ROC_from_fraction(win1_P_photon, u_win1_P_photon, \n",
    "                                                                     *ssro_fids)\n",
    "win2_P0, u_win2_P0 = roc.single_qubit_outcome_with_ROC_from_fraction(win2_P_photon, u_win2_P_photon,\n",
    "                                                                     *ssro_fids)\n",
    "\n",
    "ax_corr.bar(range(2), [win1_P0, win2_P0], color=['b','b'],\n",
    "       align='center', yerr=[u_win1_P0, u_win2_P0], ecolor='k',\n",
    "       width=0.8)\n",
    "ax_corr.axvline(0.5, c='k', ls='--')\n",
    "ax_corr.axhline(0, c='k', ls=':')\n",
    "ax_corr.axhline(1, c='k', ls=':')\n",
    "\n",
    "ax_corr.text(0, win1_P0 + 0.05, \"{:.1f} $\\pm$ {:.1f} %\".format(win1_P0*100, u_win1_P0*100),\n",
    "        va='bottom', ha='center',\n",
    "        bbox = {'facecolor' : 'white', 'alpha' : 0.5})\n",
    "ax_corr.text(1, win2_P0 + 0.05, \"{:.1f} $\\pm$ {:.1f} %\".format(win2_P0*100, u_win2_P0*100),\n",
    "        va='bottom', ha='center',\n",
    "        bbox = {'facecolor' : 'white', 'alpha' : 0.5})\n",
    "ax_corr.set_title('Corrected readout \\n '+a.timestamp)\n",
    "#fig.savefig(os.path.join(folder, 'Spin-photon_correlations.png'))"
   ]
  },
  {
   "cell_type": "code",
   "execution_count": null,
   "metadata": {
    "collapsed": false
   },
   "outputs": [],
   "source": [
    "hist(st_lt[fltr_ro][np.in1d(ro0_sn,w2_sn)])"
   ]
  },
  {
   "cell_type": "code",
   "execution_count": null,
   "metadata": {
    "collapsed": false,
    "scrolled": true
   },
   "outputs": [],
   "source": [
    "print 'PSB SP corr from date : {}'.format(tb.get_plot_title_from_folder(folder)[:15])\n",
    "print '\\tTail counts : {:.1f} '. format(float(noof_w1+noof_w2)/noof_reps*1e4)\n",
    "print '\\tRatio of photons detected in w1/w2 : {:.1f} %'.format(np.float(noof_w1)/noof_w2*100)\n",
    "print '\\tUncorrected readout : W1 : {:.1f} +/- {:.1f} % & W2 : {:.1f} +/- {:.1f} %'.format(win1_P_photon*100, u_win1_P_photon*100,win2_P_photon*100, u_win2_P_photon*100)\n",
    "print '\\tCorrected readout : W1 : {:.1f} +/- {:.1f} % & W2 : {:.1f} +/- {:.1f} %'.format(win1_P0*100, u_win2_P0*100,win2_P0*100, u_win2_P0*100)\n",
    "if win1_P_photon*100 <2.5 and win2_P_photon*100>93.5 and np.float(noof_w1)/noof_w2*100 > 94 and np.float(noof_w1)/noof_w2*100<106:\n",
    "    print 'all thresholds (93.5 and 2.5 and 94:106) are met.'\n",
    "else:\n",
    "    print 'threasholds are NOT met. Compare to threashold: 93.5 and 2.5 and 94:106'"
   ]
  },
  {
   "cell_type": "code",
   "execution_count": null,
   "metadata": {
    "collapsed": true
   },
   "outputs": [],
   "source": []
  },
  {
   "cell_type": "code",
   "execution_count": null,
   "metadata": {
    "collapsed": true
   },
   "outputs": [],
   "source": []
  },
  {
   "cell_type": "code",
   "execution_count": null,
   "metadata": {
    "collapsed": true
   },
   "outputs": [],
   "source": []
  },
  {
   "cell_type": "code",
   "execution_count": null,
   "metadata": {
    "collapsed": true
   },
   "outputs": [],
   "source": []
  },
  {
   "cell_type": "code",
   "execution_count": null,
   "metadata": {
    "collapsed": true
   },
   "outputs": [],
   "source": []
  }
 ],
 "metadata": {
  "kernelspec": {
   "display_name": "Python 2",
   "language": "python",
   "name": "python2"
  },
  "language_info": {
   "codemirror_mode": {
    "name": "ipython",
    "version": 2
   },
   "file_extension": ".py",
   "mimetype": "text/x-python",
   "name": "python",
   "nbconvert_exporter": "python",
   "pygments_lexer": "ipython2",
   "version": "2.7.3"
  }
 },
 "nbformat": 4,
 "nbformat_minor": 0
}
