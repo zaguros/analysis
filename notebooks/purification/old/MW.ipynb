{
 "cells": [
  {
   "cell_type": "code",
   "execution_count": null,
   "metadata": {
    "collapsed": false
   },
   "outputs": [],
   "source": [
    "execfile(r'D:\\measuring\\analysis\\scripts\\setup_analysis.py')\n",
    "%matplotlib inline"
   ]
  },
  {
   "cell_type": "code",
   "execution_count": null,
   "metadata": {
    "collapsed": false
   },
   "outputs": [],
   "source": [
    "folder= tb.latest_data('')\n",
    "#folder= tb.latest_data('122849'); print 'OLDER FOLDER !!!'\n",
    "#folder=r'D:\\measuring\\data\\20140918\\122229_ElectronRabi_Pippin_rabi'\n",
    "#ssro_folder = tb.latest_data('155255_AdwinSSRO_SSROCalibration_Pippin_SIL3') #tb.data_from_time('20140708183041')\n",
    "ssro_folder = tb.latest_data('SSRO')\n",
    "a=sequence.SequenceAnalysis(folder)\n",
    "#test =a.get_sweep_pts()\n",
    "#print a.get_readout_results(name='ssro')\n",
    "a.get_electron_ROC(ssro_calib_folder=ssro_folder)\n",
    "ax = a.plot_result_vs_sweepparam(ret='ax', name='ssro')\n",
    "ax.set_ylim(.0,1.1)\n",
    "ax.set_xlim(0,50)\n",
    "print a.sweep_pts\n",
    "#y=a.p0\n",
    "#np.savetxt('rabi_2.txt', (x,y))"
   ]
  },
  {
   "cell_type": "code",
   "execution_count": null,
   "metadata": {
    "collapsed": false
   },
   "outputs": [],
   "source": [
    "stfolder_1= tb.latest_data('110106')\n",
    "folder_2= tb.latest_data('105928'); print 'ORLDER FOLDER !!!'\n",
    "#folder=r'D:\\measuring\\data\\20140707\\142326_DD_CORPSE_Sam_SIL5'\n",
    "ssro_folder = tb.latest_data('SSROCalibration') #tb.data_from_time('20140708183041')\n",
    "a_1=sequence.SequenceAnalysis(folder_1)\n",
    "a_1.get_sweep_pts()\n",
    "a_1.get_readout_results(name='ssro')\n",
    "a_1.get_electron_ROC(ssro_calib_folder=ssro_folder)\n",
    "a_2=sequence.SequenceAnalysis(folder_2)\n",
    "a_2.get_sweep_pts()\n",
    "a_2.get_readout_results(name='ssro')\n",
    "a_2.get_electron_ROC(ssro_calib_folder=ssro_folder)\n",
    "x_1= a_1.sweep_pts\n",
    "y_1 = a_1.p0\n",
    "x_2= a_2.sweep_pts\n",
    "y_2= a_2.p0\n",
    "fig_0, ax_0 = plt.subplots(1,1, figsize=(4.5,4))\n",
    "#ax = plt.plot(x_1, y_1,'bo', x_2, y_2,'ro')\n",
    "ax_0.errorbar(x_1, y_1, yerr = a_1.u_p0, fmt='bo')\n",
    "ax_0.errorbar(x_2, y_2, yerr = a_2.u_p0, fmt='ro' )\n",
    "ax_0.set"
   ]
  },
  {
   "cell_type": "code",
   "execution_count": null,
   "metadata": {
    "collapsed": false
   },
   "outputs": [],
   "source": [
    "execfile(r'D:\\measuring\\analysis\\scripts\\espin\\electron_rabi_analysis.py')"
   ]
  },
  {
   "cell_type": "code",
   "execution_count": null,
   "metadata": {
    "collapsed": false
   },
   "outputs": [],
   "source": [
    "import os, sys\n",
    "import numpy as np\n",
    "import h5py\n",
    "import logging\n",
    "\n",
    "from matplotlib import pyplot as plt\n",
    "\n",
    "from analysis.lib import fitting\n",
    "from analysis.lib.m2.ssro import  sequence, mbi #sequence_ssro,\n",
    "from analysis.lib.tools import toolbox\n",
    "from analysis.lib.fitting import fit, rabi\n",
    "reload(rabi)\n",
    "reload(sequence)\n",
    "\n",
    "from analysis.lib.tools import plot\n",
    "\n",
    "guess_frq = 1./0.12\n",
    "\n",
    "guess_amp = 0.4\n",
    "guess_of = 0.8\n",
    "# guess_slope = 0.\n",
    "guess_phi = 0.\n",
    "guess_k = 0.\n",
    "\n",
    "mbi_analysis = False\n",
    "\n",
    "o = fit.Parameter(guess_of, 'o')\n",
    "f = fit.Parameter(guess_frq, 'f')\n",
    "A = fit.Parameter(guess_amp, 'A')\n",
    "phi = fit.Parameter(guess_phi, 'phi')\n",
    "k = fit.Parameter(guess_k, 'k')\n",
    "p0 = [f, A, phi, o, k]\n",
    "fitfunc_str = ''\n",
    "\n",
    "folder= tb.latest_data('Rabi')\n",
    "#folder='D:\\measuring\\data\\20141015\\163957_ElectronRabi_Pippin_rabi'\n",
    "\n",
    "\n",
    "a = sequence.SequenceAnalysis(folder)\n",
    "print a\n",
    "a.get_sweep_pts()\n",
    "a.get_readout_results('ssro')\n",
    "a.get_electron_ROC()\n",
    "ax = a.plot_result_vs_sweepparam(ret='ax')\n",
    "\n",
    "x = a.sweep_pts\n",
    "y = a.p0\n",
    "\n",
    "\n",
    "# fit_result = fit.fit1d(x, y, rabi.fit_rabi_multiple_detunings,\n",
    "#         guess_amp, guess_yof, guess_frq, guess_tau, (0, 0), (-2.193e-3, 0), (2.193e-3, 0), fixed=[],\n",
    "#         do_print=True, ret=True)\n",
    "\n",
    "fitfunc_str = 'o - A + A*e^(-(kx)**2)*cos(2pi (fx-phi))'\n",
    "\n",
    "def fitfunc(x):\n",
    "    return (o()-A()) + A() * np.exp(-(k()*x)**2) * np.cos(2*np.pi*(f()*x - phi()))\n",
    "\n",
    "fit_result = fit.fit1d(x,y, None, p0=p0, fitfunc=fitfunc, fixed=[2,4],\n",
    "        do_print=True, ret=True)\n",
    "plot.plot_fit1d(fit_result, np.linspace(0,x[-1],201), ax=ax,\n",
    "        plot_data=False)\n",
    "ax.set_xlim(0.0,0.1)\n",
    "print \"pi pulse = {:.3f} \".format(1/f()/2.) + a.sweep_name\n",
    "\n",
    "# ax.set_title(a.timestamp+'\\n'+a.measurementstring)\n",
    "plt.savefig(os.path.join(folder, 'electronrabi_analysis_fit.png'))\n"
   ]
  },
  {
   "cell_type": "code",
   "execution_count": null,
   "metadata": {
    "collapsed": false
   },
   "outputs": [],
   "source": [
    "from analysis.scripts.espin import simul_Rabi\n",
    "reload(simul_Rabi)\n",
    "simul_Rabi.sweep_pulse_ampl(pulse_duration =2000e-9, Rabi_freq_max =2e6, detuning = 0.e6)\n",
    "#simul_Rabi.sweep_pulse_duration(pulse_duration_max = 4e-6, Rabi_freq = 0.26e6,detuning = 0e6)"
   ]
  },
  {
   "cell_type": "code",
   "execution_count": null,
   "metadata": {
    "collapsed": false
   },
   "outputs": [],
   "source": [
    "execfile(r'D:\\measuring\\analysis\\scripts\\espin\\dark_esr_analysis.py')"
   ]
  },
  {
   "cell_type": "code",
   "execution_count": null,
   "metadata": {
    "collapsed": false
   },
   "outputs": [],
   "source": [
    "from analysis.scripts.espin import analysis_espin_calibration as aec\n",
    "reload(aec)\n",
    "folder = toolbox.latest_data('DarkESR')\n",
    "test=aec.analyse_dark_esr()"
   ]
  },
  {
   "cell_type": "code",
   "execution_count": null,
   "metadata": {
    "collapsed": false
   },
   "outputs": [],
   "source": [
    "execfile(r'D:\\measuring\\analysis\\scripts\\setup_analysis.py')\n",
    "from analysis.scripts.bell import calibration_tools\n",
    "reload(calibration_tools)\n",
    "folder=tb.latest_data('Pi_Calibration')\n",
    "fig, ax = plt.subplots(1,1, figsize=(4.5,4))\n",
    "ymin=-0.0\n",
    "ymax = 0.1\n",
    "fit=calibration_tools.fit_parabolic(folder, x0_guess=0.92,a_guess=-2,of_guess=0.02, ax=ax, info_xy=(0.88,ymin-(ymax-ymin)*0.35))\n",
    "#fit=calibration_tools.fit_parabolic(folder, x0_guess=1e-9,a_guess=-2e14,of_guess=0.02, ax=ax, info_xy=(-5e-9,-0.02))\n",
    "fit_result=calibration_tools.plot_result(folder, ax=ax, ret=True)\n",
    "ax.set_ylim(ymin,ymax)\n",
    "print 1-fit['params'][0]\n",
    "print fit['params'][2]\n",
    "#print 'Fitted minimum at ', fit['params'][2]"
   ]
  },
  {
   "cell_type": "code",
   "execution_count": null,
   "metadata": {
    "collapsed": false
   },
   "outputs": [],
   "source": [
    "calibration_tools.fit_parabolic?"
   ]
  },
  {
   "cell_type": "code",
   "execution_count": null,
   "metadata": {
    "collapsed": false
   },
   "outputs": [],
   "source": [
    "execfile(r'D:\\measuring\\analysis\\scripts\\espin\\calibration_pi2_CORPSE.py')"
   ]
  },
  {
   "cell_type": "code",
   "execution_count": null,
   "metadata": {
    "collapsed": false
   },
   "outputs": [],
   "source": [
    "print sqrt(sin(pi/4.))\n"
   ]
  },
  {
   "cell_type": "code",
   "execution_count": null,
   "metadata": {
    "collapsed": false
   },
   "outputs": [],
   "source": [
    "execfile(r'D:\\measuring\\analysis\\scripts\\espin\\electron_ramsey_analysis.py')"
   ]
  },
  {
   "cell_type": "code",
   "execution_count": null,
   "metadata": {
    "collapsed": false
   },
   "outputs": [],
   "source": [
    "ramsey_fft=np.fft.fft(a.p0)\n",
    "N_pts_fft = len(a.sweep_pts)/2\n",
    "ramsey_fft_freq = np.linspace(0,0.5/(a.sweep_pts[-1]/float(N_pts_fft)),N_pts_fft)*1e3\n",
    "#ramsey_fft_freq = np.fft.fftfreq(a.sweep_pts.shape[-1])\n",
    "print N_pts_fft\n",
    "fig,ax=plt.subplots(1,1)\n",
    "#plt.plot(ramsey_fft_freq[N_pts_fft:], ramsey_fft.real[N_pts_fft:])\n",
    "plt.plot(ramsey_fft_freq, ramsey_fft.real[N_pts_fft:])\n",
    "#ax.set_ylim([0,4])\n",
    "print 1/(a.sweep_pts[-1]/len(a.sweep_pts))*1e3\n"
   ]
  },
  {
   "cell_type": "code",
   "execution_count": null,
   "metadata": {
    "collapsed": false
   },
   "outputs": [],
   "source": [
    "4/8."
   ]
  },
  {
   "cell_type": "code",
   "execution_count": null,
   "metadata": {
    "collapsed": false
   },
   "outputs": [],
   "source": [
    "from analysis.scripts.espin import simpledecoupling_analysis as s\n",
    "reload(s)\n",
    "result=s.electron_T2_anal( measurement_name=['ssro'], ylim=(0.8,1))\n",
    "print '{:.3f} +/- {:.3f}'.format(result[0]['params'][1]+ result[0]['params'][2],result[0]['error'][1]+ result[0]['error'][2])"
   ]
  },
  {
   "cell_type": "code",
   "execution_count": null,
   "metadata": {
    "collapsed": false
   },
   "outputs": [],
   "source": [
    "a=arange(10)*3\n",
    "a=a[0:2]\n",
    "print a"
   ]
  },
  {
   "cell_type": "code",
   "execution_count": null,
   "metadata": {
    "collapsed": false
   },
   "outputs": [],
   "source": [
    "from analysis.scripts.bell import calibration_tools\n",
    "reload(calibration_tools)\n",
    "folder=tb.latest_data('135925')\n",
    "fit=calibration_tools.fit_parabolic(folder, x0_guess=-30,a_guess=2.)\n",
    "fit_result=calibration_tools.plot_result(folder, ret=True)\n",
    "print 'Fitted maximum at ', fit['params'][2], 'us'\n",
    "print ' {:.3f} +/- {:.3f}'.format(1-fit['params'][0]+fit['params'][1], np.sqrt(fit['error'][0]**2+fit['error'][1]**2))"
   ]
  },
  {
   "cell_type": "code",
   "execution_count": null,
   "metadata": {
    "collapsed": false
   },
   "outputs": [],
   "source": [
    "execfile(r'D:\\measuring\\analysis\\scripts\\espin\\simple_esr_fit.py')"
   ]
  },
  {
   "cell_type": "code",
   "execution_count": null,
   "metadata": {
    "collapsed": false
   },
   "outputs": [],
   "source": [
    "from analysis.lib.fitting import fit, ramsey\n",
    "from analysis.lib.tools import plot\n",
    "reload(ramsey)\n",
    "\n",
    "ssro_calib_folder = toolbox.latest_data(contains='130113_AdwinSSRO_SSROCalibration') \n",
    "folder= tb.latest_data('')\n",
    "a = sequence.SequenceAnalysis(folder)\n",
    "\n",
    "a.get_sweep_pts()\n",
    "a.get_readout_results('ssro')\n",
    "a.get_electron_ROC(ssro_calib_folder=ssro_calib_folder)\n",
    "x= a.sweep_pts\n",
    "y=a.p0\n",
    "\n",
    "tau = 4000      # ns\n",
    "amplitude = -0.03       # amplitude\n",
    "offset = 0.5        # offset\n",
    "detuning = 3.0e-3 # in GHz\n",
    "hf_N = 2.19e-3  # 14N hyperfine splitting in GHz\n",
    "#hf_C = 0.858e-3   # 13C hyperfine splitting in GHz as **kw\n",
    "\n",
    "\n",
    "\n",
    "fit_result = fit.fit1d(x,y,ramsey.fit_ramsey_14N_fixed_13C_opt,tau, amplitude, offset,detuning,hf_N, ret=True)\n",
    "params_0, fitfunc_0, fitfunc_str= ramsey.fit_ramsey_14N_fixed_13C_opt(tau, amplitude, offset,detuning,hf_N)\n",
    "test=fitfunc_0(x)\n",
    "plot.plot_fit1d(fit_result,x,info_xy=(1000,-0.5))\n",
    "ax=gca()\n",
    "plt.plot(x, fitfunc_0(x), 'r--')\n",
    "ax.set_ylim(0,1.2)\n",
    "ax.set_title(a.timestamp)\n",
    "ax.set_ylabel(r'$F(|0\\rangle)$')\n",
    "ax.set_xlabel(a.sweep_name)\n",
    "\n",
    "file = open(\"ramsey_121606.txt\", \"w\")\n",
    "\n",
    "file.write(\"data\")\n",
    "\n",
    "file.write(x)\n",
    "\n",
    "file.close()\n"
   ]
  },
  {
   "cell_type": "code",
   "execution_count": null,
   "metadata": {
    "collapsed": false
   },
   "outputs": [],
   "source": [
    "savetxt('ramsey_130414_x.txt', x)"
   ]
  },
  {
   "cell_type": "code",
   "execution_count": null,
   "metadata": {
    "collapsed": false
   },
   "outputs": [],
   "source": [
    "from analysis.scripts.espin import analysis_espin_calibration as aec\n",
    "reload(aec)\n",
    "folder = toolbox.latest_data('')\n",
    "print folder\n",
    "test = aec.analyse_Rabi(guess_frq =1/0.03 )"
   ]
  },
  {
   "cell_type": "code",
   "execution_count": null,
   "metadata": {
    "collapsed": false
   },
   "outputs": [],
   "source": [
    "from analysis.scripts.bell import calibration_tools\n",
    "reload(calibration_tools)\n",
    "folder=tb.latest_data('Bell')\n",
    "a,ax,x,y=calibration_tools.plot_result(folder, ret=True)\n",
    "fit_result =calibration_tools.fit_gaussian(folder, ax=ax, x0_guess = 75,c_guess = 20, a_guess= -0.5)\n",
    "#ax.set_ylim([0.5,1.05])\n",
    "print 'maximum at', fit_result['params'][1]*1e6, ' us'"
   ]
  },
  {
   "cell_type": "markdown",
   "metadata": {},
   "source": [
    "##### Calibrate pi/4:"
   ]
  },
  {
   "cell_type": "code",
   "execution_count": null,
   "metadata": {
    "collapsed": false
   },
   "outputs": [],
   "source": [
    "execfile(r'D:\\measuring\\analysis\\scripts\\setup_analysis.py')\n",
    "from analysis.scripts.bell import calibration_tools\n",
    "reload(calibration_tools)\n",
    "folder=tb.latest_data('')\n",
    "fig, ax = plt.subplots(1,1, figsize=(4.5,4))\n",
    "fit=calibration_tools.fit_linear(folder, a_guess = 1., b_guess=0., ax=ax)\n",
    "fit_result=calibration_tools.plot_result(folder, ax=ax, ret=True)\n",
    "ax.set_ylim(0.5,1)\n",
    "print 'pi/4 (1/2.*(1+cos(pi/4.) at:',(1/2.*(1+cos(pi/4.))-fit['params_dict']['b'])/fit['params_dict']['a']\n",
    "print 'error:',sqrt((1/2.*(1+cos(pi/4.))-fit['params_dict']['b'])**2/fit['params_dict']['a']**2*fit['error_dict']['a']**2 + 1./fit['params_dict']['a']**2*fit['error_dict']['b']**2 )\n"
   ]
  }
 ],
 "metadata": {
  "kernelspec": {
   "display_name": "Python 2",
   "language": "python",
   "name": "python2"
  },
  "language_info": {
   "codemirror_mode": {
    "name": "ipython",
    "version": 2
   },
   "file_extension": ".py",
   "mimetype": "text/x-python",
   "name": "python",
   "nbconvert_exporter": "python",
   "pygments_lexer": "ipython2",
   "version": "2.7.3"
  }
 },
 "nbformat": 4,
 "nbformat_minor": 0
}
