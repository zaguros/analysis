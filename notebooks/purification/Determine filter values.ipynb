{
 "cells": [
  {
   "cell_type": "code",
   "execution_count": null,
   "metadata": {
    "collapsed": false
   },
   "outputs": [],
   "source": [
    "## setup analysis\n",
    "execfile(r'D:\\measuring\\analysis\\scripts\\setup_analysis.py')\n",
    "from analysis.lib.purification import purify_pq as ppq; reload(ppq)\n",
    "from analysis.lib.purification import purify_BK as pbk; reload(pbk)\n",
    "from analysis.lib.fitting import fit, common\n",
    "from analysis.lib.pq import pq_tools;reload(pq_tools)\n",
    "from analysis.lib.purification import purify_analysis as pa; reload(pa)\n",
    "%matplotlib inline\n",
    "\n",
    "thetas = ['pi/4','pi/5','pi/6','pi/8']\n"
   ]
  },
  {
   "cell_type": "code",
   "execution_count": null,
   "metadata": {
    "collapsed": true
   },
   "outputs": [],
   "source": [
    "### define parameters\n",
    "start = 2762.5e3\n",
    "window_length = 50e3\n",
    "hist_binsize = 100"
   ]
  },
  {
   "cell_type": "code",
   "execution_count": null,
   "metadata": {
    "collapsed": false,
    "scrolled": false
   },
   "outputs": [],
   "source": [
    "offsets_on = True\n",
    "\n",
    "first_shifted = True\n",
    "first_unshifted = True\n",
    "\n",
    "for i,theta in enumerate(thetas):\n",
    "    print 'Processing theta ', theta\n",
    "    folder_lt3,folder_lt4 = pa.get_folders_from_theta(theta)\n",
    "    ssro_calib_lt3,ssro_calib_lt4 = pa.get_ssro_calibs()\n",
    "\n",
    "    Purify = pa.purify_analysis('purification_analysis',folder_lt3,folder_lt4,ssro_calib_lt3,ssro_calib_lt4)\n",
    "\n",
    "    all_lt3,all_lt4,offsets,offsets_ch1 = Purify.get_tstamps_and_offsets(return_tstamps = True,shifted_days = [])\n",
    "    print len(all_lt4)\n",
    "    if np.size(all_lt4):\n",
    "        if not(offsets_on):\n",
    "            offsets = np.zeros(np.size(all_lt4))\n",
    "            offsets_ch1 = np.zeros(np.size(all_lt4))\n",
    "            \n",
    "        (h0, b0), (h1, b1) = pa.get_photon_hists_from_tstamps(all_lt4,folder_lt4,start = start,length = window_length, hist_binsize = hist_binsize, offsets = offsets, offsets_ch1 = offsets_ch1)\n",
    "\n",
    "        if first_shifted:\n",
    "            ch0_hist_data_unshifted = h0\n",
    "            ch1_hist_data_unshifted = h1\n",
    "            first_shifted = False\n",
    "        else:\n",
    "            ch0_hist_data_unshifted += h0\n",
    "            ch1_hist_data_unshifted += h1\n",
    "\n",
    "    all_lt3,all_lt4,offsets,offsets_ch1 = Purify.get_tstamps_and_offsets(return_tstamps = True,unshifted_days = [])\n",
    "    print len(all_lt4)\n",
    "    (h0, b0), (h1, b1) = pa.get_photon_hists_from_tstamps(all_lt4,folder_lt4,start = start,length = window_length, hist_binsize = hist_binsize)\n",
    "    if np.size(all_lt4):\n",
    "        if not(offsets_on):\n",
    "            offsets = np.zeros(np.size(all_lt4))\n",
    "            offsets_ch1 = np.zeros(np.size(all_lt4))\n",
    "            \n",
    "        (h0, b0), (h1, b1) = pa.get_photon_hists_from_tstamps(all_lt4,folder_lt4,start = start,length = window_length, hist_binsize = hist_binsize, offsets = offsets, offsets_ch1 = offsets_ch1)\n",
    "\n",
    "        if first_unshifted:\n",
    "\n",
    "            ch0_hist_data_shifted = h0\n",
    "            ch1_hist_data_shifted = h1\n",
    "            first_unshifted = False\n",
    "        else:\n",
    "            ch0_hist_data_shifted += h0\n",
    "            ch1_hist_data_shifted += h1"
   ]
  },
  {
   "cell_type": "code",
   "execution_count": null,
   "metadata": {
    "collapsed": false
   },
   "outputs": [],
   "source": [
    "fig, (ax0) = plt.subplots(figsize=(12,4))\n",
    "pa.plot_photon_hist(ax0, ch0_hist_data_unshifted, b0,label = 'ch0',log=True)\n",
    "pa.plot_photon_hist(ax0, ch1_hist_data_unshifted, b1,label = 'ch1',log=True)\n",
    "ax0.set_title('All data from unshifted days')\n",
    "plt.show()\n",
    "plt.close('all')\n",
    "\n",
    "fig, (ax0) = plt.subplots(figsize=(12,4))\n",
    "pa.plot_photon_hist(ax0, ch0_hist_data_shifted, b0,label = 'ch0',log=True)\n",
    "pa.plot_photon_hist(ax0, ch1_hist_data_shifted, b1,label = 'ch1',log=True)\n",
    "ax0.set_title('All data from shifted days')\n",
    "plt.show()\n",
    "plt.close('all')"
   ]
  },
  {
   "cell_type": "code",
   "execution_count": null,
   "metadata": {
    "collapsed": false
   },
   "outputs": [],
   "source": [
    "def xcorr(a,v):\n",
    "            \n",
    "    xaxis = np.arange(len(a)) - len(a)/2\n",
    "    return xaxis,np.correlate(np.array(a)-np.mean(a),np.array(v)-np.mean(v),'same')\n"
   ]
  },
  {
   "cell_type": "code",
   "execution_count": null,
   "metadata": {
    "collapsed": false
   },
   "outputs": [],
   "source": [
    "xaxis,xcorr01_shifted=xcorr(ch0_hist_data_unshifted,ch1_hist_data_unshifted)\n",
    "xaxis = (b0[1]-b0[0])*xaxis\n",
    "fig, (ax0) = plt.subplots(figsize=(12,4))\n",
    "plt.plot(xaxis,xcorr01_shifted)\n",
    "plt.show()\n",
    "plt.close('all')\n",
    "i = np.argmax(xcorr01_shifted)\n",
    "print 'Ch1 should be shifted by ', xaxis[i]\n",
    "\n",
    "xaxis,xcorr01_shifted=xcorr(ch0_hist_data_shifted,ch1_hist_data_shifted)\n",
    "xaxis = (b0[1]-b0[0])*xaxis\n",
    "fig, (ax0) = plt.subplots(figsize=(12,4))\n",
    "plt.plot(xaxis,xcorr01_shifted)\n",
    "plt.show()\n",
    "plt.close('all')\n",
    "i = np.argmax(xcorr01_shifted)\n",
    "print 'Ch1 should be shifted by ', xaxis[i]\n",
    "\n",
    "total_unshifted_data = ch0_hist_data_unshifted + ch1_hist_data_unshifted\n",
    "total_shifted_data = ch0_hist_data_shifted + ch1_hist_data_shifted\n",
    "\n",
    "xaxis,xcorr01_shifted=xcorr(total_unshifted_data,total_shifted_data)\n",
    "xaxis = (b0[1]-b0[0])*xaxis\n",
    "fig, (ax0) = plt.subplots(figsize=(12,4))\n",
    "plt.plot(xaxis,xcorr01_shifted)\n",
    "plt.show()\n",
    "plt.close('all')\n",
    "i = np.argmax(xcorr01_shifted)\n",
    "print 'Shifted days should be shifted by ', xaxis[i]\n"
   ]
  },
  {
   "cell_type": "code",
   "execution_count": null,
   "metadata": {
    "collapsed": false
   },
   "outputs": [],
   "source": [
    "hist_data = []\n",
    "\n",
    "for theta in thetas:\n",
    "    print 'Processing theta ', theta\n",
    "    folder_lt3,folder_lt4 = pa.get_folders_from_theta(theta)\n",
    "    ssro_calib_lt3,ssro_calib_lt4 = pa.get_ssro_calibs()\n",
    "\n",
    "    Purify = pa.purify_analysis('purification_analysis',folder_lt3,folder_lt4,ssro_calib_lt3,ssro_calib_lt4)\n",
    "    all_lt3,all_lt4,offsets,offsets_ch1 = Purify.get_tstamps_and_offsets(return_tstamps = True,unshifted_days = [])\n",
    "    \n",
    "    (h0, b0), (h1, b1) = pa.get_photon_hists_from_tstamps(all_lt4,folder_lt4, offsets = offsets, offsets_ch1 = offsets_ch1,start = start,length = window_length, hist_binsize = hist_binsize)\n",
    "    hist_data.append(h0 + h1)\n"
   ]
  },
  {
   "cell_type": "code",
   "execution_count": null,
   "metadata": {
    "collapsed": true
   },
   "outputs": [],
   "source": []
  },
  {
   "cell_type": "code",
   "execution_count": null,
   "metadata": {
    "collapsed": true
   },
   "outputs": [],
   "source": [
    "def fit_gaussian(ax,x,y,**kw):\n",
    "    \n",
    "     ### kw for fitting\n",
    "\n",
    "    fit_offset = kw.pop('fit_offset',0)\n",
    "    fit_amplitude = kw.pop('fit_amplitude', 2e4)\n",
    "    fit_x0 = kw.pop('fit_x0', 2770)\n",
    "    fit_sigma = kw.pop('fit_sigma', 5)\n",
    "    fixed = kw.pop('fixed', [])\n",
    "    show_guess = kw.pop('show_guess', False)\n",
    " \n",
    "    p0,fitfunc,fitfunc_str = common.fit_gauss(fit_offset,fit_amplitude,fit_x0,fit_sigma)\n",
    "\n",
    "    if show_guess:\n",
    "        # print decay\n",
    "        ax.plot(np.linspace(x[0],x[-1],201), fitfunc(np.linspace(x[0],x[-1],201)), ':', lw=2)\n",
    "\n",
    "    fit_result = fit.fit1d(x,y,None,p0=p0,fitfunc=fitfunc,do_print=True,fixed=fixed,ret=True)\n",
    "\n",
    "    if isinstance(fit_result, int):\n",
    "        print \"Fit failed!\"\n",
    "       \n",
    "    return fit_result\n",
    "   "
   ]
  },
  {
   "cell_type": "code",
   "execution_count": null,
   "metadata": {
    "collapsed": false,
    "scrolled": false
   },
   "outputs": [],
   "source": [
    "start_pos = 2760\n",
    "end_pos = 2771.0\n",
    "start_ind = np.argmin(np.abs(b0-start_pos))\n",
    "end_ind = np.argmin(np.abs(b0-end_pos))\n",
    "\n",
    "FWHM = 2.83\n",
    "sigma = FWHM/(2.*np.sqrt(2*np.log(2)))\n",
    "\n",
    "x0=2769.55\n",
    "\n",
    "max_pulse_sig = 0.001\n",
    "for i, theta in enumerate(thetas):\n",
    "    plt_pos = b0[:-1] + (b0[1]-b0[2])/2.\n",
    "    fig, (ax0) = plt.subplots(figsize=(12,4))\n",
    "    plt.plot(plt_pos,(hist_data[i]))\n",
    "    ax0.set_title(theta)\n",
    "    \n",
    "    fit_result = fit_gaussian(ax0,plt_pos[start_ind:end_ind],(hist_data[i][start_ind:end_ind]),fixed = [0,2],fit_x0=x0,fit_sigma = sigma, show_guess = False)\n",
    "\n",
    "    full_gaussian  = fit_result['fitfunc'](plt_pos)       \n",
    "    \n",
    "    plt.plot(plt_pos,full_gaussian)\n",
    "    diff_sig = hist_data[i] - full_gaussian\n",
    "    \n",
    "    for z in range(1,len(plt_pos)):\n",
    "        relative_signal = np.sum(full_gaussian[-z:])/np.sum(diff_sig[-z:])\n",
    "        if relative_signal > max_pulse_sig:\n",
    "            print 'Threshold is at ' ,plt_pos[-z]\n",
    "            break\n",
    "    plt.plot(plt_pos,diff_sig)\n",
    "            \n",
    "    plt.show()\n",
    "    plt.close('all')"
   ]
  },
  {
   "cell_type": "code",
   "execution_count": null,
   "metadata": {
    "collapsed": true
   },
   "outputs": [],
   "source": []
  },
  {
   "cell_type": "code",
   "execution_count": null,
   "metadata": {
    "collapsed": true
   },
   "outputs": [],
   "source": []
  },
  {
   "cell_type": "code",
   "execution_count": null,
   "metadata": {
    "collapsed": true
   },
   "outputs": [],
   "source": []
  }
 ],
 "metadata": {
  "kernelspec": {
   "display_name": "Python 2",
   "language": "python",
   "name": "python2"
  },
  "language_info": {
   "codemirror_mode": {
    "name": "ipython",
    "version": 2
   },
   "file_extension": ".py",
   "mimetype": "text/x-python",
   "name": "python",
   "nbconvert_exporter": "python",
   "pygments_lexer": "ipython2",
   "version": "2.7.3"
  }
 },
 "nbformat": 4,
 "nbformat_minor": 0
}
