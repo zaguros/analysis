{
 "cells": [
  {
   "cell_type": "code",
   "execution_count": null,
   "metadata": {
    "collapsed": false
   },
   "outputs": [],
   "source": [
    "## setup analysis\n",
    "execfile(r'D:\\measuring\\analysis\\scripts\\setup_analysis.py')\n",
    "from analysis.lib.purification import purify_pq as ppq; reload(ppq)\n",
    "from analysis.lib.purification import purify_BK as pbk; reload(pbk)\n",
    "%matplotlib inline\n",
    "from analysis.lib.fitting import fit, common\n",
    "\n",
    "folder_lt3 = r'D:\\measuring\\data\\Purification_lt3_raw_data\\TPQI_combi'\n",
    "folder_lt4 = r'D:\\measuring\\data\\Purification_lt4_raw_data\\TPQI_combi'\n",
    "from analysis.lib.purification import purify_TPQI as TPQI; reload(TPQI)"
   ]
  },
  {
   "cell_type": "markdown",
   "metadata": {},
   "source": [
    "# Filter by CR checks"
   ]
  },
  {
   "cell_type": "code",
   "execution_count": null,
   "metadata": {
    "collapsed": false
   },
   "outputs": [],
   "source": [
    "### define parameters\n",
    "start_ch0 = 2436.5e3#+700e3\n",
    "start_offset_ch1 = 0.0e3\n",
    "window_length = 50e3\n",
    "pulse_sep = 700e3\n",
    "number_of_pulses = 10\n",
    "\n",
    "# CR check filtering\n",
    "cr_check_min_p = 0\n",
    "cr_check_min_s = 0\n",
    "filter_before_or_after = 'after'\n"
   ]
  },
  {
   "cell_type": "code",
   "execution_count": null,
   "metadata": {
    "collapsed": false
   },
   "outputs": [],
   "source": [
    "### get coincidences\n",
    "execfile(r'D:\\measuring\\analysis\\scripts\\setup_analysis.py')\n",
    "reload(TPQI)\n",
    "\n",
    "dts, filtered_dts, cr_checks = TPQI.TPQI_analysis_w_CR_check_filtering(folder_lt4,start_ch0,\n",
    "                                                                       start_ch0+start_offset_ch1,\n",
    "                                                                       window_length,\n",
    "                                                                       pulse_sep,\n",
    "                                                                       number_of_pulses,\n",
    "                                                                       load_cr_check = True,\n",
    "                                                                       Base_Folder_secondary = folder_lt3, \n",
    "                                                                       cr_check_min_p = cr_check_min_p,\n",
    "                                                                       cr_check_min_s =cr_check_min_s,\n",
    "                                                                       filter_before_or_after = filter_before_or_after,\n",
    "                                                                       load_TPQI_attempts = True,\n",
    "                                                                       min_attempts = 0,\n",
    "                                                                       max_attempts = 99,\n",
    "                                                                       Verbose = False)\n",
    "len(dts),len(filtered_dts)"
   ]
  },
  {
   "cell_type": "code",
   "execution_count": null,
   "metadata": {
    "collapsed": false
   },
   "outputs": [],
   "source": [
    "### plot result\n",
    "hist_binsize = 1\n",
    "bins = np.arange(1,40,hist_binsize)\n",
    "y,x=np.histogram(cr_checks[:,0])\n",
    "bin_centres = x[:-1] + (x[1] - x[0])/2\n",
    "fig = plt.figure()\n",
    "ax = fig.add_subplot(2,2,1)\n",
    "ax.plot(bin_centres,y,'-o')\n",
    "ax.set_xlabel('CR before')\n",
    "ax.set_ylabel('Occurencces')\n",
    "# ax.set_range\n",
    "ax.set_title('LT4')\n",
    "\n",
    "hist_binsize = 1\n",
    "bins = np.arange(1,40,hist_binsize)\n",
    "y,x=np.histogram(cr_checks[:,1])\n",
    "bin_centres = x[:-1] + (x[1] - x[0])/2\n",
    "fig = plt.figure()\n",
    "ax = fig.add_subplot(2,2,2)\n",
    "ax.plot(bin_centres,y,'-o')\n",
    "ax.set_xlabel('CR after')\n",
    "ax.set_ylabel('Occurencces')\n",
    "# ax.set_range\n",
    "ax.set_title('LT4')\n",
    "\n",
    "hist_binsize = 1\n",
    "bins = np.arange(1,40,hist_binsize)\n",
    "y,x=np.histogram(cr_checks[:,2])\n",
    "bin_centres = x[:-1] + (x[1] - x[0])/2\n",
    "fig = plt.figure()\n",
    "ax = fig.add_subplot(2,2,3)\n",
    "ax.plot(bin_centres,y,marker = 'o')\n",
    "ax.set_xlabel('CR before')\n",
    "ax.set_ylabel('Occurencces')\n",
    "# ax.set_range\n",
    "ax.set_title('LT3')\n",
    "\n",
    "hist_binsize = 1\n",
    "bins = np.arange(1,40,hist_binsize)\n",
    "y,x=np.histogram(cr_checks[:,3])\n",
    "bin_centres = x[:-1] + (x[1] - x[0])/2\n",
    "fig = plt.figure()\n",
    "ax = fig.add_subplot(2,2,4)\n",
    "ax.plot(bin_centres,y,marker = 'o')\n",
    "ax.set_xlabel('CR after')\n",
    "ax.set_ylabel('Occurencces')\n",
    "# ax.set_range\n",
    "ax.set_title('LT3')\n",
    "\n",
    "plt.show()\n",
    "plt.close('all')"
   ]
  },
  {
   "cell_type": "code",
   "execution_count": null,
   "metadata": {
    "collapsed": false
   },
   "outputs": [],
   "source": [
    "### plot result\n",
    "hist_binsize = 6\n",
    "bins = np.arange(min(filtered_dts)-100.5,max(filtered_dts)+100.5,hist_binsize)\n",
    "y,x=np.histogram(filtered_dts, bins=bins)\n",
    "bin_centres = x[:-1] + (x[1] - x[0])/2\n",
    "fig = plt.figure()\n",
    "ax = fig.add_subplot(111)\n",
    "ax.plot(bin_centres,y)\n",
    "ax.set_xlabel('Difference time (ns)')\n",
    "ax.set_ylabel('Coincidences in bin')\n",
    "# ax.set_range\n",
    "ax.set_title('TPQI')\n",
    "ax.set_xlim([-50,50])\n",
    "plt.show()\n",
    "plt.close('all')"
   ]
  },
  {
   "cell_type": "code",
   "execution_count": null,
   "metadata": {
    "collapsed": false,
    "scrolled": false
   },
   "outputs": [],
   "source": [
    "def fit_tpqi(g_a,n_pulses):\n",
    "    \"\"\"\n",
    "    fitfunction for TPQI\n",
    "        y(x) = a * (n_pulses - x)/n_pulses\n",
    "\n",
    "    I.g.:\n",
    "        g_a : amplitude\n",
    "    \"\"\"\n",
    "    fitfunc_str = 'a'\n",
    "\n",
    "    a = fit.Parameter(g_a, 'a')\n",
    "    n_pulses = fit.Parameter(n_pulses, 'n_pulses')\n",
    "    p0 = [a, n_pulses]\n",
    "\n",
    "    def fitfunc(x):\n",
    "        return a() * (n_pulses() - x)/n_pulses()\n",
    "\n",
    "    return p0, fitfunc, fitfunc_str\n",
    "\n",
    "\n",
    "counts = np.zeros(number_of_pulses)\n",
    "diff =  range(1,number_of_pulses+1)\n",
    "for z in diff:\n",
    "    c_left = np.sum((filtered_dts<(200-z*pulse_sep/1e3)) & (filtered_dts>(-200-z*pulse_sep/1e3)))\n",
    "    c_right = np.sum((filtered_dts<(200+z*pulse_sep/1e3)) & (filtered_dts>(-200+z*pulse_sep/1e3)))\n",
    "    counts[z-1] = (c_left + c_right)/2\n",
    "    \n",
    "reload(fit)\n",
    "fitted = fit.fit1d(diff,counts,fit_tpqi,300,10,ret=True)\n",
    "\n",
    "plt.plot(diff, counts ,'o')\n",
    "plt.plot(diff,fitted['fitfunc'](diff))\n",
    "plt.xlabel('Pulse difference')\n",
    "plt.ylabel('Coincidences')\n",
    "\n",
    "fitted_counts_in_next_pulse = fitted['params'][0]\n",
    "print 'Fitted coincidences with next pulse', fitted_counts_in_next_pulse"
   ]
  },
  {
   "cell_type": "code",
   "execution_count": null,
   "metadata": {
    "collapsed": false
   },
   "outputs": [],
   "source": [
    "counts_in_next_pulse = (np.sum((filtered_dts<-400) & (filtered_dts>-800))+np.sum((filtered_dts>400) & (filtered_dts<800)))/2\n",
    "counts_in_same_pulse = np.sum((filtered_dts<200) & (filtered_dts>-200))\n",
    "\n",
    "\n",
    "print 'counts left',np.sum((filtered_dts<-400) & (filtered_dts>-800))\n",
    "print 'counts right',np.sum((filtered_dts>400) & (filtered_dts<800))\n",
    "print 'averaged coincidences with following pulses',counts_in_next_pulse \n",
    "print 'coincidences in same pulse',counts_in_same_pulse\n",
    "\n",
    "print fitted_counts_in_next_pulse\n",
    "tail_lt3 = 9.1975\n",
    "tail_lt4 = 5.1514\n",
    "\n",
    "p1 = tail_lt3\n",
    "p2 = tail_lt4\n",
    "\n",
    "Visibility = 2*p1*p2/(2*p1*p2 + p1**2 + p2**2)\n",
    "print 'assumed tail LT3/LT4',tail_lt3,tail_lt4\n",
    "print 'distiungishable expected vis', Visibility\n",
    "print 'measured Visibility', counts_in_same_pulse/float(counts_in_next_pulse)\n",
    "print 'measured Visibility', counts_in_same_pulse/float(fitted_counts_in_next_pulse)\n",
    "print 'normalized TPQI visibility', 1-(counts_in_same_pulse/float(counts_in_next_pulse))/Visibility\n",
    "print 'normalized TPQI visibility', 1-(counts_in_same_pulse/float(fitted_counts_in_next_pulse))/Visibility\n"
   ]
  },
  {
   "cell_type": "markdown",
   "metadata": {},
   "source": [
    "# Filter by adwin comm time"
   ]
  },
  {
   "cell_type": "code",
   "execution_count": null,
   "metadata": {
    "collapsed": false
   },
   "outputs": [],
   "source": [
    "### define parameters\n",
    "start_ch0 = 2436.5e3#+700e3\n",
    "start_offset_ch1 = 0.0e3\n",
    "window_length = 50e3\n",
    "pulse_sep = 700e3\n",
    "number_of_pulses = 10\n",
    "\n",
    "# Adwin comm time filtering\n",
    "adwin_com_max_p = 1000\n",
    "adwin_com_max_s = 1000"
   ]
  },
  {
   "cell_type": "code",
   "execution_count": null,
   "metadata": {
    "collapsed": false
   },
   "outputs": [],
   "source": [
    "### get coincidences\n",
    "execfile(r'D:\\measuring\\analysis\\scripts\\setup_analysis.py')\n",
    "reload(TPQI)\n",
    "\n",
    "dts, filtered_dts,cr_checks, adwin_com_times = TPQI.TPQI_analysis_w_CR_check_filtering(folder_lt4,start_ch0,\n",
    "                                                                       start_ch0+start_offset_ch1,\n",
    "                                                                       window_length,\n",
    "                                                                       pulse_sep,\n",
    "                                                                       number_of_pulses,\n",
    "                                                                       load_adwin_comm_time = True,\n",
    "                                                                       Base_Folder_secondary = folder_lt3, \n",
    "                                                                       adwin_com_max_p = adwin_com_max_p,\n",
    "                                                                       adwin_com_max_s =adwin_com_max_s)\n",
    "len(dts),len(filtered_dts)"
   ]
  },
  {
   "cell_type": "code",
   "execution_count": null,
   "metadata": {
    "collapsed": false
   },
   "outputs": [],
   "source": [
    "### plot result\n",
    "bins = np.arange(0,10,0.1)\n",
    "y,x=np.histogram(adwin_com_times[:,0],bins = bins)\n",
    "\n",
    "fig = plt.figure()\n",
    "ax = fig.add_subplot(2,1,1)\n",
    "ax.plot(bins[:-1],y,'-o')\n",
    "ax.set_xlabel('Adwin com time')\n",
    "ax.set_ylabel('Occurencces')\n",
    "# ax.set_range\n",
    "ax.set_title('LT3')\n",
    "\n",
    "y,x=np.histogram(adwin_com_times[:,1])\n",
    "bin_centres = x[:-1] + (x[1] - x[0])/2\n",
    "fig = plt.figure()\n",
    "ax = fig.add_subplot(2,1,2)\n",
    "ax.plot(bin_centres,y,'-o')\n",
    "ax.set_xlabel('Adwin com time')\n",
    "ax.set_ylabel('Occurencces')\n",
    "# ax.set_range\n",
    "ax.set_title('LT4')\n",
    "\n",
    "plt.show()\n",
    "plt.close('all')"
   ]
  },
  {
   "cell_type": "code",
   "execution_count": null,
   "metadata": {
    "collapsed": false
   },
   "outputs": [],
   "source": [
    "### plot result\n",
    "hist_binsize = 6\n",
    "bins = np.arange(min(filtered_dts)-100.5,max(filtered_dts)+100.5,hist_binsize)\n",
    "y,x=np.histogram(filtered_dts, bins=bins)\n",
    "bin_centres = x[:-1] + (x[1] - x[0])/2\n",
    "fig = plt.figure()\n",
    "ax = fig.add_subplot(111)\n",
    "ax.plot(bin_centres,y)\n",
    "ax.set_xlabel('Difference time (ns)')\n",
    "ax.set_ylabel('Coincidences in bin')\n",
    "# ax.set_range\n",
    "ax.set_title('TPQI')\n",
    "ax.set_xlim([-50,50])\n",
    "plt.show()\n",
    "plt.close('all')"
   ]
  },
  {
   "cell_type": "code",
   "execution_count": null,
   "metadata": {
    "collapsed": false,
    "scrolled": false
   },
   "outputs": [],
   "source": [
    "def fit_tpqi(g_a,n_pulses):\n",
    "    \"\"\"\n",
    "    fitfunction for TPQI\n",
    "        y(x) = a * (n_pulses - x)/n_pulses\n",
    "\n",
    "    I.g.:\n",
    "        g_a : amplitude\n",
    "    \"\"\"\n",
    "    fitfunc_str = 'a'\n",
    "\n",
    "    a = fit.Parameter(g_a, 'a')\n",
    "    n_pulses = fit.Parameter(n_pulses, 'n_pulses')\n",
    "    p0 = [a, n_pulses]\n",
    "\n",
    "    def fitfunc(x):\n",
    "        return a() * (n_pulses() - x)/n_pulses()\n",
    "\n",
    "    return p0, fitfunc, fitfunc_str\n",
    "\n",
    "\n",
    "counts = np.zeros(number_of_pulses)\n",
    "diff =  range(1,number_of_pulses+1)\n",
    "for z in diff:\n",
    "    c_left = np.sum((filtered_dts<(200-z*pulse_sep/1e3)) & (filtered_dts>(-200-z*pulse_sep/1e3)))\n",
    "    c_right = np.sum((filtered_dts<(200+z*pulse_sep/1e3)) & (filtered_dts>(-200+z*pulse_sep/1e3)))\n",
    "    counts[z-1] = (c_left + c_right)/2\n",
    "    \n",
    "reload(fit)\n",
    "fitted = fit.fit1d(diff,counts,fit_tpqi,300,10,ret=True)\n",
    "\n",
    "plt.plot(diff, counts ,'o')\n",
    "plt.plot(diff,fitted['fitfunc'](diff))\n",
    "plt.xlabel('Pulse difference')\n",
    "plt.ylabel('Coincidences')\n",
    "\n",
    "fitted_counts_in_next_pulse = fitted['params'][0]\n",
    "print 'Fitted coincidences with next pulse', fitted_counts_in_next_pulse"
   ]
  },
  {
   "cell_type": "code",
   "execution_count": null,
   "metadata": {
    "collapsed": false
   },
   "outputs": [],
   "source": [
    "counts_in_next_pulse = (np.sum((filtered_dts<-400) & (filtered_dts>-800))+np.sum((filtered_dts>400) & (filtered_dts<800)))/2\n",
    "counts_in_same_pulse = np.sum((filtered_dts<200) & (filtered_dts>-200))\n",
    "\n",
    "\n",
    "print 'counts left',np.sum((filtered_dts<-400) & (filtered_dts>-800))\n",
    "print 'counts right',np.sum((filtered_dts>400) & (filtered_dts<800))\n",
    "print 'averaged coincidences with following pulses',counts_in_next_pulse \n",
    "print 'coincidences in same pulse',counts_in_same_pulse\n",
    "\n",
    "print fitted_counts_in_next_pulse\n",
    "tail_lt3 = 9.1975\n",
    "tail_lt4 = 5.1514\n",
    "\n",
    "p1 = tail_lt3\n",
    "p2 = tail_lt4\n",
    "\n",
    "Visibility = 2*p1*p2/(2*p1*p2 + p1**2 + p2**2)\n",
    "print 'assumed tail LT3/LT4',tail_lt3,tail_lt4\n",
    "print 'distiungishable expected vis', Visibility\n",
    "print 'measured Visibility', counts_in_same_pulse/float(counts_in_next_pulse)\n",
    "print 'measured Visibility', counts_in_same_pulse/float(fitted_counts_in_next_pulse)\n",
    "print 'normalized TPQI visibility', 1-(counts_in_same_pulse/float(counts_in_next_pulse))/Visibility\n",
    "print 'normalized TPQI visibility', 1-(counts_in_same_pulse/float(fitted_counts_in_next_pulse))/Visibility\n"
   ]
  },
  {
   "cell_type": "code",
   "execution_count": null,
   "metadata": {
    "collapsed": true
   },
   "outputs": [],
   "source": []
  }
 ],
 "metadata": {
  "kernelspec": {
   "display_name": "Python 2",
   "language": "python",
   "name": "python2"
  },
  "language_info": {
   "codemirror_mode": {
    "name": "ipython",
    "version": 2
   },
   "file_extension": ".py",
   "mimetype": "text/x-python",
   "name": "python",
   "nbconvert_exporter": "python",
   "pygments_lexer": "ipython2",
   "version": "2.7.3"
  }
 },
 "nbformat": 4,
 "nbformat_minor": 0
}
