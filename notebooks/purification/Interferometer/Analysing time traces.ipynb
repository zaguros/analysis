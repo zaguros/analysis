{
 "cells": [
  {
   "cell_type": "code",
   "execution_count": null,
   "metadata": {
    "collapsed": false
   },
   "outputs": [],
   "source": [
    "import numpy as np\n",
    "import os.path\n",
    "import pandas\n",
    "import matplotlib\n",
    "import scipy.signal\n",
    "\n",
    "%matplotlib inline\n",
    "import matplotlib as mpl\n",
    "mpl.rcParams['pdf.fonttype'] = 42\n",
    "import matplotlib.pyplot as plt\n",
    "\n",
    "data_dir = \"/Volumes/Diamond/Projects/Purification/Setup/IntStability/16_05_31_InterferometricStability\""
   ]
  },
  {
   "cell_type": "markdown",
   "metadata": {},
   "source": [
    "## Interferometric trace"
   ]
  },
  {
   "cell_type": "code",
   "execution_count": null,
   "metadata": {
    "collapsed": false
   },
   "outputs": [],
   "source": [
    "file_name = \"16_05_31_InterferometricStability.csv\"\n",
    "\n",
    "filename = os.path.join(data_dir,file_name)\n",
    "\n",
    "scope = 'Slow' #TODO Get better scope names\n",
    "\n",
    "if scope == 'Fast':\n",
    "    # To open files from the fast scope (CSV)\n",
    "\n",
    "    file = open(filename)\n",
    "    for x in range(9):\n",
    "            line = file.readline()\n",
    "            if \"HResolution\" in line:\n",
    "                TimeRes = float(line[-18:-1])\n",
    "    file.close()\n",
    "    \n",
    "    subdiv = 1            \n",
    "    data = pandas.read_csv(os.path.join(data_dir,filename),header=None,skiprows = 15)\n",
    "    data = data.drop([0,2],1)\n",
    "    data = data.rolling(window = 100).mean()\n",
    "    data = data.as_matrix()[100:-100:subdiv]\n",
    "    \n",
    "    TimeRes = TimeRes*subdiv\n",
    "    t = TimeRes*np.arange(len(data))\n",
    "    \n",
    "elif scope == 'Slow':\n",
    "    data = pandas.read_csv(os.path.join(data_dir,filename),header=0,skiprows = 0,nrows=1)\n",
    "    TimeRes = data['Increment'][0]\n",
    "\n",
    "    subdiv = 1            \n",
    "    data = pandas.read_csv(os.path.join(data_dir,filename),header=None,skiprows = 2)\n",
    "    data = data.drop([0,2],1)\n",
    "    data = data.rolling(window = 4).mean()\n",
    "    data = data.as_matrix()[100:-100:subdiv]\n",
    "\n",
    "    TimeRes = TimeRes*subdiv\n",
    "    t = TimeRes*np.arange(len(data))\n",
    "\n",
    "\n",
    "NormMax = np.amax(data); NormMin = np.amin(data)\n",
    "data = (np.array(data)-(NormMax+NormMin)/2)*(2./(NormMax-NormMin)) "
   ]
  },
  {
   "cell_type": "code",
   "execution_count": null,
   "metadata": {
    "collapsed": false,
    "scrolled": false
   },
   "outputs": [],
   "source": [
    "fig = plt.figure(figsize=(12, 3))\n",
    "\n",
    "ax = plt.subplot(1,2,1)\n",
    "plt.plot(t,data)\n",
    "plt.xlim([0,12])\n",
    "plt.xlabel('Time (s)')\n",
    "plt.ylabel('Signal (V/V0)')\n",
    "\n",
    "ax = plt.subplot(1,2,2)        \n",
    "plt.plot(t*1e3,data)\n",
    "plt.xlim([0,10])\n",
    "plt.ylim([-1,-0.5])\n",
    "plt.xlabel('Time (ms)')\n",
    "plt.savefig(os.path.join(data_dir,'int_fringes.pdf'))\n",
    "plt.show()\n",
    "\n",
    "plt.close(fig)"
   ]
  },
  {
   "cell_type": "code",
   "execution_count": null,
   "metadata": {
    "collapsed": false
   },
   "outputs": [],
   "source": [
    "freq_pow, power = scipy.signal.welch(data, axis = 0, fs = 1/TimeRes,nperseg = 100000)\n",
    "\n",
    "fig = plt.figure(figsize=(12, 3))\n",
    "\n",
    "ax = plt.subplot(1,2,1)\n",
    "plt.plot(t[::20],data[::20])\n",
    "plt.xlim([0,12])\n",
    "plt.xlabel('Time (s)')\n",
    "plt.ylabel('Signal (V/V0)')\n",
    "\n",
    "ax = plt.subplot(1,2,2)\n",
    "plt.semilogy(freq_pow,power)\n",
    "plt.xlim([0,1500])\n",
    "plt.ylim([1e-7,0.005])\n",
    "plt.xlabel('freq (Hz)')\n",
    "plt.ylabel('Noise power ((V/V0)**2/Hz)')\n",
    "plt.savefig(os.path.join(data_dir,'fringes_and_noise_power.pdf'))"
   ]
  },
  {
   "cell_type": "code",
   "execution_count": null,
   "metadata": {
    "collapsed": false
   },
   "outputs": [],
   "source": [
    "freq_pow, power = scipy.signal.welch(data, axis = 0, fs = 1/TimeRes,nperseg = 100000)\n",
    "\n",
    "fig = plt.figure(figsize=(12, 3))\n",
    "\n",
    "from detect_peaks import detect_peaks\n",
    "\n",
    "peaks = detect_peaks(np.squeeze(power),mpd=3/(freq_pow[1]-freq_pow[0]))\n",
    "peaks = peaks[np.argsort(np.squeeze(power[peaks]))][::-1]\n",
    "peaks = peaks[0:10]\n",
    "\n",
    "for freq,pow in zip(freq_pow[peaks], power[peaks]):\n",
    "    print 'freq: %d, height: %.4f' % (freq, pow)\n",
    "    \n",
    "ax = plt.subplot(1,3,1)\n",
    "plt.plot(freq_pow,power)\n",
    "plt.xlim([0,2000])\n",
    "plt.ylim([0,0.008])\n",
    "plt.xlabel('freq (Hz)')\n",
    "plt.ylabel('Noise power (V**2/Hz)')\n",
    "\n",
    "ax = plt.subplot(1,3,2)\n",
    "        \n",
    "plt.plot(freq_pow,power)\n",
    "plt.xlim([0,1000])\n",
    "plt.ylim([0,0.008])\n",
    "plt.xlabel('freq (Hz)')\n",
    "plt.scatter(freq_pow[peaks],power[peaks],c='r')\n",
    "\n",
    "ax = plt.subplot(1,3,3) \n",
    "plt.plot(freq_pow,power)\n",
    "plt.xlim([0,10])\n",
    "plt.ylim([0,0.8])\n",
    "plt.xlabel('freq (Hz)')\n",
    "\n",
    "\n",
    "plt.show()\n",
    "plt.close(fig)"
   ]
  },
  {
   "cell_type": "code",
   "execution_count": null,
   "metadata": {
    "collapsed": false
   },
   "outputs": [],
   "source": [
    "min_freq = 100\n",
    "max_freq = 1000\n",
    "\n",
    "min_ind = np.argmin(np.abs(freq_pow-min_freq))\n",
    "max_ind = np.argmin(np.abs(freq_pow-max_freq))\n",
    "\n",
    "pow_int = scipy.integrate.trapz(power[min_ind:max_ind],freq_pow[min_ind:max_ind],axis=0)\n",
    "full_pow = scipy.integrate.trapz(power,freq_pow,axis=0)\n",
    "\n",
    "dc_freq = 3\n",
    "dc_ind = np.argmin(np.abs(freq_pow-dc_freq))\n",
    "\n",
    "pow_dc = scipy.integrate.trapz(power[0:dc_ind],freq_pow[0:dc_ind],axis=0)\n",
    "\n",
    "rel_dc_pow = pow_dc/full_pow\n",
    "print 'Relative DC power: %.3f' %rel_dc_pow\n",
    "\n",
    "rel_pow = pow_int/full_pow\n",
    "print 'Relative in-band power: %.3f' %rel_pow\n",
    "\n",
    "rel_band_pow = pow_int/(full_pow-pow_dc)\n",
    "print 'Relative in-band power (minus DC): %.3f' %rel_band_pow\n",
    "\n",
    "print 'Full noise power: %.3e' %full_pow\n",
    "\n",
    "print 'DC noise power: %.3e' %pow_dc\n"
   ]
  },
  {
   "cell_type": "code",
   "execution_count": null,
   "metadata": {
    "collapsed": false
   },
   "outputs": [],
   "source": [
    "freq_bin = 10.\n",
    "min_freq = 3\n",
    "max_freq = 1000\n",
    "\n",
    "freq_rate = freq_pow[1]- freq_pow[0]\n",
    "ind_bin = int(freq_bin/freq_rate)\n",
    "min_ind = np.argmin(np.abs(freq_pow-min_freq))\n",
    "max_ind = np.argmin(np.abs(freq_pow-max_freq))\n",
    "\n",
    "cum_points = np.arange(min_ind,max_ind,ind_bin)\n",
    "\n",
    "cum_freqs = freq_pow[cum_points[1:]]\n",
    "cum_pow = np.zeros(np.shape(cum_freqs))\n",
    "\n",
    "for x in range(len(cum_pow)-1):\n",
    "    cum_pow[x+1] = cum_pow[x] + scipy.integrate.trapz(power[cum_points[x]:cum_points[x+1]],freq_pow[cum_points[x]:cum_points[x+1]],axis=0)\n",
    "\n",
    "cum_pow = cum_pow/(full_pow-pow_dc)\n",
    "\n",
    "fig = plt.figure()\n",
    "ax = plt.subplot() \n",
    "plt.plot(cum_freqs,cum_pow)\n",
    "plt.xlabel('freq (Hz)')\n",
    "plt.ylabel('Integrated noise power (V**2)')\n",
    "\n",
    "plt.show()\n",
    "plt.close(fig)"
   ]
  },
  {
   "cell_type": "markdown",
   "metadata": {},
   "source": [
    "### Just to check, lets do a FFT"
   ]
  },
  {
   "cell_type": "code",
   "execution_count": null,
   "metadata": {
    "collapsed": false
   },
   "outputs": [],
   "source": [
    "### fast fourier transform\n",
    "from scipy.fftpack import fft\n",
    "\n",
    "fft = fft(data,axis=0)\n",
    "freq = np.fft.fftfreq(t.shape[-1],TimeRes)\n",
    "\n",
    "N = len(fft)\n",
    "fft = fft[0:N/2]\n",
    "freq = freq[0:N/2]\n",
    "\n",
    "fig = plt.figure()\n",
    "ax = plt.subplot()\n",
    "        \n",
    "plt.plot(freq,np.abs(fft))\n",
    "plt.xlim([0,1000])\n",
    "plt.ylim([0,10000])\n",
    "plt.show()\n",
    "plt.close(fig)"
   ]
  }
 ],
 "metadata": {
  "kernelspec": {
   "display_name": "Python 2",
   "language": "python",
   "name": "python2"
  },
  "language_info": {
   "codemirror_mode": {
    "name": "ipython",
    "version": 2
   },
   "file_extension": ".py",
   "mimetype": "text/x-python",
   "name": "python",
   "nbconvert_exporter": "python",
   "pygments_lexer": "ipython2",
   "version": "2.7.12"
  }
 },
 "nbformat": 4,
 "nbformat_minor": 0
}
