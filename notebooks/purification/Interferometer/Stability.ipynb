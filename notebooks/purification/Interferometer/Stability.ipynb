{
 "cells": [
  {
   "cell_type": "code",
   "execution_count": null,
   "metadata": {
    "collapsed": true
   },
   "outputs": [],
   "source": [
    "import sys,getopt\n",
    "import os\n",
    "import numpy as np\n",
    "import pandas\n",
    "import matplotlib as mpl\n",
    "mpl.rcParams['pdf.fonttype'] = 42\n",
    "import matplotlib.pyplot as plt\n",
    "%matplotlib inline"
   ]
  },
  {
   "cell_type": "code",
   "execution_count": null,
   "metadata": {
    "collapsed": false
   },
   "outputs": [],
   "source": [
    "### open file / load data\n",
    "\n",
    "data_dir = \"/Volumes/Diamond/Projects/Purification/Setup/IntStability/16_05_31_InterferometricStability\"\n",
    "file_name = \"16_05_31_InterferometricStability.csv\"\n",
    "filename = os.path.join(data_dir,file_name)\n",
    "\n",
    "scope = 'Slow' #TODO Get better scope names\n",
    "\n",
    "if scope == 'Fast':\n",
    "    # To open files from the fast scope (CSV)\n",
    "\n",
    "    file = open(filename)\n",
    "    for x in range(9):\n",
    "            line = file.readline()\n",
    "            if \"HResolution\" in line:\n",
    "                TimeRes = float(line[-18:-1])\n",
    "    file.close()\n",
    "    \n",
    "    subdiv = 1            \n",
    "    data = pandas.read_csv(os.path.join(data_dir,filename),header=None,skiprows = 15)\n",
    "    data = data.drop([0,2],1)\n",
    "    data = data.rolling(window = 100).mean()\n",
    "    vals = data.as_matrix()[100:-100:subdiv]\n",
    "    del data\n",
    "    \n",
    "    TimeRes = TimeRes*subdiv\n",
    "    time_points = TimeRes*np.arange(len(vals))\n",
    "    \n",
    "elif scope == 'Slow':\n",
    "    data = pandas.read_csv(os.path.join(data_dir,filename),header=0,skiprows = 0,nrows=1)\n",
    "    TimeRes = data['Increment'][0]\n",
    "\n",
    "    subdiv = 1            \n",
    "    data = pandas.read_csv(os.path.join(data_dir,filename),header=None,skiprows = 2)\n",
    "    data = data.drop([0,2],1)\n",
    "    data = data.rolling(window = 4).mean()\n",
    "    vals = data.as_matrix()[10:-10:subdiv]\n",
    "    del data\n",
    "    TimeRes = TimeRes*subdiv\n",
    "    time_points = TimeRes*np.arange(len(vals))\n",
    "\n",
    "elif scope == 'LeCroy':\n",
    "    data = pandas.read_csv(os.path.join(data_dir,filename),header=None,skiprows = 5,nrows=1)\n",
    "    \n",
    "    TimeRes = data[1][0]\n",
    "\n",
    "    subdiv = 1            \n",
    "    data = pandas.read_csv(os.path.join(data_dir,filename),header=None,skiprows = 30)\n",
    "    data = data.drop([0,1,2],1)\n",
    "    #data = data.rolling(window = 100).mean()\n",
    "    vals = data.as_matrix()[0:-1:subdiv]\n",
    "    del data\n",
    "    TimeRes = TimeRes*subdiv\n",
    "    time_points = TimeRes*np.arange(len(vals))\n",
    "    "
   ]
  },
  {
   "cell_type": "code",
   "execution_count": null,
   "metadata": {
    "collapsed": false
   },
   "outputs": [],
   "source": [
    "# show data\n",
    "start = 0.04\n",
    "length = 0.05\n",
    "show_all = True\n",
    "fig = plt.figure()\n",
    "ax = plt.subplot()\n",
    "plt.plot(time_points,vals)\n",
    "plt.title(file_name)\n",
    "plt.xlabel('time (s)')\n",
    "plt.ylabel('signal')\n",
    "if not show_all:\n",
    "    plt.xlim([start,start+length])\n",
    "plt.show()\n",
    "\n",
    "plt.close('all')"
   ]
  },
  {
   "cell_type": "code",
   "execution_count": null,
   "metadata": {
    "collapsed": false
   },
   "outputs": [],
   "source": [
    "# Phase deviation after time x (a.k.a. a slice of the allan deviation.)\n",
    "\n",
    "#rescale the data to [0;+1] and take the arccos of those.\n",
    "\n",
    "NormMax = np.amax(vals); NormMin = np.amin(vals)\n",
    "print NormMax\n",
    "print NormMin\n",
    "\n",
    "valsRescaled = (np.array(vals)-NormMin)/(NormMax-NormMin)\n",
    "\n",
    "#take arccos and the sqrt (we measure intensities not amplitudes!) to get the phases out and normalize by pi\n",
    "fig = plt.figure()\n",
    "ax = plt.subplot(2,1,1)\n",
    "plt.plot(time_points,valsRescaled)\n",
    "plt.ylabel(r\"$\\cos(\\theta/2)^2$\")\n",
    "plt.title(file_name)\n",
    "valsRescaled = 2 *np.arccos(valsRescaled)\n",
    "ax = plt.subplot(2,1,2)\n",
    "plt.plot(time_points,valsRescaled)\n",
    "plt.ylabel(r\"$\\theta/\\pi$\")\n",
    "plt.show()\n",
    "plt.close('all')"
   ]
  },
  {
   "cell_type": "code",
   "execution_count": null,
   "metadata": {
    "collapsed": false
   },
   "outputs": [],
   "source": [
    "### check the deviation after x time\n",
    "deltaT = 0.0025 # in seconds\n",
    "deltaSteps = int(deltaT/TimeRes)\n",
    "deviations = []\n",
    "\n",
    "for i,v in enumerate(valsRescaled):\n",
    "    \n",
    "    if i+deltaSteps+1 > len(valsRescaled):\n",
    "        break\n",
    "    deviations.append(v-valsRescaled[i+deltaSteps])\n",
    "    \n",
    "fig = plt.figure()\n",
    "ax = plt.subplot()\n",
    "\n",
    "n, bins, patches = plt.hist(np.array(deviations),21,facecolor = 'g', edgecolor = 'None',normed=False)#,range = [-1,1])\n",
    "plt.title(file_name)\n",
    "plt.xlabel(\"Phase deviation after {:.1f} ms (pi)\".format(deltaT*1e3))\n",
    "plt.ylabel(\"Est. probability\")\n",
    "plt.show()\n",
    "plt.close(\"all\")"
   ]
  },
  {
   "cell_type": "code",
   "execution_count": null,
   "metadata": {
    "collapsed": false,
    "scrolled": false
   },
   "outputs": [],
   "source": [
    "sys.path.append(r'//Users/humphreys/Repositories/')\n",
    "\n",
    "from analysis.lib.fitting import fit, common\n",
    "from analysis.lib.tools import plot\n",
    "fig = plt.figure()\n",
    "ax = plt.subplot()\n",
    "p0, fitfunc, fitfunc_str = common.fit_gauss(0.0, 1, 0,0.2)\n",
    "fit_result = fit.fit1d(bins[:-1],n, None, p0=p0, fitfunc=fitfunc, do_print=True, ret=True,fixed=[0])\n",
    "\n",
    "plot.plot_fit1d(fit_result, np.linspace(-0.5,0.5,201), ax=ax, plot_data=True,color = 'r',add_txt = True, lw = 1)\n",
    "plt.title(file_name)\n",
    "plt.xlabel(\"Phase deviation after {:.1f} ms (pi)\".format(deltaT*1e3))\n",
    "plt.ylabel(\"occurences\")\n",
    "plt.show()\n",
    "plt.close('all')"
   ]
  },
  {
   "cell_type": "code",
   "execution_count": null,
   "metadata": {
    "collapsed": false
   },
   "outputs": [],
   "source": [
    "### Plot the deviation as a function of time\n",
    "\n",
    "deltaT = np.arange(0,20e-3,2e-5)\n",
    "deltaSteps = (deltaT/TimeRes).astype(int)\n",
    "std =  np.zeros(len(deltaSteps))\n",
    "\n",
    "debug = False\n",
    "\n",
    "for x,delSteps in enumerate(deltaSteps):\n",
    "    \n",
    "    if delSteps == 0:\n",
    "        std[x] = 0\n",
    "    else:\n",
    "        deviations = (valsRescaled[delSteps:] - valsRescaled[:-delSteps])\n",
    "        std[x] = np.std(deviations)\n",
    "    \n",
    "    \n",
    "    if debug:\n",
    "        fig = plt.figure()\n",
    "        ax = plt.subplot()\n",
    "        plt.plot(bin_edges[:-1],bins)\n",
    "        plt.scatter([bin_edges[ind_left],bin_edges[ind_right]],[np.max(bins)/2,np.max(bins)/2])\n",
    "        plt.show()\n",
    "        plt.close('all')\n",
    "    \n",
    "#FWHM = FWHM/2.355 #FWHM to standard deviation\n",
    "\n",
    "fig = plt.figure()\n",
    "ax = plt.subplot()\n",
    "plt.plot(deltaT*1e3, std)\n",
    "plt.title(file_name)\n",
    "plt.ylim([0, 1.1*plt.ylim()[1]])\n",
    "plt.xlim([-0.5,plt.xlim()[1]])\n",
    "plt.xlabel(r'Time difference (ms)')\n",
    "plt.ylabel(r'Standard deviation (rad)')\n",
    "plt.savefig(os.path.join(data_dir,'allanDev.pdf'))\n",
    "\n",
    "plt.show()\n",
    "#plt.close('all')"
   ]
  },
  {
   "cell_type": "code",
   "execution_count": null,
   "metadata": {
    "collapsed": false
   },
   "outputs": [],
   "source": [
    "fig = plt.figure()\n",
    "ax = plt.subplot()\n",
    "plt.plot(deltaT*1e3, std)\n",
    "plt.title(file_name)\n",
    "plt.ylim([0, 1.1*plt.ylim()[1]])\n",
    "plt.xlim([-0.5,plt.xlim()[1]])\n",
    "plt.xlabel(r'Time difference (ms)')\n",
    "plt.ylabel(r'Standard deviation (rad)')\n",
    "plt.savefig(os.path.join(data_dir,'allanDev.pdf'))\n",
    "\n",
    "plt.show()"
   ]
  },
  {
   "cell_type": "markdown",
   "metadata": {},
   "source": [
    "Surprising periodicity! Lets do a quick FFT to pull the frequencies"
   ]
  },
  {
   "cell_type": "code",
   "execution_count": null,
   "metadata": {
    "collapsed": false
   },
   "outputs": [],
   "source": [
    "### fast fourier transform\n",
    "from scipy.fftpack import fft\n",
    "\n",
    "fft = fft(FWHM,axis=0)\n",
    "freq = np.fft.fftfreq(deltaT.shape[-1],deltaT[1]-deltaT[0])\n",
    "N = len(fft)\n",
    "fft = np.abs(fft[0:N/2])\n",
    "freq = freq[0:N/2]\n",
    "\n",
    "fig = plt.figure()\n",
    "ax = plt.subplot()\n",
    "        \n",
    "plt.plot(freq,fft)\n",
    "plt.xlim([20,1000])\n",
    "plt.ylim([0,10])\n",
    "\n",
    "\n",
    "from detect_peaks import detect_peaks\n",
    "\n",
    "peaks = detect_peaks(np.squeeze(fft),mpd=3/(freq[1]-freq[0]))\n",
    "peaks = peaks[np.argsort(np.squeeze(fft[peaks]))][::-1]\n",
    "peaks = peaks[0:10]\n",
    "\n",
    "for fre,ff in zip(freq[peaks], fft[peaks]):\n",
    "    print 'freq: %d, height: %.4f' % (fre, ff)\n",
    "    \n",
    "plt.scatter(freq[peaks],fft[peaks],c='r')\n",
    "plt.title(file_name)\n",
    "plt.show()\n",
    "plt.close(fig)"
   ]
  },
  {
   "cell_type": "code",
   "execution_count": null,
   "metadata": {
    "collapsed": true
   },
   "outputs": [],
   "source": []
  }
 ],
 "metadata": {
  "kernelspec": {
   "display_name": "Python 2",
   "language": "python",
   "name": "python2"
  },
  "language_info": {
   "codemirror_mode": {
    "name": "ipython",
    "version": 2
   },
   "file_extension": ".py",
   "mimetype": "text/x-python",
   "name": "python",
   "nbconvert_exporter": "python",
   "pygments_lexer": "ipython2",
   "version": "2.7.12"
  }
 },
 "nbformat": 4,
 "nbformat_minor": 0
}
