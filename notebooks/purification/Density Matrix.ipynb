{
 "cells": [
  {
   "cell_type": "code",
   "execution_count": null,
   "metadata": {
    "collapsed": false
   },
   "outputs": [],
   "source": [
    "execfile(r'D:\\measuring\\analysis\\scripts\\setup_analysis.py')\n",
    "from analysis.lib.purification import purify_pq as ppq; reload(ppq)\n",
    "from analysis.lib.purification import purify_BK as pbk; reload(pbk)\n",
    "from analysis.lib.fitting import fit, common\n",
    "from analysis.lib.pq import pq_tools;reload(pq_tools)\n",
    "from analysis.lib.purification import purify_analysis as pa; reload(pa)\n",
    "%matplotlib inline\n",
    "\n",
    "thetas = ['pi/6']"
   ]
  },
  {
   "cell_type": "code",
   "execution_count": null,
   "metadata": {
    "collapsed": false
   },
   "outputs": [],
   "source": [
    "### get all timestamps!\n",
    "\n",
    "# unshifted_days = ['20160808','20160807','20160722','20160721','20160720','20160808',\\\n",
    "#                   '20160807','20160722','20160724']#,'20160725']# <-- something wrong with tstamp 144023\n",
    "# shifted_days = ['20160811','20160822','20160824']#,'20160823']\n",
    "\n",
    "\n",
    "# all_lt3 , all_lt4 = [],[]\n",
    "# offsets,offsets_ch1 = [],[] # Hold offset to compensate for timing change for new APD\n",
    "# correction_time = 2772.5e3-2791.5e3\n",
    "# start_offset_ch1 = 1.8e3\n",
    "\n",
    "# for d in unshifted_days+shifted_days:\n",
    "#         tstamp_lt3,tstamp_lt4 = Density_Matrix.tstamps_for_both_setups(d,contains = 'Purify')\n",
    "#         #,newest_tstamp = '110000') ### newest timestamp allows for only taking parts of a day.\n",
    "#         all_lt3.extend(tstamp_lt3)\n",
    "#         all_lt4.extend(tstamp_lt4)\n",
    "#         if d in shifted_days:\n",
    "#             print 'shifting ',d\n",
    "#             offsets.extend(np.zeros(np.shape(tstamp_lt3))+ correction_time)\n",
    "#             offsets_ch1.extend(np.zeros(np.shape(tstamp_lt4))+ start_offset_ch1)           \n",
    "#         else:\n",
    "#             offsets.extend(np.zeros(np.shape(tstamp_lt3)))\n",
    "#             offsets_ch1.extend(np.zeros(np.shape(tstamp_lt4)))"
   ]
  },
  {
   "cell_type": "code",
   "execution_count": null,
   "metadata": {
    "collapsed": false
   },
   "outputs": [],
   "source": [
    "vals = []\n",
    "\n",
    "for theta in thetas:\n",
    "    \n",
    "    folder_lt3,folder_lt4 = pa.get_folders_from_theta(theta)\n",
    "    ssro_calib_lt3,ssro_calib_lt4 = pa.get_ssro_calibs()\n",
    "\n",
    "    Density_Matrix = pa.purify_analysis('purification_analysis',folder_lt3,folder_lt4,ssro_calib_lt3,ssro_calib_lt4)\n",
    "    Density_Matrix.get_tstamps_and_offsets(contains = 'Purify')\n",
    "\n",
    "\n",
    "#     ### load the data\n",
    "    Density_Matrix.load_raw_data()\n",
    "    Density_Matrix.correct_pq_times()"
   ]
  },
  {
   "cell_type": "code",
   "execution_count": null,
   "metadata": {
    "collapsed": false
   },
   "outputs": [],
   "source": [
    "### filter parameters\n",
    "# photon_channel = 2 # 0 or 1; 2 means both HH detectors\n",
    "# st_start = 2772.5e3#2763e3\n",
    "# st_len       = 40e3 #50 ns\n",
    "# st_len_w2    = 40e3\n",
    "# ch1_offset = -start_offset_ch1\n",
    "max_reps_w2 = 50"
   ]
  },
  {
   "cell_type": "code",
   "execution_count": null,
   "metadata": {
    "collapsed": false,
    "scrolled": true
   },
   "outputs": [],
   "source": [
    "### apply filters to data\n",
    "Density_Matrix.apply_temporal_filters_to_prefiltered_data()\n",
    "\n",
    "Density_Matrix.apply_sync_filter_w1_w2(verbose = True,max_w2 = max_reps_w2)\n",
    "Density_Matrix.apply_is_purified_filter(signature = '11', verbose = True) \n",
    "Density_Matrix.apply_CR_before_filter(verbose=False)\n",
    "Density_Matrix.apply_CR_after_filter(verbose=False)\n",
    "Density_Matrix.attach_state_filtered_syncs(verbose = False)"
   ]
  },
  {
   "cell_type": "code",
   "execution_count": null,
   "metadata": {
    "collapsed": false
   },
   "outputs": [],
   "source": [
    "### acquire density matrix\n",
    "Density_Matrix.get_DM_correlations(verbose = True,apply_ROC = True)\n",
    "Density_Matrix.reconstruct_DMs(verbose = True,max_likelihood = False)\n",
    "dm_p,dm_p_u,dm_m,dm_m_u=Density_Matrix.reconstruct_DMs(verbose = False,max_likelihood = False)"
   ]
  },
  {
   "cell_type": "code",
   "execution_count": null,
   "metadata": {
    "collapsed": false
   },
   "outputs": [],
   "source": [
    "reload(pa)\n",
    "print dm_p\n",
    "pa.plot_3D_bars(dm_p,dm_u_re = dm_p_u.real,dm_u_im = dm_p_u.imag,name='same_detector')\n",
    "pa.plot_3D_bars(dm_m,dm_u_re = dm_m_u.real,dm_u_im = dm_m_u.imag,name='different_detector')"
   ]
  },
  {
   "cell_type": "code",
   "execution_count": null,
   "metadata": {
    "collapsed": false
   },
   "outputs": [],
   "source": [
    "import numpy as np\n",
    "\n",
    "s1 = np.matrix([[0,1],[1,0]])\n",
    "np.kron(s1,s1)"
   ]
  },
  {
   "cell_type": "code",
   "execution_count": null,
   "metadata": {
    "collapsed": false
   },
   "outputs": [],
   "source": [
    "from mpl_toolkits.mplot3d import Axes3D\n",
    "fig = plt.figure()\n",
    "ax = fig.add_subplot(111, projection='3d')\n",
    "ax.set_title('Real part')\n",
    "ax.bar3d?"
   ]
  },
  {
   "cell_type": "code",
   "execution_count": null,
   "metadata": {
    "collapsed": false
   },
   "outputs": [],
   "source": [
    "a=np.arange(0,4,1)\n",
    "\n",
    "np.meshgrid(a,a)"
   ]
  },
  {
   "cell_type": "code",
   "execution_count": null,
   "metadata": {
    "collapsed": true
   },
   "outputs": [],
   "source": []
  }
 ],
 "metadata": {
  "kernelspec": {
   "display_name": "Python 2",
   "language": "python",
   "name": "python2"
  },
  "language_info": {
   "codemirror_mode": {
    "name": "ipython",
    "version": 2
   },
   "file_extension": ".py",
   "mimetype": "text/x-python",
   "name": "python",
   "nbconvert_exporter": "python",
   "pygments_lexer": "ipython2",
   "version": "2.7.11"
  }
 },
 "nbformat": 4,
 "nbformat_minor": 0
}
