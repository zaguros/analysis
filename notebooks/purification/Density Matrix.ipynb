{
 "cells": [
  {
   "cell_type": "code",
   "execution_count": null,
   "metadata": {
    "collapsed": false
   },
   "outputs": [],
   "source": [
    "execfile(r'D:\\measuring\\analysis\\scripts\\setup_analysis.py')\n",
    "from analysis.lib.purification import purify_pq as ppq; reload(ppq)\n",
    "from analysis.lib.purification import purify_BK as pbk; reload(pbk)\n",
    "from analysis.lib.fitting import fit, common\n",
    "from analysis.lib.pq import pq_tools;reload(pq_tools)\n",
    "from analysis.lib.purification import purify_analysis as pa; reload(pa)\n",
    "%matplotlib inline\n",
    "\n",
    "thetas = ['pi/6']"
   ]
  },
  {
   "cell_type": "code",
   "execution_count": null,
   "metadata": {
    "collapsed": false,
    "scrolled": false
   },
   "outputs": [],
   "source": [
    "vals = []\n",
    "\n",
    "for theta in thetas:\n",
    "    \n",
    "    folder_lt3,folder_lt4 = pa.get_folders_from_theta(theta)\n",
    "    ssro_calib_lt3,ssro_calib_lt4 = pa.get_ssro_calibs()\n",
    "\n",
    "    Density_Matrix = pa.purify_analysis('purification_analysis',folder_lt3,folder_lt4,ssro_calib_lt3,ssro_calib_lt4)\n",
    "    Density_Matrix.get_tstamps_and_offsets(contains = 'Purify',verbose = False)\n",
    "\n",
    "\n",
    "#     ### load the data\n",
    "    Density_Matrix.load_raw_data()\n",
    "    Density_Matrix.correct_pq_times()"
   ]
  },
  {
   "cell_type": "code",
   "execution_count": null,
   "metadata": {
    "collapsed": false
   },
   "outputs": [],
   "source": [
    "### filter parameters\n",
    "max_reps_w2 = 50"
   ]
  },
  {
   "cell_type": "code",
   "execution_count": null,
   "metadata": {
    "collapsed": false,
    "scrolled": true
   },
   "outputs": [],
   "source": [
    "### apply filters to data\n",
    "Density_Matrix.apply_temporal_filters_to_prefiltered_data()\n",
    "Density_Matrix.apply_sync_filter_w1_w2(verbose = True,max_w2 = max_reps_w2)\n",
    "Density_Matrix.apply_is_purified_filter(signature = '11', verbose = True) \n",
    "Density_Matrix.apply_CR_before_filter(verbose=False)\n",
    "Density_Matrix.apply_CR_after_filter(verbose=False)\n",
    "Density_Matrix.attach_state_filtered_syncs(verbose = False)"
   ]
  },
  {
   "cell_type": "code",
   "execution_count": null,
   "metadata": {
    "collapsed": false
   },
   "outputs": [],
   "source": [
    "### acquire density matrix\n",
    "Density_Matrix.get_DM_correlations(verbose = True,apply_ROC = True)\n",
    "Density_Matrix.reconstruct_DMs(verbose = True,max_likelihood = False)\n",
    "dm_p,dm_p_u,dm_m,dm_m_u=Density_Matrix.reconstruct_DMs(verbose = False,max_likelihood = False)"
   ]
  },
  {
   "cell_type": "code",
   "execution_count": null,
   "metadata": {
    "collapsed": false
   },
   "outputs": [],
   "source": [
    "reload(pa)\n",
    "print dm_p\n",
    "pa.plot_3D_bars(dm_p,dm_u_re = dm_p_u.real,dm_u_im = dm_p_u.imag,name='same_detector')\n",
    "pa.plot_3D_bars(dm_m,dm_u_re = dm_m_u.real,dm_u_im = dm_m_u.imag,name='different_detector')"
   ]
  },
  {
   "cell_type": "code",
   "execution_count": null,
   "metadata": {
    "collapsed": false
   },
   "outputs": [],
   "source": [
    "print 'reconstructed DMs'\n",
    "print np.round(dm_p,2)\n",
    "print\n",
    "print np.round(dm_m,2)\n",
    "print 'The statistical uncertainties'\n",
    "print np.round(dm_p_u,2)\n",
    "print\n",
    "print np.round(dm_m_u,2)"
   ]
  },
  {
   "cell_type": "code",
   "execution_count": null,
   "metadata": {
    "collapsed": true
   },
   "outputs": [],
   "source": []
  }
 ],
 "metadata": {
  "kernelspec": {
   "display_name": "Python 2",
   "language": "python",
   "name": "python2"
  },
  "language_info": {
   "codemirror_mode": {
    "name": "ipython",
    "version": 2
   },
   "file_extension": ".py",
   "mimetype": "text/x-python",
   "name": "python",
   "nbconvert_exporter": "python",
   "pygments_lexer": "ipython2",
   "version": "2.7.3"
  }
 },
 "nbformat": 4,
 "nbformat_minor": 0
}
