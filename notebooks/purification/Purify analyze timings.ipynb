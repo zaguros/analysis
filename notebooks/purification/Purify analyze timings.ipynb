{
 "cells": [
  {
   "cell_type": "code",
   "execution_count": null,
   "metadata": {
    "collapsed": false
   },
   "outputs": [],
   "source": [
    "## setup analysis\n",
    "execfile(r'D:\\measuring\\analysis\\scripts\\setup_analysis.py')\n",
    "from analysis.lib.purification import purify_pq as ppq; reload(ppq)\n",
    "from analysis.lib.purification import purify_analysis as pa; reload(pa)\n",
    "%matplotlib inline\n",
    "\n",
    "theta = 'pi/4'\n",
    "\n",
    "folder_lt3,folder_lt4 = pa.get_folders_from_theta(theta)\n",
    "ssro_calib_lt3,ssro_calib_lt4 = pa.get_ssro_calibs()\n",
    "\n",
    "Purify = pa.purify_analysis('purification_analysis',folder_lt3,folder_lt4,ssro_calib_lt3,ssro_calib_lt4)"
   ]
  },
  {
   "cell_type": "code",
   "execution_count": null,
   "metadata": {
    "collapsed": false
   },
   "outputs": [],
   "source": [
    "Purify.get_tstamps_and_offsets(contains = 'Purify', verbose = False)"
   ]
  },
  {
   "cell_type": "code",
   "execution_count": null,
   "metadata": {
    "collapsed": false,
    "scrolled": false
   },
   "outputs": [],
   "source": [
    "thetas =['pi/4','pi/5','pi/6','pi/8']\n",
    "\n",
    "num_first_clicks = np.zeros(len(thetas))\n",
    "total_syncs = np.zeros(len(thetas))\n",
    "entanglement_time = np.zeros(len(thetas))\n",
    "reset_time = np.zeros(len(thetas))\n",
    "store_time = np.zeros(len(thetas))\n",
    "msmt_time = np.zeros(len(thetas))\n",
    "\n",
    "for i, theta in enumerate(thetas):\n",
    "    \n",
    "    folder_lt3,folder_lt4 = pa.get_folders_from_theta(theta)\n",
    "    ssro_calib_lt3,ssro_calib_lt4 = pa.get_ssro_calibs()\n",
    "    Purify = pa.purify_analysis('purification_analysis',folder_lt3,folder_lt4,ssro_calib_lt3,ssro_calib_lt4)\n",
    "    Purify.get_tstamps_and_offsets(contains = 'Purify', verbose = False)\n",
    "    num_first_clicks[i], total_syncs[i], entanglement_time[i], reset_time[i], store_time[i], msmt_time[i] = Purify.calculate_sequence_time(max_w2 = 500,print_details = True, return_click_prob = True)"
   ]
  },
  {
   "cell_type": "code",
   "execution_count": null,
   "metadata": {
    "collapsed": false
   },
   "outputs": [],
   "source": [
    "realpopvals = np.array([0.49214634,  0.39799117,  0.27649945,  0.1760004])\n",
    "total_time =entanglement_time + reset_time + store_time + msmt_time\n",
    "plt.plot(realpopvals,entanglement_time/total_time, label = 'Ent. time')\n",
    "plt.plot(realpopvals,reset_time/total_time, label = 'Reset time')\n",
    "plt.plot(realpopvals,store_time/total_time, label = 'Store time')\n",
    "plt.plot(realpopvals,msmt_time/total_time, label = 'Measurement time')\n",
    "plt.legend(bbox_to_anchor=(1.5, 1.025), loc='upper right', ncol=1)\n",
    "\n",
    "print entanglement_time/total_time"
   ]
  },
  {
   "cell_type": "code",
   "execution_count": null,
   "metadata": {
    "collapsed": false
   },
   "outputs": [],
   "source": [
    "realpopvals = np.array([0.49214634,  0.39799117,  0.27649945,  0.1760004])\n",
    "\n",
    "probs = num_first_clicks/total_syncs\n",
    "\n",
    "fit_result = fit.fit1d(realpopvals, probs,common.fit_line,0,1,fixed = [0])\n",
    "plot.plot_fit1d(fit_result)"
   ]
  },
  {
   "cell_type": "code",
   "execution_count": null,
   "metadata": {
    "collapsed": false
   },
   "outputs": [],
   "source": [
    "b = fit_result['params_dict']['b']\n",
    "error = fit_result['error_dict']['b']\n",
    "print b, error"
   ]
  },
  {
   "cell_type": "markdown",
   "metadata": {
    "collapsed": true
   },
   "source": [
    "## Rate of generating two raw states"
   ]
  },
  {
   "cell_type": "code",
   "execution_count": null,
   "metadata": {
    "collapsed": false
   },
   "outputs": [],
   "source": [
    "#### calculates the generation rate of two raw states. Does not take overhead into account (LDE elements only --> 7 us).\n",
    "reload(pa)\n",
    "thetas =['pi/4','pi/5','pi/6','pi/8']\n",
    "\n",
    "num_two_raw_states = np.zeros(len(thetas))\n",
    "total_syncs = np.zeros(len(thetas))\n",
    "\n",
    "for i, theta in enumerate(thetas):\n",
    "    \n",
    "    folder_lt3,folder_lt4 = pa.get_folders_from_theta(theta)\n",
    "    ssro_calib_lt3,ssro_calib_lt4 = pa.get_ssro_calibs()\n",
    "    Purify = pa.purify_analysis('purification_analysis',folder_lt3,folder_lt4,ssro_calib_lt3,ssro_calib_lt4)\n",
    "    Purify.get_tstamps_and_offsets(contains = 'Purify', verbose = False)\n",
    "    Purify.load_raw_data()\n",
    "    Purify.correct_pq_times()\n",
    "    \n",
    "    Purify.apply_temporal_filters_to_prefiltered_data(verbose=False)\n",
    "    num_two_raw_states[i] += Purify.apply_sync_filter_w1_w2(verbose = True,max_w2 = 50, return_events = True)\n",
    "    \n",
    "    for j in range(len(Purify.lt4_dict['/PQ_sync_number-1'])):\n",
    "        total_syncs[i] += Purify.lt4_dict['/PQ_sync_number-1'][j][-1]"
   ]
  },
  {
   "cell_type": "code",
   "execution_count": null,
   "metadata": {
    "collapsed": false
   },
   "outputs": [],
   "source": [
    "## rate generating two raw states for each superposition angle in Hz\n",
    "num_two_raw_states/(total_syncs*7e-6)\n"
   ]
  },
  {
   "cell_type": "code",
   "execution_count": null,
   "metadata": {
    "collapsed": true
   },
   "outputs": [],
   "source": []
  }
 ],
 "metadata": {
  "kernelspec": {
   "display_name": "Python 2",
   "language": "python",
   "name": "python2"
  },
  "language_info": {
   "codemirror_mode": {
    "name": "ipython",
    "version": 2
   },
   "file_extension": ".py",
   "mimetype": "text/x-python",
   "name": "python",
   "nbconvert_exporter": "python",
   "pygments_lexer": "ipython2",
   "version": "2.7.3"
  }
 },
 "nbformat": 4,
 "nbformat_minor": 0
}
