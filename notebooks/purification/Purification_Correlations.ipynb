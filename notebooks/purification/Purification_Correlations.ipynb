{
 "cells": [
  {
   "cell_type": "markdown",
   "metadata": {},
   "source": [
    "# Load the data"
   ]
  },
  {
   "cell_type": "code",
   "execution_count": null,
   "metadata": {
    "collapsed": false
   },
   "outputs": [],
   "source": [
    "## setup analysis\n",
    "execfile(r'D:\\measuring\\analysis\\scripts\\setup_analysis.py')\n",
    "from analysis.lib.purification import purify_pq as ppq; reload(ppq)\n",
    "from analysis.lib.purification import purify_analysis as pa; reload(pa)\n",
    "%matplotlib inline\n",
    "\n",
    "theta = 'pi/6'\n",
    "bases = 'XX'\n",
    "\n",
    "folder_lt3,folder_lt4 = pa.get_folders_from_theta(theta)\n",
    "ssro_calib_lt3,ssro_calib_lt4 = pa.get_ssro_calibs()\n",
    "\n",
    "Purify_analysis = pa.purify_analysis('purification_analysis',folder_lt3,folder_lt4,ssro_calib_lt3,ssro_calib_lt4)"
   ]
  },
  {
   "cell_type": "code",
   "execution_count": null,
   "metadata": {
    "collapsed": false
   },
   "outputs": [],
   "source": [
    "Purify_analysis.get_tstamps_and_offsets(contains = bases)"
   ]
  },
  {
   "cell_type": "code",
   "execution_count": null,
   "metadata": {
    "collapsed": false
   },
   "outputs": [],
   "source": [
    "Purify_analysis.load_raw_data(verbose = False)\n",
    "Purify_analysis.correct_pq_times()"
   ]
  },
  {
   "cell_type": "code",
   "execution_count": null,
   "metadata": {
    "collapsed": false
   },
   "outputs": [],
   "source": [
    "Purify_analysis.check_tail_w1_w2(st_start = 2772.85e3,st_len = 40e3) #### tail counts\n",
    "Purify_analysis.check_tail_w1_w2(st_start = 2766.85e3,st_len = 6e3)#### pulse counts"
   ]
  },
  {
   "cell_type": "code",
   "execution_count": null,
   "metadata": {
    "collapsed": false
   },
   "outputs": [],
   "source": [
    "### autocorrelation of photon clicks --> do we have huge waiting times in the experiment\n",
    "# reload(pq_plots)\n",
    "# a_lt4 = ppq.purifyPQAnalysis(tb.latest_data(tstamp_lt4[0],folder = folder_lt4))\n",
    "# print a_lt4\n",
    "# pq_plots.plot_autocorrelation_histogram(a_lt4.pqf,start = 0,length = 50e3,binsize=0.1e3)"
   ]
  },
  {
   "cell_type": "markdown",
   "metadata": {},
   "source": [
    "### Filtering and correlations"
   ]
  },
  {
   "cell_type": "code",
   "execution_count": null,
   "metadata": {
    "collapsed": false
   },
   "outputs": [],
   "source": [
    "photon_channel = 2 # 0 or 1; 2 means both HH detectors\n",
    "st_start = 2772.85e3#2763e3\n",
    "st_len       = 40e3 #50 ns\n",
    "st_len_w2    = 40e3\n",
    "max_reps_w2 = 250"
   ]
  },
  {
   "cell_type": "code",
   "execution_count": null,
   "metadata": {
    "collapsed": false,
    "scrolled": false
   },
   "outputs": [],
   "source": [
    "### this window can be used to analyze one of the full timetrace in order to get a feeling for the tail and the windows.\n",
    "### later on all timestamps should be combined to get a clear pikkcture\n",
    "ch1_offset = 0\n",
    "a_lt4 = ppq.purifyPQAnalysis(tb.data_from_time(Purify_analysis.all_lt4[1],folder = folder_lt4))\n",
    "vert0 = st_start/1000. ### start of the first window\n",
    "\n",
    "# BK_analysis.plot_total_histogram(1,st_start-20e3,200e3,1e3,log_plot=True)\n",
    "pq_plots.plot_marker_filter_comparison(a_lt4.pqf,mrkr_chan = 1,start =2767e3,  length = 50e3, hist_binsize = 0.1e3, save = False, log=True,plot_threshold_ch0 =vert0,plot_threshold_ch1 =vert0+ch1_offset*1e-3) #start =7480\n",
    "\n",
    "# pq_plots.plot_marker_filter_comparison(a_lt4.pqf,mrkr_chan = 1,start =1965e3+1000e3,  length = 10e3, hist_binsize = 0.1e3, save = False, log=False,plot_threshold_ch0 =vert1,plot_threshold_ch1 =vert1) #start =7480\n",
    "# pq_plots.plot_photon_hist(b.pqf,start =1965+500,  length = 250, hist_binsize = 1, save = False, log=True) #start =7480"
   ]
  },
  {
   "cell_type": "code",
   "execution_count": null,
   "metadata": {
    "collapsed": false
   },
   "outputs": [],
   "source": [
    "### return the length of events without temporal filter:\n",
    "\n",
    "no_of_events = 0\n",
    "for i in range(len(Purify_analysis.lt3_dict['ssro_results'])):\n",
    "    no_of_events += len(Purify_analysis.lt3_dict['ssro_results'][i])\n",
    "\n",
    "print 'number of unfiltered (temporal and CR) events', no_of_events\n",
    "\n",
    "    \n",
    "### apply temporal filter (see above for filters)\n",
    "#Purify_analysis.filter_CR_after(threshold = 1,verbose = False) ## NOT IMPLEMENTED\n",
    "Purify_analysis.apply_temporal_filters_to_prefiltered_data(st_start = st_start,\n",
    "                                                       st_len = st_len,\n",
    "                                                       st_len_w2 = st_len_w2\n",
    "                                                       )\n",
    "# ch1_offset = ch1_offset NOT IMPLEMENTED"
   ]
  },
  {
   "cell_type": "code",
   "execution_count": null,
   "metadata": {
    "collapsed": false
   },
   "outputs": [],
   "source": [
    "Purify_analysis.apply_sync_filter_w1_w2(verbose = True,max_w2 = max_reps_w2)\n",
    "print 'done with sync filtering'\n",
    "Purify_analysis.apply_is_purified_filter(signature = '11', verbose = True)\n",
    "Purify_analysis.apply_CR_before_filter(verbose=False)\n",
    "Purify_analysis.apply_CR_after_filter(verbose=False)\n",
    "Purify_analysis.apply_phase_correction_reps_filter(valid_reps = np.arange(0,1000,1))\n",
    "Purify_analysis.attach_state_filtered_syncs(verbose = False)"
   ]
  },
  {
   "cell_type": "code",
   "execution_count": null,
   "metadata": {
    "collapsed": false,
    "scrolled": false
   },
   "outputs": [],
   "source": [
    "### applies the time fitlered sync numbers to the adwin RO results of each setup\n",
    "\n",
    "Purify_analysis.correlate_RO_results(verbose = True,apply_ROC = True)"
   ]
  },
  {
   "cell_type": "code",
   "execution_count": null,
   "metadata": {
    "collapsed": false,
    "scrolled": false
   },
   "outputs": [],
   "source": [
    "### correlations vs. window start?\n",
    "\n",
    "Purify_analysis.sweep_filter_parameter_vs_correlations('st_start',np.linspace(2766e3,2779e3,20),apply_ROC = True)"
   ]
  },
  {
   "cell_type": "code",
   "execution_count": null,
   "metadata": {
    "collapsed": false
   },
   "outputs": [],
   "source": [
    "Purify_analysis.sweep_filter_parameter_vs_correlations('st_len',np.linspace(10e3,50e3,30),apply_ROC = True)"
   ]
  },
  {
   "cell_type": "code",
   "execution_count": null,
   "metadata": {
    "collapsed": false
   },
   "outputs": [],
   "source": [
    "Purify_analysis.sweep_filter_parameter_vs_correlations('max_reps_w2',np.arange(20,500,30),apply_ROC = True)"
   ]
  },
  {
   "cell_type": "code",
   "execution_count": null,
   "metadata": {
    "collapsed": false
   },
   "outputs": [],
   "source": [
    "Purify_analysis.sweep_filter_parameter_vs_correlations('max_reps_w1',np.arange(50,1000,50),apply_ROC = True)"
   ]
  },
  {
   "cell_type": "code",
   "execution_count": null,
   "metadata": {
    "collapsed": false
   },
   "outputs": [],
   "source": [
    "Purify_analysis.sweep_filter_parameter_vs_correlations('min_cr_lt4_after',np.arange(0,20,2),apply_ROC = True)"
   ]
  },
  {
   "cell_type": "code",
   "execution_count": null,
   "metadata": {
    "collapsed": false
   },
   "outputs": [],
   "source": [
    "Purify_analysis.sweep_filter_parameter_vs_correlations('min_cr_lt4_before',np.arange(25,33,2),apply_ROC = True)"
   ]
  },
  {
   "cell_type": "code",
   "execution_count": null,
   "metadata": {
    "collapsed": false
   },
   "outputs": [],
   "source": [
    "Purify_analysis.sweep_filter_parameter_vs_correlations('min_cr_lt3_after',np.arange(0,20,2),apply_ROC = True)"
   ]
  },
  {
   "cell_type": "code",
   "execution_count": null,
   "metadata": {
    "collapsed": false
   },
   "outputs": [],
   "source": [
    "Purify_analysis.sweep_filter_parameter_vs_correlations('min_cr_lt3_before',np.arange(20,34,2),apply_ROC = True)"
   ]
  },
  {
   "cell_type": "code",
   "execution_count": null,
   "metadata": {
    "collapsed": false
   },
   "outputs": [],
   "source": [
    "sweep = [np.arange(0,10,1), np.arange(10,20,1), np.arange(20,30,1)]\n",
    "reload(pa)\n",
    "Purify_analysis.sweep_filter_parameter_vs_correlations('valid_reps',sweep,apply_ROC = True)\n"
   ]
  },
  {
   "cell_type": "code",
   "execution_count": null,
   "metadata": {
    "collapsed": false
   },
   "outputs": [],
   "source": [
    "def format_plot(fig,ax):\n",
    "    linewidths = 1.5\n",
    "    textsize = 14\n",
    "    ax.tick_params(labelsize = textsize,width =linewidths)\n",
    "    for axis in ['top','bottom','left','right']:\n",
    "        ax.spines[axis].set_linewidth(linewidths)\n",
    "    ax.yaxis.label.set_size(textsize)\n",
    "    ax.xaxis.label.set_size(textsize)\n",
    "    \n",
    "    \n",
    "def num2str(num, precision): \n",
    "    return \"%0.*f\" % (precision, num)\n",
    "\n",
    "save_plot_folder = r'D:\\measuring\\data\\purification_plots'\n",
    "def save_and_close_plot(f = save_plot_folder, save = False, name = None):\n",
    "\n",
    "    if name == None:\n",
    "        name = 'Results'\n",
    "\n",
    "    if save:\n",
    "        plt.savefig(os.path.join(f,name+'.pdf'),format='pdf',bbox_inches='tight')\n",
    "        plt.savefig(os.path.join(f,name+'.png'),format='png',bbox_inches='tight')\n",
    "\n",
    "    plt.show()\n",
    "    plt.close('all')\n",
    "    \n",
    "def plot_parity_results(corr,err=np.array([0,0]),events = np.array([0,0]),state = 'parity_mixed'):\n",
    "\n",
    "\n",
    "    fig = plt.figure()\n",
    "    ax = plt.subplot()\n",
    "    plt.ylabel('Expectation value')\n",
    "    # plt.title('Corrected')\n",
    "    plt.bar(np.arange(0,3), np.squeeze(np.asarray(corr)), yerr=err, align = 'center',\n",
    "            color = '#436CDE',linewidth = 1.5,error_kw=dict(lw = 1.5,capthick=1.5))\n",
    "    for k in range(3):\n",
    "        plt.text(k,0.02, num2str(np.squeeze(np.asarray(corr))[k],2), ha = 'center')\n",
    "#         plt.text(k,err[k]+corr[k]+0.02, num2str(np.squeeze(np.asarray(events))[k],0), ha = 'center')\n",
    "\n",
    "\n",
    "    plt.ylim([-0.7,0.7])\n",
    "    plt.xticks([0,1,2], ['<XX>','<YY>','<ZZ>'])\n",
    "    ax.set_xlim(-0.6,2.6)\n",
    "    format_plot(fig,ax)\n",
    "    plt.axhline(0,lw=1.5,color = 'black')\n",
    "    ax.tick_params(top = 'off',bottom = 'off')\n",
    "    save_and_close_plot(save = True,name = 'Entangled_state_minus')\n",
    "    \n"
   ]
  },
  {
   "cell_type": "code",
   "execution_count": null,
   "metadata": {
    "collapsed": false
   },
   "outputs": [],
   "source": [
    "### XX probabilities values:\n",
    "XX_p = [ 0.02194542,  0.44107568,  0.33391541,  0.20306349]\n",
    "XX_p_u = [ 0.01780569,  0.0419028,   0.03794178,  0.03850672]\n",
    "\n",
    "### YY probabilities values:\n",
    "YY_p = [ 0.11730046,  0.32593922,  0.3906194,   0.16614093]\n",
    "YY_p_u = [ 0.0338351,   0.04349794,  0.04302538,  0.03916723]\n",
    "\n",
    "### ZZ probabiliteis values:\n",
    "ZZ_p = [ 0.33517993,  0.20705804,  0.08719132,  0.37057072]\n",
    "ZZ_p_u = [ 0.04734693,  0.04289617,  0.03567978,  0.04477041]\n",
    "\n",
    "\n",
    "### calculate expectation values\n",
    "YY = (YY_p[0]+YY_p[3]-0.5)*2\n",
    "YY_u = np.sqrt(YY_p_u[0]**2+YY_p_u[3]**2)*2\n",
    "ZZ = (ZZ_p[0]+ZZ_p[3]-0.5)*2\n",
    "ZZ_u = np.sqrt(ZZ_p_u[0]**2+ZZ_p_u[3]**2)*2\n",
    "XX = (XX_p[0]+XX_p[3]-0.5)*2\n",
    "XX_u = np.sqrt(XX_p_u[0]**2+XX_p_u[3]**2)*2\n",
    "\n",
    "plot_parity_results(np.array([XX,YY,ZZ]),err = np.array([XX_u,YY_u,ZZ_u]))"
   ]
  },
  {
   "cell_type": "code",
   "execution_count": null,
   "metadata": {
    "collapsed": true
   },
   "outputs": [],
   "source": []
  }
 ],
 "metadata": {
  "kernelspec": {
   "display_name": "Python 2",
   "language": "python",
   "name": "python2"
  },
  "language_info": {
   "codemirror_mode": {
    "name": "ipython",
    "version": 2
   },
   "file_extension": ".py",
   "mimetype": "text/x-python",
   "name": "python",
   "nbconvert_exporter": "python",
   "pygments_lexer": "ipython2",
   "version": "2.7.3"
  }
 },
 "nbformat": 4,
 "nbformat_minor": 0
}
