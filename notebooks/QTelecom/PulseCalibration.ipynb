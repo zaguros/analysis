{
 "cells": [
  {
   "cell_type": "code",
   "execution_count": null,
   "metadata": {
    "collapsed": false
   },
   "outputs": [],
   "source": [
    "execfile (\"D:/measuring/analysis/scripts/setup_analysis.py\")\n",
    "\n",
    "import os, sys \n",
    "from os import listdir \n",
    "from os.path import isfile, join \n",
    "import numpy as np \n",
    "import matplotlib.pyplot as plt \n",
    "import h5py\n",
    "from analysis.lib.tools import toolbox\n",
    "\n",
    "from analysis.lib.fitting import fit, common\n",
    "\n",
    "%matplotlib inline \n",
    "\n",
    "# folder = r'D:\\measuring\\analysis_data\\telecom\\HOM\\SIL3\\LT3_early_data\\20161208'\n",
    "# folder = r'D:\\measuring\\analysis_data\\telecom\\HOM\\SIL2'\n",
    "# folder = r'D:\\measuring\\analysis_data\\telecom\\HOM\\SIL3\\LT3 without magnet'\n",
    "# folder = r'D:\\measuring\\analysis_data\\telecom\\HOM\\SIL3\\LT3 disting'\n",
    "# folder = r'D:\\measuring\\analysis_data\\telecom\\HOM\\SIL3\\LT3_noMag_InvalidData_LowRepump_OtherPulsePath_Ey_highstrain'\n",
    "# folder = r'D:\\measuring\\analysis_data\\telecom\\HOM\\SIL3\\LT3_noMag_InvalidData_v2'\n",
    "# folder = r'D:\\measuring\\analysis_data\\telecom\\HOM\\SIL3\\LT3_SIL3_Ex_noMag'\n",
    "# folder = r'D:\\measuring\\analysis_data\\telecom\\HOM\\SIL3\\LT3_lessPulses_moreReps_lowStrain_v2'\n",
    "# folder = r'D:\\measuring\\analysis_data\\telecom\\HOM\\SIL3\\20170210_Ex_highstrain_15_50reps'\n",
    "# folder = r'D:\\measuring\\analysis_data\\telecom\\HOM\\SIL3\\20170211_Ey_lowstrain_15_50reps'\n",
    "# folder = r'D:\\measuring\\analysis_data\\telecom\\HOM\\SIL3\\20170214_Ex_highstrain_15optpi_200reps'\n",
    "# folder = r'D:\\measuring\\analysis_data\\telecom\\HOM\\LT4\\20170225_LT4_Ex_2p5GHzStrSplit_15optpi_100reps20'\n",
    "# folder = r'D:\\measuring\\analysis_data\\telecom\\HOM\\LT4\\20170228_LT4_PulseOnly_15optpi_100reps'\n",
    "# folder = r'D:\\measuring\\analysis_data\\telecom\\HOM\\LT4\\20170228_LT4_PulseOnly_SwappedFibres_15optpi_100reps'\n",
    "# folder = r'D:\\measuring\\analysis_data\\telecom\\HOM\\LT4\\20170301_LT4_PulseOnly_1APDDisc_15optpi_100reps'\n",
    "# folder = r'D:\\measuring\\analysis_data\\telecom\\HOM\\LT4\\20170301_LT4_PulseOnly_1APDDisc_BetterRej'\n",
    "# folder = r'D:\\measuring\\analysis_data\\telecom\\HOM\\LT4\\20170301_LT4_PulseOnly_PoorRej'\n",
    "# folder = r'D:\\measuring\\analysis_data\\telecom\\HOM\\LT4\\20170301_LT4_PulseOnly_PoorRej_OtherAPDDisc'\n",
    "# folder = r'D:\\measuring\\analysis_data\\telecom\\HOM\\LT4\\20170301_LT4_PulseOnly_PoorRej_NoSplitter'\n",
    "folder = r'D:\\measuring\\data\\20170403\\100825_PQ_single_click_ent_111no2_SIL2_TPQI'\n",
    "\n",
    "from analysis.lib.pq import pq_tools\n",
    "reload(pq_tools)"
   ]
  },
  {
   "cell_type": "code",
   "execution_count": null,
   "metadata": {
    "collapsed": false
   },
   "outputs": [],
   "source": [
    "# fps=tb.get_all_msmt_filepaths(folder = folder)\n",
    "fp = tb.latest_data()\n",
    "pqf = pq_tools.pqf_from_fp(fps[0], rights = 'r+')\n",
    "print fps"
   ]
  },
  {
   "cell_type": "code",
   "execution_count": null,
   "metadata": {
    "collapsed": false,
    "scrolled": false
   },
   "outputs": [],
   "source": [
    "# pq_tools.get_photon_hist(pqf, start = 0, length = 3e6, hist_binsize = 10)\n",
    "\n",
    "start = 2350e3\n",
    "length = 450e3\n",
    "hist_binsize = 1000\n",
    "fig, (ax0, ax1) = pq_tools.plot_photon_hist(pqf, start = start, length = length, hist_binsize = hist_binsize, ret = 'subplots')\n",
    "plt.sca(ax0)\n",
    "plt.axvline(x = 3232e3,c='#2ca02c')\n",
    "ax0.set_yscale('log')"
   ]
  },
  {
   "cell_type": "code",
   "execution_count": null,
   "metadata": {
    "collapsed": false
   },
   "outputs": [],
   "source": [
    "fig, ax = plt.subplots(1,1, figsize=(12,8))\n",
    "\n",
    "\n",
    "filepaths = tb.get_all_msmt_filepaths(folder)\n",
    "pqf = h5py.File(filepaths[0],'r')\n",
    "(h0, b0), (h1, b1) = pq_tools.get_photon_hist(pqf, start = start , length = length, hist_binsize = hist_binsize, ret='subplots')\n",
    "h1 = np.append(h1, h1[-1])\n",
    "plt.plot(b1,h1)\n",
    "# print h1\n",
    "\n",
    "a=[0,1]\n",
    "j=0\n",
    "n = int(length/hist_binsize)\n",
    "\n",
    "for i in range(0,n):\n",
    "    if h1[i]>1000 and h1[i]>h1[i+1] and h1[i]>h1[i-1]:\n",
    "        a[j] = b1[i]\n",
    "        j+=1  \n",
    "print a[j-1]-a[j-2]        \n",
    "\n",
    "\n",
    "# posn2 = fit_result['params_dict']['x0']\n",
    "\n",
    "# print 'Difference in ns is ', (posn1 - posn2)/1e3\n",
    "\n",
    "for k in range(1,10):\n",
    "    (h0, b0), (h1, b1) = pq_tools.get_photon_hist(pqf, start = start , length = length, hist_binsize = hist_binsize, ret='subplots')\n",
    "    h1 = np.append(h1, h1[-1])\n",
    "#     plt.plot(b1,h1)\n",
    "    a=[0,1]\n",
    "    j=0\n",
    "    n = int(length/hist_binsize)\n",
    "    for i in range(0,n):\n",
    "        if h1[i]>1000 and h1[i]>h1[i+1] and h1[i]>h1[i-1]:\n",
    "            a[j] = b1[i]\n",
    "            j+=1  \n",
    "    print a[j-1]-a[j-2]  \n",
    "    start+=500e3"
   ]
  },
  {
   "cell_type": "markdown",
   "metadata": {},
   "source": [
    "## Check delay time"
   ]
  },
  {
   "cell_type": "code",
   "execution_count": null,
   "metadata": {
    "collapsed": false,
    "scrolled": false
   },
   "outputs": [],
   "source": [
    "def xcorr(a,v):\n",
    "            \n",
    "    xaxis = np.arange(len(a)) - len(a)/2\n",
    "    return xaxis,np.correlate(np.array(a)-np.mean(a),np.array(v)-np.mean(v),'same')\n",
    "\n",
    "delay=range(0,10)\n",
    "start = 2350e3\n",
    "\n",
    "for k in range(0,10):\n",
    "    (h0, b0), (h1, b1) = pq_tools.get_photon_hist(pqf,start = start, length = length, hist_binsize = hist_binsize)\n",
    "\n",
    "    xaxis,xcorr01_shifted=xcorr(h1,h1)\n",
    "    xaxis = (b1[1]-b1[0])*xaxis\n",
    "    fig, (ax0) = plt.subplots(figsize=(12,4))\n",
    "    plt.plot(xaxis,xcorr01_shifted)\n",
    "    plt.show()\n",
    "    plt.close('all')\n",
    "    xzero_ind = np.argmin(abs(xaxis))\n",
    "    i = np.argmax(abs(xcorr01_shifted[xzero_ind+2:]))\n",
    "    delay[k] = xaxis[xzero_ind+i]\n",
    "    print 'Delay is ', delay[k]\n",
    "    start+=500e3\n",
    "    \n",
    "av_delay = np.mean(delay)\n",
    "print av_delay\n",
    "\n"
   ]
  },
  {
   "cell_type": "markdown",
   "metadata": {
    "collapsed": true
   },
   "source": [
    "## Add up all the files"
   ]
  },
  {
   "cell_type": "code",
   "execution_count": null,
   "metadata": {
    "collapsed": false,
    "scrolled": false
   },
   "outputs": [],
   "source": [
    "#pq_tools.get_photon_hist(pqf, start = 0, length = 3e6, hist_binsize = 10)\n",
    "fps=tb.get_all_msmt_filepaths(folder = folder)\n",
    "\n",
    "first_file = True\n",
    "\n",
    "for fp in fps:\n",
    "    pqf = pq_tools.pqf_from_fp(fp, rights = 'r+')\n",
    "\n",
    "    start = 3200e3\n",
    "    length = 50e3\n",
    "    \n",
    "    (h0, b0), (h1, b1) = pq_tools.get_photon_hist(pqf,start = start, length = length, hist_binsize = 200)\n",
    "    if first_file:\n",
    "        h0s = h0\n",
    "        h1s = h1\n",
    "        first_file = False\n",
    "    else:\n",
    "        h0s += h0\n",
    "        h1s += h1\n",
    "\n",
    "fig, (ax0, ax1) = plt.subplots(2,1, figsize=(12,8))\n",
    "# ax0.plot(b0[:-1],h0s)\n",
    "# ax0.set_yscale('linear')\n",
    "ax1.plot(b1[:-1],h1s)\n",
    "ax1.set_yscale('log')"
   ]
  },
  {
   "cell_type": "markdown",
   "metadata": {},
   "source": [
    "How many clicks are we talking about?"
   ]
  },
  {
   "cell_type": "code",
   "execution_count": null,
   "metadata": {
    "collapsed": false
   },
   "outputs": [],
   "source": [
    "from analysis.lib.purification import purify_pq as ppq; reload(ppq)\n",
    "from analysis.lib.purification import purify_BK as pbk; reload(pbk)\n",
    "from analysis.lib.m2.ssro import pqsequence as pqs; reload(pqs)\n",
    "from analysis.lib.pq import pq_tools;reload(pq_tools)\n",
    "%matplotlib inline\n",
    "from analysis.lib.fitting import fit, common\n",
    "\n",
    "def check_tail(st_start,st_len, start_offset_ch1):\n",
    "\n",
    "   \n",
    "    filepaths_primary = tb.get_all_msmt_filepaths(folder,pattern = 'TPQI')\n",
    "\n",
    "    last_sync = 0\n",
    "    tail_w1_1 = 0\n",
    "    tail_w1_2 = 0\n",
    "    \n",
    "    # print filepaths\n",
    "    for i,fp in enumerate(filepaths_primary):\n",
    "\n",
    "        fp = os.path.split(fp)[0]\n",
    "\n",
    "        a_lt4 = pqs.PQSequenceAnalysis(fp)\n",
    "\n",
    "        ### analysis for channel 0  && window 1\n",
    "        w1_ch0 = get_total_number_of_clicks_in_window(a_lt4,0,st_start,st_len)\n",
    "        w1_ch1 = get_total_number_of_clicks_in_window(a_lt4,1,st_start,st_len,start_offset_ch1)\n",
    "        if a_lt4.pqf['/PQ_sync_number-1'].shape != (0,):\n",
    "            last_sync += a_lt4.pqf['/PQ_sync_number-1'][-1]\n",
    "            tail_w1_1 += (1e4)*float(w1_ch0)\n",
    "\n",
    "            tail_w1_2 += (1e4)*float(w1_ch1)\n",
    "\n",
    "            \n",
    "        a_lt4.finish()\n",
    "\n",
    "    return tail_w1_1/last_sync, tail_w1_2/last_sync\n",
    "            \n",
    "def get_total_number_of_clicks_in_window(a,channel,st_start,st_len,offset = 0):\n",
    "            \n",
    "        is_ph = pq_tools.get_photons(a.pqf)[channel]\n",
    "        clicks = a.pqf['/PQ_sync_time-1'].value[np.where(is_ph)] + offset\n",
    "        bins = np.arange(st_start-.5,st_start+st_len,1e3)\n",
    "        y,x=np.histogram(clicks, bins=bins)\n",
    "        x=x[:-1]\n",
    "        # print 'Total clicks:', np.sum(y)\n",
    "\n",
    "        return np.sum(y)\n",
    "\n",
    "start = 3220e3\n",
    "length = 50e3\n",
    "\n",
    "starts = np.linspace(start,start+20e3,20)\n",
    "tails1 = []\n",
    "tails2 = []\n",
    "for startt in starts:\n",
    "    tail1,tail2 = check_tail(startt,length,-1.6e3)\n",
    "    tails1.append(tail1)\n",
    "    tails2.append(tail2)\n",
    "    \n",
    "fig, ax = plt.subplots()\n",
    "plt.plot(starts/1e3,tails1)\n",
    "plt.plot(starts/1e3,tails2)\n",
    "ax.set_xlabel('Window start time (ns)')\n",
    "ax.set_ylabel('Tail counts (1e-4)')"
   ]
  },
  {
   "cell_type": "code",
   "execution_count": null,
   "metadata": {
    "collapsed": true
   },
   "outputs": [],
   "source": []
  }
 ],
 "metadata": {
  "kernelspec": {
   "display_name": "Python 2",
   "language": "python",
   "name": "python2"
  },
  "language_info": {
   "codemirror_mode": {
    "name": "ipython",
    "version": 2
   },
   "file_extension": ".py",
   "mimetype": "text/x-python",
   "name": "python",
   "nbconvert_exporter": "python",
   "pygments_lexer": "ipython2",
   "version": "2.7.3"
  }
 },
 "nbformat": 4,
 "nbformat_minor": 0
}
