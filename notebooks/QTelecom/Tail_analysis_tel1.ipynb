{
 "cells": [
  {
   "cell_type": "code",
   "execution_count": null,
   "metadata": {
    "collapsed": false
   },
   "outputs": [],
   "source": [
    "execfile (\"D:/measuring/analysis/scripts/setup_analysis.py\")\n",
    "\n",
    "import os, sys \n",
    "from os import listdir \n",
    "from os.path import isfile, join \n",
    "import numpy as np \n",
    "import matplotlib.pyplot as plt \n",
    "import h5py\n",
    "from analysis.lib.tools import toolbox\n",
    "\n",
    "from analysis.lib.fitting import fit, common\n",
    "\n",
    "%matplotlib inline \n",
    "\n",
    "\n",
    "\n",
    "from analysis.lib.pq import pq_tools\n",
    "reload(pq_tools)"
   ]
  },
  {
   "cell_type": "code",
   "execution_count": null,
   "metadata": {
    "collapsed": false
   },
   "outputs": [],
   "source": [
    "folder=tb.latest_data('TPQI')\n",
    "print folder\n",
    "h5filepath = toolbox.measurement_filename(folder)\n",
    "#h5mode=kw.get('hdf5_mode', 'r')\n",
    "pqf = h5py.File(h5filepath,'r')"
   ]
  },
  {
   "cell_type": "code",
   "execution_count": null,
   "metadata": {
    "collapsed": false,
    "scrolled": false
   },
   "outputs": [],
   "source": [
    "#pq_tools.get_photon_hist(pqf, start = 0, length = 3e6, hist_binsize = 10)\n",
    "pq_tools.plot_photon_hist(pqf, start = 2900, length = 200, hist_binsize = 1)"
   ]
  },
  {
   "cell_type": "code",
   "execution_count": null,
   "metadata": {
    "collapsed": false
   },
   "outputs": [],
   "source": [
    "pq_binsize_ns = 1e-3\n",
    "start_ns = 2444.5 + 198\n",
    "hist_binsize_ns = 0.2\n",
    "tail_length_ns = 40\n",
    "reps = 50000\n",
    "syncs_per_sweep = 50\n",
    "sync_nrs=pqf['/PQ_sync_number-1'].value\n",
    "# syncs_per_sweep = 1\n",
    "# reps = sync_nrs[-1]\n",
    "\n",
    "\n",
    "sweep_pts = [0.1, 0.15833333, 0.21666667, 0.275, 0.33333333, 0.39166667, 0.45,0.50833333, 0.56666667, 0.625, 0.68333333, 0.74166667, 0.8]\n",
    "sweep_pts = [0.1]\n",
    "is_ph = pq_tools.get_photons(pqf)[0]\n",
    "sweep_length = len(sweep_pts)\n",
    "sweep_idxs=np.mod(np.floor((sync_nrs-1)/syncs_per_sweep),sweep_length)\n",
    " \n",
    "sync_time_ns = pqf['/PQ_sync_time-1'].value * pq_binsize_ns\n",
    "hist_bins = np.arange(start_ns-hist_binsize_ns*.5,start_ns+1*tail_length_ns+hist_binsize_ns,hist_binsize_ns)\n",
    "tail_hist_h=np.zeros((sweep_length,len(hist_bins)-1))\n",
    "\n",
    "st_fltr = (start_ns  <= sync_time_ns) &  (sync_time_ns< (start_ns + tail_length_ns))\n",
    "print sum(sync_time_ns)\n",
    "valid_tail_idxs = sweep_idxs[np.where(is_ph & st_fltr)]\n",
    "tail_cts_per_sweep_idx=np.zeros(sweep_length)\n",
    "\n",
    "for sweep_idx in range(sweep_length):\n",
    "            tail_cts_per_sweep_idx[sweep_idx]= \\\n",
    "                                float(len(np.where(valid_tail_idxs==sweep_idx)[0])) / (reps*syncs_per_sweep/sweep_length)\n",
    "            tail_hist_h[sweep_idx], tail_hist_b = \\\n",
    "                                np.histogram(sync_time_ns[np.where(is_ph & (sweep_idxs == sweep_idx))], \n",
    "                                             bins=hist_bins)\n",
    "                \n",
    "\n",
    "\n",
    "print 'total_photons in channel', 0, ':', len(sync_time_ns[np.where(is_ph)])  \n",
    "print 'total_photons in window:', len(sync_time_ns[np.where(is_ph & st_fltr)]) \n",
    "print 'total_sweeps in window:', len(valid_tail_idxs) \n",
    "print 'total ph in window with sweep element 0:', len(np.where(valid_tail_idxs==0)[0])\n",
    "print 'div factor:', (reps*syncs_per_sweep/sweep_length)"
   ]
  },
  {
   "cell_type": "code",
   "execution_count": null,
   "metadata": {
    "collapsed": false,
    "scrolled": false
   },
   "outputs": [],
   "source": [
    "fig = plt.figure(figsize = (6,4))\n",
    "ax = fig.add_subplot(1, 1, 1)\n",
    "\n",
    "y_err=np.sqrt(tail_cts_per_sweep_idx)/np.sqrt((reps*syncs_per_sweep/sweep_length))\n",
    "ax.errorbar(sweep_pts, tail_cts_per_sweep_idx*1e4, fmt='o',yerr=y_err*1e4)\n",
    "  \n",
    "ax.set_xlabel('aom_amplitude')\n",
    "ax.set_ylabel('Tail counts per shot * 10^-4')\n",
    "\n",
    "log_plot = True\n",
    "fig = plt.figure(figsize = (6,4))\n",
    "ax = fig.add_subplot(1, 1, 1)\n",
    "\n",
    "xx=tail_hist_b[:-1]\n",
    "yy=np.sum(tail_hist_h, axis=0)\n",
    "if log_plot:\n",
    "    ax.semilogy(xx,yy,'-', color = 'k')\n",
    "else:\n",
    "    ax.plot(xx,yy)\n",
    "#ax.colorbar()\n",
    "ax.set_xlabel('Time after sync [ns]')\n",
    "ax.set_ylabel('Counts')\n"
   ]
  },
  {
   "cell_type": "markdown",
   "metadata": {},
   "source": [
    "## Check delay time"
   ]
  },
  {
   "cell_type": "code",
   "execution_count": null,
   "metadata": {
    "collapsed": false,
    "scrolled": false
   },
   "outputs": [],
   "source": [
    "def xcorr(a,v):\n",
    "            \n",
    "    xaxis = np.arange(len(a)) - len(a)/2\n",
    "    return xaxis,np.correlate(np.array(a)-np.mean(a),np.array(v)-np.mean(v),'same')\n",
    "\n",
    "(h0, b0), (h1, b1) = pq_tools.get_photon_hist(pqf,start = 2900, length = 600, hist_binsize = 1.0)\n",
    "\n",
    "xaxis,xcorr01_shifted=xcorr(h1,h1)\n",
    "xaxis = (b0[1]-b0[0])*xaxis\n",
    "fig, (ax0) = plt.subplots(figsize=(12,4))\n",
    "plt.plot(xaxis,xcorr01_shifted)\n",
    "plt.show()\n",
    "plt.close('all')\n",
    "xzero_ind = np.argmin(abs(xaxis-10))\n",
    "i = np.argmax(xcorr01_shifted[xzero_ind:])\n",
    "print 'Delay is ', xaxis[xzero_ind+i]\n",
    "\n",
    "\n",
    "xaxis,xcorr01_shifted=xcorr(h0,h1)\n",
    "xaxis = (b0[1]-b0[0])*xaxis\n",
    "fig, (ax0) = plt.subplots(figsize=(12,4))\n",
    "plt.plot(xaxis,xcorr01_shifted)\n",
    "plt.show()\n",
    "plt.close('all')\n",
    "i = np.argmax(xcorr01_shifted)\n",
    "print 'Delay is ', xaxis[i]"
   ]
  },
  {
   "cell_type": "code",
   "execution_count": null,
   "metadata": {
    "collapsed": false,
    "scrolled": true
   },
   "outputs": [],
   "source": [
    "is_phot0, is_phot1 = pq_tools.get_photons(pqf)\n",
    "sync_time = pqf['/PQ_sync_time-1'].value\n",
    "\n",
    "_fltr0 = is_phot0\n",
    "_fltr1 = is_phot1\n",
    "\n",
    "st0 = sync_time[_fltr0]\n",
    "st1 = sync_time[_fltr1]\n",
    "\n",
    "\n",
    "print st0[:5]/1000\n",
    "#fltr = pq_tools.filter_synctimes(pqf, )"
   ]
  },
  {
   "cell_type": "code",
   "execution_count": null,
   "metadata": {
    "collapsed": false
   },
   "outputs": [],
   "source": [
    "print valid_tail_idxs[:10]"
   ]
  },
  {
   "cell_type": "code",
   "execution_count": null,
   "metadata": {
    "collapsed": true
   },
   "outputs": [],
   "source": []
  },
  {
   "cell_type": "code",
   "execution_count": null,
   "metadata": {
    "collapsed": true
   },
   "outputs": [],
   "source": []
  },
  {
   "cell_type": "code",
   "execution_count": null,
   "metadata": {
    "collapsed": false
   },
   "outputs": [],
   "source": [
    "execfile(r'D:\\measuring\\analysis\\scripts\\setup_analysis.py')\n",
    "folder=tb.latest_data('red_tail')\n",
    "#folder=tb.data_from_time('20140707172303')\n",
    "#folder=r'D:\\measuring\\data\\20140519\\192030_Bell_lt3_tailS_The111no2_SIL1_Ey_+11deg'\n",
    "name = 'ssro'\n",
    "a = pqsequence.TailAnalysis(folder, hdf5_mode='r')#, pq_folder='bs_remote')\n",
    "#a.fix_sweep_pts('Pulse Amplitude', 'eom_pulse_amplitude')\n",
    "#a.get_sweep_pts()\n",
    "a.sweep_pts = range(13)#a.g.attrs['aom_amplitude']\n",
    "a.sweep_name=''\n",
    "#a.get_sweep_idxs(noof_syncs_per_sweep_pt=250)\n",
    "#a.get_readout_results(name)\n",
    "a.get_tail_vs_sweep(0,5378,140, pq_binsize_ns=1e-3, hist_binsize_ns=0.1,verbose=True)\n",
    "#a.get_tail_vs_sweep(0,5380.5,100, pq_binsize_ns=1, hist_binsize_ns=1,verbose=True)"
   ]
  },
  {
   "cell_type": "raw",
   "metadata": {},
   "source": [
    "save=True\n",
    "a.plot_tail_cts_vs_sweep(save=save)\n",
    "a.plot_tail_hists_vs_sweep(save=save)\n",
    "a.plot_tail_hist_integated(save=save, log_plot=True)\n",
    "a.plot_tail_hist_all(save=save, log_plot=True, offset=0, indices=[0,-1])"
   ]
  },
  {
   "cell_type": "code",
   "execution_count": null,
   "metadata": {
    "collapsed": false
   },
   "outputs": [],
   "source": [
    "from analysis.lib.fitting import fit, common, rabi\n",
    "from analysis.lib.tools import plot\n",
    "fig, ax = plt.subplots(1,1, figsize=(4.5,4))\n",
    "fs=zeros(a.sweep_length)\n",
    "taus = zeros(a.sweep_length)\n",
    "for i in range(a.sweep_length):\n",
    "    x=a.tail_hist_b[:-1]        \n",
    "    y=a.tail_hist_h[i]\n",
    "    fit_result = fit.fit1d(x, y, rabi.fit_rabi_damped_exp_with_offset, \n",
    "            1/5.,1000,0,10., x[0], ret = True, color = 'r', linewidth = 2.0)\n",
    "    fs[i] = fit_result['params_dict']['f']\n",
    "    taus[i] = fit_result['params_dict']['tau']\n",
    "    plot.plot_fit1d(fit_result, np.linspace(x[0],x[-1],201), ax=ax,\n",
    "        plot_data=True, print_info=False)\n",
    "fig, ax = plt.subplots(1,1, figsize=(4.5,4))\n",
    "#print taus, fs\n",
    "ax.plot(a.sweep_pts, fs)\n",
    "fig, ax = plt.subplots(1,1, figsize=(4.5,4))\n",
    "ax.plot(a.sweep_pts, taus)\n"
   ]
  },
  {
   "cell_type": "code",
   "execution_count": null,
   "metadata": {
    "collapsed": false
   },
   "outputs": [],
   "source": [
    "a.get_cr_results(name)\n",
    "a.plot_cr_vs_sweep()"
   ]
  },
  {
   "cell_type": "code",
   "execution_count": null,
   "metadata": {
    "collapsed": false
   },
   "outputs": [],
   "source": [
    "execfile(r'D:\\measuring\\analysis\\scripts\\setup_analysis.py')\n",
    "folder=tb.latest_data('Bell')\n",
    "#folder=tb.data_from_time('20140609183154')\n",
    "#folder=r'D:\\measuring\\data\\20140519\\192030_Bell_lt3_tailS_The111no2_SIL1_Ey_+11deg'\n",
    "name = 'ssro'\n",
    "a = pqsequence.TailAnalysis(folder, hdf5_mode='r', pq_folder='bs_remote')\n",
    "a.reps=200000\n",
    "a.plot_histogram(0,start=5.370e6, length=500000, hist_binsize=100, save=False, log_plot=False)"
   ]
  },
  {
   "cell_type": "code",
   "execution_count": null,
   "metadata": {
    "collapsed": false
   },
   "outputs": [],
   "source": [
    "from analysis.lib.pq import pq_tools\n",
    "reload(pq_tools)"
   ]
  },
  {
   "cell_type": "code",
   "execution_count": null,
   "metadata": {
    "collapsed": false
   },
   "outputs": [],
   "source": [
    "fltr0=pq_tools.filter_synctimes(a.pqf, 5371.5e3, 5397e3,15,600e3)\n",
    "fltr1=pq_tools.filter_synctimes(a.pqf, 5374e3, 5399.5e3,15,600e3)\n",
    "cs=pq_tools.get_coincidences(a.pqf, fltr0, fltr1)\n",
    "dts_ns = cs[:,0]*1e-3\n",
    "len(cs)"
   ]
  },
  {
   "cell_type": "code",
   "execution_count": null,
   "metadata": {
    "collapsed": false
   },
   "outputs": [],
   "source": [
    "binsize=10\n",
    "G2_BINEDGES = arange(-19000,19000,binsize)\n",
    "#G2_BINEDGES = np.hstack((arange(-700,-500,binsize),arange(-100,100,binsize),arange(500,700,binsize)))\n",
    "#print G2_BINEDGES\n",
    "figure(figsize=(20,5))\n",
    "b_=hist(dts_ns, bins=G2_BINEDGES)"
   ]
  },
  {
   "cell_type": "code",
   "execution_count": null,
   "metadata": {
    "collapsed": false
   },
   "outputs": [],
   "source": []
  }
 ],
 "metadata": {
  "kernelspec": {
   "display_name": "Python 2",
   "language": "python",
   "name": "python2"
  },
  "language_info": {
   "codemirror_mode": {
    "name": "ipython",
    "version": 2
   },
   "file_extension": ".py",
   "mimetype": "text/x-python",
   "name": "python",
   "nbconvert_exporter": "python",
   "pygments_lexer": "ipython2",
   "version": "2.7.3"
  }
 },
 "nbformat": 4,
 "nbformat_minor": 0
}
