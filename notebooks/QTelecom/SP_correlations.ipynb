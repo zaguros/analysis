{
 "cells": [
  {
   "cell_type": "code",
   "execution_count": null,
   "metadata": {
    "collapsed": false
   },
   "outputs": [],
   "source": [
    "execfile(r'D:\\measuring\\analysis\\scripts\\setup_analysis.py')\n",
    "from analysis.lib.purification import purify_pq as ppq; reload(ppq)\n",
    "%matplotlib inline\n",
    "\n",
    "is_TH_measurement = False\n",
    "\n",
    "is_Tel_Phot = True\n",
    "# folder=tb.latest_data('lt3_SPCORR')\n",
    "\n",
    "if is_TH_measurement:\n",
    "    folder=tb.latest_data('SPCorrs_PSB')\n",
    "else:\n",
    "    folder=tb.latest_data('SPCorrs_ZPL')\n",
    "     \n",
    "print 'folder :', folder\n",
    "\n",
    "name = 'ssro'\n",
    "a = ppq.purifyPQAnalysis(folder, hdf5_mode='r')#, pq_folder='bs_remote')"
   ]
  },
  {
   "cell_type": "code",
   "execution_count": null,
   "metadata": {
    "collapsed": false,
    "scrolled": false
   },
   "outputs": [],
   "source": [
    "reload(pq_plots)\n",
    "if is_TH_measurement:\n",
    "    pq_plots.plot_photon_hist(a.pqf,start =3000,  length = 800, hist_binsize = 1, save = False, log=True) #start =7480\n",
    "#     pq_plots.plot_photon_hist(a.pqf,start =0+TH_Ch1_offset_ns,  length = 3100, hist_binsize = 1, save = False, log=True) #start =7480\n",
    "elif is_Tel_Phot:\n",
    "    pq_plots.plot_marker_filter_comparison(\n",
    "    a.pqf,start = 3920e3,mrkr_chan = 1,#,2.41E6,#+0.5e6,  \n",
    "    length = 100e3, \n",
    "    hist_binsize = 1e3, \n",
    "    save = False, \n",
    "    log=False)\n",
    "else:\n",
    "    pq_plots.plot_marker_filter_comparison(\n",
    "    a.pqf,start = 3770e3,mrkr_chan = 1,#,2.41E6,#+0.5e6,  \n",
    "    length = 600e3, \n",
    "    hist_binsize = 1e3, \n",
    "    save = False, \n",
    "    log=True)"
   ]
  },
  {
   "cell_type": "code",
   "execution_count": null,
   "metadata": {
    "collapsed": false
   },
   "outputs": [],
   "source": [
    "sp_lt = a.pqf['/PQ_special-1'].value # Special: marker channel\n",
    "ch_lt = a.pqf['/PQ_channel-1'].value # Channel: photon channel\n",
    "sn_lt = a.pqf['/PQ_sync_number-1'].value # Sync number: the number of the last sync signal\n",
    "st_lt = a.pqf['/PQ_sync_time-1'].value # Sync time: time that has passed since the last sync signal\n",
    "#tt_lt = a.pqf['/PQ_time-1'].value "
   ]
  },
  {
   "cell_type": "code",
   "execution_count": null,
   "metadata": {
    "collapsed": false
   },
   "outputs": [],
   "source": [
    "photon_channel = 1 # 0 or 1; 2 means both HH detectors   # psb doen't work if the PLU was active\n",
    "\n",
    "if is_TH_measurement:\n",
    "    st_start = 3070\n",
    "    st_len       = 30 #50 ns\n",
    "    st_len_w2    = 30\n",
    "    p_sep        = 200 #XXX why has this changed?\n",
    "elif is_Tel_Phot:\n",
    "    st_start = 3941e3\n",
    "    st_len       = 10e3 #50 ns\n",
    "    st_len_w2    = 10e3\n",
    "    p_sep        = 2*190e3 #XXX why has this changed?\n",
    "else:\n",
    "    st_start = 3780e3\n",
    "    st_len       = 20e3 #50 ns\n",
    "    st_len_w2    = 20e3\n",
    "    p_sep        = 200e3 #XXX why has this changed?"
   ]
  },
  {
   "cell_type": "code",
   "execution_count": null,
   "metadata": {
    "collapsed": false
   },
   "outputs": [],
   "source": [
    "### filter the PQ data: Return an array which is True at each position where an event was in a window\n",
    "if (photon_channel == 0) or (photon_channel == 1):\n",
    "    st_fltr_w1 = (ch_lt == photon_channel)  & (st_lt > st_start)  & (st_lt < (st_start  + st_len)) & (sp_lt ==0)\n",
    "    st_fltr_w2 = (ch_lt == photon_channel)  & (st_lt > st_start + p_sep)  & (st_lt < (st_start + p_sep + st_len_w2)) & (sp_lt ==0)\n",
    "else:\n",
    "    st_fltr_w1 = (st_lt > st_start)  & (st_lt < (st_start  + st_len)) & (sp_lt == 0)\n",
    "    st_fltr_w2 = (st_lt > st_start + p_sep)  & (st_lt < (st_start + p_sep + st_len_w2)) & (sp_lt == 0)\n",
    "#fltr_ro    = (sp_lt == 0) & (ch_lt == ro_channel)  & (st_lt > ro_start)  & (st_lt < (ro_start  + ro_length))   \n",
    "print len(sn_lt[st_fltr_w1])\n",
    "print len(sn_lt[st_fltr_w2])"
   ]
  },
  {
   "cell_type": "code",
   "execution_count": null,
   "metadata": {
    "collapsed": false
   },
   "outputs": [],
   "source": [
    "### filter the adwin RO data according to the now filtered pq data\n",
    "noof_reps = len(np.unique(sn_lt))\n",
    "\n",
    "adwin_filter_w1 = a.filter_adwin_data_from_pq_syncs(sn_lt[st_fltr_w1])\n",
    "adwin_filter_w2 = a.filter_adwin_data_from_pq_syncs(sn_lt[st_fltr_w2])\n",
    "noof_reps2= a.agrp['completed_reps'].value*a.g.attrs['LDE1_attempts']\n",
    "noof_w1_ro0 = np.sum(a.agrp['ssro_results'].value[adwin_filter_w1[0]])\n",
    "noof_w2_ro0 = np.sum(a.agrp['ssro_results'].value[adwin_filter_w2[0]])\n",
    "#print len(a.filter_adwin_data_from_pq_syncs(st_fltr_w1)[1]), len(a.filter_adwin_data_from_pq_syncs(st_fltr_w2)[1])\n",
    "    \n",
    "\n",
    "w1_sn = sn_lt[st_fltr_w1]\n",
    "w2_sn = sn_lt[st_fltr_w2]\n",
    "noof_w1 = np.sum(st_fltr_w1)\n",
    "noof_w2 = np.sum(st_fltr_w2)\n",
    "\n",
    "print noof_w1,noof_w2"
   ]
  },
  {
   "cell_type": "code",
   "execution_count": null,
   "metadata": {
    "collapsed": false
   },
   "outputs": [],
   "source": [
    "print noof_reps,noof_reps2, noof_w1_ro0, noof_w2_ro0, noof_w1, noof_w2\n",
    "print 'missed syncs', float(noof_reps)/noof_reps2\n",
    "print 'tail_cts', float(noof_w1+noof_w2)/noof_reps2*1e4\n",
    "print \"RO's\", noof_w1_ro0,noof_w2_ro0"
   ]
  },
  {
   "cell_type": "code",
   "execution_count": null,
   "metadata": {
    "collapsed": false
   },
   "outputs": [],
   "source": [
    "reload(ppq)\n",
    "### load ssro!\n",
    "ssro_calib_folder  = tb.latest_data('SSROCalib')\n",
    "ro_time = a.agrp.attrs['E_RO_durations'][0]\n",
    "print a.agrp.attrs['E_RO_durations'][0]\n",
    "print ssro_calib_folder\n",
    "trans = None # 'msm1'# only refers to ms1 states! see the function get_analysed_ssro_calibration. ('msm1' for ssro_mwinit.py) \n",
    "ssro_fids = ppq.get_analysed_ssro_calibration(ssro_calib_folder,e_transition = trans, readout_time = ro_time)\n",
    "print ssro_fids"
   ]
  },
  {
   "cell_type": "code",
   "execution_count": null,
   "metadata": {
    "collapsed": false,
    "scrolled": false
   },
   "outputs": [],
   "source": [
    "# P_ms1 generally stands for the probability to measure ms=1\n",
    "# P_photon is the probability for getting a photon\n",
    "win1_P_photon = float(noof_w1_ro0)/noof_w1\n",
    "u_win1_P_photon = np.sqrt(win1_P_photon * (1.-win1_P_photon)/noof_w1)\n",
    "\n",
    "win2_P_photon = float(noof_w2_ro0)/noof_w2\n",
    "u_win2_P_photon = np.sqrt(win2_P_photon * (1.-win2_P_photon)/noof_w2)\n",
    "print noof_w1_ro0, noof_w1\n",
    "print win1_P_photon,win2_P_photon, u_win1_P_photon, u_win2_P_photon\n",
    "fig, (ax, ax_corr) = plt.subplots(1,2, figsize=(11,4),\n",
    "                              sharex=True, sharey=True)\n",
    "\n",
    "### uncorrected for e-SSRO\n",
    "ax.bar(range(2), [win1_P_photon, win2_P_photon], color=['r', 'r'],\n",
    "       align='center', yerr=[u_win1_P_photon, u_win2_P_photon], ecolor='k',\n",
    "       width=0.8)\n",
    "\n",
    "ax.set_xlim(-0.5,1.5)\n",
    "ax.set_ylim(-0.05, 1.15)\n",
    "\n",
    "ax.set_ylabel('P ($m_s =\\, 0$)')\n",
    "\n",
    "ax.set_xticks([0,1])\n",
    "ax.set_xticklabels(['Photon in 1st window \\n ({})'.format(noof_w1),\n",
    "                    'Photon in 2nd window \\n ({})'.format(noof_w2)])\n",
    "ax.axvline(0.5, c='k', ls='--')\n",
    "ax.axhline(0, c='k', ls=':')\n",
    "ax.axhline(1, c='k', ls=':')\n",
    "\n",
    "ax.text(0, win1_P_photon + 0.05, \"{:.1f} $\\pm$ {:.1f} %\".format(win1_P_photon*100, u_win1_P_photon*100),\n",
    "        va='bottom', ha='center',\n",
    "        bbox = {'facecolor' : 'white', 'alpha' : 0.5})\n",
    "ax.text(1, win2_P_photon + 0.05, \"{:.1f} $\\pm$ {:.1f} %\".format(win2_P_photon*100, u_win2_P_photon*100),\n",
    "        va='bottom', ha='center',\n",
    "        bbox = {'facecolor' : 'white', 'alpha' : 0.5})\n",
    "ax.set_title('Uncorrected readout')\n",
    "\n",
    "### corrected for e-SSRO\n",
    "win1_P0, u_win1_P0 = roc.single_qubit_outcome_with_ROC_from_fraction(win1_P_photon, u_win1_P_photon, \n",
    "                                                                     *ssro_fids)\n",
    "win2_P0, u_win2_P0 = roc.single_qubit_outcome_with_ROC_from_fraction(win2_P_photon, u_win2_P_photon,\n",
    "                                                                     *ssro_fids)\n",
    "\n",
    "ax_corr.bar(range(2), [win1_P0, win2_P0], color=['b','b'],\n",
    "       align='center', yerr=[u_win1_P0, u_win2_P0], ecolor='k',\n",
    "       width=0.8)\n",
    "ax_corr.axvline(0.5, c='k', ls='--')\n",
    "ax_corr.axhline(0, c='k', ls=':')\n",
    "ax_corr.axhline(1, c='k', ls=':')\n",
    "\n",
    "ax_corr.text(0, win1_P0 + 0.05, \"{:.1f} $\\pm$ {:.1f} %\".format(win1_P0*100, u_win1_P0*100),\n",
    "        va='bottom', ha='center',\n",
    "        bbox = {'facecolor' : 'white', 'alpha' : 0.5})\n",
    "ax_corr.text(1, win2_P0 + 0.05, \"{:.1f} $\\pm$ {:.1f} %\".format(win2_P0*100, u_win2_P0*100),\n",
    "        va='bottom', ha='center',\n",
    "        bbox = {'facecolor' : 'white', 'alpha' : 0.5})\n",
    "ax_corr.set_title('Corrected readout \\n '+a.timestamp)\n",
    "fig.savefig(os.path.join(folder, 'Spin-photon_correlations.png'))"
   ]
  },
  {
   "cell_type": "code",
   "execution_count": null,
   "metadata": {
    "collapsed": false
   },
   "outputs": [],
   "source": [
    "hist(st_lt[fltr_ro][np.in1d(ro0_sn,w2_sn)])"
   ]
  },
  {
   "cell_type": "code",
   "execution_count": null,
   "metadata": {
    "collapsed": false
   },
   "outputs": [],
   "source": [
    "print 'PSB SP corr from date : {}'.format(tb.get_plot_title_from_folder(folder)[:15])\n",
    "print '\\tTail counts : {:.1f} '. format(float(noof_w1+noof_w2)/noof_reps2*1e4)\n",
    "print '\\tRatio of photons detected in w1/w2 : {:.1f} %'.format(np.float(noof_w1)/noof_w2*100)\n",
    "print '\\tUncorrected readout : W1 : {:.1f} +/- {:.1f} % & W2 : {:.1f} +/- {:.1f} %'.format(win1_P_photon*100, u_win1_P_photon*100,win2_P_photon*100, u_win2_P_photon*100)\n",
    "print '\\tCorrected readout : W1 : {:.1f} +/- {:.1f} % & W2 : {:.1f} +/- {:.1f} %'.format(win1_P0*100, u_win2_P0*100,win2_P0*100, u_win2_P0*100)\n",
    "if win1_P_photon*100 <2.5 and win2_P_photon*100>93.5 and np.float(noof_w1)/noof_w2*100 > 94 and np.float(noof_w1)/noof_w2*100<106:\n",
    "    print 'all thresholds (93.5 and 2.5 and 94:106) are met.'\n",
    "else:\n",
    "    print 'threasholds are NOT met. Compare to threshold: 93.5 and 2.5 and 94:106'"
   ]
  },
  {
   "cell_type": "code",
   "execution_count": null,
   "metadata": {
    "collapsed": true
   },
   "outputs": [],
   "source": []
  },
  {
   "cell_type": "code",
   "execution_count": null,
   "metadata": {
    "collapsed": true
   },
   "outputs": [],
   "source": []
  },
  {
   "cell_type": "code",
   "execution_count": null,
   "metadata": {
    "collapsed": true
   },
   "outputs": [],
   "source": []
  }
 ],
 "metadata": {
  "kernelspec": {
   "display_name": "Python 2",
   "language": "python",
   "name": "python2"
  },
  "language_info": {
   "codemirror_mode": {
    "name": "ipython",
    "version": 2
   },
   "file_extension": ".py",
   "mimetype": "text/x-python",
   "name": "python",
   "nbconvert_exporter": "python",
   "pygments_lexer": "ipython2",
   "version": "2.7.3"
  }
 },
 "nbformat": 4,
 "nbformat_minor": 0
}
