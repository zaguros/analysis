{
 "cells": [
  {
   "cell_type": "code",
   "execution_count": null,
   "metadata": {
    "collapsed": false
   },
   "outputs": [],
   "source": [
    "%matplotlib inline\n",
    "import os\n",
    "import numpy as np\n",
    "filepath='D:/measuring'\n",
    "import scipy.signal\n",
    "os.chdir(filepath)\n"
   ]
  },
  {
   "cell_type": "code",
   "execution_count": null,
   "metadata": {
    "collapsed": false,
    "scrolled": true
   },
   "outputs": [],
   "source": [
    "import analysis.scripts.cavity.oscilloscope_analysis_linewidth as oscillo_ana"
   ]
  },
  {
   "cell_type": "code",
   "execution_count": null,
   "metadata": {
    "collapsed": false,
    "scrolled": true
   },
   "outputs": [],
   "source": [
    "\n",
    "# Parameters for\n",
    "\n",
    "#g_x02 = 0.02\n",
    "# g_gamma2 = 0.002\n",
    "\n",
    "nr_datafiles = 9\n",
    "\n",
    "linewidths = np.zeros((nr_datafiles,2))\n",
    "\n",
    "reload(oscillo_ana)\n",
    "\n",
    "for i in np.arange(nr_datafiles):\n",
    "    fixed =[]#[0,1,2,5]\n",
    "    \n",
    "    g_a1 = 0.002\n",
    "    g_A1 = 0.00004\n",
    "    g_x01 = 0.002\n",
    "    g_gamma1 = 0.0001\n",
    "    g_dx = 0.0015\n",
    "    g_A2 = 0.00002\n",
    "    \n",
    "    if i == 2:\n",
    "        g_gamma1 = 0.0035\n",
    "    indir='D:\\measuring\\data/20160430\\OFF_diamond'#'D:\\measuring\\data/20160430\\OFF_diamond'\n",
    "    filename='OFFD00'+str(i)\n",
    "    linewidth, u_linewidth = oscillo_ana.plot_and_fit(indir, filename,\n",
    "                                                      g_a1, g_A1, g_x01, g_gamma1, g_dx, g_A2,fixed=fixed)\n",
    "    print linewidth, u_linewidth\n",
    "    linewidths[i,0]= linewidth\n",
    "    linewidths[i,1] = u_linewidth\n",
    "print linewidths\n",
    "\n",
    "f = open(os.path.join(indir,'linewidth_data.txt'), 'w')\n",
    "np.savetxt(f,linewidths)\n",
    "f.close()"
   ]
  },
  {
   "cell_type": "code",
   "execution_count": null,
   "metadata": {
    "collapsed": false
   },
   "outputs": [],
   "source": [
    "reload(oscillo_ana)"
   ]
  },
  {
   "cell_type": "code",
   "execution_count": null,
   "metadata": {
    "collapsed": false
   },
   "outputs": [],
   "source": [
    "f.close()"
   ]
  },
  {
   "cell_type": "code",
   "execution_count": null,
   "metadata": {
    "collapsed": true
   },
   "outputs": [],
   "source": []
  }
 ],
 "metadata": {
  "kernelspec": {
   "display_name": "Python 2",
   "language": "python",
   "name": "python2"
  },
  "language_info": {
   "codemirror_mode": {
    "name": "ipython",
    "version": 2
   },
   "file_extension": ".py",
   "mimetype": "text/x-python",
   "name": "python",
   "nbconvert_exporter": "python",
   "pygments_lexer": "ipython2",
   "version": "2.7.3"
  }
 },
 "nbformat": 4,
 "nbformat_minor": 0
}
