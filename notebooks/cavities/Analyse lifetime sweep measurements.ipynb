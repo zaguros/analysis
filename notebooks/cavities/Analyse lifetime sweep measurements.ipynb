{
 "cells": [
  {
   "cell_type": "code",
   "execution_count": null,
   "metadata": {
    "collapsed": false
   },
   "outputs": [],
   "source": [
    "execfile('d:/measuring/analysis/scripts/setup_analysis.py')\n",
    "%matplotlib inline\n"
   ]
  },
  {
   "cell_type": "code",
   "execution_count": null,
   "metadata": {
    "collapsed": false
   },
   "outputs": [],
   "source": [
    "def fit_lifetime(t,cts,g_tau=10.5,t_start = 200,t_stop=300,do_plot=False,name='',fit_double=False):\n",
    "    g_a = 0\n",
    "    g_A = 600\n",
    "    g_tau = g_tau\n",
    "    g_tau2 = 18.5\n",
    "    fixed=[]\n",
    "    i_start = np.argmin(abs(t-t_start))\n",
    "    i_stop = np.argmin(abs(t-t_stop))\n",
    "    if fit_double:\n",
    "        p0, fitfunc, fitfunc_str = common.fit_double_exp_decay_with_offset(g_a,g_A,g_tau,g_A,g_tau)\n",
    "    else:\n",
    "        p0, fitfunc, fitfunc_str = common.fit_exp_decay_with_offset(g_a,g_A,g_tau)\n",
    "    fit_res=fit.fit1d(t[i_start:i_stop]-t[i_start],cts[i_start:i_stop], fitmethod=None,p0=p0,fixed=fixed, fitfunc=fitfunc, fitfunc_str=fitfunc_str,do_print=False)\n",
    "    if fit_double:\n",
    "        try:\n",
    "            tau=fit_res['params_dict']['tau']\n",
    "            u_tau =fit_res['error_dict']['tau']\n",
    "            tau2= fit_res['params_dict']['tau2']\n",
    "            u_tau2 = fit_res['error_dict']['tau2']\n",
    "        except:\n",
    "            tau=0\n",
    "            u_tau=0\n",
    "            tau2=0\n",
    "            u_tau2=0\n",
    "    else:\n",
    "        try:\n",
    "            tau= fit_res['params_dict']['tau']\n",
    "            u_tau = fit_res['error_dict']['tau']\n",
    "        except:\n",
    "            tau=0\n",
    "            u_tau=0\n",
    "#     print fit_res['fitfunc'](t)\n",
    "    if do_plot:\n",
    "        ax = plot.plot_fit1d(fit_res,print_info=False, ret='ax')\n",
    "        ax.set_title(folder+'_'+name)\n",
    "        ax.set_yscale('log')\n",
    "        ax.text((max(t[i_start:i_stop])-t[i_start])/2,max(cts[i_start:i_stop])/2+1,'tau = %.1f +- %.1f ns'%(tau,u_tau),color='c')\n",
    "        if fit_double:\n",
    "            ax.text((max(t[i_start:i_stop])-t[i_start])/2,max(cts[i_start:i_stop])/3+1,'tau2 = %.1f +- %.1f ns'%(tau2,u_tau2),color='c')\n",
    "\n",
    "        ax.set_ylim(min(cts[i_start:i_stop]),max(cts[i_start:i_stop])*1.1)\n",
    "        ax.set_xlabel('time (ns)')\n",
    "        ax.set_ylabel('cts')\n",
    "#         plt.savefig(os.path.join(folder,'fit_lifetime_'+name+'.png'))\n",
    "        plt.show()\n",
    "        plt.close()\n",
    "    if fit_double:\n",
    "        return tau,u_tau,tau2,u_tau2\n",
    "    return tau,u_tau"
   ]
  },
  {
   "cell_type": "code",
   "execution_count": null,
   "metadata": {
    "collapsed": false
   },
   "outputs": [],
   "source": [
    "folder= tb.latest_data(contains='Measurement_GiuseppeII_ZPL')\n",
    "print folder\n",
    "a = m2.M2Analysis(folder)\n",
    "\n",
    "lt_grp = a.g['qutau']\n",
    "t_ZPL_raw = lt_grp['t_ZPL'].value\n",
    "t_PSB_raw = lt_grp['t_PSB'].value\n",
    "cts_ZPL_raw =lt_grp['cts_ZPL'].value\n",
    "cts_PSB_raw =lt_grp['cts_PSB'].value\n",
    "tot_msmt_times = lt_grp['tot_msmt_times'].value\n",
    "tot_syncs = lt_grp['tot_nrs_syncs'].value#np.ones(len(sweep_points))*1.e6*10#\n",
    "\n",
    "print np.shape(t_ZPL_raw)\n",
    "print np.shape(t_PSB_raw)\n",
    "print np.shape(cts_ZPL_raw)\n",
    "\n",
    "print tot_msmt_times\n",
    "print sum(cts_ZPL_raw)\n",
    "# print float(sum(cts_ZPL_raw)/float(tot_syncs))\n",
    "print 'cr rate sync', tot_syncs/tot_msmt_times, 'Hz'"
   ]
  },
  {
   "cell_type": "code",
   "execution_count": null,
   "metadata": {
    "collapsed": false
   },
   "outputs": [],
   "source": [
    "plt.plot(t_ZPL_raw, cts_ZPL_raw)"
   ]
  },
  {
   "cell_type": "code",
   "execution_count": null,
   "metadata": {
    "collapsed": false
   },
   "outputs": [],
   "source": [
    "lifetime= False\n",
    "nr_bins =a.g.attrs['nr_bins']#9#\n",
    "print nr_bins\n",
    "sweep_points = a.g.attrs['sweep_points']\n",
    "nr_sweep_points=4#len(sweep_points)\n",
    "print np.shape(t_PSB_raw)\n",
    "print np.shape(cts_PSB_raw)\n",
    "print nr_sweep_points*nr_bins\n",
    "\n",
    "nr_extra_bins = 20\n",
    "qutau_tb=8.1e-11\n",
    "qutau_counter_bins=2\n",
    "total_binsize=qutau_tb*qutau_counter_bins*nr_extra_bins\n",
    "print 'binsize:', total_binsize*1.e9, 'ns'\n",
    "\n",
    "\n",
    "t_ZPL = np.reshape(t_ZPL_raw, (nr_sweep_points,nr_bins))\n",
    "cts_ZPL = np.reshape(cts_ZPL_raw, (nr_sweep_points,nr_bins))\n",
    "\n",
    "t_ZPLCut = t_ZPL[:,len(t_ZPL[0,:])%nr_extra_bins:]\n",
    "cts_ZPLCut = cts_ZPL[:,len(t_ZPL[0,:])%nr_extra_bins:]\n",
    "\n",
    "t_ZPLBinned = np.mean(t_ZPLCut.reshape(nr_sweep_points,-1,nr_extra_bins), axis=2)\n",
    "cts_ZPLBinned =np.mean(cts_ZPLCut.reshape(nr_sweep_points,nr_bins/nr_extra_bins, nr_extra_bins), axis=2)\n",
    "\n",
    "t_ZPL = t_ZPLBinned\n",
    "cts_ZPL=cts_ZPLBinned\n",
    "t_PSB = np.reshape(t_PSB_raw, (nr_sweep_points,nr_bins))\n",
    "cts_PSB = np.reshape(cts_PSB_raw, (nr_sweep_points,nr_bins))\n",
    "\n",
    "#print cts_ZPL[i]\n",
    "# print len(cts_ZPL[1])\n",
    "\n",
    "if lifetime:\n",
    "    fig,ax = plt.subplots()\n",
    "    ax.plot(t_PSB[0],cts_PSB[0])\n",
    "    ax.set_yscale('log')\n",
    "# ax.set_xlim(0,270)\n",
    "# ax.set_ylim(1000,max(cts_PSB[0]))\n",
    "\n",
    "for i in np.arange(nr_sweep_points):\n",
    "    print 'total cts ZPL', sum(cts_ZPL_raw)\n",
    "    print 'cr rate sync', tot_syncs/tot_msmt_times, 'Hz'\n",
    "    fig,ax = plt.subplots()\n",
    "    ax.plot(t_ZPL[i],cts_ZPL[i])\n",
    "#     ax.set_xlim(0,100)\n",
    "    ax.set_xlabel('ns')\n",
    "    ax.set_ylabel('counts')\n",
    "    plt.show()\n",
    "\n",
    "    # fig,ax = plt.subplots()\n",
    "# ax.plot(t_ZPLBinned[0],cts_ZPLBinned[0])\n",
    "# # ax.set_yscale('log')\n",
    "# plt.show()\n"
   ]
  },
  {
   "cell_type": "code",
   "execution_count": null,
   "metadata": {
    "collapsed": false
   },
   "outputs": [],
   "source": [
    "tau_ZPL=np.zeros(len(sweep_points))\n",
    "tau2_ZPL=np.zeros(len(sweep_points))\n",
    "tau_PSB=np.zeros(len(sweep_points))\n",
    "tau2_PSB=np.zeros(len(sweep_points))\n",
    "u_tau2_ZPL=np.zeros(len(sweep_points))\n",
    "u_tau_ZPL=np.zeros(len(sweep_points))\n",
    "u_tau_PSB=np.zeros(len(sweep_points))\n",
    "u_tau2_PSB=np.zeros(len(sweep_points))\n",
    "countspershot_ZPL=np.zeros(len(sweep_points))\n",
    "countspershot_PSB=np.zeros(len(sweep_points))\n",
    "countrate_ZPL=np.zeros(len(sweep_points))\n",
    "countrate_PSB=np.zeros(len(sweep_points))\n",
    "\n",
    "\n",
    "for i,V in enumerate(sweep_points):\n",
    "    #,tau2_ZPL[i],u_tau2_ZPL[i] \n",
    "    tau_ZPL[i],u_tau_ZPL[i]= fit_lifetime(t_ZPL[i],cts_ZPL[i],t_start=226,t_stop=226+20, g_tau=11.7,do_plot=True,name='ZPL_%d'%i,fit_double=False)\n",
    "    tau_PSB[i],u_tau_PSB[i] = fit_lifetime(t_PSB[i],cts_PSB[i],t_start = 200,t_stop=240,g_tau=11.7,do_plot=True,name='PSB_%d'%i,fit_double=False)\n",
    "    countspershot_ZPL[i] = np.sum(cts_ZPL[i])/float(tot_syncs[i])\n",
    "    countspershot_PSB[i] = np.sum(cts_PSB[i])/float(tot_syncs[i])\n",
    "    countrate_ZPL[i] = np.sum(cts_ZPL[i])/tot_msmt_times[i]\n",
    "    countrate_PSB[i] = np.sum(cts_PSB[i])/tot_msmt_times[i]\n",
    "  "
   ]
  },
  {
   "cell_type": "code",
   "execution_count": null,
   "metadata": {
    "collapsed": false
   },
   "outputs": [],
   "source": [
    "  \n",
    "print countspershot_ZPL\n",
    "fig,ax = plt.subplots()\n",
    "ax.errorbar(sweep_points,tau_PSB,yerr=u_tau_PSB,fmt='bo',label='measured in PSB')\n",
    "# ax.errorbar(sweep_points,tau2_PSB,yerr=u_tau2_PSB,fmt='bo',label='measured in PSB')\n",
    "ax.errorbar(sweep_points,tau_ZPL,yerr=u_tau_ZPL,fmt='ro',label='measured in ZPL')\n",
    "ax.legend()\n",
    "ax.set_title(folder)\n",
    "ax.set_xlabel('voltage (V)',fontsize=14)\n",
    "ax.set_ylabel('lifetime',fontsize=14)\n",
    "plt.show()\n",
    "plt.savefig(os.path.join(folder,'all_lifetimes.png'))\n",
    "\n",
    "fig,ax = plt.subplots()\n",
    "ax2=ax.twinx()\n",
    "ax.plot(sweep_points,countspershot_ZPL*1000,'co',label='measured in ZPL')\n",
    "ax2.plot(sweep_points,countspershot_PSB*1000,'mo',label='measured in PSB')\n",
    "ax.set_title(folder)\n",
    "ax.set_xlabel('voltage (V)',fontsize=14)\n",
    "ax.set_ylabel('x 10^-3 counts per pulse, ZPL',color='c',fontsize=14)\n",
    "ax2.set_ylabel('x 10^-3 counts per pulse, PSB', color='m',fontsize=14)\n",
    "plt.show()\n",
    "plt.savefig(os.path.join(folder,'counts_per_shot.png'))\n",
    "\n",
    "fig,ax = plt.subplots()\n",
    "ax2=ax.twinx()\n",
    "ax.plot(sweep_points,countrate_ZPL,'co',label='measured in ZPL')\n",
    "ax2.plot(sweep_points,countrate_PSB,'mo',label='measured in PSB')\n",
    "# ax.legend()\n",
    "ax.set_title(folder)\n",
    "ax.set_xlabel('voltage (V)',fontsize=14)\n",
    "ax.set_ylabel('counts in ZPL (Hz)',color='c',fontsize=14)\n",
    "ax2.set_ylabel('counts in PSB (Hz)',color='m',fontsize=14)\n",
    "plt.show()\n",
    "plt.savefig(os.path.join(folder,'countrate.png'))"
   ]
  },
  {
   "cell_type": "code",
   "execution_count": null,
   "metadata": {
    "collapsed": false
   },
   "outputs": [],
   "source": [
    "g_a = 0\n",
    "g_A = 600\n",
    "g_tau = 12\n",
    "t_ZPL_start = 225\n",
    "i_ZPL_start = np.argmin(abs(t_ZPL-t_ZPL_start))\n",
    "t_PSB_start = 200\n",
    "i_PSB_start = np.argmin(abs(t_PSB-t_PSB_start))\n",
    "print i_ZPL_start, i_PSB_start\n",
    "\n",
    "p0, fitfunc, fitfunc_str = common.fit_exp_decay_with_offset(g_a,g_A,g_tau)\n",
    "fit_res=fit.fit1d(t_ZPL[i_ZPL_start:]-t_ZPL[i_ZPL_start],cts_ZPL[i_ZPL_start:], fitmethod=None,p0=p0, fitfunc=fitfunc, fitfunc_str=fitfunc_str,do_print=True)\n",
    "ax = plot.plot_fit1d(fit_res,print_info=False, ret='ax')\n",
    "tau= fit_res['params_dict']['tau']\n",
    "u_tau = fit_res['error_dict']['tau']\n",
    "ax.text(300,max(cts_ZPL)/2,'tau ZPL = %.1f +- %.1f ns'%(tau,u_tau),color='c')\n",
    "\n",
    "\n",
    "p0, fitfunc, fitfunc_str = common.fit_exp_decay_with_offset(g_a,g_A,g_tau)\n",
    "fit_res=fit.fit1d(t_psb[i_PSB_start:]-t_PSB[t_PSB_start],cts_PSB[i_PSB_start:], fitmethod=None,p0=p0, fitfunc=fitfunc, fitfunc_str=fitfunc_str,do_print=True)\n",
    "ax = plot.plot_fit1d(fit_res,print_info=False,ax=ax, ret='ax')\n",
    "tau= fit_res['params_dict']['tau']\n",
    "u_tau = fit_res['error_dict']['tau']\n",
    "ax.text(300,max(cts_PSB)/2,'tau PSB = %.1f +- %.1f ns'%(tau,u_tau),color='m')\n",
    "\n",
    "ax.set_title(folder)\n",
    "\n",
    "ax.set_yscale('log')\n",
    "ax.set_ylim(1,max(y_psb)*1.1)\n",
    "ax.set_xlabel('time (ns)')\n",
    "ax.set_ylabel('cts')"
   ]
  },
  {
   "cell_type": "code",
   "execution_count": null,
   "metadata": {
    "collapsed": true
   },
   "outputs": [],
   "source": [
    "# Counts only"
   ]
  },
  {
   "cell_type": "code",
   "execution_count": null,
   "metadata": {
    "collapsed": false
   },
   "outputs": [],
   "source": [
    "\n",
    "folder= tb.latest_data(contains='Measurement_GiuseppeII_ZPL_test')\n",
    "print folder\n",
    "a = m2.M2Analysis(folder)\n",
    "\n",
    "lt_grp = a.adwingrp('lifetime')\n",
    "t_ZPL_raw = lt_grp['t_ZPL'].value\n",
    "t_PSB_raw = lt_grp['t_PSB'].value\n",
    "cts_ZPL_raw =lt_grp['cts_ZPL'].value\n",
    "cts_PSB_raw =lt_grp['cts_PSB'].value\n",
    "tot_msmt_times = lt_grp['tot_msmt_times'].value\n",
    "tot_syncs = lt_grp['tot_nrs_syncs'].value#np.ones(len(sweep_points))*1.e6*10#\n",
    "\n",
    "print np.shape(t_ZPL)\n",
    "print tot_syncs"
   ]
  },
  {
   "cell_type": "code",
   "execution_count": null,
   "metadata": {
    "collapsed": false
   },
   "outputs": [],
   "source": [
    "%time 10 - math.fmod(10,0.24)"
   ]
  },
  {
   "cell_type": "code",
   "execution_count": null,
   "metadata": {
    "collapsed": false
   },
   "outputs": [],
   "source": [
    "print math.fmod((8*0.3),0.3)\n",
    "\n",
    "print np.fmod((8*0.3),0.3)\n",
    "\n",
    "print (8*0.3) %0.3"
   ]
  },
  {
   "cell_type": "code",
   "execution_count": null,
   "metadata": {
    "collapsed": true
   },
   "outputs": [],
   "source": []
  }
 ],
 "metadata": {
  "kernelspec": {
   "display_name": "Python 2",
   "language": "python",
   "name": "python2"
  },
  "language_info": {
   "codemirror_mode": {
    "name": "ipython",
    "version": 2
   },
   "file_extension": ".py",
   "mimetype": "text/x-python",
   "name": "python",
   "nbconvert_exporter": "python",
   "pygments_lexer": "ipython2",
   "version": "2.7.3"
  }
 },
 "nbformat": 4,
 "nbformat_minor": 0
}
