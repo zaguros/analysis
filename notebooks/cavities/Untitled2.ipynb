{
 "metadata": {
  "kernelspec": {
   "display_name": "Python 2",
   "language": "python",
   "name": "python2"
  },
  "language_info": {
   "codemirror_mode": {
    "name": "ipython",
    "version": 2
   },
   "file_extension": ".py",
   "mimetype": "text/x-python",
   "name": "python",
   "nbconvert_exporter": "python",
   "pygments_lexer": "ipython2",
   "version": "2.7.3"
  },
  "name": "",
  "signature": ""
 },
 "nbformat": 3,
 "nbformat_minor": 0,
 "worksheets": [
  {
   "cells": [
    {
     "cell_type": "code",
     "collapsed": false,
     "input": [
      "import numpy as np\n",
      "import matplotlib.pyplot as plt\n",
      "%matplotlib inline  \n"
     ],
     "language": "python",
     "metadata": {},
     "outputs": []
    },
    {
     "cell_type": "code",
     "collapsed": false,
     "input": [
      "temp = np.array([29.69,29.40,29.11,28.80,28.49,28.20,27.89,27.60,27.31,27.00,26.70,26.39,26.10,25.80,25.29,24.80,23.80,27.91,29.69,30.00])\n",
      "signal = np.array([6.70,5.65,3.40,1.06,2.20,4.05,4.45,4.00,2.75,1.85,1.70,2.00,2.55,2.40,0.75,0.34,0.08,4.40,6.40,4.00])\n",
      "unc_signal = np.array([0.1,0.2,0.4,0.02,0.2,0.1,0.15,0.1,0.15,0.1,0.05,0.05,0.05,0,15,0.05,0.01,0.01,0.02,0.3,0.4])"
     ],
     "language": "python",
     "metadata": {},
     "outputs": []
    },
    {
     "cell_type": "code",
     "collapsed": false,
     "input": [
      "ind = np.argsort(temp)\n",
      "temp = temp[ind]\n",
      "signal = signal[ind]\n",
      "unc_signal = unc_signal[ind]"
     ],
     "language": "python",
     "metadata": {},
     "outputs": []
    },
    {
     "cell_type": "code",
     "collapsed": false,
     "input": [
      "print len(unc_signal)"
     ],
     "language": "python",
     "metadata": {},
     "outputs": []
    },
    {
     "cell_type": "code",
     "collapsed": false,
     "input": [
      "plt.plot (temp, signal, 'ob')\n",
      "plt.plot (temp, signal, 'r')\n",
      "plt.xlabel ('Temperature [deg]', fontsize = 15)\n",
      "plt.ylabel ('Signal [uW]', fontsize=15)\n",
      "plt.show()"
     ],
     "language": "python",
     "metadata": {},
     "outputs": []
    },
    {
     "cell_type": "code",
     "collapsed": false,
     "input": [],
     "language": "python",
     "metadata": {},
     "outputs": []
    },
    {
     "cell_type": "code",
     "collapsed": false,
     "input": [
      "%matplotlib inline\n",
      "import os\n",
      "import numpy as np\n",
      "import sys\n",
      "import matplotlib\n",
      "import matplotlib.pyplot as plt\n",
      "c=2.998e8 #speed of light\n",
      "import time\n",
      "filepath='H:/My Documents/measuring/'#only for local \n",
      "import scipy.signal\n",
      "os.chdir(filepath)\n",
      "\n",
      "data_dir = 'K:/ns/qt\\Diamond\\Projects\\Cavities\\Cavity characterisation paper\\data/data_for_cav_char_paper/'\n",
      "#folder = '20160819/spectrometer/RT_OFFD_2D_split_peak/'\n",
      "#folder = '20160819/spectrometer/RT_OND_2D-POS0L0' #d=4.19um\n",
      "#folder = '20160819/spectrometer/RT_OND_2D_POS0L1'  # d=4.05\n",
      "#folder = '20160819/spectrometer/RT_OND_2D_POS0L2'\n",
      "\n",
      "#folder = '20160830/spectrometer/LT_OND_POS2_L0'\n",
      "#folder = '20160905/spectrometer/LT_OND_POS2_L5' #DONE but no conclusive diamond thickness for position 2 yet.\n",
      "#folder = '20160905/spectrometer/LT_OND_POS2_L6' #DONE\n",
      "folder = '20160905/spectrometer/LT_OND_POS2_L7' #DONE\n",
      "folder = os.path.join(data_dir,folder)\n",
      "#data_dir='D:\\measuring\\data/data_for_cav_char_paper/20160819\\spectrometer/'#LT_OND_POS2_L5' # #RT_OFFD_POS4_L6#'D:\\measuring\\data/20160503\\ON diamond\\pos 7/raw data spectrometer\\L9'#'D:\\measuring\\data/20160707\\CL2_newmirror_processed'#\"/Users/suzannevandam/Documents/PhD/localdata/20160430/ON_diamond\" \n",
      "print folder\n",
      "\n",
      "%matplotlib inline"
     ],
     "language": "python",
     "metadata": {},
     "outputs": []
    },
    {
     "cell_type": "code",
     "collapsed": false,
     "input": [
      "import analysis.scripts.cavity.spectrometer_analysis as sa\n",
      "import analysis.scripts.cavity.spectrometer_analysis_2Dsweep as spectrometer_analysis_2Dsweep"
     ],
     "language": "python",
     "metadata": {},
     "outputs": []
    },
    {
     "cell_type": "code",
     "collapsed": false,
     "input": [
      "reload(spectrometer_analysis_2Dsweep)\n",
      "reload(sa)\n",
      "sa_2D = spectrometer_analysis_2Dsweep.spectrometer_2D_analysis(folder,load_analysis_from_file=True)\n",
      "sa_2D.get_data()\n",
      "frequencies,filenumbers,intensities = sa_2D.get_data()#load_data_from_folder(data_dir)\n",
      "intensities = sa_2D.subtract_offset()"
     ],
     "language": "python",
     "metadata": {},
     "outputs": []
    },
    {
     "cell_type": "code",
     "collapsed": false,
     "input": [
      "# modes = sa_2D.diamond_air_modes(air_length = air_length,diamond_thickness=diamond_thickness,\n",
      "#                         nr_points=sa_2D.nr_files) \n",
      "# sa_2D.calculate_overlap2(modes)\n",
      "sa_2D.plot_peaks_and_modes()"
     ],
     "language": "python",
     "metadata": {},
     "outputs": []
    },
    {
     "cell_type": "code",
     "collapsed": false,
     "input": [
      "air_length = sa_2D.ana_pars['air_length']\n",
      "diamond_thickness = sa_2D.ana_pars['diamond_thickness']\n",
      "print air_length,diamond_thickness"
     ],
     "language": "python",
     "metadata": {},
     "outputs": []
    },
    {
     "cell_type": "code",
     "collapsed": false,
     "input": [
      "print sa_2D.ana_pars['min_fit_voltage']\n",
      "print sa_2D.ana_pars['min_fit_frequency']\n",
      "print sa_2D.ana_pars['max_fit_frequency']\n",
      "print sa_2D.ana_pars['max_error_distance']\n",
      "print sa_2D.sweep_diamond_thicknesses[0],sa_2D.sweep_diamond_thicknesses[-1],len(sa_2D.sweep_diamond_thicknesses)\n",
      "print sa_2D.sweep_air_lengths[0],sa_2D.sweep_air_lengths[-1],len(sa_2D.sweep_air_lengths)\n",
      "sa_2D.sweep_diamond_thicknesses=np.linspace(3.4e-6,4.6e-6,41)#81)\n",
      "sa_2D.sweep_air_lengths=np.linspace(3e-6,5.0e-6,21)#241)#201)"
     ],
     "language": "python",
     "metadata": {},
     "outputs": []
    },
    {
     "cell_type": "code",
     "collapsed": false,
     "input": [],
     "language": "python",
     "metadata": {},
     "outputs": []
    },
    {
     "cell_type": "code",
     "collapsed": false,
     "input": [
      "ms_overlaps, u_ms_overlaps = sa_2D.find_best_overlap_peaks_and_modes()"
     ],
     "language": "python",
     "metadata": {},
     "outputs": []
    },
    {
     "cell_type": "code",
     "collapsed": false,
     "input": [
      "sa_2D.get_air_mode_ness()\n",
      "\n",
      "ix_min_mean_square_overlap = np.unravel_index(ms_overlaps.argmin(), ms_overlaps.shape)\n",
      "\n",
      "fig,ax = plt.subplots(figsize=(15,4))\n",
      "ax.set_xlabel('air length (um)',fontsize =16)\n",
      "ax.set_ylabel('diamond thickness (um)',fontsize = 16)\n",
      "ax.set_title('mean square deviation')\n",
      "extent = [sa_2D.sweep_air_lengths[0]*1.e6,sa_2D.sweep_air_lengths[-1]*1.e6,sa_2D.sweep_diamond_thicknesses[-1]*1.e6,sa_2D.sweep_diamond_thicknesses[0]*1.e6]\n",
      "im = ax.imshow(ms_overlaps, extent=extent, interpolation='None', cmap='afmhot',aspect='auto')\n",
      "ax.grid(False)\n",
      "\n",
      "plt.colorbar(im)  \n"
     ],
     "language": "python",
     "metadata": {},
     "outputs": []
    },
    {
     "cell_type": "code",
     "collapsed": false,
     "input": [],
     "language": "python",
     "metadata": {},
     "outputs": []
    },
    {
     "cell_type": "code",
     "collapsed": false,
     "input": [
      "def lifetimered(beta,beta0):\n",
      "    return (beta0+1)*(1-beta)/(beta0*(1-beta)+1)\n",
      "\n",
      "def purcell(beta,beta0):\n",
      "    return beta/(beta0*(1-beta))\n",
      "\n",
      "tnew_told = lifetimered(0.4,0.03)\n",
      "Fp = purcell(0.4,0.03)\n",
      "told= 12#ns\n",
      "tnew=tnew_told*told\n",
      "gnew_gold= 1./lifetimered(0.4,0.03)\n",
      "gold =13.3 #2pi MHz - lifetime limited linewidth\n",
      "gnew = gold*gnew_gold"
     ],
     "language": "python",
     "metadata": {},
     "outputs": []
    },
    {
     "cell_type": "code",
     "collapsed": false,
     "input": [
      "import math\n",
      "print 'Fp',Fp\n",
      "print tnew_told\n",
      "print tnew,'ns'\n",
      "print 1./(2*math.pi)/(told*1e-9)*1.e-6\n",
      "print 1./(2*math.pi)/(tnew*1e-9)*1.e-6\n",
      "print gnew,'MHz'"
     ],
     "language": "python",
     "metadata": {},
     "outputs": []
    },
    {
     "cell_type": "code",
     "collapsed": false,
     "input": [],
     "language": "python",
     "metadata": {},
     "outputs": []
    }
   ],
   "metadata": {}
  }
 ]
}