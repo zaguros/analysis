{
 "metadata": {
  "kernelspec": {
   "display_name": "Python 2",
   "language": "python",
   "name": "python2"
  },
  "language_info": {
   "codemirror_mode": {
    "name": "ipython",
    "version": 2
   },
   "file_extension": ".py",
   "mimetype": "text/x-python",
   "name": "python",
   "nbconvert_exporter": "python",
   "pygments_lexer": "ipython2",
   "version": "2.7.11"
  },
  "name": "",
  "signature": ""
 },
 "nbformat": 3,
 "nbformat_minor": 0,
 "worksheets": [
  {
   "cells": [
    {
     "cell_type": "code",
     "collapsed": true,
     "input": [
      "import numpy as np\n",
      "import os.path\n",
      "import pandas\n",
      "import matplotlib\n",
      "import scipy.signal\n",
      "import scipy.constants\n",
      "\n",
      "%matplotlib inline\n",
      "import matplotlib.pyplot as plt\n",
      "from matplotlib import gridspec\n",
      "\n",
      "import mpld3\n",
      "from mpld3 import plugins"
     ],
     "language": "python",
     "metadata": {
      "deletable": true,
      "editable": true
     },
     "outputs": []
    },
    {
     "cell_type": "code",
     "collapsed": false,
     "input": [
      "wavelength = 637e-9  \n",
      "fCav = 4e-3     # cavity objective focus  (focal length) in m\n",
      "W0Cav = 1.6e-6#2.6e-6  # cavity beam waist\n",
      "# dCav = np.linspace(-0.05e-3, 0.05e-3, 100)  # displacement of cavity from objective focus\n",
      "dCav = np.linspace(-0.1e-3, 0.1e-3, 100)  # displacement of cavity from objective focus\n",
      "lFree = 1.4\n",
      "z0Cav = np.pi * W0Cav**2 / wavelength\n",
      "\n",
      "# thorlabs specs mode field diameter = 3.6 to 5.3 um @ 633 nm\n",
      "\n",
      "M2Cav = fCav**2 / ( dCav**2 + z0Cav**2 )\n",
      "zFree = M2Cav * dCav + fCav\n",
      "z0Free = M2Cav * z0Cav\n",
      "W0Free = np.sqrt( wavelength * z0Free / np.pi )\n",
      "\n",
      "WFreeCav = W0Free * np.sqrt( 1 + (zFree / z0Free)**2 )\n",
      "WFreeFib = W0Free * np.sqrt( 1 + ( (lFree - zFree) / z0Free)**2 )\n",
      "    \n",
      "fig = plt.figure(figsize=(16, 16))\n",
      "plt.subplot(321)\n",
      "plt.plot( dCav*1e3, zFree )\n",
      "plt.title('air beam, fCav={:.1f}mm, 2*W0Cav={:.1f}um, l={:.3f}m'.format(fCav*1e3, 2*W0Cav*1e6, lFree) )\n",
      "plt.ylabel('z-position of beam waist w.r.t cavity objective (m)')\n",
      "plt.xlabel( 'cavity z displacement w.r.t objective focus, positive is further from obj (mm)' )\n",
      "plt.grid()\n",
      "\n",
      "plt.subplot(322)\n",
      "plt.title('air beam')\n",
      "plt.plot( dCav*1e3, 2*W0Free*1e3, label='waist' )\n",
      "plt.plot( dCav*1e3, 2*WFreeCav*1e3, label='at cavity objective' )\n",
      "plt.plot( dCav*1e3, 2*WFreeFib*1e3, label='at fiber objective' )\n",
      "plt.ylabel( 'air beam diameter (mm)' )\n",
      "plt.xlabel( 'cavity z displacement w.r.t objective focus, positive is further from obj (mm)' )\n",
      "plt.grid()\n",
      "plt.legend()\n",
      "\n",
      "# plt.plot( dCav*1e3, 2*z0Free )\n",
      "# plt.ylabel( 'air depth of focus (m)' )\n",
      "# plt.xlabel( 'cavity z w.r.t cavity obj focus (mm)' )\n",
      "\n",
      "# plt.plot( dCav*1e3, np.sqrt( M2Cav ) )\n",
      "# plt.ylabel('M cavity obj')\n",
      "# plt.xlabel( 'cavity z w.r.t cavity obj focus (mm)' )\n",
      "\n",
      "\n",
      "for fFib in np.array([4.5e-3, 9e-3, 18e-3]):    \n",
      "    M2Fib = fFib**2 / ( (lFree - zFree - fFib)**2 + z0Free**2 )\n",
      "    dFib = M2Fib * (lFree - zFree - fFib)\n",
      "    z0Fib = M2Fib * z0Free\n",
      "    W0Fib = np.sqrt( wavelength * z0Fib / np.pi )\n",
      "        \n",
      "    # plt.plot( dCav*1e3, np.sqrt( M2Fib ) )\n",
      "    # plt.ylabel('M fiber obj')\n",
      "    # plt.xlabel( 'cavity z w.r.t cavity obj focus (mm)' )\n",
      "    \n",
      "\n",
      "    plt.subplot(323)    \n",
      "    plt.plot( dCav*1e3, dFib*1e3, label='f = {} mm'.format( fFib ) )\n",
      "    plt.title('fiber focus beam')\n",
      "    plt.ylabel('fiber z displaceement w.r.t objective focus (mm)')\n",
      "    plt.xlabel( 'cavity z displacement w.r.t objective focus, positive is further from obj (mm)' )\n",
      "    plt.grid()\n",
      "    plt.legend()\n",
      "\n",
      "    plt.subplot(324)\n",
      "    plt.plot( dCav*1e3, 2*z0Fib*1e3, label='f = {} mm'.format( fFib ) )\n",
      "    plt.title('fiber focus beam')\n",
      "    plt.ylabel( 'fiber obj depth of focus (mm)' )\n",
      "    plt.xlabel( 'cavity z displacement w.r.t objective focus, positive is further from obj (mm)' )\n",
      "    plt.grid()\n",
      "    plt.legend()\n",
      "\n",
      "    plt.subplot(325)\n",
      "    plt.plot( dCav*1e3, 2*W0Fib*1e6, label='f = {} mm'.format( fFib*1e3 ) )\n",
      "    plt.title('fiber focus beam')\n",
      "    plt.ylabel( 'fiber obj beam diameter (um)' )\n",
      "    plt.xlabel( 'cavity z displacement w.r.t objective focus, positive is further from obj (mm)' )\n",
      "    plt.grid()\n",
      "    plt.legend()   \n",
      "    \n",
      "plt.plot( [dCav[0]*1e3, dCav[-1]*1e3], [3.6, 3.6], 'k' )\n",
      "plt.plot( [dCav[0]*1e3, dCav[-1]*1e3], [5.3, 5.3], 'k' )\n",
      "\n",
      "plt.show()\n",
      "\n",
      "\n",
      "\n"
     ],
     "language": "python",
     "metadata": {
      "deletable": true,
      "editable": true
     },
     "outputs": []
    },
    {
     "cell_type": "code",
     "collapsed": false,
     "input": [],
     "language": "python",
     "metadata": {
      "deletable": true,
      "editable": true
     },
     "outputs": []
    },
    {
     "cell_type": "code",
     "collapsed": true,
     "input": [],
     "language": "python",
     "metadata": {
      "deletable": true,
      "editable": true
     },
     "outputs": []
    }
   ],
   "metadata": {}
  }
 ]
}