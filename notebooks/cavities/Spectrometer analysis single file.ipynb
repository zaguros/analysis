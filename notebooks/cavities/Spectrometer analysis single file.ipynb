{
 "cells": [
  {
   "cell_type": "code",
   "execution_count": null,
   "metadata": {
    "collapsed": false
   },
   "outputs": [],
   "source": [
    "execfile('D:/measuring/analysis/scripts/setup_analysis.py')\n",
    "%matplotlib inline\n",
    "import os\n",
    "import numpy as np\n",
    "import scipy\n",
    "import sys\n",
    "import matplotlib\n",
    "import matplotlib.pyplot as plt\n",
    "import math\n",
    "import scipy.constants\n",
    "c=scipy.constants.c #speed of light\n",
    "import time\n",
    "filepath='D:/measuring/'\n",
    "import scipy.signal\n",
    "os.chdir(filepath)\n",
    "\n",
    "sys.path.append('H:/My Documents/measuring/')\n",
    "\n",
    "#data_dir='D:\\measuring\\data/20160801/spectometer dataspectrometer5'#:\\measuring\\data/20160503\\ON diamond\\pos 7/raw data spectrometer\\L9'#'D:\\measuring\\data/20160707\\CL2_newmirror_processed'#\"/Users/suzannevandam/Documents/PhD/localdata/20160430/ON_diamond\" \n",
    "#data_dir=r'D:\\measuring\\data/20170213/spectrometer/180600_cav_length_11'#:\\measuring\\data/20160503\\ON diamond\\pos 7/raw data spectrometer\\L9'#'D:\\measuring\\data/20160707\\CL2_newmirror_processed'#\"/Users/suzannevandam/Documents/PhD/localdata/20160430/ON_diamond\" \n",
    "data_dir=r'D:\\measuring\\data\\20170816\\190000_Spot_in_RID_irr' #181600_export3'#2017-05-17 10_31_18 Hans_SIL4 4.csv'\n",
    "bg_data_dir=r'D:\\measuring\\data\\20170803/154000'\n",
    "subtract_bg=False\n",
    "nr_bg_subtraction = 1.0 #time measurement / time_bg\n",
    "print data_dir\n",
    "\n",
    "%matplotlib inline"
   ]
  },
  {
   "cell_type": "code",
   "execution_count": null,
   "metadata": {
    "collapsed": true
   },
   "outputs": [],
   "source": []
  },
  {
   "cell_type": "code",
   "execution_count": null,
   "metadata": {
    "collapsed": false
   },
   "outputs": [],
   "source": [
    "import analysis.scripts.cavity.spectrometer_analysis as sa\n",
    "import analysis.scripts.cavity.spectrometer_analysis_2Dsweep as spectrometer_analysis_2Dsweep"
   ]
  },
  {
   "cell_type": "code",
   "execution_count": null,
   "metadata": {
    "collapsed": false
   },
   "outputs": [],
   "source": []
  },
  {
   "cell_type": "code",
   "execution_count": null,
   "metadata": {
    "collapsed": false
   },
   "outputs": [],
   "source": [
    "def extract_freq_data(data_dir):\n",
    "    sa_2D = spectrometer_analysis_2Dsweep.spectrometer_2D_analysis(data_dir,load_analysis_from_file=False)#,V_min=ana_pars['V_min'],V_max=ana_pars['V_max'],laser_wavelength=ana_pars['laser_wavelength'])\n",
    "    sa_2D.ana_pars['min_frq']=100\n",
    "    frequencies,filenumbers,intensities=sa_2D.get_data()\n",
    "    return frequencies, intensities"
   ]
  },
  {
   "cell_type": "code",
   "execution_count": null,
   "metadata": {
    "collapsed": false
   },
   "outputs": [],
   "source": [
    "reload(spectrometer_analysis_2Dsweep)\n",
    "reload(sa)\n",
    "\n",
    "#a = sa.spectrometer_analysis(data_dir)\n",
    "#frequencies,fn,intensity =a.load_data_from_folder()\n",
    "bg_sa_2D = spectrometer_analysis_2Dsweep.spectrometer_2D_analysis(bg_data_dir,load_analysis_from_file=False)#,V_min=ana_pars['V_min'],V_max=ana_pars['V_max'],laser_wavelength=ana_pars['laser_wavelength'])\n",
    "bg_sa_2D.ana_pars['min_frq']=100\n",
    "bg_frequencies,bg_filenumbers,bg_intensities=bg_sa_2D.get_data()\n",
    "#frequencies,filenumbers,intensities = sa_2D.get_data()#min_frq=ana_pars['min_frq'],max_frq=ana_pars['max_frq'])#load_data_from_folder(data_dir)\n",
    "#intensities = sa_2D.subtract_offset()\n",
    "#print frequencies, intensity\n",
    "# sa_2D.save_analysis_params(ana_pars)\n",
    "bg_sa_2D.save_analysis()\n",
    "\n",
    "\n",
    "bg_cts_gg_637 = np.sum(bg_intensities[np.where(bg_frequencies<(c/638e-9*1.e-12))])\n",
    "bg_cts_ll_637 = np.sum(bg_intensities[np.where(bg_frequencies>(c/638e-9*1.e-12))])\n",
    "bg_cts_636_638 = np.sum(bg_intensities[np.where(((bg_frequencies>(c/638e-9*1.e-12))&(bg_frequencies<(c/636e-9*1.e-12))))])\n",
    "bg_total_cts = np.sum(bg_intensities)\n",
    "bg_total_cts_2 = bg_cts_gg_637+bg_cts_ll_637\n",
    "bg_text= 'cts > 637 nm: '+str(int(bg_cts_gg_637))+' ('+str(round(bg_cts_gg_637/bg_total_cts*100,1))+'%) \\ncts < 637 nm: '+str(int(cts_ll_637))+' ('+str(round(cts_ll_637/total_cts*100,1))+'%) \\n636 nm < cts < 638 nm: '+str(int(cts_636_638))+' ('+str(round(cts_636_638/total_cts*100,1))+'%)'\n",
    "print bg_text\n",
    "# print 'total counts above 637 nm: ',int(cts_gg_637),' (',round(cts_gg_637/total_cts*100,1),'%)'\n",
    "# print 'total counts below 637 nm: ',int(cts_ll_637),' (',round(cts_ll_637/total_cts*100,1),'%)'\n",
    "# print 'total counts between 636 and 638 nm: ',int(cts_636_638),' (',round(cts_636_638/total_cts*100,1),'%)'\n",
    "\n",
    "    "
   ]
  },
  {
   "cell_type": "code",
   "execution_count": null,
   "metadata": {
    "collapsed": false
   },
   "outputs": [],
   "source": [
    "reload(spectrometer_analysis_2Dsweep)\n",
    "reload(sa)\n",
    "\n",
    "#a = sa.spectrometer_analysis(data_dir)\n",
    "#frequencies,fn,intensity =a.load_data_from_folder()\n",
    "sa_2D = spectrometer_analysis_2Dsweep.spectrometer_2D_analysis(data_dir,load_analysis_from_file=False)#,V_min=ana_pars['V_min'],V_max=ana_pars['V_max'],laser_wavelength=ana_pars['laser_wavelength'])\n",
    "sa_2D.ana_pars['min_frq']=100\n",
    "frequencies,filenumbers,intensities=sa_2D.get_data()\n",
    "#frequencies,filenumbers,intensities = sa_2D.get_data()#min_frq=ana_pars['min_frq'],max_frq=ana_pars['max_frq'])#load_data_from_folder(data_dir)\n",
    "#intensities = sa_2D.subtract_offset()\n",
    "#print frequencies, intensity\n",
    "# sa_2D.save_analysis_params(ana_pars)\n",
    "sa_2D.save_analysis()\n",
    "\n",
    "\n",
    "cts_gg_637 = np.sum(intensities[np.where(frequencies<(c/638e-9*1.e-12))])\n",
    "cts_ll_637 = np.sum(intensities[np.where(frequencies>(c/638e-9*1.e-12))])\n",
    "cts_636_638 = np.sum(intensities[np.where(((frequencies>(c/638e-9*1.e-12))&(frequencies<(c/636e-9*1.e-12))))])\n",
    "total_cts = np.sum(intensities)\n",
    "total_cts_2 = cts_gg_637+cts_ll_637\n",
    "text= 'cts > 637 nm: '+str(int(cts_gg_637))+' ('+str(round(cts_gg_637/total_cts*100,1))+'%) \\ncts < 637 nm: '+str(int(cts_ll_637))+' ('+str(round(cts_ll_637/total_cts*100,1))+'%) \\n636 nm < cts < 638 nm: '+str(int(cts_636_638))+' ('+str(round(cts_636_638/total_cts*100,1))+'%)'\n",
    "print text\n",
    "# print 'total counts above 637 nm: ',int(cts_gg_637),' (',round(cts_gg_637/total_cts*100,1),'%)'\n",
    "# print 'total counts below 637 nm: ',int(cts_ll_637),' (',round(cts_ll_637/total_cts*100,1),'%)'\n",
    "# print 'total counts between 636 and 638 nm: ',int(cts_636_638),' (',round(cts_636_638/total_cts*100,1),'%)'\n"
   ]
  },
  {
   "cell_type": "code",
   "execution_count": null,
   "metadata": {
    "collapsed": false
   },
   "outputs": [],
   "source": [
    "frequencies,intensities = extract_freq_data(data_dir)\n",
    "intensities = np.average(intensities,axis=1)\n",
    "bg_frequencies,bg_intensities = extract_freq_data(bg_data_dir)\n",
    "bg_intensities = np.average(bg_intensities,axis=1)\n",
    "nr_bg_subtraction = 1.0\n",
    "\n",
    "if subtract_bg:\n",
    "    intensities = (intensities-np.average(intensities))-nr_bg_subtraction*(bg_intensities-np.average(bg_intensities))\n",
    "    print 'Background file:', bg_data_dir\n",
    "\n",
    "plot_freq_domain(frequencies,intensities[:],(430,480),False)\n",
    "plot_wavelength_domain(frequencies,intensities[:],(620,800))\n",
    "\n",
    "print np.shape(intensities)\n",
    "\n"
   ]
  },
  {
   "cell_type": "markdown",
   "metadata": {},
   "source": [
    "### Plotting in the frequency domain\n",
    "With this function the data can be plotted in the frequency domain. Additionally the data can be fitted with a Lorentzian curve with one or two peaks."
   ]
  },
  {
   "cell_type": "code",
   "execution_count": null,
   "metadata": {
    "collapsed": false
   },
   "outputs": [],
   "source": [
    "def plot_freq_domain(freqencies,intensities,(fmin,fmax),fit_data=False):\n",
    "    fig,ax=plt.subplots()\n",
    "    freq_in_GHz = frequencies[::-1]#(frequencies[::-1]-470.4)*1e3\n",
    "    intensities = intensities[::-1]\n",
    "    \n",
    "    \n",
    "\n",
    "\n",
    "    if fit_data:\n",
    "        g_a= 2.0\n",
    "        g_A= 12.0\n",
    "        g_x0 = -275.0# -180\n",
    "        g_gamma = 25\n",
    "        g_A2= 10.0\n",
    "        g_x02 =-210.0# -380\n",
    "        g_gamma2 = 25\n",
    "        fixed=[]\n",
    "    \n",
    "        idx_min = np.searchsorted(freq_in_GHz, fmin, side=\"left\")\n",
    "        idx_max = np.searchsorted(freq_in_GHz, fmax, side=\"left\")\n",
    "        freq_in_GHz = freq_in_GHz[idx_min:idx_max]\n",
    "        intensities = intensities[idx_min:idx_max]\n",
    "\n",
    "        \n",
    "        p0, fitfunc, fitfunc_str = common.fit_lorentz(g_a, g_A, g_x0, g_gamma)\n",
    "#         p0, fitfunc, fitfunc_str = common.fit_2lorentz(g_a, g_A, g_x0, g_gamma,g_A2, g_x02, g_gamma2)\n",
    "        fit_result = fit.fit1d(freq_in_GHz,intensities, None, p0=p0, fitfunc=fitfunc, do_print=True, ret=True, fixed=fixed)\n",
    "#         fit_result = fit.fit1d(freq_in_GHz,(intensities[:]-np.average(intensities)), None, p0=p0, fitfunc=fitfunc, do_print=True, ret=True, fixed=fixed)\n",
    "\n",
    "#         T1 = fit_result['params_dict']['x01']\n",
    "#         gamma1 = fit_result['params_dict']['gamma1']\n",
    "#         u_gamma1 = fit_result['error_dict']['gamma1']\n",
    "#         print 'frequency = ', T1 , 'GHz'\n",
    "#         print 'linewidth= ', gamma1,'+/-', u_gamma1, 'GHz'\n",
    "\n",
    "#         T2 = fit_result['params_dict']['x02']\n",
    "#         gamma2 = fit_result['params_dict']['gamma2']\n",
    "#         u_gamma2 = fit_result['error_dict']['gamma2']\n",
    "\n",
    "#         print 'frequency = ', T2 , 'GHz'\n",
    "#         print 'linewidth= ', gamma2,'+/-', u_gamma2, 'GHz'\n",
    "\n",
    "#         print 'T1-T2=' ,(T1-T2)\n",
    "\n",
    "\n",
    "        plot.plot_fit1d(fit_result, np.linspace(min(freq_in_GHz),max(freq_in_GHz),len(freq_in_GHz)),ax=ax, label='Fit',show_guess=False, plot_data=True,color='red', data_linestyle = '-', print_info= False)\n",
    "\n",
    "\n",
    "    ax.plot(freq_in_GHz,intensities[:],label='data')\n",
    "    ax.set_xlabel('frequency (GHz wrt 470.4) ')\n",
    "    ax.set_ylabel('avg counts per camera row in ROI')\n",
    "    ax.set_xlim((fmin,fmax))\n",
    "    ymin = np.amin(intensities[np.where((freq_in_GHz>fmin)&(freq_in_GHz<fmax))])-1\n",
    "    ymax = np.amax(intensities[np.where((freq_in_GHz>fmin)&(freq_in_GHz<fmax))])+1\n",
    "    ax.set_ylim([600,2400])#([ymin,ymax])\n",
    "    ax.set_title(data_dir)\n",
    "    #ax.text(500,1000,text)\n",
    "    # plt.legend(loc='upper left')\n",
    "    plt.savefig(os.path.join(data_dir,'plot.png'))\n"
   ]
  },
  {
   "cell_type": "markdown",
   "metadata": {},
   "source": [
    "### Plotting the data in the wavelength domain"
   ]
  },
  {
   "cell_type": "code",
   "execution_count": null,
   "metadata": {
    "collapsed": false
   },
   "outputs": [],
   "source": [
    "def plot_wavelength_domain(frequencies,intensities,(xmin,xmax)):\n",
    "    fig,ax=plt.subplots()\n",
    "    wavelengths=c/frequencies*1.e-3\n",
    "    ax.plot(wavelengths,(intensities[:]),label='data')\n",
    "    ax.set_xlabel('wavelength (nm)')\n",
    "    ax.set_ylabel('avg counts per camera row in ROI')\n",
    "    #ax.set_ylim([640,680])\n",
    "    ax.set_xlim((xmin,xmax))\n",
    "    ymin = np.amin(intensities[np.where((wavelengths>xmin) & (wavelengths<xmax))])-1\n",
    "    ymax = np.amax(intensities[np.where((wavelengths>xmin) & (wavelengths<xmax))])+1\n",
    "    ax.set_ylim([ymin,ymax])\n",
    "    ax.set_title(data_dir)\n",
    "    #ax.text(500,1000,text)\n",
    "    # plt.legend(loc='upper left')\n",
    "    plt.savefig(os.path.join(data_dir,'plot.png'))\n"
   ]
  },
  {
   "cell_type": "markdown",
   "metadata": {
    "collapsed": true
   },
   "source": [
    "## Extract cavity length from cavity spectrometer data"
   ]
  },
  {
   "cell_type": "code",
   "execution_count": null,
   "metadata": {
    "collapsed": false
   },
   "outputs": [],
   "source": [
    "reload(spectrometer_analysis_2Dsweep)\n",
    "reload(sa)\n",
    "\n",
    "data_dir=r'D:\\measuring\\data\\20170928\\142600_cav_length'\n",
    "\n",
    "sa_2D = spectrometer_analysis_2Dsweep.spectrometer_2D_analysis(data_dir,load_analysis_from_file=False)#,V_min=ana_pars['V_min'],V_max=ana_pars['V_max'],laser_wavelength=ana_pars['laser_wavelength'])\n",
    "sa_2D.ana_pars['min_frq']=440\n",
    "sa_2D.ana_pars['max_frq']=500\n",
    "\n",
    "frequencies,filenumbers,intensities=sa_2D.get_data()\n",
    "\n",
    "plt.plot(c/(frequencies*1.e12)*1e9,intensities)\n",
    "\n",
    "\n",
    "cavlength_minrange = 1\n",
    "cavlength_maxrange = 100 # 20\n",
    "minimum_peak_height = 2 # 100\n",
    "minimum_peak_distance = 0.1 # 1\n",
    "hom_max = 0.1 # 5.0 # 7.0\n",
    "\n",
    "\n",
    "max_gamma = 10\n",
    "x0s,u_x0s,n_trans, u_n_trans =sa_2D.peaks_from_1D_data(intensity=sa_2D.intensities[:,-1],plot_peak_locations=True,\n",
    "                                   max_gamma = max_gamma,\n",
    "                                   minimum_peak_height=minimum_peak_height,\n",
    "                                   minimum_peak_distance=minimum_peak_distance,\n",
    "                                   g_gamma=0.2,remove_hom=True,hom_max =hom_max,\n",
    "                                   plot_fit=False,\n",
    "                                   fit_peaks=True, save_fig=True)\n",
    "# print 3.e5/x0s\n",
    "\n",
    "nu_fsrs=np.array([])\n",
    "\n",
    "# x0s=x0s[:-1]\n",
    "\n",
    "for l in np.arange(len(x0s)-1):\n",
    "    fund_1 = x0s[l]\n",
    "    fund_2 = x0s[l+1]\n",
    "    nu_fsr = np.abs(fund_2 - fund_1)*1.e12\n",
    "    length = c/(2*nu_fsr)\n",
    "    print 'FSR is ', nu_fsr*1.e-12, 'THz; ','length is ',length *1.e6 , 'um'\n",
    "    if length>(cavlength_minrange*1.e-6) and length<(cavlength_maxrange*1.e-6):\n",
    "        nu_fsrs = np.append(nu_fsrs,nu_fsr)\n",
    "    else:\n",
    "        print 'disregarded'\n",
    "        pass\n",
    "\n",
    "# print nu_fsrs\n",
    "avg_nu_fsr = np.average(nu_fsrs)\n",
    "u_avg_nu_fsr = scipy.stats.sem(nu_fsrs)\n",
    "# print avg_nu_fsr\n",
    "# avg_nu_fsrs[i,0] = avg_nu_fsr \n",
    "# avg_nu_fsrs[i,1] = u_avg_nu_fsr\n",
    "\n",
    "length = c/(2*avg_nu_fsr)\n",
    "u_length = c/(2*avg_nu_fsr**2)*u_avg_nu_fsr\n",
    "\n",
    "print 'the average length is ',length *1.e6,'+-',u_length*1.e6 , 'um' \n"
   ]
  },
  {
   "cell_type": "code",
   "execution_count": null,
   "metadata": {
    "collapsed": false
   },
   "outputs": [],
   "source": [
    "reload(spectrometer_analysis_2Dsweep)\n",
    "reload(sa)\n",
    "\n",
    "# data_dir=r'D:\\measuring\\data\\20170914\\180800_spectrometer_linewidth_maybe_exposure_30s'\n",
    "data_dir=r'D:\\measuring\\data\\20170921\\185800_cav_spectrum'\n",
    "\n",
    "\n",
    "\n",
    "sa_2D = spectrometer_analysis_2Dsweep.spectrometer_2D_analysis(data_dir,load_analysis_from_file=False)#,V_min=ana_pars['V_min'],V_max=ana_pars['V_max'],laser_wavelength=ana_pars['laser_wavelength'])\n",
    "sa_2D.ana_pars['min_frq']=470# 471.8\n",
    "sa_2D.ana_pars['max_frq']=471# 472.7\n",
    "\n",
    "frequencies,filenumbers,intensities=sa_2D.get_data()\n",
    "\n",
    "# import pylab as plb\n",
    "import matplotlib.pyplot as plt\n",
    "from scipy.optimize import curve_fit\n",
    "from scipy import asarray as ar,exp\n",
    "\n",
    "def gaus(x,a,x0,sigma,b):\n",
    "    return a*exp(-(x-x0)**2/(2*sigma**2))+b\n",
    "\n",
    "                \n",
    "\n",
    "x = frequencies\n",
    "y = intensities.flatten()\n",
    "popt,pcov = curve_fit(gaus,x,y,p0=[ np.max(y), x[ np.argmax( y ) ], 0.030, y[0] ] )    \n",
    "sigma = popt[2]        \n",
    "yFit = gaus(x,*popt)    \n",
    "\n",
    "\n",
    "plt.plot( frequencies, intensities, '.' )\n",
    "plt.plot( frequencies, yFit, '-' )\n",
    "plt.title( '{} gauss sigma {:.1f} GHz'.format( data_dir, s * 1e3 ))\n",
    "plt.grid()\n",
    "plt.show()\n",
    "\n"
   ]
  },
  {
   "cell_type": "markdown",
   "metadata": {},
   "source": [
    "### Extract effective radius of curavature"
   ]
  },
  {
   "cell_type": "code",
   "execution_count": null,
   "metadata": {
    "collapsed": false,
    "scrolled": false
   },
   "outputs": [],
   "source": [
    "reload(spectrometer_analysis_2Dsweep)\n",
    "reload(sa)\n",
    "\n",
    "# use same as above where cav length determined. this cell uses 'length' as determined there\n",
    "# data_dir=r'D:\\measuring\\data\\20170718\\135100_N16_spectrometer'\n",
    "\n",
    "sa_2D = spectrometer_analysis_2Dsweep.spectrometer_2D_analysis(data_dir,load_analysis_from_file=False)#,V_min=ana_pars['V_min'],V_max=ana_pars['V_max'],laser_wavelength=ana_pars['laser_wavelength'])\n",
    "sa_2D.ana_pars['min_frq']=440\n",
    "sa_2D.ana_pars['max_frq']=550\n",
    "\n",
    "frequencies,filenumbers,intensities=sa_2D.get_data()\n",
    "\n",
    "plt.plot(frequencies,intensities)\n",
    "plt.yscale('log')\n",
    "\n",
    "nr_skip = 0\n",
    "nr_modes = 6\n",
    "minimum_peak_height = 00\n",
    "minimum_peak_distance = 20\n",
    "max_gamma = 20\n",
    "\n",
    "x0s,u_x0s,n_trans, u_n_trans =sa_2D.peaks_from_1D_data(intensity=sa_2D.intensities[:,0],plot_peak_locations=True,\n",
    "                                   max_gamma = max_gamma,\n",
    "                                   minimum_peak_height=minimum_peak_height,\n",
    "                                   minimum_peak_distance=minimum_peak_distance,\n",
    "                                   g_gamma=0.2,remove_hom=False,hom_max =10,\n",
    "                                   plot_fit=False,\n",
    "                                   fit_peaks=True, save_fig=True)\n",
    "\n",
    "x0s = np.sort(x0s)\n",
    "x0s = x0s[nr_skip:]*1.e12\n",
    "\n",
    "rocs=[]\n",
    "print 'cavity length:',length*1e6,'um'\n",
    "\n",
    "for l in np.arange(len(x0s)):\n",
    "    if l%nr_modes==0:\n",
    "        fund = x0s[l]\n",
    "        print 'fundamental',fund\n",
    "    else:\n",
    "        nr_hom = l%nr_modes\n",
    "        \n",
    "        dnu_01 = x0s[l]-fund\n",
    "#         print nr_hom\n",
    "#         print x0s[l]\n",
    "#         print dnu_01\n",
    "#         print (1-(np.cos( (4*math.pi*dnu_01*length)/((2*nr_hom)*c) )**2))\n",
    "#         roc = length/(1-(np.cos( (4*math.pi*dnu_01*length)/(4*c) )**2))\n",
    "        roc = length/(1-(np.cos( (4*math.pi*dnu_01*length)/((2*nr_hom)*c) )**2))\n",
    "\n",
    "        print 'ROC',roc*1.e6\n",
    "        rocs.append(roc)     \n",
    "    \n",
    "avg_roc = np.average(rocs)\n",
    "u_avg_roc = scipy.stats.sem(rocs)\n",
    "np.savetxt(data_dir+'/ROCs.txt',np.array(rocs))\n",
    "np.savetxt(data_dir+'/avg_ROC.txt',np.array([avg_roc,u_avg_roc]))\n",
    "\n",
    "print 'the average roc is ',round(avg_roc *1.e6,2),'+-',round(u_avg_roc*1.e6,2) , 'um' \n",
    "       \n",
    "\n"
   ]
  },
  {
   "cell_type": "code",
   "execution_count": null,
   "metadata": {
    "collapsed": false
   },
   "outputs": [],
   "source": [
    "#plotting ROCs vs cavity length\n",
    "ROCs = [39.16,38.46,39.2,39.07,37.8,39.52,43.86]\n",
    "u_ROCs = [0.54,0.4,0.49,0.58,0.58,0.56,0.5]\n",
    "Ls = [11.74,8.85,6.00,5.04,15.88,12.35,14.3]\n",
    "\n",
    "# average over all points from the same day\n",
    "print np.average(ROCs[:-1]),'um'\n",
    "print scipy.stats.sem(ROCs[:-1]),'um'\n",
    "\n",
    "plt.errorbar(Ls,ROCs,yerr=u_ROCs,fmt='o')\n",
    "plt.xlabel('cavity length (um)')\n",
    "plt.ylabel('measured ROC (um)')"
   ]
  },
  {
   "cell_type": "markdown",
   "metadata": {
    "collapsed": false
   },
   "source": [
    "### nr_datafiles = 1\n",
    "minimum_peak_heights = [6000,12000]\n",
    "avg_nu_fsrs = np.zeros((nr_datafiles,2))\n",
    "min_fsrs = np.ones(nr_datafiles)*4*1.e12\n",
    "max_fsrs = np.ones(nr_datafiles)*20.e12\n",
    "#max_fsrs[5] = 40.e12\n",
    "#max_fsrs[6] = 40.e12\n",
    "#max_fsrs[7] = 50.e12\n",
    "#max_fsrs[8] = 50.e12\n",
    "#min_fsrs[7] = 10.e12\n",
    "#min_fsrs[8] = 10.e12\n",
    "\n",
    "reload(sa_2D)\n",
    "filename = '2016 september 07 18_01_47 OND_LT_POS2_L4 1185.csv'\n",
    "\n",
    "sa_2D = spectrometer_analysis_2Dsweep.spectrometer_2D_analysis(data_dir,V_min=0,V_max=10,laser_wavelength=636.6e-9)\n",
    "frequencies,filenumbers,intensities = sa_2D.get_data(min_frq=432,max_frq=496)#load_data_from_folder(data_dir)\n",
    "\n",
    "\n",
    "for i in np.arange(nr_datafiles):\n",
    "#    data_folder = os.path.join(data_dir,'L'+str(i))\n",
    "    datafile = os.path.join(data_dir, filename)\n",
    "\n",
    "    #note that what are called wavelengths, are actually the frequencies in THz! \n",
    "    wavelengths,intensities = sa.load_data(datafile)\n",
    "\n",
    "    minimum_peak_height = minimum_peak_heights[i]\n",
    "    x0s,u_x0s=sa_2D.peaks_from_1D_data(wavelengths,intensities[:,0],\n",
    "                                       data_dir=datafile,save_fig=False,\n",
    "                                       plot_fit =False, plot_peak_locations=True,minimum_peak_distance=10,\n",
    "                                       minimum_peak_height=minimum_peak_height, g_gamma=0.1)\n",
    "    print x0s\n",
    "\n",
    "    # reinitialise every time\n",
    "    nu_fsrs=np.array([])\n",
    "\n",
    "    if i == 4:\n",
    "        x0s=x0s[:-2]\n",
    "    \n",
    "    for l in np.arange(len(x0s)-1):\n",
    "        fund_1 = x0s[l]\n",
    "        fund_2 = x0s[l+1]\n",
    "        nu_fsr = np.abs(fund_2 - fund_1)*1.e12\n",
    "        if ((nu_fsr>min_fsrs[i]) and (nu_fsr<max_fsrs[i])):\n",
    "            length = c/(2*nu_fsr)\n",
    "            print nu_fsr*1.e-12, 'THz'\n",
    "            print length *1.e6 , 'um'\n",
    "            nu_fsrs = np.append(nu_fsrs,nu_fsr)\n",
    "            \n",
    "    print nu_fsrs\n",
    "    avg_nu_fsr = np.average(nu_fsrs)\n",
    "    u_avg_nu_fsr = np.std(nu_fsrs)\n",
    "    print avg_nu_fsr\n",
    "    avg_nu_fsrs[i,0] = avg_nu_fsr \n",
    "    avg_nu_fsrs[i,1] = u_avg_nu_fsr\n",
    "            \n",
    "        \n",
    "#     fund_1 = x0s[0]\n",
    "#     fund_2 = x0s[3]\n",
    "#     dnu_fsr = np.abs(fund_2 - fund_1)*1.e12\n",
    "#     if dnu_fsr>2*1.e12:\n",
    "#         length = c/(2*dnu_fsr)\n",
    "#         print dnu_fsr*1.e-12, 'THz'\n",
    "#         print length *1.e6 , 'um'\n",
    "\n",
    "\n",
    "\n",
    "# wavelengths,filenumbers,intensities = sa.load_data(data_file)\n",
    "\n",
    "\n",
    "f = open(os.path.join(data_dir,'fsr_data.txt'), 'w')\n",
    "np.savetxt(f,avg_nu_fsrs)\n",
    "f.close()"
   ]
  },
  {
   "cell_type": "code",
   "execution_count": null,
   "metadata": {
    "collapsed": false
   },
   "outputs": [],
   "source": [
    "# nus = [430.99,449.51,468.4,487.4]\n",
    "# nus = [431.07,449.61,468.54,487.53]\n",
    "# nus = [431.3,486.64]\n",
    "# nus = [438.38, 495.11]\n",
    "# nus = [441.52,471.33]\n",
    "# nus=[434.48,470.77]\n",
    "# nus = [451.34,484.24]\n",
    "nus = [438.17,467.62,497.43]\n",
    "nu_fsrs = np.array([])\n",
    "\n",
    "for i,nu in enumerate(nus):\n",
    "    if i < len(nus)-1:\n",
    "        print i\n",
    "        nu_fsr = nus[i+1] - nus[i]\n",
    "        nu_fsrs =np.append(nu_fsrs,nu_fsr)\n",
    "print nu_fsrs\n",
    "avg_nu_fsrs = np.average(nu_fsrs*1.e12)\n",
    "u_avg_nu_fsr = np.std(nu_fsrs*1.e12)\n",
    "length = c/(2*avg_nu_fsrs)\n",
    "print 'cavity length is ',length\n"
   ]
  },
  {
   "cell_type": "code",
   "execution_count": null,
   "metadata": {
    "collapsed": false
   },
   "outputs": [],
   "source": [
    "2.0*2.4*4e-6/36"
   ]
  },
  {
   "cell_type": "code",
   "execution_count": null,
   "metadata": {
    "collapsed": false
   },
   "outputs": [],
   "source": [
    "\n",
    "nu_fsrs = np.loadtxt(os.path.join(data_dir,'fsr_data.txt'))\n",
    "\n",
    "linewidths = np.loadtxt(os.path.join(data_dir,'linewidth_data.txt'))\n",
    "\n"
   ]
  },
  {
   "cell_type": "code",
   "execution_count": null,
   "metadata": {
    "collapsed": false,
    "scrolled": true
   },
   "outputs": [],
   "source": [
    "fig,ax = plt.subplots()\n",
    "\n",
    "ax.errorbar(nu_fsrs[:,0]*1.e-14,linewidths[:,0],xerr = nu_fsrs[:,1]*1.e-14,yerr=linewidths[:,1])\n",
    "ax.set_xlabel('nu FSR (THz)')\n",
    "ax.set_ylabel('linewidth (GHz)')\n",
    "\n",
    "plt.show()\n",
    "\n",
    "fig1,ax1 = plt.subplots()\n",
    "\n",
    "ax1.errorbar(c/(2*nu_fsrs[:,0])*1.e6,np.divide(nu_fsrs[:,0],linewidths[:,0]*1.e9),yerr=linewidths[:,1])\n",
    "ax1.set_xlabel('cavity length (um)')\n",
    "ax1.set_ylabel('Finesse')\n"
   ]
  },
  {
   "cell_type": "code",
   "execution_count": null,
   "metadata": {
    "collapsed": false
   },
   "outputs": [],
   "source": [
    "reload(sa_2D)\n",
    "minimum_peak_height = 6500\n",
    "x0s,u_x0s=sa_2D.peaks_from_1D_data(wavelengths,intensities[:,0],data_dir=data_dir,save_fig=False,plot_fit =False, plot_peak_locations=True,minimum_peak_height=minimum_peak_height, g_gamma=1)\n",
    "\n",
    "\n"
   ]
  },
  {
   "cell_type": "code",
   "execution_count": null,
   "metadata": {
    "collapsed": false
   },
   "outputs": [],
   "source": [
    "#Finding cavity length from peaks\n",
    "\n",
    "for i in np.arange(len(x0s)-1):\n",
    "    fund_1 = x0s[i]\n",
    "    fund_2 = x0s[i+1]\n",
    "    dnu_fsr = np.abs(fund_2 - fund_1)*1.e12\n",
    "    if dnu_fsr>3*1.e12:\n",
    "        length = c/(2*dnu_fsr)\n",
    "        print dnu_fsr*1.e-12, 'THz'\n",
    "        print length *1.e6 , 'um'\n",
    "\n",
    "\n",
    "fund_1 = x0s[0]\n",
    "fund_2 = x0s[1]\n",
    "dnu_fsr = np.abs(fund_2 - fund_1)*1.e12\n",
    "if dnu_fsr>2*1.e12:\n",
    "    length = c/(2*dnu_fsr)\n",
    "    print dnu_fsr*1.e-12, 'THz'\n",
    "    print length *1.e6 , 'um'\n"
   ]
  },
  {
   "cell_type": "code",
   "execution_count": null,
   "metadata": {
    "collapsed": false,
    "scrolled": true
   },
   "outputs": [],
   "source": []
  },
  {
   "cell_type": "code",
   "execution_count": null,
   "metadata": {
    "collapsed": true
   },
   "outputs": [],
   "source": [
    "###analysing SPE files"
   ]
  },
  {
   "cell_type": "code",
   "execution_count": null,
   "metadata": {
    "collapsed": false
   },
   "outputs": [],
   "source": []
  },
  {
   "cell_type": "code",
   "execution_count": null,
   "metadata": {
    "collapsed": false
   },
   "outputs": [],
   "source": [
    "%matplotlib inline\n",
    "import os\n",
    "import numpy as np\n",
    "import sys\n",
    "import matplotlib\n",
    "import matplotlib.pyplot as plt\n",
    "c=2.998e8 #speed of light\n",
    "import time\n",
    "filepath='D:/measuring/'\n",
    "import scipy.signal\n",
    "os.chdir(filepath)\n",
    "\n",
    "sys.path.append('H:/My Documents/measuring/')\n",
    "\n",
    "data_dir='K:\\ns\\qt\\Diamond\\Samples\\Cavity samples/2016-06 Sophie/2016 september 14 16_36_23zpl nv area 5 sophie spectrometer'#:\\measuring\\data/20160503\\ON diamond\\pos 7/raw data spectrometer\\L9'#'D:\\measuring\\data/20160707\\CL2_newmirror_processed'#\"/Users/suzannevandam/Documents/PhD/localdata/20160430/ON_diamond\" \n",
    "print data_dir\n",
    "\n",
    "%matplotlib inline\n",
    "\n",
    "import analysis.scripts.cavity.spectrometer_analysis as sa\n",
    "import analysis.scripts.cavity.spectrometer_analysis_2Dsweep as spectrometer_analysis_2Dsweep\n",
    "#sa_2D = spectrometer_analysis_2Dsweep.spectrometer_2D_analysis(data_dir,V_min=0,V_max=10,laser_wavelength=636.6e-9)\n",
    "frequencies,filenumbers,intensities = sa_2D.get_data(min_frq=468,max_frq=473)#load_data_from_folder(data_dir)\n",
    "ax,fig = plt.subplots(figsize=(10,4))\n",
    "plt.plot(frequencies,intensities[:,1])\n",
    "ax.set_xlabel('Frequency (THz)')"
   ]
  },
  {
   "cell_type": "code",
   "execution_count": null,
   "metadata": {
    "collapsed": true
   },
   "outputs": [],
   "source": []
  },
  {
   "cell_type": "code",
   "execution_count": null,
   "metadata": {
    "collapsed": true
   },
   "outputs": [],
   "source": []
  },
  {
   "cell_type": "code",
   "execution_count": null,
   "metadata": {
    "collapsed": false
   },
   "outputs": [],
   "source": [
    "n = 2.4\n",
    "lam = 637e-9\n",
    "m = 30.0\n",
    "\n",
    "L = m*lam/(2*n)\n",
    "print L"
   ]
  },
  {
   "cell_type": "code",
   "execution_count": null,
   "metadata": {
    "collapsed": false
   },
   "outputs": [],
   "source": [
    "freq_in_GHz = (frequencies-470.4)*1e3\n",
    "print freq_in_GHz[0]\n",
    "print np.searchsorted(freq_in_GHz,[-200,300])\n",
    "A = [3,2,1,0,-1,-2,-3]\n",
    "B = A[::-1]\n",
    "print A, B\n",
    "\n",
    "idx = np.zeros(2)\n",
    "\n",
    "print B[np.searchsorted(B,[-1.5],side='left')]\n",
    "\n"
   ]
  },
  {
   "cell_type": "code",
   "execution_count": null,
   "metadata": {
    "collapsed": false
   },
   "outputs": [],
   "source": [
    "import math\n",
    "dx=12\n",
    "dy=50\n",
    "d = math.sqrt(dx**2+dy**2)\n",
    "print d\n",
    "\n",
    "dmap = 4.5 #cm\n",
    "\n",
    "dconvert = dmap/d #in cm/micron\n",
    "print dconvert\n",
    "# daim = 13 #cm\n",
    "\n",
    "\n",
    "\n"
   ]
  },
  {
   "cell_type": "code",
   "execution_count": null,
   "metadata": {
    "collapsed": false
   },
   "outputs": [],
   "source": [
    "#calculate angle of diamond w.r.t objective coordinate frame\n",
    "import numpy as np\n",
    "angle = np.arctan(30/9)\n",
    "print angle*180/math.pi\n",
    "\n"
   ]
  },
  {
   "cell_type": "code",
   "execution_count": null,
   "metadata": {
    "collapsed": false
   },
   "outputs": [],
   "source": [
    "xHmap = 11.4\n",
    "yHmap = 6.7\n",
    "\n",
    "\n",
    "\n",
    "Dx = yHmap*math.sin(angle)-xHmap*math.cos(angle)\n",
    "Dy = yHmap*math.cos(angle)+xHmap*math.sin(angle)\n",
    "\n",
    "Dyobj = Dy / dconvert\n",
    "Dxobj = Dx / dconvert\n",
    "\n",
    "print Dxobj,Dyobj "
   ]
  },
  {
   "cell_type": "code",
   "execution_count": null,
   "metadata": {
    "collapsed": false
   },
   "outputs": [],
   "source": [
    "print 155+Dxobj\n",
    "print -130+Dyobj"
   ]
  },
  {
   "cell_type": "code",
   "execution_count": null,
   "metadata": {
    "collapsed": false
   },
   "outputs": [],
   "source": [
    "math.sqrt((24.4-18.6)**2+(25.4-16)**2)"
   ]
  }
 ],
 "metadata": {
  "kernelspec": {
   "display_name": "Python 2",
   "language": "python",
   "name": "python2"
  },
  "language_info": {
   "codemirror_mode": {
    "name": "ipython",
    "version": 2
   },
   "file_extension": ".py",
   "mimetype": "text/x-python",
   "name": "python",
   "nbconvert_exporter": "python",
   "pygments_lexer": "ipython2",
   "version": "2.7.3"
  }
 },
 "nbformat": 4,
 "nbformat_minor": 0
}
