{
 "cells": [
  {
   "cell_type": "code",
   "execution_count": null,
   "metadata": {
    "collapsed": false
   },
   "outputs": [],
   "source": [
    "import sys\n",
    "import numpy as np\n",
    "import scipy as sc\n",
    "import scipy.constants\n",
    "import math\n",
    "import os\n",
    "from matplotlib import pyplot as plt\n",
    "sys.path.append('H://My Documents/measuring/')\n",
    "%matplotlib inline"
   ]
  },
  {
   "cell_type": "code",
   "execution_count": null,
   "metadata": {
    "collapsed": false
   },
   "outputs": [],
   "source": [
    "lambda_cav = 637e-9\n"
   ]
  },
  {
   "cell_type": "code",
   "execution_count": null,
   "metadata": {
    "collapsed": false
   },
   "outputs": [],
   "source": [
    "def w0(L,R=40e-6):\n",
    "    return np.sqrt(lambda_cav/math.pi)*(L*(R-L))**(1./4)\n",
    "def w(z,L,R=40e-6):\n",
    "#     return np.multiply(w0(L), np.sqrt(1+(z*lambda_cav/(math.pi*w0(L)**2))**2))\n",
    "    return w0(L,R)* np.sqrt(1+(z*lambda_cav/(math.pi*w0(L,R)**2))**2)\n",
    "def wm(L,R=40e-6):\n",
    "    return w(L,L,R)\n",
    "def Lclip(L,D=8e-6,R=40e-6):\n",
    "    return np.exp(-2*(D/2)**2/(wm(L,R)**2))\n",
    "def finesse(L,Ltot=100e-6,D=8e-6,R=40e-6):\n",
    "    return 2*math.pi/(Ltot+Lclip(L,D,R))\n",
    "def dnu(L,Ltot=100e-6,D=8e-6,R=40e-6):\n",
    "    fsr = scipy.constants.c/(2.*L)\n",
    "    dnu = fsr/finesse(L,Ltot=Ltot,D=D,R=R)\n",
    "    return dnu\n",
    "    "
   ]
  },
  {
   "cell_type": "code",
   "execution_count": null,
   "metadata": {
    "collapsed": false
   },
   "outputs": [],
   "source": [
    "Nmin = 1.\n",
    "Nmax = 120.\n",
    "Ns = np.arange(Nmin,Nmax)\n",
    "Ls = Ns*lambda_cav/2.\n",
    "R=39e-6"
   ]
  },
  {
   "cell_type": "code",
   "execution_count": null,
   "metadata": {
    "collapsed": false
   },
   "outputs": [],
   "source": [
    "fig,ax = plt.subplots()\n",
    "ax.plot(Ns,w0(Ls,R=R)*1.e6,label='w0')\n",
    "ax.plot(Ns,wm(Ls,R=R)*1.e6,label='wm')\n",
    "ax.set_xlabel('N (lambda/2)')\n",
    "ax.set_ylabel('beam waist (um)')\n",
    "ax.legend()\n",
    "plt.show()"
   ]
  },
  {
   "cell_type": "code",
   "execution_count": null,
   "metadata": {
    "collapsed": false
   },
   "outputs": [],
   "source": [
    "###### beam waist vs length/R a la Saleh Teich p. 385\n",
    "fig,ax = plt.subplots()\n",
    "ax.plot(Ls/R,w0(Ls)*(np.sqrt(math.pi/(lambda_cav*2*Ls))),label='w0')\n",
    "ax.plot(Ls/R,wm(Ls)*(np.sqrt(math.pi/(lambda_cav*2*Ls))),label='wm')\n",
    "ax.set_xlabel('L/R')\n",
    "ax.set_ylabel('beam waist sqrt(2 lambda L /pi)')\n",
    "ax.legend()\n",
    "plt.show()"
   ]
  },
  {
   "cell_type": "code",
   "execution_count": null,
   "metadata": {
    "collapsed": false
   },
   "outputs": [],
   "source": []
  },
  {
   "cell_type": "code",
   "execution_count": null,
   "metadata": {
    "collapsed": false
   },
   "outputs": [],
   "source": [
    "fig,ax = plt.subplots()\n",
    "ax.plot(Ns,Lclip(Ls)*1.e6)\n",
    "ax.set_xlabel('N (lambda/2)')\n",
    "ax.set_ylabel('clipping losses (ppm)')\n",
    "plt.show()"
   ]
  },
  {
   "cell_type": "code",
   "execution_count": null,
   "metadata": {
    "collapsed": false
   },
   "outputs": [],
   "source": [
    "Ltot = 1600e-6\n",
    "R =39e-6\n",
    "D= 8.4e-6\n",
    "\n",
    "fig,ax = plt.subplots()\n",
    "ax.plot(Ns,finesse(Ls,Ltot=Ltot, R=R, D=D))\n",
    "ax.set_xlabel('N (lambda/2)')\n",
    "ax.set_ylabel('finesse')\n",
    "ax.set_xlim(0,60)\n",
    "plt.show()"
   ]
  },
  {
   "cell_type": "code",
   "execution_count": null,
   "metadata": {
    "collapsed": false
   },
   "outputs": [],
   "source": [
    "Ltot = 1600e-6\n",
    "R =39e-6\n",
    "D= 8.4e-6\n",
    "\n",
    "fig,ax = plt.subplots()\n",
    "ax.plot(Ns,dnu(Ls,Ltot=Ltot, R=R, D=D)/1.e9)\n",
    "ax.set_xlabel('N (lambda/2)')\n",
    "ax.set_ylabel('linewidth')\n",
    "ax.set_ylim(0,10)\n",
    "plt.show()"
   ]
  },
  {
   "cell_type": "code",
   "execution_count": null,
   "metadata": {
    "collapsed": false
   },
   "outputs": [],
   "source": [
    "6.3/0.637*2"
   ]
  },
  {
   "cell_type": "code",
   "execution_count": null,
   "metadata": {
    "collapsed": false
   },
   "outputs": [],
   "source": []
  }
 ],
 "metadata": {
  "kernelspec": {
   "display_name": "Python 2",
   "language": "python",
   "name": "python2"
  },
  "language_info": {
   "codemirror_mode": {
    "name": "ipython",
    "version": 2
   },
   "file_extension": ".py",
   "mimetype": "text/x-python",
   "name": "python",
   "nbconvert_exporter": "python",
   "pygments_lexer": "ipython2",
   "version": "2.7.3"
  }
 },
 "nbformat": 4,
 "nbformat_minor": 0
}
