{
 "metadata": {
  "kernelspec": {
   "display_name": "Python 2",
   "language": "python",
   "name": "python2"
  },
  "language_info": {
   "codemirror_mode": {
    "name": "ipython",
    "version": 2
   },
   "file_extension": ".py",
   "mimetype": "text/x-python",
   "name": "python",
   "nbconvert_exporter": "python",
   "pygments_lexer": "ipython2",
   "version": "2.7.3"
  },
  "name": "",
  "signature": ""
 },
 "nbformat": 3,
 "nbformat_minor": 0,
 "worksheets": [
  {
   "cells": [
    {
     "cell_type": "code",
     "collapsed": false,
     "input": [
      "%matplotlib inline\n",
      "import os\n",
      "import numpy as np\n",
      "import sys\n",
      "import matplotlib\n",
      "import matplotlib.pyplot as plt\n",
      "c=2.998e8 #speed of light\n",
      "import time\n",
      "filepath='D:/measuring/'\n",
      "import scipy.signal\n",
      "os.chdir(filepath)\n",
      "\n",
      "sys.path.append('H:/My Documents/measuring/')\n",
      "%matplotlib inline\n",
      "\n",
      "import analysis.lib.tools.toolbox as tb\n",
      "\n",
      "from analysis.lib.cavity import cavity_tools\n",
      "from analysis.scripts.cavity import cavity_general_analysis\n",
      "from analysis.scripts.cavity import analyse_lengthscan\n",
      "from analysis.lib.tools import plot\n",
      "from analysis.lib.fitting import fit, common"
     ],
     "language": "python",
     "metadata": {},
     "outputs": []
    },
    {
     "cell_type": "code",
     "collapsed": false,
     "input": [],
     "language": "python",
     "metadata": {},
     "outputs": []
    },
    {
     "cell_type": "code",
     "collapsed": true,
     "input": [],
     "language": "python",
     "metadata": {},
     "outputs": []
    },
    {
     "cell_type": "code",
     "collapsed": false,
     "input": [
      "#datadir = 'K:/ns/qt\\Diamond\\Projects\\Cavities\\Cavity characterisation paper\\data/data_for_cav_char_paper/20160831/'\n",
      "datadir = 'K:/ns/qt\\Diamond\\Projects\\Cavities\\Cavity characterisation paper\\data/data_for_cav_char_paper/20160525/'\n",
      "\n",
      "folders=[]\n",
      "for f in os.listdir(datadir):\n",
      "    if not '182550' in f:\n",
      "        continue#dirty hack since file doesn't want ot be removed\n",
      "    folder = os.path.join(datadir,f)\n",
      "    folders.append(folder)\n",
      "\n",
      "#folders = [os.path.join(datadir,'184753_length_scan_FSR_-2-10V_high_intensity_morepoints')]\n",
      "#folders = [os.path.join(datadir,'153138_length_scan' ),\n",
      "#           os.path.join(datadir,'160124_length_scan_LT_POS2_conversion_factor' ),\n",
      "#           os.path.join(datadir,'160130_length_scan_LT_POS2_conversion_factor' ),\n",
      "#           os.path.join(datadir,'160134_length_scan_LT_POS2_conversion_factor' ),\n",
      "#           os.path.join(datadir,'160138_length_scan_LT_POS2_conversion_factor' ),\n",
      "#           os.path.join(datadir,'160142_length_scan_LT_POS2_conversion_factor' )]\n",
      "\n",
      "\n",
      "dpeaks = np.array([])\n",
      "centrepeaks=np.array([])\n",
      "for f in folders:\n",
      "    peak_xs = analyse_lengthscan.lengthscan_analysis(f, do_get_peaks=True,old_style=True)\n",
      "    dpeak = np.diff(peak_xs)\n",
      "    centrepeak = peak_xs[:-1]+dpeak/2\n",
      "\n",
      "    print peak_xs\n",
      "    print dpeak\n",
      "    print centrepeak\n",
      "    print 636.6/2/dpeak\n",
      "    centrepeaks = np.append(centrepeaks,centrepeak)\n",
      "    dpeaks = np.append(dpeaks,dpeak)\n",
      "\n",
      "\n",
      "print centrepeaks \n",
      "print dpeaks\n",
      "\n"
     ],
     "language": "python",
     "metadata": {},
     "outputs": []
    },
    {
     "cell_type": "code",
     "collapsed": false,
     "input": [
      "#dpeaks = np.concatenate((dpeaksleft,dpeaksright))\n",
      "#centrepeaks = np.concatenate((centreleftpeaks,centrerightpeaks))\n",
      "\n",
      "conversionfactors = 636.6/2/dpeaks\n",
      "reload(common)\n",
      "print dpeaks\n",
      "print centrepeaks\n",
      "print conversionfactors\n",
      "\n",
      "\n",
      "fixed=[]\n",
      "\n",
      "fig,ax= plt.subplots()\n",
      "ax.plot(centrepeaks,conversionfactors,'o')\n",
      "ax.set_xlabel('V')\n",
      "ax.set_ylabel('local conversion factor (dL/dV)')\n",
      "\n",
      "p0, fitfunc, fitfunc_str = common.fit_poly(240,24,-2)#,0.1,1)\n",
      "print fitfunc_str\n",
      "fit_result = fit.fit1d(centrepeaks,conversionfactors, None, p0=p0, \n",
      "    fitfunc=fitfunc, do_print=True, ret=True,fixed=fixed,show_guess=True)\n",
      "\n",
      "plot.plot_fit1d(fit_result, np.linspace(-2,10,101))\n",
      "plt.savefig(os.path.join(folders[-1],'conversion_factor.png' ))"
     ],
     "language": "python",
     "metadata": {},
     "outputs": []
    },
    {
     "cell_type": "code",
     "collapsed": false,
     "input": [
      "#check correspondence:\n",
      "V = 7.937\n",
      "V0 = 5.353\n",
      "\n",
      "def V_to_L(V):\n",
      "    return  6.46/2*(V)**2 + 80*(V)\n",
      "L1  = V_to_L(V0)\n",
      "L2 = V_to_L(V)\n",
      "print L2-L1"
     ],
     "language": "python",
     "metadata": {},
     "outputs": []
    },
    {
     "cell_type": "code",
     "collapsed": true,
     "input": [
      "636.6/2/2.584"
     ],
     "language": "python",
     "metadata": {},
     "outputs": []
    },
    {
     "cell_type": "code",
     "collapsed": false,
     "input": [
      "avg_dp=np.average(dpeaks)\n",
      "std_dp =np.std(dpeaks)\n",
      "print 'average dp = %.3f,%.3f'%(avg_dp,std_dp)\n",
      "\n",
      "conversion_factor = 636.6/2/avg_dp\n",
      "print 'conversion factor = %.1f'%(conversion_factor)\n"
     ],
     "language": "python",
     "metadata": {},
     "outputs": []
    }
   ],
   "metadata": {}
  }
 ]
}
