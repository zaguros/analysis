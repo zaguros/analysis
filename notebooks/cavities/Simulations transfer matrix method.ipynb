{
 "cells": [
  {
   "cell_type": "code",
   "execution_count": null,
   "metadata": {
    "collapsed": false
   },
   "outputs": [],
   "source": [
    "import matplotlib\n",
    "%matplotlib inline"
   ]
  },
  {
   "cell_type": "code",
   "execution_count": null,
   "metadata": {
    "collapsed": false
   },
   "outputs": [],
   "source": [
    "execfile('D:/measuring/analysis/scripts/setup_analysis.py')\n",
    "\n",
    "import sys\n",
    "import numpy as np\n",
    "import math\n",
    "import scipy as sc\n",
    "import scipy.constants\n",
    "import os\n",
    "sys.path.append('H://My Documents/measuring/')\n",
    "\n",
    "from analysis.lib.tools import toolbox as tb\n",
    "from matplotlib import pyplot as plt\n",
    "\n",
    "sys.path.append('H://My Documents/measuring/')\n",
    "sys.path.append(r'K://ns/qt/Diamond/Projects/Cavities/simulations/')\n",
    "\n"
   ]
  },
  {
   "cell_type": "code",
   "execution_count": null,
   "metadata": {
    "collapsed": false
   },
   "outputs": [],
   "source": []
  },
  {
   "cell_type": "code",
   "execution_count": null,
   "metadata": {
    "collapsed": false
   },
   "outputs": [],
   "source": [
    "from analysis.scripts.cavity import simulations_matrixmethod as sim_mm\n",
    "from analysis.scripts.cavity import simulations_gaussian_beams as sim_gb"
   ]
  },
  {
   "cell_type": "code",
   "execution_count": null,
   "metadata": {
    "collapsed": false
   },
   "outputs": [],
   "source": [
    "R_int = 42\n",
    "folder  = r'K:/ns/qt/Diamond/Projects/Cavities/simulations/gaussian_beam_optics/w0s'\n",
    "data = np.loadtxt(os.path.join(folder,'w0table_R_%s.dat'%str(R_int)))\n",
    "ds = data[0,1:]\n",
    "Las = data[1:,0]\n",
    "w0s = data[1:,1:] \n",
    "fig,ax = plt.subplots(figsize=(6,4))\n",
    "cax = ax.imshow(w0s,extent=[Las[0],Las[-1],ds[0],ds[-1]],interpolation='none',aspect='auto',origin='lower')\n",
    "c = plt.colorbar(cax)\n",
    "ax.set_title('')\n",
    "ax.set_xlabel('air length (um)',fontsize=12)\n",
    "ax.set_ylabel('diamond thickness (um)',fontsize=12)\n",
    "c.set_label('w0 (um)',fontsize=12)\n",
    "ax.set_title(str(os.path.split(folder)[-1])+'/w0fig_R_%s.png'%str(R_int))\n",
    "plt.savefig(os.path.join(folder,'w0fig_R_%s.png'%str(R_int)))\n",
    "plt.show()"
   ]
  },
  {
   "cell_type": "code",
   "execution_count": null,
   "metadata": {
    "collapsed": false
   },
   "outputs": [],
   "source": [
    "print s"
   ]
  },
  {
   "cell_type": "code",
   "execution_count": null,
   "metadata": {
    "collapsed": false
   },
   "outputs": [],
   "source": [
    "n_air =1.\n",
    "n_diamond = 2.417\n",
    "def coupling_rate(Evac_max,lambda_ZPL = 637e-9,tau = 12.6e-9):\n",
    "    NV_dipole = dipole_moment(lambda_ZPL=lambda_ZPL,tau=tau)\n",
    "    coupling_rate = NV_dipole*Evac_max\n",
    "    return coupling_rate #[Nm]=[J]\n",
    "\n",
    "def dipole_moment(lambda_ZPL=637e-9,tau=12.6e-9):\n",
    "    dipole = math.sqrt(3.*math.pi*scipy.constants.epsilon_0*scipy.constants.hbar*(lambda_ZPL)**3/(n_diamond*(2*math.pi)**3)*1./(tau))\n",
    "    return dipole\n",
    "\n",
    "def kappa(cavity_lw):\n",
    "    kappa = 2*math.pi*cavity_lw\n",
    "    return kappa\n",
    "\n",
    "\n",
    "def F_p(cavity_lw,Evac_max=36.2e3,tau=12.6e-9):\n",
    "    return 4*coupling_rate(Evac_max)**2*tau/(kappa(cavity_lw))/(scipy.constants.hbar**2)\n",
    "\n",
    "def w0_to_FWHM(w0):\n",
    "    #w0 is the gaussian beam waist (beam radius)\n",
    "    #FWHM is the FWHM in INTENSITY \n",
    "    return math.sqrt(2*math.log(2))*w0\n",
    "\n",
    "def FWHM_to_w0(FWHM):\n",
    "    #w0 is the gaussian beam waist (beam radius)\n",
    "    #FWHM is the FWHM in INTENSITY \n",
    "    return FWHM/math.sqrt(2*math.log(2))\n",
    "\n",
    "NV_dipole=dipole_moment()\n",
    "\n",
    "    \n",
    "# coupling = NV_dipole*\n",
    "print NV_dipole/scipy.constants.e\n",
    "# print \n",
    "print coupling_rate(Evac_max=36.2e3)/scipy.constants.hbar*1.e-9\n",
    "print F_p(8e9)\n",
    "#print(w0_to_FWHM(1.04))\n",
    "print(FWHM_to_w0(0.83))\n"
   ]
  },
  {
   "cell_type": "code",
   "execution_count": null,
   "metadata": {
    "collapsed": false
   },
   "outputs": [],
   "source": [
    "reload(sim_mm)\n",
    "\n",
    "\n",
    "lambdas =np.linspace(500e-9,800e-9,301)\n",
    "\n",
    "\n",
    "G_aa,R_aa = sim_mm.dielmirror_reflectivity(2.146,1.46,8,lambdas=lambdas,na=n_air,nb=n_air)\n",
    "G_ad,R_ad = sim_mm.dielmirror_reflectivity(2.146,1.46,8,lambdas=lambdas,na=n_air,nb=n_diamond)\n",
    "\n",
    "max_R_aa = max(R_aa)\n",
    "max_R_ad = max(R_ad)\n",
    "min_T_aa = (1-max_R_aa)*1000000\n",
    "min_T_ad = (1-max_R_ad)*1000000\n",
    "\n",
    "fig,ax = plt.subplots()\n",
    "ax.plot(lambdas*1.e9,G_aa,label='Gamma')\n",
    "ax.plot(lambdas*1.e9,R_aa,label='air to air, min T: %d ppm'%(min_T_aa))\n",
    "ax.plot(lambdas*1.e9,R_ad,label='air to diamond, mint T: %d ppm'%(min_T_ad))\n",
    "ax.legend(loc='lower right')\n",
    "ax.set_xlabel('wavelength (nm)')\n",
    "ax.set_ylabel('reflectivity')\n",
    "plt.show()\n",
    "plt.close()\n"
   ]
  },
  {
   "cell_type": "code",
   "execution_count": null,
   "metadata": {
    "collapsed": false
   },
   "outputs": [],
   "source": [
    "reload(sim_mm)\n",
    "\n",
    "\n",
    "lambdas =np.linspace(450e-9,800e-9,351)\n",
    "\n",
    "\n",
    "G_aa,R_aa = sim_mm.dielmirror_narrowsb_reflectivity(2.1349,1.476,8,lambdas=lambdas,na=n_air,nb=1.476)\n",
    "G_ad,R_ad = sim_mm.dielmirror_narrowsb_reflectivity(2.1349,1.476,8,lambdas=lambdas,na=n_diamond,nb=1.476)\n",
    "\n",
    "# R_aa = R_aa**2\n",
    "# R_ad=R_ad**2\n",
    "max_R_aa = max(R_aa)\n",
    "max_R_ad = max(R_ad)\n",
    "min_T_aa = (1-max_R_aa)*1000000\n",
    "min_T_ad = (1-max_R_ad)*1000000\n",
    "\n",
    "fig,ax = plt.subplots()\n",
    "# ax.plot(lambdas*1.e9,G_aa,label='Gamma')\n",
    "ax.plot(lambdas*1.e9,R_aa,label='SiO2 to air, min T: %d ppm'%(min_T_aa))\n",
    "ax.plot(lambdas*1.e9,R_ad,label='SiO2 to diamond, min T: %d ppm'%(min_T_ad))\n",
    "ax.legend(loc='upper left')\n",
    "ax.set_xlabel('wavelength (nm)')\n",
    "ax.set_ylabel('reflectivity')\n",
    "plt.show()\n",
    "plt.close()\n"
   ]
  },
  {
   "cell_type": "code",
   "execution_count": null,
   "metadata": {
    "collapsed": false
   },
   "outputs": [],
   "source": [
    "reload(sim_mm)\n",
    "lambdas =np.linspace(500e-9,800e-9,301)\n",
    "\n",
    "R,r=sim_mm.mirror_reflectivity_from_matrix(lambdas,number_of_layers=10)\n",
    "fig,ax=plt.subplots()\n",
    "ax.plot(lambdas*1.e9,r,label='reflection coefficient')\n",
    "ax.plot(lambdas*1.e9,R,label='reflectivity')\n",
    "ax.legend()\n",
    "ax.legend(loc='lower right')\n",
    "ax.set_xlabel('wavelength (nm)')\n",
    "ax.set_ylabel('reflectivity')\n",
    "plt.show()\n",
    "plt.close()"
   ]
  },
  {
   "cell_type": "code",
   "execution_count": null,
   "metadata": {
    "collapsed": false
   },
   "outputs": [],
   "source": [
    "reload(sim_mm)\n",
    "print math.pi*(2.e-6)**2/2*0.37e-6/(1.e-6)**3\n",
    "R=16.e-6#13e-6#\n",
    "lambda_i = 637.e-9#940e-9#930e-9#\n",
    "lambda_cav =637.e-9#940e-9#852e-9 #\n",
    "t_d = 0.77e-6#0.e-6#\n",
    "t_a_g = 1.96e-6#2.4e-6#\n",
    "\n",
    "s = sim_mm.Cavity(t_d, t_a_g, R, lambda_cav = lambda_cav, n_1 = 2.06, n_2 = 1.46, lambda_i = lambda_i,cav_type='hybrid',dnu=8e9,beta0=0.0255)\n",
    "s.find_res_condition(plot_r=True)\n",
    "s.calculate_w0()\n",
    "s.analyse_cavity(plot_Evac=True,save_plot=True)\n",
    "print 'expected Purcell',s.Fp\n",
    "print 'into ZPL: ',s.intoZPL"
   ]
  },
  {
   "cell_type": "code",
   "execution_count": null,
   "metadata": {
    "collapsed": false
   },
   "outputs": [],
   "source": [
    "reload(sim_mm)\n",
    "R=39.e-6#13e-6#\n",
    "lambda_i = 637.e-9#940e-9#930e-9#\n",
    "lambda_cav =637.e-9#940e-9#852e-9 #\n",
    "t_d = 12.14e-6#0.e-6#\n",
    "t_a_g = 3.9e-6#2.4e-6#\n",
    "\n",
    "s = sim_mm.Cavity(t_d, t_a_g, R, lambda_cav = lambda_cav, n_1 = 2.06, n_2 = 1.46, lambda_i = lambda_i,cav_type='hybrid',dnu = 1.25e9)\n",
    "s.find_res_condition(plot_r=True)\n",
    "s.calculate_w0()\n",
    "s.analyse_cavity(plot_Evac=True,save_plot=True)\n",
    "print 'beam FWHM=',s.w0*math.sqrt(2*math.log(2))*1.e6,'um'\n",
    "print 'expected Purcell: ',s.Fp\n",
    "print 'into ZPL: ',s.intoZPL"
   ]
  },
  {
   "cell_type": "code",
   "execution_count": null,
   "metadata": {
    "collapsed": false
   },
   "outputs": [],
   "source": [
    "reload(sim_mm)\n",
    "\n",
    "R=18.4e-6\n",
    "t_d = 4.052e-6\n",
    "t_a_g = 4.52e-6\n",
    "s = sim_mm.Cavity(t_d, t_a_g, R, res_search_range=50e-9,dnu=2.5e9)\n",
    "s.find_res_condition(plot_r=True)\n",
    "s.calculate_w0()\n",
    "zs,ns_vs_z,Etot_vs_z,Evac_max,z0,dz0,Etot_diamond,Etot_air = s.analyse_cavity(plot_Evac=True,save_plot=False)\n",
    "print 'expected Purcell: ',s.Fp\n",
    "print 'into ZPL: ',s.intoZPL"
   ]
  },
  {
   "cell_type": "code",
   "execution_count": null,
   "metadata": {
    "collapsed": false
   },
   "outputs": [],
   "source": [
    "reload(sim_mm)\n",
    "R=18.4e-6\n",
    "t_d = 4.03e-6\n",
    "t_a_g = 4.6e-6\n",
    "dnus,Fps,intoZPLs = sim_mm.calculate_Fp_vs_finesse(t_d, t_a_g, R,finesses=np.linspace(100,20000,200))\n"
   ]
  },
  {
   "cell_type": "code",
   "execution_count": null,
   "metadata": {
    "collapsed": false
   },
   "outputs": [],
   "source": [
    "reload(sim_mm)\n",
    "R=39e-6\n",
    "t_d = 4.052e-6\n",
    "t_a_g = 4.6e-6\n",
    "dnus,Fps,intoZPLs = sim_mm.calculate_Fp_vs_finesse(t_d, t_a_g, R,finesses=np.linspace(100,20000,500))\n"
   ]
  },
  {
   "cell_type": "code",
   "execution_count": null,
   "metadata": {
    "collapsed": false
   },
   "outputs": [],
   "source": [
    "reload(sim_mm)\n",
    "R=39e-6\n",
    "t_d = 4.02e-6+(637e-9/2.41/2)\n",
    "t_a_g = 4.4e-6\n",
    "into_ZPLs,Purcells,lambda_ress,avg_p_ZPL = sim_mm.calculate_Fp_w_vibrations(t_d, t_a_g, R,nr_pts=101,dLmax=1.e-9,show_plots=True,vib_dL=0.5e-9)\n",
    "print avg_p_ZPL"
   ]
  },
  {
   "cell_type": "code",
   "execution_count": null,
   "metadata": {
    "collapsed": false
   },
   "outputs": [],
   "source": [
    "avg_p_ZPL"
   ]
  },
  {
   "cell_type": "code",
   "execution_count": null,
   "metadata": {
    "collapsed": false
   },
   "outputs": [],
   "source": [
    "reload(sim_mm)\n",
    "R=39e-6\n",
    "t_d = 4.02e-6+(637e-9/2.41/2)\n",
    "t_a_g = 4.4e-6\n",
    "dnus,Fps,intoZPLs,avg_p_ZPL = sim_mm.calculate_Fp_w_vibrations(t_d, t_a_g, R,nr_pts=101,dLmax=360)\n"
   ]
  },
  {
   "cell_type": "code",
   "execution_count": null,
   "metadata": {
    "collapsed": false
   },
   "outputs": [],
   "source": [
    "reload(sim_mm)\n",
    "R=18.4e-6\n",
    "t_d = 4.052e-6#+(637e-9/2.41/2)\n",
    "t_a_g = 4.5e-6\n",
    "avg = sim_mm.calc_avg_ZPL_vs_vibrations(t_d, t_a_g, R,nr_pts=51,dLmax=2.e-9,dnu=1.18e9)\n"
   ]
  },
  {
   "cell_type": "code",
   "execution_count": null,
   "metadata": {
    "collapsed": false
   },
   "outputs": [],
   "source": [
    "reload(sim_mm)\n",
    "R=18.e-6\n",
    "t_d = 4.e-6\n",
    "t_a_g = lambda_cav / 2*20\n",
    "s = sim_mm.Cavity(t_d, t_a_g, R, t_s=10e-6, M=30,cav_type='air', lambda_cav=lambda_cav,res_search_range=1e-14)\n",
    "s.find_res_condition(plot_r=True)\n",
    "s.calculate_w0()\n",
    "s.analyse_cavity(plot_Evac=True,save_plot=False)"
   ]
  },
  {
   "cell_type": "code",
   "execution_count": null,
   "metadata": {
    "collapsed": false
   },
   "outputs": [],
   "source": []
  },
  {
   "cell_type": "code",
   "execution_count": null,
   "metadata": {
    "collapsed": false
   },
   "outputs": [],
   "source": []
  },
  {
   "cell_type": "code",
   "execution_count": null,
   "metadata": {
    "collapsed": false
   },
   "outputs": [],
   "source": [
    "reload(sim_mm)\n",
    "R=18.e-6\n",
    "t_d = 4.e-6\n",
    "t_a_g = lambda_cav / 2\n",
    "M1 = 2\n",
    "M2= 4\n",
    "s = sim_mm.Cavity(t_d, t_a_g, R, t_s=10e-6, M1=M1,M2=M2,cav_type='test1', lambda_cav=lambda_cav,res_search_range=1e-7)\n",
    "s.find_res_condition(plot_r=True)\n",
    "s.analyse_cavity(plot_Evac=True,save_plot=False)"
   ]
  },
  {
   "cell_type": "code",
   "execution_count": null,
   "metadata": {
    "collapsed": false
   },
   "outputs": [],
   "source": [
    "implantation_depth = 198e-9#194e-9\n",
    "long_straggling = 27e-9#27e-9\n",
    "mu = z0+dz0-implantation_depth\n",
    "\n",
    "def gaussian(zs, mu, sig):\n",
    "    return 1./(math.sqrt(2*sig*math.pi))*np.exp(-np.power(zs - mu, 2.) / (2 * np.power(sig, 2.)))\n",
    "\n",
    "p_depth = gaussian(zs,mu,long_straggling)\n",
    "avg_Evac = np.sum(Etot_vs_z*p_depth)/np.sum(p_depth)/1000#in kV/m\n",
    "\n",
    "title = tb.get_timestamp_from_now()[0:8]+'_NV distr_dz_%dnm'%(implantation_depth*1.e9)\n",
    "fig,ax = plt.subplots()\n",
    "ax.plot(zs*1.e6,p_depth/np.sum(p_depth), label='appr. NV distr.')\n",
    "ax2 = ax.twinx()\n",
    "ax2.plot(zs*1.e6,Etot_vs_z/1000,'g',label='E vac')\n",
    "ax.set_xlim((mu-200e-9)*1.e6,(mu+200e-9)*1.e6)\n",
    "ax2.annotate('avg Evac = %.1f'%(avg_Evac),xy=((mu-180e-9)*1.e6,Evac_max/1000/4))\n",
    "ax2.set_ylabel('E vac (kV/m)')\n",
    "ax.set_ylabel('p dist')\n",
    "ax.set_xlabel('z (um)')\n",
    "ax.set_title(title)\n",
    "ax.legend(loc='upper left')\n",
    "ax2.legend()\n",
    "plt.savefig('K://ns/qt/Diamond/Projects/Cavities/simulations/transfer_matrix_model/'+title)\n",
    "plt.show()\n",
    "plt.close()\n",
    "np.average(Etot_vs_z[np.where((zs>(z0-27e-9))&(zs<(z0+27-9)))])/1000\n"
   ]
  },
  {
   "cell_type": "code",
   "execution_count": null,
   "metadata": {
    "collapsed": false
   },
   "outputs": [],
   "source": [
    "reload(sim_mm)\n",
    "\n",
    "R=18.e-6\n",
    "t_d =0.e-6\n",
    "t_a_g = 1.2e-6\n",
    "s = sim_mm.Cavity(t_d, t_a_g, R, cav_type = 'air')\n",
    "s.find_res_condition(plot_r=True)\n",
    "s.analyse_cavity(plot_Evac=True,save_plot=False)"
   ]
  },
  {
   "cell_type": "code",
   "execution_count": null,
   "metadata": {
    "collapsed": false
   },
   "outputs": [],
   "source": [
    "reload(sim_mm)\n",
    "def var_t_d(t_ds, R = 18.e-6):\n",
    "    nr_pts = 30001\n",
    "    lambda_cav=637.e-9\n",
    "\n",
    "    Etot_vs_z = np.zeros((len(t_ds),nr_pts))\n",
    "    Etot_diamond = np.zeros(len(t_ds))\n",
    "    Etot_air = np.zeros(len(t_ds))\n",
    "    Evac_max = np.zeros(len(t_ds))\n",
    "    dz0 = np.zeros(len(t_ds))\n",
    "\n",
    "    for i,t_d in enumerate(t_ds):\n",
    "        t_a_g = 2*lambda_cav-(t_d*n_diamond)%(lambda_cav)+68e-9\n",
    "        s = sim_mm.Cavity(t_d,t_a_g,R)\n",
    "        s.find_res_condition()\n",
    "        s.analyse_cavity(nr_points=nr_pts)\n",
    "        \n",
    "        Etot_vs_z[i] = s.Etot_vs_z\n",
    "        Evac_max[i] = s.Evac_max\n",
    "        dz0[i] = s.dz0\n",
    "        Etot_diamond[i] = s.Etot_diamond\n",
    "        Etot_air[i] = s.Etot_air\n",
    "        if i%10==0:\n",
    "            print i,'out of',len(t_ds),'finished'\n",
    "        \n",
    "    return Etot_vs_z,Etot_diamond,Etot_air,Evac_max,dz0\n"
   ]
  },
  {
   "cell_type": "code",
   "execution_count": null,
   "metadata": {
    "collapsed": false
   },
   "outputs": [],
   "source": []
  },
  {
   "cell_type": "code",
   "execution_count": null,
   "metadata": {
    "collapsed": false
   },
   "outputs": [],
   "source": [
    "t_ds = np.linspace(0.1e-6,5.0e-6,491)\n",
    "R= 18.e-6\n",
    "%time Etot_vs_z,Etot_diamond,Etot_air,E_z0,dz0 = var_t_d(t_ds, R = R)"
   ]
  },
  {
   "cell_type": "code",
   "execution_count": null,
   "metadata": {
    "collapsed": false
   },
   "outputs": [],
   "source": [
    "today = tb.get_timestamp_from_now()[:8]\n",
    "folder = 'K://ns/qt/Diamond/Projects/Cavities/simulations/transfer_matrix_model/'\n",
    "folder = os.path.join(folder,today)\n",
    "\n",
    "print folder\n",
    "\n",
    "rel_E_in_diamond=Etot_diamond/(Etot_diamond+Etot_air)\n",
    "\n",
    "fig,ax = plt.subplots()\n",
    "ax.plot(t_ds*1.e6,Etot_diamond,label='E in diamond')\n",
    "ax.plot(t_ds*1.e6,Etot_air,label = 'E in air')\n",
    "ax.legend()\n",
    "ax.set_xlabel('diamond thickness (um)')\n",
    "ax.set_ylabel('Energy in field per area (J/m^2)')\n",
    "title_string = today+'_E_vs_t_d_lambdacav_%.1f_R_%.1f'%(lambda_cav*1.e9,R*1.e6)\n",
    "ax.set_title(title_string)\n",
    "plt.savefig(folder+'/'+title_string+'.png')\n",
    "plt.show()\n",
    "plt.close()\n",
    "\n",
    "\n",
    "fig,ax = plt.subplots()\n",
    "\n",
    "ax.plot(t_ds*1.e6,rel_E_in_diamond,'m',label='percentage in diamond')\n",
    "ax.legend()\n",
    "ax.set_ylabel('percentage')\n",
    "ax.set_xlabel('diamond thickness (um)')\n",
    "title_string = today+'_perc_Ediamond_vs_t_d_lambdacav_%.1f_R_%.1f'%(lambda_cav*1.e9,R*1.e6)\n",
    "ax.set_title(title_string)\n",
    "plt.savefig(folder+'/'+title_string+'.png')\n",
    "plt.show()\n",
    "plt.close()\n",
    "\n",
    "fig,ax = plt.subplots()\n",
    "ax.plot(t_ds*1.e6,E_z0/1000.,label='E at antinode')\n",
    "ax.legend()\n",
    "ax.set_ylabel('kV/m')\n",
    "ax.set_xlabel('diamond thickness (um)')\n",
    "title_string = today+'_E_z0_vs_t_d_lambdacav_%.1f_R_%.1f'%(lambda_cav*1.e9,R*1.e6)\n",
    "ax.set_title(title_string)\n",
    "plt.savefig(folder+'/'+title_string+'.png')\n",
    "plt.show()\n",
    "plt.close()\n",
    "\n",
    "fig,ax = plt.subplots()\n",
    "ax.plot(t_ds*1.e6,dz0,label='depth to be implanted (nm)')\n",
    "ax.legend()\n",
    "ax.set_xlabel('diamond thickness (um)')\n",
    "title_string = today+'_implantation_depth_%.1f_R_%.1f'%(lambda_cav*1.e9,R*1.e6)\n",
    "ax.set_title(title_string)\n",
    "plt.savefig(folder+'/'+title_string+'.png')\n",
    "plt.show()\n",
    "plt.close()\n"
   ]
  },
  {
   "cell_type": "code",
   "execution_count": null,
   "metadata": {
    "collapsed": false
   },
   "outputs": [],
   "source": []
  },
  {
   "cell_type": "code",
   "execution_count": null,
   "metadata": {
    "collapsed": false
   },
   "outputs": [],
   "source": []
  }
 ],
 "metadata": {
  "kernelspec": {
   "display_name": "Python 2",
   "language": "python",
   "name": "python2"
  },
  "language_info": {
   "codemirror_mode": {
    "name": "ipython",
    "version": 2
   },
   "file_extension": ".py",
   "mimetype": "text/x-python",
   "name": "python",
   "nbconvert_exporter": "python",
   "pygments_lexer": "ipython2",
   "version": "2.7.3"
  }
 },
 "nbformat": 4,
 "nbformat_minor": 0
}
