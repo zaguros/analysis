{
 "cells": [
  {
   "cell_type": "markdown",
   "metadata": {},
   "source": [
    "# The purpose of this notebook is to analyze the oscilloscope data and spectrometer data to find the Finesse and Cavity Length "
   ]
  },
  {
   "cell_type": "code",
   "execution_count": null,
   "metadata": {
    "collapsed": false
   },
   "outputs": [],
   "source": [
    "%matplotlib inline\n",
    "import os\n",
    "import numpy as np\n",
    "import sys\n",
    "import matplotlib\n",
    "import matplotlib.pyplot as plt\n",
    "c=3.e8 #speed of light\n",
    "import time\n",
    "filepath='D:/measuring/'\n",
    "import scipy.signal\n",
    "os.chdir(filepath)\n",
    "\n",
    "sys.path.append('H:/My Documents/measuring/')\n",
    "\n",
    "#Directory for the Spectrometer Data\n",
    "data_dir='D:\\measuring\\data/20160824'#'D:\\measuring\\data/20160503\\ON diamond\\pos 7/raw data spectrometer\\L9'#'D:\\measuring\\data/20160707\\CL2_newmirror_processed'#\"/Users/suzannevandam/Documents/PhD/localdata/20160430/ON_diamond\" \n",
    "print data_dir\n",
    "\n",
    "#Saving Directory\n",
    "#save_dir=data_dir#'D:\\measuring\\data/20160805\\Data_Summary'\n",
    "\n",
    "%matplotlib inline"
   ]
  },
  {
   "cell_type": "code",
   "execution_count": null,
   "metadata": {
    "collapsed": false
   },
   "outputs": [],
   "source": [
    "import analysis.scripts.cavity.spectrometer_analysis as sa\n",
    "import analysis.scripts.cavity.spectrometer_analysis_2Dsweep as sa_2D\n",
    "import analysis.scripts.cavity.oscilloscope_analysis_linewidth as oscillo_ana"
   ]
  },
  {
   "cell_type": "markdown",
   "metadata": {},
   "source": [
    "# We first analyze the linewidth of the cavity using the oscilloscope data"
   ]
  },
  {
   "cell_type": "code",
   "execution_count": null,
   "metadata": {
    "collapsed": false
   },
   "outputs": [],
   "source": [
    "#This fits the oscilloscope data to three linewidths \n",
    "#note that if you change the spacing between the side peaks (in GHz), \n",
    "#you must go to the oscilloscope_analysis_linewidth script in sublime and change it there \n",
    "reload(oscillo_ana)\n",
    "#Directory for the Oscilloscope Data \n",
    "indir='D:\\measuring\\data/20160824/Scope_RF_ON_camera_up'#'D:\\measuring\\data/20160430\\OFF_diamond'\n",
    "filename='NICE_LWS00106'\n",
    "EOM_freq=6.9 #GHz\n",
    "\n",
    "#Selecting the correct peak\n",
    "x_min = 16750 #Left most point of the x (in ms)\n",
    "x_max = 20500 #Right most point in x (in ms)\n",
    "\n",
    "oa = oscillo_ana.oscilloscope_analysis(indir=indir,filename=filename)\n",
    "oa.get_data(use_timetrace=False,x_min=x_min,x_max=x_max)#1400)\n",
    "\n",
    "#Fit parameters \n",
    "g_a1 = 0 #Offset in the y-axis (usually remains at 0)\n",
    "g_A1 = 20 # Area of the large peaks ((High time-Low time)*Intensity)\n",
    "g_gamma1 = 150 #Estimate of linewidth of the center peak (Width at half max (in ms))\n",
    "#g_gamma2 = 200\n",
    "g_dx = 520 #Difference in ms between the center peak and the side peaks\n",
    "g_dx2 = 500\n",
    "g_A2 = 4 #Area of the side peak on the left\n",
    "#g_A3 = 2 #Area of the side peak on the right (only necessary if you are using the asymmetric peak fit)\n",
    "\n",
    "g_x01 = x_min+(x_max-x_min)/2. #Automatically finds the maximum of the middle peak. You have to place the middle peak in the center of the image for this to get a good estimate. Alternatively you can just input g_x01 manually if you have multiple peaks. \n",
    "#g_x01=22250\n",
    "\n",
    "fixed =[]\n",
    "\n",
    "print g_x01\n",
    "\n",
    "oa.plot_data()\n",
    "#oa.plot_and_fit_with_EOM(EOM_freq=EOM_freq,show_fit=True,g_a1=g_a1, g_A1=g_A1, g_x01=g_x01, g_gamma1=g_gamma1, g_dx=g_dx, g_A2=g_A2, g_A3=g_A3, fixed=fixed)\n",
    "oa.plot_and_fit_birefringence_with_EOM(EOM_freq=EOM_freq,show_fit=True,g_a1=g_a1, g_A1=g_A1, g_x01=g_x01, g_gamma1=g_gamma1, g_dx=g_dx,g_dx2=g_dx2 ,g_A2=g_A2, fixed=fixed)\n",
    "\n",
    "# This code is for average multiple pieces of data and then finding the fit of the average \n",
    "\n",
    "# # lws_old=lws[:-1]\n",
    "# lws = np.array([])#lws_old## \n",
    "# nr_lws=120\n",
    "\n",
    "# x0 =860\n",
    "# windowsize=300# print len(x)\n",
    "# # xi = int(len(x)/nr_lws)\n",
    "# # print xi \n",
    "\n",
    "# x,y = oa.get_data(use_timetrace=False)\n",
    "# # lw,u_lw = oa.plot_and_fit_with_EOM(EOM_freq=EOM_freq)\n",
    "# # print lw\n",
    "\n",
    "# for i in np.arange(nr_lws):\n",
    "#     xi = int(x0+(len(x)*i/nr_lws))\n",
    "    \n",
    "#     if i%2==1:\n",
    "#         xi=xi-50   \n",
    "#     if (xi-windowsize)>0:\n",
    "#         x_min = xi-windowsize\n",
    "#     else: \n",
    "#         x_min = 0\n",
    "#     if (xi+windowsize)<len(x)-1:\n",
    "#         x_max = xi+windowsize\n",
    "#     else:\n",
    "#         x_max =-1\n",
    "#     oa.get_data(use_timetrace=False,x_min = x_min, x_max=x_max)\n",
    "#     #oa.plot_data()\n",
    "#     lw,u_lw = oa.plot_and_fit_with_EOM(EOM_freq=EOM_freq,g_gamma1=20, g_dx=60,g_A2=2,g_A3=2,show_fit=True)\n",
    "#     lws = np.append(lws,lw)\n",
    "# #     if i>1:\n",
    "# #         break\n",
    "        "
   ]
  },
  {
   "cell_type": "markdown",
   "metadata": {},
   "source": [
    "# Now we analyze the spectrometer data to find the FSR/cavity length"
   ]
  },
  {
   "cell_type": "code",
   "execution_count": null,
   "metadata": {
    "collapsed": false
   },
   "outputs": [],
   "source": [
    "#note that what are called wavelengths, are actually the frequencies in THz! \n",
    "wavelengths,filenumbers,intensities = sa.load_data_from_folder(data_dir)\n",
    "# wavelengths,filenumbers,intensities = sa.load_data(data_file)\n",
    "\n",
    "print data_dir"
   ]
  },
  {
   "cell_type": "code",
   "execution_count": null,
   "metadata": {
    "collapsed": false
   },
   "outputs": [],
   "source": [
    "#Showing all of the peaks from the spectrometer data\n",
    "print len(wavelengths)\n",
    "plt.plot(wavelengths,intensities[:,0])\n",
    "plt.ylabel('Intensity (a.u)')\n",
    "plt.xlabel('Frequency (THz)')\n",
    "plt.title('All Peaks - Spectrometer Data '+data_dir)\n",
    "plt.savefig(os.path.join(data_dir, 'Full Spectrum - Spectrometer Data.jpg'))"
   ]
  },
  {
   "cell_type": "code",
   "execution_count": null,
   "metadata": {
    "collapsed": false
   },
   "outputs": [],
   "source": [
    "#Zooming in on one peak to find its frequency\n",
    "reload(sa_2D)\n",
    "\n",
    "print len(wavelengths)\n",
    "nwavelengths = wavelengths[850:925]\n",
    "nintensities = intensities[850:925]\n",
    "print len(nintensities)\n",
    "\n",
    "#Finding the maximum value of this peak and then the corresponding frequency that it is at \n",
    "peak1_freq = nwavelengths[nintensities.argmax()]\n",
    "peak1_int=np.asscalar(max(nintensities))\n",
    "print 'The frequency of peak 1 is', peak1_freq\n",
    "print 'The amplitude of peak 1 is', peak1_int\n",
    "\n",
    "#Adding in the plotting parameters\n",
    "plt.plot(nwavelengths,nintensities[:,0])\n",
    "plt.plot(peak1_freq,peak1_int,'r*')\n",
    "plt.ylabel('Intensity (a.u)')\n",
    "plt.xlabel('Frequency (THz)')\n",
    "plt.title('Peak 1 - Spectrometer Data '+data_dir)\n",
    "plt.savefig(os.path.join(data_dir, 'Peak 1 - Spectrometer Data Fit.jpg'))"
   ]
  },
  {
   "cell_type": "code",
   "execution_count": null,
   "metadata": {
    "collapsed": false
   },
   "outputs": [],
   "source": [
    "#Zooming in on one peak to find its frequency\n",
    "reload(sa_2D)\n",
    "print len(wavelengths)\n",
    "n2wavelengths = wavelengths[500:575]\n",
    "n2intensities = intensities[500:575]\n",
    "\n",
    "#Finding the maximum value of this peak and then the corresponding frequency that it is at \n",
    "peak2_freq = n2wavelengths[n2intensities.argmax()]\n",
    "peak2_int=np.asscalar(max(n2intensities))\n",
    "print 'The frequency of peak 2 is', peak2_freq\n",
    "print 'The amplitude of peak 2 is', peak2_int\n",
    "\n",
    "#Adding in the plotting parameters\n",
    "plt.plot(n2wavelengths,n2intensities[:,0])\n",
    "plt.plot(peak2_freq,peak2_int,'r*')\n",
    "plt.ylabel('Intensity (a.u)')\n",
    "plt.xlabel('Frequency (THz)')\n",
    "plt.title('Peak 2 - Spectrometer Data '+data_dir)\n",
    "plt.savefig(os.path.join(data_dir, 'Peak 2 - Spectrometer Data Fit.jpg'))"
   ]
  },
  {
   "cell_type": "markdown",
   "metadata": {},
   "source": [
    "# Now using the linewidth calculated and the peaks chosen for the FSR, we can find the Finesse and Cavity Length"
   ]
  },
  {
   "cell_type": "code",
   "execution_count": null,
   "metadata": {
    "collapsed": false
   },
   "outputs": [],
   "source": [
    "c = 3.e8\n",
    "peak1_freq = 455.e12\n",
    "peak2_freq = 492.e12\n",
    "FSR_freq = (peak2_freq-peak1_freq) #FSR (in Hz)\n",
    "dv = 1.8*1.e9 #Average of the linewidths found for the cavity (in Hz)\n",
    "F= FSR_freq/dv #Finesse \n",
    "L = c/(2*FSR_freq) #Cavity Length\n",
    "\n",
    "print L\n",
    "print 'The Finesse is', round(F,2)\n",
    "print 'The Cavity Length is', round(L*1.e6,2), 'um'\n",
    "\n",
    "# text_file = open(os.path.join(data_dir,'Characterization_Results.txt'), 'w')\n",
    "# text_file.write(\"Mirror Characterization\" )\n",
    "# text_file.write('\\n' \"Spectrometer Data: %s\" % data_dir)\n",
    "# text_file.write('\\n' \"Oscilloscope Data Average of: %s\" %indir)\n",
    "# text_file.write('\\n' \"Processed and Annealed\")\n",
    "# text_file.write('\\n' \"The Linewidth is: %s\" % (dv/1.e9))\n",
    "# text_file.write(\" GHz\")\n",
    "# text_file.write('\\n' \"The Cavity Length is: %s\" % round(L*1.e6,2))\n",
    "# text_file.write(\" um\")\n",
    "# text_file.write('\\n' \"The Finesse is: %s\" % (round(F,2)))\n",
    "# text_file.close()"
   ]
  },
  {
   "cell_type": "code",
   "execution_count": null,
   "metadata": {
    "collapsed": true
   },
   "outputs": [],
   "source": []
  }
 ],
 "metadata": {
  "kernelspec": {
   "display_name": "Python 2",
   "language": "python",
   "name": "python2"
  },
  "language_info": {
   "codemirror_mode": {
    "name": "ipython",
    "version": 2
   },
   "file_extension": ".py",
   "mimetype": "text/x-python",
   "name": "python",
   "nbconvert_exporter": "python",
   "pygments_lexer": "ipython2",
   "version": "2.7.3"
  }
 },
 "nbformat": 4,
 "nbformat_minor": 0
}
