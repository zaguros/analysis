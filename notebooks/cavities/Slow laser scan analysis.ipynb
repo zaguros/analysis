{
 "metadata": {
  "kernelspec": {
   "display_name": "Python 2",
   "language": "python",
   "name": "python2"
  },
  "language_info": {
   "codemirror_mode": {
    "name": "ipython",
    "version": 2
   },
   "file_extension": ".py",
   "mimetype": "text/x-python",
   "name": "python",
   "nbconvert_exporter": "python",
   "pygments_lexer": "ipython2",
   "version": "2.7.3"
  },
  "name": "",
  "signature": "sha256:e7bdbb8e08bc9e3d733ca9a007eac12cb60efbd0cd0daef1b03241c74331294c"
 },
 "nbformat": 3,
 "nbformat_minor": 0,
 "worksheets": [
  {
   "cells": [
    {
     "cell_type": "code",
     "collapsed": false,
     "input": [
      "%matplotlib inline\n",
      "import os\n",
      "import numpy as np\n",
      "import scipy\n",
      "import math\n",
      "import sys\n",
      "import matplotlib\n",
      "import matplotlib.pyplot as plt\n",
      "c=2.998e8 #speed of light\n",
      "import time\n",
      "filepath='D:/measuring/'\n",
      "import scipy.signal\n",
      "os.chdir(filepath)\n",
      "\n",
      "sys.path.append('H:/My Documents/measuring/')\n",
      "%matplotlib inline\n",
      "\n",
      "\n",
      "from analysis.lib.tools import plot\n",
      "import analysis.lib.tools.toolbox as tb\n",
      "from analysis.lib.fitting import fit,common\n",
      "from analysis.lib.cavity import cavity_tools\n",
      "import analysis.scripts.cavity.cavity_general_analysis\n",
      "from analysis.scripts.cavity import analyse_laserscan "
     ],
     "language": "python",
     "metadata": {},
     "outputs": [
      {
       "output_type": "stream",
       "stream": "stdout",
       "text": [
        "reloaded\n"
       ]
      }
     ],
     "prompt_number": 2
    },
    {
     "cell_type": "code",
     "collapsed": false,
     "input": [
      "2*math.sqrt(2*math.log(2))"
     ],
     "language": "python",
     "metadata": {},
     "outputs": [
      {
       "metadata": {},
       "output_type": "pyout",
       "prompt_number": 3,
       "text": [
        "2.3548200450309493"
       ]
      }
     ],
     "prompt_number": 3
    },
    {
     "cell_type": "code",
     "collapsed": false,
     "input": [
      "times = ['214252','215843','220955','223331','203750','160830']\n",
      "labels=['44','45','46','47','49','52']\n",
      "Ns=[44,45,46,47,49,52]\n",
      "reload(analyse_laserscan)\n",
      "binsize = 50\n",
      "\n",
      "FWHM_bins2 = np.array([])\n",
      "u_FWHM_bins2 = np.array([])\n",
      "fig3,ax3 = plt.subplots(figsize=(14,4))\n",
      "  \n",
      "    \n",
      "ax3.set_xlabel('bin nr')\n",
      "ax3.set_ylabel('FWHM')\n",
      "for i,time in enumerate(times):\n",
      "    timestamp,folder = tb.latest_data(contains = time+'_fine_laser_scan',return_timestamp=True)\n",
      "\n",
      "    a=analyse_laserscan.laserscan_analysis(folder)\n",
      "    a.get_and_bin_data(binsize=binsize,avg_per_s=False)\n",
      "#     a.poly_fit_frq()\n",
      "#     a.plot_PD_signal_vs_frq()\n",
      "#     a.plot_PD_signal_vs_V()\n",
      "#     a.plot_frq_vs_V()\n",
      "    FWHMs,u_FWHMs=a.fit_bins(plot_fit=False,plot_sigmas=False)\n",
      "    ax3.errorbar(np.arange(a.nr_bins),FWHMs,yerr=u_FWHMs,label=labels[i])\n",
      "#     a.plot_bins()\n",
      "#     a.get_linecut_per_ms(linecut_point = 10,do_plot=False)\n",
      "    FWHM_bins2 = np.append(FWHM_bins2,FWHMs[5])\n",
      "    u_FWHM_bins2 = np.append(u_FWHM_bins2,u_FWHMs[5])\n",
      "    a.finish()\n",
      "ax3.legend(title='cavity mode nr',loc='upper left')\n",
      "\n",
      "ax3.set_ylim([0,50])\n",
      "ax3.set_xlim([0,19])\n",
      "\n",
      "\n",
      "ax3.set_title(os.path.split(folder)[-1]+'/FWHMs_vs_bins_sweep_cavitylength_binsize%d.png'%binsize)\n",
      "fig3.savefig(folder+'/FWHMs_vs_bins_sweep_cavitylength_binsize%d.png'%binsize)\n",
      "# pls.show()\n",
      "# plt.close()\n",
      "\n",
      "fig4,ax4 = plt.subplots(figsize=(14,4))\n",
      "ax4.errorbar(Ns,FWHM_bins2,yerr=u_FWHM_bins2)\n",
      "ax4.set_xlim([43,53])\n",
      "ax4.set_xlabel('mode nr (N)')\n",
      "ax4.set_ylabel('FWHM of gaussian fit')\n",
      "fig4.savefig(folder+'/FWHMs_bin3_vs_cavitylength.png')\n"
     ],
     "language": "python",
     "metadata": {},
     "outputs": [
      {
       "output_type": "stream",
       "stream": "stderr",
       "text": [
        "WARNING:root:No data found in datadir\n"
       ]
      },
      {
       "ename": "TypeError",
       "evalue": "'NoneType' object is not iterable",
       "output_type": "pyerr",
       "traceback": [
        "\u001b[1;31m---------------------------------------------------------------------------\u001b[0m\n\u001b[1;31mTypeError\u001b[0m                                 Traceback (most recent call last)",
        "\u001b[1;32m<ipython-input-4-54172a2f83d4>\u001b[0m in \u001b[0;36m<module>\u001b[1;34m()\u001b[0m\n\u001b[0;32m     13\u001b[0m \u001b[0max3\u001b[0m\u001b[1;33m.\u001b[0m\u001b[0mset_ylabel\u001b[0m\u001b[1;33m(\u001b[0m\u001b[1;34m'FWHM'\u001b[0m\u001b[1;33m)\u001b[0m\u001b[1;33m\u001b[0m\u001b[0m\n\u001b[0;32m     14\u001b[0m \u001b[1;32mfor\u001b[0m \u001b[0mi\u001b[0m\u001b[1;33m,\u001b[0m\u001b[0mtime\u001b[0m \u001b[1;32min\u001b[0m \u001b[0menumerate\u001b[0m\u001b[1;33m(\u001b[0m\u001b[0mtimes\u001b[0m\u001b[1;33m)\u001b[0m\u001b[1;33m:\u001b[0m\u001b[1;33m\u001b[0m\u001b[0m\n\u001b[1;32m---> 15\u001b[1;33m     \u001b[0mtimestamp\u001b[0m\u001b[1;33m,\u001b[0m\u001b[0mfolder\u001b[0m \u001b[1;33m=\u001b[0m \u001b[0mtb\u001b[0m\u001b[1;33m.\u001b[0m\u001b[0mlatest_data\u001b[0m\u001b[1;33m(\u001b[0m\u001b[0mcontains\u001b[0m \u001b[1;33m=\u001b[0m \u001b[0mtime\u001b[0m\u001b[1;33m+\u001b[0m\u001b[1;34m'_fine_laser_scan'\u001b[0m\u001b[1;33m,\u001b[0m\u001b[0mreturn_timestamp\u001b[0m\u001b[1;33m=\u001b[0m\u001b[0mTrue\u001b[0m\u001b[1;33m)\u001b[0m\u001b[1;33m\u001b[0m\u001b[0m\n\u001b[0m\u001b[0;32m     16\u001b[0m \u001b[1;33m\u001b[0m\u001b[0m\n\u001b[0;32m     17\u001b[0m     \u001b[0ma\u001b[0m\u001b[1;33m=\u001b[0m\u001b[0manalyse_laserscan\u001b[0m\u001b[1;33m.\u001b[0m\u001b[0mlaserscan_analysis\u001b[0m\u001b[1;33m(\u001b[0m\u001b[0mfolder\u001b[0m\u001b[1;33m)\u001b[0m\u001b[1;33m\u001b[0m\u001b[0m\n",
        "\u001b[1;31mTypeError\u001b[0m: 'NoneType' object is not iterable"
       ]
      },
      {
       "metadata": {},
       "output_type": "display_data",
       "png": "[encoded data removed]",
       "text": [
        "<matplotlib.figure.Figure at 0xafaf4d0>"
       ]
      }
     ],
     "prompt_number": 4
    },
    {
     "cell_type": "code",
     "collapsed": false,
     "input": [
      "times = ['165207','162137','160830']\n",
      "labels=['normal 1','normal 2', 'normal 3']\n",
      "binsizes = [72,83,100]\n",
      "reload(analyse_laserscan)\n",
      "\n",
      "fig3,ax3 = plt.subplots(figsize=(14,4))\n",
      "    \n",
      "ax3.set_xlabel('bin start time (100 ms)')\n",
      "ax3.set_ylabel('FWHM')\n",
      "for i,time in enumerate(times):\n",
      "    timestamp,folder = tb.latest_data(contains = time+'_fine_laser_scan',return_timestamp=True)\n",
      "\n",
      "    a=analyse_laserscan.laserscan_analysis(folder)\n",
      "    a.get_and_bin_data(binsize=binsizes[i],avg_per_s=False)\n",
      "#     a.poly_fit_frq()\n",
      "#     a.plot_PD_signal_vs_frq()\n",
      "#     a.plot_PD_signal_vs_V()\n",
      "#     a.plot_frq_vs_V()\n",
      "    FWHMs,u_FWHMs=a.fit_bins(plot_fit=False,plot_sigmas=False)\n",
      "    ax3.errorbar(np.arange(a.nr_bins)*binsizes[i]/100.,FWHMs,yerr=u_FWHMs,label=labels[i])\n",
      "#     a.plot_bins()\n",
      "#     a.get_linecut_per_ms(linecut_point = 10,do_plot=False)\n",
      "    a.finish()\n",
      "ax3.legend(title='pulse tube setting',loc='upper left')\n",
      "\n",
      "ax3.set_ylim([0,150])\n",
      "ax3.set_xlim([0,20])\n",
      "\n",
      "\n",
      "ax3.set_title(os.path.split(folder)[-1]+'/FWHMs_vs_bins_sweep_tubesetting.png')\n",
      "plt.show()\n",
      "fig3.savefig(folder+'/FWHMs_vs_bins_sweep_tubesetting.png')"
     ],
     "language": "python",
     "metadata": {},
     "outputs": [
      {
       "ename": "Exception",
       "evalue": "No fitting data found containing 165207_fine_laser_scan.",
       "output_type": "pyerr",
       "traceback": [
        "\u001b[1;31m---------------------------------------------------------------------------\u001b[0m\n\u001b[1;31mException\u001b[0m                                 Traceback (most recent call last)",
        "\u001b[1;32m<ipython-input-3-a2c9cd8042a6>\u001b[0m in \u001b[0;36m<module>\u001b[1;34m()\u001b[0m\n\u001b[0;32m      9\u001b[0m \u001b[0max3\u001b[0m\u001b[1;33m.\u001b[0m\u001b[0mset_ylabel\u001b[0m\u001b[1;33m(\u001b[0m\u001b[1;34m'FWHM'\u001b[0m\u001b[1;33m)\u001b[0m\u001b[1;33m\u001b[0m\u001b[0m\n\u001b[0;32m     10\u001b[0m \u001b[1;32mfor\u001b[0m \u001b[0mi\u001b[0m\u001b[1;33m,\u001b[0m\u001b[0mtime\u001b[0m \u001b[1;32min\u001b[0m \u001b[0menumerate\u001b[0m\u001b[1;33m(\u001b[0m\u001b[0mtimes\u001b[0m\u001b[1;33m)\u001b[0m\u001b[1;33m:\u001b[0m\u001b[1;33m\u001b[0m\u001b[0m\n\u001b[1;32m---> 11\u001b[1;33m     \u001b[0mtimestamp\u001b[0m\u001b[1;33m,\u001b[0m\u001b[0mfolder\u001b[0m \u001b[1;33m=\u001b[0m \u001b[0mtb\u001b[0m\u001b[1;33m.\u001b[0m\u001b[0mlatest_data\u001b[0m\u001b[1;33m(\u001b[0m\u001b[0mcontains\u001b[0m \u001b[1;33m=\u001b[0m \u001b[0mtime\u001b[0m\u001b[1;33m+\u001b[0m\u001b[1;34m'_fine_laser_scan'\u001b[0m\u001b[1;33m,\u001b[0m\u001b[0mreturn_timestamp\u001b[0m\u001b[1;33m=\u001b[0m\u001b[0mTrue\u001b[0m\u001b[1;33m)\u001b[0m\u001b[1;33m\u001b[0m\u001b[0m\n\u001b[0m\u001b[0;32m     12\u001b[0m \u001b[1;33m\u001b[0m\u001b[0m\n\u001b[0;32m     13\u001b[0m     \u001b[0ma\u001b[0m\u001b[1;33m=\u001b[0m\u001b[0manalyse_laserscan\u001b[0m\u001b[1;33m.\u001b[0m\u001b[0mlaserscan_analysis\u001b[0m\u001b[1;33m(\u001b[0m\u001b[0mfolder\u001b[0m\u001b[1;33m)\u001b[0m\u001b[1;33m\u001b[0m\u001b[0m\n",
        "\u001b[1;32mH:\\My Documents\\measuring\\analysis\\lib\\tools\\toolbox.pyc\u001b[0m in \u001b[0;36mlatest_data\u001b[1;34m(contains, older_than, newer_than, return_timestamp, raise_exc, folder, return_all, VERBOSE, **kw)\u001b[0m\n\u001b[0;32m    163\u001b[0m     \u001b[1;32mif\u001b[0m \u001b[0mlen\u001b[0m\u001b[1;33m(\u001b[0m\u001b[0mmeasdirs\u001b[0m\u001b[1;33m)\u001b[0m \u001b[1;33m==\u001b[0m \u001b[1;36m0\u001b[0m\u001b[1;33m:\u001b[0m\u001b[1;33m\u001b[0m\u001b[0m\n\u001b[0;32m    164\u001b[0m         \u001b[1;32mif\u001b[0m \u001b[0mraise_exc\u001b[0m \u001b[1;33m==\u001b[0m \u001b[0mTrue\u001b[0m\u001b[1;33m:\u001b[0m\u001b[1;33m\u001b[0m\u001b[0m\n\u001b[1;32m--> 165\u001b[1;33m             \u001b[1;32mraise\u001b[0m \u001b[0mException\u001b[0m\u001b[1;33m(\u001b[0m\u001b[1;34m'No fitting data found containing {}.'\u001b[0m\u001b[1;33m.\u001b[0m\u001b[0mformat\u001b[0m\u001b[1;33m(\u001b[0m\u001b[0mcontains\u001b[0m\u001b[1;33m)\u001b[0m\u001b[1;33m)\u001b[0m\u001b[1;33m\u001b[0m\u001b[0m\n\u001b[0m\u001b[0;32m    166\u001b[0m         \u001b[1;32melse\u001b[0m\u001b[1;33m:\u001b[0m\u001b[1;33m\u001b[0m\u001b[0m\n\u001b[0;32m    167\u001b[0m             \u001b[1;32mreturn\u001b[0m \u001b[0mFalse\u001b[0m\u001b[1;33m\u001b[0m\u001b[0m\n",
        "\u001b[1;31mException\u001b[0m: No fitting data found containing 165207_fine_laser_scan."
       ]
      },
      {
       "metadata": {},
       "output_type": "display_data",
       "png": "[encoded data removed]",
       "text": [
        "<matplotlib.figure.Figure at 0x4c19970>"
       ]
      }
     ],
     "prompt_number": 3
    },
    {
     "cell_type": "code",
     "collapsed": true,
     "input": [],
     "language": "python",
     "metadata": {},
     "outputs": [],
     "prompt_number": null
    },
    {
     "cell_type": "code",
     "collapsed": false,
     "input": [
      "times = ['210342','210749','211308']\n",
      "labels=['21 s','105 s', '210 s']\n",
      "reload(analyse_laserscan)\n",
      "binsize=50\n",
      "fig3,ax3 = plt.subplots(figsize=(10,4))\n",
      "    \n",
      "ax3.set_xlabel('bin nr')\n",
      "ax3.set_ylabel('FWHM')\n",
      "for i,time in enumerate(times):\n",
      "    timestamp,folder = tb.latest_data(contains = time+'_fine_laser_scan',return_timestamp=True)\n",
      "\n",
      "    a=analyse_laserscan.laserscan_analysis(folder)\n",
      "    a.get_and_bin_data(binsize=binsize,avg_per_s=True)\n",
      "#     a.poly_fit_frq()\n",
      "#     a.plot_PD_signal_vs_frq()\n",
      "#     a.plot_PD_signal_vs_V()\n",
      "#     a.plot_frq_vs_V()\n",
      "    FWHMs,u_FWHMs=a.fit_bins(plot_fit=False)\n",
      "    ax3.errorbar(np.arange(a.nr_bins),FWHMs,yerr=u_FWHMs,label=labels[i])\n",
      "#     a.plot_bins()\n",
      "#     a.get_linecut_per_ms(linecut_point = 10,do_plot=False)\n",
      "    a.finish()\n",
      "ax3.legend(title='total sweep time',loc='upper left')\n",
      "\n",
      "ax3.set_ylim([0,100])\n",
      "ax3.set_xlim([0,20])\n",
      "ax3.set_title(os.path.split(folder)[-1]+'/FWHMs_vs_bins_sweep_sweeptime_binsize%d.png'%binsize)\n",
      "plt.show()\n",
      "fig3.savefig(folder+'/FWHMs_vs_bins_sweep_sweeptime_binsize%d.png'%binsize)"
     ],
     "language": "python",
     "metadata": {
      "scrolled": true
     },
     "outputs": [],
     "prompt_number": null
    },
    {
     "cell_type": "code",
     "collapsed": false,
     "input": [
      "reload(analyse_laserscan)\n",
      "timestamp,folder = tb.latest_data(contains = '_fine_laser_scan',return_timestamp=True)\n",
      "\n",
      "a=analyse_laserscan.laserscan_analysis(folder)\n",
      "a.get_and_bin_data(binsize=100,avg_per_s=True)\n",
      "a.poly_fit_frq()\n",
      "a.plot_PD_signal_vs_frq()\n",
      "a.plot_PD_signal_vs_V()\n",
      "a.plot_frq_vs_V()\n",
      "a.fit_bins(plot_fit=True)\n",
      "a.plot_bins()\n",
      "a.get_linecut_per_ms(linecut_point = 10,do_plot=False)\n",
      "a.finish()"
     ],
     "language": "python",
     "metadata": {
      "scrolled": true
     },
     "outputs": [],
     "prompt_number": null
    },
    {
     "cell_type": "code",
     "collapsed": false,
     "input": [
      "reload(analyse_laserscan)\n",
      "timestamp,folder = tb.latest_data(contains = '_fine_laser_scan',return_timestamp=True)\n",
      "\n",
      "a=analyse_laserscan.laserscan_analysis(folder)\n",
      "a.get_laserscan_data()\n",
      "a.calc_sweeptime()\n",
      "# a.poly_fit_frq()\n",
      "a.plot_PD_signal_vs_frq()\n",
      "a.plot_PD_signal_vs_V()\n",
      "a.plot_frq_vs_V()\n",
      "a.fit_lorentzian(plot_fit=True,g_gamma=3)\n",
      "a.get_linecut_per_ms(linecut_point = 10,do_plot=False)\n",
      "a.finish()"
     ],
     "language": "python",
     "metadata": {},
     "outputs": [],
     "prompt_number": null
    },
    {
     "cell_type": "code",
     "collapsed": false,
     "input": [
      "#plot average and a specific bin\n",
      "#5 seconds per point data\n",
      "#could use one with more data points\n",
      "\n",
      "\n",
      "reload(analyse_laserscan)\n",
      "folder = 'D:/measuring/data/data_for_cav_char_paper/20160901/210749_fine_laser_scan_LT_OND_POS2_L4'\n",
      "\n",
      "a=analyse_laserscan.laserscan_analysis(folder)\n",
      "a.get_and_bin_data(binsize=100,avg_per_s=True)\n",
      "a.poly_fit_frq()\n",
      "\n",
      "bin_nr=3\n",
      "fig, ax3 = plt.subplots()\n",
      "ax3=a.plot_PD_signal_vs_frq(ret_ax=True,ax=ax3)\n",
      "#ax3=a.fit_gaussian(save_plot=False,ret_ax=True,plot_fit=True,ax=ax3,label='average')\n",
      "ax3=a.fit_gaussian(x=a.frq_data,y=a.get_bin(bin_nr=bin_nr),ax=ax3,save_plot=False,ret_ax=True,plot_fit=True,label='bin %d'%bin_nr)\n",
      "\n",
      "plt.show()\n",
      "\n",
      "a.finish()"
     ],
     "language": "python",
     "metadata": {},
     "outputs": [
      {
       "output_type": "stream",
       "stream": "stdout",
       "text": [
        "using 50 bins of size 100\n",
        "10\n",
        "bin repetitions\n",
        "new nr bins 10\n",
        "(21, 50)\n",
        "(21, 5, 10)\n"
       ]
      },
      {
       "metadata": {},
       "output_type": "display_data",
       "png": "[encoded data removed]",
       "text": [
        "<matplotlib.figure.Figure at 0xa0dc630>"
       ]
      },
      {
       "metadata": {},
       "output_type": "display_data",
       "png": "[encoded data removed]",
       "text": [
        "<matplotlib.figure.Figure at 0x4bd5a10>"
       ]
      }
     ],
     "prompt_number": 61
    },
    {
     "cell_type": "code",
     "collapsed": false,
     "input": [
      "#VERAGE OVER 50 SLOW LASERSCANS\n",
      "#\n",
      "import math\n",
      "datapath  = 'K:/ns/qt\\Diamond\\Projects\\Cavities\\Cavity characterisation paper\\data/data_for_cav_char_paper/20160904/'\n",
      "\n",
      "#g_sigmas = np.average(all_FWHMs,axis=0) /(2*math.sqrt(2*math.log(2))) #note that this is circulare, and can only be done if had already been run once\n",
      "#print g_sigmas\n",
      "#for i in np.arange(len(g_sigmas)):\n",
      "#    if g_sigmas[i]>20:\n",
      "#        g_sigmas[i]=20\n",
      "#print g_sigmas\n",
      "#print np.ceil(g_sigmas,20)\n",
      "\n",
      "remove_bins =[1,2,12,13,14]\n",
      "reload(analyse_laserscan)\n",
      "for i,f in enumerate(os.listdir(datapath)):\n",
      "    a=analyse_laserscan.laserscan_analysis(os.path.join(datapath,f))\n",
      "    a.get_and_bin_data(binsize=50,avg_per_s=True)\n",
      "    FWHMs,u_FWHMs,x0 = a.fit_bins(plot_sigmas=False,plot_fit=False)\n",
      "    #if len(np.where(np.delete(u_FWHMs,remove_bins)>60)[0]>1):#delete the scans where uncertainty of fit in one bin is large. \n",
      "                #this is of course a form of postselection on the nice ones, thus cannot be done. \n",
      "    #    print i,x0,np.delete(u_FWHMs,remove_bins)\n",
      "        \n",
      "    #    continue\n",
      "    #print i, FWHMs[14],u_FWHMs[14],x0\n",
      "    #if u_FWHMs[14]>10:\n",
      "    #    print i, FWHMs[14],u_FWHMs[14],x0\n",
      "    if i == 0:\n",
      "        all_FWHMs = [FWHMs]\n",
      "        u_all_FWHMs = [u_FWHMs]\n",
      "    else:\n",
      "        all_FWHMs = np.append(all_FWHMs,[FWHMs],axis=0)\n",
      "        u_all_FWHMs = np.append(u_all_FWHMs,[u_FWHMs],axis=0)\n",
      "    a.finish()\n",
      "\n",
      "\n"
     ],
     "language": "python",
     "metadata": {},
     "outputs": [
      {
       "output_type": "stream",
       "stream": "stderr",
       "text": [
        "H:/My Documents/measuring/analysis\\lib\\fitting\\fit.py:99: FutureWarning: comparison to `None` will result in an elementwise object comparison in the future.\n",
        "  if not success or cov == None: # FIXME: find a better solution!!!\n"
       ]
      }
     ],
     "prompt_number": 5
    },
    {
     "cell_type": "code",
     "collapsed": false,
     "input": [
      "\n",
      "np.shape(all_FWHMs[:,19])\n",
      "bin_nr=10\n",
      "fwhms=all_FWHMs[:,bin_nr]\n",
      "u_fwhms = u_all_FWHMs[:,bin_nr]\n",
      "print fwhms\n",
      "print u_fwhms\n",
      "fig,ax = plt.subplots()\n",
      "ax.hist(fwhms,20)\n",
      "#ax.set_xlim([0,45])\n",
      "fig2,ax2 = plt.subplots()\n",
      "ax2.hist(u_fwhms,20)"
     ],
     "language": "python",
     "metadata": {},
     "outputs": [
      {
       "output_type": "stream",
       "stream": "stdout",
       "text": [
        "[ 21.58861423  22.91206947  26.78305156  26.95170863  23.43235829\n",
        "  20.97317411  19.78010149  17.01349555  28.61061308  29.65185745\n",
        "  20.94393801  46.71218272  20.7588758   19.5654985   26.02423141\n",
        "  32.18419755  17.59473789  23.71798269  24.01326742  34.41387796\n",
        "  20.32535657  27.16863309  12.29738522  23.999196    20.43913457\n",
        "  18.58977201  24.32576611  29.88096076  28.03238841  23.37413119\n",
        "  24.20022405  25.68508161  15.45702668  20.05095593  20.45521112\n",
        "  27.74180069  22.00044793  22.66051774  20.11866031  18.1818853\n",
        "  26.46207719  25.75008131  17.90144256  17.84869407  22.19836693\n",
        "  17.7561418   20.78345654  19.51008813  24.73469275  23.93674919]\n",
        "[  1.60868979   2.88467946   3.56511968   2.70020108   3.18823228\n",
        "   2.71191876   1.27297096   1.56193641   4.71974141   4.37177435\n",
        "   1.58977066  14.76358909   3.96959588   2.42674979   5.39009891\n",
        "   9.90278996   1.81799963   4.1580023    3.31112957   8.13271907\n",
        "   2.63683575   4.25053446   1.71146026   3.10403117   2.29126803\n",
        "   2.19153314   3.52574584   6.27916044   4.93515885   3.15075814\n",
        "   4.16827987   4.51373453   1.31366161   2.5830552    2.297105\n",
        "   3.05179997   3.63772626   2.46919274   1.6735172    1.53646864\n",
        "   4.09386719   4.1596057    1.69518371   2.49685344   1.57839685\n",
        "   1.83637897   1.82741808   2.02731528   3.61995808   3.27288116]\n"
       ]
      },
      {
       "metadata": {},
       "output_type": "pyout",
       "prompt_number": 6,
       "text": [
        "(array([ 13.,   8.,   9.,   6.,   7.,   2.,   1.,   1.,   0.,   0.,   1.,\n",
        "          0.,   1.,   0.,   0.,   0.,   0.,   0.,   0.,   1.]),\n",
        " array([  1.27297096,   1.94750187,   2.62203278,   3.29656368,\n",
        "          3.97109459,   4.6456255 ,   5.3201564 ,   5.99468731,\n",
        "          6.66921821,   7.34374912,   8.01828003,   8.69281093,\n",
        "          9.36734184,  10.04187275,  10.71640365,  11.39093456,\n",
        "         12.06546547,  12.73999637,  13.41452728,  14.08905819,  14.76358909]),\n",
        " <a list of 20 Patch objects>)"
       ]
      },
      {
       "metadata": {},
       "output_type": "display_data",
       "png": "[encoded data removed]",
       "text": [
        "<matplotlib.figure.Figure at 0xb0bbaf0>"
       ]
      },
      {
       "metadata": {},
       "output_type": "display_data",
       "png": "[encoded data removed]",
       "text": [
        "<matplotlib.figure.Figure at 0xb0f2ed0>"
       ]
      }
     ],
     "prompt_number": 6
    },
    {
     "cell_type": "code",
     "collapsed": false,
     "input": [
      "#print all_binned\n",
      "avg_FWHMs= np.average(all_FWHMs,axis=0)\n",
      "u_avg_FWHMs = scipy.stats.sem(all_FWHMs,axis=0)\n",
      "#u_avg_FWHMS = np.average(u_all_FWHMs,axis=0)\n",
      "\n",
      "\n",
      "avg_FWHMs = np.delete(avg_FWHMs,remove_bins)\n",
      "u_avg_FWHMs = np.delete(u_avg_FWHMs,remove_bins)\n",
      "bins = np.delete(np.arange(a.nr_bins),remove_bins)\n",
      "\n",
      "\n",
      "\n",
      "\n",
      "fig2,ax2 = plt.subplots(figsize=(6,4))\n",
      "remove_bins_height =  np.array([100]*len(remove_bins))\n",
      "\n",
      "#ax2.errorbar(bins/20.,avg_FWHMs,yerr=u_avg_FWHMs)#,width = 1/20.,color='lightblue')\n",
      "\n",
      "ax2.bar(bins/20.,avg_FWHMs,yerr=u_avg_FWHMs,width = 1/20.,color='lightblue')\n",
      "ax2.bar(np.array(remove_bins)/20.,remove_bins_height,width=1/20.,edgecolor='none',facecolor='green')\n",
      "ax2.set_xlabel('time after pulse tube synchronisation (s)')\n",
      "ax2.set_ylabel('FWHM')\n",
      "ax2.set_ylim([0,60])\n",
      "#ax2.set_ylim([0,80])\n",
      "ax2.set_title(a.folder+'/avg_FWHMs_vs_bins_binsize_%d.png'%a.binsize)\n",
      "#fig2.savefig(a.folder+'/avg_FWHMs_vs_bins_binsize_%d.png'%a.binsize)\n",
      "plt.savefig(os.path.join(os.path.join(datapath,f),'avg_FWHM_vs_bins.eps'))\n",
      "\n",
      "\n",
      "#all_binned=np.divide(all_binned,50)\n",
      "#a.fit_bins(binned_data=all_binned)\n"
     ],
     "language": "python",
     "metadata": {},
     "outputs": [
      {
       "metadata": {},
       "output_type": "display_data",
       "png": "[encoded data removed]",
       "text": [
        "<matplotlib.figure.Figure at 0xb2a7630>"
       ]
      }
     ],
     "prompt_number": 7
    },
    {
     "cell_type": "code",
     "collapsed": false,
     "input": [
      "#VERAGE OVER 50 SLOW LASERSCANS\n",
      "#\n",
      "datapath  =   'K:/ns/qt\\Diamond\\Projects\\Cavities\\Cavity characterisation paper\\data/data_for_cav_char_paper/20160904/'\n",
      "bin_nr=5\n",
      "i_window=3\n",
      "binsizeGHz = 1.5\n",
      "rangeGHz=60.\n",
      "ignored = 0\n",
      "reload(analyse_laserscan)\n",
      "figg,axx = plt.subplots()\n",
      "fig2,ax2 = plt.subplots()\n",
      "\n",
      "for i,f in enumerate(os.listdir(datapath)):\n",
      "\n",
      "    a=analyse_laserscan.laserscan_analysis(os.path.join(datapath,f))\n",
      "    a.get_and_bin_data(binsize=50,avg_per_s=True)\n",
      "    #a.plot_bins()\n",
      "    FWHMs,u_FWHMs,x0 =a.fit_bins(plot_fit=False,plot_sigmas=False)\n",
      "    a.poly_fit_frq(plot_fit=False)\n",
      "    dfrq_data=a.shift_centre(y=a.get_bin(bin_nr=bin_nr))\n",
      "    binsGHz, binned = a.bin_shifted_data(binsizeGHz=binsizeGHz,rangeGHz =rangeGHz)\n",
      "    axx.plot(binsGHz,binned[:,bin_nr],'o',label='i%d'%i)\n",
      "#     print dfrq_data[0],dfrq_data[-1],dfrq_data[0]+dfrq_data[-1]\n",
      "\n",
      "    if u_FWHMs[bin_nr]>20:\n",
      "        print '%d has a bad fit'%i\n",
      "        ax2.plot(binned[:,bin_nr],label='i%d'%i)\n",
      "        #a.fit_bins(plot_fit=False)\n",
      "    if abs(dfrq_data[0]+dfrq_data[-1])>20:\n",
      "        ignored+=1\n",
      "        print 'ignoring file i, since the peak is too much to the side'\n",
      "        continue\n",
      "    if i == 0:\n",
      "        all_binned = [binned]\n",
      "    else:\n",
      "        all_binned=np.append(all_binned,[binned],axis=0)\n",
      "        \n",
      "    a.finish()\n",
      "    \n",
      "print 'ignored %d scans'%ignored\n",
      "#axx.legend()\n",
      "ax2.legend()\n",
      "#axx.plot(all_binned[5])\n",
      "plt.show()\n",
      "\n",
      "\n",
      "\n",
      "\n",
      "\n"
     ],
     "language": "python",
     "metadata": {},
     "outputs": [
      {
       "output_type": "stream",
       "stream": "stdout",
       "text": [
        "8 has a bad fit\n",
        "ignored 0 scans"
       ]
      },
      {
       "output_type": "stream",
       "stream": "stdout",
       "text": [
        "\n"
       ]
      },
      {
       "output_type": "stream",
       "stream": "stderr",
       "text": [
        "C:\\Python27\\lib\\site-packages\\numpy\\core\\_methods.py:59: RuntimeWarning: Mean of empty slice.\n",
        "  warnings.warn(\"Mean of empty slice.\", RuntimeWarning)\n",
        "C:\\Python27\\lib\\site-packages\\numpy\\core\\_methods.py:71: RuntimeWarning: invalid value encountered in true_divide\n",
        "  ret = ret.dtype.type(ret / rcount)\n"
       ]
      },
      {
       "metadata": {},
       "output_type": "display_data",
       "png": "[encoded data removed]",
       "text": [
        "<matplotlib.figure.Figure at 0xb28c2f0>"
       ]
      },
      {
       "metadata": {},
       "output_type": "display_data",
       "png": "[encoded data removed]",
       "text": [
        "<matplotlib.figure.Figure at 0xb77a130>"
       ]
      }
     ],
     "prompt_number": 8
    },
    {
     "cell_type": "code",
     "collapsed": false,
     "input": [
      "############# parameters during slow scan:\n",
      "optical_cavity_length_slow_scans = 53.*(c/470.8e12)/2\n",
      "####################################\n",
      "def dnu_vibr_to_dL_vibr(dnu_vibr,cavity_length=1.e-6,res_freq=470.4e12):\n",
      "    return dnu_vibr/(res_freq)*(cavity_length)# in m\n",
      "\n",
      "print optical_cavity_length_slow_scans\n",
      "binsdL = dnu_vibr_to_dL_vibr(binsGHz*1.e9,optical_cavity_length_slow_scans,470.8e12)*1.e9\n",
      "print binsdL\n",
      "\n",
      "\n",
      "print dnu_vibr_to_dL_vibr(50*1.e9,optical_cavity_length_slow_scans,470.8e12)*1.e9"
     ],
     "language": "python",
     "metadata": {},
     "outputs": [
      {
       "output_type": "stream",
       "stream": "stdout",
       "text": [
        "1.68748937978e-05\n",
        "[-1.0752906  -1.02152607 -0.96776154 -0.91399701 -0.86023248 -0.80646795\n",
        " -0.75270342 -0.69893889 -0.64517436 -0.59140983 -0.5376453  -0.48388077\n",
        " -0.43011624 -0.37635171 -0.32258718 -0.26882265 -0.21505812 -0.16129359\n",
        " -0.10752906 -0.05376453  0.          0.05376453  0.10752906  0.16129359\n",
        "  0.21505812  0.26882265  0.32258718  0.37635171  0.43011624  0.48388077\n",
        "  0.5376453   0.59140983  0.64517436  0.69893889  0.75270342  0.80646795\n",
        "  0.86023248  0.91399701  0.96776154  1.02152607  1.0752906 ]\n",
        "1.79215099807\n"
       ]
      }
     ],
     "prompt_number": 9
    },
    {
     "cell_type": "code",
     "collapsed": false,
     "input": [],
     "language": "python",
     "metadata": {},
     "outputs": [],
     "prompt_number": 65
    },
    {
     "cell_type": "code",
     "collapsed": false,
     "input": [
      "reload(analyse_laserscan)\n",
      "print bin_nr\n",
      "all_files_binavg = np.nanmean(all_binned,axis=2)\n",
      "all_files_binnr = all_binned[:,:,bin_nr]\n",
      "\n",
      "\n",
      "def get_mean_and_error(all_files_array):\n",
      "    mean = np.nanmean(all_files_array,axis=0)\n",
      "    u_mean = np.zeros(len(all_files_array[0,:]))\n",
      "    u_mean2 = np.zeros(len(all_files_array[0,:]))\n",
      "    #print np.shape(u_mean)\n",
      "    for i in np.arange(len(all_files_array[0,:])):\n",
      "        notnans = np.where(~np.isnan(all_files_array[:,i]))[0]\n",
      "        u_mean[i] = scipy.stats.sem(all_files_array[notnans,i])\n",
      "    print np.shape(u_mean)\n",
      "    return mean,u_mean\n",
      "\n",
      "m_avg,u_m_avg = get_mean_and_error(all_files_binavg)\n",
      "m_binnr,u_m_binnr = get_mean_and_error(all_files_binnr)\n",
      "\n",
      "a=analyse_laserscan.laserscan_analysis(os.path.join(datapath,f))\n",
      "a.get_and_bin_data(binsize=50,avg_per_s=True)\n",
      "fig1,ax1 = plt.subplots(figsize=(6,4))\n",
      "ax1.errorbar(binsGHz,m_binnr+0.007,yerr=u_m_binnr,fmt='o',label='bin %d'%bin_nr)\n",
      "ax1.errorbar(binsGHz,m_avg,yerr=u_m_avg,fmt='o',label='average')\n",
      "ax1.set_title('')\n",
      "ax2=ax1.twiny()\n",
      "ax2.set_xlim(binsdL[0],binsdL[-1])\n",
      "\n",
      "FWHM_bin5,u_FWHM_bin5,ax1=a.fit_gaussian(x=binsGHz,y=m_binnr+0.007,plot_fit=True,ax=ax1,ret_ax=True,g_sigma=10,plot_data=False)\n",
      "FWHM_all,u_FWHM_all,max1=a.fit_gaussian(x=binsGHz,y=m_avg,plot_fit=True,ax=ax1,ret_ax=True,g_sigma=10,plot_data=False)\n",
      "\n",
      "print FWHM_bin5,u_FWHM_bin5\n",
      "print FWHM_all,u_FWHM_all\n",
      "ax1.set_ylim([0.012,0.04])\n",
      "ax1.set_xlim([-30,30])\n",
      "ax1.set_title('')\n",
      "\n",
      "\n",
      "plt.savefig('K:/ns/qt\\Diamond\\Projects\\Cavities\\Cavity characterisation paper/figures and drawings/vibration_linescan-allbin-bin5-1p5GHz.png')\n",
      "plt.savefig('K:/ns/qt\\Diamond\\Projects\\Cavities\\Cavity characterisation paper/figures and drawings/vibration_linescan-allbin-bin5-1p5GHz.eps')\n",
      "\n",
      "#plt.savefig('K:/ns/qt\\Diamond\\Projects\\Cavities\\Cavity characterisation paper/figures and drawings/vibration_linescan-allbin.eps')"
     ],
     "language": "python",
     "metadata": {},
     "outputs": [
      {
       "output_type": "stream",
       "stream": "stdout",
       "text": [
        "5\n",
        "(41,)\n",
        "(41,)\n",
        "13.317918549"
       ]
      },
      {
       "output_type": "stream",
       "stream": "stdout",
       "text": [
        " 0.724598320698\n",
        "22.2510706696 0.712496664088\n"
       ]
      },
      {
       "metadata": {},
       "output_type": "display_data",
       "png": "[encoded data removed]",
       "text": [
        "<matplotlib.figure.Figure at 0xb249b10>"
       ]
      }
     ],
     "prompt_number": 13
    },
    {
     "cell_type": "code",
     "collapsed": false,
     "input": [
      "# print binsGHz\n",
      "\n",
      "\n",
      "\n",
      "maxdL = dnu_vibr_to_dL_vibr(60*1.e9,optical_cavity_length_slow_scans,470.8e12)*1.e9\n",
      "nr_bins=20\n",
      "FWHM_bin = np.zeros(nr_bins)\n",
      "u_FWHM_bin = np.zeros(nr_bins)\n",
      "for b_nr in np.arange(nr_bins):\n",
      "    #notnans = np.where(~np.isnan(avg_binned[:,b_nr]))\n",
      "    #print b_nr,notnans\n",
      "    m_binnr,u_m_binnr = get_mean_and_error(all_binned[:,:,b_nr])\n",
      "    #fig1,ax1=plt.subplots()\n",
      "    #ax1.plot(binsGHz[notnans],avg_binned[:,b_nr][notnans])\n",
      "    FWHM_bin[b_nr],u_FWHM_bin[b_nr],ax1=a.fit_gaussian(x=binsGHz,y=m_binnr,plot_fit=True,ax=ax1,ret_ax=True,g_sigma=10,plot_data=True)\n",
      "# print FWHM_bin\n",
      "# print u_FWHM_bin\n",
      "fig,ax=plt.subplots()\n",
      "ax.bar(np.arange(nr_bins)/20.,FWHM_bin,yerr=u_FWHM_bin,width = 1/20.,color='lightblue')\n",
      "ax2=ax.twinx()\n",
      "ax.set_ylim([0,60])\n",
      "ax2.set_ylim([0,maxdL])\n",
      "plt.savefig('K:/ns/qt\\Diamond\\Projects\\Cavities\\Cavity characterisation paper/figures and drawings/avg_FWHM_vs_bins_fittedavg.eps')\n",
      "\n"
     ],
     "language": "python",
     "metadata": {},
     "outputs": [
      {
       "output_type": "stream",
       "stream": "stdout",
       "text": [
        "(41,)\n",
        "(41,)"
       ]
      },
      {
       "output_type": "stream",
       "stream": "stdout",
       "text": [
        "\n",
        "(41,)"
       ]
      },
      {
       "output_type": "stream",
       "stream": "stdout",
       "text": [
        "\n",
        "(41,)"
       ]
      },
      {
       "output_type": "stream",
       "stream": "stdout",
       "text": [
        "\n",
        "(41,)"
       ]
      },
      {
       "output_type": "stream",
       "stream": "stdout",
       "text": [
        "\n",
        "(41,)"
       ]
      },
      {
       "output_type": "stream",
       "stream": "stdout",
       "text": [
        "\n",
        "(41,)"
       ]
      },
      {
       "output_type": "stream",
       "stream": "stdout",
       "text": [
        "\n",
        "(41,)"
       ]
      },
      {
       "output_type": "stream",
       "stream": "stdout",
       "text": [
        "\n",
        "(41,)"
       ]
      },
      {
       "output_type": "stream",
       "stream": "stdout",
       "text": [
        "\n",
        "(41,)"
       ]
      },
      {
       "output_type": "stream",
       "stream": "stdout",
       "text": [
        "\n",
        "(41,)"
       ]
      },
      {
       "output_type": "stream",
       "stream": "stdout",
       "text": [
        "\n",
        "(41,)"
       ]
      },
      {
       "output_type": "stream",
       "stream": "stdout",
       "text": [
        "\n",
        "(41,)"
       ]
      },
      {
       "output_type": "stream",
       "stream": "stdout",
       "text": [
        "\n",
        "(41,)"
       ]
      },
      {
       "output_type": "stream",
       "stream": "stdout",
       "text": [
        "\n",
        "(41,)"
       ]
      },
      {
       "output_type": "stream",
       "stream": "stdout",
       "text": [
        "\n",
        "(41,)"
       ]
      },
      {
       "output_type": "stream",
       "stream": "stdout",
       "text": [
        "\n",
        "(41,)"
       ]
      },
      {
       "output_type": "stream",
       "stream": "stdout",
       "text": [
        "\n",
        "(41,)"
       ]
      },
      {
       "output_type": "stream",
       "stream": "stdout",
       "text": [
        "\n",
        "(41,)"
       ]
      },
      {
       "output_type": "stream",
       "stream": "stdout",
       "text": [
        "\n",
        "(41,)"
       ]
      },
      {
       "output_type": "stream",
       "stream": "stdout",
       "text": [
        "\n"
       ]
      },
      {
       "metadata": {},
       "output_type": "display_data",
       "png": "[encoded data removed]",
       "text": [
        "<matplotlib.figure.Figure at 0x141c16d0>"
       ]
      }
     ],
     "prompt_number": 205
    },
    {
     "cell_type": "code",
     "collapsed": false,
     "input": [
      "datapath  =   'K:/ns/qt\\Diamond\\Projects\\Cavities\\Cavity characterisation paper\\data/data_for_cav_char_paper/20160904/'\n",
      "reload(analyse_laserscan)\n",
      "for i,f in enumerate(os.listdir(datapath)):\n",
      "    if i>1:\n",
      "       break\n",
      "\n",
      "    a=analyse_laserscan.laserscan_analysis(os.path.join(datapath,f))\n",
      "    a.get_and_bin_data(binsize=50,avg_per_s=True)\n",
      "    #a.plot_bins()\n",
      "    FWHMs,u_FWHMs,x0 =a.fit_bins(plot_fit=False,plot_sigmas=False)\n",
      "    a.poly_fit_frq(plot_fit=False)\n",
      "    dfrq_data=a.shift_centre(y=a.get_bin(bin_nr=bin_nr))\n",
      "    a.bin_shifted_data(binsizeGHz=5.,rangeGHz =100.)\n",
      "    \n",
      "\n",
      "\n",
      "\n"
     ],
     "language": "python",
     "metadata": {},
     "outputs": [
      {
       "output_type": "stream",
       "stream": "stdout",
       "text": [
        "[-50. -45. -40. -35. -30. -25. -20. -15. -10.  -5.   0.   5.  10.  15.  20.\n",
        "  25.  30.  35.  40.  45.  50.] [        nan         nan         nan         nan         nan  0.01316083\n",
        "  0.0133963   0.01504871  0.01649258  0.02003647  0.02158806  0.01879846\n",
        "  0.01798752  0.01521418  0.01384339  0.01330144         nan         nan\n",
        "         nan         nan         nan]\n",
        "[-50. -45. -40. -35. -30. -25. -20. -15. -10.  -5.   0.   5.  10.  15.  20.\n",
        "  25.  30.  35.  40.  45.  50.]"
       ]
      },
      {
       "output_type": "stream",
       "stream": "stdout",
       "text": [
        " [        nan         nan         nan         nan         nan  0.01368191\n",
        "  0.01383775  0.01590751  0.01932418  0.02152915  0.02019475  0.01902756\n",
        "  0.01755509  0.01535929  0.01478815  0.01442944         nan         nan\n",
        "         nan         nan         nan]\n"
       ]
      },
      {
       "ename": "NameError",
       "evalue": "name 'nan' is not defined",
       "output_type": "pyerr",
       "traceback": [
        "\u001b[1;31m---------------------------------------------------------------------------\u001b[0m\n\u001b[1;31mNameError\u001b[0m                                 Traceback (most recent call last)",
        "\u001b[1;32m<ipython-input-91-17716353a71b>\u001b[0m in \u001b[0;36m<module>\u001b[1;34m()\u001b[0m\n\u001b[0;32m     13\u001b[0m     \u001b[0ma\u001b[0m\u001b[1;33m.\u001b[0m\u001b[0mbin_shifted_data\u001b[0m\u001b[1;33m(\u001b[0m\u001b[0mbinsizeGHz\u001b[0m\u001b[1;33m=\u001b[0m\u001b[1;36m5.\u001b[0m\u001b[1;33m,\u001b[0m\u001b[0mrangeGHz\u001b[0m \u001b[1;33m=\u001b[0m\u001b[1;36m100.\u001b[0m\u001b[1;33m)\u001b[0m\u001b[1;33m\u001b[0m\u001b[0m\n\u001b[0;32m     14\u001b[0m \u001b[1;33m\u001b[0m\u001b[0m\n\u001b[1;32m---> 15\u001b[1;33m \u001b[1;32mprint\u001b[0m \u001b[0mnan\u001b[0m\u001b[1;33m+\u001b[0m\u001b[1;36m20\u001b[0m\u001b[1;33m\u001b[0m\u001b[0m\n\u001b[0m\u001b[0;32m     16\u001b[0m \u001b[1;33m\u001b[0m\u001b[0m\n\u001b[0;32m     17\u001b[0m \u001b[1;33m\u001b[0m\u001b[0m\n",
        "\u001b[1;31mNameError\u001b[0m: name 'nan' is not defined"
       ]
      }
     ],
     "prompt_number": 91
    },
    {
     "cell_type": "code",
     "collapsed": false,
     "input": [
      "reload(analyse_laserscan) \n",
      "reload(common) \n",
      "x,frq,y,y_per_ms_avgs,y_per_ms_per_V=analyse_laserscan.laserscan_analysis(folder,plot_frq_vs_V=True)\n",
      "fig,ax = plt.subplots(figsize=(10,4))\n",
      "ax.plot(y_per_ms_per_V, label = '%d'%(ms_min/stepsize))\n",
      "ax.set_title(folder+'/PDsignal_per_mslinecut%d.png'%linecut_point)\n",
      "ax.set_ylabel('voltage in centre frequency')\n",
      "ax.set_xlabel('ms after sync')\n",
      "fig.savefig(folder+'/PDsignal_per_mslinecut%d.png'%linecut_point)\n",
      "\n",
      "g_x0 = -4 \n",
      "g_a0 = 480 \n",
      "g_a1 = -50/13 \n",
      "g_a2 = -2/1000\n",
      "\n",
      "p0, fitfunc, fitfunc_str = common.fit_poly_shifted(g_x0,g_a0, g_a1, g_a2) \n",
      "print fitfunc(-2) \n",
      "fit_result = fit.fit1d(x,frq, None, p0=p0, fitfunc=fitfunc, do_print=True, ret=True, fixed=fixed) \n",
      "fig,ax = plt.subplots(figsize=(8,4)) \n",
      "ax.plot(x,frq)\n",
      "\n",
      "print fitfunc_str \n",
      "print fit_result['params_dict'] \n",
      "plot.plot_fit1d(fit_result, np.linspace(x[-1],x[0],10*len(x)),ax=ax, label='Fit',show_guess=False, plot_data=True,color='red', data_linestyle = '-', print_info= True)\n",
      "\n",
      "frq_new =fit_result['fitfunc'](x)\n",
      "\n",
      "print frq_new\n",
      "\n",
      "fig,ax = plt.subplots(figsize=(8,4)) \n",
      "ax.plot(frq,y,label='raw frq') \n",
      "ax.plot(frq_new,y,label='fitted frq') \n",
      "ax.legend()\n"
     ],
     "language": "python",
     "metadata": {},
     "outputs": [],
     "prompt_number": null
    },
    {
     "cell_type": "code",
     "collapsed": false,
     "input": [
      "reload(analyse_laserscan)\n",
      "reload(common)\n",
      "ms_min_start=0\n",
      "ms_min_stop=1900\n",
      "nr_bins = 20\n",
      "ms_mins= np.linspace(ms_min_start,ms_min_stop,nr_bins)\n",
      "\n",
      "\n",
      "stepsize = (ms_min_stop-ms_min_start)/(nr_bins-1)\n",
      "\n",
      "#y_per_ms_avgs = np.zeros(len(ms_mins))\n",
      "\n",
      "newest_folder = '135902'\n",
      "\n",
      "nr_scans = 10\n",
      "for i in xrange(nr_scans):\n",
      "    timestamp,folder = tb.latest_data(contains = '_fine_laser_scan',older_than=newest_folder,return_timestamp=True)\n",
      "    newest_folder =timestamp# folder[27:33]\n",
      "    a=analyse_laserscan.laserscan_analysis(folder)\n",
      "    x,y,frq,y_per_ms_binned = a.get_and_bin_data(binsize=100)\n",
      "    frq = a.poly_fit_frq(plot_fit=False)\n",
      "    sigmas = a.fit_bins(plot_fit=False,plot_sigmas=False)\n",
      "\n",
      "#     a.plot_PD_signal_vs_frq()\n",
      "#     a.plot_PD_signal_vs_V()\n",
      "#     a.plot_frq_vs_V()\n",
      "#     a.fit_bins(plot_fit=False)\n",
      "#     a.get_linecut_per_ms(linecut_point = 21,do_plot=False)\n",
      "#     a.finish()\n",
      "\n",
      "    if i ==0:\n",
      "        new_y=y\n",
      "        new_y_binned=y_per_ms_binned\n",
      "    else:\n",
      "        new_y = np.add(new_y,y)    \n",
      "        new_y_binned = np.add(new_y_binned,y_per_ms_binned)    \n",
      "\n",
      "avg_y_binned = new_y_binned/nr_scans\n",
      "avg_y = new_y/nr_scans\n",
      "\n",
      "\n",
      "fig,ax = plt.subplots()\n",
      "ax.set_xlabel('Voltage (V)')\n",
      "ax.set_ylabel('PD signal (V)')\n",
      "plt.plot(x,avg_y)\n",
      "fig.savefig(folder+'/PDsignal_vs_laser_tuning_voltage.png')\n",
      "plt.show()\n",
      "fig,ax = plt.subplots()\n",
      "\n",
      "ax.set_xlabel('Frequency (GHz) + 470.4 THz')\n",
      "ax.set_ylabel('PD signal (V)')\n",
      "plt.plot(fit_frq,avg_y)\n",
      "fig.savefig(folder+'/PDsignal_vs_frq.png')\n",
      "plt.show()\n",
      "\n",
      "\n",
      "g_a = 0.7\n",
      "g_A = 3\n",
      "g_x0 = 4\n",
      "g_sigma = 4\n",
      "fixed = []\n",
      "\n",
      "p0, fitfunc, fitfunc_str = common.fit_gauss(g_a, g_A, g_x0, g_sigma)\n",
      "fit_result = fit.fit1d(x,avg_y, None, p0=p0, fitfunc=fitfunc, do_print=True, ret=True, fixed=fixed)\n",
      "fig,ax = plt.subplots(figsize=(8,4))\n",
      "ax.set_xlabel('Voltage (V)')\n",
      "ax.set_ylabel('PD signal (V)')\n",
      "plot.plot_fit1d(fit_result, np.linspace(x[0],x[-1],10*len(x)),ax=ax, label='Fit',show_guess=True, plot_data=True,color='red', data_linestyle = '-', print_info= False)\n",
      "\n",
      "A = fit_result['params_dict']['A']\n",
      "a = fit_result['params_dict']['a']\n",
      "x0 = fit_result['params_dict']['x0']\n",
      "sigma = fit_result['params_dict']['sigma']\n",
      "\n",
      "linewidth = (frq[0]-frq[-1])/(x[-1]-x[0])*sigma\n",
      "\n",
      "ax.set_title('Linewidth = %.4fGHz'%linewidth)\n",
      "\n",
      "\n",
      "\n",
      "nr_bins = np.size(avg_y_binned,1)\n",
      "fig,ax = plt.subplots(figsize=(10,4))\n",
      "colormap = plt.cm.copper\n",
      "plt.gca().set_color_cycle([colormap(i) for i in np.linspace(0, 0.9, nr_bins/2)])\n",
      "\n",
      "for i in np.arange(nr_bins):\n",
      "    ax.plot(fit_frq,avg_y_binned[:,i], label = '%d'%(ms_min/stepsize))\n",
      "plt.show()"
     ],
     "language": "python",
     "metadata": {
      "scrolled": true
     },
     "outputs": [],
     "prompt_number": null
    },
    {
     "cell_type": "code",
     "collapsed": false,
     "input": [
      "reload(analyse_laserscan)\n",
      "ms_min_start=0\n",
      "ms_min_stop=1950\n",
      "nr_bins = 40\n",
      "ms_mins= np.linspace(ms_min_start,ms_min_stop,nr_bins)\n",
      "\n",
      "sigmas = np.array([])\n",
      "stepsize = (ms_min_stop-ms_min_start)/(nr_bins-1)\n",
      "\n",
      "#y_per_ms_avgs = np.zeros(len(ms_mins))\n",
      "\n",
      "# folder = tb.latest_data(contains = '210749_fine_laser_scan')\n",
      "analyse_laserscan.laserscan_analysis(folder,do_plot=False,plot_PD_signal_vs_V=True)\n",
      "\n",
      "fig,ax = plt.subplots(figsize=(10,4))\n",
      "colormap = plt.cm.copper\n",
      "plt.gca().set_color_cycle([colormap(i) for i in np.linspace(0, 0.9, nr_bins/2)])\n",
      "\n",
      "for i,ms_min in enumerate(ms_mins):\n",
      "    x,frq,y_per_ms_binned,y_per_ms_per_V,sigma=analyse_laserscan.laserscan_analysis(folder,\n",
      "                                                    ms_min=ms_min,ms_max=ms_min+100,fit_lorentz_avg=False,\n",
      "                                                    fit_gaussian=True)\n",
      "\n",
      "    ax.plot(frq,y_per_ms_avgs, label = '%d'%(ms_min/stepsize))\n",
      "    sigmas = np.append(sigmas,sigma)\n",
      "#     ax.set_xlabel('Voltage(V)')\n",
      "\n",
      "\n",
      "\n",
      "ax.set_xlabel('frequency (GHz) + 470.4 THz')\n",
      "ax.set_ylabel('PD signal (V)|')\n",
      "ax.set_title(folder)\n",
      "ax.legend(title='time bin (of %d ms)'%stepsize,fontsize=6)\n",
      "fig.savefig(folder+'/PDsignal_per_%dms_vs_frq.png'%stepsize)\n",
      "plt.show()\n",
      "i = i+1\n",
      "\n",
      "\n",
      "print frq[-1], frq[0]\n",
      "\n",
      "\n",
      "fig,ax = plt.subplots(figsize=(10,4))\n",
      "ax.plot(ms_mins,sigmas)\n",
      "ax.set_xlabel('ms_mins (bins)')\n",
      "ax.set_ylabel('sigma (GHz)')\n",
      "ax.set_ylim([0,20])\n",
      "ax.set_title(folder+'sigma_vs_timebin')\n"
     ],
     "language": "python",
     "metadata": {
      "scrolled": true
     },
     "outputs": [],
     "prompt_number": null
    },
    {
     "cell_type": "code",
     "collapsed": false,
     "input": [
      "print folder\n",
      "reload(analyse_laserscan)\n",
      "x,frq,y,y_per_ms_binned,y_per_ms_per_V=analyse_laserscan.laserscan_analysis(folder,\n",
      "                                                ms_min=ms_min,ms_max=ms_min+100,fit_lorentz_avg=False,\n",
      "                                                fit_gaussian=False,binsize=100)\n",
      "\n",
      "nr_bins = np.size(y_per_ms_binned,1)\n",
      "print nr_bins\n",
      "fig,ax = plt.subplots(figsize=(10,4))\n",
      "\n",
      "\n",
      "for i in np.arange(nr_bins):\n",
      "    ax.plot(frq,y_per_ms_binned[:,i], label = '%d'%(ms_min/stepsize))\n",
      "#     sigmas = np.append(sigmas,sigma)\n",
      "    \n",
      "\n",
      "\n",
      "plt.show()\n"
     ],
     "language": "python",
     "metadata": {},
     "outputs": [],
     "prompt_number": null
    },
    {
     "cell_type": "code",
     "collapsed": true,
     "input": [
      "a=np.array([1,2,3,4,5,6,7,8,9,10,11,12,13,14,15,16,1,18,19,20])"
     ],
     "language": "python",
     "metadata": {},
     "outputs": [],
     "prompt_number": null
    },
    {
     "cell_type": "code",
     "collapsed": false,
     "input": [
      "np.arange(0,1000,100)"
     ],
     "language": "python",
     "metadata": {},
     "outputs": [],
     "prompt_number": null
    },
    {
     "cell_type": "code",
     "collapsed": false,
     "input": [
      "b = np.array([[1,2,3,4],[4,5,6,7]])\n",
      "c=np.array([1,2,3,4])\n",
      "d=np.histogram(c,3)\n",
      "print d\n",
      "np.histogram(b,2)"
     ],
     "language": "python",
     "metadata": {},
     "outputs": [],
     "prompt_number": null
    },
    {
     "cell_type": "code",
     "collapsed": false,
     "input": [
      "b[0]\n",
      "print b[1]"
     ],
     "language": "python",
     "metadata": {},
     "outputs": [],
     "prompt_number": null
    },
    {
     "cell_type": "code",
     "collapsed": false,
     "input": [
      "print b[0]+b[1]"
     ],
     "language": "python",
     "metadata": {},
     "outputs": [],
     "prompt_number": null
    },
    {
     "cell_type": "code",
     "collapsed": false,
     "input": [
      "p = [1,2,3]\n",
      "q = [2,4,6]\n",
      "\n",
      "import numpy as np\n",
      "z = np.add(p, q)\n",
      "\n",
      "print z/3\n"
     ],
     "language": "python",
     "metadata": {},
     "outputs": [],
     "prompt_number": null
    },
    {
     "cell_type": "code",
     "collapsed": true,
     "input": [
      "[x + y for x, y in zip(first, second)]"
     ],
     "language": "python",
     "metadata": {},
     "outputs": [],
     "prompt_number": null
    }
   ],
   "metadata": {}
  }
 ]
}