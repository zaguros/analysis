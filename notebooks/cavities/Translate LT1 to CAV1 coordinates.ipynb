{
 "cells": [
  {
   "cell_type": "markdown",
   "metadata": {},
   "source": [
    "### Translating LT1 coordinates to coordinates of the cavity set-up frame\n",
    "\n",
    "We use the 2D confocal scan of LT1, 20170616\\115103_scan2d, where we have located NV's. \n",
    "From a position of a NV cooridnate (x,y) in the lt1 confocal scan frame, we compute the position of the NV cooridinate in the cavity setup frame.\n",
    "\n",
    "LT1 frame: \n",
    "Numbering of the burned holes clockwise 1, 2, 3, starting in the left-bottom corner\n",
    "\n",
    "CAV frame: \n",
    "Numbering of the burned holes in cavity frame is clockwise 1, 2, 3, starting on top.\n",
    "\n",
    "Dirt is between hole 1 and 2. \n",
    "\n",
    "Constants: \n",
    " - cooridinates of holes 1 and 2 in LT frame.\n",
    "\n",
    "Input: \n",
    " - cooridinates of holes 1 and 2 in CAV frame\n",
    " - coordinates of NV center in LT frame\n",
    " \n",
    "Output:\n",
    " - coooridnate of NV center in CAV frame\n",
    " \n",
    "Method: \n",
    "- compute rotation and scaling between LT1 and CAV frame.\n",
    "- apply rotation and scaling to NV coordinate"
   ]
  },
  {
   "cell_type": "code",
   "execution_count": null,
   "metadata": {
    "collapsed": true
   },
   "outputs": [],
   "source": [
    "import numpy as np\n",
    "import math"
   ]
  },
  {
   "cell_type": "code",
   "execution_count": null,
   "metadata": {
    "collapsed": false
   },
   "outputs": [],
   "source": [
    "def translate_lt_to_cav_coor(xNV_lt1,yNV_lt1,xhole1_cav,yhole1_cav,xhole2_cav,yhole2_cav):\n",
    "\n",
    "    # LT1 set-up orientation points\n",
    "    xhole1_lt1 = 18.6\n",
    "    yhole1_lt1 = 16\n",
    "\n",
    "    xhole2_lt1 = 24.4\n",
    "    yhole2_lt1 = 25.4\n",
    "\n",
    "    # Determine the scaling between the two coordinate frames (CAV/LT1)\n",
    "    scaling = (math.sqrt((xhole1_cav-xhole2_cav)**2 + (yhole1_cav-yhole2_cav)**2)\n",
    "               /(math.sqrt((xhole1_lt1-xhole2_lt1)**2 + (yhole1_lt1-yhole2_lt1)**2)))\n",
    "\n",
    "    # Determine rotation between two frames\n",
    "    theta_lt1 = np.arctan2(yhole2_lt1 - yhole1_lt1, xhole2_lt1 - xhole1_lt1 )\n",
    "    theta_cav = np.arctan2(yhole2_cav - yhole1_cav, xhole2_cav - xhole1_cav )\n",
    "    theta = -theta_lt1 + theta_cav\n",
    "    \n",
    "    # Rotating between the two frames\n",
    "    R = np.array( [ [ np.cos(theta), -np.sin(theta) ], [ np.sin(theta), np.cos(theta) ] ] )\n",
    "   \n",
    "    v = np.dot( R, np.array( [xNV_lt1 - xhole1_lt1, yNV_lt1 - yhole1_lt1 ] ) ) * scaling + np.array( [xhole1_cav, yhole1_cav ] )\n",
    "    \n",
    "    return v\n"
   ]
  },
  {
   "cell_type": "code",
   "execution_count": null,
   "metadata": {
    "collapsed": false
   },
   "outputs": [],
   "source": [
    "# input variables\n",
    "# NV coordinates in LT1 frame\n",
    "\n",
    "xNV_lt1 = 5.6#(NV8)#12.1 #(NV1) #5.75 #(NV9)\n",
    "yNV_lt1 = 20.8#(NV8) #15.4 #(NV1) #20.4 #(NV9)\n",
    "\n",
    "# Cavity set-up orientation points\n",
    "xhole1_cav = 169.95#190.6#193.9 #damaged spot on top of the triangle\n",
    "yhole1_cav = -61.47#17.4#17.2\n",
    "\n",
    "xhole2_cav = 176.6#197#200.5 #spot bottom right corner of the triangle\n",
    "yhole2_cav = -74.4#4.9#7.2\n",
    "\n",
    "[xNV_cav,yNV_cav] =  translate_lt_to_cav_coor(xNV_lt1,yNV_lt1,xhole1_cav,yhole1_cav,xhole2_cav,yhole2_cav)\n",
    "\n",
    "print xNV_cav,yNV_cav"
   ]
  },
  {
   "cell_type": "code",
   "execution_count": null,
   "metadata": {
    "collapsed": false
   },
   "outputs": [],
   "source": [
    "math.sqrt((xhole1_cav-xhole2_cav)**2 + (yhole1_cav-yhole2_cav)**2)"
   ]
  },
  {
   "cell_type": "code",
   "execution_count": null,
   "metadata": {
    "collapsed": false
   },
   "outputs": [],
   "source": []
  },
  {
   "cell_type": "code",
   "execution_count": null,
   "metadata": {
    "collapsed": true
   },
   "outputs": [],
   "source": []
  }
 ],
 "metadata": {
  "kernelspec": {
   "display_name": "Python 2",
   "language": "python",
   "name": "python2"
  },
  "language_info": {
   "codemirror_mode": {
    "name": "ipython",
    "version": 2
   },
   "file_extension": ".py",
   "mimetype": "text/x-python",
   "name": "python",
   "nbconvert_exporter": "python",
   "pygments_lexer": "ipython2",
   "version": "2.7.3"
  }
 },
 "nbformat": 4,
 "nbformat_minor": 0
}
