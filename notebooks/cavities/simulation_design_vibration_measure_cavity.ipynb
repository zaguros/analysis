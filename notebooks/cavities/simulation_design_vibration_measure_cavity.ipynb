{
 "metadata": {
  "kernelspec": {
   "display_name": "Python 2",
   "language": "python",
   "name": "python2"
  },
  "language_info": {
   "codemirror_mode": {
    "name": "ipython",
    "version": 2
   },
   "file_extension": ".py",
   "mimetype": "text/x-python",
   "name": "python",
   "nbconvert_exporter": "python",
   "pygments_lexer": "ipython2",
   "version": "2.7.11"
  },
  "name": "",
  "signature": ""
 },
 "nbformat": 3,
 "nbformat_minor": 0,
 "worksheets": [
  {
   "cells": [
    {
     "cell_type": "code",
     "collapsed": false,
     "input": [
      "import numpy as np\n",
      "import numpy as np\n",
      "import scipy as sc\n",
      "import scipy.constants\n",
      "import math\n",
      "import os\n",
      "from matplotlib import pyplot as plt\n",
      "%matplotlib inline\n",
      "\n",
      "wavelength = 0.637*1e-6\n",
      "finesse = np.linspace( 500, 2800, 100)\n",
      "rho = ( 1 - np.pi / finesse )**2\n",
      "vibrationDetectionRange = wavelength / finesse\n",
      "\n",
      "fig = plt.figure(figsize=(16, 12))\n",
      "plt.subplot( 221 )\n",
      "plt.plot( finesse, rho )\n",
      "plt.grid()\n",
      "plt.xlabel( 'finesse' )\n",
      "plt.ylabel( 'round-trip transmittance (power)' )\n",
      "#plt.show()\n",
      "\n",
      "plt.subplot( 222 )\n",
      "plt.plot( finesse, vibrationDetectionRange*1e9 )\n",
      "plt.grid()\n",
      "plt.xlabel( 'finesse' )\n",
      "plt.ylabel( 'vibration detection range (nm)' )\n",
      "#plt.show()\n",
      "\n",
      "\n",
      "# Is this OK? Seems large!\n",
      "\n",
      "\n",
      "# Case 1: no loss, mirror with lower reflectivity\n",
      "R1 = 0.9999\n",
      "R2 = rho / R1\n",
      "maxTransmission1 = ( 1 - R1 ) * (1 - R2 ) / ( 1 + R1 * R2 - 2 * np.sqrt( R1 * R2 ) )\n",
      "plt.subplot( 223 )\n",
      "plt.plot( finesse, R2*100 )\n",
      "plt.grid()\n",
      "plt.xlabel( 'finesse' )\n",
      "plt.ylabel( 'mirror 2 reflectivity R2 (%)' )\n",
      "plt.title( 'R1 = 99.99%, no loss' )\n",
      "#plt.show() \n",
      "\n",
      "\n",
      "# Case 2: current mirrors, extra loss (e.g. clipping)\n",
      "R1 = 0.9999\n",
      "R2 = 0.998\n",
      "maxTransmission2 = ( 1 - R1 ) * (1 - R2 ) / ( 1 + rho - 2 * np.sqrt( rho ) )\n",
      "maxTransmission2[ rho > R1 * R2 ] = 0\n",
      "# if np.any( rho > R1 * R2):    \n",
      "  #  print( 'error: rho > R1 * R2 ' )\n",
      "\n",
      "plt.subplot( 224 )\n",
      "plt.plot( finesse, maxTransmission1*100, label='R1 = 99.99%, no loss' )\n",
      "plt.plot( finesse, maxTransmission2*100, label='R1 = 99.99%, R2 = 99.8%, cavity loss' )\n",
      "plt.grid()\n",
      "plt.xlabel( 'finesse' )\n",
      "plt.ylabel( 'maximum transmission (%)' )\n",
      "plt.legend()\n",
      "#plt.show()    \n",
      "    "
     ],
     "language": "python",
     "metadata": {
      "deletable": true,
      "editable": true
     },
     "outputs": []
    },
    {
     "cell_type": "code",
     "collapsed": true,
     "input": [],
     "language": "python",
     "metadata": {
      "deletable": true,
      "editable": true
     },
     "outputs": []
    },
    {
     "cell_type": "code",
     "collapsed": true,
     "input": [
      "lambda_cav = 637e-9\n",
      "\n",
      "def w0(L,R=40e-6):\n",
      "    return np.sqrt(lambda_cav/math.pi)*(L*(R-L))**(1./4)\n",
      "def w(z,L,R=40e-6):\n",
      "#     return np.multiply(w0(L), np.sqrt(1+(z*lambda_cav/(math.pi*w0(L)**2))**2))\n",
      "    return w0(L,R)* np.sqrt(1+(z*lambda_cav/(math.pi*w0(L,R)**2))**2)\n",
      "def wm(L,R=40e-6):\n",
      "    return w(L,L,R)\n",
      "def Lclip(L,D=8e-6,R=40e-6):\n",
      "    return np.exp(-2*(D/2)**2/(wm(L,R)**2))\n",
      "\n",
      "\n"
     ],
     "language": "python",
     "metadata": {
      "deletable": true,
      "editable": true
     },
     "outputs": []
    }
   ],
   "metadata": {}
  }
 ]
}