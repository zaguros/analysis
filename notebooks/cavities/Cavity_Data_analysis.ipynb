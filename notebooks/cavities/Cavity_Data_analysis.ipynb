{
 "cells": [
  {
   "cell_type": "code",
   "execution_count": null,
   "metadata": {
    "collapsed": false
   },
   "outputs": [],
   "source": [
    "import sys\n",
    "%matplotlib inline\n",
    "\n",
    "sys.path.append(\"D:/measuring\")\n",
    "sys.path.append(\"D:/measuring/analysis/\")\n",
    "import analysis.lib.tools.toolbox as tb"
   ]
  },
  {
   "cell_type": "code",
   "execution_count": null,
   "metadata": {
    "collapsed": false
   },
   "outputs": [],
   "source": [
    "import analysis.scripts.cavity.fit_linewidth2 as fit_lw\n"
   ]
  },
  {
   "cell_type": "code",
   "execution_count": null,
   "metadata": {
    "collapsed": false,
    "scrolled": true
   },
   "outputs": [],
   "source": [
    "sys.path.append(\"K:/ns/qt/Diamond/Samples/Markers_design_Wolfgang\")\n",
    "execfile(\"nv_marker.py\")\n"
   ]
  },
  {
   "cell_type": "markdown",
   "metadata": {},
   "source": [
    "# sweep sync delays analysis"
   ]
  },
  {
   "cell_type": "code",
   "execution_count": null,
   "metadata": {
    "collapsed": false
   },
   "outputs": [],
   "source": [
    "Test=[0,1,2,3,4,5,6,7]\n",
    "print Test\n",
    "print Test[1:4]\n",
    "#Test[0:(len(Test)/2)]"
   ]
  },
  {
   "cell_type": "code",
   "execution_count": null,
   "metadata": {
    "collapsed": false
   },
   "outputs": [],
   "source": [
    "reload(fit_lw)\n",
    "g_a1 = 0.0\n",
    "g_A1 = 0.00001\n",
    "g_x01 = 0.07\n",
    "g_gamma1 = 0.000214\n",
    "g_dx = 0.0001\n",
    "g_A2 = 0.00002\n",
    "date='20160715'\n",
    "indexmax=700\n",
    "fit_lw.fit_3_lorentzians(indexmax,date,g_a1,g_A1,g_x01,g_gamma1,g_dx,g_A2,folder = tb.latest_data('145611'))"
   ]
  },
  {
   "cell_type": "code",
   "execution_count": null,
   "metadata": {
    "collapsed": false,
    "scrolled": true
   },
   "outputs": [],
   "source": [
    "reload(fit_sweep)\n",
    "fit_sweep.fit_sweep_msync_delays(folder = tb.latest_data('sawtooth'),threshold=0.01,delta=0.02)"
   ]
  },
  {
   "cell_type": "code",
   "execution_count": null,
   "metadata": {
    "collapsed": false,
    "scrolled": true
   },
   "outputs": [],
   "source": [
    "execfile(\"D:/measuring/analysis/scripts/cavity/fit_sweep_msync_delays.py\")"
   ]
  },
  {
   "cell_type": "code",
   "execution_count": null,
   "metadata": {
    "collapsed": false,
    "scrolled": true
   },
   "outputs": [],
   "source": [
    "import numpy as np\n",
    "a=np.array([1])\n",
    "b=[1,2,3]\n",
    "[b[i] for i in a]"
   ]
  },
  {
   "cell_type": "code",
   "execution_count": null,
   "metadata": {
    "collapsed": false
   },
   "outputs": [],
   "source": [
    "execfile(\"D:/measuring/analysis/scripts/cavity/fit_linewidth2.py\")"
   ]
  },
  {
   "cell_type": "code",
   "execution_count": null,
   "metadata": {
    "collapsed": false
   },
   "outputs": [],
   "source": []
  },
  {
   "cell_type": "code",
   "execution_count": null,
   "metadata": {
    "collapsed": false
   },
   "outputs": [],
   "source": []
  },
  {
   "cell_type": "code",
   "execution_count": null,
   "metadata": {
    "collapsed": false
   },
   "outputs": [],
   "source": []
  },
  {
   "cell_type": "code",
   "execution_count": null,
   "metadata": {
    "collapsed": false
   },
   "outputs": [],
   "source": []
  },
  {
   "cell_type": "code",
   "execution_count": null,
   "metadata": {
    "collapsed": false
   },
   "outputs": [],
   "source": [
    "colors = ['red']\n",
    "x= np.array([0,1,2,3])\n",
    "y = np.array([3,4,5,6])\n",
    "y2 = np.array([[3,4,5,6],[7,8,9,1]])\n",
    "y.ndim\n",
    "\n",
    "if y.ndim==1:\n",
    "    plt.plot(x, y, color='red', linewidth =2)\n",
    "else:\n",
    "    rows,cols = np.shape(y)\n",
    "    if (colors == None) or (len(colors) < rows):\n",
    "        print colors\n",
    "        colori = cm.gist_earth(np.linspace(0,0.75, rows))\n",
    "    else:\n",
    "        colori=color\n",
    "    \n",
    "    for j in np.arange(rows):\n",
    "        plt.plot(x, y[j,:], 'RoyalBlue')            \n",
    "        plt.plot(x, y[j,:], 'o', color = colori[j])\n",
    "plt.show()\n",
    "    "
   ]
  },
  {
   "cell_type": "code",
   "execution_count": null,
   "metadata": {
    "collapsed": false
   },
   "outputs": [],
   "source": [
    "x = np.array([])\n",
    "print type(x)\n",
    "a = np.array([1,2,3])\n",
    "b = np.array([4,5,6])\n",
    "print type(b)\n",
    "c = np.append([a],[b],axis = 0)\n",
    "print type(c)\n",
    "a = c\n",
    "c = np.append(c,[b],axis=0)\n",
    "print c\n",
    "print a,b"
   ]
  },
  {
   "cell_type": "code",
   "execution_count": null,
   "metadata": {
    "collapsed": false
   },
   "outputs": [],
   "source": [
    "print rows,cols"
   ]
  },
  {
   "cell_type": "code",
   "execution_count": null,
   "metadata": {
    "collapsed": false
   },
   "outputs": [],
   "source": [
    "from matplotlib import cm\n",
    "colori = cm.gist_earth(np.linspace(0,1, 11))\n",
    "print colori\n",
    "\n",
    "for i in np.arange(11):\n",
    "    print colori[i]\n",
    "    plt.hold(True)\n",
    "    plt.plot(x, y, color=colori[i], linewidth =2)\n",
    "    plt.show()"
   ]
  },
  {
   "cell_type": "code",
   "execution_count": null,
   "metadata": {
    "collapsed": false
   },
   "outputs": [],
   "source": [
    "sys.path.append(\"D:/measuring/analysis/\")"
   ]
  },
  {
   "cell_type": "code",
   "execution_count": null,
   "metadata": {
    "collapsed": false
   },
   "outputs": [],
   "source": [
    "import sys\n",
    "%matplotlib inline\n",
    "\n",
    "sys.path.append(\"K:/ns/qt/Diamond/Samples/Markers_design_Wolfgang\")\n",
    "\n",
    "execfile(\"K:/ns/qt/Diamond/Samples/Markers_design_Wolfgang/nv_markers.py\")"
   ]
  },
  {
   "cell_type": "code",
   "execution_count": null,
   "metadata": {
    "collapsed": false
   },
   "outputs": [],
   "source": []
  }
 ],
 "metadata": {
  "kernelspec": {
   "display_name": "Python 2",
   "language": "python",
   "name": "python2"
  },
  "language_info": {
   "codemirror_mode": {
    "name": "ipython",
    "version": 2
   },
   "file_extension": ".py",
   "mimetype": "text/x-python",
   "name": "python",
   "nbconvert_exporter": "python",
   "pygments_lexer": "ipython2",
   "version": "2.7.3"
  }
 },
 "nbformat": 4,
 "nbformat_minor": 0
}
