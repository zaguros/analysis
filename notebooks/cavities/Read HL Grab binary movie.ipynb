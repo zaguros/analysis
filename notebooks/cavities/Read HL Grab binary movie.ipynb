{
 "cells": [
  {
   "cell_type": "code",
   "execution_count": null,
   "metadata": {
    "collapsed": false,
    "deletable": true,
    "editable": true
   },
   "outputs": [],
   "source": [
    "# Open camera files\n",
    "#\n",
    "# GL Grap Labview VI was for camera framegrabber was modified to store data as binary file.\n",
    "# UNIT8 binary data, dumped in a file without header etc. Frame by frame. See code below to read frames.\n",
    "# staff-groups/Diamond/Programs, Code and Drivers/Labview/HL Grab with AVI export function/HL Grab Export Binary  (Express).vi\n",
    "#   \n",
    "# Code below reads file, frame by frame.\n",
    "#\n",
    "# Previously I stored labview files as AVI with Y800 grayscale codec (NI Vision). \n",
    "# However, Python OpenCV could not open these files properly.\n",
    "# This should normally work: http://docs.opencv.org/3.0-beta/doc/py_tutorials/py_gui/py_video_display/py_video_display.html\n",
    "# Multiple people report errors with Y800 codec and opencv. Could also be ffmpeg problem though.\n",
    "#\n",
    "# Wouter, 28 March 2017\n",
    "\n",
    "\n",
    "import matplotlib.pyplot as plt\n",
    "import os.path\n",
    "import numpy as np\n",
    "%matplotlib inline\n",
    "\n",
    "filename = '/Users/wjwesterveld/Documents/Temp/164145_movie.bin'\n",
    "\n",
    "# Read corresponding .txt file into dictionary\n",
    "fileproperties = {}\n",
    "with open( filename[0:-4] + '.txt', 'r') as f:\n",
    "    for line in f:\n",
    "        (key, val) = line.split(\"=\")        \n",
    "        fileproperties[key.strip()] = val.strip()\n",
    "\n",
    "nx = int( fileproperties['nx'] )\n",
    "ny = int( fileproperties['ny'] )\n",
    "\n",
    "# Read movie, frame by frame.\n",
    "print os.path.isfile(filename)\n",
    "fo = open(filename,'r')\n",
    "while True:\n",
    "    gray = np.fromfile(fo, dtype=np.uint8, count=nx*ny)\n",
    "    if not gray.size:\n",
    "        break\n",
    "    gray = gray.reshape(ny,nx)  \n",
    "    plt.imshow(gray,cmap='gray')\n",
    "    plt.show()\n",
    "fo.close()\n",
    "\n",
    "\n",
    "\n",
    "\n"
   ]
  },
  {
   "cell_type": "code",
   "execution_count": null,
   "metadata": {
    "collapsed": false,
    "deletable": true,
    "editable": true
   },
   "outputs": [],
   "source": [
    "print fileproperties"
   ]
  },
  {
   "cell_type": "code",
   "execution_count": null,
   "metadata": {
    "collapsed": false,
    "deletable": true,
    "editable": true
   },
   "outputs": [],
   "source": [
    "\n"
   ]
  }
 ],
 "metadata": {
  "kernelspec": {
   "display_name": "Python 2",
   "language": "python",
   "name": "python2"
  },
  "language_info": {
   "codemirror_mode": {
    "name": "ipython",
    "version": 2
   },
   "file_extension": ".py",
   "mimetype": "text/x-python",
   "name": "python",
   "nbconvert_exporter": "python",
   "pygments_lexer": "ipython2",
   "version": "2.7.11"
  }
 },
 "nbformat": 4,
 "nbformat_minor": 2
}
