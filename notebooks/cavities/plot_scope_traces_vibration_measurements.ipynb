{
 "cells": [
  {
   "cell_type": "code",
   "execution_count": null,
   "metadata": {
    "collapsed": false,
    "deletable": true,
    "editable": true
   },
   "outputs": [],
   "source": [
    "import numpy as np\n",
    "import os.path\n",
    "import pandas\n",
    "import matplotlib\n",
    "import scipy.signal\n",
    "import scipy.constants\n",
    "\n",
    "%matplotlib inline\n",
    "import matplotlib.pyplot as plt\n",
    "from matplotlib import gridspec\n",
    "\n",
    "# import mpld3\n",
    "# from mpld3 import plugins\n",
    "\n",
    "# data_dir = r\"K:\\ns\\qt\\Diamond\\Projects\\Cavities\\Cavity characterisation paper\\data\\data_for_cav_char_paper\\20160406\\yoko_scans\"\n",
    "# data_dir = '/Users/wjwesterveld/Documents/Temp/' # copied above data to local temp folder, also to be sure we dont overwrite anyting\n",
    "data_dir = '/Users/wjwesterveld/Documents/Temp_CAV1_data/20170623/Scope' # copied above data to local temp folder, also to be sure we dont overwrite anyting\n",
    "\n",
    "\n"
   ]
  },
  {
   "cell_type": "markdown",
   "metadata": {
    "deletable": true,
    "editable": true
   },
   "source": [
    "## Load xviewer csv (from binary scope data) and scope csv"
   ]
  },
  {
   "cell_type": "code",
   "execution_count": null,
   "metadata": {
    "collapsed": false,
    "deletable": true,
    "editable": true
   },
   "outputs": [],
   "source": []
  },
  {
   "cell_type": "code",
   "execution_count": null,
   "metadata": {
    "collapsed": false,
    "deletable": true,
    "editable": true
   },
   "outputs": [],
   "source": [
    "def read_scope_xviewer_csv(filename):\n",
    "    headerRows = 10        \n",
    "    with open(filename) as f:\n",
    "        for x in range(headerRows):\n",
    "            line = f.readline()            \n",
    "            if \"HResolution\" in line:                \n",
    "                timeResolution = float( line[line.find(',')+1:line.rfind(',')].strip(' \\t\\n\\r') )        \n",
    "    data = pandas.read_csv(filename,header=None,skiprows=headerRows,usecols=[1]).values.flatten()\n",
    "    return data, timeResolution\n",
    "\n",
    "\n",
    "def read_scope_csv(filename):\n",
    "    headerRows = 16        \n",
    "    with open(filename) as f:\n",
    "        for x in range(headerRows):\n",
    "            line = f.readline()            \n",
    "            if \"HResolution\" in line:                \n",
    "                timeResolution = float( line[line.rfind(',')+1:-1].strip(' \\t\\n\\r') )    \n",
    "    data = pandas.read_csv(filename,header=None,skiprows=headerRows).values[:,1:-1]\n",
    "    return data, timeResolution\n",
    "\n",
    "\n",
    "\n",
    "file_name = \"IFM_OFF007.csv\"  \n",
    "filename = os.path.join(data_dir,file_name)\n",
    "\n",
    "data, timeResolution = read_scope_csv(filename)\n",
    "time = timeResolution * np.arange(data.shape[0]) \n",
    "\n",
    "print '{} traces, time resolution {} us (sampling frequency {} kHz), trace length {} s, data length {}'.format( \\\n",
    "    data.shape[1], timeResolution * 1e6, 1.0/timeResolution* 1e-3, timeResolution*len(data), data.shape[0] )\n"
   ]
  },
  {
   "cell_type": "markdown",
   "metadata": {
    "deletable": true,
    "editable": true
   },
   "source": [
    "## Plot and Fit linewidth functions"
   ]
  },
  {
   "cell_type": "code",
   "execution_count": null,
   "metadata": {
    "collapsed": true,
    "deletable": true,
    "editable": true
   },
   "outputs": [],
   "source": [
    "## Plot functions for linewidth measurements\n",
    "\n",
    "def tmp_plot_function(time,data):\n",
    "    fig = plt.figure(figsize=(16, 8))\n",
    "    plt.subplot(121)\n",
    "    plt.plot( time, data[:,1] )\n",
    "    plt.plot( time, data[:,0])\n",
    "    plt.xlabel('time (s)')\n",
    "    plt.ylabel('signal (V)')    \n",
    "\n",
    "    plt.subplot(122)    \n",
    "    plt.plot( data[:,1], data[:,0])\n",
    "    plt.xlabel('piezo signal (V)')\n",
    "    plt.ylabel('cavity transmission (V)')    \n",
    "\n",
    "    plt.tight_layout()    \n",
    "    plt.show()\n",
    "\n",
    "def tmp_read_and_plot(file_name,data_dir):    \n",
    "    data, timeResolution = read_scope_csv(os.path.join(data_dir,file_name))\n",
    "    time = timeResolution * np.arange(data.shape[0]) \n",
    "    print file_name\n",
    "    tmp_plot_function(time,data)"
   ]
  },
  {
   "cell_type": "code",
   "execution_count": null,
   "metadata": {
    "collapsed": true,
    "deletable": true,
    "editable": true
   },
   "outputs": [],
   "source": [
    "## LINEWIDTH IN GHz - FITTING AND ANALYSIS FUNCTIONS\n",
    "\n",
    "import pylab\n",
    "from scipy.optimize import leastsq # Levenberg-Marquadt Algorithm #\n",
    "\n",
    "def lorentzian(x,p):    \n",
    "    # Defined by wolfram, p[0] is center, p[1] is fwhm, p[3] is max intensity\n",
    "    # See http://mathworld.wolfram.com/LorentzianFunction.html\n",
    "    # But note that we have p[3] = 2 / (pi * fwhm) for integrated intensity of one.\n",
    "    return p[2] * (0.5 * p[1])**2 / ( ( x - p[0] )**2 + ( 0.5 * p[1] )**2 )\n",
    "\n",
    "def lorentzian3(x,p):  \n",
    "    return p[2] * ( lorentzian(x,[p[0], p[1], 1]) + lorentzian(x,p[3:6]) + lorentzian(x,p[6:9]) )\n",
    "\n",
    "def fit_lorenzian(time,data,fwhmGuess,timeResolution):\n",
    "    # initial guess\n",
    "    a1Guess = np.amax(data)\n",
    "    t1Guess = np.argmax(data) * timeResolution + time[0]\n",
    "    # fit lorenzian function to data\n",
    "    def residuals(p,y,x):\n",
    "        return y - lorentzian(x,p)\n",
    "    guessParameters = [t1Guess,fwhmGuess,a1Guess]  # [peak center, hwhm, intensity]\n",
    "    pbest = leastsq(residuals,guessParameters,args=(data,time),full_output=1)\n",
    "    fitParameters = pbest[0]\n",
    "    return fitParameters, guessParameters\n",
    "\n",
    "def fit_lorenzian3(time,data,fwhmGuess,timeDeltaGuess,timeResolution):\n",
    "    # initial guess\n",
    "    a1Guess = np.amax(data) * 0.7\n",
    "    a2Guess = 1\n",
    "    a3Guess = 1\n",
    "    t1Guess = np.argmax(data) * timeResolution + time[0]\n",
    "    t2Guess = t1Guess + timeDeltaGuess\n",
    "    t3Guess = t1Guess - timeDeltaGuess\n",
    "    # Fit three lorenzians to data.\n",
    "    def residuals(p,y,x):\n",
    "        return y - lorentzian3(x,p)\n",
    "    guessParameters = np.array([[t1Guess, fwhmGuess, a1Guess], [t2Guess, fwhmGuess, a2Guess], [t3Guess, fwhmGuess, a3Guess]]).flatten()\n",
    "    pbest = leastsq(residuals,guessParameters,args=(data,time),full_output=1)\n",
    "    fitParameters = pbest[0]\n",
    "    return fitParameters, guessParameters\n",
    "    \n",
    "\n",
    "\n",
    "def fit_linewidth_GHz(filename1, time1, time2, filename2, time3, time4, fwhmGuess, timeDeltaGuess):\n",
    "    ## Fit linewith\n",
    "    # Load data\n",
    "    data, timeResolution = read_scope_csv(filename1)\n",
    "    time = timeResolution * np.arange(data.shape[0]) \n",
    "    i1 = int( time1 / timeResolution )\n",
    "    i2 = int( time2 / timeResolution )\n",
    "    data = data[i1:i2,0]\n",
    "    time = time[i1:i2]\n",
    "    # Fit\n",
    "    transmissionFitParameters, transmissionGuessParameters = fit_lorenzian(time,data,fwhmGuess,timeResolution)\n",
    "    # Plot\n",
    "    fig = plt.figure(figsize=(16, 8))\n",
    "    plt.subplot(121)    \n",
    "    plt.plot( time, data )\n",
    "    plt.plot( time, lorentzian(time,transmissionGuessParameters), linestyle=':' )\n",
    "    plt.plot( time, lorentzian(time,transmissionFitParameters) )    \n",
    "    print 'peak position {} s, fwhm {} s, intensity {} V'.format( \\\n",
    "        transmissionFitParameters[0], transmissionFitParameters[1], transmissionFitParameters[2] )\n",
    "\n",
    "    ## Fit scanning speed with modulated signal 6 GHz\n",
    "    # Load data\n",
    "    data, timeResolution = read_scope_csv(filename2)\n",
    "    time = timeResolution * np.arange(data.shape[0]) \n",
    "    i1 = int( time3 / timeResolution )\n",
    "    i2 = int( time4 / timeResolution )\n",
    "    data = data[i1:i2,0]\n",
    "    time = time[i1:i2]\n",
    "    # Fit\n",
    "    fitParameters, guessParameters = fit_lorenzian3(time,data,fwhmGuess,timeDeltaGuess,timeResolution)\n",
    "    # Plot        \n",
    "    plt.subplot(122)\n",
    "    plt.plot( time, data )\n",
    "    plt.plot( time, lorentzian3(time,guessParameters), linestyle=':' )\n",
    "    plt.plot( time, lorentzian3(time,fitParameters) )\n",
    "    plt.show()\n",
    "        \n",
    "    print 'peak positions (s)', fitParameters[[0,3,6]]\n",
    "    print 'peak fwhm (s)', fitParameters[[1,4,7]]\n",
    "    print 'peak intensity (V)', fitParameters[[2]], fitParameters[[2]] * fitParameters[[5]], \\\n",
    "         fitParameters[[2]] * fitParameters[[8]]\n",
    "        \n",
    "    dtSideModulationPeaks = np.amax( fitParameters[[0,3,6]] ) - np.amin( fitParameters[[0,3,6]] )\n",
    "    dfOverDt = 12.0e9 / dtSideModulationPeaks    \n",
    "    print 'df/dt = 12/{} GHz/s = {} THz/s'.format( \\\n",
    "        dtSideModulationPeaks, dfOverDt *1e-12 )\n",
    "    cavityFwhmInS = transmissionFitParameters[1] * dfOverDt\n",
    "    print 'cavity fwhm = {} s = {} GHz'.format( transmissionFitParameters[1], cavityFwhmInS*1e-9 )\n",
    "    \n",
    "    \n",
    "\n",
    "\n"
   ]
  },
  {
   "cell_type": "markdown",
   "metadata": {},
   "source": [
    "## Plot and fit linewidth measurements Mon 28 Aug 2017"
   ]
  },
  {
   "cell_type": "code",
   "execution_count": null,
   "metadata": {
    "collapsed": false
   },
   "outputs": [],
   "source": [
    "data_dir = r'D:\\measuring\\data\\20170828\\125800_cav_linewidth'\n",
    "\n",
    "# Update data dir\n",
    "scope_dir = r'O:\\WOUTER\\20170828'\n",
    "import os, shutil\n",
    "files = [file for file in os.listdir(scope_dir) if os.path.isfile(os.path.join(scope_dir, file))]\n",
    "for file in files:\n",
    "    if not os.path.exists(os.path.join(data_dir, file)):\n",
    "        shutil.copy(os.path.join(scope_dir, file), data_dir)\n",
    " \n",
    "# Plot files\n",
    "fig = plt.figure(figsize=(16, 8))\n",
    "for i in [20, 21]:\n",
    "    file_name = '0828_{:03d}.csv'.format(i)\n",
    "    data, timeResolution = read_scope_csv( os.path.join( data_dir, file_name ) )    \n",
    "    time = timeResolution * np.arange( data.shape[0] )    \n",
    "    plt.plot( time, data[:,0], label=file_name )\n",
    "    print i\n",
    "plt.grid()\n",
    "plt.legend()\n",
    "plt.show()\n",
    "\n",
    "\n",
    "# Fit linewidth\n",
    "time1 = 0.003\n",
    "time2 = time1 + 0.006\n",
    "fwhmGuess = 0.0005\n",
    "for i in range(26,57,2):\n",
    "    file_name = '0828_{:03d}.csv'.format(i)\n",
    "    data, timeResolution = read_scope_csv( os.path.join( data_dir, file_name ) )    \n",
    "    time = timeResolution * np.arange( data.shape[0] )   \n",
    "    i1 = int( time1 / timeResolution )\n",
    "    i2 = int( time2 / timeResolution )\n",
    "    data = data[i1:i2,0]\n",
    "    time = time[i1:i2]\n",
    "    # Fit\n",
    "    transmissionFitParameters, transmissionGuessParameters = fit_lorenzian(time,data,fwhmGuess,timeResolution)\n",
    "    # Plot\n",
    "    fig = plt.figure(figsize=(16, 8))\n",
    "    plt.subplot(121)    \n",
    "    plt.plot( time, data )\n",
    "    plt.plot( time, lorentzian(time,transmissionGuessParameters), linestyle=':' )\n",
    "    plt.plot( time, lorentzian(time,transmissionFitParameters) )    \n",
    "    print '{:s}, fwhm {:.3f} ms, intensity {:.3f} V'.format( file_name, transmissionFitParameters[1]*1e3, transmissionFitParameters[2] )\n",
    "\n",
    "\n",
    "\n",
    "     \n",
    "\n",
    "    \n",
    "    "
   ]
  },
  {
   "cell_type": "code",
   "execution_count": null,
   "metadata": {
    "collapsed": false
   },
   "outputs": [],
   "source": [
    "   \n",
    "    \n",
    "# Fit linewidth\n",
    "time1 = 0.003\n",
    "time2 = time1 + 0.006\n",
    "fwhmGuess = 0.0005\n",
    "timeResolution = 1.6e-06\n",
    "NCentered = 1000\n",
    "timeCentered = np.arange(-NCentered,NCentered) * timeResolution   \n",
    "for i in [36, 38, 58, 60, 62, 64]:    \n",
    "    file_name = '0828_{:03d}.csv'.format(i)\n",
    "    data, timeResolution = read_scope_csv( os.path.join( data_dir, file_name ) )    \n",
    "    time = timeResolution * np.arange( data.shape[0] )   \n",
    "    i1 = int( time1 / timeResolution )\n",
    "    i2 = int( time2 / timeResolution )\n",
    "    data = data[i1:i2,0]\n",
    "    time = time[i1:i2]                \n",
    "    iMax = np.argmax( data )    \n",
    "    plt.plot( timeCentered, data[iMax-NCentered:iMax+NCentered], label=file_name )  \n",
    "    file_name = '0828_{:03d}.csv'.format(i+1)\n",
    "    data, timeResolution = read_scope_csv( os.path.join( data_dir, file_name ) )    \n",
    "    time = timeResolution * np.arange( data.shape[0] )   \n",
    "    i1 = int( time1 / timeResolution )\n",
    "    i2 = int( time2 / timeResolution )\n",
    "    data = data[i1:i2,0]\n",
    "    time = time[i1:i2]    \n",
    "    iMax = np.argmax( data )    \n",
    "    plt.plot( timeCentered, data[iMax-NCentered:iMax+NCentered], label=file_name )   \n",
    "    plt.grid()\n",
    "    plt.legend()\n",
    "    plt.show();"
   ]
  },
  {
   "cell_type": "code",
   "execution_count": null,
   "metadata": {
    "collapsed": true
   },
   "outputs": [],
   "source": []
  },
  {
   "cell_type": "markdown",
   "metadata": {
    "deletable": true,
    "editable": true
   },
   "source": [
    "## Plot and fit linewidth measurements Fri 23 June 2017"
   ]
  },
  {
   "cell_type": "code",
   "execution_count": null,
   "metadata": {
    "collapsed": false,
    "deletable": true,
    "editable": true,
    "scrolled": false
   },
   "outputs": [],
   "source": [
    "## Plot linewidth measurements 23 June 2017\n",
    "\n",
    "data_dir = 'TODO'\n",
    "\n",
    "tmp_read_and_plot('IFM_OFF006.csv',data_dir)\n",
    "tmp_read_and_plot('IFM_OFF007.csv',data_dir)\n",
    "\n",
    "\n",
    "tmp_read_and_plot('IFM_OFF009.csv',data_dir)\n",
    "tmp_read_and_plot('IFM_OFF013.csv',data_dir)\n",
    "\n",
    "\n",
    "tmp_read_and_plot('IFM_OFF012.csv',data_dir)\n",
    "tmp_read_and_plot('IFM_OFF010.csv',data_dir)\n",
    "\n",
    "tmp_read_and_plot('IFM_OFF011.csv',data_dir)\n",
    "\n",
    "\n"
   ]
  },
  {
   "cell_type": "code",
   "execution_count": null,
   "metadata": {
    "collapsed": false,
    "deletable": true,
    "editable": true,
    "scrolled": false
   },
   "outputs": [],
   "source": [
    "## Plot single file with mpld3 enabled\n",
    "\n",
    "data, timeResolution = read_scope_csv(os.path.join(data_dir,'IFM_OFF010.csv'))\n",
    "time = timeResolution * np.arange(data.shape[0]) \n",
    "\n",
    "import mpld3\n",
    "from mpld3 import plugins\n",
    "mpld3.enable_notebook()\n",
    "fig = plt.figure(figsize=(13, 8))\n",
    "plt.plot( time, data[:,0] )\n",
    "plt.grid()\n",
    "plt.xlim([0, 0.005])\n",
    "plugins.connect(fig, plugins.MousePosition(fontsize=14))\n",
    "plt.show()\n",
    "mpld3.disable_notebook()\n"
   ]
  },
  {
   "cell_type": "code",
   "execution_count": null,
   "metadata": {
    "collapsed": false,
    "deletable": true,
    "editable": true,
    "scrolled": false
   },
   "outputs": [],
   "source": [
    "# results\n",
    "# \n",
    "# Method\n",
    "#  assume linear sweep around resonance\n",
    "#  measure fwhm and GHz modulation peak distances by hand.\n",
    "#  Use 6 GHz modulation to estimate df/dt. I expect this to be better than using the linescan measurements as the sweep range there is much larger and not using AWG.\n",
    "# Results\n",
    "#  File 6, 7 (40 Hz piezo sweep)\n",
    "#     File 6, df = 12 GHz, dt = 0.0028 s. \n",
    "#     File 7, max = 0.85 V, min = 0.1 V, hm = 0.475, fw ~ 0.002 s \n",
    "#     Linewidth 8.6 GHz, measurement time 0.015 s.\n",
    "#  File 9, 13 (80 Hz piezo sweep)\n",
    "#     File 13, df = 12 GHz, dt = 0.0037 - 0.0022 = 0.0015 s. \n",
    "#     File 9, max = 0.8 V, min = 0.05 V, hm = 0.425, fw ~ 0.001 s \n",
    "#     Linewidth 8 GHz, measurement time 0.005 s (200 Hz)\n",
    "#  File 10, 12 (200 Hz piezo sweep)\n",
    "#     File 13, df = 12 GHz, dt = 7e-4 s. \n",
    "#     File 9, hm = 0.39, fw ~ 5.1e-4 s \n",
    "#     Linewidth 8.7 GHz, measurement time 0.0025 s (400 Hz)\n",
    "#\n",
    "# Ok, so we can use 40 80, or 200 Hz for linewidht measurements. Linewidht is not affected by piezo sweeping speed or by lag.\n",
    "# I do not think we can use the 400 Hz for linewidht measurement because the signal does not go to zero between sweeps.\n",
    "\n",
    "\n",
    "\n",
    "\n",
    "\n",
    "\n",
    "\n",
    "\n",
    "\n"
   ]
  },
  {
   "cell_type": "code",
   "execution_count": null,
   "metadata": {
    "collapsed": false,
    "deletable": true,
    "editable": true,
    "scrolled": false
   },
   "outputs": [],
   "source": [
    "## LINEWIDTH IN GHz - DATA 23 June 2017\n",
    "\n",
    "data_dir = '/Users/wjwesterveld/Documents/Temp/20170623/Scope' # copied above data to local temp folder, also to be sure we dont overwrite anyting\n",
    "\n",
    "\n",
    "# Fri June 23th, 40 Hz sweeping speed\n",
    "filename1 = os.path.join(data_dir,'IFM_OFF007.csv')\n",
    "time1 = 0.005\n",
    "time2 = 0.015\n",
    "filename2 = os.path.join(data_dir,'IFM_OFF006.csv')\n",
    "time3 = 0.005\n",
    "time4 = 0.013\n",
    "fwhmGuess = 0.001\n",
    "timeDeltaGuess = 0.001\n",
    "print '40 Hz sweeping speed, file1 ', os.path.basename(filename1), ', file2 ', os.path.basename(filename2)\n",
    "fit_linewidth_GHz(filename1, time1, time2, filename2, time3, time4, fwhmGuess, timeDeltaGuess)\n",
    "\n",
    "# fit   [ 0.00901127  0.0105146   0.00713837  ] for timeDelta = 0.003  \n",
    "# fit   [ 0.00901126  0.01051459  0.00713838]   for timeDelta = 0.002\n",
    "# fit   [ 0.00901127  0.0105146   0.00713837]   for timeDelta = 0.001\n",
    "\n",
    "\n",
    "\n",
    "# Fri June 23th, 80 Hz sweeping speed\n",
    "filename1 = os.path.join(data_dir,'IFM_OFF009.csv')\n",
    "time1 = 0.000\n",
    "time2 = 0.006\n",
    "filename2 = os.path.join(data_dir,'IFM_OFF013.csv')\n",
    "time3 = 0.000\n",
    "time4 = 0.005\n",
    "fwhmGuess = 0.002\n",
    "timeDeltaGuess = 0.001\n",
    "print ''\n",
    "print ''\n",
    "print '80 Hz sweeping speed, file1 ', os.path.basename(filename1), ', file2 ', os.path.basename(filename2)\n",
    "fit_linewidth_GHz(filename1, time1, time2, filename2, time3, time4, fwhmGuess, timeDeltaGuess)\n",
    "\n",
    "# Fri June 23th, 200 Hz sweeping speed\n",
    "filename1 = os.path.join(data_dir,'IFM_OFF010.csv')\n",
    "time1 = 0.001\n",
    "time2 = 0.003\n",
    "filename2 = os.path.join(data_dir,'IFM_OFF012.csv')\n",
    "time3 = 0.001\n",
    "time4 = 0.003\n",
    "fwhmGuess = 0.001\n",
    "timeDeltaGuess = 0.0001\n",
    "print ''\n",
    "print ''\n",
    "print '200 Hz sweeping speed, file1 ', os.path.basename(filename1), ', file2 ', os.path.basename(filename2) \n",
    "# mpld3.enable_notebook().\n",
    "fit_linewidth_GHz(filename1, time1, time2, filename2, time3, time4, fwhmGuess, timeDeltaGuess)\n",
    "# mpld3.disable_notebook()"
   ]
  },
  {
   "cell_type": "markdown",
   "metadata": {
    "deletable": true,
    "editable": true
   },
   "source": [
    "## PLOT and FIT Linewidth measurements 28 June 2017"
   ]
  },
  {
   "cell_type": "code",
   "execution_count": null,
   "metadata": {
    "collapsed": false,
    "deletable": true,
    "editable": true,
    "scrolled": false
   },
   "outputs": [],
   "source": [
    "# Plot linewidth measurements 28 June 2017\n",
    "\n",
    "data_dir = '/Users/wjwesterveld/Documents/Temp/20170628/scope_DLM4038'\n",
    "\n",
    "tmp_read_and_plot('IFM_OFF016.csv',data_dir)\n",
    "tmp_read_and_plot('IFM_OFF018.csv',data_dir)\n",
    "\n",
    "tmp_read_and_plot('IFM_OFF020.csv',data_dir)\n",
    "tmp_read_and_plot('IFM_OFF019.csv',data_dir)\n",
    "\n",
    "tmp_read_and_plot('IFM_OFF021.csv',data_dir)\n",
    "tmp_read_and_plot('IFM_OFF023.csv',data_dir)\n"
   ]
  },
  {
   "cell_type": "code",
   "execution_count": null,
   "metadata": {
    "collapsed": false,
    "deletable": true,
    "editable": true,
    "scrolled": false
   },
   "outputs": [],
   "source": [
    "## LINEWIDTH IN GHz - DATA 28 June 2017\n",
    "\n",
    "data_dir = '/Users/wjwesterveld/Documents/Temp/20170628/scope_DLM4038'\n",
    "\n",
    "# 28 June 2017, 40 GHz\n",
    "filename1 = os.path.join(data_dir,'IFM_OFF016.csv')\n",
    "time1 = 0.00\n",
    "time2 = 0.01\n",
    "filename2 = os.path.join(data_dir,'IFM_OFF018.csv')\n",
    "time3 = 0.00\n",
    "time4 = 0.01\n",
    "fwhmGuess = 0.001\n",
    "timeDeltaGuess = 0.001\n",
    "print ''\n",
    "print ''\n",
    "print '40 Hz sweeping speed, file1 ', os.path.basename(filename1), ', file2 ', os.path.basename(filename2) \n",
    "fit_linewidth_GHz(filename1, time1, time2, filename2, time3, time4, fwhmGuess, timeDeltaGuess)\n",
    "\n",
    "\n",
    "# 28 June 2017, 40 GHz\n",
    "filename1 = os.path.join(data_dir,'IFM_OFF020.csv')\n",
    "time1 = 0.009\n",
    "time2 = 0.021\n",
    "filename2 = os.path.join(data_dir,'IFM_OFF019.csv')\n",
    "time3 = 0.009\n",
    "time4 = 0.021\n",
    "fwhmGuess = 0.002\n",
    "timeDeltaGuess = 0.002\n",
    "print ''\n",
    "print ''\n",
    "print '40 Hz sweeping speed, 3 Vpp, file1 ', os.path.basename(filename1), ', file2 ', os.path.basename(filename2) \n",
    "fit_linewidth_GHz(filename1, time1, time2, filename2, time3, time4, fwhmGuess, timeDeltaGuess)\n",
    "\n",
    "\n",
    "# 28 June 2017, 200 GHz\n",
    "filename1 = os.path.join(data_dir,'IFM_OFF021.csv')\n",
    "time1 = 0.000\n",
    "time2 = 0.002\n",
    "filename2 = os.path.join(data_dir,'IFM_OFF023.csv')\n",
    "time3 = 0.000\n",
    "time4 = 0.002\n",
    "fwhmGuess = 0.0002\n",
    "timeDeltaGuess = 0.0002\n",
    "print ''\n",
    "print ''\n",
    "print '200 Hz sweeping speed, 6.5 Vpp, file1 ', os.path.basename(filename1), ', file2 ', os.path.basename(filename2) \n",
    "fit_linewidth_GHz(filename1, time1, time2, filename2, time3, time4, fwhmGuess, timeDeltaGuess)\n",
    "\n"
   ]
  },
  {
   "cell_type": "code",
   "execution_count": null,
   "metadata": {
    "collapsed": false,
    "deletable": true,
    "editable": true
   },
   "outputs": [],
   "source": [
    "a = np.arange(10)\n",
    "print a\n",
    "print a[0]\n",
    "print a[[0,2,9]]"
   ]
  },
  {
   "cell_type": "markdown",
   "metadata": {
    "collapsed": false,
    "deletable": true,
    "editable": true
   },
   "source": [
    "## Plot cavity transmittance measurements"
   ]
  },
  {
   "cell_type": "code",
   "execution_count": null,
   "metadata": {
    "collapsed": false,
    "deletable": true,
    "editable": true
   },
   "outputs": [],
   "source": [
    "def tmp_plot_vibrations(data,time,time1,time2):\n",
    "    timeResolution = time[1] - time[0]\n",
    "    i1 = int( time1 / timeResolution )\n",
    "    i2 = int( time2 / timeResolution )\n",
    "    \n",
    "    freq_pow, power = scipy.signal.welch(data[i1:i2], axis = 0, fs = 1/timeResolution,nperseg = i2-i1, detrend = 'linear' )\n",
    "    j1 = np.argmax(freq_pow>0)\n",
    "    j2 = np.argmax(freq_pow>200)        \n",
    "    \n",
    "    fig = plt.figure(figsize=(16, 8))\n",
    "\n",
    "    plt.subplot(121)\n",
    "    plt.plot( time[i1:i2], data[i1:i2] )   \n",
    "    plt.xlabel('time (s)')\n",
    "    plt.ylabel('signal (V)')  \n",
    "        \n",
    "    plt.subplot(122)    \n",
    "    plt.plot(freq_pow[j1:j2], power[j1:j2])\n",
    "    # plt.ylim([0,0.01])\n",
    "    plt.xlabel('freq (Hz)')\n",
    "    plt.ylabel('Noise power (V**2/Hz)')\n",
    "    \n",
    "    plt.show()  \n",
    "\n",
    "\n"
   ]
  },
  {
   "cell_type": "code",
   "execution_count": null,
   "metadata": {
    "collapsed": false,
    "deletable": true,
    "editable": true
   },
   "outputs": [],
   "source": [
    "# Find point of maximal sensitivity\n",
    "# assume off-resonance transmittance corresponds to 0 V\n",
    "# assume maximal transmission corresponds to maximum value in time trace\n",
    "\n",
    "import scipy.constants\n",
    "\n",
    "def find_drift_time_of_maximal_sensitivity(timeCoarse,dataCoarse):\n",
    "    \"\"\"\n",
    "    Return time when data is above 0.75% of its maximal value. \n",
    "    We assume a measurement where the cavity length drifts slowly over its resonance. Thus\n",
    "    maximum value of data is transmission of cavity at resonance. Sensitivity of Lorenzian\n",
    "    shape is maximum the flank, when it is at 0.75 of its maxiumum.     \n",
    "    \"\"\"\n",
    "    iFlank = np.argmax(dataCoarse > 0.75 * np.amax( data ) )\n",
    "    return timeCoarse[iFlank]\n",
    "    \n",
    "def find_df_over_dV(fwhm,dataMax):\n",
    "    \"\"\"\n",
    "    Return tangent of Lorenzian lineshape at the position where the flank is steepest. This\n",
    "    is d frequency / d voltage.\n",
    "    \n",
    "    fwhm, full-width at half-max of cavity resonance, Hz\n",
    "    dataMax, maximum amplitude of data, i.e., amplitude of transmission at resonance, V\n",
    "    \"\"\"\n",
    "    return (4 * fwhm ) / ( dataMax * 3 * np.sqrt(3) )\n",
    "    \n",
    "def find_dl_over_df(centerFrequency,cavityLength):\n",
    "    \"\"\"\n",
    "    Return d cavity_length / d frequency \n",
    "    \n",
    "    centerFrequeny, laser frequency used in measurement, Hz\n",
    "    cavityLength, m\n",
    "    \"\"\"\n",
    "    return -cavityLength / centerFrequency    \n",
    "    \n",
    "\n",
    "def load_drift_vibration_trace(dataDir, fileName, time1 = 0):    \n",
    "    data, timeResolution = read_scope_xviewer_csv( os.path.join(dataDir,fileName) )\n",
    "    time = timeResolution * np.arange(data.shape[0]) \n",
    "    print 'time resolution {} us (sampling frequency {} kHz), trace length {} s, data length {}'.format( \\\n",
    "        timeResolution * 1e6, 1.0/timeResolution* 1e-3, timeResolution*len(data), data.shape[0] )\n",
    "    # crop data\n",
    "    i1 = int( time1 / timeResolution )    \n",
    "    time = time[i1:]\n",
    "    data = data[i1:]    \n",
    "    # Apply polynomial smoothing to get timeCoarse, dataCoarse\n",
    "    p = np.polynomial.polynomial.polyfit(time,data,9)\n",
    "    timeCoarse = np.arange(time[0],time[-1],0.1)\n",
    "    dataCoarse = np.polynomial.polynomial.polyval(timeCoarse,p)\n",
    "    return time, data, timeCoarse, dataCoarse\n",
    "    \n",
    "def analyze_drift_vibration_trace(time, data, timeCoarse, dataCoarse, centerFrequency, fwhm, cavityLength, timeWindow ):\n",
    "    \n",
    "    # Find point of maximum sensitivity: 0.75 * dataMax\n",
    "    dataMax = np.amax( data )\n",
    "    tFlank = find_drift_time_of_maximal_sensitivity(timeCoarse,dataCoarse)\n",
    "    dfOverdV = find_df_over_dV(fwhm,dataMax)\n",
    "    dlOverdV = find_dl_over_df(centerFrequency,cavityLength) * dfOverdV\n",
    "    \n",
    "    print 'dataMax', dataMax\n",
    "    print 'dV/df = ', 1.0 / dfOverdV\n",
    "    print 'dl/df = ', find_dl_over_df(centerFrequency,cavityLength)    \n",
    "\n",
    "    # Plot\n",
    "    fig = plt.figure(figsize=(16, 8))\n",
    "    plt.title( 'drifted to maximal sensitivity at {} s'.format(tFlank) )\n",
    "    plt.plot( time, data, label='data' )   \n",
    "    plt.plot( timeCoarse, dataCoarse, label='polynoimal smoothening' )    \n",
    "    plt.plot( [tFlank, tFlank], plt.ylim(), label='0.75 * max' )\n",
    "    plt.xlabel('time (s)')\n",
    "    plt.ylabel('signal (V)')    \n",
    "    plt.grid()\n",
    "    plt.show()    \n",
    "\n",
    "    # For a Lorenzian line shape, maximum dV/df = A*3*sqrt(3) / (4 * fwhm ), with Lorenz maximum amplitude A [V] and fwhm [m].\n",
    "    # Around frequeny f, we find that the linear relation between resonance frequency f_res and cavity length l, df_res / dl = f / l.\n",
    "\n",
    "    # Select time window, apply linear detrend, compute RMS\n",
    "    timeResolution = time[1] - time[0]\n",
    "    i1 = int( (tFlank - 0.5 * timeWindow - time[0]) / timeResolution )\n",
    "    i2 = int( (tFlank + 0.5 * timeWindow - time[0]) / timeResolution )\n",
    "    t = time[i1:i2]\n",
    "    d = data[i1:i2]\n",
    "    d = d - np.polynomial.polynomial.polyval(t,np.polynomial.polynomial.polyfit(t,d,1))\n",
    "    rmsV = np.sqrt(np.mean(d**2))\n",
    "\n",
    "    # Plot        \n",
    "    fig = plt.figure(figsize=(16, 8))\n",
    "    plt.title('time window around flank max, linear detrend, rms {:.3f} V, {:.3f} GHz, {:.3f} nm'.format( rmsV, dfOverdV * rmsV * 1e-9, -dlOverdV * rmsV * 1e9 ) )\n",
    "    plt.plot(t, dlOverdV*d*1e9)\n",
    "    plt.xlabel('time (s)')\n",
    "    plt.ylabel('detuning (nm)')\n",
    "    plt.show()\n",
    "\n",
    "    freq_pow, power = scipy.signal.welch(1e9*dlOverdV*d, axis = 0, fs = 1/timeResolution,nperseg = i2-i1, detrend = 'linear' )\n",
    "    j1 = np.argmax(freq_pow>0)\n",
    "    j2 = np.argmax(freq_pow>250)    \n",
    "    fig = plt.figure(figsize=(16, 8))\n",
    "    plt.plot(freq_pow[j1:j2], 10.0*np.log10( power[j1:j2] ) )\n",
    "    plt.grid()\n",
    "    plt.xlabel('freq (Hz)')\n",
    "    plt.ylabel('Noise power (nm**2/Hz in dB)')\n",
    "    plt.show()  \n",
    "\n",
    "## TODO\n",
    "## Figure out which measurements I have done and which results I would like to get from there\n",
    "# Proof that these are cavity vibrations V\n",
    "#  - Red at differnt positinos V\n",
    "#  - Green V\n",
    "# Quantify amplitude of vibrations\n",
    "# Analyze differnt connections of piezo's\n",
    "\n",
    "\n"
   ]
  },
  {
   "cell_type": "code",
   "execution_count": null,
   "metadata": {
    "collapsed": false,
    "deletable": true,
    "editable": true
   },
   "outputs": [],
   "source": [
    "# Example of functions in previous cell\n",
    "\n",
    "\n",
    "print 'red: vibrations'\n",
    "dataDir = '/Users/wjwesterveld/Documents/Temp_CAV1_data/20170628/scope_DLM4038'\n",
    "fileName = \"IFM_OFF017.wdf.csv\"  \n",
    "\n",
    "timeWindow = 2       # s\n",
    "fwhm = 8*1e9         # Hz\n",
    "cavityLength = 15e-6 # m\n",
    "centerFrequency = scipy.constants.c / 637.0e-9 # Hz\n",
    "\n",
    "# time, data, timeCoarse, dataCoarse = load_drift_vibration_trace(dataDir, fileName)    \n",
    "analyze_drift_vibration_trace(time, data, timeCoarse, dataCoarse, centerFrequency, fwhm, cavityLength, timeWindow )\n",
    "\n"
   ]
  },
  {
   "cell_type": "markdown",
   "metadata": {
    "deletable": true,
    "editable": true
   },
   "source": [
    "## Analyze data 28 June 2017, show that 100 Hz signal is cavity vibration (or laser phase noise)"
   ]
  },
  {
   "cell_type": "code",
   "execution_count": null,
   "metadata": {
    "collapsed": false,
    "deletable": true,
    "editable": true
   },
   "outputs": [],
   "source": [
    "dataDir = '/Users/wjwesterveld/Documents/Temp_CAV1_data/20170628/scope_DLM4038'\n",
    "\n",
    "if False:\n",
    "    titleStr = 'red: vibrations'    \n",
    "    fileName = \"IFM_OFF017.wdf.csv\"  \n",
    "if True:    \n",
    "    titleStr = 'green: optical setup path vibrations'    \n",
    "    fileName = \"IFM_OFF007.wdf.csv\"  \n",
    "if False:\n",
    "    titleStr = 'black (no light): photo-diode electronics'\n",
    "    fileName = \"IFM_OFF009.wdf.csv\"  \n",
    "\n",
    "\n",
    "print titleStr\n",
    "time, data, timeCoarse, dataCoarse = load_drift_vibration_trace(dataDir, fileName)   "
   ]
  },
  {
   "cell_type": "code",
   "execution_count": null,
   "metadata": {
    "collapsed": false,
    "deletable": true,
    "editable": true
   },
   "outputs": [],
   "source": [
    "print titleStr\n",
    "\n",
    "timeWindow = 2       # s\n",
    "\n",
    "fig = plt.figure(figsize=(16, 20))\n",
    "for i in range(3):\n",
    "    if i == 0:\n",
    "        timeWindowTime = 75                    \n",
    "    elif i == 1:\n",
    "        timeWindowTime = 90        \n",
    "    elif i == 2:\n",
    "        timeWindowTime = 10        \n",
    "    labelStr = '{:.0f} s around {:.0f} s'.format(timeWindow, timeWindowTime)    \n",
    "    timeResolution = time[1] - time[0]\n",
    "    i1 = int( (timeWindowTime - 0.5 * timeWindow ) / timeResolution )\n",
    "    i2 = int( (timeWindowTime + 0.5 * timeWindow ) / timeResolution )\n",
    "    t = time[i1:i2]\n",
    "    d = data[i1:i2]\n",
    "    d = d - np.polynomial.polynomial.polyval(t,np.polynomial.polynomial.polyfit(t,d,1))\n",
    "    rmsV = np.sqrt(np.mean(d**2))\n",
    "    freq_pow, power = scipy.signal.welch(d*1e3, axis = 0, fs = 1/timeResolution,nperseg = i2-i1 )\n",
    "    j1 = np.argmax(freq_pow>0)\n",
    "    j2 = np.argmax(freq_pow>250)   \n",
    "    # j2 = np.argmax(freq_pow>1500)   \n",
    "    \n",
    "    # Plot            \n",
    "    plt.subplot(4,2,i*2+1)\n",
    "    plt.plot(t,d)\n",
    "    plt.title('time window {}, linear detrend, rms {:.3f} mV'.format( labelStr, rmsV*1e3) )                    \n",
    "    plt.xlabel('time (s)')\n",
    "    plt.ylabel('signal (mV)')\n",
    "    plt.grid()     \n",
    "    \n",
    "    plt.subplot(4,2,i*2+2)\n",
    "    plt.plot(freq_pow[j1:j2], power[j1:j2], label=labelStr )    \n",
    "    plt.xlabel('freq (Hz)')\n",
    "    plt.ylabel('Noise power (mV**2/Hz)')\n",
    "    plt.grid()\n",
    "    \n",
    "    plt.subplot(4,2,7)\n",
    "    plt.plot( [timeWindowTime, timeWindowTime], [0, 1100], label=labelStr )\n",
    "    \n",
    "    plt.subplot(4,2,8)\n",
    "    plt.plot(freq_pow[j1:j2], power[j1:j2], label=labelStr )            \n",
    "    plt.xlabel('freq (Hz)')\n",
    "    plt.ylabel('Noise power (mV**2/Hz)')\n",
    "    plt.legend()\n",
    "    plt.grid()\n",
    "\n",
    "    \n",
    "plt.subplot(4,2,7)\n",
    "plt.plot( time, data*1e3, label='trace' )\n",
    "plt.xlabel('time (s)')\n",
    "plt.ylabel('signal (mV)') \n",
    "plt.ylim( 0, 1100 )\n",
    "plt.legend()\n",
    "plt.grid()\n",
    "    \n",
    "plt.show() \n",
    "\n",
    "\n",
    "\n",
    "\n"
   ]
  },
  {
   "cell_type": "code",
   "execution_count": null,
   "metadata": {
    "collapsed": false,
    "deletable": true,
    "editable": true,
    "scrolled": false
   },
   "outputs": [],
   "source": [
    "print titleStr\n",
    "\n",
    "timeWindow = 2       # s\n",
    "timeWindowTime = 75  # s\n",
    "\n",
    "fig = plt.figure(figsize=(10, 8))\n",
    "   \n",
    "labelStr = '{:.0f} s around {:.0f} s'.format(timeWindow, timeWindowTime)    \n",
    "timeResolution = time[1] - time[0]\n",
    "i1 = int( (timeWindowTime - 0.5 * timeWindow ) / timeResolution )\n",
    "i2 = int( (timeWindowTime + 0.5 * timeWindow ) / timeResolution )\n",
    "t = time[i1:i2]\n",
    "d = data[i1:i2]\n",
    "d = d - np.polynomial.polynomial.polyval(t,np.polynomial.polynomial.polyfit(t,d,1))\n",
    "rmsV = np.sqrt(np.mean(d**2))\n",
    "freq_pow, power = scipy.signal.welch(d*1e3, axis = 0, fs = 1/timeResolution,nperseg = i2-i1 )\n",
    "j1 = np.argmax(freq_pow>0)\n",
    "j2 = np.argmax(freq_pow>250)   \n",
    "j3 = np.argmax(freq_pow>1500)   \n",
    "    \n",
    "# Plot      \n",
    "plt.subplot(2,2,1)\n",
    "plt.plot( time, data*1e3, label='trace' )\n",
    "plt.plot( [timeWindowTime, timeWindowTime], [0, 1100], label=labelStr )\n",
    "plt.xlabel('time (s)')\n",
    "plt.ylabel('signal (mV)') \n",
    "plt.ylim( 0, 1100 )\n",
    "plt.legend()\n",
    "plt.grid()\n",
    "\n",
    "plt.subplot(2,2,2)\n",
    "plt.plot(t,d)\n",
    "plt.title('time window {}, linear detrend, rms {:.3f} mV'.format( labelStr, rmsV*1e3) )                    \n",
    "plt.xlabel('time (s)')\n",
    "plt.ylabel('signal (mV)')\n",
    "plt.grid()     \n",
    "\n",
    "plt.subplot(2,2,3)\n",
    "plt.plot(freq_pow[j1:j3], power[j1:j3], label=labelStr )    \n",
    "plt.xlabel('freq (Hz)')\n",
    "plt.ylabel('Noise power (mV**2/Hz)')\n",
    "plt.grid()\n",
    "\n",
    "plt.subplot(2,2,4)\n",
    "plt.plot(freq_pow[j1:j2], power[j1:j2], label=labelStr )    \n",
    "plt.xlabel('freq (Hz)')\n",
    "plt.ylabel('Noise power (mV**2/Hz)')\n",
    "plt.grid()    \n",
    "    \n",
    "plt.show() "
   ]
  },
  {
   "cell_type": "markdown",
   "metadata": {
    "deletable": true,
    "editable": true
   },
   "source": [
    "## Analyze data 29 and 30 June 2017, try to reduce 100 Hz signal"
   ]
  },
  {
   "cell_type": "code",
   "execution_count": null,
   "metadata": {
    "collapsed": false,
    "deletable": true,
    "editable": true
   },
   "outputs": [],
   "source": [
    "## Analyze data \n",
    "\n",
    "# 29 6 2017.\n",
    "# ~4 V fine-piezo\n",
    "\n",
    "#018.wdf -> laser power 1.5 mW, same as yesterday.\n",
    "#019.wdf -> laser power 1.5 mW, without laser piezo fine control wire connected.\n",
    "#021.wdf -> laser power 1.5 mW, without laser piezo fine control wire connected. JPE without coarse piezo connected.\n",
    "#023.wdf -> laser power 1.5 mW, without laser piezo fine control wire connected. JPE without coarse piezo connected. Unplug loose wires from voltage dividers.\n",
    "\n",
    "\n",
    "# 30 6 2017\n",
    "# ~0V fine-piezo\n",
    "\n",
    "#030.WDF. Drift across resonance. Last step was decreasing voltage piezo C. Piezo A at 0V, Piezo B at 0V, Piezo C with 1 Hz low-pass filter at 0.968 V.\n",
    "#032.WDF. Drift across resonance. Last step was decreasing voltage piezo C. Piezo A control wire disconnected, Piezo B control wire disconnected, Piezo C with 1 Hz low-pass filter at 0.968 V.\n",
    "#035.WDF. Drift across resonance. Last step was increase in voltage piezo C. Piezo A piezo (controller output) wire disconnected, Piezo B control wire piezo (controller output) disconnected, Piezo C directly at 0.889 V. Al unnsecary wires disconnected from ADWIN.\n",
    "\n",
    "# Scanner sensitivity @ 293 K: 25 nm/V --> 4V decreas is 0.1 micrometer --> within cavity length uncertainty.\n",
    "\n",
    "timeWindow = 2       # s\n",
    "fwhm = 8*1e9         # Hz\n",
    "cavityLength = 15e-6 # m\n",
    "centerFrequency = scipy.constants.c / 637.0e-9 # Hz"
   ]
  },
  {
   "cell_type": "code",
   "execution_count": null,
   "metadata": {
    "collapsed": false,
    "deletable": true,
    "editable": true
   },
   "outputs": [],
   "source": [
    "print '#018.wdf -> laser power 1.5 mW, same as yesterday.'\n",
    "dataDir = '/Users/wjwesterveld/Documents/Temp_CAV1_data/20170629/scope'\n",
    "fileName = \"IFM_OFF018.wdf.csv\"  \n",
    "\n",
    "time, data, timeCoarse, dataCoarse = load_drift_vibration_trace(dataDir, fileName, 10)    \n",
    "analyze_drift_vibration_trace(time, data, timeCoarse, dataCoarse, centerFrequency, fwhm, cavityLength, timeWindow )\n"
   ]
  },
  {
   "cell_type": "code",
   "execution_count": null,
   "metadata": {
    "collapsed": false,
    "deletable": true,
    "editable": true
   },
   "outputs": [],
   "source": [
    "print '#019.wdf -> laser power 1.5 mW, without laser piezo fine control wire connected.'\n",
    "dataDir = '/Users/wjwesterveld/Documents/Temp_CAV1_data/20170629/scope'\n",
    "fileName = \"IFM_OFF019.wdf.csv\"  \n",
    "\n",
    "time, data, timeCoarse, dataCoarse = load_drift_vibration_trace(dataDir, fileName)    \n",
    "analyze_drift_vibration_trace(time, data, timeCoarse, dataCoarse, centerFrequency, fwhm, cavityLength, timeWindow )"
   ]
  },
  {
   "cell_type": "code",
   "execution_count": null,
   "metadata": {
    "collapsed": false,
    "deletable": true,
    "editable": true
   },
   "outputs": [],
   "source": [
    "print '#021.wdf -> laser power 1.5 mW, without laser piezo fine control wire connected. JPE without coarse piezo connected.'\n",
    "dataDir = '/Users/wjwesterveld/Documents/Temp_CAV1_data/20170629/scope'\n",
    "fileName = \"IFM_OFF021.wdf.csv\"  \n",
    "\n",
    "time, data, timeCoarse, dataCoarse = load_drift_vibration_trace(dataDir, fileName)    \n",
    "analyze_drift_vibration_trace(time, data, timeCoarse, dataCoarse, centerFrequency, fwhm, cavityLength, timeWindow )\n"
   ]
  },
  {
   "cell_type": "code",
   "execution_count": null,
   "metadata": {
    "collapsed": false,
    "deletable": true,
    "editable": true
   },
   "outputs": [],
   "source": [
    "print '#023.wdf -> laser power 1.5 mW, without laser piezo fine control wire connected. JPE without coarse piezo connected. Unplug loose wires from voltage dividers.'\n",
    "dataDir = '/Users/wjwesterveld/Documents/Temp_CAV1_data/20170629/scope'\n",
    "fileName = \"IFM_OFF023.wdf.csv\"  \n",
    "\n",
    "time, data, timeCoarse, dataCoarse = load_drift_vibration_trace(dataDir, fileName)    \n",
    "analyze_drift_vibration_trace(time, data, timeCoarse, dataCoarse, centerFrequency, fwhm, cavityLength, timeWindow )"
   ]
  },
  {
   "cell_type": "code",
   "execution_count": null,
   "metadata": {
    "collapsed": true,
    "deletable": true,
    "editable": true
   },
   "outputs": [],
   "source": []
  },
  {
   "cell_type": "code",
   "execution_count": null,
   "metadata": {
    "collapsed": false,
    "deletable": true,
    "editable": true
   },
   "outputs": [],
   "source": [
    "print '#028.WDF. We have extremely low drift now. Steps are manually increasing and decreasing voltage on piezo C.'\n",
    "dataDir = '/Users/wjwesterveld/Documents/Temp_CAV1_data/20170630/scope'\n",
    "fileName = \"IFM_OFF027.wdf.csv\"  \n",
    "\n",
    "time, data, timeCoarse, dataCoarse = load_drift_vibration_trace(dataDir, fileName, 5)    \n",
    "analyze_drift_vibration_trace(time, data, timeCoarse, dataCoarse, centerFrequency, fwhm, cavityLength, timeWindow )\n"
   ]
  },
  {
   "cell_type": "code",
   "execution_count": null,
   "metadata": {
    "collapsed": false,
    "deletable": true,
    "editable": true
   },
   "outputs": [],
   "source": [
    "print '#030.WDF. Drift across resonance. Last step was decreasing voltage piezo C. Piezo A at 0V, Piezo B at 0V, Piezo C with 1 Hz low-pass filter at 0.968 V.'\n",
    "dataDir = '/Users/wjwesterveld/Documents/Temp_CAV1_data/20170630/scope'\n",
    "fileName = \"IFM_OFF030.wdf.csv\"  \n",
    "\n",
    "time, data, timeCoarse, dataCoarse = load_drift_vibration_trace(dataDir, fileName, 20)    \n",
    "analyze_drift_vibration_trace(time, data, timeCoarse, dataCoarse, centerFrequency, fwhm, cavityLength, timeWindow )"
   ]
  },
  {
   "cell_type": "code",
   "execution_count": null,
   "metadata": {
    "collapsed": false,
    "deletable": true,
    "editable": true
   },
   "outputs": [],
   "source": [
    "print '#031.WDF. Drift across resonance. Last step was decreasing voltage piezo C. Piezo A control wire disconnected, Piezo B at 0V, Piezo C with 1 Hz low-pass filter at 0.968 V.'\n",
    "dataDir = '/Users/wjwesterveld/Documents/Temp_CAV1_data/20170630/scope'\n",
    "fileName = \"IFM_OFF031.wdf.csv\"  \n",
    "\n",
    "time, data, timeCoarse, dataCoarse = load_drift_vibration_trace(dataDir, fileName )    \n",
    "analyze_drift_vibration_trace(time, data, timeCoarse, dataCoarse, centerFrequency, fwhm, cavityLength, timeWindow )"
   ]
  },
  {
   "cell_type": "code",
   "execution_count": null,
   "metadata": {
    "collapsed": false,
    "deletable": true,
    "editable": true
   },
   "outputs": [],
   "source": [
    "print '#032.WDF. Drift across resonance. Last step was decreasing voltage piezo C. Piezo A control wire disconnected, Piezo B control wire disconnected, Piezo C with 1 Hz low-pass filter at 0.968 V.'\n",
    "dataDir = '/Users/wjwesterveld/Documents/Temp_CAV1_data/20170630/scope'\n",
    "fileName = \"IFM_OFF032.wdf.csv\"  \n",
    "\n",
    "time, data, timeCoarse, dataCoarse = load_drift_vibration_trace(dataDir, fileName)    \n",
    "analyze_drift_vibration_trace(time, data, timeCoarse, dataCoarse, centerFrequency, fwhm, cavityLength, timeWindow )\n"
   ]
  },
  {
   "cell_type": "code",
   "execution_count": null,
   "metadata": {
    "collapsed": false,
    "deletable": true,
    "editable": true
   },
   "outputs": [],
   "source": [
    "print '#033.WDF. Drift across resonance. Last step was decreasing voltage piezo C. Piezo A piezo (controller output) wire disconnected, Piezo B control wire piezo (controller output) disconnected, Piezo C with 1 Hz low-pass filter at 0.968 V.'\n",
    "dataDir = '/Users/wjwesterveld/Documents/Temp_CAV1_data/20170630/scope'\n",
    "fileName = \"IFM_OFF033.wdf.csv\"  \n",
    "\n",
    "time, data, timeCoarse, dataCoarse = load_drift_vibration_trace(dataDir, fileName)    \n",
    "analyze_drift_vibration_trace(time, data, timeCoarse, dataCoarse, centerFrequency, fwhm, cavityLength, timeWindow )"
   ]
  },
  {
   "cell_type": "code",
   "execution_count": null,
   "metadata": {
    "collapsed": false,
    "deletable": true,
    "editable": true
   },
   "outputs": [],
   "source": [
    "print '#034.WDF. Drift across resonance. Last step was increase in voltage piezo C. Piezo A piezo (controller output) wire disconnected, Piezo B control wire piezo (controller output) disconnected, Piezo C directly at 0.889 V. '\n",
    "dataDir = '/Users/wjwesterveld/Documents/Temp_CAV1_data/20170630/scope'\n",
    "fileName = \"IFM_OFF034.wdf.csv\"  \n",
    "\n",
    "time, data, timeCoarse, dataCoarse = load_drift_vibration_trace(dataDir, fileName)    \n",
    "analyze_drift_vibration_trace(time, data, timeCoarse, dataCoarse, centerFrequency, fwhm, cavityLength, timeWindow )"
   ]
  },
  {
   "cell_type": "code",
   "execution_count": null,
   "metadata": {
    "collapsed": false,
    "deletable": true,
    "editable": true
   },
   "outputs": [],
   "source": [
    "print '#035.WDF. Drift across resonance. Last step was increase in voltage piezo C. Piezo A piezo (controller output) wire disconnected, Piezo B control wire piezo (controller output) disconnected, Piezo C directly at 0.889 V. Al unnsecary wires disconnected from ADWIN.'\n",
    "dataDir = '/Users/wjwesterveld/Documents/Temp_CAV1_data/20170630/scope'\n",
    "fileName = \"IFM_OFF035.wdf.csv\"  \n",
    "\n",
    "time, data, timeCoarse, dataCoarse = load_drift_vibration_trace(dataDir, fileName)    \n",
    "analyze_drift_vibration_trace(time, data, timeCoarse, dataCoarse, centerFrequency, fwhm, cavityLength, timeWindow )"
   ]
  },
  {
   "cell_type": "markdown",
   "metadata": {
    "collapsed": true,
    "deletable": true,
    "editable": true
   },
   "source": [
    "## Vibration measurement 29 Aug 2017 with new mirrors\n"
   ]
  },
  {
   "cell_type": "code",
   "execution_count": null,
   "metadata": {
    "collapsed": false
   },
   "outputs": [],
   "source": [
    "dataDir = r'D:\\measuring\\data\\20170829\\scope'\n",
    "fileName = \"SCOPE_003.wdf.csv\"  \n",
    "\n",
    "timeWindow = 2        # s\n",
    "fwhm = 6.81e9         # Hz\n",
    "cavityLength = 9.7e-6 # m\n",
    "centerFrequency = scipy.constants.c / 635.6e-9 # Hz\n",
    "\n",
    "time, data, timeCoarse, dataCoarse = load_drift_vibration_trace(dataDir, fileName)    \n",
    "analyze_drift_vibration_trace(time, data, timeCoarse, dataCoarse, centerFrequency, fwhm, cavityLength, timeWindow )"
   ]
  },
  {
   "cell_type": "code",
   "execution_count": null,
   "metadata": {
    "collapsed": true
   },
   "outputs": [],
   "source": []
  },
  {
   "cell_type": "code",
   "execution_count": null,
   "metadata": {
    "collapsed": true
   },
   "outputs": [],
   "source": []
  },
  {
   "cell_type": "code",
   "execution_count": null,
   "metadata": {
    "collapsed": true
   },
   "outputs": [],
   "source": []
  },
  {
   "cell_type": "markdown",
   "metadata": {
    "collapsed": false,
    "deletable": true,
    "editable": true
   },
   "source": [
    "## OLD Stuff"
   ]
  },
  {
   "cell_type": "code",
   "execution_count": null,
   "metadata": {
    "collapsed": false,
    "deletable": true,
    "editable": true
   },
   "outputs": [],
   "source": [
    "# Load data\n",
    "data_dir = '/Users/wjwesterveld/Documents/Temp/20170629/scope'\n",
    "fileNumbers = [18, 19, 20, 21, 23]\n",
    "\n",
    "for i in range( len( fileNumbers ) ):\n",
    "    filename = os.path.join(data_dir,'IFM_OFF{:03d}.wdf.csv'.format( fileNumbers[i] )  )\n",
    "    data1, timeResolution = read_scope_xviewer_csv(filename)\n",
    "    time = timeResolution * np.arange(data.shape[0])  \n",
    "    if i == 0:\n",
    "        data = np.zeros( ( len(data), len(fileNumbers) ) )    \n",
    "    data[:,i] = data1\n",
    "    \n",
    "\n",
    "print 'time resolution {} us (sampling frequency {} kHz), trace length {} s, data length {}'.format( \\\n",
    "    timeResolution * 1e6, 1.0/timeResolution* 1e-3, timeResolution*len(data), data.shape[0] )"
   ]
  },
  {
   "cell_type": "code",
   "execution_count": null,
   "metadata": {
    "collapsed": false,
    "deletable": true,
    "editable": true,
    "scrolled": false
   },
   "outputs": [],
   "source": [
    "# Plot data\n",
    "\n",
    "for i in range( len(fileNumbers) ):\n",
    "    fig = plt.figure(figsize=(16, 8))\n",
    "    plt.plot( time, data[:,i] )\n",
    "    plt.xlabel( 'time (s)' )\n",
    "    plt.ylabel( 'frequency (Hz)' )\n",
    "    plt.grid()\n",
    "    plt.show()\n",
    "    \n",
    "\n",
    "\n"
   ]
  },
  {
   "cell_type": "code",
   "execution_count": null,
   "metadata": {
    "collapsed": false,
    "deletable": true,
    "editable": true,
    "scrolled": false
   },
   "outputs": [],
   "source": [
    "\n",
    "    \n",
    "    \n",
    "    "
   ]
  },
  {
   "cell_type": "code",
   "execution_count": null,
   "metadata": {
    "collapsed": false,
    "deletable": true,
    "editable": true
   },
   "outputs": [],
   "source": []
  },
  {
   "cell_type": "code",
   "execution_count": null,
   "metadata": {
    "collapsed": false,
    "deletable": true,
    "editable": true
   },
   "outputs": [],
   "source": []
  },
  {
   "cell_type": "code",
   "execution_count": null,
   "metadata": {
    "collapsed": false,
    "deletable": true,
    "editable": true
   },
   "outputs": [],
   "source": [
    "\n",
    "\n",
    "\n",
    "\n"
   ]
  },
  {
   "cell_type": "code",
   "execution_count": null,
   "metadata": {
    "collapsed": true,
    "deletable": true,
    "editable": true
   },
   "outputs": [],
   "source": []
  }
 ],
 "metadata": {
  "kernelspec": {
   "display_name": "Python 2",
   "language": "python",
   "name": "python2"
  },
  "language_info": {
   "codemirror_mode": {
    "name": "ipython",
    "version": 2
   },
   "file_extension": ".py",
   "mimetype": "text/x-python",
   "name": "python",
   "nbconvert_exporter": "python",
   "pygments_lexer": "ipython2",
   "version": "2.7.3"
  }
 },
 "nbformat": 4,
 "nbformat_minor": 0
}
