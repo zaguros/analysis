{
 "metadata": {
  "name": "",
  "signature": ""
 },
 "nbformat": 3,
 "nbformat_minor": 0,
 "worksheets": [
  {
   "cells": [
    {
     "cell_type": "code",
     "collapsed": false,
     "input": [
      "execfile (\"D:/measuring/analysis/scripts/setup_analysis.py\")\n",
      "\n",
      "#import numpy as np\n",
      "#import matplotlib.pyplot as plt\n",
      "%matplotlib inline  "
     ],
     "language": "python",
     "metadata": {},
     "outputs": []
    },
    {
     "cell_type": "code",
     "collapsed": false,
     "input": [
      "l = np.linspace (637.3, 637.62, 17)\n",
      "signal = np.array ([124, 126, 131, 126, 143, 174, 142, 142, 200, 225, 193, 153, 134, 126, 113, 126, 121])\n",
      "bkg = 112\n",
      "\n",
      "plt.figure(figsize= (10, 6))\n",
      "plt.plot (l, signal-bkg, 'ob')\n",
      "plt.plot (l, signal-bkg, 'r')\n",
      "plt.xlabel ('laser wavelength [nm]', fontsize = 15)\n",
      "plt.ylabel ('signal [nW]', fontsize=15)\n",
      "plt.show()"
     ],
     "language": "python",
     "metadata": {},
     "outputs": []
    },
    {
     "cell_type": "code",
     "collapsed": false,
     "input": [
      "l = np.array([0.2, 0.22, 0.24, 0.26, 0.28, 0.3, 0.32, 0.33, 0.34, 0.35, 0.36, 0.37, 0.38, 0.39, 0.4, 0.43, 0.45, 0.47, 0.49, 0.51, 0.53, 0.55, 0.58, 0.59, 0.61, 0.63, 0.65, 0.67])\n",
      "signal = np.array ([0.16, 0.196, 0.176, 0.245, 0.392, 0.37, 0.72, 0.72, 0.95, 0.96, 0.97, 2.8, 3.1, 4.3, 1.4, 0.8, 6.7, 8, 5.4, 2.6, 1, 0.65, 0.196, 0.8, 0.3, 0.25, 0.2, 0.15])\n",
      "bkg = 0.135\n",
      "\n",
      "plt.figure(figsize= (10, 6))\n",
      "plt.plot (l, (signal-bkg), 'r--')\n",
      "plt.plot (l, (signal-bkg), 'ob')\n",
      "plt.xlabel ('laser wavelength [nm]', fontsize = 18)\n",
      "plt.ylabel ('signal [uW]', fontsize=18)\n",
      "plt.tick_params(axis='both',labelsize = 17)\n",
      "plt.show()"
     ],
     "language": "python",
     "metadata": {},
     "outputs": []
    },
    {
     "cell_type": "code",
     "collapsed": false,
     "input": [
      "execfile (\"D:/measuring/analysis/scripts/qTelecom/DFG_analysis.py\")"
     ],
     "language": "python",
     "metadata": {},
     "outputs": []
    },
    {
     "cell_type": "code",
     "collapsed": false,
     "input": [
      "#2015-09-09 - Abou and Anais\n",
      "temp = np.array([29.69,29.40,29.11,28.80,28.49,28.20,27.89,27.60,27.31,27.00,26.70,26.39,26.10,25.80,25.29,24.80,23.80,27.91,29.69,30.00,30.30,30.60,30.91,31.21,31.50,31.79,32.10,32.40,32.91,33.41,34.39,35.39])\n",
      "signal = np.array([6.70,5.65,3.40,1.06,2.20,4.05,4.45,4.00,2.75,1.85,1.70,2.00,2.55,2.40,0.75,0.34,0.08,4.40,6.40,4.00,2.25,2.30,2.80,2.20,1.20,0.9,0.9,0.5,0.21,0.22,0.28,0.14])\n",
      "unc_signal = np.array([0.1,0.2,0.4,0.02,0.2,0.1,0.15,0.1,0.15,0.1,0.05,0.05,0.05,0.15,0.05,0.01,0.01,0.02,0.3,0.4,0.1,0.2,0.1,0.05,0.1,0.05,0.05,0.15,0.05,0.05,0.05,0.03])\n",
      "\n",
      "ind = np.argsort(temp)\n",
      "temp = temp[ind]\n",
      "signal = signal[ind]\n",
      "unc_signal = unc_signal[ind]\n",
      "\n",
      "\n",
      "plt.plot (temp, signal, 'r--')\n",
      "plt.errorbar(temp, signal, yerr = unc_signal, fmt='ob')\n",
      "\n",
      "#plt.errorbar(x, y, xerr=0.2, yerr=0.4)\n",
      "plt.title(\"2015-09-09\\nTemperature sweep - WG2 Gr5\\nAlignment optimized at T = 29.69 deg\", fontsize = 15)\n",
      "plt.xlabel ('Temperature [deg]', fontsize = 15)\n",
      "plt.ylabel ('Signal [uW]', fontsize=15)\n",
      "plt.tick_params(axis='both', which='major', labelsize=14)\n",
      "plt.ylim([0,7])\n",
      "plt.xlim([22,36])\n",
      "plt.show()\n",
      "\n"
     ],
     "language": "python",
     "metadata": {},
     "outputs": []
    },
    {
     "cell_type": "code",
     "collapsed": false,
     "input": [
      "#2015-09-09 - Abou and Anais\n",
      "temp = np.array([27.89,27.61,27.30,27.00,26.70,26.40,25.90,24.91,23.91,27.91,28.20,28.50,28.80,29.10,29.40,29.81,30.11,30.40,30.70,31.0,31.5,32,33,33.99])\n",
      "signal = np.array([6.4,4.5,2.6,1.35,0.93,0.8,1.60,1.15,0.02,6.15,6.20,4.20,1.60,1.7,3.9,4.9,3.0,1.2,1.1,1.2,0.6,0.42,0.09,0.04])\n",
      "unc_signal = np.array([0.2,0.2,0.2,0.15,0.05,0.05,0.02,0.01,0.05,0.15,0.10,0.4,0.2,0.02,0.4,0.02,0.2,0.2,0.1,0.1,0.05,0.05,0.05,0.01])\n",
      "\n",
      "ind = np.argsort(temp)\n",
      "temp = temp[ind]\n",
      "signal = signal[ind]\n",
      "unc_signal = unc_signal[ind]\n",
      "\n",
      "\n",
      "plt.plot (temp, signal, 'r--')\n",
      "plt.errorbar(temp, signal, yerr = unc_signal, fmt='ob')\n",
      "\n",
      "#plt.errorbar(x, y, xerr=0.2, yerr=0.4)\n",
      "plt.title(\"2015-09-09\\nTemperature sweep - WG2 Gr5\\nAlignment optimized at T = 27.89 deg\", fontsize = 15)\n",
      "plt.xlabel ('Temperature [deg]', fontsize = 15)\n",
      "plt.ylabel ('Signal [uW]', fontsize=15)\n",
      "plt.tick_params(axis='both', which='major', labelsize=14)\n",
      "plt.ylim([0,7])\n",
      "plt.xlim([22,36])\n",
      "plt.show()"
     ],
     "language": "python",
     "metadata": {},
     "outputs": []
    },
    {
     "cell_type": "code",
     "collapsed": false,
     "input": [
      "#2015-09-17 - Anais\n",
      "pump_power= np.array([4,25,40,50,75,100,115,130,145,160,180,200,230,260,300,335,400,540,650,750])\n",
      "signal = np.array([0.241,1.22,1.82,2.16,2.86,3.40,3.65,3.80,3.85,3.95,4.00,4.00,3.90,3.80,3.50,3.26,2.65,1.75,1.04,0.55])\n",
      "unc_signal = np.array([0.002,0.01,0.01,0.01,0.03,0.05,0.05,0.05,0.05,0.05,0.1,0.1,0.05,0.05,0.05,0.04,0.04,0.02,0.03,0.01])\n",
      "\n",
      "#ind = np.argsort(pump_power)\n",
      "#pump_power = pump_power[ind]\n",
      "#signal = signal[ind]\n",
      "#unc_signal = unc_signal[ind]\n",
      "eta_DFG = signal*1587/(400.*637) # red impu power : 400 uW\n",
      "unc_eta_DFG = unc_signal*1587/(400.*637)\n",
      "\n",
      "\n",
      "plt.plot (pump_power, eta_DFG*100, 'r--')\n",
      "plt.errorbar(pump_power, eta_DFG*100, yerr = unc_eta_DFG*100, fmt='ob')\n",
      "\n",
      "#plt.errorbar(x, y, xerr=0.2, yerr=0.4)\n",
      "plt.title(\"2015-09-17\\nPump power sweep - WG2 Gr5\", fontsize = 15)\n",
      "plt.xlabel ('Pump power [mW]', fontsize = 15)\n",
      "plt.ylabel ('Conversion efficiency [%]', fontsize=15)\n",
      "plt.tick_params(axis='both', which='major', labelsize=14)\n",
      "#plt.ylim([0,7])\n",
      "#plt.xlim([0,36])\n",
      "plt.show()"
     ],
     "language": "python",
     "metadata": {},
     "outputs": []
    },
    {
     "cell_type": "code",
     "collapsed": false,
     "input": [
      "#2015-09-17 - Anais\n",
      "pump_power= np.array([4,25,51,81,100,130,160,190,220,250,300,350,400,450,500,600,700,800,1000])\n",
      "signal = np.array([0.337,2.06,3.88,4.78,5.35,5.93,6.22,6.30,6.19,5.94,5.38,4.78,4.14,3.52,2.91,1.99,1.32,0.84,0.42])\n",
      "unc_signal = np.array([0.003,0.02,0.02,0.03,0.03,0.02,0.02,0.01,0.03,0.01,0.02,0.04,0.04,0.05,0.04,0.03,0.03,0.02,0.02])\n",
      "\n",
      "#ind = np.argsort(pump_power)\n",
      "#pump_power = pump_power[ind]\n",
      "#signal = signal[ind]\n",
      "#unc_signal = unc_signal[ind]\n",
      "eta_DFG = signal*1587/(400.*637) # red impu power : 400 uW\n",
      "unc_eta_DFG = unc_signal*1587/(400.*637)\n",
      "\n",
      "\n",
      "plt.plot (pump_power/1000., eta_DFG*100, 'r--')\n",
      "plt.errorbar(pump_power/1000., eta_DFG*100, yerr = unc_eta_DFG*100, fmt='ob')\n",
      "\n",
      "#plt.errorbar(x, y, xerr=0.2, yerr=0.4)\n",
      "plt.title(\"2015-09-17\\nPump power sweep - WG2 Gr5\", fontsize = 15)\n",
      "plt.xlabel ('Pump power [W]', fontsize = 15)\n",
      "plt.ylabel ('Conversion efficiency [%]', fontsize=15)\n",
      "plt.tick_params(axis='both', which='major', labelsize=14)\n",
      "#plt.ylim([0,7])\n",
      "#plt.xlim([0,36])\n",
      "plt.show()"
     ],
     "language": "python",
     "metadata": {},
     "outputs": []
    },
    {
     "cell_type": "code",
     "collapsed": false,
     "input": [
      "print 13.5/400.*1587/637\n",
      "\n"
     ],
     "language": "python",
     "metadata": {},
     "outputs": []
    },
    {
     "cell_type": "code",
     "collapsed": false,
     "input": [
      "temp = np.array([22.01,22.49,23.01,23.51,24.00,24.51,25.00,26.00,26.50,27.01,27.50,28.02,28.49,29.01,29.49,30.00,30.49,30.99,31.50,32.00,32.50,33.01,33.49,34.00,34.50,35.02,35.49,36.01])\n",
      "signal = np.array([0.26,0.24,0.73,0.09,0.45,0.06,1.31,1.15,5.90,9.85,5.01,11.72,30.25,59.3,39.3,1.42,32.2,40.1,7.1,10.65,6.85,3.03,3.30,0.12,1.16,0.05,1.35,0.36,0.53])\n",
      "unc_signal = np.array([0.01,0.01,0.01,0.01,0.01,0.01,0.02,0.02,0.07,0.08,0.05,0.30,1.00,1.00,0.90,0.25,1.00,0.70,0.40,0.20,0.30,0.12,0.20,0.03,0.02,0.02,0.02,0.15,0.05])\n",
      "\n",
      "ind = np.argsort(temp)\n",
      "temp = temp[ind]\n",
      "signal = signal[ind]\n",
      "unc_signal = unc_signal[ind]\n",
      "\n",
      "\n",
      "plt.plot (temp, signal, 'r--')\n",
      "plt.errorbar(temp, signal, yerr = unc_signal, fmt='ob')\n",
      "\n",
      "#plt.errorbar(x, y, xerr=0.2, yerr=0.4)\n",
      "plt.title(\"2015-09-22\\nTemperature sweep - WG2 Gr5\\nAlignment optimized at T = 28.65 deg\", fontsize = 15)\n",
      "plt.xlabel ('Temperature [deg]', fontsize = 15)\n",
      "plt.ylabel ('Signal [uW]', fontsize=15)\n",
      "plt.tick_params(axis='both', which='major', labelsize=14)\n",
      "plt.ylim([0,65])\n",
      "plt.xlim([20,38])\n",
      "plt.show()"
     ],
     "language": "python",
     "metadata": {},
     "outputs": []
    },
    {
     "cell_type": "code",
     "collapsed": false,
     "input": [
      "temp = np.array([10.26,10.77,11.25,11.74,12.21,12.70,13.22,13.72,14.15,14.65,15.15,15.66,16.15,16.63,17.13,17.62,18.09,18.60,19.10,19.59,20.07,20.56,21.04,21.55,22.05,22.53,23.01,23.51,23.99,24.49,24.99,25.50,25.99,26.48,26.97,27.47,27.95,28.46,28.93,29.44,29.96])\n",
      "signal = np.array([0.15,0.06,0.68,0.52,0.19,0.92,0.3,1.1,0.99,2.13,2.65,0.89,4.21,6.26,14.10,24.90,27.73,25.8,24.42,27.25,21.22,10.52,10.78,4.29,3.42,5.27,1.2,2.78,1.01,1.27,2.27,0.23,1.33,0.42,0.88,0.60,0.30,0.82,0.08,0.35,0.05])\n",
      "unc_signal = np.array([0.01,0.01,0.02,0.02,0.01,0.02,0.01,0.03,0.02,0.05,0.05,0.07,0.07,0.05,0.10,0.15,0.15,0.2,0.2,0.1,0.15,0.07,0.05,0.05,0.03,0.04,0.02,0.04,0.02,0.04,0.02,0.02,0.03,0.01,0.01,0.01,0.01,0.01,0.01,0.02,0.01,0.01,0.01])\n",
      "\n",
      "ind = np.argsort(temp)\n",
      "temp = temp[ind]\n",
      "signal = signal[ind]\n",
      "unc_signal = unc_signal[ind]\n",
      "\n",
      "\n",
      "plt.plot (temp, signal, 'r--')\n",
      "plt.errorbar(temp, signal, yerr = unc_signal, fmt='ob')\n",
      "\n",
      "#plt.errorbar(x, y, xerr=0.2, yerr=0.4)\n",
      "plt.title(\"2015-09-25\\nTemperature sweep - WG1 Gr5\\nAlignment optimized at T = 19.67 deg\", fontsize = 15)\n",
      "plt.xlabel ('Temperature [deg]', fontsize = 15)\n",
      "plt.ylabel ('Signal [uW]', fontsize=15)\n",
      "plt.tick_params(axis='both', which='major', labelsize=14)\n",
      "plt.ylim([0,30])\n",
      "plt.xlim([9,31])\n",
      "plt.show()"
     ],
     "language": "python",
     "metadata": {},
     "outputs": []
    },
    {
     "cell_type": "code",
     "collapsed": false,
     "input": [
      "import numpy as np\n",
      "import matplotlib.pyplot as plt\n",
      "f = plt.figure()\n",
      "ax = f.add_subplot(111)\n",
      "a = np.arange(25).reshape((5,5)).astype(float)\n",
      "a[3,:] = np.nan\n",
      "x, y = np.meshgrid (np.arange(5), np.arange(5))\n",
      "ax.imshow(x, interpolation='nearest')\n",
      "f.canvas.draw()"
     ],
     "language": "python",
     "metadata": {},
     "outputs": []
    },
    {
     "cell_type": "code",
     "collapsed": false,
     "input": [
      "np.mod (np.arange(11),2)"
     ],
     "language": "python",
     "metadata": {},
     "outputs": []
    },
    {
     "cell_type": "code",
     "collapsed": false,
     "input": [
      "#2015-09-28 - Abou\n",
      "pump_power= np.array([2.5,50.7,75.8,100.3,105,124.6,151.6,175,199,224,249,274,299,350,401,450,499,597,699])\n",
      "signal = np.array([9.2,15.2,19.45,22,23.7,23.3,23.1,22.5,21.4,19.9,19.1,17.5,16.25,12.4,8.8,6.0,4.15,1.7,0.65])\n",
      "unc_signal = np.array([0.15,0.2,0.25,0.3,0.5,0.2,0.2,0.2,0.2,0.2,0.2,0.2,0.25,0.2,0.15,0.3,0.2,0.2,0.25])\n",
      "\n",
      "#ind = np.argsort(pump_power)\n",
      "#pump_power = pump_power[ind]\n",
      "#signal = signal[ind]\n",
      "#unc_signal = unc_signal[ind]\n",
      "eta_DFG = signal*1587/(400.*637) # red impu power : 400 uW\n",
      "unc_eta_DFG = unc_signal*1587/(400.*637)\n",
      "\n",
      "\n",
      "plt.plot (pump_power, eta_DFG*100, 'r--')\n",
      "plt.errorbar(pump_power, eta_DFG*100, yerr = unc_eta_DFG*100, fmt='ob')\n",
      "\n",
      "#plt.errorbar(x, y, xerr=0.2, yerr=0.4)\n",
      "plt.title(\"2015-09-28\\nPump power sweep - WG2 Gr4\", fontsize = 15)\n",
      "plt.xlabel ('Pump power [mW]', fontsize = 15)\n",
      "plt.ylabel ('Conversion efficiency [%]', fontsize=15)\n",
      "plt.tick_params(axis='both', which='major', labelsize=14)\n",
      "#plt.ylim([0,7])\n",
      "#plt.xlim([0,36])\n",
      "plt.show()"
     ],
     "language": "python",
     "metadata": {},
     "outputs": []
    },
    {
     "cell_type": "code",
     "collapsed": false,
     "input": [],
     "language": "python",
     "metadata": {},
     "outputs": []
    }
   ],
   "metadata": {}
  }
 ]
}
