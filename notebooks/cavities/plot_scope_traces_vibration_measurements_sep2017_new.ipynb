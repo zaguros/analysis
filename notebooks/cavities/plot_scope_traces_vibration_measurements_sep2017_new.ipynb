{
 "cells": [
  {
   "cell_type": "code",
   "execution_count": null,
   "metadata": {
    "collapsed": false,
    "deletable": true,
    "editable": true
   },
   "outputs": [],
   "source": [
    "import numpy as np\n",
    "import os.path\n",
    "import pandas\n",
    "import matplotlib\n",
    "import scipy.signal\n",
    "import scipy.constants\n",
    "\n",
    "%matplotlib inline\n",
    "import matplotlib.pyplot as plt\n",
    "from matplotlib import gridspec\n",
    "\n",
    "# import mpld3\n",
    "# from mpld3 import plugins\n",
    "\n",
    "\n",
    "# New version of this notebook\n",
    "# First todo: clean up code. This mess is likely to introduce a mistake.\n",
    "\n"
   ]
  },
  {
   "cell_type": "markdown",
   "metadata": {
    "deletable": true,
    "editable": true
   },
   "source": [
    "## Functions to load xviewer csv (from binary scope data) and scope csv"
   ]
  },
  {
   "cell_type": "code",
   "execution_count": null,
   "metadata": {
    "collapsed": false,
    "deletable": true,
    "editable": true
   },
   "outputs": [],
   "source": [
    "def read_scope_xviewer_csv(filename):\n",
    "    \"\"\" Read csv files exported using Yokogawa XViewer software\n",
    "        \n",
    "        Update 11-09-2017: auto-detect number of columns.        \n",
    "    \"\"\"\n",
    "    headerRows = 10        \n",
    "    with open(filename) as f:\n",
    "        for x in range(headerRows):\n",
    "            line = f.readline()            \n",
    "            if \"HResolution\" in line:\n",
    "                i1 = line.find(',')+1\n",
    "                i2 = line.find(',',i1)                \n",
    "                timeResolution = float( line[i1:i2].strip(' \\t\\n\\r') )        \n",
    "                numberOfCols = line.count(',')    \n",
    "    data = pandas.read_csv(filename,header=None,skiprows=headerRows,usecols=range(1,numberOfCols)).values\n",
    "    return data, timeResolution\n",
    "\n",
    "\n",
    "def read_scope_csv(filename):\n",
    "    \"\"\" Read csv files as stored by Yokogawa Ossiloscope.                     \n",
    "    \"\"\"    \n",
    "    headerRows = 16        \n",
    "    with open(filename) as f:\n",
    "        for x in range(headerRows):\n",
    "            line = f.readline()            \n",
    "            if \"HResolution\" in line:                \n",
    "                timeResolution = float( line[line.rfind(',')+1:-1].strip(' \\t\\n\\r') )    \n",
    "    data = pandas.read_csv(filename,header=None,skiprows=headerRows).values[:,1:-1]\n",
    "    return data, timeResolution\n",
    "\n"
   ]
  },
  {
   "cell_type": "markdown",
   "metadata": {},
   "source": [
    "## Functions to analize vibration time-traces"
   ]
  },
  {
   "cell_type": "code",
   "execution_count": null,
   "metadata": {
    "collapsed": false
   },
   "outputs": [],
   "source": [
    "from scipy.optimize import minimize\n",
    "from scipy import interpolate\n",
    "\n",
    "def lorentzian(x,p):    \n",
    "    \"\"\"\n",
    "    Lorenzian function p[0] is center, p[1] is fwhm, p[2] is maximum intensity\n",
    "    Similar to http://mathworld.wolfram.com/LorentzianFunction.html, but with p[2] maximum intensity, NOT integrated intensity of one.\n",
    "    \"\"\"\n",
    "    return p[2] * (0.5 * p[1])**2 / ( ( x - p[0] )**2 + ( 0.5 * p[1] )**2 )\n",
    "\n",
    "def lorentz_find_x(lorentzFwhm, lorentzMax, lorentzValue):    \n",
    "    \"\"\" For lorenzian function y=f(x) with lorentzFwhm and lorentzMax centered at x=0, find x for y=lorentzValue. \"\"\"\n",
    "    def fun(x):\n",
    "        return ( lorentzian( x, [0, lorentzFwhm, lorentzMax] ) -  lorentzValue ) ** 2    \n",
    "    res = minimize( fun, lorentzFwhm,  method='Nelder-Mead', bounds=( (0, None ), ) )\n",
    "    if not( res.success ):\n",
    "        print 'lorentzFindX convergence error: ', res.message       \n",
    "    return res.x[0]\n",
    "    \n",
    "def lorentz_find_flank_steepness(lorentzFwhm, lorentzMax, x):    \n",
    "    \"\"\" Return steepness of flank for of lorentz dy/dx for given x. Assume lorentz centered at x=0. \"\"\"  \n",
    "    return lorentzMax * 8.0 * lorentzFwhm**2 * x / ( 4.0 * x**2 + lorentzFwhm**2 )**2\n",
    "    \n",
    "\n",
    "def linear_voltage_to_detuning(d, t, lorentzFwhm, lorentzMaxV):\n",
    "    flankSteepness = lorentz_find_flank_steepness( lorentzFwhm, lorentzMaxV, lorentz_find_x( lorentzFwhm, lorentzMaxV, meanVInD ) )\n",
    "    dHz = d / flankSteepness    \n",
    "    return dHz\n",
    "\n",
    "def rms_deviation( x ):\n",
    "    \"\"\" return root-mean-square value of signal, with mean substracted \"\"\"\n",
    "    return np.sqrt(np.mean( (x - np.mean(x))**2))\n",
    "    \n",
    "def lorentz_voltage_to_detuning(d, t, lorentzFwhm, lorentzMaxV, doPlot=False ):    \n",
    "    meanVInD = np.mean( d ) \n",
    "    minVInD = np.amin(d)    \n",
    "    # Compute vibrations in Hz by first applying lorentzian function as lookup table V -> dHz\n",
    "    minDFreqInD = lorentz_find_x( lorentzFwhm, lorentzMaxV, minVInD )        \n",
    "    lorentzDFreq = np.linspace( -minDFreqInD-1e9, 0, 10000 )\n",
    "    lorentzV = lorentzian( lorentzDFreq, [0, lorentzFwhm, lorentzMaxV] )\n",
    "    dHz = interpolate.interp1d(lorentzV, lorentzDFreq)(d)  # will cause error if signal > lorentzMaxV  or if something went wrong with minDFreqInD\n",
    "    # Print and plot results\n",
    "    if doPlot:   \n",
    "        i1 = 0\n",
    "        i2 = min( 50000, len(d) )\n",
    "        fig = plt.figure(figsize=(14, 6))\n",
    "        plt.subplot(131)\n",
    "        plt.plot( t[i1:i2], d[i1:i2] )\n",
    "        plt.xlabel( 'time (s)' )\n",
    "        plt.ylabel( 'transmission (V)' )\n",
    "        plt.grid()\n",
    "        plt.subplot(132)\n",
    "        plt.plot( t[i1:i2], dHz[i1:i2]*1e-9 )\n",
    "        plt.xlabel( 'time (s)' )\n",
    "        plt.ylabel( 'cavity detuning (GHz)' )\n",
    "        plt.grid()\n",
    "        plt.subplot(133)\n",
    "        plt.plot( lorentzDFreq*1e-9, lorentzV )\n",
    "        plt.xlabel( 'cavity detuning GHz' )\n",
    "        plt.ylabel( 'V' )\n",
    "        plt.grid()\n",
    "        plt.show()\n",
    "    return dHz\n",
    "            "
   ]
  },
  {
   "cell_type": "markdown",
   "metadata": {
    "collapsed": true,
    "deletable": true,
    "editable": true
   },
   "source": [
    "## Measurements 14 September 2017 - Cavity length 20 um"
   ]
  },
  {
   "cell_type": "code",
   "execution_count": null,
   "metadata": {
    "collapsed": false,
    "deletable": true,
    "editable": true,
    "scrolled": false
   },
   "outputs": [],
   "source": [
    "# Load files in memory.\n",
    "\n",
    "dataDir = '/Users/wjwesterveld/Documents/Temp_CAV1_data/20170914/scope'\n",
    "fileNames = [ 'SCOPE_013.wdf.csv', 'SCOPE_015.wdf.csv', 'SCOPE_017.wdf.csv', 'SCOPE_019.wdf.csv' ]\n",
    "dataDict = {}\n",
    "\n",
    "for fileName in fileNames:\n",
    "    if fileName in dataDict:\n",
    "        continue\n",
    "    data, timeResolution = read_scope_xviewer_csv( os.path.join(dataDir,fileName) )\n",
    "    time = timeResolution * np.arange(data.shape[0]) \n",
    "    print 'time resolution {} us (sampling frequency {} kHz), trace length {} s, data length {}'.format( \\\n",
    "        timeResolution * 1e6, 1.0/timeResolution* 1e-3, timeResolution*len(data), data.shape[0] )   \n",
    "    dataDict[fileName] = data\n"
   ]
  },
  {
   "cell_type": "code",
   "execution_count": null,
   "metadata": {
    "collapsed": false,
    "deletable": true,
    "editable": true,
    "scrolled": false
   },
   "outputs": [],
   "source": [
    "# Plot first check of files\n",
    "\n",
    "for fileName in fileNames:    \n",
    "    data = dataDict[fileName]\n",
    "    i1 = 0\n",
    "    i2 = np.argmax( time > 1 )\n",
    "    plt.figure(figsize=(16, 8))\n",
    "    plt.plot( time[i1:i2], data[i1:i2,0] )\n",
    "    plt.grid()\n",
    "    plt.xlabel( 'time (s)' )\n",
    "    plt.ylabel( 'V' )\n",
    "    plt.title( fileName )\n",
    "    plt.show()  \n",
    "\n",
    "for fileName in fileNames:    \n",
    "    data = dataDict[fileName]    \n",
    "    plt.hist(data[:,0],20,label=fileName)\n",
    "plt.legend()\n",
    "plt.grid()\n",
    "plt.show()\n",
    "\n",
    "for fileName in fileNames:    \n",
    "    data = dataDict[fileName]    \n",
    "    print 'filename {}, min {} V, max {} V'.format( fileName, np.amin( data[:,0] ), np.amax( data[:,0] ) )    \n"
   ]
  },
  {
   "cell_type": "code",
   "execution_count": null,
   "metadata": {
    "collapsed": false,
    "deletable": true,
    "editable": true
   },
   "outputs": [],
   "source": [
    "fileName = 'SCOPE_019.wdf.csv'\n",
    "\n",
    "data = dataDict[ fileName ]\n",
    "\n",
    "# Analysis\n",
    "lorentzFwhm = 23e9      # theortical estimate from specified mirror reflectivities and clipping losses\n",
    "lorentzMaxV = 0.1505312 # maximum in measurements\n",
    "cavLength = 19.7e-6\n",
    "cavWavelength = 637e-9\n",
    "cavFreq = scipy.constants.c / cavWavelength\n",
    "\n",
    "# Histogram\n",
    "plt.hist(data[:,0],20,label=fileName)\n",
    "plt.legend()\n",
    "plt.grid()\n",
    "plt.show()\n",
    "\n",
    "# Vibrations\n",
    "df = lorentz_voltage_to_detuning( data[:,0], time, lorentzFwhm, lorentzMaxV, doPlot=True )\n",
    "dfRMS = rms_deviation( scipy.signal.detrend( df ) )\n",
    "dlRMS = dfRMS * cavLength / cavFreq\n",
    "print 'rms vibrations {:.3f} V, {:.3f} GHz, {:.3f} nm using Lorenzian look-up'.format( rms_deviation( data[:,0] ), dfRMS*1e-9 , dlRMS*1e9 )                \n",
    "\n",
    "\n",
    "\n"
   ]
  },
  {
   "cell_type": "code",
   "execution_count": null,
   "metadata": {
    "collapsed": false,
    "deletable": true,
    "editable": true
   },
   "outputs": [],
   "source": [
    "# compute spectrum\n",
    "dl = df * cavLength / cavFreq\n",
    "freq_pow, power = scipy.signal.welch( dl, axis = 0, fs = 1/timeResolution, nperseg = len(dl), detrend = 'linear' )\n"
   ]
  },
  {
   "cell_type": "code",
   "execution_count": null,
   "metadata": {
    "collapsed": true
   },
   "outputs": [],
   "source": [
    "# integrate spectrum\n",
    "\n",
    "min_freq = 0.1  # we do not take frequencies below 0.1 Hz into account.\n",
    "max_freq = 20e3\n",
    "\n",
    "min_ind = np.argmin(np.abs(freq_pow-min_freq))\n",
    "max_ind = np.argmin(np.abs(freq_pow-max_freq))\n",
    "\n",
    "full_pow = scipy.integrate.trapz(power,freq_pow,axis=0)\n",
    "dc_pow = scipy.integrate.trapz(power[0:min_ind],freq_pow[0:min_ind],axis=0)\n",
    "\n",
    "cum_freqs = freq_pow[min_ind+1:max_ind]      \n",
    "cum_pow = scipy.integrate.cumtrapz( power[min_ind:max_ind], freq_pow[min_ind:max_ind] )\n",
    "cum_pow = cum_pow / (full_pow-dc_pow)  "
   ]
  },
  {
   "cell_type": "code",
   "execution_count": null,
   "metadata": {
    "collapsed": false,
    "deletable": true,
    "editable": true,
    "scrolled": false
   },
   "outputs": [],
   "source": [
    "plt.figure(figsize=(12, 12))\n",
    "plt.subplot(211)\n",
    "plt.plot(freq_pow[min_ind:max_ind], 10.0*np.log10( power[min_ind:max_ind] ) )\n",
    "plt.grid()\n",
    "plt.xlabel('freq (Hz)')\n",
    "plt.ylabel('Noise power (m**2 in dB)')\n",
    "plt.subplot(212)\n",
    "plt.plot(cum_freqs, cum_pow)\n",
    "plt.title( 'full noise power {:.3f} nm/sqrt(Hz), dc frequency {} Hz, relative DC power {:.3f}'.format( np.sqrt( full_pow ) *1e9, min_freq, dc_pow / full_pow )  )\n",
    "plt.grid()\n",
    "plt.xlabel('freq (Hz)')\n",
    "plt.ylabel('Integrated noise power, relative (m**2)')\n",
    "plt.show()\n",
    "\n",
    "  \n"
   ]
  },
  {
   "cell_type": "code",
   "execution_count": null,
   "metadata": {
    "collapsed": false,
    "deletable": true,
    "editable": true
   },
   "outputs": [],
   "source": [
    "plt.figure(figsize=(12, 12))\n",
    "plt.plot( cum_freqs, plot1, label='#017, 18 GHz lw' )\n",
    "plt.plot( cum_freqs, plot2, label='#017, 23 GHz lw', linestyle=':' )\n",
    "plt.plot( cum_freqs, plot3, label='#019, 18 GHz lw' )\n",
    "plt.plot( cum_freqs, plot4, label='#019, 23 GHz lw', linestyle=':' )\n",
    "plt.xlim( 0, 1000 )\n",
    "plt.grid()\n",
    "plt.xlabel('freq (Hz)')\n",
    "plt.ylabel('Integrated noise power, relative (m**2)')\n",
    "plt.legend()\n",
    "plt.show()"
   ]
  },
  {
   "cell_type": "markdown",
   "metadata": {
    "collapsed": true,
    "deletable": true,
    "editable": true
   },
   "source": [
    "## Measurements 14 September 2017 - Cavity length 20 um"
   ]
  },
  {
   "cell_type": "code",
   "execution_count": null,
   "metadata": {
    "collapsed": false,
    "deletable": true,
    "editable": true
   },
   "outputs": [],
   "source": [
    "dataDir = '/Users/wjwesterveld/Documents/Temp_CAV1_data/20170918/scope'\n",
    "\n",
    "fileNames = [ 'SCOPE_006.wdf.csv', 'SCOPE_007.wdf.csv', 'SCOPE_008.wdf.csv', 'SCOPE_009.wdf.csv', 'SCOPE_010.wdf.csv', 'SCOPE_011.wdf.csv', 'SCOPE_012.wdf.csv', 'SCOPE_020.wdf.csv' ]\n",
    "\n",
    "# fileNames = [ 'SCOPE_006.wdf.csv', 'SCOPE_013.wdf.csv', 'SCOPE_014.wdf.csv', 'SCOPE_015.wdf.csv', 'SCOPE_016.wdf.csv', 'SCOPE_017.wdf.csv', 'SCOPE_018.wdf.csv', 'SCOPE_019.wdf.csv' ]\n",
    "\n",
    "# dataDict = {}\n",
    "\n",
    "for fileName in fileNames:\n",
    "    if fileName in dataDict:\n",
    "        continue\n",
    "    data, timeResolution = read_scope_xviewer_csv( os.path.join(dataDir,fileName) )\n",
    "    time = timeResolution * np.arange(data.shape[0]) \n",
    "    print 'time resolution {} us (sampling frequency {} kHz), trace length {} s, data length {}'.format( \\\n",
    "        timeResolution * 1e6, 1.0/timeResolution* 1e-3, timeResolution*len(data), data.shape[0] )   \n",
    "    dataDict[fileName] = data"
   ]
  },
  {
   "cell_type": "code",
   "execution_count": null,
   "metadata": {
    "collapsed": false,
    "deletable": true,
    "editable": true,
    "scrolled": false
   },
   "outputs": [],
   "source": [
    "for fileName in fileNames:    \n",
    "    data = dataDict[fileName]\n",
    "    i1 = 0\n",
    "    i2 = np.argmax( time > 1 )\n",
    "    plt.figure(figsize=(16, 8))\n",
    "    plt.plot( time[i1:i2], data[i1:i2,0] )\n",
    "    plt.grid()\n",
    "    plt.xlabel( 'time (s)' )\n",
    "    plt.ylabel( 'V' )\n",
    "    plt.title( fileName )\n",
    "    plt.show()  \n",
    "\n",
    "for fileName in fileNames:    \n",
    "    data = dataDict[fileName]    \n",
    "    plt.hist(data[:,0],20,label=fileName)\n",
    "plt.legend()\n",
    "plt.grid()\n",
    "plt.show()\n",
    "\n",
    "for fileName in fileNames:    \n",
    "    data = dataDict[fileName]    \n",
    "    print 'filename {}, min {:10.3f} V, max {:10.3f} V'.format( fileName, np.amin( data[:,0] ), np.amax( data[:,0] ) )  \n",
    "\n"
   ]
  },
  {
   "cell_type": "code",
   "execution_count": null,
   "metadata": {
    "collapsed": false,
    "deletable": true,
    "editable": true,
    "scrolled": false
   },
   "outputs": [],
   "source": [
    "# Compute dl and RMS values\n",
    "\n",
    "# dlDict = {}\n",
    "\n",
    "for fileName in fileNames[1:]:    \n",
    "    data = dataDict[fileName]    \n",
    "    \n",
    "    # Analysis    \n",
    "    lorentzFwhm = 18.0e9        # theortical estimate from specified mirror reflectivities and clipping losses\n",
    "    lorentzMaxV = 0.0863000001  # maximum in measurements \n",
    "    cavLength = 19.7e-6\n",
    "    cavWavelength = 637e-9\n",
    "    cavFreq = scipy.constants.c / cavWavelength\n",
    "\n",
    "    # Vibrations\n",
    "    df = lorentz_voltage_to_detuning( data[:,0], time, lorentzFwhm, lorentzMaxV, doPlot=True )\n",
    "    dfRMS = rms_deviation( scipy.signal.detrend( df ) )\n",
    "    dlRMS = dfRMS * cavLength / cavFreq        \n",
    "    print '{} (lw {:.1f} GHz) rms vibrations {:.3f} V, {:.3f} GHz, {:.3f} nm'.format( fileName, lorentzFwhm*1e-9, rms_deviation( data[:,0] ), dfRMS*1e-9 , dlRMS*1e9 )                    \n",
    "                \n",
    "    # dlDict[fileName] = df * cavLength / cavFreq\n",
    "                \n",
    "    \n",
    "    \n",
    "#013 0.144 nm\n",
    "#014 0.149 nm\n",
    "#015 0.169 nm\n",
    "#016 0.166 nm\n",
    "\n",
    "#017\t0.122 nm\n",
    "#018\t0.127\n",
    "#019\t0.118"
   ]
  },
  {
   "cell_type": "code",
   "execution_count": null,
   "metadata": {
    "collapsed": false
   },
   "outputs": [],
   "source": [
    "# Compute spectra and cumtrapz\n",
    "\n",
    "def calc_cum_pow( freq_power, power, min_freq=0.1, max_freq=20e3 ):\n",
    "\n",
    "    # min_freq = 0.1  # we do not take frequencies below 0.1 Hz into account.\n",
    "    # max_freq = 20e3\n",
    "\n",
    "    min_ind = np.argmin(np.abs(freq_pow-min_freq))\n",
    "    max_ind = np.argmin(np.abs(freq_pow-max_freq))\n",
    "\n",
    "    full_pow = scipy.integrate.trapz(power,freq_pow,axis=0)\n",
    "    dc_pow = scipy.integrate.trapz(power[0:min_ind],freq_pow[0:min_ind],axis=0)\n",
    "\n",
    "    cum_freqs = freq_pow[min_ind+1:max_ind]      \n",
    "    cum_pow = scipy.integrate.cumtrapz( power[min_ind:max_ind], freq_pow[min_ind:max_ind] )\n",
    "    cum_pow = cum_pow / (full_pow-dc_pow)  \n",
    "    \n",
    "    return cum_freqs, cum_pow, full_pow, dc_pow\n",
    "\n",
    "\n",
    "plt.figure(figsize=(12, 12))\n",
    "\n",
    "if not( 'powerDict' in locals() ):\n",
    "    powerDict = {}\n",
    "    freqPowDict = {}  \n",
    "\n",
    "for fileName in fileNames[1:]:    \n",
    "    dl = dlDict[fileName] \n",
    "    if fileName in powerDict:\n",
    "        power = powerDict[fileName]\n",
    "        freqPow = freqPowDict[fileName]\n",
    "    else:    \n",
    "        freq_pow, power = scipy.signal.welch( dl, axis = 0, fs = 1/timeResolution, nperseg = len(dl), detrend = 'linear' )\n",
    "        powerDict[fileName] = power\n",
    "        freqPowDict[fileName] = freqPow\n",
    "        \n",
    "    cumFreqs, cumPow, fullPow, dcPow = calc_cum_pow( freqPow, power, max_freq=250  )\n",
    "       \n",
    "    plt.plot( cumFreqs*1e-3, cumPow, label=fileName )        \n",
    "    print '{}, full noise power {:.3f} nm/sqrt(Hz), dc frequency {} Hz, relative DC power {:.3f}'.format( fileName, np.sqrt( fullPow ) *1e9, 0.1, dcPow / fullPow ) \n",
    "    \n",
    "plt.grid()\n",
    "plt.xlabel('freq (kHz)')\n",
    "plt.ylabel('Integrated noise power, relative (m**2)')\n",
    "plt.legend()\n",
    "plt.show()\n",
    "    "
   ]
  },
  {
   "cell_type": "code",
   "execution_count": null,
   "metadata": {
    "collapsed": true
   },
   "outputs": [],
   "source": []
  }
 ],
 "metadata": {
  "kernelspec": {
   "display_name": "Python 2",
   "language": "python",
   "name": "python2"
  },
  "language_info": {
   "codemirror_mode": {
    "name": "ipython",
    "version": 2
   },
   "file_extension": ".py",
   "mimetype": "text/x-python",
   "name": "python",
   "nbconvert_exporter": "python",
   "pygments_lexer": "ipython2",
   "version": "2.7.11"
  }
 },
 "nbformat": 4,
 "nbformat_minor": 0
}
