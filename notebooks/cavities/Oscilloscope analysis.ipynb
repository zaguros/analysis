{
 "metadata": {
  "kernelspec": {
   "display_name": "Python 2",
   "language": "python",
   "name": "python2"
  },
  "language_info": {
   "codemirror_mode": {
    "name": "ipython",
    "version": 2
   },
   "file_extension": ".py",
   "mimetype": "text/x-python",
   "name": "python",
   "nbconvert_exporter": "python",
   "pygments_lexer": "ipython2",
   "version": "2.7.11"
  },
  "name": "",
  "signature": "sha256:6ccddad299064435316ea551a6810b1b6c63d7d4ff9dd8722eebab249e2ba0be"
 },
 "nbformat": 3,
 "nbformat_minor": 0,
 "worksheets": [
  {
   "cells": [
    {
     "cell_type": "code",
     "collapsed": false,
     "input": [
      "execfile('H:/My Documents/measuring/analysis/scripts/setup_analysis.py')\n",
      "\n",
      "%matplotlib inline\n",
      "\n",
      "import scipy.signal"
     ],
     "language": "python",
     "metadata": {},
     "outputs": [],
     "prompt_number": 47
    },
    {
     "cell_type": "code",
     "collapsed": false,
     "input": [
      "import analysis.scripts.cavity.oscilloscope_analysis_linewidth as oscillo_ana\n",
      "import analysis.scripts.cavity.functions_for_processing_linewidth_data as funcs"
     ],
     "language": "python",
     "metadata": {
      "scrolled": true
     },
     "outputs": [],
     "prompt_number": 44
    },
    {
     "cell_type": "code",
     "collapsed": false,
     "input": [
      "######simple plotting of oscilloscope data\n",
      "\n",
      "indir = 'D:\\measuring/data/20160907/145700_reflection_scope_trace'\n",
      "filename = 'REFL000'\n",
      "EOM_freq= 6.\n",
      "reload(oscillo_ana)\n",
      "\n",
      "oa_all = oscillo_ana.oscilloscope_analysis(indir=indir,filename=filename)\n",
      "oa_all.get_data(use_timetrace=False,x_min=None,x_max=None,data_col=3)\n",
      "oa_all.plot_data(plot_mod=True,figsize=(16,4),fmt='o')\n",
      "\n",
      "x_min=64000\n",
      "x_max=x_min+5000\n",
      "oa_single = oscillo_ana.oscilloscope_analysis(indir=indir,filename=filename)\n",
      "oa_single.get_data(use_timetrace=False,x_min=x_min,x_max=x_max,data_col=3)#1400)\n",
      "oa_single.plot_data(plot_mod=False,figsize=(16,4),fmt='o')"
     ],
     "language": "python",
     "metadata": {},
     "outputs": []
    },
    {
     "cell_type": "code",
     "collapsed": false,
     "input": [
      "###plot lw + modulation\n",
      "\n",
      "indir = 'K:/ns\\qt\\Diamond\\Projects\\Cavities\\Cavity characterisation paper\\data\\data_for_cav_char_paper/20160825/OND_POS2L6/V2'\n",
      "filename = 'NICE_LWS00144'\n",
      "EOM_freq= 6.\n",
      "data_col=2\n",
      "reload(oscillo_ana)\n",
      "\n",
      "oa_all = oscillo_ana.oscilloscope_analysis(indir=indir,filename=filename)\n",
      "# x,y=oa_all.get_data(use_timetrace=False,x_min=None,x_max=None,data_col=data_col)\n",
      "oa_all.get_data(use_timetrace=False,x_min=1000,x_max=3000,data_col=data_col,nr_channels=3)\n",
      "\n",
      "xtomsconversion = 500/125000.\n",
      "\n",
      "fig,ax = plt.subplots()\n",
      "ax.plot(oa_all.x*xtomsconversion,oa_all.y,'o')\n",
      "maxmod = max(oa_all.mod)\n",
      "minmod = min(oa_all.mod)\n",
      "avgmod = minmod-maxmod\n",
      "print maxmod,minmod\n",
      "print avgmod\n",
      "#scale_y =(max(oa_all.y)/ maxmod) \n",
      "ax.plot(oa_all.x*xtomsconversion,(oa_all.mod-avgmod)*0.6)\n",
      "ax.set_xlabel('time in sweep (ms)')\n",
      "plt.savefig(os.path.join(indir,filename+'data_for_cav_paper_schematic.png'))\n",
      "plt.savefig(os.path.join(indir,filename+'data_for_cav_paper_schematic.eps'))"
     ],
     "language": "python",
     "metadata": {},
     "outputs": []
    },
    {
     "cell_type": "code",
     "collapsed": false,
     "input": [
      "#################fitting many linewidths in an oscilloscope sweep\n",
      "indir = 'K:/ns\\qt\\Diamond\\Projects\\Cavities\\Cavity characterisation paper\\data\\data_for_cav_char_paper/20160822\\RT_OND_POS1_L3\\V3'\n",
      "indir = 'K:/ns\\qt\\Diamond\\Projects\\Cavities\\Cavity characterisation paper\\data\\data_for_cav_char_paper/20160825/OND_POS2L6/V2'\n",
      "#indir = 'K:/ns\\qt\\Diamond\\Projects\\Cavities\\Cavity characterisation paper\\data\\data_for_cav_char_paper/20160905/LT_OND_POS2_L6/V2'\n",
      "#filename = 'NICE_LWS00076'\n",
      "filename = 'NICE_LWS00144'\n",
      "EOM_freq= 6.\n",
      "data_col=2\n",
      "reload(oscillo_ana)\n",
      "\n",
      "oa_all = oscillo_ana.oscilloscope_analysis(indir=indir,filename=filename)\n",
      "# x,y=oa_all.get_data(use_timetrace=False,x_min=None,x_max=None,data_col=data_col)\n",
      "oa_all.get_data(use_timetrace=False,x_min=None,x_max=2200,data_col=data_col,nr_channels=3)\n",
      "oa_all.plot_data(plot_mod=True,figsize=(16,4),fmt='o')\n",
      "print len(x)\n",
      "\n",
      "min_plots=0\n",
      "max_plots = 1\n",
      "return_data = True\n",
      "\n",
      "test=True\n",
      "x0 =250\n",
      "x_odd_offset =0\n",
      "\n",
      "ms_per_div = 20\n",
      "mod_frequency = 1000 #Hz\n",
      "\n",
      "windowsize=100# print len(x)\n",
      "g_gamma = 6#6\n",
      "g_dx=30#26\n",
      "g_A=2#1.4\n",
      "max_chisq=0.0005#0.0028#1.#0.003#0.007#0.004#0.001#0.04\n",
      "\n",
      "nr_lws=20.*mod_frequency*ms_per_div/1000.\n",
      "\n",
      "\n",
      "x,y,fit_result = oscillo_ana.fit_all_resonances_in_sweep(indir,filename,EOM_freq,nr_lws,x0,\n",
      "                                                         windowsize,x_odd_offset,g_gamma,g_dx,g_A,max_chisq,\n",
      "                                                         test=test,total_length=125000,data_col=data_col,\n",
      "                                                         max_plots=max_plots,min_plots=min_plots,return_data=return_data)"
     ],
     "language": "python",
     "metadata": {},
     "outputs": [],
     "prompt_number": 57
    },
    {
     "cell_type": "code",
     "collapsed": true,
     "input": [
      "######################plot single linewidth for cavity characteristaion paper\n",
      "execfile('H:/My Documents/measuring/analysis/scripts/cavity/plot_single_linewidth_scan.py')"
     ],
     "language": "python",
     "metadata": {},
     "outputs": [],
     "prompt_number": 61
    },
    {
     "cell_type": "code",
     "collapsed": false,
     "input": [],
     "language": "python",
     "metadata": {
      "scrolled": true
     },
     "outputs": [],
     "prompt_number": 61
    },
    {
     "cell_type": "code",
     "collapsed": false,
     "input": [],
     "language": "python",
     "metadata": {},
     "outputs": []
    },
    {
     "cell_type": "code",
     "collapsed": false,
     "input": [
      "######################no longer used############################\n",
      "\n",
      "reload(oscillo_ana)\n",
      "indir='D:\\measuring\\data/20160825/OND_POS2L8'#'D:\\measuring\\data/20160430\\OFF_diamond'\n",
      "# filenames=['V0/NICE_LWS00168','V1/NICE_LWS00167','V-1/NICE_LWS00169',\\\n",
      "#           'V3/NICE_LWS00163','V4/NICE_LWS00164','V5/NICE_LWS00165',\\\n",
      "#           'V6/NICE_LWS00166']\n",
      "indir = 'D:\\measuring\\data/20160830/135900'\n",
      "filename = 'LT_LWS003'\n",
      "filenames=[filename]#['V0/NICE_LWS00168','V1/NICE_LWS00167','V-1/NICE_LWS00169']\n",
      "EOM_freq=6. # in GHz\n",
      "# x0s = [200,170,850,650,1100,750,400]\n",
      "# dx0s = [0,0,0,0,0,0,0,0,0]\n",
      "\n",
      "x0s = [5000,700,850]\n",
      "dx0s = [0,0,0]\n",
      "\n",
      "for j,filename in enumerate(filenames):\n",
      "    oa = oscillo_ana.oscilloscope_analysis(indir=indir,filename=filename)\n",
      "    oa.get_data(use_timetrace=False,x_min=0,x_max=10000,data_col=3)#1400)\n",
      "    oa.plot_data()#plot_mod=True)\n",
      "\n",
      "    # lws_old=lws[:-1]\n",
      "    lws = np.array([])#lws_old## \n",
      "    As = np.array([])#lws_old## \n",
      "    gammas = np.array([])#lws_old## \n",
      "    nr_lws=10\n",
      "\n",
      "    x0 =x0s[j]\n",
      "    windowsize=5000# print len(x)\n",
      "    # xi = int(len(x)/nr_lws)\n",
      "    # print xi \n",
      "\n",
      "    x,y = oa.get_data(use_timetrace=False,data_col=3)\n",
      "    # lw,u_lw = oa.plot_and_fit_with_EOM(EOM_freq=EOM_freq)\n",
      "    # print lw\n",
      "\n",
      "    for i in np.arange(nr_lws):\n",
      "        xi = int(x0+(len(x)*i/nr_lws))\n",
      "\n",
      "        if i%2==1:\n",
      "            xi=xi+dx0s[j]   \n",
      "        if (xi-windowsize)>0:\n",
      "            x_min = xi-windowsize\n",
      "        else: \n",
      "            x_min = 0\n",
      "        if (xi+windowsize)<len(x)-1:\n",
      "            x_max = xi+windowsize\n",
      "        else:\n",
      "            x_max =-1\n",
      "        oa.get_data(use_timetrace=False,x_min = x_min, x_max=x_max,data_col=3)\n",
      "    #     oa.plot_data()\n",
      "        print i\n",
      "        lw,u_lw,A1,u_A1,gamma1,u_gamma1 = \\\n",
      "            oa.plot_and_fit_with_EOM(EOM_freq=EOM_freq,\n",
      "                g_gamma1=500, g_dx=1000,g_A2=10000,g_A3=10000,show_fit=True,print_fit=False)\n",
      "        lws = np.append(lws,lw)\n",
      "        As = np.append(As,A1)\n",
      "        gammas = np.append(gammas,gamma1)\n",
      "        if i>1:\n",
      "            break\n",
      "\n",
      "    print lws\n",
      "    print len(lws)\n",
      "    print np.average(lws)\n",
      "    print np.std(lws)\n",
      "\n",
      "    f = open(os.path.join(indir,filename+'_fitted_lws.txt'), 'w')\n",
      "    np.savetxt(f,lws)\n",
      "    f.close()\n",
      "    f = open(os.path.join(indir,filename+'_fitted_As.txt'), 'w')\n",
      "    np.savetxt(f,As)\n",
      "    f.close()\n",
      "    f = open(os.path.join(indir,filename+'_fitted_gammas.txt'), 'w')\n",
      "    np.savetxt(f,gammas)\n",
      "    f.close()\n",
      "\n",
      "# plt.show()\n",
      "\n",
      "# x,y = oscillo_ana.plot_data(indir, filename,use_timetrace=False,x_min=x_min,x_max=x_max)\n",
      "\n",
      "# oscillo_ana.plot_and_fit_with_EOM(indir, filename,EOM_frq,g_a1, g_A1, g_x01, g_gamma1, g_dx, g_A2,g_A3,fixed=fixed,use_timetrace=False)"
     ],
     "language": "python",
     "metadata": {
      "scrolled": true
     },
     "outputs": [],
     "prompt_number": null
    },
    {
     "cell_type": "code",
     "collapsed": false,
     "input": [],
     "language": "python",
     "metadata": {
      "scrolled": true
     },
     "outputs": [],
     "prompt_number": null
    },
    {
     "cell_type": "code",
     "collapsed": true,
     "input": [
      "######################below are functions used to analyse oscilloscope data\n",
      "#### that is saved in a text file (old style)\n",
      "#### but did not have information about the ascending or descending slope of the cavity length modulation.\n",
      "#### as long as newer linewidth analysis files are used, this code is not longer needed.\n",
      "#### but it has been used to analyse opart of the data for the cavity characterisation paper"
     ],
     "language": "python",
     "metadata": {},
     "outputs": [],
     "prompt_number": null
    },
    {
     "cell_type": "code",
     "collapsed": false,
     "input": [
      "# indir='D:\\measuring\\data/20160819/OND_L2_V9p866'#\n",
      "lws_from_file={}\n",
      "for filename in filenames:\n",
      "    print filename\n",
      "\n",
      "    f = open(os.path.join(indir,filename+'_fitted_lws.txt'), 'r')\n",
      "    lws_from_file[filename] = np.loadtxt(f)\n",
      "    f.close()\n",
      "    \n",
      "    print len(lws_from_file[filename])\n",
      "\n",
      "    os.listdir(indir)\n",
      "    # filename='NICE_LWS00058'\n",
      "    reload(oscillo_ana)\n",
      "    oa = oscillo_ana.oscilloscope_analysis(indir=indir,filename=filename)\n",
      "    oa.get_data(use_timetrace=False,x_max=2000)#5000\n",
      "    oa.plot_data(plot_mod=True)\n",
      "    #oa.get_data(use_timetrace=False,x_min=-2000)\n",
      "    #oa.plot_data(plot_mod=True)"
     ],
     "language": "python",
     "metadata": {
      "scrolled": true
     },
     "outputs": [],
     "prompt_number": null
    },
    {
     "cell_type": "code",
     "collapsed": false,
     "input": [
      "first_lw_directions = ['u','u','u','u','u','u','d']"
     ],
     "language": "python",
     "metadata": {
      "scrolled": true
     },
     "outputs": [],
     "prompt_number": null
    },
    {
     "cell_type": "code",
     "collapsed": false,
     "input": [
      "#IF SINGLE FILE EXECUTE THIS CELL:\n",
      "for i,filename in enumerate(filenames):\n",
      "    first_lw_direction = first_lw_directions[i]\n",
      "\n",
      "    updown_mean_lws,lws_up,lws_down =funcs.get_up_down_lws(lws_from_file[filename],first_lw_direction)\n",
      "    analysis=funcs.add_to_analysis_dict({},lws_up,lws_down,updown_mean_lws)\n",
      "    funcs.save_to_json_file(indir,filename+'_analysis',analysis)\n",
      "\n",
      "    print 'results of ',indir,filename\n",
      "    print_results(analysis)\n"
     ],
     "language": "python",
     "metadata": {
      "scrolled": true
     },
     "outputs": [],
     "prompt_number": null
    },
    {
     "cell_type": "code",
     "collapsed": true,
     "input": [
      "#IF THREE FILES EXECUTE THIS AND THE FOLLWING CELLS:\n",
      "\n",
      "file1_first_lw_direction = 'up'\n",
      "file2_first_lw_direction = 'up'\n",
      "file3_first_lw_direction = 'down'\n",
      "removedfromfile1=0\n",
      "removedfromfile2=0\n"
     ],
     "language": "python",
     "metadata": {},
     "outputs": [],
     "prompt_number": null
    },
    {
     "cell_type": "code",
     "collapsed": false,
     "input": [
      "fitted_lws_file1=lws_from_file[0:48-removedfromfile1]\n",
      "fitted_lws_file2=lws_from_file[48-removedfromfile1:96-removedfromfile1-removedfromfile2]\n",
      "fitted_lws_file3=lws_from_file[96-removedfromfile1-removedfromfile2:144]\n",
      "\n",
      "print len(fitted_lws_file1),len(fitted_lws_file2),len(fitted_lws_file3)\n",
      "#print fitted_lws_file1\n",
      "#print fitted_lws_file2 \n",
      "#print fitted_lws_file3"
     ],
     "language": "python",
     "metadata": {},
     "outputs": [],
     "prompt_number": null
    },
    {
     "cell_type": "code",
     "collapsed": false,
     "input": [
      "funcs.save_to_txt_file(indir,'fitted_lws_file1',fitted_lws_file1)\n",
      "funcs.save_to_txt_file(indir,'fitted_lws_file2',fitted_lws_file2)\n",
      "funcs.save_to_txt_file(indir,'fitted_lws_file3',fitted_lws_file3)\n",
      "\n",
      "updown_mean_lws_file1,lws_up_file1,lws_down_file1 =funcs.get_up_down_lws(fitted_lws_file1,file1_first_lw_direction)\n",
      "updown_mean_lws_file2,lws_up_file2,lws_down_file2 =funcs.get_up_down_lws(fitted_lws_file2,file2_first_lw_direction)\n",
      "updown_mean_lws_file3,lws_up_file3,lws_down_file3 =funcs.get_up_down_lws(fitted_lws_file3,file3_first_lw_direction)\n",
      "\n",
      "updown_mean_lws = np.append(np.append(updown_mean_lws_file1,updown_mean_lws_file2),updown_mean_lws_file3)\n",
      "lws_up = np.append(np.append(lws_up_file1,lws_up_file2),lws_up_file3)\n",
      "lws_down = np.append(np.append(lws_down_file1,lws_down_file2),lws_down_file3)\n",
      "\n",
      "analysis=funcs.add_to_analysis_dict({},lws_up,lws_down,updown_mean_lws)\n",
      "analysis_file1=funcs.add_to_analysis_dict({},lws_up_file1,lws_down_file1,updown_mean_lws_file1)\n",
      "analysis_file2=funcs.add_to_analysis_dict({},lws_up_file2,lws_down_file2,updown_mean_lws_file2)\n",
      "analysis_file3=funcs.add_to_analysis_dict({},lws_up_file3,lws_down_file3,updown_mean_lws_file3)\n",
      "funcs.save_to_json_file(indir,'analysis',analysis)\n",
      "funcs.save_to_json_file(indir,'analysis_file1',analysis_file1)\n",
      "funcs.save_to_json_file(indir,'analysis_file2',analysis_file2)\n",
      "funcs.save_to_json_file(indir,'analysis_file3',analysis_file3)\n",
      "\n",
      "print 'results of ',indir\n",
      "print_results(analysis)\n",
      "print_results(analysis_file1)\n",
      "print_results(analysis_file2)\n",
      "print_results(analysis_file3)"
     ],
     "language": "python",
     "metadata": {
      "scrolled": true
     },
     "outputs": [],
     "prompt_number": null
    },
    {
     "cell_type": "code",
     "collapsed": false,
     "input": [
      "\n"
     ],
     "language": "python",
     "metadata": {},
     "outputs": [],
     "prompt_number": null
    },
    {
     "cell_type": "code",
     "collapsed": false,
     "input": [
      "import matplotlib.pyplot as plt\n",
      "\n",
      "fig,ax=plt.subplots()\n",
      "\n",
      "ax.plot(lws)\n",
      "ax.set_xlabel('sweep nr')\n",
      "ax.set_ylabel('linewidth')"
     ],
     "language": "python",
     "metadata": {},
     "outputs": [],
     "prompt_number": null
    },
    {
     "cell_type": "code",
     "collapsed": true,
     "input": [
      "f = open(os.path.join(indir,'fitted_lws_file0010.txt'), 'w')\n",
      "np.savetxt(f,lws)\n",
      "f.close()"
     ],
     "language": "python",
     "metadata": {},
     "outputs": [],
     "prompt_number": null
    },
    {
     "cell_type": "code",
     "collapsed": false,
     "input": [
      "copy_lws_from_file=lws_from_file\n",
      "print co"
     ],
     "language": "python",
     "metadata": {},
     "outputs": [],
     "prompt_number": null
    },
    {
     "cell_type": "code",
     "collapsed": true,
     "input": [
      "f = open(os.path.join(indir,'fitted_lws.txt'), 'w')\n",
      "np.savetxt(f,new_lws_from_file)\n",
      "f.close()"
     ],
     "language": "python",
     "metadata": {},
     "outputs": [],
     "prompt_number": null
    },
    {
     "cell_type": "code",
     "collapsed": true,
     "input": [],
     "language": "python",
     "metadata": {},
     "outputs": [],
     "prompt_number": null
    }
   ],
   "metadata": {}
  }
 ]
}