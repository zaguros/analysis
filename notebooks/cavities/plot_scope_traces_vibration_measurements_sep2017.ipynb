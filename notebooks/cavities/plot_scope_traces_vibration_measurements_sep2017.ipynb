{
 "cells": [
  {
   "cell_type": "code",
   "execution_count": null,
   "metadata": {
    "collapsed": false,
    "deletable": true,
    "editable": true
   },
   "outputs": [],
   "source": [
    "# Notebook to analyze vibration measurements. \n",
    "#\n",
    "# Measurement setup: \n",
    "#   laser --> cavity fiber --> cavity --> free-space objective --> photo-diode --> yokogawa ossiloscope\n",
    "#\n",
    "# This Notebook is old and only exists to store previously done analysis. \n",
    "#\n",
    "# Last and documented version of Wouter is oct2017 version.\n",
    "#\n",
    "# QuTech/Hansonlab, Wouter Westerveld, September 2017\n",
    "#\n",
    "\n",
    "import numpy as np\n",
    "import os.path\n",
    "import pandas\n",
    "import matplotlib\n",
    "import scipy.signal\n",
    "import scipy.constants\n",
    "\n",
    "%matplotlib inline\n",
    "import matplotlib.pyplot as plt\n",
    "from matplotlib import gridspec\n",
    "\n",
    "import mpld3\n",
    "from mpld3 import plugins\n",
    "\n",
    "# data_dir = r\"K:\\ns\\qt\\Diamond\\Projects\\Cavities\\Cavity characterisation paper\\data\\data_for_cav_char_paper\\20160406\\yoko_scans\"\n",
    "# data_dir = '/Users/wjwesterveld/Documents/Temp/' # copied above data to local temp folder, also to be sure we dont overwrite anyting\n",
    "data_dir = '/Users/wjwesterveld/Documents/Temp_CAV1_data/20170623/Scope' # copied above data to local temp folder, also to be sure we dont overwrite anyting\n",
    "\n",
    "\n"
   ]
  },
  {
   "cell_type": "markdown",
   "metadata": {
    "deletable": true,
    "editable": true
   },
   "source": [
    "## Load xviewer csv (from binary scope data) and scope csv"
   ]
  },
  {
   "cell_type": "code",
   "execution_count": null,
   "metadata": {
    "collapsed": false,
    "deletable": true,
    "editable": true
   },
   "outputs": [],
   "source": [
    "def read_scope_xviewer_csv(filename):\n",
    "    headerRows = 10        \n",
    "    with open(filename) as f:\n",
    "        for x in range(headerRows):\n",
    "            line = f.readline()            \n",
    "            if \"HResolution\" in line:                \n",
    "                timeResolution = float( line[line.find(',')+1:line.rfind(',')].strip(' \\t\\n\\r') )        \n",
    "    data = pandas.read_csv(filename,header=None,skiprows=headerRows,usecols=[1]).values.flatten()\n",
    "    return data, timeResolution\n",
    "\n",
    "\n",
    "def read_scope_csv(filename):\n",
    "    headerRows = 16        \n",
    "    with open(filename) as f:\n",
    "        for x in range(headerRows):\n",
    "            line = f.readline()            \n",
    "            if \"HResolution\" in line:                \n",
    "                timeResolution = float( line[line.rfind(',')+1:-1].strip(' \\t\\n\\r') )    \n",
    "    data = pandas.read_csv(filename,header=None,skiprows=headerRows).values[:,1:-1]\n",
    "    return data, timeResolution\n",
    "\n",
    "\n",
    "\n",
    "file_name = \"IFM_OFF007.csv\"  \n",
    "filename = os.path.join(data_dir,file_name)\n",
    "\n",
    "data, timeResolution = read_scope_csv(filename)\n",
    "time = timeResolution * np.arange(data.shape[0]) \n",
    "\n",
    "print '{} traces, time resolution {} us (sampling frequency {} kHz), trace length {} s, data length {}'.format( \\\n",
    "    data.shape[1], timeResolution * 1e6, 1.0/timeResolution* 1e-3, timeResolution*len(data), data.shape[0] )\n"
   ]
  },
  {
   "cell_type": "markdown",
   "metadata": {
    "deletable": true,
    "editable": true
   },
   "source": [
    "## Plot and Fit linewidth functions"
   ]
  },
  {
   "cell_type": "code",
   "execution_count": null,
   "metadata": {
    "collapsed": true,
    "deletable": true,
    "editable": true
   },
   "outputs": [],
   "source": [
    "## Plot functions for linewidth measurements\n",
    "\n",
    "def tmp_plot_function(time,data):\n",
    "    fig = plt.figure(figsize=(16, 8))\n",
    "    plt.subplot(121)\n",
    "    plt.plot( time, data[:,1] )\n",
    "    plt.plot( time, data[:,0])\n",
    "    plt.xlabel('time (s)')\n",
    "    plt.ylabel('signal (V)')    \n",
    "\n",
    "    plt.subplot(122)    \n",
    "    plt.plot( data[:,1], data[:,0])\n",
    "    plt.xlabel('piezo signal (V)')\n",
    "    plt.ylabel('cavity transmission (V)')    \n",
    "\n",
    "    plt.tight_layout()    \n",
    "    plt.show()\n",
    "\n",
    "def tmp_read_and_plot(file_name,data_dir):    \n",
    "    data, timeResolution = read_scope_csv(os.path.join(data_dir,file_name))\n",
    "    time = timeResolution * np.arange(data.shape[0]) \n",
    "    print file_name\n",
    "    tmp_plot_function(time,data)"
   ]
  },
  {
   "cell_type": "code",
   "execution_count": null,
   "metadata": {
    "collapsed": true,
    "deletable": true,
    "editable": true
   },
   "outputs": [],
   "source": [
    "## LINEWIDTH IN GHz - FITTING AND ANALYSIS FUNCTIONS\n",
    "\n",
    "import pylab\n",
    "from scipy.optimize import leastsq # Levenberg-Marquadt Algorithm #\n",
    "\n",
    "def lorentzian(x,p):    \n",
    "    # Lorenzian function p[0] is center, p[1] is fwhm, p[2] is maximum intensity\n",
    "    #    See http://mathworld.wolfram.com/LorentzianFunction.html\n",
    "    #    But note that we not integrated intensity of one for p[2] = 1 but maxiumum intensity.\n",
    "    return p[2] * (0.5 * p[1])**2 / ( ( x - p[0] )**2 + ( 0.5 * p[1] )**2 )\n",
    "\n",
    "def lorentzian3(x,p):  \n",
    "    return p[2] * ( lorentzian(x,[p[0], p[1], 1]) + lorentzian(x,p[3:6]) + lorentzian(x,p[6:9]) )\n",
    "\n",
    "def fit_lorenzian(time,data,fwhmGuess,timeResolution):\n",
    "    # initial guess\n",
    "    a1Guess = np.amax(data)\n",
    "    t1Guess = np.argmax(data) * timeResolution + time[0]\n",
    "    # fit lorenzian function to data\n",
    "    def residuals(p,y,x):\n",
    "        return y - lorentzian(x,p)\n",
    "    guessParameters = [t1Guess,fwhmGuess,a1Guess]  # [peak center, hwhm, intensity]\n",
    "    pbest = leastsq(residuals,guessParameters,args=(data,time),full_output=1)\n",
    "    fitParameters = pbest[0]\n",
    "    return fitParameters, guessParameters\n",
    "\n",
    "def fit_lorenzian3(time,data,fwhmGuess,timeDeltaGuess,timeResolution):\n",
    "    # initial guess\n",
    "    a1Guess = np.amax(data) * 0.7\n",
    "    a2Guess = 1\n",
    "    a3Guess = 1\n",
    "    t1Guess = np.argmax(data) * timeResolution + time[0]\n",
    "    t2Guess = t1Guess + timeDeltaGuess\n",
    "    t3Guess = t1Guess - timeDeltaGuess\n",
    "    # Fit three lorenzians to data.\n",
    "    def residuals(p,y,x):\n",
    "        return y - lorentzian3(x,p)\n",
    "    guessParameters = np.array([[t1Guess, fwhmGuess, a1Guess], [t2Guess, fwhmGuess, a2Guess], [t3Guess, fwhmGuess, a3Guess]]).flatten()\n",
    "    pbest = leastsq(residuals,guessParameters,args=(data,time),full_output=1)\n",
    "    fitParameters = pbest[0]\n",
    "    return fitParameters, guessParameters\n",
    "    \n",
    "\n",
    "\n",
    "def fit_linewidth_GHz(filename1, time1, time2, filename2, time3, time4, fwhmGuess, timeDeltaGuess):\n",
    "    ## Fit linewith\n",
    "    # Load data\n",
    "    data, timeResolution = read_scope_csv(filename1)\n",
    "    time = timeResolution * np.arange(data.shape[0]) \n",
    "    i1 = int( time1 / timeResolution )\n",
    "    i2 = int( time2 / timeResolution )\n",
    "    data = data[i1:i2,0]\n",
    "    time = time[i1:i2]\n",
    "    # Fit\n",
    "    transmissionFitParameters, transmissionGuessParameters = fit_lorenzian(time,data,fwhmGuess,timeResolution)\n",
    "    # Plot\n",
    "    fig = plt.figure(figsize=(16, 8))\n",
    "    plt.subplot(121)    \n",
    "    plt.plot( time, data )\n",
    "    plt.plot( time, lorentzian(time,transmissionGuessParameters), linestyle=':' )\n",
    "    plt.plot( time, lorentzian(time,transmissionFitParameters) )    \n",
    "    print 'peak position {} s, fwhm {} s, intensity {} V'.format( \\\n",
    "        transmissionFitParameters[0], transmissionFitParameters[1], transmissionFitParameters[2] )\n",
    "\n",
    "    ## Fit scanning speed with modulated signal 6 GHz\n",
    "    # Load data\n",
    "    data, timeResolution = read_scope_csv(filename2)\n",
    "    time = timeResolution * np.arange(data.shape[0]) \n",
    "    i1 = int( time3 / timeResolution )\n",
    "    i2 = int( time4 / timeResolution )\n",
    "    data = data[i1:i2,0]\n",
    "    time = time[i1:i2]\n",
    "    # Fit\n",
    "    fitParameters, guessParameters = fit_lorenzian3(time,data,fwhmGuess,timeDeltaGuess,timeResolution)\n",
    "    # Plot        \n",
    "    plt.subplot(122)\n",
    "    plt.plot( time, data )\n",
    "    plt.plot( time, lorentzian3(time,guessParameters), linestyle=':' )\n",
    "    plt.plot( time, lorentzian3(time,fitParameters) )\n",
    "    plt.show()\n",
    "        \n",
    "    print 'peak positions (s)', fitParameters[[0,3,6]]\n",
    "    print 'peak fwhm (s)', fitParameters[[1,4,7]]\n",
    "    print 'peak intensity (V)', fitParameters[[2]], fitParameters[[2]] * fitParameters[[5]], \\\n",
    "         fitParameters[[2]] * fitParameters[[8]]\n",
    "        \n",
    "    dtSideModulationPeaks = np.amax( fitParameters[[0,3,6]] ) - np.amin( fitParameters[[0,3,6]] )\n",
    "    dfOverDt = 12.0e9 / dtSideModulationPeaks    \n",
    "    print 'df/dt = 12/{} GHz/s = {} THz/s'.format( \\\n",
    "        dtSideModulationPeaks, dfOverDt *1e-12 )\n",
    "    cavityFwhmInS = transmissionFitParameters[1] * dfOverDt\n",
    "    print 'cavity fwhm = {} s = {} GHz'.format( transmissionFitParameters[1], cavityFwhmInS*1e-9 )\n",
    "    \n",
    "    \n",
    "\n",
    "\n"
   ]
  },
  {
   "cell_type": "markdown",
   "metadata": {
    "deletable": true,
    "editable": true
   },
   "source": [
    "## Example on how to use these functions (Plot and fit linewidth measurements Fri 23 June 2017)"
   ]
  },
  {
   "cell_type": "code",
   "execution_count": null,
   "metadata": {
    "collapsed": false,
    "deletable": true,
    "editable": true,
    "scrolled": false
   },
   "outputs": [],
   "source": [
    "## LINEWIDTH IN GHz - DATA 23 June 2017\n",
    "\n",
    "data_dir = '/Users/wjwesterveld/Documents/Temp/20170623/Scope' # copied above data to local temp folder, also to be sure we dont overwrite anyting\n",
    "\n",
    "\n",
    "# Fri June 23th, 40 Hz sweeping speed\n",
    "filename1 = os.path.join(data_dir,'IFM_OFF007.csv')\n",
    "time1 = 0.005\n",
    "time2 = 0.015\n",
    "filename2 = os.path.join(data_dir,'IFM_OFF006.csv')\n",
    "time3 = 0.005\n",
    "time4 = 0.013\n",
    "fwhmGuess = 0.001\n",
    "timeDeltaGuess = 0.001\n",
    "print '40 Hz sweeping speed, file1 ', os.path.basename(filename1), ', file2 ', os.path.basename(filename2)\n",
    "fit_linewidth_GHz(filename1, time1, time2, filename2, time3, time4, fwhmGuess, timeDeltaGuess)\n",
    "\n",
    "# fit   [ 0.00901127  0.0105146   0.00713837  ] for timeDelta = 0.003  \n",
    "# fit   [ 0.00901126  0.01051459  0.00713838]   for timeDelta = 0.002\n",
    "# fit   [ 0.00901127  0.0105146   0.00713837]   for timeDelta = 0.001\n",
    "\n",
    "\n",
    "\n",
    "# Fri June 23th, 80 Hz sweeping speed\n",
    "filename1 = os.path.join(data_dir,'IFM_OFF009.csv')\n",
    "time1 = 0.000\n",
    "time2 = 0.006\n",
    "filename2 = os.path.join(data_dir,'IFM_OFF013.csv')\n",
    "time3 = 0.000\n",
    "time4 = 0.005\n",
    "fwhmGuess = 0.002\n",
    "timeDeltaGuess = 0.001\n",
    "print ''\n",
    "print ''\n",
    "print '80 Hz sweeping speed, file1 ', os.path.basename(filename1), ', file2 ', os.path.basename(filename2)\n",
    "fit_linewidth_GHz(filename1, time1, time2, filename2, time3, time4, fwhmGuess, timeDeltaGuess)\n",
    "\n",
    "# Fri June 23th, 200 Hz sweeping speed\n",
    "filename1 = os.path.join(data_dir,'IFM_OFF010.csv')\n",
    "time1 = 0.001\n",
    "time2 = 0.003\n",
    "filename2 = os.path.join(data_dir,'IFM_OFF012.csv')\n",
    "time3 = 0.001\n",
    "time4 = 0.003\n",
    "fwhmGuess = 0.001\n",
    "timeDeltaGuess = 0.0001\n",
    "print ''\n",
    "print ''\n",
    "print '200 Hz sweeping speed, file1 ', os.path.basename(filename1), ', file2 ', os.path.basename(filename2) \n",
    "# mpld3.enable_notebook().\n",
    "fit_linewidth_GHz(filename1, time1, time2, filename2, time3, time4, fwhmGuess, timeDeltaGuess)\n",
    "# mpld3.disable_notebook()"
   ]
  },
  {
   "cell_type": "markdown",
   "metadata": {
    "collapsed": false,
    "deletable": true,
    "editable": true
   },
   "source": [
    "## Plot cavity transmittance measurements"
   ]
  },
  {
   "cell_type": "code",
   "execution_count": null,
   "metadata": {
    "collapsed": false,
    "deletable": true,
    "editable": true
   },
   "outputs": [],
   "source": [
    "def tmp_plot_vibrations(data,time,time1,time2):\n",
    "    timeResolution = time[1] - time[0]\n",
    "    i1 = int( time1 / timeResolution )\n",
    "    i2 = int( time2 / timeResolution )\n",
    "    \n",
    "    freq_pow, power = scipy.signal.welch(data[i1:i2], axis = 0, fs = 1/timeResolution,nperseg = i2-i1, detrend = 'linear' )\n",
    "    j1 = np.argmax(freq_pow>0)\n",
    "    j2 = np.argmax(freq_pow>200)        \n",
    "    \n",
    "    fig = plt.figure(figsize=(16, 8))\n",
    "\n",
    "    plt.subplot(121)\n",
    "    plt.plot( time[i1:i2], data[i1:i2] )   \n",
    "    plt.xlabel('time (s)')\n",
    "    plt.ylabel('signal (V)')  \n",
    "        \n",
    "    plt.subplot(122)    \n",
    "    plt.plot(freq_pow[j1:j2], power[j1:j2])\n",
    "    # plt.ylim([0,0.01])\n",
    "    plt.xlabel('freq (Hz)')\n",
    "    plt.ylabel('Noise power (V**2/Hz)')\n",
    "    \n",
    "    plt.show()  \n",
    "\n",
    "\n"
   ]
  },
  {
   "cell_type": "code",
   "execution_count": null,
   "metadata": {
    "collapsed": false,
    "deletable": true,
    "editable": true
   },
   "outputs": [],
   "source": [
    "# Example of functions in previous cell\n",
    "\n",
    "\n",
    "print 'red: vibrations'\n",
    "dataDir = '/Users/wjwesterveld/Documents/Temp_CAV1_data/20170628/scope_DLM4038'\n",
    "fileName = \"IFM_OFF017.wdf.csv\"  \n",
    "\n",
    "timeWindow = 2       # s\n",
    "fwhm = 8*1e9         # Hz\n",
    "cavityLength = 15e-6 # m\n",
    "centerFrequency = scipy.constants.c / 637.0e-9 # Hz\n",
    "\n",
    "# time, data, timeCoarse, dataCoarse = load_drift_vibration_trace(dataDir, fileName)    \n",
    "analyze_drift_vibration_trace(time, data, timeCoarse, dataCoarse, centerFrequency, fwhm, cavityLength, timeWindow )\n",
    "\n"
   ]
  },
  {
   "cell_type": "markdown",
   "metadata": {
    "collapsed": true,
    "deletable": true,
    "editable": true
   },
   "source": [
    "## Simple analysis of vibration trace\n"
   ]
  },
  {
   "cell_type": "code",
   "execution_count": null,
   "metadata": {
    "collapsed": true,
    "deletable": true,
    "editable": true
   },
   "outputs": [],
   "source": [
    "def load_simple_vibration_trace( dataDir, fileName ):\n",
    "    data, timeResolution = read_scope_xviewer_csv( os.path.join(dataDir,fileName) )\n",
    "    time = timeResolution * np.arange(data.shape[0]) \n",
    "    print 'time resolution {} us (sampling frequency {} kHz), trace length {} s, data length {}'.format( \\\n",
    "        timeResolution * 1e6, 1.0/timeResolution* 1e-3, timeResolution*len(data), data.shape[0] )\n",
    "    freq_pow, power = scipy.signal.welch(data, axis = 0, fs = 1/timeResolution,nperseg = len(data), detrend = 'linear' )\n",
    "    return data, time, freq_pow, power\n",
    "    "
   ]
  },
  {
   "cell_type": "markdown",
   "metadata": {
    "deletable": true,
    "editable": true
   },
   "source": [
    "## Measurements 31 8 2017: Photo-diode misaligned"
   ]
  },
  {
   "cell_type": "code",
   "execution_count": null,
   "metadata": {
    "collapsed": false,
    "deletable": true,
    "editable": true
   },
   "outputs": [],
   "source": [
    "dataDir = '/Users/wjwesterveld/Documents/Temp_CAV1_data/20170831/scope'\n",
    "fileName = \"SCOPE_000.wdf.csv\"  \n",
    "\n",
    "data1, time, freq_pow, power1 =  load_simple_vibration_trace( dataDir, fileName )\n"
   ]
  },
  {
   "cell_type": "code",
   "execution_count": null,
   "metadata": {
    "collapsed": false,
    "deletable": true,
    "editable": true,
    "scrolled": false
   },
   "outputs": [],
   "source": [
    "j1 = np.argmax(freq_pow>0)\n",
    "j2 = np.argmax(freq_pow>60e3)    \n",
    "fig = plt.figure(figsize=(16, 8))\n",
    "plt.plot(freq_pow[j1:j2], 10.0*np.log10( power1[j1:j2] ) )\n",
    "plt.grid()\n",
    "plt.xlabel('freq (Hz)')\n",
    "plt.ylabel('Noise power (V**2 in dB)')\n",
    "plt.show()  "
   ]
  },
  {
   "cell_type": "code",
   "execution_count": null,
   "metadata": {
    "collapsed": false,
    "deletable": true,
    "editable": true
   },
   "outputs": [],
   "source": [
    "j1 = np.argmax(freq_pow>0)\n",
    "j2 = np.argmax(freq_pow>250)    \n",
    "fig = plt.figure(figsize=(16, 8))\n",
    "plt.plot(freq_pow[j1:j2], 10.0*np.log10( power1[j1:j2] ) )\n",
    "plt.grid()\n",
    "plt.xlabel('freq (Hz)')\n",
    "plt.ylabel('Noise power (V**2 in dB)')\n",
    "plt.show()  "
   ]
  },
  {
   "cell_type": "code",
   "execution_count": null,
   "metadata": {
    "collapsed": false,
    "deletable": true,
    "editable": true
   },
   "outputs": [],
   "source": [
    "dataDir = '/Users/wjwesterveld/Documents/Temp_CAV1_data/20170831/scope'\n",
    "fileName = \"SCOPE_021.wdf.csv\"  \n",
    "\n",
    "data2, time, freq_pow, power2 =  load_simple_vibration_trace( dataDir, fileName )"
   ]
  },
  {
   "cell_type": "code",
   "execution_count": null,
   "metadata": {
    "collapsed": false,
    "deletable": true,
    "editable": true
   },
   "outputs": [],
   "source": [
    "i1 = 0\n",
    "i2 = 50000\n",
    "fig = plt.figure(figsize=(16, 8))\n",
    "plt.plot(time[i1:i2], data2[i1:i2] )\n",
    "plt.grid()\n",
    "plt.xlabel('time (s)')\n",
    "plt.ylabel('V')\n",
    "plt.show() "
   ]
  },
  {
   "cell_type": "code",
   "execution_count": null,
   "metadata": {
    "collapsed": false,
    "deletable": true,
    "editable": true
   },
   "outputs": [],
   "source": [
    "j1 = np.argmax(freq_pow>0)\n",
    "j2 = np.argmax(freq_pow>6e3)    \n",
    "fig = plt.figure(figsize=(16, 8))\n",
    "plt.plot(freq_pow[j1:j2], 10.0*np.log10( power2[j1:j2] ) )\n",
    "plt.grid()\n",
    "plt.xlabel('freq (Hz)')\n",
    "plt.ylabel('Noise power (V**2 in dB)')\n",
    "plt.show()  "
   ]
  },
  {
   "cell_type": "code",
   "execution_count": null,
   "metadata": {
    "collapsed": false,
    "deletable": true,
    "editable": true
   },
   "outputs": [],
   "source": [
    "j1 = np.argmax(freq_pow>0)\n",
    "j2 = np.argmax(freq_pow>250)    \n",
    "fig = plt.figure(figsize=(16, 8))\n",
    "plt.plot(freq_pow[j1:j2], 10.0*np.log10( power2[j1:j2] ) )\n",
    "plt.grid()\n",
    "plt.xlabel('freq (Hz)')\n",
    "plt.ylabel('Noise power (V**2 in dB)')\n",
    "plt.show()  "
   ]
  },
  {
   "cell_type": "code",
   "execution_count": null,
   "metadata": {
    "collapsed": false,
    "deletable": true,
    "editable": true
   },
   "outputs": [],
   "source": [
    "j1 = np.argmax(freq_pow>0)\n",
    "j2 = np.argmax(freq_pow>50)    \n",
    "fig = plt.figure(figsize=(16, 8))\n",
    "plt.plot(freq_pow[j1:j2], 10.0*np.log10( power1[j1:j2] ), label='red' )\n",
    "plt.plot(freq_pow[j1:j2], 10.0*np.log10( power2[j1:j2] ), label='green' )\n",
    "plt.grid()\n",
    "plt.xlabel('freq (Hz)')\n",
    "plt.ylabel('Noise power (V**2 in dB)')\n",
    "plt.legend()\n",
    "plt.show()  "
   ]
  },
  {
   "cell_type": "markdown",
   "metadata": {
    "deletable": true,
    "editable": true
   },
   "source": [
    "## Measurements 1 9 2017: Green"
   ]
  },
  {
   "cell_type": "code",
   "execution_count": null,
   "metadata": {
    "collapsed": false,
    "deletable": true,
    "editable": true
   },
   "outputs": [],
   "source": [
    "dataDir = '/Users/wjwesterveld/Documents/Temp_CAV1_data/20170901/scope'\n",
    "fileName = \"SCOPE_000.wdf.csv\"  \n",
    "\n",
    "data, time, freq_pow, power =  load_simple_vibration_trace( dataDir, fileName )"
   ]
  },
  {
   "cell_type": "code",
   "execution_count": null,
   "metadata": {
    "collapsed": false,
    "deletable": true,
    "editable": true
   },
   "outputs": [],
   "source": [
    "i1 = 0\n",
    "i2 = 50000\n",
    "fig = plt.figure(figsize=(16, 8))\n",
    "plt.plot(time[i1:i2], data[i1:i2] )\n",
    "plt.grid()\n",
    "plt.xlabel('time (s)')\n",
    "plt.ylabel('V')\n",
    "plt.show() \n",
    "\n",
    "j1 = np.argmax(freq_pow>0)\n",
    "j2 = np.argmax(freq_pow>250)    \n",
    "fig = plt.figure(figsize=(16, 8))\n",
    "plt.plot(freq_pow[j1:j2], 10.0*np.log10( power[j1:j2] ) )\n",
    "plt.grid()\n",
    "plt.xlabel('freq (Hz)')\n",
    "plt.ylabel('Noise power (V**2 in dB)')\n",
    "plt.show()  "
   ]
  },
  {
   "cell_type": "code",
   "execution_count": null,
   "metadata": {
    "collapsed": false,
    "deletable": true,
    "editable": true
   },
   "outputs": [],
   "source": [
    "dataDir = '/Users/wjwesterveld/Documents/Temp_CAV1_data/20170901/scope'\n",
    "fileName = \"SCOPE_002.wdf.csv\"  \n",
    "\n",
    "data, time, freq_pow, power =  load_simple_vibration_trace( dataDir, fileName )\n",
    "\n"
   ]
  },
  {
   "cell_type": "code",
   "execution_count": null,
   "metadata": {
    "collapsed": false,
    "deletable": true,
    "editable": true
   },
   "outputs": [],
   "source": [
    "fig = plt.figure(figsize=(16, 8))\n",
    "plt.plot(time, data )\n",
    "plt.grid()\n",
    "plt.xlabel('time (s)')\n",
    "plt.ylabel('V')\n",
    "plt.show() \n",
    "\n",
    "i1 = np.argmax(time>10)\n",
    "i2 = np.argmax(time>30)\n",
    "d = data[i1:i2]\n",
    "\n",
    "freq_pow, power = scipy.signal.welch(d, axis = 0, fs = 1/timeResolution,nperseg = len(d), detrend = 'linear' )\n",
    "\n",
    "j1 = np.argmax(freq_pow>0)\n",
    "j2 = np.argmax(freq_pow>250)    \n",
    "fig = plt.figure(figsize=(16, 8))\n",
    "plt.plot(freq_pow[j1:j2], 10.0*np.log10( power[j1:j2] ) )\n",
    "plt.grid()\n",
    "plt.xlabel('freq (Hz)')\n",
    "plt.ylabel('Noise power (V**2 in dB)')\n",
    "plt.show()  "
   ]
  },
  {
   "cell_type": "code",
   "execution_count": null,
   "metadata": {
    "collapsed": false,
    "deletable": true,
    "editable": true
   },
   "outputs": [],
   "source": [
    "print i1, i2"
   ]
  },
  {
   "cell_type": "markdown",
   "metadata": {
    "collapsed": true,
    "deletable": true,
    "editable": true
   },
   "source": [
    "## Measurements 1 9 2017: Red linewidth"
   ]
  },
  {
   "cell_type": "code",
   "execution_count": null,
   "metadata": {
    "collapsed": false,
    "deletable": true,
    "editable": true
   },
   "outputs": [],
   "source": [
    "dataDir = '/Users/wjwesterveld/Documents/Temp_CAV1_data/20170901/scope'\n",
    "fileName = \"SCOPE_023.wdf.csv\"  \n",
    "\n",
    "data, timeResolution = read_scope_xviewer_csv( os.path.join(dataDir,fileName) )\n",
    "time = timeResolution * np.arange(data.shape[0]) \n",
    "print 'time resolution {} us (sampling frequency {} kHz), trace length {} s, data length {}'.format( \\\n",
    "    timeResolution * 1e6, 1.0/timeResolution* 1e-3, timeResolution*len(data), data.shape[0] )\n",
    "\n"
   ]
  },
  {
   "cell_type": "code",
   "execution_count": null,
   "metadata": {
    "collapsed": false,
    "deletable": true,
    "editable": true
   },
   "outputs": [],
   "source": [
    "timeStart  = 0.05595\n",
    "timeWindow = 0.0008\n",
    "\n",
    "i1 = np.argmax(time>timeStart)\n",
    "i2 = np.argmax(time>timeStart+timeWindow)\n",
    "d = data[i1:i2]\n",
    "t = time[i1:i2]\n",
    "\n",
    "fig = plt.figure(figsize=(16, 8))\n",
    "plt.plot(t, d )\n",
    "plt.grid()\n",
    "plt.xlabel('time (s)')\n",
    "plt.ylabel('V')\n",
    "plt.show() "
   ]
  },
  {
   "cell_type": "code",
   "execution_count": null,
   "metadata": {
    "collapsed": false,
    "deletable": true,
    "editable": true
   },
   "outputs": [],
   "source": [
    "peakMinHeight = 0.35\n",
    "peakMinWidth = 1\n",
    "\n",
    "import numpy as np\n",
    "import matplotlib.pyplot as plt\n",
    "from scipy.signal import butter, filtfilt\n",
    "\n",
    "def butter_lowpass(cutoff, fs, order=5):\n",
    "    nyq = 0.5 * fs\n",
    "    normal_cutoff = cutoff / nyq\n",
    "    b, a = butter(order, normal_cutoff, btype='low', analog=False)\n",
    "    return b, a\n",
    "\n",
    "def butter_lowpass_filtfilt(data, cutoff, fs, order=5):\n",
    "    b, a = butter_lowpass(cutoff, fs, order=order)\n",
    "    y = filtfilt(b, a, data)\n",
    "    return y\n",
    "\n",
    "dSmooth = butter_lowpass_filtfilt(data=d, cutoff=0.01/timeResolution, fs=1.0/timeResolution)\n",
    "\n",
    "\n",
    "fig = plt.figure(figsize=(16, 8))\n",
    "plt.plot( t, d )\n",
    "plt.plot( t, dSmooth )\n",
    "plt.grid()\n",
    "plt.xlabel('time (s)')\n",
    "plt.ylabel('V')\n",
    "plt.show() \n",
    "\n",
    "\n"
   ]
  },
  {
   "cell_type": "code",
   "execution_count": null,
   "metadata": {
    "collapsed": false,
    "deletable": true,
    "editable": true
   },
   "outputs": [],
   "source": [
    "from scipy.signal import find_peaks_cwt\n",
    "\n",
    "# i = find_peaks_cwt(d, np.arange(1, 550))\n",
    "\n",
    "peakMin = 0.35\n",
    "sideMin = 0.20\n",
    "\n",
    "localMaximumMask = np.r_[True, dSmooth[1:] > dSmooth[:-1]] & np.r_[dSmooth[:-1] > dSmooth[1:], True]\n",
    "\n",
    "peakMask = localMaximumMask & (dSmooth > peakMin)\n",
    "sideMask = localMaximumMask & (dSmooth > sideMin) & (dSmooth < peakMin)\n",
    "\n",
    "peakInd = np.where( peakMask )[0]\n",
    "sideInd = np.where( sideMask )[0]\n",
    "\n",
    "fig = plt.figure(figsize=(16, 8))\n",
    "plt.plot( t, d )\n",
    "plt.plot( t[peakInd], d[peakInd] , '+')\n",
    "plt.plot( t[sideInd], d[sideInd] , 'x')\n",
    "plt.grid()\n",
    "plt.xlabel('time (s)')\n",
    "plt.ylabel('V')\n",
    "plt.show() \n",
    "\n",
    "\n",
    "\n"
   ]
  },
  {
   "cell_type": "code",
   "execution_count": null,
   "metadata": {
    "collapsed": false,
    "deletable": true,
    "editable": true,
    "scrolled": false
   },
   "outputs": [],
   "source": [
    "peakWin = 0.020e-3\n",
    "peakWinEdgeMax = 0.10 # maximum value at edge of window\n",
    "maxSidePeakAsymmetryHz = 1e9\n",
    "fwhmGuess = 5e-6\n",
    "timeDeltaGuess = 5e-6\n",
    "sideModulationFrequency = 8.0e9\n",
    "\n",
    "listFwhm = np.array([])\n",
    "\n",
    "for i in peakInd:\n",
    "    i1 = int( i - 0.5*peakWin/timeResolution )\n",
    "    i2 = int( i + 0.5*peakWin/timeResolution )    \n",
    "    dPeak = d[i1:i2]\n",
    "    tPeak = t[i1:i2]\n",
    "\n",
    "    fig = plt.figure(figsize=(16, 8))\n",
    "    plt.plot( tPeak, dPeak )    \n",
    "    plt.grid()\n",
    "    plt.xlabel('time (s)')\n",
    "    plt.ylabel('V')\n",
    "    \n",
    "    if (dPeak[0] > peakWinEdgeMax) | (dPeak[-1] > peakWinEdgeMax):\n",
    "        print 'Signal at edge of window too high. Skipping.'\n",
    "        plt.show()\n",
    "        continue\n",
    "    \n",
    "    # Fit\n",
    "    fitParameters, guessParameters = fit_lorenzian3(tPeak,dPeak,fwhmGuess,timeDeltaGuess,timeResolution)\n",
    "    # Plot                    \n",
    "    plt.plot( tPeak, lorentzian3(tPeak,guessParameters), linestyle=':' )\n",
    "    plt.plot( tPeak, lorentzian3(tPeak,fitParameters) )\n",
    "    plt.show()\n",
    "\n",
    "    print 'fit'\n",
    "    print 'peak positions (s)', fitParameters[[0,3,6]]\n",
    "    print 'peak fwhm (s)', fitParameters[[1,4,7]]\n",
    "    print 'peak intensity (V)', fitParameters[[2]], fitParameters[[2]] * fitParameters[[5]], \\\n",
    "         fitParameters[[2]] * fitParameters[[8]]\n",
    "\n",
    "    dtSideModulationPeaks = np.amax( fitParameters[[0,3,6]] ) - np.amin( fitParameters[[0,3,6]] )\n",
    "    dfOverDt = 2.0 * sideModulationFrequency / dtSideModulationPeaks    \n",
    "    print 'df/dt = 2 * {}/{} GHz/s = {} THz/s'.format( sideModulationFrequency * 1e-9, dtSideModulationPeaks, dfOverDt *1e-12 )\n",
    "    cavityFwhmInGhz = np.abs( fitParameters[1] * dfOverDt )\n",
    "    print 'cavity fwhm = {} s = {} GHz'.format( fitParameters[1], cavityFwhmInGhz*1e-9 )    \n",
    "    print 'sideband difference in GHz = {} GHz'.format( ( np.abs( fitParameters[3] - fitParameters[0] ) -  np.abs( fitParameters[6] - fitParameters[0] ) ) * dfOverDt *1e-9  )\n",
    "    \n",
    "    sidePeakAssymmetryHz = np.abs( ( np.abs( fitParameters[3] - fitParameters[0] ) -  np.abs( fitParameters[6] - fitParameters[0] ) ) ) * dfOverDt  \n",
    "            \n",
    "    if sidePeakAssymmetryHz > maxSidePeakAsymmetryHz:\n",
    "        print 'Too large position assymetry between side-peaks. Skipping.'\n",
    "        continue\n",
    "    \n",
    "    listFwhm = np.append( listFwhm, cavityFwhmInGhz )    \n",
    "    \n",
    "\n",
    "print 'number of peaks ', len(peakInd), ' ok fitted peaks ', len(listFwhm)\n",
    "print 'mean fwhm GHz', np.mean( listFwhm ) *1e-9"
   ]
  },
  {
   "cell_type": "markdown",
   "metadata": {
    "collapsed": false,
    "deletable": true,
    "editable": true
   },
   "source": [
    "## Measurements 1 9 2017: Red vibrations"
   ]
  },
  {
   "cell_type": "code",
   "execution_count": null,
   "metadata": {
    "collapsed": false,
    "deletable": true,
    "editable": true
   },
   "outputs": [],
   "source": [
    "dataDir = '/Users/wjwesterveld/Documents/Temp_CAV1_data/20170901/scope'\n",
    "fileName = \"SCOPE_029.wdf.csv\"  \n",
    "\n",
    "data, timeResolution = read_scope_xviewer_csv( os.path.join(dataDir,fileName) )\n",
    "time = timeResolution * np.arange(data.shape[0]) \n",
    "print 'time resolution {} us (sampling frequency {} kHz), trace length {} s, data length {}'.format( \\\n",
    "    timeResolution * 1e6, 1.0/timeResolution* 1e-3, timeResolution*len(data), data.shape[0] )\n",
    "\n",
    "\n",
    "\n",
    "\n",
    "\n"
   ]
  },
  {
   "cell_type": "code",
   "execution_count": null,
   "metadata": {
    "collapsed": false,
    "deletable": true,
    "editable": true
   },
   "outputs": [],
   "source": [
    "fig = plt.figure(figsize=(16, 8))\n",
    "plt.plot(time, data )\n",
    "plt.grid()\n",
    "plt.xlabel('time (s)')\n",
    "plt.ylabel('V')\n",
    "plt.show() \n",
    "\n"
   ]
  },
  {
   "cell_type": "code",
   "execution_count": null,
   "metadata": {
    "collapsed": false,
    "deletable": true,
    "editable": true
   },
   "outputs": [],
   "source": [
    "fig = plt.figure(figsize=(16, 8))\n",
    "plt.hist(data,20)\n",
    "plt.grid()\n",
    "plt.show()\n"
   ]
  },
  {
   "cell_type": "code",
   "execution_count": null,
   "metadata": {
    "collapsed": false,
    "deletable": true,
    "editable": true
   },
   "outputs": [],
   "source": [
    "\n",
    "freq_pow_tot, power_tot = scipy.signal.welch(data, axis = 0, fs = 1/timeResolution,nperseg = len(data), detrend = 'linear' )"
   ]
  },
  {
   "cell_type": "code",
   "execution_count": null,
   "metadata": {
    "collapsed": false,
    "deletable": true,
    "editable": true
   },
   "outputs": [],
   "source": [
    "j1 = 0\n",
    "j2 = np.argmax(freq_pow_tot>500)    \n",
    "fig = plt.figure(figsize=(16, 8))\n",
    "plt.plot( freq_pow_tot[j1:j2], 10.0*np.log10( power_tot[j1:j2] ) )\n",
    "plt.grid( )\n",
    "plt.xlabel('freq (Hz)')\n",
    "plt.ylabel('Noise power (V**2 in dB)')\n",
    "plt.show()  \n",
    "\n",
    "print 'frequency resolution {} Hz, Nyquist {} MHz'.format( 1.0 / 1.0, 0.5 / timeResolution *1e-6 )\n",
    "\n",
    "x1 = freq_pow_tot[j1:j2]\n",
    "y1 = 10.0*np.log10( power_tot[j1:j2] )"
   ]
  },
  {
   "cell_type": "code",
   "execution_count": null,
   "metadata": {
    "collapsed": false,
    "deletable": true,
    "editable": true
   },
   "outputs": [],
   "source": [
    "timeWindow = 0.032\n",
    "\n",
    "print 'frequency resolution {} Hz, Nyquist {} MHz'.format( 1.0 / timeWindow, 0.5 / timeResolution *1e-6 )\n",
    "\n",
    "# timeStart = 0.0\n",
    "timeStart = 0.070\n",
    "i1 = np.argmax(time>timeStart)\n",
    "i2 = np.argmax(time>timeStart + timeWindow)\n",
    "t = time[i1:i2]\n",
    "d = data[i1:i2]\n",
    "\n",
    "\n",
    "fig = plt.figure(figsize=(16, 8))\n",
    "plt.plot(t, d )\n",
    "plt.grid()\n",
    "plt.xlabel('time (s)')\n",
    "plt.ylabel('V')\n",
    "plt.show() \n",
    "\n",
    "\n",
    "freq_pow, power = scipy.signal.welch(d, axis = 0, fs = 1/timeResolution,nperseg = len(d), detrend = 'linear' )\n",
    "\n",
    "#j1 = np.argmax(freq_pow>0)\n",
    "#j2 = np.argmax(freq_pow>31250)    \n",
    "j1 = 0\n",
    "j2 = len( d )\n",
    "fig = plt.figure(figsize=(16, 8))\n",
    "plt.plot(freq_pow[j1:j2]*1e-6, 10.0*np.log10( power[j1:j2] ) )\n",
    "plt.grid()\n",
    "plt.xlabel('freq (MHz)')\n",
    "plt.ylabel('Noise power (V**2 in dB)')\n",
    "plt.show()  \n",
    "\n",
    "\n"
   ]
  },
  {
   "cell_type": "code",
   "execution_count": null,
   "metadata": {
    "collapsed": false,
    "deletable": true,
    "editable": true
   },
   "outputs": [],
   "source": [
    "freq_pow = freq_pow_tot\n",
    "power = power_tot\n",
    "\n",
    "\n",
    "freqPlotMax = 500\n",
    "\n",
    "j1 = 0\n",
    "j2 = np.argmax(freq_pow>freqPlotMax)    \n",
    "fig = plt.figure(figsize=(12, 12))\n",
    "plt.subplot(211)\n",
    "plt.plot(freq_pow[j1:j2], 10.0*np.log10( power[j1:j2] ) )\n",
    "plt.grid()\n",
    "plt.xlabel('freq (Hz)')\n",
    "plt.ylabel('Noise power (V**2 in dB)')\n",
    "\n",
    "\n",
    "\n",
    "min_freq = 10\n",
    "max_freq = freqPlotMax\n",
    "\n",
    "min_ind = np.argmin(np.abs(freq_pow-min_freq))\n",
    "max_ind = np.argmin(np.abs(freq_pow-max_freq))\n",
    "\n",
    "pow_int = scipy.integrate.trapz(power[min_ind:max_ind],freq_pow[min_ind:max_ind],axis=0)\n",
    "full_pow = scipy.integrate.trapz(power,freq_pow,axis=0)\n",
    "\n",
    "# freq_rate = freq_pow[1]- freq_pow[0]\n",
    "\n",
    "# ind_bin = int(freq_bin/freq_rate)\n",
    "ind_bin = 1\n",
    "min_ind = np.argmin(np.abs(freq_pow-min_freq))\n",
    "max_ind = np.argmin(np.abs(freq_pow-max_freq))\n",
    "\n",
    "cum_points = np.arange(min_ind,max_ind,ind_bin)\n",
    "cum_freqs = freq_pow[cum_points[1:]]\n",
    "cum_pow = np.zeros(np.shape(cum_freqs))\n",
    "\n",
    "cum_freq = 0\n",
    "for x in range(len(cum_pow)-1):\n",
    "    cum_pow[x+1] = cum_pow[x] + scipy.integrate.trapz(power[cum_points[x]:cum_points[x+1]+1],freq_pow[cum_points[x]:cum_points[x+1]+1],axis=0)\n",
    "\n",
    "cum_pow = cum_pow/(full_pow-pow_dc)\n",
    "\n",
    "plt.subplot(212)\n",
    "plt.plot(cum_freqs,cum_pow)\n",
    "plt.grid()\n",
    "plt.xlabel('freq (Hz)')\n",
    "plt.ylabel('Integrated noise power (V**2)')\n",
    "plt.show()\n",
    "\n",
    "dc_freq = 10\n",
    "dc_ind = np.argmin(np.abs(freq_pow-dc_freq))\n",
    "pow_dc = scipy.integrate.trapz(power[0:dc_ind],freq_pow[0:dc_ind],axis=0)\n",
    "rel_dc_pow = pow_dc/full_pow\n",
    "print 'Relative DC power: %.3f' %rel_dc_pow\n",
    "rel_pow = pow_int/full_pow\n",
    "print 'Relative in-band power: %.3f' %rel_pow\n",
    "rel_band_pow = pow_int/(full_pow-pow_dc)\n",
    "print 'Relative in-band power (minus DC): %.3f' %rel_band_pow\n",
    "print 'Full noise power: %.3e V/sqrt(Hz)' %np.sqrt(full_pow)"
   ]
  },
  {
   "cell_type": "code",
   "execution_count": null,
   "metadata": {
    "collapsed": false,
    "deletable": true,
    "editable": true
   },
   "outputs": [],
   "source": [
    "j1 = 0\n",
    "j2 = np.argmax(freq_pow>500)    \n",
    "fig = plt.figure(figsize=(16, 8))\n",
    "plt.plot( freq_pow[j1:j2], 10.0*np.log10( power[j1:j2] ) )\n",
    "plt.grid()\n",
    "plt.xlabel('freq (Hz)')\n",
    "plt.ylabel('Noise power (V**2 in dB)')\n",
    "plt.show()  \n",
    "\n",
    "\n",
    "x2 = freq_pow[j1:j2]\n",
    "y2 = 10.0*np.log10( power[j1:j2] )"
   ]
  },
  {
   "cell_type": "code",
   "execution_count": null,
   "metadata": {
    "collapsed": false,
    "deletable": true,
    "editable": true
   },
   "outputs": [],
   "source": [
    "fig = plt.figure(figsize=(16, 8))\n",
    "plt.plot( x1, y1, label='1s scan' )\n",
    "plt.plot( x2, y2, label='quiet 32 ms' )\n",
    "plt.plot( x3, y3, label='noisy 32 ms' )\n",
    "plt.grid()\n",
    "plt.xlabel('freq (Hz)')\n",
    "plt.ylabel('Noise power (V**2 in dB)')\n",
    "plt.legend()\n",
    "plt.show()  "
   ]
  },
  {
   "cell_type": "code",
   "execution_count": null,
   "metadata": {
    "collapsed": false,
    "deletable": true,
    "editable": true
   },
   "outputs": [],
   "source": [
    "\n",
    "freq_pow, power = scipy.signal.welch(data, axis = 0, fs = 1/timeResolution,nperseg = len(data), detrend = 'linear' )\n",
    "\n",
    "\n"
   ]
  },
  {
   "cell_type": "code",
   "execution_count": null,
   "metadata": {
    "collapsed": false,
    "deletable": true,
    "editable": true
   },
   "outputs": [],
   "source": [
    "#j1 = np.argmax(freq_pow>0)\n",
    "#j2 = np.argmax(freq_pow>31250)    \n",
    "j1 = 0\n",
    "j2 = np.argmax(freq_pow>250)    \n",
    "fig = plt.figure(figsize=(16, 8))\n",
    "plt.plot(freq_pow[j1:j2], 10.0*np.log10( power[j1:j2] ) )\n",
    "plt.grid()\n",
    "plt.xlabel('freq (Hz)')\n",
    "plt.ylabel('Noise power (V**2 in dB)')\n",
    "plt.show()  \n",
    "\n",
    "print freq_pow[3] - freq_pow[2]"
   ]
  },
  {
   "cell_type": "code",
   "execution_count": null,
   "metadata": {
    "collapsed": false,
    "deletable": true,
    "editable": true
   },
   "outputs": [],
   "source": [
    "peakTimes = np.array( [0.05596676, 0.0559952, 0.05602742, 0.05605493, 0.0560857, \\\n",
    "            0.05611793, 0.05614317, 0.056177, 0.05620576, 0.05623505 , \n",
    "            0.05626576, 0.05629522, 0.05635278] )\n",
    "\n",
    "print 1.0 / np.mean( peakTimes[1:-1] - peakTimes[0:-2] )\n"
   ]
  },
  {
   "cell_type": "code",
   "execution_count": null,
   "metadata": {
    "collapsed": false,
    "deletable": true,
    "editable": true
   },
   "outputs": [],
   "source": [
    "# Really ugly method to find full-width at fraction-of-max\n",
    "\n",
    "\n",
    "lorentzFwhm = 5\n",
    "lorentzFractionOfMax = 4.0 / 720.0\n",
    "\n",
    "x = np.linspace( 0, 10*lorentzFwhm, 10000)\n",
    "p = [0, lorentzFwhm, 1]\n",
    "y = lorentzian(x,p)\n",
    "\n",
    "lorentzFullWidthAtFractionOfMax = 2 * x[ np.argmin( y > lorentzFractionOfMax ) ]\n",
    "\n",
    "plt.plot( x, y )\n",
    "plt.plot( 0.5 * lorentzFullWidthAtFractionOfMax, lorentzian( 0.5 * lorentzFullWidthAtFractionOfMax, p ), '+' )\n",
    "plt.grid()\n",
    "plt.show()\n",
    "\n",
    "print 'Lorenzian function with fwhm {}, full-width at {} of max = {}'.format( lorentzFwhm, lorentzFractionOfMax, lorentzFullWidthAtFractionOfMax )"
   ]
  },
  {
   "cell_type": "code",
   "execution_count": null,
   "metadata": {
    "collapsed": true,
    "deletable": true,
    "editable": true
   },
   "outputs": [],
   "source": [
    "13.8 "
   ]
  },
  {
   "cell_type": "markdown",
   "metadata": {
    "deletable": true,
    "editable": true
   },
   "source": [
    "## Measurements 5 9 2017"
   ]
  },
  {
   "cell_type": "code",
   "execution_count": null,
   "metadata": {
    "collapsed": false,
    "deletable": true,
    "editable": true
   },
   "outputs": [],
   "source": [
    "dataDir = '/Users/wjwesterveld/Documents/Temp_CAV1_data/20170905/scope'\n",
    "fileName = \"SCOPE_029.wdf.csv\"  \n",
    "\n",
    "data, timeResolution = read_scope_xviewer_csv( os.path.join(dataDir,fileName) )\n",
    "time = timeResolution * np.arange(data.shape[0]) \n",
    "print 'time resolution {} us (sampling frequency {} kHz), trace length {} s, data length {}'.format( \\\n",
    "    timeResolution * 1e6, 1.0/timeResolution* 1e-3, timeResolution*len(data), data.shape[0] )"
   ]
  },
  {
   "cell_type": "code",
   "execution_count": null,
   "metadata": {
    "collapsed": false,
    "deletable": true,
    "editable": true
   },
   "outputs": [],
   "source": [
    "fig = plt.figure(figsize=(16, 8))\n",
    "plt.plot(time, data )\n",
    "plt.grid()\n",
    "plt.xlabel('time (s)')\n",
    "plt.ylabel('V')\n",
    "plt.show() "
   ]
  },
  {
   "cell_type": "code",
   "execution_count": null,
   "metadata": {
    "collapsed": false,
    "deletable": true,
    "editable": true
   },
   "outputs": [],
   "source": [
    "timeWindow = 0.2\n",
    "\n",
    "print 'frequency resolution {} Hz, Nyquist {} MHz'.format( 1.0 / timeWindow, 0.5 / timeResolution *1e-6 )\n",
    "\n",
    "timeStart = 0.3\n",
    "i1 = np.argmax(time>timeStart)\n",
    "i2 = np.argmax(time>timeStart + timeWindow)\n",
    "t = time[i1:i2]\n",
    "d = data[i1:i2]\n",
    "\n",
    "fig = plt.figure(figsize=(16, 8))\n",
    "plt.plot(t, d )\n",
    "plt.grid()\n",
    "plt.xlabel('time (s)')\n",
    "plt.ylabel('V')\n",
    "plt.show() "
   ]
  },
  {
   "cell_type": "code",
   "execution_count": null,
   "metadata": {
    "collapsed": false,
    "deletable": true,
    "editable": true
   },
   "outputs": [],
   "source": [
    "fig = plt.figure(figsize=(16, 8))\n",
    "plt.hist(data,20,label='1s')\n",
    "plt.hist(d,20,label='window')\n",
    "plt.legend()\n",
    "plt.grid()\n",
    "plt.show()\n",
    "\n"
   ]
  },
  {
   "cell_type": "code",
   "execution_count": null,
   "metadata": {
    "collapsed": false,
    "deletable": true,
    "editable": true
   },
   "outputs": [],
   "source": [
    "from scipy.optimize import minimize\n",
    "from scipy import interpolate\n",
    "\n",
    "def lorentzian(x,p):    \n",
    "    # Lorenzian function p[0] is center, p[1] is fwhm, p[2] is maximum intensity\n",
    "    #    See http://mathworld.wolfram.com/LorentzianFunction.html\n",
    "    #    But note that we not integrated intensity of one for p[2] = 1 but maxiumum intensity.\n",
    "    return p[2] * (0.5 * p[1])**2 / ( ( x - p[0] )**2 + ( 0.5 * p[1] )**2 )\n",
    "\n",
    "\n",
    "def lorentzFindX(lorentzFwhm, lorentzFractionOfMax):    \n",
    "    def fun(x):\n",
    "        return ( lorentzian( x, [0, lorentzFwhm, 1] ) -  lorentzFractionOfMax ) ** 2    \n",
    "    res = minimize( fun, lorentzFwhm,  method='Nelder-Mead', bounds=( (0, None ), ) )\n",
    "    if not( res.success ):\n",
    "        print 'lorentzFindX convergence error: ', res.message       \n",
    "    return res.x[0]\n",
    "    \n",
    "def lorentzFindFlankSteepness(lorentzFwhm, x):    \n",
    "    return 8.0 * lorentzFwhm**2 * x / ( 4.0 * x**2 + lorentzFwhm**2 )**2\n",
    "    \n",
    "    \n",
    "def analyzeTimeVibrations(d, lorentzFwhm, lorentzMaxV ):    \n",
    "    meanVInD = np.mean( d ) \n",
    "    minVInD = np.amin(d)\n",
    "    maxVInD = np.amax(d)\n",
    "    # Compute vibrations in Hz using linear approximation of flank of lorentz\n",
    "    flankSteepness = lorentzFindFlankSteepness( lorentzFwhm, lorentzFindX( lorentzFwhm, meanVInD / lorentzMaxV ) ) * lorentzMaxV\n",
    "    vibrationsRMSV = np.sqrt(np.mean( (d - np.mean(d))**2))\n",
    "    vibrationsRMSHzLinear = vibrationsRMSV / flankSteepness\n",
    "    # Compute vibrations in Hz by first applying lorentzian function as lookup table V -> dHz\n",
    "    minDFreqInD = lorentzFindX( lorentzFwhm, minVInD/lorentzMaxV )\n",
    "    lorentzDFreq = np.linspace( -minDFreqInD-1e9, 0, 10000 )\n",
    "    lorentzV = lorentzian(lorentzDFreq, [0, lorentzFwhm, lorentzMaxV] )\n",
    "    dHz = interpolate.interp1d(lorentzV, lorentzDFreq)(d)    \n",
    "    vibrationsRMSHzLorentz = np.sqrt( np.mean( ( dHz-np.mean(dHz) )**2) )\n",
    "    # Print and plot results\n",
    "    if True:   \n",
    "        i1 = 0\n",
    "        i2 = min( 500, len(d) )\n",
    "        fig = plt.figure(figsize=(14, 6))\n",
    "        plt.subplot(131)\n",
    "        plt.plot( t[i1:i2], d[i1:i2] )\n",
    "        plt.xlabel( 'time (s)' )\n",
    "        plt.ylabel( 'transmission (V)' )\n",
    "        plt.grid()\n",
    "        plt.subplot(132)\n",
    "        plt.plot( t[i1:i2], dHz[i1:i2]*1e-9 )\n",
    "        plt.xlabel( 'time (s)' )\n",
    "        plt.ylabel( 'cavity detuning (GHz)' )\n",
    "        plt.grid()\n",
    "        plt.subplot(133)\n",
    "        plt.plot( lorentzDFreq*1e-9, lorentzV )\n",
    "        plt.plot( -minDFreqInD*1e-9, minVInD, '+' )\n",
    "        plt.plot( 0, lorentzMaxV, '+' )\n",
    "        x0 = -lorentzFindX( lorentzFwhm, meanVInD / lorentzMaxV )*1e-9\n",
    "        y0 = np.mean( d )\n",
    "        plt.plot( [x0-20, x0+20], [y0-20e9*flankSteepness, y0+20e9*flankSteepness] )\n",
    "        plt.xlabel( 'cavity detuning GHz' )\n",
    "        plt.ylabel( 'V' )\n",
    "        plt.grid()\n",
    "        plt.show()\n",
    "        print 'Assume Lorenzian linewidth with fwhm of {:.3f} GHz, transmission max {:.3f} V'.format( lorentzFwhm*1e-9, lorentzMaxV )\n",
    "        print 'Trace min {:.3f} V, max {:.3f} V, mean {:.3f} V. Steepness of Lorentz flank at mean {} V/GHz'.format( minVInD, maxVInD, meanVInD, flankSteepness*1e9 )\n",
    "        print 'rms vibrations {:.3f} V, {:.3f} GHz using linear approx, {:.3f} GHz using Lorenzian look-up'.format( vibrationsRMSV,  vibrationsRMSHzLinear*1e-9, vibrationsRMSHzLorentz*1e-9 )                        \n",
    "    return vibrationsRMSV, vibrationsRMSHzLinear, vibrationsRMSHzLorentz\n",
    "        \n",
    "\n",
    "       \n",
    "     \n",
    "    \n",
    "    \n",
    "    \n",
    "# Analysis\n",
    "lorentzFwhm = 60e9\n",
    "lorentzMaxV = np.amax( data )\n",
    "cavLength = 3.3e-6\n",
    "cavWavelength = 637e-9\n",
    "cavFreq = scipy.constants.c / cavWavelength\n",
    "vibrationsRMSV, vibrationsRMSHzLinear, vibrationsRMSHzLorentz = analyzeTimeVibrations(d, lorentzFwhm, lorentzMaxV )\n",
    "vibrationsRMSmLinear = vibrationsRMSHzLinear * cavLength / cavFreq\n",
    "vibrationsRMSmLorentz = vibrationsRMSHzLorentz * cavLength / cavFreq\n",
    "print 'rms vibrations {:.3f} V, {:.3f} nm using linear approx, {:.3f} nm using Lorenzian look-up'.format( vibrationsRMSV,  vibrationsRMSmLinear*1e9, vibrationsRMSmLorentz*1e9 )                \n",
    "\n",
    "\n"
   ]
  },
  {
   "cell_type": "code",
   "execution_count": null,
   "metadata": {
    "collapsed": true,
    "deletable": true,
    "editable": true
   },
   "outputs": [],
   "source": [
    "freq_pow, power = scipy.signal.welch(d, axis = 0, fs = 1/timeResolution,nperseg = len(d), detrend = 'linear' )\n",
    "\n",
    "\n",
    "\n"
   ]
  },
  {
   "cell_type": "code",
   "execution_count": null,
   "metadata": {
    "collapsed": false,
    "deletable": true,
    "editable": true
   },
   "outputs": [],
   "source": [
    "freqPlotMax = 10e3\n",
    "\n",
    "j1 = 0\n",
    "j2 = np.argmax(freq_pow>freqPlotMax)    \n",
    "fig = plt.figure(figsize=(12, 12))\n",
    "plt.subplot(211)\n",
    "plt.plot(freq_pow[j1:j2], 10.0*np.log10( power[j1:j2] ) )\n",
    "plt.grid()\n",
    "plt.xlabel('freq (Hz)')\n",
    "plt.ylabel('Noise power (V**2 in dB)')\n",
    "\n",
    "min_freq = 10\n",
    "max_freq = freqPlotMax\n",
    "\n",
    "min_ind = np.argmin(np.abs(freq_pow-min_freq))\n",
    "max_ind = np.argmin(np.abs(freq_pow-max_freq))\n",
    "\n",
    "pow_int = scipy.integrate.trapz(power[min_ind:max_ind],freq_pow[min_ind:max_ind],axis=0)\n",
    "full_pow = scipy.integrate.trapz(power,freq_pow,axis=0)\n",
    "\n",
    "# freq_rate = freq_pow[1]- freq_pow[0]\n",
    "\n",
    "# ind_bin = int(freq_bin/freq_rate)\n",
    "ind_bin = 1\n",
    "min_ind = np.argmin(np.abs(freq_pow-min_freq))\n",
    "max_ind = np.argmin(np.abs(freq_pow-max_freq))\n",
    "\n",
    "cum_points = np.arange(min_ind,max_ind,ind_bin)\n",
    "cum_freqs = freq_pow[cum_points[1:]]\n",
    "cum_pow = np.zeros(np.shape(cum_freqs))\n",
    "\n",
    "dc_freq = 10\n",
    "dc_ind = np.argmin(np.abs(freq_pow-dc_freq))\n",
    "pow_dc = scipy.integrate.trapz(power[0:dc_ind],freq_pow[0:dc_ind],axis=0)\n",
    "rel_dc_pow = pow_dc/full_pow\n",
    "print 'Relative DC power: %.3f' %rel_dc_pow\n",
    "rel_pow = pow_int/full_pow\n",
    "print 'Relative in-band power: %.3f' %rel_pow\n",
    "rel_band_pow = pow_int/(full_pow-pow_dc)\n",
    "print 'Relative in-band power (minus DC): %.3f' %rel_band_pow\n",
    "print 'Full noise power: %.3e V/sqrt(Hz)' %np.sqrt(full_pow)\n",
    "\n",
    "\n",
    "cum_freq = 0\n",
    "for x in range(len(cum_pow)-1):\n",
    "    cum_pow[x+1] = cum_pow[x] + scipy.integrate.trapz(power[cum_points[x]:cum_points[x+1]+1],freq_pow[cum_points[x]:cum_points[x+1]+1],axis=0)\n",
    "        \n",
    "cum_pow = cum_pow/(full_pow-pow_dc)\n",
    "\n",
    "plt.subplot(212)\n",
    "plt.plot(cum_freqs,cum_pow)\n",
    "plt.grid()\n",
    "plt.xlabel('freq (Hz)')\n",
    "plt.ylabel('Integrated noise power (V**2)')\n",
    "plt.show()\n",
    "\n"
   ]
  }
 ],
 "metadata": {
  "kernelspec": {
   "display_name": "Python 2",
   "language": "python",
   "name": "python2"
  },
  "language_info": {
   "codemirror_mode": {
    "name": "ipython",
    "version": 2
   },
   "file_extension": ".py",
   "mimetype": "text/x-python",
   "name": "python",
   "nbconvert_exporter": "python",
   "pygments_lexer": "ipython2",
   "version": "2.7.11"
  }
 },
 "nbformat": 4,
 "nbformat_minor": 0
}
