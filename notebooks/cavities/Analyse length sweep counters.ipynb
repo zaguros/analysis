{
 "cells": [
  {
   "cell_type": "code",
   "execution_count": null,
   "metadata": {
    "collapsed": false
   },
   "outputs": [],
   "source": [
    "execfile('d:/measuring/analysis/scripts/setup_analysis.py')\n",
    "%matplotlib inline\n",
    "import matplotlib\n",
    "import time"
   ]
  },
  {
   "cell_type": "code",
   "execution_count": null,
   "metadata": {
    "collapsed": false
   },
   "outputs": [],
   "source": [
    "d=4 \n",
    "\n",
    "L = (2.4*d+4)*1000\n",
    "f = 470 #THz\n",
    "dnu = 3e-3 #THz\n",
    "dL = dnu/f*L #in nm\n",
    "print dL"
   ]
  },
  {
   "cell_type": "code",
   "execution_count": null,
   "metadata": {
    "collapsed": false
   },
   "outputs": [],
   "source": [
    "conversion = 65\n",
    "dV = dL/conversion\n",
    "print dV"
   ]
  },
  {
   "cell_type": "code",
   "execution_count": null,
   "metadata": {
    "collapsed": false
   },
   "outputs": [],
   "source": [
    "print 20./500"
   ]
  },
  {
   "cell_type": "code",
   "execution_count": null,
   "metadata": {
    "collapsed": false
   },
   "outputs": [],
   "source": [
    "Vpp = 20.\n",
    "dL = Vpp*conversion\n",
    "dnu = dL/L*f\n",
    "print dnu, 'GHZ'"
   ]
  },
  {
   "cell_type": "code",
   "execution_count": null,
   "metadata": {
    "collapsed": false
   },
   "outputs": [],
   "source": [
    "folder= tb.latest_data('Giuseppe')#r'D:\\measuring\\data\\20171207\\135353_pidcavl'\n",
    "#r'D:\\measuring\\data\\20171207\\133039_pidcavl'#r'D:\\measuring\\data\\20171207\\130217_pidcavl'#r'D:\\measuring\\data\\20171206\\171035_pidcavl'\n",
    "d = np.loadtxt(tb.get_msmt_fp(folder, ext='dat'), skiprows=14)\n",
    "\n",
    "V,ZPL,x,PSB = d[:,0],d[:,1],d[:,2],d[:,3]\n"
   ]
  },
  {
   "cell_type": "code",
   "execution_count": null,
   "metadata": {
    "collapsed": false
   },
   "outputs": [],
   "source": [
    "import math\n",
    "integrationtime=1#seconds\n",
    "\n",
    "fig,ax=plt.subplots()\n",
    "ax.plot(V,ZPL/integrationtime,'o')\n",
    "ax.set_ylabel('ZPL counts (Hz)',color='b',fontsize=14)\n",
    "ax.set_xlabel('JPE voltage (V)')\n",
    "g_a = 0\n",
    "g_A=1200\n",
    "g_x0=1.97#2.75#1.55\n",
    "g_gamma=0.01\n",
    "g_A2=100\n",
    "g_x02=1.98#2.65#1.45\n",
    "g_gamma2=0.04\n",
    "fixed=[]\n",
    "ax.set_title(folder)\n",
    "\n",
    "\n",
    "print 'max:',max(ZPL)/integrationtime, ';   min:',min(ZPL)/integrationtime, ';   ~ S/N:', max(ZPL)/min(ZPL)\n",
    "ax3=ax.twinx()\n",
    "ax3.plot(V,PSB,'g')\n",
    "ax3.set_ylabel('PSB',color='g')\n",
    "# ax3.set_xlim(1.95,2.0)\n",
    "\n",
    "plt.show()\n",
    "\n",
    "ZPL_zoom = ZPL#[120:160]\n",
    "V_zoom  = V#[120:160]\n",
    "\n",
    "p0,fitfunc,fitfunc_str=common.fit_2lorentz(g_a,g_A,g_x0,g_gamma,g_A2,g_x02,g_gamma2)\n",
    "fit_res=fit.fit1d(V,ZPL/integrationtime,fitmethod=None,p0=p0,fitfunc=fitfunc,fitfunc_str=fitfunc_str,fixed=fixed)\n",
    "\n",
    "p0,fitfunc,fitfunc_str=common.fit_2lorentz(g_a,g_A,g_x0,g_gamma,g_A2,g_x02,g_gamma2)\n",
    "fit_res_zoom=fit.fit1d(V_zoom,ZPL_zoom/integrationtime,fitmethod=None,p0=p0,fitfunc=fitfunc,fitfunc_str=fitfunc_str,fixed=fixed)\n",
    "\n",
    "def plot_fitted_lorentzians(fit_res, V):\n",
    "    ax2 = plot.plot_fit1d(fit_res,ret='ax',print_info=False)\n",
    "    ax2.set_ylabel('ZPL counts (Hz)',color='b',fontsize=14)\n",
    "    ax2.set_xlabel('JPE voltage (V)',fontsize=14)\n",
    "    gamma=  fit_res['params_dict']['gamma1']\n",
    "    x0=  fit_res['params_dict']['x01']\n",
    "    A=  fit_res['params_dict']['A1']\n",
    "    gamma2=  fit_res['params_dict']['gamma2']\n",
    "    x02=  fit_res['params_dict']['x02']\n",
    "    A2=  fit_res['params_dict']['A2']\n",
    "    a=  fit_res['params_dict']['a1']\n",
    "    print gamma,x0,A,a\n",
    "\n",
    "    max1 = 2.*A/(np.pi*gamma)+a\n",
    "    max2 = 2.*A2/(np.pi*gamma2)+a\n",
    "    ax2.plot([x0-gamma/2,x0+gamma/2],[1.*A/(np.pi*gamma)+a,1.*A/(math.pi*gamma)+a],'g',linewidth=3)\n",
    "    ax2.plot([x02-gamma2/2,x02+gamma2/2],[1.*A2/(np.pi*gamma2)+a,1.*A2/(math.pi*gamma2)+a],color='c',linewidth=3)\n",
    "    ax2.plot(V,a+2*A/math.pi*gamma/(4*(V-x0)**2+gamma**2),'g')\n",
    "    ax2.plot(V,a+2*A2/math.pi*gamma2/(4*(V-x02)**2+gamma2**2),'c')\n",
    "    ax2.set_title(folder)\n",
    "    plt.show()\n",
    "plot_fitted_lorentzians(fit_res, V)\n",
    "\n",
    "\n",
    "print 'linewidth = ',round(gamma,3),'V'\n",
    "print 'linewidth2 = ',round(gamma2,3),'V'"
   ]
  },
  {
   "cell_type": "code",
   "execution_count": null,
   "metadata": {
    "collapsed": true
   },
   "outputs": [],
   "source": []
  }
 ],
 "metadata": {
  "kernelspec": {
   "display_name": "Python 2",
   "language": "python",
   "name": "python2"
  },
  "language_info": {
   "codemirror_mode": {
    "name": "ipython",
    "version": 2
   },
   "file_extension": ".py",
   "mimetype": "text/x-python",
   "name": "python",
   "nbconvert_exporter": "python",
   "pygments_lexer": "ipython2",
   "version": "2.7.3"
  }
 },
 "nbformat": 4,
 "nbformat_minor": 0
}
