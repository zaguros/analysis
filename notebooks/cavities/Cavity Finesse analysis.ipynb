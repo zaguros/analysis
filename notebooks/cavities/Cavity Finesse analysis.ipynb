{
 "cells": [
  {
   "cell_type": "code",
   "execution_count": null,
   "metadata": {
    "collapsed": false
   },
   "outputs": [],
   "source": [
    "###############notebook used for cavity characteristain paper\n",
    "execfile('D:/measuring/analysis/scripts/setup_analysis.py')#\n",
    "#fig_folder = r'K:ns\\qt\\Diamond\\Projects\\Cavities\\Cavity characterisation paper\\figures and drawings/'\n",
    "%matplotlib inline\n",
    "import scipy.signal"
   ]
  },
  {
   "cell_type": "code",
   "execution_count": null,
   "metadata": {
    "collapsed": false
   },
   "outputs": [],
   "source": [
    "import analysis.scripts.cavity.functions_for_processing_linewidth_data as funcs\n",
    "import analysis.scripts.cavity.combine_cavity_characterisation_data as combine"
   ]
  },
  {
   "cell_type": "code",
   "execution_count": null,
   "metadata": {
    "collapsed": false
   },
   "outputs": [],
   "source": [
    "reload(combine)\n",
    "plot_data = False\n",
    "RT_OFFD_POS0_avgs,RT_OFFD_POS0_Ns = combine.get_RT_OFFD_POS0_data(plot_data=plot_data)\n",
    "LT_OFFD_POS3_avg_array,LT_OFFD_POS3_u_avg_array,LT_OFFD_POS3_Ns=combine.get_LT_OFFD_POS3_data(plot_data=plot_data)\n",
    "\n",
    "RT_OND_POS0_avgs,RT_OND_POS0_Ns=combine.get_RT_OND_POS0_data(plot_data=plot_data)\n",
    "RT_OND_POS1_avgs,RT_OND_POS1_Ns=combine.get_RT_OND_POS1_data(plot_data=plot_data)\n",
    "RT_OND_POS2_avgs,RT_OND_POS2_Ns =combine.get_RT_OND_POS2_data(plot_data=plot_data)\n",
    "LT_OND_POS2_avg_array, LT_OND_POS2_u_avg_array, LT_OND_POS2_Ns=combine.get_LT_OND_POS2_data(plot_data=plot_data)\n",
    "LT_OND_POS4_avg_array, LT_OND_POS4_u_avg_array, LT_OND_POS4_Ns=combine.get_LT_OND_POS4_data(plot_data=plot_data)\n"
   ]
  },
  {
   "cell_type": "code",
   "execution_count": null,
   "metadata": {
    "collapsed": false
   },
   "outputs": [],
   "source": [
    "reload(funcs)\n",
    "avg_finesse_RT_OFFD = np.average(funcs.finesses_from_lws(RT_OFFD_POS0_avgs[:,4],RT_OFFD_POS0_avgs[:,5],RT_OFFD_POS0_Ns)[0])\n",
    "avg_finesse_LT_OFFD = funcs.finesses_from_lws(LT_OFFD_POS3_avg_array,LT_OFFD_POS3_u_avg_array,LT_OFFD_POS3_Ns)[0][0]\n",
    "u_avg_finesse_RT_OFFD = scipy.stats.sem(funcs.finesses_from_lws(RT_OFFD_POS0_avgs[:,4],RT_OFFD_POS0_avgs[:,5],RT_OFFD_POS0_Ns)[0])\n",
    "u_avg_finesse_LT_OFFD = funcs.finesses_from_lws(LT_OFFD_POS3_avg_array,LT_OFFD_POS3_u_avg_array,LT_OFFD_POS3_Ns)[1][0]\n",
    "\n",
    "Ns= np.arange(47,56)#i.e. 47-55\n",
    "\n",
    "F_RT_POS0_N, u_F_RT_POS0_N = funcs.get_finesse_at_Ns(RT_OND_POS0_avgs[:,4],RT_OND_POS0_avgs[:,5],RT_OND_POS0_Ns,Ns)\n",
    "F_RT_POS1_N, u_F_RT_POS1_N = funcs.get_finesse_at_Ns(RT_OND_POS1_avgs[:,4],RT_OND_POS1_avgs[:,5],RT_OND_POS1_Ns,Ns)\n",
    "F_RT_POS2_N, u_F_RT_POS2_N = funcs.get_finesse_at_Ns(RT_OND_POS2_avgs[:,4],RT_OND_POS2_avgs[:,5],RT_OND_POS2_Ns,Ns)\n",
    "F_LT_POS2_N, u_F_LT_POS2_N = funcs.get_finesse_at_Ns(LT_OND_POS2_avg_array,LT_OND_POS2_u_avg_array,LT_OND_POS2_Ns,Ns)\n",
    "F_LT_POS4_N, u_F_LT_POS4_N = funcs.get_finesse_at_Ns(LT_OND_POS4_avg_array,LT_OND_POS4_u_avg_array,LT_OND_POS4_Ns,Ns)\n"
   ]
  },
  {
   "cell_type": "code",
   "execution_count": null,
   "metadata": {
    "collapsed": false
   },
   "outputs": [],
   "source": [
    "# plotting all in one figure\n",
    "reload(funcs)\n",
    "fig6,ax6 = plt.subplots(figsize=(12,4))\n",
    "ax6  = funcs.plot_finesse_vs_length_from_avgs(RT_OFFD_POS0_avgs,RT_OFFD_POS0_Ns,ax=ax6,label='RT OFFD POS0')\n",
    "ax6 = funcs.plot_finesse_vs_length(LT_OFFD_POS3_avg_array,LT_OFFD_POS3_u_avg_array,LT_OFFD_POS3_Ns,ax=ax6,label='LT OFFD POS3')\n",
    "\n",
    "ax6 = funcs.plot_finesse_vs_length_from_avgs(RT_OND_POS0_avgs,RT_OND_POS0_Ns,ax=ax6,label='RT OND POS0')\n",
    "ax6 = funcs.plot_finesse_vs_length_from_avgs(RT_OND_POS1_avgs,RT_OND_POS1_Ns,ax=ax6,label='RT OND POS1')\n",
    "ax6 = funcs.plot_finesse_vs_length_from_avgs(RT_OND_POS2_avgs,RT_OND_POS2_Ns,ax=ax6,label='RT OND POS2')\n",
    "\n",
    "ax6 = funcs.plot_finesse_vs_length(LT_OND_POS2_avg_array,LT_OND_POS2_u_avg_array,LT_OND_POS2_Ns,ax=ax6,label='LT OND POS2')\n",
    "ax6 = funcs.plot_finesse_vs_length(LT_OND_POS4_avg_array,LT_OND_POS4_u_avg_array,LT_OND_POS4_Ns,ax=ax6,label='LT OND POS4')\n",
    "\n",
    "#ax6.set_title(folder+'/Finesse_vs_L_all_OND')\n",
    "#plt.savefig(os.path.join(folder,'Finesse_vs_L_all_OND_vs3.png'))\n",
    "plt.show(fig6)"
   ]
  },
  {
   "cell_type": "code",
   "execution_count": null,
   "metadata": {
    "collapsed": false
   },
   "outputs": [],
   "source": [
    "#use the averaged finesse per N, without x error +-1\n",
    "reload(funcs)\n",
    "\n",
    "fig4,ax4 = plt.subplots()\n",
    "\n",
    "#ax4 = funcs.plot_avgd_finesse_vs_length_from_avgs(RT_OND_POS2_avgs,RT_OND_POS2_Ns,ax=ax4,label='pos. 1',style='o',xerror=False)\n",
    "#ax4 = funcs.plot_avgd_finesse_vs_length_from_avgs(RT_OND_POS0_avgs,RT_OND_POS0_Ns,ax=ax4,label='pos. 2',style='^')\n",
    "ax4 = funcs.plot_avgd_finesse_vs_length_from_avgs(RT_OND_POS1_avgs,RT_OND_POS1_Ns,ax=ax4,label='pos. 3',style='s')\n",
    "#ax4 = funcs.plot_avgd_finesse_vs_length(LT_OND_POS2_avg_array,LT_OND_POS2_u_avg_array,LT_OND_POS2_Ns,ax=ax4,label='pos 4.')\n",
    "#ax4 = funcs.plot_avgd_finesse_vs_length(LT_OND_POS4_avg_array,LT_OND_POS4_u_avg_array,LT_OND_POS4_Ns,ax=ax4,label='pos 5.',style='^')\n",
    "ax4.set_xlim([38,79])\n",
    "ax4.set_ylim(0,18000)\n",
    "#ax2.set_title(folder+'/Finesse_vs_L_all_OND')\n",
    "plt.savefig(os.path.join(fig_folder,'avgd_finesse_vs_L_all_OND_vs3-3.png'))\n",
    "plt.savefig(os.path.join(fig_folder,'avgd_finesse_vs_L_all_OND_vs3-3.eps'))\n",
    "\n",
    "plt.show(fig4)"
   ]
  },
  {
   "cell_type": "code",
   "execution_count": null,
   "metadata": {
    "collapsed": false
   },
   "outputs": [],
   "source": [
    "reload(funcs)\n",
    "funcs.plot_finesse_vs_airlikecharacter((avg_finesse_RT_OFFD,u_avg_finesse_RT_OFFD),(avg_finesse_LT_OFFD,u_avg_finesse_LT_OFFD),\n",
    "            (F_RT_POS0_N,u_F_RT_POS0_N),(F_RT_POS1_N, u_F_RT_POS1_N),(F_RT_POS2_N, u_F_RT_POS2_N),\n",
    "            (F_LT_POS2_N, u_F_LT_POS2_N),(F_LT_POS4_N, u_F_LT_POS4_N),Ns)\n",
    "#plt.savefig('K:/ns\\qt\\Diamond\\Projects\\Cavities\\Cavity characterisation paper\\data\\data_for_cav_char_paper/finesse_vs_airmodeness.png')\n",
    "#plt.savefig('K:/ns\\qt\\Diamond\\Projets\\Cavities\\Cavity characterisation paper\\data\\data_for_cav_char_paper/finesse_vs_airmodeness.eps')\n",
    "plt.show()\n",
    "plt.close()"
   ]
  },
  {
   "cell_type": "code",
   "execution_count": null,
   "metadata": {
    "collapsed": false
   },
   "outputs": [],
   "source": [
    "#plt average Finesse vs RT /  LT //  OFFD\n",
    "\n",
    "RT_finesses = np.array([F_RT_POS0_N,F_RT_POS1_N,F_RT_POS2_N])\n",
    "u_RT_finesses = np.array([u_F_RT_POS0_N,u_F_RT_POS1_N,u_F_RT_POS2_N])\n",
    "\n",
    "LT_finesses = np.array([F_LT_POS2_N,F_LT_POS4_N])\n",
    "u_LT_finesses = np.array([u_F_LT_POS2_N,u_F_LT_POS4_N])\n",
    "\n",
    "fig,ax = plt.subplots()\n",
    "ax.errorbar([1],[avg_finesse_RT_OFFD],yerr=[u_avg_finesse_RT_OFFD],fmt='co',label='RT OFFD')\n",
    "ax.errorbar([2],[avg_finesse_LT_OFFD],yerr=[u_avg_finesse_LT_OFFD],fmt='ko',label='LT OFFD')\n",
    "ax.errorbar([3,3,3],RT_finesses,yerr=u_RT_finesses,fmt='ro',label='RT')\n",
    "ax.errorbar([4,4],LT_finesses,yerr=u_LT_finesses,fmt='bo',label='LT')\n",
    "\n",
    "ax.set_xlim([0.5,4.5])\n",
    "ax.legend(loc='upper right')\n",
    "ax.set_ylabel('average finesse')\n",
    "ax.set_xlabel('RT / LT')\n",
    "#plt.savefig('K:/ns\\qt\\Diamond\\Projects\\Cavities\\Cavity characterisation paper\\data/data_for_cav_char_paper/finesse_vs_LT_RT_OFFD_OND.png')\n",
    "#plt.savefig('K:/ns\\qt\\Diamond\\Projects\\Cavities\\Cavity characterisation paper\\data/data_for_cav_char_paper/finesse_vs_LT_RT_OFFD_OND.eps')"
   ]
  },
  {
   "cell_type": "code",
   "execution_count": null,
   "metadata": {
    "collapsed": false
   },
   "outputs": [],
   "source": [
    "\n",
    "### Fit rclip\n",
    "\n",
    "\n",
    "g_ROC = 15e-6\n",
    "g_rclip = 30e-6\n",
    "g_Transmission = 50e-6\n",
    "g_Loss = 50e-6\n",
    "fig,ax = plt.subplots(figsize=(8,4))\n",
    "p0, fitfunc, fitfunc_str = common.fit_clipping_radius(g_ROC,g_rclip,g_Transmission,g_Loss)\n",
    "# show_guess = True\n",
    "# if show_guess:\n",
    "#     ax.plot(np.linspace(x[0],x[-1],201), fitfunc(np.linspace(0,x[-1],201)), lw=2)\n",
    "fit_result = fit.fit1d(RT_OND_POS2_Ns,Finesses, None, p0=p0, fitfunc=fitfunc, do_print=True, ret=True, fixed=[0])\n",
    "\n",
    "\n",
    "x = np.linspace(min(RT_OND_POS2_Ns),max(RT_OND_POS2_Ns),10*len(RT_OND_POS2_Ns))\n",
    "   \n",
    "        \n",
    "plot.plot_fit1d(fit_result,x, ax=ax, label='Fit',show_guess=True, \n",
    "                plot_data=True,color='red', print_info= False)\n",
    "    \n",
    "# rclip_fit=fit_result['params_dict']['rclip']\n",
    "# #u_rclip_fit = fit_result['error_dict']['rclip']\n",
    "# print rclip\n",
    "\n",
    "\n",
    "\n",
    "plt.savefig(os.path.join(datapath,'plot_Finesse_vs_N_rclip_fit.png'))\n",
    "plt.show()\n",
    "plt.close()"
   ]
  },
  {
   "cell_type": "code",
   "execution_count": null,
   "metadata": {
    "collapsed": false
   },
   "outputs": [],
   "source": [
    "lws1 = np.array([0.83,0.82,0.84,0.89,0.93,0.99,1.06,1.09,1.23,1.38,1.50])\n",
    "u_lws1 = np.ones(len(lws1))*0.01\n",
    "Ns1 = np.arange(27,38)\n",
    "\n",
    "lws2 = np.array([1.85,1.6,1.53,1.41,1.3,1.19,1.16,1.22,1.15,1.1,1.00])\n",
    "u_lws2 = np.concatenate(([0.02],np.ones(len(lws2)-1)*0.01))\n",
    "Ns2 = np.arange(9,20)\n",
    "\n",
    "lws3 = np.array([1.25,1.24,1.14,1.11])\n",
    "u_lws3 = np.ones(len(lws3))*0.01\n",
    "Ns3 = np.arange(16,20)\n",
    "\n",
    "lws = np.concatenate((lws1,lws2,lws3))\n",
    "u_lws = np.concatenate((u_lws1,u_lws2,u_lws3))\n",
    "Ns = np.concatenate((Ns1,Ns2,Ns3))\n",
    "\n",
    "# print len(lws), len(u_lws), len(Ns)\n",
    "print lws,u_lws,Ns\n",
    "\n",
    "\n",
    "\n",
    "funcs.plot_finesse_vs_length(lws,u_lws,Ns,lambda_c=635.6e-9)"
   ]
  },
  {
   "cell_type": "code",
   "execution_count": null,
   "metadata": {
    "collapsed": true
   },
   "outputs": [],
   "source": []
  }
 ],
 "metadata": {
  "kernelspec": {
   "display_name": "Python 2",
   "language": "python",
   "name": "python2"
  },
  "language_info": {
   "codemirror_mode": {
    "name": "ipython",
    "version": 2
   },
   "file_extension": ".py",
   "mimetype": "text/x-python",
   "name": "python",
   "nbconvert_exporter": "python",
   "pygments_lexer": "ipython2",
   "version": "2.7.3"
  }
 },
 "nbformat": 4,
 "nbformat_minor": 0
}
