{
 "cells": [
  {
   "cell_type": "code",
   "execution_count": null,
   "metadata": {
    "collapsed": true
   },
   "outputs": [],
   "source": [
    "import numpy as np\n",
    "import pandas\n",
    "%matplotlib inline\n",
    "import matplotlib.pyplot as plt\n"
   ]
  },
  {
   "cell_type": "code",
   "execution_count": null,
   "metadata": {
    "collapsed": true
   },
   "outputs": [],
   "source": [
    "def read_montana_tempdatalog_csv(filename):\n",
    "    \"\"\" Read csv files as stored by Montana Cryostation MI_TempDataLog... .cxv           \n",
    "       \n",
    "        Input: \n",
    "            filename\n",
    "            \n",
    "        Output:\n",
    "            timeSinceStart    Time relative to starting time of file, seconds.\n",
    "            temperature       numpy array. First dimension time. Second dimension Platform Temp., Sample Temp., Stage 1 Temp., Stage 2 Temp., User Temp.                        \n",
    "    \"\"\"    \n",
    "    d = pandas.read_csv(filename).values\n",
    "    timeSinceStart = np.zeros( len(d) )\n",
    "    temperature = d[:,3:7].astype(np.float)\n",
    "    for i in range( len( d ) ):\n",
    "        h, m, s = d[i,1].split(':')    \n",
    "        timeSinceStart[i] = int(h) * 3600 + int(m) * 60 + float(s)\n",
    "    return timeSinceStart, temperature"
   ]
  },
  {
   "cell_type": "code",
   "execution_count": null,
   "metadata": {
    "collapsed": false
   },
   "outputs": [],
   "source": [
    "# Load file\n",
    "filename = '/Users/wjwesterveld/Documents/Temp_CAV1_data/20170925/Montana_Cryostation/MI_TempDataLog 09_25_2017.csv'\n",
    "timeSinceStart, temperature = read_montana_tempdatalog_csv(filename)\n"
   ]
  },
  {
   "cell_type": "code",
   "execution_count": null,
   "metadata": {
    "collapsed": false
   },
   "outputs": [],
   "source": [
    "# Plot part of file.\n",
    "timeSinceStart1 = 60000  # first time to plot, in seconds. \n",
    "timeSinceStart2 = 84300  # last time to plot, in seconds.\n",
    "\n",
    "i1 = np.argmax( timeSinceStart > timeSinceStart1 )\n",
    "i2 = np.argmax( timeSinceStart > timeSinceStart2 )\n",
    "\n",
    "plt.figure(figsize=(12, 8))\n",
    "plt.plot( timeSinceStart[i1:i2] / 60.0, temperature[i1:i2,0], label='platform' )\n",
    "plt.plot( timeSinceStart[i1:i2] / 60.0, temperature[i1:i2,1], label='sample' )\n",
    "plt.plot( timeSinceStart[i1:i2] / 60.0, temperature[i1:i2,3], label='stage 2' )\n",
    "plt.plot( timeSinceStart[i1:i2] / 60.0, temperature[i1:i2,2] / 10.0, label='stage 1 / 10' )\n",
    "plt.xlabel( 'time (minutes)' )\n",
    "plt.ylabel( 'temperature (K) or temperature/10 (K)' )\n",
    "plt.grid()\n",
    "plt.legend()\n",
    "plt.show()\n"
   ]
  }
 ],
 "metadata": {
  "kernelspec": {
   "display_name": "Python 2",
   "language": "python",
   "name": "python2"
  },
  "language_info": {
   "codemirror_mode": {
    "name": "ipython",
    "version": 2
   },
   "file_extension": ".py",
   "mimetype": "text/x-python",
   "name": "python",
   "nbconvert_exporter": "python",
   "pygments_lexer": "ipython2",
   "version": "2.7.11"
  }
 },
 "nbformat": 4,
 "nbformat_minor": 2
}
