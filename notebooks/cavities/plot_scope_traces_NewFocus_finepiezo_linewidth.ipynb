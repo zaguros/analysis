{
 "cells": [
  {
   "cell_type": "code",
   "execution_count": null,
   "metadata": {
    "collapsed": false,
    "deletable": true,
    "editable": true
   },
   "outputs": [],
   "source": [
    "import numpy as np\n",
    "import os.path\n",
    "import pandas\n",
    "import matplotlib\n",
    "import scipy.signal\n",
    "import scipy.constants\n",
    "\n",
    "%matplotlib inline\n",
    "import matplotlib.pyplot as plt\n",
    "from matplotlib import gridspec\n",
    "\n",
    "import mpld3\n",
    "from mpld3 import plugins\n",
    "\n"
   ]
  },
  {
   "cell_type": "markdown",
   "metadata": {
    "deletable": true,
    "editable": true
   },
   "source": [
    "## Load xviewer csv (from binary scope data) and scope csv"
   ]
  },
  {
   "cell_type": "code",
   "execution_count": null,
   "metadata": {
    "collapsed": false,
    "deletable": true,
    "editable": true
   },
   "outputs": [],
   "source": []
  },
  {
   "cell_type": "code",
   "execution_count": null,
   "metadata": {
    "collapsed": false,
    "deletable": true,
    "editable": true
   },
   "outputs": [],
   "source": [
    "def read_scope_xviewer_csv(filename):\n",
    "    headerRows = 10        \n",
    "    with open(filename) as f:\n",
    "        for x in range(headerRows):\n",
    "            line = f.readline()            \n",
    "            if \"HResolution\" in line:\n",
    "                i1 = line.find(',')+1\n",
    "                i2 = line.find(',',i1)                \n",
    "                timeResolution = float( line[i1:i2].strip(' \\t\\n\\r') )        \n",
    "                numberOfCols = line.count(',')    \n",
    "    data = pandas.read_csv(filename,header=None,skiprows=headerRows,usecols=range(1,numberOfCols)).values\n",
    "    return data, timeResolution\n",
    "\n",
    "\n",
    "def read_scope_csv(filename):\n",
    "    headerRows = 16        \n",
    "    with open(filename) as f:\n",
    "        for x in range(headerRows):\n",
    "            line = f.readline()            \n",
    "            if \"HResolution\" in line:                \n",
    "                timeResolution = float( line[line.rfind(',')+1:-1].strip(' \\t\\n\\r') )    \n",
    "    data = pandas.read_csv(filename,header=None,skiprows=headerRows).values[:,1:-1]\n",
    "    return data, timeResolution\n",
    "\n",
    "\n",
    "\n",
    "\n"
   ]
  },
  {
   "cell_type": "code",
   "execution_count": null,
   "metadata": {
    "collapsed": false,
    "deletable": true,
    "editable": true
   },
   "outputs": [],
   "source": [
    "data_dir = '/Users/wjwesterveld/Documents/Temp_CAV1_data/20170911/scope' \n",
    "file_name = \"SCOPE_006.wdf.csv\"  \n",
    "filename = os.path.join(data_dir,file_name)\n",
    "\n",
    "data, timeResolution = read_scope_xviewer_csv(filename)\n",
    "time = timeResolution * np.arange(data.shape[0]) \n",
    "\n",
    "print '{} traces, time resolution {} us (sampling frequency {} kHz), trace length {} s, data length {}'.format( \\\n",
    "    data.shape[1], timeResolution * 1e6, 1.0/timeResolution* 1e-3, timeResolution*len(data), data.shape[0] )"
   ]
  },
  {
   "cell_type": "code",
   "execution_count": null,
   "metadata": {
    "collapsed": false,
    "deletable": true,
    "editable": true
   },
   "outputs": [],
   "source": [
    "# Raw data\n",
    "plt.plot( data[0:5000,0] )\n",
    "plt.title( 'photo diode signal (V)' )\n",
    "plt.show()\n",
    "\n",
    "plt.plot( data[0:5000,1] )\n",
    "plt.title( 'voltage on laser fine-tuning (V)' )\n",
    "plt.show()\n",
    "\n",
    "plt.plot( data[0:5000,2] )\n",
    "plt.title( 'montana sync signal (not used) (V)' )\n",
    "plt.show()\n"
   ]
  },
  {
   "cell_type": "code",
   "execution_count": null,
   "metadata": {
    "collapsed": false,
    "deletable": true,
    "editable": true
   },
   "outputs": [],
   "source": [
    "plt.plot( data[:,1], data[:,0], '.' )\n",
    "plt.title( 'very naive way' )\n",
    "plt.xlabel('transmission, photodiode  (V)')\n",
    "plt.ylabel('laser fine-tuning (V)')\n",
    "plt.show()\n",
    "\n",
    "binDV = 0.5\n",
    "binEdgesV = np.arange( -9, 9 + 0.5 * binDV, binDV )\n",
    "binCentersV = binEdgesV[0:-2] + 0.5 * binDV\n",
    "binN = len( binCentersV )\n",
    "binMeanIntensityV = np.zeros( binN )\n",
    "\n",
    "for i in range( binN ):\n",
    "    ind = np.logical_and( data[:,1] >= binEdgesV[i], data[:,1] < binEdgesV[i+1] )    \n",
    "    binMeanIntensityV[i] = np.mean( data[ind,0] )\n",
    "\n",
    "plt.plot( binCentersV, binMeanIntensityV )\n",
    "plt.title( 'slightly less naive way' )\n",
    "plt.xlabel('laser fine-tuning in bins (V)')\n",
    "plt.ylabel('mean transmission, photodiode  (V)')\n",
    "plt.grid()\n",
    "plt.show()"
   ]
  },
  {
   "cell_type": "code",
   "execution_count": null,
   "metadata": {
    "collapsed": false,
    "deletable": true,
    "editable": true
   },
   "outputs": [],
   "source": [
    "# Better way: treat data of left and right flank (different movement of direction of laser piezo) separately.\n",
    "#   1. Smooth laser fine-tuning data\n",
    "#   2. Detect left and right flank of data. \n",
    "#   3. Plot the mean transmission as a function of binned laser fine-tuning voltages, separate left and right flanks of movement\n",
    "\n",
    "windowWidth = 9 # should be ODD!\n",
    "d = data[:,1]\n",
    "data2 = data[ int(windowWidth-1)/2 : -int(windowWidth-1)/2, : ]\n",
    "cumsumVec = np.cumsum(np.insert(d, 0, 0)) \n",
    "d = (cumsumVec[windowWidth:] - cumsumVec[:-windowWidth]) / windowWidth\n"
   ]
  },
  {
   "cell_type": "code",
   "execution_count": null,
   "metadata": {
    "collapsed": false,
    "deletable": true,
    "editable": true,
    "scrolled": false
   },
   "outputs": [],
   "source": [
    "#   2. Detect left and right flanks. \n",
    "#      Find first value below Minlevel (we're now at the left side of a valley)\n",
    "#      Move noiseLength points forward to make sure we're in the valley and not hampered by noise.\n",
    "#      Find first value above Minlevel (we're now at the right side of a valley = left side of \"left\" flank )\n",
    "#      Find first value above Maxlevel (we're now at the left side of a peak = right side of the \"left\" flank )\n",
    "#      Move noiseLength points forward to make sure we're on the peak and not hampered by noise.\n",
    "#      Etc..\n",
    "\n",
    "dMinLevel = -7.5  # Minimal voltage of flank. For 9 V sweeping I used -7.5 V.  \n",
    "dMaxLevel = 7.5   # Maximum voltage of flank. For 9 V sweeping I used -7.5 V. \n",
    "noiseLength = 20  # Number of time-steps that should be skipped after reaching min/max flank value.\n",
    "\n",
    "maskLeft = np.zeros( d.shape[0], dtype=bool )\n",
    "maskRight = np.zeros( d.shape[0], dtype=bool )\n",
    "\n",
    "i = np.argmax( d < dMinLevel ) + noiseLength\n",
    "while True:    \n",
    "    i = np.argmax( d[i:] > dMinLevel ) + i     \n",
    "    if i.size == 0:\n",
    "        break\n",
    "    iEnd = np.argmax( d[i:] > dMaxLevel ) + i\n",
    "    if iEnd.size == 0: \n",
    "        break\n",
    "    maskLeft[i:iEnd] = True    \n",
    "    i = iEnd + noiseLength        \n",
    "    if i >=  len( d ):\n",
    "        break\n",
    "    i = np.argmax( d[i:] < dMaxLevel ) + i    \n",
    "    if i.size == 0:\n",
    "        break\n",
    "    iEnd = np.argmax( d[i:] < dMinLevel ) + i    \n",
    "    if iEnd.size == 0:\n",
    "        break\n",
    "    maskRight[i:iEnd] = True\n",
    "    i = iEnd + noiseLength    \n",
    "    if i >=  len( d ):\n",
    "        break\n",
    "\n",
    "print 'left flank {}%, right flank {}%'.format( 100.0 * np.sum( maskLeft ) / len( maskLeft ), 100.0 * np.sum( maskRight ) / len( maskRight ) )\n",
    "        \n",
    "i1 = 0\n",
    "i2 = 5000\n",
    "plt.plot( data[i1:i2,1], label='laser piezo voltage' )\n",
    "plt.plot( d[i1:i2], label='smooth' )\n",
    "plt.plot( maskLeft[i1:i2], label='left flank boolean' )\n",
    "plt.plot( maskRight[i1:i2], label='right flank boolean' )\n",
    "plt.legend()\n",
    "plt.grid()\n",
    "plt.show()\n"
   ]
  },
  {
   "cell_type": "code",
   "execution_count": null,
   "metadata": {
    "collapsed": false,
    "deletable": true,
    "editable": true
   },
   "outputs": [],
   "source": [
    "#   3. Plot the mean transmission as a function of binned laser fine-tuning voltages, separate left and right flanks of movement\n",
    "\n",
    "binDV = 0.5\n",
    "binEdgesV = np.arange( dMinLevel, dMaxLevel + 0.5 * binDV, binDV )\n",
    "binCentersV = binEdgesV[0:-2] + 0.5 * binDV\n",
    "binN = len( binCentersV )\n",
    "binMeanIntensityV = np.zeros( binN )\n",
    "\n",
    "for i in range( binN ):\n",
    "    ind = np.logical_and( d >= binEdgesV[i], d < binEdgesV[i+1] )    \n",
    "    binMeanIntensityV[i] = np.mean( data2[ind,0] )\n",
    "\n",
    "binLeftMeanIntensityV = np.zeros( binN )\n",
    "for i in range( binN ):\n",
    "    ind = np.logical_and( d >= binEdgesV[i], d < binEdgesV[i+1] )      \n",
    "    ind = np.logical_and( ind, maskLeft )    \n",
    "    binLeftMeanIntensityV[i] = np.mean( data2[ind,0] )\n",
    "     \n",
    "binRightMeanIntensityV = np.zeros( binN )\n",
    "for i in range( binN ):\n",
    "    ind = np.logical_and( d >= binEdgesV[i], d < binEdgesV[i+1] )    \n",
    "    ind = np.logical_and( ind, maskRight )    \n",
    "    binRightMeanIntensityV[i] = np.mean( data2[ind,0] )        \n",
    "\n",
    "\n",
    "plt.plot( binCentersV, binMeanIntensityV, label='all data' )\n",
    "plt.plot( binCentersV, binLeftMeanIntensityV, label='left flanks' )\n",
    "plt.plot( binCentersV, binRightMeanIntensityV, label='right flanks' )\n",
    "plt.xlabel('laser fine-tuning in bins (V)')\n",
    "plt.ylabel('mean transmission, photodiode  (V)')\n",
    "plt.grid()\n",
    "plt.legend()\n",
    "plt.show()"
   ]
  },
  {
   "cell_type": "code",
   "execution_count": null,
   "metadata": {
    "collapsed": false,
    "deletable": true,
    "editable": true
   },
   "outputs": [],
   "source": [
    "# Fit Gauss\n",
    "\n",
    "# import pylab as plb\n",
    "import matplotlib.pyplot as plt\n",
    "from scipy.optimize import curve_fit\n",
    "from scipy import asarray as ar,exp\n",
    "\n",
    "\n",
    "def gaus(x,a,x0,sigma):\n",
    "    return a*exp(-(x-x0)**2/(2*sigma**2))\n",
    "\n",
    "\n",
    "x = binCentersV\n",
    "y = binLeftMeanIntensityV\n",
    "n = len(x)                          \n",
    "mean = sum(x*y)/n                   \n",
    "sigma = sum(y*(x-mean)**2)/n        \n",
    "popt,pcov = curve_fit(gaus,x,y,p0=[1,mean,sigma])\n",
    "binLeftMeanIntensityVFit = gaus(x,*popt)\n",
    "binLeftMeanIntensityVFitSigma = popt[2]\n",
    "\n",
    "x = binCentersV\n",
    "y = binRightMeanIntensityV\n",
    "n = len(x)                          \n",
    "mean = sum(x*y)/n                   \n",
    "sigma = sum(y*(x-mean)**2)/n        \n",
    "popt,pcov = curve_fit(gaus,x,y,p0=[1,mean,sigma])\n",
    "binRightMeanIntensityVFit = gaus(x,*popt)\n",
    "binRightMeanIntensityVFitSigma = popt[2]\n",
    "\n",
    "\n",
    "fig = plt.figure(figsize=(16, 8))\n",
    "plt.plot( binCentersV, binLeftMeanIntensityV, label='left flanks' )\n",
    "plt.plot( binCentersV, binLeftMeanIntensityVFit, label='fit, sigma {} V'.format(binLeftMeanIntensityVFitSigma), linestyle=':' )\n",
    "plt.plot( binCentersV, binRightMeanIntensityV, label='right flanks' )\n",
    "plt.plot( binCentersV, binRightMeanIntensityVFit, label='fit, sigma {} V'.format(binRightMeanIntensityVFitSigma), linestyle=':'  )\n",
    "plt.xlabel('laser fine-tuning in bins (V)')\n",
    "plt.ylabel('mean transmission, photodiode  (V)')\n",
    "plt.grid()\n",
    "plt.legend()\n",
    "plt.show()\n",
    "\n",
    "\n"
   ]
  },
  {
   "cell_type": "code",
   "execution_count": null,
   "metadata": {
    "collapsed": true,
    "deletable": true,
    "editable": true
   },
   "outputs": [],
   "source": [
    "# From slow piezo tuning, linear approx, we find 50 GHz / 12 V\n",
    "#\n",
    "# This would give linewidth of ~ 2.6 V * (50 GHz / 12 V) = 12 GHz."
   ]
  },
  {
   "cell_type": "markdown",
   "metadata": {},
   "source": [
    "## Laser modulation"
   ]
  },
  {
   "cell_type": "code",
   "execution_count": null,
   "metadata": {
    "collapsed": false
   },
   "outputs": [],
   "source": [
    "import glob\n",
    "\n",
    "dataDir = '/Users/wjwesterveld/Documents/Temp_CAV1_data/20170912/' \n",
    "files = os.listdir( dataDir )[1:]\n",
    "\n",
    "\n",
    "for file in files:    \n",
    "    # load data\n",
    "    filename = os.path.join( dataDir, file, file + '.dat' )        \n",
    "    data = pandas.read_csv(filename,header=None,skiprows=4,sep='\\t').values\n",
    "    # clean up outlyers \n",
    "    ind = np.logical_and( data[:,1] < 3000,  data[:,1] > 1200 )\n",
    "    data = data[ind,:]   \n",
    "    # plot\n",
    "    plotInd1 = 0\n",
    "    plotInd2 = len( data )\n",
    "    plt.plot( data[plotInd1:plotInd2,0], data[plotInd1:plotInd2,1] )\n",
    "    plt.grid()\n",
    "    plt.xlabel( 'time (s)' )\n",
    "    plt.ylabel( 'laser frequency (relative, GHz)' )\n",
    "    plt.title( file )    \n",
    "    plt.show()\n",
    "    \n",
    "    \n",
    "\n"
   ]
  },
  {
   "cell_type": "code",
   "execution_count": null,
   "metadata": {
    "collapsed": true
   },
   "outputs": [],
   "source": []
  },
  {
   "cell_type": "code",
   "execution_count": null,
   "metadata": {
    "collapsed": true
   },
   "outputs": [],
   "source": []
  },
  {
   "cell_type": "code",
   "execution_count": null,
   "metadata": {
    "collapsed": true
   },
   "outputs": [],
   "source": []
  },
  {
   "cell_type": "code",
   "execution_count": null,
   "metadata": {
    "collapsed": true
   },
   "outputs": [],
   "source": []
  },
  {
   "cell_type": "markdown",
   "metadata": {
    "deletable": true,
    "editable": true
   },
   "source": [
    "## Tests if we can fine-tune cavity length to max transmission before slow linewidth measurement"
   ]
  },
  {
   "cell_type": "code",
   "execution_count": null,
   "metadata": {
    "collapsed": false,
    "deletable": true,
    "editable": true
   },
   "outputs": [],
   "source": [
    "data_dir = '/Users/wjwesterveld/Documents/Temp_CAV1_data/20170911/scope' \n",
    "file_name = \"SCOPE_007.wdf.csv\"  \n",
    "filename = os.path.join(data_dir,file_name)\n",
    "\n",
    "data, timeResolution = read_scope_xviewer_csv(filename)\n",
    "time = timeResolution * np.arange(data.shape[0]) \n",
    "\n",
    "print '{} traces, time resolution {} us (sampling frequency {} kHz), trace length {} s, data length {}'.format( \\\n",
    "    data.shape[1], timeResolution * 1e6, 1.0/timeResolution* 1e-3, timeResolution*len(data), data.shape[0] )"
   ]
  },
  {
   "cell_type": "code",
   "execution_count": null,
   "metadata": {
    "collapsed": false,
    "deletable": true,
    "editable": true
   },
   "outputs": [],
   "source": [
    "plt.plot( time, data )\n",
    "plt.show()\n",
    "\n",
    "\n",
    "freq, power = scipy.signal.welch(data, axis = 0, fs = 1/timeResolution,nperseg = len(data), detrend = 'linear' )\n",
    "plt.plot( freq[0:300], power[0:300] )\n",
    "\n",
    "plt.show()"
   ]
  },
  {
   "cell_type": "code",
   "execution_count": null,
   "metadata": {
    "collapsed": false,
    "deletable": true,
    "editable": true
   },
   "outputs": [],
   "source": [
    "plt.plot( time[0:5000], data[0:5000] )\n",
    "plt.show()\n",
    "\n",
    "\n",
    "plt.plot( time, data )\n",
    "plt.show()\n",
    "\n",
    "time1Resolution = 1.0\n",
    "downSampleFactor = int( time1Resolution/timeResolution )\n",
    "data1 = data.reshape(-1, downSampleFactor).mean(axis=1)\n",
    "time1 = np.arange( 0, len( data1) ) * time1Resolution\n",
    "\n",
    "time2Resolution = 2.0\n",
    "downSampleFactor = int( time2Resolution/timeResolution )\n",
    "data2 = data.reshape(-1, downSampleFactor).mean(axis=1)\n",
    "time2 = np.arange( 0, len( data2) ) * time2Resolution\n",
    "\n",
    "time3Resolution = 4.0\n",
    "downSampleFactor = int( time3Resolution/timeResolution )\n",
    "data3 = data.reshape(-1, downSampleFactor).mean(axis=1)\n",
    "time3 = np.arange( 0, len( data3) ) * time3Resolution\n",
    "\n",
    "\n",
    "plt.plot( time1, data1 )\n",
    "plt.plot( time2, data2 )\n",
    "plt.plot( time3, data3 )\n",
    "plt.plot()\n",
    "\n",
    "print downSampleFactor \n",
    "print 2.5e3 / downSampleFactor\n",
    "\n"
   ]
  }
 ],
 "metadata": {
  "kernelspec": {
   "display_name": "Python 2",
   "language": "python",
   "name": "python2"
  },
  "language_info": {
   "codemirror_mode": {
    "name": "ipython",
    "version": 2
   },
   "file_extension": ".py",
   "mimetype": "text/x-python",
   "name": "python",
   "nbconvert_exporter": "python",
   "pygments_lexer": "ipython2",
   "version": "2.7.11"
  }
 },
 "nbformat": 4,
 "nbformat_minor": 0
}
