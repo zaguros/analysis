{
 "metadata": {
  "name": "",
  "signature": ""
 },
 "nbformat": 3,
 "nbformat_minor": 0,
 "worksheets": [
  {
   "cells": [
    {
     "cell_type": "code",
     "collapsed": false,
     "input": [
      "%matplotlib inline\n",
      "import os\n",
      "import numpy as np\n",
      "import math\n",
      "from matplotlib import pyplot as plt"
     ],
     "language": "python",
     "metadata": {},
     "outputs": []
    },
    {
     "cell_type": "code",
     "collapsed": false,
     "input": [
      "#the total power transmittivity (coupling efficiency) is:\n",
      "#T = tau_x**2\n",
      "\n",
      "#the power transmittivity in the x-y plane is: \n",
      "def tau_x(wm=2.2e-6,wf=2.2e-6,R=39.e-6,nf=1.46,dx=0,theta_x=0,lambda_0=637.e-9):#wf is estimate -> check with our fibers\n",
      "    tau_x = 2./(wf*wm)*1./np.sqrt( absquared(wm,wf,R,nf,lambda_0) )\\\n",
      "    *np.exp(a(wm,wf)*(c(wm,dx)**2-d(R,dx, theta_x,lambda_0)**2)/(2*(absquared(wm,wf,R,nf,lambda_0))))\\\n",
      "    *np.exp(b(R, nf,lambda_0)*c(wm,dx)*d(R,dx, theta_x,lambda_0) / absquared(wm,wf,R,nf,lambda_0))\\\n",
      "    *np.exp(-2*f(wm,dx))\n",
      "    return tau_x\n",
      "\n",
      "#where:\n",
      "def absquared(wm=2e-6,wf=2.2e-6,R=39.e-6,nf=1.46,lambda_0=637.e-9):\n",
      "    return a(wm,wf)**2+b(R,nf,lambda_0)**2\n",
      "\n",
      "def a(wm=2e-6,wf=2.2e-6):\n",
      "    return 1./wm**2+1./wf**2\n",
      "\n",
      "def b(R=39.e-6, nf=1.46,lambda_0=637.e-9):\n",
      "    return -math.pi/(lambda_0*Rc(R))+math.pi/(lambda_0*Rf(R,nf))\n",
      "\n",
      "def c(wm=2e-6,dx=0):\n",
      "    return 2*dx/wm**2\n",
      "\n",
      "def d(R=39.e-6,dx=0, theta_x=0,lambda_0=637.e-9):\n",
      "    return -2*math.pi*dx/(lambda_0*Rc(R))+2*math.pi*theta_x/lambda_0\n",
      "\n",
      "def e(dL,zra,dx=0,R=39.e-6,theta_x=0,lambda_0=637.e-9):#this drops out of the expression when taking absolute square\n",
      "    return (-k*dL)-np.arctan(dL/zra)-dx**2/(2*Rc(R))+2*math.pi*dx*theta_x/lambda_0\n",
      "\n",
      "def f(wm=2e-6,dx=0):\n",
      "    return dx**2/wm**2\n",
      "\n",
      "def Rf(R=39.e-6,nf=1.46):\n",
      "    return R/(nf-1.)\n",
      "\n",
      "def Rc(R=39.e-6):\n",
      "    return -R\n"
     ],
     "language": "python",
     "metadata": {},
     "outputs": []
    },
    {
     "cell_type": "code",
     "collapsed": false,
     "input": [],
     "language": "python",
     "metadata": {},
     "outputs": []
    },
    {
     "cell_type": "code",
     "collapsed": false,
     "input": [
      "wms=np.linspace(0.e-6,10.e-6,51)\n",
      "Ts = np.zeros(len(wms))\n",
      "\n",
      "wf=2.2e-6\n",
      "R=18.e-6\n",
      "dx = 0.e-6\n",
      "theta_x=0.e-3\n",
      "\n",
      "for i,wm in enumerate(wms):\n",
      "    Ts[i] = (tau_x(wm=wm,wf=wf,R=R,lambda_0=637e-9,dx=dx,theta_x=theta_x))**2\n",
      "\n",
      "fig,ax = plt.subplots()\n",
      "ax.plot(wms*1.e6,Ts)\n",
      "ax.set_title('wf = %.1f, R = %.0f, dx = %.0f, theta = %.0f'%(wf*1.e6,R*1.e6,dx*1.e6,theta_x))\n",
      "ax.set_ylabel('coupling efficiency')\n",
      "ax.set_xlabel('w_m um')\n"
     ],
     "language": "python",
     "metadata": {},
     "outputs": []
    },
    {
     "cell_type": "code",
     "collapsed": false,
     "input": [
      "dxs=np.linspace(0.e-6,1.e-6,51)\n",
      "Ts = np.zeros(len(wms))\n",
      "\n",
      "wf=2.2e-6\n",
      "R=18.e-6\n",
      "dx = 0.e-6\n",
      "theta_x=0.e-3\n",
      "wm=2.e-6 \n",
      "for i,dx in enumerate(dxs):\n",
      "    Ts[i] = (tau_x(wm=wm,wf=wf,R=R,lambda_0=637e-9,dx=dx,theta_x=theta_x))**2\n",
      "\n",
      "fig,ax = plt.subplots()\n",
      "ax.plot(dxs*1.e6,Ts)\n",
      "ax.set_title('wf = %.1f, R = %.0f, wm = %.0f, theta = %.0f'%(wf*1.e6,R*1.e6,wm*1.e6,theta_x))\n",
      "ax.set_ylabel('coupling efficiency')\n",
      "ax.set_xlabel('dx (um)')\n"
     ],
     "language": "python",
     "metadata": {},
     "outputs": []
    },
    {
     "cell_type": "code",
     "collapsed": false,
     "input": [
      "theta_xs=np.linspace(0.e-6,100.e-3,51)\n",
      "Ts = np.zeros(len(wms))\n",
      "\n",
      "wf=2.2e-6\n",
      "R=39.e-6\n",
      "dx = 0.e-6\n",
      "theta_x=20.e-3\n",
      "wm=4.e-6 \n",
      "\n",
      "for i,theta_x in enumerate(theta_xs):\n",
      "    Ts[i] = (tau_x(wm=wm,wf=wf,R=R,lambda_0=637e-9,dx=dx,theta_x=theta_x))**2\n",
      "\n",
      "fig,ax = plt.subplots()\n",
      "ax.plot(theta_xs*1.e3,Ts)\n",
      "ax.set_title('wf = %.1f, R = %.0f, wm = %.0f, dx = %.0f'%(wf*1.e6,R*1.e6,wm*1.e6,dx*1.e6))\n",
      "ax.set_ylabel('coupling efficiency')\n",
      "ax.set_xlabel('theta (mrad)')\n"
     ],
     "language": "python",
     "metadata": {},
     "outputs": []
    },
    {
     "cell_type": "code",
     "collapsed": false,
     "input": [],
     "language": "python",
     "metadata": {},
     "outputs": []
    }
   ],
   "metadata": {}
  }
 ]
}
