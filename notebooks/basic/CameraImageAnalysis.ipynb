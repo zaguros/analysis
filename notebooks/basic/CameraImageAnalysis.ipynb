{
 "cells": [
  {
   "cell_type": "code",
   "execution_count": null,
   "metadata": {
    "collapsed": false
   },
   "outputs": [],
   "source": [
    "## setup analysis\n",
    "import numpy as np\n",
    "import cv2\n",
    "from matplotlib import pyplot as plt\n",
    "execfile(r'D:\\measuring\\analysis\\scripts\\setup_analysis.py')\n",
    "filename = r'D:\\measuring\\Labview\\CCDcamera\\Bitmarker_field_of_view.dat'\n",
    "# filename = r'D:\\measuring\\Labview\\CCDcamera\\Bitmarker_and_stripline.dat'\n",
    "%matplotlib inline\n",
    "from itertools import compress\n",
    "from analysis.lib.image_analysis import camera_tools as ct; reload(ct)"
   ]
  },
  {
   "cell_type": "code",
   "execution_count": null,
   "metadata": {
    "collapsed": false
   },
   "outputs": [],
   "source": [
    "### create the ebeam pattern as a numpy array\n",
    "### resolution is automatically assumed to be 1 um. You can easiliy extend this by using np.kron(pattern,np.ones((5,5))).\n",
    "# the example above is for a resolution of 200 nm.\n",
    "\n",
    "#### numbers for hillary x_max 35; y_max = 14; bitm_pitch = 60; small_marker_pitch = 5; markersize = 1\n",
    "\n",
    "Hillary_ebeam_pattern = ct.generate_idealized_ebeam_pattern(small_marker_pitch=5,\n",
    "                                                            bit_x_max = 36,bit_y_max = 15,pitch_bitm = 60)\n",
    "Hillary_ebeam_pattern = ct.add_striplines_to_img(Hillary_ebeam_pattern,stripline_width = 30,stripline_centre = [240+4,244+474])\n",
    "##### our entire ebeam pattern (excluding bondpads)\n",
    "ct.show_image(Hillary_and_line,size=20,no_col_bar=True)"
   ]
  },
  {
   "cell_type": "code",
   "execution_count": null,
   "metadata": {
    "collapsed": false
   },
   "outputs": [],
   "source": [
    "### do some fast image loading via numpy\n",
    "array2d = np.loadtxt(filename,delimiter='\\t',ndmin = 2)\n",
    "# show_image(array2d)\n",
    "array_prepared = ct.stamp_out_relevant_field_of_view(ct.apply_brightness_filter(array2d,0)) ## cut out background\n",
    "array_prepared = ct.rotate_image(array_prepared,90-2.3)#-1.36)\n",
    "\n",
    "### 70 is good for bit marker resolution\n",
    "### 60 is good for marker resolution\n",
    "# ct.show_image(array_prepared)\n",
    "laplacian = cv2.Laplacian(array_prepared,cv2.CV_64F,ksize=21)\n",
    "laplacian = (laplacian-(np.amax(laplacian)+np.amin(laplacian))/2.) ## centre around 0\n",
    "laplacian = 2*laplacian/(np.amax(laplacian)-np.amin(laplacian)) ## normalize to interval of -1 to 1\n",
    "# show_image(apply_brightness_filter(laplacian,-1.0,threshold_max= 0.2))\n",
    "filtered_laplacian = ct.apply_brightness_filter(laplacian,-1.0,threshold_max= 0.2)\n",
    "# ct.show_image(filtered_laplacian)\n",
    "# ct.make_binary(ct.rescale_to_8_bit_grayscale(array_prepared),120)\n",
    "# unfiltered_edges = cv2.Canny(ct.rescale_to_8_bit_grayscale(ct.make_binary(ct.rescale_to_8_bit_grayscale(array_prepared),150))\n",
    "#                                      ,100,185)\n",
    "ct.show_image(array_prepared,size =7,no_col_bar=True)"
   ]
  },
  {
   "cell_type": "code",
   "execution_count": null,
   "metadata": {
    "collapsed": false
   },
   "outputs": [],
   "source": [
    "reload(ct)\n",
    "im_with_keypoints,keypoints,laplace_8bit  = ct.find_marker_grid_via_blob_finder(filtered_laplacian,plot_histogram = False)\n",
    "\n",
    "ct.show_image(im_with_keypoints,size = 7,no_col_bar=False)"
   ]
  },
  {
   "cell_type": "code",
   "execution_count": null,
   "metadata": {
    "collapsed": false
   },
   "outputs": [],
   "source": [
    "avg_slope,avg_distance,x0,y0 = ct.estimate_grid_from_keypts(im_with_keypoints,keypoints,plot_fitted_lines = True)\n",
    "print 'angle is therefore: ', np.arctan(avg_slope)*180/np.pi\n",
    "ct.show_image(im_with_keypoints,size = 5)"
   ]
  },
  {
   "cell_type": "code",
   "execution_count": null,
   "metadata": {
    "collapsed": false
   },
   "outputs": [],
   "source": [
    "all_marker_pts = ct.get_grid_crossing_pts(x0,y0,avg_slope,avg_distance)\n",
    "filtered_img = ct.stamp_out_marker_grid_onto_im(laplace_8bit,all_marker_pts,5,show_images = False)\n",
    "ct.show_image(filtered_img)"
   ]
  },
  {
   "cell_type": "code",
   "execution_count": null,
   "metadata": {
    "collapsed": false
   },
   "outputs": [],
   "source": [
    "bit_x,bit_y = ct.find_bit_marker_in_image(filtered_img)\n",
    "cent_x,cent_y = np.shape(filtered_img)\n",
    "laserspot_x,laserspot_y = ct.distance_bitm_and_laserspot(bit_x,bit_y,cent_x,cent_y)\n",
    "print laserspot_x,laserspot_y"
   ]
  },
  {
   "cell_type": "code",
   "execution_count": null,
   "metadata": {
    "collapsed": false
   },
   "outputs": [],
   "source": [
    "reload(ct)\n",
    "binary_bit_marker = ct.zoom_in_on_bitmarker(array_prepared,bit_x,bit_y)\n",
    "ct.show_image(np.fliplr(binary_bit_marker))\n",
    "bitmarker_array = np.flipud(np.reshape(ct.get_bit_marker_array(binary_bit_marker),(4,4)))\n",
    "bitx,bity  = ct.get_bitm_xy_from_array(bitmarker_array)\n",
    "\n",
    "print bitx,bity\n",
    "ct.show_image(ct.pattern_zoom_on_bitm(Hillary_ebeam_pattern,bitx,bity,rel_size = 1.5,rel_shift_y = laserspot_x,rel_shift_x = laserspot_y),size=5,no_col_bar = True)"
   ]
  },
  {
   "cell_type": "code",
   "execution_count": null,
   "metadata": {
    "collapsed": false
   },
   "outputs": [],
   "source": [
    "reload(ct)\n",
    "Hillary_w_NV = ct.draw_spot_onto_pattern(Hillary_ebeam_pattern,2,bitx,bity,laserspot_y,laserspot_x)\n",
    "Zoom_on_NV = ct.pattern_zoom_on_bitm(Hillary_w_NV.astype(int),bitx,bity,rel_size = 1.5,rel_shift_y = laserspot_x,rel_shift_x = laserspot_y)\n",
    "ct.show_image(Zoom_on_NV,no_col_bar=True)"
   ]
  },
  {
   "cell_type": "code",
   "execution_count": null,
   "metadata": {
    "collapsed": false
   },
   "outputs": [],
   "source": [
    "ct.show_image(Hillary_w_NV,size=20,no_col_bar=True)"
   ]
  },
  {
   "cell_type": "code",
   "execution_count": null,
   "metadata": {
    "collapsed": true
   },
   "outputs": [],
   "source": []
  }
 ],
 "metadata": {
  "kernelspec": {
   "display_name": "Python 2",
   "language": "python",
   "name": "python2"
  },
  "language_info": {
   "codemirror_mode": {
    "name": "ipython",
    "version": 2
   },
   "file_extension": ".py",
   "mimetype": "text/x-python",
   "name": "python",
   "nbconvert_exporter": "python",
   "pygments_lexer": "ipython2",
   "version": "2.7.11"
  }
 },
 "nbformat": 4,
 "nbformat_minor": 0
}
