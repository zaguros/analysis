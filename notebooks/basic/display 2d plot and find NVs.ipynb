{
 "metadata": {
  "kernelspec": {
   "display_name": "Python 2",
   "language": "python",
   "name": "python2"
  },
  "language_info": {
   "codemirror_mode": {
    "name": "ipython",
    "version": 2
   },
   "file_extension": ".py",
   "mimetype": "text/x-python",
   "name": "python",
   "nbconvert_exporter": "python",
   "pygments_lexer": "ipython2",
   "version": "2.7.3"
  },
  "name": "",
  "signature": "sha256:5011401f127bb7bd0fc633286817b962cb117068e06736e953dac1a04f46f237"
 },
 "nbformat": 3,
 "nbformat_minor": 0,
 "worksheets": [
  {
   "cells": [
    {
     "cell_type": "code",
     "collapsed": false,
     "input": [
      "#execfile('d:/measuring/analysis/scripts/setup_analysis.py')\n",
      "execfile(r'H:/My documents/measuring/analysis/scripts/setup_analysis.py')\n",
      "datadir = r'K:\\ns\\qt\\Diamond\\Projects\\Cavities\\Cavity fab paper\\data\\20170210'\n",
      "import os \n",
      "\n",
      "\n",
      "import matplotlib.image as mpimg\n",
      "import matplotlib\n",
      "%matplotlib qt\n",
      "import msvcrt\n",
      "from IPython.display import Image\n",
      "plt.rcParams['axes.linewidth'] = 2\n",
      "plt.rcParams['font.size'] = 16\n",
      "\n"
     ],
     "language": "python",
     "metadata": {},
     "outputs": [],
     "prompt_number": 7
    },
    {
     "cell_type": "code",
     "collapsed": false,
     "input": [],
     "language": "python",
     "metadata": {},
     "outputs": [],
     "prompt_number": 7
    },
    {
     "cell_type": "code",
     "collapsed": false,
     "input": [
      "import analysis.scripts.Fabrication.Display_scan2d as ds\n",
      "reload(ds)"
     ],
     "language": "python",
     "metadata": {},
     "outputs": [
      {
       "metadata": {},
       "output_type": "pyout",
       "prompt_number": 8,
       "text": [
        "<module 'analysis.scripts.Fabrication.Display_scan2d' from 'h:/My Documents/measuring\\analysis\\scripts\\Fabrication\\Display_scan2d.pyc'>"
       ]
      }
     ],
     "prompt_number": 8
    },
    {
     "cell_type": "code",
     "collapsed": false,
     "input": [
      "folder = datadir+'/124824_scan2d_Sirius_overview'\n",
      "print folder\n",
      "d = ds.DisplayScanFlim(folder)\n",
      "#d.get_data()\n",
      "#d.plot_data(folder,save=False)#, vmin=0,vmax=1000)"
     ],
     "language": "python",
     "metadata": {},
     "outputs": [
      {
       "ename": "SyntaxError",
       "evalue": "invalid syntax (<ipython-input-11-11049f51fa36>, line 1)",
       "output_type": "pyerr",
       "traceback": [
        "\u001b[1;36m  File \u001b[1;32m\"<ipython-input-11-11049f51fa36>\"\u001b[1;36m, line \u001b[1;32m1\u001b[0m\n\u001b[1;33m    folder = datadir+'_Sirius_overview')\u001b[0m\n\u001b[1;37m                                       ^\u001b[0m\n\u001b[1;31mSyntaxError\u001b[0m\u001b[1;31m:\u001b[0m invalid syntax\n"
       ]
      }
     ],
     "prompt_number": 11
    },
    {
     "cell_type": "code",
     "collapsed": false,
     "input": [
      "%matplotlib inline\n",
      "font = {'size'   : 16}\n",
      "\n",
      "matplotlib.rc('font', **font)\n",
      "\n",
      "reload(ds)\n",
      "nr_of_scans = 1\n",
      "older_than= None#'20170202090000'#'20160906154100'#'20160804140300'#None#'20160901161555'\n",
      "\n",
      "for i in range(nr_of_scans):\n",
      "    timestamp,folder = tb.latest_data(contains='scan2d', older_than = older_than,return_timestamp=True)\n",
      "    print timestamp\n",
      "    older_than=timestamp\n",
      "    d = ds.DisplayScanFlim(folder)\n",
      "    d.get_data()\n",
      "    print 'average counts',np.average(d.countrates)\n",
      "    f=d.plot_data(folder,save=True, colormap='gist_earth')#, vmin=0,vmax=50000)\n",
      "    d.finish()\n",
      "    #ax.savefig(os.path.join(folder, timestamp+'_2Dplot_damage_Sophie.pdf'))\n",
      "    \n",
      "    \n",
      "\n",
      "\n",
      "    "
     ],
     "language": "python",
     "metadata": {},
     "outputs": [
      {
       "ename": "NameError",
       "evalue": "name 'matplotlib' is not defined",
       "output_type": "pyerr",
       "traceback": [
        "\u001b[1;31m---------------------------------------------------------------------------\u001b[0m\n\u001b[1;31mNameError\u001b[0m                                 Traceback (most recent call last)",
        "\u001b[1;32m<ipython-input-1-d4af5447d057>\u001b[0m in \u001b[0;36m<module>\u001b[1;34m()\u001b[0m\n\u001b[0;32m      2\u001b[0m \u001b[0mfont\u001b[0m \u001b[1;33m=\u001b[0m \u001b[1;33m{\u001b[0m\u001b[1;34m'size'\u001b[0m   \u001b[1;33m:\u001b[0m \u001b[1;36m16\u001b[0m\u001b[1;33m}\u001b[0m\u001b[1;33m\u001b[0m\u001b[0m\n\u001b[0;32m      3\u001b[0m \u001b[1;33m\u001b[0m\u001b[0m\n\u001b[1;32m----> 4\u001b[1;33m \u001b[0mmatplotlib\u001b[0m\u001b[1;33m.\u001b[0m\u001b[0mrc\u001b[0m\u001b[1;33m(\u001b[0m\u001b[1;34m'font'\u001b[0m\u001b[1;33m,\u001b[0m \u001b[1;33m**\u001b[0m\u001b[0mfont\u001b[0m\u001b[1;33m)\u001b[0m\u001b[1;33m\u001b[0m\u001b[0m\n\u001b[0m\u001b[0;32m      5\u001b[0m \u001b[1;33m\u001b[0m\u001b[0m\n\u001b[0;32m      6\u001b[0m \u001b[0mreload\u001b[0m\u001b[1;33m(\u001b[0m\u001b[0mds\u001b[0m\u001b[1;33m)\u001b[0m\u001b[1;33m\u001b[0m\u001b[0m\n",
        "\u001b[1;31mNameError\u001b[0m: name 'matplotlib' is not defined"
       ]
      }
     ],
     "prompt_number": 1
    },
    {
     "cell_type": "code",
     "collapsed": false,
     "input": [
      "older_than=None#'20160804140300'#None#'20160901161555'\n",
      "folder = tb.latest_data(contains='scan2d', older_than = older_than)\n",
      "print folder\n",
      "d = ds.DisplayScanFlim(folder)\n",
      "d.get_data()\n",
      "d.plot_data(folder,save=False)#, vmin=0,vmax=1000)\n",
      "d.get_flim_data()\n",
      "d.plot_flim_data('testflim', save=False, rmin=150,rmax=240, raw=True)#, vmax=900)"
     ],
     "language": "python",
     "metadata": {
      "scrolled": true
     },
     "outputs": [],
     "prompt_number": null
    },
    {
     "cell_type": "code",
     "collapsed": false,
     "input": [
      "ax=d.plot_flim_hist('test', save=False, xmin=0, xmax =71, ymin =0, ymax = 71)\n",
      "#x= d.flim_data[:,0,0]\n",
      "#ax.set_xlim(0,600)\n",
      "#ax.set_ylim(1,500)\n",
      "ax.vlines([120], ymin=ax.get_ylim()[0], ymax=ax.get_ylim()[1])\n",
      "#np.where(d.flim_data_raw==np.max(d.flim_data_raw))\n"
     ],
     "language": "python",
     "metadata": {},
     "outputs": [],
     "prompt_number": null
    },
    {
     "cell_type": "code",
     "collapsed": true,
     "input": [
      "#from ipywidgets import interact\n",
      "#from IPython.html.widgets import interact\n",
      "#def plot_2dscan(vmin,vmax):\n",
      "    #d.plot_data('test',save=False)#, vmin=0,vmax=15000)\n",
      "#interact(plot_2dscan, vmin=(0,20000,2000), vmax=(0,20000,2000))\n",
      "#plot_2dscan(10,20000) "
     ],
     "language": "python",
     "metadata": {},
     "outputs": [],
     "prompt_number": null
    },
    {
     "cell_type": "code",
     "collapsed": false,
     "input": [
      "reload(ds)\n",
      "\n",
      "newer_than='20160720192250'\n",
      "older_than='20160720203946'\n",
      "# l=0\n",
      "\n",
      "search_dir = 'D:/measuring/data/20160719'\n",
      "print os.listdir(search_dir)\n",
      "all_measdirs = [d for d in os.listdir(search_dir) ]\n",
      "all_measdirs.sort() # get a sorted list of all measurements on that day\n",
      "\n",
      "while older_than > newer_than:\n",
      "    timestamp,folder = tb.latest_data(contains='scan2d', older_than = older_than,return_timestamp=True)\n",
      "    older_than=timestamp\n",
      "\n",
      "# for d in all_measdirs:\n",
      "#     if 'scan2d' in d:\n",
      "#         folder = os.path.join(search_dir,d)\n",
      "#         print folder\n",
      "    #     l+=1\n",
      "    #     if l>3:\n",
      "    #         break\n",
      "    #     timestamp,folder = tb.latest_data('scan2d',older_than=older_than,return_timestamp=True)#'x=-30,y=55')\n",
      "    #     older_than=timestamp\n",
      "    d = ds.DisplayScan(folder)\n",
      "    good_NVs = d.get_good_NVs_only()\n",
      "\n",
      "    print 39*'**'\n",
      "    if 'bleaching' in folder:\n",
      "        print '**new position****************************************************************'\n",
      "        print '**%s******************************************************************'%(folder[57:67])\n",
      "        print '******************************************************************************'\n",
      "        d.get_data()\n",
      "        d.plot_data(folder)\n",
      "\n",
      "    else: \n",
      "        print 'under surface: %s'%folder[-6:]\n",
      "        print timestamp\n",
      "        print '******************************************************************************'\n",
      "\n",
      "    for i in good_NVs:\n",
      "\n",
      "        dict = d.get_NV_information(i)\n",
      "        print ''\n",
      "        print '**NV %d*************'%(i)\n",
      "        for j in dict:\n",
      "            print '%s\\t\\t%.1f \\t+-%.2f'%(j, dict[j][0], dict[j][1])\n",
      "\n",
      "\n",
      "        for file in os.listdir(folder):\n",
      "            if file.endswith(\".png\"):\n",
      "                if 'NV_%d_'%(i) in file:\n",
      "                    filename = os.path.join(folder,file)\n",
      "                    img = mpimg.imread(filename)\n",
      "                    plt.imshow(img)\n",
      "                    plt.axis('off')\n",
      "                    plt.show()\n",
      "\n"
     ],
     "language": "python",
     "metadata": {},
     "outputs": [],
     "prompt_number": null
    },
    {
     "cell_type": "code",
     "collapsed": false,
     "input": [],
     "language": "python",
     "metadata": {},
     "outputs": [],
     "prompt_number": null
    },
    {
     "cell_type": "code",
     "collapsed": false,
     "input": [
      "reload(ds)\n",
      "# search_dir = 'D:/measuring/data/20160719'\n",
      "# print os.listdir(search_dir)\n",
      "# all_measdirs = [d for d in os.listdir(search_dir) ]\n",
      "# all_measdirs.sort() # get a sorted list of all measurements on that day\n",
      "\n",
      "\n",
      "\n",
      "newer_than='20160727161900'\n",
      "older_than='20160728085100'\n",
      "\n",
      "while older_than > newer_than:\n",
      "    timestamp,folder = tb.latest_data(contains='scan2d', older_than = older_than,return_timestamp=True)\n",
      "    older_than=timestamp\n",
      "\n",
      "\n",
      "\n",
      "# for d in all_measdirs:\n",
      "#     if 'scan2d' in d:\n",
      "#         folder = os.path.join(search_dir,d)\n",
      "#         if '181457' in d:\n",
      "#              continue\n",
      "    print folder\n",
      "    d = ds.DisplayScan(folder)\n",
      "    x,y,data = d.get_data()\n",
      "    d.plot_data(folder, use_save_location=False)#save_location=save_location,\n",
      "    NVs = d.find_NV_locations(save_NVs = True, print_udpate=True)\n",
      "    d.plot_NV_locations(print_NV_data=True)\n",
      "    d.zoom_around_NV()\n"
     ],
     "language": "python",
     "metadata": {},
     "outputs": [],
     "prompt_number": null
    },
    {
     "cell_type": "code",
     "collapsed": false,
     "input": [
      "older_than = '20160719060000'\n",
      "newer_than = '20160719000000' #'20160718144114'\n",
      "l=0\n",
      "\n",
      "while older_than > newer_than:\n",
      "    l = l+1\n",
      "    timestamp,folder = tb.latest_data(contains='scan2d', older_than = older_than,return_timestamp=True)\n",
      "    filename = tb.get_measurement_name_from_folder(folder)\n",
      "    older_than=timestamp\n",
      "    \n",
      "    print 'time_NVs[\\'%s\\']=() #%s'%(timestamp,filename)\n",
      "    \n",
      "    "
     ],
     "language": "python",
     "metadata": {},
     "outputs": [],
     "prompt_number": null
    },
    {
     "cell_type": "code",
     "collapsed": false,
     "input": [
      "print folder\n",
      "print folder[-4:]"
     ],
     "language": "python",
     "metadata": {},
     "outputs": [],
     "prompt_number": null
    },
    {
     "cell_type": "code",
     "collapsed": true,
     "input": [
      "steps=20.\n",
      "step = (66-56)/steps\n",
      "z = 56\n",
      "for x in range(int(steps)):\n",
      "    print z\n",
      "    z = z +step\n",
      "    \n"
     ],
     "language": "python",
     "metadata": {},
     "outputs": [],
     "prompt_number": null
    },
    {
     "cell_type": "code",
     "collapsed": false,
     "input": [
      "import win32clipboard\n",
      "from cStringIO import StringIO\n",
      "def send_to_clipboard(clip_type, data):\n",
      "    win32clipboard.OpenClipboard()\n",
      "    win32clipboard.EmptyClipboard()\n",
      "    win32clipboard.SetClipboardData(clip_type, data)\n",
      "    win32clipboard.CloseClipboard()\n",
      "output = StringIO()\n",
      "f.savefig(output, format='bmp')\n",
      "data = output.getvalue()[:14]\n",
      "output.close()\n",
      "send_to_clipboard(win32clipboard.CF_DIB, data)"
     ],
     "language": "python",
     "metadata": {},
     "outputs": [],
     "prompt_number": null
    }
   ],
   "metadata": {}
  }
 ]
}