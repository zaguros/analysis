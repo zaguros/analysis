{
 "cells": [
  {
   "cell_type": "code",
   "execution_count": null,
   "metadata": {
    "collapsed": false
   },
   "outputs": [],
   "source": [
    "#execfile('d:/measuring/analysis/scripts/setup_analysis.py')\n",
    "import sys\n",
    "sys.path.append(\"d:/measuring\")\n",
    "import matplotlib.image as mpimg\n",
    "import matplotlib.pyplot as plt\n",
    "#%matplotlib inline\n",
    "%matplotlib qt\n",
    "\n",
    "#from IPython.display import Image\n",
    "\n",
    "import os\n"
   ]
  },
  {
   "cell_type": "code",
   "execution_count": null,
   "metadata": {
    "collapsed": false
   },
   "outputs": [],
   "source": [
    "print 'a'"
   ]
  },
  {
   "cell_type": "code",
   "execution_count": null,
   "metadata": {
    "collapsed": false
   },
   "outputs": [],
   "source": [
    "import analysis.scripts.Fabrication.Display_scan2d as ds\n",
    "reload(ds)"
   ]
  },
  {
   "cell_type": "code",
   "execution_count": null,
   "metadata": {
    "collapsed": false,
    "scrolled": false
   },
   "outputs": [],
   "source": [
    "reload(ds)\n",
    "folder =r'd:\\measuring\\data\\20161216/052536_scan2d_Frodo_NVsearch_focus=48um_zrel=3.0_um'\n",
    "print folder#052536_scan2d_Frodo_NVsearch_focus=48um_zrel=3.0_um\n",
    "d = ds.DisplayScan(folder)\n",
    "d.get_data()\n",
    "fig,ax=d.plot_data(folder,save=True, grid=False, colormap='gist_earth', figsize=(12,12))#,vmax=60000)#,vmax=30000)#, vmin=380000,vmax=480000)\n"
   ]
  },
  {
   "cell_type": "code",
   "execution_count": null,
   "metadata": {
    "collapsed": false,
    "scrolled": false
   },
   "outputs": [],
   "source": [
    "% matplotlib inline\n",
    "plt.rcParams['font.size'] = 18\n",
    "rmin = 1170\n",
    "rmax = 2500\n",
    "nr_of_scans =4\n",
    "\n",
    "older_than=None#None#20160922182032'#None#'20160906154100'#'20160804140300'#None#'20160901161555'\n",
    "for i in range(nr_of_scans):\n",
    "    timestamp,folder = tb.latest_data(contains='scan2d', older_than = older_than,return_timestamp=True)\n",
    "    print(folder)\n",
    "    older_than=timestamp\n",
    "    a = ds.DisplayScan(folder)\n",
    "    a.get_data()\n",
    "    fig = a.plot_data(folder,save=True, grid=False, colormap='gist_earth', figsize=(8,8))\n",
    "\n",
    "    #d = ds.DisplayScanFlim(folder)\n",
    "    #d.get_flim_data()\n",
    "    #fig=d.plot_flim_data(folder,save=True, grid=False, colormap='gist_earth',figsize=(8,8), raw = True, rmin = rmin, rmax = rmax)#, vmin=380000,vmax=480000)"
   ]
  },
  {
   "cell_type": "code",
   "execution_count": null,
   "metadata": {
    "collapsed": false,
    "scrolled": true
   },
   "outputs": [],
   "source": [
    "## show PH300 data\n",
    "reload(common)\n",
    "#%matplotlib inline\n",
    "filename='093500_Harry_scan3_spot1_lifetime'\n",
    "#bg_filename='093100_Harry_scan2_spot2_bg_lifetime'\n",
    "resolution = 16 #ps\n",
    "y=np.loadtxt('D:\\measuring\\data/20161214/'+filename+'/'+filename+'.csv')    \n",
    "#y_bg=np.loadtxt('D:\\measuring\\data/20161128/'+bg_filename+'/'+bg_filename+'.csv')    \n",
    "x=np.linspace(0,resolution/1000.*(len(y)-1),len(y))#in ns\n",
    "cut_first=70\n",
    "cut_last=2000\n",
    "\n",
    "x=x[cut_first:cut_last]\n",
    "y=y[cut_first:cut_last]\n",
    "#y_bg=y_bg[cut_first:cut_last]\n",
    "\n",
    "\n",
    "plt.figure(1)\n",
    "\n",
    "plt.plot(x,y,label='y')\n",
    "#plt.plot(x,y_bg*10,label='background')\n",
    "#plt.plot(x,y-y_bg*10,label='y-background')\n",
    "plt.legend()\n",
    "plt.close()\n",
    "\n",
    "\n",
    "fig,ax=plt.subplots()\n",
    "g_a = 0.\n",
    "g_A = 20\n",
    "g_A2=20.\n",
    "g_tau=10.\n",
    "g_tau2=0.1\n",
    "g_x0= x[0]\n",
    "fixed=[]\n",
    "#p0, fitfunc, fitfunc_str = common.fit_exp_decay_with_offset(g_a,g_A,g_tau)\n",
    "p0, fitfunc, fitfunc_str = common.fit_double_exp_decay_with_offset(g_a,g_A,g_tau,g_A2,g_tau2)\n",
    "\n",
    "\n",
    "fit_result = fit.fit1d(x,y, None, p0=p0, fitfunc=fitfunc,\n",
    "        fitfunc_str=fitfunc_str, do_print=True, ret=True,fixed=fixed)\n",
    "plot.plot_fit1d(fit_result, np.linspace(x[0],x[-1],401), ax=ax,\n",
    "        plot_data=True)\n",
    "ax.set_yscale(\"log\")\n",
    "ax.set_title(filename)\n",
    "ax.set_xlabel('time (ns)')\n",
    "ax.set_ylabel('counts')"
   ]
  },
  {
   "cell_type": "code",
   "execution_count": null,
   "metadata": {
    "collapsed": false
   },
   "outputs": [],
   "source": [
    "print folder"
   ]
  },
  {
   "cell_type": "markdown",
   "metadata": {
    "collapsed": false,
    "scrolled": false
   },
   "source": [
    "\n",
    "folder = tb.latest_data(contains='scan2d', older_than = older_than)\n",
    "print folder\n",
    "d = ds.DisplayScanFlim(folder)\n",
    "d.get_data()\n",
    "d.plot_data(folder,save=False)#, vmin=0,vmax=1000)\n",
    "d.get_flim_data()\n",
    "d.plot_flim_data('testflim', save=False, rmin=150,rmax=240, raw=True)#, vmax=900)"
   ]
  },
  {
   "cell_type": "code",
   "execution_count": null,
   "metadata": {
    "collapsed": false
   },
   "outputs": [],
   "source": [
    "folder1 = r'K:\\ns\\qt\\Diamond\\Samples\\Cavity samples\\2016-06 Sophie'\n",
    "\n",
    "ax = d.plot_flim_hist('test', save=True)#, xmin=0, xmax =71, ymin =0, ymax = 71)\n",
    "#x= d.flim_data[:,0,0]\n",
    "ax.set_xlim(1100,2300)\n",
    "xticklabels = np.linspace(1100/10,2300/10,13)\n",
    "\n",
    "# xticklabels_round=[]\n",
    "# for j in xticklabels:\n",
    "#     round_ = round(j,3)\n",
    "#     xticklabels_round = np.append(xticklabels_round,round_)\n",
    "\n",
    "ax.set_xticklabels(xticklabels.astype(int))\n",
    "ax.set_xlabel('Time (ns)', fontsize = '18')\n",
    "ax.set_ylabel('Counts per pulse x 1e4', fontsize = '18', fontweight = 'normal')\n",
    "\n",
    "#ax.set_ylim(1,500)\n",
    "ax.vlines([1170], ymin=ax.get_ylim()[0], ymax=ax.get_ylim()[1])\n",
    "ax.text(.15, .85, 'cut-off: 2 ns after pulse', color='black',fontweight = 'bold', fontsize = 18 , \n",
    "        bbox=dict(facecolor='none', edgecolor='black'), horizontalalignment='left', transform=ax.transAxes)\n",
    "#np.where(d.flim_data_raw==np.max(d.flim_data_raw))\n",
    "\n",
    "\n",
    "#fig.savefig(os.path.join(folder,'_histflim.png'))\n",
    "   \n",
    "\n",
    "#plt.savefig(os.path.join(folder1, timestamp+'_Flim_hist.png'))"
   ]
  },
  {
   "cell_type": "code",
   "execution_count": null,
   "metadata": {
    "collapsed": true
   },
   "outputs": [],
   "source": [
    "#from ipywidgets import interact\n",
    "#from IPython.html.widgets import interact\n",
    "#def plot_2dscan(vmin,vmax):\n",
    "    #d.plot_data('test',save=False)#, vmin=0,vmax=15000)\n",
    "#interact(plot_2dscan, vmin=(0,20000,2000), vmax=(0,20000,2000))\n",
    "#plot_2dscan(10,20000) "
   ]
  },
  {
   "cell_type": "code",
   "execution_count": null,
   "metadata": {
    "collapsed": false
   },
   "outputs": [],
   "source": [
    "reload(ds)\n",
    "\n",
    "newer_than='20160720192250'\n",
    "older_than='20160720203946'\n",
    "# l=0\n",
    "\n",
    "search_dir = 'D:/measuring/data/20160719'\n",
    "print os.listdir(search_dir)\n",
    "all_measdirs = [d for d in os.listdir(search_dir) ]\n",
    "all_measdirs.sort() # get a sorted list of all measurements on that day\n",
    "\n",
    "while older_than > newer_than:\n",
    "    timestamp,folder = tb.latest_data(contains='scan2d', older_than = older_than,return_timestamp=True)\n",
    "    older_than=timestamp\n",
    "\n",
    "# for d in all_measdirs:\n",
    "#     if 'scan2d' in d:\n",
    "#         folder = os.path.join(search_dir,d)\n",
    "#         print folder\n",
    "    #     l+=1\n",
    "    #     if l>3:\n",
    "    #         break\n",
    "    #     timestamp,folder = tb.latest_data('scan2d',older_than=older_than,return_timestamp=True)#'x=-30,y=55')\n",
    "    #     older_than=timestamp\n",
    "    d = ds.DisplayScan(folder)\n",
    "    good_NVs = d.get_good_NVs_only()\n",
    "\n",
    "    print 39*'**'\n",
    "    if 'bleaching' in folder:\n",
    "        print '**new position****************************************************************'\n",
    "        print '**%s******************************************************************'%(folder[57:67])\n",
    "        print '******************************************************************************'\n",
    "        d.get_data()\n",
    "        d.plot_data(folder)\n",
    "\n",
    "    else: \n",
    "        print 'under surface: %s'%folder[-6:]\n",
    "        print timestamp\n",
    "        print '******************************************************************************'\n",
    "\n",
    "    for i in good_NVs:\n",
    "\n",
    "        dict = d.get_NV_information(i)\n",
    "        print ''\n",
    "        print '**NV %d*************'%(i)\n",
    "        for j in dict:\n",
    "            print '%s\\t\\t%.1f \\t+-%.2f'%(j, dict[j][0], dict[j][1])\n",
    "\n",
    "\n",
    "        for file in os.listdir(folder):\n",
    "            if file.endswith(\".png\"):\n",
    "                if 'NV_%d_'%(i) in file:\n",
    "                    filename = os.path.join(folder,file)\n",
    "                    img = mpimg.imread(filename)\n",
    "                    plt.imshow(img)\n",
    "                    plt.axis('off')\n",
    "                    plt.show()\n",
    "\n"
   ]
  },
  {
   "cell_type": "code",
   "execution_count": null,
   "metadata": {
    "collapsed": false
   },
   "outputs": [],
   "source": [
    "folder='d:\\measuring\\data/20161116/232340_scan2d_Harry_NVsearch_focus=25.0um_zrel=0.5_um'\n",
    "reload(ds)\n",
    "print folder\n",
    "d = ds.DisplayScan(folder)\n",
    "x,y,data = d.get_data()\n",
    "d.plot_data(folder, use_save_location=False)#save_location=save_location,\n",
    "NVs = d.find_NV_locations(save_NVs = True, print_udpate=True)\n",
    "d.plot_NV_locations(print_NV_data=True)\n",
    "d.zoom_around_NV()"
   ]
  },
  {
   "cell_type": "code",
   "execution_count": null,
   "metadata": {
    "collapsed": false
   },
   "outputs": [],
   "source": [
    "reload(ds)\n",
    "# search_dir = 'D:/measuring/data/20160719'\n",
    "# print os.listdir(search_dir)\n",
    "# all_measdirs = [d for d in os.listdir(search_dir) ]\n",
    "# all_measdirs.sort() # get a sorted list of all measurements on that day\n",
    "\n",
    "\n",
    "\n",
    "newer_than='20160727161900'\n",
    "older_than='20160728085100'\n",
    "\n",
    "while older_than > newer_than:\n",
    "    timestamp,folder = tb.latest_data(contains='scan2d', older_than = older_than,return_timestamp=True)\n",
    "    older_than=timestamp\n",
    "\n",
    "\n",
    "\n",
    "# for d in all_measdirs:\n",
    "#     if 'scan2d' in d:\n",
    "#         folder = os.path.join(search_dir,d)\n",
    "#         if '181457' in d:\n",
    "#              continue\n",
    "    print folder\n",
    "    d = ds.DisplayScan(folder)\n",
    "    x,y,data = d.get_data()\n",
    "    d.plot_data(folder, use_save_location=False)#save_location=save_location,\n",
    "    NVs = d.find_NV_locations(save_NVs = True, print_udpate=True)\n",
    "    d.plot_NV_locations(print_NV_data=True)\n",
    "    d.zoom_around_NV()\n"
   ]
  },
  {
   "cell_type": "code",
   "execution_count": null,
   "metadata": {
    "collapsed": false
   },
   "outputs": [],
   "source": [
    "older_than = '20160719060000'\n",
    "newer_than = '20160719000000' #'20160718144114'\n",
    "l=0\n",
    "\n",
    "while older_than > newer_than:\n",
    "    l = l+1\n",
    "    timestamp,folder = tb.latest_data(contains='scan2d', older_than = older_than,return_timestamp=True)\n",
    "    filename = tb.get_measurement_name_from_folder(folder)\n",
    "    older_than=timestamp\n",
    "    \n",
    "    print 'time_NVs[\\'%s\\']=() #%s'%(timestamp,filename)\n",
    "    \n",
    "    "
   ]
  },
  {
   "cell_type": "code",
   "execution_count": null,
   "metadata": {
    "collapsed": false
   },
   "outputs": [],
   "source": [
    "print folder\n",
    "print folder[-4:]"
   ]
  },
  {
   "cell_type": "code",
   "execution_count": null,
   "metadata": {
    "collapsed": true
   },
   "outputs": [],
   "source": [
    "steps=20.\n",
    "step = (66-56)/steps\n",
    "z = 56\n",
    "for x in range(int(steps)):\n",
    "    print z\n",
    "    z = z +step\n",
    "    \n"
   ]
  },
  {
   "cell_type": "code",
   "execution_count": null,
   "metadata": {
    "collapsed": false
   },
   "outputs": [],
   "source": [
    "import win32clipboard\n",
    "from cStringIO import StringIO\n",
    "def send_to_clipboard(clip_type, data):\n",
    "    win32clipboard.OpenClipboard()\n",
    "    win32clipboard.EmptyClipboard()\n",
    "    win32clipboard.SetClipboardData(clip_type, data)\n",
    "    win32clipboard.CloseClipboard()\n",
    "output = StringIO()\n",
    "f.savefig(output, format='bmp')\n",
    "data = output.getvalue()[:14]\n",
    "output.close()\n",
    "send_to_clipboard(win32clipboard.CF_DIB, data)"
   ]
  }
 ],
 "metadata": {
  "kernelspec": {
   "display_name": "Python 2",
   "language": "python",
   "name": "python2"
  },
  "language_info": {
   "codemirror_mode": {
    "name": "ipython",
    "version": 2
   },
   "file_extension": ".py",
   "mimetype": "text/x-python",
   "name": "python",
   "nbconvert_exporter": "python",
   "pygments_lexer": "ipython2",
   "version": "2.7.3"
  }
 },
 "nbformat": 4,
 "nbformat_minor": 0
}
