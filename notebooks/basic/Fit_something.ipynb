{
 "cells": [
  {
   "cell_type": "code",
   "execution_count": null,
   "metadata": {
    "collapsed": false
   },
   "outputs": [],
   "source": [
    "execfile(r'D:\\measuring\\analysis\\scripts\\setup_analysis.py')\n",
    "from analysis.lib.fitting import fit, common,esr\n",
    "import inspect\n",
    "%matplotlib inline"
   ]
  },
  {
   "cell_type": "code",
   "execution_count": null,
   "metadata": {
    "collapsed": false
   },
   "outputs": [],
   "source": [
    "#d1=np.loadtxt(r'D:\\measuring\\data\\20150318\\115243_Saturation_curve_Pippin_SIL1_PSB_PQ01018115\\115243_Saturation_curve_Pippin_SIL1_PSB_PQ01018115.dat', skiprows=4)\n",
    "#d2=np.loadtxt(r'D:\\measuring\\data\\20150318\\115942_Saturation_curve_Pippin_SIL1_PSB_PQ01023273\\115942_Saturation_curve_Pippin_SIL1_PSB_PQ01023273.dat', skiprows=4)\n",
    "d= np.loadtxt(r'D:\\measuring\\data\\20160927\\180213_laser_scan_Harry_Scan2_NV1_g_1.0_r_30.0')"
   ]
  },
  {
   "cell_type": "code",
   "execution_count": null,
   "metadata": {
    "collapsed": false
   },
   "outputs": [],
   "source": [
    "y2=d[:,0]\n",
    "y=d[:,1]\n",
    "x=np.arange(len(y))*0.128+5419"
   ]
  },
  {
   "cell_type": "code",
   "execution_count": null,
   "metadata": {
    "collapsed": false
   },
   "outputs": [],
   "source": [
    "f = common.fit_exp_decay_shifted_with_offset\n",
    "args=np.arange(len(inspect.getargspec(f)[0]))\n",
    "print f(*args)[2]\n",
    "print inspect.getargspec(f)[0]"
   ]
  },
  {
   "cell_type": "code",
   "execution_count": null,
   "metadata": {
    "collapsed": false
   },
   "outputs": [],
   "source": [
    "args=[0,100,5424,1.]\n",
    "fitres = fit.fit1d(x, y, f,*args, fixed = [0],\n",
    "                   do_print = True, ret = True, maxfev=100)"
   ]
  },
  {
   "cell_type": "code",
   "execution_count": null,
   "metadata": {
    "collapsed": false
   },
   "outputs": [],
   "source": [
    "p1 = fitres['params_dict']\n",
    "plt.plot(x,y, 'o')\n",
    "plot_pts=100\n",
    "x_p=np.linspace(min(x),max(x),plot_pts)\n",
    "if fitres['success']:\n",
    "    f_p = fitres['fitfunc'](x_p)\n",
    "    plt.plot(x_p,f_p)\n",
    "f_g = f(*args)[1](x_p)\n",
    "plt.plot(x_p,f_g)"
   ]
  },
  {
   "cell_type": "code",
   "execution_count": null,
   "metadata": {
    "collapsed": false
   },
   "outputs": [],
   "source": [
    "x0=p1['x0']\n",
    "sigma = p1['sigma']\n",
    "a=0\n",
    "A = p1['A']\n",
    "fA=np.linspace(10,100,100)\n",
    "yy=x0+np.sqrt(2)*np.sqrt(sigma**2*np.log(fA))\n",
    "plt.plot(fA,yy)"
   ]
  },
  {
   "cell_type": "raw",
   "metadata": {},
   "source": [
    "---------------"
   ]
  },
  {
   "cell_type": "code",
   "execution_count": null,
   "metadata": {
    "collapsed": false
   },
   "outputs": [],
   "source": [
    "fit_functions = [f for _, f in common.__dict__.iteritems() if callable(f)]\n",
    "for f in fit_functions:\n",
    "    try:\n",
    "        args=arange(len(inspect.getargspec(f)[0]))\n",
    "        print f.__name__,':  ', \n",
    "        print f(*args)[2]\n",
    "        print inspect.getargspec(f)[0]\n",
    "        print '-'*\n",
    "    except:\n",
    "        continue"
   ]
  },
  {
   "cell_type": "code",
   "execution_count": null,
   "metadata": {
    "collapsed": false
   },
   "outputs": [],
   "source": [
    "import os, sys\n",
    "import numpy as np\n",
    "import h5py\n",
    "import logging\n",
    "%matplotlib inline\n",
    "from matplotlib import pyplot as plt\n",
    "#from lib import fitting\n",
    "#from measurement.lib.fitting import fit, common\n",
    "#from analysis.lib.fitting import fit\n",
    "from measurement.lib.tools import toolbox\n",
    "from analysis.lib.m2 import m2\n",
    "from analysis.lib.tools import plot\n",
    "\n",
    "\n",
    "name='180213_laser_scan_Harry_Scan2_NV1_g_1.0_r_30.0'\n",
    "\n",
    "V,x_dat,y_dat = np.loadtxt(r'D:/measuring/data/20160927/' + name + '.dat',unpack=True)\n",
    "print V, x_dat, y_dat\n",
    "x=x_dat[240:360]\n",
    "y=y_dat[240:360]\n",
    "\n",
    "a = fit.Parameter(40000, 'a')\n",
    "of = fit.Parameter(800,'of')\n",
    "f = fit.Parameter(57.2, 'f')\n",
    "s = fit.Parameter(0.2, 's')\n",
    "a2 = fit.Parameter(-20000, 'a2')\n",
    "f2 = fit.Parameter(57.1, 'f2')\n",
    "s2 = fit.Parameter(0.2, 's2')\n",
    "\n",
    "fitfunc_str = 'of + a*exp(-(x-f)^2/2s^2)+  a*exp(-(x-f)^2/2s^2)'\n",
    "\n",
    "def fitfunc(x):\n",
    "    return of() + a() * np.exp( -(x - f())**2./(2.*s()**2.)) \\\n",
    "            + a2() * np.exp( -(x - f2())**2./(2.*s2()**2.))\n",
    "\n",
    "#def fitfunc(x):\n",
    "#    return of() + 1./(pi*s()*(1+((x-f())/s())**2))\n",
    "\n",
    "\n",
    "fig = plt.figure()\n",
    "ax = fig.add_subplot(111)\n",
    "    \n",
    "fit_result = fit.fit1d(x,y, None, p0=[a,of,f,s,a2,f2,s2], fitfunc=fitfunc,\n",
    "        fitfunc_str=fitfunc_str, do_print=True, ret=True)\n",
    "plot.plot_fit1d(fit_result, np.linspace(x[0],x[-1],401), ax=ax,\n",
    "        plot_data=True)\n",
    "\n",
    "ax.set_xlabel('frequency (GHz)')\n",
    "\n",
    "\n",
    "\n"
   ]
  },
  {
   "cell_type": "code",
   "execution_count": null,
   "metadata": {
    "collapsed": false
   },
   "outputs": [],
   "source": []
  },
  {
   "cell_type": "code",
   "execution_count": null,
   "metadata": {
    "collapsed": true
   },
   "outputs": [],
   "source": []
  }
 ],
 "metadata": {
  "kernelspec": {
   "display_name": "Python 2",
   "language": "python",
   "name": "python2"
  },
  "language_info": {
   "codemirror_mode": {
    "name": "ipython",
    "version": 2
   },
   "file_extension": ".py",
   "mimetype": "text/x-python",
   "name": "python",
   "nbconvert_exporter": "python",
   "pygments_lexer": "ipython2",
   "version": "2.7.3"
  }
 },
 "nbformat": 4,
 "nbformat_minor": 0
}
