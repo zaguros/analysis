{
 "cells": [
  {
   "cell_type": "code",
   "execution_count": null,
   "metadata": {
    "collapsed": false
   },
   "outputs": [],
   "source": [
    "execfile('d:/measuring/analysis/scripts/setup_analysis.py')\n",
    "%matplotlib inline\n",
    "import matplotlib\n",
    "import time"
   ]
  },
  {
   "cell_type": "markdown",
   "metadata": {},
   "source": [
    "# analyse data tracked during step & stabilize measurement"
   ]
  },
  {
   "cell_type": "code",
   "execution_count": null,
   "metadata": {
    "collapsed": false
   },
   "outputs": [],
   "source": [
    "folder= tb.latest_data('step_and_stable',older_than=None)#,older_than='20171228155500')#r'D:\\measuring\\data\\20171207\\135353_pidcavl'\n",
    "#r'D:\\measuring\\data\\20171207\\133039_pidcavl'#r'D:\\measuring\\data\\20171207\\130217_pidcavl'#r'D:\\measuring\\data\\20171206\\171035_pidcavl'\n",
    "d = np.loadtxt(tb.get_msmt_fp(folder, ext='dat'), skiprows=14)\n",
    "\n",
    "modulation_freq = 200 #Hz\n",
    "modulation_bins = 200\n",
    "\n",
    "time, jpe, error, avg_readout = d[:,0],d[:,1],d[:,2],d[:,3]\n",
    "\n",
    "\n",
    "# time = time + 17*3600+51*60+8"
   ]
  },
  {
   "cell_type": "code",
   "execution_count": null,
   "metadata": {
    "collapsed": false
   },
   "outputs": [],
   "source": [
    "fig,ax=plt.subplots(1, figsize=(16,5))\n",
    "ax.set_title(folder)\n",
    "ax.plot(time,jpe,'-',color='red')\n",
    "ax.set_xlabel(\"time (seconds)\", fontsize = 14)\n",
    "ax.set_ylabel(\"jpe voltage (V)\", fontsize = 14, color ='r')\n",
    "ax2 =ax.twinx()\n",
    "# ax.set_ylim(0,300000)\n",
    "# ax.set_xlim(200,400)\n",
    "# ax2.set_xlim(6,11)\n",
    "ax2.plot(time,avg_readout*modulation_freq)\n",
    "ax2.set_ylabel('avg_readout (Hz)', color = 'b',fontsize=14)\n",
    "# ax.set_xlim(150,200)\n",
    "plt.savefig(os.path.join(folder,'overlap_wm_avgcts_plot.png'))"
   ]
  },
  {
   "cell_type": "code",
   "execution_count": null,
   "metadata": {
    "collapsed": true
   },
   "outputs": [],
   "source": []
  },
  {
   "cell_type": "code",
   "execution_count": null,
   "metadata": {
    "collapsed": true
   },
   "outputs": [],
   "source": []
  },
  {
   "cell_type": "code",
   "execution_count": null,
   "metadata": {
    "collapsed": false
   },
   "outputs": [],
   "source": [
    "fig,ax=plt.subplots(1, figsize=(16,5))\n",
    "ax.set_title(folder)\n",
    "ax.plot(time,jpe,'-',color='red')\n",
    "ax.set_xlabel(\"time (seconds)\", fontsize = 14)\n",
    "ax.set_ylabel(\"jpe voltage (V)\", fontsize = 14, color ='r')\n",
    "ax2 =ax.twinx()\n",
    "# ax.set_ylim(0,300000)\n",
    "# ax.set_xlim(200,400)\n",
    "# ax2.set_xlim(6,11)\n",
    "ax2.plot(time,error)\n",
    "ax2.set_ylabel('error signal', color = 'b',fontsize=14)\n",
    "# ax2.set_ylim(-2000,2000)\n",
    "# ax2.set_xlim(0,3000)\n",
    "# ax.set_xlim(150,200)\n",
    "plt.savefig(os.path.join(folder,'overlap_wm_avgcts_plot.png'))"
   ]
  },
  {
   "cell_type": "markdown",
   "metadata": {},
   "source": [
    "# Analyse measure power tracking"
   ]
  },
  {
   "cell_type": "code",
   "execution_count": null,
   "metadata": {
    "collapsed": true
   },
   "outputs": [],
   "source": [
    "folder= tb.latest_data('power')\n",
    "d = np.loadtxt(tb.get_msmt_fp(folder, ext='dat'), skiprows=12)\n",
    "time, power = d[:,0],d[:,1]"
   ]
  },
  {
   "cell_type": "code",
   "execution_count": null,
   "metadata": {
    "collapsed": false
   },
   "outputs": [],
   "source": [
    "fig,ax = plt.subplots()\n",
    "ax.plot((time-time[0])/60,power*1.e6)\n",
    "ax.set_xlabel('time (minutes)',fontsize=14)\n",
    "ax.set_ylabel('power (uW)',fontsize=14)\n",
    "ax.set_title(folder)\n",
    "plt.savefig(os.path.join(folder,'plot.png'))\n"
   ]
  },
  {
   "cell_type": "markdown",
   "metadata": {},
   "source": [
    "# analyse data tracked by PID cavity length"
   ]
  },
  {
   "cell_type": "code",
   "execution_count": null,
   "metadata": {
    "collapsed": false
   },
   "outputs": [],
   "source": [
    "folder= tb.latest_data('pid')#r'D:\\measuring\\data\\20171207\\135353_pidcavl'\n",
    "#r'D:\\measuring\\data\\20171207\\133039_pidcavl'#r'D:\\measuring\\data\\20171207\\130217_pidcavl'#r'D:\\measuring\\data\\20171206\\171035_pidcavl'\n",
    "d = np.loadtxt(tb.get_msmt_fp(folder, ext='dat'), skiprows=23)\n",
    "\n",
    "\n",
    "modulation_freq = 200 #Hz\n",
    "modulation_bins = 200\n",
    "\n",
    "time, raw_error_signal, avg_error_signal, setpoint, control_param, avg_cts, wavemeter_freq = d[:,0],d[:,1],d[:,2],d[:,3],d[:,4],d[:,5],d[:,6]\n",
    "\n",
    "\n",
    "# time = time + 17*3600+51*60+8"
   ]
  },
  {
   "cell_type": "code",
   "execution_count": null,
   "metadata": {
    "collapsed": false
   },
   "outputs": [],
   "source": [
    "nr_wm_bins = 3\n",
    "timeCut = time[len(time)%nr_wm_bins:]\n",
    "wavemeter_freqCut = wavemeter_freq[len(time)%nr_wm_bins:]\n",
    "timeBinned = np.mean(timeCut.reshape(-1, nr_wm_bins), axis=1)\n",
    "wavemeter_freqBinned =np.mean(wavemeter_freqCut.reshape(-1, nr_wm_bins), axis=1)\n",
    "\n",
    "avg_ctsCut = avg_cts[len(time)%nr_wm_bins:]\n",
    "avg_ctsBinned =np.mean(avg_ctsCut.reshape(-1, nr_wm_bins), axis=1)\n"
   ]
  },
  {
   "cell_type": "code",
   "execution_count": null,
   "metadata": {
    "collapsed": false
   },
   "outputs": [],
   "source": [
    "N=50\n",
    "wavemeter_freqBinned2 = np.convolve(wavemeter_freqBinned, np.ones((2*N,))/(2*N), mode='valid')\n"
   ]
  },
  {
   "cell_type": "code",
   "execution_count": null,
   "metadata": {
    "collapsed": true
   },
   "outputs": [],
   "source": []
  },
  {
   "cell_type": "code",
   "execution_count": null,
   "metadata": {
    "collapsed": false
   },
   "outputs": [],
   "source": [
    "fig,ax=plt.subplots(1, figsize=(16,5))\n",
    "ax.set_title(folder)\n",
    "ax.plot(timeBinned/60,avg_ctsBinned*modulation_freq,'-',color='red')\n",
    "ax.set_xlabel(\"time (minutes)\", fontsize = 14)\n",
    "ax.set_ylabel(\"Average countrate (Hz)\", fontsize = 14, color ='r')\n",
    "ax2 =ax.twinx()\n",
    "ax.set_ylim(0,300000)\n",
    "# ax.set_xlim(6,11)\n",
    "# ax2.set_xlim(6,11)\n",
    "ax2.plot(time/60,control_param)\n",
    "ax2.set_ylabel('newfocus freqmod (V)', color = 'b',fontsize=14)\n",
    "# ax.set_xlim(150,200)\n",
    "plt.savefig(os.path.join(folder,'overlap_wm_avgcts_plot.png'))"
   ]
  },
  {
   "cell_type": "code",
   "execution_count": null,
   "metadata": {
    "collapsed": false
   },
   "outputs": [],
   "source": [
    "fig,ax=plt.subplots(1, figsize=(16,5))\n",
    "ax.set_title(folder)\n",
    "# ax.plot(timeBinned/60,(wavemeter_freqBinned), '-b')\n",
    "ax.plot(time/60, wavemeter_freq,'-m')\n",
    "ax.set_ylabel('wavemeter readout (GHz)',fontsize=14)\n",
    "ax.set_xlabel('time(minutes)',fontsize=14)\n",
    "plt.savefig(os.path.join(folder,'plot_wavemeter_ro.png'))\n",
    "# ax.set_xlim(150,200)\n",
    "plt.show()\n"
   ]
  },
  {
   "cell_type": "code",
   "execution_count": null,
   "metadata": {
    "collapsed": false
   },
   "outputs": [],
   "source": [
    "fig,ax=plt.subplots(1, figsize=(16,5))\n",
    "ax.set_title(folder)\n",
    "ax.plot(time/60,avg_error_signal,'-',color='red')\n",
    "ax.set_xlabel(\"time (minutes)\", fontsize = 14)\n",
    "ax.set_ylabel(\"Average error signal\", fontsize = 14, color ='r')\n",
    "ax2 =ax.twinx()\n",
    "ax.set_ylim(-3000,3000)\n",
    "# ax.set_xlim(6,11)\n",
    "# ax2.set_xlim(6,11)\n",
    "ax2.plot(time/60,control_param)\n",
    "ax2.set_ylabel('jpe voltage (V)', color = 'b',fontsize=14)\n",
    "# ax.set_xlim(150,200)\n",
    "plt.savefig(os.path.join(folder,'overlap_wm_avgcts_plot.png'))"
   ]
  },
  {
   "cell_type": "code",
   "execution_count": null,
   "metadata": {
    "collapsed": false,
    "scrolled": true
   },
   "outputs": [],
   "source": [
    "int_times=np.linspace(5,5,181)\n",
    "equals = np.argwhere(np.diff(control_param)==0)\n",
    "\n",
    "plt.plot(equals)\n",
    "plt.plot(np.diff(equals,axis=0))\n",
    "# plt.xlim(0,25)\n",
    "# plt.plot(np.argwhere(np.diff(equals,axis=0)>50))\n",
    "steps = np.argwhere(np.diff(equals[:,0],axis=0)>1)\n",
    "steps2=np.append(steps[np.argwhere(np.diff(steps[:,0],axis=0)>1)][:,0],steps[-1])\n",
    "\n",
    "for i in steps2:\n",
    "    plt.plot([i,i],[0,9000])\n",
    "plt.show()\n",
    "\n",
    "cp_steps = control_param[steps2]\n",
    "fig,ax = plt.subplots()\n",
    "ax.plot(int_times,cp_steps,'o')# print cp_steps\n",
    "plt.show()\n",
    "\n",
    "fig,ax = plt.subplots()\n",
    "ax.plot(int_times[1:],np.diff(cp_steps),'o')# print c\\p_steps\n",
    "plt.show()\n",
    "\n"
   ]
  },
  {
   "cell_type": "code",
   "execution_count": null,
   "metadata": {
    "collapsed": false
   },
   "outputs": [],
   "source": [
    "g_a0 = 0\n",
    "g_a1 = 2\n",
    "g_a2 = 1\n",
    "fixed=[]\n",
    "\n",
    "p0, fitfunc, fitfunc_str = common.fit_poly(g_a0,g_a1,g_a2)\n",
    "fit_res = fit.fit1d(time[steps2]/60,(cp_steps-cp_steps[0])*1000, fitmethod=None, p0=p0, fitfunc=fitfunc, fitfunc_str=fitfunc_str,fixed=fixed)\n",
    "ax=plot.plot_fit1d(fit_res,ret='ax')\n",
    "ax.set_ylabel('absolute JPE voltage change (mV)')\n",
    "ax.set_xlabel('wait time after stabilisation (minutes)')\n",
    "\n",
    "print fit_res['params_dict']['a2']\n",
    "\n"
   ]
  },
  {
   "cell_type": "code",
   "execution_count": null,
   "metadata": {
    "collapsed": false
   },
   "outputs": [],
   "source": []
  },
  {
   "cell_type": "code",
   "execution_count": null,
   "metadata": {
    "collapsed": false
   },
   "outputs": [],
   "source": [
    "L=13*2.41+3.6 #in um\n",
    "nu = 470.4e3#+wavemeter_freq[0]\n",
    "conversion = 65e-6 #um/mV\n",
    "dL = wavemeter_freq/nu*L\n",
    "dnu_steps = (cp_steps-cp_steps[0])*1000*conversion/L*nu #in GHz\n",
    "\n",
    "g_a0 = 0\n",
    "g_a1 = 2\n",
    "fixed=[]\n",
    "\n",
    "print len(dnu_steps)\n",
    "times = time[equals[steps2[:]][:,0]]\n",
    "\n",
    "\n",
    "p0, fitfunc, fitfunc_str = common.fit_poly(g_a0,g_a1)\n",
    "fit_res = fit.fit1d(times/60,(dnu_steps), fitmethod=None, p0=p0, fitfunc=fitfunc, fitfunc_str=fitfunc_str,fixed=fixed)\n",
    "ax=plot.plot_fit1d(fit_res,ret='ax')\n",
    "ax.set_ylabel('effective frequency change (GHz)')\n",
    "ax.set_xlabel('time after stabilisation (minutes)')\n",
    "ax.set_title(folder)\n",
    "plt.savefig(os.path.join(folder,'freq_drift_during_free_evolution.png'))\n",
    "\n",
    "print 'total drift:',round(fit_res['params_dict']['a1'],2)*(times[-1]-times[0])/60,'GHz'\n",
    "print 'total drift per second:',round(fit_res['params_dict']['a1']*1000,2),'MHz per second'\n"
   ]
  },
  {
   "cell_type": "code",
   "execution_count": null,
   "metadata": {
    "collapsed": false
   },
   "outputs": [],
   "source": [
    "L=13*2.41+3.6 #in um\n",
    "nu = 470.4e3-273#+wavemeter_freq[0]\n",
    "conversion = 65e-6 #um/mV\n",
    "dL = wavemeter_freq/nu*L\n",
    "dnu_steps = (cp_steps-cp_steps[0])*1000*conversion/L*nu #in GHz\n",
    "\n",
    "\n",
    "g_a0 = 0\n",
    "g_a1 = 2\n",
    "fixed=[]\n",
    "total_time = np.zeros(len(int_times))\n",
    "\n",
    "for i,t in enumerate(int_times):\n",
    "    if i==0:\n",
    "        total_time[i] = t\n",
    "    else:\n",
    "        total_time[i] = t+total_time[i-1]\n",
    "\n",
    "p0, fitfunc, fitfunc_str = common.fit_poly(g_a0,g_a1)\n",
    "fit_res = fit.fit1d(total_time[1:-2],(dnu_steps)[1:-2], fitmethod=None, p0=p0, fitfunc=fitfunc, fitfunc_str=fitfunc_str,fixed=fixed)\n",
    "ax=plot.plot_fit1d(fit_res,ret='ax')\n",
    "ax.set_ylabel('effective frequency change (GHz)')\n",
    "ax.set_xlabel('wait time after stabilisation (s)')\n",
    "ax.set_title(folder)\n",
    "plt.savefig(os.path.join(folder,'freq_drift_during_free_evolution.png'))\n",
    "\n",
    "print 'drift per second during free evolution:',round(fit_res['params_dict']['a1']*1000,2),'MHz per second'\n",
    "\n"
   ]
  },
  {
   "cell_type": "code",
   "execution_count": null,
   "metadata": {
    "collapsed": false
   },
   "outputs": [],
   "source": [
    "\n",
    "g_a0 = 0\n",
    "g_a1=-0.06\n",
    "fixed=[]\n",
    "\n",
    "p0, fitfunc, fitfunc_str = common.fit_poly(g_a0,g_a1)\n",
    "fit_res = fit.fit1d(int_times[3:],np.diff(cp_steps[2:])*1000, fitmethod=None, p0=p0, fitfunc=fitfunc, fitfunc_str=fitfunc_str,fixed=fixed)\n",
    "ax=plot.plot_fit1d(fit_res,ret='ax')\n",
    "ax.set_ylabel('relative JPE voltage change (mV)')\n",
    "ax.set_xlabel('wait time after stabilisation (s)')\n",
    "\n",
    "print 'a0',fit_res['params_dict']['a0']\n",
    "mV_drift_per_sec = fit_res['params_dict']['a1']\n",
    "MHz_drift_per_sec = mV_drift_per_sec*conversion/L*nu*1000\n",
    "print 'drift per second (microV): ',round(mV_drift_per_sec*1000,1)\n",
    "\n",
    "print 'drift per second (MHz)' , round(MHz_drift_per_sec,2) #in GHz\n",
    "\n"
   ]
  },
  {
   "cell_type": "code",
   "execution_count": null,
   "metadata": {
    "collapsed": false
   },
   "outputs": [],
   "source": [
    "fig,ax=plt.subplots(1, figsize=(16,5))\n",
    "ax.set_title(folder)\n",
    "ax.plot(timeBinned/60,(wavemeter_freqBinned+285), '-b')\n",
    "ax.plot(timeBinned[N-1:-N]/60,(wavemeter_freqBinned2+285), '-g')\n",
    "ax.set_ylabel('wavemeter readout + 285 GHz',fontsize=14)\n",
    "ax.set_xlabel('time(minutes)',fontsize=14)\n",
    "plt.savefig(os.path.join(folder,'plot_wavemeter_ro.png'))\n",
    "plt.show()\n"
   ]
  },
  {
   "cell_type": "code",
   "execution_count": null,
   "metadata": {
    "collapsed": true
   },
   "outputs": [],
   "source": []
  },
  {
   "cell_type": "code",
   "execution_count": null,
   "metadata": {
    "collapsed": false
   },
   "outputs": [],
   "source": [
    "\n",
    "fig,ax=plt.subplots(1, figsize=(16,5))\n",
    "ax.set_title(folder)\n",
    "ax2 = ax.twinx()\n",
    "ax.plot(timeBinned[N-1:-N]/60,(wavemeter_freqBinned[N-1:-N]-wavemeter_freqBinned2), '-b') #use smooth wavemeter data for plotting derivative.\n",
    "ax2.plot(timeBinned/60.,avg_ctsBinned*modulation_freq,'-',color='red')\n",
    "ax.set_ylabel(\"trend-corrected wavemeter readout\", fontsize = 14,color='b'), \n",
    "ax2.set_xlabel(\"time (miutes)\", fontsize = 14)\n",
    "ax.set_ylim(-0.02,0.05)\n",
    "# ax2.set_ylim(min(Sample_TempBinned_Diff),max(Sample_TempBinned_Diff))\n",
    "# ax3 = ax.twinx()\n",
    "# ax3.plot(TimeBinned[1:]/60,abs(np.diff(Sample_TempBinned_Diff)), '-b') #use smooth wavemeter data for plotting derivative.\n",
    "# ax3.spines['right'].set_position(('axes', 1.+0.08))\n",
    "# ax3.set_ylabel(\"derivative wavemeter readout \", fontsize = 14,color='b'), \n",
    "# # ax2.set_ylim(min(Sample_TempBinned_Diff),max(Sample_TempBinned_Diff))\n",
    "\n",
    "ax2.set_ylabel(\"Average countrate (Hz)\", fontsize = 14, color ='r')\n",
    "ax.set_xlabel('time (minutes)', fontsize = 14)\n",
    "ax.set_xlim(min(time/60),max(time/60))\n",
    "plt.savefig(os.path.join(folder,'overlap_wm_avgcts_plot.png'))"
   ]
  },
  {
   "cell_type": "code",
   "execution_count": null,
   "metadata": {
    "collapsed": false
   },
   "outputs": [],
   "source": []
  },
  {
   "cell_type": "code",
   "execution_count": null,
   "metadata": {
    "collapsed": false
   },
   "outputs": [],
   "source": [
    "fig,ax=plt.subplots(1, figsize=(16,5))\n",
    "plt.plot(time/60.,raw_error_signal,'-',color='red')\n",
    "ax.set_title(folder)\n",
    "ax.set_xlabel(\"time (minutes)\", fontsize = 14)\n",
    "ax.set_ylabel(\"error signal\", fontsize = 14)\n",
    "ax.set_xlim(min(time/60),max(time/60))\n",
    "plt.savefig(os.path.join(folder,'error_signal_plot.png'))"
   ]
  },
  {
   "cell_type": "code",
   "execution_count": null,
   "metadata": {
    "collapsed": false
   },
   "outputs": [],
   "source": [
    "fig,ax=plt.subplots(1, figsize=(16,5))\n",
    "plt.plot(time/60.,wavemeter_freq,'-',color='red')\n",
    "ax.set_title(folder)\n",
    "ax.set_xlabel(\"time (minutes)\", fontsize = 14)\n",
    "ax.set_ylabel(\"wavemeter readout (GHz)\", fontsize = 14)\n",
    "ax.set_xlim(min(time/60),max(time/60))\n",
    "plt.savefig(os.path.join(folder,'wm_freq_plot.png'))"
   ]
  },
  {
   "cell_type": "markdown",
   "metadata": {},
   "source": [
    "## correlate with temperature data\n"
   ]
  },
  {
   "cell_type": "code",
   "execution_count": null,
   "metadata": {
    "collapsed": false
   },
   "outputs": [],
   "source": [
    "temp_d0 = np.loadtxt(folder+'\\MI_TempDataLog 12_07_2017.csv', skiprows=1, \n",
    "                    delimiter = ',',usecols = (1,2,4), \n",
    "                    converters = {1: lambda r: int(r[1:3])*3600+int(r[4:6])*60+int(r[7:9])+int(r[10:13])/1000., \n",
    "                                  2: lambda s: int(s[1:3])*60+int(s[4:6])+int(s[7:9])/60.} ) ##,\n",
    "temp_d1 = np.loadtxt(folder+'\\MI_TempDataLog 12_08_2017.csv', skiprows=1, \n",
    "                    delimiter = ',',usecols = (1,2,4), \n",
    "                    converters = {1: lambda r: int(r[1])*3600+int(r[3:5])*60+int(r[6:8])+int(r[9:12])/1000., \n",
    "                                  2: lambda s: int(s[1:3])*60+int(s[4:6])+int(s[7:9])/60.} ) ##,\n",
    "\n",
    "Time0, Relative_Time0,Sample_Temp0 = temp_d0[:,0], temp_d0[:,1], temp_d0[:,2]\n",
    "Time1, Relative_Time1,Sample_Temp1 = temp_d1[:,0]+3600*24, temp_d1[:,1], temp_d1[:,2]\n",
    "\n",
    "Time = np.append(Time0,Time1)-18*60 #cryo is 18 minutes ahead in time\n",
    "Relative_Time = np.append(Relative_Time0,Relative_Time1)\n",
    "Sample_Temp = np.append(Sample_Temp0, Sample_Temp1)"
   ]
  },
  {
   "cell_type": "code",
   "execution_count": null,
   "metadata": {
    "collapsed": false
   },
   "outputs": [],
   "source": [
    "nr_bins = 30 #temperature is recorded every 2 seconds -> bin to give the average per minute\n",
    "TimeCut = Time[len(Time)%nr_bins:]\n",
    "Sample_TempCut = Sample_Temp[len(Time)%nr_bins:]\n",
    "TimeBinned = np.mean(TimeCut.reshape(-1, nr_bins), axis=1)\n",
    "Sample_TempBinned =np.mean(Sample_TempCut.reshape(-1, nr_bins), axis=1)\n",
    "\n",
    "\n",
    "\n",
    "plt.figure()\n",
    "plt.plot(Relative_Time0, Sample_Temp0)\n",
    "plt.plot(Relative_Time1, Sample_Temp1, 'c')\n",
    "plt.show()\n",
    "plt.figure()\n",
    "plt.plot(Time0/60, Sample_Temp0)\n",
    "plt.plot(Time1/60, Sample_Temp1, 'm')\n",
    "plt.show()\n",
    "plt.figure()\n",
    "plt.plot(TimeBinned, Sample_TempBinned )\n",
    "plt.show()\n",
    "\n",
    "plt.figure()\n",
    "# plt.plot(time, wavemeter_freq )\n",
    "plt.plot(timeBinned, wavemeter_freqBinned )\n",
    "plt.show()\n",
    "\n",
    "# plt.plot(Relative_Time, Sample_Temp)"
   ]
  },
  {
   "cell_type": "code",
   "execution_count": null,
   "metadata": {
    "collapsed": false
   },
   "outputs": [],
   "source": []
  },
  {
   "cell_type": "code",
   "execution_count": null,
   "metadata": {
    "collapsed": false
   },
   "outputs": [],
   "source": [
    "\n",
    "init_sample_temp =Sample_TempBinned[np.argmin(abs(TimeBinned-time[0]))]\n",
    "Sample_TempBinned_Diff=(Sample_TempBinned-init_sample_temp)*1000 # in mK\n",
    "init_jpe_V = control_param[0]\n",
    "control_param_diff = (control_param - init_jpe_V)*1000 #in mV\n",
    "init_wavemeter = wavemeter_freq[0]\n",
    "wavemeter_freq_diff = (wavemeter_freq - init_wavemeter)\n",
    "\n",
    "L=13*2.41+3.6 #in um\n",
    "nu = 470.4e3+wavemeter_freq[0]\n",
    "conversion = 65e-6 #um/mV\n",
    "dL = wavemeter_freq/nu*L\n",
    "dnu = control_param_diff*conversion/L*nu #in GHz\n",
    "\n",
    "\n",
    "fig,ax=plt.subplots(1, figsize=(16,5))\n",
    "\n",
    "\n",
    "ax.plot(TimeBinned/60,Sample_TempBinned_Diff, '-c')\n",
    "ax.set_ylabel(\"sample temperature - %.3f (mK)\"%(init_sample_temp), fontsize = 14,color='c')\n",
    "ax.set_ylim(min(Sample_TempBinned_Diff),max(Sample_TempBinned_Diff))\n",
    "\n",
    "\n",
    "# ax3 = ax.twinx()\n",
    "# ax3.plot(time/60,wavemeter_freq_diff, 'm')\n",
    "# ax3.spines['right'].set_position(('axes', 1.+0.08))\n",
    "# ax3.set_ylabel('wavemeter readout - %.0f GHz (GHz)'%(init_wavemeter), fontsize=14,color='m')\n",
    "# ax3.set_ylim(min(wavemeter_freq_diff),max(wavemeter_freq_diff))\n",
    "\n",
    "ax4 = ax.twinx()\n",
    "ax4.plot(time/60,dnu-wavemeter_freq_diff, 'r')\n",
    "ax4.set_ylabel('laser freq-corrected resonance drift (GHz)', fontsize=14,color='r')\n",
    "ax4.set_ylim(min(dnu),max(dnu))\n",
    "\n",
    "# ax2 = ax.twinx()\n",
    "# ax2.spines['right'].set_position(('axes', 1.+0.08))\n",
    "# ax2.plot(time/60.,control_param_diff,'-',color='pink')\n",
    "# ax2.set_ylabel(\"jpe piezo voltage - %.3f V (mV)\"%(init_jpe_V), fontsize = 14, color = 'pink')\n",
    "# ax2.set_ylim(min(control_param_diff),max(control_param_diff))\n",
    "\n",
    "\n",
    "ax.set_title(folder)\n",
    "ax.set_xlabel(\"time (minutes)\", fontsize = 14)\n",
    "ax.set_xlim(min(time/60),max(time/60))\n",
    "plt.savefig(os.path.join(folder,'plot_piezo_temp_vs_time.png'))\n",
    "# plt.savefig(os.path.join(folder,'plot_all_vs_time.png'))\n"
   ]
  },
  {
   "cell_type": "code",
   "execution_count": null,
   "metadata": {
    "collapsed": true
   },
   "outputs": [],
   "source": [
    "fig,ax=plt.subplots(1, figsize=(16,5))\n",
    "plt.plot(time/60.,avg_cts*modulation_freq,'-',color='red')\n",
    "ax.set_title(folder)\n",
    "ax2 = ax.twinx()\n",
    "ax2.plot(TimeBinned[1:]/60,np.diff(Sample_TempBinned_Diff), '-c')\n",
    "ax2.set_ylabel(\"sample temperature - %.3f (mK)\"%(init_sample_temp), fontsize = 14,color='c')\n",
    "# ax2.set_ylim(min(Sample_TempBinned_Diff),max(Sample_TempBinned_Diff))\n",
    "\n",
    "ax.set_xlabel(\"time (miutes)\", fontsize = 14)\n",
    "ax.set_ylabel(\"Countrate (Hz)\", fontsize = 14)\n",
    "ax.set_xlim(min(time/60),max(time/60))\n",
    "plt.savefig(os.path.join(folder,'plot.png'))"
   ]
  },
  {
   "cell_type": "code",
   "execution_count": null,
   "metadata": {
    "collapsed": true
   },
   "outputs": [],
   "source": []
  }
 ],
 "metadata": {
  "kernelspec": {
   "display_name": "Python 2",
   "language": "python",
   "name": "python2"
  },
  "language_info": {
   "codemirror_mode": {
    "name": "ipython",
    "version": 2
   },
   "file_extension": ".py",
   "mimetype": "text/x-python",
   "name": "python",
   "nbconvert_exporter": "python",
   "pygments_lexer": "ipython2",
   "version": "2.7.3"
  }
 },
 "nbformat": 4,
 "nbformat_minor": 0
}
