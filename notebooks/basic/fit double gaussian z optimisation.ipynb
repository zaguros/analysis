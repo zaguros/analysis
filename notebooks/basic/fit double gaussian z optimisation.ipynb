{
 "metadata": {
  "name": "",
  "signature": ""
 },
 "nbformat": 3,
 "nbformat_minor": 0,
 "worksheets": [
  {
   "cells": [
    {
     "cell_type": "code",
     "collapsed": true,
     "input": [
      "import numpy as np\n",
      "import matplotlib.pyplot as plt\n",
      "import h5py\n",
      "import sys\n",
      "import os\n",
      "import msvcrt\n",
      "\n",
      "\n",
      "sys.path.append('D:/measuring')\n",
      "\n",
      "data_dir = \"D:\\measuring\\data/20160712\""
     ],
     "language": "python",
     "metadata": {},
     "outputs": []
    },
    {
     "cell_type": "code",
     "collapsed": true,
     "input": [
      "from analysis.lib.tools import plot as plot\n",
      "import analysis.lib.tools.toolbox as tb\n",
      "import analysis.scripts.Fabrication.Display_scan2d as ds"
     ],
     "language": "python",
     "metadata": {},
     "outputs": []
    },
    {
     "cell_type": "code",
     "collapsed": true,
     "input": [
      "def plot_single_gauss_fit(contains,older_than=None):\n",
      "    ##### show fit data from a double gauss fit to membrane scan\n",
      "    timestamp,data_folder = tb.latest_data(contains=contains,return_timestamp=True,older_than=older_than)\n",
      "    file = tb.measurement_filename(data_folder)\n",
      "\n",
      "    f = h5py.File(file,'r')\n",
      "    fit_res = f['fit_result']\n",
      "    x=fit_res['x']\n",
      "    y = fit_res['y']\n",
      "    params_dict  = fit_res['params_dict']\n",
      "\n",
      "    def A():\n",
      "        return params_dict['A'].value\n",
      "    def a():\n",
      "        return params_dict['a'].value\n",
      "    def sigma():\n",
      "        return params_dict['sigma'].value\n",
      "    def x0():\n",
      "        return params_dict['x0'].value\n",
      "\n",
      "    def fitfunc(x):\n",
      "        return a()+A()*np.exp(-(x-x0())**2/(2*sigma()**2))\n",
      "\n",
      "    print 'x0 = ', x0()\n",
      "    fig,ax = plt.subplots()\n",
      "    ax.plot(x,y)\n",
      "    ax.plot(x,fitfunc(x))\n",
      "    ax.set_xlabel('x (um)')\n",
      "    ax.set_ylabel('nr cts')\n",
      "    ax.set_title(data_folder)\n",
      "    plt.savefig(os.path.join(data_folder,'plot_fit.png'))\n",
      "\n",
      "    plt.show()\n",
      "\n",
      "    return timestamp"
     ],
     "language": "python",
     "metadata": {},
     "outputs": []
    },
    {
     "cell_type": "code",
     "collapsed": true,
     "input": [
      "def plot_double_gauss_fit(contains,older_than=None):\n",
      "    ##### show fit data from a double gauss fit to membrane scan\n",
      "    timestamp,data_folder = tb.latest_data(contains=contains,return_timestamp=True,older_than=older_than)\n",
      "    file = tb.measurement_filename(data_folder)\n",
      "\n",
      "    f = h5py.File(file,'r')\n",
      "    fit_res = f['fit_result']\n",
      "    x=fit_res['x']\n",
      "    y = fit_res['y']\n",
      "    params_dict  = fit_res['params_dict']\n",
      "\n",
      "    def A1():\n",
      "        return params_dict['A1'].value\n",
      "    def A2():\n",
      "        return params_dict['A2'].value\n",
      "    def a1():\n",
      "        return params_dict['a1'].value\n",
      "    def sigma1():\n",
      "        return params_dict['sigma1'].value\n",
      "    def sigma2():\n",
      "        return params_dict['sigma2'].value\n",
      "    def x01():\n",
      "        return params_dict['x01'].value\n",
      "    def Dx(): #fixed membrane thickness\n",
      "        return 1.5\n",
      "\n",
      "    def fitfunc(x):\n",
      "        return a1()+A1()*np.exp(-(x-x01())**2/(2*sigma1()**2))+A2()*np.exp(-(x-x01()-Dx())**2/(2*sigma2()**2))\n",
      "\n",
      "    print 'x0 = ', x01()\n",
      "    fig,ax = plt.subplots()\n",
      "    ax.plot(x,y)\n",
      "    ax.plot(x,fitfunc(x))\n",
      "    ax.set_xlabel('x (um)')\n",
      "    ax.set_ylabel('nr cts')\n",
      "    ax.set_title(data_folder)\n",
      "    plt.savefig(os.path.join(data_folder,'plot_fit.png'))\n",
      "\n",
      "    plt.show()\n",
      "    plt.close()\n",
      "    return timestamp\n",
      "\n",
      "# plot.plot_fit1d(fit_res,print_info=False)"
     ],
     "language": "python",
     "metadata": {},
     "outputs": []
    },
    {
     "cell_type": "code",
     "collapsed": true,
     "input": [
      "plot_double_gauss_fit('200418_optimize_z_double_gauss_fit')"
     ],
     "language": "python",
     "metadata": {},
     "outputs": []
    },
    {
     "cell_type": "code",
     "collapsed": true,
     "input": [
      "older_than = '20160721020705'\n",
      "nr_plots = 20\n",
      "\n",
      "for j in np.arange(nr_plots):\n",
      "    timestamp = plot_single_gauss_fit(contains='optimize_z_gauss_fit',older_than = older_than)\n",
      "    older_than=timestamp\n",
      "    print older_than\n",
      "    plt.show()\n"
     ],
     "language": "python",
     "metadata": {},
     "outputs": []
    },
    {
     "cell_type": "code",
     "collapsed": false,
     "input": [],
     "language": "python",
     "metadata": {},
     "outputs": []
    },
    {
     "cell_type": "code",
     "collapsed": false,
     "input": [
      "reload(ds)\n",
      "# search_dir = 'D:/measuring/data/20160719'\n",
      "# print os.listdir(search_dir)\n",
      "# all_measdirs = [d for d in os.listdir(search_dir) ]\n",
      "# all_measdirs.sort() # get a sorted list of all measurements on that day\n",
      "\n",
      "\n",
      "\n",
      "newer_than='20160722190000'\n",
      "#newer_than='20160724000000'\n",
      "older_than='20160724085100'\n",
      "save_location = tb.latest_data(contains='090000')\n",
      "print save_location\n",
      "\n",
      "while older_than > newer_than:\n",
      "    timestamp,folder = tb.latest_data(contains='scan2d_Sophie_lowerleftx', older_than = older_than,return_timestamp=True)\n",
      "    older_than=timestamp\n",
      "\n",
      "\n",
      "\n",
      "# for d in all_measdirs:\n",
      "#     if 'scan2d' in d:\n",
      "#         folder = os.path.join(search_dir,d)\n",
      "#         if '181457' in d:\n",
      "#              continue\n",
      "    print folder\n",
      "    d = ds.DisplayScan(folder)\n",
      "    x,y,data = d.get_data()\n",
      "    d.plot_data(folder,save_location=save_location, use_save_location=True)\n",
      "    # NVs = d.find_NV_locations(save_NVs = True, print_udpate=True)\n",
      "    # d.plot_NV_locations(print_NV_data=True)\n",
      "    # d.zoom_around_NV()\n"
     ],
     "language": "python",
     "metadata": {},
     "outputs": []
    },
    {
     "cell_type": "code",
     "collapsed": false,
     "input": [
      "reload(ds)\n",
      "#older_than = '20160718224010'\n",
      "#newer_than = '20160724085300' #'20160718144114'\n",
      "\n",
      "\n",
      "newer_than='20160722190000'\n",
      "older_than='20160724085100'\n",
      "\n",
      "while older_than > newer_than:\n",
      "    timestamp,folder = tb.latest_data(contains='scan2d_Sophie_lowerleftx', older_than = older_than,return_timestamp=True)\n",
      "    older_than=timestamp\n",
      "\n",
      "    print 10*'*'\n",
      "    print 'next scan:', timestamp\n",
      "    print 10*'*'\n",
      "\n",
      "    d = ds.DisplayScan(folder)\n",
      "    x,y,data = d.get_data()\n",
      "    NVs = d.find_NV_locations(save_NVs = True)\n",
      "    d.plot_NV_locations()\n",
      "    d.zoom_around_NV()\n",
      "    \n"
     ],
     "language": "python",
     "metadata": {},
     "outputs": []
    },
    {
     "cell_type": "code",
     "collapsed": false,
     "input": [
      "\n",
      "NVscopy=NVs\n",
      "\n",
      "xcopy=x\n",
      "ycopy=y\n",
      "datacopy=data\n"
     ],
     "language": "python",
     "metadata": {},
     "outputs": []
    },
    {
     "cell_type": "code",
     "collapsed": false,
     "input": [
      "reload(ds)\n",
      "d = ds.DisplayScan(tb.latest_data(contains='144114_scan2d'))\n",
      "x,y,data = d.get_data()\n",
      "NVs = d.find_NV_locations(save_NVs = True, print_udpate=True)\n",
      "d.plot_NV_locations(print_NV_data=True)\n",
      "d.zoom_around_NV()\n",
      "\n"
     ],
     "language": "python",
     "metadata": {},
     "outputs": []
    },
    {
     "cell_type": "code",
     "collapsed": false,
     "input": [
      "\n",
      "for i in NVscopy:\n",
      "    nr= i[3:]\n",
      "    x0 = NVscopy[i]['params_dict']['x0']\n",
      "    y0 = NVscopy[i]['params_dict']['y0']\n",
      "\n",
      "    i_min,i_max,x_around_x0 = find_NV.crop_array_around_value(x,x0,11)\n",
      "\n",
      "    j_min,j_max,y_around_y0 = find_NV.crop_array_around_value(y,y0,11)\n",
      "\n",
      "    meshx,meshy = np.meshgrid(x_around_x0,y_around_y0)\n",
      "    data_x0y0 = data[j_min:j_max,i_min:i_max]\n",
      "\n",
      "\n",
      "    extent = [meshx[0,0],meshx[-1,-1],meshy[0,0],meshy[-1,-1]]\n",
      "    fig,ax = plt.subplots()\n",
      "    plotname = '_zoom_NV_%s_x_%.1f_y_%.1f'%(nr,x0,y0)\n",
      "    ax.set_title(folder+'\\n'+plotname)\n",
      "    c=ax.imshow(data_x0y0,extent = extent,origin='lower',interpolation='None')\n",
      "    plt.colorbar(c)\n",
      "    plt.savefig(os.path.join(folder,plotname+'.png'))\n",
      "\n",
      "    plt.show()\n"
     ],
     "language": "python",
     "metadata": {},
     "outputs": []
    },
    {
     "cell_type": "code",
     "collapsed": true,
     "input": [],
     "language": "python",
     "metadata": {},
     "outputs": []
    },
    {
     "cell_type": "code",
     "collapsed": true,
     "input": [
      "ds.display_scan(nr_plots=25, older_than = '20160718144948')"
     ],
     "language": "python",
     "metadata": {},
     "outputs": []
    },
    {
     "cell_type": "code",
     "collapsed": true,
     "input": [],
     "language": "python",
     "metadata": {},
     "outputs": []
    },
    {
     "cell_type": "code",
     "collapsed": true,
     "input": [],
     "language": "python",
     "metadata": {},
     "outputs": []
    },
    {
     "cell_type": "code",
     "collapsed": false,
     "input": [],
     "language": "python",
     "metadata": {},
     "outputs": []
    },
    {
     "cell_type": "code",
     "collapsed": false,
     "input": [],
     "language": "python",
     "metadata": {},
     "outputs": []
    },
    {
     "cell_type": "code",
     "collapsed": false,
     "input": [
      "\n",
      "\n"
     ],
     "language": "python",
     "metadata": {},
     "outputs": []
    },
    {
     "cell_type": "code",
     "collapsed": false,
     "input": [
      "\n",
      "\n"
     ],
     "language": "python",
     "metadata": {},
     "outputs": []
    },
    {
     "cell_type": "code",
     "collapsed": false,
     "input": [
      "extent = (min(x),max(x), min(y),max(y))\n",
      "\n",
      "fig,ax = plt.subplots()\n",
      "ax.imshow(data, extent=extent,origin='lower',interpolation='None')\n",
      "\n",
      "\n",
      "print NV_nr,'NVs were found'\n",
      "for NV in NVs:#np.arange(NV_nr):\n",
      "    fitres=NVs[NV]\n",
      "    x0=fitres['params_dict']['x0']\n",
      "    y0=fitres['params_dict']['y0']\n",
      "    print NV\n",
      "    print x0,y0\n",
      "    ax.plot(x0,y0,'+w',mew=4,markersize=50)\n",
      "    \n",
      "\n",
      "plt.show()  \n",
      "\n",
      "\n",
      "   \n",
      "    \n"
     ],
     "language": "python",
     "metadata": {},
     "outputs": []
    },
    {
     "cell_type": "code",
     "collapsed": false,
     "input": [
      "print results\n"
     ],
     "language": "python",
     "metadata": {},
     "outputs": []
    },
    {
     "cell_type": "code",
     "collapsed": true,
     "input": [
      "from numpy import *\n",
      "from scipy import optimize\n",
      "\n",
      "def gaussian(height, center_x, center_y, width_x, width_y):\n",
      "    \"\"\"Returns a gaussian function with the given parameters\"\"\"\n",
      "    width_x = float(width_x)\n",
      "    width_y = float(width_y)\n",
      "    return lambda x,y: height*exp(\n",
      "                -(((center_x-x)/width_x)**2+((center_y-y)/width_y)**2)/2)\n",
      "\n",
      "def moments(data):\n",
      "    \"\"\"Returns (height, x, y, width_x, width_y)\n",
      "    the gaussian parameters of a 2D distribution by calculating its\n",
      "    moments \"\"\"\n",
      "    total = data.sum()\n",
      "    X, Y = indices(data.shape)\n",
      "    x = (X*data).sum()/total\n",
      "    y = (Y*data).sum()/total\n",
      "    col = data[:, int(y)]\n",
      "    width_x = sqrt(abs((arange(col.size)-y)**2*col).sum()/col.sum())\n",
      "    row = data[int(x), :]\n",
      "    width_y = sqrt(abs((arange(row.size)-x)**2*row).sum()/row.sum())\n",
      "    height = data.max()\n",
      "    return height, x, y, width_x, width_y\n",
      "\n",
      "def fitgaussian(data):\n",
      "    \"\"\"Returns (height, x, y, width_x, width_y)\n",
      "    the gaussian parameters of a 2D distribution found by a fit\"\"\"\n",
      "    params = moments(data)\n",
      "    print params\n",
      "    errorfunction = lambda p: ravel(gaussian(*p)(*indices(data.shape)) -\n",
      "                                 data)\n",
      "    p, success = optimize.leastsq(errorfunction, params)\n",
      "    return p"
     ],
     "language": "python",
     "metadata": {},
     "outputs": []
    },
    {
     "cell_type": "code",
     "collapsed": true,
     "input": [
      "from pylab import *\n",
      "\n",
      "# Create the gaussian data\n",
      "Xin, Yin = mgrid[0:201, 0:201]\n",
      "data =  gaussian(3, 100, 100, 20, 40)(Xin, Yin) #+ random.random(Xin.shape)\n",
      "\n",
      "\n",
      "matshow(data, cmap=cm.gist_earth_r)\n",
      "\n",
      "params = fitgaussian(data)\n",
      "fit = gaussian(*params)\n",
      "\n",
      "contour(fit(*indices(data.shape)), cmap=cm.copper)\n",
      "ax = gca()\n",
      "(height, x, y, width_x, width_y) = params\n",
      "\n",
      "text(0.95, 0.05, \"\"\"\n",
      "x : %.1f\n",
      "y : %.1f\n",
      "width_x : %.1f\n",
      "width_y : %.1f\"\"\" %(x, y, width_x, width_y),\n",
      "        fontsize=16, horizontalalignment='right',\n",
      "        verticalalignment='bottom', transform=ax.transAxes)\n",
      "\n",
      "show()"
     ],
     "language": "python",
     "metadata": {},
     "outputs": []
    },
    {
     "cell_type": "code",
     "collapsed": true,
     "input": [
      "a = 1\n",
      "print a "
     ],
     "language": "python",
     "metadata": {},
     "outputs": []
    },
    {
     "cell_type": "code",
     "collapsed": true,
     "input": [
      "import numpy as np\n",
      "import os \n",
      "from numpy import *\n",
      "from scipy import optimize\n",
      "import h5py\n",
      "# import pylab\n",
      "\n",
      "# taken from the scipy fitting cookbook:\n",
      "class Parameter:\n",
      "    def __init__(self, value, name=''):\n",
      "        self.value = value\n",
      "        self.name = name\n",
      "\n",
      "    def set(self, value):\n",
      "        self.value = value\n",
      "\n",
      "    def __call__(self):\n",
      "        return self.value\n",
      "    \n",
      "    \n",
      "    \n",
      "    \n",
      "    "
     ],
     "language": "python",
     "metadata": {},
     "outputs": []
    },
    {
     "cell_type": "code",
     "collapsed": false,
     "input": [
      "a = [[1,2,3],[5,6,7]]"
     ],
     "language": "python",
     "metadata": {},
     "outputs": []
    },
    {
     "cell_type": "code",
     "collapsed": false,
     "input": [
      "c=ravel(a)\n",
      "print c"
     ],
     "language": "python",
     "metadata": {},
     "outputs": []
    },
    {
     "cell_type": "code",
     "collapsed": false,
     "input": [
      "print np.cos(a)"
     ],
     "language": "python",
     "metadata": {},
     "outputs": []
    },
    {
     "cell_type": "code",
     "collapsed": false,
     "input": [
      "x,y= np.meshgrid([0,1,2],[5,6,7])"
     ],
     "language": "python",
     "metadata": {},
     "outputs": []
    },
    {
     "cell_type": "code",
     "collapsed": false,
     "input": [
      "print x \n",
      "print y"
     ],
     "language": "python",
     "metadata": {},
     "outputs": []
    },
    {
     "cell_type": "code",
     "collapsed": false,
     "input": [
      "np.broadcast_arrays([[0,1,2]],[[5,6,7]])"
     ],
     "language": "python",
     "metadata": {},
     "outputs": []
    },
    {
     "cell_type": "code",
     "collapsed": false,
     "input": [
      "a = [0,1,2]\n",
      "b=[5,6,7]\n",
      "\n",
      "print np.meshgrid(a,b)\n",
      "\n",
      "mesha = a * len(b)\n",
      "print mesha\n"
     ],
     "language": "python",
     "metadata": {},
     "outputs": []
    },
    {
     "cell_type": "code",
     "collapsed": false,
     "input": [],
     "language": "python",
     "metadata": {},
     "outputs": []
    }
   ],
   "metadata": {}
  }
 ]
}
