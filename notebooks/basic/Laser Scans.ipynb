{
 "cells": [
  {
   "cell_type": "code",
   "execution_count": null,
   "metadata": {
    "collapsed": false
   },
   "outputs": [],
   "source": [
    "execfile('d:/measuring/analysis/scripts/setup_analysis.py')\n",
    "%matplotlib inline\n",
    "import matplotlib\n"
   ]
  },
  {
   "cell_type": "markdown",
   "metadata": {},
   "source": [
    "### show laserscan   'new' type (hdf5 datafile; fast_laser_scan_green_red.py)"
   ]
  },
  {
   "cell_type": "code",
   "execution_count": null,
   "metadata": {
    "collapsed": false
   },
   "outputs": [],
   "source": [
    "######show and fit laserscan, from fast_laser_scan_green_red.py\n",
    "\n",
    "nr_of_scans =1\n",
    "older_than=None#'20161130163600'#None#\n",
    "#fig,ax=plt.subplots(1, figsize=(16,5))\n",
    "for i in range(nr_of_scans):\n",
    "    timestamp,folder = tb.latest_data(contains='112107_LaserScanGreenRed_Lily_NV5_g_30.0_r_8.0', older_than = older_than,return_timestamp=True)\n",
    "    older_than=timestamp\n",
    "\n",
    "    a=m2.M2Analysis(folder=folder)\n",
    "    for k in a.f.keys():\n",
    "        if '_data' in k:\n",
    "            a.dg = a.f[k]\n",
    "    a.counts,a.frequency,a.voltage = a.dg['Counts [Hz]'].value,a.dg['Frequency [GHz]'].value,a.dg['Voltage [V]'].value\n",
    "    #print len(a.counts)\n",
    "    #if len(a.counts)>200:\n",
    "        \n",
    "    f_min = 92\n",
    "    f_max = 180\n",
    "\n",
    "    idx_min = np.searchsorted(a.frequency, f_min, side=\"left\")\n",
    "    idx_max = np.searchsorted(a.frequency, f_max, side=\"left\")\n",
    "    frequency = a.frequency[idx_min:idx_max]\n",
    "    counts = a.counts[idx_min:idx_max]\n",
    "\n",
    "    fig,ax=plt.subplots(1, figsize=(10,5))\n",
    "    ax.plot(frequency, counts, label=' '+a.name)\n",
    "\n",
    "    ax.set_xlabel(\"Frequency (GHz wrt 470.4 THz)\", fontsize = 14)\n",
    "    ax.set_ylabel(\"Countrate (Hz)\", fontsize = 14)\n",
    "    ax.set_title(os.path.split(folder)[-1])\n",
    "    plt.savefig(os.path.join(folder,'plot_laserscan.png'))\n",
    "    plt.show()\n",
    "\n",
    "    a.finish()\n",
    "        \n",
    "# ax.set_xlabel('Frequency (GHz wrt 470.4 THz)')\n",
    "# ax.set_ylabel('Countrate [Hz]')\n",
    "# #ax.legend()\n",
    "\n",
    "\n"
   ]
  },
  {
   "cell_type": "markdown",
   "metadata": {},
   "source": [
    "### fit (lorentzian to) laserscan 'new' type (hdf5 datafile; fast_laser_scan_green_red.py)"
   ]
  },
  {
   "cell_type": "code",
   "execution_count": null,
   "metadata": {
    "collapsed": false,
    "scrolled": false
   },
   "outputs": [],
   "source": [
    "######show and fit laserscan, from fast_laser_scan_green_red.py\n",
    "\n",
    "nr_of_scans =1\n",
    "older_than='20161130163600'#None#\n",
    "#fig,ax=plt.subplots(1, figsize=(16,5))\n",
    "for i in range(nr_of_scans):\n",
    "    timestamp,folder = tb.latest_data(contains='105435_LaserScanGreenRed_Lily_NV5_g_30.0_r_8.0', older_than = older_than,return_timestamp=True)\n",
    "    older_than=timestamp\n",
    "\n",
    "    #print folder\n",
    "\n",
    "    a=m2.M2Analysis(folder=folder)\n",
    "    for k in a.f.keys():\n",
    "        if '_data' in k:\n",
    "            a.dg = a.f[k]\n",
    "    a.counts,a.frequency,a.voltage = a.dg['Counts [Hz]'].value,a.dg['Frequency [GHz]'].value,a.dg['Voltage [V]'].value\n",
    "    #print len(a.counts)\n",
    "    #if len(a.counts)>200:\n",
    "    #    ax.plot(a.frequency, a.counts, label=' '+a.name)\n",
    "        \n",
    "    f_min = 92\n",
    "    f_max = 180\n",
    "    g_a= 200\n",
    "    g_A= 200\n",
    "    g_x0 = 72\n",
    "    g_gamma = 0.5\n",
    "    #g_A2= 200\n",
    "    #g_x02 = 84\n",
    "    #g_gamma2 = 0.5\n",
    "    fixed=[]\n",
    "\n",
    "    idx_min = np.searchsorted(a.frequency, f_min, side=\"left\")\n",
    "    idx_max = np.searchsorted(a.frequency, f_max, side=\"left\")\n",
    "    frequency = a.frequency[idx_min:idx_max]\n",
    "    counts = a.counts[idx_min:idx_max]\n",
    "\n",
    "    fig,ax=plt.subplots(1, figsize=(10,5))\n",
    "\n",
    "    p0, fitfunc, fitfunc_str = common.fit_lorentz(g_a, g_A, g_x0, g_gamma)\n",
    "    #p0, fitfunc, fitfunc_str = common.fit_2lorentz(g_a, g_A, g_x0, g_gamma,g_A2, g_x02, g_gamma2)\n",
    "    fit_result = fit.fit1d(frequency,counts, None, p0=p0, fitfunc=fitfunc, do_print=True, ret=True, fixed=fixed)\n",
    "\n",
    "    T = fit_result['params_dict']['x0']\n",
    "    gamma = fit_result['params_dict']['gamma']\n",
    "    u_gamma = fit_result['error_dict']['gamma']\n",
    "\n",
    "    print 'frequency = ', T , 'GHz'\n",
    "    print 'linewidth= ', gamma,'+/-', u_gamma, 'GHz'\n",
    "\n",
    "    plot.plot_fit1d(fit_result, np.linspace(min(frequency),max(frequency),len(frequency)),ax=ax, label='Fit',show_guess=False, plot_data=True,color='red', data_linestyle = '-', print_info= False)\n",
    "    ax.set_xlabel(\"Frequency (GHz wrt 470.4 THz)\", fontsize = 14)\n",
    "    ax.set_ylabel(\"Countrate (Hz)\", fontsize = 14)\n",
    "    ax.set_title(os.path.split(folder)[-1])\n",
    "    ax.legend(title='Transition at %.2f GHz, Linewidth = %.2f $\\pm$ %.2f MHz'%(T, gamma*1.e3,u_gamma*1.e3))\n",
    "    plt.savefig(os.path.join(folder,'fit_laserscan.png'))\n",
    "    plt.show()\n",
    "\n",
    "    a.finish()\n",
    "        \n",
    "# ax.set_xlabel('Frequency (GHz wrt 470.4 THz)')\n",
    "# ax.set_ylabel('Countrate [Hz]')\n",
    "# #ax.legend()\n",
    "\n",
    "\n",
    "\n"
   ]
  },
  {
   "cell_type": "markdown",
   "metadata": {},
   "source": [
    "### fitting for 'old' laserscan file (.dat data type; fast_laser_scan.py)"
   ]
  },
  {
   "cell_type": "code",
   "execution_count": null,
   "metadata": {
    "collapsed": false
   },
   "outputs": [],
   "source": [
    "### Fitting laserscans 1 peak at a time\n",
    "font = {'size'   : 22}\n",
    "matplotlib.rc('font', **font)\n",
    "\n",
    "f_min = 57.0\n",
    "f_max = 59.0\n",
    "g_a= 400\n",
    "g_A= 20\n",
    "g_x0 = 57.9\n",
    "g_gamma = 0.1\n",
    "fixed=[]\n",
    "\n",
    "\n",
    "folder = r'D:\\measuring\\data\\20170215\\153242_laser_scanSirius_day2spot1_g_10.0_r_8.0_0'\n",
    "d = np.loadtxt(tb.get_msmt_fp(folder, ext='dat'), skiprows=15)\n",
    "if len(d)>2:\n",
    "    voltage, frequency, counts = d[:,0],d[:,1],d[:,2]\n",
    "\n",
    "fig,ax=plt.subplots(1, figsize=(16,5))\n",
    "plt.plot(frequency,counts,'-',color='red')\n",
    "ax.set_title(folder)\n",
    "ax.set_xlabel(\"Frequency (GHz wrt 470.4 THz)\", fontsize = 14)\n",
    "ax.set_ylabel(\"Countrate (Hz)\", fontsize = 14)\n",
    "plt.savefig(os.path.join(folder,'Scan5_NV1_wholefigure.png'))\n",
    "\n",
    "if f_min ==None:\n",
    "    f_min = min(frequency)\n",
    "if f_max == None: \n",
    "    f_max = max(frequency)\n",
    "    \n",
    "idx_min = np.searchsorted(frequency, f_min, side=\"left\")\n",
    "idx_max = np.searchsorted(frequency, f_max, side=\"left\")\n",
    "frequency = frequency[idx_min:idx_max]\n",
    "counts = counts[idx_min:idx_max]\n",
    "\n",
    "fig,ax=plt.subplots(1, figsize=(10,5))\n",
    "    \n",
    "p0, fitfunc, fitfunc_str = common.fit_lorentz(g_a, g_A, g_x0, g_gamma)\n",
    "fit_result = fit.fit1d(frequency,counts, None, p0=p0, fitfunc=fitfunc, do_print=True, ret=True, fixed=fixed)\n",
    "\n",
    "T = fit_result['params_dict']['x0']\n",
    "gamma = fit_result['params_dict']['gamma']\n",
    "u_gamma = fit_result['error_dict']['gamma']\n",
    "\n",
    "print 'T = ', T , 'GHz'\n",
    "print 'Linewidth T', gamma, 'GHz +/-', u_gamma, 'GHz'\n",
    "\n",
    "plot.plot_fit1d(fit_result, np.linspace(min(frequency),max(frequency),len(frequency)),ax=ax, label='Fit',show_guess=False, plot_data=True,color='red', data_linestyle = '-', print_info= False)\n",
    "ax.set_xlabel(\"Frequency (GHz wrt 470.4 THz)\")#, fontsize = 14)\n",
    "ax.set_ylabel(\"Countrate (Hz)\")#, fontsize = 14)\n",
    "#ax.set_title(folder)\n",
    "\n",
    "\n",
    "ax.set_xlim(f_min,f_max)\n",
    "ax.set_title('Transition at %.2f GHz,\\n Linewidth = %.2f $\\pm$ %.2f MHz'%(T, gamma*1.e3,u_gamma*1.e3))\n",
    "#ax.legend(title='Transition at %.2f GHz, Linewidth = %.2f $\\pm$ %.2f MHz'%(T, gamma*1.e3,u_gamma*1.e3),loc=0)\n",
    "plt.savefig(os.path.join(folder,'Scan1_NV1_Ey.png'))\n",
    "\n",
    "# plt.legend(bbox_to_anchor=(0., 1.02, 1., .102), loc=3,\n",
    "#            ncol=2, mode=\"expand\", borderaxespad=0.)\n"
   ]
  },
  {
   "cell_type": "code",
   "execution_count": null,
   "metadata": {
    "collapsed": false
   },
   "outputs": [],
   "source": [
    "nvlevels.get_transitions_ExEy(56,84.62,\n",
    "                              show_ms0_transitions=True,\n",
    "                              show_m1_transitions=True,\n",
    "                              show_p1_transitions=False,\n",
    "                              show_A_transitions=False,\n",
    "                              show_FB_A_transitions=False,\n",
    "                              show_FB_E_transitions=False,\n",
    "                              show_E_prime_flip_transitions=False)"
   ]
  },
  {
   "cell_type": "code",
   "execution_count": null,
   "metadata": {
    "collapsed": false
   },
   "outputs": [],
   "source": [
    "########2d plot of repeated laserscans\n",
    "\n",
    "older_than = '20170215140000'\n",
    "fig,ax=plt.subplots(1, figsize=(16,5))\n",
    "fig2,ax2=plt.subplots(1, figsize=(16,5))\n",
    "bins = np.arange(70,73,.05)\n",
    "hist = np.zeros(len(bins)-1)\n",
    "bin_norm = np.zeros(len(bins)-1)\n",
    "i=0\n",
    "nr_files = 2\n",
    "\n",
    "\n",
    "for i in np.arange(nr_files):\n",
    "    old_laser_scan=False\n",
    "    ret = tb.latest_data(contains='laser_scanSirius_day2spot1_g_0.0_r_8.0_', older_than=older_than, return_timestamp=True, raise_exc=False)\n",
    "    if not ret:\n",
    "        break\n",
    "    print ret\n",
    "\n",
    "    timestamp,folder = ret\n",
    "    older_than=timestamp\n",
    "\n",
    "    d = np.loadtxt(tb.get_msmt_fp(folder, ext='dat'), skiprows=15)\n",
    "    if len(d)>2:\n",
    "        voltage, frequency, counts = d[:,0],d[:,1],d[:,2]\n",
    "    \n",
    "    if len(counts)>200:\n",
    "        cts_norm_zero = counts.astype(np.float)/np.average(counts) -1\n",
    "        _h,_b = np.histogram(frequency, weights=cts_norm_zero, bins=bins)\n",
    "        bin_norm+=1.0*(_h>0)\n",
    "        hist+= _h\n",
    "        ax2.plot(frequency,cts_norm_zero+1, alpha=0.5)\n",
    "    i+=1\n",
    "    \n",
    "\n",
    "ax2.set_xlabel('Frequency (GHz wrt 470.4 THz)')\n",
    "ax2.set_ylabel('Normalized countrates')\n",
    "#ax2.set_xlim(70,90)\n",
    "#ax.legend()"
   ]
  },
  {
   "cell_type": "code",
   "execution_count": null,
   "metadata": {
    "collapsed": false
   },
   "outputs": [],
   "source": [
    "older_than='20170215140000'\n",
    "newer_than = '20170215131500'\n",
    "newer_than_old = '20170215131500'\n",
    "fig,ax=plt.subplots(1, figsize=(16,5))\n",
    "fig2,ax2=plt.subplots(1, figsize=(16,5))\n",
    "bins = np.arange(70,73,.05)\n",
    "hist = np.zeros(len(bins)-1)\n",
    "bin_norm = np.zeros(len(bins)-1)\n",
    "i=0\n",
    "nr_files = 30\n",
    "\n",
    "for i in np.arange(nr_files):\n",
    "    print i\n",
    "    old_laser_scan=False\n",
    "    ret = tb.latest_data(contains='LaserScan', older_than=older_than,newer_than=newer_than,return_timestamp=True, raise_exc=False)\n",
    "    if not ret:\n",
    "        ret = tb.latest_data(contains='laser_scanSirius_day2spot1_g_0.0_r_8.0_'+str(i+1),older_than=older_than,newer_than=newer_than_old, return_timestamp=True, raise_exc=False)\n",
    "        old_laser_scan = True\n",
    "        if not ret:\n",
    "            break\n",
    "    print d\n",
    "\n",
    "    timestamp,folder = ret\n",
    "    older_than=timestamp\n",
    "    if old_laser_scan:\n",
    "        d = np.loadtxt(tb.get_msmt_fp(folder, ext='dat'), skiprows=15)\n",
    "        if len(d)>2:\n",
    "            voltage, frequency, counts = d[:,0],d[:,1],d[:,2]\n",
    "    else:\n",
    "        a=m2.M2Analysis(folder=folder)\n",
    "        data_found = False\n",
    "        for k in a.f.keys():\n",
    "            if '_data' in k and 'area_5' in k:\n",
    "                a.dg = a.f[k]\n",
    "                data_found=True\n",
    "        if not data_found:\n",
    "            continue\n",
    "        voltage, frequency, counts = a.dg['Voltage [V]'].value, a.dg['Frequency [GHz]'].value, a.dg['Counts [Hz]'].value\n",
    "     \n",
    "    if len(counts)>200:\n",
    "        cts_norm_zero = counts.astype(np.float)/np.average(counts) -1\n",
    "        _h,_b = np.histogram(frequency, weights=cts_norm_zero, bins=bins)\n",
    "        bin_norm+=1.0*(_h>0)\n",
    "        hist+= _h\n",
    "        ax2.plot(frequency,cts_norm_zero+1, alpha=0.5)\n",
    "    i+=1\n",
    "    \n",
    "ax.plot(bins[1:],hist, '.')        \n",
    "#ax.set_xlim(70,90)\n",
    "ax.set_xlabel('Frequency (GHz wrt 470.4 THz)')\n",
    "ax.set_ylabel('Deviation from average countrates')\n",
    "ax2.set_xlabel('Frequency (GHz wrt 470.4 THz)')\n",
    "ax2.set_ylabel('Normalized countrates')\n",
    "#ax2.set_xlim(70,90)\n",
    "#ax.legend()"
   ]
  },
  {
   "cell_type": "code",
   "execution_count": null,
   "metadata": {
    "collapsed": false
   },
   "outputs": [],
   "source": [
    "older_than='20170215140000'\n",
    "newer_than = '20170215131500'\n",
    "fig,ax=plt.subplots(1, figsize=(16,5))\n",
    "fig2,ax2=plt.subplots(1, figsize=(16,5))\n",
    "fig4,ax4=plt.subplots(1,figsize=(15,15))\n",
    "\n",
    "f_min = 70.6\n",
    "f_max = 71.5\n",
    "bins = np.arange(f_min,f_max,.01)\n",
    "hist = np.zeros(len(bins)-1)\n",
    "hist_2D=np.empty((0, len(bins)-1))\n",
    "bin_norm = np.zeros(len(bins)-1)\n",
    "n_xticks =10 # every n_ticks bins there will be a tick on the axis\n",
    "ii = 0\n",
    "\n",
    "\n",
    "while 1:\n",
    "    ret = tb.latest_data(contains='laser_scan', older_than = older_than,newer_than=newer_than,return_timestamp=True, raise_exc=False)\n",
    "    if not ret:\n",
    "        break\n",
    "    timestamp,folder = ret\n",
    "    older_than=timestamp\n",
    "    if not 'g_0.0' in folder:\n",
    "        print folder\n",
    "        continue        \n",
    "    #print folder\n",
    "    d = np.loadtxt(tb.get_msmt_fp(folder, ext='dat'), skiprows=15)\n",
    "    if len(d)>2:\n",
    "        voltage, frequency, counts = d[:,0],d[:,1],d[:,2]\n",
    "    if len(counts)>100:\n",
    "        cts = counts.astype(np.float)/np.average(counts) -1\n",
    "        _h,_b = np.histogram(frequency, weights=counts, bins=bins)\n",
    "        hist+= _h\n",
    "        hist_2D = np.append(hist_2D, [_h], axis=0) \n",
    "        ax2.plot(frequency,cts, alpha=0.5)\n",
    "        ii+=1\n",
    "        \n",
    "ax.plot(bins[1:],hist/ii)        \n",
    "#ax.set_xlim(min(bins),max(bins))\n",
    "ax.set_xlabel('Frequency (GHz wrt 470.4 THz)')\n",
    "ax.set_ylabel('Average counts [Hz]')\n",
    "\n",
    "g_a= 400\n",
    "g_A= 20\n",
    "g_x0 = 70.9\n",
    "g_gamma = 0.1\n",
    "\n",
    "p0, fitfunc, fitfunc_str = common.fit_lorentz(g_a, g_A, g_x0, g_gamma)\n",
    "fit_result = fit.fit1d(bins[1:],hist/ii, None, p0=p0, fitfunc=fitfunc, do_print=True, ret=True, fixed=fixed)\n",
    "plot.plot_fit1d(fit_result, np.linspace(min(frequency),max(frequency),len(frequency)),ax=ax, label='Fit',\n",
    "                show_guess=False, plot_data=True,color='red', data_linestyle = '-', print_info= False)\n",
    "\n",
    "T = fit_result['params_dict']['x0']\n",
    "gamma = fit_result['params_dict']['gamma']\n",
    "u_gamma = fit_result['error_dict']['gamma']\n",
    "\n",
    "ax.set_xlim(f_min,f_max)\n",
    "ax.set_title('Transition at %.2f GHz,\\n Linewidth = %.2f $\\pm$ %.2f MHz'%(T, gamma*1.e3,u_gamma*1.e3))\n",
    "\n",
    "ax2.set_xlabel('Frequency (GHz wrt 470.4 THz)')\n",
    "ax2.set_ylabel('Normalized countrates')\n",
    "ax2.set_xlim(min(bins),max(bins))\n",
    "#ax.legend()\n",
    "print ii\n",
    "\n",
    "# Spectral diffusion plot\n",
    "#ax4.set_title(timestamp+'_'+os.path.split(folder)[-1])\n",
    "\n",
    "\n",
    "\n",
    "ax4.set_xlabel('Frequency (GHz wrt 470.4 THz)', fontsize = 18)\n",
    "ax4.set_ylabel('Scan number', fontsize = 18)\n",
    "\n",
    "ax4.set_ylim(0,ii)\n",
    "#ax4.set_xlim(min(bins),max(bins))\n",
    "#xticklabels = np.linspace(min(bins),max(bins),n_xticks)\n",
    "ax4.set_xticklabels(bins[0::n_xticks])\n",
    "ax4.pcolormesh(hist_2D, cmap='Greys_r', alpha = 1)\n",
    "\n",
    "\n",
    "# # getting the linewidths of both datasets and deduce spectral diffusion\n",
    "# print 'Linewidth of normal data = ', round(gamma*1.e3),'+/-',round(u_gamma*1.e3), 'MHz'\n",
    "# print 'Linewidth of shifted data = ', round(gamma1*1.e3),'+/-',round(u_gamma1*1.e3), 'MHz'\n",
    "# if abs(gamma - gamma1) > u_gamma1:\n",
    "#         print 'Estimate of spectral diffusion = ', round(gamma*1.e3 - gamma1*1.e3), 'MHz'\n",
    "# else:\n",
    "#     print 'errorbars larger than difference between linewidth, no estimate of spectral diffusion possible. '\n",
    "# plt.show()"
   ]
  },
  {
   "cell_type": "code",
   "execution_count": null,
   "metadata": {
    "collapsed": false
   },
   "outputs": [],
   "source": [
    "# calibrate laser w.r.t. spectrometer \n",
    "t = np.array([637.009, 637.04,637.06,637.153,637.289])\n",
    "d = np.array([250, 232.1, 217.1, 153.4,49.4])\n",
    "\n",
    "x,y=1/t,d\n",
    "fig,ax=plt.subplots(1, figsize=(16,5))\n",
    "\n",
    "f = common.fit_line\n",
    "args=[0,100]\n",
    "fitres = fit.fit1d(x, y, f,*args, fixed = [],\n",
    "                   do_print = True, ret = True, maxfev=100)\n",
    "p1 = fitres['params_dict']\n",
    "ax.plot(x,y, 'o')\n",
    "plot_pts=100\n",
    "x_p=np.linspace(min(x),max(x),plot_pts)\n",
    "if fitres['success']:\n",
    "    f_p = fitres['fitfunc'](x_p)\n",
    "    ax.plot(x_p,f_p)\n",
    "f_g = f(*args)[1](x_p)\n",
    "ax.plot(x_p,f_g)"
   ]
  },
  {
   "cell_type": "code",
   "execution_count": null,
   "metadata": {
    "collapsed": true
   },
   "outputs": [],
   "source": [
    "import mpmath"
   ]
  },
  {
   "cell_type": "code",
   "execution_count": null,
   "metadata": {
    "collapsed": false
   },
   "outputs": [],
   "source": []
  },
  {
   "cell_type": "code",
   "execution_count": null,
   "metadata": {
    "collapsed": false
   },
   "outputs": [],
   "source": [
    "folder = r'd:\\\\measuring\\\\data\\\\20160921\\\\161331_laser_scan_Sophie_area_5_NV1_g_2.0_r_200.0'\n",
    "d = np.loadtxt(tb.get_msmt_fp(folder, ext='dat'), skiprows=15)\n",
    "if len(d)>2:\n",
    "    frequency, counts,counts_no_green = d[:,0],d[:,1],d[:,2]"
   ]
  },
  {
   "cell_type": "code",
   "execution_count": null,
   "metadata": {
    "collapsed": false
   },
   "outputs": [],
   "source": [
    "fig,(ax,ax2)=plt.subplots(2, figsize=(16,8))\n",
    "ax.plot(frequency,counts, label = 'Green + Red')\n",
    "ax.plot(frequency, counts_no_green, label = 'Red only')\n",
    "ax2.plot(frequency,counts-counts_no_green,'r',\n",
    "         label = 'Difference')\n",
    "ax2.set_xlabel('Frequency (GHz wrt 470.4 THz)')\n",
    "ax.set_ylabel('Countrates [Hz]')\n",
    "ax2.set_ylabel('Countrate difference [Hz]')\n",
    "ax.legend()\n",
    "ax2.legend()\n",
    "#from analysis.lib.tools import rebin\n",
    "#order = 1\n",
    "#ax.plot(rebin.average(frequency,order=order),rebin.rebin(counts-counts_no_green,order=order))"
   ]
  },
  {
   "cell_type": "code",
   "execution_count": null,
   "metadata": {
    "collapsed": false
   },
   "outputs": [],
   "source": [
    "bins = np.arange(200,1050,.5)\n",
    "\n",
    "hist,_b = np.histogram(frequency, weights=counts-counts_no_green, bins=bins)       \n",
    "fig,ax2=plt.subplots(1, figsize=(16,5))\n",
    "ax2.plot(bins[1:],hist, '.')   "
   ]
  },
  {
   "cell_type": "code",
   "execution_count": null,
   "metadata": {
    "collapsed": false
   },
   "outputs": [],
   "source": []
  },
  {
   "cell_type": "code",
   "execution_count": null,
   "metadata": {
    "collapsed": false
   },
   "outputs": [],
   "source": []
  },
  {
   "cell_type": "markdown",
   "metadata": {
    "collapsed": false
   },
   "source": []
  },
  {
   "cell_type": "code",
   "execution_count": null,
   "metadata": {
    "collapsed": false
   },
   "outputs": [],
   "source": [
    "\n",
    "\n"
   ]
  },
  {
   "cell_type": "code",
   "execution_count": null,
   "metadata": {
    "collapsed": false
   },
   "outputs": [],
   "source": [
    "\n"
   ]
  },
  {
   "cell_type": "code",
   "execution_count": null,
   "metadata": {
    "collapsed": false
   },
   "outputs": [],
   "source": []
  },
  {
   "cell_type": "code",
   "execution_count": null,
   "metadata": {
    "collapsed": false
   },
   "outputs": [],
   "source": [
    "\n",
    "\n",
    "\n",
    "\n",
    "\n"
   ]
  },
  {
   "cell_type": "code",
   "execution_count": null,
   "metadata": {
    "collapsed": false
   },
   "outputs": [],
   "source": [
    "print 91.18 - 79.23"
   ]
  },
  {
   "cell_type": "code",
   "execution_count": null,
   "metadata": {
    "collapsed": true
   },
   "outputs": [],
   "source": []
  }
 ],
 "metadata": {
  "kernelspec": {
   "display_name": "Python 2",
   "language": "python",
   "name": "python2"
  },
  "language_info": {
   "codemirror_mode": {
    "name": "ipython",
    "version": 2
   },
   "file_extension": ".py",
   "mimetype": "text/x-python",
   "name": "python",
   "nbconvert_exporter": "python",
   "pygments_lexer": "ipython2",
   "version": "2.7.3"
  }
 },
 "nbformat": 4,
 "nbformat_minor": 0
}
