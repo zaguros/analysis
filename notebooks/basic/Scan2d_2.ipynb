{
 "metadata": {
  "name": "",
  "signature": ""
 },
 "nbformat": 3,
 "nbformat_minor": 0,
 "worksheets": [
  {
   "cells": [
    {
     "cell_type": "code",
     "collapsed": false,
     "input": [
      "import sys\n",
      "execfile('D:/measuring/analysis/scripts/setup_analysis.py')"
     ],
     "language": "python",
     "metadata": {},
     "outputs": []
    },
    {
     "cell_type": "code",
     "collapsed": false,
     "input": [
      "from analysis.scripts.Fabrication import Display_scan2d as dscan\n",
      "reload(dscan)\n",
      "import time"
     ],
     "language": "python",
     "metadata": {},
     "outputs": []
    },
    {
     "cell_type": "code",
     "collapsed": false,
     "input": [
      "reload(tb)"
     ],
     "language": "python",
     "metadata": {},
     "outputs": []
    },
    {
     "cell_type": "code",
     "collapsed": false,
     "input": [
      "reload(dscan)\n",
      "nr_plots=1\n",
      "older_than=None#'20160801110100'#=None#'20160729153021'#None\n",
      "for j in np.arange(nr_plots):\n",
      "    \n",
      "    timestamp,folder = tb.latest_data(contains='scan2d',older_than = older_than, return_timestamp=True,VERBOSE=False)\n",
      "    older_than=timestamp\n",
      "    print timestamp\n",
      "    title = folder\n",
      "    a = dscan.DisplayScan(folder)\n",
      "    a.get_data()\n",
      "    cr=a.countrates\n",
      "    cr[cr==0]=np.min(cr[cr>0])\n",
      "    a.plot_data(title)#,vmin=30000,vmax=150000)#, vmax=None)"
     ],
     "language": "python",
     "metadata": {},
     "outputs": []
    },
    {
     "cell_type": "code",
     "collapsed": false,
     "input": [],
     "language": "python",
     "metadata": {},
     "outputs": []
    },
    {
     "cell_type": "code",
     "collapsed": false,
     "input": [],
     "language": "python",
     "metadata": {},
     "outputs": []
    }
   ],
   "metadata": {}
  }
 ]
}
