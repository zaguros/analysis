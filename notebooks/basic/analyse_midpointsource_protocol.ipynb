{
 "metadata": {
  "name": "",
  "signature": "sha256:6c6215853fcee80e2679ddad0fc75e83c67816f3b257e0f86747ba7df9b471d9"
 },
 "nbformat": 3,
 "nbformat_minor": 0,
 "worksheets": [
  {
   "cells": [
    {
     "cell_type": "code",
     "collapsed": false,
     "input": [
      "import matplotlib\n",
      "%matplotlib inline\n",
      "import Purfunc as Pur\n",
      "import BKfunc as BK\n",
      "import Kwiatfunc as Kwiat\n",
      "import Kwiatfunc_continuous as Kwiat_cont\n",
      "import Kwiatfunc_continuous_deadtime as Kwiat_cont_deadtime\n",
      "import matplotlib.pyplot as plt\n",
      "import numpy as np"
     ],
     "language": "python",
     "metadata": {},
     "outputs": [],
     "prompt_number": 14
    },
    {
     "cell_type": "code",
     "collapsed": false,
     "input": [],
     "language": "python",
     "metadata": {},
     "outputs": []
    },
    {
     "cell_type": "code",
     "collapsed": false,
     "input": [],
     "language": "python",
     "metadata": {},
     "outputs": []
    },
    {
     "cell_type": "code",
     "collapsed": false,
     "input": [],
     "language": "python",
     "metadata": {},
     "outputs": []
    },
    {
     "cell_type": "code",
     "collapsed": false,
     "input": [],
     "language": "python",
     "metadata": {},
     "outputs": []
    },
    {
     "cell_type": "code",
     "collapsed": false,
     "input": [
      "####################kwiat continuouts + deadtime vs distances\n",
      "reload(Kwiat_cont_deadtime)\n",
      "nr_points =10\n",
      "ds = np.linspace(10,100,nr_points)\n",
      "#ds=[50]\n",
      "times =np.zeros(nr_points)\n",
      "Fs=np.zeros(nr_points)\n",
      "NA=np.zeros(nr_points)\n",
      "NB=np.zeros(nr_points)\n",
      "u_times =np.zeros(nr_points)\n",
      "u_Fs=np.zeros(nr_points)\n",
      "u_NA=np.zeros(nr_points)\n",
      "u_NB=np.zeros(nr_points)\n",
      "\n",
      "print ds\n",
      "for i,d in enumerate(ds):\n",
      "    print 'distance:', d\n",
      "    times[i],Fs[i],NA[i],NB[i],u_times[i],u_Fs[i],u_NA[i],u_NB[i] = Kwiat_cont_deadtime.Kwiat(3,n_iterations=500,pfc=0.3,pout=0.3,pm=0.1,d=d,fid_bound=0.51)\n",
      "print 'finished!'\n",
      "\n",
      "rates = 1./(times/1.e6)\n",
      "u_rates = 1./(times/1.e6)**2*(u_times/1.e6)\n",
      "#time,F = Kwiat_cont.Kwiat(1,n_iterations=10,pfc=1,pout=1,pm=1,d=10.)\n",
      "fig,ax = plt.subplots()\n",
      "ax.errorbar(ds,rates,yerr=u_rates,fmt='mo',label='rate (s))')\n",
      "ax.set_ylabel('rate (Hz)')\n",
      "ax.set_title('Midpoint Source')\n",
      "ax2=ax.twinx()\n",
      "ax2.errorbar(ds,Fs,u_Fs,fmt='co',label='fidelity')\n",
      "ax2.set_ylabel('fidelity')\n",
      "#lns=ln1+ln2\n",
      "#labs =[ln.get_label() for ln in lns]\n",
      "ax.legend()\n",
      "ax2.legend()\n",
      "ax.set_xlabel('distance (km)')\n",
      "\n",
      "\n",
      "plt.savefig('H:\\My Documents\\Future plans brainstorm\\Ways to generate entanglement\\Kwiat_F_t_vs_d_3mems_contdeadtime_boundfid.png')\n",
      "plt.show()\n",
      "print times\n",
      "print 1./(times/1.e6)\n",
      "\n",
      "f = open('H:\\My Documents\\Future plans brainstorm\\Ways to generate entanglement\\Kwiat_F_t_vs_d_3mems_contdeadtime_boundfid.txt','w')\n",
      "np.savetxt(f,[ds,Fs,times,u_Fs,u_times])\n",
      "f.close()"
     ],
     "language": "python",
     "metadata": {},
     "outputs": [
      {
       "output_type": "stream",
       "stream": "stdout",
       "text": [
        "[  10.   20.   30.   40.   50.   60.   70.   80.   90.  100.]\n",
        "distance: 10.0\n",
        "max number of attempts after success event: 1564\n",
        "1 out of 500 done\n",
        "201 out of 500 done"
       ]
      },
      {
       "output_type": "stream",
       "stream": "stdout",
       "text": [
        "\n",
        "401 out of 500 done"
       ]
      },
      {
       "output_type": "stream",
       "stream": "stdout",
       "text": [
        "\n",
        "distance:"
       ]
      },
      {
       "output_type": "stream",
       "stream": "stdout",
       "text": [
        " 20.0\n",
        "max number of attempts after success event: 1564\n",
        "1 out of 500 done\n",
        "201 out of 500 done"
       ]
      },
      {
       "output_type": "stream",
       "stream": "stdout",
       "text": [
        "\n",
        "401 out of 500 done"
       ]
      },
      {
       "output_type": "stream",
       "stream": "stdout",
       "text": [
        "\n",
        "distance:"
       ]
      },
      {
       "output_type": "stream",
       "stream": "stdout",
       "text": [
        " 30.0\n",
        "max number of attempts after success event: 1564\n",
        "1 out of 500 done\n",
        "201 out of 500 done"
       ]
      },
      {
       "output_type": "stream",
       "stream": "stdout",
       "text": [
        "\n",
        "401 out of 500 done"
       ]
      },
      {
       "output_type": "stream",
       "stream": "stdout",
       "text": [
        "\n",
        "distance:"
       ]
      },
      {
       "output_type": "stream",
       "stream": "stdout",
       "text": [
        " 40.0\n",
        "max number of attempts after success event: 1564\n",
        "1 out of 500 done"
       ]
      },
      {
       "output_type": "stream",
       "stream": "stdout",
       "text": [
        "\n",
        "201 out of 500 done"
       ]
      },
      {
       "output_type": "stream",
       "stream": "stdout",
       "text": [
        "\n",
        "401 out of 500 done"
       ]
      },
      {
       "output_type": "stream",
       "stream": "stdout",
       "text": [
        "\n",
        "distance:"
       ]
      },
      {
       "output_type": "stream",
       "stream": "stdout",
       "text": [
        " 50.0\n",
        "max number of attempts after success event: 1564\n",
        "1 out of 500 done"
       ]
      },
      {
       "output_type": "stream",
       "stream": "stdout",
       "text": [
        "\n",
        "201 out of 500 done"
       ]
      },
      {
       "output_type": "stream",
       "stream": "stdout",
       "text": [
        "\n",
        "401 out of 500 done"
       ]
      },
      {
       "output_type": "stream",
       "stream": "stdout",
       "text": [
        "\n",
        "distance:"
       ]
      },
      {
       "output_type": "stream",
       "stream": "stdout",
       "text": [
        " 60.0\n",
        "max number of attempts after success event: 1564\n",
        "1 out of 500 done"
       ]
      },
      {
       "output_type": "stream",
       "stream": "stdout",
       "text": [
        "\n",
        "201 out of 500 done"
       ]
      },
      {
       "output_type": "stream",
       "stream": "stdout",
       "text": [
        "\n",
        "401 out of 500 done"
       ]
      },
      {
       "output_type": "stream",
       "stream": "stdout",
       "text": [
        "\n",
        "distance:"
       ]
      },
      {
       "output_type": "stream",
       "stream": "stdout",
       "text": [
        " 70.0\n",
        "max number of attempts after success event: 1564\n",
        "1 out of 500 done"
       ]
      }
     ]
    },
    {
     "cell_type": "code",
     "collapsed": false,
     "input": [
      "####################kwiat continuous vs distances\n",
      "\n",
      "reload(Kwiat_cont)\n",
      "nr_points =10\n",
      "ds = np.linspace(10,100,nr_points)\n",
      "times =np.zeros(nr_points)\n",
      "Fs=np.zeros(nr_points)\n",
      "NA=np.zeros(nr_points)\n",
      "NB=np.zeros(nr_points)\n",
      "u_times =np.zeros(nr_points)\n",
      "u_Fs=np.zeros(nr_points)\n",
      "u_NA=np.zeros(nr_points)\n",
      "u_NB=np.zeros(nr_points)\n",
      "\n",
      "print ds\n",
      "for i,d in enumerate(ds):\n",
      "    print 'distance:', d\n",
      "    times[i],Fs[i],NA[i],NB[i],u_times[i],u_Fs[i],u_NA[i],u_NB[i] = Kwiat_cont.Kwiat(3,n_iterations=300,pfc=0.3,pout=0.3,pm=0.1,d=d)\n",
      "print 'finished!'\n",
      "\n",
      "rates = 1./(times/1.e6)\n",
      "u_rates = 1./(times/1.e6)**2*(u_times/1.e6)\n",
      "#time,F = Kwiat_cont.Kwiat(1,n_iterations=10,pfc=1,pout=1,pm=1,d=10.)\n",
      "fig,ax = plt.subplots()\n",
      "ax.errorbar(ds,rates,yerr=u_rates,fmt='mo',label='time per trial (ms)')\n",
      "ax.set_ylabel('rate (Hz)')\n",
      "ax.set_title('Midpoint Source')\n",
      "ax2=ax.twinx()\n",
      "ax2.errorbar(ds,Fs,u_Fs,fmt='co',label='fidelity')\n",
      "ax2.set_ylabel('fidelity')\n",
      "#lns=ln1+ln2\n",
      "#labs =[ln.get_label() for ln in lns]\n",
      "ax.legend()\n",
      "ax2.legend()\n",
      "ax.set_xlabel('distance (km)')\n",
      "plt.show()\n",
      "\n",
      "plt.savefig('H:\\My Documents\\Future plans brainstorm\\Ways to generate entanglement\\Kwiat_F_t_vs_d_3mems.png')\n",
      "\n",
      "f = open('H:\\My Documents\\Future plans brainstorm\\Ways to generate entanglement\\Kwiat_F_t_vs_d_3mems.txt','w')\n",
      "np.savetxt(f,[ds,Fs,times,u_Fs,u_times])\n",
      "f.close()"
     ],
     "language": "python",
     "metadata": {},
     "outputs": [
      {
       "output_type": "stream",
       "stream": "stdout",
       "text": [
        "[  10.   20.   30.   40.   50.   60.   70.   80.   90.  100.]\n",
        "distance: 10.0\n",
        "1 out of 300 done\n",
        "201 out of 300 done"
       ]
      },
      {
       "output_type": "stream",
       "stream": "stdout",
       "text": [
        "\n",
        "distance:"
       ]
      },
      {
       "output_type": "stream",
       "stream": "stdout",
       "text": [
        " 20.0\n",
        "1 out of 300 done\n",
        "201 out of 300 done"
       ]
      },
      {
       "output_type": "stream",
       "stream": "stdout",
       "text": [
        "\n",
        "distance:"
       ]
      },
      {
       "output_type": "stream",
       "stream": "stdout",
       "text": [
        " 30.0\n",
        "1 out of 300 done\n",
        "201 out of 300 done"
       ]
      },
      {
       "output_type": "stream",
       "stream": "stdout",
       "text": [
        "\n",
        "distance:"
       ]
      },
      {
       "output_type": "stream",
       "stream": "stdout",
       "text": [
        " 40.0\n",
        "1 out of 300 done\n",
        "201 out of 300 done"
       ]
      },
      {
       "output_type": "stream",
       "stream": "stdout",
       "text": [
        "\n",
        "distance:"
       ]
      },
      {
       "output_type": "stream",
       "stream": "stdout",
       "text": [
        " 50.0\n",
        "1 out of 300 done\n",
        "201 out of 300 done"
       ]
      },
      {
       "output_type": "stream",
       "stream": "stdout",
       "text": [
        "\n",
        "distance:"
       ]
      },
      {
       "output_type": "stream",
       "stream": "stdout",
       "text": [
        " 60.0\n",
        "1 out of 300 done\n",
        "201 out of 300 done"
       ]
      },
      {
       "output_type": "stream",
       "stream": "stdout",
       "text": [
        "\n",
        "distance:"
       ]
      },
      {
       "output_type": "stream",
       "stream": "stdout",
       "text": [
        " 70.0\n",
        "1 out of 300 done\n",
        "201 out of 300 done"
       ]
      },
      {
       "output_type": "stream",
       "stream": "stdout",
       "text": [
        "\n",
        "distance:"
       ]
      },
      {
       "output_type": "stream",
       "stream": "stdout",
       "text": [
        " 80.0\n",
        "1 out of 300 done"
       ]
      },
      {
       "output_type": "stream",
       "stream": "stdout",
       "text": [
        "\n",
        "201 out of 300 done"
       ]
      },
      {
       "output_type": "stream",
       "stream": "stdout",
       "text": [
        "\n",
        "distance:"
       ]
      },
      {
       "output_type": "stream",
       "stream": "stdout",
       "text": [
        " 90.0\n",
        "1 out of 300 done"
       ]
      },
      {
       "output_type": "stream",
       "stream": "stdout",
       "text": [
        "\n",
        "201 out of 300 done"
       ]
      },
      {
       "output_type": "stream",
       "stream": "stdout",
       "text": [
        "\n",
        "distance:"
       ]
      },
      {
       "output_type": "stream",
       "stream": "stdout",
       "text": [
        " 100.0\n",
        "1 out of 300 done\n",
        "201 out of 300 done"
       ]
      },
      {
       "output_type": "stream",
       "stream": "stdout",
       "text": [
        "\n",
        "finished!"
       ]
      },
      {
       "output_type": "stream",
       "stream": "stdout",
       "text": [
        "\n"
       ]
      },
      {
       "metadata": {},
       "output_type": "display_data",
       "png": "[encoded data removed]",
       "text": [
        "<matplotlib.figure.Figure at 0x88d75b0>"
       ]
      },
      {
       "metadata": {},
       "output_type": "display_data",
       "text": [
        "<matplotlib.figure.Figure at 0x8803190>"
       ]
      }
     ],
     "prompt_number": 3
    },
    {
     "cell_type": "code",
     "collapsed": false,
     "input": [],
     "language": "python",
     "metadata": {},
     "outputs": [],
     "prompt_number": 28
    },
    {
     "cell_type": "code",
     "collapsed": false,
     "input": [
      "####################kwiat continuous vs nr memories\n",
      "\n",
      "reload(Kwiat_cont)\n",
      "max_mem=10\n",
      "max_mem = max_mem-1 \n",
      "mems = np.arange(max_mem)+1\n",
      "times =np.zeros(max_mem)\n",
      "Fs=np.zeros(max_mem)\n",
      "NA=np.zeros(max_mem)\n",
      "NB=np.zeros(max_mem)\n",
      "u_times =np.zeros(max_mem)\n",
      "u_Fs=np.zeros(max_mem)\n",
      "u_NA=np.zeros(max_mem)\n",
      "u_NB=np.zeros(max_mem)\n",
      "\n",
      "\n",
      "print mems\n",
      "for i,NoMem in enumerate(mems):\n",
      "    print 'memories:', NoMem\n",
      "    times[i],Fs[i],NA[i],NB[i],u_times[i],u_Fs[i],u_NA[i],u_NB[i] = Kwiat_cont.Kwiat(NoMem,n_iterations=3000,pfc=0.3,pout=0.3,pm=0.1,d=50.)\n",
      "print 'finished!'\n",
      "#time,F = Kwiat_cont.Kwiat(1,n_iterations=10,pfc=1,pout=1,pm=1,d=10.)\n",
      "\n",
      "\n",
      "fig,ax = plt.subplots()\n",
      "ax.errorbar(mems,times/1000.,yerr=u_times/1000,fmt='mo',label='time per trial (ms)')\n",
      "ax.set_ylabel('time (ms)')\n",
      "ax.set_title('Midpoint Source')\n",
      "ax2=ax.twinx()\n",
      "ax2.errorbar(mems,Fs,u_Fs,fmt='co',label='fidelity')\n",
      "ax2.set_ylabel('fidelity')\n",
      "#lns=ln1+ln2\n",
      "#labs =[ln.get_label() for ln in lns]\n",
      "ax.legend()\n",
      "ax2.legend()\n",
      "ax.set_xlabel('nr memories')\n",
      "plt.show()\n",
      "\n",
      "plt.savefig('H:\\My Documents\\Future plans brainstorm\\Ways to generate entanglement\\Kwiat_F_t_vs_mems_d50.png')\n",
      "\n",
      "f = open('H:\\My Documents\\Future plans brainstorm\\Ways to generate entanglement\\Kwiat_F_t_vs_mems_d50.txt','w')\n",
      "np.savetxt(f,[mems,Fs,times,u_Fs,u_times])\n",
      "f.close()"
     ],
     "language": "python",
     "metadata": {},
     "outputs": [
      {
       "output_type": "stream",
       "stream": "stdout",
       "text": [
        "[1 2 3 4 5 6 7 8 9]\n",
        "memories: 1\n",
        "1 out of 3000 done\n",
        "201 out of 3000 done"
       ]
      },
      {
       "output_type": "stream",
       "stream": "stdout",
       "text": [
        "\n",
        "401 out of 3000 done"
       ]
      },
      {
       "output_type": "stream",
       "stream": "stdout",
       "text": [
        "\n",
        "601 out of 3000 done"
       ]
      },
      {
       "output_type": "stream",
       "stream": "stdout",
       "text": [
        "\n",
        "801 out of 3000 done"
       ]
      },
      {
       "output_type": "stream",
       "stream": "stdout",
       "text": [
        "\n",
        "1001 out of 3000 done"
       ]
      },
      {
       "output_type": "stream",
       "stream": "stdout",
       "text": [
        "\n",
        "1201 out of 3000 done"
       ]
      },
      {
       "output_type": "stream",
       "stream": "stdout",
       "text": [
        "\n",
        "1401 out of 3000 done"
       ]
      },
      {
       "output_type": "stream",
       "stream": "stdout",
       "text": [
        "\n",
        "1601 out of 3000 done"
       ]
      },
      {
       "output_type": "stream",
       "stream": "stdout",
       "text": [
        "\n",
        "1801 out of 3000 done"
       ]
      },
      {
       "output_type": "stream",
       "stream": "stdout",
       "text": [
        "\n",
        "2001 out of 3000 done"
       ]
      },
      {
       "output_type": "stream",
       "stream": "stdout",
       "text": [
        "\n",
        "2201 out of 3000 done"
       ]
      },
      {
       "output_type": "stream",
       "stream": "stdout",
       "text": [
        "\n",
        "2401 out of 3000 done"
       ]
      },
      {
       "output_type": "stream",
       "stream": "stdout",
       "text": [
        "\n",
        "2601 out of 3000 done"
       ]
      },
      {
       "output_type": "stream",
       "stream": "stdout",
       "text": [
        "\n",
        "2801 out of 3000 done"
       ]
      },
      {
       "output_type": "stream",
       "stream": "stdout",
       "text": [
        "\n",
        "memories:"
       ]
      },
      {
       "output_type": "stream",
       "stream": "stdout",
       "text": [
        " 2\n",
        "1 out of 3000 done"
       ]
      },
      {
       "output_type": "stream",
       "stream": "stdout",
       "text": [
        "\n",
        "201 out of 3000 done"
       ]
      },
      {
       "output_type": "stream",
       "stream": "stdout",
       "text": [
        "\n",
        "401 out of 3000 done"
       ]
      },
      {
       "output_type": "stream",
       "stream": "stdout",
       "text": [
        "\n",
        "601 out of 3000 done"
       ]
      },
      {
       "output_type": "stream",
       "stream": "stdout",
       "text": [
        "\n",
        "801 out of 3000 done"
       ]
      },
      {
       "output_type": "stream",
       "stream": "stdout",
       "text": [
        "\n",
        "1001 out of 3000 done"
       ]
      },
      {
       "output_type": "stream",
       "stream": "stdout",
       "text": [
        "\n",
        "1201 out of 3000 done"
       ]
      },
      {
       "output_type": "stream",
       "stream": "stdout",
       "text": [
        "\n",
        "1401 out of 3000 done"
       ]
      },
      {
       "output_type": "stream",
       "stream": "stdout",
       "text": [
        "\n",
        "1601 out of 3000 done"
       ]
      },
      {
       "output_type": "stream",
       "stream": "stdout",
       "text": [
        "\n",
        "1801 out of 3000 done"
       ]
      },
      {
       "output_type": "stream",
       "stream": "stdout",
       "text": [
        "\n",
        "2001 out of 3000 done"
       ]
      },
      {
       "output_type": "stream",
       "stream": "stdout",
       "text": [
        "\n",
        "2201 out of 3000 done"
       ]
      },
      {
       "output_type": "stream",
       "stream": "stdout",
       "text": [
        "\n",
        "2401 out of 3000 done"
       ]
      },
      {
       "output_type": "stream",
       "stream": "stdout",
       "text": [
        "\n",
        "2601 out of 3000 done"
       ]
      },
      {
       "output_type": "stream",
       "stream": "stdout",
       "text": [
        "\n",
        "2801 out of 3000 done"
       ]
      },
      {
       "output_type": "stream",
       "stream": "stdout",
       "text": [
        "\n",
        "memories:"
       ]
      },
      {
       "output_type": "stream",
       "stream": "stdout",
       "text": [
        " 3\n",
        "1 out of 3000 done\n",
        "201 out of 3000 done"
       ]
      },
      {
       "output_type": "stream",
       "stream": "stdout",
       "text": [
        "\n",
        "401 out of 3000 done"
       ]
      },
      {
       "output_type": "stream",
       "stream": "stdout",
       "text": [
        "\n",
        "601 out of 3000 done"
       ]
      },
      {
       "output_type": "stream",
       "stream": "stdout",
       "text": [
        "\n",
        "801 out of 3000 done"
       ]
      },
      {
       "output_type": "stream",
       "stream": "stdout",
       "text": [
        "\n",
        "1001 out of 3000 done"
       ]
      },
      {
       "output_type": "stream",
       "stream": "stdout",
       "text": [
        "\n",
        "1201 out of 3000 done"
       ]
      },
      {
       "output_type": "stream",
       "stream": "stdout",
       "text": [
        "\n",
        "1401 out of 3000 done"
       ]
      },
      {
       "output_type": "stream",
       "stream": "stdout",
       "text": [
        "\n",
        "1601 out of 3000 done"
       ]
      },
      {
       "output_type": "stream",
       "stream": "stdout",
       "text": [
        "\n",
        "1801 out of 3000 done"
       ]
      },
      {
       "output_type": "stream",
       "stream": "stdout",
       "text": [
        "\n",
        "2001 out of 3000 done"
       ]
      },
      {
       "output_type": "stream",
       "stream": "stdout",
       "text": [
        "\n",
        "2201 out of 3000 done"
       ]
      },
      {
       "output_type": "stream",
       "stream": "stdout",
       "text": [
        "\n",
        "2401 out of 3000 done"
       ]
      },
      {
       "output_type": "stream",
       "stream": "stdout",
       "text": [
        "\n",
        "2601 out of 3000 done"
       ]
      },
      {
       "output_type": "stream",
       "stream": "stdout",
       "text": [
        "\n",
        "2801 out of 3000 done"
       ]
      },
      {
       "output_type": "stream",
       "stream": "stdout",
       "text": [
        "\n",
        "memories:"
       ]
      },
      {
       "output_type": "stream",
       "stream": "stdout",
       "text": [
        " 4\n",
        "1 out of 3000 done\n",
        "201 out of 3000 done"
       ]
      },
      {
       "output_type": "stream",
       "stream": "stdout",
       "text": [
        "\n",
        "401 out of 3000 done"
       ]
      },
      {
       "output_type": "stream",
       "stream": "stdout",
       "text": [
        "\n",
        "601 out of 3000 done"
       ]
      },
      {
       "output_type": "stream",
       "stream": "stdout",
       "text": [
        "\n",
        "801 out of 3000 done"
       ]
      },
      {
       "output_type": "stream",
       "stream": "stdout",
       "text": [
        "\n",
        "1001 out of 3000 done"
       ]
      },
      {
       "output_type": "stream",
       "stream": "stdout",
       "text": [
        "\n",
        "1201 out of 3000 done"
       ]
      },
      {
       "output_type": "stream",
       "stream": "stdout",
       "text": [
        "\n",
        "1401 out of 3000 done"
       ]
      },
      {
       "output_type": "stream",
       "stream": "stdout",
       "text": [
        "\n",
        "1601 out of 3000 done"
       ]
      },
      {
       "output_type": "stream",
       "stream": "stdout",
       "text": [
        "\n",
        "1801 out of 3000 done"
       ]
      },
      {
       "output_type": "stream",
       "stream": "stdout",
       "text": [
        "\n",
        "2001 out of 3000 done"
       ]
      },
      {
       "output_type": "stream",
       "stream": "stdout",
       "text": [
        "\n",
        "2201 out of 3000 done"
       ]
      },
      {
       "output_type": "stream",
       "stream": "stdout",
       "text": [
        "\n",
        "2401 out of 3000 done"
       ]
      },
      {
       "output_type": "stream",
       "stream": "stdout",
       "text": [
        "\n",
        "2601 out of 3000 done"
       ]
      },
      {
       "output_type": "stream",
       "stream": "stdout",
       "text": [
        "\n",
        "2801 out of 3000 done"
       ]
      },
      {
       "output_type": "stream",
       "stream": "stdout",
       "text": [
        "\n",
        "memories:"
       ]
      },
      {
       "output_type": "stream",
       "stream": "stdout",
       "text": [
        " 5\n",
        "1 out of 3000 done\n",
        "201 out of 3000 done"
       ]
      },
      {
       "output_type": "stream",
       "stream": "stdout",
       "text": [
        "\n",
        "401 out of 3000 done"
       ]
      },
      {
       "output_type": "stream",
       "stream": "stdout",
       "text": [
        "\n",
        "601 out of 3000 done"
       ]
      },
      {
       "output_type": "stream",
       "stream": "stdout",
       "text": [
        "\n",
        "801 out of 3000 done"
       ]
      },
      {
       "output_type": "stream",
       "stream": "stdout",
       "text": [
        "\n",
        "1001 out of 3000 done"
       ]
      },
      {
       "output_type": "stream",
       "stream": "stdout",
       "text": [
        "\n",
        "1201 out of 3000 done"
       ]
      },
      {
       "output_type": "stream",
       "stream": "stdout",
       "text": [
        "\n",
        "1401 out of 3000 done"
       ]
      },
      {
       "output_type": "stream",
       "stream": "stdout",
       "text": [
        "\n",
        "1601 out of 3000 done"
       ]
      },
      {
       "output_type": "stream",
       "stream": "stdout",
       "text": [
        "\n",
        "1801 out of 3000 done"
       ]
      },
      {
       "output_type": "stream",
       "stream": "stdout",
       "text": [
        "\n",
        "2001 out of 3000 done"
       ]
      },
      {
       "output_type": "stream",
       "stream": "stdout",
       "text": [
        "\n",
        "2201 out of 3000 done"
       ]
      },
      {
       "output_type": "stream",
       "stream": "stdout",
       "text": [
        "\n",
        "2401 out of 3000 done"
       ]
      },
      {
       "output_type": "stream",
       "stream": "stdout",
       "text": [
        "\n",
        "2601 out of 3000 done"
       ]
      },
      {
       "output_type": "stream",
       "stream": "stdout",
       "text": [
        "\n",
        "2801 out of 3000 done"
       ]
      },
      {
       "output_type": "stream",
       "stream": "stdout",
       "text": [
        "\n",
        "memories:"
       ]
      },
      {
       "output_type": "stream",
       "stream": "stdout",
       "text": [
        " 6\n",
        "1 out of 3000 done\n",
        "201 out of 3000 done"
       ]
      },
      {
       "output_type": "stream",
       "stream": "stdout",
       "text": [
        "\n",
        "401 out of 3000 done"
       ]
      },
      {
       "output_type": "stream",
       "stream": "stdout",
       "text": [
        "\n",
        "601 out of 3000 done"
       ]
      },
      {
       "output_type": "stream",
       "stream": "stdout",
       "text": [
        "\n",
        "801 out of 3000 done"
       ]
      },
      {
       "output_type": "stream",
       "stream": "stdout",
       "text": [
        "\n",
        "1001 out of 3000 done"
       ]
      },
      {
       "output_type": "stream",
       "stream": "stdout",
       "text": [
        "\n",
        "1201 out of 3000 done"
       ]
      },
      {
       "output_type": "stream",
       "stream": "stdout",
       "text": [
        "\n",
        "1401 out of 3000 done"
       ]
      },
      {
       "output_type": "stream",
       "stream": "stdout",
       "text": [
        "\n",
        "1601 out of 3000 done"
       ]
      },
      {
       "output_type": "stream",
       "stream": "stdout",
       "text": [
        "\n",
        "1801 out of 3000 done"
       ]
      },
      {
       "output_type": "stream",
       "stream": "stdout",
       "text": [
        "\n",
        "2001 out of 3000 done"
       ]
      },
      {
       "output_type": "stream",
       "stream": "stdout",
       "text": [
        "\n",
        "2201 out of 3000 done"
       ]
      },
      {
       "output_type": "stream",
       "stream": "stdout",
       "text": [
        "\n",
        "2401 out of 3000 done"
       ]
      },
      {
       "output_type": "stream",
       "stream": "stdout",
       "text": [
        "\n",
        "2601 out of 3000 done"
       ]
      },
      {
       "output_type": "stream",
       "stream": "stdout",
       "text": [
        "\n",
        "2801 out of 3000 done"
       ]
      },
      {
       "output_type": "stream",
       "stream": "stdout",
       "text": [
        "\n",
        "memories:"
       ]
      },
      {
       "output_type": "stream",
       "stream": "stdout",
       "text": [
        " 7\n",
        "1 out of 3000 done"
       ]
      },
      {
       "output_type": "stream",
       "stream": "stdout",
       "text": [
        "\n",
        "201 out of 3000 done"
       ]
      },
      {
       "output_type": "stream",
       "stream": "stdout",
       "text": [
        "\n",
        "401 out of 3000 done"
       ]
      },
      {
       "output_type": "stream",
       "stream": "stdout",
       "text": [
        "\n",
        "601 out of 3000 done"
       ]
      },
      {
       "output_type": "stream",
       "stream": "stdout",
       "text": [
        "\n",
        "801 out of 3000 done"
       ]
      },
      {
       "output_type": "stream",
       "stream": "stdout",
       "text": [
        "\n",
        "1001 out of 3000 done"
       ]
      },
      {
       "output_type": "stream",
       "stream": "stdout",
       "text": [
        "\n",
        "1201 out of 3000 done"
       ]
      },
      {
       "output_type": "stream",
       "stream": "stdout",
       "text": [
        "\n",
        "1401 out of 3000 done"
       ]
      },
      {
       "output_type": "stream",
       "stream": "stdout",
       "text": [
        "\n",
        "1601 out of 3000 done"
       ]
      },
      {
       "output_type": "stream",
       "stream": "stdout",
       "text": [
        "\n",
        "1801 out of 3000 done"
       ]
      },
      {
       "output_type": "stream",
       "stream": "stdout",
       "text": [
        "\n",
        "2001 out of 3000 done"
       ]
      },
      {
       "output_type": "stream",
       "stream": "stdout",
       "text": [
        "\n",
        "2201 out of 3000 done"
       ]
      },
      {
       "output_type": "stream",
       "stream": "stdout",
       "text": [
        "\n",
        "2401 out of 3000 done"
       ]
      },
      {
       "output_type": "stream",
       "stream": "stdout",
       "text": [
        "\n",
        "2601 out of 3000 done"
       ]
      },
      {
       "output_type": "stream",
       "stream": "stdout",
       "text": [
        "\n",
        "2801 out of 3000 done"
       ]
      },
      {
       "output_type": "stream",
       "stream": "stdout",
       "text": [
        "\n",
        "memories:"
       ]
      },
      {
       "output_type": "stream",
       "stream": "stdout",
       "text": [
        " 8\n",
        "1 out of 3000 done\n",
        "201 out of 3000 done"
       ]
      },
      {
       "output_type": "stream",
       "stream": "stdout",
       "text": [
        "\n",
        "401 out of 3000 done"
       ]
      },
      {
       "output_type": "stream",
       "stream": "stdout",
       "text": [
        "\n",
        "601 out of 3000 done"
       ]
      },
      {
       "output_type": "stream",
       "stream": "stdout",
       "text": [
        "\n",
        "801 out of 3000 done"
       ]
      },
      {
       "output_type": "stream",
       "stream": "stdout",
       "text": [
        "\n",
        "1001 out of 3000 done"
       ]
      },
      {
       "output_type": "stream",
       "stream": "stdout",
       "text": [
        "\n",
        "1201 out of 3000 done"
       ]
      },
      {
       "output_type": "stream",
       "stream": "stdout",
       "text": [
        "\n",
        "1401 out of 3000 done"
       ]
      },
      {
       "output_type": "stream",
       "stream": "stdout",
       "text": [
        "\n",
        "1601 out of 3000 done"
       ]
      },
      {
       "output_type": "stream",
       "stream": "stdout",
       "text": [
        "\n",
        "1801 out of 3000 done"
       ]
      },
      {
       "output_type": "stream",
       "stream": "stdout",
       "text": [
        "\n",
        "2001 out of 3000 done"
       ]
      },
      {
       "output_type": "stream",
       "stream": "stdout",
       "text": [
        "\n",
        "2201 out of 3000 done"
       ]
      },
      {
       "output_type": "stream",
       "stream": "stdout",
       "text": [
        "\n",
        "2401 out of 3000 done"
       ]
      },
      {
       "output_type": "stream",
       "stream": "stdout",
       "text": [
        "\n",
        "2601 out of 3000 done"
       ]
      },
      {
       "output_type": "stream",
       "stream": "stdout",
       "text": [
        "\n",
        "2801 out of 3000 done"
       ]
      },
      {
       "output_type": "stream",
       "stream": "stdout",
       "text": [
        "\n",
        "memories:"
       ]
      },
      {
       "output_type": "stream",
       "stream": "stdout",
       "text": [
        " 9\n",
        "1 out of 3000 done\n",
        "201 out of 3000 done"
       ]
      },
      {
       "output_type": "stream",
       "stream": "stdout",
       "text": [
        "\n",
        "401 out of 3000 done"
       ]
      },
      {
       "output_type": "stream",
       "stream": "stdout",
       "text": [
        "\n",
        "601 out of 3000 done"
       ]
      },
      {
       "output_type": "stream",
       "stream": "stdout",
       "text": [
        "\n",
        "801 out of 3000 done"
       ]
      },
      {
       "output_type": "stream",
       "stream": "stdout",
       "text": [
        "\n",
        "1001 out of 3000 done"
       ]
      },
      {
       "output_type": "stream",
       "stream": "stdout",
       "text": [
        "\n",
        "1201 out of 3000 done"
       ]
      },
      {
       "output_type": "stream",
       "stream": "stdout",
       "text": [
        "\n",
        "1401 out of 3000 done"
       ]
      },
      {
       "output_type": "stream",
       "stream": "stdout",
       "text": [
        "\n",
        "1601 out of 3000 done"
       ]
      },
      {
       "output_type": "stream",
       "stream": "stdout",
       "text": [
        "\n",
        "1801 out of 3000 done"
       ]
      },
      {
       "output_type": "stream",
       "stream": "stdout",
       "text": [
        "\n",
        "2001 out of 3000 done"
       ]
      },
      {
       "output_type": "stream",
       "stream": "stdout",
       "text": [
        "\n",
        "2201 out of 3000 done"
       ]
      },
      {
       "output_type": "stream",
       "stream": "stdout",
       "text": [
        "\n",
        "2401 out of 3000 done"
       ]
      },
      {
       "output_type": "stream",
       "stream": "stdout",
       "text": [
        "\n",
        "2601 out of 3000 done"
       ]
      },
      {
       "output_type": "stream",
       "stream": "stdout",
       "text": [
        "\n",
        "2801 out of 3000 done"
       ]
      },
      {
       "output_type": "stream",
       "stream": "stdout",
       "text": [
        "\n",
        "finished!"
       ]
      },
      {
       "output_type": "stream",
       "stream": "stdout",
       "text": [
        "\n"
       ]
      },
      {
       "metadata": {},
       "output_type": "display_data",
       "png": "[encoded data removed]",
       "text": [
        "<matplotlib.figure.Figure at 0x8bf10d0>"
       ]
      },
      {
       "metadata": {},
       "output_type": "display_data",
       "text": [
        "<matplotlib.figure.Figure at 0x8851bb0>"
       ]
      }
     ],
     "prompt_number": 47
    },
    {
     "cell_type": "code",
     "collapsed": false,
     "input": [
      "\n"
     ],
     "language": "python",
     "metadata": {},
     "outputs": []
    },
    {
     "cell_type": "code",
     "collapsed": false,
     "input": [],
     "language": "python",
     "metadata": {},
     "outputs": []
    },
    {
     "cell_type": "code",
     "collapsed": false,
     "input": [],
     "language": "python",
     "metadata": {},
     "outputs": []
    },
    {
     "cell_type": "code",
     "collapsed": false,
     "input": [],
     "language": "python",
     "metadata": {},
     "outputs": []
    },
    {
     "cell_type": "raw",
     "metadata": {},
     "source": []
    },
    {
     "cell_type": "code",
     "collapsed": false,
     "input": [],
     "language": "python",
     "metadata": {},
     "outputs": []
    }
   ],
   "metadata": {}
  }
 ]
}