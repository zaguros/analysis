{
 "cells": [
  {
   "cell_type": "code",
   "execution_count": null,
   "metadata": {
    "collapsed": false
   },
   "outputs": [],
   "source": [
    "execfile('d:/measuring/analysis/scripts/setup_analysis.py')\n",
    "%matplotlib inline"
   ]
  },
  {
   "cell_type": "code",
   "execution_count": null,
   "metadata": {
    "collapsed": false
   },
   "outputs": [],
   "source": []
  },
  {
   "cell_type": "code",
   "execution_count": null,
   "metadata": {
    "collapsed": false
   },
   "outputs": [],
   "source": [
    "folder= tb.latest_data(contains='qutau')\n",
    "a = m2.M2Analysis(folder)\n",
    "\n",
    "x = a.f['x'][:]\n",
    "y = a.f['y'][:]\n",
    "\n",
    "x_psb = a.f['x2'][:]\n",
    "y_psb = a.f['y2'][:]\n"
   ]
  },
  {
   "cell_type": "code",
   "execution_count": null,
   "metadata": {
    "collapsed": false
   },
   "outputs": [],
   "source": [
    "g_a = 0\n",
    "g_A = 600\n",
    "g_tau = 12\n",
    "x_start = 225\n",
    "x_i_start = np.argmin(abs(x-x_start))\n",
    "x_psb_start = 200\n",
    "x_psb_i_start = np.argmin(abs(x_psb-x_psb_start))\n",
    "print x_i_start, x_psb_i_start\n",
    "\n",
    "p0, fitfunc, fitfunc_str = common.fit_exp_decay_with_offset(g_a,g_A,g_tau)\n",
    "fit_res=fit.fit1d(x[x_i_start:]-x[x_i_start],y[x_i_start:], fitmethod=None,p0=p0, fitfunc=fitfunc, fitfunc_str=fitfunc_str,do_print=True)\n",
    "ax = plot.plot_fit1d(fit_res,print_info=False, ret='ax')\n",
    "tau= fit_res['params_dict']['tau']\n",
    "u_tau = fit_res['error_dict']['tau']\n",
    "ax.text(300,max(y)/2,'tau ZPL = %.1f +- %.1f ns'%(tau,u_tau),color='c')\n",
    "\n",
    "\n",
    "p0, fitfunc, fitfunc_str = common.fit_exp_decay_with_offset(g_a,g_A,g_tau)\n",
    "fit_res=fit.fit1d(x_psb[x_psb_i_start:]-x_psb[x_psb_i_start],y_psb[x_psb_i_start:], fitmethod=None,p0=p0, fitfunc=fitfunc, fitfunc_str=fitfunc_str,do_print=True)\n",
    "ax = plot.plot_fit1d(fit_res,print_info=False,ax=ax, ret='ax')\n",
    "tau= fit_res['params_dict']['tau']\n",
    "u_tau = fit_res['error_dict']['tau']\n",
    "ax.text(300,max(y_psb)/2,'tau PSB = %.1f +- %.1f ns'%(tau,u_tau),color='m')\n",
    "\n",
    "ax.set_title(folder)\n",
    "\n",
    "\n",
    "ax.set_yscale('log')\n",
    "ax.set_ylim(1,max(y_psb)*1.1)\n",
    "ax.set_xlabel('time (ns)')\n",
    "ax.set_ylabel('cts')"
   ]
  },
  {
   "cell_type": "code",
   "execution_count": null,
   "metadata": {
    "collapsed": false
   },
   "outputs": [],
   "source": [
    "\n"
   ]
  },
  {
   "cell_type": "code",
   "execution_count": null,
   "metadata": {
    "collapsed": false
   },
   "outputs": [],
   "source": [
    "# def m1(R,h):\n",
    "#     m1 = np.array(((-R*(3**0.5)/(2*h), R/(2*h), 1 ), (0, -R/h, 1), (R*(3**0.5)/(2*h), R/(2*h), 1 )))\n",
    "#     return m1\n",
    "# def m2(R,h):\n",
    "#     m2 = 1./(3*R)*np.array(((-h*(3**0.5),0,h*(3**0.5)),(h,-2*h,h),(R,R,R)))\n",
    "#     return m2\n",
    "\n",
    "# ma= m1(15.,50.)\n",
    "# mb = m2(15.,50.)\n",
    "\n",
    "# print ma\n",
    "# print mb\n",
    "# print np.dot(ma,mb)\n",
    "\n",
    "\n",
    "\n",
    "# # = []\n",
    "# # a = a.append(3)\n",
    "# # print b\n",
    "# # print a"
   ]
  },
  {
   "cell_type": "code",
   "execution_count": null,
   "metadata": {
    "collapsed": true
   },
   "outputs": [],
   "source": []
  }
 ],
 "metadata": {
  "kernelspec": {
   "display_name": "Python 2",
   "language": "python",
   "name": "python2"
  },
  "language_info": {
   "codemirror_mode": {
    "name": "ipython",
    "version": 2
   },
   "file_extension": ".py",
   "mimetype": "text/x-python",
   "name": "python",
   "nbconvert_exporter": "python",
   "pygments_lexer": "ipython2",
   "version": "2.7.3"
  }
 },
 "nbformat": 4,
 "nbformat_minor": 0
}
