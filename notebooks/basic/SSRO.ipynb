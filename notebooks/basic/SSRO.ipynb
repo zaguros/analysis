{
 "cells": [
  {
   "cell_type": "code",
   "execution_count": null,
   "metadata": {
    "collapsed": false
   },
   "outputs": [],
   "source": [
    "execfile(r'D:\\measuring\\analysis\\scripts\\setup_analysis.py')"
   ]
  },
  {
   "cell_type": "code",
   "execution_count": null,
   "metadata": {
    "collapsed": false
   },
   "outputs": [],
   "source": [
    "nvlevels.get_ES_ExEy(35.7, 49.4, transitions=True)"
   ]
  },
  {
   "cell_type": "code",
   "execution_count": null,
   "metadata": {
    "collapsed": false
   },
   "outputs": [],
   "source": [
    "from analysis.lib.nv import detection\n",
    "detection.get_Ey_vs_strain_saturation(13,1e6)\n",
    "from analysis.lib.nv import detection\n",
    "detection.get_Ey_vs_strain_saturation(8,1.05e6)"
   ]
  },
  {
   "cell_type": "code",
   "execution_count": null,
   "metadata": {
    "collapsed": false
   },
   "outputs": [],
   "source": [
    "Ey_cands = [31.81, 32.41, 32.63]\n",
    "Ex_cands = [49.59, 50.56, 51.99]\n",
    "\n",
    "for Ey in Ey_cands:\n",
    "    for Ex in Ex_cands:\n",
    "        transitions = np.round(nvlevels.get_ES_ExEy(Ey, Ex, transitions = True),2)\n",
    "        print \"Ey = %s, Ex = %s yields E'x = %s, E'y = %s, A1 = %s, A2 = %s\" % (transitions[2], transitions[4], transitions[0], transitions[1], transitions[3], transitions[5])"
   ]
  },
  {
   "cell_type": "code",
   "execution_count": null,
   "metadata": {
    "collapsed": false
   },
   "outputs": [],
   "source": [
    "ssro.ssrocalib(plot_photon_ms0=False)\n",
    "#ssro.ssrocalib(folder=tb.data_from_time('20140514174758'))"
   ]
  },
  {
   "cell_type": "code",
   "execution_count": null,
   "metadata": {
    "collapsed": false
   },
   "outputs": [],
   "source": [
    "execfile(r'D:\\measuring\\analysis\\scripts\\setup_analysis.py')\n",
    "\n",
    "folder= tb.latest_data('FastSSRO')\n",
    "#folder = r'D:\\measuring\\data\\20140507\\131506_PQPulsarMeasurement_FastSSROCalibration_test'\n",
    "#folder=tb.data_from_time('20140507141331')\n",
    "a=pqsequence.FastSSROAnalysis(folder)#, pq_folder='bs_remote')\n",
    "a.get_sweep_pts()\n",
    "a.get_readout_results('ssro')\n",
    "a.get_sweep_idxs(noof_syncs_per_sweep_pt=1)\n",
    "a.get_fastssro_results(channel=0,pq_binsize_ns=1.0, hist_binsize_ns=100.0)\n"
   ]
  },
  {
   "cell_type": "code",
   "execution_count": null,
   "metadata": {
    "collapsed": false
   },
   "outputs": [],
   "source": [
    "sweep_index = 1\n",
    "ax=a.plot_mean_fidelity(sweep_index, RO_length_ns=4000, ret='ax')\n",
    "ax.set_ylim(0.5,1.01)"
   ]
  },
  {
   "cell_type": "code",
   "execution_count": null,
   "metadata": {
    "collapsed": false
   },
   "outputs": [],
   "source": [
    "a.plot_fidelity_cpsh_vs_sweep(RO_length_ns=3500)"
   ]
  },
  {
   "cell_type": "code",
   "execution_count": null,
   "metadata": {
    "collapsed": false
   },
   "outputs": [],
   "source": [
    "d=a.plot_relaxation_vs_sweep(0,'RO')"
   ]
  },
  {
   "cell_type": "code",
   "execution_count": null,
   "metadata": {
    "collapsed": false
   },
   "outputs": [],
   "source": [
    "sweep_index = 2\n",
    "a.plot_relaxation(sweep_index,ms=0, st='RO')\n",
    "a.plot_relaxation(sweep_index,ms=0, st='SP')\n",
    "a.plot_relaxation(sweep_index,ms=1, st='RO')\n",
    "a.plot_relaxation(sweep_index,ms=1, st='SP')\n"
   ]
  },
  {
   "cell_type": "code",
   "execution_count": null,
   "metadata": {
    "collapsed": false
   },
   "outputs": [],
   "source": [
    "bar(arange(1000),a.pqf['PQ_hist_lengths'][:1000])"
   ]
  },
  {
   "cell_type": "code",
   "execution_count": null,
   "metadata": {
    "collapsed": false
   },
   "outputs": [],
   "source": [
    "a._get_RO_window(1,5)"
   ]
  },
  {
   "cell_type": "code",
   "execution_count": null,
   "metadata": {
    "collapsed": false
   },
   "outputs": [],
   "source": [
    "a.hist_binsize_ns=1\n",
    "x,y=a._get_relaxation(1,5,60000,100000)"
   ]
  },
  {
   "cell_type": "code",
   "execution_count": null,
   "metadata": {
    "collapsed": false
   },
   "outputs": [],
   "source": [
    "sum(x)/100e-6/5000"
   ]
  },
  {
   "cell_type": "code",
   "execution_count": null,
   "metadata": {
    "collapsed": false
   },
   "outputs": [],
   "source": [
    "f1,_tmp=a._get_fidelity_and_mean_cpsh(1,5,152000,3000)"
   ]
  },
  {
   "cell_type": "code",
   "execution_count": null,
   "metadata": {
    "collapsed": false
   },
   "outputs": [],
   "source": [
    "4/5000.+f1"
   ]
  },
  {
   "cell_type": "code",
   "execution_count": null,
   "metadata": {
    "collapsed": false
   },
   "outputs": [],
   "source": [
    "execfile(r'D:\\measuring\\analysis\\scripts\\laser_scan\\plot_simplest_gate_tuning.py')"
   ]
  },
  {
   "cell_type": "code",
   "execution_count": null,
   "metadata": {
    "collapsed": false
   },
   "outputs": [],
   "source": [
    "import h5py\n",
    "datafile = r'X:\\data\\20140529\\185317_Bell_BS_test_BS_lt1_tail_Pippin_Sil3_0V'\n",
    "data = h5py.File(datafile,'r')\n",
    "times = data['PQ_sync_time-1'].value\n",
    "sync_numbers = data['PQ_sync_number-1'].value\n",
    "channel = data['PQ_channel-1'].value"
   ]
  },
  {
   "cell_type": "code",
   "execution_count": null,
   "metadata": {
    "collapsed": false
   },
   "outputs": [],
   "source": [
    "fig = plt.figure()\n",
    "ax = fig.add_subplot(111)\n",
    "ax.hist(times,1000)"
   ]
  },
  {
   "cell_type": "code",
   "execution_count": null,
   "metadata": {
    "collapsed": false
   },
   "outputs": [],
   "source": [
    "fig = plt.figure()\n",
    "ax = fig.add_subplot(111)\n",
    "ax.hist(sync_numbers[0:1000])"
   ]
  },
  {
   "cell_type": "code",
   "execution_count": null,
   "metadata": {
    "collapsed": false
   },
   "outputs": [],
   "source": [
    "np.max(channel)"
   ]
  },
  {
   "cell_type": "code",
   "execution_count": null,
   "metadata": {
    "collapsed": false
   },
   "outputs": [],
   "source": [
    "x,y=nvlevels.get_levels()\n",
    "plot(x,y)\n"
   ]
  },
  {
   "cell_type": "code",
   "execution_count": null,
   "metadata": {
    "collapsed": false
   },
   "outputs": [],
   "source": [
    "sort(nvlevels.get_ES(E_field=[7.2/2,0,0])[0])"
   ]
  },
  {
   "cell_type": "code",
   "execution_count": null,
   "metadata": {
    "collapsed": false
   },
   "outputs": [],
   "source": []
  },
  {
   "cell_type": "code",
   "execution_count": null,
   "metadata": {
    "collapsed": false
   },
   "outputs": [],
   "source": [
    "detection.get_Ey_vs_strain_saturation?"
   ]
  },
  {
   "cell_type": "code",
   "execution_count": null,
   "metadata": {
    "collapsed": false
   },
   "outputs": [],
   "source": [
    "detection.get_SSRO_stats?"
   ]
  },
  {
   "cell_type": "code",
   "execution_count": null,
   "metadata": {
    "collapsed": false
   },
   "outputs": [],
   "source": [
    "x=np.linspace(-np.pi,np.pi,500)\n",
    "y=sin(x)**40000\n",
    "plt.plot(x,y)\n",
    "plt.show()"
   ]
  },
  {
   "cell_type": "code",
   "execution_count": null,
   "metadata": {
    "collapsed": false
   },
   "outputs": [],
   "source": []
  }
 ],
 "metadata": {
  "kernelspec": {
   "display_name": "Python 2",
   "language": "python",
   "name": "python2"
  },
  "language_info": {
   "codemirror_mode": {
    "name": "ipython",
    "version": 2
   },
   "file_extension": ".py",
   "mimetype": "text/x-python",
   "name": "python",
   "nbconvert_exporter": "python",
   "pygments_lexer": "ipython2",
   "version": "2.7.3"
  }
 },
 "nbformat": 4,
 "nbformat_minor": 0
}
