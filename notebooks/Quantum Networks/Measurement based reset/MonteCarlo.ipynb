{
 "cells": [
  {
   "cell_type": "code",
   "execution_count": null,
   "metadata": {
    "collapsed": false
   },
   "outputs": [],
   "source": [
    "%matplotlib inline"
   ]
  },
  {
   "cell_type": "code",
   "execution_count": null,
   "metadata": {
    "collapsed": false
   },
   "outputs": [],
   "source": [
    "from analysis.lib.sim.NVpop_monteCarlo import monteCarlo_repumping as mcr; reload(mcr)"
   ]
  },
  {
   "cell_type": "markdown",
   "metadata": {},
   "source": [
    "## Single cycle"
   ]
  },
  {
   "cell_type": "code",
   "execution_count": null,
   "metadata": {
    "collapsed": false
   },
   "outputs": [],
   "source": [
    "reload(mcr);\n",
    "\n",
    "rmc = mcr.repumpingMonteCarlo()\n",
    "\n",
    "rmc.extra_singlet_state = False\n",
    "\n",
    "rmc.drive = 0\n",
    "rmc.init_state = 5\n",
    "rmc.S_lifetime = 300.0\n",
    "\n",
    "rmc.drive_branching = mcr.normalized([1,0])\n",
    "E1_branching_raw = np.array([1.0,0.00,0.0,0.63,0.0,0.0])\n",
    "E2_branching_raw = np.array([0.03,0.936,0.034,0.63,0.0,0.0])\n",
    "rmc.E1_branching = mcr.normalized(E1_branching_raw)\n",
    "rmc.E2_branching = mcr.normalized(E2_branching_raw)\n",
    "rmc.E1_lifetime = 11.7/np.sum(E1_branching_raw)\n",
    "rmc.E2_lifetime = 11.7/np.sum(E2_branching_raw)\n",
    "rmc.S_branching = mcr.normalized([1,1,8,0,0,0])\n",
    "\n",
    "rmc.time_duration = 500\n",
    "rmc.dt = 0.5\n",
    "rmc.repetitions = 10000\n",
    "\n",
    "rmc.run(print_end_pops = True,log_plot=False,do_fit='before_decay',invert_Z = False)\n",
    "    "
   ]
  },
  {
   "cell_type": "markdown",
   "metadata": {},
   "source": [
    "## Hold in singlet state"
   ]
  },
  {
   "cell_type": "code",
   "execution_count": null,
   "metadata": {
    "collapsed": false
   },
   "outputs": [],
   "source": [
    "Apar = np.array([-365,-26,-55,33,26.5,-72])*1e3\n",
    "Aperp = np.array([100,18,25,35,30,30])*1e3\n",
    "Larmor = 442800.0\n",
    "\n",
    "fp1 = (np.sqrt((Larmor + Apar)**2 + Aperp**2) - Larmor)\n",
    "fm1 = (np.sqrt((Larmor - Apar)**2 + Aperp**2) - Larmor)\n",
    "favg = (fp1+fm1)/2\n",
    "\n",
    "print 'Freq ms=+1: ', np.around(fp1,0)\n",
    "print 'Freq ms=-1: ',  np.around(fm1,0)\n",
    "print 'Avg freq: ', np.around(favg,0)\n",
    "\n",
    "print 'Phase acquired per mus: ', 360*favg*1e-6"
   ]
  },
  {
   "cell_type": "markdown",
   "metadata": {},
   "source": [
    "## Repumping"
   ]
  },
  {
   "cell_type": "code",
   "execution_count": null,
   "metadata": {
    "collapsed": false,
    "scrolled": false
   },
   "outputs": [],
   "source": [
    "reload(mcr);\n",
    "\n",
    "rmc = mcr.repumpingMonteCarlo()\n",
    "\n",
    "rmc.extra_singlet_state = True\n",
    "\n",
    "rmc.drive = 2\n",
    "rmc.init_state = 1\n",
    "rmc.S_lifetime = 300.0\n",
    "\n",
    "rmc.drive_branching = mcr.normalized([1,0])\n",
    "E1_branching_raw = np.array([1.0,0.00,0.0,0.63,0.0,0.0])\n",
    "E2_branching_raw = np.array([0.03,0.936,0.034,0.63,0.0,0.0])\n",
    "rmc.E1_branching = mcr.normalized(E1_branching_raw)\n",
    "rmc.E2_branching = mcr.normalized(E2_branching_raw)\n",
    "rmc.E1_lifetime = 11.7/np.sum(E1_branching_raw)\n",
    "rmc.E2_lifetime = 11.7/np.sum(E2_branching_raw)\n",
    "rmc.S_branching = mcr.normalized([1,1,8,0,0,0])\n",
    "\n",
    "rmc.time_duration = 2000\n",
    "rmc.dt = 0.2\n",
    "rmc.repetitions = 5000\n",
    "\n",
    "rmc.run(print_end_pops = True,log_plot=True,do_fit='after_decay',invert_Z = True)\n",
    "    "
   ]
  },
  {
   "cell_type": "code",
   "execution_count": null,
   "metadata": {
    "collapsed": false
   },
   "outputs": [],
   "source": [
    "avgRepumpTime=np.sum(rmc.t_array[:-1]*(-np.diff(rmc.mean_populations[:,3])))\n",
    "\n",
    "print avgRepumpTime"
   ]
  },
  {
   "cell_type": "code",
   "execution_count": null,
   "metadata": {
    "collapsed": false
   },
   "outputs": [],
   "source": [
    "Apar = np.array([-365,-26,-55,33,26.5,-72])*1e3\n",
    "Aperp = np.array([100,18,25,35,30,30])*1e3\n",
    "Larmor = 442800.0\n",
    "\n",
    "fp1 = (np.sqrt((Larmor + Apar)**2 + Aperp**2) - Larmor)\n",
    "fm1 = (np.sqrt((Larmor - Apar)**2 + Aperp**2) - Larmor)\n",
    "favg = (fp1+fm1)/2\n",
    "\n",
    "carbon = 0\n",
    "\n",
    "wp1=360.0*1e-9*fp1[carbon]\n",
    "wm1=360.0*1e-9*fm1[carbon]\n",
    "\n",
    "phase = np.float(rmc.dt)*np.array([wp1,wm1,0,wp1,wp1,wm1,wm1])\n",
    "phaseAcquired = np.sum(np.dot(phase,np.transpose(rmc.populations,axes = [0,2,1])),axis=1)\n",
    "\n",
    "h,bins =np.histogram(phaseAcquired,np.linspace(-50,50,50))\n",
    "centers = bins[:-1] + (bins[1]-bins[0])/2\n",
    "\n",
    "plt.plot(centers,h)\n",
    "plt.show()\n",
    "plt.close()\n",
    "\n",
    "meanPhase = np.mean(phaseAcquired)\n",
    "stdDevPhase = np.sqrt(np.var(phaseAcquired))\n",
    "\n",
    "print 'Mean phase, std dev phase: ', np.around(meanPhase,2), np.around(stdDevPhase,2)\n",
    "print 'Time in ms=-1 required to acquire mean phase (ns): ', np.around(meanPhase/wm1,2)\n",
    "\n",
    "print '\\n Only singlet'\n",
    "\n",
    "wp1=360.0*1e-9*fp1[carbon]\n",
    "wm1=360.0*1e-9*fm1[carbon]\n",
    "\n",
    "phase = np.float(rmc.dt)*np.array([0,0,0,wp1,0,0,wm1])\n",
    "phaseAcquired = np.sum(np.dot(phase,np.transpose(rmc.populations,axes = [0,2,1])),axis=1)\n",
    "\n",
    "h,bins =np.histogram(phaseAcquired,np.linspace(-50,50,50))\n",
    "centers = bins[:-1] + (bins[1]-bins[0])/2\n",
    "\n",
    "plt.plot(centers,h)\n",
    "plt.show()\n",
    "plt.close()\n",
    "\n",
    "meanPhase = np.mean(phaseAcquired)\n",
    "stdDevPhase = np.sqrt(np.var(phaseAcquired))\n",
    "\n",
    "print 'Mean phase, std dev phase: ', np.around(meanPhase,2), np.around(stdDevPhase,2)\n",
    "print 'Time in ms=-1 required to acquire mean phase (ns): ', np.around(meanPhase/wm1,2)"
   ]
  },
  {
   "cell_type": "code",
   "execution_count": null,
   "metadata": {
    "collapsed": false
   },
   "outputs": [],
   "source": [
    "favg*360*300e-9"
   ]
  },
  {
   "cell_type": "code",
   "execution_count": null,
   "metadata": {
    "collapsed": false
   },
   "outputs": [],
   "source": [
    "360*np.sqrt(0.5*(fp1)**2 + 0.5*(fm1)**2 - favg**2)*300e-9"
   ]
  },
  {
   "cell_type": "code",
   "execution_count": null,
   "metadata": {
    "collapsed": false
   },
   "outputs": [],
   "source": [
    "drive = 1\n",
    "S_lifetime = 440.0\n",
    "\n",
    "\n",
    "drive_branching = mcr.normalized([0.5,0.5])\n",
    "A1_branching_raw = np.array([0.5,0.5,0.0,1.4,0.0,0.0])\n",
    "A2_branching_raw = np.array([0.5,0.5,0.0,0.0,0.0,0.0])\n",
    "A1_branching = mcr.normalized(A1_branching_raw)\n",
    "A2_branching = mcr.normalized(A2_branching_raw)\n",
    "E1_lifetime = 12/np.sum(A1_branching_raw)\n",
    "E2_lifetime = 12/np.sum(A2_branching_raw)\n",
    "\n",
    "time_duration = 600\n",
    "dt = 0.1\n",
    "repetitions = 1000\n",
    "\n",
    "t_array,populations,mean_populations = mcr.run_mc(time_duration,dt,repetitions,\n",
    "                                                  S_branching = S_branching,\n",
    "                                                  E1_branching = A1_branching,\n",
    "                                                  E2_branching = A2_branching,\n",
    "                                                  drive = drive)"
   ]
  },
  {
   "cell_type": "code",
   "execution_count": null,
   "metadata": {
    "collapsed": true
   },
   "outputs": [],
   "source": []
  }
 ],
 "metadata": {
  "kernelspec": {
   "display_name": "Python 2",
   "language": "python",
   "name": "python2"
  },
  "language_info": {
   "codemirror_mode": {
    "name": "ipython",
    "version": 2
   },
   "file_extension": ".py",
   "mimetype": "text/x-python",
   "name": "python",
   "nbconvert_exporter": "python",
   "pygments_lexer": "ipython2",
   "version": "2.7.13"
  }
 },
 "nbformat": 4,
 "nbformat_minor": 2
}
