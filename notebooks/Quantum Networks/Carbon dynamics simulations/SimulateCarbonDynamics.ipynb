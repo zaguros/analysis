{
 "cells": [
  {
   "cell_type": "code",
   "execution_count": null,
   "metadata": {
    "collapsed": false
   },
   "outputs": [],
   "source": [
    "execfile (\"D:/measuring/analysis/scripts/setup_analysis.py\")\n",
    "\n",
    "import numpy as np \n",
    "import matplotlib.pyplot as plt \n",
    "%matplotlib inline \n",
    "from analysis.lib.QEC import nuclear_spin_control_vs3 as nsc; reload(nsc)"
   ]
  },
  {
   "cell_type": "markdown",
   "metadata": {},
   "source": [
    "## Fingerprint"
   ]
  },
  {
   "cell_type": "code",
   "execution_count": null,
   "metadata": {
    "collapsed": false,
    "scrolled": false
   },
   "outputs": [],
   "source": [
    "reload(nsc)\n",
    "NVsys = nsc.NV_system(use_hf_library = True)\n",
    "nsc.C13_fingerprint(NVsys,N=32,tau_range =  np.arange(0.1e-6,6e-6,1e-8),quick_calc = False)"
   ]
  },
  {
   "cell_type": "markdown",
   "metadata": {},
   "source": [
    "## Prepare X, and measure XY"
   ]
  },
  {
   "cell_type": "code",
   "execution_count": null,
   "metadata": {
    "collapsed": false,
    "scrolled": false
   },
   "outputs": [],
   "source": [
    "reload(nsc)\n",
    "NVsys = nsc.NV_system(use_hf_library = True)\n",
    "nsc.prepare_X_and_measure_XY(NVsys,tau_range =  np.arange(6.25e-6,6.5e-6,1e-9),meas='eXY')"
   ]
  },
  {
   "cell_type": "markdown",
   "metadata": {},
   "source": [
    "### Finite pulse durations"
   ]
  },
  {
   "cell_type": "code",
   "execution_count": null,
   "metadata": {
    "collapsed": false
   },
   "outputs": [],
   "source": [
    "reload(nsc)\n",
    "NVsys = nsc.noisy_NV_system(mw_duration=100e-9,use_hf_library = True)\n",
    "nsc.C13_fingerprint(NVsys,N=32,tau_range =  np.arange(6.45e-6,6.7e-6,0.2e-8),quick_calc = False)\n",
    "nsc.prepare_X_and_measure_XY(NVsys,tau_range =  np.arange(6.45e-6,6.7e-6,1e-9),meas='nXY')"
   ]
  },
  {
   "cell_type": "markdown",
   "metadata": {},
   "source": [
    "# Monte Carlo"
   ]
  },
  {
   "cell_type": "markdown",
   "metadata": {},
   "source": [
    "## Microwave Pi pulse fidelities"
   ]
  },
  {
   "cell_type": "code",
   "execution_count": null,
   "metadata": {
    "collapsed": false
   },
   "outputs": [],
   "source": [
    "reload(nsc)\n",
    "NVsys = nsc.noisy_NV_system(mw_duration=100e-9,use_hf_library = True)\n",
    "fids = nsc.MonteCarlo_MWFid(NVsys,sigma=0.001)\n",
    "\n",
    "plt.figure()\n",
    "weights = np.ones_like(fids)/len(fids)\n",
    "plt.hist(fids,bins = 20, weights = weights)\n",
    "plt.show()\n",
    "plt.close()"
   ]
  },
  {
   "cell_type": "markdown",
   "metadata": {},
   "source": [
    "## Prepare and measure fidelities"
   ]
  },
  {
   "cell_type": "code",
   "execution_count": null,
   "metadata": {
    "collapsed": false
   },
   "outputs": [],
   "source": [
    "reload(nsc)\n",
    "NVsys = nsc.noisy_NV_system(mw_duration=100e-9,use_hf_library = True)\n",
    "fids = nsc.MonteCarlo_MWAmp_CGate_fid(NVsys,tau=6.581e-6,sigma=0.001, meas = 'eXY')\n",
    "\n",
    "plt.figure()\n",
    "weights = np.ones_like(fids)/len(fids)\n",
    "plt.hist(fids,bins = 20, weights = weights)\n",
    "plt.show()\n",
    "plt.close()"
   ]
  },
  {
   "cell_type": "markdown",
   "metadata": {},
   "source": [
    "## Investigate composite pulse schemes"
   ]
  },
  {
   "cell_type": "markdown",
   "metadata": {},
   "source": [
    "### Standard dd sequence\n",
    "\n",
    "For reference, the standard fingerprint and scheme:"
   ]
  },
  {
   "cell_type": "code",
   "execution_count": null,
   "metadata": {
    "collapsed": false
   },
   "outputs": [],
   "source": [
    "reload(nsc)\n",
    "NVsys = nsc.NV_system(use_hf_library = True)\n",
    "nsc.C13_fingerprint(NVsys,N=32,tau_range =  np.arange(5e-6,7e-6,1e-8),quick_calc = False)"
   ]
  },
  {
   "cell_type": "code",
   "execution_count": null,
   "metadata": {
    "collapsed": false
   },
   "outputs": [],
   "source": [
    "reload(nsc)\n",
    "NVsys = nsc.NV_system(use_hf_library = True)\n",
    "nsc.C13_fingerprint(NVsys,N=32,tau_range =  np.arange(6.35e-6,6.5e-6,1e-9),quick_calc = False)"
   ]
  },
  {
   "cell_type": "code",
   "execution_count": null,
   "metadata": {
    "collapsed": false
   },
   "outputs": [],
   "source": [
    "reload(nsc)\n",
    "NVsys = nsc.NV_system(use_hf_library = True)\n",
    "nsc.prepare_X_and_measure_XY(NVsys,tau_range =  np.arange(6.35e-6,6.5e-6,0.5e-9),meas='nXY')"
   ]
  },
  {
   "cell_type": "markdown",
   "metadata": {},
   "source": [
    "### Composite pulses"
   ]
  },
  {
   "cell_type": "markdown",
   "metadata": {},
   "source": [
    "Using the pulse schemes from http://journals.aps.org/pra/pdf/10.1103/PhysRevA.90.032319, http://journals.aps.org/pra/pdf/10.1103/PhysRevA.92.042304"
   ]
  },
  {
   "cell_type": "markdown",
   "metadata": {},
   "source": [
    "#### 5 Pulse"
   ]
  },
  {
   "cell_type": "code",
   "execution_count": null,
   "metadata": {
    "collapsed": false
   },
   "outputs": [],
   "source": [
    "reload(nsc)\n",
    "NVsys = nsc.NV_system(use_hf_library = True)\n",
    "nsc.C13_fingerprint(NVsys,N=32,tau_range =  np.arange(1.5e-6,2.1e-6,0.2e-8),quick_calc = True)"
   ]
  },
  {
   "cell_type": "code",
   "execution_count": null,
   "metadata": {
    "collapsed": false
   },
   "outputs": [],
   "source": [
    "reload(nsc)\n",
    "NVsys = nsc.composite_gate_NV_system(use_hf_library = True,mw_duration = 100e-9, composite_scheme = '5_pulse',f3DD = 0.2)\n",
    "nsc.C13_fingerprint(NVsys,N=96,tau_range =  np.arange(1.82e-6,1.88e-6,0.2e-8),quick_calc = False)"
   ]
  },
  {
   "cell_type": "code",
   "execution_count": null,
   "metadata": {
    "collapsed": false
   },
   "outputs": [],
   "source": [
    "reload(nsc)\n",
    "NVsys = nsc.composite_gate_NV_system(use_hf_library = True,mw_duration = 100e-9, composite_scheme = '5_pulse',f3DD = 0.2)\n",
    "nsc.prepare_X_and_measure_XY(NVsys,N=96,tau_range =  np.arange(1.82e-6,1.88e-6,1e-9),meas='nXY',c_num = 1)"
   ]
  },
  {
   "cell_type": "code",
   "execution_count": null,
   "metadata": {
    "collapsed": false
   },
   "outputs": [],
   "source": [
    "reload(nsc)\n",
    "NVsys = nsc.composite_gate_NV_system(use_hf_library = True,mw_duration = 100e-9, composite_scheme = '5_pulse',f3DD = 0.18)\n",
    "fids = nsc.MonteCarlo_MWAmp_CGate_fid(NVsys,N=80,tau=1.8952e-6,sigma=0.02, meas = 'nXY')\n",
    "\n",
    "plt.figure()\n",
    "\n",
    "weights = np.ones_like(fids)/len(fids)\n",
    "plt.hist(fids,bins = 20, weights = weights)\n",
    "ax = plt.gca()\n",
    "ax.get_xaxis().get_major_formatter().set_useOffset(False)\n",
    "plt.show()\n",
    "plt.close()"
   ]
  },
  {
   "cell_type": "code",
   "execution_count": null,
   "metadata": {
    "collapsed": false
   },
   "outputs": [],
   "source": [
    "reload(nsc)\n",
    "NVsys = nsc.composite_gate_NV_system(use_hf_library = True,mw_duration = 100e-9, composite_scheme = 'none',f3DD = 0.00)\n",
    "nsc.C13_fingerprint(NVsys,N=30,tau_range =  np.arange(0.0e-6,1.0e-6,1e-9),quick_calc = True)\n",
    "nsc.C13_fingerprint(NVsys,N=30,tau_range =  np.arange(0.5e-6,0.6e-6,1e-9),quick_calc = True)\n"
   ]
  },
  {
   "cell_type": "markdown",
   "metadata": {},
   "source": [
    "With instaneous microwave pulses this works very well"
   ]
  },
  {
   "cell_type": "code",
   "execution_count": null,
   "metadata": {
    "collapsed": false
   },
   "outputs": [],
   "source": [
    "reload(nsc)\n",
    "NVsys = nsc.composite_gate_NV_system(use_hf_library = True,mw_duration = 10e-9, composite_scheme = '5_pulse',f3DD = 0.04)\n",
    "nsc.C13_fingerprint(NVsys,N=400,tau_range =  np.arange(1.62e-6,1.66e-6,0.5e-9),quick_calc = False)"
   ]
  },
  {
   "cell_type": "code",
   "execution_count": null,
   "metadata": {
    "collapsed": false
   },
   "outputs": [],
   "source": [
    "reload(nsc)\n",
    "NVsys = nsc.composite_gate_NV_system(use_hf_library = True,mw_duration = 10e-9, composite_scheme = '5_pulse',f3DD = 0.04)\n",
    "nsc.prepare_X_and_measure_XY(NVsys,N=400,tau_range =  np.arange(1.62e-6,1.66e-6,0.2e-9),meas='nXY',c_num = 1)"
   ]
  },
  {
   "cell_type": "code",
   "execution_count": null,
   "metadata": {
    "collapsed": false
   },
   "outputs": [],
   "source": [
    "1.64/3.0 * (3.0/5.0)"
   ]
  },
  {
   "cell_type": "code",
   "execution_count": null,
   "metadata": {
    "collapsed": false
   },
   "outputs": [],
   "source": [
    "reload(nsc)\n",
    "NVsys = nsc.composite_gate_NV_system(use_hf_library = True, composite_scheme = 'none',f3DD = 0.00)\n",
    "nsc.C13_fingerprint(NVsys,N=64,tau_range =  np.arange(4.0e-6,5.3e-6,1e-9),quick_calc = True)"
   ]
  },
  {
   "cell_type": "code",
   "execution_count": null,
   "metadata": {
    "collapsed": false
   },
   "outputs": [],
   "source": [
    "reload(nsc)\n",
    "NVsys = nsc.composite_gate_NV_system(use_hf_library = True, composite_scheme = '5_pulse',f3DD = 0.24)\n",
    "nsc.C13_fingerprint(NVsys,N=64,tau_range =  np.arange(5.2e-6,5.3e-6,2e-9),quick_calc = False)"
   ]
  },
  {
   "cell_type": "code",
   "execution_count": null,
   "metadata": {
    "collapsed": false
   },
   "outputs": [],
   "source": [
    "reload(nsc)\n",
    "NVsys = nsc.composite_gate_NV_system(use_hf_library = True,mw_duration = 100e-9, composite_scheme = '5_pulse',f3DD = 0.04)\n",
    "nsc.prepare_X_and_measure_XY(NVsys,N=400,tau_range =  np.arange(1.72e-6,1.75e-6,0.2e-9),meas='nXY',c_num = 1)"
   ]
  },
  {
   "cell_type": "code",
   "execution_count": null,
   "metadata": {
    "collapsed": true
   },
   "outputs": [],
   "source": []
  }
 ],
 "metadata": {
  "kernelspec": {
   "display_name": "Python 2",
   "language": "python",
   "name": "python2"
  },
  "language_info": {
   "codemirror_mode": {
    "name": "ipython",
    "version": 2
   },
   "file_extension": ".py",
   "mimetype": "text/x-python",
   "name": "python",
   "nbconvert_exporter": "python",
   "pygments_lexer": "ipython2",
   "version": "2.7.3"
  }
 },
 "nbformat": 4,
 "nbformat_minor": 0
}
