{
 "cells": [
  {
   "cell_type": "markdown",
   "metadata": {},
   "source": [
    "Simulates carbon dephasing under perfect repumping conditions but with imperfect initialization and MW pulses"
   ]
  },
  {
   "cell_type": "code",
   "execution_count": 1,
   "metadata": {
    "collapsed": false
   },
   "outputs": [
    {
     "name": "stdout",
     "output_type": "stream",
     "text": [
      "reloaded\n"
     ]
    }
   ],
   "source": [
    "execfile(r'D:\\measuring\\analysis\\scripts\\setup_analysis.py')\n",
    "%matplotlib inline"
   ]
  },
  {
   "cell_type": "code",
   "execution_count": 22,
   "metadata": {
    "collapsed": true
   },
   "outputs": [],
   "source": [
    "## now try to speed up the code by making the RNG array 3D.\n",
    "LDE_attempts = averages = 20\n",
    "rngs_init = np.random.rand(LDE_attempts,averages)\n",
    "rngs_mw = np.random.rand(LDE_attempts,averages)\n",
    "\n",
    "def generate_error_vectors(init_infidelity = 0.003,mw_infidelity=0.01):\n",
    "    ### state vector of the electron spin after initialization\n",
    "    e_init = np.array([1-init_infidelity,1-init_infidelity/2.,1])\n",
    "    ### state dependent MW action\n",
    "    e_MW = np.array([1-mw_infidelity,1.]) ### need special case for being in -1? It is only a second order effect.\n",
    "    return e_init,e_MW\n",
    "\n",
    "def find_e_state_phase_cofficients(rngs_init,rngs_mw,e_init,e_MW):\n",
    "    ## let's do 5 trials of the experiment and make numpy comparisons to weed out the electron state.\n",
    "    e_in0 = rngs_init < e_init[0]\n",
    "    e_inm1 = (e_init[0]< rngs_init) & (rngs_init < e_init[1])\n",
    "    e_inp1 = np.logical_not(np.logical_or(e_in0,e_inm1))\n",
    "    mw_failed = rngs_mw > e_MW[0]\n",
    "    mw_m1 = np.logical_not(e_inp1)*mw_failed*e_inm1\n",
    "    mw_0 = np.logical_not(e_inp1)*mw_failed*e_in0\n",
    "    return e_inm1,e_inp1,mw_m1,mw_0\n",
    "    \n",
    "def get_errs(rngs_init,rngs_mw,**kw):\n",
    "    e_init,e_MW = generate_error_vectors(**kw)\n",
    "    return find_e_state_phase_cofficients(rngs_init,rngs_mw,e_init,e_MW)\n",
    "\n",
    "def calc_phase_distribution(e_inm1,e_inp1,mw_m1,mw_0,coupling_strength):\n",
    "    decoupling_duration = 2.25 #us\n",
    "    inittodecouplingduration = 3.0 #us    \n",
    "    init_phase_e_inp1 = coupling_strength*inittodecouplingduration*1e-6\n",
    "    init_phase_e_inm1 = -init_phase_e_inp1\n",
    "    \n",
    "    \n",
    "    ## we assume that the used MW transition is 0 <--> -1\n",
    "    mw_phase_e_in0 = -decoupling_duration*coupling_strength*1e-6\n",
    "    mw_phase_e_inm1 = -mw_phase_e_in0\n",
    "    mw_phase_e_inp1 = 1.5*2*decoupling_duration*coupling_strength*1e-6\n",
    "    ## let's do 5 trials of the experiment and make numpy comparisons to weed out the electron state.\n",
    "    \n",
    "    acquired_phase_per_trial = np.zeros(np.shape(e_inm1))\n",
    "    acquired_phase_per_trial = acquired_phase_per_trial + e_inm1*init_phase_e_inm1 + e_inp1*(init_phase_e_inp1+mw_phase_e_inp1)\n",
    "    acquired_phase_per_trial = acquired_phase_per_trial + mw_0*mw_phase_e_in0+mw_m1*mw_phase_e_inm1\n",
    "    return acquired_phase_per_trial*2*np.pi    "
   ]
  },
  {
   "cell_type": "code",
   "execution_count": 23,
   "metadata": {
    "collapsed": false
   },
   "outputs": [],
   "source": [
    "#idea of the code above is that we only have to generate the RNDs once and then can reuse them.\n",
    "\n",
    "LDE_attempts = 2000\n",
    "averages = 200 #### how often to perform the 'experiment'\n",
    "rngs_init = np.random.rand(LDE_attempts,averages)\n",
    "rngs_mw = np.random.rand(LDE_attempts,averages)\n"
   ]
  },
  {
   "cell_type": "code",
   "execution_count": 42,
   "metadata": {
    "collapsed": false
   },
   "outputs": [],
   "source": [
    "mw_infidelity = 0.01; init_infidelity = 0.0\n",
    "e_inm1,e_inp1,mw_m1,mw_0 = get_errs(rngs_init,rngs_mw,init_infidelity=init_infidelity,mw_infidelity = mw_infidelity)\n",
    "a=calc_phase_distribution(e_inm1,e_inp1,mw_m1,mw_0,40e3)"
   ]
  },
  {
   "cell_type": "code",
   "execution_count": 43,
   "metadata": {
    "collapsed": false
   },
   "outputs": [],
   "source": [
    "### now for several couplingg strenghts\n",
    "def calc_fidelity_decay(phase_distribution):\n",
    "    return (np.average(np.cos(np.cumsum(phase_distribution,axis=0)),axis=1)+1.)/2.\n",
    "def find_nearest(array,value):\n",
    "    idx = (np.abs(array-value)).argmin()\n",
    "    return idx"
   ]
  },
  {
   "cell_type": "code",
   "execution_count": 44,
   "metadata": {
    "collapsed": false
   },
   "outputs": [],
   "source": [
    "## specifically interested in the behaviour of the 1/e value of all of these curves\n",
    "couplings = np.arange(5,40,2)*1e3\n",
    "decay_const = []\n",
    "for c in couplings:\n",
    "    decay_const.append(find_nearest(calc_fidelity_decay(calc_phase_distribution(e_inm1,e_inp1,mw_m1,mw_0,c)),0.5+0.5/np.exp(1)))"
   ]
  },
  {
   "cell_type": "code",
   "execution_count": 45,
   "metadata": {
    "collapsed": false
   },
   "outputs": [
    {
     "data": {
      "image/png": "[encoded data removed]",
      "text/plain": [
       "<matplotlib.figure.Figure at 0xd5b9400>"
      ]
     },
     "metadata": {},
     "output_type": "display_data"
    }
   ],
   "source": [
    "p0,fitfunc,fitfunc_str = common.fit_hyperbola(20,1,0)\n",
    "fit_resx = fit.fit1d(couplings*1e-3,np.array(decay_const),None,p0=p0,fitfunc=fitfunc,fixed=[1,2],do_print=False)\n",
    "fit_x = np.linspace(10,80,100)\n",
    "plt.plot(fit_x,fit_resx['fitfunc'](fit_x),'-',label = '1/x fit',color='orange')\n",
    "p0,fitfunc,fitfunc_str = common.fit_hyperbola(20,2,0)\n",
    "fit_resx2 = fit.fit1d(couplings*1e-3,np.array(decay_const),None,p0=p0,fitfunc=fitfunc,fixed=[1,2],do_print=False)\n",
    "plt.plot(fit_x,fit_resx2['fitfunc'](fit_x),'-',label = '1/x^2 fit',color='blue')\n",
    "plt.plot(couplings*1e-3,decay_const,'o',color = 'orange')\n",
    "plt.xlabel('coupling strength (kHz)')\n",
    "plt.ylabel('1/e decay constant')\n",
    "plt.title('mw_infidelity:' + str(mw_infidelity*100) + ' % \\n' 'init_infidelity: ' + str(init_infidelity*100)+ ' %')\n",
    "plt.legend()\n",
    "plt.show()"
   ]
  },
  {
   "cell_type": "code",
   "execution_count": 33,
   "metadata": {
    "collapsed": false
   },
   "outputs": [
    {
     "data": {
      "text/plain": [
       "[<matplotlib.lines.Line2D at 0xd5ac278>]"
      ]
     },
     "execution_count": 33,
     "metadata": {},
     "output_type": "execute_result"
    },
    {
     "data": {
      "image/png": "[encoded data removed]",
      "text/plain": [
       "<matplotlib.figure.Figure at 0xb584630>"
      ]
     },
     "metadata": {},
     "output_type": "display_data"
    }
   ],
   "source": [
    "## plot the decay around 450 kHz\n",
    "plt.plot(calc_fidelity_decay(calc_phase_distribution(e_inm1,e_inp1,mw_m1,mw_0,30e3)))\n",
    "### produces oscillations and the typical quasi gaussian signal that we observe with LT4."
   ]
  },
  {
   "cell_type": "code",
   "execution_count": null,
   "metadata": {
    "collapsed": true
   },
   "outputs": [],
   "source": []
  }
 ],
 "metadata": {
  "kernelspec": {
   "display_name": "Python 2",
   "language": "python",
   "name": "python2"
  },
  "language_info": {
   "codemirror_mode": {
    "name": "ipython",
    "version": 2
   },
   "file_extension": ".py",
   "mimetype": "text/x-python",
   "name": "python",
   "nbconvert_exporter": "python",
   "pygments_lexer": "ipython2",
   "version": "2.7.11"
  }
 },
 "nbformat": 4,
 "nbformat_minor": 1
}
