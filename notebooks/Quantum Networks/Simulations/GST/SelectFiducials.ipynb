{
 "cells": [
  {
   "cell_type": "code",
   "execution_count": 7,
   "metadata": {
    "collapsed": false
   },
   "outputs": [],
   "source": [
    "#Import relevant modules.\n",
    "import pygsti\n",
    "import numpy as _np\n",
    "from pygsti.algorithms import fiducialselection as FS\n",
    "\n",
    "import matplotlib.pyplot as plt\n",
    "%matplotlib inline\n",
    "\n",
    "import time\n",
    "import os\n",
    "\n",
    "basedir = '/Users/phumphreys/Repositories/analysis/notebooks/Quantum Networks/Simulations/GST'"
   ]
  },
  {
   "cell_type": "code",
   "execution_count": 9,
   "metadata": {
    "collapsed": true
   },
   "outputs": [],
   "source": [
    "#Construct a target gateset\n",
    "gs_target = pygsti.construction.build_gateset([2],[('Q0',)], [u'Gx',u'Gy',u'Gu',u'Gv'], \n",
    "                                             [ \"X(pi/2,Q0)\", \"Y(pi/2,Q0)\",\"X(pi,Q0)\",\"Y(pi,Q0)\"],\n",
    "                                             prepLabels=['rho0'], prepExpressions=[\"0\"],\n",
    "                                             effectLabels=['E0'], effectExpressions=[\"1\"], \n",
    "                                             spamdefs={'plus': ('rho0','E0'), 'minus': ('rho0','remainder') } )\n"
   ]
  },
  {
   "cell_type": "code",
   "execution_count": 10,
   "metadata": {
    "collapsed": false
   },
   "outputs": [
    {
     "name": "stdout",
     "output_type": "stream",
     "text": [
      "Complete initial fiducial set succeeds.\n",
      "Now searching for best fiducial set.\n",
      "Starting fiducial set optimization. Lower score is better.\n",
      "Output set is required to be of size6\n",
      "Total number of fiducial sets to be checked is252.0\n",
      "\n",
      "Fiducial selection completed in 0.059761 seconds.\n",
      "[GateString({}), GateString(Gu), GateString(GxGu), GateString(GxGv), GateString(GyGu), GateString(GyGv)]\n",
      "(True, [1.0000000000000002, 1.0000000000000002, 1.0000000000000002, 3.0], Score: 20.0, N: 4)\n",
      "Complete initial fiducial set succeeds.\n",
      "Now searching for best fiducial set.\n",
      "Starting fiducial set optimization. Lower score is better.\n",
      "Output set is required to be of size6\n",
      "Total number of fiducial sets to be checked is15504.0\n"
     ]
    },
    {
     "name": "stderr",
     "output_type": "stream",
     "text": [
      "\n",
      "WARNING: If this is very large, you may wish to abort.\n",
      "\n",
      "WARNING: If this is very large, you may wish to abort.\n"
     ]
    },
    {
     "name": "stdout",
     "output_type": "stream",
     "text": [
      "\n",
      "Fiducial selection completed in 1.1718109 seconds.\n",
      "[GateString({}), GateString(Gx), GateString(Gy), GateString(Gu), GateString(GxGu), GateString(GyGu)]\n",
      "(True, [0.99999999999999933, 1.0000000000000002, 1.0000000000000007, 3.0000000000000009], Score: 20.0, N: 4)\n"
     ]
    }
   ],
   "source": [
    "#Let's try to pick out a fiducial set.  \n",
    "\n",
    "#First, we generate a candidate set which we'll attempt to prune.\n",
    "#Here, we're looking at all gate string sequences of maximum length 2.\n",
    "\n",
    "max_length = 2\n",
    "gates = [u'Gx',u'Gy',u'Gu',u'Gv']#We omit any identity operations here, as we don't want them in our fiducials.\n",
    "\n",
    "#Important for the minlength arg to equal 0, so we include the empty string.\n",
    "testFidList = pygsti.construction.list_all_gatestrings(gates,0,max_length)\n",
    "\n",
    "to_keep_fids = []\n",
    "for fid in testFidList:\n",
    "    st=fid.str\n",
    "    add = True\n",
    "    lastG = st[-2:]\n",
    "    if (lastG == 'Gx' or lastG == 'Gy' or lastG == 'Gi'):\n",
    "        add = False\n",
    "    if add!= False:\n",
    "        for x in range(len(st)/2-1):\n",
    "            curG = st[2*x:(2*x+2)]\n",
    "            nextG = st[2*(x+1):(2*(x+1)+2)]\n",
    "            if (curG == 'Gx' or curG == 'Gy' or curG == 'Gi') and (nextG == 'Gx' or nextG == 'Gy' or nextG == 'Gi'):\n",
    "                add = False\n",
    "                break\n",
    "    if add:\n",
    "        to_keep_fids.append(fid)\n",
    "\n",
    "        \n",
    "#Compute the preparation fiducials\n",
    "\n",
    "start = time.time()\n",
    "prepFidList = FS.optimize_integer_fiducials_slack(gs_target,to_keep_fids,prepOrMeas='prep',\\\n",
    "                                                   fixedNum=6,initialWeights=None,slackFrac=1)\n",
    "end = time.time()\n",
    "print\n",
    "print \"Fiducial selection completed in {0} seconds.\".format(round(end-start, 7))\n",
    "print prepFidList\n",
    "\n",
    "print FS.test_fiducial_list(gs_target,prepFidList,'prep',returnAll=True)\n",
    "\n",
    "\n",
    "start = time.time()\n",
    "measFidList = FS.optimize_integer_fiducials_slack(gs_target,testFidList,prepOrMeas='meas',\\\n",
    "                                                   fixedNum=6,initialWeights=None,slackFrac=1)\n",
    "end = time.time()\n",
    "print\n",
    "print \"Fiducial selection completed in {0} seconds.\".format(round(end-start, 7))\n",
    "print measFidList\n",
    "\n",
    "print FS.test_fiducial_list(gs_target,measFidList,'meas',returnAll=True)\n"
   ]
  },
  {
   "cell_type": "code",
   "execution_count": 12,
   "metadata": {
    "collapsed": false
   },
   "outputs": [],
   "source": [
    "pygsti.io.write_gatestring_list(os.path.join(basedir,\"PrepFiducials.txt\"), prepFidList, \"My fiducial prep gate strings\")\n",
    "pygsti.io.write_gatestring_list(os.path.join(basedir,\"MeasFiducials.txt\"), measFidList, \"My fiducial meas gate strings\")"
   ]
  },
  {
   "cell_type": "code",
   "execution_count": null,
   "metadata": {
    "collapsed": true
   },
   "outputs": [],
   "source": []
  }
 ],
 "metadata": {
  "kernelspec": {
   "display_name": "Python 2",
   "language": "python",
   "name": "python2"
  },
  "language_info": {
   "codemirror_mode": {
    "name": "ipython",
    "version": 2
   },
   "file_extension": ".py",
   "mimetype": "text/x-python",
   "name": "python",
   "nbconvert_exporter": "python",
   "pygments_lexer": "ipython2",
   "version": "2.7.13"
  }
 },
 "nbformat": 4,
 "nbformat_minor": 2
}
