{
 "cells": [
  {
   "cell_type": "code",
   "execution_count": 1,
   "metadata": {
    "collapsed": true
   },
   "outputs": [],
   "source": [
    "#Import relevant modules.\n",
    "import pygsti\n",
    "import numpy as _np\n",
    "\n",
    "import matplotlib.pyplot as plt\n",
    "%matplotlib inline\n",
    "\n",
    "import time\n",
    "import os\n",
    "\n",
    "basedir = '/Users/phumphreys/Repositories/analysis/notebooks/Quantum Networks/Simulations/GST'"
   ]
  },
  {
   "cell_type": "code",
   "execution_count": 2,
   "metadata": {
    "collapsed": true
   },
   "outputs": [],
   "source": [
    "#Create maximum lengths list\n",
    "maxLengths = [0,1,2,4,8,16,32]\n",
    "import pickle\n",
    "pickle.dump( maxLengths, open(os.path.join(basedir,\"MyMaxLengths.pkl\"), \"wb\"))"
   ]
  },
  {
   "cell_type": "code",
   "execution_count": 6,
   "metadata": {
    "collapsed": true
   },
   "outputs": [],
   "source": [
    "#Construct a target gateset\n",
    "gs_target = pygsti.construction.build_gateset([2],[('Q0',)], [u'Gx',u'Gy',u'Gu',u'Gv'], \n",
    "                                             [ \"X(pi/2,Q0)\", \"Y(pi/2,Q0)\",\"X(pi,Q0)\",\"Y(pi,Q0)\"],\n",
    "                                             prepLabels=['rho0'], prepExpressions=[\"0\"],\n",
    "                                             effectLabels=['E0'], effectExpressions=[\"1\"], \n",
    "                                             spamdefs={'plus': ('rho0','E0'), 'minus': ('rho0','remainder') } )\n"
   ]
  },
  {
   "cell_type": "code",
   "execution_count": 16,
   "metadata": {
    "collapsed": false
   },
   "outputs": [],
   "source": [
    "# Load in fiducials, germs, maxLengths:\n",
    "measFidList = pygsti.io.load_gatestring_list(os.path.join(basedir,\"MeasFiducials.txt\"))\n",
    "prepFidList = pygsti.io.load_gatestring_list(os.path.join(basedir,\"PrepFiducials.txt\"))\n",
    "germList = pygsti.io.load_gatestring_list(os.path.join(basedir,\"MyGerms.txt\"))\n",
    "maxLengths = pickle.load( open(os.path.join(basedir,\"MyMaxLengths.pkl\")))\n",
    "\n",
    "#Create a list of GST experiments for this gateset, with\n",
    "#the specified fiducials, germs, and maximum lengths\n",
    "listOfExperiments = pygsti.construction.make_lsgst_experiment_list(gs_target.gates.keys(), prepFidList, measFidList, germList, maxLengths)\n",
    "\n",
    "#Create an empty dataset file, which stores the list of experiments\n",
    "#plus extra columns where data can be inserted\n",
    "pygsti.io.write_empty_dataset(os.path.join(basedir,\"MyDataTemplate.txt\"), listOfExperiments,\n",
    "                              \"## Columns = plus count, count total\")"
   ]
  },
  {
   "cell_type": "code",
   "execution_count": 17,
   "metadata": {
    "collapsed": true
   },
   "outputs": [],
   "source": [
    "#Create a gateset of depolarized gates and SPAM relative to target, and generate fake data using this gateset.\n",
    "gs_datagen = gs_target.depolarize(gate_noise=0.05, spam_noise=0.001)\n",
    "ds = pygsti.construction.generate_fake_data(gs_datagen, listOfExperiments, nSamples=10000,\n",
    "                                            sampleError=\"binomial\", seed=2015)\n",
    "\n",
    "#Save our dataset\n",
    "pygsti.io.write_dataset(os.path.join(basedir,\"MyDataset.txt\"), ds)"
   ]
  },
  {
   "cell_type": "code",
   "execution_count": 18,
   "metadata": {
    "collapsed": false
   },
   "outputs": [
    {
     "name": "stdout",
     "output_type": "stream",
     "text": [
      "Loading /Users/phumphreys/Repositories/analysis/notebooks/Quantum Networks/Simulations/GST/MyDataset.txt: 100%\n",
      "Writing cache file (to speed future loads): /Users/phumphreys/Repositories/analysis/notebooks/Quantum Networks/Simulations/GST/MyDataset.txt.cache\n",
      "--- LGST ---\n",
      "  Singular values of I_tilde (truncating to first 4 of 6) = \n",
      "  4.24274776764\n",
      "  1.34207600445\n",
      "  1.18208537542\n",
      "  1.17564835891\n",
      "  0.0109927204348\n",
      "  0.00977036148705\n",
      "  \n",
      "  Singular values of target I_tilde (truncating to first 4 of 6) = \n",
      "  4.24264068712\n",
      "  1.41421356237\n",
      "  1.41421356237\n",
      "  1.41421356237\n",
      "  1.73856273296e-16\n",
      "  3.24754494531e-17\n",
      "  \n",
      "--- Iterative MLGST: Iter 1 of 7  142 gate strings ---: \n",
      "  --- Minimum Chi^2 GST ---\n",
      "  Created evaluation tree with 1 subtrees.  Will divide 1 procs into 1 (subtree-processing)\n",
      "   groups of ~1 procs each, to distribute over 55 params (taken as 1 param groups of ~55 params).\n",
      "  Sum of Chi^2 = 105.441 (142 data params - 43 model params = expected mean of 99; p-value = 0.310191)\n",
      "  Completed in 0.1s\n",
      "  2*Delta(log(L)) = 105.414\n",
      "  Iteration 1 took 0.1s\n",
      "  \n",
      "--- Iterative MLGST: Iter 2 of 7  142 gate strings ---: \n",
      "  --- Minimum Chi^2 GST ---\n",
      "  Created evaluation tree with 1 subtrees.  Will divide 1 procs into 1 (subtree-processing)\n",
      "   groups of ~1 procs each, to distribute over 55 params (taken as 1 param groups of ~55 params).\n",
      "  Sum of Chi^2 = 105.441 (142 data params - 43 model params = expected mean of 99; p-value = 0.310191)\n",
      "  Completed in 0.1s\n",
      "  2*Delta(log(L)) = 105.414\n",
      "  Iteration 2 took 0.1s\n",
      "  \n",
      "--- Iterative MLGST: Iter 3 of 7  203 gate strings ---: \n",
      "  --- Minimum Chi^2 GST ---\n",
      "  Created evaluation tree with 1 subtrees.  Will divide 1 procs into 1 (subtree-processing)\n",
      "   groups of ~1 procs each, to distribute over 55 params (taken as 1 param groups of ~55 params).\n",
      "  Sum of Chi^2 = 171.423 (203 data params - 43 model params = expected mean of 160; p-value = 0.254289)\n",
      "  Completed in 0.1s\n",
      "  2*Delta(log(L)) = 171.463\n",
      "  Iteration 3 took 0.1s\n",
      "  \n",
      "--- Iterative MLGST: Iter 4 of 7  273 gate strings ---: \n",
      "  --- Minimum Chi^2 GST ---\n",
      "  Created evaluation tree with 1 subtrees.  Will divide 1 procs into 1 (subtree-processing)\n",
      "   groups of ~1 procs each, to distribute over 55 params (taken as 1 param groups of ~55 params).\n",
      "  Sum of Chi^2 = 248.797 (273 data params - 43 model params = expected mean of 230; p-value = 0.188215)\n",
      "  Completed in 0.1s\n",
      "  2*Delta(log(L)) = 248.792\n",
      "  Iteration 4 took 0.1s\n",
      "  \n",
      "--- Iterative MLGST: Iter 5 of 7  805 gate strings ---: \n",
      "  --- Minimum Chi^2 GST ---\n",
      "  Created evaluation tree with 1 subtrees.  Will divide 1 procs into 1 (subtree-processing)\n",
      "   groups of ~1 procs each, to distribute over 55 params (taken as 1 param groups of ~55 params).\n",
      "  Sum of Chi^2 = 762.093 (805 data params - 43 model params = expected mean of 762; p-value = 0.492238)\n",
      "  Completed in 0.3s\n",
      "  2*Delta(log(L)) = 762.513\n",
      "  Iteration 5 took 0.4s\n",
      "  \n",
      "--- Iterative MLGST: Iter 6 of 7  1344 gate strings ---: \n",
      "  --- Minimum Chi^2 GST ---\n",
      "  Created evaluation tree with 1 subtrees.  Will divide 1 procs into 1 (subtree-processing)\n",
      "   groups of ~1 procs each, to distribute over 55 params (taken as 1 param groups of ~55 params).\n",
      "  Sum of Chi^2 = 1331.62 (1344 data params - 43 model params = expected mean of 1301; p-value = 0.271344)\n",
      "  Completed in 0.5s\n",
      "  2*Delta(log(L)) = 1332.28\n",
      "  Iteration 6 took 0.6s\n",
      "  \n",
      "--- Iterative MLGST: Iter 7 of 7  1883 gate strings ---: \n",
      "  --- Minimum Chi^2 GST ---\n",
      "  Created evaluation tree with 1 subtrees.  Will divide 1 procs into 1 (subtree-processing)\n",
      "   groups of ~1 procs each, to distribute over 55 params (taken as 1 param groups of ~55 params).\n",
      "  Sum of Chi^2 = 1837.17 (1883 data params - 43 model params = expected mean of 1840; p-value = 0.514215)\n",
      "  Completed in 0.8s\n",
      "  2*Delta(log(L)) = 1837.82\n",
      "  Iteration 7 took 0.9s\n",
      "  \n",
      "  Switching to ML objective (last iteration)\n",
      "  --- MLGST ---\n",
      "  Created evaluation tree with 1 subtrees.  Will divide 1 procs into 1 (subtree-processing)\n",
      "   groups of ~1 procs each, to distribute over 55 params (taken as 1 param groups of ~55 params).\n",
      "    Maximum log(L) = 918.895 below upper bound of -3.0942e+07\n",
      "      2*Delta(log(L)) = 1837.79 (1883 data params - 43 model params = expected mean of 1840; p-value = 0.51016)\n",
      "    Completed in 0.6s\n",
      "  2*Delta(log(L)) = 1837.79\n",
      "  Final MLGST took 0.6s\n",
      "  \n",
      "Iterative MLGST Total Time: 3.0s\n",
      "rho0 =    0.7071   0.0009  -0.0005   0.7063\n",
      "\n",
      "\n",
      "E0 =    0.7070   0.0005        0  -0.7063\n",
      "\n",
      "\n",
      "Gx = \n",
      "   1.0000        0        0        0\n",
      "  -0.0002   0.9501  -0.0005        0\n",
      "        0  -0.0005  -0.0005  -0.9496\n",
      "   0.0003   0.0008   0.9497   0.0005\n",
      "\n",
      "\n",
      "Gy = \n",
      "   1.0000        0        0        0\n",
      "   0.0004   0.0022  -0.0012   0.9496\n",
      "  -0.0005   0.0006   0.9501   0.0003\n",
      "        0  -0.9496   0.0015   0.0011\n",
      "\n",
      "\n",
      "Gu = \n",
      "   1.0000        0        0        0\n",
      "   0.0001   0.9498  -0.0007  -0.0008\n",
      "   0.0002   0.0003  -0.9500  -0.0007\n",
      "        0   0.0004  -0.0003  -0.9509\n",
      "\n",
      "\n",
      "Gv = \n",
      "   1.0000        0        0        0\n",
      "  -0.0002  -0.9496  -0.0012  -0.0003\n",
      "        0  -0.0005   0.9502  -0.0010\n",
      "   0.0001   0.0009  -0.0009  -0.9501\n",
      "\n",
      "\n",
      "\n"
     ]
    }
   ],
   "source": [
    "#Note; to load the dataset back again, do:\n",
    "#ds = pygsti.io.load_dataset(\"tutorial_files/MyDataset.txt\")\n",
    "\n",
    "gs_target.set_all_parameterizations(\"TP\")\n",
    "results = pygsti.do_long_sequence_gst(os.path.join(basedir,\"MyDataset.txt\"), gs_target, \n",
    "                                        prepFidList, measFidList, germList, maxLengths,\n",
    "                                        gaugeOptParams={'itemWeights': {'spam': 1e-3, 'gates': 1.0}})\n",
    "\n",
    "s = pickle.dumps(results)\n",
    "r2 = pickle.loads(s)\n",
    "print(r2.gatesets['final estimate'])"
   ]
  },
  {
   "cell_type": "code",
   "execution_count": 19,
   "metadata": {
    "collapsed": false
   },
   "outputs": [
    {
     "name": "stdout",
     "output_type": "stream",
     "text": [
      "    \n",
      "--- Hessian Projector Optimization for gate CIs (L-BFGS-B) ---\n",
      "   22s           0.0083130551\n",
      "   30s           0.0083058707\n",
      "   38s           0.0082997856\n",
      "   45s           0.0082992779\n",
      "  The resulting min sqrt(sum(gateCIs**2)): 0.00829928\n",
      "*** Generating tables ***\n",
      "  Generating table: bestGatesetSpamTable (w/95% CIs)  [0.0s]\n",
      "  Generating table: bestGatesetSpamParametersTable (w/95% CIs)  [0.0s]\n",
      "  Generating table: bestGatesetGatesTable (w/95% CIs)  [0.0s]\n",
      "  Generating table: bestGatesetDecompTable (w/95% CIs)  [0.3s]\n",
      "  Generating table: bestGatesetRotnAxisTable (w/95% CIs)  [0.4s]\n",
      "  Generating table: bestGatesetVsTargetTable (w/95% CIs)  [0.2s]\n",
      "  Generating table: bestGatesetErrorGenTable (w/95% CIs)  [0.0s]\n",
      "  Generating table: progressTable (w/95% CIs)  [0.3s]\n",
      "*** Generating plots ***\n",
      "*** Merging into template file ***\n",
      "Latex file(s) successfully generated.  Attempting to compile with pdflatex...\n",
      "Initial output PDF /Users/phumphreys/Repositories/analysis/notebooks/Quantum Networks/Simulations/GST/easy_brief.pdf successfully generated.\n",
      "Final output PDF /Users/phumphreys/Repositories/analysis/notebooks/Quantum Networks/Simulations/GST/easy_brief.pdf successfully generated. Cleaning up .aux and .log files.\n"
     ]
    }
   ],
   "source": [
    "results.create_brief_report_pdf(confidenceLevel=95, filename=os.path.join(basedir,\"easy_brief.pdf\"), verbosity=2)\n"
   ]
  },
  {
   "cell_type": "code",
   "execution_count": null,
   "metadata": {
    "collapsed": true
   },
   "outputs": [],
   "source": [
    "#create a full GST report (most detailed and pedagogical; best for those getting familiar with GST)\n",
    "results.create_full_report_pdf(confidenceLevel=95, filename=os.path.join(basedir,\"easy_full.pdf\"), verbosity=2)"
   ]
  }
 ],
 "metadata": {
  "kernelspec": {
   "display_name": "Python 2",
   "language": "python",
   "name": "python2"
  },
  "language_info": {
   "codemirror_mode": {
    "name": "ipython",
    "version": 2
   },
   "file_extension": ".py",
   "mimetype": "text/x-python",
   "name": "python",
   "nbconvert_exporter": "python",
   "pygments_lexer": "ipython2",
   "version": "2.7.13"
  }
 },
 "nbformat": 4,
 "nbformat_minor": 2
}
