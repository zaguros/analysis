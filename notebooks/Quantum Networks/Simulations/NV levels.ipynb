{
 "cells": [
  {
   "cell_type": "code",
   "execution_count": null,
   "metadata": {
    "collapsed": false
   },
   "outputs": [],
   "source": [
    "import sys\n",
    "import numpy as np\n",
    "import scipy\n",
    "from analysis.lib.nv import nvlevels, NVlevelPlotting; reload(nvlevels)\n",
    "%matplotlib inline\n"
   ]
  },
  {
   "cell_type": "code",
   "execution_count": null,
   "metadata": {
    "collapsed": false
   },
   "outputs": [],
   "source": [
    "B_field = [0.,0.,400.]\n",
    "E_field = [3.0,0.,0.0]\n",
    "\n",
    "print 'Excited state'\n",
    "es = nvlevels.get_ES_SpinComp(E_field=E_field,B_field= B_field,trans_A_levels = True, conv_order = True)\n",
    "print [\"E-'\",\"E+'\",\"Ey\",'Ex','A1','A2']\n",
    "print(es[0])\n",
    "print(np.round(np.abs(es[1])**2,3))\n",
    "\n",
    "print 'Ground state'\n",
    "gs = nvlevels.get_GS_SpinComp(E_field=E_field,B_field=B_field)\n",
    "print [\"A_0\", \"E_-\", \"E_+\"]\n",
    "print(gs[0]+1.92)\n",
    "print(np.round(np.power(np.abs(gs[1]),2),3))\n"
   ]
  },
  {
   "cell_type": "code",
   "execution_count": null,
   "metadata": {
    "collapsed": false
   },
   "outputs": [],
   "source": [
    "NVlevelPlotting.plot_ES_energies(0,0,0,16,200,B_field=B_field)\n",
    "NVlevelPlotting.plot_GS_energies(0,1000,200,E_field=E_field)"
   ]
  },
  {
   "cell_type": "code",
   "execution_count": null,
   "metadata": {
    "collapsed": false
   },
   "outputs": [],
   "source": [
    "NVlevelPlotting.plot_transitions_w_strengths(0,0,0,16,200,B_field=B_field,m0=True,m1=True,p1=True,log_scale = True)"
   ]
  },
  {
   "cell_type": "code",
   "execution_count": null,
   "metadata": {
    "collapsed": false
   },
   "outputs": [],
   "source": [
    "NVlevelPlotting.plot_eigenstates(0.0,0.0,0.001,10,400,B_field=[0.,0.,400.])\n"
   ]
  },
  {
   "cell_type": "code",
   "execution_count": null,
   "metadata": {
    "collapsed": true
   },
   "outputs": [],
   "source": []
  }
 ],
 "metadata": {
  "kernelspec": {
   "display_name": "Python 2",
   "language": "python",
   "name": "python2"
  },
  "language_info": {
   "codemirror_mode": {
    "name": "ipython",
    "version": 2
   },
   "file_extension": ".py",
   "mimetype": "text/x-python",
   "name": "python",
   "nbconvert_exporter": "python",
   "pygments_lexer": "ipython2",
   "version": "2.7.13"
  }
 },
 "nbformat": 4,
 "nbformat_minor": 0
}
