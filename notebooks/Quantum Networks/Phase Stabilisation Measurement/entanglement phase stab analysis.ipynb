{
 "cells": [
  {
   "cell_type": "code",
   "execution_count": null,
   "metadata": {
    "collapsed": false
   },
   "outputs": [],
   "source": [
    "execfile(r'D:\\measuring\\analysis\\scripts\\setup_analysis.py')\n",
    "import scipy.fftpack\n",
    "%matplotlib inline"
   ]
  },
  {
   "cell_type": "code",
   "execution_count": null,
   "metadata": {
    "collapsed": false
   },
   "outputs": [],
   "source": [
    "286/6.0"
   ]
  },
  {
   "cell_type": "code",
   "execution_count": null,
   "metadata": {
    "collapsed": false,
    "scrolled": false
   },
   "outputs": [],
   "source": [
    "from analysis.lib.nv import detection\n",
    "folder= tb.latest_data('_EntangleXsweepY')\n",
    "# folder = \"D:/measuring/data/20170308/105316_PQ_single_click_ent_111no2_SIL2_phase_stab\"\n",
    "a = m2.M2Analysis(folder)\n",
    "\n",
    "# stitch the different part and files together, make and save a plot of the data.\n",
    "\n",
    "pid_counts_1 = a.g['adwindata']['pid_counts_1'].value\n",
    "pid_counts_2 = a.g['adwindata']['pid_counts_2'].value\n",
    "max_repetitions = a.g['adwindata']['store_index_stab'].value\n",
    "g_0 = a.g.attrs['Phase_Msmt_g_0']\n",
    "visibility = a.g.attrs['Phase_Msmt_Vis']\n",
    "\n",
    "delay = a.g.attrs['count_int_time_stab']/1000.0\n",
    "pid_cycles = a.g.attrs['pid_points']\n",
    "\n",
    "# stitch\n",
    "cosvals = [2*(float(n0)/(float(n0)+float(n1)*g_0)-0.5)*visibility for n0,n1 in zip(pid_counts_1,pid_counts_2)]\n",
    "cosvals = [cosval if np.abs(cosval) < 1 else (1.0 * np.sign(cosval)) for cosval in cosvals]\n",
    "angle1 = np.arccos(cosvals)\n",
    "\n",
    "v_1 = (180.0*angle1/(np.pi))\n",
    "\n",
    "\n",
    "print np.shape(v_1)\n",
    "print pid_cycles\n",
    "t = np.arange(0, (len(pid_counts_1)*delay), (delay))\n",
    "\n",
    "# Angle\n",
    "fig = plt.figure(figsize=(17,6))\n",
    "ax = plt.subplot(111)\n",
    "plt.plot(t, v_1, 'r')\n",
    "plt.title('Phase of ZPL photons {0}'.format(folder))\n",
    "plt.ylim([0,180])\n",
    "ax.set_xlabel('elapsed time (milliseconds)')\n",
    "ax.set_ylabel('angle ($^o$)')\n",
    "\n",
    "fig.savefig(os.path.join(folder, 'trace_angle.png'))\n",
    "\n",
    "print 'Phase standard deviation ', np.sqrt(np.var(v_1))\n",
    "\n",
    "fig = plt.figure()\n",
    "ax = plt.subplot(111)\n",
    "hist, bins = np.histogram(v_1,bins= 100,normed = True)\n",
    "width = np.diff(bins)\n",
    "center = (bins[:-1] + bins[1:]) / 2\n",
    "ax.bar(center, hist, align='center', width=width)\n",
    "g_a = 0.0\n",
    "g_x0 = 90\n",
    "g_sigma = 15\n",
    "g_A = 1/(np.sqrt(2 * np.pi) * g_sigma)\n",
    "\n",
    "p0, fitfunc,fitfunc_str = common.fit_gauss(g_a, g_A, g_x0, g_sigma)\n",
    "fit_result = fit.fit1d(center,hist, None, p0=p0, fitfunc=fitfunc,\n",
    "                     ret=True,fixed=[])\n",
    "plot.plot_fit1d(fit_result, np.linspace(center[0],center[-1],201), ax=ax, \n",
    "                    plot_data=False,print_info = True)\n",
    "print 'x0, sigma ', fit_result['params_dict']['x0'] , fit_result['params_dict']['sigma'] \n",
    "# std dev\n",
    "fig = plt.figure()\n",
    "ax = plt.subplot(111)\n",
    "plt.plot(np.sqrt(np.var(np.reshape(v_1,[pid_cycles,-1]),axis=1)))\n",
    "plt.title('Standard deviation of Phase {0}'.format(folder))\n",
    "ax.set_xlabel('pid cycles (-)')\n",
    "ax.set_ylabel('std dev ($^o$)')"
   ]
  },
  {
   "cell_type": "code",
   "execution_count": null,
   "metadata": {
    "collapsed": false
   },
   "outputs": [],
   "source": [
    "# counts\n",
    "fig = plt.figure(figsize=(17,6))\n",
    "ax = plt.subplot(211)\n",
    "# plt.plot(t, s, 'y')\n",
    "plt.plot(t, pid_counts_1, 'r')\n",
    "plt.title('Counts ZPL detector 1 {0}'.format(folder))\n",
    "ax.set_xlabel('elapsed time (milliseconds)')\n",
    "ax.set_ylabel('counts')\n",
    "ax2 = plt.subplot(212)\n",
    "plt.plot(t, pid_counts_2, 'r')\n",
    "plt.title('Counts ZPL detector 2 {0}'.format(folder))\n",
    "ax2.set_xlabel('elapsed time (milliseconds)')\n",
    "ax2.set_ylabel('counts')\n",
    "# ax3 = plt.subplot(313)\n",
    "# plt.plot(t, w, 'r')\n",
    "# plt.title('error signal {0}'.format(folder))\n",
    "# ax3.set_xlabel('elapsed time (milliseconds)')\n",
    "# ax3.set_ylabel('error signal')\n",
    "plt.tight_layout()\n",
    "# plt.show()\n",
    "\n",
    "fig.savefig(os.path.join(folder, 'trace_counts.png'))zoom_1 = 5*(pid_cycles)\n",
    "zoom_2 = 6*(pid_cycles)\n",
    "\n",
    "# Zoomed counts\n",
    "fig = plt.figure(figsize=(17,6))\n",
    "ax = plt.subplot(211)\n",
    "# plt.plot(t[0:zoom], s[0:zoom], 'y')\n",
    "plt.plot(t[zoom_1:zoom_2], pid_counts_1[zoom_1:zoom_2], 'r')\n",
    "\n",
    "plt.title('Counts ZPL detector 1'.format(folder))\n",
    "ax.set_xlabel('elapsed time (milliseconds)')\n",
    "ax.set_ylabel('counts')\n",
    "\n",
    "ax2 = plt.subplot(212)\n",
    "plt.plot(t[zoom_1:zoom_2], pid_counts_2[zoom_1:zoom_2], 'r')\n",
    "\n",
    "plt.title('Counts ZPL detector 2'.format(folder))\n",
    "ax2.set_xlabel('elapsed time (milliseconds)')\n",
    "ax2.set_ylabel('counts')\n",
    "plt.tight_layout()\n",
    "\n",
    "fig.savefig(os.path.join(folder, 'trace_counts_zoomed.png'))"
   ]
  },
  {
   "cell_type": "code",
   "execution_count": null,
   "metadata": {
    "collapsed": false,
    "scrolled": true
   },
   "outputs": [],
   "source": [
    "# fourier transform of the sample part\n",
    "\n",
    "pid_counts_1 = a.g['adwindata']['pid_counts_1'].value\n",
    "sample_counts_1 = a.g['adwindata']['sampling_counts_1'].value\n",
    "max_repetitions = a.g['adwindata']['completed_reps'].value\n",
    "\n",
    "delay = a.g.attrs['count_int_time_stab']/1000.0\n",
    "pid_cycles = a.g.attrs['pid_points']\n",
    "sample_cycles = a.g.attrs['sample_points']\n",
    "\n",
    "# stitch\n",
    "v_1 = []\n",
    "for i in xrange(max_repetitions):\n",
    "    for j in xrange(pid_cycles):\n",
    "         v_1.append(pid_counts_1[j+i*pid_cycles])\n",
    "    for k in xrange(sample_cycles):\n",
    "         v_1.append(sample_counts_1[k+i*sample_cycles])\n",
    "yf = scipy.fftpack.fft(v_1)\n",
    "\n",
    "# sample spacing\n",
    "xf = np.linspace(0, 1.0/(2.0*delay*10**-4), (sample_cycles+pid_cycles)*max_repetitions/2)\n",
    "\n",
    "index_max = [i for i,v in enumerate(yf) if v > 20000]\n",
    "frq_max = [x * (1.0/(delay*10**-4)) / ((sample_cycles+pid_cycles)*max_repetitions) for x in index_max]\n",
    "print 'peak frequencies are:'\n",
    "print frq_max\n",
    "\n",
    "norm1 = yf / np.linalg.norm(yf)\n",
    "\n",
    "fig, ax = plt.subplots()\n",
    "plt.ylim([0,20000])\n",
    "ax.plot(xf, yf[:len(yf)/2])\n",
    "plt.title('FFT {0}'.format(folder))\n",
    "ax.set_xlabel('frequency (Hz)')\n",
    "ax.set_ylabel('Amplitude (a.u.)')\n",
    "# ax.set_yticklabels([])\n",
    "fig.savefig(os.path.join(folder, 'fft.png'))"
   ]
  },
  {
   "cell_type": "code",
   "execution_count": null,
   "metadata": {
    "collapsed": true
   },
   "outputs": [],
   "source": []
  },
  {
   "cell_type": "code",
   "execution_count": null,
   "metadata": {
    "collapsed": false
   },
   "outputs": [],
   "source": []
  },
  {
   "cell_type": "code",
   "execution_count": null,
   "metadata": {
    "collapsed": true
   },
   "outputs": [],
   "source": []
  }
 ],
 "metadata": {
  "kernelspec": {
   "display_name": "Python 2",
   "language": "python",
   "name": "python2"
  },
  "language_info": {
   "codemirror_mode": {
    "name": "ipython",
    "version": 2
   },
   "file_extension": ".py",
   "mimetype": "text/x-python",
   "name": "python",
   "nbconvert_exporter": "python",
   "pygments_lexer": "ipython2",
   "version": "2.7.3"
  }
 },
 "nbformat": 4,
 "nbformat_minor": 2
}
