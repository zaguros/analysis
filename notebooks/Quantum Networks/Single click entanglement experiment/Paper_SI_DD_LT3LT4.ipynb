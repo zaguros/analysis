{
 "cells": [
  {
   "cell_type": "code",
   "execution_count": null,
   "metadata": {
    "collapsed": false
   },
   "outputs": [],
   "source": [
    "execfile(r'D:\\measuring\\analysis\\scripts\\setup_analysis.py')\n",
    "from analysis.lib.single_click_ent import Espin_DD_analysis as DD\n",
    "%matplotlib inline"
   ]
  },
  {
   "cell_type": "markdown",
   "metadata": {},
   "source": [
    "This notebook aims to make a combined plot of LT3 and LT4 data on deocupling for N=1024.\n",
    "This plot shall exemplify the choice of decoupling time for the two setups.\n",
    "\n",
    "Required time stampts should be taken from the marked older_than/newer_than regime. Please include a timely taken SSRO calibration."
   ]
  },
  {
   "cell_type": "code",
   "execution_count": null,
   "metadata": {
    "collapsed": true
   },
   "outputs": [],
   "source": [
    "import matplotlib as mpl\n",
    "mpl.rc(\"savefig\", **{'transparent':True,'bbox':'tight'})\n",
    "mpl.rc(\"xtick\",**{'top':True,'direction':'in'})\n",
    "mpl.rc(\"ytick\",**{'right':True,'direction':'in'})"
   ]
  },
  {
   "cell_type": "code",
   "execution_count": null,
   "metadata": {
    "collapsed": false
   },
   "outputs": [],
   "source": [
    "kws = {'n_datasets' : 5,'subsets' : 7,'return_fit' : True,'do_plot' : True}\n",
    "basic_f = r'M:\\tnw\\ns\\qt\\Diamond\\Projects\\SingleClickEnt\\Data\\decoupling'"
   ]
  },
  {
   "cell_type": "markdown",
   "metadata": {},
   "source": [
    "# LT4 data"
   ]
  },
  {
   "cell_type": "code",
   "execution_count": null,
   "metadata": {
    "collapsed": false
   },
   "outputs": [],
   "source": [
    "reload(DD)\n",
    "kws['older_than'] = '20170628_090000'; kws['newer_than'] = '20170628_000000';kws['folder']=os.path.join(basic_f,'LT4')\n",
    "fitresLT4 = DD.analyse_dataset('_'+'1024'+'_part',**kws)"
   ]
  },
  {
   "cell_type": "markdown",
   "metadata": {},
   "source": [
    "# LT3 DATA"
   ]
  },
  {
   "cell_type": "code",
   "execution_count": null,
   "metadata": {
    "collapsed": false
   },
   "outputs": [],
   "source": [
    "reload(DD)\n",
    "kws['older_than'] = '20170615_090000'; kws['newer_than'] = '20170614_173530';kws['folder']=os.path.join(basic_f,'LT3')\n",
    "fitresLT3 = DD.analyse_dataset('_'+'1024'+'_part',**kws)"
   ]
  },
  {
   "cell_type": "markdown",
   "metadata": {},
   "source": [
    "# Combine data in a double subplot and highlight the relevant decoupling tau"
   ]
  },
  {
   "cell_type": "code",
   "execution_count": null,
   "metadata": {
    "collapsed": false
   },
   "outputs": [],
   "source": [
    "fig,axs = plt.subplots(ncols =2,nrows = 1,sharey=True,figsize = (6*0.7,2*0.7))\n",
    "plt.sca(axs[0])\n",
    "plt.ylim([0.4,1])\n",
    "plt.ylabel(r'$F(|0\\rangle)$')\n",
    "for ax,res,tau,title,make_red in zip(axs,[fitresLT4,fitresLT3],\n",
    "                                     [[70,0.88,r'$\\tau=$ 40.320$\\mu$s'],\n",
    "                                      [80,0.88,r'$\\tau=$ 36.148$\\mu$s']],\n",
    "                                     ['A','B'],[8,7]):\n",
    "    plt.sca(ax)\n",
    "    plt.title('Node '+title)\n",
    "    plt.xlabel('Evolution time (ms)')\n",
    "    plt.errorbar(res['x'],res['y'],res['y_u'],fmt = '.')\n",
    "    plt.errorbar([res['x'][make_red]],[res['y'][make_red]],[res['y_u'][make_red]],fmt = '.',color= 'tab:red',zorder=100)\n",
    "    plt.text(tau[0],tau[1],tau[2])\n",
    "    for x,y, y_u in zip( res['all_x'],res['all_y'],res['all_y_u']):\n",
    "        ax.errorbar(x,y,y_u,zorder = 0, fmt = '.', color = '#d3d3d3')\n",
    "        \n",
    "plt.subplots_adjust(wspace=0, hspace=0.02)\n",
    "plt.savefig(os.path.join(basic_f,'dyndecoupling.pdf'),format='pdf')"
   ]
  },
  {
   "cell_type": "code",
   "execution_count": null,
   "metadata": {
    "collapsed": true
   },
   "outputs": [],
   "source": []
  }
 ],
 "metadata": {
  "kernelspec": {
   "display_name": "Python 2",
   "language": "python",
   "name": "python2"
  },
  "language_info": {
   "codemirror_mode": {
    "name": "ipython",
    "version": 2
   },
   "file_extension": ".py",
   "mimetype": "text/x-python",
   "name": "python",
   "nbconvert_exporter": "python",
   "pygments_lexer": "ipython2",
   "version": "2.7.11"
  }
 },
 "nbformat": 4,
 "nbformat_minor": 1
}
