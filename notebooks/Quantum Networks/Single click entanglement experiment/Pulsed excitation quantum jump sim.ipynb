{
 "cells": [
  {
   "cell_type": "code",
   "execution_count": null,
   "metadata": {
    "collapsed": false
   },
   "outputs": [],
   "source": [
    "execfile(r'D:\\measuring\\analysis\\scripts\\setup_analysis.py')\n",
    "import analysis.lib.sim.electron_nuclear_sim as en_sim\n",
    "reload(en_sim)\n",
    "from scipy.stats import norm\n",
    "%matplotlib inline"
   ]
  },
  {
   "cell_type": "code",
   "execution_count": null,
   "metadata": {
    "collapsed": false
   },
   "outputs": [],
   "source": [
    "time_duration = 50\n",
    "pulse_center = 5\n",
    "dt = 0.1\n",
    "FWHMs = np.linspace(0.1,3.5,5)\n",
    "FWHMs = np.array([2.6]) #0.5,1.6,\n",
    "mus = FWHMs/2.35482004503\n",
    "\n",
    "repetitions = 10000\n",
    "\n",
    "initial_excited_state_pop = 1.0\n",
    "NV_lifetime = 12.0\n",
    "decay_prob_per_step = dt/NV_lifetime"
   ]
  },
  {
   "cell_type": "code",
   "execution_count": null,
   "metadata": {
    "collapsed": false
   },
   "outputs": [],
   "source": [
    "init_state = en_sim.ket0.full()\n",
    "zero_state = en_sim.ket0.full()\n",
    "total_points = np.ceil(time_duration/np.float(dt) + 1).astype(int)\n",
    "points = np.arange(total_points).astype(int)\n",
    "t_array = dt * points\n",
    "excited_pops = np.zeros([np.shape(mus)[0],total_points])\n",
    "emitted_photons = np.zeros([np.shape(mus)[0],total_points])\n",
    "double_pulse_probs = np.zeros(np.shape(mus)[0])\n",
    "p_photon_during_pulse = np.zeros(np.shape(mus)[0])\n",
    "p_photon_after_pulse = np.zeros(np.shape(mus)[0])\n",
    "\n",
    "for kk,mu in enumerate(mus):\n",
    "    pulse_cut = pulse_center + 3*mu\n",
    "    pulse_cut_ind = np.argmin(np.abs(t_array - pulse_cut))\n",
    "\n",
    "    pulse_EField_shape = np.sqrt(norm.pdf(t_array, pulse_center, mu))\n",
    "    # Need to correct power to ensure full rabi\n",
    "    EFieldFactor = 2*np.arcsin(np.sqrt(initial_excited_state_pop))/(2**(0.75) * (np.pi)**(0.25) * np.sqrt(mu))\n",
    "    instaneous_rabi_freq = pulse_EField_shape*EFieldFactor\n",
    "    unitary = np.zeros([total_points,2,2],dtype=complex)\n",
    "    for ii in points:\n",
    "        unitary[ii] = en_sim.spin_y_rotation(instaneous_rabi_freq[ii] * dt).full()\n",
    "\n",
    "    excited_pop = np.zeros([repetitions,total_points])\n",
    "    emitted_photon = np.zeros([repetitions,total_points])\n",
    "    for jj in range(repetitions):\n",
    "        decay_chance_for_step = np.random.rand(total_points)\n",
    "        bright_state_chance_for_step = np.random.rand(total_points)\n",
    "        state = init_state\n",
    "        for ii in points:\n",
    "            state =  np.dot(unitary[ii], state)\n",
    "            excited_pop[jj,ii] = np.abs(state[1])**2\n",
    "            if decay_chance_for_step[ii] < decay_prob_per_step:\n",
    "                state = zero_state\n",
    "                if bright_state_chance_for_step[ii] < excited_pop[jj,ii]:\n",
    "                    emitted_photon[jj,ii] = 1\n",
    "\n",
    "    excited_pops[kk] = np.mean(excited_pop,axis=0)\n",
    "    emitted_photons[kk] = np.mean(emitted_photon,axis=0)\n",
    "    photon_during_pulse = np.sum(emitted_photon[:,0:pulse_cut_ind],axis=1).astype(int)\n",
    "    photon_after_pulse = np.sum(emitted_photon[:,pulse_cut_ind:],axis=1).astype(int)\n",
    "    \n",
    "    p_photon_during_pulse[kk] = np.mean(photon_during_pulse)\n",
    "    p_photon_after_pulse[kk] = np.mean(photon_after_pulse)\n",
    "    double_pulse_probs[kk] = np.mean(np.logical_and(photon_during_pulse,photon_after_pulse))\n",
    "\n",
    "cond_prob_double_pulse = double_pulse_probs/p_photon_after_pulse\n"
   ]
  },
  {
   "cell_type": "code",
   "execution_count": null,
   "metadata": {
    "collapsed": false
   },
   "outputs": [],
   "source": [
    "plt.figure()\n",
    "plt.plot(t_array,np.transpose(excited_pops))\n",
    "plt.ylim([0,1]);\n",
    "plt.xlabel('Time (ns)')\n",
    "plt.ylabel('Excited state occupation')\n",
    "\n",
    "plt.figure()\n",
    "plt.plot(t_array,np.transpose(emitted_photons))\n",
    "plt.xlabel('Time (ns)')\n",
    "plt.ylabel('Photon emission probability')\n",
    "\n",
    "plt.figure()\n",
    "plt.plot(FWHMs,p_photon_after_pulse,label = 'p(phot. after pulse)')\n",
    "plt.plot(FWHMs,p_photon_during_pulse,label = 'p(phot. in pulse)')\n",
    "plt.xlabel('Pulse FWHM')\n",
    "plt.ylabel('Probability')\n",
    "plt.ylim([0,1]);\n",
    "plt.legend()\n",
    "\n",
    "plt.figure()\n",
    "plt.plot(FWHMs,cond_prob_double_pulse,label = 'p(phot. in pulse | phot. after pulse)')\n",
    "plt.xlabel('Pulse FWHM')\n",
    "plt.ylabel('Probability')\n",
    "plt.legend();"
   ]
  },
  {
   "cell_type": "code",
   "execution_count": null,
   "metadata": {
    "collapsed": false
   },
   "outputs": [],
   "source": [
    "print cond_prob_double_pulse"
   ]
  },
  {
   "cell_type": "code",
   "execution_count": null,
   "metadata": {
    "collapsed": false
   },
   "outputs": [],
   "source": [
    "p_photon_after_pulse"
   ]
  },
  {
   "cell_type": "code",
   "execution_count": null,
   "metadata": {
    "collapsed": true
   },
   "outputs": [],
   "source": []
  }
 ],
 "metadata": {
  "kernelspec": {
   "display_name": "Python 2",
   "language": "python",
   "name": "python2"
  }
 },
 "nbformat": 4,
 "nbformat_minor": 2
}
