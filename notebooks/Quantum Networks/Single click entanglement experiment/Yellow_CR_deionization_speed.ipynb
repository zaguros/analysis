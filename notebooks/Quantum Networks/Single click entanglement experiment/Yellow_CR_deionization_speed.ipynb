{
 "cells": [
  {
   "cell_type": "code",
   "execution_count": null,
   "metadata": {
    "collapsed": false
   },
   "outputs": [],
   "source": [
    "execfile(r'D:\\measuring\\analysis\\scripts\\setup_analysis.py')\n",
    "from analysis.scripts.mbi import mbi_data_general_fits as fits; reload(fits)\n",
    "%matplotlib inline"
   ]
  },
  {
   "cell_type": "code",
   "execution_count": null,
   "metadata": {
    "collapsed": false
   },
   "outputs": [],
   "source": [
    "lt4_string = '111no2_SIL2_EntangleOnDemandInclCR'\n",
    "lt3_string = 'in_SIL3_EntangleOnDemandInclCR'\n",
    "fs = tb.latest_data(contains = lt4_string,newer_than='20170404_000000',return_all=True)\n",
    "diffs = []\n",
    "for f in fs:\n",
    "    a = mbi.MBIAnalysis(f)\n",
    "    agrp = a.adwingrp('adwindata')\n",
    "    invs = agrp['invalid_data_markers'].value\n",
    "    if agrp.attrs['yellow_repump_amplitude']!= 8.5e-8: ### only select one power for yellow!\n",
    "        continue\n",
    "    diffs.extend(np.diff(invs)[np.diff(invs)!=0])\n",
    "\n",
    "hist,bins,patches = plt.hist(diffs,100)\n",
    "x = bins[1:]-(bins[1]-bins[0])/2.\n",
    "x = x*0.300 #convert to ms\n"
   ]
  },
  {
   "cell_type": "code",
   "execution_count": null,
   "metadata": {
    "collapsed": false
   },
   "outputs": [],
   "source": [
    "fig,ax = plt.subplots()\n",
    "plt.plot(x,hist,'o')\n",
    "fitres = fit.fit1d(x[x<14][1:],hist[x<14][1:],common.fit_exp_decay_with_offset,1,1000,2,do_print=True,fixed=[0])\n",
    "plot.plot_fit1d(fitres,plot_data=False,ax=ax)\n",
    "ax.set_yscale(\"log\", nonposy='clip')\n",
    "plt.xlabel('Deionization duration (ms)')\n",
    "plt.ylabel('Number of occurences')\n"
   ]
  },
  {
   "cell_type": "code",
   "execution_count": null,
   "metadata": {
    "collapsed": true
   },
   "outputs": [],
   "source": []
  }
 ],
 "metadata": {
  "kernelspec": {
   "display_name": "Python 2",
   "language": "python",
   "name": "python2"
  },
  "language_info": {
   "codemirror_mode": {
    "name": "ipython",
    "version": 2
   },
   "file_extension": ".py",
   "mimetype": "text/x-python",
   "name": "python",
   "nbconvert_exporter": "python",
   "pygments_lexer": "ipython2",
   "version": "2.7.11"
  }
 },
 "nbformat": 4,
 "nbformat_minor": 1
}
