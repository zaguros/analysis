{
 "cells": [
  {
   "cell_type": "markdown",
   "metadata": {},
   "source": [
    "This notebook analyzes joint measurements by LT3 and LT4 to obtain correlators between the two setups.\n",
    "For the analysis we assume that all measurements are conducted as sweeps!\n",
    "(the most useful sweep is either the superposition angle theta when measuring ZZ correlators or the microwave phase when measuring XX).\n",
    "\n",
    "NK 2017"
   ]
  },
  {
   "cell_type": "code",
   "execution_count": null,
   "metadata": {
    "collapsed": false
   },
   "outputs": [],
   "source": [
    "execfile(r'D:\\measuring\\analysis\\scripts\\setup_analysis.py')\n",
    "from analysis.lib.purification import purify_pq as ppq; reload(ppq)\n",
    "\n",
    "%matplotlib inline\n",
    "## initialize analysis and include all tools from purification.\n",
    "\n",
    "analysis_computer = 'lt3_analysis'"
   ]
  },
  {
   "cell_type": "code",
   "execution_count": null,
   "metadata": {
    "collapsed": false,
    "scrolled": false
   },
   "outputs": [],
   "source": [
    "from analysis.lib.single_click_ent import SCE_spin_spin_correlators as spc; reload(spc)\n",
    "spc.check_phase_calibration(analysis_computer = analysis_computer)"
   ]
  },
  {
   "cell_type": "code",
   "execution_count": null,
   "metadata": {
    "collapsed": false,
    "scrolled": false
   },
   "outputs": [],
   "source": [
    "from analysis.lib.single_click_ent import SCE_spin_spin_correlators as spc; reload(spc)\n",
    "spc.run_analysis('EntOnDemand0p15_18k',use_file_library=True,plot_correlations =True,do_ROC = True,do_sine_fit = True,plot_temporal_filter=True,save_figs = False,save_corrs=False)"
   ]
  },
  {
   "cell_type": "code",
   "execution_count": null,
   "metadata": {
    "collapsed": false,
    "scrolled": false
   },
   "outputs": [],
   "source": [
    "from analysis.lib.single_click_ent import SCE_spin_spin_correlators as spc; reload(spc)\n",
    "spc.run_analysis('SweepTheta',use_file_library=True, do_ROC = True,do_sine_fit = False,\n",
    "                 save_corrs = True,print_fids=True,\n",
    "                         plot_correlations = True)"
   ]
  },
  {
   "cell_type": "code",
   "execution_count": null,
   "metadata": {
    "collapsed": false,
    "scrolled": false
   },
   "outputs": [],
   "source": [
    "reload(pqsequence)\n",
    "from analysis.lib.single_click_ent import SCE_spin_spin_correlators as spc; reload(spc)\n",
    "sca =spc.bulk_analyze_entanglement_on_demand()"
   ]
  },
  {
   "cell_type": "code",
   "execution_count": null,
   "metadata": {
    "collapsed": false,
    "scrolled": false
   },
   "outputs": [],
   "source": [
    "reload(pqsequence)\n",
    "from analysis.lib.single_click_ent import SCE_spin_spin_correlators as spc; reload(spc)\n",
    "spc.bulk_analyze_eod_sweep_dd_reps()"
   ]
  },
  {
   "cell_type": "code",
   "execution_count": null,
   "metadata": {
    "collapsed": false
   },
   "outputs": [],
   "source": [
    "reload(pqsequence)\n",
    "from analysis.lib.single_click_ent import SCE_spin_spin_correlators as spc; reload(spc)\n",
    "spc.bulk_analyze_phase_stability(mode = 'only_meas')"
   ]
  },
  {
   "cell_type": "code",
   "execution_count": null,
   "metadata": {
    "collapsed": true
   },
   "outputs": [],
   "source": []
  },
  {
   "cell_type": "code",
   "execution_count": null,
   "metadata": {
    "collapsed": true
   },
   "outputs": [],
   "source": []
  }
 ],
 "metadata": {
  "kernelspec": {
   "display_name": "Python 2",
   "language": "python",
   "name": "python2"
  },
  "language_info": {
   "codemirror_mode": {
    "name": "ipython",
    "version": 2
   },
   "file_extension": ".py",
   "mimetype": "text/x-python",
   "name": "python",
   "nbconvert_exporter": "python",
   "pygments_lexer": "ipython2",
   "version": "2.7.3"
  }
 },
 "nbformat": 4,
 "nbformat_minor": 1
}
