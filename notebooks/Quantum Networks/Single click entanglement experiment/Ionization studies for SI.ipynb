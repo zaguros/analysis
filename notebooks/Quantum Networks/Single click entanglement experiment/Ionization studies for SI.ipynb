{
 "cells": [
  {
   "cell_type": "code",
   "execution_count": null,
   "metadata": {
    "collapsed": false
   },
   "outputs": [],
   "source": [
    "execfile(r'D:\\measuring\\analysis\\scripts\\setup_analysis.py')\n",
    "from analysis.scripts.mbi import mbi_data_general_fits as fits; reload(fits)\n",
    "%matplotlib inline"
   ]
  },
  {
   "cell_type": "code",
   "execution_count": null,
   "metadata": {
    "collapsed": false
   },
   "outputs": [],
   "source": [
    "reload(fits)\n",
    "base_f = r'D:\\measuring\\data\\ionization_LT4_yellow'\n",
    "### all data were taken on LT4 29-06-2017\n",
    "kws = {'base_folder' : base_f, 'offset':[0.0], 'amplitude': [0.47], 'center' : [0], 'decay_constant': [10000], \n",
    "                      'exp_power' : [1],\n",
    "                      'frequency' : [0.], 'phase' : [0], \n",
    "                      'fixed' : [0,2,4,5,6],\n",
    "                      'ylim' : [0.8,1.05],\n",
    "                      'plot_fit' : True, 'do_print' :True, 'show_guess' : False,\n",
    "                     'correct_ionization' : False}\n",
    "Result_1nW = fits.exp_sin(timestamp=  None, contains = '081009',**kws)[0]\n",
    "Result_50nW = fits.exp_sin(timestamp=  None, contains = '082913',**kws)[0]\n",
    "\n",
    "###params\n",
    "# 0 : offset|\n",
    "# 1 : amplitude\n",
    "# 2 : center\n",
    "# 3 : decay_constant\n",
    "# 4 : exp_power\n",
    "# 5 : frequency\n",
    "# 6 : phase"
   ]
  },
  {
   "cell_type": "code",
   "execution_count": null,
   "metadata": {
    "collapsed": false
   },
   "outputs": [],
   "source": [
    "\n",
    "fig,(ax) = plt.subplots(1,figsize = (6*0.7,4*0.7))\n",
    "xfit = np.linspace(0,2500,100)\n",
    "plt.errorbar(Result_1nW['x'],Result_1nW['y'],Result_1nW['y_u'],label = '1 nW',fmt = 'o',markersize = 4)\n",
    "plt.errorbar(Result_50nW['x'],Result_50nW['y'],Result_50nW['y_u'],label = '50 nW',fmt = 'o',markersize = 4)\n",
    "plt.plot(xfit,Result_1nW['fitfunc'](xfit),color = 'tab:blue')\n",
    "plt.plot(xfit,Result_50nW['fitfunc'](xfit),color = 'tab:orange')\n",
    "plt.legend()\n",
    "plt.ylabel(r'$F(|0\\rangle)$')\n",
    "plt.xlabel('Entangling attempts')\n",
    "plt.ylim([0.85,1.0])\n",
    "plt.yticks([0.85,0.9,0.95,1])\n",
    "\n",
    "plt.savefig(os.path.join(r'D:/measuring/data/ionization_LT4_yellow','ionization_LT4.pdf'),\n",
    "        format='pdf')"
   ]
  },
  {
   "cell_type": "code",
   "execution_count": null,
   "metadata": {
    "collapsed": true
   },
   "outputs": [],
   "source": []
  }
 ],
 "metadata": {
  "kernelspec": {
   "display_name": "Python 2",
   "language": "python",
   "name": "python2"
  },
  "language_info": {
   "codemirror_mode": {
    "name": "ipython",
    "version": 2
   },
   "file_extension": ".py",
   "mimetype": "text/x-python",
   "name": "python",
   "nbconvert_exporter": "python",
   "pygments_lexer": "ipython2",
   "version": "2.7.3"
  }
 },
 "nbformat": 4,
 "nbformat_minor": 0
}
