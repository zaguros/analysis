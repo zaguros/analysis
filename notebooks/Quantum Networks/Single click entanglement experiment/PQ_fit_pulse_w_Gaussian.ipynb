{
 "cells": [
  {
   "cell_type": "code",
   "execution_count": null,
   "metadata": {
    "collapsed": false
   },
   "outputs": [],
   "source": [
    "\n",
    "\n",
    "execfile(r'D:\\measuring\\analysis\\scripts\\setup_analysis.py')\n",
    "import matplotlib as mpl\n",
    "%matplotlib inline\n"
   ]
  },
  {
   "cell_type": "markdown",
   "metadata": {},
   "source": [
    "# Paper analysis"
   ]
  },
  {
   "cell_type": "code",
   "execution_count": null,
   "metadata": {
    "collapsed": false
   },
   "outputs": [],
   "source": [
    "single_click_ent_laser = '142825'\n",
    "base_f = r'M:\\tnw\\ns\\qt\\Diamond\\Projects\\SingleClickEnt\\Data\\Excitation_pulse'\n",
    "folder=tb.latest_data(single_click_ent_laser, folder  = base_f)\n",
    "a = pqsequence.TailAnalysis(folder, hdf5_mode='r')\n",
    "agrp=a.adwingrp('adwindata')\n",
    "mpl.rc(\"xtick\",**{'top':True,'direction':'in'})\n",
    "mpl.rc(\"ytick\",**{'right':True,'direction':'in'})\n",
    "mpl.rc(\"savefig\", **{'transparent':True,'bbox':'tight'})"
   ]
  },
  {
   "cell_type": "code",
   "execution_count": null,
   "metadata": {
    "collapsed": false
   },
   "outputs": [],
   "source": [
    "(h0, b0), (h1, b1) =pq_tools.get_photon_hist(\n",
    "    a.pqf,start =1.854e6 ,\n",
    "    length = 0.01E6, \n",
    "    hist_binsize = 1e2)\n",
    "\n",
    "b0 = ((b0 - b0[0])*1e-3)-4.406\n",
    "x = b0[:-1]\n",
    "plt.figure(figsize=(6*0.5,4*0.5))\n",
    "plt.errorbar(x,h0,np.sqrt(h0),fmt='.',label='data')\n",
    "fit_result=fit.fit1d(x,h0,common.fit_gauss,0,1200,0,2,ret=True,do_print=True)\n",
    "\n",
    "plt.plot(np.linspace(x[0],x[-1],201), fit_result['fitfunc'](np.linspace(x[0],x[-1],201)),':', lw=2,color = 'tab:olive',label='fit')\n",
    "plt.xlabel('Time (ns)')\n",
    "plt.ylabel('Events per 10-ps bin')\n",
    "print 'FWHM: ', 2.35482004503 * fit_result['params_dict']['sigma'], 'ns'\n",
    "plt.legend()\n",
    "plt.savefig(os.path.join(base_f,'excitation_pulse.pdf'),format='pdf')"
   ]
  },
  {
   "cell_type": "markdown",
   "metadata": {},
   "source": [
    "# Generic"
   ]
  },
  {
   "cell_type": "code",
   "execution_count": null,
   "metadata": {
    "collapsed": true
   },
   "outputs": [],
   "source": [
    "single_click_ent_laser = '113245'\n",
    "folder=tb.latest_data(single_click_ent_laser, folder  = 'X:\\data')\n",
    "a = pqsequence.TailAnalysis(folder, hdf5_mode='r')#, pq_folder='bs_remote')\n",
    "agrp=a.adwingrp('adwindata')\n",
    "print folder"
   ]
  },
  {
   "cell_type": "code",
   "execution_count": null,
   "metadata": {
    "collapsed": false
   },
   "outputs": [],
   "source": [
    "(h0, b0), (h1, b1) =pq_tools.get_photon_hist(\n",
    "    a.pqf,start =2.89e6 ,\n",
    "    length = 0.02E6, \n",
    "    hist_binsize = 1e2)\n",
    "\n",
    "b0 = b0 - b0[0]\n",
    "plt.figure()\n",
    "plt.plot(b0[:-1],h0)\n",
    "\n",
    "fit_result=fit.fit1d(b0[:-1],h0,common.fit_gauss,0,1200,4000,1e3,ret=True,do_print=True)\n",
    "x = b0[:-1]\n",
    "plt.plot(np.linspace(x[0],x[-1],201), fit_result['fitfunc'](np.linspace(x[0],x[-1],201)), lw=2)\n",
    "\n",
    "print 'FWHM: ', 2.35482004503 * fit_result['params_dict']['sigma']/1e3, 'ns'"
   ]
  },
  {
   "cell_type": "code",
   "execution_count": null,
   "metadata": {
    "collapsed": true
   },
   "outputs": [],
   "source": []
  }
 ],
 "metadata": {
  "kernelspec": {
   "display_name": "Python 2",
   "language": "python",
   "name": "python2"
  },
  "language_info": {
   "codemirror_mode": {
    "name": "ipython",
    "version": 2
   },
   "file_extension": ".py",
   "mimetype": "text/x-python",
   "name": "python",
   "nbconvert_exporter": "python",
   "pygments_lexer": "ipython2",
   "version": "2.7.3"
  }
 },
 "nbformat": 4,
 "nbformat_minor": 0
}
