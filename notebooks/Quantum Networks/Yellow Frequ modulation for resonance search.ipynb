{
 "cells": [
  {
   "cell_type": "code",
   "execution_count": null,
   "metadata": {
    "collapsed": false
   },
   "outputs": [],
   "source": [
    "execfile(r'D:\\measuring\\analysis\\scripts\\setup_analysis.py')\n",
    "%matplotlib inline"
   ]
  },
  {
   "cell_type": "code",
   "execution_count": null,
   "metadata": {
    "collapsed": false
   },
   "outputs": [],
   "source": [
    "x = [7.68,7,6,8,9,8.5,7.4]\n",
    "y = [74.9,20.6,0,70,2.5,22,54]\n",
    "\n",
    "plt.plot(x,y,'o')\n",
    "plt.xlabel('Voltage on FM (V)')\n",
    "plt.ylabel('Power (nW)')"
   ]
  },
  {
   "cell_type": "code",
   "execution_count": null,
   "metadata": {
    "collapsed": false
   },
   "outputs": [],
   "source": [
    "x = [7.68,7,6,8,9,7.4,4]\n",
    "y = [3.6,4,4.3,3.6,3.3,3.8,3.6]\n",
    "\n",
    "plt.plot(x,y,'o')\n",
    "plt.xlabel('Voltage on FM (V)')\n",
    "plt.ylabel('Power (nW)')"
   ]
  },
  {
   "cell_type": "code",
   "execution_count": null,
   "metadata": {
    "collapsed": false
   },
   "outputs": [],
   "source": [
    "x = [7.68,7,6,8,9,7.4,6.5,8.5,5.5,7.2,6.8,6.6,6.2]\n",
    "y = [70,175,100,40,30,130,230,30,20,170,230,240,180]\n",
    "\n",
    "plt.plot(x,y,'o')\n",
    "plt.xlabel('Voltage on FM (V)')\n",
    "plt.ylabel('Power (nW)')"
   ]
  },
  {
   "cell_type": "code",
   "execution_count": null,
   "metadata": {
    "collapsed": false
   },
   "outputs": [],
   "source": [
    "x = [7.68,7,6,8,7.4,6.5,5.5,8.5,9]\n",
    "y = [440,610,330,440,540,520,110,300,200]\n",
    "\n",
    "plt.plot(x,y,'o')\n",
    "plt.xlabel('Voltage on FM (V)')\n",
    "plt.ylabel('Power (nW)')"
   ]
  },
  {
   "cell_type": "code",
   "execution_count": null,
   "metadata": {
    "collapsed": true
   },
   "outputs": [],
   "source": [
    "x = [7.68,7,6,8,7.4,6.5,5.5,8.5,9]\n",
    "y = [440,610,330,440,540,520,110,300,200]\n",
    "\n",
    "plt.plot(x,y,'o')\n",
    "plt.xlabel('Voltage on FM (V)')\n",
    "plt.ylabel('Power (nW)')"
   ]
  }
 ],
 "metadata": {
  "kernelspec": {
   "display_name": "Python 2",
   "language": "python",
   "name": "python2"
  },
  "language_info": {
   "codemirror_mode": {
    "name": "ipython",
    "version": 2
   },
   "file_extension": ".py",
   "mimetype": "text/x-python",
   "name": "python",
   "nbconvert_exporter": "python",
   "pygments_lexer": "ipython2",
   "version": "2.7.3"
  }
 },
 "nbformat": 4,
 "nbformat_minor": 0
}
