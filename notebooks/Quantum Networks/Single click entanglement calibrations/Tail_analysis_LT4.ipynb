{
 "cells": [
  {
   "cell_type": "code",
   "execution_count": null,
   "metadata": {
    "collapsed": false,
    "scrolled": false
   },
   "outputs": [],
   "source": [
    "execfile(r'D:\\measuring\\analysis\\scripts\\setup_analysis.py')\n",
    "%matplotlib inline\n",
    "\n",
    "folder=tb.latest_data('tail')\n",
    "\n",
    "print folder\n",
    "name = 'adwindata'\n",
    "TH_or_HH = 'TH'\n",
    "ZPL = True\n",
    "a = pqsequence.TailAnalysis(folder, hdf5_mode='r')#, pq_folder='bs_remote')\n",
    "\n",
    "\n",
    "a.get_sweep_pts()\n",
    "a.get_sweep_idxs(noof_syncs_per_sweep_pt=250)\n",
    "a.get_readout_results(name)\n",
    "\n",
    "if a.g.attrs['general_sweep_name']=='eom_off_amplitude':\n",
    "    print 'sweeping EOM off voltage'\n",
    "    a.get_tail_vs_sweep(0,1680,20, pq_binsize_ns=1, hist_binsize_ns=1.,verbose=True)\n",
    "else:\n",
    "    if TH_or_HH == 'TH':\n",
    "        if ZPL:\n",
    "            a.get_tail_vs_sweep(1,1690,50, pq_binsize_ns=1, hist_binsize_ns=1.,verbose=True)\n",
    "        else:\n",
    "            a.get_tail_vs_sweep(0,1600,200,pq_binsize_ns=1,hist_binsize_ns=1.,verbose = True)\n",
    "    else:\n",
    "        print 'HH'\n",
    "        a.get_tail_vs_sweep(0,2783e3,40e3, pq_binsize_ns=1, hist_binsize_ns=200.,verbose=True)\n",
    "\n",
    "\n",
    "\n",
    "save=True\n",
    "a.plot_tail_cts_vs_sweep(save=save, channels=1)\n",
    "a.plot_tail_hists_vs_sweep(save=save)\n",
    "a.plot_tail_hist_integated(save=save, log_plot=True)\n",
    "a.plot_tail_hist_all(save=save, log_plot=1, offset=0, indices=[np.argmax(a.tail_cts_per_sweep_idx)])"
   ]
  },
  {
   "cell_type": "code",
   "execution_count": null,
   "metadata": {
    "collapsed": false
   },
   "outputs": [],
   "source": [
    "## ZPL Counts in tail?\n",
    "a.get_tail_vs_sweep(1,3076,100, pq_binsize_ns=1, hist_binsize_ns=1.,verbose=True)\n",
    "a.plot_tail_cts_vs_sweep(save=False, channels=1)\n",
    "a.plot_tail_hists_vs_sweep(save=False)\n",
    "a.plot_tail_hist_integated(save=False, log_plot=True)\n",
    "a.plot_tail_hist_all(save=False, log_plot=1, offset=0, indices=[np.argmax(a.tail_cts_per_sweep_idx)])"
   ]
  },
  {
   "cell_type": "code",
   "execution_count": null,
   "metadata": {
    "collapsed": false,
    "scrolled": false
   },
   "outputs": [],
   "source": [
    "from analysis.lib.fitting import fit, common, rabi\n",
    "ax=a.plot_tail_cts_vs_sweep(save=False, ret='ax')\n",
    "x=a.g.attrs['general_sweep_pts']\n",
    "y=a.tail_cts_per_sweep_idx\n",
    "ff = common.fit_parabole\n",
    "#o + A * (x-c)**2\n",
    "#['g_o', 'g_A', 'g_c']\n",
    "args = [0,np.max(y), x[np.argmin(y)]]\n",
    "print args\n",
    "fitres = fit.fit1d(x, y, ff, *args, fixed = [],\n",
    "                   do_print = True, ret = True)\n",
    "plot_pts=100\n",
    "x_p=np.linspace(min(x),max(x),plot_pts)\n",
    "if fitres['success']:\n",
    "    f_p = fitres['fitfunc'](x_p)*1e4\n",
    "    ax.plot(x_p,f_p)"
   ]
  },
  {
   "cell_type": "code",
   "execution_count": null,
   "metadata": {
    "collapsed": false
   },
   "outputs": [],
   "source": [
    "from analysis.lib.fitting import fit, common, rabi\n",
    "from analysis.lib.tools import plot\n",
    "fig, ax = plt.subplots(1,1, figsize=(4.5,4))\n",
    "fs=zeros(a.sweep_length)\n",
    "taus = zeros(a.sweep_length)\n",
    "for i in range(a.sweep_length):\n",
    "    x=a.tail_hist_b[:-1]        \n",
    "    y=a.tail_hist_h[i]\n",
    "    fit_result = fit.fit1d(x, y, rabi.fit_rabi_damped_exp_with_offset, \n",
    "            1/5.,1000,0,10., x[0], ret = True, color = 'r', linewidth = 2.0)\n",
    "    fs[i] = fit_result['params_dict']['f']\n",
    "    taus[i] = fit_result['params_dict']['tau']\n",
    "    plot.plot_fit1d(fit_result, np.linspace(x[0],x[-1],201), ax=ax,\n",
    "        plot_data=True, print_info=False)\n",
    "fig, ax = plt.subplots(1,1, figsize=(4.5,4))\n",
    "#print taus, fs\n",
    "ax.plot(a.sweep_pts, fs)\n",
    "fig, ax = plt.subplots(1,1, figsize=(4.5,4))\n",
    "ax.plot(a.sweep_pts, taus)\n"
   ]
  },
  {
   "cell_type": "code",
   "execution_count": null,
   "metadata": {
    "collapsed": false
   },
   "outputs": [],
   "source": [
    "a.get_cr_results(name)\n",
    "a.plot_cr_vs_sweep()"
   ]
  },
  {
   "cell_type": "code",
   "execution_count": null,
   "metadata": {
    "collapsed": false
   },
   "outputs": [],
   "source": [
    "execfile(r'D:\\measuring\\analysis\\scripts\\setup_analysis.py')\n",
    "#folder=tb.latest_data('Bell')\n",
    "folder=tb.data_from_time('20141012023031')\n",
    "#folder=r'D:\\measuring\\data\\20140519\\192030_Bell_lt3_tailS_The111no2_SIL1_Ey_+11deg'\n",
    "name = 'ssro'\n",
    "a = pqsequence.TailAnalysis(folder, hdf5_mode='r', pq_folder='bs_remote')\n",
    "a.reps=200000\n",
    "a.plot_histogram(0, start=5.350e6, length=1000000, hist_binsize=1000, save=False)"
   ]
  },
  {
   "cell_type": "code",
   "execution_count": null,
   "metadata": {
    "collapsed": false
   },
   "outputs": [],
   "source": [
    "from analysis.lib.pq import pq_tools\n",
    "reload(pq_tools)"
   ]
  },
  {
   "cell_type": "code",
   "execution_count": null,
   "metadata": {
    "collapsed": false
   },
   "outputs": [],
   "source": [
    "fltr0=pq_tools.filter_synctimes(a.pqf, 5371.5e3, 5397e3,15,600e3)\n",
    "fltr1=pq_tools.filter_synctimes(a.pqf, 5374e3, 5399.5e3,15,600e3)\n",
    "cs=pq_tools.get_coincidences(a.pqf, fltr0, fltr1)\n",
    "dts_ns = cs[:,0]*1e-3\n",
    "len(cs)"
   ]
  },
  {
   "cell_type": "code",
   "execution_count": null,
   "metadata": {
    "collapsed": false
   },
   "outputs": [],
   "source": [
    "binsize=10\n",
    "G2_BINEDGES = arange(-19000,19000,binsize)\n",
    "#G2_BINEDGES = np.hstack((arange(-700,-500,binsize),arange(-100,100,binsize),arange(500,700,binsize)))\n",
    "#print G2_BINEDGES\n",
    "figure(figsize=(20,5))\n",
    "b_=hist(dts_ns, bins=G2_BINEDGES)"
   ]
  },
  {
   "cell_type": "code",
   "execution_count": null,
   "metadata": {
    "collapsed": false
   },
   "outputs": [],
   "source": [
    "execfile(r'D:\\measuring\\analysis\\scripts\\setup_analysis.py')\n",
    "folder=tb.latest_data('Bell')\n",
    "folder=tb.data_from_time('20140710153945')\n",
    "a = sequence.SequenceAnalysis(folder)\n",
    "a.get_cr_results(name)\n",
    "a.get_sweep_pts()\n",
    "a.plot_cr_vs_sweep()\n",
    "a.finish()"
   ]
  },
  {
   "cell_type": "code",
   "execution_count": null,
   "metadata": {
    "collapsed": false
   },
   "outputs": [],
   "source": [
    "from analysis.lib.fitting import fit, common\n",
    "from analysis.lib.tools import plot\n",
    "fig, ax = plt.subplots(1,1, figsize=(4.5,4))\n",
    "fs=np.zeros(a.sweep_length)\n",
    "taus = np.zeros(a.sweep_length)\n",
    "for i in range(a.sweep_length):\n",
    "    x=a.tail_hist_b[:-1]        \n",
    "    y=a.tail_hist_h[i]\n",
    "    p0, fitfunc, fitfunc_str = common.fit_general_exponential(0.,300,5427.,2., 2.)\n",
    "#     ax.plot(np.linspace(x[0],x[-1],201), fitfunc(np.linspace(x[0],x[-1],201)), ':', lw=2)\n",
    "    fit_result = fit.fit1d(x, y, None, p0=p0, fitfunc=fitfunc, \n",
    "            ret = True, color = 'r', linewidth = 2.0,fixed=[4],do_print=True)\n",
    "    \n",
    "    plot.plot_fit1d(fit_result, np.linspace(x[0],x[-1],201), ax=ax,\n",
    "        plot_data=True, print_info=True)\n",
    "#     fs[i] = fit_result['params_dict']['f']\n",
    "#     taus[i] = fit_result['params_dict']['tau']\n",
    "# fig, ax = plt.subplots(1,1, figsize=(4.5,4))\n",
    "# #print taus, fs\n",
    "# ax.plot(a.sweep_pts, fs)\n",
    "# fig, ax = plt.subplots(1,1, figsize=(4.5,4))\n",
    "# ax.plot(a.sweep_pts, taus)"
   ]
  },
  {
   "cell_type": "code",
   "execution_count": null,
   "metadata": {
    "collapsed": false
   },
   "outputs": [],
   "source": [
    "624-166"
   ]
  },
  {
   "cell_type": "code",
   "execution_count": null,
   "metadata": {
    "collapsed": false
   },
   "outputs": [],
   "source": []
  },
  {
   "cell_type": "code",
   "execution_count": null,
   "metadata": {
    "collapsed": false
   },
   "outputs": [],
   "source": [
    "listy = [0,1,2,3]\n",
    "listy.insert(-1,5)\n",
    "print listy"
   ]
  },
  {
   "cell_type": "code",
   "execution_count": null,
   "metadata": {
    "collapsed": false
   },
   "outputs": [],
   "source": []
  }
 ],
 "metadata": {
  "kernelspec": {
   "display_name": "Python 2",
   "language": "python",
   "name": "python2"
  },
  "language_info": {
   "codemirror_mode": {
    "name": "ipython",
    "version": 2
   },
   "file_extension": ".py",
   "mimetype": "text/x-python",
   "name": "python",
   "nbconvert_exporter": "python",
   "pygments_lexer": "ipython2",
   "version": "2.7.3"
  }
 },
 "nbformat": 4,
 "nbformat_minor": 0
}
