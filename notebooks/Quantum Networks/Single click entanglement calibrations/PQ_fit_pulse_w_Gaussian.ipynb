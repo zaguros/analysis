{
 "cells": [
  {
   "cell_type": "code",
   "execution_count": null,
   "metadata": {
    "collapsed": false
   },
   "outputs": [],
   "source": [
    "single_click_ent_laser = '113245'\n",
    "\n",
    "execfile(r'D:\\measuring\\analysis\\scripts\\setup_analysis.py')\n",
    "folder=tb.latest_data(single_click_ent_laser, folder  = 'X:\\data')\n",
    "a = pqsequence.TailAnalysis(folder, hdf5_mode='r')#, pq_folder='bs_remote')\n",
    "agrp=a.adwingrp('adwindata')\n",
    "print folder\n",
    "%matplotlib inline\n"
   ]
  },
  {
   "cell_type": "code",
   "execution_count": null,
   "metadata": {
    "collapsed": false
   },
   "outputs": [],
   "source": [
    "(h0, b0), (h1, b1) =pq_tools.get_photon_hist(\n",
    "    a.pqf,start =2.89e6 ,\n",
    "    length = 0.02E6, \n",
    "    hist_binsize = 1e2)\n",
    "\n",
    "b0 = b0 - b0[0]\n",
    "plt.figure()\n",
    "plt.plot(b0[:-1],h0)\n",
    "\n",
    "fit_result=fit.fit1d(b0[:-1],h0,common.fit_gauss,0,1200,4000,1e3,ret=True,do_print=True)\n",
    "x = b0[:-1]\n",
    "plt.plot(np.linspace(x[0],x[-1],201), fit_result['fitfunc'](np.linspace(0,x[-1],201)), lw=2)\n",
    "\n",
    "print 'FWHM: ', 2.35482004503 * fit_result['params_dict']['sigma']/1e3, 'ns'"
   ]
  },
  {
   "cell_type": "code",
   "execution_count": null,
   "metadata": {
    "collapsed": true
   },
   "outputs": [],
   "source": []
  }
 ],
 "metadata": {
  "kernelspec": {
   "display_name": "Python 2",
   "language": "python",
   "name": "python2"
  },
  "language_info": {
   "codemirror_mode": {
    "name": "ipython",
    "version": 2
   },
   "file_extension": ".py",
   "mimetype": "text/x-python",
   "name": "python",
   "nbconvert_exporter": "python",
   "pygments_lexer": "ipython2",
   "version": "2.7.3"
  }
 },
 "nbformat": 4,
 "nbformat_minor": 0
}
