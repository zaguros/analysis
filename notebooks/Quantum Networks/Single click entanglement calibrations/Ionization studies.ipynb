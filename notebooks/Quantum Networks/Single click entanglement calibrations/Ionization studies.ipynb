{
 "cells": [
  {
   "cell_type": "code",
   "execution_count": null,
   "metadata": {
    "collapsed": false
   },
   "outputs": [],
   "source": [
    "import sys\n",
    "import numpy as np\n",
    "\n",
    "sys.path.append(r'D:/measuring')\n",
    "sys.path.append(r'D:/measuring/analysis')\n",
    "\n",
    "from analysis.scripts.mbi import mbi_data_general_fits as fits; reload(fits)\n",
    "%matplotlib inline"
   ]
  },
  {
   "cell_type": "code",
   "execution_count": null,
   "metadata": {
    "collapsed": false
   },
   "outputs": [],
   "source": [
    "reload(fits)\n",
    "Result = fits.exp_sin(timestamp=  None, contains = 'ioni',\n",
    "                      offset=[0.5], amplitude = [0.5], center = [0], decay_constant = [100], \n",
    "                      exp_power = [1],\n",
    "                      frequency = [0.], phase =[0], \n",
    "                      fixed = [0,2,4,5,6],\n",
    "                      ylim = None,\n",
    "                      plot_fit = True, do_print = True, show_guess = False,\n",
    "                     correct_ionization = False)\n",
    "\n",
    "###params\n",
    "# 0 : offset|\n",
    "# 1 : amplitude\n",
    "# 2 : center\n",
    "# 3 : decay_constant\n",
    "# 4 : exp_power\n",
    "# 5 : frequency\n",
    "# 6 : phase"
   ]
  },
  {
   "cell_type": "code",
   "execution_count": null,
   "metadata": {
    "collapsed": true
   },
   "outputs": [],
   "source": []
  }
 ],
 "metadata": {
  "kernelspec": {
   "display_name": "Python 2",
   "language": "python",
   "name": "python2"
  },
  "language_info": {
   "codemirror_mode": {
    "name": "ipython",
    "version": 2
   },
   "file_extension": ".py",
   "mimetype": "text/x-python",
   "name": "python",
   "nbconvert_exporter": "python",
   "pygments_lexer": "ipython2",
   "version": "2.7.3"
  }
 },
 "nbformat": 4,
 "nbformat_minor": 0
}
