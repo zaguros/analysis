{
 "cells": [
  {
   "cell_type": "markdown",
   "metadata": {},
   "source": [
    "This notebook analyzes joint measurements by LT3 and LT4 to obtain correlators between the two setups.\n",
    "For the analysis we assume that all measurements are conducted as sweeps!\n",
    "(the most useful sweep is either the superposition angle theta when measuring ZZ correlators or the microwave phase when measuring XX).\n",
    "\n",
    "NK 2017"
   ]
  },
  {
   "cell_type": "code",
   "execution_count": null,
   "metadata": {
    "collapsed": false
   },
   "outputs": [],
   "source": [
    "execfile(r'D:\\measuring\\analysis\\scripts\\setup_analysis.py')\n",
    "from analysis.lib.purification import purify_pq as ppq; reload(ppq)\n",
    "\n",
    "%matplotlib inline\n",
    "## initialize analysis and include all tools from purification.\n",
    "\n",
    "analysis_computer = 'lt3_analysis'"
   ]
  },
  {
   "cell_type": "code",
   "execution_count": null,
   "metadata": {
    "collapsed": false,
    "scrolled": false
   },
   "outputs": [],
   "source": [
    "from analysis.lib.single_click_ent import SCE_spin_spin_correlators as spc; reload(spc)\n",
    "spc.run_multi_file_analysis('SweepPhase0p05',analysis_computer=analysis_computer, do_plot = True, save_corrs = True,save_figs=False,plot_raw_correlators =False,\n",
    "                          do_ROC = True,do_sine_fit = True,\n",
    "                         plot_temporal_filter = True)"
   ]
  },
  {
   "cell_type": "code",
   "execution_count": null,
   "metadata": {
    "collapsed": false,
    "scrolled": false
   },
   "outputs": [],
   "source": [
    "from analysis.lib.single_click_ent import SCE_spin_spin_correlators as spc; reload(spc)\n",
    "spc.run_multi_file_analysis('SweepTheta', do_plot = True, save_corrs = True,save_figs=False,plot_raw_correlators =False,\n",
    "                          do_ROC = True,do_sine_fit = False,\n",
    "                         plot_temporal_filter = True)"
   ]
  },
  {
   "cell_type": "code",
   "execution_count": null,
   "metadata": {
    "collapsed": false,
    "scrolled": false
   },
   "outputs": [],
   "source": [
    "from analysis.lib.single_click_ent import SCE_spin_spin_correlators as spc; reload(spc)\n",
    "\n",
    "spc.run_analysis('OnDemand', do_plot = True, older_than = '20170705_100001',newer_than ='20170705_092000',\n",
    "                 ignore_HH = False,plot_raw_correlators =True,return_all = True,\n",
    "                      do_ROC = True,plot_temporal_filter = False,plot_tail =True, verbose = True,\n",
    "                     combine_correlation_data = False, flip_psi1 = False,\n",
    "                     abs_corrs = True,analysis_computer = analysis_computer)"
   ]
  },
  {
   "cell_type": "code",
   "execution_count": null,
   "metadata": {
    "collapsed": false
   },
   "outputs": [],
   "source": [
    "fold = tb.latest_data('094930')\n",
    "a = pqsequence.PQSequenceAnalysis(fold)\n",
    "\n",
    "\n",
    "def hist_adwin_var(a,adwin_var,diff = False,remove_zeros = False, **kw):\n",
    "    xlabel = kw.pop('xlabel',adwin_var)\n",
    "    vals = a.g['adwindata'][adwin_var].value\n",
    "    vals = vals if not (diff) else np.diff(vals)\n",
    "    vals = vals if not(remove_zeros) else vals[vals!=0]\n",
    "    ax = a.default_ax(figsize = (6,4))\n",
    "    \n",
    "    if kw.pop('normed',0):\n",
    "        weights = np.ones(len(vals))/np.float(len(vals))\n",
    "        kw['weights'] = weights\n",
    "        \n",
    "    plt.hist(vals,60,**kw)\n",
    "    plt.xlabel(xlabel)\n",
    "    plt.ylabel('# Occurences')\n",
    "\n",
    "# hist_adwin_var(a,'elapsed_since_phase_stab',normed = 1)\n",
    "# hist_adwin_var(a,'CR_after')\n",
    "hist_adwin_var(a,'time_in_cr_and_comm')\n",
    "hist_adwin_var(a,'DD_repetitions',normed = 1)\n",
    "hist_adwin_var(a,'counted_awg_reps',diff = True,normed = 1)\n",
    "hist_adwin_var(a,'invalid_data_markers',xlabel = 'yellow_repump_attempts',diff = True,remove_zeros = True)\n",
    "\n",
    "\n"
   ]
  }
 ],
 "metadata": {
  "kernelspec": {
   "display_name": "Python 2",
   "language": "python",
   "name": "python2"
  },
  "language_info": {
   "codemirror_mode": {
    "name": "ipython",
    "version": 2
   },
   "file_extension": ".py",
   "mimetype": "text/x-python",
   "name": "python",
   "nbconvert_exporter": "python",
   "pygments_lexer": "ipython2",
   "version": "2.7.3"
  }
 },
 "nbformat": 4,
 "nbformat_minor": 1
}
