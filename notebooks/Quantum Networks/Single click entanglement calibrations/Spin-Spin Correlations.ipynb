{
 "cells": [
  {
   "cell_type": "markdown",
   "metadata": {},
   "source": [
    "This notebook analyzes joint measurements by LT3 and LT4 to obtain correlators between the two setups.\n",
    "For the analysis we assume that all measurements are conducted as sweeps!\n",
    "(the most useful sweep is either the superposition angle theta when measuring ZZ correlators or the microwave phase when measuring XX).\n",
    "\n",
    "NK 2017"
   ]
  },
  {
   "cell_type": "code",
   "execution_count": null,
   "metadata": {
    "collapsed": false
   },
   "outputs": [],
   "source": [
    "execfile(r'D:\\measuring\\analysis\\scripts\\setup_analysis.py')\n",
    "from analysis.lib.purification import purify_pq as ppq; reload(ppq)\n",
    "\n",
    "%matplotlib inline\n",
    "## initialize analysis and include all tools from purification.\n",
    "\n",
    "analysis_computer = 'lt3_analysis'"
   ]
  },
  {
   "cell_type": "code",
   "execution_count": null,
   "metadata": {
    "collapsed": false,
    "scrolled": false
   },
   "outputs": [],
   "source": [
    "from analysis.lib.single_click_ent import SCE_spin_spin_correlators as spc; reload(spc)\n",
    "spc.analyze_spspcorrs(contains = 'eta',analysis_computer = analysis_computer, do_plot = True, save_corrs = False,save_figs=False,do_sine_fit =False,do_ROC=True,plot_filter = False,plot_raw_correlators = True)"
   ]
  },
  {
   "cell_type": "code",
   "execution_count": null,
   "metadata": {
    "collapsed": false,
    "scrolled": false
   },
   "outputs": [],
   "source": [
    "from analysis.lib.single_click_ent import SCE_spin_spin_correlators as spc; reload(spc)\n",
    "spc.analyze_spspcorrs(contains = '_EntangleXsweepY',\n",
    "                      analysis_computer = analysis_computer, do_plot = True, save_corrs = False,save_figs=False,\n",
    "                      do_sine_fit = True,plot_raw_correlators =False,\n",
    "                      plot_filter =False,\n",
    "                      do_ROC = True,\n",
    "                     do_print_fit_result = False,filter_params = {'lt4':{'repetition_number':[1,0,1000]}})\n",
    "\n",
    "from analysis.lib.single_click_ent import SCE_spin_spin_correlators as spc; reload(spc)\n",
    "spc.analyze_spspcorrs(contains = '_EntangleXsweepY',\n",
    "                      analysis_computer = analysis_computer, do_plot = True, save_corrs = False,save_figs=False,\n",
    "                      do_sine_fit = True,plot_raw_correlators =False,\n",
    "                      plot_filter =False,\n",
    "                      do_ROC = True,\n",
    "                     do_print_fit_result = False,filter_params = {'lt4':{'repetition_number':[1,1000,2000]}})"
   ]
  },
  {
   "cell_type": "code",
   "execution_count": null,
   "metadata": {
    "collapsed": false
   },
   "outputs": [],
   "source": [
    "from analysis.lib.single_click_ent import SCE_spin_spin_correlators as spc; reload(spc)\n",
    "spc.analyze_spspcorrs(contains = 'EntangleXX',\n",
    "                      do_sine_fit = False,plot_raw_correlators =False,\n",
    "                      analysis_computer = analysis_computer, plot_correlations = True, save_corrs = False,save_figs=False,\n",
    "                      plot_filter =False,adwin_filter_params = {'lt3':{'CR_after':[0,20,2000]}},\n",
    "                      do_ROC = True,flip_psi0 = False,\n",
    "                      do_print_fit_result = False)\n"
   ]
  },
  {
   "cell_type": "code",
   "execution_count": null,
   "metadata": {
    "collapsed": false,
    "scrolled": false
   },
   "outputs": [],
   "source": [
    "spc.sweep_analysis_parameter('EntangleXX',\n",
    "                             'st_start',  1865e3 + np.linspace(-5e3,5e3,8),\n",
    "                            analysis_computer = analysis_computer)\n",
    "\n",
    "spc.sweep_analysis_parameter('EntangleXX',\n",
    "                             'st_len',  np.linspace(10e3,60e3,8),\n",
    "                            analysis_computer = analysis_computer)"
   ]
  },
  {
   "cell_type": "code",
   "execution_count": null,
   "metadata": {
    "collapsed": false
   },
   "outputs": [],
   "source": [
    "reload(spc)\n",
    "spc.sweep_analysis_parameter('EntangleXX',\n",
    "                             'CR_after',  np.linspace(0,30,8),\n",
    "                             parameter_kind = 'fltr_dict_lt3',min_or_max = 'min',\n",
    "                            analysis_computer = analysis_computer)\n",
    "\n",
    "\n",
    "reload(spc)\n",
    "spc.sweep_analysis_parameter('EntangleXX',\n",
    "                             'CR_after',  np.linspace(0,30,8),\n",
    "                             parameter_kind = 'fltr_dict_lt4',min_or_max = 'min',\n",
    "                            analysis_computer = analysis_computer)"
   ]
  },
  {
   "cell_type": "code",
   "execution_count": null,
   "metadata": {
    "collapsed": false
   },
   "outputs": [],
   "source": [
    "reload(spc)\n",
    "spc.sweep_analysis_parameter('EntangleXX',\n",
    "                             'elapsed_since_phase_stab',  np.linspace(50e3,300e3,8),\n",
    "                             parameter_kind = 'fltr_dict_lt4',min_or_max = 'max',\n",
    "                            analysis_computer = analysis_computer)\n",
    "\n",
    "reload(spc)\n",
    "spc.sweep_analysis_parameter('EntangleXX',\n",
    "                             'repetition_number',  np.linspace(1000,10000,8),\n",
    "                             parameter_kind = 'fltr_dict_lt4',min_or_max = 'max',\n",
    "                            analysis_computer = analysis_computer)"
   ]
  },
  {
   "cell_type": "code",
   "execution_count": null,
   "metadata": {
    "collapsed": false
   },
   "outputs": [],
   "source": [
    "\n",
    "reload(spc)\n",
    "spc.sweep_analysis_parameter('EntangleXX',\n",
    "                             'LDE_attempts',  np.linspace(50,250,6),\n",
    "                             parameter_kind = 'fltr_dict_lt4',min_or_max = 'max',\n",
    "                            analysis_computer = analysis_computer)"
   ]
  },
  {
   "cell_type": "code",
   "execution_count": null,
   "metadata": {
    "collapsed": true
   },
   "outputs": [],
   "source": []
  }
 ],
 "metadata": {
  "kernelspec": {
   "display_name": "Python 2",
   "language": "python",
   "name": "python2"
  },
  "language_info": {
   "codemirror_mode": {
    "name": "ipython",
    "version": 2
   },
   "file_extension": ".py",
   "mimetype": "text/x-python",
   "name": "python",
   "nbconvert_exporter": "python",
   "pygments_lexer": "ipython2",
   "version": "2.7.3"
  }
 },
 "nbformat": 4,
 "nbformat_minor": 1
}
