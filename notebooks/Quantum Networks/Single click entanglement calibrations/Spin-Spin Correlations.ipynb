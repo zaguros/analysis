{
 "cells": [
  {
   "cell_type": "markdown",
   "metadata": {},
   "source": [
    "This notebook analyzes joint measurements by LT3 and LT4 to obtain correlators between the two setups.\n",
    "For the analysis we assume that all measurements are conducted as sweeps!\n",
    "(the most useful sweep is either the superposition angle theta when measuring ZZ correlators or the microwave phase when measuring XX).\n",
    "\n",
    "NK 2017"
   ]
  },
  {
   "cell_type": "code",
   "execution_count": null,
   "metadata": {
    "collapsed": false
   },
   "outputs": [],
   "source": [
    "execfile(r'D:\\measuring\\analysis\\scripts\\setup_analysis.py')\n",
    "from analysis.lib.purification import purify_pq as ppq; reload(ppq)\n",
    "\n",
    "%matplotlib inline\n",
    "## initialize analysis and include all tools from purification.\n",
    "\n",
    "analysis_computer = 'lt4'"
   ]
  },
  {
   "cell_type": "code",
   "execution_count": null,
   "metadata": {
    "collapsed": false,
    "scrolled": false
   },
   "outputs": [],
   "source": [
    "from analysis.lib.single_click_ent import SCE_spin_spin_correlators as spc; reload(spc)\n",
    "spc.analyze_spspcorrs(contains = '162145',analysis_computer = analysis_computer, do_plot = True, save_corrs = True,save_figs=False,do_sine_fit =False,do_ROC=True,plot_filter = False,plot_raw_correlators = True)"
   ]
  },
  {
   "cell_type": "code",
   "execution_count": null,
   "metadata": {
    "collapsed": false,
    "scrolled": false
   },
   "outputs": [],
   "source": [
    "from analysis.lib.single_click_ent import SCE_spin_spin_correlators as spc; reload(spc)\n",
    "spc.run_analysis(contains = ['143230','143227','140008','142645'],\n",
    "                      analysis_computer = analysis_computer, do_plot = True, save_corrs = False,save_figs=False,\n",
    "                      do_sine_fit = True,plot_raw_correlators =True,\n",
    "                      plot_filter =True,\n",
    "                      do_ROC = True,\n",
    "                 verbose = True,\n",
    "                     do_print_fit_result = False)\n"
   ]
  },
  {
   "cell_type": "code",
   "execution_count": null,
   "metadata": {
    "collapsed": false
   },
   "outputs": [],
   "source": [
    "from analysis.lib.single_click_ent import SCE_spin_spin_correlators as spc; reload(spc)\n",
    "spc.analyze_spspcorrs(contains = '160448',\n",
    "                      analysis_computer = analysis_computer, do_plot = True, save_corrs = True,save_figs=True,\n",
    "                      do_sine_fit = False,plot_raw_correlators =True,\n",
    "                      plot_filter =True,\n",
    "                      do_ROC = True,\n",
    "                     do_print_fit_result = False)\n"
   ]
  },
  {
   "cell_type": "code",
   "execution_count": null,
   "metadata": {
    "collapsed": false,
    "scrolled": false
   },
   "outputs": [],
   "source": [
    "reload(spc)\n",
    "spc.sweep_analysis_parameter('Entangle',\n",
    "                             'st_start',  np.linspace(1866e3 + 500e3-5e3,1866e3 + 500e3+5e3,3),\n",
    "                             parameter_kind = 'SPCorr',min_or_max = 'max',\n",
    "                            analysis_computer = analysis_computer)\n"
   ]
  },
  {
   "cell_type": "code",
   "execution_count": null,
   "metadata": {
    "collapsed": false
   },
   "outputs": [],
   "source": [
    "reload(spc)\n",
    "spc.sweep_analysis_parameter('Entangle',\n",
    "                             'st_len',  np.linspace(10e3,60e3,4),\n",
    "                             parameter_kind = 'SPCorr',min_or_max = 'max',\n",
    "                            analysis_computer = analysis_computer)"
   ]
  },
  {
   "cell_type": "code",
   "execution_count": null,
   "metadata": {
    "collapsed": true
   },
   "outputs": [],
   "source": []
  }
 ],
 "metadata": {
  "kernelspec": {
   "display_name": "Python 2",
   "language": "python",
   "name": "python2"
  },
  "language_info": {
   "codemirror_mode": {
    "name": "ipython",
    "version": 2
   },
   "file_extension": ".py",
   "mimetype": "text/x-python",
   "name": "python",
   "nbconvert_exporter": "python",
   "pygments_lexer": "ipython2",
   "version": "2.7.3"
  }
 },
 "nbformat": 4,
 "nbformat_minor": 1
}
