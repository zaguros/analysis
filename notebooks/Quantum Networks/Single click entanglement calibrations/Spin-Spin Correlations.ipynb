{
 "cells": [
  {
   "cell_type": "markdown",
   "metadata": {},
   "source": [
    "This notebook analyzes joint measurements by LT3 and LT4 to obtain correlators between the two setups.\n",
    "For the analysis we assume that all measurements are conducted as sweeps!\n",
    "(the most useful sweep is either the superposition angle theta when measuring ZZ correlators or the microwave phase when measuring XX).\n",
    "\n",
    "NK 2017"
   ]
  },
  {
   "cell_type": "code",
   "execution_count": null,
   "metadata": {
    "collapsed": false
   },
   "outputs": [],
   "source": [
    "execfile(r'D:\\measuring\\analysis\\scripts\\setup_analysis.py')\n",
    "from analysis.lib.purification import purify_pq as ppq; reload(ppq)\n",
    "\n",
    "%matplotlib inline\n",
    "## initialize analysis and include all tools from purification.\n",
    "\n",
    "analysis_computer = 'lt4'"
   ]
  },
  {
   "cell_type": "code",
   "execution_count": null,
   "metadata": {
    "collapsed": false,
    "scrolled": false
   },
   "outputs": [],
   "source": [
    "from analysis.lib.single_click_ent import SCE_spin_spin_correlators as spc; reload(spc)\n",
    "spc.run_analysis('EntangleZZ_SweepTheta', do_plot = True, save_corrs = True,save_figs=False,plot_raw_correlators =False,\n",
    "                      do_ROC = True,plot_temporal_filter = True)"
   ]
  },
  {
   "cell_type": "code",
   "execution_count": null,
   "metadata": {
    "collapsed": false
   },
   "outputs": [],
   "source": [
    "from analysis.lib.single_click_ent import SCE_spin_spin_correlators as spc; reload(spc)\n",
    "spc.run_multi_file_analysis('SweepXY_0p1Theta',plot_temporal_filter = True, older_than = '20170620161200', do_plot = True, save_corrs = True,save_figs=False,plot_raw_correlators =False,\n",
    "                      do_ROC = True,do_sine_fit = True)"
   ]
  },
  {
   "cell_type": "code",
   "execution_count": null,
   "metadata": {
    "collapsed": false,
    "scrolled": false
   },
   "outputs": [],
   "source": [
    "from analysis.lib.single_click_ent import SCE_spin_spin_correlators as spc; reload(spc)\n",
    "spc.run_analysis('EntangleXsweepY', do_plot = True, save_corrs = True,save_figs=False,plot_raw_correlators =False,do_sine_fit = True,\n",
    "                      do_ROC = True,plot_temporal_filter = False, combine_correlation_data = False, flip_psi1 = False,analysis_computer = analysis_computer)"
   ]
  },
  {
   "cell_type": "code",
   "execution_count": null,
   "metadata": {
    "collapsed": false,
    "scrolled": false
   },
   "outputs": [],
   "source": [
    "from analysis.lib.single_click_ent import SCE_spin_spin_correlators as spc; reload(spc)\n",
    "spc.run_analysis('Everything',return_all =True, older_than = '20170630_005000',newer_than = '20170630_002000', do_plot = True, save_corrs = True,save_figs=False,plot_raw_correlators =False,do_sine_fit = False,\n",
    "                      do_ROC = True,plot_temporal_filter = True, combine_correlation_data = False, flip_psi1 = False,abs_corrs = True,analysis_computer = analysis_computer)"
   ]
  },
  {
   "cell_type": "code",
   "execution_count": null,
   "metadata": {
    "collapsed": false,
    "scrolled": false
   },
   "outputs": [],
   "source": [
    "from analysis.lib.single_click_ent import SCE_spin_spin_correlators as spc; reload(spc)\n",
    "spc.run_analysis(['132230','132229'], do_plot = True, save_corrs = True,save_figs=False,plot_raw_correlators =True,do_sine_fit = False,\n",
    "                      do_ROC = True,plot_temporal_filter = True, combine_correlation_data = False, flip_psi1 = False,abs_corrs = True,analysis_computer = analysis_computer)"
   ]
  },
  {
   "cell_type": "code",
   "execution_count": null,
   "metadata": {
    "collapsed": true
   },
   "outputs": [],
   "source": []
  }
 ],
 "metadata": {
  "kernelspec": {
   "display_name": "Python 2",
   "language": "python",
   "name": "python2"
  },
  "language_info": {
   "codemirror_mode": {
    "name": "ipython",
    "version": 2
   },
   "file_extension": ".py",
   "mimetype": "text/x-python",
   "name": "python",
   "nbconvert_exporter": "python",
   "pygments_lexer": "ipython2",
   "version": "2.7.3"
  }
 },
 "nbformat": 4,
 "nbformat_minor": 1
}
