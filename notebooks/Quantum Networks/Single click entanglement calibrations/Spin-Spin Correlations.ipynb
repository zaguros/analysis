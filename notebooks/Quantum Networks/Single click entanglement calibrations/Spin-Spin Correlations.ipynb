{
 "cells": [
  {
   "cell_type": "markdown",
   "metadata": {},
   "source": [
    "This notebook analyzes joint measurements by LT3 and LT4 to obtain correlators between the two setups.\n",
    "For the analysis we assume that all measurements are conducted as sweeps!\n",
    "(the most useful sweep is either the superposition angle theta when measuring ZZ correlators or the microwave phase when measuring XX).\n",
    "\n",
    "NK 2017"
   ]
  },
  {
   "cell_type": "code",
   "execution_count": null,
   "metadata": {
    "collapsed": false
   },
   "outputs": [],
   "source": [
    "execfile(r'D:\\measuring\\analysis\\scripts\\setup_analysis.py')\n",
    "from analysis.lib.purification import purify_pq as ppq; reload(ppq)\n",
    "\n",
    "%matplotlib inline\n",
    "## initialize analysis and include all tools from purification.\n",
    "\n",
    "analysis_computer = 'lt4'"
   ]
  },
  {
   "cell_type": "code",
   "execution_count": null,
   "metadata": {
    "collapsed": false,
    "scrolled": false
   },
   "outputs": [],
   "source": [
    "from analysis.lib.single_click_ent import SCE_spin_spin_correlators as spc; reload(spc)\n",
    "spc.analyze_spspcorrs(contains = ['145850','145847'],analysis_computer = analysis_computer, \n",
    "                      do_plot = True, save_corrs = True,save_figs=False,do_sine_fit =True,combine_data_for_fit = True,\n",
    "                      do_ROC=True,plot_filter = True,\n",
    "                      plot_raw_correlators = True)"
   ]
  },
  {
   "cell_type": "code",
   "execution_count": null,
   "metadata": {
    "collapsed": false,
    "scrolled": false
   },
   "outputs": [],
   "source": [
    "from analysis.lib.single_click_ent import SCE_spin_spin_correlators as spc; reload(spc)\n",
    "spc.analyze_spspcorrs(contains = ['143230','143227'],\n",
    "                      analysis_computer = analysis_computer, do_plot = True, save_corrs = True,save_figs=True,\n",
    "                      do_sine_fit = False,plot_raw_correlators =True,\n",
    "                      plot_filter =True,\n",
    "                      do_ROC = True,\n",
    "                     do_print_fit_result = False)\n"
   ]
  },
  {
   "cell_type": "code",
   "execution_count": null,
   "metadata": {
    "collapsed": false
   },
   "outputs": [],
   "source": [
    "from analysis.lib.single_click_ent import SCE_spin_spin_correlators as spc; reload(spc)\n",
    "spc.analyze_spspcorrs(contains = ['164259','164255'],\n",
    "                      analysis_computer = analysis_computer, do_plot = True, save_corrs = True,save_figs=True,\n",
    "                      do_sine_fit = False,plot_raw_correlators =True,\n",
    "                      plot_filter =True,\n",
    "                      do_ROC = True,\n",
    "                     do_print_fit_result = False)"
   ]
  },
  {
   "cell_type": "code",
   "execution_count": null,
   "metadata": {
    "collapsed": false,
    "scrolled": false
   },
   "outputs": [],
   "source": [
    "from analysis.lib.single_click_ent import SCE_spin_spin_correlators as spc; reload(spc)\n",
    "spc.analyze_spspcorrs(contains = 'XsweepXY',analysis_computer = analysis_computer, \n",
    "                      do_plot = True, save_corrs = True,save_figs=False,do_sine_fit =True,combine_data_for_fit = True,\n",
    "                      do_ROC=True,plot_filter = False,\n",
    "                      plot_raw_correlators = False)"
   ]
  },
  {
   "cell_type": "code",
   "execution_count": null,
   "metadata": {
    "collapsed": false,
    "scrolled": false
   },
   "outputs": [],
   "source": [
    "reload(spc)\n",
    "spc.sweep_analysis_parameter('EntangleXsweepY',\n",
    "                             'st_start', [2950e3],\n",
    "                             parameter_kind = 'SPCorr',min_or_max = 'max',\n",
    "                            analysis_computer = analysis_computer)\n"
   ]
  },
  {
   "cell_type": "code",
   "execution_count": null,
   "metadata": {
    "collapsed": false
   },
   "outputs": [],
   "source": [
    "reload(spc)\n",
    "spc.sweep_analysis_parameter('SweepTheta',\n",
    "                             'st_len',  np.linspace(5e3,20e3,4),\n",
    "                             parameter_kind = 'SPCorr',min_or_max = 'max',\n",
    "                            analysis_computer = analysis_computer)"
   ]
  },
  {
   "cell_type": "code",
   "execution_count": null,
   "metadata": {
    "collapsed": false
   },
   "outputs": [],
   "source": [
    "reload(spc)\n",
    "spc.sweep_analysis_parameter('SweepTheta',\n",
    "                             'repetition_number',  np.transpose([np.linspace(0,1500,4),np.linspace(500,2000,4)]),\n",
    "                             parameter_kind = 'fltr_dict_lt4',min_or_max = 'both',\n",
    "                            analysis_computer = analysis_computer)"
   ]
  }
 ],
 "metadata": {
  "kernelspec": {
   "display_name": "Python 2",
   "language": "python",
   "name": "python2"
  },
  "language_info": {
   "codemirror_mode": {
    "name": "ipython",
    "version": 2
   },
   "file_extension": ".py",
   "mimetype": "text/x-python",
   "name": "python",
   "nbconvert_exporter": "python",
   "pygments_lexer": "ipython2",
   "version": "2.7.3"
  }
 },
 "nbformat": 4,
 "nbformat_minor": 1
}
