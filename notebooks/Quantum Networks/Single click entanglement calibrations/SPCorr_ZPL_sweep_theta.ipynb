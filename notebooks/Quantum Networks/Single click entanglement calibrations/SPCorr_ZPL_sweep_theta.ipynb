{
 "cells": [
  {
   "cell_type": "code",
   "execution_count": null,
   "metadata": {
    "collapsed": false
   },
   "outputs": [],
   "source": [
    "execfile(r'D:\\measuring\\analysis\\scripts\\setup_analysis.py')\n",
    "from analysis.lib.purification import purify_pq as ppq; reload(ppq)\n",
    "%matplotlib inline"
   ]
  },
  {
   "cell_type": "code",
   "execution_count": null,
   "metadata": {
    "collapsed": false,
    "scrolled": false
   },
   "outputs": [],
   "source": [
    "from analysis.lib.single_click_ent import SpCorr_ZPL_theta_sweep as spc; reload(spc)\n",
    "\n",
    "analysis_computer = 'lt3_analysis'\n",
    "is_lt3 = False\n",
    "ssro_calib_contains = 'SSROCalib'\n",
    "ftag = ('LT3_' if is_lt3 else 'LT4_') + 'no_Pi'\n",
    "\n",
    "spc.analyze_spcorrs(ftag,plot_filter = True,do_plot= True,is_remote_lt3_measurement = is_lt3, analysis_computer = analysis_computer, ssro_calib_contains = ssro_calib_contains)\n",
    "# ftag = ('LT3_' if is_lt3 else 'LT4_') + 'no_Pi'\n",
    "# spc.analyze_spcorrs(ftag,plot_filter = False,do_plot= True,is_remote_lt3_measurement = is_lt3, analysis_computer = analysis_computer, ssro_calib_contains = ssro_calib_contains)"
   ]
  },
  {
   "cell_type": "code",
   "execution_count": null,
   "metadata": {
    "collapsed": false,
    "scrolled": false
   },
   "outputs": [],
   "source": [
    "reload(spc)\n",
    "spc.sweep_analysis_parameters(ftag,'st_start',[1865e3],\n",
    "                              plot_tail = True,\n",
    "                              is_remote_lt3_measurement = is_lt3, \n",
    "                              analysis_computer = analysis_computer, \n",
    "                              ssro_calib_contains = ssro_calib_contains)\n"
   ]
  },
  {
   "cell_type": "code",
   "execution_count": null,
   "metadata": {
    "collapsed": false
   },
   "outputs": [],
   "source": [
    "reload(spc)\n",
    "spc.sweep_analysis_parameters(ftag,'st_len',np.linspace(10e3,120e3,10),plot_tail = True,\n",
    "                              is_remote_lt3_measurement = is_lt3, \n",
    "                              analysis_computer = analysis_computer, \n",
    "                              ssro_calib_contains = ssro_calib_contains)"
   ]
  },
  {
   "cell_type": "code",
   "execution_count": null,
   "metadata": {
    "collapsed": false
   },
   "outputs": [],
   "source": [
    "### calculate some theta vlaues\n",
    "\n",
    "A = 0.510846\n",
    "f = 0.576345\n",
    "x0 = -0.064609\n",
    "def get_theta(x):\n",
    "    \n",
    "    population = (1-A)+ A*np.cos(2*np.pi*f*(x-x0))\n",
    "    sintheta = np.sqrt(population)\n",
    "    return np.arcsin(sintheta)/np.pi\n",
    "\n",
    "print get_theta(0.57)\n",
    "print get_theta(0.2)"
   ]
  },
  {
   "cell_type": "code",
   "execution_count": null,
   "metadata": {
    "collapsed": true
   },
   "outputs": [],
   "source": []
  },
  {
   "cell_type": "code",
   "execution_count": null,
   "metadata": {
    "collapsed": true
   },
   "outputs": [],
   "source": []
  }
 ],
 "metadata": {
  "kernelspec": {
   "display_name": "Python 2",
   "language": "python",
   "name": "python2"
  },
  "language_info": {
   "codemirror_mode": {
    "name": "ipython",
    "version": 2
   },
   "file_extension": ".py",
   "mimetype": "text/x-python",
   "name": "python",
   "nbconvert_exporter": "python",
   "pygments_lexer": "ipython2",
   "version": "2.7.3"
  }
 },
 "nbformat": 4,
 "nbformat_minor": 1
}
