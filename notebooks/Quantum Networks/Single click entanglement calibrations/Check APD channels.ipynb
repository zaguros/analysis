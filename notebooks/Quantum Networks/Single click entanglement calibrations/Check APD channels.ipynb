{
 "cells": [
  {
   "cell_type": "code",
   "execution_count": null,
   "metadata": {
    "collapsed": false
   },
   "outputs": [],
   "source": [
    "execfile(r'D:\\measuring\\analysis\\scripts\\setup_analysis.py')\n",
    "from analysis.lib.purification import purify_pq as ppq; reload(ppq)\n",
    "\n",
    "%matplotlib inline\n",
    "## initialize analysis and include all tools from purification.\n",
    "\n",
    "from analysis.lib.single_click_ent import SCE_spin_spin_correlators as spc; reload(spc)\n",
    "\n",
    "fp = tb.latest_data('132811')\n",
    "print fp\n",
    "lt4_pqf = pq_tools.pqf_from_fp(tb.get_msmt_fp(fp))\n",
    "\n",
    "def xcorr(a,v):\n",
    "            \n",
    "    xaxis = np.arange(len(a)) - len(a)/2\n",
    "    return xaxis,np.correlate(np.array(a)-np.mean(a),np.array(v)-np.mean(v),'same')\n",
    "\n",
    "start = 2700e3\n",
    "length = 200e3\n",
    "\n",
    "(lt4_h0, b0), (lt4_h1, b1) = pq_tools.get_photon_hist(lt4_pqf,start = start, length = length, hist_binsize = 500)\n",
    "\n",
    "print \"APD Channel 0/1\"\n",
    "fig, (ax0) = plt.subplots(figsize=(12,4))\n",
    "plt.plot(b0[:-1],lt4_h0)\n",
    "plt.plot(b0[:-1],lt4_h1)\n",
    "plt.show()\n",
    "plt.close('all')\n",
    "\n",
    "xaxis,xcorr00=xcorr(lt4_h0,lt4_h1)\n",
    "xaxis = (b0[1]-b0[0])*xaxis\n",
    "fig, (ax0) = plt.subplots(figsize=(12,4))\n",
    "plt.plot(xaxis,xcorr00)\n",
    "plt.show()\n",
    "plt.close('all')\n",
    "i = np.argmax(xcorr00)\n",
    "print 'Channel 1 delay is ', xaxis[i], i"
   ]
  },
  {
   "cell_type": "code",
   "execution_count": null,
   "metadata": {
    "collapsed": true
   },
   "outputs": [],
   "source": []
  }
 ],
 "metadata": {
  "kernelspec": {
   "display_name": "Python 2",
   "language": "python",
   "name": "python2"
  },
  "language_info": {
   "codemirror_mode": {
    "name": "ipython",
    "version": 2
   },
   "file_extension": ".py",
   "mimetype": "text/x-python",
   "name": "python",
   "nbconvert_exporter": "python",
   "pygments_lexer": "ipython2",
   "version": "2.7.3"
  }
 },
 "nbformat": 4,
 "nbformat_minor": 0
}
