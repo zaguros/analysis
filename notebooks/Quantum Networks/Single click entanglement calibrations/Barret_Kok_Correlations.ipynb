{
 "cells": [
  {
   "cell_type": "markdown",
   "metadata": {},
   "source": [
    "# Load the data"
   ]
  },
  {
   "cell_type": "code",
   "execution_count": null,
   "metadata": {
    "collapsed": false
   },
   "outputs": [],
   "source": [
    "## setup analysis\n",
    "execfile(r'D:\\measuring\\analysis\\scripts\\setup_analysis.py')\n",
    "from analysis.lib.purification import purify_pq as ppq; reload(ppq)\n",
    "from analysis.lib.single_click_ent import sce_BK as pbk; reload(pbk)\n",
    "from analysis.lib.single_click_ent import Analysis_params_BK as BK_params;reload(BK_params)\n",
    "\n",
    "%matplotlib inline\n",
    "\n",
    "folder_lt4 = r'D:\\measuring\\data'\n",
    "folder_lt3 = r'Z:\\data'\n",
    "\n",
    "### ssro calibrations\n",
    "day = '20170523_' # for ssro calibration\n",
    "\n",
    "ssro_calib_lt4 = day+'172325'\n",
    "ssro_calib_lt3 = day+'082327'\n",
    "\n",
    "BK_analysis = pbk.BK_analysis('XX',folder_lt3,folder_lt4,ssro_calib_lt3,ssro_calib_lt4)\n",
    "# a = ppq.purify_pq(folder, hdf5_mode='r')#, pq_folder='bs_remote')\n",
    "# b = ppq.purify_pq(lt3_folder, hdf5_mode='r')#, pq_folder='bs_remote')"
   ]
  },
  {
   "cell_type": "code",
   "execution_count": null,
   "metadata": {
    "collapsed": false
   },
   "outputs": [],
   "source": [
    "### list of good timestamps and RO calibration\n",
    "all_lt3,all_lt4 = [],[]\n",
    "\n",
    "### get all valid time stamps. remember that data has to be stored locally.\n",
    "msmt_days  = ['20170524']\n",
    "newest_timestamps = ['140000']\n",
    "oldest_timestamps = ['121640']\n",
    "\n",
    "for d, newest_timestamp, oldest_timestamp in zip(msmt_days,newest_timestamps,oldest_timestamps):\n",
    "\n",
    "    tstamp_lt3,tstamp_lt4 = BK_analysis.tstamps_for_both_setups(d,newest_tstamp = newest_timestamp, oldest_tstamp = oldest_timestamp) ### newest timestamp allows for only taking parts of a day.\n",
    "    all_lt3.extend(tstamp_lt3)\n",
    "    all_lt4.extend(tstamp_lt4)\n"
   ]
  },
  {
   "cell_type": "code",
   "execution_count": null,
   "metadata": {
    "collapsed": false
   },
   "outputs": [],
   "source": [
    "BK_analysis.load_raw_data(all_lt3,all_lt4)\n",
    "# BK_analysis.filter_CR_after(threshold =None)"
   ]
  },
  {
   "cell_type": "code",
   "execution_count": null,
   "metadata": {
    "collapsed": false
   },
   "outputs": [],
   "source": [
    "# BK_analysis.check_tail_w1_w2()"
   ]
  },
  {
   "cell_type": "code",
   "execution_count": null,
   "metadata": {
    "collapsed": false
   },
   "outputs": [],
   "source": [
    "### autocorrelation of photon clicks --> do we have huge waiting times in the experiment\n",
    "# reload(pq_plots)\n",
    "# a_lt4 = ppq.purifyPQAnalysis(tb.latest_data(tstamp_lt4[0],folder = folder_lt4))\n",
    "# print a_lt4\n",
    "# pq_plots.plot_autocorrelation_histogram(a_lt4.pqf,start = 0,length = 200e3,binsize=0.1e3)"
   ]
  },
  {
   "cell_type": "markdown",
   "metadata": {},
   "source": [
    "### Filtering and correlations"
   ]
  },
  {
   "cell_type": "code",
   "execution_count": null,
   "metadata": {
    "collapsed": false,
    "scrolled": false
   },
   "outputs": [],
   "source": [
    "### this window can be used to analyze one of the full timetrace in order to get a feeling for the tail and the windows.\n",
    "### later on all timestamps should be combined to get a clear pikkcture\n",
    "reload(BK_params)\n",
    "a_lt4 = ppq.purifyPQAnalysis(tb.latest_data(all_lt4[0],folder = folder_lt4))\n",
    "\n",
    "vert0 = BK_params.BK_params['st_start']/1000. ### start of the first window\n",
    "vert1 = (BK_params.BK_params['st_start']+BK_params.BK_params['ch1_offset'])/1000. ### start of the first window\n",
    "\n",
    "# BK_analysis.plot_total_histogram(1,st_start-20e3,200e3,1e3,log_plot=True)\n",
    "pq_plots.plot_marker_filter_comparison(a_lt4.pqf,log= True, mrkr_chan = 1,\n",
    "                                       start =BK_params.BK_params['st_start']-7e3,\n",
    "                                       length = BK_params.BK_params['st_len']+10e3+BK_params.BK_params['ch1_offset'],\n",
    "                                       hist_binsize = 1e2, save = False,\n",
    "                                       plot_threshold_ch0 =vert0,plot_threshold_ch1 =vert1) #start =7480\n",
    "\n",
    "vert0 = (BK_params.BK_params['st_start']+BK_params.BK_params['p_sep'])/1000. ### start of the first window\n",
    "vert1 = (BK_params.BK_params['st_start']+BK_params.BK_params['p_sep']+BK_params.BK_params['ch1_offset'])/1000. ### start of the first window\n",
    "\n",
    "# BK_analysis.plot_total_histogram(1,st_start-20e3,200e3,1e3,log_plot=True)\n",
    "pq_plots.plot_marker_filter_comparison(a_lt4.pqf,log= True, mrkr_chan = 1,\n",
    "                                       start =BK_params.BK_params['st_start']+BK_params.BK_params['p_sep']-7e3,\n",
    "                                       length = BK_params.BK_params['st_len']+10e3+BK_params.BK_params['ch1_offset'],\n",
    "                                       hist_binsize = 1e2, save = False,\n",
    "                                       plot_threshold_ch0 =vert0,plot_threshold_ch1 =vert1) #start =7480"
   ]
  },
  {
   "cell_type": "code",
   "execution_count": null,
   "metadata": {
    "collapsed": false
   },
   "outputs": [],
   "source": [
    "### return the length of events without temporal filter:\n",
    "reload(BK_params)\n",
    "\n",
    "no_of_events = 0\n",
    "for i in range(len(BK_analysis.lt3_dict['ssro_results'])):\n",
    "    no_of_events += len(BK_analysis.lt3_dict['ssro_results'][i])\n",
    "\n",
    "print 'number of unfiltered (temporal and CR) events', no_of_events\n",
    "\n",
    "\n",
    "\n",
    "### apply temporal filter (see above for filters)\n",
    "BK_analysis.filter_CR_after(threshold = 1,verbose = False)\n",
    "BK_analysis.apply_temporal_filters_to_prefiltered_data()\n"
   ]
  },
  {
   "cell_type": "code",
   "execution_count": null,
   "metadata": {
    "collapsed": false
   },
   "outputs": [],
   "source": [
    "### filter the PQ data: Return an array which is True at each position where an event was in a window\n",
    "BK_analysis.attach_state_filtered_syncs(verbose = False)"
   ]
  },
  {
   "cell_type": "code",
   "execution_count": null,
   "metadata": {
    "collapsed": false,
    "scrolled": false
   },
   "outputs": [],
   "source": [
    "### applies the time fitlered sync numbers to the adwin RO results of each setup\n",
    "BK_analysis.correlate_RO_results(verbose = True,apply_ROC = True)"
   ]
  },
  {
   "cell_type": "code",
   "execution_count": null,
   "metadata": {
    "collapsed": false
   },
   "outputs": [],
   "source": [
    "### correlations vs. window start?\n",
    "st_start = BK_params.BK_params['st_start']\n",
    "BK_analysis.sweep_filter_parameter_vs_correlations('st_start',st_start + np.linspace(-4e3,5e3,8))"
   ]
  },
  {
   "cell_type": "code",
   "execution_count": null,
   "metadata": {
    "collapsed": false
   },
   "outputs": [],
   "source": [
    "BK_analysis.sweep_filter_parameter_vs_correlations('st_len',np.linspace(2e3,40e3,10))"
   ]
  },
  {
   "cell_type": "code",
   "execution_count": null,
   "metadata": {
    "collapsed": false
   },
   "outputs": [],
   "source": [
    "BK_analysis.sweep_filter_parameter_vs_correlations('ch1_offset', BK_params.BK_params['ch1_offset'] + np.linspace(-5e3,5e3,25))"
   ]
  },
  {
   "cell_type": "code",
   "execution_count": null,
   "metadata": {
    "collapsed": false
   },
   "outputs": [],
   "source": [
    "BK_analysis.sweep_filter_parameter_vs_correlations('dt_max',np.linspace(2e3,30e3,15))"
   ]
  },
  {
   "cell_type": "code",
   "execution_count": null,
   "metadata": {
    "collapsed": false
   },
   "outputs": [],
   "source": [
    "BK_analysis.sweep_filter_parameter_vs_correlations('CR_after_threshold',np.linspace(1,50,7))"
   ]
  },
  {
   "cell_type": "code",
   "execution_count": null,
   "metadata": {
    "collapsed": true
   },
   "outputs": [],
   "source": []
  }
 ],
 "metadata": {
  "kernelspec": {
   "display_name": "Python 2",
   "language": "python",
   "name": "python2"
  },
  "language_info": {
   "codemirror_mode": {
    "name": "ipython",
    "version": 2
   },
   "file_extension": ".py",
   "mimetype": "text/x-python",
   "name": "python",
   "nbconvert_exporter": "python",
   "pygments_lexer": "ipython2",
   "version": "2.7.3"
  }
 },
 "nbformat": 4,
 "nbformat_minor": 0
}
