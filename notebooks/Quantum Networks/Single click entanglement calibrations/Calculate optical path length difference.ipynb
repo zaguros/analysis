{
 "cells": [
  {
   "cell_type": "code",
   "execution_count": null,
   "metadata": {
    "collapsed": false
   },
   "outputs": [],
   "source": [
    "execfile (\"D:/measuring/analysis/scripts/setup_analysis.py\")\n",
    "\n",
    "import os, sys \n",
    "from os import listdir \n",
    "from os.path import isfile, join \n",
    "import numpy as np \n",
    "import matplotlib.pyplot as plt \n",
    "import h5py\n",
    "from analysis.lib.tools import toolbox\n",
    "\n",
    "from analysis.lib.fitting import fit, common\n",
    "\n",
    "%matplotlib inline \n",
    "\n",
    "from analysis.lib.pq import pq_tools\n",
    "reload(pq_tools)"
   ]
  },
  {
   "cell_type": "code",
   "execution_count": null,
   "metadata": {
    "collapsed": false
   },
   "outputs": [],
   "source": [
    "tb.get_msmt_fp(tb.latest_data())"
   ]
  },
  {
   "cell_type": "code",
   "execution_count": null,
   "metadata": {
    "collapsed": false
   },
   "outputs": [],
   "source": [
    "# fps=tb.get_all_msmt_filepaths(folder = folder)\n",
    "# pqf = pq_tools.pqf_from_fp(fps[0], rights = 'r+')\n",
    "# print fps\n",
    "\n",
    "\n",
    "lt3_fp = r'Y:\\\\data\\\\20170420\\\\153117_PQ_single_click_ent_111no2_SIL2_test_pulses\\\\153117_PQ_single_click_ent_111no2_SIL2_test_pulses.hdf5'\n",
    "lt4_fp = r'X:\\\\data\\\\20170420\\\\152859_PQ_single_click_ent_111no2_SIL2_test_pulses\\\\152859_PQ_single_click_ent_111no2_SIL2_test_pulses.hdf5'\n",
    "\n",
    "lt3_pqf = pq_tools.pqf_from_fp(lt3_fp, rights = 'r+')\n",
    "lt4_pqf = pq_tools.pqf_from_fp(lt4_fp, rights = 'r+')\n",
    "\n",
    "print 'LT3'\n",
    "print lt3_fp\n",
    "\n",
    "print 'LT4'\n",
    "print lt4_fp\n"
   ]
  },
  {
   "cell_type": "markdown",
   "metadata": {},
   "source": [
    "## Check delay time"
   ]
  },
  {
   "cell_type": "code",
   "execution_count": null,
   "metadata": {
    "collapsed": false,
    "scrolled": false
   },
   "outputs": [],
   "source": [
    "def xcorr(a,v):\n",
    "            \n",
    "    xaxis = np.arange(len(a)) - len(a)/2\n",
    "    return xaxis,np.correlate(np.array(a)-np.mean(a),np.array(v)-np.mean(v),'same')\n",
    "\n",
    "start = 1724e3\n",
    "length = 70e3\n",
    "\n",
    "(lt3_h0, b0), (lt3_h1, b1) = pq_tools.get_photon_hist(lt3_pqf,start = start, length = length, hist_binsize = 20)\n",
    "(lt4_h0, b0), (lt4_h1, b1) = pq_tools.get_photon_hist(lt4_pqf,start = start, length = length, hist_binsize = 20)\n",
    "\n",
    "print \"APD Channel 0\"\n",
    "fig, (ax0) = plt.subplots(figsize=(12,4))\n",
    "plt.plot(b0[:-1],lt3_h0)\n",
    "plt.plot(b0[:-1],lt4_h0)\n",
    "plt.show()\n",
    "plt.close('all')\n",
    "\n",
    "print \"APD Channel 1\"\n",
    "fig, (ax0) = plt.subplots(figsize=(12,4))\n",
    "plt.plot(b1[:-1],lt3_h1)\n",
    "plt.plot(b1[:-1],lt4_h1)\n",
    "plt.show()\n",
    "plt.close('all')\n",
    "\n",
    "xaxis,xcorr00=xcorr(lt3_h0,lt4_h0)\n",
    "xaxis = (b0[1]-b0[0])*xaxis\n",
    "fig, (ax0) = plt.subplots(figsize=(12,4))\n",
    "plt.plot(xaxis,xcorr00)\n",
    "plt.show()\n",
    "plt.close('all')\n",
    "i = np.argmax(xcorr00)\n",
    "print 'Channel 0 delay is ', xaxis[i], i\n",
    "\n",
    "\n",
    "xaxis,xcorr11=xcorr(lt3_h1,lt4_h1)\n",
    "xaxis = (b1[1]-b1[0])*xaxis\n",
    "fig, (ax0) = plt.subplots(figsize=(12,4))\n",
    "plt.plot(xaxis,xcorr11)\n",
    "plt.show()\n",
    "plt.close('all')\n",
    "i = np.argmax(xcorr11)\n",
    "print 'Channel 0 delay is ', xaxis[i], i"
   ]
  },
  {
   "cell_type": "markdown",
   "metadata": {},
   "source": [
    "# Apply some interpolation and smoothing to better estimate the top of the cross correlation."
   ]
  },
  {
   "cell_type": "code",
   "execution_count": null,
   "metadata": {
    "collapsed": false
   },
   "outputs": [],
   "source": [
    "from scipy.interpolate import interp1d\n",
    "from scipy.signal import savgol_filter\n",
    "\n",
    "# interpolate + smooth\n",
    "xnew = np.arange(-2000, 2000, 1)\n",
    "itp = interp1d(xaxis,xcorr00, kind='linear')\n",
    "window_size, poly_order = 701, 3\n",
    "ynew = savgol_filter(itp(xnew), window_size, poly_order)\n",
    "\n",
    "plt.plot(xnew,ynew)\n",
    "plt.show()\n",
    "plt.close('all')\n",
    "i = np.argmax(ynew)\n",
    "print 'Channel 0 delay is ', xnew[i]\n",
    "\n",
    "itp = interp1d(xaxis,xcorr11, kind='linear')\n",
    "window_size, poly_order = 701, 3\n",
    "ynew = savgol_filter(itp(xnew), window_size, poly_order)\n",
    "\n",
    "plt.plot(xnew,ynew)\n",
    "plt.show()\n",
    "plt.close('all')\n",
    "i = np.argmax(ynew)\n",
    "print 'Channel 1 delay is ', xnew[i]"
   ]
  },
  {
   "cell_type": "code",
   "execution_count": null,
   "metadata": {
    "collapsed": true
   },
   "outputs": [],
   "source": []
  }
 ],
 "metadata": {
  "kernelspec": {
   "display_name": "Python 2",
   "language": "python",
   "name": "python2"
  },
  "language_info": {
   "codemirror_mode": {
    "name": "ipython",
    "version": 2
   },
   "file_extension": ".py",
   "mimetype": "text/x-python",
   "name": "python",
   "nbconvert_exporter": "python",
   "pygments_lexer": "ipython2",
   "version": "2.7.3"
  }
 },
 "nbformat": 4,
 "nbformat_minor": 0
}
