{
 "cells": [
  {
   "cell_type": "code",
   "execution_count": null,
   "metadata": {
    "collapsed": false
   },
   "outputs": [],
   "source": [
    "execfile(r'D:\\measuring\\analysis\\scripts\\setup_analysis.py')\n",
    "%matplotlib inline\n",
    "\n",
    "cum_reps = 0\n",
    "syncs_per_sweep = 1\n",
    "sweep_length = 0\n",
    "folder_normalization = tb.latest_data('164001')\n",
    "window_start = 5085\n",
    "window_length = 40\n",
    "\n",
    "t_list = ['164057','164311','164404']\n",
    "\n",
    "for t in t_list:\n",
    "\n",
    "    name = 'adwindata'\n",
    "    folder_msmt=tb.latest_data(t)\n",
    "    a = pqsequence.TailAnalysis(folder_msmt, hdf5_mode='r', pq_device = '')\n",
    "    a.get_sweep_pts()\n",
    "    a.get_sweep_idxs(noof_syncs_per_sweep_pt=1)\n",
    "    a.get_readout_results(name)\n",
    "    a.get_tail_vs_sweep(0,window_start,window_length, pq_binsize_ns=1, hist_binsize_ns=1.,verbose=False)\n",
    "    cum_reps += a.reps\n",
    "    if t == t_list[0]:\n",
    "        cum_tail_cts_per_sweep_idx = a.tail_cts_per_sweep_idx/len(t_list)\n",
    "    else:\n",
    "        cum_tail_cts_per_sweep_idx += a.tail_cts_per_sweep_idx/len(t_list)\n",
    "\n",
    "x = a.sweep_pts ### correction factor for distance\n",
    "y = cum_tail_cts_per_sweep_idx\n",
    "y_err = np.sqrt(cum_tail_cts_per_sweep_idx)/np.sqrt((cum_reps*syncs_per_sweep/a.sweep_length))\n",
    "sweep_length = a.sweep_length\n",
    "\n",
    "save = True\n",
    "a.plot_tail_hists_vs_sweep(save=False,log_plot = True)\n",
    "\n",
    "\n",
    "\n",
    "### rescale the x-axis:\n",
    "# min distance between pump and probe is 44 ns for a window start of 5080 ns.\n",
    "x = x*(-1)\n",
    "x = x-np.amin(x)+0.044 + (window_start-5085)*1e-3\n",
    "\n",
    "### normalize to the reference msmt (we only detect counts from ms=0)\n",
    "b = pqsequence.TailAnalysis(folder_normalization, hdf5_mode='r', pq_device = '')\n",
    "b.get_sweep_pts()\n",
    "b.get_sweep_idxs(noof_syncs_per_sweep_pt=1)\n",
    "b.get_readout_results(name)\n",
    "b.get_tail_vs_sweep(0,window_start,window_length, pq_binsize_ns=1, hist_binsize_ns=1.,verbose=False)\n",
    "norm_y_err = np.sqrt(b.tail_cts_per_sweep_idx)/np.sqrt((b.reps*syncs_per_sweep/b.sweep_length))\n",
    "y_norm = np.average(b.tail_cts_per_sweep_idx)\n",
    "norm_y_err = np.sqrt(np.sum(norm_y_err**2))/len(norm_y_err)\n",
    "\n",
    "y_err = np.sqrt((y_norm*y_err)**2+(y*norm_y_err)**2)/y_norm**2\n",
    "y = y/y_norm\n",
    "\n",
    "fig = plt.figure()\n",
    "ax = plt.subplot(111)\n",
    "ax.errorbar(x,y,y_err,fmt='bo')\n",
    "p0,fitfunc,fitfunc_str = common.fit_exp_decay_shifted_with_offset(np.amax(y),-np.amax(y)/3.,0.3,0)\n",
    "fit_result = fit.fit1d(x,y,None,p0=p0,fitfunc=fitfunc,do_print=True,fixed=[2,3],ret=True)\n",
    "plot.plot_fit1d(fit_result,np.linspace(0.,np.amax(x),100),ax=ax,plot_data=False)#,info_xy = [0.69,0.07])\n",
    "ax.set_xlabel('Pump-probe delay (us)')\n",
    "ax.set_ylabel(r'$F(|0\\rangle)$')\n",
    "# ax.set_ylabel(r'p(photon)')\n",
    "ax.set_title(a.timestamp+'\\n'+'singlet pump_prob'+'\\n'+'window start %i and length %i (ns)' %(window_start,window_length))\n",
    "a.save_fig_incremental_filename(fig,'singlet_pump_prob')\n",
    "plt.show()\n"
   ]
  },
  {
   "cell_type": "code",
   "execution_count": null,
   "metadata": {
    "collapsed": false
   },
   "outputs": [],
   "source": [
    "np.array([0,1,2])**2"
   ]
  },
  {
   "cell_type": "code",
   "execution_count": null,
   "metadata": {
    "collapsed": false
   },
   "outputs": [],
   "source": [
    "## fit an exponential decay to our beloved histogram.\n",
    "#151757\n",
    "folder_msmt = tb.latest_data('122645')\n",
    "a = pqsequence.TailAnalysis(folder_msmt, hdf5_mode='r', pq_device = '')\n",
    "a.get_sweep_pts()\n",
    "a.get_sweep_idxs(noof_syncs_per_sweep_pt=1)\n",
    "a.get_readout_results('adwindata')\n",
    "a.get_tail_vs_sweep(0,window_start,window_length, pq_binsize_ns=1, hist_binsize_ns=1.,verbose=False)\n",
    "hist_start = 2775\n",
    "hist_length = 50\n",
    "\n",
    "is_ph = pq_tools.get_photons(a.pqf)[0]\n",
    "bins = np.arange(hist_start-.5,hist_start+hist_length,1)\n",
    "y,x=np.histogram(a.pqf['/PQ_sync_time-1'].value[np.where(is_ph)], bins=bins)\n",
    "# ax = plt.subplot(111)\n",
    "x=x[:-1]\n",
    "x = x-np.amin(x)\n",
    "fig = a.default_fig(figsize = (7,4))\n",
    "ax = a.default_ax(fig=fig)\n",
    "ax.set_xlabel('time (ns)')\n",
    "ax.set_ylabel('detection events')\n",
    "ax.errorbar(x,y,np.sqrt(y),fmt='.')\n",
    "p0,fitfunc,fitfunc_str = common.fit_exp_decay_with_offset(np.amax(y),np.amax(y)/3.,8)\n",
    "fit_result = fit.fit1d(x,y,None,p0=p0,fitfunc=fitfunc,do_print=True,fixed=[],ret=True)\n",
    "plot.plot_fit1d(fit_result,np.linspace(0.,np.amax(x),100),ax=ax,plot_data=False,info_xy = [np.amax(x)/2.,np.amax(y)/2.])\n",
    "a.save_fig_incremental_filename(fig,'exponential_decay')"
   ]
  },
  {
   "cell_type": "code",
   "execution_count": null,
   "metadata": {
    "collapsed": true
   },
   "outputs": [],
   "source": [
    "fig = a.default_fig"
   ]
  },
  {
   "cell_type": "code",
   "execution_count": null,
   "metadata": {
    "collapsed": true
   },
   "outputs": [],
   "source": []
  }
 ],
 "metadata": {
  "kernelspec": {
   "display_name": "Python 2",
   "language": "python",
   "name": "python2"
  },
  "language_info": {
   "codemirror_mode": {
    "name": "ipython",
    "version": 2
   },
   "file_extension": ".py",
   "mimetype": "text/x-python",
   "name": "python",
   "nbconvert_exporter": "python",
   "pygments_lexer": "ipython2",
   "version": "2.7.11"
  }
 },
 "nbformat": 4,
 "nbformat_minor": 0
}
