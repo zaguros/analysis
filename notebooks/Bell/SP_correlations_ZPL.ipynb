{
 "metadata": {
  "name": "",
  "signature": ""
 },
 "nbformat": 3,
 "nbformat_minor": 0,
 "worksheets": [
  {
   "cells": [
    {
     "cell_type": "code",
     "collapsed": false,
     "input": [
      "import sys\n",
      "import os\n",
      "import datetime\n",
      "\n",
      "base_folder = r'D:\\measuring'\n",
      "\n",
      "if not base_folder in sys.path:\n",
      "    sys.path.append(base_folder)\n",
      "execfile(os.path.join(base_folder,r'analysis\\scripts\\setup_analysis.py'))\n",
      "execfile(os.path.join(base_folder,r'analysis\\scripts\\bell\\setup_bell_analysis.py'))\n",
      "%matplotlib inline\n"
     ],
     "language": "python",
     "metadata": {},
     "outputs": []
    },
    {
     "cell_type": "code",
     "collapsed": false,
     "input": [
      "measurement_pattern = 'SPCORR_ZPL'\n",
      "bs_folder = r'Z:\\data\\20150626\\162644_Bell_BS_SPCORR_ZPL_SPCORR_lt3'#tb.latest_data(measurement_pattern, folder = r'X:\\data')\n",
      "lt3='lt3' in bs_folder\n",
      "lt3_folder = r'Y:\\data' \n",
      "lt4_folder = r'X:\\data'\n",
      "output_folder = r'D:\\measuring\\other_data\\2015-04-14_SPCorrs'#tb.latest_data(measurement_pattern, folder = lt_folder)\n",
      "analysis_fp = os.path.join(output_folder,tb.get_timestamp_from_now()+'_'+'total_events.hdf5')\n"
     ],
     "language": "python",
     "metadata": {},
     "outputs": []
    },
    {
     "cell_type": "code",
     "collapsed": false,
     "input": [
      "folders_fp = r'D:\\measuring\\data\\2015-06-10_XX\\201506_SPCORR_XX.txt'\n",
      "#folders_fp =r'D:\\measuring\\data\\2015-06-28-lhfbt5\\201507_SPCORR_lhfbt5.txt'\n",
      "folders_d=np.loadtxt(folders_fp, dtype='S', delimiter='\\t')\n",
      "lt3 = False\n",
      "folders = folders_d[1:,1 if lt3 else 2]\n",
      "fps_bs = [tb.get_msmt_fp(fp) for fp in folders]\n",
      "settings = imp.load_source('bell_analysis_settings',os.path.join(os.path.split(folders_fp)[0],'bell_analysis_settings.py'))\n",
      "output_folder = os.path.split(folders_fp)[0]#tb.latest_data(measurement_pattern, folder = lt_folder)\n",
      "analysis_fp = os.path.join(output_folder,tb.get_timestamp_from_now()+'_'+'spcorr_events_{}.hdf5'.format('lt3' if lt3 else 'lt4'))"
     ],
     "language": "python",
     "metadata": {},
     "outputs": []
    },
    {
     "cell_type": "code",
     "collapsed": true,
     "input": [
      "#fps_bs = tb.get_all_msmt_filepaths(bs_folder, pattern=measurement_pattern)\n",
      "bell_data.process_bell_data(fps_bs, lt3_folder, lt4_folder, \n",
      "                            settings.bs_process_params, settings.lt_process_params,\n",
      "                            analysis_fp, update_previous_analysis_fp = None, \n",
      "                            ignore_unequal_markers   = False, \n",
      "                            process_lt3 = lt3, process_lt4 = not(lt3), \n",
      "                            VERBOSE=True)\n",
      "#here we get a list of files that actually contributed to the data ie had at leas one entanglement event\n",
      "bs_fps, lt3_fps, lt4_fps = bell_data.get_unique_bell_fps_from_analysis_file(analysis_fp)\n",
      "print ''\n"
     ],
     "language": "python",
     "metadata": {},
     "outputs": []
    },
    {
     "cell_type": "code",
     "collapsed": true,
     "input": [
      "pqf = h5py.File(bs_fps[0],'r')\n",
      "pq_plots.plot_marker_filter_comparison(pqf,\n",
      "                          mrkr_chan = 1,\n",
      "                          start = 5438e3,#settings.bs_process_params['st_start_ch0'],  \n",
      "                          length= 10e3,#settings.bs_process_params['st_len']+settings.bs_process_params['pulse_sep'], \n",
      "                          hist_binsize = .5e3, save = False, log=True) #start =7480\n",
      "pqf.close()\n"
     ],
     "language": "python",
     "metadata": {},
     "outputs": []
    },
    {
     "cell_type": "code",
     "collapsed": false,
     "input": [
      "#here we get the tail & pulse counts per run\n",
      "bell_data.process_bs_hist_stats(bs_fps, settings.analysis_params ,analysis_fp, update_previous_analysis_fp = None)\n",
      "print ''\n"
     ],
     "language": "python",
     "metadata": {},
     "outputs": []
    },
    {
     "cell_type": "code",
     "collapsed": false,
     "input": [
      "analysis_fp = bell_data.get_latest_analysis_fp(output_folder,'spcorr_events_lt3' if lt3 else 'spcorr_events_lt4')\n",
      "reload(btools)"
     ],
     "language": "python",
     "metadata": {},
     "outputs": []
    },
    {
     "cell_type": "code",
     "collapsed": false,
     "input": [
      "\n",
      "f = h5py.File(analysis_fp,'r')\n",
      "bs_hist_stats = f['analysis']['bs_hist_stats'].value\n",
      "f.close()\n",
      "tail  = np.sum(bs_hist_stats[:,be._cl_bs_tail].astype(np.float))/np.sum(bs_hist_stats[:,be._cl_bs_last_sync])*1e4\n",
      "u_tail = np.sqrt(np.sum(bs_hist_stats[:,be._cl_bs_tail].astype(np.float)))/np.sum(bs_hist_stats[:,be._cl_bs_last_sync])*1e4\n",
      "print 'Tail: {:.2f} +- {:.3f}'.format(tail,u_tail) \n"
     ],
     "language": "python",
     "metadata": {},
     "outputs": []
    },
    {
     "cell_type": "code",
     "collapsed": false,
     "input": [
      "#analyse data correlations\n",
      "\n",
      "f = h5py.File(analysis_fp,'r')\n",
      "db = f['analysis']['total_ent_events'].value\n",
      "d3 = f['analysis']['total_lt3_ssro'].value\n",
      "d4 = f['analysis']['total_lt4_ssro'].value\n",
      "dlt=d3 if lt3 else d4\n",
      "db_fps=f['analysis']['total_ent_events_fps'].value\n",
      "f.close()\n",
      "corr_mats = btools.get_sp_corrs(db,dlt,db_fps, settings.analysis_params, lt3=lt3)\n"
     ],
     "language": "python",
     "metadata": {},
     "outputs": []
    },
    {
     "cell_type": "code",
     "collapsed": false,
     "input": [
      "# P_ms1 generally stands for the probability to measure ms=1\n",
      "# P_photon is the probability for getting a photon\n",
      "win1_P_photon, u_win1_P_photon = corr_mats['w1'][0:2]\n",
      "noof_w1 = corr_mats['w1'][4]\n",
      "win2_P_photon, u_win2_P_photon = corr_mats['w2'][0:2]\n",
      "noof_w2 = corr_mats['w2'][4]\n",
      "\n",
      "fig, (ax, ax_corr) = plt.subplots(1,2, figsize=(11,4),\n",
      "                              sharex=True, sharey=True)\n",
      "\n",
      "### uncorrected for e-SSRO\n",
      "ax.bar(range(2), [win1_P_photon, win2_P_photon], color=['r', 'r'],\n",
      "       align='center', yerr=[u_win1_P_photon, u_win2_P_photon], ecolor='k',\n",
      "       width=0.8)\n",
      "\n",
      "ax.set_xlim(-0.5,1.5)\n",
      "ax.set_ylim(-0.05, 1.15)\n",
      "\n",
      "ax.set_ylabel('P ($m_s =\\, 0$)')\n",
      "\n",
      "ax.set_xticks([0,1])\n",
      "ax.set_xticklabels(['Photon in 1st window \\n ({})'.format(noof_w1),\n",
      "                    'Photon in 2nd window \\n ({})'.format(noof_w2)])\n",
      "ax.axvline(0.5, c='k', ls='--')\n",
      "ax.axhline(0, c='k', ls=':')\n",
      "ax.axhline(1, c='k', ls=':')\n",
      "\n",
      "ax.text(0, win1_P_photon + 0.05, \"{:.1f} $\\pm$ {:.1f} %\".format(win1_P_photon*100, u_win1_P_photon*100),\n",
      "        va='bottom', ha='center',\n",
      "        bbox = {'facecolor' : 'white', 'alpha' : 0.5})\n",
      "ax.text(1, win2_P_photon + 0.05, \"{:.1f} $\\pm$ {:.1f} %\".format(win2_P_photon*100, u_win2_P_photon*100),\n",
      "        va='bottom', ha='center',\n",
      "        bbox = {'facecolor' : 'white', 'alpha' : 0.5})\n",
      "ax.set_title('Uncorrected readout\\nTail: {:.2f} +- {:.3f}'.format(tail,u_tail))\n",
      "\n",
      "### corrected for e-SSRO\n",
      "win1_P0, u_win1_P0 = corr_mats['w1'][2:4]\n",
      "win2_P0, u_win2_P0 = corr_mats['w2'][2:4]\n",
      "\n",
      "ax_corr.bar(range(2), [win1_P0, win2_P0], color=['b','b'],\n",
      "       align='center', yerr=[u_win1_P0, u_win2_P0], ecolor='k',\n",
      "       width=0.8)\n",
      "ax_corr.axvline(0.5, c='k', ls='--')\n",
      "ax_corr.axhline(0, c='k', ls=':')\n",
      "ax_corr.axhline(1, c='k', ls=':')\n",
      "\n",
      "ax_corr.text(0, win1_P0 + 0.05, \"{:.1f} $\\pm$ {:.1f} %\".format(win1_P0*100, u_win1_P0*100),\n",
      "        va='bottom', ha='center',\n",
      "        bbox = {'facecolor' : 'white', 'alpha' : 0.5})\n",
      "ax_corr.text(1, win2_P0 + 0.05, \"{:.1f} $\\pm$ {:.1f} %\".format(win2_P0*100, u_win2_P0*100),\n",
      "        va='bottom', ha='center',\n",
      "        bbox = {'facecolor' : 'white', 'alpha' : 0.5})\n",
      "ax_corr.set_title('Corrected readout \\n '+os.path.split(analysis_fp)[1])\n",
      "fig.savefig(os.path.join(output_folder, 'Spin-photon_correlations_{}.png'.format('lt3'if lt3 else 'lt4')))\n",
      "\n"
     ],
     "language": "python",
     "metadata": {},
     "outputs": []
    },
    {
     "cell_type": "code",
     "collapsed": false,
     "input": [],
     "language": "python",
     "metadata": {},
     "outputs": []
    },
    {
     "cell_type": "code",
     "collapsed": false,
     "input": [],
     "language": "python",
     "metadata": {},
     "outputs": []
    },
    {
     "cell_type": "code",
     "collapsed": false,
     "input": [],
     "language": "python",
     "metadata": {},
     "outputs": []
    },
    {
     "cell_type": "code",
     "collapsed": false,
     "input": [],
     "language": "python",
     "metadata": {},
     "outputs": []
    }
   ],
   "metadata": {}
  }
 ]
}
