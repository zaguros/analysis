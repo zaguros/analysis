{
 "metadata": {
  "name": "",
  "signature": ""
 },
 "nbformat": 3,
 "nbformat_minor": 0,
 "worksheets": [
  {
   "cells": [
    {
     "cell_type": "code",
     "collapsed": false,
     "input": [
      "execfile(r'D:\\measuring\\analysis\\scripts\\setup_analysis.py')\n",
      "#folder=tb.latest_data('lt3_SPCORR')\n",
      "#print folder\n",
      "folder=r'X:\\data\\20150411\\042134_Bell_lt4_full_Bellthe_third_ever_day3_run25'#r'Y:\\data\\20150402\\001345_Bell_lt3_full_Bellthe_second_ever_day13_run11'#r'Y:\\data\\20150411\\000819_Bell_lt3_full_Bellthe_third_ever_day3_run21'#\n",
      "name = 'ssro'\n",
      "a = pqsequence.TailAnalysis(folder, hdf5_mode='r')#, pq_folder='bs_remote')\n",
      "a.agrp=a.adwingrp('ssro')"
     ],
     "language": "python",
     "metadata": {},
     "outputs": []
    },
    {
     "cell_type": "code",
     "collapsed": false,
     "input": [
      "#pq_plots.plot_photon_hist(a.pqf,start = 10000,  length = 3010, hist_binsize = 1, save = False, log=True)"
     ],
     "language": "python",
     "metadata": {},
     "outputs": []
    },
    {
     "cell_type": "code",
     "collapsed": false,
     "input": [
      "ro_channel    = 0\n",
      "ro_start      = 10450\n",
      "ro_length     = 3700\n",
      "\n",
      "st_start = 7480 if 'lt3' in a.folder else 5350\n",
      "st_len       = 200 #50 ns\n",
      "st_len_w2    = 200\n",
      "p_sep        = 350 #600 ns\n",
      "\n",
      "filter_rnd      = True\n",
      "rnd_start     = 10000\n",
      "rnd_length    = 1000\n",
      "rnd_channel = 2"
     ],
     "language": "python",
     "metadata": {},
     "outputs": []
    },
    {
     "cell_type": "code",
     "collapsed": false,
     "input": [
      "sp_lt = a.pqf['/PQ_special-1'].value      \n",
      "ch_lt = a.pqf['/PQ_channel-1'].value\n",
      "sn_lt = a.pqf['/PQ_sync_number-1'].value\n",
      "st_lt = a.pqf['/PQ_sync_time-1'].value\n",
      "#tt_lt = a.pqf['/PQ_time-1'].value "
     ],
     "language": "python",
     "metadata": {},
     "outputs": []
    },
    {
     "cell_type": "code",
     "collapsed": false,
     "input": [
      "fltr_rnd   = (sp_lt == 1) & (ch_lt == rnd_channel)&(st_lt > rnd_start) & (st_lt < (rnd_start  + rnd_length))\n",
      "sn_rnd = sn_lt[fltr_rnd]\n",
      "sn_rnd_fltr = np.in1d(sn_lt,sn_rnd)\n",
      "if filter_rnd:\n",
      "    print len(np.unique(sn_lt))\n",
      "    sp_lt = sp_lt[sn_rnd_fltr]\n",
      "    ch_lt = ch_lt[sn_rnd_fltr]\n",
      "    sn_lt = sn_lt[sn_rnd_fltr]\n",
      "    st_lt = st_lt[sn_rnd_fltr]\n",
      "    print np.sum(fltr_rnd)"
     ],
     "language": "python",
     "metadata": {},
     "outputs": []
    },
    {
     "cell_type": "code",
     "collapsed": false,
     "input": [
      "st_fltr_w1 = (sp_lt == 0) & (ch_lt == ro_channel)  & (st_lt > st_start)  & (st_lt < (st_start  + st_len)) \n",
      "st_fltr_w2 = (sp_lt == 0) & (ch_lt == ro_channel)  & (st_lt > st_start + p_sep)  & (st_lt < (st_start + p_sep + st_len_w2)) \n",
      "fltr_ro    = (sp_lt == 0) & (ch_lt == ro_channel)  & (st_lt > ro_start)  & (st_lt < (ro_start  + ro_length))   "
     ],
     "language": "python",
     "metadata": {},
     "outputs": []
    },
    {
     "cell_type": "code",
     "collapsed": false,
     "input": [
      "noof_reps = sn_lt[-1]\n",
      "noof_reps2= a.agrp['completed_reps'].value*a.g['joint_params'].attrs['LDE_attempts_before_CR']\n",
      "ro0_sn = sn_lt[fltr_ro]\n",
      "noof_ro0 = np.sum(fltr_ro)\n",
      "w1_sn = sn_lt[st_fltr_w1]\n",
      "w2_sn = sn_lt[st_fltr_w2]\n",
      "noof_w1_ro0 = np.sum(np.in1d(w1_sn,ro0_sn))\n",
      "noof_w2_ro0 = np.sum(np.in1d(w2_sn,ro0_sn))\n",
      "noof_w1 = np.sum(st_fltr_w1)\n",
      "noof_w2 = np.sum(st_fltr_w2)"
     ],
     "language": "python",
     "metadata": {},
     "outputs": []
    },
    {
     "cell_type": "code",
     "collapsed": false,
     "input": [
      "print noof_reps,noof_reps2, noof_ro0, noof_w1_ro0, noof_w2_ro0, noof_w1, noof_w2\n",
      "print 'tail_cts', float(noof_w1+noof_w2)/noof_reps*1e4"
     ],
     "language": "python",
     "metadata": {},
     "outputs": []
    },
    {
     "cell_type": "code",
     "collapsed": false,
     "input": [
      "try:\n",
      "    ssro_calib_folder  = tb.latest_data('FastSSRO')\n",
      "    F0,u_F0, F1, u_F1 = pqsequence.get_analysed_fast_ssro_calibration(ssro_calib_folder, readout_time=None, sweep_index=None)\n",
      "except:\n",
      "    print 'FastSSRO calibration not found'\n",
      "    F0,u_F0, F1, u_F1 = (0.935,0.005, 0.99, 0.005)\n",
      "ssro_fids = (F0,u_F0, F1, u_F1)"
     ],
     "language": "python",
     "metadata": {},
     "outputs": []
    },
    {
     "cell_type": "code",
     "collapsed": false,
     "input": [
      "# P_ms1 generally stands for the probability to measure ms=1\n",
      "# P_photon is the probability for getting a photon\n",
      "win1_P_photon = float(noof_w1_ro0)/noof_w1\n",
      "u_win1_P_photon = sqrt(win1_P_photon * (1.-win1_P_photon)/noof_w1)\n",
      "\n",
      "win2_P_photon = float(noof_w2_ro0)/noof_w2\n",
      "u_win2_P_photon = sqrt(win2_P_photon * (1.-win2_P_photon)/noof_w2)\n",
      "\n",
      "fig, (ax, ax_corr) = subplots(1,2, figsize=(11,4),\n",
      "                              sharex=True, sharey=True)\n",
      "\n",
      "### uncorrected for e-SSRO\n",
      "ax.bar(range(2), [win1_P_photon, win2_P_photon], color=['r', 'r'],\n",
      "       align='center', yerr=[u_win1_P_photon, u_win2_P_photon], ecolor='k',\n",
      "       width=0.8)\n",
      "\n",
      "ax.set_xlim(-0.5,1.5)\n",
      "ax.set_ylim(-0.05, 1.15)\n",
      "\n",
      "ax.set_ylabel('P ($m_s =\\, 0$)')\n",
      "\n",
      "ax.set_xticks([0,1])\n",
      "ax.set_xticklabels(['Photon in 1st window \\n ({})'.format(noof_w1),\n",
      "                    'Photon in 2nd window \\n ({})'.format(noof_w2)])\n",
      "ax.axvline(0.5, c='k', ls='--')\n",
      "ax.axhline(0, c='k', ls=':')\n",
      "ax.axhline(1, c='k', ls=':')\n",
      "\n",
      "ax.text(0, win1_P_photon + 0.05, \"{:.1f} $\\pm$ {:.1f} %\".format(win1_P_photon*100, u_win1_P_photon*100),\n",
      "        va='bottom', ha='center',\n",
      "        bbox = {'facecolor' : 'white', 'alpha' : 0.5})\n",
      "ax.text(1, win2_P_photon + 0.05, \"{:.1f} $\\pm$ {:.1f} %\".format(win2_P_photon*100, u_win2_P_photon*100),\n",
      "        va='bottom', ha='center',\n",
      "        bbox = {'facecolor' : 'white', 'alpha' : 0.5})\n",
      "ax.set_title('Uncorrected readout')\n",
      "\n",
      "### corrected for e-SSRO\n",
      "win1_P0, u_win1_P0 = roc.single_qubit_outcome_with_ROC_from_fraction(win1_P_photon, u_win1_P_photon, \n",
      "                                                                     *ssro_fids)\n",
      "win2_P0, u_win2_P0 = roc.single_qubit_outcome_with_ROC_from_fraction(win2_P_photon, u_win2_P_photon,\n",
      "                                                                     *ssro_fids)\n",
      "\n",
      "ax_corr.bar(range(2), [win1_P0, win2_P0], color=['b','b'],\n",
      "       align='center', yerr=[u_win1_P0, u_win2_P0], ecolor='k',\n",
      "       width=0.8)\n",
      "ax_corr.axvline(0.5, c='k', ls='--')\n",
      "ax_corr.axhline(0, c='k', ls=':')\n",
      "ax_corr.axhline(1, c='k', ls=':')\n",
      "\n",
      "ax_corr.text(0, win1_P0 + 0.05, \"{:.1f} $\\pm$ {:.1f} %\".format(win1_P0*100, u_win1_P0*100),\n",
      "        va='bottom', ha='center',\n",
      "        bbox = {'facecolor' : 'white', 'alpha' : 0.5})\n",
      "ax_corr.text(1, win2_P0 + 0.05, \"{:.1f} $\\pm$ {:.1f} %\".format(win2_P0*100, u_win2_P0*100),\n",
      "        va='bottom', ha='center',\n",
      "        bbox = {'facecolor' : 'white', 'alpha' : 0.5})\n",
      "ax_corr.set_title('Corrected readout \\n '+a.timestamp)\n",
      "#fig.savefig(os.path.join(folder, 'Spin-photon_correlations.png'))"
     ],
     "language": "python",
     "metadata": {},
     "outputs": []
    },
    {
     "cell_type": "code",
     "collapsed": false,
     "input": [
      "hist(st_lt[fltr_ro][np.in1d(ro0_sn,w2_sn)])"
     ],
     "language": "python",
     "metadata": {},
     "outputs": []
    }
   ],
   "metadata": {}
  }
 ]
}
