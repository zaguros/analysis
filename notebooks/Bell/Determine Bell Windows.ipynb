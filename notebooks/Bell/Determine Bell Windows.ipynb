{
 "cells": [
  {
   "cell_type": "code",
   "execution_count": null,
   "metadata": {
    "collapsed": false
   },
   "outputs": [],
   "source": [
    "import sys\n",
    "import os\n",
    "import datetime\n",
    "\n",
    "base_folder = r'D:\\measuring'\n",
    "\n",
    "if not base_folder in sys.path:\n",
    "    sys.path.append(base_folder)\n",
    "execfile(os.path.join(base_folder,r'analysis\\scripts\\setup_analysis.py'))\n",
    "execfile(os.path.join(base_folder,r'analysis\\scripts\\bell\\setup_bell_analysis.py'))\n",
    "\n",
    "%matplotlib qt"
   ]
  },
  {
   "cell_type": "code",
   "execution_count": null,
   "metadata": {
    "collapsed": false
   },
   "outputs": [],
   "source": [
    "#bs_folder =  r'D:\\measuring\\data\\2015-04-21-lhfbt4'\n",
    "#bs_folder  =  r'D:\\measuring\\data\\2015-03-18-lhfbt2'\n",
    "#bs_folder =  r'D:\\measuring\\data\\2015-04-13-lhfbt3'\n",
    "#bs_folder =  r'D:\\measuring\\data\\2015-06-10_XX'\n",
    "#bs_folder =  r'D:\\measuring\\data\\2015-05-15-ZZ'#\n",
    "#bs_folder = r'D:\\measuring\\data\\2015-06-28-lhfbt5'\n",
    "bs_folder = r'D:\\measuring\\data\\2015-11-16_XX'\n",
    "output_folder = bs_folder\n",
    "analysis_fp = bell_data.get_latest_analysis_fp(output_folder, 'total_events')#bell: 20150803090328'#XXpattern ='20150625125254')#\n",
    "laser_fp = r'Z:\\data\\20150310\\1540_laser_measurement.dat'"
   ]
  },
  {
   "cell_type": "code",
   "execution_count": null,
   "metadata": {
    "collapsed": false
   },
   "outputs": [],
   "source": [
    "print analysis_fp"
   ]
  },
  {
   "cell_type": "code",
   "execution_count": null,
   "metadata": {
    "collapsed": false
   },
   "outputs": [],
   "source": [
    "channel=0"
   ]
  },
  {
   "cell_type": "code",
   "execution_count": null,
   "metadata": {
    "collapsed": false
   },
   "outputs": [],
   "source": [
    "#load laser pulse shape data\n",
    "d=np.loadtxt(laser_fp, skiprows=10)\n",
    "ch0_laser=d[:,0]\n",
    "ch1_laser=d[:,1]\n",
    "x_laser=np.arange(5400,5600,0.1280)[:-1]"
   ]
  },
  {
   "cell_type": "code",
   "execution_count": null,
   "metadata": {
    "collapsed": false
   },
   "outputs": [],
   "source": [
    "#fit laser pulse data\n",
    "ff = common.fit_gauss\n",
    "y_laser = ch0_laser if channel == 0 else ch1_laser\n",
    "args=[0.1,10000,5440.73,2]\n",
    "fitres = fit.fit1d(x_laser, y_laser, ff, *args, fixed = [0],\n",
    "                   do_print = True, ret = True)\n",
    "x0_laser = fitres['params_dict']['x0']\n",
    "A_laser = fitres['params_dict']['A']"
   ]
  },
  {
   "cell_type": "code",
   "execution_count": null,
   "metadata": {
    "collapsed": false
   },
   "outputs": [],
   "source": [
    "#get the histogram data\n",
    "get_total_hist = True\n",
    "if get_total_hist:\n",
    "    f = h5py.File(analysis_fp,'r')\n",
    "    bs_total_hist = f['analysis']['bs_total_hist'].value\n",
    "    bs_hist_stats = f['analysis']['bs_hist_stats'].value\n",
    "    f.close()\n",
    "else:\n",
    "    #here we get a list of files that actually contributed to the data ie had at least one entanglement event\n",
    "    #bs_fps, lt3_fps, lt4_fps = bell_data.get_unique_bell_fps_from_analysis_file(analysis_fp)\n",
    "    #fps=bs_fps[-25:]\n",
    "    fps=[tb.get_msmt_fp(r'D:\\measuring\\data\\2015-06-28-lhfbt5\\BS\\20150626\\171017_Bell_BS_full_BellTheFinal_day1_run1'),\n",
    "         tb.get_msmt_fp(r'Z:\\data\\20150626\\162236_Bell_BS_SPCORR_ZPL_SPCORR_lt3'),\n",
    "         tb.get_msmt_fp(r'Z:\\data\\20150626\\162644_Bell_BS_SPCORR_ZPL_SPCORR_lt3'),\n",
    "         tb.get_msmt_fp(r'Z:\\data\\20150626\\164507_Bell_BS_SPCORR_ZPL_SPCORR_lt4'),\n",
    "         tb.get_msmt_fp(r'Z:\\data\\20150626\\165758_Bell_BS_SPCORR_ZPL_SPCORR_lt4')]\n",
    "    bs_total_hist, bs_hist_stats = bell_data.process_bs_hist_stats(fps, settings.bs_process_params)"
   ]
  },
  {
   "cell_type": "code",
   "execution_count": null,
   "metadata": {
    "collapsed": false
   },
   "outputs": [],
   "source": [
    "#fit laser pulse part of bell data\n",
    "do_fit=True\n",
    "hist_binsize = settings.bs_process_params['hist_binsize_ps']*1e-12\n",
    "x_bell = np.arange(len(bs_total_hist[:,0]))*hist_binsize *1e9 #ns\n",
    "hist_bell = bs_total_hist[:,0] if channel==0 else bs_total_hist[:,1]\n",
    "y_bell =hist_bell.astype(np.float64)/np.sum(bs_hist_stats[:,be._cl_bs_last_sync])*1e4 #prob per [100 ns] bin per excitation pulse *1e4\n",
    "x_range_fltr = (x_bell>=5420.) & (x_bell<5450.)\n",
    "xf = x_bell[x_range_fltr]\n",
    "yf = y_bell[x_range_fltr]\n",
    "x0_laser_bell = xf[np.argmax(yf)]#fitres['params_dict']['x0']\n",
    "A_laser_bell = np.max(yf)#fitres['params_dict']['A']\n",
    "x_bg_fltr = (x_bell>=5550) & (x_bell<5600)\n",
    "a_bg=np.average(y_bell[x_bg_fltr])\n",
    "if do_fit:\n",
    "    x_range_fltr = (x_bell>=x0_laser_bell-1.) & (x_bell<x0_laser_bell+1.)\n",
    "    xf = x_bell[x_range_fltr]\n",
    "    yf = y_bell[x_range_fltr]\n",
    "    ff = common.fit_gauss\n",
    "    args=[a_bg,A_laser_bell,x0_laser_bell,2]\n",
    "    fitres = fit.fit1d(xf, yf, ff, *args, fixed = [0],\n",
    "                   do_print = True, ret = True)\n",
    "    if fitres['success']:\n",
    "        x0_laser_bell =fitres['params_dict']['x0']\n",
    "        A_laser_bell = fitres['params_dict']['A']\n",
    "        ax=plt.subplot(111)\n",
    "        ax.plot(xf,yf)\n",
    "        plot_pts=10000\n",
    "        x_p=np.linspace(min(xf),max(xf),plot_pts)\n",
    "        if fitres['success']:\n",
    "            f_p = fitres['fitfunc'](x_p)\n",
    "            ax.plot(x_p,f_p)\n",
    "    else:\n",
    "        print 'fit failed'\n",
    "\n",
    "print x0_laser_bell, a_bg, A_laser_bell"
   ]
  },
  {
   "cell_type": "code",
   "execution_count": null,
   "metadata": {
    "collapsed": false
   },
   "outputs": [],
   "source": [
    "#fit laser pulse part of bell data\n",
    "do_fit=True\n",
    "hist_binsize = settings.bs_process_params['hist_binsize_ps']*1e-12\n",
    "x_bell = np.arange(len(bs_total_hist[:,0]))*hist_binsize *1e9 #ns\n",
    "hist_bell = bs_total_hist[:,0] if channel==0 else bs_total_hist[:,1]\n",
    "y_bell =hist_bell.astype(np.float64)/np.sum(bs_hist_stats[:,be._cl_bs_last_sync])*1e4 #prob per [100 ns] bin per excitation pulse *1e4\n",
    "x_range_fltr = (x_bell>=5444.) & (x_bell<5540.)\n",
    "xf = x_bell[x_range_fltr]\n",
    "yf = y_bell[x_range_fltr]\n",
    "x0_bell = xf[np.argmax(yf)]#fitres['params_dict']['x0']\n",
    "A_bell = np.max(yf)#fitres['params_dict']['A']\n",
    "x_bg_fltr = (x_bell>=5550) & (x_bell<5600)\n",
    "a_bg=np.average(y_bell[x_bg_fltr])\n",
    "if do_fit:\n",
    "    x_range_fltr = (x_bell>=x0_laser_bell-1.) & (x_bell<x0_laser_bell+1.)\n",
    "    xf = x_bell[x_range_fltr]\n",
    "    yf = y_bell[x_range_fltr]\n",
    "    ff = common.fit_exp_decay_shifted_with_offset\n",
    "    #A * exp(-(x-x0)/tau) + a\n",
    "    #['g_a', 'g_A', 'g_tau', 'g_x0']\n",
    "    args=[a_bg,A_bell,10,x0_bell]\n",
    "    fitres = fit.fit1d(xf, yf, ff, *args, fixed = [0],\n",
    "                   do_print = True, ret = True)\n",
    "    if fitres['success']:\n",
    "        print fitres['params_dict']['tau']\n",
    "        ax=plt.subplot(111)\n",
    "        ax.plot(xf,yf)\n",
    "        plot_pts=10000\n",
    "        x_p=np.linspace(min(xf),max(xf),plot_pts)\n",
    "        if fitres['success']:\n",
    "            f_p = fitres['fitfunc'](x_p)\n",
    "            ax.plot(x_p,f_p)\n",
    "    else:\n",
    "        print 'fit failed'"
   ]
  },
  {
   "cell_type": "code",
   "execution_count": null,
   "metadata": {
    "collapsed": false
   },
   "outputs": [],
   "source": [
    "(80./np.sum(bs_hist_stats[:,be._cl_bs_last_sync]) + 63./12314106271)/2.\n",
    "#\n",
    "80./(np.sum(bs_hist_stats[:,be._cl_bs_last_time]*1e-12)/60/60)"
   ]
  },
  {
   "cell_type": "code",
   "execution_count": null,
   "metadata": {
    "collapsed": false
   },
   "outputs": [],
   "source": [
    "#afterpulsing\n",
    "# this is the conditional probability per [100 ns] bin *1e4 to obtain an afterpulse, assuming a constant afterpulsing rate, over the integrated window \n",
    "f = h5py.File(analysis_fp,'r')\n",
    "afterpulsing = f['analysis']['afterpulsing'].value\n",
    "f.close()\n",
    "after_pulse_st_len = settings.after_pulse_process_params['after_pulse_st_len']\n",
    "after_pulse_bin_length = (after_pulse_st_len*1e-12)/hist_binsize #500\n",
    "after_prob_00 = float(np.sum(afterpulsing[:,be._cl_bs_afterpulse_00]))/np.sum(afterpulsing[:,be._cl_bs_firstpulse_0])/after_pulse_bin_length*1e4\n",
    "after_prob_01 = float(np.sum(afterpulsing[:,be._cl_bs_afterpulse_01]))/np.sum(afterpulsing[:,be._cl_bs_firstpulse_0])/after_pulse_bin_length*1e4\n",
    "after_prob_10 = float(np.sum(afterpulsing[:,be._cl_bs_afterpulse_10]))/np.sum(afterpulsing[:,be._cl_bs_firstpulse_1])/after_pulse_bin_length*1e4\n",
    "after_prob_11 = float(np.sum(afterpulsing[:,be._cl_bs_afterpulse_11]))/np.sum(afterpulsing[:,be._cl_bs_firstpulse_1])/after_pulse_bin_length*1e4\n",
    "\n",
    "after_prob_psi_plus =float(np.sum(afterpulsing[:,be._cl_bs_afterpulse_00])+np.sum(afterpulsing[:,be._cl_bs_afterpulse_11]))/(np.sum(afterpulsing[:,be._cl_bs_firstpulse_0])+np.sum(afterpulsing[:,be._cl_bs_firstpulse_1]))/after_pulse_bin_length*1e4\n",
    "after_prob_psi_min =float(np.sum(afterpulsing[:,be._cl_bs_afterpulse_01])+np.sum(afterpulsing[:,be._cl_bs_afterpulse_10]))/(np.sum(afterpulsing[:,be._cl_bs_firstpulse_0])+np.sum(afterpulsing[:,be._cl_bs_firstpulse_1]))/after_pulse_bin_length*1e4\n"
   ]
  },
  {
   "cell_type": "code",
   "execution_count": null,
   "metadata": {
    "collapsed": false
   },
   "outputs": [],
   "source": [
    "print 'AP 00:',np.sum(afterpulsing[:,be._cl_bs_afterpulse_00])\n",
    "print 'approx error00:', (np.sqrt(np.sum(afterpulsing[:,be._cl_bs_afterpulse_00])))/np.sum(afterpulsing[:,be._cl_bs_firstpulse_0])/after_pulse_bin_length*1e4\n",
    "print after_prob_00*after_pulse_bin_length\n",
    "print after_prob_01*after_pulse_bin_length\n",
    "print after_prob_10*after_pulse_bin_length\n",
    "print 'AP 11:',np.sum(afterpulsing[:,be._cl_bs_afterpulse_11])\n",
    "print after_prob_11*after_pulse_bin_length\n",
    "print 'approx error11:', (np.sqrt(np.sum(afterpulsing[:,be._cl_bs_afterpulse_11])))/np.sum(afterpulsing[:,be._cl_bs_firstpulse_1])/after_pulse_bin_length*1e4\n"
   ]
  },
  {
   "cell_type": "code",
   "execution_count": null,
   "metadata": {
    "collapsed": false
   },
   "outputs": [],
   "source": [
    "plt.close('all')\n",
    "x0_plot = x0_laser_bell\n",
    "print x0_laser_bell\n",
    "plot_after_pulsing=True\n",
    "x_plot = x_bell - x0_plot\n",
    "x_laser_adj = x_laser - (x0_laser-x0_laser_bell) - x0_plot\n",
    "y_laser_adj = y_laser*(A_laser_bell/A_laser)\n",
    "\n",
    "if plot_after_pulsing:\n",
    "    y_after_pulse_00 = np.ones(len(x_plot))*after_prob_00\n",
    "    y_after_pulse_11 = np.ones(len(x_plot))*after_prob_11\n",
    "y_bg = np.ones(len(x_plot))*a_bg\n",
    "\n",
    "bad_prob_factor = 0.1 # this number we get from Andreas' simulation, ie when the darcount prob is 0.\n",
    "\n",
    "figure()\n",
    "ax=plt.subplot(111)\n",
    "ax.semilogy(x_plot,y_bell/10.,'r', label='measured hist')\n",
    "ax.semilogy(x_laser_adj, y_laser_adj/bad_prob_factor, label='laser pulse / {:.2f}'.format(bad_prob_factor))\n",
    "if plot_after_pulsing:\n",
    "    if channel == 0:\n",
    "        ax.semilogy(x_plot,y_after_pulse_00/(bad_prob_factor), label='after pulsing 00 / {:.2f}'.format(bad_prob_factor*2))\n",
    "    else:\n",
    "        ax.semilogy(x_plot,y_after_pulse_11/(bad_prob_factor), label='after pulsing 11 / {:.2f}'.format(bad_prob_factor*2))\n",
    "ax.semilogy(x_plot,y_bg/bad_prob_factor, label='background / {:.2f}'.format(bad_prob_factor))\n",
    "if x0_plot == 0:\n",
    "    ax.set_xlim(x0_laser_bell-40, x0_laser_bell+150)\n",
    "else:\n",
    "    ax.set_xlim(-40, 150)\n",
    "ax.legend()\n",
    "ax.grid(True)\n",
    "ax.set_xlabel('Sync time [ns] + {:.1f} ns'.format(x0_plot))\n",
    "ax.set_ylabel('Probability x 1e4 per 100 ps bin per shot')\n",
    "#plt.savefig(os.path.join(bs_folder, 'hist_comparisson_1.pdf'))"
   ]
  },
  {
   "cell_type": "code",
   "execution_count": null,
   "metadata": {
    "collapsed": false
   },
   "outputs": [],
   "source": [
    "5476-5426"
   ]
  },
  {
   "cell_type": "code",
   "execution_count": null,
   "metadata": {
    "collapsed": false
   },
   "outputs": [],
   "source": [
    "execfile(r'K:\\ns\\qt\\Diamond\\Eigenpapers\\15-Bell\\SOM\\figures\\CHSH_vs_things\\plot_ro_length_P.py')"
   ]
  },
  {
   "cell_type": "code",
   "execution_count": null,
   "metadata": {
    "collapsed": false
   },
   "outputs": [],
   "source": [
    "execfile(r'K:\\ns\\qt\\Diamond\\Eigenpapers\\15-Bell\\SOM\\figures\\CHSH_vs_things\\plot_window_start.py')"
   ]
  },
  {
   "cell_type": "code",
   "execution_count": null,
   "metadata": {
    "collapsed": false
   },
   "outputs": [],
   "source": []
  }
 ],
 "metadata": {
  "kernelspec": {
   "display_name": "Python 2",
   "language": "python",
   "name": "python2"
  },
  "language_info": {
   "codemirror_mode": {
    "name": "ipython",
    "version": 2
   },
   "file_extension": ".py",
   "mimetype": "text/x-python",
   "name": "python",
   "nbconvert_exporter": "python",
   "pygments_lexer": "ipython2",
   "version": "2.7.3"
  }
 },
 "nbformat": 4,
 "nbformat_minor": 0
}
