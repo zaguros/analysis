{
 "metadata": {
  "name": "",
  "signature": ""
 },
 "nbformat": 3,
 "nbformat_minor": 0,
 "worksheets": [
  {
   "cells": [
    {
     "cell_type": "code",
     "collapsed": false,
     "input": [
      "import sys\n",
      "import os\n",
      "import datetime\n",
      "\n",
      "base_folder = r'D:\\measuring'\n",
      "\n",
      "\n",
      "if not base_folder in sys.path:\n",
      "\n",
      "    sys.path.append(base_folder)\n",
      "execfile(os.path.join(base_folder,r'analysis\\scripts\\setup_analysis.py'))\n",
      "\n",
      "from analysis.scripts.bell.bas import bell_events as be\n",
      "reload(be)"
     ],
     "language": "python",
     "metadata": {},
     "outputs": []
    },
    {
     "cell_type": "code",
     "collapsed": false,
     "input": [
      "#bs_folder  = r'D:\\measuring\\data\\2015-04-13-lhfbt3\\BS'##\n",
      "bs_folder = r'D:\\measuring\\data\\2015-05-15-ZZ\\BS'\n",
      "#bs_folder = r'Z:\\data\\20150518'\n",
      "lt3_folder = r'Y:\\data'#r'D:\\measuring\\data\\2014-11-Entanglement_XX_data\\LT3_raw_data'\n",
      "lt4_folder = r'X:\\data'#D:\\measuring\\data\\2014-11-Entanglement_XX_data\\LT4_raw_data'\n",
      "\n",
      "#output_folder = r'D:\\measuring\\data\\2015-04-14_SPCorrs'#\n",
      "output_folder = os.path.split(bs_folder)[0]"
     ],
     "language": "python",
     "metadata": {},
     "outputs": []
    },
    {
     "cell_type": "code",
     "collapsed": false,
     "input": [
      "measurement_pattern   = 'BackToZZ'#'SPCORR_lt3'\n",
      "update_previous_analysis = False\n",
      "max_measurement_delay = datetime.timedelta(minutes=2,seconds=10)\n",
      "fps_bs = tb.get_all_msmt_filepaths(bs_folder, pattern=measurement_pattern)\n",
      "print 'Found {} filepaths'.format(len(fps_bs))\n",
      "if update_previous_analysis:\n",
      "    open_fp=be.get_latest_analysis_fp(output_folder)\n",
      "    f = h5py.File(open_fp,'r')\n",
      "    total_ent_events = f['analysis']['total_ent_events'].value\n",
      "    total_lt3_ssro = f['analysis']['total_lt3_ssro'].value\n",
      "    total_lt4_ssro = f['analysis']['total_lt4_ssro'].value\n",
      "    total_ent_events_fps = f['analysis']['total_ent_events_fps'].value\n",
      "    total_lt3_ssro_fps   = f['analysis']['total_lt3_ssro_fps'].value\n",
      "    total_lt4_ssro_fps   = f['analysis']['total_lt4_ssro_fps'].value\n",
      "    fps_bs = np.setdiff1d(fps_bs,total_ent_events_fps)\n",
      "    f.close()\n",
      "    print '{} filepaths left to analyze'.format(len(fps_bs))\n",
      "fps_lt3 = []\n",
      "fps_lt4 = []\n",
      "for fp_bs in fps_bs:\n",
      "    bs_m_folder = os.path.split(fp_bs)[0] \n",
      "    bs_m_time = tb.get_datetime_from_folder(bs_m_folder)\n",
      "    bs_m_name = tb.get_measurement_name_from_folder(bs_m_folder)[8:]\n",
      "    min_timestamp = tb.timestamp_from_datetime(bs_m_time - max_measurement_delay)\n",
      "    max_timestamp = tb.timestamp_from_datetime(bs_m_time + max_measurement_delay)\n",
      "    \n",
      "    lt3_m_folder = tb.latest_data(contains = bs_m_name, folder = lt3_folder, older_than = max_timestamp, newer_than = min_timestamp)\n",
      "    fps_lt3.append(tb.get_msmt_fp(lt3_m_folder))\n",
      "    lt4_m_folder = tb.latest_data(contains = bs_m_name, folder = lt4_folder, older_than = max_timestamp, newer_than = min_timestamp)\n",
      "    fps_lt4.append(tb.get_msmt_fp(lt4_m_folder))"
     ],
     "language": "python",
     "metadata": {},
     "outputs": []
    },
    {
     "cell_type": "code",
     "collapsed": false,
     "input": [
      "VERBOSE = False\n",
      "#generours window settings for entanglement prefilter\n",
      "st_start_ch0 = 5430000\n",
      "st_len       =  250000 #50 ns\n",
      "ch0_ch1_diff = 600 #1 ns\n",
      "st_start_ch1 = st_start_ch0 + ch0_ch1_diff\n",
      "pulse_sep    = 350000 #600 ns\n",
      "\n",
      "st_pulse_start= 5438000\n",
      "st_pulse_len = 4000\n",
      "pulse_max_sn_diff = 3000000 #3 million syncs ~ 60 secs\n",
      "\n",
      "ent_marker_channel_bs       = 1\n",
      "psi_min_marker_bs           = 4\n",
      "psi_plus_marker_bs          = 2\n",
      "ent_marker_channel_lt3      = 4\n",
      "ent_marker_channel_lt4      = 4\n",
      "ent_marker_lt_timebin_limit = 10000\n",
      "sn_diff_marker_ent_early    = -1\n",
      "sn_diff_marker_ent_late     = 0\n",
      "invalid_marker_channel_lt   = 8\n",
      "invalid_marker_max_sn_diff  = 251\n",
      "\n",
      "adwin_ro      = False\n",
      "ignore_unequal_markers = False\n",
      "ro_channel    = 0\n",
      "ro_start      = 10620\n",
      "ro_length     = 3700\n",
      "\n",
      "rnd_channel   = 1\n",
      "rnd_start     = 10000\n",
      "rnd_length    = 1000\n",
      "rnd_0_channel = 1\n",
      "rnd_1_channel = 2\n",
      "\n",
      "psb_tail_start_lt3 = 7480\n",
      "psb_tail_start_lt4 = 5350\n",
      "psb_tail_len = 200"
     ],
     "language": "python",
     "metadata": {},
     "outputs": []
    },
    {
     "cell_type": "code",
     "collapsed": false,
     "input": [
      "if not(update_previous_analysis):\n",
      "    total_ent_events = np.empty((0,be._bs_noof_columns), dtype=np.uint64)\n",
      "    total_lt3_ssro   = np.empty((0,be._lt_noof_columns), dtype=np.uint64)\n",
      "    total_lt4_ssro   = np.empty((0,be._lt_noof_columns), dtype=np.uint64)\n",
      "    total_ent_events_fps = []\n",
      "    total_lt3_ssro_fps   = []\n",
      "    total_lt4_ssro_fps   = []\n",
      "    print len(fps_bs)\n",
      "    \n",
      "f_date  = np.empty(len(fps_bs), dtype=np.uint64)\n",
      "run     = np.empty(len(fps_bs), dtype=object)\n",
      "ft_bs   = np.empty(len(fps_bs), dtype=object)\n",
      "ft_lt3  = np.empty(len(fps_bs), dtype=object)\n",
      "ft_lt4  = np.empty(len(fps_bs), dtype=object)\n",
      "nb_ent_bs = np.empty(len(fps_bs), dtype=np.uint64)\n",
      "nb_ent_lt3 = np.empty(len(fps_bs), dtype=np.uint64)\n",
      "nb_ent_lt4 = np.empty(len(fps_bs), dtype=np.uint64)\n",
      "\n",
      "for i,fp_bs,fp_lt3,fp_lt4 in zip(range(len(fps_bs)),fps_bs,fps_lt3,fps_lt4):\n",
      "    print i,\n",
      "    ent_event_list = be.get_entanglement_event_list(fp_bs,\n",
      "                                                    st_start_ch0, st_start_ch1, st_len, pulse_sep,\n",
      "                                                    st_pulse_start, st_pulse_len, pulse_max_sn_diff,\n",
      "                                                    ent_marker_channel_bs,psi_min_marker_bs, psi_plus_marker_bs,\n",
      "                                                    VERBOSE=VERBOSE)\n",
      "\n",
      "    lt3_ssro_list  = be.get_ssro_result_list(fp_lt3,\n",
      "                                             ro_start, ro_length, ro_channel,\n",
      "                                             rnd_start, rnd_length, rnd_channel, rnd_0_channel, rnd_1_channel,\n",
      "                                             psb_tail_start_lt3,psb_tail_len,\n",
      "                                             ent_marker_channel_lt3, ent_marker_lt_timebin_limit, \n",
      "                                             sn_diff_marker_ent_early, sn_diff_marker_ent_late,\n",
      "                                             invalid_marker_channel_lt,invalid_marker_max_sn_diff,\n",
      "                                             VERBOSE=VERBOSE) if not adwin_ro else None\n",
      "    #lt3_ssro_list  = be.get_ssro_result_list_adwin(fp_lt3, ssro_result_list=lt3_ssro_list)\n",
      "    lt4_ssro_list  = be.get_ssro_result_list(fp_lt4,\n",
      "                                             ro_start, ro_length, ro_channel,\n",
      "                                             rnd_start, rnd_length, rnd_channel, rnd_0_channel, rnd_1_channel,\n",
      "                                             psb_tail_start_lt4,psb_tail_len,\n",
      "                                             ent_marker_channel_lt4, ent_marker_lt_timebin_limit, \n",
      "                                             sn_diff_marker_ent_early, sn_diff_marker_ent_late,\n",
      "                                             invalid_marker_channel_lt,invalid_marker_max_sn_diff,\n",
      "                                             VERBOSE=VERBOSE) if not adwin_ro else None\n",
      "    #lt4_ssro_list = be.get_ssro_result_list_adwin(fp_lt4, ssro_result_list=lt4_ssro_list)\n",
      "    \n",
      "    \n",
      "    file_bs       = os.path.split(fp_bs)[1]\n",
      "    f_date[i]     = os.path.split(os.path.split(fp_bs)[0])[0][-8:]\n",
      "    run[i]        = file_bs[file_bs.find('_',32 )-4: file_bs.find('_',32 )+2] if file_bs[file_bs.find('_',32 )+3]!='.'\\\n",
      "                        else file_bs[file_bs.find('_',32 )-4: file_bs.find('_',32 )+3]\n",
      "    ft_bs[i]      = file_bs[:6] \n",
      "    ft_lt3[i]     = os.path.split(fp_lt3)[1][:6]\n",
      "    ft_lt4[i]     = os.path.split(fp_lt4)[1][:6]\n",
      "    nb_ent_bs[i]  = len(ent_event_list)\n",
      "    nb_ent_lt3[i] = len(lt3_ssro_list)\n",
      "    nb_ent_lt4[i] = len(lt4_ssro_list)\n",
      "    \n",
      "    \n",
      "    if (len(ent_event_list) != len(lt3_ssro_list)) or (len(ent_event_list) != len(lt4_ssro_list)):\n",
      "        print 'WARNING: measurement with filepath {} ignored. Number of markers is unequal'.format(fp_bs)\n",
      "        print 'BS markers: {}, LT3 markers: {}, LT4 markers: {}'.format(len(ent_event_list),len(lt3_ssro_list),len(lt4_ssro_list))\n",
      "        if not ignore_unequal_markers:\n",
      "            continue\n",
      "    total_ent_events = np.vstack((total_ent_events, ent_event_list))\n",
      "    total_lt3_ssro   = np.vstack((total_lt3_ssro, lt3_ssro_list))\n",
      "    total_lt4_ssro   = np.vstack((total_lt4_ssro, lt4_ssro_list))\n",
      "    for j in range(len(ent_event_list)):\n",
      "        total_ent_events_fps = np.append(total_ent_events_fps,fp_bs)\n",
      "        total_lt3_ssro_fps   = np.append(total_lt3_ssro_fps,fp_lt3)\n",
      "        total_lt4_ssro_fps   = np.append(total_lt4_ssro_fps,fp_lt4)\n",
      "    \n",
      "print 'Done, total_events:',len(total_ent_events)\n",
      "        "
     ],
     "language": "python",
     "metadata": {},
     "outputs": []
    },
    {
     "cell_type": "code",
     "collapsed": false,
     "input": [
      "import csv"
     ],
     "language": "python",
     "metadata": {},
     "outputs": []
    },
    {
     "cell_type": "code",
     "collapsed": false,
     "input": [
      "file_name = os.path.split(bs_folder)[0] +'\\\\'+tb.get_timestamp_from_now()+'_test_statistics.csv'\n",
      "f = open(file_name, 'wt')\n",
      "try:\n",
      "    writer = csv.writer(f,  delimiter=';', lineterminator='\\n')#, quotechar='|', dialect='excel')\n",
      "    writer.writerow( ('Date', 'Run name', 'Time_bs', 'Time_lt3', 'Time_lt4', 'Nb ent bs', 'Nb ent lt3', 'Nb ent lt4') )\n",
      "    for i in range(len(fps_bs)):\n",
      "        writer.writerow( (f_date[i], run[i], ft_bs[i],  ft_lt3[i], ft_lt4[i], nb_ent_bs[i], nb_ent_lt3[i], nb_ent_lt4[i]) )\n",
      "finally:\n",
      "    f.close()\n",
      "\n",
      "#print open('test.csv', 'rt').read()"
     ],
     "language": "python",
     "metadata": {},
     "outputs": []
    },
    {
     "cell_type": "code",
     "collapsed": false,
     "input": [
      "fp = fps_lt3[8]\n",
      "print fp\n",
      "pqf = h5py.File(fp,'r')\n",
      "\n",
      "#pq_plots.plot_photon_hist(pqf,start = (0)*1e3,  length = 15000*1e3, hist_binsize = 5e3, save = False, log=True)\n",
      "chan=pqf['PQ_channel-1'].value\n",
      "sn = pqf['PQ_sync_number-1'].value\n",
      "pqf.close()"
     ],
     "language": "python",
     "metadata": {},
     "outputs": []
    },
    {
     "cell_type": "code",
     "collapsed": false,
     "input": [
      "plot(chan)"
     ],
     "language": "python",
     "metadata": {},
     "outputs": []
    },
    {
     "cell_type": "code",
     "collapsed": false,
     "input": [
      "test = sn[chan==4]"
     ],
     "language": "python",
     "metadata": {},
     "outputs": []
    },
    {
     "cell_type": "code",
     "collapsed": false,
     "input": [
      "print test\n",
      "plot(test)"
     ],
     "language": "python",
     "metadata": {},
     "outputs": []
    },
    {
     "cell_type": "code",
     "collapsed": false,
     "input": [
      "test2 = test[:-1]-test[1:]"
     ],
     "language": "python",
     "metadata": {},
     "outputs": []
    },
    {
     "cell_type": "code",
     "collapsed": false,
     "input": [
      "plot(test2)"
     ],
     "language": "python",
     "metadata": {},
     "outputs": []
    },
    {
     "cell_type": "code",
     "collapsed": false,
     "input": [],
     "language": "python",
     "metadata": {},
     "outputs": []
    }
   ],
   "metadata": {}
  }
 ]
}
