{
 "metadata": {
  "name": "",
  "signature": ""
 },
 "nbformat": 3,
 "nbformat_minor": 0,
 "worksheets": [
  {
   "cells": [
    {
     "cell_type": "code",
     "collapsed": false,
     "input": [
      "import sys\n",
      "import os\n",
      "base_folder = r'D:\\measuring'\n",
      "if not base_folder in sys.path:\n",
      "    sys.path.append(base_folder)\n",
      "execfile(os.path.join(base_folder,r'analysis\\scripts\\setup_analysis.py'))\n",
      "execfile(os.path.join(base_folder,r'analysis\\scripts\\bell\\setup_bell_analysis.py'))\n",
      "from analysis.lib.fitting import fit, common\n",
      "%matplotlib inline"
     ],
     "language": "python",
     "metadata": {},
     "outputs": []
    },
    {
     "cell_type": "code",
     "collapsed": false,
     "input": [
      "#folders_fp = r'D:\\measuring\\data\\2015-06-10_XX\\201506_SSRO_XX.txt'\n",
      "folders_fp= r'D:\\measuring\\data\\2015-06-28-lhfbt5\\201507_SSRO_lhfbt5.txt'\n",
      "timestamps_d=np.loadtxt(folders_fp, dtype='S', delimiter='\\t')\n",
      "lt3 = False\n",
      "lt_folder = r'Y:\\data' if lt3 else r'X:\\data'\n",
      "timestamps = timestamps_d[1:,1 if lt3 else 2]\n",
      "folders = [tb.data_from_time(timestamp,folder=lt_folder) for timestamp in timestamps]"
     ],
     "language": "python",
     "metadata": {},
     "outputs": []
    },
    {
     "cell_type": "code",
     "collapsed": false,
     "input": [
      "from scipy.stats import poisson\n",
      "t_fast_ro = 11e-6#3.7e-6\n",
      "sat_fid_diff_th = 0.0005\n",
      "ro_counts_0 = zeros((0,50),dtype=np.int)\n",
      "ro_counts_1 = zeros((0,50),dtype=np.int)\n",
      "fid0s=np.zeros(len(folders))\n",
      "fid1s=np.zeros(len(folders))\n",
      "dfid0s=np.zeros(len(folders))\n",
      "dfid1s=np.zeros(len(folders))\n",
      "i_sat=10\n",
      "auto_i_sat = False\n",
      "for i,folder in enumerate(folders):\n",
      "    a = ssro.SSROAnalysis(folder)\n",
      "    if True:\n",
      "        n,ms = ('ms0', 0)\n",
      "        a.get_run(n)\n",
      "        fid_dat_0=a.fidelity(a.ro_counts, a.reps, a.binsize, ms, name=n, plot = False, save=False, ret=True)\n",
      "        t=fid_dat_0[:,0]\n",
      "        fid_0=fid_dat_0[:,1]\n",
      "        dfid_0=fid_dat_0[:,2]\n",
      "        diff_fid_0 = np.diff(fid_0)\n",
      "        i_sat_auto = np.where(diff_fid_0<sat_fid_diff_th)[0][0] \n",
      "        print i_sat_auto\n",
      "        i_sat= i_sat_auto if auto_i_sat else i_sat\n",
      "        fid_sat_0 = fid_0[i_sat]        \n",
      "        fid0s[i]  = fid_0[i_sat]\n",
      "        dfid0s[i] = dfid_0[i_sat]\n",
      "        \n",
      "    if True:\n",
      "        n,ms = ('ms1', 1)\n",
      "        a.get_run(n)\n",
      "        ro_counts_1=a.ro_counts\n",
      "        is_dark_fltr=np.sum(ro_counts_1[:,0:i_sat],axis=1) == 0\n",
      "        n_tot = np.sum(is_dark_fltr)\n",
      "        n_good = np.sum(np.sum(ro_counts_1[is_dark_fltr,i_sat+1:2*i_sat],axis=1) == 0)\n",
      "        true_fid_1=float(n_good)/n_tot\n",
      "        dtrue_fid_1 = np.sqrt(true_fid_1*(1-true_fid_1)/n_tot)\n",
      "        fid1s[i]  = true_fid_1\n",
      "        dfid1s[i] = dtrue_fid_1\n",
      "    \n",
      "    \n",
      "    #print t_sat, fid_sat_0, meas_fid_sat_1, true_fid_sat_1, cr_sat, fid_sat_0-float(n_good)/n_tot, n_tot\n",
      "\n",
      "\n"
     ],
     "language": "python",
     "metadata": {},
     "outputs": []
    },
    {
     "cell_type": "code",
     "collapsed": false,
     "input": [
      "fid0 = np.average(fid0s)\n",
      "dfid0 = np.sqrt(np.sum(dfid0s**2)/len(folders))\n",
      "dfid0alt=np.std(fid0s)\n",
      "fid1 = np.average(fid1s)\n",
      "dfid1 = np.sqrt(np.sum(dfid1s**2)/len(folders))\n",
      "dfid1alt=np.std(fid1s)"
     ],
     "language": "python",
     "metadata": {},
     "outputs": []
    },
    {
     "cell_type": "code",
     "collapsed": false,
     "input": [
      "print 'fid 0 = {:.2f}% +- {:.2f} ({:.2f})%'.format(fid0*100,dfid0*100,dfid0alt*100)\n",
      "print 'fid 1 = {:.2f}% +- {:.2f} ({:.2f})%'.format(fid1*100,dfid1*100,dfid1alt*100)"
     ],
     "language": "python",
     "metadata": {},
     "outputs": []
    },
    {
     "cell_type": "code",
     "collapsed": false,
     "input": [
      "fid 0 = 95.32% +- 0.99 (0.32)%\n",
      "fid 1 = 99.48% +- 0.34 (0.10)%"
     ],
     "language": "python",
     "metadata": {},
     "outputs": []
    },
    {
     "cell_type": "code",
     "collapsed": false,
     "input": [
      "shape(a.ro_counts)"
     ],
     "language": "python",
     "metadata": {},
     "outputs": []
    },
    {
     "cell_type": "code",
     "collapsed": false,
     "input": [
      "#ms=0 heralding initialisation analysis\n",
      "pts = 6        \n",
      "fidf=np.zeros(pts)\n",
      "n_tots = np.zeros(pts)\n",
      "for j in arange(pts):\n",
      "    n_tot = 0\n",
      "    n_good = 0\n",
      "    remainder = ro_counts_0\n",
      "    for i in arange(j+1):\n",
      "        click_first_bin_fltr=remainder[:,0] > 0\n",
      "        n_tot += np.sum(click_first_bin_fltr)\n",
      "        click_first_bin = remainder[click_first_bin_fltr,:]\n",
      "        remainder = remainder[np.logical_not(click_first_bin_fltr),1:]\n",
      "        n_good += np.sum((click_first_bin[:,0]>1) | (np.sum(click_first_bin[:,1:i_sat], axis=1)>0)) \n",
      "    if len(remainder)==0:\n",
      "        break\n",
      "    fidf[j]=float(n_good)/n_tot\n",
      "    n_tots[j] = n_tot\n",
      "\n",
      "errorbar(np.arange(pts),fidf, yerr=np.sqrt(fidf*(1-fidf)/n_tots))\n",
      "h_fid0 = np.max(fidf)\n",
      "d_h_fid0= np.sqrt(h_fid0*(1-h_fid0)/n_tots[np.argmax(fidf)])\n",
      "plt.hlines(fid0,-0.5,pts)\n"
     ],
     "language": "python",
     "metadata": {},
     "outputs": []
    },
    {
     "cell_type": "code",
     "collapsed": false,
     "input": [
      "\n",
      "n_good_2 = np.sum(np.sum(ro_counts_1[:,ro_len+1:2*ro_len],axis=1) == 0)  \n",
      "r_fid_1 =float(n_good_2)/len(ro_counts_1)"
     ],
     "language": "python",
     "metadata": {},
     "outputs": []
    },
    {
     "cell_type": "code",
     "collapsed": false,
     "input": [
      "t=fid_dat[:,0]\n",
      "fid=fid_dat[:,1]\n",
      "d_fid = np.diff(fid)\n",
      "print t[np.where(d_fid<0.001)[0][0]]"
     ],
     "language": "python",
     "metadata": {},
     "outputs": []
    },
    {
     "cell_type": "markdown",
     "metadata": {},
     "source": [
      "$S_3 = \\pm 1$"
     ]
    },
    {
     "cell_type": "code",
     "collapsed": false,
     "input": [
      "a.cpsh_hist(a.ro_counts, a.reps, name=n, save=False, plot=True)\n",
      "    #ro_time, ro_countrate=a.readout_relaxation(a.ro_time, a.ro_counts, a.reps, a.binsize, name=n, plot = False, ret=True)\n",
      "    #a.spinpumping(a.sp_time, a.sp_counts, a.reps, a.binsize, name=n, plot = False)\n",
      "    #a.charge_hist(a.cr_counts, name=n, plot = False)"
     ],
     "language": "python",
     "metadata": {},
     "outputs": []
    },
    {
     "cell_type": "code",
     "collapsed": false,
     "input": [
      "shape(a.sp_counts)"
     ],
     "language": "python",
     "metadata": {},
     "outputs": []
    },
    {
     "cell_type": "code",
     "collapsed": false,
     "input": [
      "shape(a.ro_counts)"
     ],
     "language": "python",
     "metadata": {},
     "outputs": []
    },
    {
     "cell_type": "code",
     "collapsed": false,
     "input": [
      "a=arange(10)\n",
      "for i in range(3):\n",
      "    a=a[1:]\n",
      "    print a"
     ],
     "language": "python",
     "metadata": {},
     "outputs": []
    },
    {
     "cell_type": "code",
     "collapsed": false,
     "input": [],
     "language": "python",
     "metadata": {},
     "outputs": []
    },
    {
     "cell_type": "code",
     "collapsed": false,
     "input": [],
     "language": "python",
     "metadata": {},
     "outputs": []
    }
   ],
   "metadata": {}
  }
 ]
}
