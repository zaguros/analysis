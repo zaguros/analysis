{
 "cells": [
  {
   "cell_type": "code",
   "execution_count": null,
   "metadata": {
    "collapsed": false
   },
   "outputs": [],
   "source": [
    "import sys\n",
    "import os\n",
    "import datetime\n",
    "\n",
    "base_folder = r'D:\\measuring'\n",
    "\n",
    "if not base_folder in sys.path:\n",
    "    sys.path.append(base_folder)\n",
    "execfile(os.path.join(base_folder,r'analysis\\scripts\\setup_analysis.py'))\n",
    "execfile(os.path.join(base_folder,r'analysis\\scripts\\bell\\setup_bell_analysis.py'))\n",
    "\n",
    "%matplotlib inline"
   ]
  },
  {
   "cell_type": "markdown",
   "metadata": {},
   "source": [
    "### Process new Bell data"
   ]
  },
  {
   "cell_type": "code",
   "execution_count": null,
   "metadata": {
    "collapsed": false
   },
   "outputs": [],
   "source": [
    "#bs_folder = r'D:\\measuring\\data\\2015-03-03-lhfbt\\BS'\n",
    "#measurement_pattern = 'first_ever'\n",
    "#bs_folder = r'D:\\measuring\\data\\2015-03-18-lhfbt2\\BS'\n",
    "#measurement_pattern = 'second_ever'\n",
    "#bs_folder = r'D:\\measuring\\data\\2015-04-13-lhfbt3\\BS'\n",
    "#measurement_pattern = 'third_ever'\n",
    "#bs_folder = r'D:\\measuring\\data\\2015-04-21-lhfbt4\\BS'\n",
    "#measurement_pattern = 'TheFourth'\n",
    "#bs_folder = r'D:\\measuring\\data\\2015-05-15-ZZ\\BS'\n",
    "#measurement_pattern = 'BackToZZ'\n",
    "#bs_folder = r'D:\\measuring\\data\\2015-06-10_XX\\BS'\n",
    "#measurement_pattern = 'finallyXX'\n",
    "#bs_folder = r'D:\\measuring\\data\\2015-06-28-lhfbt5\\BS'\n",
    "#measurement_pattern = 'TheFinal'\n",
    "#bs_folder = r'D:\\measuring\\data\\2015-11-16_XX\\BS'\n",
    "#measurement_pattern = 'moreXX'\n",
    "#bs_folder = r'D:\\measuring\\data\\2015-12-01-lhfbt6\\BS'\n",
    "#measurement_pattern = 'TheSecondFinal'\n",
    "bs_folder = r'D:\\measuring\\data\\2015-12-08-lhfbt6-new_detector\\BS'\n",
    "measurement_pattern = 'TheSecondFinal'\n",
    "#lt3_folder = r'Y:\\data'\n",
    "#lt4_folder = r'X:\\data'\n",
    "lt3_folder = os.path.join(os.path.split(bs_folder)[0],'LT3')\n",
    "lt4_folder = os.path.join(os.path.split(bs_folder)[0],'LT4')\n",
    "try:\n",
    "    settings = imp.load_source('bell_analysis_settings',os.path.join(os.path.split(bs_folder)[0],'bell_analysis_settings.py'))\n",
    "except IOError:\n",
    "    print 'Data specific analysis settings not found, using standard settings!'\n",
    "    pass\n",
    "\n",
    "update_previous_analysis = False\n",
    "\n",
    "output_folder = os.path.split(bs_folder)[0]\n",
    "analysis_fp = os.path.join(output_folder,tb.get_timestamp_from_now()+'_'+'total_events.hdf5')\n",
    "previous_analysis_fp = bell_data.get_latest_analysis_fp(output_folder, pattern ='total_events.hdf5') if update_previous_analysis else None"
   ]
  },
  {
   "cell_type": "code",
   "execution_count": null,
   "metadata": {
    "collapsed": false
   },
   "outputs": [],
   "source": [
    "fps_bs = tb.get_all_msmt_filepaths(bs_folder, pattern=measurement_pattern)\n",
    "bell_data.process_bell_data(fps_bs, lt3_folder, lt4_folder, \n",
    "                            settings.bs_process_params, settings.lt_process_params,\n",
    "                            analysis_fp, update_previous_analysis_fp = previous_analysis_fp, \n",
    "                            ignore_unequal_markers   = 'fix_last', \n",
    "                            process_lt3 = True, process_lt4 = True, \n",
    "                            VERBOSE=False)\n",
    "print ''"
   ]
  },
  {
   "cell_type": "markdown",
   "metadata": {},
   "source": [
    "##### ------------------- "
   ]
  },
  {
   "cell_type": "code",
   "execution_count": null,
   "metadata": {
    "collapsed": false
   },
   "outputs": [],
   "source": [
    "#here we get a list of files that actually contributed to the data ie had at least one entanglement event\n",
    "bs_fps, lt3_fps, lt4_fps = bell_data.get_unique_bell_fps_from_analysis_file(analysis_fp)"
   ]
  },
  {
   "cell_type": "code",
   "execution_count": null,
   "metadata": {
    "collapsed": false
   },
   "outputs": [],
   "source": [
    "#here we get the tail & pulse counts per run\n",
    "bell_data.process_bs_hist_stats(bs_fps, settings.analysis_params ,analysis_fp, update_previous_analysis_fp = previous_analysis_fp)\n",
    "print ''"
   ]
  },
  {
   "cell_type": "code",
   "execution_count": null,
   "metadata": {
    "collapsed": false
   },
   "outputs": [],
   "source": [
    "bell_data.process_tpqi_data(bs_fps, settings.bs_process_params, analysis_fp,  \n",
    "                            update_previous_analysis_fp = previous_analysis_fp)\n",
    "print ''"
   ]
  },
  {
   "cell_type": "code",
   "execution_count": null,
   "metadata": {
    "collapsed": false
   },
   "outputs": [],
   "source": [
    "bell_data.process_lt_stats(lt3_fps, settings.lt_process_params, lt3=True, \n",
    "                           analysis_fp=analysis_fp, update_previous_analysis_fp = previous_analysis_fp)\n",
    "bell_data.process_lt_stats(lt4_fps, settings.lt_process_params, lt3=False,\n",
    "                           analysis_fp=analysis_fp, update_previous_analysis_fp = previous_analysis_fp)\n",
    "print ''"
   ]
  },
  {
   "cell_type": "code",
   "execution_count": null,
   "metadata": {
    "collapsed": false
   },
   "outputs": [],
   "source": [
    "bell_data.process_afterpulsing_data(bs_fps, settings.after_pulse_process_params, analysis_fp,  update_previous_analysis_fp = previous_analysis_fp)\n",
    "print ''"
   ]
  },
  {
   "cell_type": "markdown",
   "metadata": {},
   "source": [
    "### Plot and analyse processed Bell data "
   ]
  },
  {
   "cell_type": "code",
   "execution_count": null,
   "metadata": {
    "collapsed": false
   },
   "outputs": [],
   "source": [
    "#output_folder = r'D:\\measuring\\data\\2015-03-18-lhfbt2'\n",
    "#output_folder = r'D:\\measuring\\data\\2015-04-13-lhfbt3'\n",
    "#output_folder = r'D:\\measuring\\data\\2015-04-21-lhfbt4'\n",
    "#output_folder = r'D:\\measuring\\data\\2015-05-15-ZZ'\n",
    "#output_folder = r'D:\\measuring\\data\\2015-06-10_XX'\n",
    "#output_folder = r'D:\\measuring\\data\\2015-06-28-lhfbt5'\n",
    "#output_folder  = r'D:\\measuring\\data\\2015-12-01-lhfbt6'\n",
    "output_folder = r'D:\\measuring\\data\\2015-12-08-lhfbt6-new_detector'\n",
    "\n",
    "analysis_fp = bell_data.get_latest_analysis_fp(output_folder, pattern ='total_events')\n",
    "#here we get a list of files that actually contributed to the data ie had at least one entanglement event\n",
    "bs_fps, lt3_fps, lt4_fps = bell_data.get_unique_bell_fps_from_analysis_file(analysis_fp)\n",
    "print analysis_fp"
   ]
  },
  {
   "cell_type": "code",
   "execution_count": null,
   "metadata": {
    "collapsed": false
   },
   "outputs": [],
   "source": [
    "#plot tail & pulse counts vs run:\n",
    "f = h5py.File(analysis_fp,'r')\n",
    "bs_hist_stats = f['analysis']['bs_hist_stats'].value\n",
    "f.close()\n",
    "\n",
    "x = np.arange(len(bs_hist_stats[:,be._cl_bs_tail]))\n",
    "y_tail  = bs_hist_stats[:,be._cl_bs_tail].astype(np.float)/bs_hist_stats[:,be._cl_bs_last_sync]*1e4\n",
    "u_y_tail = np.sqrt(bs_hist_stats[:,be._cl_bs_tail].astype(np.float))/bs_hist_stats[:,be._cl_bs_last_sync]*1e4\n",
    "y_pulse = bs_hist_stats[:,be._cl_bs_pulse].astype(np.float)/bs_hist_stats[:,be._cl_bs_last_sync]*1e4\n",
    "u_y_pulse = np.sqrt(bs_hist_stats[:,be._cl_bs_pulse].astype(np.float))/bs_hist_stats[:,be._cl_bs_last_sync]*1e4\n",
    "\n",
    "ax=plt.subplot(111)\n",
    "ax.errorbar(x,y_tail,yerr=u_y_tail, fmt='x', label='Tail')\n",
    "ax.errorbar(x,y_pulse,yerr=u_y_pulse, fmt='x', label = 'Pulse')\n",
    "ax.set_ylabel('Tailcounts * 1e4')\n",
    "ax.set_ylim(0,6)\n",
    "ax.set_xlabel('Run #')\n",
    "ax.set_title('Tail & pulse counts \\n'+btools.plot_title(analysis_fp))\n",
    "#ax.legend()\n",
    "btools.save_figure('Tail', ax, output_folder, analysis_fp)"
   ]
  },
  {
   "cell_type": "code",
   "execution_count": null,
   "metadata": {
    "collapsed": false
   },
   "outputs": [],
   "source": [
    "np.sum(bs_hist_stats[:,be._cl_bs_last_time]*1e-12)/60./60."
   ]
  },
  {
   "cell_type": "code",
   "execution_count": null,
   "metadata": {
    "collapsed": false
   },
   "outputs": [],
   "source": [
    "#plot summed histogram:\n",
    "f = h5py.File(analysis_fp,'r')\n",
    "bs_total_hist = f['analysis']['bs_total_hist'].value\n",
    "bs_hist_stats = f['analysis']['bs_hist_stats'].value\n",
    "f.close()\n",
    "hist_binsize = settings.bs_process_params['hist_binsize_ps']*1e-12\n",
    "xmin = 54150\n",
    "xmax = 54800\n",
    "x = np.arange(xmin,xmax)*hist_binsize *1e6 #us\n",
    "y_0 = bs_total_hist[xmin:xmax,0].astype(np.float)\n",
    "y_1 = bs_total_hist[xmin:xmax,1].astype(np.float)\n",
    "ax=plt.subplot(111)\n",
    "ax.semilogy(x,y_0,label='channel 0')\n",
    "ax.semilogy(x+.0006,y_1,label='channel 1')\n",
    "ax.set_title('Total histogram \\n'+btools.plot_title(analysis_fp))\n",
    "ax.set_ylabel('Counts')\n",
    "ax.set_xlabel('time [us]')\n",
    "ax.grid(True)\n",
    "#ax.legend()\n",
    "btools.save_figure('Total_hist', ax, output_folder, analysis_fp)\n",
    "\n",
    "#total measurement time\n",
    "#figure()\n",
    "#ax=plt.subplot(111)\n",
    "#ax.hist(bs_hist_stats[:,be._cl_bs_last_time]/1e12/60.)\n",
    "print float(np.sum(bs_hist_stats[:,be._cl_bs_last_time]))/1e12/60./60."
   ]
  },
  {
   "cell_type": "code",
   "execution_count": null,
   "metadata": {
    "collapsed": false
   },
   "outputs": [],
   "source": []
  },
  {
   "cell_type": "code",
   "execution_count": null,
   "metadata": {
    "collapsed": false
   },
   "outputs": [],
   "source": [
    "#plot a histogram of a specific run(s)\n",
    "#fp = bs_fps[-1]\n",
    "#fp = bs_fps[-1]\n",
    "fp =tb.get_msmt_fp(tb.latest_data(contains='day3_run11', folder=r'Z:\\data'))\n",
    "pqf = h5py.File(fp,'r')\n",
    "pq_plots.plot_marker_filter_comparison(pqf,\n",
    "                          mrkr_chan = 1,\n",
    "                          start = 5420e3,#settings.bs_process_params['st_start_ch0'],  \n",
    "                          length= 10e3,#settings.bs_process_params['st_len']+settings.bs_process_params['pulse_sep'], \n",
    "                          hist_binsize = .25e3, save = False, log=False) #start =7480\n",
    "pqf.close() "
   ]
  },
  {
   "cell_type": "code",
   "execution_count": null,
   "metadata": {
    "collapsed": false
   },
   "outputs": [],
   "source": [
    "#plot the TPQI"
   ]
  },
  {
   "cell_type": "code",
   "execution_count": null,
   "metadata": {
    "collapsed": false
   },
   "outputs": [],
   "source": [
    "f = h5py.File(analysis_fp,'r')\n",
    "coincidences = f['analysis']['tpqi'].value\n",
    "f.close()\n",
    "\n",
    "st_start_ch0 = settings.analysis_params['st_start_ch0']\n",
    "st_len       = settings.analysis_params['st_len']\n",
    "st_start_ch1 = settings.analysis_params['st_start_ch1']\n",
    "p_sep        = settings.analysis_params['pulse_sep']\n",
    "st0=coincidences[:,be._cl_tpqi_st0]\n",
    "st1=coincidences[:,be._cl_tpqi_st1]\n",
    "st_fltr_0 = (((st_start_ch0<=st0)  & (st0<(st_start_ch0+st_len))) | ((st_start_ch0+p_sep<=st0) & (st0<(st_start_ch0+p_sep+st_len))) )  \n",
    "st_fltr_1 = (((st_start_ch1<=st1)  & (st1<(st_start_ch1+st_len))) | ((st_start_ch1+p_sep<=st1) & (st1<(st_start_ch1+p_sep+st_len))) )\n",
    "coincidences_fltr=coincidences[st_fltr_0 & st_fltr_1 ,be._cl_tpqi_dt]/1000.\n",
    "dt=100\n",
    "center_peak = np.sum((coincidences_fltr>-dt) & (coincidences_fltr<dt))\n",
    "#print ii\n",
    "left_peak  = np.sum((coincidences_fltr>(-dt-p_sep/1000)) & (coincidences_fltr<(dt-p_sep/1000)))\n",
    "right_peak = np.sum((coincidences_fltr>(-dt+p_sep/1000)) & (coincidences_fltr<(dt+p_sep/1000)))\n",
    "Vis = 1- float(center_peak)/(left_peak+right_peak)\n",
    "ax=plt.subplot(111)\n",
    "bins=np.linspace(-450,450,80)\n",
    "hist_TPQI, bins_TPQI, patches_TPQI = ax.hist(coincidences_fltr,bins=bins, color='b', cumulative=False, histtype = 'step')\n",
    "ax.set_title('TPQI histogram, V = {:.1f} % \\n {}'.format(Vis*100, btools.plot_title(analysis_fp)))\n",
    "ax.set_ylabel('Counts',fontsize = 15)\n",
    "ax.set_ylim(0,1.1*max(hist_TPQI))\n",
    "ax.tick_params(axis = 'y', labelsize = 13)\n",
    "ax.set_xlabel('Time [ns]',fontsize = 15)\n",
    "ax.tick_params(axis = 'x', labelsize = 13)\n",
    "ax.text(-p_sep/1000,max(hist_TPQI),left_peak, horizontalalignment='center', verticalalignment ='bottom')\n",
    "ax.text(+p_sep/1000,max(hist_TPQI),right_peak, horizontalalignment='center', verticalalignment ='bottom')\n",
    "ax.text(0,max(hist_TPQI),center_peak, horizontalalignment='center', verticalalignment ='bottom')\n",
    "btools.save_figure('TPQI', ax, output_folder, analysis_fp)"
   ]
  },
  {
   "cell_type": "code",
   "execution_count": null,
   "metadata": {
    "collapsed": false
   },
   "outputs": [],
   "source": [
    "#Plot the PSB SP Corrs vs run #\n",
    "for setupname in ['lt3','lt4']:\n",
    "    f = h5py.File(analysis_fp,'r')\n",
    "    lt_stats = f['analysis'][setupname+'_stats'].value\n",
    "    f.close()\n",
    "    figure()\n",
    "    ax=plt.subplot(111)\n",
    "    ax.set_title('PSB SP correlations '+ setupname +'\\n'+ btools.plot_title(analysis_fp))\n",
    "    ax.plot(lt_stats[:,be._cl_lt_p_w1_ro0_rnd0],label = 'rnd0, w1')\n",
    "    ax.plot(lt_stats[:,be._cl_lt_p_w1_ro0_rnd1],label = 'rnd1, w1')\n",
    "    ax.plot(lt_stats[:,be._cl_lt_p_w2_ro0_rnd0],label = 'rnd0, w2')\n",
    "    ax.plot(lt_stats[:,be._cl_lt_p_w2_ro0_rnd1],label = 'rnd1, w2')\n",
    "    ax.plot(lt_stats[:,be._cl_lt_noof_w1]/(lt_stats[:,be._cl_lt_noof_w1]+lt_stats[:,be._cl_lt_noof_w2]), label='w1/(w1+w2)')\n",
    "    ax.set_xlabel('Run #')\n",
    "    ax.set_ylabel('Prob ms = 0, uncorrected')\n",
    "    ax.legend()\n",
    "    btools.save_figure('Window_correlations_'+setupname, ax, output_folder, analysis_fp)\n",
    "\n",
    "    #Plot Tail & prepulse vs run\n",
    "    figure()\n",
    "    ax=plt.subplot(111)\n",
    "    ax2=ax.twinx()\n",
    "    ax.set_title('PSB Tail '+ setupname +'\\n'+btools.plot_title(analysis_fp))\n",
    "    ax.plot(lt_stats[:,be._cl_lt_tail]*1e4,label = 'Tail')\n",
    "    ax2.plot(lt_stats[:,be._cl_lt_prepulse]*1e4,'g',label = 'Prepulse')\n",
    "    ax.set_xlabel('Run #')\n",
    "    ax.set_ylabel('Tail [counts x 1e4]')\n",
    "    ax2.set_ylabel('Prepulse [counts x 1e4]')\n",
    "    ax.legend()\n",
    "    btools.save_figure('PSB_tail_'+setupname, ax, output_folder, analysis_fp)"
   ]
  },
  {
   "cell_type": "code",
   "execution_count": null,
   "metadata": {
    "collapsed": false
   },
   "outputs": [],
   "source": [
    "#Plot a histogram of the PSB data #TBD"
   ]
  },
  {
   "cell_type": "code",
   "execution_count": null,
   "metadata": {
    "collapsed": false
   },
   "outputs": [],
   "source": [
    "#analyse Bell data correlations\n",
    "#reload(settings)\n",
    "reload(btools)\n",
    "f = h5py.File(analysis_fp,'r')\n",
    "db_fps=f['analysis']['total_ent_events_fps'].value\n",
    "db = f['analysis']['total_ent_events'].value\n",
    "d3 = f['analysis']['total_lt3_ssro'].value\n",
    "d4 = f['analysis']['total_lt4_ssro'].value\n",
    "f.close()\n",
    "#bad_fps=bs_fps[ys>2500]\n",
    "#fltr= np.array([(fp not in bad_fps) for fp in db_fps]); \n",
    "#fltr = np.array([('day9_run20' not in fp) for fp in db_fps])\n",
    "#db=db[fltr]; d3=d3[fltr]; d4=d4[fltr]\n",
    "#settings = imp.load_source('bell_analysis_settings',os.path.join(os.path.split(bs_folder)[0],'bell_analysis_settings.py'))\n",
    "ap=settings.analysis_params\n",
    "#ap['invalid_marker_max_sn_diff']=10\n",
    "#ap['ro_length']=3700\n",
    "#print ap['st_start_ch0']\n",
    "rn=-1\n",
    "corr_mats, _tmp = btools.get_corr_mats(db[:rn],d3[:rn],d4[:rn],db_fps[:rn], ap, bad_time_ranges.bad_time_ranges, VERBOSE=True)"
   ]
  },
  {
   "cell_type": "code",
   "execution_count": null,
   "metadata": {
    "collapsed": false
   },
   "outputs": [],
   "source": [
    "corr_mats_sum={}\n",
    "for psi in corr_mats:\n",
    "    corr_mats_sum[psi] = corr_mats[psi]+corr_mats_day_1_to_5[psi]"
   ]
  },
  {
   "cell_type": "code",
   "execution_count": null,
   "metadata": {
    "collapsed": false
   },
   "outputs": [],
   "source": [
    "#corr_mats_day_1_to_5 = corr_mats\n",
    "np.sqrt(0.034)"
   ]
  },
  {
   "cell_type": "code",
   "execution_count": null,
   "metadata": {
    "collapsed": false
   },
   "outputs": [],
   "source": [
    "print btools.plot_title(analysis_fp)\n",
    "CHSH, dCHSH, Es, dEs = btools.print_correlators(corr_mats,psis=['psi_min','psi_plus'])"
   ]
  },
  {
   "cell_type": "code",
   "execution_count": null,
   "metadata": {
    "collapsed": false
   },
   "outputs": [],
   "source": [
    "reload(btools)\n",
    "CHSH, dCHSH, Es, dEs = btools.print_correlators_combined(corr_mats_sum)"
   ]
  },
  {
   "cell_type": "code",
   "execution_count": null,
   "metadata": {
    "collapsed": false
   },
   "outputs": [],
   "source": [
    "print btools.plot_title(analysis_fp)\n",
    "btools.calculate_p_lhv(corr_mats)\n",
    "print ''"
   ]
  },
  {
   "cell_type": "code",
   "execution_count": null,
   "metadata": {
    "collapsed": false
   },
   "outputs": [],
   "source": [
    "print btools.plot_title(analysis_fp)\n",
    "btools.print_XX_fidelity(corr_mats, settings.analysis_params)"
   ]
  },
  {
   "cell_type": "code",
   "execution_count": null,
   "metadata": {
    "collapsed": false
   },
   "outputs": [],
   "source": [
    "print btools.plot_title(analysis_fp)\n",
    "btools.print_ZZ_fidelity(corr_mats, settings.analysis_params)"
   ]
  },
  {
   "cell_type": "markdown",
   "metadata": {},
   "source": [
    "#### -----------------------------------------------"
   ]
  },
  {
   "cell_type": "code",
   "execution_count": null,
   "metadata": {
    "collapsed": false
   },
   "outputs": [],
   "source": [
    "X, S, dS, P, Ns, Ks = btools.sweep_analysis_param(analysis_fp,settings,[],['st_len_w2_00','st_len_w2_11'],-2000,20000,50,True)"
   ]
  },
  {
   "cell_type": "code",
   "execution_count": null,
   "metadata": {
    "collapsed": false
   },
   "outputs": [],
   "source": [
    "ax1 = plt.subplot(311)\n",
    "ax1.plot(X,(Ks.astype(np.float)/Ns-0.5)*8)\n",
    "ax1.set_xticks([])\n",
    "ax2=plt.subplot(312)\n",
    "ax2.plot(X,Ns,'r')\n",
    "ax2.set_xticks([])\n",
    "ax3=plt.subplot(313)\n",
    "ax3.plot(X,P)"
   ]
  },
  {
   "cell_type": "code",
   "execution_count": null,
   "metadata": {
    "collapsed": false
   },
   "outputs": [],
   "source": [
    "#plot data correlations\n",
    "pts=5\n",
    "X=np.linspace(-2000,2000,pts)+5426000\n",
    "Y=np.zeros(pts)\n",
    "for i,x in enumerate(X):\n",
    "    ap=settings.analysis_params.copy()\n",
    "    ap['st_start_ch0']=x\n",
    "    ap['st_start_ch1']=x-900\n",
    "    corr_mats, _tmp = btools.get_corr_mats(db,d3,d4,db_fps, ap, bad_time_ranges.bad_time_ranges, VERBOSE=False)\n",
    "    K,N,Kxx,Nxx,Kzz,Nzz,p_val = btools.calculate_p_lhv(corr_mats, VERBOSE=False)\n",
    "    CHSH, dCHSH, Es, dEs = btools.print_correlators(corr_mats, VERBOSE=False, psis=['psi_min'])\n",
    "    Y[i] = CHSH\n",
    "plt.plot(X,Y)"
   ]
  },
  {
   "cell_type": "code",
   "execution_count": null,
   "metadata": {
    "collapsed": false
   },
   "outputs": [],
   "source": [
    "fltr = (d3[:,be._cl_sn_ma] > 0) & (d4[:,be._cl_sn_ma] > 0) & db[:,be._cl_type] == 1\n",
    "td = db[fltr,be._cl_tt_w1].astype(np.float)\n",
    "t4 = d4[fltr,be._cl_tt_rnd].astype(np.float)\n",
    "t3 = d3[fltr,be._cl_tt_rnd].astype(np.float)\n",
    "sd = db[fltr,be._cl_sn].astype(np.float)\n",
    "s4 = d4[fltr,be._cl_sn_ma].astype(np.float)\n",
    "s3 = d3[fltr,be._cl_sn_ma].astype(np.float)\n",
    "#tdiff3 = td/1e12 - t3/1e9\n",
    "#tdiff4 = td/1e12 - t4/1e9\n",
    "tdiff3 = sd/251. - s3/250.\n",
    "tdiff4 = sd/251. - s4/251.\n",
    "#figure()\n",
    "hist(tdiff3, bins = np.linspace(-1,1,50))\n",
    "hist(tdiff4)#, bins = np.linspace(-1,20,50))\n",
    "print np.min(tdiff3), max(tdiff3)\n",
    "print min(tdiff4), max(tdiff4)\n",
    "print np.argmax(tdiff3), np.argmin(tdiff3)\n",
    "print np.argmax(tdiff4), np.argmin(tdiff4)\n",
    "#print db_fps[fltr][np.abs(tdiff3)>1]\n",
    "print tdiff3[np.abs(tdiff3)>1]"
   ]
  },
  {
   "cell_type": "code",
   "execution_count": null,
   "metadata": {
    "collapsed": false
   },
   "outputs": [],
   "source": [
    "diff3 = d3[fltr,be._cl_tt_ma].astype(np.float) - d3[fltr,be._cl_tt_rnd].astype(np.float)\n",
    "diff4 = d4[fltr,be._cl_tt_ma].astype(np.float) - d4[fltr,be._cl_tt_rnd].astype(np.float)\n",
    "#hist(diff3)\n",
    "hist(diff4)"
   ]
  },
  {
   "cell_type": "code",
   "execution_count": null,
   "metadata": {
    "collapsed": false
   },
   "outputs": [],
   "source": [
    "print st_start_ch0"
   ]
  },
  {
   "cell_type": "code",
   "execution_count": null,
   "metadata": {
    "collapsed": false
   },
   "outputs": [],
   "source": [
    "#bad_fps=bs_fps[ys>2500]\n",
    "#fltr= np.array([(fp not in bad_fps) for fp in db_fps]); \n",
    "#fltr = np.array([('day10' in fp) for fp in db_fps])\n",
    "#db=db[fltr]; d3=d3[fltr]; d4=d4[fltr]\n",
    "days=19\n",
    "fltr=False\n",
    "Ks = np.zeros(days)\n",
    "Ns=np.zeros(days)\n",
    "p_lhvs = np.zeros(days)\n",
    "X=np.arange(days)\n",
    "for i in X:\n",
    "    fltr = fltr | np.array([('day'+str(i+1)+'_' in fp) for fp in db_fps])\n",
    "    dbf=db[fltr]; d3f=d3[fltr]; d4f=d4[fltr]\n",
    "    corr_mats, _tmp = btools.get_corr_mats(dbf,d3f,d4f,db_fps, settings.analysis_params, bad_time_ranges.bad_time_ranges, VERBOSE=False)\n",
    "    K,N,Kxx,Nxx,Kzz,Nzz,p_lhv = btools.calculate_p_lhv(corr_mats, VERBOSE=False)\n",
    "    Ks[i] = K\n",
    "    Ns[i] = N\n",
    "    p_lhvs[i] = p_lhv"
   ]
  },
  {
   "cell_type": "code",
   "execution_count": null,
   "metadata": {
    "collapsed": false
   },
   "outputs": [],
   "source": [
    "ax=plt.subplot(311)\n",
    "ax.plot(X+1,(Ks.astype(np.float)/Ns-0.5)*8, 'r', label='S')\n",
    "ax.set_ylabel('CHSH value')\n",
    "ax.set_ylim(1,3)\n",
    "ax.grid(True)\n",
    "ax.set_xticklabels([])\n",
    "ax2=plt.subplot(312)\n",
    "ax2.plot(X+1,Ns, label='N')\n",
    "ax2.set_ylabel('N')\n",
    "ax2.grid(True)\n",
    "ax2.set_xticklabels([])\n",
    "ax3=plt.subplot(313)\n",
    "ax3.plot(X+1,p_lhvs, label='p-value')\n",
    "ax3.set_ylabel('p-value')\n",
    "ax3.grid(True)\n",
    "ax3.set_xlabel('Measurement day #')"
   ]
  },
  {
   "cell_type": "markdown",
   "metadata": {},
   "source": [
    "#### -------------------------"
   ]
  },
  {
   "cell_type": "code",
   "execution_count": null,
   "metadata": {
    "collapsed": false
   },
   "outputs": [],
   "source": [
    "#plot a histogram of a specific run(s)\n",
    "ax1=plt.subplot(111)\n",
    "#ax1=plt.subplot(311)\n",
    "#ax2=plt.subplot(312)\n",
    "#ax3=plt.subplot(313)\n",
    "ax1.set_title('Histogram for single run')\n",
    "ax1.set_ylabel('Counts')\n",
    "ax1.set_xlabel('time [us]')\n",
    "hist_binsize = settings.bs_process_params['hist_binsize_ps']*1e-12\n",
    "xmin = 54350\n",
    "xmax = 54500\n",
    "ch1_off = 11\n",
    "\n",
    "fps=bs_fps[:]#[[1,-1]]\n",
    "#print fps\n",
    "ys = np.zeros(len(fps))\n",
    "for i,fp in enumerate(fps):\n",
    "    bs_hist, _t = bell_data.process_bs_hist_stats([fp], settings.bs_process_params)\n",
    "    x = np.arange(xmin,xmax)*hist_binsize *1e6 #us *1e6 #us\n",
    "    y_0 = bs_hist[xmin:xmax,0].astype(np.float)\n",
    "    y_1 = bs_hist[xmin+ch1_off:xmax+ch1_off,1].astype(np.float)  \n",
    "    #ax1.semilogy(x,y_0, label=tb.get_plot_title_from_folder(os.path.split(fp)[0])[-9:])\n",
    "    #ax2.semilogy(x,y_1)\n",
    "    #ax3.plot(x,y_0-y_1)\n",
    "    print np.where(bs_fps == fp)[0], np.sum(np.abs(y_0-y_1))\n",
    "    ys[i] = np.sum(np.abs(y_0-y_1))\n",
    "ax.plot(ys)\n",
    "#ax.legend()"
   ]
  },
  {
   "cell_type": "code",
   "execution_count": null,
   "metadata": {
    "collapsed": false
   },
   "outputs": [],
   "source": [
    "reload(btools)\n",
    "\n",
    "analysis_fp = bell_data.get_latest_analysis_fp(output_folder, pattern ='total_events')\n",
    "settings = imp.load_source('bell_analysis_settings',os.path.join(os.path.split(bs_folder)[0],'bell_analysis_settings.py'))\n",
    "\n",
    "f = h5py.File(analysis_fp,'r')\n",
    "db_fps=f['analysis']['total_ent_events_fps'].value\n",
    "db = f['analysis']['total_ent_events'].value\n",
    "d3 = f['analysis']['total_lt3_ssro'].value\n",
    "d4 = f['analysis']['total_lt4_ssro'].value\n",
    "f.close()\n",
    "#rn=-110\n",
    "#db=db[:rn];d3=d3[:rn];d4=d4[:rn];db_fps=db_fps[:rn]\n",
    "#bad_fps=bs_fps[ys>2500]\n",
    "#fltr= np.array([(fp not in bad_fps) for fp in db_fps]); \n",
    "#fltr = np.array([('day1_run7' not in fp) for fp in db_fps])\n",
    "#db=db[fltr]; d3=d3[fltr]; d4=d4[fltr]\n",
    "\n",
    "#psi_name = 'psi_min'\n",
    "#corr_mats, fltr = btools.get_corr_mats(db,d3,d4,db_fps, settings.analysis_params, bad_time_ranges.bad_time_ranges, ret_fltr_psi_name=psi_name, VERBOSE=False)\n",
    "#print np.sum(fltr)\n",
    "valid_event_fltr = db[:,be._cl_type] == 1\n",
    "rnd_fltr = (d3[:,be._cl_noof_rnd_0] + d3[:,be._cl_noof_rnd_1] == 1 ) \\\n",
    "                 & (d4[:,be._cl_noof_rnd_0] + d4[:,be._cl_noof_rnd_1] == 1 ) \n",
    "fltr=valid_event_fltr & rnd_fltr\n",
    "\n",
    "\n",
    "st_w1=db[fltr][:,be._cl_st_w1]\n",
    "st_w2=db[fltr][:,be._cl_st_w2]\n",
    "ch_w1=db[fltr][:,be._cl_ch_w1]\n",
    "ch_w2=db[fltr][:,be._cl_ch_w2]\n",
    "rnd3= (d3[fltr][:,be._cl_noof_rnd_1])\n",
    "rnd4= np.logical_not(d4[fltr][:,be._cl_noof_rnd_1])\n",
    "rnd3_time = d3[fltr][:,be._cl_st_rnd]\n",
    "rnd4_time = d4[fltr][:,be._cl_st_rnd]\n",
    "ro3_time = d3[fltr][:,be._cl_first_ph_st]\n",
    "ro4_time = d4[fltr][:,be._cl_first_ph_st]\n",
    "last_invalid3 = d3[fltr][:,be._cl_last_inv_mrkr]\n",
    "last_invalid4 = d4[fltr][:,be._cl_last_inv_mrkr]\n",
    "tail3_time = d3[fltr][:,be._cl_first_tail_st]\n",
    "tail4_time = d4[fltr][:,be._cl_first_tail_st]\n",
    "days=[]\n",
    "runs=[]\n",
    "event_times=[]\n",
    "for i in range(len(db[fltr])):\n",
    "         \n",
    "        event_times.append(tb.get_datetime_from_folder(os.path.split(db_fps[fltr][i])[0]) \\\n",
    "                    + datetime.timedelta(seconds = db[fltr][i,be._cl_tt_w1]*1e-12))\n",
    "        s=db_fps[fltr][i]\n",
    "        try:\n",
    "            i_day=s.find('_day',-30,-1)\n",
    "            i_run=s.find('_run',-30,-1)\n",
    "            i_hdf=s.find('.hdf',-30,-1)\n",
    "            days.append(int(s[i_day+4:i_run]))\n",
    "            runs.append(int(s[i_run+5:i_hdf]))\n",
    "        except Exception as e:\n",
    "            print s\n",
    "            print e\n",
    "            raise Exception('')\n",
    "\n",
    "arr = np.vstack((event_times,days,runs,st_w1,ch_w1,st_w2,ch_w2,rnd3,rnd4,rnd3_time,rnd4_time,ro3_time,ro4_time,tail3_time,tail4_time,last_invalid3,last_invalid4))\n",
    "np.savetxt(btools.save_fp(output_folder,analysis_fp)+'_'+'.txt',arr.T,delimiter=',', fmt=['%s','%u','%u','%u','%u','%u','%u','%u','%u','%u','%u','%u','%u','%u','%u','%u','%u'])"
   ]
  },
  {
   "cell_type": "code",
   "execution_count": null,
   "metadata": {
    "collapsed": false
   },
   "outputs": [],
   "source": [
    "s=db_fps[2000]\n",
    "i_day=s.find('_day',-30,-1)\n",
    "i_run=s.find('_run',-30,-1)\n",
    "i_hdf=s.find('.hdf',-30,-1)\n",
    "\n",
    "print s[i_day+4:i_run]\n",
    "print s[i_run+4:i_hdf]"
   ]
  },
  {
   "cell_type": "code",
   "execution_count": null,
   "metadata": {
    "collapsed": false
   },
   "outputs": [],
   "source": [
    "i_hdf"
   ]
  },
  {
   "cell_type": "code",
   "execution_count": null,
   "metadata": {
    "collapsed": false
   },
   "outputs": [],
   "source": [
    "np.loadtxt(btools.save_fp(output_folder,analysis_fp)+'_'+'.txt',delimiter=',', usecols=arange(1,15), dtype=np.uint64)"
   ]
  },
  {
   "cell_type": "code",
   "execution_count": null,
   "metadata": {
    "collapsed": false
   },
   "outputs": [],
   "source": [
    "np.loadtxt(btools.save_fp(output_folder,analysis_fp)+'_'+'.txt',delimiter=',', usecols=[0], dtype=np.datetime64)"
   ]
  },
  {
   "cell_type": "code",
   "execution_count": null,
   "metadata": {
    "collapsed": false
   },
   "outputs": [],
   "source": []
  }
 ],
 "metadata": {
  "kernelspec": {
   "display_name": "Python 2",
   "language": "python",
   "name": "python2"
  },
  "language_info": {
   "codemirror_mode": {
    "name": "ipython",
    "version": 2
   },
   "file_extension": ".py",
   "mimetype": "text/x-python",
   "name": "python",
   "nbconvert_exporter": "python",
   "pygments_lexer": "ipython2",
   "version": "2.7.3"
  }
 },
 "nbformat": 4,
 "nbformat_minor": 0
}
