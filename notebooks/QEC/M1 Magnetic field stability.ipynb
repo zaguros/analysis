{
 "cells": [
  {
   "cell_type": "code",
   "execution_count": null,
   "metadata": {
    "collapsed": false
   },
   "outputs": [],
   "source": [
    "%matplotlib inline\n",
    "import sys\n",
    "sys.path.append(r'D:/measuring')\n",
    "sys.path.append(r'D:/analysis')\n",
    "\n",
    "import analysis.scripts.stability_analysis.magnetic_field_stability as mf\n",
    "import analysis.scripts.stability_analysis.magnetic_field_vs_magnet_position as mfp"
   ]
  },
  {
   "cell_type": "markdown",
   "metadata": {},
   "source": [
    "## Stability data M1, 160712-160713"
   ]
  },
  {
   "cell_type": "code",
   "execution_count": null,
   "metadata": {
    "collapsed": false
   },
   "outputs": [],
   "source": [
    "### Data taken with the setup completely open\n",
    "### Start of data = 20160712_183823, End of data = '20160712_183823'\n",
    "reload(mf)\n",
    "mf.fit_B_msmt_loop(older_than = '20160714_111226', newer_than = '20160712_183823', filename = 'Bfield_stability_data_open', \n",
    "                   include_temperature=False)"
   ]
  },
  {
   "cell_type": "code",
   "execution_count": null,
   "metadata": {
    "collapsed": true
   },
   "outputs": [],
   "source": [
    "reload(mf)\n",
    "mf.plot_meas_B_loop()"
   ]
  },
  {
   "cell_type": "markdown",
   "metadata": {},
   "source": [
    "## Stability data M1, 160714-160715, with covered setup"
   ]
  },
  {
   "cell_type": "code",
   "execution_count": null,
   "metadata": {
    "collapsed": true
   },
   "outputs": [],
   "source": [
    "reload(mf)\n",
    "mf.fit_B_msmt_loop(older_than = '2016071_010438', newer_than = '20160714_165639')"
   ]
  },
  {
   "cell_type": "code",
   "execution_count": null,
   "metadata": {
    "collapsed": true
   },
   "outputs": [],
   "source": [
    "reload(mf)\n",
    "mf.plot_meas_B_loop()"
   ]
  },
  {
   "cell_type": "markdown",
   "metadata": {},
   "source": [
    "## Stability data M1, 160716-160715, with setup covered"
   ]
  },
  {
   "cell_type": "code",
   "execution_count": null,
   "metadata": {
    "collapsed": true
   },
   "outputs": [],
   "source": [
    "reload(mf)\n",
    "mf.fit_B_msmt_loop(older_than = '20160716_152407', newer_than = '20160715_172021')\n",
    "# mf.fit_B_msmt_loop(older_than = '20160716_152407', newer_than = '20160716_115939')"
   ]
  },
  {
   "cell_type": "code",
   "execution_count": null,
   "metadata": {
    "collapsed": true
   },
   "outputs": [],
   "source": [
    "reload(mf)\n",
    "mf.plot_meas_B_loop()"
   ]
  },
  {
   "cell_type": "markdown",
   "metadata": {
    "collapsed": true
   },
   "source": [
    "## Temperature new sensor"
   ]
  },
  {
   "cell_type": "code",
   "execution_count": null,
   "metadata": {
    "collapsed": true
   },
   "outputs": [],
   "source": [
    "execfile('D:/measuring/analysis/scripts/QEC_data_analysis/plot_temperature.py')"
   ]
  },
  {
   "cell_type": "markdown",
   "metadata": {},
   "source": [
    "## Magnetic field + temperature stability 20160725_155458 to 144825"
   ]
  },
  {
   "cell_type": "code",
   "execution_count": null,
   "metadata": {
    "collapsed": false,
    "scrolled": true
   },
   "outputs": [],
   "source": [
    "### first load the magnetic field data\n",
    "reload(mf)\n",
    "mf.fit_B_msmt_loop(older_than = '20160727_090200', newer_than = '20160725_144825')"
   ]
  },
  {
   "cell_type": "code",
   "execution_count": null,
   "metadata": {
    "collapsed": false,
    "scrolled": true
   },
   "outputs": [],
   "source": [
    "### plot the magnetic field data\n",
    "reload(mf)\n",
    "mf.plot_meas_B_loop()"
   ]
  },
  {
   "cell_type": "code",
   "execution_count": null,
   "metadata": {
    "collapsed": true
   },
   "outputs": [],
   "source": [
    "execfile('D:/measuring/analysis/scripts/QEC_data_analysis/plot_temperature.py')"
   ]
  },
  {
   "cell_type": "code",
   "execution_count": null,
   "metadata": {
    "collapsed": false,
    "scrolled": true
   },
   "outputs": [],
   "source": [
    "from analysis.lib.fitting import dark_esr_auto_analysis; reload(dark_esr_auto_analysis)\n",
    "f0m_temp, u_f0m_temp = dark_esr_auto_analysis.analyze_dark_esr_double(do_plot=True, timestamp = '20160726_005347')\n",
    "\n",
    "#20160726\\074800"
   ]
  },
  {
   "cell_type": "markdown",
   "metadata": {},
   "source": [
    "## Determine temperature coefficient by varying lab temp"
   ]
  },
  {
   "cell_type": "code",
   "execution_count": null,
   "metadata": {
    "collapsed": false
   },
   "outputs": [],
   "source": [
    "## data starts at 20160727_090059\n",
    "### first load the magnetic field data\n",
    "reload(mf)\n",
    "mf.fit_B_msmt_loop(older_than = '20160727_164600', newer_than = '20160727_090059')"
   ]
  },
  {
   "cell_type": "code",
   "execution_count": null,
   "metadata": {
    "collapsed": false,
    "scrolled": true
   },
   "outputs": [],
   "source": [
    "### plot the magnetic field data\n",
    "reload(mf)\n",
    "fit_result = mf.plot_meas_B_loop()"
   ]
  },
  {
   "cell_type": "code",
   "execution_count": null,
   "metadata": {
    "collapsed": false
   },
   "outputs": [],
   "source": [
    "## data starts at 20160727_090059\n",
    "### first load the magnetic field data\n",
    "reload(mfp)\n",
    "mfp.fit_B_msmt_loop(older_than = '20160727_183310', newer_than = '20160727_170000')"
   ]
  },
  {
   "cell_type": "code",
   "execution_count": null,
   "metadata": {
    "collapsed": false,
    "scrolled": false
   },
   "outputs": [],
   "source": [
    "## data starts at 20160727_090059\n",
    "### first load the magnetic field data\n",
    "reload(mfp)\n",
    "mfp.fit_B_msmt_loop(older_than = '20160728_084710', newer_than = '20160728_044000')"
   ]
  },
  {
   "cell_type": "code",
   "execution_count": null,
   "metadata": {
    "collapsed": false,
    "scrolled": true
   },
   "outputs": [],
   "source": [
    "### plot the magnetic field data\n",
    "reload(mfp)\n",
    "fit_result = mfp.plot_meas_B_loop()"
   ]
  },
  {
   "cell_type": "code",
   "execution_count": null,
   "metadata": {
    "collapsed": false,
    "scrolled": true
   },
   "outputs": [],
   "source": [
    "## data starts at 20160727_090059\n",
    "### first load the magnetic field data\n",
    "reload(mfp)\n",
    "mfp.fit_B_msmt_loop(older_than = '20160728_084710', newer_than = '20160727_170900')"
   ]
  },
  {
   "cell_type": "code",
   "execution_count": null,
   "metadata": {
    "collapsed": true
   },
   "outputs": [],
   "source": [
    "### plot the magnetic field data\n",
    "reload(mfp)\n",
    "fit_result = mfp.plot_meas_B_loop()\n"
   ]
  },
  {
   "cell_type": "code",
   "execution_count": null,
   "metadata": {
    "collapsed": true
   },
   "outputs": [],
   "source": [
    "## data starts at 20160727_090059\n",
    "### first load the magnetic field data\n",
    "reload(mfp)\n",
    "mfp.fit_B_msmt_loop(older_than = '20160727_173110', newer_than = '20160727_170900')"
   ]
  },
  {
   "cell_type": "code",
   "execution_count": null,
   "metadata": {
    "collapsed": true
   },
   "outputs": [],
   "source": [
    "### plot the magnetic field data\n",
    "reload(mfp)\n",
    "fit_result = mfp.plot_meas_B_loop()\n"
   ]
  },
  {
   "cell_type": "code",
   "execution_count": null,
   "metadata": {
    "collapsed": false
   },
   "outputs": [],
   "source": [
    "## data starts at 20160727_090059\n",
    "### first load the magnetic field data\n",
    "reload(mfp)\n",
    "mfp.fit_B_msmt_loop(older_than = '20160728_085000', newer_than = '20160727_170500')"
   ]
  },
  {
   "cell_type": "code",
   "execution_count": null,
   "metadata": {
    "collapsed": false,
    "scrolled": true
   },
   "outputs": [],
   "source": [
    "### plot the magnetic field data\n",
    "reload(mfp)\n",
    "fit_result = mfp.plot_meas_B_loop()"
   ]
  },
  {
   "cell_type": "code",
   "execution_count": null,
   "metadata": {
    "collapsed": true
   },
   "outputs": [],
   "source": [
    "## data starts at 20160727_090059\n",
    "### first load the magnetic field data\n",
    "reload(mf)\n",
    "mf.fit_B_msmt_loop(older_than = '20160728_224600', newer_than = '20160728_100000')"
   ]
  },
  {
   "cell_type": "code",
   "execution_count": null,
   "metadata": {
    "collapsed": true
   },
   "outputs": [],
   "source": [
    "reload(mf)\n",
    "mf.plot_meas_B_loop()"
   ]
  },
  {
   "cell_type": "code",
   "execution_count": null,
   "metadata": {
    "collapsed": true
   },
   "outputs": [],
   "source": [
    "## data starts at 20160727_090059\n",
    "### first load the magnetic field data\n",
    "reload(mfp)\n",
    "mfp.fit_B_msmt_loop(older_than = '20160729_214000', newer_than = '20160729_195000')"
   ]
  },
  {
   "cell_type": "code",
   "execution_count": null,
   "metadata": {
    "collapsed": true
   },
   "outputs": [],
   "source": [
    "### plot the magnetic field data\n",
    "reload(mfp)\n",
    "fit_result = mfp.plot_meas_B_loop()"
   ]
  },
  {
   "cell_type": "code",
   "execution_count": null,
   "metadata": {
    "collapsed": false
   },
   "outputs": [],
   "source": [
    "## data starts at 20160727_090059\n",
    "### first load the magnetic field data\n",
    "reload(mfp)\n",
    "mfp.fit_B_msmt_loop(older_than = '20160729_232900', newer_than = '20160729_220000')"
   ]
  },
  {
   "cell_type": "code",
   "execution_count": null,
   "metadata": {
    "collapsed": false,
    "scrolled": true
   },
   "outputs": [],
   "source": [
    "### plot the magnetic field data\n",
    "reload(mfp)\n",
    "fit_result = mfp.plot_meas_B_loop()"
   ]
  },
  {
   "cell_type": "code",
   "execution_count": null,
   "metadata": {
    "collapsed": true
   },
   "outputs": [],
   "source": [
    "## data starts at 20160727_090059\n",
    "### first load the magnetic field data\n",
    "reload(mfp)\n",
    "mfp.fit_B_msmt_loop(older_than = '20160730_012900', newer_than = '20160729_235000')"
   ]
  },
  {
   "cell_type": "code",
   "execution_count": null,
   "metadata": {
    "collapsed": false
   },
   "outputs": [],
   "source": [
    "### plot the magnetic field data\n",
    "reload(mfp)\n",
    "fit_result = mfp.plot_meas_B_loop()\n"
   ]
  },
  {
   "cell_type": "code",
   "execution_count": null,
   "metadata": {
    "collapsed": true
   },
   "outputs": [],
   "source": [
    "## data starts at 20160727_090059\n",
    "### first load the magnetic field data\n",
    "reload(mfp)\n",
    "mfp.fit_B_msmt_loop(older_than = '20160731_121000', newer_than = '20160731_091000')\n",
    "#step 1 micro meter, and BL set to 0.005"
   ]
  },
  {
   "cell_type": "code",
   "execution_count": null,
   "metadata": {
    "collapsed": true
   },
   "outputs": [],
   "source": [
    "### plot the magnetic field data\n",
    "reload(mfp)\n",
    "fit_result = mfp.plot_meas_B_loop(step=1)\n",
    "#step 1 micro meter, and BL set to 0.005"
   ]
  },
  {
   "cell_type": "code",
   "execution_count": null,
   "metadata": {
    "collapsed": false
   },
   "outputs": [],
   "source": [
    "## data starts at 20160727_090059\n",
    "### first load the magnetic field data\n",
    "reload(mfp)\n",
    "mfp.fit_B_msmt_loop(older_than = '20160731_141000', newer_than = '20160731_122500')\n",
    "#step 1 micro meter, and BL set to 0.0495"
   ]
  },
  {
   "cell_type": "code",
   "execution_count": null,
   "metadata": {
    "collapsed": false,
    "scrolled": true
   },
   "outputs": [],
   "source": [
    "### plot the magnetic field data\n",
    "reload(mfp)\n",
    "fit_result = mfp.plot_meas_B_loop(step=1)\n",
    "#step 1 micro meter, and BL set to 0.00495"
   ]
  },
  {
   "cell_type": "code",
   "execution_count": null,
   "metadata": {
    "collapsed": false
   },
   "outputs": [],
   "source": [
    "## data starts at 20160727_090059\n",
    "### first load the magnetic field data\n",
    "reload(mfp)\n",
    "mfp.fit_B_msmt_loop(older_than = '20160731_182000', newer_than = '20160731_152000')\n",
    "#step 0.6 micro meter, and BL set to 0.00495"
   ]
  },
  {
   "cell_type": "code",
   "execution_count": null,
   "metadata": {
    "collapsed": false
   },
   "outputs": [],
   "source": [
    "### plot the magnetic field data\n",
    "reload(mfp)\n",
    "fit_result = mfp.plot_meas_B_loop(step=0.6)\n",
    "#step 0.6 micro meter, and BL set to 0.00495"
   ]
  },
  {
   "cell_type": "code",
   "execution_count": null,
   "metadata": {
    "collapsed": true
   },
   "outputs": [],
   "source": [
    "## data starts at 20160727_090059\n",
    "### first load the magnetic field data\n",
    "reload(mfp)\n",
    "mfp.fit_B_msmt_loop(older_than = '20160731_205300', newer_than = '20160731_183000')\n",
    "#step 0.3 micro meter, and BL set to 0.0495"
   ]
  },
  {
   "cell_type": "code",
   "execution_count": null,
   "metadata": {
    "collapsed": false
   },
   "outputs": [],
   "source": [
    "### plot the magnetic field data\n",
    "reload(mfp)\n",
    "fit_result = mfp.plot_meas_B_loop(step=0.3)\n",
    "#step 0.3 micro meter, and BL set to 0.00495"
   ]
  },
  {
   "cell_type": "code",
   "execution_count": null,
   "metadata": {
    "collapsed": false
   },
   "outputs": [],
   "source": [
    "## data starts at 20160727_090059\n",
    "### first load the magnetic field data\n",
    "reload(mfp)\n",
    "mfp.fit_B_msmt_loop(older_than = '20160731_224700', newer_than = '20160731_210500')\n",
    "#step 0.2 micro meter, and BL set to 0.00495"
   ]
  },
  {
   "cell_type": "code",
   "execution_count": null,
   "metadata": {
    "collapsed": false
   },
   "outputs": [],
   "source": [
    "### plot the magnetic field data\n",
    "reload(mfp)\n",
    "fit_result = mfp.plot_meas_B_loop()\n",
    "#step 0.2 micro meter, and BL set to 0.0495"
   ]
  },
  {
   "cell_type": "code",
   "execution_count": null,
   "metadata": {
    "collapsed": false
   },
   "outputs": [],
   "source": [
    "### first load the magnetic field data\n",
    "reload(mfp)\n",
    "mfp.fit_B_msmt_loop(older_than = '20160801_005000', newer_than = '20160731_225000')\n",
    "#step 0.1 micro meter, and BL set to 0.00495"
   ]
  },
  {
   "cell_type": "code",
   "execution_count": null,
   "metadata": {
    "collapsed": true
   },
   "outputs": [],
   "source": [
    "### plot the magnetic field data\n",
    "reload(mfp)\n",
    "fit_result = mfp.plot_meas_B_loop(step=0.1)\n",
    "#step 0.1 micro meter, and BL set to 0.0495"
   ]
  },
  {
   "cell_type": "code",
   "execution_count": null,
   "metadata": {
    "collapsed": true
   },
   "outputs": [],
   "source": [
    "### first load the magnetic field data\n",
    "reload(mfp)\n",
    "mfp.fit_B_msmt_loop(older_than = '20160801_120500', newer_than = '20160801_082000')\n",
    "#step 0.1 micro meter, and BL set to 0.00495, more fine steps"
   ]
  },
  {
   "cell_type": "code",
   "execution_count": null,
   "metadata": {
    "collapsed": false,
    "scrolled": true
   },
   "outputs": [],
   "source": [
    "### plot the magnetic field data\n",
    "reload(mfp)\n",
    "fit_result = mfp.plot_meas_B_loop(step=0.1)\n",
    "#step 0.1 micro meter, and BL set to 0.0495, more fine steps"
   ]
  },
  {
   "cell_type": "code",
   "execution_count": null,
   "metadata": {
    "collapsed": true
   },
   "outputs": [],
   "source": [
    "## data starts at 20160727_090059\n",
    "### first load the magnetic field data\n",
    "reload(mfp)\n",
    "mfp.fit_B_msmt_loop(older_than = '20160801_151600', newer_than = '20160801_120500')\n",
    "#step 0.1 micro meter, and BL set to 0.004897 (get the exact value), more fine steps"
   ]
  },
  {
   "cell_type": "code",
   "execution_count": null,
   "metadata": {
    "collapsed": true
   },
   "outputs": [],
   "source": [
    "### plot the magnetic field data\n",
    "reload(mfp)\n",
    "fit_result = mfp.plot_meas_B_loop(step=0.1)\n",
    "#step 0.1 micro meter, and BL set to 0.004897, more fine steps"
   ]
  },
  {
   "cell_type": "code",
   "execution_count": null,
   "metadata": {
    "collapsed": true
   },
   "outputs": [],
   "source": []
  }
 ],
 "metadata": {
  "kernelspec": {
   "display_name": "Python 2",
   "language": "python",
   "name": "python2"
  },
  "language_info": {
   "codemirror_mode": {
    "name": "ipython",
    "version": 2
   },
   "file_extension": ".py",
   "mimetype": "text/x-python",
   "name": "python",
   "nbconvert_exporter": "python",
   "pygments_lexer": "ipython2",
   "version": "2.7.10"
  }
 },
 "nbformat": 4,
 "nbformat_minor": 0
}
