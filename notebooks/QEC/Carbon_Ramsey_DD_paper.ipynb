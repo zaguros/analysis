{
 "cells": [
  {
   "cell_type": "code",
   "execution_count": null,
   "metadata": {
    "collapsed": false
   },
   "outputs": [],
   "source": [
    "%matplotlib inline\n",
    "\n",
    "import sys\n",
    "sys.path.append(r'D:/measuring')\n",
    "import numpy as np\n",
    "from analysis.scripts.QEC import carbon_ramsey_analysis as cr\n",
    "from analysis.scripts.QEC import cosine_sum_multiple_timestamps as cs\n",
    "reload(cs)\n",
    "import matplotlib as matplotlib\n",
    "font = {'family' : 'sanserif',\n",
    "        'weight' : 'normal',\n",
    "        'size'   : 12}\n",
    "\n",
    "matplotlib.rc('font', **font)"
   ]
  },
  {
   "cell_type": "code",
   "execution_count": null,
   "metadata": {
    "collapsed": false
   },
   "outputs": [],
   "source": [
    "# carbon 1\n",
    "reload(cr)\n",
    "Result=cr.Carbon_Ramsey(timestamp='20150616_195615',ssro_calib_timestamp='20150617_085514',frequency =300e-3, offset = 0.5, amplitude = 0.4,exponent=2,  \n",
    "                        decay_constant =10,phase =181.6, plot_fit = True, show_guess = True,fixed = [2], do_print = True,color='m',x_ticks=np.arange(0,4,1),title='c_1_mso')"
   ]
  },
  {
   "cell_type": "code",
   "execution_count": null,
   "metadata": {
    "collapsed": false
   },
   "outputs": [],
   "source": [
    "reload(cs);\n",
    "Result=cs.CosineSum_MBI_data(timestamp='55', c=1,t=10,new_tsmp = '20150616_194400',old_tsmp = '20150616_195700',ssro_calib_timestamp='20150616_150310',two_cos=False,\n",
    "                             x_ticks=np.arange(0,100,5), y_ticks=np.arange(0.0,1.1,0.5),color='g',title='Carbon_1_ms_0',\n",
    "                             frequency = [270e-3,220e-3], \n",
    "                             offset =0.5, \n",
    "                             amplitude =[0.4,0.068],  \n",
    "                             phase =[0,180], \n",
    "                             fixed = [0,2], \n",
    "                             xlim=22,\n",
    "                             plot_fit = True, do_print = True, show_guess = True)"
   ]
  },
  {
   "cell_type": "code",
   "execution_count": null,
   "metadata": {
    "collapsed": false
   },
   "outputs": [],
   "source": [
    "reload(cs);\n",
    "Result=cs.CosineSum_MBI_data(timestamp='55', c=1,t=10,new_tsmp = '20150616_202200',old_tsmp = '20150616_203200',ssro_calib_timestamp='20150616_150310',two_cos=False,\n",
    "                             x_ticks=np.arange(0,100,5), y_ticks=np.arange(0.0,1.1,0.5),color='g',title='Carbon_1_ms_1',\n",
    "                             frequency = [270e-3,220e-3], \n",
    "                             offset =0.5, \n",
    "                             amplitude =[0.4,0.068],  \n",
    "                             phase =[0,180], \n",
    "                             fixed = [0,2], \n",
    "                             xlim=22,\n",
    "                             plot_fit = True, do_print = True, show_guess = True)"
   ]
  },
  {
   "cell_type": "code",
   "execution_count": null,
   "metadata": {
    "collapsed": false
   },
   "outputs": [],
   "source": [
    "reload(cs);\n",
    "Result=cs.CosineSum_MBI_data(timestamp='55', c=1,t=10,new_tsmp ='20150616_183112' ,old_tsmp = '20150616_184512',ssro_calib_timestamp='20150616_150310',two_cos=False,\n",
    "                             x_ticks=np.arange(0,100,5), y_ticks=np.arange(0.0,1.1,0.5),color='g',title='Carbon_2_ms_0',\n",
    "                             frequency = [270e-3,220e-3], \n",
    "                             offset =0.5, \n",
    "                             amplitude =[0.4,0.068],  \n",
    "                             phase =[0,180], \n",
    "                             fixed = [0,2], \n",
    "                             xlim=22,\n",
    "                             plot_fit = True, do_print = True, show_guess = True)"
   ]
  },
  {
   "cell_type": "code",
   "execution_count": null,
   "metadata": {
    "collapsed": false
   },
   "outputs": [],
   "source": [
    "reload(cs);\n",
    "Result=cs.CosineSum_MBI_data(timestamp='55', c=1,t=10,new_tsmp ='20150616_190412' ,old_tsmp = '20150616_192212',ssro_calib_timestamp='20150616_150310',two_cos=False,\n",
    "                             x_ticks=np.arange(0,100,5), y_ticks=np.arange(0.0,1.1,0.5),color='g',title='Carbon_2_ms_1',\n",
    "                             frequency = [270e-3,220e-3], \n",
    "                             offset =0.5, \n",
    "                             amplitude =[0.4,0.068],  \n",
    "                             phase =[0,180], \n",
    "                             fixed = [0,2], \n",
    "                             xlim=22,\n",
    "                             plot_fit = True, do_print = True, show_guess = True)"
   ]
  },
  {
   "cell_type": "code",
   "execution_count": null,
   "metadata": {
    "collapsed": false
   },
   "outputs": [],
   "source": [
    "reload(cs);\n",
    "Result=cs.CosineSum_MBI_data(timestamp='55', c=1,t=10,new_tsmp ='20150616_161012' ,old_tsmp = '20150616_162212',ssro_calib_timestamp='20150616_150310',two_cos=False,\n",
    "                             x_ticks=np.arange(0,100,2), y_ticks=np.arange(0.0,1.1,0.5),color='g',title='Carbon_3_ms_0',\n",
    "                             frequency = [570e-3,220e-3], \n",
    "                             offset =0.5, \n",
    "                             amplitude =[0.4,0.068],  \n",
    "                             phase =[0,180], \n",
    "                             fixed = [0,2], \n",
    "                             xlim=12,\n",
    "                             plot_fit = True, do_print = True, show_guess = True)"
   ]
  },
  {
   "cell_type": "code",
   "execution_count": null,
   "metadata": {
    "collapsed": false
   },
   "outputs": [],
   "source": [
    "reload(cs);\n",
    "Result=cs.CosineSum_MBI_data(timestamp='55', c=1,t=10,new_tsmp ='20150616_164012' ,old_tsmp = '20150616_165212',ssro_calib_timestamp='20150616_150310',two_cos=False,\n",
    "                             x_ticks=np.arange(0,100,2), y_ticks=np.arange(0.0,1.1,0.5),color='g',title='Carbon_3_ms_1',\n",
    "                             frequency = [570e-3,220e-3], \n",
    "                             offset =0.5, \n",
    "                             amplitude =[0.4,0.068],  \n",
    "                             phase =[0,180], \n",
    "                             fixed = [0,2], \n",
    "                             xlim=12,\n",
    "                             plot_fit = True, do_print = True, show_guess = True)"
   ]
  },
  {
   "cell_type": "code",
   "execution_count": null,
   "metadata": {
    "collapsed": false,
    "scrolled": true
   },
   "outputs": [],
   "source": [
    "reload(cs);\n",
    "Result=cs.CosineSum_MBI_data(timestamp='55', c=1,t=32,new_tsmp ='20150616_170712' ,old_tsmp = '20150616_172212',ssro_calib_timestamp='20150616_150310',two_cos=False,\n",
    "                             x_ticks=np.arange(0,100,5), y_ticks=np.arange(0.0,1.1,0.5),color='g',title='Carbon_5_ms_0',\n",
    "                             frequency = [200e-3,220e-3], \n",
    "                             offset =0.5, \n",
    "                             amplitude =[0.4,0.068],  \n",
    "                             phase =[0,180], \n",
    "                             fixed = [0,2], \n",
    "                             xlim=32,\n",
    "                             plot_fit = True, do_print = True, show_guess = True)"
   ]
  },
  {
   "cell_type": "code",
   "execution_count": null,
   "metadata": {
    "collapsed": false,
    "scrolled": true
   },
   "outputs": [],
   "source": [
    "reload(cs);\n",
    "Result=cs.CosineSum_MBI_data(timestamp='55', c=1,t=32,new_tsmp ='20150616_175212' ,old_tsmp = '20150616_180512',ssro_calib_timestamp='20150616_150310',two_cos=False,\n",
    "                             x_ticks=np.arange(0,100,5), y_ticks=np.arange(0.0,1.1,0.5),color='g',title='Carbon_5_ms_1',\n",
    "                             frequency = [200e-3,220e-3], \n",
    "                             offset =0.5, \n",
    "                             amplitude =[0.4,0.068],  \n",
    "                             phase =[0,180], \n",
    "                             fixed = [0,2], \n",
    "                             xlim=32,\n",
    "                             plot_fit = True, do_print = True, show_guess = True)"
   ]
  },
  {
   "cell_type": "code",
   "execution_count": null,
   "metadata": {
    "collapsed": false
   },
   "outputs": [],
   "source": [
    "reload(cs);\n",
    "Result=cs.CosineSum_MBI_data(timestamp='55', c=1,t=32,new_tsmp ='20150616_154012' ,old_tsmp = '20150616_155112',ssro_calib_timestamp='20150616_150310',two_cos=False,\n",
    "                             x_ticks=np.arange(0,100,2), y_ticks=np.arange(0.0,1.1,0.5),color='g',title='Carbon_6_ms_1',\n",
    "                             frequency = [800e-3,220e-3], \n",
    "                             offset =0.5, \n",
    "                             amplitude =[0.3,0.068],  \n",
    "                             phase =[0,180], \n",
    "                             fixed = [0,2], \n",
    "                             xlim=9,\n",
    "                             plot_fit = True, do_print = True, show_guess = True)"
   ]
  },
  {
   "cell_type": "code",
   "execution_count": null,
   "metadata": {
    "collapsed": false
   },
   "outputs": [],
   "source": [
    "reload(cs);\n",
    "Result=cs.CosineSum_MBI_data(timestamp='55', c=1,t=32,new_tsmp ='20150616_150512' ,old_tsmp = '20150616_151812',ssro_calib_timestamp='20150616_150310',two_cos=False,\n",
    "                             x_ticks=np.arange(0,100,2), y_ticks=np.arange(0.0,1.1,0.5),color='g',title='Carbon_6_ms_0',\n",
    "                             frequency = [800e-3,220e-3], \n",
    "                             offset =0.5, \n",
    "                             amplitude =[0.3,0.068],  \n",
    "                             phase =[0,180], \n",
    "                             fixed = [0,2], \n",
    "                             xlim=9,\n",
    "                             plot_fit = True, do_print = True, show_guess = True)"
   ]
  },
  {
   "cell_type": "code",
   "execution_count": null,
   "metadata": {
    "collapsed": false
   },
   "outputs": [],
   "source": [
    "reload(cs);\n",
    "Result=cs.CosineSum_MBI_data(timestamp='55', c=1,t=32,new_tsmp ='20160405_140312' ,old_tsmp = '20160405_140512',ssro_calib_timestamp='20150616_150310',two_cos=False,\n",
    "                             x_ticks=np.arange(0,100,2), y_ticks=np.arange(0.0,1.1,0.5),color='g',title='Carbon_4_ms_0',\n",
    "                             frequency = [250e-3,220e-3], \n",
    "                             offset =0.5, \n",
    "                             amplitude =[0.3,0.068],  \n",
    "                             phase =[0,180], \n",
    "                             fixed = [0,2], \n",
    "                             xlim=18,\n",
    "                             plot_fit = True, do_print = True, show_guess = True)"
   ]
  },
  {
   "cell_type": "code",
   "execution_count": null,
   "metadata": {
    "collapsed": false
   },
   "outputs": [],
   "source": [
    "reload(cs);\n",
    "Result=cs.CosineSum_MBI_data(timestamp='55', c=1,t=32,new_tsmp ='20160405_155012' ,old_tsmp = '20160405_155120',ssro_calib_timestamp='20150616_150310',two_cos=False,\n",
    "                             x_ticks=np.arange(0,100,2), y_ticks=np.arange(0.0,1.1,0.5),color='g',title='Carbon_4_ms_1',\n",
    "                             frequency = [250e-3,220e-3], \n",
    "                             offset =0.5, \n",
    "                             amplitude =[0.37,0.068],  \n",
    "                             phase =[0,180], \n",
    "                             fixed = [0,2], \n",
    "                             xlim=18,\n",
    "                             plot_fit = True, do_print = True, show_guess = True)"
   ]
  },
  {
   "cell_type": "code",
   "execution_count": null,
   "metadata": {
    "collapsed": false
   },
   "outputs": [],
   "source": [
    "reload(cs);\n",
    "Result=cs.CosineSum_MBI_data(timestamp='55', c=1,t=5,new_tsmp ='20160405_230600' ,old_tsmp = '20160405_230800',ssro_calib_timestamp='20150616_150310',two_cos=False,\n",
    "                             x_ticks=np.arange(0,100,2), y_ticks=np.arange(0.0,1.1,0.5),color='g',title='Carbon_7_ms_1',\n",
    "                             frequency = [250e-3,220e-3], \n",
    "                             offset =0.5, \n",
    "                             amplitude =[0.3,0.068],  \n",
    "                             phase =[0,180], \n",
    "                             fixed = [0,2], \n",
    "                             xlim=10.5,\n",
    "                             plot_fit = True, do_print = True, show_guess = True)"
   ]
  },
  {
   "cell_type": "code",
   "execution_count": null,
   "metadata": {
    "collapsed": false
   },
   "outputs": [],
   "source": [
    "reload(cs);\n",
    "Result=cs.CosineSum_MBI_data(timestamp='55', c=1,t=5,new_tsmp ='20160405_222000' ,old_tsmp = '20160405_222100',ssro_calib_timestamp='20150616_150310',two_cos=False,\n",
    "                             x_ticks=np.arange(0,100,2), y_ticks=np.arange(0.0,1.1,0.5),color='g',title='Carbon_7_ms_0',\n",
    "                             frequency = [250e-3,220e-3], \n",
    "                             offset =0.5, \n",
    "                             amplitude =[0.3,0.068],  \n",
    "                             phase =[0,180], \n",
    "                             fixed = [0,2], \n",
    "                             xlim=10.5,\n",
    "                             plot_fit = True, do_print = True, show_guess = True)"
   ]
  },
  {
   "cell_type": "code",
   "execution_count": null,
   "metadata": {
    "collapsed": true
   },
   "outputs": [],
   "source": []
  }
 ],
 "metadata": {
  "kernelspec": {
   "display_name": "Python 2",
   "language": "python",
   "name": "python2"
  },
  "language_info": {
   "codemirror_mode": {
    "name": "ipython",
    "version": 2
   },
   "file_extension": ".py",
   "mimetype": "text/x-python",
   "name": "python",
   "nbconvert_exporter": "python",
   "pygments_lexer": "ipython2",
   "version": "2.7.10"
  }
 },
 "nbformat": 4,
 "nbformat_minor": 0
}
