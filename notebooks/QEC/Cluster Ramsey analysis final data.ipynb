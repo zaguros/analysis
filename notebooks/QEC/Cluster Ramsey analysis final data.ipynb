{
 "cells": [
  {
   "cell_type": "code",
   "execution_count": null,
   "metadata": {
    "collapsed": false
   },
   "outputs": [],
   "source": [
    "%matplotlib inline\n",
    "\n",
    "import sys\n",
    "sys.path.append(r'D:/measuring')\n",
    "import numpy as np\n",
    "from analysis.scripts.QEC import Ramsey_cluster_analysis_final_data as cr\n",
    "from analysis.scripts.QEC import cosine_sum_multiple_timestamps as cs\n",
    "reload(cs)\n",
    "import matplotlib as matplotlib\n",
    "font = {'family' : 'normal',\n",
    "        'weight' : 'normal',\n",
    "        'size'   : 20}\n",
    "\n",
    "matplotlib.rc('font', **font)"
   ]
  },
  {
   "cell_type": "code",
   "execution_count": null,
   "metadata": {
    "collapsed": true
   },
   "outputs": [],
   "source": [
    "# cluster 1 # 63 us #ms-1 #deuning 2000 Hz - freq:7900\n",
    "reload(cr)\n",
    "Result=cr.Carbon_Ramsey(timestamp='20170605_150932',frequency =2000e-3, offset = 0.5, amplitude = 0.2,exponent=2,  \n",
    "                        decay_constant =4,phase =181.6, plot_fit = True, show_guess = False,fixed = [2,4], do_print = True,color='m')"
   ]
  },
  {
   "cell_type": "code",
   "execution_count": null,
   "metadata": {
    "collapsed": true
   },
   "outputs": [],
   "source": [
    "#cluster 1 # 63 us #ms0\n",
    "reload(cr);\n",
    "Result=cr.Carbon_Ramsey(timestamp='20170518_145218',frequency =200e-3, offset = 0.5, amplitude = 0.2,exponent=2,decay_constant =4,phase =181.6, plot_fit = True, show_guess = False,fixed = [2,6,4], do_print = True,color='b')"
   ]
  },
  {
   "cell_type": "code",
   "execution_count": null,
   "metadata": {
    "collapsed": true
   },
   "outputs": [],
   "source": [
    "# cluster 2 # 76 us #ms-1 #deuning 2000 Hz - freq:7900\n",
    "reload(cr)\n",
    "Result=cr.Carbon_Ramsey(timestamp='20170605_153538',frequency =2000e-3, offset = 0.5, amplitude = 0.2,exponent=2,  \n",
    "                        decay_constant =4,phase =181.6, plot_fit = True, show_guess = False,fixed = [2,4], do_print = True,color='c')"
   ]
  },
  {
   "cell_type": "code",
   "execution_count": null,
   "metadata": {
    "collapsed": true
   },
   "outputs": [],
   "source": [
    "# cluster 2 # 76 us #ms0 \n",
    "reload(cr)\n",
    "Result=cr.Carbon_Ramsey(timestamp='20170527_190950',frequency =200e-3, offset = 0.5, amplitude = 0.2,exponent=2,  \n",
    "                        decay_constant =4,phase =181.6, plot_fit = True, show_guess = False,fixed = [2,6,4], do_print = True,color='m')"
   ]
  },
  {
   "cell_type": "code",
   "execution_count": null,
   "metadata": {
    "collapsed": true
   },
   "outputs": [],
   "source": [
    "# cluster 3 # 111 us #ms-1 \n",
    "reload(cr)\n",
    "Result=cr.Carbon_Ramsey(timestamp='20170523_180457',frequency =4000e-3, offset = 0.5, amplitude = 0.2,exponent=2,  \n",
    "                        decay_constant =20,phase =181.6, plot_fit = True, show_guess = False,fixed = [2,4], do_print = True,color='darkred')"
   ]
  },
  {
   "cell_type": "code",
   "execution_count": null,
   "metadata": {
    "collapsed": true
   },
   "outputs": [],
   "source": [
    "# cluster 3 # 111 us #ms0 \n",
    "reload(cr)\n",
    "Result=cr.Carbon_Ramsey(timestamp='20170608_151357',frequency =80e-3, offset = 0.5, amplitude = 0.2,exponent=2,  \n",
    "                        decay_constant =20,phase =181.6, plot_fit = True, show_guess = False,fixed = [2,6,4], do_print = True,color='darkred')"
   ]
  },
  {
   "cell_type": "code",
   "execution_count": null,
   "metadata": {
    "collapsed": true
   },
   "outputs": [],
   "source": [
    "# cluster 4 # 122 us #ms-1 #deuning 20 Hz - freq:2084.6\n",
    "reload(cr)\n",
    "Result=cr.Carbon_Ramsey(timestamp='20170605_160009',frequency =20e-3, offset = 0.5, amplitude = 0.2,exponent=2,  \n",
    "                        decay_constant =200,phase =181.6, plot_fit = True, show_guess = False,fixed = [2,4], do_print = True,color='b')"
   ]
  },
  {
   "cell_type": "code",
   "execution_count": null,
   "metadata": {
    "collapsed": true
   },
   "outputs": [],
   "source": [
    "# cluster 4 # 122 us #ms0 #deuning 50 Hz - freq:2082\n",
    "reload(cr)\n",
    "Result=cr.Carbon_Ramsey(timestamp='20170605_165036',frequency =20e-3, offset = 0.5, amplitude = 0.2,exponent=2,  \n",
    "                        decay_constant =200,phase =181.6, plot_fit = True, show_guess = False,fixed = [2,4], do_print = True,color='g')"
   ]
  },
  {
   "cell_type": "code",
   "execution_count": null,
   "metadata": {
    "collapsed": false
   },
   "outputs": [],
   "source": [
    "# cluster 5 # 165 us #ms-1 #deuning 300 Hz - freq:2816\n",
    "reload(cr)\n",
    "Result=cr.Carbon_Ramsey(timestamp='20170605_180810',frequency =300e-3, offset = 0.5, amplitude = 0.2,exponent=2,  \n",
    "                        decay_constant =20,phase =181.6, plot_fit = True, show_guess = False,fixed = [2,4], do_print = True,color='brown')"
   ]
  },
  {
   "cell_type": "code",
   "execution_count": null,
   "metadata": {
    "collapsed": true
   },
   "outputs": [],
   "source": [
    "# cluster 5 # 165 us #ms0  - \n",
    "reload(cr)\n",
    "Result=cr.Carbon_Ramsey(timestamp='20170526_192831',frequency =188e-3, offset = 0.5, amplitude = 0.2,exponent=2,  \n",
    "                        decay_constant =200,phase =180, plot_fit = True, show_guess = False,fixed = [2,6,4], do_print = True,color='darkred')"
   ]
  },
  {
   "cell_type": "code",
   "execution_count": null,
   "metadata": {
    "collapsed": true
   },
   "outputs": [],
   "source": [
    "# cluster 6 # 260 us #ms0  - \n",
    "reload(cr)\n",
    "Result=cr.Carbon_Ramsey(timestamp='20170606_045910',frequency =188e-3, offset = 0.5, amplitude = 0.2,exponent=2,  \n",
    "                        decay_constant =5,phase =180, plot_fit = True, show_guess = False,fixed = [2,6,4], do_print = True,color='darkred')"
   ]
  },
  {
   "cell_type": "code",
   "execution_count": null,
   "metadata": {
    "collapsed": true
   },
   "outputs": [],
   "source": [
    "# cluster 6 # 260 us #ms0  - \n",
    "reload(cr)\n",
    "Result=cr.Carbon_Ramsey(timestamp='20170606_143514',frequency =300e-3, offset = 0.5, amplitude = 0.2,exponent=2,  \n",
    "                        decay_constant =5,phase =180, plot_fit = True, show_guess = False,fixed = [2,4], do_print = True,color='darkred')"
   ]
  },
  {
   "cell_type": "code",
   "execution_count": null,
   "metadata": {
    "collapsed": true
   },
   "outputs": [],
   "source": [
    "reload(cs);\n",
    "Result=cs.CosineSum_MBI_data(timestamp='55', c=1,t=80,\n",
    "                             frequency = [250e-3,270e-3], \n",
    "                             offset =0.5, \n",
    "                             amplitude =[0.5,0.005],  \n",
    "                             phase =[0,180], \n",
    "                             fixed = [1,5], \n",
    "                             xlim=None,\n",
    "                             plot_fit = True, do_print = True, show_guess = False)"
   ]
  },
  {
   "cell_type": "code",
   "execution_count": null,
   "metadata": {
    "collapsed": false,
    "scrolled": false
   },
   "outputs": [],
   "source": [
    "reload(cs);\n",
    "Result=cs.CosineSum_MBI_data(timestamp='55', c=1,t=900,\n",
    "                             frequency = [188e-3,260e-3], \n",
    "                             offset =0.5, \n",
    "                             amplitude =[0.1,0.2],  \n",
    "                             phase =[180,180], \n",
    "                             fixed = [2,6,4], \n",
    "                             xlim=None,\n",
    "                             plot_fit = True, do_print = True, show_guess = False)"
   ]
  },
  {
   "cell_type": "code",
   "execution_count": null,
   "metadata": {
    "collapsed": false
   },
   "outputs": [],
   "source": [
    "reload(cs);\n",
    "Result=cs.CosineSum_MBI_data(timestamp='55', c=1,t=14,\n",
    "                             frequency = [8000e-3,7900e-3], \n",
    "                             offset =0.5, \n",
    "                             amplitude =[0.16,0.2],  \n",
    "                             phase =[180,180], \n",
    "                             fixed = [1,5], \n",
    "                             xlim=None,\n",
    "                             plot_fit = True, do_print = True, show_guess = False)"
   ]
  },
  {
   "cell_type": "code",
   "execution_count": null,
   "metadata": {
    "collapsed": false
   },
   "outputs": [],
   "source": [
    "reload(cs);\n",
    "Result=cs.CosineSum_MBI_data(timestamp='55', c=1,t=14,\n",
    "                             frequency = [80000e-3,79000e-3], \n",
    "                             offset =0.5, \n",
    "                             amplitude =[0.16,0.2],  \n",
    "                             phase =[180,180], \n",
    "                             fixed = [1,5], \n",
    "                             xlim=None,\n",
    "                             plot_fit = True, do_print = True, show_guess = False)"
   ]
  },
  {
   "cell_type": "code",
   "execution_count": null,
   "metadata": {
    "collapsed": true
   },
   "outputs": [],
   "source": []
  }
 ],
 "metadata": {
  "kernelspec": {
   "display_name": "Python 2",
   "language": "python",
   "name": "python2"
  },
  "language_info": {
   "codemirror_mode": {
    "name": "ipython",
    "version": 2
   },
   "file_extension": ".py",
   "mimetype": "text/x-python",
   "name": "python",
   "nbconvert_exporter": "python",
   "pygments_lexer": "ipython2",
   "version": "2.7.10"
  }
 },
 "nbformat": 4,
 "nbformat_minor": 0
}
