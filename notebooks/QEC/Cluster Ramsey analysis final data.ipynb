{
 "cells": [
  {
   "cell_type": "code",
   "execution_count": null,
   "metadata": {
    "collapsed": false
   },
   "outputs": [],
   "source": [
    "%matplotlib inline\n",
    "\n",
    "import sys\n",
    "sys.path.append(r'D:/measuring')\n",
    "import numpy as np\n",
    "from analysis.scripts.QEC import Ramsey_cluster_analysis_final_data as cr\n",
    "from analysis.scripts.QEC import cosine_sum_multiple_timestamps as cs\n",
    "from analysis.scripts.QEC import Cluster_6_one_second_coherence_analysis as cs_one_second\n",
    "reload(cs)\n",
    "reload(cs_one_second)\n",
    "import matplotlib as matplotlib\n",
    "font = {'family' : 'sanserif',\n",
    "        'weight' : 'normal',\n",
    "        'size'   : 12}\n",
    "\n",
    "matplotlib.rc('font', **font)"
   ]
  },
  {
   "cell_type": "code",
   "execution_count": null,
   "metadata": {
    "collapsed": false,
    "scrolled": true
   },
   "outputs": [],
   "source": [
    "# cluster 1 # 63 us #ms-1 #deuning 2000 Hz - freq:7900\n",
    "reload(cr)\n",
    "Result=cr.Carbon_Ramsey(timestamp='20170605_150932',frequency =2000e-3, offset = 0.5, amplitude = 0.2,exponent=2,  \n",
    "                        decay_constant =4,phase =181.6, plot_fit = True, show_guess = False,fixed = [2,4], do_print = True,color='m',x_ticks=np.arange(0,4,1),title='cluster_1_ms_m1')"
   ]
  },
  {
   "cell_type": "code",
   "execution_count": null,
   "metadata": {
    "collapsed": false
   },
   "outputs": [],
   "source": [
    "#cluster 1 # 63 us #ms0\n",
    "reload(cr);\n",
    "Result=cr.Carbon_Ramsey(timestamp='20170518_145218',frequency =200e-3, offset = 0.5, amplitude = 0.2,exponent=2,decay_constant =4,phase =181.6, plot_fit = True, show_guess = False,fixed = [2,6,4], do_print = True,color='b')"
   ]
  },
  {
   "cell_type": "code",
   "execution_count": null,
   "metadata": {
    "collapsed": false,
    "scrolled": true
   },
   "outputs": [],
   "source": [
    "#cluster 1 # 63 us #ms0\n",
    "reload(cs);\n",
    "Result=cs.CosineSum_MBI_data(timestamp='55', c=1,t=40,new_tsmp = '20170611_165140',old_tsmp = '20170611_235700',two_cos=True,\n",
    "                             x_ticks=np.arange(0,100,10), y_ticks=np.arange(0.2,0.8,0.1),color='m',title='Cluster_1_ms_0',\n",
    "                             frequency = [270e-3,220e-3], \n",
    "                             offset =0.5, \n",
    "                             amplitude =[0.061,0.068],  \n",
    "                             phase =[180,180], \n",
    "                             fixed = [1,5], \n",
    "                             xlim=30,\n",
    "                             plot_fit = True, do_print = True, show_guess = False)"
   ]
  },
  {
   "cell_type": "code",
   "execution_count": null,
   "metadata": {
    "collapsed": false,
    "scrolled": true
   },
   "outputs": [],
   "source": [
    "# cluster 2 # 76 us #ms-1 #deuning 2000 Hz - freq:7900\n",
    "reload(cr)\n",
    "Result=cr.Carbon_Ramsey(timestamp='20170605_153538',frequency =2000e-3, offset = 0.5, amplitude = 0.2,exponent=2,  \n",
    "                        decay_constant =4,phase =181.6, plot_fit = True, show_guess = False,fixed = [2,4], do_print = True,color='g',x_ticks=np.arange(0,4,1),title='cluster_2_ms_m1')"
   ]
  },
  {
   "cell_type": "code",
   "execution_count": null,
   "metadata": {
    "collapsed": true
   },
   "outputs": [],
   "source": [
    "# cluster 2 # 76 us #ms0 \n",
    "reload(cr)\n",
    "Result=cr.Carbon_Ramsey(timestamp='20170527_190950',frequency =200e-3, offset = 0.5, amplitude = 0.2,exponent=2,  \n",
    "                        decay_constant =4,phase =181.6, plot_fit = True, show_guess = False,fixed = [2,6,4], do_print = True,color='m')"
   ]
  },
  {
   "cell_type": "code",
   "execution_count": null,
   "metadata": {
    "collapsed": false,
    "scrolled": true
   },
   "outputs": [],
   "source": [
    "#cluster 2 #  #ms0\n",
    "reload(cs);\n",
    "Result=cs.CosineSum_MBI_data(timestamp='55', c=1,t=40,new_tsmp = '20170612_005000',old_tsmp = '20170612_015800',two_cos=True,\n",
    "                             x_ticks=np.arange(0,100,10), y_ticks=np.arange(0.2,0.8,0.1),color='g',title='Cluster_2_ms_0',\n",
    "                             frequency = [270e-3,220e-3], \n",
    "                             offset =0.5, \n",
    "                             amplitude =[0.061,0.068],  \n",
    "                             phase =[180,180], \n",
    "                             fixed = [1,5], \n",
    "                             xlim=30,\n",
    "                             plot_fit = True, do_print = True, show_guess = False)"
   ]
  },
  {
   "cell_type": "code",
   "execution_count": null,
   "metadata": {
    "collapsed": false,
    "scrolled": true
   },
   "outputs": [],
   "source": [
    "# cluster 3 # 111 us #ms-1 \n",
    "reload(cr)\n",
    "Result=cr.Carbon_Ramsey(timestamp='20170523_180457',frequency =4000e-3, offset = 0.5, amplitude = 0.2,exponent=2,  \n",
    "                        decay_constant =20,phase =181.6, plot_fit = True, show_guess = False,fixed = [2,4], do_print = True,color='g',x_ticks=np.arange(0,4,1),title='cluster_3_ms_m1')"
   ]
  },
  {
   "cell_type": "code",
   "execution_count": null,
   "metadata": {
    "collapsed": false,
    "scrolled": true
   },
   "outputs": [],
   "source": [
    "# cluster 3 # 111 us #ms0 \n",
    "reload(cr)\n",
    "Result=cr.Carbon_Ramsey(timestamp='20170608_151357',frequency =80e-3, offset = 0.5, amplitude = 0.2,exponent=2,  \n",
    "                        decay_constant =20,phase =181.6, plot_fit = True, show_guess = False,fixed = [2,6,4], do_print = True,color='g',x_ticks=np.arange(0,60,10),title='cluster_3_ms_0')"
   ]
  },
  {
   "cell_type": "code",
   "execution_count": null,
   "metadata": {
    "collapsed": false,
    "scrolled": true
   },
   "outputs": [],
   "source": [
    "# cluster 4 # 122 us #ms-1 #deuning 20 Hz - freq:2084.6\n",
    "reload(cr)\n",
    "Result=cr.Carbon_Ramsey(timestamp='20170605_160009',frequency =20e-3, offset = 0.5, amplitude = 0.2,exponent=2,  \n",
    "                        decay_constant =200,phase =181.6, plot_fit = True, show_guess = False,fixed = [2,4], do_print = True,color='b',x_ticks=np.arange(0,300,50),title='cluster_4_ms_m1')"
   ]
  },
  {
   "cell_type": "code",
   "execution_count": null,
   "metadata": {
    "collapsed": false,
    "scrolled": true
   },
   "outputs": [],
   "source": [
    "# cluster 4 # 122 us #ms0 #deuning 50 Hz - freq:2082\n",
    "reload(cr)\n",
    "Result=cr.Carbon_Ramsey(timestamp='20170605_165036',frequency =20e-3, offset = 0.5, amplitude = 0.2,exponent=2,  \n",
    "                        decay_constant =200,phase =181.6, plot_fit = True, show_guess = False,fixed = [2,4], do_print = True,color='b',x_ticks=np.arange(0,100,20),title='cluster_4_ms_0')"
   ]
  },
  {
   "cell_type": "code",
   "execution_count": null,
   "metadata": {
    "collapsed": false,
    "scrolled": false
   },
   "outputs": [],
   "source": [
    "# cluster 5 # 165 us #ms-1 #deuning 300 Hz - freq:2816\n",
    "reload(cr)\n",
    "Result=cr.Carbon_Ramsey(timestamp='20170605_180810',frequency =300e-3, offset = 0.5, amplitude = 0.2,exponent=2,  \n",
    "                        decay_constant =20,phase =181.6, plot_fit = True, show_guess = False,fixed = [2,4], do_print = True,color='brown',title='cluster_5_ms_m1')"
   ]
  },
  {
   "cell_type": "code",
   "execution_count": null,
   "metadata": {
    "collapsed": false,
    "scrolled": true
   },
   "outputs": [],
   "source": [
    "# cluster 5 # 165 us #ms0  - \n",
    "reload(cr)\n",
    "Result=cr.Carbon_Ramsey(timestamp='20170526_192831',frequency =188e-3, offset = 0.5, amplitude = 0.2,exponent=2,  \n",
    "                        decay_constant =200,phase =180, plot_fit = True, show_guess = False,fixed = [2,6,4], do_print = True,color='darkred',title='cluster_5_ms_0_old')"
   ]
  },
  {
   "cell_type": "code",
   "execution_count": null,
   "metadata": {
    "collapsed": false,
    "scrolled": true
   },
   "outputs": [],
   "source": [
    "# cluster 5 # 165 us #ms0  - full data\n",
    "reload(cs);\n",
    "Result=cs.CosineSum_MBI_data(timestamp='55', c=1,t=900,new_tsmp = '20170612_230600',old_tsmp = '20170614_071700',two_cos=False,\n",
    "                             x_ticks=np.arange(0,100,10), y_ticks=np.arange(0.2,0.8,0.1),color='orange',title='Cluster_5_ms_0',\n",
    "                             frequency = [188e-3,260e-3], \n",
    "                             offset =0.5, \n",
    "                             amplitude =[0.1,0.2],  \n",
    "                             phase =[180,180], \n",
    "                             fixed = [2,4], \n",
    "                             xlim=44.5,\n",
    "                             plot_fit = True, do_print = True, show_guess = False)"
   ]
  },
  {
   "cell_type": "code",
   "execution_count": null,
   "metadata": {
    "collapsed": false
   },
   "outputs": [],
   "source": [
    "# cluster 6 # 260 us #ms0  - \n",
    "reload(cr)\n",
    "Result=cr.Carbon_Ramsey(timestamp='20170606_045910',frequency =188e-3, offset = 0.5, amplitude = 0.2,exponent=2,  \n",
    "                        decay_constant =5,phase =180, plot_fit = True, show_guess = False,fixed = [2,6,4], do_print = True,color='darkred',x_ticks=np.arange(0,100,5),title='cluster_6_ms_0')"
   ]
  },
  {
   "cell_type": "code",
   "execution_count": null,
   "metadata": {
    "collapsed": false
   },
   "outputs": [],
   "source": [
    "# cluster 6 # 260 us #msm1  - \n",
    "reload(cr)\n",
    "Result=cr.Carbon_Ramsey(timestamp='20170606_143514',frequency =300e-3, offset = 0.5, amplitude = 0.2,exponent=2,  \n",
    "                        decay_constant =5,phase =180, plot_fit = True, show_guess = False,fixed = [2,4], do_print = True,color='darkred',title='cluster_6_ms_m1')"
   ]
  },
  {
   "cell_type": "code",
   "execution_count": null,
   "metadata": {
    "collapsed": false,
    "scrolled": true
   },
   "outputs": [],
   "source": [
    "reload(cs);\n",
    "Result=cs.CosineSum_MBI_data(timestamp='55', c=1,t=80,\n",
    "                             frequency = [250e-3,270e-3], \n",
    "                             offset =0.5, \n",
    "                             amplitude =[0.5,0.005],  \n",
    "                             phase =[0,180], \n",
    "                             fixed = [1,5], \n",
    "                             xlim=None,\n",
    "                             plot_fit = True, do_print = True, show_guess = False)"
   ]
  },
  {
   "cell_type": "code",
   "execution_count": null,
   "metadata": {
    "collapsed": false,
    "scrolled": true
   },
   "outputs": [],
   "source": [
    "reload(cs);\n",
    "Result=cs.CosineSum_MBI_data(timestamp='55', c=1,t=900,\n",
    "                             frequency = [188e-3,260e-3], \n",
    "                             offset =0.5, \n",
    "                             amplitude =[0.1,0.2],  \n",
    "                             phase =[180,180], \n",
    "                             fixed = [2,6,4], \n",
    "                             xlim=None,\n",
    "                             plot_fit = True, do_print = True, show_guess = False)"
   ]
  },
  {
   "cell_type": "code",
   "execution_count": null,
   "metadata": {
    "collapsed": false,
    "scrolled": true
   },
   "outputs": [],
   "source": [
    "reload(cs);\n",
    "Result=cs.CosineSum_MBI_data(timestamp='55', c=1,t=14,\n",
    "                             frequency = [8000e-3,7900e-3], \n",
    "                             offset =0.5, \n",
    "                             amplitude =[0.16,0.2],  \n",
    "                             phase =[180,180], \n",
    "                             fixed = [1,5], \n",
    "                             xlim=None,\n",
    "                             plot_fit = True, do_print = True, show_guess = False)"
   ]
  },
  {
   "cell_type": "code",
   "execution_count": null,
   "metadata": {
    "collapsed": false,
    "scrolled": true
   },
   "outputs": [],
   "source": [
    "reload(cs);\n",
    "Result=cs.CosineSum_MBI_data(timestamp='55', c=1,t=34,\n",
    "                             frequency = [6500e-3,6700e-3], \n",
    "                             offset =0.5, \n",
    "                             amplitude =[0.16,0.2],  \n",
    "                             phase =[180,180], \n",
    "                             fixed = [1], \n",
    "                             xlim=None,\n",
    "                             plot_fit = True, do_print = True, show_guess = False)"
   ]
  },
  {
   "cell_type": "code",
   "execution_count": null,
   "metadata": {
    "collapsed": false,
    "scrolled": true
   },
   "outputs": [],
   "source": [
    "reload(cs);\n",
    "Result=cs.CosineSum_MBI_data(timestamp='55', c=1,t=14,\n",
    "                             frequency = [80000e-3,79000e-3], \n",
    "                             offset =0.5, \n",
    "                             amplitude =[0.16,0.2],  \n",
    "                             phase =[180,180], \n",
    "                             fixed = [1,5], \n",
    "                             xlim=None,\n",
    "                             plot_fit = True, do_print = True, show_guess = False)"
   ]
  },
  {
   "cell_type": "code",
   "execution_count": null,
   "metadata": {
    "collapsed": false,
    "scrolled": true
   },
   "outputs": [],
   "source": [
    "reload(cs);\n",
    "Result=cs.CosineSum_MBI_data(timestamp='55', c=1,t=40,new_tsmp = '20170611_165140',old_tsmp = '20170611_235700',two_cos=True,\n",
    "                             x_ticks=np.arange(0,100,10), y_ticks=np.arange(0.2,0.8,0.1),color='b',title='Cluster_1_ms_0',\n",
    "                             frequency = [270e-3,220e-3], \n",
    "                             offset =0.5, \n",
    "                             amplitude =[0.061,0.068],  \n",
    "                             phase =[180,180], \n",
    "                             fixed = [1,5], \n",
    "                             xlim=60,\n",
    "                             plot_fit = True, do_print = True, show_guess = False)"
   ]
  },
  {
   "cell_type": "code",
   "execution_count": null,
   "metadata": {
    "collapsed": false
   },
   "outputs": [],
   "source": [
    "reload(cs);\n",
    "Result=cs.CosineSum_MBI_data(timestamp='55', c=1,t=14,new_tsmp = '20170616_190600',old_tsmp = '20170617_053700',two_cos=True,\n",
    "                             x_ticks=np.arange(0,100,10), y_ticks=np.arange(0.2,0.8,0.1),color='b',title='Cluster_1_ms_m1',\n",
    "                             frequency = [8000e-3,7900e-3],  \n",
    "                             offset =0.5, \n",
    "                             amplitude =[0.061,0.068],  \n",
    "                             phase =[180,180], \n",
    "                             fixed = [1,5], \n",
    "                             xlim=8,\n",
    "                             plot_fit = True, do_print = True, show_guess = False)"
   ]
  },
  {
   "cell_type": "code",
   "execution_count": null,
   "metadata": {
    "collapsed": false
   },
   "outputs": [],
   "source": [
    "    # new_tsmp = '20170612_230600' ## newer than\n",
    "    # old_tsmp = '20170614_071700' ## older than\n",
    "    \n",
    "    #cluster 6 #  #ms0\n",
    "reload(cs_one_second);\n",
    "Result=cs_one_second.CosineSum_MBI_data(timestamp='55', c=1,t=40,new_tsmp = '20170612_230600',old_tsmp = '20170614_071700',two_cos=False,\n",
    "                             x_ticks=np.arange(0,100,10), y_ticks=np.arange(0.4,0.8,0.1),color='g',title='Cluster_6_ms_0_one_second_0_100',\n",
    "                             frequency = [270e-3,220e-3], \n",
    "                             offset =0.5, \n",
    "                             amplitude =[0.061,0.068],  \n",
    "                             phase =[180,180], \n",
    "                             fixed = [2,6], \n",
    "                             xlim=100,\n",
    "                             plot_fit = True, do_print = True, show_guess = False)"
   ]
  },
  {
   "cell_type": "code",
   "execution_count": null,
   "metadata": {
    "collapsed": false,
    "scrolled": false
   },
   "outputs": [],
   "source": [
    "    # new_tsmp = '20170612_230600' ## newer than\n",
    "    # old_tsmp = '20170614_071700' ## older than\n",
    "    \n",
    "    #cluster 6 #  #ms0\n",
    "reload(cs_one_second);\n",
    "Result=cs_one_second.CosineSum_MBI_data(timestamp='55', c=1,t=40,new_tsmp = '20170612_230600',old_tsmp = '20170614_071700',two_cos=False,\n",
    "                             x_ticks=np.arange(0,100,10), y_ticks=np.arange(0.4,0.8,0.1),color='darkblue',title='Cluster_6_ms_0_one_second_darkblue',\n",
    "                             frequency = [270e-3,220e-3], \n",
    "                             offset =0.5, \n",
    "                             amplitude =[0.061,0.068],  \n",
    "                             phase =[180,180], \n",
    "                             fixed = [2,6], \n",
    "                             xlim1=200,xlim2=231,\n",
    "                             plot_fit = True, do_print = True, show_guess = False)"
   ]
  },
  {
   "cell_type": "code",
   "execution_count": null,
   "metadata": {
    "collapsed": false
   },
   "outputs": [],
   "source": [
    "    # new_tsmp = '20170612_230600' ## newer than\n",
    "    # old_tsmp = '20170614_071700' ## older than\n",
    "    \n",
    "    #cluster 6 #  #ms0\n",
    "reload(cs_one_second);\n",
    "Result=cs_one_second.CosineSum_MBI_data(timestamp='55', c=1,t=40,new_tsmp = '20170612_230600',old_tsmp = '20170614_071700',two_cos=False,\n",
    "                             x_ticks=np.arange(0,100,10), y_ticks=np.arange(0.4,0.8,0.1),color='g',title='Cluster_6_ms_0_one_second_200_240',\n",
    "                             frequency = [270e-3,220e-3], \n",
    "                             offset =0.5, \n",
    "                             amplitude =[0.061,0.068],  \n",
    "                             phase =[180,180], \n",
    "                             fixed = [2,6], \n",
    "                             xlim1=610,xlim2=630,\n",
    "                             plot_fit = True, do_print = True, show_guess = False)"
   ]
  },
  {
   "cell_type": "code",
   "execution_count": null,
   "metadata": {
    "collapsed": false
   },
   "outputs": [],
   "source": [
    "    #cluster 6 #  #ms0\n",
    "reload(cs_one_second);\n",
    "Result=cs_one_second.CosineSum_MBI_data(timestamp='55', c=1,t=40,new_tsmp = '20171029_132000',old_tsmp = '20170129_133300',two_cos=False,\n",
    "                             x_ticks=np.arange(0,100,10), y_ticks=np.arange(0.4,0.8,0.1),color='g',title='Cluster_2',\n",
    "                             frequency = [6600e-3,220e-3], \n",
    "                             offset =0.5, \n",
    "                             amplitude =[0.061,0.068],  \n",
    "                             phase =[180,180], \n",
    "                             fixed = [2,6], \n",
    "                             xlim1=0,xlim2=1,\n",
    "                             plot_fit = True, do_print = True, show_guess = False)"
   ]
  },
  {
   "cell_type": "code",
   "execution_count": null,
   "metadata": {
    "collapsed": false
   },
   "outputs": [],
   "source": [
    "# cluster 6 # 260 us #msm1  - \n",
    "reload(cr)\n",
    "Result=cr.Carbon_Ramsey(timestamp='20171115_114238',frequency =200000e-3, offset = 0.5, amplitude = 0.2,exponent=2,  \n",
    "                        decay_constant =2,phase =180, plot_fit = True, show_guess = False,fixed = [2,4], do_print = True,color='darkred',title='cluster_trial')"
   ]
  },
  {
   "cell_type": "code",
   "execution_count": null,
   "metadata": {
    "collapsed": false
   },
   "outputs": [],
   "source": [
    "# cluster 6 # 260 us #msm1  - \n",
    "reload(cr)\n",
    "Result=cr.Carbon_Ramsey(timestamp='20171116_232737',frequency =6000e-3, offset = 0.5, amplitude = 0.2,exponent=2,  \n",
    "                        decay_constant =2,phase =180, plot_fit = True, show_guess = False,fixed = [2,4], do_print = True,color='darkred',title='cluster_trial')"
   ]
  },
  {
   "cell_type": "code",
   "execution_count": null,
   "metadata": {
    "collapsed": true
   },
   "outputs": [],
   "source": []
  }
 ],
 "metadata": {
  "kernelspec": {
   "display_name": "Python 2",
   "language": "python",
   "name": "python2"
  },
  "language_info": {
   "codemirror_mode": {
    "name": "ipython",
    "version": 2
   },
   "file_extension": ".py",
   "mimetype": "text/x-python",
   "name": "python",
   "nbconvert_exporter": "python",
   "pygments_lexer": "ipython2",
   "version": "2.7.10"
  }
 },
 "nbformat": 4,
 "nbformat_minor": 0
}
