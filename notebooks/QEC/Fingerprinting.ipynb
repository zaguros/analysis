{
 "cells": [
  {
   "cell_type": "markdown",
   "metadata": {},
   "source": [
    "# Nuclear spin environment fingerprinting analysis"
   ]
  },
  {
   "cell_type": "code",
   "execution_count": null,
   "metadata": {
    "collapsed": false
   },
   "outputs": [],
   "source": [
    "import sys\n",
    "import os\n",
    "sys.path.append(r'D:/measuring')\n",
    "sys.path.append(r'D:/measuring/analysis')\n",
    "sys.path.append(r'D:/measuring/analysis/scripts/QEC')\n",
    "sys.path.append(r'D:/measuring/analysis/scripts/QEC_data_analysis/fingerprints/')\n"
   ]
  },
  {
   "cell_type": "markdown",
   "metadata": {},
   "source": [
    "## Basic data (still make some nice function)"
   ]
  },
  {
   "cell_type": "code",
   "execution_count": null,
   "metadata": {
    "collapsed": false
   },
   "outputs": [],
   "source": [
    "import analysis.scripts.mbi.mbi_electron_decoupling_analysis as DD; reload(DD)\n",
    "import Fingerprint_analysis as fp; reload(fp)\n",
    "\n",
    "fp.fingerprint_single(disp_sim_spin = True,n_sim_spins = 0,xrange = [2.0,3.0],tag = 'short_tau_111_1_sil1832', \n",
    "                      step_size = 4e-3,start = 0, tot = 5,pts = 41,start_tau = 2.1,\n",
    "                       older_than = '20150730_160000',return_data = False)"
   ]
  },
  {
   "cell_type": "code",
   "execution_count": null,
   "metadata": {
    "collapsed": false
   },
   "outputs": [],
   "source": [
    "import analysis.scripts.mbi.mbi_electron_decoupling_analysis as DD; reload(DD)\n",
    "fit_results = DD.electron_DD_analysis(timestamp='20150307_151350', measurement_name = ['ssro_results'], show_guess = False, plot_fit = False)"
   ]
  },
  {
   "cell_type": "markdown",
   "metadata": {},
   "source": [
    "## Fingerprint Data Merged, ms=+1 at ~300 G"
   ]
  },
  {
   "cell_type": "code",
   "execution_count": null,
   "metadata": {
    "collapsed": false
   },
   "outputs": [],
   "source": [
    "import fingerprint_analysis_N8 as fp8; reload(fp8)\n",
    "fp8.fingerprint()"
   ]
  },
  {
   "cell_type": "code",
   "execution_count": null,
   "metadata": {
    "collapsed": false
   },
   "outputs": [],
   "source": [
    "import fingerprint_analysis_N16 as fp16; reload(fp16)\n",
    "fp16.fingerprint()"
   ]
  },
  {
   "cell_type": "code",
   "execution_count": null,
   "metadata": {
    "collapsed": false
   },
   "outputs": [],
   "source": [
    "import fingerprint_analysis_N32 as fp32; reload(fp32)\n",
    "fp32.fingerprint()"
   ]
  },
  {
   "cell_type": "code",
   "execution_count": null,
   "metadata": {
    "collapsed": false
   },
   "outputs": [],
   "source": [
    "import fingerprint_analysis_N64 as fp64; reload(fp64)\n",
    "fp64.fingerprint()"
   ]
  },
  {
   "cell_type": "markdown",
   "metadata": {},
   "source": [
    "## Fingerprint Data Merged, ms=-1 at ~300 G"
   ]
  },
  {
   "cell_type": "code",
   "execution_count": null,
   "metadata": {
    "collapsed": false
   },
   "outputs": [],
   "source": [
    "import fingerprint_analysis_N16_msm1 as fp16_m1; reload(fp16_m1)\n",
    "fp16_m1.fingerprint(RO = 'x')"
   ]
  },
  {
   "cell_type": "code",
   "execution_count": null,
   "metadata": {
    "collapsed": false
   },
   "outputs": [],
   "source": [
    "import fingerprint_analysis_N32_msm1 as fp32_m1; reload(fp32_m1)\n",
    "fp32_m1.fingerprint(disp_sim_spin = True)"
   ]
  },
  {
   "cell_type": "code",
   "execution_count": null,
   "metadata": {
    "collapsed": false
   },
   "outputs": [],
   "source": [
    "import fingerprint_analysis_N64_msm1 as fp64_m1; reload(fp64_m1)\n",
    "fp64_m1.fingerprint(disp_sim_spin = True)"
   ]
  },
  {
   "cell_type": "markdown",
   "metadata": {},
   "source": [
    "## Sample 111 nr1, sil 18, ms=-1"
   ]
  },
  {
   "cell_type": "code",
   "execution_count": null,
   "metadata": {
    "collapsed": false
   },
   "outputs": [],
   "source": [
    "#sys.path.append(r'D:/measuring/analysis/scripts/QEC_data_analysis/fingerprints/')\n",
    "from nr1_sil18 import fingerprint_analysis_N16 as fp16; reload(fp16)\n",
    "fp16.fingerprint()#xrange=[6.2,6.4])"
   ]
  },
  {
   "cell_type": "code",
   "execution_count": null,
   "metadata": {
    "collapsed": false
   },
   "outputs": [],
   "source": [
    "from nr1_sil18 import fingerprint_analysis_N32 as fp32; reload(fp32)\n",
    "# fp32.fingerprint(xrange=[0,20])\n",
    "# from nr1_sil18 import fingerprint_analysis_N32 as fp32; reload(fp32)\n",
    "fp32.fingerprint(xrange=[8.0,11.0])"
   ]
  },
  {
   "cell_type": "code",
   "execution_count": null,
   "metadata": {
    "collapsed": false
   },
   "outputs": [],
   "source": [
    "from nr1_sil18 import fingerprint_analysis_N64 as fp64; reload(fp64)\n",
    "fp64.fingerprint(xrange=[4.9,5.1])"
   ]
  },
  {
   "cell_type": "code",
   "execution_count": null,
   "metadata": {
    "collapsed": false
   },
   "outputs": [],
   "source": [
    "from nr1_sil18 import fingerprint_analysis_N32 as fp32; reload(fp32)\n",
    "fp32.fingerprint(xrange=[4.95,5.05])"
   ]
  },
  {
   "cell_type": "code",
   "execution_count": null,
   "metadata": {
    "collapsed": false
   },
   "outputs": [],
   "source": []
  }
 ],
 "metadata": {
  "kernelspec": {
   "display_name": "Python 2",
   "language": "python",
   "name": "python2"
  },
  "language_info": {
   "codemirror_mode": {
    "name": "ipython",
    "version": 2
   },
   "file_extension": ".py",
   "mimetype": "text/x-python",
   "name": "python",
   "nbconvert_exporter": "python",
   "pygments_lexer": "ipython2",
   "version": "2.7.10"
  }
 },
 "nbformat": 4,
 "nbformat_minor": 0
}
