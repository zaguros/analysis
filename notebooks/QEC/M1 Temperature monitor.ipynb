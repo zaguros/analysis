{
 "cells": [
  {
   "cell_type": "markdown",
   "metadata": {},
   "source": [
    "## Analysis of temperature fluctuations at the measurement setup (inside enclosure)"
   ]
  },
  {
   "cell_type": "code",
   "execution_count": null,
   "metadata": {
    "collapsed": false
   },
   "outputs": [],
   "source": [
    "### Scripts to analyze the temperature \n",
    "\n",
    "%matplotlib inline\n",
    "import sys\n",
    "import numpy as np\n",
    "from matplotlib import pyplot as plt\n",
    "\n",
    "sys.path.append(r'D:/measuring')\n",
    "sys.path.append(r'D:/analysis')\n",
    "\n",
    "from analysis.scripts.QEC_data_analysis import plot_temperature as temperature\n",
    "\n",
    "\n",
    "### Goal: to be able to plot the temperature between timestamp T1 and timestamp T2, \n",
    "### use this to determine typical temperature fluctuations at different time scales\n",
    "\n",
    "### The first temperature data for the precise measurements started on: 20160725_144557 ('temp_monitor')\n",
    "\n",
    "\n"
   ]
  },
  {
   "cell_type": "code",
   "execution_count": null,
   "metadata": {
    "collapsed": false,
    "scrolled": false
   },
   "outputs": [],
   "source": [
    "reload(temperature)\n",
    "x,y, folder = temperature.get_temperature(older_than = '20160903_000000', newer_than = '20160725_000000')\n"
   ]
  },
  {
   "cell_type": "code",
   "execution_count": null,
   "metadata": {
    "collapsed": false
   },
   "outputs": [],
   "source": [
    "reload(temperature)\n",
    "\n",
    "### all data from the precise sensor\n",
    "temperature.plot_temperature(From = '20160808_100000', To = '20160808_150000')\n",
    "\n",
    "### selected data\n",
    "# temperature.plot_temperature(From = '20160806_000000', To = '20160808_00000')\n",
    "\n",
    "\n",
    "### ToDO: get also the data from the sensors that monitor the tmeperature around the lab. Install those sensors at good\n",
    "### locations. Meaure pulse fidleities/Rabi frequencies with the temperature fluctuations. \n",
    "\n",
    "\n"
   ]
  },
  {
   "cell_type": "code",
   "execution_count": null,
   "metadata": {
    "collapsed": false
   },
   "outputs": [],
   "source": [
    "import numpy as np\n",
    "\n",
    "data = np.array([4,2,5,6,7,5,4,3,5,7])\n",
    "\n",
    "print data.reshape(-1, 2)\n",
    "print data.reshape(-1, 2).mean(axis=1)"
   ]
  },
  {
   "cell_type": "code",
   "execution_count": null,
   "metadata": {
    "collapsed": true
   },
   "outputs": [],
   "source": []
  },
  {
   "cell_type": "code",
   "execution_count": null,
   "metadata": {
    "collapsed": true
   },
   "outputs": [],
   "source": []
  }
 ],
 "metadata": {
  "kernelspec": {
   "display_name": "Python 2",
   "language": "python",
   "name": "python2"
  },
  "language_info": {
   "codemirror_mode": {
    "name": "ipython",
    "version": 2
   },
   "file_extension": ".py",
   "mimetype": "text/x-python",
   "name": "python",
   "nbconvert_exporter": "python",
   "pygments_lexer": "ipython2",
   "version": "2.7.10"
  }
 },
 "nbformat": 4,
 "nbformat_minor": 0
}
