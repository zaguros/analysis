{
 "metadata": {
  "name": "",
  "signature": ""
 },
 "nbformat": 3,
 "nbformat_minor": 0,
 "worksheets": [
  {
   "cells": [
    {
     "cell_type": "code",
     "collapsed": false,
     "input": [
      "import sys\n",
      "import numpy as np\n",
      "\n",
      "sys.path.append(r'D:/measuring')\n",
      "sys.path.append(r'D:/measuring/analysis')\n",
      "sys.path.append(r'D:/analysis/qutip')\n",
      "\n",
      "from analysis.lib.tools import toolbox as tb\n",
      "from matplotlib import pyplot as plt\n",
      "\n",
      "%matplotlib inline"
     ],
     "language": "python",
     "metadata": {},
     "outputs": []
    },
    {
     "cell_type": "code",
     "collapsed": false,
     "input": [
      "from analysis.scripts.GHZ import GHZ_analysis\n",
      "from analysis.scripts.GHZ import GHZ_feedforward\n"
     ],
     "language": "python",
     "metadata": {},
     "outputs": []
    },
    {
     "cell_type": "code",
     "collapsed": false,
     "input": [
      "reload(GHZ_analysis)\n",
      "GHZ_analysis.plot_singlerun_GHZ_data(timestamp='20150821_173343')"
     ],
     "language": "python",
     "metadata": {},
     "outputs": []
    },
    {
     "cell_type": "code",
     "collapsed": false,
     "input": [
      "reload(GHZ_analysis)\n",
      "GHZ_analysis.plot_sweep_orientations_GHZ_data(tomo_bases='ZII',extra_tag='_unbranched_composite_pi__XII_XII_XII_')"
     ],
     "language": "python",
     "metadata": {},
     "outputs": []
    },
    {
     "cell_type": "code",
     "collapsed": false,
     "input": [
      "reload(GHZ_analysis)\n",
      "GHZ_analysis.plot_sweep_orientations_GHZ_data(tomo_bases='YYX',extra_tag='C125_unbranched_contextuality_')"
     ],
     "language": "python",
     "metadata": {},
     "outputs": []
    },
    {
     "cell_type": "code",
     "collapsed": false,
     "input": [
      "reload(GHZ_analysis)\n",
      "GHZ_analysis.plot_sweepphases_GHZ_data()"
     ],
     "language": "python",
     "metadata": {},
     "outputs": []
    },
    {
     "cell_type": "code",
     "collapsed": false,
     "input": [
      "reload(GHZ_feedforward)\n",
      "xxxoper=GHZ_feedforward.oper('x','x','x')\n",
      "print(xxxoper)\n",
      "a=GHZ_feedforward.GHZ_expectation_values(xxxoper)\n",
      "print(a)\n"
     ],
     "language": "python",
     "metadata": {},
     "outputs": []
    },
    {
     "cell_type": "code",
     "collapsed": false,
     "input": [
      "reload(GHZ_feedforward)\n",
      "GHZ_feedforward.nonzero_expectations()"
     ],
     "language": "python",
     "metadata": {},
     "outputs": []
    },
    {
     "cell_type": "code",
     "collapsed": false,
     "input": [
      "reload(GHZ_analysis)\n",
      "GHZ_analysis.plot_debug_GHZ_data(tomo_bases='YY',extra_tag='C15_test_initXX_mmt_XX_')"
     ],
     "language": "python",
     "metadata": {},
     "outputs": []
    },
    {
     "cell_type": "code",
     "collapsed": false,
     "input": [
      "reload(GHZ_analysis)\n",
      "GHZ_analysis.plot_full_tomo(bases=['XXX'],extra_tag='MBIth_0_tomo_')#\"XII\",\"YII\",\"ZII\",\"IXI\",\"IYI\",\"IZI\",\"IIX\",\"IIY\",\"IIZ\",\n",
      "                                   #\"XXI\",\"XYI\",\"XZI\",\"YXI\",\"YYI\",\"YZI\",\"ZXI\",\"ZYI\",\"ZZI\",\n",
      "                                   #\"XIX\",\"YIX\",\"ZIX\",\"XIY\",\"YIY\",\"ZIY\",\"XIZ\",\"YIZ\",\"ZIZ\",\n",
      "                                   #\"IXX\",\"IYX\",\"IZX\",\"IXY\",\"IYY\",\"IZY\",\"IXZ\",\"IYZ\",\"IZZ\",\n",
      "                                   #\"XXX\",\"XZX\",\"YYX\",\"YZX\",\"ZXX\",\"ZYX\",#\"XXX\",\"XYX\",\"XZX\",\"YXX\",\"YYX\",\"YZX\",\"ZXX\",\"ZYX\",\n",
      "                                   #\"XXY\",\"XYY\",\"XZY\",\"YXY\",\"YYY\",\"YZY\",\"ZXY\",\"ZYY\",#\"XXY\",\"XYY\",\"XZY\",\"YXY\",\"YYY\",\"YZY\",\"ZXY\",\"ZYY\",\n",
      "                                    #\"XXZ\",\"XYZ\",\"YXZ\",\"YYZ\"])"
     ],
     "language": "python",
     "metadata": {},
     "outputs": []
    },
    {
     "cell_type": "code",
     "collapsed": false,
     "input": [
      "reload(GHZ_analysis)\n",
      "GHZ_analysis.plot_debug_tomo([\"IIX_XXI_YYI\"],tomo='ZZI',init='noinit')\n",
      "#'IIX_IIX_IIX','IIX_IIX_XYY','IIX_XYY_IIX','IIX_XYY_XYY'])\n",
      "                              #'IIX_IIX_XXX','IIX_IIX_XYY','IIX_IIX_YXY','IIX_IIX_YYX',\n",
      "                              #'IIX_XYY_IIX','IIX_XYY_XXX','IIX_XYY_XYY','IIX_XYY_YXY','IIX_XYY_YYX',\n",
      "                              #'IIX_YXY_IIX','IIX_YXY_XXX','IIX_YXY_XYY','IIX_YXY_YXY','IIX_YXY_YYX',\n",
      "                              #'IIX_YYX_IIX','IIX_YYX_XXX','IIX_YYX_XYY','IIX_YYX_YXY','IIX_YYX_YYX'])"
     ],
     "language": "python",
     "metadata": {},
     "outputs": []
    },
    {
     "cell_type": "code",
     "collapsed": false,
     "input": [
      "reload(GHZ_analysis)\n",
      "GHZ_analysis.plot_nonzero_tomo(bases=['ZZI','ZXI','XZI'],postselect=True,plot_single=False)"
     ],
     "language": "python",
     "metadata": {},
     "outputs": []
    },
    {
     "cell_type": "code",
     "collapsed": false,
     "input": [
      "reload(GHZ_analysis)\n",
      "GHZ_analysis.plot_3mmt_contextuality(bases=['IXI_XII_IXI'],postselect=True)\n",
      "#,'IXI_IIX_IYI','IXI_IIY_IXI','IXI_IIY_IYI','IXI_XII_IXI','IXI_XII_IYI'],postselect=True)\n",
      "#'IXI_XII_IXI','IXI_XII_IYI','IXI_YII_IXI','IXI_YII_IYI'],postselect=True)\n",
      "                                            #,'IXI_IIX_IXI','IXI_IIX_IYI'"
     ],
     "language": "python",
     "metadata": {},
     "outputs": []
    },
    {
     "cell_type": "code",
     "collapsed": false,
     "input": [
      "reload(GHZ_analysis)\n",
      "GHZ_analysis.plot_debug_GHZ_data(tomo_bases='IYI',extra_tag='init1-X_mmt_XII_')"
     ],
     "language": "python",
     "metadata": {},
     "outputs": []
    },
    {
     "cell_type": "code",
     "collapsed": false,
     "input": [
      "reload(GHZ_analysis)\n",
      "GHZ_analysis.plot_full_tomo(extra_tag='_unbranched_composite_pi_MBIth_0_tomo_',\n",
      "                            bases=[ 'XXX','XYY','YXY','YYX','ZZI','ZIZ','IZZ','YXX','XYX','XXY','YYY'])"
     ],
     "language": "python",
     "metadata": {},
     "outputs": []
    },
    {
     "cell_type": "code",
     "collapsed": false,
     "input": [
      "x=0.4*np.cos(np.deg2rad(13.2))\n",
      "y=0.4*np.sin(np.deg2rad(13.2))\n",
      "print x\n",
      "print y"
     ],
     "language": "python",
     "metadata": {},
     "outputs": []
    },
    {
     "cell_type": "code",
     "collapsed": false,
     "input": [
      "np.sqrt(0.55**2+0.17**2)"
     ],
     "language": "python",
     "metadata": {},
     "outputs": []
    },
    {
     "cell_type": "code",
     "collapsed": false,
     "input": [],
     "language": "python",
     "metadata": {},
     "outputs": []
    },
    {
     "cell_type": "code",
     "collapsed": false,
     "input": [],
     "language": "python",
     "metadata": {},
     "outputs": []
    },
    {
     "cell_type": "code",
     "collapsed": false,
     "input": [],
     "language": "python",
     "metadata": {},
     "outputs": []
    },
    {
     "cell_type": "code",
     "collapsed": false,
     "input": [],
     "language": "python",
     "metadata": {},
     "outputs": []
    },
    {
     "cell_type": "code",
     "collapsed": false,
     "input": [],
     "language": "python",
     "metadata": {},
     "outputs": []
    },
    {
     "cell_type": "code",
     "collapsed": false,
     "input": [],
     "language": "python",
     "metadata": {},
     "outputs": []
    },
    {
     "cell_type": "code",
     "collapsed": false,
     "input": [],
     "language": "python",
     "metadata": {},
     "outputs": []
    },
    {
     "cell_type": "code",
     "collapsed": false,
     "input": [],
     "language": "python",
     "metadata": {},
     "outputs": []
    }
   ],
   "metadata": {}
  }
 ]
}
