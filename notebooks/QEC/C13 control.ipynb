{
 "cells": [
  {
   "cell_type": "code",
   "execution_count": null,
   "metadata": {
    "collapsed": false
   },
   "outputs": [],
   "source": [
    "%matplotlib inline\n",
    "\n",
    "import sys\n",
    "sys.path.append(r'D:/measuring')\n",
    "import numpy as np\n",
    "from analysis.scripts.mbi import mbi_electron_decoupling_analysis\n",
    "from analysis.scripts.QEC import Carbon_control_analysis_sweep_N as cca; reload(cca)\n",
    "\n",
    "from analysis.scripts.QEC import carbon_ramsey_analysis as cr\n",
    "from analysis.scripts.QEC import Two_Qubit_Tomography as twoqt\n",
    "\n",
    "sys.path.append(r'D:/measuring/analysis')\n",
    "import analysis.scripts.mbi.mbi_electron_decoupling_analysis as DD\n",
    "reload(DD)"
   ]
  },
  {
   "cell_type": "markdown",
   "metadata": {},
   "source": [
    "## Sweep Tau"
   ]
  },
  {
   "cell_type": "code",
   "execution_count": null,
   "metadata": {
    "collapsed": false
   },
   "outputs": [],
   "source": [
    "execfile(r'D:\\measuring\\analysis\\scripts\\QEC\\Carbon_control_analysis_sweep_tau.py')"
   ]
  },
  {
   "cell_type": "code",
   "execution_count": null,
   "metadata": {
    "collapsed": false,
    "scrolled": false
   },
   "outputs": [],
   "source": [
    "execfile(r'D:\\measuring\\analysis\\scripts\\QEC_data_analysis\\dynamical decoupling\\DD_analysis_general_modified.py')"
   ]
  },
  {
   "cell_type": "code",
   "execution_count": null,
   "metadata": {
    "collapsed": false
   },
   "outputs": [],
   "source": [
    "execfile(r'D:\\measuring\\analysis\\scripts\\QEC_data_analysis\\dynamical decoupling\\DD_analysis_sweepN_general.py')"
   ]
  },
  {
   "cell_type": "markdown",
   "metadata": {},
   "source": [
    "## Sweep N - Rabi oscillation "
   ]
  },
  {
   "cell_type": "code",
   "execution_count": null,
   "metadata": {
    "collapsed": false
   },
   "outputs": [],
   "source": [
    "### Single frequency ###\n",
    "reload(cca)\n",
    "Result=cca.Carbon_control_sweep_N(timestamp=None, frequency = [1/128.], amplitude = [0.4],  \n",
    "                       phase=[0], decay_constant = [100], plot_fit = True, do_print = False, show_guess = False)"
   ]
  },
  {
   "cell_type": "code",
   "execution_count": null,
   "metadata": {
    "collapsed": false
   },
   "outputs": [],
   "source": [
    "### Double frequency ###\n",
    "reload(cca)\n",
    "Result=cca.Carbon_control_sweep_N(timestamp=None, frequency = [1/75., 1/100.], amplitude = [0.8, 0.1],  \n",
    "                       phase=[0,0],offset = 0.4, decay_constant = [800,500], plot_fit = True, \n",
    "                       do_print = True, show_guess = False, fixed =[2,6])"
   ]
  },
  {
   "cell_type": "code",
   "execution_count": null,
   "metadata": {
    "collapsed": false
   },
   "outputs": [],
   "source": [
    "### Zoom around 0.5 ###\n",
    "reload(cca)\n",
    "Result=cca.Carbon_control_sweep_N_zoom(timestamp=None, A = [0.5, 0.5],  \n",
    "                  plot_fit = False, do_print = False, show_guess = False, yaxis = [0.9,1.05])"
   ]
  },
  {
   "cell_type": "markdown",
   "metadata": {},
   "source": [
    "## Conditonal gate calibrations"
   ]
  },
  {
   "cell_type": "code",
   "execution_count": null,
   "metadata": {
    "collapsed": false
   },
   "outputs": [],
   "source": [
    "### Gate calibration, OLD Version: attempt entanglement and measure full bloch vector length ###\n",
    "from analysis.scripts.QEC import Carbon_gate_calibration as carbon_calib; reload(carbon_calib)\n",
    "Result=carbon_calib.Carbon_gate_optimization(timestamp2=None, A = [0.5, 0.5],  \n",
    "                  plot_fit = True, do_print = False, show_guess = False)"
   ]
  },
  {
   "cell_type": "code",
   "execution_count": null,
   "metadata": {
    "collapsed": false
   },
   "outputs": [],
   "source": [
    "### Gate calibration, Version 2: Init and measure in the XY plane and measure XY vector length###\n",
    "from analysis.scripts.QEC import Carbon_gate_calibration as carbon_calib; reload(carbon_calib)\n",
    "Result=carbon_calib.Carbon_gate_optimization_XY(A = [0.5, 0.5],  \n",
    "                  plot_fit = False, do_print = False, show_guess = False)"
   ]
  },
  {
   "cell_type": "code",
   "execution_count": null,
   "metadata": {
    "collapsed": false
   },
   "outputs": [],
   "source": [
    "### Gate calibration, Version 3: Try a set of 9 tau,N combinations to find optimum1\n",
    "from analysis.scripts.QEC import Carbon_gate_calibration as carbon_calib; reload(carbon_calib)\n",
    " \n",
    "carbon_calib.Carbon_gate_optimization_routine(older_than='20150831_000000', carbon =5)"
   ]
  },
  {
   "cell_type": "code",
   "execution_count": null,
   "metadata": {
    "collapsed": false
   },
   "outputs": [],
   "source": [
    "from analysis.scripts.QEC import Carbon_gate_calibration_v2 as carbon_calib2; reload(carbon_calib2)\n",
    "\n",
    "carbon_calib2.get_gate_fidelity(5,older_than='20150831_000000')\n"
   ]
  },
  {
   "cell_type": "markdown",
   "metadata": {},
   "source": [
    "## Carbon Ramsey  no init DD"
   ]
  },
  {
   "cell_type": "code",
   "execution_count": null,
   "metadata": {
    "collapsed": false
   },
   "outputs": [],
   "source": [
    "### DD frequency calibration ###\n",
    "reload(cr)\n",
    "for c in [1]:\n",
    "    for el in ['']:\n",
    "        Result=cr.Carbon_Ramsey_DD_freq(older_than = None,transition=el,  frequency =436226, offset = 0.1, amplitude = 0.6,exponent=1,\n",
    "                                carbon=c,\n",
    "                        decay_constant =0.02,phase =0, plot_fit = True, show_guess = False,fixed = [2,4])\n"
   ]
  },
  {
   "cell_type": "code",
   "execution_count": null,
   "metadata": {
    "collapsed": false
   },
   "outputs": [],
   "source": [
    "### Single frequency ###\n",
    "reload(cr)\n",
    "Result=cr.Carbon_Ramsey(timestamp=None, frequency =200, offset = 0.5, amplitude = 0.4,exponent=1,  \n",
    "                        decay_constant =0.01,phase =0, plot_fit = True, show_guess = True,fixed = [2,4])"
   ]
  },
  {
   "cell_type": "markdown",
   "metadata": {},
   "source": [
    "## Carbon Ramsey NO init no DD"
   ]
  },
  {
   "cell_type": "code",
   "execution_count": null,
   "metadata": {
    "collapsed": false
   },
   "outputs": [],
   "source": [
    "from analysis.scripts.QEC import MBI_cosine_sum as cs; reload(cs)\n",
    "\n",
    "Result=cs.CosineSum_MBI_data(timestamp=None, \n",
    "                             frequency = [0.432,0.440], \n",
    "                             offset =0.5, \n",
    "                             amplitude =[0.5,0.5],  \n",
    "                             phase =[0,0], \n",
    "                             fixed = [], \n",
    "                             xlim=[0,120],\n",
    "                             plot_fit = True, do_print = True, show_guess = True)"
   ]
  },
  {
   "cell_type": "markdown",
   "metadata": {},
   "source": [
    "# Initialized Ramseys and Crosstalks"
   ]
  },
  {
   "cell_type": "code",
   "execution_count": null,
   "metadata": {
    "collapsed": false
   },
   "outputs": [],
   "source": [
    "### Phase sweep ###\n",
    "reload(cr)\n",
    "Result=cr.Carbon_Ramsey(timestamp=None , \n",
    "                        offset = 0.5, amplitude = 0.1, x0=0, decay_constant = 1e5, exponent = 2, \n",
    "                        frequency = 1/360., phase =0, \n",
    "                        plot_fit = True, show_guess = False,fixed = [0,2,3,4,5])"
   ]
  },
  {
   "cell_type": "code",
   "execution_count": null,
   "metadata": {
    "collapsed": false
   },
   "outputs": [],
   "source": [
    "### Detuned Ramsey ###\n",
    "reload(cr)\n",
    "\n",
    "for c in [2]:\n",
    "    for el in ['_p1','0','_m1']:\n",
    "\n",
    "        Result=cr.Carbon_Ramsey(timestamp=None,carbon=c,transition=el, \n",
    "                        offset = 0.5, amplitude = 0.4, x0=0, decay_constant = 4e-3, exponent = 2, \n",
    "                        frequency = 1000, phase =180, \n",
    "                        plot_fit = True, show_guess = True,fixed = [2,4])\n",
    "\n",
    "# #for c,el in [[1,'_p1'],[4,'_m1']]:\n",
    "# c=4\n",
    "# el='_m1'\n",
    "# c_phase=[0,-45,0,0,180][c]\n",
    "# c_freq=[0,1000,0,0,1000][c]\n",
    "# Result=cr.Carbon_Ramsey(timestamp=None,carbon=c,transition=el, \n",
    "#                     offset = 0.5, amplitude = 0.4, x0=0, decay_constant = 4e-3, exponent = 2, \n",
    "#                     frequency = c_freq, phase =c_phase, \n",
    "#                     plot_fit = True, show_guess = True,fixed = [2,4],return_freq = True)\n",
    "\n",
    "Result=cr.Carbon_Ramsey(timestamp=None,carbon=1,transition=0, \n",
    "                        offset = 0.5, amplitude = 0.4, x0=0, decay_constant = 4e-3, exponent = 2, \n",
    "                         frequency = 1200, phase =145, \n",
    "                         plot_fit = True, show_guess = True,fixed = [2,4])"
   ]
  },
  {
   "cell_type": "code",
   "execution_count": null,
   "metadata": {
    "collapsed": false
   },
   "outputs": [],
   "source": [
    "### Phase sweep ###\n",
    "reload(cr)\n",
    "cr.Carbon_Ramsey(timestamp='20160404_183955', \n",
    "                        offset = 0.5, amplitude = 0.5, x0=0, decay_constant = 1e5, exponent = 2, \n",
    "                        frequency = 1/360., phase =0, \n",
    "                        plot_fit = True, show_guess = False,fixed = [2,3,4,5])\n"
   ]
  },
  {
   "cell_type": "code",
   "execution_count": null,
   "metadata": {
    "collapsed": false
   },
   "outputs": [],
   "source": [
    "### Crosstalk ### \n",
    "reload(cr) \n",
    "Result=cr.Carbon_Ramsey(timestamp='20150331_114835', \n",
    "                        offset = 0.5, amplitude = 0.5, \n",
    "                        x0=0, decay_constant = 30000, \n",
    "                        exponent =2, frequency = 1/360., phase =0, plot_fit =True, show_guess = False,fixed = [2,3,4])"
   ]
  },
  {
   "cell_type": "code",
   "execution_count": null,
   "metadata": {
    "collapsed": false
   },
   "outputs": [],
   "source": [
    "### Crosstalk v2 XY ###\n",
    "reload(cr)\n",
    "Result=cr.Carbon_Ramsey_Crosstalk(timestamp='20141211_234734', \n",
    "                        offset = 0.2, amplitude = 0.1, x0=0, decay_constant = 1e5, exponent = 1, \n",
    "                        frequency = 1/20., phase =180, \n",
    "                        plot_fit = True, show_guess = False,fixed = [2,3,4])"
   ]
  },
  {
   "cell_type": "code",
   "execution_count": null,
   "metadata": {
    "collapsed": false
   },
   "outputs": [],
   "source": [
    "### Crosstalk tomography ###\n",
    "from analysis.scripts.QEC import SingleQubitTomography as tomo\n",
    "reload(tomo)\n",
    "Result=tomo.OneQubitTomo(timestamp = None,  fixed = [], plot_fit = True, show_guess = False, do_print = True, \n",
    "                             frequency =[1./200,1./200,1./200],  offset =[0.5,0.5,0.5], \n",
    "                             amplitude = [0.5,0.5,0.5],  phase =[0,90,0])"
   ]
  },
  {
   "cell_type": "code",
   "execution_count": null,
   "metadata": {
    "collapsed": false
   },
   "outputs": [],
   "source": [
    "### Lab frame ramsey ###\n",
    "reload(cr)\n",
    "Result=cr.Carbon_Ramsey(timestamp='20141202_194523', \n",
    "                        offset = 0.5, amplitude = 0.4, x0=0, decay_constant = 4e-3, exponent = 2000, \n",
    "                        frequency = 462.902e3, phase =0, \n",
    "                        plot_fit = True, show_guess = False,fixed = [2,3,4])"
   ]
  },
  {
   "cell_type": "markdown",
   "metadata": {},
   "source": [
    "## Carbon T1 measurements"
   ]
  },
  {
   "cell_type": "code",
   "execution_count": null,
   "metadata": {
    "collapsed": false
   },
   "outputs": [],
   "source": [
    "from analysis.scripts.QEC import Carbon_T1_analysis as T1; reload(T1)\n",
    "\n",
    "Result = T1.Carbon_T1(timestamp=None,\n",
    "                      offset = 1, \n",
    "                      amplitude = -1.,\n",
    "                      x0 = 0,\n",
    "            decay_constant = 1, \n",
    "            exponent = 1, \n",
    "            plot_fit = True, do_print = False, fixed = [0,1,2,4], show_guess = False)"
   ]
  },
  {
   "cell_type": "code",
   "execution_count": null,
   "metadata": {
    "collapsed": false
   },
   "outputs": [],
   "source": [
    "###Two qubit Tomo###\n",
    "from analysis.scripts.QEC import Two_Qubit_Tomography as twoqt\n",
    "\n",
    "twoqt.BarPlotTomoContrast()\n"
   ]
  },
  {
   "cell_type": "code",
   "execution_count": null,
   "metadata": {
    "collapsed": false
   },
   "outputs": [],
   "source": [
    "detuning=1e3\n",
    "100e-6 + np.linspace(0.,6.0*1./detuning,36)"
   ]
  },
  {
   "cell_type": "code",
   "execution_count": null,
   "metadata": {
    "collapsed": false
   },
   "outputs": [],
   "source": [
    "488193.84-53.32-306.64+60"
   ]
  },
  {
   "cell_type": "code",
   "execution_count": null,
   "metadata": {
    "collapsed": false
   },
   "outputs": [],
   "source": [
    "445715+940-29+19"
   ]
  },
  {
   "cell_type": "code",
   "execution_count": null,
   "metadata": {
    "collapsed": false
   },
   "outputs": [],
   "source": [
    "for a,b in [[1,2],[3,4]]:\n",
    "    print [1,2,3,4,5][a]"
   ]
  },
  {
   "cell_type": "code",
   "execution_count": null,
   "metadata": {
    "collapsed": false
   },
   "outputs": [],
   "source": [
    "str('up')"
   ]
  },
  {
   "cell_type": "code",
   "execution_count": null,
   "metadata": {
    "collapsed": false
   },
   "outputs": [],
   "source": [
    "print 'C'+str('m1')"
   ]
  },
  {
   "cell_type": "code",
   "execution_count": null,
   "metadata": {
    "collapsed": false
   },
   "outputs": [],
   "source": [
    "[[1,2],[3,4]][1]"
   ]
  },
  {
   "cell_type": "code",
   "execution_count": null,
   "metadata": {
    "collapsed": false
   },
   "outputs": [],
   "source": [
    "a=['_m1','_p1']\n",
    "a.remove('_m1')\n",
    "print a"
   ]
  },
  {
   "cell_type": "code",
   "execution_count": null,
   "metadata": {
    "collapsed": false
   },
   "outputs": [],
   "source": []
  }
 ],
 "metadata": {
  "kernelspec": {
   "display_name": "Python 2",
   "language": "python",
   "name": "python2"
  },
  "language_info": {
   "codemirror_mode": {
    "name": "ipython",
    "version": 2
   },
   "file_extension": ".py",
   "mimetype": "text/x-python",
   "name": "python",
   "nbconvert_exporter": "python",
   "pygments_lexer": "ipython2",
   "version": "2.7.10"
  }
 },
 "nbformat": 4,
 "nbformat_minor": 0
}
