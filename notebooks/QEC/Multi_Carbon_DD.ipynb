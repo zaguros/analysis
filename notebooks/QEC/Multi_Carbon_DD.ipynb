{
 "metadata": {
  "name": "",
  "signature": ""
 },
 "nbformat": 3,
 "nbformat_minor": 0,
 "worksheets": [
  {
   "cells": [
    {
     "cell_type": "code",
     "collapsed": false,
     "input": [
      "import sys\n",
      "sys.path.append(r'D:/measuring')\n",
      "sys.path.append(r'D:/analysis')\n",
      "from analysis.lib.m2.ssro import ssro\n",
      "reload(ssro)\n",
      "from analysis.lib.tools import toolbox"
     ],
     "language": "python",
     "metadata": {},
     "outputs": []
    },
    {
     "cell_type": "code",
     "collapsed": false,
     "input": [
      "from analysis.scripts.QEC import Carbon_Coherence_analysis as CCA\n",
      "reload(CCA)\n",
      "CCA.Carbon_assymetric_RO(timestamps=['20150421_204905','20150421_210202','20150421_211450'],timestamps_neg=['20150421_205533','20150421_210824','20150421_212122'],show_guess=False)\n",
      "# CCA.Carbon_assymetric_RO(timestamps=['20150421_205533','20150421_210824','20150421_072024'],show_guess=False)"
     ],
     "language": "python",
     "metadata": {},
     "outputs": []
    },
    {
     "cell_type": "code",
     "collapsed": false,
     "input": [
      "execfile(r'D:\\measuring\\analysis\\scripts\\QEC\\Analysis_loop.py')"
     ],
     "language": "python",
     "metadata": {},
     "outputs": []
    },
    {
     "cell_type": "code",
     "collapsed": false,
     "input": [
      "execfile(r'D:\\measuring\\analysis\\scripts\\QEC\\ssro_loop.py')"
     ],
     "language": "python",
     "metadata": {},
     "outputs": []
    },
    {
     "cell_type": "code",
     "collapsed": false,
     "input": [
      "from analysis.scripts.QEC import Carbon_Coherence_analysis as CCA\n",
      "reload(CCA)\n",
      "for carbon in [1,2,3,5,6]:\n",
      "    CCA.Carbon_T_mult(folder_name = 'NuclearDD_111_1_sil18_auto_C'+str(carbon)+'_ROpositive_N01', \n",
      "                posneg=True, older_than='20150504_200000', fit_func = 'exp',frequency = 0.5, fixed = [0,2], zfill=1,\n",
      "                decay_constant=0.75,exponent=1.73,show_guess=False,amplitude=0.35, plot_fit=True)"
     ],
     "language": "python",
     "metadata": {},
     "outputs": []
    },
    {
     "cell_type": "code",
     "collapsed": false,
     "input": [
      "reload(CCA)\n",
      "for carbon in [1,2,3,5,6]:\n",
      "    CCA.Carbon_T_mult(folder_name='NuclearDD_111_1_sil18_auto_C'+ str(carbon) +'_ROnegative_N01',\n",
      "            posneg=True, older_than='20150505_125959',fit_func = 'exp',fancy_plot=False,frequency = 0.5, fixed = [0,2], zfill=1,\n",
      "            decay_constant=0.04,exponent=1.73,show_guess=False,amplitude=0.35, plot_fit=True)"
     ],
     "language": "python",
     "metadata": {},
     "outputs": []
    },
    {
     "cell_type": "heading",
     "level": 2,
     "metadata": {},
     "source": [
      "Interaction Fancy"
     ]
    },
    {
     "cell_type": "code",
     "collapsed": false,
     "input": [
      "from analysis.scripts.QEC import Carbon_Coherence_analysis as CCA\n",
      "reload(CCA)\n",
      "\n",
      "\n",
      "carbons_init_list = [[6, 3]]\n",
      "\n",
      "for carbons in carbons_init_list:\n",
      "    CCA.Carbon_T_mult(fancy_plot=True,folder_name = 'NuclearDD_111_1_sil18_sweep_evolution_time_auto_C'+str(carbons[0])+'&'+str(carbons[1])+'_TomoIX_ROpositive_el1_N04', \n",
      "                posneg=True, older_than='20150521_200000', fit_func = 'decaying cosine',frequency = 2.5, fixed = [0,2,4],\n",
      "                decay_constant=0.4,exponent=1.73,show_guess=False,amplitude=0.30, plot_fit=True,zfill=2)\n",
      "    carbons = [1,2]\n",
      "    CCA.Carbon_T_mult(fancy_plot=True,folder_name = 'NuclearDD_111_1_sil18_sweep_evolution_time_auto_C'+str(carbons[0])+'&'+str(carbons[1])+'_TomoIX_ROpositive_el1_N04', \n",
      "                posneg=True, older_than='20150521_200000', fit_func = 'decaying cosine',frequency = 2.5, fixed = [0,2,4],\n",
      "                decay_constant=0.4,exponent=1.73,show_guess=False,amplitude=0.30, plot_fit=True,zfill=2)\n",
      "    "
     ],
     "language": "python",
     "metadata": {},
     "outputs": []
    },
    {
     "cell_type": "code",
     "collapsed": false,
     "input": [
      "from analysis.scripts.QEC import Carbon_Coherence_analysis as CCA\n",
      "reload(CCA)\n",
      "for carbon in [1,2,3,5,6]:\n",
      "    CCA.Carbon_T_mult(folder_name = '_NuclearDD_111_1_sil18_auto_C' +str(carbon)+'_ROpositive_N01', \n",
      "                    posneg=True, older_than='20150621_200000', fancy_plot=True, fit_func = 'exp',frequency = 2.5, fixed = [0,2],\n",
      "                    offset=0.5, decay_constant=0.01,exponent=1.5,show_guess=False,amplitude=0.30, plot_fit=True,zfill=1)\n"
     ],
     "language": "python",
     "metadata": {},
     "outputs": []
    },
    {
     "cell_type": "heading",
     "level": 2,
     "metadata": {},
     "source": [
      "Ramseys"
     ]
    },
    {
     "cell_type": "code",
     "collapsed": false,
     "input": [
      "from analysis.scripts.QEC import Carbon_Coherence_analysis as CCA\n",
      "reload(CCA)\n",
      "detuning_basic = 0.200e3\n",
      "detuning_dict = {\n",
      "'1' : detuning_basic*1.5,\n",
      "'2' : detuning_basic*1.5,\n",
      "'3' : detuning_basic*3.,\n",
      "'5' : detuning_basic,\n",
      "'6' : detuning_basic*4.}\n",
      "    \n",
      "for carbon in detuning_dict.keys():\n",
      "    for el in ['0','1']:\n",
      "        CCA.Carbon_T_mult(folder_name = '_CarbonRamseyInitialised_C'+carbon+'_ms'+el+'_negative', \n",
      "                    posneg=True, older_than='20150621_200000', fit_func = 'decaying cosine',frequency = detuning_dict[carbon], fixed = [0,2],\n",
      "                    offset=0.5, decay_constant=0.005,exponent=2,show_guess=True,amplitude=0.30, plot_fit=True,zfill=1)\n"
     ],
     "language": "python",
     "metadata": {},
     "outputs": []
    },
    {
     "cell_type": "code",
     "collapsed": false,
     "input": [
      "from analysis.scripts.QEC import Carbon_Coherence_analysis as CCA\n",
      "reload(CCA)\n",
      "ax,FR=CCA.Carbon_T_mult(folder_name ='sweep_evolution_time_auto_C1&2_TomoXX_ROpositive_el1_N04', older_than='20150530_143034', save_data=False, \n",
      "                save_with_folder_name=True, ssro_calib_timestamp='20150519_073236', fit_func='decaying cosine', fancy_plot=True, return_axes=True,\n",
      "                posneg=True, decay_constant=1.75,exponent=1.75,show_guess=False,offset=0.5,amplitude=0.3, plot_fit=True,zfill=2,fixed=[0,2,4])\n",
      "CCA.Carbon_T_mult(folder_name ='NuclearDD_111_1_sil18_sweep_evolution_time_auto_C1&2_TomoIX_ROpositive_el1_N04', older_than='20150430_035050', axes=ax, \n",
      "                save_with_folder_name=True, ssro_calib_timestamp='20150519_073236', fit_func='decaying cosine', fancy_plot=True, return_axes=True,\n",
      "                posneg=True, decay_constant=1.75,exponent=1.75,show_guess=False,offset=0.5,amplitude=0.3, plot_fit=True,zfill=1,fixed=[0,2,4])"
     ],
     "language": "python",
     "metadata": {},
     "outputs": []
    },
    {
     "cell_type": "code",
     "collapsed": false,
     "input": [
      "from analysis.scripts.QEC import Two_Qubit_Tomography as TQT\n",
      "reload(TQT)\n",
      "TQT.BarPlotTomoContrastFull_mult_msmts()"
     ],
     "language": "python",
     "metadata": {},
     "outputs": []
    },
    {
     "cell_type": "code",
     "collapsed": false,
     "input": [
      "timestamp = '231312030123'\n",
      "print timestamp[-6:-2]"
     ],
     "language": "python",
     "metadata": {},
     "outputs": []
    },
    {
     "cell_type": "code",
     "collapsed": false,
     "input": [
      "sum(np.r_[0.1,10,30,60,120,250])*4*50/3600\n",
      "# FET[2::3]"
     ],
     "language": "python",
     "metadata": {},
     "outputs": []
    },
    {
     "cell_type": "code",
     "collapsed": false,
     "input": [
      "from analysis.scripts.QEC import Carbon_Coherence_analysis as CCA\n",
      "reload(CCA)\n",
      "carbons_init_list = [[1, 2], [1, 3],  [1, 6], [2, 3], [2, 6],  [3, 6], [5, 6], [1, 5], [3, 5], [2,5]] \n",
      "for carbons in carbons_init_list:\n",
      "    ax, FR = CCA.Carbon_T_mult(return_axes= True, folder_name = 'NuclearDD_111_1_sil18_sweep_evolution_time_auto_C'+str(carbons[0])+'&'+str(carbons[1])+'_LogicpX_TomoXX_ROnegative_el1_N01', \n",
      "                    posneg=True, older_than='20150521_200000', fit_func = 'exp', fixed = [0,2,4],\n",
      "                    decay_constant=0.4,exponent=1.73,show_guess=False,amplitude=0.30, plot_fit=False,zfill=2)\n",
      "    CCA.Carbon_T_mult(axes= ax, folder_name = 'NuclearDD_111_1_sil18_sweep_evolution_time_auto_C'+str(carbons[0])+'&'+str(carbons[1])+'_LogicmX_TomoXX_ROnegative_el1_N01', \n",
      "                    posneg=True, older_than='20150521_200000', fit_func = 'exp', fixed = [0,2,4],\n",
      "                    decay_constant=0.4,exponent=1.73,show_guess=False,amplitude=0.30, plot_fit=False,zfill=2)"
     ],
     "language": "python",
     "metadata": {},
     "outputs": []
    },
    {
     "cell_type": "heading",
     "level": 2,
     "metadata": {},
     "source": [
      "DFS plots"
     ]
    },
    {
     "cell_type": "code",
     "collapsed": false,
     "input": [
      "from analysis.scripts.QEC import Carbon_Coherence_analysis as CCA\n",
      "reload(CCA)\n",
      "# CCA.Carbon_T_mult(folder_name = 'NuclearDD_111_1_sil18_sweep_evolution_time_auto_C3&6_LogicpX_TomoXX_ROpositive', \n",
      "#                     posneg=False, older_than='20150504_235959', fit_func = 'exp', fixed = [0,2,4],\n",
      "#                     decay_constant=0.4,exponent=1.73,show_guess=False,amplitude=0.30, plot_fit=False,zfill=2)\n",
      "CCA.Carbon_DFS(\n",
      "            posneg=True, older_than='20150504_235959', fit_func = 'line',fancy_plot=True,frequency = 0.5, fixed = [0,2], zfill=2,\n",
      "            decay_constant=0.35,exponent=1.73,show_guess=False,amplitude=0.35, plot_fit=True)"
     ],
     "language": "python",
     "metadata": {},
     "outputs": []
    },
    {
     "cell_type": "code",
     "collapsed": false,
     "input": [
      " ([['X','X']])*3"
     ],
     "language": "python",
     "metadata": {},
     "outputs": []
    },
    {
     "cell_type": "code",
     "collapsed": false,
     "input": [
      "all_carbons = [1,2,3,5,6]\n",
      "carbons_init_list = []\n",
      "for carbon in all_carbons:\n",
      "    for carbon2 in all_carbons:\n",
      "        if carbon != carbon2 and [carbon2, carbon] not in carbons_init_list:\n",
      "            carbons_init_list.append([carbon,carbon2])\n",
      "\n",
      "print carbons_init_list            \n",
      "pulses = 0.5\n",
      "reps = 250\n",
      "print 2 * reps * len(carbons_init_list) * sum(np.linspace(0.015/(2.*pulses),0.8/(2.*pulses),10)) /3600\n"
     ],
     "language": "python",
     "metadata": {},
     "outputs": []
    },
    {
     "cell_type": "code",
     "collapsed": false,
     "input": [
      "[4.][0]"
     ],
     "language": "python",
     "metadata": {},
     "outputs": []
    },
    {
     "cell_type": "code",
     "collapsed": false,
     "input": [
      "[['I','X']][0]"
     ],
     "language": "python",
     "metadata": {},
     "outputs": []
    },
    {
     "cell_type": "code",
     "collapsed": false,
     "input": [
      "'paard' in 'paardenwagen'"
     ],
     "language": "python",
     "metadata": {},
     "outputs": []
    },
    {
     "cell_type": "code",
     "collapsed": false,
     "input": [
      "from analysis.scripts.QEC import Carbon_Coherence_analysis as CCA\n",
      "reload(CCA)\n",
      "\n",
      "CCA.Carbon_T_mult(folder_name = '_DecouplingSequence_111_1_sil18_RepT_ShutterNO_XY8sweep_tau_N_1',\n",
      "            posneg=False, older_than='20150624_204111', fit_func = 'exp',frequency = 0.5, fancy_plot=False,fixed = [0,2,4], zfill=1,\n",
      "            decay_constant=0.075,exponent=3,show_guess=False,amplitude=0.4, plot_fit=True)"
     ],
     "language": "python",
     "metadata": {},
     "outputs": []
    },
    {
     "cell_type": "code",
     "collapsed": false,
     "input": [
      "N=8\n",
      "if N % 4 != 0:\n",
      "    print 'Oh No'"
     ],
     "language": "python",
     "metadata": {},
     "outputs": []
    },
    {
     "cell_type": "code",
     "collapsed": false,
     "input": [
      "np.linspace(1000,5000,17)"
     ],
     "language": "python",
     "metadata": {},
     "outputs": []
    },
    {
     "cell_type": "code",
     "collapsed": false,
     "input": [
      "[i for i in range(1,5)]"
     ],
     "language": "python",
     "metadata": {},
     "outputs": []
    },
    {
     "cell_type": "code",
     "collapsed": false,
     "input": [
      "nr_list=[2,5]\n",
      "'&'.join([str(s) for s in nr_list])"
     ],
     "language": "python",
     "metadata": {},
     "outputs": []
    },
    {
     "cell_type": "code",
     "collapsed": false,
     "input": [
      "2.315-0.058"
     ],
     "language": "python",
     "metadata": {},
     "outputs": []
    },
    {
     "cell_type": "code",
     "collapsed": false,
     "input": [
      "np.linspace(1,5,1)"
     ],
     "language": "python",
     "metadata": {},
     "outputs": []
    },
    {
     "cell_type": "code",
     "collapsed": false,
     "input": [
      "256*8"
     ],
     "language": "python",
     "metadata": {},
     "outputs": []
    },
    {
     "cell_type": "code",
     "collapsed": false,
     "input": [
      "A=np.linspace(0.05,40,10)\n",
      "print A\n",
      "print np.array([A[1],A[4],A[6]]), sum(np.array([A[1],A[4],A[6]]))\n",
      "\n",
      "\n",
      "print A[-1], sum(A[-1])*50/3600\n",
      "print A[:8:3], sum(A[:8:3])*50/3600\n",
      "print A[1:9:3], sum(A[1:9:3])*50/3600\n",
      "print A[2:9:3], sum(A[2:9:3])*50/3600\n",
      "print sum(A)*100/3600\n",
      "\n",
      "print [np.array([A[-1]]),A[2:9:3],A[1:9:3],A[:8:3]]\n",
      "\n"
     ],
     "language": "python",
     "metadata": {},
     "outputs": []
    },
    {
     "cell_type": "heading",
     "level": 3,
     "metadata": {},
     "source": [
      "list = [[1,2,3],[4,5,6]]\n",
      "[1+ ]for row in list]"
     ]
    }
   ],
   "metadata": {}
  }
 ]
}
