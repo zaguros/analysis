{
 "metadata": {
  "name": "",
  "signature": ""
 },
 "nbformat": 3,
 "nbformat_minor": 0,
 "worksheets": [
  {
   "cells": [
    {
     "cell_type": "heading",
     "level": 2,
     "metadata": {},
     "source": [
      "Overnight measurements carbon initialization and swap gate"
     ]
    },
    {
     "cell_type": "code",
     "collapsed": false,
     "input": [
      "import qt\n",
      "    \n",
      "execfile(r'D:\\measuring\\measurement\\scripts\\carbonspin\\swap_gate_sten.py')\n",
      "# execfile(r'D:\\measuring\\measurement\\scripts\\carbonspin\\1_carbon_Initialization.py')"
     ],
     "language": "python",
     "metadata": {},
     "outputs": []
    },
    {
     "cell_type": "code",
     "collapsed": false,
     "input": [],
     "language": "python",
     "metadata": {},
     "outputs": []
    }
   ],
   "metadata": {}
  }
 ]
}
