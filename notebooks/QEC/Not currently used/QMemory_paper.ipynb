{
 "cells": [
  {
   "cell_type": "code",
   "execution_count": null,
   "metadata": {
    "collapsed": false
   },
   "outputs": [],
   "source": [
    "import numpy as np\n",
    "import os,sys\n",
    "import matplotlib\n",
    "reload(matplotlib)\n",
    "\n",
    "matplotlib.rc('pdf', fonttype=42)\n",
    "# pdf_with_rc_fonts = {\n",
    "#     'font.family': 'serif',\n",
    "#     'font.serif': ['Times New Roman'],\n",
    "#     'font.sans-serif': ['Arial'],\n",
    "# }\n",
    "# matplotlib.rcParams.update(pdf_with_rc_fonts)\n",
    "\n",
    "# from matplotlib import rcParams\n",
    "# rcParams['font.family'] = 'sans-serif'\n",
    "# rcParams['font.sans-serif'] = ['Arial']\n",
    "# rcParams['font.family'] = 'serif'\n",
    "# rcParams['font.serif'] = ['Times New Roman']\n",
    "\n",
    "\n",
    "sys.path.append(\"D:/measuring/\")\n",
    "sys.path.append(\"D:/measuring/\")\n",
    "sys.path.append(r'D:/measuring/analysis')\n",
    "import analysis.lib.fitting.common as fitlib\n",
    "from analysis.lib.Qmemory import CarbonDephasing as CD\n",
    "reload(CD)\n",
    "execfile(r'D:\\measuring\\analysis\\scripts\\setup_analysis.py')\n",
    "%matplotlib inline"
   ]
  },
  {
   "cell_type": "code",
   "execution_count": null,
   "metadata": {
    "collapsed": false
   },
   "outputs": [],
   "source": [
    "pwd"
   ]
  },
  {
   "cell_type": "markdown",
   "metadata": {},
   "source": [
    "# Repump Speed"
   ]
  },
  {
   "cell_type": "code",
   "execution_count": null,
   "metadata": {
    "collapsed": false
   },
   "outputs": [],
   "source": [
    "reload(CD)\n",
    "powers= [2e-6]\n",
    "#powers = np.append( np.arange(0.1e-6, 2.1e-6, 0.2e-6), np.arange(0.02e-6, 0.22e-6, 0.02e-6) )#, 350e-9, 200e-9, 100e-9, 50e-9, 20e-9])\n",
    "tau, tau_err, tau2, tau2_err = CD.repump_speed_doubleExp(older_than='20151221_161445',#20151105_030558',\n",
    "        exclude_first_n_points =7,amplitude =0.9,\n",
    "        decay_constant_one = 80, \n",
    "        decay_constant_two = 300, x_offs = 20, offset=0.01, log_plot = True,\n",
    "        plot_fit = True, do_print = False, fixed = [0], show_guess = False, \n",
    "        powers= powers)\n",
    "\n",
    "print tau, tau_err, tau2, tau2_err\n",
    "\n",
    "fig = plt.figure()\n",
    "ax = plt.subplot()\n",
    "plt.xlabel('powers')\n",
    "plt.ylabel('tau')\n",
    "plt.errorbar(powers, tau, yerr = tau_err, fmt = 'o', color = 'k', label = 'x')\n",
    "plt.show()\n",
    "plt.close('all')\n",
    "\n",
    "fig = plt.figure()\n",
    "ax = plt.subplot()\n",
    "plt.xlabel('tau2')\n",
    "plt.ylabel('tau')\n",
    "plt.ylim(0,700)\n",
    "plt.xlim(0,3500)\n",
    "plt.errorbar(tau2, tau, yerr = tau_err, xerr=tau2_err, fmt = 'o', color = 'k', label = 'x')\n",
    "plt.show()\n",
    "plt.close('all')\n",
    "#plt.errorbar(tau,tau2, xerr=tau_err, yerr = tau2_err, fmt = 'o', color = 'k', label = 'x')\n",
    "#print fit_result['params_dict']['tau2'], ' +- ', fit_result['error_dict']['tau2']"
   ]
  },
  {
   "cell_type": "code",
   "execution_count": null,
   "metadata": {
    "collapsed": false
   },
   "outputs": [],
   "source": [
    "fig = plt.figure()\n",
    "ax = plt.subplot()\n",
    "plt.xlabel('tau')\n",
    "plt.ylabel('tau2')\n",
    "plt.ylim(0,3500)\n",
    "plt.xlim(0,700)\n",
    "p0, fitfunc, fitfunc_str = fitlib.fit_line(g_a=0,g_b=6.5)\n",
    "x=np.arange(0,700,1)\n",
    "plt.errorbar(x, fitfunc(x), fmt = '', color = 'r', label = 'x')\n",
    "plt.errorbar(tau, tau2, yerr = tau2_err, xerr=tau_err, fmt = 'o', color = 'k', label = 'x')\n",
    "print p0, fitfunc, fitfunc_str\n",
    "fit_result = fit.fit1d(tau, tau2, None, p0 = p0, fitfunc = fitfunc, do_print = True, ret = True)\n",
    "print fit_result\n",
    "\n",
    "plot.plot_fit1d(fit_result, np.linspace(0,1.1 *np.max(tau2),1001), show_guess=True, ax=ax, plot_data=True, add_txt=False, lw=2, color = 'g')\n",
    "\n",
    "plt.show()\n",
    "plt.close('all')\n",
    "#plt.errorbar(tau,tau2, xerr=tau_err, yerr = tau2_err, fmt = 'o', color = 'k', label = 'x')\n",
    "#print fit_result['params_dict']['tau2'], ' +- ', fit_result['error_dict']['tau2']"
   ]
  },
  {
   "cell_type": "markdown",
   "metadata": {},
   "source": [
    "## Paper plot"
   ]
  },
  {
   "cell_type": "code",
   "execution_count": null,
   "metadata": {
    "collapsed": false,
    "scrolled": false
   },
   "outputs": [],
   "source": [
    "reload(CD)\n",
    "binwidth = [None,None,None,None,None]\n",
    "binwidth = [12,12,25,25,25]\n",
    "start_tstamps = ['20151105_032629','20151031_182230','20151025_235900','20151024_131500','20151024_233353' ]\n",
    "stop_timestamps = [ '20151103_211016','20151030_220005','20151025_102306','20151023_193751','20151024_145547']\n",
    "CD.repump_speed_paper_plot(older_than=start_tstamps, newer_than=stop_timestamps, binwidth_ns=binwidth,\n",
    "        exclude_first_n_points = [5,7,2,2,2], offset = [0.,0.,0.,0.,0.], amplitude = [0.8,0.8,0.8,0.8, 0.8], \n",
    "        x0 = [0.,0.,0.,0., 0.], decay_constant_one = [50, 20,300,150,200],\n",
    "        decay_constant_two = [500.,523.,800.,800.,500.], labels = ['E 2000 nW','A 2000 nW','A 190 nW','A 100 nW','A 50 nW'],\n",
    "        x_offs=[0,0,0,0,0], colors=['y','g','c','b','k'], cutoff_ns = [1000,1200,1800,2500,1000],#[800,2200,1200,1500],\n",
    "        plot_fit = True, do_print = False, fixed = [[0],[0],[0],[0],[0]], show_guess = False)"
   ]
  },
  {
   "cell_type": "code",
   "execution_count": null,
   "metadata": {
    "collapsed": false
   },
   "outputs": [],
   "source": [
    "reload(CD)\n",
    "tstamps_E = ['20151219_215910','20151219_215525','20151219_215138']#,\n",
    "tstamps_A = ['20151221_161917','20151221_161445','20151221_161024']\n",
    "CD.repump_speed_pm1_paper_plot(tstamps_E=tstamps_E,tstamps_A=tstamps_A, binwidth_ns=[17,17,17], \n",
    "        labels = [r'$p_{\\left|+1\\right\\rangle}$',r'$p_{\\left|-1\\right\\rangle}$',r'$1-p_{\\left|0\\right\\rangle}$'], #ssro_calib_timestamp=['20151221_160634',None],\n",
    "        exclude_first_n_points_A = [6,6,6], exclude_first_n_points_E = [12,12,12], offset = [0.,0.,0.], amplitude = [0.2,0.7,0.7], x0 = [0.,0.,0.], decay_constant_one = [50,50,50], \n",
    "        decay_constant_two = [440.,440.,440.], x_offs=[-200,0,0], colors=['k','r','b','g'], cutoff_ns = [600,600,600],\n",
    "        plot_fit = True, do_print = False, marker = ['+', 'x', '.'], fixed = [[0,3,4],[0,2,3],[0,2,3]], show_guess = False)"
   ]
  },
  {
   "cell_type": "markdown",
   "metadata": {},
   "source": [
    "# General plotting of positive and negative data"
   ]
  },
  {
   "cell_type": "code",
   "execution_count": null,
   "metadata": {
    "collapsed": false
   },
   "outputs": [],
   "source": [
    "reload(CD)\n",
    "fig = plt.figure()\n",
    "ax = plt.subplot()\n",
    "\n",
    "older_than = None\n",
    "x,y1,y_u,f = CD.get_PosNeg_data('_Tomo_Z_C1',older_than = older_than)\n",
    "CD.plot_data(x,y1,y_u=y_u,fmt='o-')\n",
    "x,y1,y_u,f = CD.get_PosNeg_data('_Tomo_Z_C2',older_than = older_than)\n",
    "CD.plot_data(x,y1,y_u=y_u,fmt='o-')\n",
    "x,y1,y_u,f = CD.get_PosNeg_data('_Tomo_Z_C3',older_than = older_than)\n",
    "CD.plot_data(x,y1,y_u=y_u,fmt='o-')\n",
    "x,y1,y_u,f = CD.get_PosNeg_data('_Tomo_Z_C5',older_than = older_than)\n",
    "CD.plot_data(x,y1,y_u=y_u,fmt='o-')\n",
    "x,y1,y_u,f = CD.get_PosNeg_data('_Tomo_Z_C6',older_than = older_than)\n",
    "CD.plot_data(x,y1,y_u=y_u,fmt='o-')\n",
    "# x,y1,y_u,f = CD.get_PosNeg_data('_statemX_Tomo_ZZ_C12',older_than = '20151023_142159')\n",
    "# CD.plot_data(x,y1,y_u=y_u,fmt='o-')\n",
    "# x,y1,y_u,f = CD.get_PosNeg_data('_Tomo_Y_C2')\n",
    "# CD.plot_data(x,y1,y_u=y_u,fmt='o')\n",
    "# x,y1,y_u,f = CD.get_PosNeg_data('_statemX_Tomo_XX_C25')\n",
    "# CD.plot_data(x,y1,y_u=y_u,fmt='o-')\n",
    "\n",
    "plt.title(CD.get_tstamp_from_folder(f))\n",
    "plt.xlabel('Repetitions')\n",
    "plt.ylabel('<Z>')\n",
    "plt.legend(['C1','C2','C3','C5','C6'],loc=1)#,'logical X C25 YY','logical X C25 XY','logical X C25 YX'])\n",
    "plt.savefig(os.path.join(f,'Pos_neg_data.png'),format='png')\n",
    "plt.show()\n",
    "plt.close('all')"
   ]
  },
  {
   "cell_type": "markdown",
   "metadata": {},
   "source": [
    "# Fit exponential to positive/negative data"
   ]
  },
  {
   "cell_type": "code",
   "execution_count": null,
   "metadata": {
    "collapsed": false
   },
   "outputs": [],
   "source": [
    "reload(CD)\n",
    "import colorsys\n",
    "\n",
    "fig = plt.figure()\n",
    "ax = plt.subplot()\n",
    "fit_exp = False\n",
    "\n",
    "#### get exp decays for all carbon combinations.\n",
    "i = 0\n",
    "states = ['X','mX']\n",
    "carbons = ['26']\n",
    "N =  len(states)*len(carbons)\n",
    "HSV_tuples = [(x*1.0/N, 0.7, 1.) for x in range(N)]\n",
    "RGB_tuples = map(lambda x: colorsys.hsv_to_rgb(*x), HSV_tuples)\n",
    "\n",
    "for state in states:\n",
    "    for Cs in carbons:\n",
    "        f = CD.fit_exp_pos_neg_data('_state'+state+'_Tomo_ZZ_C'+Cs,label = 'C'+Cs+' '+state,ax=ax,color=RGB_tuples[i], fmt='o')\n",
    "        i+=1\n",
    "\n",
    "# f = CD.fit_exp_pos_neg_data('_Tomo_Z_C1',label = 'C1',ax=ax, color='b', fmt='o')\n",
    "# f = CD.fit_exp_pos_neg_data('_Tomo_Z_C2',label = 'C2',ax=ax, color='g', fmt='o')\n",
    "# f = CD.fit_exp_pos_neg_data('_Tomo_Z_C3',label = 'C3',ax=ax, color='r', fmt='o')\n",
    "# f = CD.fit_exp_pos_neg_data('_Tomo_Z_C5',label = 'C5',ax=ax, color='y', fmt='o')\n",
    "# f = CD.fit_exp_pos_neg_data('_Tomo_Z_C6',label = 'C6',ax=ax, color='c', fmt='o')\n",
    "#print f\n",
    "\n",
    "#### plotting/formatting saving\n",
    "plt.title(CD.get_tstamp_from_folder(f)+' 2000 nW')\n",
    "plt.xlabel('Number of Repetitions')\n",
    "plt.ylabel('Expectation value')\n",
    "plt.legend(['C1','fit','C2','fit','C3','fit','C5','fit','C6','fit'],bbox_to_anchor=(1.05, 1), loc=2, borderaxespad=0.)#,'','C3','','C5','','C6'])\n",
    "plt.savefig(os.path.join(f,'Pos_neg_fit_exponential.png'),format='png')\n",
    "plt.show()\n",
    "plt.close('all')"
   ]
  },
  {
   "cell_type": "markdown",
   "metadata": {},
   "source": [
    "# General plot of Bloch vector length"
   ]
  },
  {
   "cell_type": "code",
   "execution_count": null,
   "metadata": {
    "collapsed": false
   },
   "outputs": [],
   "source": [
    "### routine gets raw data for 'X' and 'Y' tomography of a carbon and plots it.\n",
    "\n",
    "reload(CD)\n",
    "older_than = '20151022_190000'\n",
    "#older_than = None\n",
    "f_name = 'Memory_Sweep_repump_time_'\n",
    "\n",
    "CD.Sweep_repetitions(carbon = '1',folder_name = f_name, older_than = older_than, do_T2correct=False, fit_result=False, return_fits=True, fitGauss=True)\n",
    "#CD.Sweep_repetitions(carbon = '5',folder_name = 'Memory_Sweep_repump_time_', older_than = None, do_T2correct=False, fit_result=False, return_fits=True, fitGauss=True)\n",
    "#CD.Sweep_repetitions(carbon = '3',folder_name = 'Memory_Sweep_repump_time_', older_than = older_than)\n",
    "#folder_name = 'Memory_Sweep_repump_time_'\n",
    "#CD.Sweep_repetitions(carbon = c,folder_name = folder_name,logicstate = 'X',return_fits=True,plot_result = True, older_than = '20151002_135716' )\n",
    "#CD.Sweep_repetitions(carbon = c, folder_name = folder_name, logicstate = 'mX', return_fits=True, plot_result = True)#, older_than = '20151002_140212')"
   ]
  },
  {
   "cell_type": "code",
   "execution_count": null,
   "metadata": {
    "collapsed": false
   },
   "outputs": [],
   "source": [
    "reload(CD)\n",
    "f_name = 'Memory_Sweep_repump_time_'\n",
    "older_than = '20151022_190000'#'20151022_220000'\n",
    "CD.avg_repump_time_paper_plot(carbons = ['1','5','2','3'], colors=['b','c','g','y'],\n",
    "                              folder_name = f_name, older_than = older_than, save=False, fig_name = 'Fig3a_avgRPtime', CR_after_check=False) "
   ]
  },
  {
   "cell_type": "code",
   "execution_count": null,
   "metadata": {
    "collapsed": false,
    "scrolled": true
   },
   "outputs": [],
   "source": [
    "reload(CD) \n",
    "# CD.Sweep_Rep_List(carbons = ['3','6'],older_than = '20151102_080000', save=True) \n",
    "older_than = '20151102_080000'\n",
    "logicstate_list = ['X']*5 # length should be equally long to the carbon list\n",
    "CD.decay_vs_rep_paper_plot(carbons = ['6','1','5','2','3'], logicstate_list = logicstate_list,\n",
    "            fit_results = True,do_T2correct=True, older_than = older_than, \n",
    "            x_max = 800, colors = ['k','b','c','g','y'],  plotquantum = True, plotclassical = True, fig_name='Fig3_XDecay', plotlabel ='(b)')\n",
    "logicstate_list = ['X','X','X','mX'] # length should be equally long to the carbon list\n",
    "CD.decay_vs_rep_paper_plot(carbons = ['5','2','25','25'], logicstate_list = logicstate_list,\n",
    "            fit_results = True,do_T2correct=True, older_than = older_than,plotquantum = True,plotclassical = True,\n",
    "            x_max=2300, colors = ['c','g','m','r'], fig_name='Fig4a_DFS', plotlabel ='(a)')"
   ]
  },
  {
   "cell_type": "code",
   "execution_count": null,
   "metadata": {
    "collapsed": false
   },
   "outputs": [],
   "source": [
    "reload(CD)\n",
    "# CD.Osci_period(carbon = '5',older_than = None,freq=0,fixed = [0,1,3])\n",
    "# CD.Osci_period(carbon = '2',older_than = None)\n",
    "CD.Osci_period(carbon = '2',older_than = None,fit_results = True)"
   ]
  },
  {
   "cell_type": "markdown",
   "metadata": {},
   "source": [
    "# Coupling strength vs repetition decay"
   ]
  },
  {
   "cell_type": "code",
   "execution_count": null,
   "metadata": {
    "collapsed": false,
    "scrolled": false
   },
   "outputs": [],
   "source": [
    "reload(CD)\n",
    "\n",
    "update_data = False\n",
    "try:  #does last data exist?\n",
    "    dummy = lastdata\n",
    "except:\n",
    "    print 'No last data'\n",
    "    update_data = True\n",
    "    lastdata=None\n",
    "\n",
    "do_T2correct = True\n",
    "LogPlot = True\n",
    "\n",
    "c_idents = ['1','2','3','5','6','12','13','15','16','23','25','26','35','36','56']\n",
    "#c_idents = ['1','2','15','16']\n",
    "\n",
    "older_than_list=['20151105_050000', '20151102_080000','20151026_020000','20151024_131500','20151025_030000']\n",
    "labels = ['E 2000 nW', 'A 2000 nW','A 190 nW','A 100 nW','A 50 nW']\n",
    "styles = ['yo', 'go', 'co', 'bo',  'ko']\n",
    "fit_colors = ['y','g','c', 'b' ,'k']   # no color assigned means no fit is done.\n",
    "\n",
    "lastdata = CD.coupling_vs_rep_paper_plot(c_idents=c_idents, older_than_list=older_than_list, \n",
    "                labels = labels, styles=styles, fit_colors=fit_colors, LogPlot=LogPlot, \n",
    "                fixed = [[0],[0],[0],[0],[0]], \n",
    "                update_data=update_data, lastdata = lastdata, do_T2correct=do_T2correct, \n",
    "                fit_guess = (1,0.00044,0), fit_guess_art = (1, 0.00044,0))"
   ]
  },
  {
   "cell_type": "code",
   "execution_count": null,
   "metadata": {
    "collapsed": true
   },
   "outputs": [],
   "source": [
    "reload(CD)\n",
    "data:image/png;base64,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\n",
    "update_data = False\n",
    "try:  #does last data exist?\n",
    "    print lastdata\n",
    "except:\n",
    "    print 'No last data'\n",
    "    update_data = True\n",
    "\n",
    "do_T2correct = True\n",
    "LogPlot = True\n",
    "\n",
    "c_idents = ['1','2','3','5','6']\n",
    "older_than_list=['20151102_080000']\n",
    "labels = c_idents\n",
    "styles = ['ro', 'ko', 'go',  'bo', 'yx']\n",
    "fit_colors = ['r', 'k', 'g', 'b', 'y']   # no color assigned means no fit is done.\n",
    "\n",
    "lastdata = CD.coupling_vs_rep_paper_plot(c_idents=c_idents, older_than_list=older_than_list, \n",
    "                labels = labels, styles=styles, fit_colors=fit_colors, LogPlot=LogPlot, update_data=update_data, lastdata = lastdata, do_T2correct=do_T2correct)"
   ]
  },
  {
   "cell_type": "code",
   "execution_count": null,
   "metadata": {
    "collapsed": false
   },
   "outputs": [],
   "source": [
    "ShortRP=[21,32,47,114]\n",
    "LongRP=[275,540,675,971]\n",
    "Fitted_times=[400,550,670,730]\n",
    "plt.errorbar(LongRP,ShortRP,None,fmt = 'ro')\n",
    "plt.ylabel('Short repump time')\n",
    "plt.xlabel('Long repump time')\n",
    "plt.ylim(0,150)\n",
    "plt.xlim(0,1000)\n"
   ]
  },
  {
   "cell_type": "code",
   "execution_count": null,
   "metadata": {
    "collapsed": false
   },
   "outputs": [],
   "source": [
    "plt.errorbar(Fitted_times, LongRP, None,fmt = 'bo', label = 'long')\n",
    "plt.errorbar(Fitted_times, np.array(4*np.pi)*ShortRP, None,fmt = 'ro',label='4pi * short')\n",
    "plt.errorbar(np.arange(0,1500,10),np.arange(0,1500,10), None,fmt = 'y',label='y=x')\n",
    "plt.legend(loc=2)\n",
    "plt.ylabel('Measured repump time')\n",
    "plt.xlabel('Fitted repump time')\n",
    "plt.xlim(0,1500)\n",
    "plt.ylim(0,1500)\n",
    "print np.array(np.pi)*Fitted_times"
   ]
  },
  {
   "cell_type": "markdown",
   "metadata": {},
   "source": [
    "## Initialization values for various carbons (execute script 3Qubit_inits)"
   ]
  },
  {
   "cell_type": "code",
   "execution_count": null,
   "metadata": {
    "collapsed": false
   },
   "outputs": [],
   "source": [
    "from analysis.scripts.QEC import Two_Qubit_Tomography as Tomo2\n",
    "reload(Tomo2)\n",
    "carbon_combinations = [[1,2,3],[1,2,5],[1,2,6],[1,3,5],[1,3,6],[1,5,6],[2,3,5],[2,3,6],[2,5,6],[3,5,6]]\n",
    "# carbon_combinations = [[1,2,5]]\n",
    "for kk in carbon_combinations:\n",
    "    x_label,x,res,res_err = Tomo2.BarPlotTomoContrast(tag = '_'+str(kk[0])+str(kk[1])+str(kk[2])+'_init',\n",
    "                                                      plot_fit = False, \n",
    "                                                      return_data = True,\n",
    "                                                      save = False)\n",
    "    print 'Carbons {} {} {}: {} {:.2} +- {:.2} and {} {:.2} +- {:.2}'.format(kk[0],kk[1],kk[2],x_label[0],res[0],res_err[0],x_label[1],res[1],res_err[1])"
   ]
  },
  {
   "cell_type": "markdown",
   "metadata": {},
   "source": [
    "# Decay with repump power/time"
   ]
  },
  {
   "cell_type": "code",
   "execution_count": null,
   "metadata": {
    "collapsed": false
   },
   "outputs": [],
   "source": [
    "reload(CD)\n",
    "reload(fitlib)\n",
    "\n",
    "fig = plt.figure()\n",
    "ax = plt.subplot()\n",
    "plt.xlabel('Pump power (uW))')\n",
    "plt.ylabel('Fitted decay constant')\n",
    "#plt.ylim([0,4])\n",
    "\n",
    "update_data=True\n",
    "if update_data:\n",
    "    older_than ='20150903_232308'\n",
    "    powers=np.array([3.5e-6, 2.7e-6, 2e-6, 1.5e-6, 1e-6, 5e-7, 2e-7, 1e-7, 6e-8, 4e-8, 3e-8])\n",
    "    x1,y1,y_u1, folder = CD.repump_power_vs_repetitions(c_identifier='1', repump_powers = powers, do_T2correct=True, older_than = '20150904_121025')\n",
    "    x2,y2,y_u2, folder2 = CD.repump_power_vs_repetitions(c_identifier='2', repump_powers = powers, do_T2correct=True, older_than = '20150903_232308')\n",
    "\n",
    "plt.errorbar(powers*1e6,y1,y_u1,fmt = 'o',color = 'b', label = 'C1')\n",
    "plt.errorbar(powers*1e6,y2,y_u2,fmt = 'o',color = 'g', label = 'C2')\n",
    "\n",
    "if older_than != None:\n",
    "    plt.title('older_than ' + older_than)\n",
    "else:\n",
    "    plt.title(CD.get_tstamp_from_folder(folder))\n",
    "plt.legend()#bbox_to_anchor=(1.05, 1), loc=2, borderaxespad=0.)\n",
    "plt.savefig(os.path.join(folder,'power_vs_repetitions.pdf'),format='pdf')\n",
    "plt.savefig(os.path.join(folder,'power_vs_repeititons.png'),format='png')\n",
    "plt.show()\n",
    "plt.close('all')\n",
    "    \n",
    "######################### GET SHORT AND FAST PUMPING TIMESCALES AND PLOT DATA AS A FUNCTION OF THOSE\n",
    "\n",
    "if update_data:\n",
    "    tau, tau_err = CD.repump_speed_doubleExp(older_than='20150904_125052', exclude_first_n_points = 10, \n",
    "            offset = 1, amplitude_one = -0.7, amplitude_two = -0, x0 = 0, decay_constant_one = 0.06, \n",
    "            decay_constant_two = 1.06, fixed = [3,4], show_guess = True, do_print = False, \n",
    "            powers=[3500e-9, 2700e-9, 2000e-9, 1500e-9, 1000e-9, 500e-9, 200e-9, 100e-9, 60e-9, 40e-9, 30e-9], \n",
    "            plot_fit = False, plot_results = False)\n",
    "    #tau = tau+np.array(0.45)\n",
    "\n",
    "# tau2, tau_err2 = CD.repump_speed_doubleExp(timestamp='20150903_232308',#'20150903_125250',\n",
    "#         exclude_first_n_points = 10, offset = 1, amplitude_one = -0.7,\n",
    "#         amplitude_two = -0, x0 = 0, decay_constant_one = 0.06, \n",
    "#         decay_constant_two = 1.06, fixed = [3,4], show_guess = False, do_print = False, \n",
    "#         powers=[3500e-9, 2700e-9, 2000e-9, 1500e-9, 1000e-9, 500e-9, 200e-9, 100e-9, 60e-9, 40e-9, 30e-9], \n",
    "#         plot_fit = False, plot_results = True)\n",
    "\n",
    "fig = plt.figure()\n",
    "ax = plt.subplot()\n",
    "\n",
    "plt.xlabel('Repump time constant (us)')\n",
    "plt.ylabel('Fitted decay constant')\n",
    "if False: #Log-Plot\n",
    "    plt.ylim(10,500)\n",
    "    ax.set_yscale(\"log\", nonposy='clip')\n",
    "else:\n",
    "    plt.ylim(0,500)\n",
    "plt.errorbar(tau, y1, yerr = y_u1,xerr = tau_err,fmt = 'o',color = 'b', label = 'C1')\n",
    "plt.errorbar(tau, y2, yerr = y_u2,xerr = tau_err,fmt = 'o',color = 'g', label = 'C2')\n",
    "\n",
    "\n",
    "p0,fitfunc,fitfunc_str =fitlib.fit_dephasing_constant_offset(1., 55.*(10**(-3)), 0.)\n",
    "#p0,fitfunc,fitfunc_str =fitlib.fit_hyperbola(1., 55.*(10**(-3)), 0.07)\n",
    "#p0,fitfunc,fitfunc_str =fitlib.fit_exp_decay_shifted_with_offset(0,200,0.2,0) # g_a : offset g_A : initial Amplitude g_tau : decay constant g_x0 : x offset\n",
    "\n",
    "if True: #show guess\n",
    "    ax.plot(np.linspace(0.05,1.1*np.max(tau),201), fitfunc(np.linspace(0.05,1.2,201)), ':', lw=2, color = 'r')\n",
    "\n",
    "fit_result = fit.fit1d(np.array(tau), np.array(y1), None, p0 = p0, fitfunc = fitfunc, do_print = True, ret = True, fixed = [0])\n",
    "plot.plot_fit1d(fit_result, np.linspace(0.05,1.1*np.max(tau),1001), ax=ax, plot_data=False, add_txt=False, lw=2, color = 'b')\n",
    "\n",
    "p0,fitfunc,fitfunc_str =fitlib.fit_dephasing_constant_offset(1., 20.*(10**(-3)), 0.07)\n",
    "fit_result2 = fit.fit1d(np.array(tau),np.array(y2) ,None, p0 = p0, fitfunc = fitfunc, do_print = False, ret = True,fixed = [0])\n",
    "print fit_result['params_dict']\n",
    "print fit_result2['params_dict']\n",
    "plot.plot_fit1d(fit_result2, np.linspace(0.05,1.1 *np.max(tau),1001), ax=ax, plot_data=False, add_txt=False, lw=2, color = 'g')\n",
    "if True:\n",
    "    print 'saving to: ', folder\n",
    "    plt.savefig(os.path.join(folder,'repumptimescale_vs_repetitions.pdf'),format='pdf')\n",
    "    plt.savefig(os.path.join(folder,'repumptimescale_vs_repetitions.png'),format='png')\n",
    "plt.show()\n",
    "plt.close('all')\n"
   ]
  },
  {
   "cell_type": "markdown",
   "metadata": {},
   "source": [
    "##### Compareregular Pi and BB1 pulses"
   ]
  },
  {
   "cell_type": "code",
   "execution_count": null,
   "metadata": {
    "collapsed": false
   },
   "outputs": [],
   "source": [
    "execfile(r'D:\\measuring\\analysis\\scripts\\Quantum_Memory\\LT2_compare_pi_bb1.py')"
   ]
  },
  {
   "cell_type": "raw",
   "metadata": {},
   "source": []
  },
  {
   "cell_type": "markdown",
   "metadata": {},
   "source": [
    "##### First plot of reps vs repump time"
   ]
  },
  {
   "cell_type": "code",
   "execution_count": null,
   "metadata": {
    "collapsed": false
   },
   "outputs": [],
   "source": [
    "RepumpPower_uW=[1.8, 0.5, 0.1, 0.03, 0.06, 0.04, 1., 0.2, 0.46, 0.5]\n",
    "RepumpTimes_fast_ns=[74.5, 115, 264, 707, 341, 647, 97.9, 162, 428, 122]\n",
    "RepumpTimes_fast_us=np.array(RepumpTimes_fast_ns)/1000.\n",
    "RepumpTimes_fast_Err_ns=[0.5, 10, 34, 86, 53, 69, 0.7, 14, 7, 0.9]\n",
    "RepumpTimes_fast_Err=np.array(RepumpTimes_fast_Err_ns)/1000.\n",
    "RepumpTimes_slow_ns=[926, 850, 1393, 2970, 1382, 3347, 1087, 1035, 1778, 1173]\n",
    "RepumpTimes_slow_Err=[158, 139, 144, 686, 168, 737, 169, 130, 234, 173]\n",
    "NoReps=[220, 138, 112, 72, 86, 86, 198, 158, 79, 184]\n",
    "NoRepsErr=[15, 10, 10, 5, 7, 4, 14, 22, 6, 17]\n",
    "plt.errorbar(RepumpTimes_fast_us, NoReps, xerr=RepumpTimes_fast_Err, yerr=NoRepsErr, fmt = 'o', label = 'fast')\n",
    "#plt.errorbar(RepumpTimes_slow_ns, NoReps, xerr=RepumpTimes_slow_Err, yerr=NoRepsErr, fmt = 'o', label = 'slow')\n",
    "plt.xlabel('Short repump timescale (us)')\n",
    "plt.ylabel('Repetitions (1/e)')\n",
    "plt.ylim(0.500)\n",
    "    \n",
    "g_a, g_A, g_tau = 70, 200, 150\n",
    "#p0, fitfunc, fitfunc_str = fitlib.fit_exp_decay_with_offset(g_a, g_A, g_tau)\n",
    "p0,fitfunc,fitfunc_str =fitlib.fit_dephasing_constant_offset(1., 100.*(10**(-3)), 0.)\n",
    "#plot the initial guess\n",
    "\n",
    "if True: #Show Guess\n",
    "    plt.plot(np.linspace(0.1,1,201), fitfunc(np.linspace(0.1,1.,201)), ':', lw=2)\n",
    "   \n",
    "    \n",
    "fit_result = fit.fit1d(np.array(RepumpTimes_fast_us),np.array( NoReps), None, p0=p0, fitfunc=fitfunc, ret=True, do_print=False,fixed=[0])\n",
    "\n",
    "if True: ## plot data and fit\n",
    "    ax = plt.subplot()\n",
    "    plot.plot_fit1d(fit_result, np.linspace(0.05,1.,1001), ax=ax, plot_data=False)\n"
   ]
  },
  {
   "cell_type": "markdown",
   "metadata": {},
   "source": [
    "#### ZZ decay as a function of perp hyperfine strength"
   ]
  },
  {
   "cell_type": "code",
   "execution_count": null,
   "metadata": {
    "collapsed": false
   },
   "outputs": [],
   "source": [
    "reload(CD)\n",
    "\n",
    "\n",
    "### get exp decays for all carbon combinations.\n",
    "carbons = ['12','13','15','16','23','25','26','35','36','56','1','2','3','5','6']\n",
    "older_than = '20151026_014111' ### 190 nW\n",
    "CD.Z_decay_vs_perp_coupling(c_idents = carbons, older_than = older_than)\n",
    "\n",
    "carbons = ['1','2','3','5','6']\n",
    "older_than = '20151026_014111' ### 190 nW\n",
    "CD.Z_decay_vs_perp_coupling(c_idents = carbons, older_than = older_than)"
   ]
  },
  {
   "cell_type": "markdown",
   "metadata": {},
   "source": [
    "#### Laser stability"
   ]
  },
  {
   "cell_type": "code",
   "execution_count": null,
   "metadata": {
    "collapsed": false
   },
   "outputs": [],
   "source": [
    "from analysis.lib.Qmemory import CheckLaserPower as Laser; reload(Laser)\n",
    "\n",
    "Laser.CheckPower('NewfocusAOM','ADWIN',nr_of_files=10)\n",
    "Laser.CheckPower('MatisseAOM','ADWIN',nr_of_files=10)"
   ]
  },
  {
   "cell_type": "code",
   "execution_count": null,
   "metadata": {
    "collapsed": false
   },
   "outputs": [],
   "source": []
  }
 ],
 "metadata": {
  "kernelspec": {
   "display_name": "Python 2",
   "language": "python",
   "name": "python2"
  },
  "language_info": {
   "codemirror_mode": {
    "name": "ipython",
    "version": 2
   },
   "file_extension": ".py",
   "mimetype": "text/x-python",
   "name": "python",
   "nbconvert_exporter": "python",
   "pygments_lexer": "ipython2",
   "version": "2.7.6"
  }
 },
 "nbformat": 4,
 "nbformat_minor": 0
}
