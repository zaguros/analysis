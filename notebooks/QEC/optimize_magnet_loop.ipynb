{
 "cells": [
  {
   "cell_type": "code",
   "execution_count": null,
   "metadata": {
    "collapsed": false
   },
   "outputs": [],
   "source": [
    "%matplotlib inline\n",
    "import sys\n",
    "sys.path.append(r'D:/measuring')\n",
    "sys.path.append(r'D:/analysis')\n",
    "\n",
    "import analysis.scripts.stability_analysis.optimize_magnet_Zpos_loop as ml\n",
    "\n"
   ]
  },
  {
   "cell_type": "code",
   "execution_count": null,
   "metadata": {
    "collapsed": false
   },
   "outputs": [],
   "source": [
    "### first load the magnetic field data\n",
    "reload(ml)\n",
    "ml.fit_B_msmt_loop(older_than = '20160804_051010', newer_than = '20160803_211400',filename = 'magnet_z_loop_gr100_init', contains= 'magnet_Zpos_optimize_init')"
   ]
  },
  {
   "cell_type": "code",
   "execution_count": null,
   "metadata": {
    "collapsed": false
   },
   "outputs": [],
   "source": [
    "### plot the magnetic field data\n",
    "reload(ml)\n",
    "fit_result = ml.plot_meas_B_loop(filename = 'magnet_z_loop_gr100_init', optimization_target = 10)"
   ]
  },
  {
   "cell_type": "code",
   "execution_count": null,
   "metadata": {
    "collapsed": true
   },
   "outputs": [],
   "source": [
    "### first load the magnetic field data\n",
    "reload(ml)\n",
    "ml.fit_B_msmt_loop(older_than = '20160804_063910', newer_than = '20160803_215500',filename = 'magnet_z_loop_gr100_all_measurements',contains= 'magnet_')"
   ]
  },
  {
   "cell_type": "code",
   "execution_count": null,
   "metadata": {
    "collapsed": true
   },
   "outputs": [],
   "source": [
    "### plot the magnetic field data\n",
    "reload(ml)\n",
    "fit_result = ml.plot_meas_B_loop(filename = 'magnet_z_loop_gr100_all_measurements')"
   ]
  },
  {
   "cell_type": "code",
   "execution_count": null,
   "metadata": {
    "collapsed": true
   },
   "outputs": [],
   "source": [
    "### first load the magnetic field data\n",
    "reload(ml)\n",
    "ml.fit_B_msmt_loop(older_than = '20160804_204500', newer_than = '20160804_182200',filename = 'magnet_z_loop_gr100_all_temptrack', contains= 'magnet_')"
   ]
  },
  {
   "cell_type": "code",
   "execution_count": null,
   "metadata": {
    "collapsed": false,
    "scrolled": true
   },
   "outputs": [],
   "source": [
    "### plot the magnetic field data\n",
    "reload(ml)\n",
    "fit_result = ml.plot_meas_B_loop(filename = 'magnet_z_loop_gr100_all_temptrack')"
   ]
  },
  {
   "cell_type": "code",
   "execution_count": null,
   "metadata": {
    "collapsed": false
   },
   "outputs": [],
   "source": [
    "### first load the magnetic field data\n",
    "reload(ml)\n",
    "ml.fit_B_msmt_loop(older_than = '20160804_204500', newer_than = '20160804_182200',filename = 'magnet_z_loop_gr100_init_temptrack', contains= 'magnet_Zpos_optimize_init')"
   ]
  },
  {
   "cell_type": "code",
   "execution_count": null,
   "metadata": {
    "collapsed": false
   },
   "outputs": [],
   "source": [
    "### plot the magnetic field data\n",
    "reload(ml)\n",
    "fit_result = ml.plot_meas_B_loop(filename = 'magnet_z_loop_gr100_init_temptrack')"
   ]
  },
  {
   "cell_type": "code",
   "execution_count": null,
   "metadata": {
    "collapsed": false
   },
   "outputs": [],
   "source": [
    "### first load the magnetic field data\n",
    "# The code had a problem\n",
    "reload(ml)\n",
    "ml.fit_B_msmt_loop(older_than = '20160807_061000', newer_than = '20160806_020500',filename = 'magnet_z_loop_gr100_all_tempcorr',contains= 'magnet_')"
   ]
  },
  {
   "cell_type": "code",
   "execution_count": null,
   "metadata": {
    "collapsed": false,
    "scrolled": true
   },
   "outputs": [],
   "source": [
    "### plot the magnetic field data\n",
    "reload(ml)\n",
    "fit_result = ml.plot_meas_B_loop(filename = 'magnet_z_loop_gr100_all_tempcorr', optimization_target= 13, plot_out_of_range= False)"
   ]
  },
  {
   "cell_type": "code",
   "execution_count": null,
   "metadata": {
    "collapsed": false
   },
   "outputs": [],
   "source": [
    "### first load the magnetic field data\n",
    "# The code had a problem\n",
    "reload(ml)\n",
    "ml.fit_B_msmt_loop(older_than = '20160807_061000', newer_than = '20160806_020500',filename = 'magnet_z_loop_gr100_init_tempcorr',contains= 'magnet_optimize_init')"
   ]
  },
  {
   "cell_type": "code",
   "execution_count": null,
   "metadata": {
    "collapsed": false,
    "scrolled": true
   },
   "outputs": [],
   "source": [
    "### plot the magnetic field data\n",
    "reload(ml)\n",
    "fit_result = ml.plot_meas_B_loop(filename = 'magnet_z_loop_gr100_init_tempcorr', optimization_target= 13, plot_out_of_range= False)"
   ]
  },
  {
   "cell_type": "code",
   "execution_count": null,
   "metadata": {
    "collapsed": false
   },
   "outputs": [],
   "source": [
    "### first load the magnetic field data\n",
    "# The code had a problem\n",
    "reload(ml)\n",
    "ml.fit_B_msmt_loop(older_than = '20160807_061000', newer_than = '20160806_020500',filename = 'magnet_z_loop_gr100_steps_tempcorr', contains='magnet_optimize_after_tcorrct')"
   ]
  },
  {
   "cell_type": "code",
   "execution_count": null,
   "metadata": {
    "collapsed": false
   },
   "outputs": [],
   "source": [
    "### plot the magnetic field data\n",
    "reload(ml)\n",
    "fit_result = ml.plot_steps(filename = 'magnet_z_loop_gr100_steps_tempcorr', optimization_target= 13 )"
   ]
  },
  {
   "cell_type": "code",
   "execution_count": null,
   "metadata": {
    "collapsed": false
   },
   "outputs": [],
   "source": [
    "### first load the magnetic field data\n",
    "# The code had a problem\n",
    "reload(ml)\n",
    "ml.fit_B_msmt_loop(older_than = '20160808_150000', newer_than = '20160808_020400',filename = 'magnet_z_loop_gr100_steps_tempcorr', contains='magnet_optimize_after')"
   ]
  },
  {
   "cell_type": "code",
   "execution_count": null,
   "metadata": {
    "collapsed": false
   },
   "outputs": [],
   "source": [
    "### plot the magnetic field data\n",
    "reload(ml)\n",
    "fit_result = ml.plot_steps(filename = 'magnet_z_loop_gr100_steps_tempcorr', optimization_target= 8 )"
   ]
  },
  {
   "cell_type": "code",
   "execution_count": null,
   "metadata": {
    "collapsed": false
   },
   "outputs": [],
   "source": [
    "### first load the magnetic field data\n",
    "# The code had a problem\n",
    "reload(ml)\n",
    "ml.fit_B_msmt_loop(older_than = '20160808_150000', newer_than = '20160808_020400',filename = 'magnet_z_loop_gr100_init_tempcorr_opt8', contains='magnet_optimize_init')"
   ]
  },
  {
   "cell_type": "code",
   "execution_count": null,
   "metadata": {
    "collapsed": false
   },
   "outputs": [],
   "source": [
    "### plot the magnetic field data\n",
    "reload(ml)\n",
    "fit_result = ml.plot_meas_B_loop(filename = 'magnet_z_loop_gr100_init_tempcorr_opt8', optimization_target= 8, plot_out_of_range= False )"
   ]
  },
  {
   "cell_type": "code",
   "execution_count": null,
   "metadata": {
    "collapsed": false
   },
   "outputs": [],
   "source": [
    "### first load the magnetic field data\n",
    "# The code had a problem\n",
    "reload(ml)\n",
    "ml.fit_B_msmt_loop(older_than = '20160810_075300', newer_than = '20160809_234000',filename = 'magnet_z_loop_fb_vs_nofb_fb', contains='magnet_optimize_tcorr')"
   ]
  },
  {
   "cell_type": "code",
   "execution_count": null,
   "metadata": {
    "collapsed": false,
    "scrolled": false
   },
   "outputs": [],
   "source": [
    "### plot the magnetic field data\n",
    "reload(ml)\n",
    "fit_result = ml.plot_meas_B_loop(filename = 'magnet_z_loop_fb_vs_nofb_fb', optimization_target= 8, plot_out_of_range= False )"
   ]
  },
  {
   "cell_type": "code",
   "execution_count": null,
   "metadata": {
    "collapsed": true
   },
   "outputs": [],
   "source": [
    "### first load the magnetic field data\n",
    "# The code had a problem\n",
    "reload(ml)\n",
    "ml.fit_B_msmt_loop(older_than = '20160810_075300', newer_than = '20160809_234000',filename = 'magnet_z_loop_fb_vs_nofb_nofb', contains='magnet_free')"
   ]
  },
  {
   "cell_type": "code",
   "execution_count": null,
   "metadata": {
    "collapsed": false,
    "scrolled": false
   },
   "outputs": [],
   "source": [
    "### plot the magnetic field data\n",
    "reload(ml)\n",
    "fit_result = ml.plot_meas_B_loop(filename = 'magnet_z_loop_fb_vs_nofb_nofb', optimization_target= 8, plot_out_of_range= False )"
   ]
  },
  {
   "cell_type": "code",
   "execution_count": null,
   "metadata": {
    "collapsed": false
   },
   "outputs": [],
   "source": [
    "### first load the magnetic field data\n",
    "# The code had a problem\n",
    "reload(ml)\n",
    "ml.fit_B_msmt_loop(older_than = '20160809_212300', newer_than = '20160809_191500',filename = 'magnet_z_loop_fb_vs_nofb_fb_unstabl_gr130', contains='magnet_optimize_tcorr')"
   ]
  },
  {
   "cell_type": "code",
   "execution_count": null,
   "metadata": {
    "collapsed": false
   },
   "outputs": [],
   "source": [
    "### plot the magnetic field data\n",
    "reload(ml)\n",
    "fit_result = ml.plot_meas_B_loop(filename = 'magnet_z_loop_fb_vs_nofb_fb_unstabl_gr130', optimization_target= 8, plot_out_of_range= False )"
   ]
  },
  {
   "cell_type": "code",
   "execution_count": null,
   "metadata": {
    "collapsed": false
   },
   "outputs": [],
   "source": [
    "### first load the magnetic field data\n",
    "# The code had a problem\n",
    "reload(ml)\n",
    "ml.fit_B_msmt_loop(older_than = '20160809_191000', newer_than = '20160809_150300',filename = 'magnet_z_loop_fb_vs_nofb_fb_unstabl_gr100', contains='magnet_optimize_tcorr')\n",
    "ml.fit_B_msmt_loop(older_than = '20160811_083400', newer_than = '20160810_233500',filename = 'magnet_z_loop_fb_vs_nofb_fb_unstabl_gr100_11_08', contains='magnet_optimize_tcorr')\n",
    " "
   ]
  },
  {
   "cell_type": "code",
   "execution_count": null,
   "metadata": {
    "collapsed": false
   },
   "outputs": [],
   "source": [
    "### plot the magnetic field data\n",
    "reload(ml)\n",
    "# fit_result = ml.plot_meas_B_loop(filename = 'magnet_z_loop_fb_vs_nofb_fb_unstabl_gr130', optimization_target= 8, plot_out_of_range= False )\n",
    "fit_result = ml.plot_meas_B_loop(filename = 'magnet_z_loop_fb_vs_nofb_fb_unstabl_gr100_11_08', optimization_target= 8, plot_out_of_range= False )"
   ]
  },
  {
   "cell_type": "code",
   "execution_count": null,
   "metadata": {
    "collapsed": false
   },
   "outputs": [],
   "source": [
    "87.49 - 83.50"
   ]
  },
  {
   "cell_type": "code",
   "execution_count": null,
   "metadata": {
    "collapsed": true
   },
   "outputs": [],
   "source": []
  }
 ],
 "metadata": {
  "kernelspec": {
   "display_name": "Python 2",
   "language": "python",
   "name": "python2"
  },
  "language_info": {
   "codemirror_mode": {
    "name": "ipython",
    "version": 2
   },
   "file_extension": ".py",
   "mimetype": "text/x-python",
   "name": "python",
   "nbconvert_exporter": "python",
   "pygments_lexer": "ipython2",
   "version": "2.7.10"
  }
 },
 "nbformat": 4,
 "nbformat_minor": 0
}
