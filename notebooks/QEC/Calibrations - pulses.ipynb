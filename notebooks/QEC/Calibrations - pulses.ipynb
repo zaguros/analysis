{
 "cells": [
  {
   "cell_type": "markdown",
   "metadata": {},
   "source": [
    "# Pulse calibrations"
   ]
  },
  {
   "cell_type": "code",
   "execution_count": null,
   "metadata": {
    "collapsed": false
   },
   "outputs": [],
   "source": [
    "import sys\n",
    "import numpy as np\n",
    "sys.path.append(r'D:/measuring')\n",
    "from analysis.scripts.QEC import simple_fingerprint as FP\n",
    "from analysis.scripts.QEC import Carbon_control_analysis_sweep_N\n",
    "from analysis.scripts.pulse_calibration import calibrate_pi; reload(calibrate_pi)"
   ]
  },
  {
   "cell_type": "markdown",
   "metadata": {},
   "source": [
    "## Pi-pulses"
   ]
  },
  {
   "cell_type": "code",
   "execution_count": null,
   "metadata": {
    "collapsed": false
   },
   "outputs": [],
   "source": [
    "reload(calibrate_pi)\n",
    "calibrate_pi.analyse_pulse_calibration(angle='_pi_1', guess_x0=0.8)"
   ]
  },
  {
   "cell_type": "code",
   "execution_count": null,
   "metadata": {
    "collapsed": false
   },
   "outputs": [],
   "source": [
    "#Hermite Pi\n",
    "execfile(r'D:\\measuring\\analysis\\scripts\\setup_analysis.py')\n",
    "from analysis.scripts.bell import calibration_tools\n",
    "reload(calibration_tools)\n",
    "folder=tb.latest_data('_Pi_')\n",
    "fig, ax = plt.subplots(1,1, figsize=(4.5,4))\n",
    "#fit=calibration_tools.fit_parabolic(folder, x0_guess=.4,a_guess=12,of_guess=0.99, ax=ax)\n",
    "fit=calibration_tools.fit_parabolic(folder, x0_guess=0.190,a_guess=1,of_guess=0.9, ax=ax)\n",
    "#fit=calibration_tools.fit_gaussian(folder, x0_guess=0.02,a_guess=1)\n",
    "#fit=calibration_tools.fit_linear(folder, a_guess = 1., b_guess=0., ax=ax)\n",
    "fit_result=calibration_tools.plot_result(folder, ax=ax, ret=True)\n",
    "ax.set_ylim(-0.1,1)\n",
    "print folder\n",
    "print 'fitted minimal fidelity {0:.3f} +- {1:.3f}'.format((1-fit['params'][0]),fit['error'][0])\n",
    "print 'Fitted minimum at {0:.3f} +- {1:.3f}'.format((fit['params'][2]),fit['error'][2])\n",
    "plt.show()"
   ]
  },
  {
   "cell_type": "code",
   "execution_count": null,
   "metadata": {
    "collapsed": false
   },
   "outputs": [],
   "source": [
    "reload(calibrate_pi)\n",
    "calibrate_pi.analyse_pulse_calibration(angle='_pi_')"
   ]
  },
  {
   "cell_type": "markdown",
   "metadata": {},
   "source": [
    "## Pi2-pulses"
   ]
  },
  {
   "cell_type": "code",
   "execution_count": null,
   "metadata": {
    "collapsed": false
   },
   "outputs": [],
   "source": [
    "#Hermite pi/2\n",
    "execfile(r'D:\\measuring\\analysis\\scripts\\espin\\calibration_pi2_CORPSE.py')"
   ]
  },
  {
   "cell_type": "code",
   "execution_count": null,
   "metadata": {
    "collapsed": false
   },
   "outputs": [],
   "source": [
    "############Calibrate Elec Transfer Pulse #####################\n",
    "execfile(r'D:\\measuring\\analysis\\scripts\\setup_analysis.py')\n",
    "from analysis.scripts.QEC import basic_plot_contrast\n",
    "reload(basic_plot_contrast)\n",
    "\"20160421_204714\"\n",
    "# for delay in [200.0,240.0,280.0,320.0,360.0,400.0,440.0,480.0,520.0,560.0,600.0]:\n",
    "\n",
    "#     fit1=basic_plot_contrast.simple_plot_pop(folder_name_list =['_measured_m1delay_'+str(delay),'measured_0delay_'+str(delay),'_measured_p1delay_'+str(delay)],\n",
    "#                                          timestamp = '20160421_204333',\n",
    "#                                          fitting = True,\n",
    "#                                          f_list=[1,1,1],\n",
    "#                                          a_list=[0.5,0.5,0.5],\n",
    "#                                          A_list=[0.5,0.5,0.5],\n",
    "#                                          phase_list=[90,90,90]\n",
    "#                                          )\n",
    "\n",
    "# for delay in sorted([150.0,157.0,164.0,171.0,178.0,185.0,192.0,199.0,206.0,213.0,220.0,200.0,240.0,280.0,320.0,360.0,400.0,440.0,480.0,520.0,560.0,600.0]):\n",
    "\n",
    "#     fit1=basic_plot_contrast.simple_plot_pop(folder_name_list =['_measured_m1delay_'+str(delay),'measured_0delay_'+str(delay),'_measured_p1delay_'+str(delay)],\n",
    "#                                          timestamp = '20160421_200359',\n",
    "#                                          fitting = True,\n",
    "#                                          f_list=[0.5,0.5,0.5],\n",
    "#                                          a_list=[0.08,0.5,0.5],\n",
    "#                                          A_list=[0.04,0.5,0.5],\n",
    "#                                          phase_list=[90,90,90],save=True\n",
    "#                                          )\n",
    "\n",
    "for delay in [150.0,160.0,170.0,180.0,190.0,200.0,210.0,220.0,230.0,240.0,250.0,260.0,270.0,280.0,290.0,300.0]:\n",
    "\n",
    "    fit1=basic_plot_contrast.simple_plot_pop(folder_name_list =['_measured_m1delay_'+str(delay)+'_V2','measured_0delay_'+str(delay)+'_V2','_measured_p1delay_'+str(delay)+'_V2'],\n",
    "                                         timestamp  = '20160421_22495',\n",
    "                                         fitting = True,\n",
    "                                         f_list=[1,1,1],\n",
    "                                         a_list=[0.5,0.5,0.5],\n",
    "                                         A_list=[0.5,0.5,0.5],\n",
    "                                         phase_list=[90,90,0],save=False\n",
    "                                         )\n",
    "\n",
    "\n",
    "# fit1=basic_plot_contrast.simple_plot_pop(folder_name_list =['_measured_m1','measured_0','_measured_p1'],\n",
    "#                                          timestamp = '20160421_170617',\n",
    "#                                          fitting = True,\n",
    "#                                          f_list=[0.5,0.5,0.5],\n",
    "#                                          a_list=[0.5,0.5,0.5],\n",
    "#                                          A_list=[0.5,0.5,0.5],\n",
    "#                                          phase_list=[180,-180,0],\n",
    "#                                          save=True)"
   ]
  },
  {
   "cell_type": "code",
   "execution_count": null,
   "metadata": {
    "collapsed": false
   },
   "outputs": [],
   "source": [
    "############Calibrate Elec Transfer Pulse #####################\n",
    "execfile(r'D:\\measuring\\analysis\\scripts\\setup_analysis.py')\n",
    "from analysis.scripts.QEC import basic_plot_contrast\n",
    "reload(basic_plot_contrast)\n",
    "for delay in [230.0]:\n",
    "    fit1=basic_plot_contrast.simple_plot_pop(folder_name_list =['_measured_m1delay_'+str(delay)+'calib_phase','measured_0delay_'+str(delay)+'calib_phase','_measured_p1delay_'+str(delay)+'calib_phase'],\n",
    "                                         timestamp = '20160426_203158',\n",
    "                                         fitting = True,\n",
    "                                         f_list=[0.5,0.5,0.5],\n",
    "                                         a_list=[0.5,0.5,0.5],\n",
    "                                         A_list=[0.5,0.5,0.5],\n",
    "                                         phase_list=[180,-180,0],\n",
    "                                         save=True\n",
    "                                         )"
   ]
  },
  {
   "cell_type": "code",
   "execution_count": null,
   "metadata": {
    "collapsed": false
   },
   "outputs": [],
   "source": [
    "############Calibrate Elec Transfer Pulse #####################\n",
    "execfile(r'D:\\measuring\\analysis\\scripts\\setup_analysis.py')\n",
    "from analysis.scripts.QEC import basic_plot_contrast\n",
    "reload(basic_plot_contrast)\n",
    "\n",
    "for c in [4]:\n",
    "    fit1=basic_plot_contrast.simple_plot_pop(folder_name_list =['gate_cal_carbon_'+str(c)+'_el_negative','gate_cal_carbon_'+str(c)+'_el_positive'],\n",
    "                                         timestamp = '20160425_170305',\n",
    "                                         fitting = True,\n",
    "                                         f_list=[0.5,0.5,0.5],\n",
    "                                         a_list=[0.5,0.5,0.5],\n",
    "                                         A_list=[0.5,0.5,0.5],\n",
    "                                         phase_list=[180,-180,0],\n",
    "                                         save=True\n",
    "                                         )"
   ]
  },
  {
   "cell_type": "code",
   "execution_count": null,
   "metadata": {
    "collapsed": false
   },
   "outputs": [],
   "source": [
    "############Calibrate Elec Transfer Pulse #####################\n",
    "execfile(r'D:\\measuring\\analysis\\scripts\\setup_analysis.py')\n",
    "from analysis.scripts.QEC import basic_plot_contrast\n",
    "reload(basic_plot_contrast)\n",
    "'20160421_204333'\n",
    "\n",
    "\n",
    "fit1=basic_plot_contrast.fit_max_amp_p1(delay_list =[150.0,157.0,164.0,171.0,178.0,185.0,192.0,199.0,206.0,213.0,220.0,200.0,240.0,280.0,320.0,360.0,400.0,440.0,480.0,520.0,560.0,600.0],\n",
    "                                        timestamp = '20160421_200359',\n",
    "                                        save = True)\n",
    "\n",
    "# fit1=basic_plot_contrast.fit_max_amp_m1(delay_list =[150.0,160.0,170.0,180.0,190.0,200.0,210.0,220.0,230.0,240.0,250.0,260.0,270.0,280.0,290.0,300.0],\n",
    "#                                         timestamp = '20160421_22495',\n",
    "#                                         save = True)"
   ]
  },
  {
   "cell_type": "code",
   "execution_count": null,
   "metadata": {
    "collapsed": false
   },
   "outputs": [],
   "source": []
  },
  {
   "cell_type": "code",
   "execution_count": null,
   "metadata": {
    "collapsed": false
   },
   "outputs": [],
   "source": []
  }
 ],
 "metadata": {
  "kernelspec": {
   "display_name": "Python 2",
   "language": "python",
   "name": "python2"
  },
  "language_info": {
   "codemirror_mode": {
    "name": "ipython",
    "version": 2
   },
   "file_extension": ".py",
   "mimetype": "text/x-python",
   "name": "python",
   "nbconvert_exporter": "python",
   "pygments_lexer": "ipython2",
   "version": "2.7.10"
  }
 },
 "nbformat": 4,
 "nbformat_minor": 0
}
