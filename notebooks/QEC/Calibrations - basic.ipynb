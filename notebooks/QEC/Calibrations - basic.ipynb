{
 "cells": [
  {
   "cell_type": "code",
   "execution_count": null,
   "metadata": {
    "collapsed": false
   },
   "outputs": [],
   "source": [
    "%matplotlib inline\n",
    "import sys\n",
    "sys.path.append(r'D:/measuring')\n",
    "sys.path.append(r'D:/analysis')\n",
    "\n",
    "from analysis.lib.m2.ssro import ssro\n",
    "\n",
    "reload(ssro)\n",
    "from analysis.lib.tools import toolbox\n",
    "\n",
    "execfile(r'D:\\measuring\\analysis\\scripts\\setup_analysis.py')\n"
   ]
  },
  {
   "cell_type": "markdown",
   "metadata": {},
   "source": [
    "## SSRO Calibration "
   ]
  },
  {
   "cell_type": "code",
   "execution_count": null,
   "metadata": {
    "collapsed": false,
    "scrolled": false
   },
   "outputs": [],
   "source": [
    "# sssro.ssrocalib()\n",
    "ssro.ssrocalib()"
   ]
  },
  {
   "cell_type": "markdown",
   "metadata": {},
   "source": [
    "### dark ESR"
   ]
  },
  {
   "cell_type": "code",
   "execution_count": null,
   "metadata": {
    "collapsed": false
   },
   "outputs": [],
   "source": [
    "execfile(r'D:\\measuring\\analysis\\scripts\\espin\\dark_esr_analysis.py')"
   ]
  },
  {
   "cell_type": "markdown",
   "metadata": {},
   "source": [
    "#### DESR single dip or zoom"
   ]
  },
  {
   "cell_type": "code",
   "execution_count": null,
   "metadata": {
    "collapsed": true
   },
   "outputs": [],
   "source": [
    "### Fit DESR with a single dip\n",
    "from analysis.scripts.espin import dark_esr_analysis_single as analyze_dark_esr_single; reload(analyze_dark_esr_single)\n",
    "analyze_dark_esr_single.analyze_dark_esr_single()\n"
   ]
  },
  {
   "cell_type": "code",
   "execution_count": null,
   "metadata": {
    "collapsed": false
   },
   "outputs": [],
   "source": [
    "### Fit DESR with a double dip\n",
    "from analysis.scripts.espin import dark_esr_analysis_single as analyze_dark_esr_single; reload(analyze_dark_esr_single)\n",
    "analyze_dark_esr_single.analyze_dark_esr_double()"
   ]
  },
  {
   "cell_type": "markdown",
   "metadata": {},
   "source": [
    "#### Electron Rabi"
   ]
  },
  {
   "cell_type": "code",
   "execution_count": null,
   "metadata": {
    "collapsed": false,
    "scrolled": false
   },
   "outputs": [],
   "source": [
    "execfile(r'D:\\measuring\\analysis\\scripts\\espin\\electron_rabi_analysis.py')\n",
    "# from analysis.scripts.espin import electron_rabi_analysis as er; reload(er)\n",
    "#er.rabi_analysis(timestamp = None, guess_frq = 1/3.,guess_k = 1e-9,guess_amp = 0.2,guess_of =0.5 )\n"
   ]
  },
  {
   "cell_type": "code",
   "execution_count": null,
   "metadata": {
    "collapsed": false,
    "scrolled": false
   },
   "outputs": [],
   "source": [
    "execfile(r'D:\\measuring\\analysis\\scripts\\espin\\electron_ramsey_analysis.py')"
   ]
  },
  {
   "cell_type": "code",
   "execution_count": null,
   "metadata": {
    "collapsed": true
   },
   "outputs": [],
   "source": []
  },
  {
   "cell_type": "code",
   "execution_count": null,
   "metadata": {
    "collapsed": false
   },
   "outputs": [],
   "source": [
    "1./6"
   ]
  },
  {
   "cell_type": "markdown",
   "metadata": {},
   "source": [
    "#### MBI Dark ESR"
   ]
  },
  {
   "cell_type": "code",
   "execution_count": null,
   "metadata": {
    "collapsed": true
   },
   "outputs": [],
   "source": [
    "execfile(r'D:\\measuring\\analysis\\scripts\\mbi\\mbi_dark_esr_analysis.py')"
   ]
  },
  {
   "cell_type": "code",
   "execution_count": null,
   "metadata": {
    "collapsed": false
   },
   "outputs": [],
   "source": []
  },
  {
   "cell_type": "markdown",
   "metadata": {},
   "source": [
    "#### MBI Rabi"
   ]
  },
  {
   "cell_type": "code",
   "execution_count": null,
   "metadata": {
    "collapsed": true
   },
   "outputs": [],
   "source": [
    "execfile(r'D:\\measuring\\analysis\\scripts\\mbi\\mbi_electron_rabi_analysis.py')"
   ]
  },
  {
   "cell_type": "markdown",
   "metadata": {},
   "source": [
    "#### MBI Ramsey"
   ]
  },
  {
   "cell_type": "code",
   "execution_count": null,
   "metadata": {
    "collapsed": true
   },
   "outputs": [],
   "source": [
    "execfile(r'D:\\measuring\\analysis\\scripts\\mbi\\mbi_electron_ramsey_analysis.py')"
   ]
  },
  {
   "cell_type": "markdown",
   "metadata": {},
   "source": [
    "#### MBI RO electron flip analysis "
   ]
  },
  {
   "cell_type": "code",
   "execution_count": null,
   "metadata": {
    "collapsed": true
   },
   "outputs": [],
   "source": [
    "execfile(r'D:\\measuring\\analysis\\scripts\\QEC\\MBI_DESR_RO_flip_analysis.py')"
   ]
  },
  {
   "cell_type": "markdown",
   "metadata": {},
   "source": [
    "### Repumping time with AWG"
   ]
  },
  {
   "cell_type": "code",
   "execution_count": null,
   "metadata": {
    "collapsed": false
   },
   "outputs": [],
   "source": [
    "### Phase sweep ###\n",
    "#Use one fo the Carbon_ramsey analyisis scripts as it already comes with the possibility to fit to a varying RO phase.\n",
    "from analysis.scripts.QEC import carbon_ramsey_analysis as cr\n",
    "reload(cr)\n",
    "Result=cr.Carbon_Ramsey(timestamp='20150717_165912', \n",
    "                        offset = 1., amplitude = -1., x0=0, decay_constant = 1000, exponent = 1, \n",
    "                        frequency = 0., phase =0, \n",
    "                        plot_fit = False, show_guess = False,fixed = [2,4,5,6])"
   ]
  },
  {
   "cell_type": "markdown",
   "metadata": {},
   "source": [
    "### Electron T1"
   ]
  },
  {
   "cell_type": "code",
   "execution_count": null,
   "metadata": {
    "collapsed": false
   },
   "outputs": [],
   "source": [
    "folder= tb.latest_data('sil18_init_0_RO_0')\n",
    "ssro_folder = tb.latest_data('SSROCalibration') \n",
    "a=sequence.SequenceAnalysis(folder)\n",
    "test =a.get_sweep_pts()\n",
    "a.get_readout_results(name='ssro')\n",
    "a.get_electron_ROC(ssro_calib_folder=ssro_folder)\n",
    "ax = a.plot_result_vs_sweepparam(ret='ax', name='ssro')\n"
   ]
  },
  {
   "cell_type": "code",
   "execution_count": null,
   "metadata": {
    "collapsed": false
   },
   "outputs": [],
   "source": [
    "execfile(r'D:\\measuring\\analysis\\scripts\\setup_analysis.py')\n",
    "from analysis.scripts.bell import calibration_tools\n",
    "reload(calibration_tools)\n",
    "folder=tb.latest_data('ElectronT1_111_1_')\n",
    "a, ax, x, y = calibration_tools.plot_result(folder)\n",
    "\n",
    "p0,fitfunc,fitfunc_str=common.fit_exp_decay_with_offset(g_a=0.3,g_A=0.7,g_tau=5000)\n",
    "\n",
    "fit_result = fit.fit1d(x,y, None, p0=p0, fitfunc=fitfunc,\n",
    "        fitfunc_str=fitfunc_str, do_print=True, ret=True,fixed = [])\n",
    "print folder\n",
    "plt.plot(np.linspace(x[0]-50,x[-1]+50,201), fit_result['fitfunc'](np.linspace(x[0],x[-1],201)))\n",
    "plt.savefig(os.path.join(folder,'T1_result.pdf'),format='pdf')\n",
    "plt.show()\n",
    "plt.close('all')"
   ]
  },
  {
   "cell_type": "code",
   "execution_count": null,
   "metadata": {
    "collapsed": true
   },
   "outputs": [],
   "source": []
  }
 ],
 "metadata": {
  "kernelspec": {
   "display_name": "Python 2",
   "language": "python",
   "name": "python2"
  },
  "language_info": {
   "codemirror_mode": {
    "name": "ipython",
    "version": 2
   },
   "file_extension": ".py",
   "mimetype": "text/x-python",
   "name": "python",
   "nbconvert_exporter": "python",
   "pygments_lexer": "ipython2",
   "version": "2.7.10"
  }
 },
 "nbformat": 4,
 "nbformat_minor": 0
}
