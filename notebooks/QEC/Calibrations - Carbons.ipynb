{
 "cells": [
  {
   "cell_type": "code",
   "execution_count": null,
   "metadata": {
    "collapsed": false
   },
   "outputs": [],
   "source": [
    "execfile(r'D:\\measuring\\analysis\\scripts\\setup_analysis.py')\n",
    "\n",
    "from analysis.scripts.QEC import carbon_ramsey_analysis as cr\n",
    "%matplotlib inline "
   ]
  },
  {
   "cell_type": "markdown",
   "metadata": {},
   "source": [
    "## Gate calibration"
   ]
  },
  {
   "cell_type": "code",
   "execution_count": null,
   "metadata": {
    "collapsed": false
   },
   "outputs": [],
   "source": [
    "### Gate calibration, Version 3: Try a set of 9 tau,N combinations to find optimum1\n",
    "\n",
    "from analysis.scripts.QEC import Carbon_gate_calibration_v2 as carbon_calib_v2; reload(carbon_calib_v2)\n",
    "\n",
    "carbon_calib_v2.get_gate_fidelity(carbon = 1)\n",
    "carbon_calib_v2.get_gate_fidelity(carbon = 2)\n",
    "carbon_calib_v2.get_gate_fidelity(carbon = 4)\n",
    "#carbon_calib_v2.get_gate_fidelity(carbon = 3)\n",
    "carbon_calib_v2.get_gate_fidelity(carbon = 5)\n",
    "\n",
    "#carbon_calib_v2.get_gate_fidelity(carbon = 3)\n",
    "#carbon_calib_v2.get_gate_fidelity(carbon = 5)\n",
    "\n"
   ]
  },
  {
   "cell_type": "code",
   "execution_count": null,
   "metadata": {
    "collapsed": false
   },
   "outputs": [],
   "source": [
    "432141-196+51+26-71"
   ]
  },
  {
   "cell_type": "markdown",
   "metadata": {},
   "source": [
    "## Composite Gate Amplitude (OK I will!)"
   ]
  },
  {
   "cell_type": "code",
   "execution_count": null,
   "metadata": {
    "collapsed": false
   },
   "outputs": [],
   "source": [
    "### Gate calibration, Version 3: Try a set of 9 tau,N combinations to find optimum1\n",
    "from analysis.scripts.QEC import Composite_sweeps_analysis as comp_calib; reload(comp_calib)\n",
    "from analysis.scripts.QEC import composite_amplitude_analysis as comp_amp; reload(comp_amp)\n",
    "\n",
    "\n",
    "comp_amp.get_gate_fidelity(carbon = 1)\n",
    "#comp_amp.get_gate_fidelity(carbon = 2)\n",
    "#comp_amp.get_gate_fidelity(carbon = 3)\n",
    "#comp_amp.get_gate_fidelity(carbon = 5)\n",
    "#comp_amp.get_gate_fidelity(carbon = 6)\n",
    "\n"
   ]
  },
  {
   "cell_type": "markdown",
   "metadata": {},
   "source": [
    "## Frequency Calibration"
   ]
  },
  {
   "cell_type": "code",
   "execution_count": null,
   "metadata": {
    "collapsed": false
   },
   "outputs": [],
   "source": [
    "### DD frequency calibration ###\n",
    "reload(cr)\n",
    "Result=cr.Carbon_Ramsey_DD_freq(frequency =421e3, offset = 0.5, amplitude = 0.4,exponent=1,carbon= 6,\n",
    "                        decay_constant =0.01,phase =0, plot_fit = True, show_guess = False,fixed = [2,4])"
   ]
  },
  {
   "cell_type": "code",
   "execution_count": null,
   "metadata": {
    "collapsed": false
   },
   "outputs": [],
   "source": [
    "### Single frequency ###\n",
    "reload(cr)\n",
    "Result=cr.Carbon_Ramsey(title = 'sweep_N_', frequency =1/70., offset = 0.5, amplitude = 0.4,exponent=1,  \n",
    "                        decay_constant =100,phase =0, plot_fit = True, show_guess = False,fixed = [2,4])"
   ]
  },
  {
   "cell_type": "code",
   "execution_count": null,
   "metadata": {
    "collapsed": false
   },
   "outputs": [],
   "source": [
    "### Phase sweep ###\n",
    "reload(cr)\n",
    "Result=cr.Carbon_Ramsey(timestamp='20150421_135423' , \n",
    "                        offset = 0.5, amplitude = 0.1, x0=0, decay_constant = 1e5, exponent = 2, \n",
    "                        frequency = 1/360., phase =0, \n",
    "                        plot_fit = True, show_guess = False,fixed = [0,2,3,4,5])"
   ]
  },
  {
   "cell_type": "markdown",
   "metadata": {},
   "source": [
    "## Single carbon init"
   ]
  },
  {
   "cell_type": "code",
   "execution_count": null,
   "metadata": {
    "collapsed": false
   },
   "outputs": [],
   "source": [
    "from analysis.scripts.QEC import Two_Qubit_Tomography as Tomo2\n",
    "reload(Tomo2)\n",
    "### carbon init\n",
    "carbons =[1]\n",
    "init_method ='MBI' ### 'swap' or 'MBI'\n",
    "\n",
    "for c in carbons:\n",
    "   ###for init in init_method:\n",
    "       Tomo2.BarPlotTomoContrast(tag = '_'+str(c)+'_'+init_method)\n",
    "        "
   ]
  },
  {
   "cell_type": "code",
   "execution_count": null,
   "metadata": {
    "collapsed": false
   },
   "outputs": [],
   "source": [
    "#GateRamsey\n",
    "execfile(r'D:\\measuring\\analysis\\scripts\\setup_analysis.py')\n",
    "from analysis.scripts.QEC import ramsey_fit\n",
    "reload(ramsey_fit)\n",
    "\n",
    "fit1=ramsey_fit.fit_ramsey(title ='181508_Sweep_carbon_Gate_positive_C1',timestamp = None,Rmbi_guess=0.5, theta_guess=80, \n",
    "                          phi_guess=175, show_guess = True,do_fit = True)\n",
    "\n",
    "fit2=ramsey_fit.fit_ramsey(title ='182106_Sweep_carbon_Gate_positive_C2',timestamp = None,Rmbi_guess=0.5, theta_guess=80, \n",
    "                          phi_guess=175, show_guess = True,do_fit = True)\n",
    "\n",
    "fit5=ramsey_fit.fit_ramsey(title ='182742_Sweep_carbon_Gate_positive_C5',timestamp = None,Rmbi_guess=0.5, theta_guess=80, \n",
    "                          phi_guess=175, show_guess = True,do_fit = True)\n",
    "\n",
    "\n"
   ]
  },
  {
   "cell_type": "code",
   "execution_count": null,
   "metadata": {
    "collapsed": false
   },
   "outputs": [],
   "source": [
    "### Gate calibration, Version 4: Plotting composite gates\n",
    "from analysis.scripts.QEC import Composite_sweeps_analysis as comp_calib; reload(comp_calib)\n",
    "from analysis.scripts.QEC import composite_amplitude_analysis as comp_amp; reload(comp_amp)\n",
    "from analysis.scripts.QEC import composite_amplitude_analysis_v2 as comp_amp_v2; reload(comp_amp_v2)\n",
    "\n",
    "%matplotlib inline \n",
    "\n",
    "\n",
    "### Carbon 1 1209/1210 and 2,5 1212###\n",
    "'''\n",
    "comp_amp.get_gate_fidelity(carbon = 1,pwlist=[4.0,8.0,12.0,16.0,20.0,24.0],Ndifflist=[-6,-4,-2,0,2,4,6],ssro_tstamp='20151209_171816',older_than='20151212_205828')\n",
    "comp_amp.get_gate_fidelity(carbon = 2,pwlist=[4.0,8.0,16.0,20.0],Ndifflist=[-6,-4,-2,0,2,4,6],ssro_tstamp='20151212_133433',older_than='20151212_205828')\n",
    "comp_amp.get_gate_fidelity(carbon = 5,pwlist=[4.0,8.0,16.0,20.0],Ndifflist=[-6,-4,-2,0,2,4,6],ssro_tstamp='20151212_133433',older_than='20151212_205828')\n",
    "\n",
    "comp_amp.get_gate_fidelity(carbon = 1,pwlist=[4.0,8.0,12.0],Ndifflist=[-4,-2,0,2,4],ssro_tstamp='20151215_153834',older_than='20151216_002249')\n",
    "comp_amp.get_gate_fidelity(carbon = 2,pwlist=[4.0,8.0,12.0],Ndifflist=[-4,-2,0,2,4],ssro_tstamp='20151215_153834',older_than='20151216_002249')\n",
    "comp_amp.get_gate_fidelity(carbon = 5,pwlist=[4.0,8.0,12.0],Ndifflist=[-4,-2,0,2,4],ssro_tstamp='20151215_153834',older_than='20151216_002249')\n",
    "'''\n",
    "'''\n",
    "comp_amp.get_gate_fidelity(carbon = 1,pwlist=[16.0],Ndifflist=[-10,-8,-6,-4,-2,0,2,4])\n",
    "'''\n",
    "\n",
    "comp_amp_v2.get_gate_fidelity(carbon = 1,pwlist=[16.0,20.0,24.0,28.0,32.0,36.0],Ndifflist=[-4,-2,2,4],older_than='20160218_00331',ssro_tsamp='20160217_173752')\n",
    "'''\n",
    "\n",
    "comp_amp.get_gate_fidelity(carbon = 1,pwlist=[40.0,36.0,32.0,28.0,24.0,20.0,16.0,12.0,8.0],Ndifflist=[-8,-4,0,4,8],ssro_tstamp='20160219_103853')\n",
    "''' "
   ]
  },
  {
   "cell_type": "code",
   "execution_count": null,
   "metadata": {
    "collapsed": false
   },
   "outputs": [],
   "source": []
  },
  {
   "cell_type": "code",
   "execution_count": null,
   "metadata": {
    "collapsed": false
   },
   "outputs": [],
   "source": [
    "\n",
    "            "
   ]
  },
  {
   "cell_type": "code",
   "execution_count": null,
   "metadata": {
    "collapsed": false
   },
   "outputs": [],
   "source": [
    "['a','xd']+['b','def']"
   ]
  },
  {
   "cell_type": "code",
   "execution_count": null,
   "metadata": {
    "collapsed": false
   },
   "outputs": [],
   "source": []
  },
  {
   "cell_type": "code",
   "execution_count": null,
   "metadata": {
    "collapsed": false
   },
   "outputs": [],
   "source": []
  },
  {
   "cell_type": "code",
   "execution_count": null,
   "metadata": {
    "collapsed": false
   },
   "outputs": [],
   "source": []
  },
  {
   "cell_type": "code",
   "execution_count": null,
   "metadata": {
    "collapsed": false
   },
   "outputs": [],
   "source": []
  },
  {
   "cell_type": "code",
   "execution_count": null,
   "metadata": {
    "collapsed": false
   },
   "outputs": [],
   "source": [
    "def compsweep(tres,hwidth,Nres,Ndiff):\n",
    "    tmin=tres-hwidth\n",
    "    tmax=tres+hwidth\n",
    "    tpairs=[]\n",
    "    for phases in [0,45,90,135,180,225,270,315]:\n",
    "            tpairs.append([Nres+Ndiff,round(tmin,10),Nres-Ndiff,round(tmax,10),phases])\n",
    "            \n",
    "    return transpose(tpairs).tolist()\n",
    "\n",
    "compsweep(7.214e-6,40e-9,60,0)"
   ]
  },
  {
   "cell_type": "code",
   "execution_count": null,
   "metadata": {
    "collapsed": false
   },
   "outputs": [],
   "source": [
    "np.arange(len([1,2,3,4]))"
   ]
  },
  {
   "cell_type": "code",
   "execution_count": null,
   "metadata": {
    "collapsed": false
   },
   "outputs": [],
   "source": [
    "sort([0,90]*4).tolist()"
   ]
  },
  {
   "cell_type": "code",
   "execution_count": null,
   "metadata": {
    "collapsed": false
   },
   "outputs": [],
   "source": [
    "for i,phase in enumerate(['1','5','4','7','8']):\n",
    "    \n",
    "    print i,phase"
   ]
  },
  {
   "cell_type": "code",
   "execution_count": null,
   "metadata": {
    "collapsed": false
   },
   "outputs": [],
   "source": [
    "str(-9)"
   ]
  },
  {
   "cell_type": "code",
   "execution_count": null,
   "metadata": {
    "collapsed": false
   },
   "outputs": [],
   "source": [
    "'1'+str([])+'1'"
   ]
  },
  {
   "cell_type": "code",
   "execution_count": null,
   "metadata": {
    "collapsed": false
   },
   "outputs": [],
   "source": [
    "print('up')"
   ]
  },
  {
   "cell_type": "code",
   "execution_count": null,
   "metadata": {
    "collapsed": false
   },
   "outputs": [],
   "source": [
    "['up']=='up'"
   ]
  },
  {
   "cell_type": "code",
   "execution_count": null,
   "metadata": {
    "collapsed": false
   },
   "outputs": [],
   "source": [
    "            tpairs.append([round(Nres/4,-1)*2+Ndiff,round(tmin,10),round(Nres/4,-1)*2+Ndiff,round(tmax,10),phases])\n"
   ]
  },
  {
   "cell_type": "code",
   "execution_count": null,
   "metadata": {
    "collapsed": false
   },
   "outputs": [],
   "source": [
    " nreslist={'1' = 42,'2'= 32,'5'=44}"
   ]
  },
  {
   "cell_type": "code",
   "execution_count": null,
   "metadata": {
    "collapsed": false
   },
   "outputs": [],
   "source": [
    "nreslist.pop('1')"
   ]
  },
  {
   "cell_type": "code",
   "execution_count": null,
   "metadata": {
    "collapsed": false
   },
   "outputs": [],
   "source": [
    "[1,2,3,4,5][3-1::-1]"
   ]
  },
  {
   "cell_type": "code",
   "execution_count": null,
   "metadata": {
    "collapsed": false
   },
   "outputs": [],
   "source": []
  }
 ],
 "metadata": {
  "kernelspec": {
   "display_name": "Python 2",
   "language": "python",
   "name": "python2"
  },
  "language_info": {
   "codemirror_mode": {
    "name": "ipython",
    "version": 2
   },
   "file_extension": ".py",
   "mimetype": "text/x-python",
   "name": "python",
   "nbconvert_exporter": "python",
   "pygments_lexer": "ipython2",
   "version": "2.7.10"
  }
 },
 "nbformat": 4,
 "nbformat_minor": 0
}
