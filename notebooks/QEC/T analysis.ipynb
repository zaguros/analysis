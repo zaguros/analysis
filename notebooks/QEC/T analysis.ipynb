{
 "cells": [
  {
   "cell_type": "code",
   "execution_count": null,
   "metadata": {
    "collapsed": false,
    "scrolled": true
   },
   "outputs": [],
   "source": [
    "import sys\n",
    "import numpy as np\n",
    "sys.path.append(r'D:/measuring')\n",
    "from analysis.scripts.espin import electron_T1_analysis; reload(electron_T1_analysis)\n",
    "import numpy as np\n",
    "import h5py\n",
    "from matplotlib import pyplot as plt\n",
    "from analysis.lib.tools import toolbox as tb\n",
    "from analysis.lib.m2 import m2\n",
    "from analysis.lib.m2.ssro import ssro, mbi, sequence, pqsequence\n",
    "from analysis.lib.fitting import fit, common\n",
    "from analysis.lib.tools import plot\n",
    "reload(electron_T1_analysis)\n",
    "%matplotlib inline \n"
   ]
  },
  {
   "cell_type": "code",
   "execution_count": null,
   "metadata": {
    "collapsed": false
   },
   "outputs": [],
   "source": [
    "reload(electron_T1_analysis)\n",
    "electron_T1_analysis.electron_T1_anal(timestamp=None, measurement_name = ['ms0'],Amplitude = 0.8, T1 = 1000, offset =0.3,do_print = False)"
   ]
  },
  {
   "cell_type": "code",
   "execution_count": null,
   "metadata": {
    "collapsed": true
   },
   "outputs": [],
   "source": []
  }
 ],
 "metadata": {
  "kernelspec": {
   "display_name": "Python 2",
   "language": "python",
   "name": "python2"
  },
  "language_info": {
   "codemirror_mode": {
    "name": "ipython",
    "version": 2
   },
   "file_extension": ".py",
   "mimetype": "text/x-python",
   "name": "python",
   "nbconvert_exporter": "python",
   "pygments_lexer": "ipython2",
   "version": "2.7.10"
  }
 },
 "nbformat": 4,
 "nbformat_minor": 0
}
