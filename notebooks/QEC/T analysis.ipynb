{
 "cells": [
  {
   "cell_type": "code",
   "execution_count": null,
   "metadata": {
    "collapsed": false,
    "scrolled": true
   },
   "outputs": [],
   "source": [
    "import sys\n",
    "import numpy as np\n",
    "sys.path.append(r'D:/measuring')\n",
    "from analysis.scripts.espin import electron_T1_analysis; reload(electron_T1_analysis)\n",
    "import numpy as np\n",
    "import h5py\n",
    "from matplotlib import pyplot as plt\n",
    "from analysis.lib.tools import toolbox as tb\n",
    "from analysis.lib.m2 import m2\n",
    "from analysis.lib.m2.ssro import ssro, mbi, sequence, pqsequence\n",
    "from analysis.lib.fitting import fit, common\n",
    "from analysis.lib.tools import plot\n",
    "reload(electron_T1_analysis)\n",
    "\n",
    "import matplotlib as matplotlib\n",
    "font = {'family' : 'normal',\n",
    "        'weight' : 'normal',\n",
    "        'size'   : 18}\n",
    "\n",
    "matplotlib.rc('font', **font)\n",
    "\n",
    "%matplotlib inline \n"
   ]
  },
  {
   "cell_type": "code",
   "execution_count": null,
   "metadata": {
    "collapsed": false,
    "scrolled": true
   },
   "outputs": [],
   "source": [
    "reload(electron_T1_analysis)\n",
    "electron_T1_analysis.electron_T1_anal ( Amplitude=1, offset=1, T1=1e7)"
   ]
  },
  {
   "cell_type": "code",
   "execution_count": null,
   "metadata": {
    "collapsed": true
   },
   "outputs": [],
   "source": [
    "reload(electron_T1_analysis)\n",
    "electron_T1_analysis.electron_T1_mul(older_than='20161110_172800',newer_than='20161110_141500', Amplitude=1, offset=0.33, T1=1e4)"
   ]
  },
  {
   "cell_type": "code",
   "execution_count": null,
   "metadata": {
    "collapsed": true
   },
   "outputs": [],
   "source": [
    "reload(electron_T1_analysis)\n",
    "electron_T1_analysis.electron_T1_mul_2(older_than='20161117_020000',newer_than='20161116_154000', Amplitude=1, offset=1, T1=1e7)"
   ]
  },
  {
   "cell_type": "code",
   "execution_count": null,
   "metadata": {
    "collapsed": true
   },
   "outputs": [],
   "source": [
    "reload(electron_T1_analysis)\n",
    "electron_T1_analysis.electron_T1_analysis(older_than='20161206_240000',newer_than='20161206_231000', Amplitude=1, offset=0.3, T1=500)"
   ]
  },
  {
   "cell_type": "code",
   "execution_count": null,
   "metadata": {
    "collapsed": false,
    "scrolled": true
   },
   "outputs": [],
   "source": [
    "#msm1 Analysis\n",
    "reload(electron_T1_analysis)\n",
    "electron_T1_analysis.electron_T1_ms_1()"
   ]
  },
  {
   "cell_type": "code",
   "execution_count": null,
   "metadata": {
    "collapsed": true
   },
   "outputs": [],
   "source": [
    "# msp1 Analysis\n",
    "reload(electron_T1_analysis)\n",
    "electron_T1_analysis.electron_T1_msp1()"
   ]
  },
  {
   "cell_type": "code",
   "execution_count": null,
   "metadata": {
    "collapsed": false,
    "scrolled": true
   },
   "outputs": [],
   "source": [
    "# Analysis of summation\n",
    "reload(electron_T1_analysis)\n",
    "x_tot_1,y_tot_1,y_var_tot_1= electron_T1_analysis.plot_summation()"
   ]
  },
  {
   "cell_type": "code",
   "execution_count": null,
   "metadata": {
    "collapsed": false,
    "scrolled": true
   },
   "outputs": [],
   "source": [
    "reload(electron_T1_analysis)\n",
    "x1,y1,e1 = electron_T1_analysis.electron_T1_mul_3(older_than='20161127_092000',newer_than='20161126_074000', Amplitude=1, offset=1, T1=1e7)\n",
    "x2,y2,e2 = electron_T1_analysis.electron_T1_mul_3(older_than='20170407_204000',newer_than='20170406_174400', Amplitude=1, offset=1, T1=1e7)\n",
    "x3,y3,e3 = electron_T1_analysis.electron_T1_mul_2(older_than='20161113_200000',newer_than='20161112_033700', Amplitude=1, offset=1, T1=1e7)\n",
    "#x3=np.array([  1.00000000e+01,   6.00000000e+05])\n",
    "#y3= np.array([ 0.96735028, 0.87432356])\n",
    "\n",
    "x2=np.delete(x2,1)\n",
    "y2=np.delete(y2,1)\n",
    "x1=np.delete(x1,1)\n",
    "y1=np.delete(y1,1)\n",
    "e1=np.delete(e1,1)\n",
    "e2=np.delete(e2,1)\n",
    "\n",
    "fig = plt.figure(211,figsize=(5,3))\n",
    "ax = fig.add_subplot(111)\n",
    "#ax.errorbar(x1*1.0e-3, y1, yerr=e1, fmt='o',color='b',label='ms=0 to ms=+1')\n",
    "#ax.errorbar(x2*1.0e-3, y2, yerr=e2, fmt='^',color='g',label='ms=0 to ms=-1')\n",
    "ax.errorbar(x3*1.0e-3, y3, yerr=e3, fmt='s',color='r',label='ms=0 to ms=0')\n",
    "\n",
    "ax.errorbar(x1*1.0e-3, (y1+y2+y3), yerr=e3, fmt='s',color='k',label='Total spin population ')\n",
    "\n",
    "ax.set_xscale('log')\n",
    "ax.set_xlabel('Total evolution time (s)')\n",
    "ax.set_ylabel('Fidelity')\n",
    "ax.set_xlim(1.0e-3,1.0e3)\n",
    "ax.set_ylim(-0.1,1.1)\n",
    "plt.legend(fontsize=12,loc=3)\n",
    "plt.show()\n",
    "\n",
    "print(x1)"
   ]
  },
  {
   "cell_type": "code",
   "execution_count": null,
   "metadata": {
    "collapsed": true
   },
   "outputs": [],
   "source": []
  },
  {
   "cell_type": "code",
   "execution_count": null,
   "metadata": {
    "collapsed": false
   },
   "outputs": [],
   "source": [
    "print y3"
   ]
  },
  {
   "cell_type": "code",
   "execution_count": null,
   "metadata": {
    "collapsed": true
   },
   "outputs": [],
   "source": [
    "x3=[  1.00000000e+01, 2.00000000e+01,   6.00000000e+05]\n",
    "y3= [ 0.96735028, 0.967267 ,0.87432356]"
   ]
  },
  {
   "cell_type": "code",
   "execution_count": null,
   "metadata": {
    "collapsed": false,
    "scrolled": true
   },
   "outputs": [],
   "source": [
    "reload(electron_T1_analysis)\n",
    "electron_T1_analysis.electron_T1_mul_3(older_than='20170407_204000',newer_than='20170406_174400', Amplitude=1, offset=1, T1=1e7)"
   ]
  },
  {
   "cell_type": "code",
   "execution_count": null,
   "metadata": {
    "collapsed": false,
    "scrolled": true
   },
   "outputs": [],
   "source": [
    "reload(electron_T1_analysis)\n",
    "electron_T1_analysis.electron_T1_mul_3(older_than='20161124_080000',newer_than='20161122_190000',contains='10_min')"
   ]
  },
  {
   "cell_type": "code",
   "execution_count": null,
   "metadata": {
    "collapsed": true
   },
   "outputs": [],
   "source": []
  }
 ],
 "metadata": {
  "kernelspec": {
   "display_name": "Python 2",
   "language": "python",
   "name": "python2"
  },
  "language_info": {
   "codemirror_mode": {
    "name": "ipython",
    "version": 2
   },
   "file_extension": ".py",
   "mimetype": "text/x-python",
   "name": "python",
   "nbconvert_exporter": "python",
   "pygments_lexer": "ipython2",
   "version": "2.7.10"
  }
 },
 "nbformat": 4,
 "nbformat_minor": 0
}
