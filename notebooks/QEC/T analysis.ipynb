{
 "cells": [
  {
   "cell_type": "code",
   "execution_count": null,
   "metadata": {
    "collapsed": false,
    "scrolled": true
   },
   "outputs": [],
   "source": [
    "import sys\n",
    "import numpy as np\n",
    "sys.path.append(r'D:/measuring')\n",
    "from analysis.scripts.espin import electron_T1_analysis; reload(electron_T1_analysis)\n",
    "import numpy as np\n",
    "import h5py\n",
    "from matplotlib import pyplot as plt\n",
    "from analysis.lib.tools import toolbox as tb\n",
    "from analysis.lib.m2 import m2\n",
    "from analysis.lib.m2.ssro import ssro, mbi, sequence, pqsequence\n",
    "from analysis.lib.fitting import fit, common\n",
    "from analysis.lib.tools import plot\n",
    "reload(electron_T1_analysis)\n",
    "\n",
    "import matplotlib as matplotlib\n",
    "font = {'family' : 'normal',\n",
    "        'weight' : 'normal',\n",
    "        'size'   : 18}\n",
    "\n",
    "matplotlib.rc('font', **font)\n",
    "\n",
    "%matplotlib inline \n"
   ]
  },
  {
   "cell_type": "code",
   "execution_count": null,
   "metadata": {
    "collapsed": false,
    "scrolled": true
   },
   "outputs": [],
   "source": [
    "reload(electron_T1_analysis)\n",
    "electron_T1_analysis.electron_T1_anal ( Amplitude=1, offset=1, T1=1e7)"
   ]
  },
  {
   "cell_type": "code",
   "execution_count": null,
   "metadata": {
    "collapsed": true
   },
   "outputs": [],
   "source": [
    "reload(electron_T1_analysis)\n",
    "electron_T1_analysis.electron_T1_mul(older_than='20161110_172800',newer_than='20161110_141500', Amplitude=1, offset=0.33, T1=1e4)"
   ]
  },
  {
   "cell_type": "code",
   "execution_count": null,
   "metadata": {
    "collapsed": true
   },
   "outputs": [],
   "source": [
    "reload(electron_T1_analysis)\n",
    "electron_T1_analysis.electron_T1_mul_2(older_than='20161117_020000',newer_than='20161116_154000', Amplitude=1, offset=1, T1=1e7)"
   ]
  },
  {
   "cell_type": "code",
   "execution_count": null,
   "metadata": {
    "collapsed": true
   },
   "outputs": [],
   "source": [
    "reload(electron_T1_analysis)\n",
    "electron_T1_analysis.electron_T1_analysis(older_than='20161206_240000',newer_than='20161206_231000', Amplitude=1, offset=0.3, T1=500)"
   ]
  },
  {
   "cell_type": "code",
   "execution_count": null,
   "metadata": {
    "collapsed": false,
    "scrolled": true
   },
   "outputs": [],
   "source": [
    "#msm1 Analysis\n",
    "reload(electron_T1_analysis)\n",
    "electron_T1_analysis.electron_T1_ms_1()"
   ]
  },
  {
   "cell_type": "code",
   "execution_count": null,
   "metadata": {
    "collapsed": true
   },
   "outputs": [],
   "source": [
    "# msp1 Analysis\n",
    "reload(electron_T1_analysis)\n",
    "electron_T1_analysis.electron_T1_msp1()"
   ]
  },
  {
   "cell_type": "code",
   "execution_count": null,
   "metadata": {
    "collapsed": false,
    "scrolled": true
   },
   "outputs": [],
   "source": [
    "# Analysis of summation\n",
    "reload(electron_T1_analysis)\n",
    "electron_T1_analysis.plot_summation()"
   ]
  },
  {
   "cell_type": "code",
   "execution_count": null,
   "metadata": {
    "collapsed": false,
    "scrolled": true
   },
   "outputs": [],
   "source": [
    "reload(electron_T1_analysis)\n",
    "x1,y1,e1 = electron_T1_analysis.electron_T1_mul_3(older_than='20161127_092000',newer_than='20161126_074000', Amplitude=1, offset=1, T1=1e7)\n",
    "x2,y2,e2 = electron_T1_analysis.electron_T1_mul_3(older_than='20170407_204000',newer_than='20170406_174400', Amplitude=1, offset=1, T1=1e7)\n",
    "\n",
    "fig = plt.figure(211,figsize=(9,5))\n",
    "ax = fig.add_subplot(111)\n",
    "ax.errorbar(x1, y1, yerr=e1, fmt='o',color='b',label='ms=0 to ms=+1')\n",
    "ax.errorbar(x2, y2, yerr=e2, fmt='^',color='g',label='ms=0 to ms=-1')\n",
    "ax.set_xscale('log')\n",
    "ax.set_xlabel('Total evolution time (s)')\n",
    "ax.set_ylabel('State Fidelity')\n",
    "ax.set_xlim(1.0e-3,1.0e3)\n",
    "ax.set_ylim(-0.1,0.2)\n",
    "plt.legend()\n",
    "plt.show()\n",
    "\n",
    "print(x1)"
   ]
  },
  {
   "cell_type": "code",
   "execution_count": null,
   "metadata": {
    "collapsed": false,
    "scrolled": true
   },
   "outputs": [],
   "source": [
    "reload(electron_T1_analysis)\n",
    "electron_T1_analysis.electron_T1_mul_3(older_than='20170407_204000',newer_than='20170406_174400', Amplitude=1, offset=1, T1=1e7)"
   ]
  },
  {
   "cell_type": "code",
   "execution_count": null,
   "metadata": {
    "collapsed": true
   },
   "outputs": [],
   "source": []
  }
 ],
 "metadata": {
  "kernelspec": {
   "display_name": "Python 2",
   "language": "python",
   "name": "python2"
  },
  "language_info": {
   "codemirror_mode": {
    "name": "ipython",
    "version": 2
   },
   "file_extension": ".py",
   "mimetype": "text/x-python",
   "name": "python",
   "nbconvert_exporter": "python",
   "pygments_lexer": "ipython2",
   "version": "2.7.10"
  }
 },
 "nbformat": 4,
 "nbformat_minor": 0
}
