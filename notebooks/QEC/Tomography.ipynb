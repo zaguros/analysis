{
 "cells": [
  {
   "cell_type": "code",
   "execution_count": null,
   "metadata": {
    "collapsed": false
   },
   "outputs": [],
   "source": [
    "import sys\n",
    "sys.path.append(r'D:/measuring')\n",
    "import numpy as np\n",
    "sys.path.append(r'D:/measuring/analysis')\n"
   ]
  },
  {
   "cell_type": "markdown",
   "metadata": {},
   "source": [
    "# Single Qubit, sweep N (not used?)"
   ]
  },
  {
   "cell_type": "code",
   "execution_count": null,
   "metadata": {
    "collapsed": false
   },
   "outputs": [],
   "source": [
    "from analysis.scripts.QEC import SingleQubitTomography as tomo\n",
    "reload(tomo)\n",
    "Result=tomo.OneQubitTomo(timestamp = '20150103_001732',  fixed = [], plot_fit = True, show_guess = False, do_print = True, \n",
    "                             frequency =[1./200,1./200,1./200],  offset =[0.5,0.5,0.5], \n",
    "                             amplitude = [0.5,0.5,0.5],  phase =[0,90,0])"
   ]
  },
  {
   "cell_type": "code",
   "execution_count": null,
   "metadata": {
    "collapsed": false
   },
   "outputs": [],
   "source": [
    "from analysis.scripts.QEC import MBI_cosine_sum as csum\n",
    "reload(csum)\n",
    "Result =csum.CosineSum_MBI_data(timestamp=None, measurement_name = ['adwindata'], ssro_calib_timestamp =None,\n",
    "        frequency = [321e3,289e3], offset =0.5, amplitude =[ .5,.5],  phase =[0,0], \n",
    "        fixed = [], \n",
    "        plot_fit = True, do_print = True, show_guess = True)"
   ]
  },
  {
   "cell_type": "markdown",
   "metadata": {},
   "source": [
    "# Tomographies General"
   ]
  },
  {
   "cell_type": "markdown",
   "metadata": {},
   "source": [
    "###  Single measurement"
   ]
  },
  {
   "cell_type": "code",
   "execution_count": null,
   "metadata": {
    "collapsed": false
   },
   "outputs": [],
   "source": [
    "from analysis.scripts.QEC import Two_Qubit_Tomography as Tomo2; reload(Tomo2)\n",
    "%matplotlib inline \n",
    "\n",
    "# a = Tomo2.BarPlotTomo(folder_name = '024446_Swap-gate_111_1_sil18negative_5_swap')\n",
    "Tomo2.BarPlotTomo()\n",
    "#c = Tomo2.BarPlotTomo(folder_name = '000014_Sweep_carbon_Gate_negative_C5')\n",
    "# b = Tomo2.BarPlotTomo(folder_name = '_positive_Tomo_Z_C5')"
   ]
  },
  {
   "cell_type": "markdown",
   "metadata": {},
   "source": [
    "### Contrast measurement"
   ]
  },
  {
   "cell_type": "code",
   "execution_count": null,
   "metadata": {
    "collapsed": false
   },
   "outputs": [],
   "source": [
    "from analysis.scripts.QEC import Two_Qubit_Tomography as Tomo2\n",
    "reload(Tomo2)\n",
    "\n",
    "# Tomo2.BarPlotTomoContrast(tag = '_1_MBI')\n",
    "Tomo2.BarPlotTomoContrast()\n",
    "# Tomo2.BarPlotTomoContrast(tag = '_statemX_Tomo_XY_C25')\n",
    "# Tomo2.BarPlotTomoContrast(tag = '_statemX_Tomo_YY_C25')\n",
    "# Tomo2.BarPlotTomoContrast(tag = '_statemX_Tomo_YX_C25')\n",
    "# Tomo2.BarPlotTomoContrast(tag = '_5_MBI')\n",
    "\n",
    "# Tomo2.BarPlotTomoContrast(tag = '_1_swap')\n",
    "# Tomo2.BarPlotTomoContrast(tag = '_2_swap')\n",
    "# Tomo2.BarPlotTomoContrast(tag = '_5_swap')\n",
    "\n",
    "# mpl.rcParams['axes.linewidth']=2\n",
    "# Tomo2.BarPlotTomoContrastFull_mult_msmts(older_than='20150423_010040')"
   ]
  },
  {
   "cell_type": "code",
   "execution_count": null,
   "metadata": {
    "collapsed": false
   },
   "outputs": [],
   "source": [
    "from analysis.scripts.QEC import Two_Qubit_Tomography as Tomo2\n",
    "reload(Tomo2)\n",
    "\n",
    "from analysis.scripts.QEC import Two_Qubit_Tomography_Postselection as TomoP\n",
    "from analysis.lib.tools import toolbox\n",
    "reload(TomoP)\n",
    "\n",
    "new_tsmp = '20150422_224407' ## newer than\n",
    "old_tsmp = '20150423_010040' ## older than\n",
    "timestamps=[]\n",
    "search_string = '_NuclearDD_111_1_sil18_sweep_phase_FET0.305s_auto_C1&2_Tomo'\n",
    "while toolbox.latest_data(contains=search_string,\n",
    "                                        return_timestamp =True,\n",
    "                                        older_than=old_tsmp,\n",
    "                                        newer_than=new_tsmp,\n",
    "                                        raise_exc=False) != False:\n",
    "    old_tsmp, folder = toolbox.latest_data(contains=search_string,\n",
    "                                        return_timestamp =True,\n",
    "                                        older_than=old_tsmp,\n",
    "                                        newer_than=new_tsmp,\n",
    "                                        raise_exc=False)\n",
    "    timestamps.append(old_tsmp)\n",
    "\n",
    "\n",
    "### Note: you can now also enter here only the negative msmt timestamp (as a list)\n",
    "# a = Tomo2.BarPlotTomoContrast(tag = '_1msmts_TESTSTATE_ZZ')\n",
    "a = Tomo2.BarPlotTomoContrast(timestamps=['20150423_005607'])\n",
    "# a = Tomo2.BarPlGotTomoContrast(tag = '_2_swap')\n",
    "# a = Tomo2.BarPlotTomoContrast(tag = '_5_swap')\n",
    "#a = Tomo2.BarPlotTomoContrast(tag = ' 3_carbons')\n",
    "# a = Tomo2.BarPlotTomoContrast(timestamps = ['20150518_233622','20150518_233748'])\n",
    "\n",
    "# a = Tomo2.BarPlotTomoContrast(timestamps = ['20150128_102241'])"
   ]
  },
  {
   "cell_type": "code",
   "execution_count": null,
   "metadata": {
    "collapsed": false
   },
   "outputs": [],
   "source": [
    "\n",
    "\n",
    "TomoP.BarPlotTomoContrast_QEC(timestamps = timestamps,\n",
    "        post_select_QEC = False)"
   ]
  },
  {
   "cell_type": "code",
   "execution_count": null,
   "metadata": {
    "collapsed": false
   },
   "outputs": [],
   "source": [
    "from analysis.scripts.QEC import Two_Qubit_Tomography_Postselection as TomoP\n",
    "reload(TomoP)\n",
    "# a = TomoP.BarPlotTomo()\n",
    "a = TomoP.BarPlotTomoContrast()\n"
   ]
  },
  {
   "cell_type": "markdown",
   "metadata": {},
   "source": [
    "## Three-Qubit tomography"
   ]
  },
  {
   "cell_type": "code",
   "execution_count": null,
   "metadata": {
    "collapsed": false
   },
   "outputs": [],
   "source": [
    "from analysis.scripts.QEC import Two_Qubit_Tomography as Tomo2\n",
    "reload(Tomo2)\n",
    "a = Tomo2.BarPlotTomoContrastFull(timestamp = '20141230_143410', state  = 'mY')"
   ]
  },
  {
   "cell_type": "code",
   "execution_count": null,
   "metadata": {
    "collapsed": false
   },
   "outputs": [],
   "source": [
    "np.power([5,2,3],2)"
   ]
  },
  {
   "cell_type": "code",
   "execution_count": null,
   "metadata": {
    "collapsed": false
   },
   "outputs": [],
   "source": []
  }
 ],
 "metadata": {
  "kernelspec": {
   "display_name": "Python 2",
   "language": "python",
   "name": "python2"
  },
  "language_info": {
   "codemirror_mode": {
    "name": "ipython",
    "version": 2
   },
   "file_extension": ".py",
   "mimetype": "text/x-python",
   "name": "python",
   "nbconvert_exporter": "python",
   "pygments_lexer": "ipython2",
   "version": "2.7.10"
  }
 },
 "nbformat": 4,
 "nbformat_minor": 0
}
