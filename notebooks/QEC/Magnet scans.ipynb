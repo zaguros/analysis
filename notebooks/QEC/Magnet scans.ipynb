{
 "metadata": {
  "name": "",
  "signature": ""
 },
 "nbformat": 3,
 "nbformat_minor": 0,
 "worksheets": [
  {
   "cells": [
    {
     "cell_type": "code",
     "collapsed": false,
     "input": [
      "import sys\n",
      "sys.path.append(r'D:/measuring')"
     ],
     "language": "python",
     "metadata": {},
     "outputs": []
    },
    {
     "cell_type": "code",
     "collapsed": false,
     "input": [
      "execfile(r'D:\\measuring\\analysis\\scripts\\QEC_data_analysis\\magnetic_field_scansY.py')"
     ],
     "language": "python",
     "metadata": {},
     "outputs": []
    },
    {
     "cell_type": "code",
     "collapsed": false,
     "input": [
      "from analysis.scripts.QEC_data_analysis import meas_B_loop_analysis_course_fine as mbl; reload(mbl)\n",
      "\n",
      "mbl.fit_B_msmt_loop(older_than = '20141102235929', newer_than = '20141102234237')\n",
      "\n",
      "mbl.plot_meas_B_loop()"
     ],
     "language": "python",
     "metadata": {},
     "outputs": []
    },
    {
     "cell_type": "code",
     "collapsed": false,
     "input": [
      "import numpy as np\n",
      "from analysis.lib.tools import toolbox\n",
      "from analysis.lib.m2.ssro import mbi\n",
      "import analysis.lib.QEC.nuclear_spin_characterisation as SC \n",
      "import matplotlib.cm as cm\n",
      "import os\n",
      "from matplotlib import pyplot as plt\n",
      "from analysis.lib.tools import plot\n",
      "from analysis.lib.fitting import fit, common\n",
      "from analysis.lib.tools import analysis_magnet_tools as amt\n",
      "from analysis.lib.m2.ssro import sequence\n",
      "from analysis.lib.fitting import dark_esr_auto_analysis; \n",
      "import matplotlib.mlab as mlab\n",
      "from tempfile import TemporaryFile\n",
      "reload(dark_esr_auto_analysis)\n",
      "reload(toolbox)\n",
      "reload(amt)\n",
      "reload(fit)\n",
      "toolbox.latest_data(contains='_magnet_Y_axismsp1', older_than='20141101090927', newer_than='20141031222214',return_timestamp = True)"
     ],
     "language": "python",
     "metadata": {},
     "outputs": []
    },
    {
     "cell_type": "code",
     "collapsed": false,
     "input": [],
     "language": "python",
     "metadata": {},
     "outputs": []
    }
   ],
   "metadata": {}
  }
 ]
}
