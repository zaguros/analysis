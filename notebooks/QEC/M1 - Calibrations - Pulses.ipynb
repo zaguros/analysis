{
 "cells": [
  {
   "cell_type": "code",
   "execution_count": null,
   "metadata": {
    "collapsed": false
   },
   "outputs": [],
   "source": [
    "import sys\n",
    "import numpy as np\n",
    "sys.path.append(r'D:/measuring')\n",
    "from analysis.scripts.espin import calibrate_pi; reload(calibrate_pi)\n",
    "import numpy as np\n",
    "import h5py\n",
    "from matplotlib import pyplot as plt\n",
    "from analysis.lib.tools import toolbox as tb\n",
    "from analysis.lib.m2 import m2\n",
    "from analysis.lib.m2.ssro import ssro, mbi, sequence, pqsequence\n",
    "from analysis.lib.fitting import fit, common\n",
    "from analysis.lib.tools import plot\n",
    "reload(calibrate_pi)\n",
    "%matplotlib inline \n"
   ]
  },
  {
   "cell_type": "markdown",
   "metadata": {},
   "source": [
    " #  Pi pulse calibration"
   ]
  },
  {
   "cell_type": "code",
   "execution_count": null,
   "metadata": {
    "collapsed": false,
    "scrolled": false
   },
   "outputs": [],
   "source": [
    "reload(calibrate_pi)\n",
    "\n",
    "calibrate_pi.analyse_pulse_calibration(name='Pi01',timestamp = None, guess_x0=0.755)\n",
    "calibrate_pi.analyse_pulse_calibration(name='Pi3',timestamp = None, guess_x0=0.755)\n",
    "calibrate_pi.analyse_pulse_calibration(name='Pi5',timestamp = None, guess_x0=0.755)"
   ]
  },
  {
   "cell_type": "code",
   "execution_count": null,
   "metadata": {
    "collapsed": false,
    "scrolled": false
   },
   "outputs": [],
   "source": [
    "reload(calibrate_pi)\n",
    "# one pulse\n",
    "calibrate_pi.analyse_pulse_calibration(name='Pi0Z',timestamp = None, guess_x0=0.8)\n",
    "calibrate_pi.analyse_pulse_calibration(name='Pi0-Z',timestamp = None, guess_x0=0.8)\n",
    "calibrate_pi.analyse_pulse_calibration(name='Pi0Y',timestamp = None, guess_x0=0.8)\n",
    "calibrate_pi.analyse_pulse_calibration(name='Pi0-Y',timestamp = None, guess_x0=0.8)\n",
    "calibrate_pi.analyse_pulse_calibration(name='Pi0X',timestamp = None, guess_x0=0.8)\n",
    "calibrate_pi.analyse_pulse_calibration(name='Pi0-X',timestamp = None, guess_x0=0.8)\n",
    "\n",
    "# 5 pulses\n",
    "calibrate_pi.analyse_pulse_calibration(name='PiZ5',timestamp = None, guess_x0=0.77)\n",
    "calibrate_pi.analyse_pulse_calibration(name='Pi-Z5',timestamp = None, guess_x0=0.77)\n",
    "calibrate_pi.analyse_pulse_calibration(name='PiY5',timestamp = None, guess_x0=0.8)\n",
    "calibrate_pi.analyse_pulse_calibration(name='Pi-Y5',timestamp = None, guess_x0=0.8)\n",
    "calibrate_pi.analyse_pulse_calibration(name='PiX5',timestamp = None, guess_x0=0.8)\n",
    "calibrate_pi.analyse_pulse_calibration(name='Pi-X5',timestamp = None, guess_x0=0.8)\n",
    "\n",
    "# 11 pulses\n",
    "calibrate_pi.analyse_pulse_calibration(name='PiZ11',timestamp = None, guess_x0=0.77)\n",
    "calibrate_pi.analyse_pulse_calibration(name='Pi-Z11',timestamp = None, guess_x0=0.77)\n",
    "calibrate_pi.analyse_pulse_calibration(name='PiY11',timestamp = None, guess_x0=0.8)\n",
    "calibrate_pi.analyse_pulse_calibration(name='Pi-Y11',timestamp = None, guess_x0=0.8)\n",
    "calibrate_pi.analyse_pulse_calibration(name='PiX11',timestamp = None, guess_x0=0.8)\n",
    "calibrate_pi.analyse_pulse_calibration(name='Pi-X11',timestamp = None, guess_x0=0.8)"
   ]
  },
  {
   "cell_type": "code",
   "execution_count": null,
   "metadata": {
    "collapsed": false,
    "scrolled": false
   },
   "outputs": [],
   "source": [
    "reload(calibrate_pi)\n",
    "calibrate_pi.bloch_vector_length(name='Pi',multiplicity = '01',timestamp = None, guess_x0 = 0.76)\n",
    "calibrate_pi.bloch_vector_length(name='Pi',multiplicity = '5',timestamp = None, guess_x0 = 0.76)\n",
    "calibrate_pi.bloch_vector_length(name='Pi',multiplicity = '11',timestamp = None, guess_x0 = 0.76)"
   ]
  },
  {
   "cell_type": "markdown",
   "metadata": {},
   "source": [
    "# Pi2 pulse calibration"
   ]
  },
  {
   "cell_type": "code",
   "execution_count": null,
   "metadata": {
    "collapsed": false,
    "scrolled": false
   },
   "outputs": [],
   "source": [
    "reload(calibrate_pi)\n",
    "calibrate_pi.analyse_pi2_calibration(name='Pi2',timestamp = None, guess_x0=0.6)"
   ]
  },
  {
   "cell_type": "code",
   "execution_count": null,
   "metadata": {
    "collapsed": true
   },
   "outputs": [],
   "source": []
  },
  {
   "cell_type": "code",
   "execution_count": null,
   "metadata": {
    "collapsed": true
   },
   "outputs": [],
   "source": []
  }
 ],
 "metadata": {
  "kernelspec": {
   "display_name": "Python 2",
   "language": "python",
   "name": "python2"
  },
  "language_info": {
   "codemirror_mode": {
    "name": "ipython",
    "version": 2
   },
   "file_extension": ".py",
   "mimetype": "text/x-python",
   "name": "python",
   "nbconvert_exporter": "python",
   "pygments_lexer": "ipython2",
   "version": "2.7.10"
  }
 },
 "nbformat": 4,
 "nbformat_minor": 0
}
