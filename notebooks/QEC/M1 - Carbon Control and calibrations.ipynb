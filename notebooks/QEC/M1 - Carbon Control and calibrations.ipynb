{
 "cells": [
  {
   "cell_type": "code",
   "execution_count": null,
   "metadata": {
    "collapsed": false
   },
   "outputs": [],
   "source": [
    "%matplotlib inline\n",
    "\n",
    "import sys\n",
    "sys.path.append(r'D:/measuring')\n",
    "import numpy as np\n",
    "from analysis.scripts.mbi import mbi_electron_decoupling_analysis\n",
    "from analysis.scripts.QEC import Carbon_control_analysis_sweep_N as cca; reload(cca)\n",
    "from analysis.scripts.QEC import Carbon_control_analysis_sweep_tau as ccat; reload(ccat)\n",
    "\n",
    "from analysis.scripts.QEC import carbon_ramsey_analysis as cr\n",
    "from analysis.scripts.QEC import Two_Qubit_Tomography as twoqt\n",
    "\n",
    "sys.path.append(r'D:/measuring/analysis')\n",
    "import analysis.scripts.mbi.mbi_electron_decoupling_analysis as DD\n",
    "reload(DD)"
   ]
  },
  {
   "cell_type": "markdown",
   "metadata": {},
   "source": [
    "# Sweep Tau"
   ]
  },
  {
   "cell_type": "code",
   "execution_count": null,
   "metadata": {
    "collapsed": false
   },
   "outputs": [],
   "source": [
    "ccat.carbon_control_sweep_tau(\n",
    "timestamp =None,\n",
    "name = 'DecouplingSequence_111_1_sil18_tau',\n",
    "guess_x0 = 6.62,\n",
    "guess_of = 0.1,\n",
    "guess_a = 0,\n",
    "do_fit = False)"
   ]
  },
  {
   "cell_type": "markdown",
   "metadata": {},
   "source": [
    "# Sweep N"
   ]
  },
  {
   "cell_type": "code",
   "execution_count": null,
   "metadata": {
    "collapsed": false
   },
   "outputs": [],
   "source": [
    "### Single frequency ###\n",
    "reload(cca)\n",
    "Result=cca.Carbon_control_sweep_N(timestamp=None, frequency = [1/128.], amplitude = [0.4],  \n",
    "                       phase=[0], decay_constant = [100], plot_fit = True, do_print = False, show_guess = False)"
   ]
  },
  {
   "cell_type": "code",
   "execution_count": null,
   "metadata": {
    "collapsed": true
   },
   "outputs": [],
   "source": [
    "### Double frequency ###\n",
    "reload(cca)\n",
    "Result=cca.Carbon_control_sweep_N(timestamp=None, frequency = [1/75., 1/100.], amplitude = [0.8, 0.1],  \n",
    "                       phase=[0,0],offset = 0.4, decay_constant = [800,500], plot_fit = True, \n",
    "                       do_print = True, show_guess = False, fixed =[2,6])"
   ]
  },
  {
   "cell_type": "markdown",
   "metadata": {},
   "source": [
    "# Carbon Ramsey No Init"
   ]
  },
  {
   "cell_type": "code",
   "execution_count": null,
   "metadata": {
    "collapsed": false,
    "scrolled": false
   },
   "outputs": [],
   "source": [
    "cr.Carbon_Ramsey(timestamp=None, carbon=None, transition=None, measurement_name = ['adwindata'], ssro_calib_timestamp =None,\n",
    "            frequency = 3e5, \n",
    "            offset = 0.5, \n",
    "            x0 = 0,  \n",
    "            amplitude = 0.5,  \n",
    "            decay_constant = 200, \n",
    "            phase =0, \n",
    "            exponent = 2, \n",
    "            plot_fit = True, do_print = False, fixed = [2], show_guess = False,\n",
    "            return_phase = False,\n",
    "            return_freq = False,\n",
    "            return_amp = False,\n",
    "            return_results = False,\n",
    "            close_plot = False,\n",
    "            title = 'Carbon')"
   ]
  },
  {
   "cell_type": "code",
   "execution_count": null,
   "metadata": {
    "collapsed": false
   },
   "outputs": [],
   "source": [
    "cr.Carbon_Ramsey_DD_freq(older_than = None,\n",
    "            transition = '',  \n",
    "            carbon = 1,\n",
    "            frequency = 436226, \n",
    "            offset = 0.5, \n",
    "            x0 = 0,  \n",
    "            amplitude = 0.5,  \n",
    "            decay_constant = 0.02, \n",
    "            phase =0, \n",
    "            exponent = 1, \n",
    "            plot_fit = True, do_print = False, fixed = [2,4], show_guess = False,\n",
    "            return_phase = False,\n",
    "            return_freq = True,\n",
    "            return_results = True,\n",
    "            close_plot = False)\n",
    "    "
   ]
  },
  {
   "cell_type": "code",
   "execution_count": null,
   "metadata": {
    "collapsed": false
   },
   "outputs": [],
   "source": [
    "from analysis.scripts.QEC import MBI_cosine_sum as cs; reload(cs)\n",
    "\n",
    "Result=cs.CosineSum_MBI_data(timestamp=None, \n",
    "                             frequency = [0.432,0.470], \n",
    "                             offset =0.5, \n",
    "                             amplitude =[0.5,0.5],  \n",
    "                             phase =[0,0], \n",
    "                             fixed = [], \n",
    "                             xlim=[0,120],\n",
    "                             plot_fit = True, do_print = True, show_guess = False)"
   ]
  },
  {
   "cell_type": "markdown",
   "metadata": {},
   "source": [
    "# Carbon Ramsey with init"
   ]
  },
  {
   "cell_type": "code",
   "execution_count": null,
   "metadata": {
    "collapsed": false
   },
   "outputs": [],
   "source": [
    "reload(cr)\n",
    "cr.Carbon_Ramsey(timestamp='20161004140246', \n",
    "    \t\t              offset = 0.5, amplitude = 0.5, x0=0, decay_constant = 0.01, exponent = 2, \n",
    "    \t\t              frequency = 0.3e3, phase =0, \n",
    "    \t\t              plot_fit = True, show_guess = False,fixed = [2,4],            \n",
    "    \t\t              return_freq = True,\n",
    "    \t\t              return_results = False)\n"
   ]
  },
  {
   "cell_type": "code",
   "execution_count": null,
   "metadata": {
    "collapsed": false
   },
   "outputs": [],
   "source": []
  },
  {
   "cell_type": "code",
   "execution_count": null,
   "metadata": {
    "collapsed": true
   },
   "outputs": [],
   "source": []
  }
 ],
 "metadata": {
  "kernelspec": {
   "display_name": "Python 2",
   "language": "python",
   "name": "python2"
  },
  "language_info": {
   "codemirror_mode": {
    "name": "ipython",
    "version": 2
   },
   "file_extension": ".py",
   "mimetype": "text/x-python",
   "name": "python",
   "nbconvert_exporter": "python",
   "pygments_lexer": "ipython2",
   "version": "2.7.10"
  }
 },
 "nbformat": 4,
 "nbformat_minor": 0
}
