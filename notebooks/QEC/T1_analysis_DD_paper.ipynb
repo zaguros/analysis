{
 "cells": [
  {
   "cell_type": "code",
   "execution_count": null,
   "metadata": {
    "collapsed": false
   },
   "outputs": [],
   "source": [
    "import sys\n",
    "import numpy as np\n",
    "sys.path.append(r'D:/measuring')\n",
    "from analysis.scripts.espin import electron_T1_analysis_10mins; reload(electron_T1_analysis_10mins)\n",
    "from analysis.scripts.espin import electron_T1_analysis_paper; reload(electron_T1_analysis_paper)\n",
    "import numpy as np\n",
    "import h5py\n",
    "from matplotlib import pyplot as plt\n",
    "from analysis.lib.tools import toolbox as tb\n",
    "from analysis.lib.m2 import m2\n",
    "from analysis.lib.m2.ssro import ssro, mbi, sequence, pqsequence\n",
    "from analysis.lib.fitting import fit, common\n",
    "from analysis.lib.tools import plot\n",
    "#reload(electron_T1_analysis)\n",
    "\n",
    "import matplotlib as matplotlib\n",
    "font = {'family' : 'Arial',\n",
    "        'weight' : 'normal',\n",
    "        'size'   : 11}\n",
    "\n",
    "matplotlib.rc('font', **font)\n",
    "\n",
    "%matplotlib inline \n"
   ]
  },
  {
   "cell_type": "code",
   "execution_count": null,
   "metadata": {
    "collapsed": false,
    "scrolled": true
   },
   "outputs": [],
   "source": [
    "x1,y1,y_var1 = electron_T1_analysis_10mins.electron_T1_mul_3_uncorrected(older_than='20161119_205000',newer_than='20161118_110000',contains='10_min')"
   ]
  },
  {
   "cell_type": "code",
   "execution_count": null,
   "metadata": {
    "collapsed": false
   },
   "outputs": [],
   "source": [
    "print y1"
   ]
  },
  {
   "cell_type": "code",
   "execution_count": null,
   "metadata": {
    "collapsed": false
   },
   "outputs": [],
   "source": [
    "print y_var1"
   ]
  },
  {
   "cell_type": "code",
   "execution_count": null,
   "metadata": {
    "collapsed": false,
    "scrolled": true
   },
   "outputs": [],
   "source": [
    "\n",
    "reload(electron_T1_analysis_paper)\n",
    "electron_T1_analysis_paper.plot_summation()\n",
    "#x_tot_1,y_tot_1,y_var_tot_1= electron_T1_analysis_paper.plot_summation()\n"
   ]
  },
  {
   "cell_type": "code",
   "execution_count": null,
   "metadata": {
    "collapsed": false,
    "scrolled": true
   },
   "outputs": [],
   "source": [
    "reload(electron_T1_analysis_paper)\n",
    "x1,y1,e1 = electron_T1_analysis_paper.electron_T1_mul_3_uncorrected(older_than='20161127_092000',newer_than='20161126_074000', Amplitude=1, offset=1, T1=1e7,return_x='all')\n",
    "x2,y2,e2 = electron_T1_analysis_paper.electron_T1_mul_3_uncorrected(older_than='20170407_204000',newer_than='20170406_174400', Amplitude=1, offset=1, T1=1e7,return_x='all')\n",
    "x3,y3,e3 = electron_T1_analysis_paper.electron_T1_mul_3_uncorrected(older_than='20161113_200000',newer_than='20161112_033700', Amplitude=1, offset=1, T1=1e7,return_x='2_all')\n",
    "#x3=np.array([  1.00000000e+01,   6.00000000e+05])\n",
    "#y3= np.array([ 0.96735028, 0.87432356])\n",
    "\n",
    "x2=np.delete(x2,1)\n",
    "y2=np.delete(y2,1)\n",
    "x1=np.delete(x1,1)\n",
    "y1=np.delete(y1,1)\n",
    "e1=np.delete(e1,1)\n",
    "e2=np.delete(e2,1)\n",
    "\n",
    "e_tot=((e1**2+e2**2+e3**2)**0.5)/3\n",
    "\n",
    "fig = plt.figure(211,figsize=(5,3))\n",
    "ax = fig.add_subplot(111)\n",
    "#ax.errorbar(x1*1.0e-3, y1, yerr=e1, fmt='o',color='b',label='ms=0 to ms=+1')\n",
    "#ax.errorbar(x2*1.0e-3, y2, yerr=e2, fmt='^',color='g',label='ms=0 to ms=-1')\n",
    "ax.errorbar(x3*1.0e-3, y3, yerr=e3, fmt='s',color='r',label='ms=0 to ms=0')\n",
    "\n",
    "ax.errorbar(x1*1.0e-3, (y1+y2+y3), yerr=e_tot, fmt='s',color='k',label='Total spin population ')\n",
    "\n",
    "ax.set_xscale('log')\n",
    "ax.set_xlabel('Total evolution time (s)')\n",
    "ax.set_ylabel('Fidelity')\n",
    "ax.set_xlim(1.0e-3,1.0e3)\n",
    "ax.set_ylim(-0.1,1.1)\n",
    "plt.legend(fontsize=12,loc=3)\n",
    "plt.show()\n",
    "\n",
    "print(x1)"
   ]
  },
  {
   "cell_type": "code",
   "execution_count": null,
   "metadata": {
    "collapsed": false
   },
   "outputs": [],
   "source": [
    "reload(electron_T1_analysis_paper)\n",
    "\n",
    "electron_T1_analysis_paper.plot_total_spin_population()"
   ]
  },
  {
   "cell_type": "code",
   "execution_count": null,
   "metadata": {
    "collapsed": false,
    "scrolled": false
   },
   "outputs": [],
   "source": [
    "reload(electron_T1_analysis_paper)\n",
    "\n",
    "electron_T1_analysis_paper.plot_total_spin_population()"
   ]
  },
  {
   "cell_type": "code",
   "execution_count": null,
   "metadata": {
    "collapsed": true
   },
   "outputs": [],
   "source": []
  }
 ],
 "metadata": {
  "kernelspec": {
   "display_name": "Python 2",
   "language": "python",
   "name": "python2"
  },
  "language_info": {
   "codemirror_mode": {
    "name": "ipython",
    "version": 2
   },
   "file_extension": ".py",
   "mimetype": "text/x-python",
   "name": "python",
   "nbconvert_exporter": "python",
   "pygments_lexer": "ipython2",
   "version": "2.7.10"
  }
 },
 "nbformat": 4,
 "nbformat_minor": 0
}
