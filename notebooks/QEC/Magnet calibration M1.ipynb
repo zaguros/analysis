{
 "cells": [
  {
   "cell_type": "code",
   "execution_count": null,
   "metadata": {
    "collapsed": false
   },
   "outputs": [],
   "source": [
    "%matplotlib inline\n",
    "import sys\n",
    "sys.path.append(r'D:/measuring')\n",
    "sys.path.append(r'D:/analysis')\n",
    "\n",
    "import analysis.scripts.stability_analysis.magnetic_field_stability as mf\n",
    "import analysis.scripts.stability_analysis.magnetic_field_vs_magnet_position as mfp\n",
    "import analysis.scripts.stability_analysis.magnetic_field_vs_magnet_position_mod as mfp_mod"
   ]
  },
  {
   "cell_type": "markdown",
   "metadata": {},
   "source": [
    "## data set for different backlash values - from 160801... to 160802..."
   ]
  },
  {
   "cell_type": "markdown",
   "metadata": {},
   "source": [
    "### Load all the data"
   ]
  },
  {
   "cell_type": "code",
   "execution_count": null,
   "metadata": {
    "collapsed": true
   },
   "outputs": [],
   "source": [
    "## data starts at 20160727_090059\n",
    "### first load the magnetic field data\n",
    "reload(mfp_mod)\n",
    "mfp_mod.fit_B_msmt_loop(older_than = '20160801_203910', newer_than = '20160801_162600',filename = 'backlash_calib_data_BL0')\n",
    "mfp_mod.fit_B_msmt_loop(older_than = '20160802_005700', newer_than = '20160801_203910',filename = 'backlash_calib_data_BL1')\n",
    "mfp_mod.fit_B_msmt_loop(older_than = '20160802_051000', newer_than = '20160802_005700',filename = 'backlash_calib_data_BL2')\n",
    "mfp_mod.fit_B_msmt_loop(older_than = '20160802_092400', newer_than = '20160802_051000',filename = 'backlash_calib_data_BL3')"
   ]
  },
  {
   "cell_type": "code",
   "execution_count": null,
   "metadata": {
    "collapsed": true
   },
   "outputs": [],
   "source": [
    "### plot the magnetic field data\n",
    "reload(mfp_mod)\n",
    "fit_result = mfp_mod.plot_meas_B_loop(filename = 'backlash_calib_data_BL2')\n"
   ]
  },
  {
   "cell_type": "code",
   "execution_count": null,
   "metadata": {
    "collapsed": true
   },
   "outputs": [],
   "source": [
    "### plot the magnetic field data\n",
    "reload(mfp_mod)\n",
    "fit_result = mfp_mod.backlash_calib(step=0.2, num_turning_points=10,starting_point=6,filename = 'backlash_calib_data_BL0')\n",
    "fit_result = mfp_mod.backlash_calib(step=0.2, num_turning_points=10,starting_point=6,filename = 'backlash_calib_data_BL1')\n",
    "fit_result = mfp_mod.backlash_calib(step=0.2, num_turning_points=10,starting_point=6,filename = 'backlash_calib_data_BL2')\n",
    "fit_result = mfp_mod.backlash_calib(step=0.2, num_turning_points=10,starting_point=6,filename = 'backlash_calib_data_BL3')\n"
   ]
  },
  {
   "cell_type": "code",
   "execution_count": null,
   "metadata": {
    "collapsed": false
   },
   "outputs": [],
   "source": [
    "## data starts at 20160727_090059\n",
    "### first load the magnetic field data\n",
    "reload(mfp_mod)\n",
    "mfp_mod.fit_B_msmt_loop(older_than = '20160802_142000', newer_than = '20160802_120500',filename = 'backlash_calib_data_BL2_fine_steps_only')"
   ]
  },
  {
   "cell_type": "code",
   "execution_count": null,
   "metadata": {
    "collapsed": false,
    "scrolled": false
   },
   "outputs": [],
   "source": [
    "### plot the magnetic field data\n",
    "reload(mfp_mod)\n",
    "fit_result = mfp_mod.plot_meas_B_loop(filename = 'backlash_calib_data_BL2_fine_steps_only')"
   ]
  },
  {
   "cell_type": "code",
   "execution_count": null,
   "metadata": {
    "collapsed": false
   },
   "outputs": [],
   "source": [
    "### plot the magnetic field data\n",
    "reload(mfp_mod)\n",
    "fit_result = mfp_mod.backlash_calib(step=0.2, num_turning_points=8,starting_point=16,filename = 'backlash_calib_data_BL2_fine_steps_only')"
   ]
  },
  {
   "cell_type": "code",
   "execution_count": null,
   "metadata": {
    "collapsed": false
   },
   "outputs": [],
   "source": [
    "### plot the magnetic field data\n",
    "reload(mfp_mod)\n",
    "fit_result = mfp_mod.backlash_calib_temp_c(step=0.2, num_turning_points=8,starting_point=16,filename = 'backlash_calib_data_BL2_fine_steps_only')"
   ]
  },
  {
   "cell_type": "code",
   "execution_count": null,
   "metadata": {
    "collapsed": true
   },
   "outputs": [],
   "source": [
    "### plot the magnetic field data\n",
    "reload(mfp_mod)\n",
    "fit_result = mfp_mod.plot_meas_B_loop()\n",
    "#BL0"
   ]
  },
  {
   "cell_type": "code",
   "execution_count": null,
   "metadata": {
    "collapsed": false
   },
   "outputs": [],
   "source": [
    "# import numpy as np\n",
    "# point_number = []\n",
    "# point_number.append(1.1)\n",
    "# point_number.append(1.0)\n",
    "# point_number.append(1.0)\n",
    "# print point_number\n",
    "# print point_number*.2\n",
    "\n",
    "A = np.arange(10)\n",
    "print A\n",
    "print type(A)"
   ]
  },
  {
   "cell_type": "code",
   "execution_count": null,
   "metadata": {
    "collapsed": true
   },
   "outputs": [],
   "source": [
    "### plot the Backlash data\n",
    "reload(mfp_mod)\n",
    "fit_result_2 = mfp_mod.backlash_calib(step=0.2, num_turning_points=10,starting_point=6)\n"
   ]
  },
  {
   "cell_type": "code",
   "execution_count": null,
   "metadata": {
    "collapsed": true
   },
   "outputs": [],
   "source": [
    "### plot the magnetic field data\n",
    "reload(mfp_mod)\n",
    "fit_result = mfp.plot_meas_B_loop()"
   ]
  },
  {
   "cell_type": "code",
   "execution_count": null,
   "metadata": {
    "collapsed": false
   },
   "outputs": [],
   "source": [
    " ## data starts at 20160727_090059\n",
    "### first load the magnetic field data\n",
    "reload(mfp)\n",
    "mfp.fit_B_msmt_loop(older_than = '20160727_183310', newer_than = '20160727_170000')"
   ]
  },
  {
   "cell_type": "code",
   "execution_count": null,
   "metadata": {
    "collapsed": true
   },
   "outputs": [],
   "source": [
    "### first load the magnetic field data\n",
    "reload(mfp)\n",
    "mfp.fit_B_msmt_loop(older_than = '20160728_084710', newer_than = '20160728_044000')"
   ]
  },
  {
   "cell_type": "code",
   "execution_count": null,
   "metadata": {
    "collapsed": true
   },
   "outputs": [],
   "source": [
    "### plot the magnetic field data\n",
    "reload(mfp)\n",
    "fit_result = mfp.plot_meas_B_loop()"
   ]
  },
  {
   "cell_type": "code",
   "execution_count": null,
   "metadata": {
    "collapsed": true
   },
   "outputs": [],
   "source": [
    "## data starts at 20160727_090059\n",
    "### first load the magnetic field data\n",
    "reload(mfp)\n",
    "mfp.fit_B_msmt_loop(older_than = '20160728_084710', newer_than = '20160727_170900')"
   ]
  },
  {
   "cell_type": "code",
   "execution_count": null,
   "metadata": {
    "collapsed": true
   },
   "outputs": [],
   "source": [
    "### plot the magnetic field data\n",
    "reload(mfp)\n",
    "fit_result = mfp.plot_meas_B_loop()"
   ]
  },
  {
   "cell_type": "code",
   "execution_count": null,
   "metadata": {
    "collapsed": true
   },
   "outputs": [],
   "source": [
    "## data starts at 20160727_090059\n",
    "### first load the magnetic field data\n",
    "reload(mfp)\n",
    "mfp.fit_B_msmt_loop(older_than = '20160727_173110', newer_than = '20160727_170900')"
   ]
  },
  {
   "cell_type": "code",
   "execution_count": null,
   "metadata": {
    "collapsed": true
   },
   "outputs": [],
   "source": [
    "### plot the magnetic field data\n",
    "reload(mfp)\n",
    "fit_result = mfp.plot_meas_B_loop()"
   ]
  },
  {
   "cell_type": "code",
   "execution_count": null,
   "metadata": {
    "collapsed": true
   },
   "outputs": [],
   "source": [
    "## data starts at 20160727_090059\n",
    "### first load the magnetic field data\n",
    "reload(mfp)\n",
    "mfp.fit_B_msmt_loop(older_than = '20160728_085000', newer_than = '20160727_170500')"
   ]
  },
  {
   "cell_type": "code",
   "execution_count": null,
   "metadata": {
    "collapsed": true
   },
   "outputs": [],
   "source": [
    "### plot the magnetic field data\n",
    "reload(mfp)\n",
    "fit_result = mfp.plot_meas_B_loop()"
   ]
  },
  {
   "cell_type": "code",
   "execution_count": null,
   "metadata": {
    "collapsed": true
   },
   "outputs": [],
   "source": [
    "## data starts at 20160727_090059\n",
    "### first load the magnetic field data\n",
    "reload(mf)\n",
    "mf.fit_B_msmt_loop(older_than = '20160728_224600', newer_than = '20160728_100000')"
   ]
  },
  {
   "cell_type": "code",
   "execution_count": null,
   "metadata": {
    "collapsed": true
   },
   "outputs": [],
   "source": [
    "reload(mf)\n",
    "mf.plot_meas_B_loop()"
   ]
  },
  {
   "cell_type": "code",
   "execution_count": null,
   "metadata": {
    "collapsed": true
   },
   "outputs": [],
   "source": [
    "## data starts at 20160727_090059\n",
    "### first load the magnetic field data\n",
    "reload(mfp)\n",
    "mfp.fit_B_msmt_loop(older_than = '20160729_214000', newer_than = '20160729_195000')"
   ]
  },
  {
   "cell_type": "code",
   "execution_count": null,
   "metadata": {
    "collapsed": true
   },
   "outputs": [],
   "source": [
    "### plot the magnetic field data\n",
    "reload(mfp)\n",
    "fit_result = mfp.plot_meas_B_loop()"
   ]
  },
  {
   "cell_type": "code",
   "execution_count": null,
   "metadata": {
    "collapsed": true
   },
   "outputs": [],
   "source": [
    "## data starts at 20160727_090059\n",
    "### first load the magnetic field data\n",
    "reload(mfp)\n",
    "mfp.fit_B_msmt_loop(older_than = '20160729_232900', newer_than = '20160729_220000')"
   ]
  },
  {
   "cell_type": "code",
   "execution_count": null,
   "metadata": {
    "collapsed": true
   },
   "outputs": [],
   "source": [
    "### plot the magnetic field data\n",
    "reload(mfp)\n",
    "fit_result = mfp.plot_meas_B_loop()"
   ]
  },
  {
   "cell_type": "code",
   "execution_count": null,
   "metadata": {
    "collapsed": true
   },
   "outputs": [],
   "source": [
    "## data starts at 20160727_090059\n",
    "### first load the magnetic field data\n",
    "reload(mfp)\n",
    "mfp.fit_B_msmt_loop(older_than = '20160730_012900', newer_than = '20160729_235000')"
   ]
  },
  {
   "cell_type": "code",
   "execution_count": null,
   "metadata": {
    "collapsed": true
   },
   "outputs": [],
   "source": [
    "### plot the magnetic field data\n",
    "reload(mfp)\n",
    "fit_result = mfp.plot_meas_B_loop()\n"
   ]
  },
  {
   "cell_type": "code",
   "execution_count": null,
   "metadata": {
    "collapsed": true
   },
   "outputs": [],
   "source": [
    "## data starts at 20160727_090059\n",
    "### first load the magnetic field data\n",
    "reload(mfp)\n",
    "mfp.fit_B_msmt_loop(older_than = '20160731_121000', newer_than = '20160731_091000')\n",
    "#step 1 micro meter, and BL set to 0.005"
   ]
  },
  {
   "cell_type": "code",
   "execution_count": null,
   "metadata": {
    "collapsed": true
   },
   "outputs": [],
   "source": [
    "### plot the magnetic field data\n",
    "reload(mfp)\n",
    "fit_result = mfp.plot_meas_B_loop(step=1)\n",
    "#step 1 micro meter, and BL set to 0.005"
   ]
  },
  {
   "cell_type": "code",
   "execution_count": null,
   "metadata": {
    "collapsed": true
   },
   "outputs": [],
   "source": [
    "## data starts at 20160727_090059\n",
    "### first load the magnetic field data\n",
    "reload(mfp)\n",
    "mfp.fit_B_msmt_loop(older_than = '20160731_141000', newer_than = '20160731_122500')\n",
    "#step 1 micro meter, and BL set to 0.0495"
   ]
  },
  {
   "cell_type": "code",
   "execution_count": null,
   "metadata": {
    "collapsed": true
   },
   "outputs": [],
   "source": [
    "### plot the magnetic field data\n",
    "reload(mfp)\n",
    "fit_result = mfp.plot_meas_B_loop(step=1)\n",
    "#step 1 micro meter, and BL set to 0.00495"
   ]
  },
  {
   "cell_type": "code",
   "execution_count": null,
   "metadata": {
    "collapsed": true
   },
   "outputs": [],
   "source": [
    "## data starts at 20160727_090059\n",
    "### first load the magnetic field data\n",
    "reload(mfp)\n",
    "mfp.fit_B_msmt_loop(older_than = '20160731_182000', newer_than = '20160731_152000')\n",
    "#step 0.6 micro meter, and BL set to 0.00495"
   ]
  },
  {
   "cell_type": "code",
   "execution_count": null,
   "metadata": {
    "collapsed": true
   },
   "outputs": [],
   "source": [
    "### plot the magnetic field data\n",
    "reload(mfp)\n",
    "fit_result = mfp.plot_meas_B_loop(step=0.6)\n",
    "#step 0.6 micro meter, and BL set to 0.00495"
   ]
  },
  {
   "cell_type": "code",
   "execution_count": null,
   "metadata": {
    "collapsed": true
   },
   "outputs": [],
   "source": [
    "## data starts at 20160727_090059\n",
    "### first load the magnetic field data\n",
    "reload(mfp)\n",
    "mfp.fit_B_msmt_loop(older_than = '20160731_205300', newer_than = '20160731_183000')\n",
    "#step 0.3 micro meter, and BL set to 0.0495"
   ]
  },
  {
   "cell_type": "code",
   "execution_count": null,
   "metadata": {
    "collapsed": true
   },
   "outputs": [],
   "source": [
    "### plot the magnetic field data\n",
    "reload(mfp)\n",
    "fit_result = mfp.plot_meas_B_loop(step=0.3)\n",
    "#step 0.3 micro meter, and BL set to 0.00495"
   ]
  },
  {
   "cell_type": "code",
   "execution_count": null,
   "metadata": {
    "collapsed": true
   },
   "outputs": [],
   "source": [
    "## data starts at 20160727_090059\n",
    "### first load the magnetic field data\n",
    "reload(mfp)\n",
    "mfp.fit_B_msmt_loop(older_than = '20160731_224700', newer_than = '20160731_210500')\n",
    "#step 0.2 micro meter, and BL set to 0.00495"
   ]
  },
  {
   "cell_type": "code",
   "execution_count": null,
   "metadata": {
    "collapsed": true
   },
   "outputs": [],
   "source": [
    "### plot the magnetic field data\n",
    "reload(mfp)\n",
    "fit_result = mfp.plot_meas_B_loop()\n",
    "#step 0.2 micro meter, and BL set to 0.0495"
   ]
  }
 ],
 "metadata": {
  "kernelspec": {
   "display_name": "Python 2",
   "language": "python",
   "name": "python2"
  },
  "language_info": {
   "codemirror_mode": {
    "name": "ipython",
    "version": 2
   },
   "file_extension": ".py",
   "mimetype": "text/x-python",
   "name": "python",
   "nbconvert_exporter": "python",
   "pygments_lexer": "ipython2",
   "version": "2.7.10"
  }
 },
 "nbformat": 4,
 "nbformat_minor": 0
}
