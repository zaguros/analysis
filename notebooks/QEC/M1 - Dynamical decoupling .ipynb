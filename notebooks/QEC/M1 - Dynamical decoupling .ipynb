{
 "cells": [
  {
   "cell_type": "code",
   "execution_count": null,
   "metadata": {
    "collapsed": false
   },
   "outputs": [],
   "source": [
    "%matplotlib inline\n",
    "\n",
    "import sys\n",
    "sys.path.append(r'D:/measuring')\n",
    "#sys.path.append(r'D:/analysis')\n",
    "import numpy as np\n",
    "from analysis.scripts.mbi import mbi_electron_decoupling_analysis\n",
    "from analysis.scripts.QEC import Carbon_control_analysis_sweep_N as cca; reload(cca)\n",
    "from analysis.scripts.Decoupling_Memory import DD_analysis_final_data as  DD_final_data; reload(DD_final_data)\n",
    "\n",
    "from analysis.scripts.QEC import carbon_ramsey_analysis as cr\n",
    "from analysis.scripts.QEC import Two_Qubit_Tomography as twoqt\n",
    "from matplotlib import pyplot as plt\n",
    "\n",
    "#sys.path.append(r'D:/measuring/analysis')\n",
    "import analysis.scripts.mbi.mbi_electron_decoupling_analysis as DD\n",
    "import matplotlib as matplotlib\n",
    "\n",
    "font = {'family' : 'normal',\n",
    "        'weight' : 'normal',\n",
    "        'size'   : 22}\n",
    "\n",
    "matplotlib.rc('font', **font)\n",
    "reload(DD)"
   ]
  },
  {
   "cell_type": "code",
   "execution_count": null,
   "metadata": {
    "collapsed": false,
    "scrolled": false
   },
   "outputs": [],
   "source": [
    "execfile(r'D:\\measuring\\analysis\\scripts\\QEC_data_analysis\\dynamical decoupling\\DD_analysis_general_modified.py')"
   ]
  },
  {
   "cell_type": "code",
   "execution_count": null,
   "metadata": {
    "collapsed": false,
    "scrolled": true
   },
   "outputs": [],
   "source": [
    "execfile(r'D:\\measuring\\analysis\\scripts\\Decoupling_Memory\\DD_analysis_eigenstates_2.py')"
   ]
  },
  {
   "cell_type": "code",
   "execution_count": null,
   "metadata": {
    "collapsed": false,
    "scrolled": true
   },
   "outputs": [],
   "source": [
    "execfile(r'D:\\measuring\\analysis\\scripts\\Decoupling_Memory\\DD_ananlysis_tuning_tau_Larmor.py')"
   ]
  },
  {
   "cell_type": "code",
   "execution_count": null,
   "metadata": {
    "collapsed": false,
    "scrolled": true
   },
   "outputs": [],
   "source": [
    "execfile(r'D:\\measuring\\analysis\\scripts\\Decoupling_Memory\\DD_analysis_eigenstates_several_N.py')"
   ]
  },
  {
   "cell_type": "code",
   "execution_count": null,
   "metadata": {
    "collapsed": true
   },
   "outputs": [],
   "source": [
    "execfile(r'D:\\measuring\\analysis\\scripts\\Decoupling_Memory\\DD_analysis_eigenstates_several_N_HPF.py')"
   ]
  },
  {
   "cell_type": "code",
   "execution_count": null,
   "metadata": {
    "collapsed": false,
    "scrolled": true
   },
   "outputs": [],
   "source": [
    "execfile(r'D:\\measuring\\analysis\\scripts\\Decoupling_Memory\\DD_analysis_eigenstates.py')"
   ]
  },
  {
   "cell_type": "code",
   "execution_count": null,
   "metadata": {
    "collapsed": true
   },
   "outputs": [],
   "source": [
    "# mean_closed=[0.92786882982999941, 0.84885857767136652, 0.81099283440155234, 0.66200150848243466]\n",
    "mean_switching=[0.97227610101871986, 0.95778962752508956, 0.91703785689271811, 0.81255894657802219, 0.7875385486831048, 0.77614674874541933, 0.71743416307705998]\n",
    "mean_switching_2=[0.9695081106932506, 0.95147529241868467, 0.89165571202099003, 0.82315140603172521, 0.75113808157472883, 0.74572465978460389, 0.69138835285835654]\n",
    "evolution_time=[  7.114752,  18.970624,  30.828544,  42.684416,  54.540288,  66.398208, 78.25408 ]\n",
    "\n",
    "plt.plot(evolution_time, mean_switching, 'bo', evolution_time, mean_switching_2, 'go' )\n",
    "plt.legend(['switching-atten', 'switching-no_atten'], loc='lower left')\n",
    "plt.title('')\n",
    "plt.xlabel('total evoltuion time (ms)')\n",
    "plt.ylabel('average fidelity')"
   ]
  },
  {
   "cell_type": "code",
   "execution_count": null,
   "metadata": {
    "collapsed": true
   },
   "outputs": [],
   "source": [
    "execfile(r'D:\\measuring\\analysis\\scripts\\Decoupling_Memory\\DD_Michiel_vs_M1.py')"
   ]
  },
  {
   "cell_type": "code",
   "execution_count": null,
   "metadata": {
    "collapsed": false,
    "scrolled": true
   },
   "outputs": [],
   "source": [
    "execfile(r'D:\\measuring\\analysis\\scripts\\Decoupling_Memory\\DD_analysis_overrotations.py')"
   ]
  },
  {
   "cell_type": "code",
   "execution_count": null,
   "metadata": {
    "collapsed": false,
    "scrolled": true
   },
   "outputs": [],
   "source": [
    "execfile(r'D:\\measuring\\analysis\\scripts\\Decoupling_Memory\\DD_analysis_field_alignement_XY.py')"
   ]
  },
  {
   "cell_type": "code",
   "execution_count": null,
   "metadata": {
    "collapsed": false
   },
   "outputs": [],
   "source": [
    "N= np.array([8,16,32,64,128,256,512,1024,2048,3072])\n",
    "TDD= 0.96*N**0.78\n",
    "print TDD\n",
    "N_Tau_L= 1000*TDD/(2*N)/2.31\n",
    "M_Tau_L=2*N_Tau_L\n",
    "print M_Tau_L\n",
    "time=(M_Tau_L**2)*N*2.315*800/1e6/60\n",
    "print sum(time/60)\n",
    "\n",
    "print time"
   ]
  },
  {
   "cell_type": "code",
   "execution_count": null,
   "metadata": {
    "collapsed": false,
    "scrolled": true
   },
   "outputs": [],
   "source": [
    "execfile(r'D:\\measuring\\analysis\\scripts\\Decoupling_Memory\\DD_analysis_final_data.py')\n",
    "#reload(DD_final_data);DD_final_data.plot_final_data()"
   ]
  },
  {
   "cell_type": "code",
   "execution_count": null,
   "metadata": {
    "collapsed": false,
    "scrolled": true
   },
   "outputs": [],
   "source": [
    "execfile(r'D:\\measuring\\analysis\\scripts\\Decoupling_Memory\\DD_analysis_final_data_eigenstates.py')"
   ]
  },
  {
   "cell_type": "code",
   "execution_count": null,
   "metadata": {
    "collapsed": false,
    "scrolled": false
   },
   "outputs": [],
   "source": [
    "execfile(r'D:\\measuring\\analysis\\scripts\\Decoupling_Memory\\DD_alnalysis_final_data_process_fidelity.py')"
   ]
  },
  {
   "cell_type": "code",
   "execution_count": null,
   "metadata": {
    "collapsed": false,
    "scrolled": true
   },
   "outputs": [],
   "source": [
    "execfile(r'D:\\measuring\\analysis\\scripts\\Decoupling_Memory\\DD_analysis_general_several_plots.py')"
   ]
  },
  {
   "cell_type": "code",
   "execution_count": null,
   "metadata": {
    "collapsed": false,
    "scrolled": false
   },
   "outputs": [],
   "source": [
    "execfile(r'D:\\measuring\\analysis\\scripts\\Decoupling_Memory\\sweep_tau_N_32_final_data.py')"
   ]
  },
  {
   "cell_type": "code",
   "execution_count": null,
   "metadata": {
    "collapsed": true
   },
   "outputs": [],
   "source": [
    "np.save('sweep_tau_32_cum_sweep_pts',cum_sweep_pts)"
   ]
  },
  {
   "cell_type": "code",
   "execution_count": null,
   "metadata": {
    "collapsed": true
   },
   "outputs": [],
   "source": [
    "np.save('sweep_tau_32_cum_P',cum_p0)"
   ]
  },
  {
   "cell_type": "code",
   "execution_count": null,
   "metadata": {
    "collapsed": false
   },
   "outputs": [],
   "source": [
    "x=np.load('final_data_x.npy')\n",
    "y=np.load('final_data_y.npy')"
   ]
  },
  {
   "cell_type": "code",
   "execution_count": null,
   "metadata": {
    "collapsed": false
   },
   "outputs": [],
   "source": [
    "np.save('final_data_x',x[3])\n",
    "np.save('final_data_y',y[3])"
   ]
  },
  {
   "cell_type": "code",
   "execution_count": null,
   "metadata": {
    "collapsed": true
   },
   "outputs": [],
   "source": [
    "np.save('final_data_x_16',x[4])\n",
    "np.save('final_data_y_16',y[4])"
   ]
  },
  {
   "cell_type": "code",
   "execution_count": null,
   "metadata": {
    "collapsed": true
   },
   "outputs": [],
   "source": [
    "np.save('final_data_x_32',x[5])\n",
    "np.save('final_data_y_32',y[5])"
   ]
  },
  {
   "cell_type": "code",
   "execution_count": null,
   "metadata": {
    "collapsed": true
   },
   "outputs": [],
   "source": [
    "np.save('final_data_x_64',x[6])\n",
    "np.save('final_data_y_64',y[6])"
   ]
  },
  {
   "cell_type": "code",
   "execution_count": null,
   "metadata": {
    "collapsed": true
   },
   "outputs": [],
   "source": [
    "np.save('final_data_x_4',x[2])\n",
    "np.save('final_data_y_4',y[2])"
   ]
  },
  {
   "cell_type": "code",
   "execution_count": null,
   "metadata": {
    "collapsed": true
   },
   "outputs": [],
   "source": [
    "np.save('final_data_x_128',x[7])\n",
    "np.save('final_data_y_128',y[7])"
   ]
  },
  {
   "cell_type": "code",
   "execution_count": null,
   "metadata": {
    "collapsed": true
   },
   "outputs": [],
   "source": [
    "np.save('final_data_x_256',x[8])\n",
    "np.save('final_data_y_256',y[8])"
   ]
  },
  {
   "cell_type": "code",
   "execution_count": null,
   "metadata": {
    "collapsed": true
   },
   "outputs": [],
   "source": [
    "np.save('final_data_x_512',x[9])\n",
    "np.save('final_data_y_512',y[9])"
   ]
  },
  {
   "cell_type": "code",
   "execution_count": null,
   "metadata": {
    "collapsed": true
   },
   "outputs": [],
   "source": [
    "np.save('final_data_x_1024',x[10])\n",
    "np.save('final_data_y_1024',y[10])"
   ]
  },
  {
   "cell_type": "code",
   "execution_count": null,
   "metadata": {
    "collapsed": true
   },
   "outputs": [],
   "source": [
    "np.save('final_data_x_2048',x[11])\n",
    "np.save('final_data_y_2048',y[11])"
   ]
  },
  {
   "cell_type": "code",
   "execution_count": null,
   "metadata": {
    "collapsed": true
   },
   "outputs": [],
   "source": [
    "np.save('final_data_x_3072',x[12])\n",
    "np.save('final_data_y_3072',y[12])"
   ]
  },
  {
   "cell_type": "code",
   "execution_count": null,
   "metadata": {
    "collapsed": true
   },
   "outputs": [],
   "source": [
    "np.save('final_data_x_8096',x[13])\n",
    "np.save('final_data_y_8096',y[13])"
   ]
  },
  {
   "cell_type": "code",
   "execution_count": null,
   "metadata": {
    "collapsed": true
   },
   "outputs": [],
   "source": [
    "np.save('final_data_x_10000',x[14])\n",
    "np.save('final_data_y_10000',y[14])"
   ]
  },
  {
   "cell_type": "code",
   "execution_count": null,
   "metadata": {
    "collapsed": false
   },
   "outputs": [],
   "source": [
    "np.save('final_data_e_4',e[2])\n",
    "np.save('final_data_e_8',e[3])\n",
    "np.save('final_data_e_16',e[4])\n",
    "np.save('final_data_e_32',e[5])\n",
    "np.save('final_data_e_64',e[6])\n",
    "np.save('final_data_e_128',e[7])\n",
    "np.save('final_data_e_256',e[8])\n",
    "np.save('final_data_e_512',e[9])\n",
    "np.save('final_data_e_1024',e[10])\n",
    "np.save('final_data_e_2048',e[11])\n",
    "np.save('final_data_e_3072',e[12])\n",
    "np.save('final_data_e_6144',e[13])\n",
    "np.save('final_data_e_10240',e[14])"
   ]
  },
  {
   "cell_type": "code",
   "execution_count": null,
   "metadata": {
    "collapsed": false,
    "scrolled": true
   },
   "outputs": [],
   "source": [
    "execfile(r'D:\\measuring\\analysis\\scripts\\Decoupling_Memory\\scaling_Norbert_analysis.py')"
   ]
  },
  {
   "cell_type": "code",
   "execution_count": null,
   "metadata": {
    "collapsed": false,
    "scrolled": false
   },
   "outputs": [],
   "source": [
    "Q=4.946 #all units in MHz\n",
    "gamm_ni=0.3077*1.0e-3 #MHz/Gauss\n",
    "A_o=-2.62\n",
    "A_p=2.19\n",
    "Bz=403.553\n",
    "delta=1.746666*1.0e3\n",
    "\n",
    "f1= Q + A_p/2 + gamm_ni*Bz - A_o**2/(4*delta)\n",
    "f2= Q - A_p/2 - gamm_ni*Bz + A_o**2/(4*delta)\n",
    "print(f1)\n",
    "\n",
    "n=np.linspace(30,60,31)\n",
    "n2=np.linspace(18,36,31)\n",
    "\n",
    "n=np.linspace(10,30,21)\n",
    "n2=np.linspace(1,20,20)\n",
    "\n",
    "print n2\n",
    "\n",
    "tau1 = ((2*n+1)/4)*(1/f1)\n",
    "tau2 = ((2*n2+1)/4)*(1/f2)\n",
    "print (list(tau1))\n",
    "print (list(tau2))"
   ]
  },
  {
   "cell_type": "code",
   "execution_count": null,
   "metadata": {
    "collapsed": false
   },
   "outputs": [],
   "source": [
    "x512=np.load('final_data_x_512.npy')\n",
    "y512=np.load('final_data_y_512.npy')"
   ]
  },
  {
   "cell_type": "code",
   "execution_count": null,
   "metadata": {
    "collapsed": false,
    "scrolled": false
   },
   "outputs": [],
   "source": [
    "execfile(r'D:\\measuring\\analysis\\scripts\\Decoupling_Memory\\dd_analysis_very_sharp_dips.py')"
   ]
  },
  {
   "cell_type": "code",
   "execution_count": null,
   "metadata": {
    "collapsed": false
   },
   "outputs": [],
   "source": [
    "for ii in range(0,len(cum_p0)):\n",
    "    if cum_p0[ii] < 0.6:\n",
    "        print ii\n",
    "        "
   ]
  },
  {
   "cell_type": "code",
   "execution_count": null,
   "metadata": {
    "collapsed": false
   },
   "outputs": [],
   "source": [
    "cum_sweep_pts[1979]/(2*3072)"
   ]
  },
  {
   "cell_type": "code",
   "execution_count": null,
   "metadata": {
    "collapsed": false
   },
   "outputs": [],
   "source": [
    "print cum_p0"
   ]
  },
  {
   "cell_type": "code",
   "execution_count": null,
   "metadata": {
    "collapsed": true
   },
   "outputs": [],
   "source": []
  }
 ],
 "metadata": {
  "kernelspec": {
   "display_name": "Python 2",
   "language": "python",
   "name": "python2"
  },
  "language_info": {
   "codemirror_mode": {
    "name": "ipython",
    "version": 2
   },
   "file_extension": ".py",
   "mimetype": "text/x-python",
   "name": "python",
   "nbconvert_exporter": "python",
   "pygments_lexer": "ipython2",
   "version": "2.7.10"
  }
 },
 "nbformat": 4,
 "nbformat_minor": 0
}
