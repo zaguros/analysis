{
 "cells": [
  {
   "cell_type": "code",
   "execution_count": null,
   "metadata": {
    "collapsed": false,
    "deletable": true,
    "editable": true
   },
   "outputs": [],
   "source": [
    "import numpy as np\n",
    "import matplotlib.pyplot as plt\n",
    "import scipy.fftpack\n",
    "import scipy.signal\n",
    "\n",
    "%matplotlib inline\n",
    "execfile(r'D:\\measuring\\analysis\\scripts\\setup_analysis.py')"
   ]
  },
  {
   "cell_type": "code",
   "execution_count": null,
   "metadata": {
    "collapsed": false,
    "deletable": true,
    "editable": true
   },
   "outputs": [],
   "source": [
    "older_than='20180309190000'\n",
    "newer_than ='20180209095000'\n",
    "timestamp,folder = tb.latest_data(contains='AdwinMeasurement_phase_stab', \n",
    "                                  older_than = older_than,return_timestamp=True)\n",
    "older_than=timestamp\n",
    "print folder\n",
    "a=m2.M2Analysis(folder=folder)\n",
    "for k in a.f.keys():\n",
    "    if '_data' in k:\n",
    "        a.dg = a.f[k]"
   ]
  },
  {
   "cell_type": "code",
   "execution_count": null,
   "metadata": {
    "collapsed": false,
    "deletable": true,
    "editable": true
   },
   "outputs": [],
   "source": [
    "phase_detector_voltage = a.g['phase_stab']['phase_detector_voltage']\n",
    "error_signal = a.g['phase_stab']['error_signal']\n",
    "\n",
    "signal_start = a.g['phase_stab'].attrs['Signal_start']\n",
    "\n",
    "PID_p = a.g['phase_stab'].attrs['PID_Kp']\n",
    "PID_i = a.g['phase_stab'].attrs['PID_Ki']\n",
    "PID_d = a.g['phase_stab'].attrs['PID_Kd']\n",
    "\n",
    "print signal_start, ' P =', PID_p, ' I =', PID_i, ' D =', PID_d\n",
    "plt.figure()\n",
    "plt.plot(phase_detector_voltage)\n",
    "plt.title(folder + '\\n Phase detector signal')\n",
    "plt.show()\n",
    "\n",
    "plt.figure()\n",
    "plt.plot(error_signal)\n",
    "plt.title(folder+ '\\n Output signal to the piezo mirror')\n",
    "plt.show()"
   ]
  },
  {
   "cell_type": "code",
   "execution_count": null,
   "metadata": {
    "collapsed": false,
    "deletable": true,
    "editable": true
   },
   "outputs": [],
   "source": [
    "N = 10\n",
    "phase_detector_voltage_a = np.convolve(phase_detector_voltage[50:-1], np.ones((N,))/N, mode='valid')\n",
    "\n",
    "plt.plot(phase_detector_voltage_a)\n",
    "plt.show()\n",
    "\n",
    "plt.hist(phase_detector_voltage_a,range=(-0.005,0.005),bins=50);\n",
    "plt.title(folder+ '\\n Histogram of phase detector voltage')\n",
    "plt.xlabel('Voltage [V]')\n",
    "plt.show()"
   ]
  },
  {
   "cell_type": "code",
   "execution_count": null,
   "metadata": {
    "collapsed": true
   },
   "outputs": [],
   "source": [
    "plt.hist?"
   ]
  },
  {
   "cell_type": "code",
   "execution_count": null,
   "metadata": {
    "collapsed": true
   },
   "outputs": [],
   "source": []
  }
 ],
 "metadata": {
  "kernelspec": {
   "display_name": "Python 2",
   "language": "python",
   "name": "python2"
  },
  "language_info": {
   "codemirror_mode": {
    "name": "ipython",
    "version": 2
   },
   "file_extension": ".py",
   "mimetype": "text/x-python",
   "name": "python",
   "nbconvert_exporter": "python",
   "pygments_lexer": "ipython2",
   "version": "2.7.11"
  }
 },
 "nbformat": 4,
 "nbformat_minor": 2
}
