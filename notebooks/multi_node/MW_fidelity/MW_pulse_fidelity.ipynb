{
 "cells": [
  {
   "cell_type": "code",
   "execution_count": null,
   "metadata": {
    "collapsed": false,
    "deletable": true,
    "editable": true
   },
   "outputs": [],
   "source": [
    "execfile(r'D:\\measuring\\analysis\\scripts\\setup_analysis.py')\n",
    "from analysis.lib.m2.ssro import ssro, sequence\n",
    "import scipy.fftpack\n",
    "import win32com.client #imports the pywin32 library\n",
    "%matplotlib inline"
   ]
  },
  {
   "cell_type": "code",
   "execution_count": null,
   "metadata": {
    "collapsed": false,
    "deletable": true,
    "editable": true
   },
   "outputs": [],
   "source": [
    "def arg_value(t, t_0):\n",
    "    ind = np.argmin(np.abs(t - t_0))\n",
    "    return ind  \n",
    "\n",
    "def fourier_complex(signal, time):\n",
    "    \"\"\"Returns the Fouier transform of a single signal with time, including the negative frequencies.\"\"\"\n",
    "    t_step = (time[-1] - time[0])/time.size\n",
    "    fft = scipy.fftpack.fft(signal) * t_step\n",
    "    freq = scipy.fftpack.fftfreq(time.size, t_step)\n",
    "    return np.fft.fftshift(fft), np.fft.fftshift(freq)\n",
    "\n",
    "def fourier(signal, time):\n",
    "    \"\"\"Returns the Fouier transform of a single signal with time, including the negative frequencies.\"\"\"\n",
    "    t_step = (time[-1] - time[0])/time.size\n",
    "    fft = scipy.fftpack.fft(signal) * t_step\n",
    "    freq = scipy.fftpack.fftfreq(time.size, t_step)\n",
    "    return np.abs(np.fft.fftshift(fft)), np.fft.fftshift(freq)\n",
    "\n",
    "def fourier_pos_freq(signal, time):\n",
    "    \"\"\"Returns the Fouier transform of a single signal with time.\"\"\"\n",
    "    t_step = (time[-1] - time[0])/time.size\n",
    "    fft = scipy.fftpack.fft(signal) * t_step\n",
    "    freq = scipy.fftpack.fftfreq(time.size, t_step)\n",
    "    n = len(fft)\n",
    "    fft = fft[0:n//2]\n",
    "    freq = freq[0:n//2]\n",
    "    return np.abs(fft), freq\n",
    "\n",
    "def hermite_pulse_env(env_amplitude, T_herm, mu=0):\n",
    "    t = np.linspace(-25e-7,25e-7,int(1e5)) + mu\n",
    "    env = env_amplitude*(1-0.956*((t-mu)/T_herm)**2)*np.exp(-((t-mu)/T_herm)**2)\n",
    "    return env, t\n",
    "\n",
    "def hermite_pulse(env_amplitude, T_herm, frequency, mu=0):\n",
    "    env, t = hermite_pulse_env(env_amplitude, T_herm, mu=0)\n",
    "    hermite_pulse = env * np.sin(t*2*np.pi*frequency)\n",
    "    return hermite_pulse, t + mu\n",
    "\n",
    "def path_folder(disk='D', when='latest', multiple_msmt=False, older_than=None, newer_than=None):\n",
    "    \"\"\"Returns a list with string with the path to the measurements.\"\"\"\n",
    "    if disk == 'D':\n",
    "        data_folder = None\n",
    "    else:\n",
    "        data_folder = '{}:/data'.format(disk)\n",
    "    if multiple_msmt == False:\n",
    "        if when == 'latest':\n",
    "            msmt_folder = tb.latest_data('mw_pulse_msmt', folder=data_folder)\n",
    "        else:\n",
    "            msmt_folder = tb.data_from_time(when, folder=data_folder)\n",
    "    else:\n",
    "        msmt_folder = tb.latest_data('mw_pulse_msmt', folder='{}:/data'.format(disk),\n",
    "                                     newer_than=newer_than, older_than=older_than, return_all=True)\n",
    "    return msmt_folder\n",
    "\n",
    "class mw_msmt:\n",
    "    def __init__(self, setup, where, disk='D', when='latest', old_measurement=False, incl_awg_signal = False):\n",
    "        msmt_folder = path_folder(disk, when)\n",
    "        f = sequence.SequenceAnalysis(msmt_folder, hdf5_mode='r')\n",
    "        waveform = np.array(f.g['oscilloscope_msmt']['data'])\n",
    "        self.length = f.g.attrs['Hermite_pi_length']\n",
    "        self.power = f.g.attrs['mw_power']\n",
    "        self.t_step = (waveform[0][-1] - waveform[0][0])/waveform.size\n",
    "        self.number_of_pulses = int(f.g.attrs['multiplicity'])\n",
    "        self.points_per_pulse = int(1e6 // self.number_of_pulses)\n",
    "        if old_measurement:\n",
    "            extra_points_per_pulse = int(round((self.length-100e-9)/self.t_step)/2)\n",
    "            self.points_per_pulse += extra_points_per_pulse\n",
    "            self.number_of_pulses -= 1 # Discard last pulse because it is not fully measured\n",
    "        self.frequency = f.g.attrs['mw_frq'] + 30e6       \n",
    "        self.t_herm = 0.1667*self.length\n",
    "        self.t = np.zeros((self.number_of_pulses, self.points_per_pulse))\n",
    "        self.amplitude = np.zeros((self.number_of_pulses, self.points_per_pulse))\n",
    "        self.middle = np.zeros(self.number_of_pulses)\n",
    "        self.offset = np.zeros(self.number_of_pulses)\n",
    "        if incl_awg_signal:\n",
    "            self.imod = np.array(f.g['pulses']['MW_Imod'])\n",
    "            self.awg_time = np.array(f.g['pulses']['time'])\n",
    "        if disk=='D':\n",
    "            self.timestamp = msmt_folder[18:33]\n",
    "        else:\n",
    "            self.timestamp = msmt_folder[8:23]\n",
    "        for pulse in range(self.number_of_pulses):\n",
    "            self.t[pulse] = waveform[0][pulse*self.points_per_pulse:(pulse+1)*self.points_per_pulse]\n",
    "            self.amplitude[pulse] = waveform[1][pulse*self.points_per_pulse:(pulse+1)*self.points_per_pulse]\n",
    "            self.middle[pulse] = self.t[pulse][np.argmax(self.amplitude[pulse])]\n",
    "#             self.offset[pulse] = self.amplitude[pulse][0:arg_value(self.t[pulse], self.t[pulse][np.argmax(self.amplitude)]-.75*self.length)].mean()\n",
    "        self.offset = np.mean(self.amplitude[:][0:1000])\n",
    "        self.amplitude -= self.offset # Corrects for a DC ofset of the signal\n",
    "        self.t_step = (self.t[-1][-1] - self.t[0][0])/self.t.size\n",
    "        self.setup = setup\n",
    "        self.where = where\n",
    "            \n",
    "            \n",
    "    @property\n",
    "    def mean_fft(self):\n",
    "        mean = np.mean(self.fft, axis=0)\n",
    "        return mean\n",
    "    \n",
    "    @property\n",
    "    def std_fft(self):\n",
    "        std = np.std(self.fft, axis=0)\n",
    "        return std\n",
    "    \n",
    "\n",
    "class pulse_msmt(mw_msmt):\n",
    "    def __init__(self, setup, where, disk='D', when='latest', old_measurement=False, incl_awg_signal = False):\n",
    "        mw_msmt.__init__(self, setup, where, disk, when, old_measurement, incl_awg_signal)\n",
    "        self.fft = np.zeros((self.number_of_pulses, self.points_per_pulse//2))\n",
    "        self.freq = np.zeros((self.number_of_pulses, self.points_per_pulse//2))\n",
    "        for pulse in range(self.number_of_pulses):\n",
    "            self.fft[pulse], self.freq[pulse] = fourier_pos_freq(self.amplitude[pulse], self.t[pulse])\n",
    "        \n",
    "    def integral_fft(self, lower_bound=None, upper_bound=None):\n",
    "        integral = np.zeros(self.number_of_pulses)\n",
    "        if lower_bound==None and upper_bound==None:\n",
    "            for pulse in range(self.number_of_pulses):\n",
    "                integral[pulse] = scipy.integrate.trapz(self.fft[pulse], self.freq[pulse])\n",
    "        else:\n",
    "            \n",
    "            for pulse in range(self.number_of_pulses):\n",
    "                ind_lower = arg_value(self.freq[pulse], lower_bound)\n",
    "                ind_upper = arg_value(self.freq[pulse], upper_bound)\n",
    "                integral[pulse] = scipy.integrate.trapz(self.fft[pulse][ind_lower:ind_upper], \n",
    "                                                        self.freq[pulse][ind_lower:ind_upper])\n",
    "        return integral\n",
    "\n",
    "class enveloppe_msmt(mw_msmt):\n",
    "    def __init__(self, setup, where, disk='D', when='latest', old_measurement=False, incl_awg_signal = False):\n",
    "        mw_msmt.__init__(self, setup, where, disk, when, old_measurement, incl_awg_signal)\n",
    "        self.frequency = 0\n",
    "        self.fft = np.zeros((self.number_of_pulses, self.points_per_pulse))\n",
    "        self.freq = np.zeros((self.number_of_pulses, self.points_per_pulse))\n",
    "        for pulse in range(self.number_of_pulses):\n",
    "            self.fft[pulse], self.freq[pulse] = fourier(self.amplitude[pulse], self.t[pulse])\n",
    "\n",
    "class sequential_pulse_msmts:\n",
    "    def __init__(self, newer_than, older_than, disk='D'):\n",
    "        msmt_folders = path_folder(disk, newer_than=newer_than, older_than=older_than, multiple_msmt=True)\n",
    "        self.number_of_msmts = len(msmt_folders)\n",
    "        self.msmts = []\n",
    "        for msmt_folder in msmt_folders:\n",
    "            when = tb.timestamp_from_datetime(tb.get_datetime_from_folder(msmt_folder))\n",
    "            self.msmts.append(pulse_msmt(disk=disk, when=when))"
   ]
  },
  {
   "cell_type": "code",
   "execution_count": null,
   "metadata": {
    "collapsed": false,
    "deletable": true,
    "editable": true
   },
   "outputs": [],
   "source": [
    "# a = enveloppe_msmt('X')\n",
    "# a = enveloppe_msmt('X', when='20180323091723')\n",
    "# a = enveloppe_msmt('Z', when='20180326125434')\n",
    "\n",
    "# skew = pulse_msmt(setup='LT5', when='20180423102232', where='', disk='Z')\n",
    "skew = pulse_msmt(setup='LT5', where='', disk='Z')\n",
    "\n",
    "# power15 = pulse_msmt(setup='LT5', when='20180419150422', where='after the cryostat', disk='Z')\n",
    "# power10 = pulse_msmt(setup='LT5', when='20180419150324', where='after the cryostat', disk='Z')\n",
    "# power20 = pulse_msmt(setup='LT5', when='20180419150001', where='after the cryostat', disk='Z')\n",
    "# lt_4_rf_source = pulse_msmt(setup='LT4', where='after the RF source', disk='Y', when='20180320144111', old_measurement=True)\n",
    "# lt_4_amplifier = pulse_msmt(setup='LT4', where='after the amplifier', disk='Y', when='20180321111625', old_measurement=True)\n",
    "# lt_4_switch = pulse_msmt(setup='LT4', where='after the RF switch', disk='Y', when='20180321120058', old_measurement=True)\n",
    "# lt_4_cryo = pulse_msmt(setup='LT4', where='after the cryostat and sample', disk='Y', when='20180321134817')\n",
    "# overnight = sequential_pulse_msmts(disk='Y',newer_than='20180321182000', older_than='20180322110000')"
   ]
  },
  {
   "cell_type": "code",
   "execution_count": null,
   "metadata": {
    "collapsed": false,
    "deletable": true,
    "editable": true
   },
   "outputs": [],
   "source": [
    "# multi = overnight\n",
    "msmt = skew\n",
    "pulse = 0\n",
    "measurement = 0"
   ]
  },
  {
   "cell_type": "markdown",
   "metadata": {
    "deletable": true,
    "editable": true
   },
   "source": [
    "# Overview of the measurement"
   ]
  },
  {
   "cell_type": "code",
   "execution_count": null,
   "metadata": {
    "collapsed": false,
    "deletable": true,
    "editable": true
   },
   "outputs": [],
   "source": [
    "plt.figure(figsize=(10,8))\n",
    "for pulse in range(msmt.number_of_pulses):\n",
    "    plt.plot(msmt.t[pulse], msmt.amplitude[pulse])\n",
    "plt.xlabel('t(s)')\n",
    "plt.ylabel('U(V)')\n",
    "plt.title('Overview of the whole measurement, timestamp: {}'.format(msmt.timestamp))\n",
    "plt.show()"
   ]
  },
  {
   "cell_type": "markdown",
   "metadata": {
    "deletable": true,
    "editable": true
   },
   "source": [
    "# Analysis of single pulse"
   ]
  },
  {
   "cell_type": "code",
   "execution_count": null,
   "metadata": {
    "collapsed": false,
    "deletable": true,
    "editable": true
   },
   "outputs": [],
   "source": [
    "# Plot waveform\n",
    "plt.figure(figsize=(10,8))\n",
    "# plt.plot(msmt.t[pulse], msmt.amplitude[pulse],label='Data')\n",
    "# Plot ideal pulse\n",
    "middle = (msmt.t[pulse][-1]-msmt.t[pulse][0])/2 + msmt.t[pulse][0]\n",
    "\n",
    "if msmt.__class__.__name__ == 'enveloppe_msmt':\n",
    "    env, t = hermite_pulse_env(env_amplitude=np.max(msmt.amplitude), mu=msmt.middle[pulse], T_herm=msmt.t_herm)\n",
    "    plt.plot(t, env, '--', label='Ideal')\n",
    "#     plt.plot(msmt.awg_time-1.9865e-5, msmt.imod/1.05, label='Send to AWG') #Plot input for the AWG\n",
    "elif msmt.__class__.__name__ == 'pulse_msmt':\n",
    "    env, t = hermite_pulse(env_amplitude=np.max(msmt.amplitude)*.96, frequency=msmt.frequency, mu=msmt.middle[pulse]+0e-8, T_herm=msmt.t_herm)\n",
    "#     plt.plot(t, env, label='Ideal')\n",
    "plt.plot(msmt.t[pulse], msmt.amplitude[pulse], label='Data')#, alpha=.7)\n",
    "print \"                       {} {}\".format(msmt.setup, msmt.where)\n",
    "    \n",
    "time_window = 2e-7\n",
    "# plt.xlim(msmt.middle[pulse]-4e-8, msmt.middle[pulse]-3e-8)\n",
    "plt.xlim(msmt.middle[pulse]-time_window/2, msmt.middle[pulse]+time_window/2)\n",
    "plt.ticklabel_format(style='sci', axis='x', scilimits=(0,0))\n",
    "plt.xlabel('s')\n",
    "plt.ylabel('V')\n",
    "plt.title('Single Hermite pulse, timestamp : {}'.format(msmt.timestamp))\n",
    "plt.legend()\n",
    "plt.show()\n",
    "\n",
    "# Plot the fourier transform\n",
    "plt.figure(figsize=(8,5))\n",
    "# plt.plot(msmt.freq[pulse], msmt.fft[pulse], label='Data')\n",
    "# Plot ideal transform\n",
    "fft, freq = fourier(env, t)\n",
    "plt.plot(freq, fft, '--', label='Ideal')\n",
    "plt.plot(msmt.freq[pulse], msmt.fft[pulse], label='Data')\n",
    "    \n",
    "plt.title('Fourier transform, timestamp : {}'.format(msmt.timestamp))\n",
    "plt.xlabel('Frequency [Hz]')\n",
    "plt.legend()\n",
    "plt.xlim(msmt.frequency - 1e8, msmt.frequency + 1e8)\n",
    "plt.show()\n",
    "\n",
    "plt.figure(figsize=(8,5))\n",
    "fft_complex, freqe = fourier_complex(msmt.amplitude[pulse], msmt.t[pulse])\n",
    "plt.xlim(msmt.frequency - 1e8, msmt.frequency + 1e8)\n",
    "plt.plot(freqe, np.unwrap(np.angle(fft_complex)), '--')"
   ]
  },
  {
   "cell_type": "markdown",
   "metadata": {
    "deletable": true,
    "editable": true
   },
   "source": [
    "# Analysis of the pulses in one measurement"
   ]
  },
  {
   "cell_type": "code",
   "execution_count": null,
   "metadata": {
    "collapsed": false,
    "deletable": true,
    "editable": true
   },
   "outputs": [],
   "source": [
    "half_width_integral = 30e6\n",
    "\n",
    "plt.figure(figsize=(10,8))\n",
    "for pulse in range(msmt.number_of_pulses):\n",
    "    plt.plot(msmt.freq[pulse], msmt.fft[pulse], label='{}'.format(pulse))\n",
    "plt.axvspan(msmt.frequency - half_width_integral, msmt.frequency + half_width_integral, alpha=0.2, color='red')\n",
    "    \n",
    "plt.xlim(msmt.frequency - 1e8, msmt.frequency + 1e8)\n",
    "plt.xlabel('f (Hz)')\n",
    "plt.title(' Fourier transforms of {} consecutive pulses, \\ntimestamp : {}'.format(msmt.number_of_pulses, msmt.timestamp))\n",
    "# plt.legend()\n",
    "plt.show()\n",
    "\n",
    "plt.figure(figsize=(10,5))\n",
    "integral = msmt.integral_fft(msmt.frequency-half_width_integral, msmt.frequency+half_width_integral)\n",
    "plt.plot(range(1,msmt.number_of_pulses+1-1), integral[:-1], 'o')\n",
    "plt.xlabel('Pulse number')\n",
    "plt.ylabel('Integral')\n",
    "plt.title('Integral of the shaded area for each pulse {} , \\ntimestamp : {}'.format(msmt.where, msmt.timestamp))\n",
    "plt.show()\n",
    "delta_ampl = (integral.max()-integral.min())/integral.max()\n",
    "print \"Lowest integral is {:.2f}% lower than highest\".format(delta_ampl*100)\n",
    "fidelity = 1 - np.pi**2/4*delta_ampl**2\n",
    "print \"This gives rise to an infidelity of {:.4f} (infidelity: {:.2f}%).\".format(fidelity, (1-fidelity)*100)"
   ]
  },
  {
   "cell_type": "code",
   "execution_count": null,
   "metadata": {
    "collapsed": false,
    "deletable": true,
    "editable": true
   },
   "outputs": [],
   "source": [
    "plt.figure(figsize=(10,8))\n",
    "plt.plot(msmt.freq[0], msmt.mean_fft, 'k', label='Mean')\n",
    "plt.fill_between(msmt.freq[0],  msmt.mean_fft - msmt.std_fft, msmt.mean_fft + msmt.std_fft, \n",
    "                 facecolor='blue', alpha=0.5, label=r'$\\pm$ 1 SD')\n",
    "\n",
    "print \"                       {} {}\".format(msmt.setup, msmt.where)\n",
    "# set_limits()\n",
    "plt.xlabel('f (Hz)')\n",
    "plt.title('Mean Fourier transform of {} consecutive pulses , timestamp : {}'.format(msmt.number_of_pulses, msmt.timestamp))\n",
    "plt.xlim(msmt.frequency - 1e8, msmt.frequency + 1e8)\n",
    "\n",
    "\n",
    "if msmt.__class__.__name__ == 'enveloppe_msmt':\n",
    "    env, t = hermite_pulse_env(env_amplitude=np.max(msmt.amplitude)*.91, mu=msmt.middle[pulse], T_herm=msmt.t_herm)\n",
    "#     plt.plot(t, env, '--', label='Ideal')\n",
    "#     plt.plot(msmt.awg_time-1.9865e-5, msmt.imod/1.05, label='Send to AWG') #Plot input for the AWG\n",
    "elif msmt.__class__.__name__ == 'pulse_msmt':\n",
    "    env, t = hermite_pulse(env_amplitude=np.max(msmt.amplitude)*.96, frequency=msmt.frequency, mu=msmt.middle[pulse], T_herm=msmt.t_herm)\n",
    "fft, freq = fourier(env, t)\n",
    "plt.plot(freq, fft, 'r--', label='Ideal')\n",
    "\n",
    "plt.legend()\n",
    "plt.show()\n",
    "\n",
    "plt.figure(figsize=(6,3))\n",
    "mean_fft_func = scipy.interpolate.interp1d(msmt.freq[0], msmt.mean_fft)\n",
    "fft_func = scipy.interpolate.interp1d(freq, fft)\n",
    "f = np.linspace(msmt.frequency - .3e8, msmt.frequency + .3e8, 10000)\n",
    "# plt.xlim(msmt.frequency - 1e8, msmt.frequency + 1e8)\n",
    "ratio = mean_fft_func(f)/fft_func(f)\n",
    "plt.plot(f, ratio)\n",
    "plt.title(\"Ratio between mean FFT and ideal signal.\")\n",
    "plt.xlabel('f (Hz)')\n",
    "plt.show()\n",
    "\n",
    "# plt.figure(figsize=(10,3))\n",
    "# plt.plot(freq[msmt][0],  std, label=\"Noise on RF signal\")\n",
    "# # plt.plot([1.66e-9, 1.8e-9], [noise_oscilloscope, noise_oscilloscope], 'k--', label=\"Noise oscilloscope\")\n",
    "# plt.xlim(msmt.frequency - 1e8, msmt.frequency + 1e8)\n",
    "# plt.ylim(0,5e-10)\n",
    "# plt.xlabel('f (Hz)')\n",
    "# plt.title('Standard deviation of consequtive pulses, timestamp : {}'.format(timestamp[msmt]))\n",
    "# plt.show()\n",
    "# ind_low = int(np.argmin(np.abs(msmt.freq[0] - 1.705e9)))\n",
    "# ind_high = int(np.argmin(np.abs(msmt.freq[0] - 1.735e9)))\n",
    "# mean_plateau = np.mean(mean[ind_low:ind_high])\n",
    "# print \"The relative mean standard deviation to the peak is {:.3e}.\".format(np.mean(std)/mean_plateau)"
   ]
  },
  {
   "cell_type": "code",
   "execution_count": null,
   "metadata": {
    "collapsed": false,
    "deletable": true,
    "editable": true
   },
   "outputs": [],
   "source": []
  },
  {
   "cell_type": "code",
   "execution_count": null,
   "metadata": {
    "collapsed": true,
    "deletable": true,
    "editable": true
   },
   "outputs": [],
   "source": []
  },
  {
   "cell_type": "code",
   "execution_count": null,
   "metadata": {
    "collapsed": false,
    "deletable": true,
    "editable": true
   },
   "outputs": [],
   "source": [
    "# Exproting the complex fourier transform\n",
    "t_step = (msmt.t[0][-1] - msmt.t[0][0])/msmt.t[0].size\n",
    "fft = scipy.fftpack.fft(msmt.amplitude[0])\n",
    "freq = scipy.fftpack.fftfreq(msmt.t[0].size, t_step)\n",
    "np.savetxt('after_cryo_fft.csv', fft, delimiter=',')\n",
    "np.savetxt('after_cryo_freq.csv', freq, delimiter=',')\n",
    "plt.plot(freq, abs(fft))"
   ]
  },
  {
   "cell_type": "markdown",
   "metadata": {
    "deletable": true,
    "editable": true
   },
   "source": [
    "# Analysis of multiple consecutive measurements"
   ]
  },
  {
   "cell_type": "code",
   "execution_count": null,
   "metadata": {
    "collapsed": false,
    "deletable": true,
    "editable": true
   },
   "outputs": [],
   "source": [
    "plt.figure(figsize=(10,8))\n",
    "# plt.plot(multi[measurement].freq[0], multi[measurement]mean)#, label='{}'.format(msmt))\n",
    "for msmt in range(multi.number_of_msmts):\n",
    "    plt.plot(multi.msmts[msmt].freq[0], multi.msmts[msmt].mean_fft, label='{}'.format(msmt))\n",
    "plt.title('Mean Fourier transforms of {} measurements of {} consecutive pulses, \\ntimestamps : {} - {}'\n",
    "          .format(multi.number_of_msmts, multi.msmts[0].number_of_pulses, multi.msmts[multi.number_of_msmts-1].timestamp, multi.msmts[0].timestamp))\n",
    "plt.xlabel('f (Hz)')\n",
    "plt.xlim(multi.msmts[0].frequency - 1e8, multi.msmts[0].frequency + 1e8)\n",
    "plt.show()"
   ]
  },
  {
   "cell_type": "markdown",
   "metadata": {
    "deletable": true,
    "editable": true
   },
   "source": [
    "# Transfer function"
   ]
  },
  {
   "cell_type": "code",
   "execution_count": null,
   "metadata": {
    "collapsed": true,
    "deletable": true,
    "editable": true
   },
   "outputs": [],
   "source": [
    "import csv\n",
    "import scipy.interpolate"
   ]
  },
  {
   "cell_type": "code",
   "execution_count": null,
   "metadata": {
    "collapsed": false,
    "deletable": true,
    "editable": true
   },
   "outputs": [],
   "source": [
    "class transfer_function(object):\n",
    "    def __init__(self, filename): # Converted true if file is converted using the Inritsu software\n",
    "        with open(filename) as csvfile:\n",
    "            self.data = csv.reader(csvfile, delimiter=',')\n",
    "            freq = []\n",
    "            transmission = []\n",
    "            for line_num, line in enumerate(self.data):\n",
    "                if line_num >34: # Discard measurement settings\n",
    "                    freq.append(line[1])\n",
    "                    transmission.append(line[2])\n",
    "            self.freq = np.array(freq, dtype=float)*1e6 # Make unit Hz\n",
    "            self.transmission = np.array(transmission, dtype=float)\n",
    "            self.norm_transmission = self.transmission-self.transmission.mean()\n",
    "            self.lin_transmission = 10**(self.transmission/10.0)\n",
    "            self.norm_lin_transmission = 10**(self.norm_transmission/10.0)\n",
    "            self.lin_correction = 1 / self.norm_lin_transmission\n",
    "            \n",
    "\n",
    "setup = transfer_function('transfer_functions/whole_setup.csv')\n",
    "amplifier = transfer_function('transfer_functions/amplifier.csv')\n",
    "cryo = transfer_function('transfer_functions/cryo.csv')"
   ]
  },
  {
   "cell_type": "code",
   "execution_count": null,
   "metadata": {
    "collapsed": false,
    "deletable": true,
    "editable": true
   },
   "outputs": [],
   "source": [
    "# # Linear plot\n",
    "# plt.figure(figsize=(10, 6))\n",
    "# plt.plot(setup.freq, setup.lin_transmission/setup.lin_transmission.mean(), label='Whole setup')\n",
    "# plt.plot(cryo.freq, cryo.lin_transmission/cryo.lin_transmission.mean(), label='Cryostat and sample')\n",
    "# plt.plot(amplifier.freq, amplifier.lin_transmission/amplifier.lin_transmission.mean(), label='Amplifier')\n",
    "# plt.xlabel('f(Hz)')\n",
    "# plt.ylabel('Transmission (a.u.)')\n",
    "# plt.title('Transmission of different parts op the setup')\n",
    "# plt.legend()\n",
    "# plt.show()\n",
    "\n",
    "# Logarithm plot\n",
    "plt.figure(figsize=(10, 6))\n",
    "plt.plot(setup.freq, setup.norm_transmission, label='Whole setup')\n",
    "plt.plot(cryo.freq, cryo.norm_transmission, label='Cryostat and sample')\n",
    "plt.plot(amplifier.freq, amplifier.norm_transmission, label='Amplifier')\n",
    "plt.xlabel('f(Hz)')\n",
    "plt.ylabel('Transmission (dB)')\n",
    "plt.title('Transmission of different parts op the setup')\n",
    "plt.legend()\n",
    "plt.show()\n",
    "\n",
    "# Check multiplying cryostat/sample and amplifier\n",
    "plt.figure(figsize=(10, 6))\n",
    "plt.plot(setup.transmission, label='Whole setup')\n",
    "plt.plot(amplifier.transmission + cryo.transmission, '--', label='Combination')\n",
    "plt.xlabel('f(Hz)')\n",
    "plt.ylabel('Transmission (dB)')\n",
    "plt.legend()\n",
    "plt.show()\n",
    "\n",
    "# Plot the correction\n",
    "plt.figure(figsize=(10, 6))\n",
    "func_lin_cor = scipy.interpolate.interp1d(setup.freq, setup.lin_correction)\n",
    "func_msmt = scipy.interpolate.interp1d(msmt.freq[0], msmt.mean_fft)\n",
    "f = np.linspace(msmt.frequency - 1e8, msmt.frequency + 1e8, 1000)\n",
    "multiplication = func_lin_cor(f) * func_msmt(f)\n",
    "plt.plot(f, multiplication*2, '--', label='Corrected signal')\n",
    "plt.plot(f, func_msmt(f), label='Measurement')\n",
    "plt.plot(f, func_lin_cor(f)/1e8, label='Correction function')\n",
    "plt.xlabel('f(Hz)')\n",
    "plt.title('Signal corrected with the transfer funciton.')\n",
    "plt.legend()\n",
    "plt.show()"
   ]
  }
 ],
 "metadata": {
  "kernelspec": {
   "display_name": "Python 2",
   "language": "python",
   "name": "python2"
  },
  "language_info": {
   "codemirror_mode": {
    "name": "ipython",
    "version": 2
   },
   "file_extension": ".py",
   "mimetype": "text/x-python",
   "name": "python",
   "nbconvert_exporter": "python",
   "pygments_lexer": "ipython2",
   "version": "2.7.11"
  }
 },
 "nbformat": 4,
 "nbformat_minor": 0
}
