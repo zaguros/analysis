{
 "cells": [
  {
   "cell_type": "code",
   "execution_count": null,
   "metadata": {
    "collapsed": false,
    "scrolled": true
   },
   "outputs": [],
   "source": [
    "execfile(r'D:\\measuring\\analysis\\scripts\\setup_analysis.py')\n",
    "%matplotlib inline\n",
    "import matplotlib as mpl\n",
    "mpl.rc(\"savefig\", dpi=100)\n",
    "import matplotlib.pyplot as plt"
   ]
  },
  {
   "cell_type": "markdown",
   "metadata": {},
   "source": [
    "# Pi pulses"
   ]
  },
  {
   "cell_type": "code",
   "execution_count": null,
   "metadata": {
    "collapsed": false,
    "scrolled": false
   },
   "outputs": [],
   "source": [
    "from analysis.scripts.bell import calibration_tools\n",
    "reload(calibration_tools)\n",
    "from analysis.lib.m2.ssro import ssro, sequence\n",
    "\n",
    "folder=tb.latest_data('Pi_skew')\n",
    "a = sequence.SequenceAnalysis(folder)\n",
    "a.get_sweep_pts()\n",
    "a.get_readout_results(name='ssro');\n",
    "a.get_electron_ROC()\n",
    "grid = a.p0.reshape((a.g.attrs['pts_amp']), (a.g.attrs['pts_skew']))\n",
    "\n",
    "grid = grid.T\n",
    "\n",
    "fig = plt.figure(figsize=(8,6))\n",
    "ax = fig.add_subplot(111)\n",
    "cax =  ax.imshow(grid, interpolation='none', origin='lower', cmap='viridis')\n",
    "fig.colorbar(cax)\n",
    "\n",
    "# fig  = plt.imshow(grid, interpolation='none')\n",
    "ax.set_xticks(np.arange(0, a.g.attrs['pts_amp'], 1))\n",
    "ax.set_yticks(np.arange(0, a.g.attrs['pts_skew'], 1))\n",
    "ax.set_xticklabels(['{:.2f}'.format(x) for x in a.g.attrs['MW_pulse_amplitudes']], rotation='vertical')\n",
    "ax.set_yticklabels(['{:.1e}'.format(x) for x in a.g.attrs['MW_pulse_skewnesses']])\n",
    "# ax.set_ylabel(a.g.attrs['sweep_name'])\n",
    "ax.set_ylabel('Skewness')\n",
    "ax.set_xlabel('Amplitude')\n",
    "ax.set_title(a.timestamp)\n",
    "    \n",
    "a.sweep_pts = np.arange(len(a.ssro_results)) + 1\n",
    "# print len(a.p0),len(a.sweep_pts)\n",
    "a.plot_result_vs_sweepparam()"
   ]
  },
  {
   "cell_type": "code",
   "execution_count": null,
   "metadata": {
    "collapsed": false
   },
   "outputs": [],
   "source": [
    "136.0/(1000)"
   ]
  },
  {
   "cell_type": "code",
   "execution_count": null,
   "metadata": {
    "collapsed": false
   },
   "outputs": [],
   "source": [
    "a.g.attrs['MW_pulse_amplitudes']"
   ]
  }
 ],
 "metadata": {
  "kernelspec": {
   "display_name": "Python 2",
   "language": "python",
   "name": "python2"
  },
  "language_info": {
   "codemirror_mode": {
    "name": "ipython",
    "version": 2
   },
   "file_extension": ".py",
   "mimetype": "text/x-python",
   "name": "python",
   "nbconvert_exporter": "python",
   "pygments_lexer": "ipython2",
   "version": "2.7.3"
  }
 },
 "nbformat": 4,
 "nbformat_minor": 0
}
