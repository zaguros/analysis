{
 "cells": [
  {
   "cell_type": "code",
   "execution_count": null,
   "metadata": {
    "collapsed": true
   },
   "outputs": [],
   "source": [
    "import numpy as np\n",
    "import matplotlib.pyplot as plt\n",
    "import scipy.fftpack\n",
    "import scipy.signal\n",
    "\n",
    "%matplotlib inline"
   ]
  },
  {
   "cell_type": "code",
   "execution_count": null,
   "metadata": {
    "collapsed": false
   },
   "outputs": [],
   "source": [
    "filepath = r'D:\\measuring\\data\\20180202' \n",
    "folder = r'\\103023_PSBcountsMsmt\\103023_PSBcountsMsmt.dat'\n",
    "\n",
    "data = np.genfromtxt(filepath + folder,\n",
    "                     skip_header=9,\n",
    "                     skip_footer=1,\n",
    "                     names=True,\n",
    "                     dtype=None,\n",
    "                    delimiter = '')\n",
    "\n",
    "counts = np.zeros(np.size(data))\n",
    "time = np.zeros(np.size(data))\n",
    "for i in range(0,np.size(data)):\n",
    "    counts[i] = data[i][1]\n",
    "    time[i] = data[i][0]\n"
   ]
  },
  {
   "cell_type": "code",
   "execution_count": null,
   "metadata": {
    "collapsed": false
   },
   "outputs": [],
   "source": [
    "plt.figure()\n",
    "plt.plot(time,counts)\n",
    "plt.xlabel('Time [s]')\n",
    "plt.ylabel('Counts per ms')\n",
    "plt.title(folder)\n",
    "plt.show()"
   ]
  },
  {
   "cell_type": "code",
   "execution_count": null,
   "metadata": {
    "collapsed": false
   },
   "outputs": [],
   "source": [
    "plt.figure()\n",
    "plt.plot(time,counts)\n",
    "plt.xlim(0,0.3)\n",
    "plt.xlabel('Time [s]')\n",
    "plt.ylabel('Counts per ms')\n",
    "plt.title(folder)\n",
    "plt.show()"
   ]
  },
  {
   "cell_type": "code",
   "execution_count": null,
   "metadata": {
    "collapsed": false
   },
   "outputs": [],
   "source": [
    "# binning the data\n",
    "\n",
    "binsize = 4\n",
    "nr_bins = np.round(np.size(counts)/binsize)\n",
    "\n",
    "offset = np.size(counts)-binsize*nr_bins\n",
    "counts_binned = np.sum(np.reshape(counts[offset:],(nr_bins,binsize)),axis=1)\n",
    "time_binned = np.mean(np.reshape(time[offset:],(nr_bins,binsize)),axis=1)\n",
    "\n",
    "\n",
    "plt.plot(time_binned,counts_binned)\n",
    "\n",
    "plt.xlim(0,0.3)\n",
    "plt.show()"
   ]
  },
  {
   "cell_type": "code",
   "execution_count": null,
   "metadata": {
    "collapsed": false
   },
   "outputs": [],
   "source": [
    "# moving average\n",
    "N = 4\n",
    "counts_a = np.convolve(counts, np.ones((N,))/N, mode='valid')\n",
    "time_a = np.convolve(time, np.ones((N,))/N, mode='valid')\n",
    "\n",
    "plt.plot(time,counts,'b', linewidth=0.2)\n",
    "plt.plot(time_a,counts_a,'r')\n",
    "plt.xlim(0,0.5)\n",
    "plt.title('Moving average, binsize = %i \\n %s' %(N,folder))\n",
    "plt.xlabel('Time [s]')\n",
    "plt.ylabel('Counts per ms')\n",
    "plt.show()"
   ]
  },
  {
   "cell_type": "code",
   "execution_count": null,
   "metadata": {
    "collapsed": false
   },
   "outputs": [],
   "source": [
    "T = time[1]-time[0]\n",
    "\n",
    "# Fourier transform\n",
    "counts_f = scipy.fftpack.fft(counts)*1.0/len(counts)\n",
    "counts_f = np.abs(counts_f[:len(counts_f)/2])\n",
    "freq = np.linspace(0, 1.0/(2.0*T), np.size(counts_f))\n",
    "\n",
    "plt.plot(freq,counts_f)\n",
    "plt.title('Fourier transform \\n %s' %folder)\n",
    "plt.ylim(0,6)\n",
    "plt.xlim(0,200)\n",
    "# plt.xlim(60,80)\n",
    "plt.xlabel('Frequency [Hz]')\n",
    "plt.show()\n",
    "\n",
    "print 'Amplitude DC signal:',np.mean(counts), 'Amplitude AC signal:', np.max(counts_f[1:])\n",
    "\n",
    "\n",
    "# Power spectral density function\n",
    "freq_pow, power = scipy.signal.welch(counts, axis = 0, fs = 1.0/T,nperseg = 10000)\n",
    "\n",
    "plt.plot(freq_pow,power)\n",
    "plt.title('Power spectral density \\n %s' %folder)\n",
    "plt.xlim(0,200)\n",
    "plt.xlabel('Frequency [Hz]')\n",
    "plt.show()\n"
   ]
  },
  {
   "cell_type": "code",
   "execution_count": null,
   "metadata": {
    "collapsed": false
   },
   "outputs": [],
   "source": [
    "ind=np.argmax(power)\n",
    "print 'Spectral peak, ', freq_pow[ind]\n",
    "delta = freq_pow[1] - freq_pow[0]\n",
    "background = delta*np.sum(power[(ind-3*int(0.05*ind)):(ind-int(0.05*ind))])\n",
    "backgroundCorrPeak = delta*(np.sum(power[(ind-int(0.05*ind)):(ind+int(0.05*ind))])) - background\n",
    "print 'Background, ', background\n",
    "print 'Integrated noise power peak, ', backgroundCorrPeak\n",
    "\n",
    "fluctuation = np.sqrt(backgroundCorrPeak)/np.mean(counts)\n",
    "print 'Fractional fluctuation (std dev), ', fluctuation"
   ]
  },
  {
   "cell_type": "code",
   "execution_count": null,
   "metadata": {
    "collapsed": true
   },
   "outputs": [],
   "source": []
  }
 ],
 "metadata": {
  "kernelspec": {
   "display_name": "Python 2",
   "language": "python",
   "name": "python2"
  },
  "language_info": {
   "codemirror_mode": {
    "name": "ipython",
    "version": 2
   },
   "file_extension": ".py",
   "mimetype": "text/x-python",
   "name": "python",
   "nbconvert_exporter": "python",
   "pygments_lexer": "ipython2",
   "version": "2.7.3"
  }
 },
 "nbformat": 4,
 "nbformat_minor": 0
}
