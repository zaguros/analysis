{
 "cells": [
  {
   "cell_type": "code",
   "execution_count": null,
   "metadata": {
    "collapsed": false,
    "deletable": true,
    "editable": true,
    "scrolled": true
   },
   "outputs": [],
   "source": [
    "execfile(r'D:\\measuring\\analysis\\scripts\\setup_analysis.py')\n",
    "from analysis.lib.m2.ssro import ssro, sequence\n",
    "import scipy.fftpack\n",
    "import win32com.client #imports the pywin32 library\n",
    "\n",
    "%matplotlib inline"
   ]
  },
  {
   "cell_type": "code",
   "execution_count": null,
   "metadata": {
    "collapsed": true
   },
   "outputs": [],
   "source": [
    "# Which data to analyse\n",
    "data_disk = 'X' # For analysis from a different computer.\n",
    "data_when = 'latest'\n",
    "data_multiple_msmt = False\n",
    "data_newer_than='20180321182000' \n",
    "data_older_than='20180322110000'"
   ]
  },
  {
   "cell_type": "code",
   "execution_count": null,
   "metadata": {
    "collapsed": false,
    "deletable": true,
    "editable": true
   },
   "outputs": [],
   "source": [
    "def fourier(signal, time):\n",
    "    \"\"\"Returns the Fouier transform of a single signal with time, including the negative frequencies.\"\"\"\n",
    "    t_step = (time[-1] - time[0])/time.size\n",
    "    fft = scipy.fftpack.fft(signal) * t_step\n",
    "    freq = scipy.fftpack.fftfreq(time.size, t_step)\n",
    "    return np.abs(np.fft.fftshift(fft)), np.fft.fftshift(freq)\n",
    "\n",
    "def fourier_pos_freq(signal, time):\n",
    "    \"\"\"Returns the Fouier transform of a single signal with time.\"\"\"\n",
    "    fft, freq = fourier(signal,time)\n",
    "    n = len(fft)\n",
    "    fft = fft[0:n//2]\n",
    "    freq = freq[0:n//2]\n",
    "    return fft, freq\n",
    "\n",
    "def folder_paths(disk='D', when='latest', multiple_msmt=False, older_than=None, newer_than=None):\n",
    "    \"\"\"Returns a list with string with the paths to the measurements.\"\"\"\n",
    "    # Find path to folder with data\n",
    "    if disk == 'D':\n",
    "        folder = None #'D:/measuring/data'\n",
    "    else:\n",
    "        folder = '{}:/data'.format(disk)\n",
    "    # How to search the data\n",
    "    if multiple_msmt == False:\n",
    "        if when == 'latest':\n",
    "            folders = tb.latest_data('mw_pulse_msmt', folder=folder)\n",
    "        else:\n",
    "            folders = tb.data_from_time(when, folder=folder_with_data)\n",
    "    else:\n",
    "        folders = tb.latest_data('mw_pulse_msmt', folder='X:/data'\n",
    "                                 ,newer_than=newer_than, older_than=older_than, return_all=True)\n",
    "    if type(folders) == str:\n",
    "        folders = [folders]\n",
    "    return folders\n",
    "\n",
    "# def read_data2():\n",
    "#     \"\"\"\"\"\"\n",
    "#     f = sequence.SequenceAnalysis(fol, hdf5_mode='r')\n",
    "#     waveform = np.array(f.g['oscilloscope_msmt']['data'])\n",
    "#     number_of_pulses = int(f.g.attrs['multiplicity'])\n",
    "#     frequency = f.g.attrs['mw_frq']\n",
    "    \n",
    "#     return time, waveform\n",
    "\n",
    "def read_data(folder):\n",
    "    # Get the latest data from the folder.\n",
    "    global t, amplitude, fft, freq, \\\n",
    "        number_of_measurements, number_of_pulses, points_per_pulse, \\\n",
    "        frequency, timestamp\n",
    "    folders = folder_paths(disk=data_disk, when=data_when, multiple_msmt=data_multiple_msmt, \n",
    "                           older_than=data_older_than, newer_than=data_newer_than)\n",
    "    number_of_measurements = len(folders)\n",
    "    timestamp = []\n",
    "    # Make numpy arrays to store the information in and make them global.\n",
    "    t = np.zeros((number_of_measurements, number_of_pulses, points_per_pulse))\n",
    "    amplitude = np.zeros((number_of_measurements, number_of_pulses, points_per_pulse))\n",
    "    fft = np.zeros((number_of_measurements, number_of_pulses, points_per_pulse//2))\n",
    "    freq = np.zeros((number_of_measurements, number_of_pulses, points_per_pulse//2))\n",
    "    for msmt, fol in enumerate(folders):\n",
    "#         timestamp.append(fol[18:33])\n",
    "        timestamp.append(fol[8:23])\n",
    "        f = sequence.SequenceAnalysis(fol, hdf5_mode='r') \n",
    "        waveform = np.array(f.g['oscilloscope_msmt']['data'])\n",
    "        number_of_pulses = int(f.g.attrs['multiplicity'])\n",
    "        points_per_pulse = int(1e6 // number_of_pulses)\n",
    "        frequency = f.g.attrs['mw_frq']\n",
    "        # Get the information of all the pulses\n",
    "        for pulse in range(number_of_pulses):\n",
    "            t[msmt][pulse] = waveform[0][pulse*points_per_pulse:(pulse+1)*points_per_pulse]\n",
    "            amplitude[msmt][pulse] = waveform[1][pulse*points_per_pulse:(pulse+1)*points_per_pulse]    \n",
    "            fft[msmt][pulse], freq[msmt][pulse] = fourier(amplitude[msmt][pulse], t[msmt][pulse])\n",
    "\n",
    "def hermite_pulse(env_amplitude=1, mu=0, T_herm = 1.667e-8):\n",
    "    t = np.linspace(-25e-8,25e-8,int(1e4)) + mu\n",
    "    env = env_amplitude*(1-0.667*((t-mu)/T_herm)**2)*np.exp(-((t-mu)/T_herm)**2)\n",
    "    pulse = env * np.sin(t*2*np.pi)#*frequency)\n",
    "    fft, freq = fourier(pulse, t)\n",
    "    return pulse, t, fft, freq\n",
    "        \n",
    "def plot_ideal_fft(amplitude=1.25):\n",
    "    pulse, t, fft, freq = hermite_pulse(amplitude)\n",
    "    plt.plot(freq, fft, 'r--', label='Ideal')\n",
    "    \n",
    "def set_limits():\n",
    "    ind = np.argmin(np.abs(freq[0][0] - 1.72e9))\n",
    "    plt.xlim(1.64e9, 1.8e9)\n",
    "    plt.ylim(0, 1.2*fft[0][0, ind])"
   ]
  },
  {
   "cell_type": "code",
   "execution_count": null,
   "metadata": {
    "collapsed": false
   },
   "outputs": [],
   "source": [
    "read_data()\n",
    "msmt = 0\n",
    "plt.figure(figsize=(10,8))\n",
    "for pulse in range(number_of_pulses):\n",
    "    plt.plot(t[msmt][pulse], amplitude[msmt][pulse])\n",
    "# plt.ylim(0,.3e-7)\n",
    "plt.show()"
   ]
  },
  {
   "cell_type": "code",
   "execution_count": null,
   "metadata": {
    "collapsed": false
   },
   "outputs": [],
   "source": [
    "read_data()\n",
    "for pulse in range(number_of_pulses):\n",
    "    fft_neg, freq_neg = fourier_incl_negative(amplitude[0][pulse], t[0][pulse])\n",
    "    plt.plot(freq_neg, fft_neg)\n",
    "plt.title('Fourier transforms of 31 Hermite envelopes, \\ntimestamp : {}'.format(timestamp[msmt]))\n",
    "plt.xlabel('Frequency (Hz)')\n",
    "plt.xlim(-.6e8,.6e8)\n",
    "plt.show()"
   ]
  },
  {
   "cell_type": "markdown",
   "metadata": {},
   "source": [
    "# Noise of oscilloscope"
   ]
  },
  {
   "cell_type": "code",
   "execution_count": null,
   "metadata": {
    "collapsed": false
   },
   "outputs": [],
   "source": [
    "read_data()\n",
    "noise_oscilloscope = np.std(fft)\n",
    "print \"std of fft {:.3e}\".format(noise_oscilloscope)\n",
    "noise_oscilloscope = np.std(amplitude)\n",
    "print \"std of amplitude {:.3e}\".format(noise_oscilloscope)"
   ]
  },
  {
   "cell_type": "markdown",
   "metadata": {
    "deletable": true,
    "editable": true
   },
   "source": [
    "# Analysis of one (first) pulse"
   ]
  },
  {
   "cell_type": "code",
   "execution_count": null,
   "metadata": {
    "collapsed": false,
    "deletable": true,
    "editable": true,
    "scrolled": false
   },
   "outputs": [],
   "source": [
    "read_data()\n",
    "msmt = 0\n",
    "pulse = 0\n",
    "\n",
    "# Plot waveform\n",
    "plt.figure(figsize=(8,8))\n",
    "plt.plot(t[msmt][pulse], amplitude[msmt][pulse])\n",
    "plt.xlabel('s')\n",
    "plt.ylabel('V')\n",
    "plt.title('Single Hermite pulse, timestamp : {}'.format(timestamp[msmt]))\n",
    "deviation_from_middle = 4e-8#9e-8\n",
    "middle = (t[msmt][pulse][-1]-t[msmt][pulse][0])/2 + t[msmt][pulse][0] + deviation_from_middle\n",
    "plt.xlim(middle-1e-7, middle+1e-7)\n",
    "plt.ticklabel_format(style='sci', axis='x', scilimits=(0,0))\n",
    "pulse2, t2, fft2, freq2 = hermite_pulse(2.54e4,mu=2.339e-6)\n",
    "plt.plot(t, pulse2-5e-3)\n",
    "plt.show()\n",
    "\n",
    "# Plot the fourier transform\n",
    "plt.figure(figsize=(8,5))\n",
    "plt.plot(freq[msmt][pulse], fft[msmt][pulse], label='Data')\n",
    "plot_ideal_fft()\n",
    "plt.title('Fourier transform, timestamp : {}'.format(timestamp[msmt]))\n",
    "plt.xlabel('Frequency [Hz]')\n",
    "plt.legend()\n",
    "# set_limits()\n",
    "plt.xlim(0,1e8)\n",
    "plt.show()"
   ]
  },
  {
   "cell_type": "markdown",
   "metadata": {},
   "source": [
    "# Analysis of the pulses in one sweep"
   ]
  },
  {
   "cell_type": "code",
   "execution_count": null,
   "metadata": {
    "collapsed": false,
    "scrolled": false
   },
   "outputs": [],
   "source": [
    "read_data()\n",
    "msmt = 0\n",
    "\n",
    "mean = np.mean(fft[msmt][:], axis=0)\n",
    "std = np.std(fft[msmt], axis=0)\n",
    "plt.figure(figsize=(10,8))\n",
    "plt.plot(freq[msmt][0], mean, 'k', label='Mean')\n",
    "plt.fill_between(freq[msmt][0],  mean - std, mean + std, facecolor='blue', alpha=0.5, label=r'$\\pm$ 1 SD')\n",
    "set_limits()\n",
    "plot_ideal_fft()\n",
    "plt.xlabel('f (Hz)')\n",
    "plt.title('Mean Fourier transform of {} consecutive pulses , timestamp : {}'.format(number_of_pulses, timestamp[msmt]))\n",
    "plt.legend()\n",
    "plt.show()\n",
    "\n",
    "plt.figure(figsize=(10,3))\n",
    "plt.plot(freq[msmt][0],  std, label=\"Noise on RF signal\")\n",
    "# plt.plot([1.66e-9, 1.8e-9], [noise_oscilloscope, noise_oscilloscope], 'k--', label=\"Noise oscilloscope\")\n",
    "plt.xlim(1.64e9, 1.8e9)\n",
    "plt.ylim(0,5e-10)\n",
    "plt.xlabel('f (Hz)')\n",
    "plt.title('Standard deviation of consequtive pulses, timestamp : {}'.format(timestamp[msmt]))\n",
    "plt.show()\n",
    "ind_low = int(np.argmin(np.abs(freq[msmt][0] - 1.705e9)))\n",
    "ind_high = int(np.argmin(np.abs(freq[msmt][0] - 1.735e9)))\n",
    "mean_plateau = np.mean(mean[ind_low:ind_high])\n",
    "print \"The relative mean standard deviation to the peak is {:.3e}.\".format(np.mean(std)/mean_plateau)"
   ]
  },
  {
   "cell_type": "code",
   "execution_count": null,
   "metadata": {
    "collapsed": false,
    "deletable": true,
    "editable": true,
    "scrolled": false
   },
   "outputs": [],
   "source": [
    "# read_data()\n",
    "msmt = 3\n",
    "plt.figure(figsize=(10,8))\n",
    "for pulse in range(1,number_of_pulses):\n",
    "    plt.plot(freq[msmt][pulse], fft[msmt][pulse], label='{}'.format(pulse))\n",
    "set_limits()\n",
    "# plt.ylim(0,.3e-7)\n",
    "\n",
    "plt.xlabel('f (Hz)')\n",
    "plt.title(' Fourier transforms of {} consecutive pulses , timestamp : {}'.format(number_of_pulses, timestamp[msmt]))\n",
    "plt.legend()\n",
    "plt.show()"
   ]
  },
  {
   "cell_type": "code",
   "execution_count": null,
   "metadata": {
    "collapsed": false
   },
   "outputs": [],
   "source": [
    "# read_data()\n",
    "mean = np.zeros((number_of_measurements, points_per_pulse/2))\n",
    "for msmt in range(number_of_measurements):\n",
    "    mean[msmt] = np.mean(fft[msmt], axis=0)\n",
    "\n",
    "plt.figure(figsize=(10,8))\n",
    "plt.plot(freq[0][0], mean[0])#, label='{}'.format(msmt))\n",
    "for msmt in range(number_of_measurements):\n",
    "    plt.plot(freq[0][0], mean[msmt], label='{}'.format(msmt))\n",
    "set_limits()\n",
    "plt.title('Mean Fourier transforms of {} measurements of {} consecutive pulses, \\ntimestamps : {} - {}'\n",
    "          .format(number_of_measurements, number_of_pulses, timestamp[number_of_measurements-1], timestamp[0]))\n",
    "plt.xlabel('f (Hz)')\n",
    "plt.show()"
   ]
  }
 ],
 "metadata": {
  "kernelspec": {
   "display_name": "Python 2",
   "language": "python",
   "name": "python2"
  },
  "language_info": {
   "codemirror_mode": {
    "name": "ipython",
    "version": 2
   },
   "file_extension": ".py",
   "mimetype": "text/x-python",
   "name": "python",
   "nbconvert_exporter": "python",
   "pygments_lexer": "ipython2",
   "version": "2.7.3"
  }
 },
 "nbformat": 4,
 "nbformat_minor": 2
}
