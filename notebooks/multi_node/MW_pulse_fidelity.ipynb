{
 "cells": [
  {
   "cell_type": "code",
   "execution_count": null,
   "metadata": {
    "collapsed": false,
    "deletable": true,
    "editable": true
   },
   "outputs": [],
   "source": [
    "execfile(r'D:\\measuring\\analysis\\scripts\\setup_analysis.py')\n",
    "from analysis.lib.m2.ssro import ssro, sequence\n",
    "import scipy.fftpack\n",
    "import scipy.signal\n",
    "import win32com.client #imports the pywin32 library\n",
    "\n",
    "%matplotlib inline"
   ]
  },
  {
   "cell_type": "code",
   "execution_count": null,
   "metadata": {
    "collapsed": false,
    "deletable": true,
    "editable": true
   },
   "outputs": [],
   "source": [
    "def fourier(signal, time):\n",
    "    \"\"\"Returns the Fouier transform of a single signal with time.\"\"\"\n",
    "    t_step = (time[-1] - time[0])/time.size\n",
    "    fft = scipy.fftpack.fft(signal) * t_step\n",
    "    freq = scipy.fftpack.fftfreq(time.size, t_step)\n",
    "    n = len(fft)\n",
    "    fft = fft[0:n/2]\n",
    "    freq = freq[0:n/2]\n",
    "    return np.abs(fft), freq\n",
    "\n",
    "def read_data():\n",
    "    # Get the latest data from the folder.\n",
    "    fol = tb.latest_data('mw_pulse_msmt', folder='Z:/data')\n",
    "#     fol = tb.data_from_time(\"20180319144419\", folder='Z:/data')\n",
    "    f = sequence.SequenceAnalysis(fol, hdf5_mode='r') \n",
    "    waveform = np.array(f.g['oscilloscope_msmt']['data'])\n",
    "    global number_of_pulses\n",
    "    number_of_pulses = int(np.array(f.g['oscilloscope_msmt']['number_of_pulses']))\n",
    "    points_per_pulse = int(1e6 // number_of_pulses)\n",
    "    # Make numpy arrays to store the information in and make them global.\n",
    "    global t, amplitude, fft, freq\n",
    "    t = np.zeros((number_of_pulses, points_per_pulse))\n",
    "    amplitude = np.zeros((number_of_pulses, points_per_pulse))\n",
    "    fft = np.zeros((number_of_pulses, points_per_pulse//2))\n",
    "    freq = np.zeros((number_of_pulses, points_per_pulse//2))\n",
    "    # Get the information of all the pulses\n",
    "    for i in range(number_of_pulses):\n",
    "        t[i] = waveform[0][i*points_per_pulse:(i+1)*points_per_pulse]\n",
    "        amplitude[i] = waveform[1][i*points_per_pulse:(i+1)*points_per_pulse]    \n",
    "        fft[i], freq[i] = fourier(amplitude[i], t[i])\n",
    "\n",
    "def hermite_pulse(env_amplitude=1, mu=0, T_herm = 1.667e-8, freq_sim = 1.719219e9):\n",
    "    t = np.linspace(-25e-8,25e-8,int(1e4))\n",
    "    env = env_amplitude*(1-0.667*((t-mu)/T_herm)**2)*np.exp(-((t-mu)/T_herm)**2)\n",
    "    pulse = env * np.sin(t*2*np.pi*freq_sim)\n",
    "    fft, freq = fourier(pulse, t)\n",
    "    return pulse, t, fft, freq\n",
    "        \n",
    "def plot_ideal_fft(amplitude=1):\n",
    "    pulse, t, fft, freq = hermite_pulse(amplitude)\n",
    "    plt.plot(freq, fft, 'r--', label='Simulation')\n",
    "    \n",
    "def set_limits():\n",
    "    ind = np.argmin(np.abs(freq[0] - 1.72e9))\n",
    "    plt.xlim(1.66e9, 1.8e9)\n",
    "    plt.ylim(0, 1.1*fft[0, ind])"
   ]
  },
  {
   "cell_type": "markdown",
   "metadata": {},
   "source": [
    "# Noise of oscilloscope"
   ]
  },
  {
   "cell_type": "code",
   "execution_count": null,
   "metadata": {
    "collapsed": true
   },
   "outputs": [],
   "source": [
    "# read_data()\n",
    "# noise_oscilloscope = np.std(amplitude)"
   ]
  },
  {
   "cell_type": "markdown",
   "metadata": {
    "deletable": true,
    "editable": true
   },
   "source": [
    "# Analysis of one (first) pulse"
   ]
  },
  {
   "cell_type": "code",
   "execution_count": null,
   "metadata": {
    "collapsed": false,
    "deletable": true,
    "editable": true,
    "scrolled": false
   },
   "outputs": [],
   "source": [
    "read_data()\n",
    "t = t[0]\n",
    "amplitude = amplitude[0]\n",
    "# Plot waveform\n",
    "plt.plot(t, amplitude)\n",
    "plt.xlabel('s')\n",
    "plt.ylabel('V')\n",
    "plt.title('Single Hermite pulse')\n",
    "middle = (t[-1]-t[0])/2 + t[0]\n",
    "plt.xlim(middle-1e-7, middle+1e-7)\n",
    "plt.ticklabel_format(style='sci', axis='x', scilimits=(0,0))\n",
    "plt.show()\n",
    "\n",
    "# Plot the fourier transform\n",
    "plt.plot(freq[0], fft[0], label='Data')\n",
    "plot_ideal_fft(2.22e-1)\n",
    "plt.title('Fourier transform')\n",
    "plt.xlabel('Frequency [Hz]')\n",
    "plt.legend()\n",
    "set_limits()\n",
    "plt.show()"
   ]
  },
  {
   "cell_type": "markdown",
   "metadata": {},
   "source": [
    "# Analysis of the pulses in one sweep"
   ]
  },
  {
   "cell_type": "code",
   "execution_count": null,
   "metadata": {
    "collapsed": false,
    "deletable": true,
    "editable": true
   },
   "outputs": [],
   "source": [
    "read_data()\n",
    "for i in range(number_of_pulses):\n",
    "    plt.plot(freq[i], fft[i])\n",
    "set_limits()\n",
    "plt.show()"
   ]
  },
  {
   "cell_type": "code",
   "execution_count": null,
   "metadata": {
    "collapsed": false
   },
   "outputs": [],
   "source": [
    "read_data()\n",
    "mean = np.mean(fft, axis=0)\n",
    "std = np.std(fft, axis=0)\n",
    "plt.figure(figsize=(10,8))\n",
    "plt.plot(freq[0], mean, 'k')\n",
    "plt.fill_between(freq[0],  mean - std, mean + std, facecolor='blue', alpha=0.5)\n",
    "set_limits()\n",
    "plt.show()\n",
    "\n",
    "plt.figure(figsize=(10,3))\n",
    "plt.plot(freq[0],  std, label=\"Noise on RF signal\")\n",
    "# plt.plot([1.66e-9, 1.8e-9], [noise_oscilloscope, noise_oscilloscope], 'k--', label=\"Noise oscilloscope\")\n",
    "plt.xlim(1.66e9, 1.8e9)\n",
    "plt.show()\n",
    "ind_low = int(np.argmin(np.abs(freq[0] - 1.705e9)))\n",
    "ind_high = int(np.argmin(np.abs(freq[0] - 1.735e9)))\n",
    "mean_plateau = np.mean(mean[ind_low:ind_high])\n",
    "print \"The relative mean standard deviation to the peak is {:.3e}.\".format(np.mean(std)/mean_plateau)"
   ]
  }
 ],
 "metadata": {
  "kernelspec": {
   "display_name": "Python 2",
   "language": "python",
   "name": "python2"
  },
  "language_info": {
   "codemirror_mode": {
    "name": "ipython",
    "version": 2
   },
   "file_extension": ".py",
   "mimetype": "text/x-python",
   "name": "python",
   "nbconvert_exporter": "python",
   "pygments_lexer": "ipython2",
   "version": "2.7.11"
  }
 },
 "nbformat": 4,
 "nbformat_minor": 2
}
