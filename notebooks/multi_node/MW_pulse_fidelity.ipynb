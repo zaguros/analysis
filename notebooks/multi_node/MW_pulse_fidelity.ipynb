{
 "cells": [
  {
   "cell_type": "code",
   "execution_count": null,
   "metadata": {
    "collapsed": true
   },
   "outputs": [],
   "source": [
    "import numpy as np\n",
    "import matplotlib.pyplot as plt\n",
    "import scipy.fftpack\n",
    "import scipy.signal\n",
    "import win32com.client #imports the pywin32 library\n",
    "\n",
    "# %matplotlib inline"
   ]
  },
  {
   "cell_type": "code",
   "execution_count": null,
   "metadata": {
    "collapsed": true
   },
   "outputs": [],
   "source": [
    "def connect():\n",
    "    global scope\n",
    "    scope = win32com.client.Dispatch(\"LeCroy.ActiveDSOCtrl.1\") #creates instance of the ActiveDSO control\n",
    "    scope.MakeConnection(\"IP:192.168.0.200\") #Connects to the oscilloscope. Substitute your IP address\n",
    "\n",
    "def get_waveform(n=1e6):\n",
    "    waveform = np.array(scope.GetScaledWaveformWithTimes(\"C2\", 1000000, 0))\n",
    "    t = waveform[0]\n",
    "    amplitude = waveform[1]\n",
    "    return t, amplitude\n",
    "\n",
    "def disconnect():\n",
    "    scope.Disconnect(); #Disconnects from the oscilloscope\n",
    "    \n",
    "def fourier():\n",
    "    fft = scipy.fftpack.fft(pulse,axis=0)\n",
    "    freq = scipy.fftpack.fftfreq(t.size, t_step)\n",
    "    N = len(fft)\n",
    "    fft = fft[0:N/2]\n",
    "    freq = freq[0:N/2]"
   ]
  },
  {
   "cell_type": "markdown",
   "metadata": {},
   "source": [
    "# Noise analysis"
   ]
  },
  {
   "cell_type": "code",
   "execution_count": null,
   "metadata": {
    "collapsed": false
   },
   "outputs": [],
   "source": [
    "connect()\n",
    "\n",
    "t, amplitude = get_waveform()\n",
    "\n",
    "std_measurement_noise = np.std(amplitude)\n",
    "\n",
    "print 'Standard deviation of the noise is {:.3e}'.format(std_measurement_noise)\n",
    "\n",
    "disconnect()"
   ]
  },
  {
   "cell_type": "code",
   "execution_count": null,
   "metadata": {
    "collapsed": true
   },
   "outputs": [],
   "source": [
    "connect()\n",
    "\n",
    "#execfile(r'')\n",
    "t, amplitude = get_waveform\n",
    "\n",
    "disconnect()"
   ]
  },
  {
   "cell_type": "code",
   "execution_count": null,
   "metadata": {
    "collapsed": false,
    "scrolled": false
   },
   "outputs": [],
   "source": [
    "connect()\n",
    "\n",
    "t, amplitude = get_waveform()\n",
    "\n",
    "# Plot waveform\n",
    "plt.plot(t, amplitude)\n",
    "plt.xlabel('s')\n",
    "plt.ylabel('V')\n",
    "plt.ticklabel_format(style='sci', axis='x', scilimits=(0,0))\n",
    "plt.figure()\n",
    "plt.show()\n",
    "\n",
    "# Fourier transform\n",
    "t_step = (t[-1]-t[0])/len(t)\n",
    "fft = scipy.fftpack.fft(amplitude) / amplitude.size\n",
    "freq = scipy.fftpack.fftfreq(t.size, t_step)\n",
    "N = len(fft)\n",
    "fft = fft[0:N/2]\n",
    "freq = freq[0:N/2]\n",
    "\n",
    "# Plot the fourier transform\n",
    "plt.plot(freq, np.abs(fft), label='Data')\n",
    "plt.title('Fourier transform')\n",
    "plt.xlabel('Frequency [Hz]')\n",
    "plt.xlim(1.65e9, 1.8e9)\n",
    "plt.ylim(0, .0015)\n",
    "\n",
    "# SIMULATION\n",
    "# calculate Hermite pulse\n",
    "env_amplitude = 2.3e-6\n",
    "mu = 0\n",
    "T_herm = 1.667e-8\n",
    "freq_sim = 1.719219e9\n",
    "env = env_amplitude*(1-0.667*((t-mu)/T_herm)**2)*np.exp(-((t-mu)/T_herm)**2)\n",
    "pulse = env * np.sin(t*2*np.pi*freq_sim)\n",
    "\n",
    "# Plot the Fourier transform\n",
    "fft = scipy.fftpack.fft(pulse,axis=0)\n",
    "freq = scipy.fftpack.fftfreq(t.size, t_step)\n",
    "N = len(fft)\n",
    "fft = fft[0:N/2]\n",
    "freq = freq[0:N/2]\n",
    "plt.plot(freq, np.abs(fft), label='Simulation')\n",
    "plt.legend()\n",
    "plt.show()\n",
    "\n",
    "disconnect()"
   ]
  }
 ],
 "metadata": {
  "kernelspec": {
   "display_name": "Python 2",
   "language": "python",
   "name": "python2"
  }
 },
 "nbformat": 4,
 "nbformat_minor": 2
}
