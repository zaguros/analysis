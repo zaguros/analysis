{
 "metadata": {
  "name": "",
  "signature": ""
 },
 "nbformat": 3,
 "nbformat_minor": 0,
 "worksheets": [
  {
   "cells": [
    {
     "cell_type": "code",
     "collapsed": false,
     "input": [
      "import sys\n",
      "sys.path.append(r'D:/measuring')\n",
      "import numpy as np\n",
      "sys.path.append(r'D:/measuring/analysis')\n"
     ],
     "language": "python",
     "metadata": {},
     "outputs": []
    },
    {
     "cell_type": "heading",
     "level": 1,
     "metadata": {},
     "source": [
      "Single Qubit, sweep N (not used?)"
     ]
    },
    {
     "cell_type": "code",
     "collapsed": false,
     "input": [
      "from analysis.scripts.QEC import SingleQubitTomography as tomo\n",
      "reload(tomo)\n",
      "Result=tomo.OneQubitTomo(timestamp = '20150103_001732',  fixed = [], plot_fit = True, show_guess = False, do_print = True, \n",
      "                             frequency =[1./200,1./200,1./200],  offset =[0.5,0.5,0.5], \n",
      "                             amplitude = [0.5,0.5,0.5],  phase =[0,90,0])"
     ],
     "language": "python",
     "metadata": {},
     "outputs": []
    },
    {
     "cell_type": "code",
     "collapsed": false,
     "input": [
      "from analysis.scripts.QEC import MBI_cosine_sum as csum\n",
      "reload(csum)\n",
      "Result =csum.CosineSum_MBI_data(timestamp=None, measurement_name = ['adwindata'], ssro_calib_timestamp =None,\n",
      "        frequency = [321e3,289e3], offset =0.5, amplitude =[ .5,.5],  phase =[0,0], \n",
      "        fixed = [], \n",
      "        plot_fit = True, do_print = True, show_guess = True)"
     ],
     "language": "python",
     "metadata": {},
     "outputs": []
    },
    {
     "cell_type": "heading",
     "level": 1,
     "metadata": {},
     "source": [
      "Tomographies General"
     ]
    },
    {
     "cell_type": "heading",
     "level": 3,
     "metadata": {},
     "source": [
      " Single measurement"
     ]
    },
    {
     "cell_type": "code",
     "collapsed": false,
     "input": [
      "from analysis.scripts.QEC import Two_Qubit_Tomography as Tomo2; reload(Tomo2)\n",
      "\n",
      "b = Tomo2.BarPlotTomo(None)\n",
      "# b = Tomo2.BarPlotTomo('20150619_110503')\n",
      "# b = Tomo2.BarPlotTomo('20150620_140615')\n",
      "# b = Tomo2.BarPlotTomo('20150619_113009')\n",
      "\n",
      "\n",
      "# b = Tomo2.BarPlotTomo('20150506_042622')\n"
     ],
     "language": "python",
     "metadata": {},
     "outputs": []
    },
    {
     "cell_type": "heading",
     "level": 3,
     "metadata": {},
     "source": [
      "Contrast measurement"
     ]
    },
    {
     "cell_type": "code",
     "collapsed": false,
     "input": [
      "from analysis.scripts.QEC import Two_Qubit_Tomography as Tomo2\n",
      "reload(Tomo2)\n",
      "# Tomo2.BarPlotTomoContrast(tag = '_logicState_00p10_4msmt__ROBasis_IZZ')\n",
      "Tomo2.BarPlotTomoContrast(tag = '_MBE')\n",
      "#Tomo2.BarPlotTomoContrast(tag = '_2_swap')\n",
      "#Tomo2.BarPlotTomoContrast(tag = '_3_swap')\n",
      "#Tomo2.BarPlotTomoContrast(tag = '_5_swap')\n",
      "#Tomo2.BarPlotTomoContrast(tag = '_6_swap')\n",
      "# mpl.rcParams['axes.linewidth']=2\n",
      "# Tomo2.BarPlotTomoContrastFull_mult_msmts(older_than='20150423_010040')"
     ],
     "language": "python",
     "metadata": {},
     "outputs": []
    },
    {
     "cell_type": "code",
     "collapsed": false,
     "input": [
      "from analysis.scripts.QEC import Two_Qubit_Tomography as Tomo2\n",
      "reload(Tomo2)\n",
      "\n",
      "from analysis.scripts.QEC import Two_Qubit_Tomography_Postselection as TomoP\n",
      "from analysis.lib.tools import toolbox\n",
      "reload(TomoP)\n",
      "\n",
      "new_tsmp = '20150715_140547' ## newer than\n",
      "old_tsmp = '20150715_140547' ## older than\n",
      "timestamps=[]\n",
      "search_string = '_'#\n",
      "'_NuclearDD_111_1_sil18_sweep_phase_FET0.305s_auto_C1&2_Tomo'\n",
      "while toolbox.latest_data(contains=search_string,\n",
      "                                        return_timestamp =True,\n",
      "                                        older_than=old_tsmp,\n",
      "                                        newer_than=new_tsmp,\n",
      "                                        raise_exc=False) != False:\n",
      "    old_tsmp, folder = toolbox.latest_data(contains=search_string,\n",
      "                                        return_timestamp =True,\n",
      "                                        older_than=old_tsmp,\n",
      "                                        newer_than=new_tsmp,\n",
      "                                        raise_exc=False)\n",
      "    timestamps.append(old_tsmp)\n",
      "\n",
      "\n",
      "### Note: you can now also enter here only the negative msmt timestamp (as a list)\n",
      "# a = Tomo2.BarPlotTomoContrast(tag = '_1msmts_TESTSTATE_ZZ')\n",
      "a = Tomo2.BarPlotTomoContrast(timestamps=['20150715_141800'])\n",
      "# a = Tomo2.BarPlotTomoContrast(tag = '_2_swap')\n",
      "# a = Tomo2.BarPlotTomoContrast(tag = '_5_swap')\n",
      "#a = Tomo2.BarPlotTomoContrast(tag = ' 3_carbons')\n",
      "# a = Tomo2.BarPlotTomoContrast(timestamps = ['20150518_233622','20150518_233748'])\n",
      "\n",
      "# a = Tomo2.BarPlotTomoContrast(timestamps = ['20150128_102241'])"
     ],
     "language": "python",
     "metadata": {},
     "outputs": []
    },
    {
     "cell_type": "code",
     "collapsed": false,
     "input": [
      "TomoP.BarPlotTomoContrast_QEC(timestamps = ['20150715_141800'],\n",
      "        post_select_QEC = False)"
     ],
     "language": "python",
     "metadata": {},
     "outputs": []
    },
    {
     "cell_type": "code",
     "collapsed": false,
     "input": [
      "from analysis.scripts.QEC import Two_Qubit_Tomography_Postselection as TomoP\n",
      "reload(TomoP)\n",
      "# a = TomoP.BarPlotTomo()\n",
      "a = TomoP.BarPlotTomoContrast()\n"
     ],
     "language": "python",
     "metadata": {},
     "outputs": []
    },
    {
     "cell_type": "heading",
     "level": 2,
     "metadata": {},
     "source": [
      "Three-Qubit tomography"
     ]
    },
    {
     "cell_type": "code",
     "collapsed": false,
     "input": [
      "from analysis.scripts.QEC import Two_Qubit_Tomography as Tomo2\n",
      "reload(Tomo2)\n",
      "a = Tomo2.BarPlotTomoContrastFull(timestamp = '20141230_143410', state  = 'mY')"
     ],
     "language": "python",
     "metadata": {},
     "outputs": []
    },
    {
     "cell_type": "code",
     "collapsed": false,
     "input": [
      "np.power([5,2,3],2)"
     ],
     "language": "python",
     "metadata": {},
     "outputs": []
    },
    {
     "cell_type": "code",
     "collapsed": false,
     "input": [],
     "language": "python",
     "metadata": {},
     "outputs": []
    }
   ],
   "metadata": {}
  }
 ]
}
