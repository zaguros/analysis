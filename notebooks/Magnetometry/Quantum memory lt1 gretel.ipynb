{
 "cells": [
  {
   "cell_type": "code",
   "execution_count": null,
   "metadata": {
    "collapsed": false
   },
   "outputs": [],
   "source": [
    "execfile(r'D:\\measuring\\analysis\\scripts\\setup_analysis.py')\n",
    "from analysis.lib.tools import toolbox"
   ]
  },
  {
   "cell_type": "code",
   "execution_count": null,
   "metadata": {
    "collapsed": false
   },
   "outputs": [],
   "source": []
  },
  {
   "cell_type": "code",
   "execution_count": null,
   "metadata": {
    "collapsed": false
   },
   "outputs": [],
   "source": [
    "# from analysis.lib.nv import detection\n",
    "# nvlevels.get_ES_ExEy(34.7,50.27, transitions=True)\n",
    "# detection.get_Ey_vs_strain_saturation(13,1e6)\n",
    "\n",
    "from analysis.lib.nv import detection\n",
    "print nvlevels.get_ES_ExEy(36.0,49.36, transitions=True)\n",
    "print detection.get_Ey_vs_strain_saturation(13,1e6)"
   ]
  },
  {
   "cell_type": "markdown",
   "metadata": {},
   "source": [
    "#### ####Single Shot Readout#####"
   ]
  },
  {
   "cell_type": "code",
   "execution_count": null,
   "metadata": {
    "collapsed": false
   },
   "outputs": [],
   "source": [
    "ssro.ssrocalib(plot_photon_ms0=False)"
   ]
  },
  {
   "cell_type": "markdown",
   "metadata": {},
   "source": [
    "#### Electron Rabi"
   ]
  },
  {
   "cell_type": "code",
   "execution_count": null,
   "metadata": {
    "collapsed": false
   },
   "outputs": [],
   "source": [
    "execfile(r'D:/measuring/analysis/scripts/espin/electron_rabi_analysis.py')"
   ]
  },
  {
   "cell_type": "markdown",
   "metadata": {},
   "source": [
    "#### Simulate electron rabi"
   ]
  },
  {
   "cell_type": "code",
   "execution_count": null,
   "metadata": {
    "collapsed": false
   },
   "outputs": [],
   "source": [
    "from analysis.scripts.espin import simul_Rabi as srabi\n",
    "reload(srabi)\n",
    "srabi.sweep_pulse_duration(pulse_duration_max=2 * 3498.14e-9,Rabi_freq=142.9e3,5001)"
   ]
  },
  {
   "cell_type": "markdown",
   "metadata": {},
   "source": [
    "#### Dark ESR"
   ]
  },
  {
   "cell_type": "code",
   "execution_count": null,
   "metadata": {
    "collapsed": false
   },
   "outputs": [],
   "source": [
    "execfile(r'D:/measuring/analysis/scripts/espin/dark_esr_analysis.py')\n",
    "# plt.ylim([0, 0.072])"
   ]
  },
  {
   "cell_type": "markdown",
   "metadata": {},
   "source": [
    "#### Calculate B-Field"
   ]
  },
  {
   "cell_type": "code",
   "execution_count": null,
   "metadata": {
    "collapsed": false
   },
   "outputs": [],
   "source": [
    "g_factor = 2.8025e6\n",
    "ZFS=2.877326e9#-23e3 # Note, measured with +- 23 kHz SIL2 Low temp 2015-06-16 110556\n",
    "def get_B_field(msm1_freq=2.8, msp1_freq=2.8):\n",
    "    ''' Returns the (Bz_field, Bx_field) for given given\n",
    "    ms=-1 and ms=0 frequencies (GHz)\n",
    "    '''\n",
    "    msm1_f = msm1_freq\n",
    "    msp1_f = msp1_freq\n",
    "    Bz = (msp1_f**2 - msm1_f**2)/(4.*ZFS*g_factor)\n",
    "    Bx = (abs(msm1_f**2 - (ZFS-g_factor*Bz)**2 )**0.5)/g_factor\n",
    "    return (Bz, Bx)\n",
    "\n",
    "p1= 2.940302#2.925789#2.925903#2.925907#2.925901#2.926012#2.926013#2.926016#2.926108#2.926214#2.926207#2.926253#2.926252#2.926281#2.926301 \n",
    "m1=2.814333#2.828848#2.828732#2.828730#2.828726#2.828621#2.828622#2.828622#2.828520#2.828420#2.828419#2.828381#2.828381#2.828348 \n",
    "Bz,Bx=get_B_field(msm1_freq=m1*1e9, msp1_freq=p1*1e9)\n",
    "\n",
    "print 'Mean = ',m1+(p1-m1)/2. , 'GHz'\n",
    "\n",
    "print 'Bz = ',Bz , 'Gauss'\n",
    "print 'Bx = ', Bx, 'Gauss'"
   ]
  },
  {
   "cell_type": "markdown",
   "metadata": {},
   "source": [
    "#### Plot Bfield measurements"
   ]
  },
  {
   "cell_type": "code",
   "execution_count": null,
   "metadata": {
    "collapsed": false
   },
   "outputs": [],
   "source": [
    "rotations=[0,1,2,1.5,1,1,0,0,-1,-2,-2,-2,-3,-3,-3,-4,-4]\n",
    "Bx=[4.569,3.875,4.0,3.96,3.7,3.9,4.1,3.7,4.1,3.5,3.6,3.7,4,3.58,3.68,2.3,2.7]\n",
    "p1=[2.925789,2.925903,2.925907,2.925901,2.926012,2.926013,2.926016,2.926108,2.926214,2.926207,2.926253,2.926252]\n",
    "m1=[2.828732,2.828730,2.828726,2.828621,2.828622,2.828622,2.828520,2.828420,2.828419,2.828381,2.828381,2.828348]\n",
    "rot=[-4,-3,-3,-3,-2,-2,-2,-1,0,0,1,1]\n",
    "mean=np.zeros(len(p1))\n",
    "for i in np.arange(len(m1)):\n",
    "    #print i\n",
    "    mean[i]=1e-6*(p1[i]+m1[i])/2.\n",
    "fig = plt.figure(1)\n",
    "ax = fig.add_subplot(111)\n",
    "ax.errorbar(rotations,Bx,yerr=[0.2]*len(Bx),xerr=[0.2]*len(Bx),fmt='o',color='Crimson')\n",
    "ax.set_xlabel('Nr of full Rotations top screw')\n",
    "ax.set_ylabel('Bx (Gauss)')\n",
    "fig2 = plt.figure(2)\n",
    "ax2 = fig2.add_subplot(111)\n",
    "ax2.errorbar(rot,mean,yerr=[0]*len(rot),xerr=[0.02]*len(rot),fmt='o',color='Crimson')\n",
    "ax2.set_xlabel('Nr of full Rotations top screw')\n",
    "ax2.set_ylabel('difference')"
   ]
  },
  {
   "cell_type": "markdown",
   "metadata": {},
   "source": [
    "#### electron ramsey"
   ]
  },
  {
   "cell_type": "code",
   "execution_count": null,
   "metadata": {
    "collapsed": false
   },
   "outputs": [],
   "source": [
    "execfile(r'D:/measuring/analysis/scripts/espin/electron_ramsey_analysis.py')"
   ]
  },
  {
   "cell_type": "markdown",
   "metadata": {},
   "source": [
    "#### Calibrate pi pulse"
   ]
  },
  {
   "cell_type": "code",
   "execution_count": null,
   "metadata": {
    "collapsed": false
   },
   "outputs": [],
   "source": [
    "################################\n",
    "###  Pi Pulse Calibration ####\n",
    "################################\n",
    "from analysis.scripts.Quantum_Memory import Pi_Calibration_Analysis as cal\n",
    "from analysis.lib.tools import toolbox\n",
    "reload(cal)\n",
    "\n",
    "# timestamp = None\n",
    "# # timestamp = '20150409112226'\n",
    "# x, y = cal.analyze_data(timestamp, output = True)\n",
    "# plt.ylim([-0.01, 0.15])\n",
    "# # plt.yscale('log')\n",
    "# print 'min amp = ', x[np.argmin(y)]\n",
    "# print 'min fid =', np.amin(y)\n",
    "\n",
    "from analysis.scripts.bell import calibration_tools as ct\n",
    "reload(ct)\n",
    "f = plt.figure(figsize=(12,6))\n",
    "ax = f.add_subplot(1,1,1)\n",
    "# timestamp = '20150520183419'\n",
    "timestamp = None\n",
    "if timestamp != None:\n",
    "    f = toolbox.data_from_time(timestamp)\n",
    "else:\n",
    "    f = toolbox.latest_data()\n",
    "# ct.fit_rabi(f, ax = ax, f_guess = 1./100, A_guess = 0.05, fit_phi)\n",
    "ct.fit_parabolic(f,ax=ax, x0_guess = 0.228,of_guess=0.05, a_guess = 0, do_print = True)\n",
    "# ax.set_ylim([0,.08])\n",
    "ax.axhline(0,linestyle='--',color='Grey')\n",
    "plt.savefig(os.path.join(f, 'pulse_calib.png'))"
   ]
  },
  {
   "cell_type": "markdown",
   "metadata": {},
   "source": [
    "#### Calibrate pi/2 pulse"
   ]
  },
  {
   "cell_type": "code",
   "execution_count": null,
   "metadata": {
    "collapsed": false
   },
   "outputs": [],
   "source": [
    "#######\n",
    "# Calibrate Hermite Pi/2 pulse\n",
    "#######\n",
    "\n",
    "from analysis.scripts.espin import analysis_espin_calibration as aec\n",
    "reload(aec)\n",
    "\n",
    "aec.analyse_pi2_pulse(do_print = True)"
   ]
  },
  {
   "cell_type": "markdown",
   "metadata": {},
   "source": [
    "## Decoupling analysis"
   ]
  },
  {
   "cell_type": "code",
   "execution_count": null,
   "metadata": {
    "collapsed": false
   },
   "outputs": [],
   "source": [
    "from analysis.scripts.mbi import mbi_electron_decoupling_analysis as dec\n",
    "reload(dec)\n",
    "dec.electron_DD_analysis(timestamp='20150804_154457',measurement_name=['measurement0'])"
   ]
  },
  {
   "cell_type": "code",
   "execution_count": null,
   "metadata": {
    "collapsed": false
   },
   "outputs": [],
   "source": [
    "from analysis.lib.tools import toolbox\n",
    "toolbox.data_from_time('20150804_154457')"
   ]
  },
  {
   "cell_type": "code",
   "execution_count": null,
   "metadata": {
    "collapsed": false
   },
   "outputs": [],
   "source": [
    "from analysis.lib.tools import toolbox"
   ]
  },
  {
   "cell_type": "code",
   "execution_count": null,
   "metadata": {
    "collapsed": false
   },
   "outputs": [],
   "source": [
    "########################\n",
    "########## Repump duration####\n",
    "#################"
   ]
  },
  {
   "cell_type": "code",
   "execution_count": null,
   "metadata": {
    "collapsed": false
   },
   "outputs": [],
   "source": [
    "import numpy as np\n",
    "import os\n",
    "from analysis.lib.tools import toolbox\n",
    "from analysis.lib.tools import plot\n",
    "from analysis.lib.fitting import fit, common\n",
    "from analysis.lib.m2.ssro import mbi\n",
    "from matplotlib import pyplot as plt\n",
    "\n",
    "def plot_repump_curve(name,color,label,ax_2=None,plot_single=False,older_than=older):\n",
    "    folder=toolbox.latest_data('ElectronRepump_'+name,older_than=older)\n",
    "    a = mbi.MBIAnalysis(folder)\n",
    "    a.get_sweep_pts()\n",
    "    a.get_readout_results(name='adwindata')\n",
    "    a.get_electron_ROC()\n",
    "    if plot_single:\n",
    "        ax = a.plot_results_vs_sweepparam(ret='ax')\n",
    "\n",
    "    guess_of=1\n",
    "    guess_amp=0.3\n",
    "    guess_tau=0.29\n",
    "    guess_tau2=0.09\n",
    "    guess_xo=0.07\n",
    "    x = a.sweep_pts.reshape(-1)[:]\n",
    "\n",
    "    y = a.p0.reshape(-1)[:]\n",
    "    uy = a.u_p0.reshape(-1)[:]\n",
    "    o = fit.Parameter(guess_of, 'o')\n",
    "    A = fit.Parameter(guess_amp, 'A')\n",
    "\n",
    "    xo = fit.Parameter(guess_xo, 'xo')\n",
    "    tau = fit.Parameter(guess_tau, 'tau')\n",
    "    tau2 = fit.Parameter(guess_tau2, 'tau2')\n",
    "    p0 = [o, A,tau,tau2,xo]\n",
    "    fitfunc_str = ''\n",
    "    fitfunc_str = 'o - A + A*e^(-((x)/tau))'\n",
    "\n",
    "    def fitfunc(x):\n",
    "        return o() - A() * np.exp(-((x-xo())/tau()))-(1-A())*np.exp(-((x-xo())/tau2()))\n",
    "    #1-A*exp(-(x-x0)/tau)-(1-A)*exp(-(x-x0)/tau2)\n",
    "    fit_result = fit.fit1d(x,y, None, p0=p0, fitfunc=fitfunc, fixed=[0],\n",
    "            do_print=True, ret=True)\n",
    "    if plot_single:\n",
    "        plot.plot_fit1d(fit_result, np.linspace(0,x[-1],201), ax=ax,\n",
    "           plot_data=False)\n",
    "    \n",
    "    x_fit=np.linspace(x[0],x[-1],500)\n",
    "    y_fit=fit_result['fitfunc'](x_fit)\n",
    "    ax_2.errorbar(x,y,yerr=uy,fmt='o',color=color,label=label)\n",
    "    ax_2.plot(x_fit,y_fit,color=color)\n",
    "fig = plt.figure(2)\n",
    "fig.clf()\n",
    "ax = plt.subplot(111)\n",
    "older=None #'20150809_125600'\n",
    "name_list=['1400nW','500nW','100nW','90nW','75nW','50nW','40nW','25nW','20nW','15nW','10nW','5nW']\n",
    "color_list=['Crimson','RoyalBlue','DarkGreen','k','DarkOrange','Grey','red']*5\n",
    "label_list=name_list#['1400nW','RoyalBlue','DarkGreen','k','DarkOrange','Grey']\n",
    "plot_measurements=[1,4,5,7,10]#[11]#[3,4,5,6,8,9,10]\n",
    "plot_measurements=np.arange(11)\n",
    "for i in plot_measurements:\n",
    "    plot_repump_curve(name_list[i],color_list[i],label_list[i],ax,plot_single=True,older_than=older)\n",
    "\n",
    "ax.hlines(1,0,1,linestyles='dotted',color='Grey')\n",
    "ax.hlines(0,0,1,linestyles='dotted',color='Grey')\n",
    "#ax.set_yscale('log')\n",
    "ax.set_ylim([-0.05,1.05])\n",
    "#ax.set_xlim([7e-2,0.5])\n",
    "ax.legend(bbox_to_anchor=(1.05, 1), loc=2, borderaxespad=0.)\n",
    "ax.set_ylabel(r'F(|0>)')\n",
    "ax.set_xlabel(r'Repump time ($\\mu s$)')"
   ]
  },
  {
   "cell_type": "code",
   "execution_count": null,
   "metadata": {
    "collapsed": false
   },
   "outputs": [],
   "source": [
    "o=1.\n",
    "A=0.4 \n",
    "tau=.3\n",
    "tau2=.01\n",
    "xo=.07\n",
    "x=np.linspace(.07,1)\n",
    "y= o-A * np.exp(-((x-xo)/tau))-(1-A)*np.exp(-((x-xo)/tau2))\n",
    "\n",
    "fig = plt.figure(3)\n",
    "ax = plt.subplot(111)\n",
    "ax.set_yscale('log')\n",
    "plt.plot(x,1-y)\n"
   ]
  },
  {
   "cell_type": "markdown",
   "metadata": {},
   "source": [
    "#### ######################## ###  Carbon dephasing #### ########################"
   ]
  },
  {
   "cell_type": "code",
   "execution_count": null,
   "metadata": {
    "collapsed": false
   },
   "outputs": [],
   "source": [
    "from analysis.lib.Qmemory import CarbonDephasing_LT1 as cd\n",
    "reload(cd)\n",
    "\n",
    "cd.Sweep_Rep_List(carbons=['1'],fit_result=True,plot_xlog_scale=False,plot_ylog_scale=False)\n",
    "#cd.Sweep_Rep_List(carbons=['1'],fit_result=True,plot_xlog_scale=False,plot_ylog_scale=True)"
   ]
  },
  {
   "cell_type": "code",
   "execution_count": null,
   "metadata": {
    "collapsed": false
   },
   "outputs": [],
   "source": [
    "y=[1196,2104,3529,4701]\n",
    "y_exp=np.exp(-2000./np.array(y))\n",
    "x=[3.18,.4,.2,.1]\n",
    "plt.plot(x,y_exp,'o')"
   ]
  },
  {
   "cell_type": "code",
   "execution_count": null,
   "metadata": {
    "collapsed": false
   },
   "outputs": [],
   "source": [
    "####################\n",
    "#### old measurement list\n",
    "##################\n",
    "\n",
    "color_list=['Crimson','RoyalBlue','DarkGreen','k','DarkOrange','Grey','Grey','DarkOrange','Crimson','RoyalBlue']*3\n",
    "msmnt_names=['_C1pi_larmorP_140nW','_C1pi_200ns_95nW','_C1pi_200ns_140nW','_C1pi_200ns_50nW','_C1pi_200_140nW_nopi2','_C1nopi_200_140nW_nopi2']\n",
    "labels=['Larmor, 140nW','200 ns, 95nW','200 ns, 140nW','200 ns, 50nW','no pi2 200 ns, 140 nW','no pulses, 140nW']\n",
    "\n",
    "msmnt_names=['_C1pi_200_10nW','_C1pi_200_50nW','_C1pi_200_100nW','_C1pi_200_500nW','_C1nopi_200_140nW_nopi2','_C1pi_200_10nW','_C1pi_200_10nW',\n",
    "             '_C1pi_200_100nW','_C1pi_200_50nW','_C1pi_200_10nW','_C1pi_200_100nW','_C1pi_200_100nW']\n",
    "older_than=['20150810_040000','20150810_040000','20150810_040000','20150810_040000','20150810_040000','20150810_210245','20150810_215905',\n",
    "            '20150810_225708','20150810_233447','20150811_090000','20150811_134300','20150811_141600']\n",
    "labels=['10nW','50nW','100nW','500nW','no pulses','10nW','10nW','100nW','50nW','10nW','100nW','100nW','100nW']\n"
   ]
  },
  {
   "cell_type": "code",
   "execution_count": null,
   "metadata": {
    "collapsed": false
   },
   "outputs": [],
   "source": [
    "from analysis.lib.tools import plot\n",
    "from analysis.lib.fitting import fit, common\n",
    "from analysis.lib.Qmemory import CarbonDephasing_LT1 as cd\n",
    "reload(cd)\n",
    "            ## older than   , prefix, postfix##\n",
    "\n",
    "d1_XY = ['20150811_142600','','']\n",
    "dataset_2 = ['20150811_142600','','']\n",
    "\n",
    "fig = plt.figure()\n",
    "ax = plt.subplot()\n",
    "\n",
    "#d1=cd.analyze_and_plot_tomo(older_than='20150811_142600',post_fix_name='')\n",
    "#d2_xy=cd.analyze_and_plot_tomo(older_than='20150811_133317',post_fix_name='',tomo_list=['X','Y'])\n",
    "#d2_Z=cd.analyze_and_plot_tomo(older_than='20150811_143941',post_fix_name='',tomo_list=['Z'])\n",
    "\n",
    "\n",
    "##############################################\n",
    "## dataset with high resolution, X Y Z tomo \n",
    "## untill ~ 800 reps ; only for 100 nW we also have 1000 reps\n",
    "## 2015 - 08 - 11   overnight measurements\n",
    "\n",
    "#100nW\n",
    "older_list=[['20150810_022116'],['20150810_010819'],['20150809_232519']]\n",
    "post_fix_names=['pi_200_100nW','pi_200_500nW','pi_200_10nW']\n",
    "\n",
    "labels=['100nW','500nW','10nW']\n",
    "tomo_list=['X','Y']\n",
    "\n",
    "##############################################\n",
    "## dataset with high resolution, X Y Z tomo \n",
    "## untill ~ 800 reps ; only for 100 nW we also have 1000 reps\n",
    "## 2015 - 08 - 11   overnight measurements\n",
    "#older_list=['20150811_215500','20150811_235451']\n",
    "\n",
    "post_fix_names=['pi_200_100nW','pi_200_50nW','pi_200_10nW']\n",
    "older_list_all=['20150811_230126','20150812_012124','20150812_040224','20150812_072855']\n",
    "older_list=[]\n",
    "for i in np.arange(len(post_fix_names)):\n",
    "    older_list.append(older_list_all)\n",
    "labels=['100nW','50nW','10nW']\n",
    "tomo_list=['X','Y','Z']\n",
    "\n",
    "##############################################\n",
    "## dataset with more reps, X Y  tomo \n",
    "## untill  3000 reps\n",
    "## 2015 - 08 - 12   day measurements\n",
    "## the 500 nW measurement is from earlier\n",
    "post_fix_names=['pi_200_10nW','pi_200_25nW','pi_200_50nW','pi_200_75nW','pi_200_100nW']\n",
    "older_list=[['20150811_230126','20150812_012124','20150812_040224','20150812_072855'],\n",
    "['20150812_171247','20150812_200112'],\n",
    "['20150812_133641','20150812_142740','20150812_154106'],\n",
    "['20150812_174859','20150812_204930'],\n",
    "['20150811_230126','20150812_012124','20150812_040224','20150812_072855']]\n",
    "labels=['10nW','25nW','50nW','75nW','100nW']\n",
    "msmnt_list=[0,1,2,5]\n",
    "tomo_list=['X','Y']\n",
    "\n",
    "older_list.append(['20150813_004633','20150813_012557'])\n",
    "post_fix_names.append('pi_200_15nW')\n",
    "labels.append('15nW')\n",
    "\n",
    "'''\n",
    "##############################################\n",
    "## dataset with more reps, X Y  tomo \n",
    "## untill  3000 reps\n",
    "## 2015 - 08 - 12   overnight measurements\n",
    "## with calib of repump time before\n",
    "post_fix_names=['pi_200_15nW','pi_200_40nW','pi_200_90']\n",
    "older_list=[['20150813_004633','20150813_012557'],\n",
    "            ['20150813_015744','20150813_024903'],\n",
    "            ['20150813_032854','20150813_043419']]\n",
    "labels=['15nW','40nW','90nW']\n",
    "msmnt_list=[0,1,2]\n",
    "tomo_list=['X','Y']\n",
    "'''\n",
    "\n",
    "colors=['RoyalBlue','Crimson','DarkGreen','DarkOrange']\n",
    "\n",
    "\n",
    "do_plot=False\n",
    "fit_xy=False\n",
    "#T=[]\n",
    "#uT=[]\n",
    "for j in msmnt_list:\n",
    "    pf=post_fix_names[j]\n",
    "    ol=older_list[j]\n",
    "    ax,fit_res=cd.plot_and_fit_dephasing_curves(pf,ol,tomo_list,ax=ax,label=labels[j],color=color_list[j],fit_xy=fit_xy,fit_qsum=fit_qsum)\n",
    "    T.append(fit_res['params_dict']['T'])\n",
    "    uT.append(fit_res['error_dict']['T'])\n",
    "\n",
    "ax.legend(bbox_to_anchor=(1.05, 1), loc=2, borderaxespad=0.)\n",
    "#ax.set_ylabel('Sum of positive and negative readout')\n",
    "#ax.set_ylim([0,1.05])\n",
    "ax.set_xlabel('repetitions')\n",
    "ax.set_xscale('log')\n",
    "ax.set_xlim([2e1,4e3])\n",
    "ax.set_ylim([0.05,0.8])\n",
    "ax.set_ylabel('Contrast')\n",
    "#plt.show()\n"
   ]
  },
  {
   "cell_type": "code",
   "execution_count": null,
   "metadata": {
    "collapsed": false
   },
   "outputs": [],
   "source": [
    "# T=[486.88134090290907, 998.28266194984519, 1934.4488293564443, 417.07663140112498, 943.66059301541884, 1451.4908041137683, 1705.2046841191445]\n",
    "# uT = [39.217699591919619, 62.927723344837069, 204.88707092648866, 19.854958669686393, 71.925471942345979, 106.70609053506847, 106.19304153414124]\n",
    "T\n",
    "uT\n",
    "powers=[14,40,90,10,25,50,75]\n",
    "rp_constants=[4.1,2.08, 1.36,6.1,2.66,1.9,1.3]\n",
    "urp_constants=[0.16,0.23,0.052,0.27,0.18,0.07,0.08]\n",
    "print len(T),len(uT),len(powers)\n",
    "#plt.errorbar(powers,T,yerr=uT,fmt='o')\n",
    "#plt.errorbar(powers,rp_constants,yerr=np.zeros(7),fmt='o')\n",
    "plt.errorbar(np.array(powers),1/np.sqrt(np.array(powers)),yerr=np.zeros(7),fmt='o')\n",
    "#plt.plot([1,2,3],[2,4,6])\n",
    "#plt.ylabel('reset decay constant (1/e value)')\n",
    "plt.ylabel('reset time (1/e value)')\n",
    "plt.xlabel('reset power (nW)')\n",
    "print uT\n",
    "#plt.yscale('log')"
   ]
  },
  {
   "cell_type": "code",
   "execution_count": null,
   "metadata": {
    "collapsed": false
   },
   "outputs": [],
   "source": [
    "T"
   ]
  },
  {
   "cell_type": "markdown",
   "metadata": {},
   "source": [
    "## Electron T1 Hermite pulses"
   ]
  },
  {
   "cell_type": "code",
   "execution_count": null,
   "metadata": {
    "collapsed": false
   },
   "outputs": [],
   "source": [
    "from analysis.scripts.Quantum_Memory import ElectronT1Hermite_Analysis as eth\n",
    "from analysis.lib.tools import toolbox\n",
    "reload(eth)\n",
    "from analysis.lib.fitting import common\n",
    "\n",
    "# timestamp = '20150421172435'\n",
    "# timestamp = '20150423181115'\n",
    "# timestamp = '20150507132325'\n",
    "# timestamp = '20150507134546'\n",
    "# timestamp = '20150520184711'\n",
    "# timestamp = '20150526200825'\n",
    "timestamp = None\n",
    "x, y, ax = eth.analyze_data(timestamp, output = True)\n",
    "\n",
    "guess_a = 1./3.\n",
    "guess_A = 2./3\n",
    "guess_tau = 500\n",
    "fixed = []\n",
    "\n",
    "# fig = plt.figure()\n",
    "# ax = plt.subplot(111)\n",
    "\n",
    "f_r=eth.fit_exp(x,y,\n",
    "            guess_a,\n",
    "            guess_A,\n",
    "            guess_tau,\n",
    "            fixed = fixed,\n",
    "            show_fit = True,\n",
    "            save = True,\n",
    "            timestamp = timestamp,\n",
    "            ax = ax,\n",
    "            xlabel = 'Waiting time (ms)',\n",
    "            ylabel = 'F(|0>)')\n"
   ]
  },
  {
   "cell_type": "code",
   "execution_count": null,
   "metadata": {
    "collapsed": false
   },
   "outputs": [],
   "source": [
    "execfile(r'D:/measuring/analysis/scripts/mbi/mbi_electron_ramsey_analysis.py')"
   ]
  },
  {
   "cell_type": "code",
   "execution_count": null,
   "metadata": {
    "collapsed": false
   },
   "outputs": [],
   "source": []
  },
  {
   "cell_type": "code",
   "execution_count": null,
   "metadata": {
    "collapsed": false
   },
   "outputs": [],
   "source": [
    "########################\n",
    "###  MBI DESR       ####\n",
    "#######################\n",
    "\n",
    "execfile(r'D:/measuring/analysis/scripts/mbi/mbi_dark_esr_analysis.py')"
   ]
  },
  {
   "cell_type": "code",
   "execution_count": null,
   "metadata": {
    "collapsed": false
   },
   "outputs": [],
   "source": [
    "execfile(r'D:/measuring/analysis/scripts/Quantum_Memory/combine_fingerprints.py')\n"
   ]
  },
  {
   "cell_type": "code",
   "execution_count": null,
   "metadata": {
    "collapsed": false
   },
   "outputs": [],
   "source": []
  },
  {
   "cell_type": "code",
   "execution_count": null,
   "metadata": {
    "collapsed": false
   },
   "outputs": [],
   "source": [
    "from analysis.lib.m2.ssro import mbi \n",
    "from analysis.lib.m2.ssro import ssro\n",
    "reload(ssro)\n",
    "\n",
    "def get_older_data(folder, name = 'measurement0'):\n",
    "    a = mbi.MBIAnalysis(folder)\n",
    "    a.get_sweep_pts()\n",
    "    a.get_readout_results(name = name)\n",
    "    a.get_electron_ROC()\n",
    "    return a.sweep_pts, a.p0, a.u_p0\n",
    "\n",
    "execfile(r'D:/measuring/analysis/scripts/mbi/mbi_electron_T2_analysis.py')\n",
    "'''\n",
    "#plt.hold(True)\n",
    "\n",
    "# Extract older data\n",
    "# folder = r'D:\\measuring\\data\\20150407\\161835_DecouplingSequence_Fingerprint_msm1_xGretel_32zoom_28us'\n",
    "folder = r'D:\\measuring\\data\\20150407\\173907_DecouplingSequence_Fingerprint_msm1_xGretel_32zoom_31p7us'\n",
    "prev_x, prev_y, prev_yerr = get_older_data(folder, name = 'measurement0')\n",
    "\n",
    "# Plot region of interest\n",
    "print shape(prev_yerr[:,0]), shape(prev_y[:,0])\n",
    "# plt.plot(prev_x, prev_y, 'or')\n",
    "plt.errorbar(prev_x, prev_y[:,0], yerr = prev_yerr[:,0], fmt = 'o', color = 'r')\n",
    "\n",
    "folder = r'D:\\measuring\\data\\20150407\\161835_DecouplingSequence_Fingerprint_msm1_xGretel_32zoom_28us'\n",
    "prev_x, prev_y, prev_yerr = get_older_data(folder, name = 'measurement2')\n",
    "plt.errorbar(prev_x, prev_y[:,0], yerr = prev_yerr[:,0], fmt = 'o', color = 'k')\n",
    "'''\n",
    "#plt.xlim([31.67,31.75])\n",
    "#plt.ylim([.9,1.02])\n",
    "\n"
   ]
  },
  {
   "cell_type": "code",
   "execution_count": null,
   "metadata": {
    "collapsed": false
   },
   "outputs": [],
   "source": [
    "########################\n",
    "###  Linescan ####\n",
    "########################\n",
    "#spctr_data=np.loadtxt(r'D:\\measuring\\data\\20150401\\214508_LaserScansGreenRepump_Gretel_SIL3_LT1_Red_Green\\214508_LaserScansGreenRepump_Gretel_SIL3_LT1_Red_Green.dat')\n",
    "#plt.plot(spctr_data[:,1],spctr_data[:,2])\n",
    "#print shape(spctr_data[:,1])\n",
    "\n",
    "j=0\n",
    "linescan_nr=18\n",
    "counts=[]\n",
    "freq=[]\n",
    "fig = plt.figure(figsize=(15,15))\n",
    "ax = fig.add_subplot(111)   \n",
    "print len(spctr_data[:,3])\n",
    "scan_nr_prev=0\n",
    "for i in np.arange(len(spctr_data[:,3])/8):\n",
    "    scan_nr=spctr_data[i,3]\n",
    "    #print scan_nr\n",
    "    counts.append(spctr_data[i,2])\n",
    "    freq.append(spctr_data[i,1])\n",
    "    j+=1\n",
    "    \n",
    "    if scan_nr!= scan_nr_prev:\n",
    "        print scan_nr\n",
    "        counts=counts+scan_nr*1500\n",
    "        plt.plot(freq,counts, color='Royalblue',linewidth=1)\n",
    "        freq=[]\n",
    "        counts=[]\n",
    "    scan_nr_prev=scan_nr\n",
    "plt.xlabel('Laser detuning (GHz)')\n",
    "plt.ylabel('Intensity (kcnt/s)')\n",
    "#plt.ylim([0,6000])\n",
    "#plt.xlim([27,37])\n",
    "########################\n",
    "###  Single Linescan ####\n",
    "########################\n",
    "\n",
    "j=0\n",
    "linescan_nr=5\n",
    "counts=[]\n",
    "freq=[]\n",
    "fig = plt.figure(figsize=(6,3))\n",
    "ax = fig.add_subplot(111)   \n",
    "print len(spctr_data[:,3])\n",
    "scan_nr_prev=0\n",
    "for i in np.arange(len(spctr_data[:,3])/16):\n",
    "    scan_nr=spctr_data[i,3]\n",
    "    #print scan_nr\n",
    "    counts.append(spctr_data[i,2])\n",
    "    freq.append(spctr_data[i,1])\n",
    "    j+=1\n",
    "    \n",
    "    if scan_nr!= scan_nr_prev:\n",
    "        if scan_nr==linescan_nr:\n",
    "            plt.plot(freq,counts, color='Royalblue',linewidth=1)\n",
    "        freq=[]\n",
    "        counts=[]\n",
    "    scan_nr_prev=scan_nr\n",
    "plt.xlabel('Laser detuning (GHz)')\n",
    "plt.ylabel('Intensity (kcnt/s)')\n",
    "#plt.ylim([0,6000])\n",
    "#plt.xlim([50,56])\n",
    "plt.xlim([27,35])"
   ]
  },
  {
   "cell_type": "code",
   "execution_count": null,
   "metadata": {
    "collapsed": false
   },
   "outputs": [],
   "source": [
    "np.arange(4,513,32)"
   ]
  },
  {
   "cell_type": "code",
   "execution_count": null,
   "metadata": {
    "collapsed": false
   },
   "outputs": [],
   "source": [
    "\n"
   ]
  },
  {
   "cell_type": "code",
   "execution_count": null,
   "metadata": {
    "collapsed": false
   },
   "outputs": [],
   "source": [
    "################################\n",
    "###  Coherent interactions between pi pulses ####\n",
    "### (interpulse delay is varied) ###\n",
    "################################\n",
    "from analysis.scripts.Quantum_Memory import Pi_Calibration_Analysis as cal\n",
    "from analysis.lib.tools import toolbox\n",
    "reload(cal)\n",
    "\n",
    "timestamp = None\n",
    "\n",
    "folder, x, y = cal.analyze_data(timestamp, output = True)\n",
    "\n",
    "# guess_frq = 1./100.\n",
    "# guess_amp = 0.05\n",
    "# guess_of = 0.9\n",
    "# guess_phi = 0.\n",
    "# guess_k = 1./100.\n",
    "# fixed = [2]\n",
    "# show_fit = True\n",
    "# save = True\n",
    "\n",
    "# cal.fit_sine(x, y,\n",
    "#              guess_frq,\n",
    "#              guess_amp,\n",
    "#              guess_phi,\n",
    "#              guess_of,\n",
    "#              guess_k,\n",
    "#              fixed,\n",
    "#              folder,\n",
    "#              show_fit,\n",
    "#              save)\n"
   ]
  },
  {
   "cell_type": "code",
   "execution_count": null,
   "metadata": {
    "collapsed": false
   },
   "outputs": [],
   "source": [
    "################################\n",
    "###  Multiple Pi Pulses Calibration ####\n",
    "################################\n",
    "from analysis.scripts.Quantum_Memory import Pi_Calibration_Analysis as cal\n",
    "from analysis.lib.tools import toolbox\n",
    "reload(cal)\n",
    "\n",
    "\n",
    "from analysis.lib.fitting import common\n",
    "reload(ct)\n",
    "f = plt.figure(figsize=(12,6))\n",
    "ax = f.add_subplot(1,1,1)\n",
    "#timestamp = '20150421110824'\n",
    "timestamp = None\n",
    "if timestamp != None:\n",
    "    f = toolbox.data_from_time(timestamp)\n",
    "else:\n",
    "    f = toolbox.latest_data()\n",
    "from analysis.scripts.bell import calibration_tools as ct\n",
    "reload(ct)\n",
    "a,ax,x,y=ct.plot_result(f,ax)\n",
    "g_a=1\n",
    "g_A=1\n",
    "g_tau=20\n",
    "fit_result = fit.fit1d(x, y, common.fit_exp_decay_with_offset,\n",
    "                       g_a,g_A,g_tau,\n",
    "                do_print=True, ret=True, fixed=[])\n",
    "plot.plot_fit1d(fit_result, np.linspace(x[0],x[-1],201), ax=ax,\n",
    "        plot_data=False)\n",
    "#ax.set_xlim([0,.45])\n",
    "ax.axhline(0,linestyle='--',color='Grey')\n",
    "plt.savefig(os.path.join(f, 'pulse_calib.png'))\n",
    "\n"
   ]
  },
  {
   "cell_type": "code",
   "execution_count": null,
   "metadata": {
    "collapsed": false
   },
   "outputs": [],
   "source": [
    "'''\n",
    "Minimum for multiplicity = 5: fid = 0.139815471966 at ampl = 0.164778\n",
    "Minimum for multiplicity = 1: fid = -0.002, ampl = 0.169222222222\n",
    "Minimum for multiplicity = 1: fid = 0.0121, ampl = 0.1737\n",
    "Minimum for multiplicity = 1: fid = 0.013839602555, ampl = 0.178111111111 \n",
    "Minimum for multiplicity = 1: fid = 0.0102909865153, ampl = 0.173666666667\n",
    "Minimum for multiplicity = 1: fid = 0.00496806245564, ampl = 0.169222222222\n",
    "\n",
    "REPS = 5000\n",
    "Minimum for multiplicity = 1: fid = 0.013839602555, ampl = 0.169222222222\n",
    "Minimum for multiplicity = 1: fid = 0.0152590489709, ampl = 0.164777777778\n",
    "Minimum for multiplicity = 1: fid = 0.0173882185947, ampl = 0.160333333333\n",
    "Minimum for multiplicity = 1: fid = 0.00638750887154, ampl = 0.169222222222\n",
    "Minimum for multiplicity = 1: fid = 0.013484740951, ampl = 0.169222222222\n",
    "'''"
   ]
  },
  {
   "cell_type": "code",
   "execution_count": null,
   "metadata": {
    "collapsed": false
   },
   "outputs": [],
   "source": []
  },
  {
   "cell_type": "code",
   "execution_count": null,
   "metadata": {
    "collapsed": false
   },
   "outputs": [],
   "source": [
    "#####\n",
    "# DD analysis from single file; select 1 measurement out of many\n",
    "####\n",
    "from analysis.scripts.Quantum_Memory import Simple_Decoupling_Analysis as sda\n",
    "reload(sda)\n",
    "\n",
    "name_contains = '16no_pulses'\n",
    "\n",
    "ssro_calib_folder =  r'D:\\measuring\\data\\20150603\\221452_AdwinSSRO_SSROCalibration_Gretel_sil2'\n",
    "timestamp = '20150603234050'\n",
    "input_id = 8\n",
    "\n",
    "\n",
    "x, y, yerr, folder = sda.get_data(name_contains, input_timestamp = timestamp, ssro_calib_folder = ssro_calib_folder, input_id = input_id)\n",
    "\n",
    "print x\n",
    "\n",
    "f = plt.figure(figsize=(25,6))\n",
    "ax = f.add_subplot(1,1,1)\n",
    "\n",
    "plt.errorbar(x,y,yerr = yerr, fmt = '-o',color='RoyalBlue')\n",
    "plt.ylabel(r'Signal corrected for RO',fontsize=25)\n",
    "plt.xlabel('tau (us)',fontsize=25)\n",
    "plt.tick_params(axis='x', labelsize=25)\n",
    "plt.tick_params(axis='y', labelsize=25)\n",
    "plt.title(timestamp)\n",
    "# plt.ylim([0.5,1.05])\n",
    "plt.savefig(os.path.join(folder, 'SimpleDecoupling_msmt%s.png' % input_id))"
   ]
  },
  {
   "cell_type": "code",
   "execution_count": null,
   "metadata": {
    "collapsed": false
   },
   "outputs": [],
   "source": [
    "#####\n",
    "# DD analysis from single file (multiple msmts allowed)\n",
    "####\n",
    "from analysis.scripts.Quantum_Memory import Simple_Decoupling_Analysis as sda\n",
    "reload(sda)\n",
    "\n",
    "name_contains = '16no_pulses'\n",
    "# name_contains = 'Gretel_4'\n",
    "# timestamp = '20150508122826' # unnecessary 32ns zoom on 3rd order\n",
    "# nr_ids = 3 # unnecessary 32ns zoom on 3rd order\n",
    "\n",
    "# ssro_calib_folder = r'D:\\measuring\\data\\20150522\\145059_AdwinSSRO_SSROCalibration_Gretel_sil2'\n",
    "# timestamp = '20150522170235'\n",
    "# nr_ids = 2\n",
    "\n",
    "# ssro_calib_folder = r'D:\\measuring\\data\\20150528\\202456_AdwinSSRO_SSROCalibration_Gretel_sil2'\n",
    "# ssro_calib_folder = r'D:\\measuring\\data\\20150531\\103746_AdwinSSRO_SSROCalibration_Gretel_sil2'\n",
    "ssro_calib_folder = r'D:\\measuring\\data\\20150530\\235230_AdwinSSRO_SSROCalibration_Gretel_sil2'\n",
    "timestamp = '20150602000955'\n",
    "nr_ids = 11\n",
    "\n",
    "# timestamp = '20150507003220' # 4th order N = 32\n",
    "# nr_ids = 7 # 4tth order N = 32\n",
    "# timestamp = '20150507012939' # 5th order, N = 32\n",
    "# nr_ids = 5 # 5th order, N = 32\n",
    "# timestamp = '20150507021242' # 4th order, N = 64\n",
    "# nr_ids = 7 # 4th order, N = 64\n",
    "# timestamp = '20150507033443' # 5th order N = 64\n",
    "# nr_ids = 5 # 5th order N = 64\n",
    "# timestamp = '20150507044539' # 3rd order N = 64\n",
    "# nr_ids = 4 # 3rd order N = 64\n",
    "# timestamp = '20150507053222' # 2|nd order N = 64\n",
    "# nr_ids = 4 # 2nd order N = 64\n",
    "# timestamp = '20150507060625' # 2nd order, N = 128\n",
    "# nr_ids = 4 # 2nd order N = 128\n",
    "# timestamp = '20150507065336' # In between 3rd & 4th order, N = 32\n",
    "# nr_ids = 3 # In between 3rd & 4th order, N = 32\n",
    "# timestamp = '20150507072052' # In between 4th & 5th order, N = 32\n",
    "# nr_ids = 3 # In between 4th & 5th order, N = 32\n",
    "# ssro_calib_folder = ''\n",
    "\n",
    "\n",
    "# timestamp = '20150507110322'\n",
    "# nr_ids = 3\n",
    "# ssro_calib_folder = r'D:\\measuring\\data\\20150507\\103236_AdwinSSRO_SSROCalibration_Gretel_sil3'\n",
    "\n",
    "\n",
    "\n",
    "\n",
    "# timestamp = '20150501022337' # tau = 57-64 us, nr_ids = 11\n",
    "# timestamp = '20150501041716' # tau = 7-13 us, nr_ids = 13\n",
    "# timestamp = '20150501005439' # tau = 23-27 us, nr_ids = 11\n",
    "# nr_ids = 4\n",
    "\n",
    "\n",
    "if timestamp != None:\n",
    "    if nr_ids > 1:\n",
    "        x, y, yerr, folder, all_stitching_points = sda.get_data_multiple_msmts(name_contains, nr_ids, input_timestamp = timestamp, ssro_calib_folder = ssro_calib_folder)\n",
    "    else:\n",
    "        x, y, yerr, folder = sda.get_data(name_contains, input_timestamp = timestamp, ssro_calib_folder = ssro_calib_folder)\n",
    "else:\n",
    "#     x, y, yerr, folder, timestamp = sda.get_data_multiple_msmts(name_contains, nr_ids)\n",
    "    if nr_ids > 1:\n",
    "        x, y, yerr, folder, timestamp = sda.get_data_multiple_msmts(name_contains, nr_ids, input_timestamp = timestamp, ssro_calib_folder = ssro_calib_folder)\n",
    "    else:\n",
    "        x, y, yerr, folder, timestamp = sda.get_data(name_contains, ssro_calib_folder = ssro_calib_folder)\n",
    "    \n",
    "f = plt.figure(figsize=(25,6))\n",
    "ax = f.add_subplot(1,1,1)\n",
    "\n",
    "plt.errorbar(x,y,yerr = yerr, fmt = '-o',color='RoyalBlue')\n",
    "plt.ylabel(r'Signal corrected for RO',fontsize=25)\n",
    "plt.xlabel('tau (us)',fontsize=25)\n",
    "plt.tick_params(axis='x', labelsize=25)\n",
    "plt.tick_params(axis='y', labelsize=25)\n",
    "plt.title(timestamp)\n",
    "# plt.ylim([0.5,1.05])\n",
    "plt.savefig(os.path.join(folder, 'SimpleDecoupling.png'))\n",
    "\n",
    "##Draw stitching points\n",
    "# print all_stitching_points\n",
    "if len(all_stitching_points) != 0:\n",
    "    ymin, ymax = ax.get_ylim()\n",
    "    plt.vlines(all_stitching_points, ymin, 1.1, linestyles = 'dashed' )\n",
    "    for val in all_stitching_points:\n",
    "        plt.text(val, 1.1, str(val)) # Add text to each stitching point line\n",
    "    plt.savefig(os.path.join(folder, 'SimpleDecoupling_stitching_pts.png'))\n",
    "\n",
    "\n",
    "\n",
    "# Fit simple exponential\n",
    "# from analysis.lib.fitting import SE\n",
    "\n",
    "# guess_T2 = 3 # in ms\n",
    "# guess_amp = 0.5\n",
    "# guess_offset = 0.5\n",
    "# guess_k = 2\n",
    "# fixed = []\n",
    "\n",
    "# # Perform fit \n",
    "# p0, fitfunc, fitfunc_str = SE.fit_echo(guess_T2, guess_amp, guess_offset, guess_k)\n",
    "# fit_result = fit.fit1d(free_evol_time,y, None, p0=p0, fitfunc=fitfunc, do_print=True, ret=True, fixed=fixed)\n",
    "\n",
    "# # Plot fit\n",
    "# plot.plot_fit1d(fit_result, np.linspace(0,free_evol_time[-1],201), ax=ax, plot_data=False)\n",
    "\n",
    "all_stitching_points = []\n",
    "\n"
   ]
  },
  {
   "cell_type": "code",
   "execution_count": null,
   "metadata": {
    "collapsed": false
   },
   "outputs": [],
   "source": [
    "ssro_calib_folder = toolbox.latest_data(contains='AdwinSSRO_SSROCalibration')"
   ]
  },
  {
   "cell_type": "code",
   "execution_count": null,
   "metadata": {
    "collapsed": false
   },
   "outputs": [],
   "source": [
    "#####\n",
    "# DD analysis from single file (multiple msmts allowed)\n",
    "####\n",
    "from analysis.scripts.Quantum_Memory import Simple_Decoupling_Analysis as sda\n",
    "reload(sda)\n",
    "\n",
    "name_contains = '200pulses'\n",
    "\n",
    "ssro_calib_folder = toolbox.latest_data(contains='AdwinSSRO_SSROCalibration')\n",
    "timestamp = None#'20150605163851'\n",
    "nr_ids =4\n",
    "\n",
    "# '20150602022709'] = [11, r'D:\\measuring\\data\\20150530\\235230_AdwinSSRO_SSROCalibration_Gretel_sil2']\n",
    "\n",
    "if timestamp != None:\n",
    "    if nr_ids > 1:\n",
    "        x, y, yerr, folder, all_stitching_points = sda.get_data_multiple_msmts(name_contains, nr_ids, input_timestamp = timestamp, ssro_calib_folder = ssro_calib_folder)\n",
    "    else:\n",
    "        x, y, yerr, folder = sda.get_data(name_contains, input_timestamp = timestamp, ssro_calib_folder = ssro_calib_folder)\n",
    "else:\n",
    "#     x, y, yerr, folder, timestamp = sda.get_data_multiple_msmts(name_contains, nr_ids)\n",
    "    if nr_ids > 1:\n",
    "        x, y, yerr, folder, timestamp, all_stitching_points = sda.get_data_multiple_msmts(name_contains, nr_ids, input_timestamp = timestamp, ssro_calib_folder = ssro_calib_folder)\n",
    "    else:\n",
    "        x, y, yerr, folder, timestamp = sda.get_data(name_contains, ssro_calib_folder = ssro_calib_folder)\n",
    "    \n",
    "f = plt.figure(figsize=(25,6))\n",
    "ax = f.add_subplot(1,1,1)\n",
    "\n",
    "plt.errorbar(x,y,yerr = yerr, fmt = '-o',color='RoyalBlue')\n",
    "plt.ylabel(r'Signal corrected for RO',fontsize=25)\n",
    "plt.xlabel('tau (us)',fontsize=25)\n",
    "# plt.xlabel('Free evolution time (us)',fontsize=25)\n",
    "plt.tick_params(axis='x', labelsize=25)\n",
    "plt.tick_params(axis='y', labelsize=25)\n",
    "plt.title(timestamp)\n",
    "plt.savefig(os.path.join(folder, 'SimpleDecoupling.png'))\n",
    "\n",
    "# Add stitching points as vertical lines (if they exist)\n",
    "ymin, ymax = ax.get_ylim()\n",
    "ax.set_ylim([0,1.05])\n",
    "#ax.set_xlim([13,13.5])\n",
    "\n",
    "if len(all_stitching_points) != 0:\n",
    "    plt.vlines(all_stitching_points, ymin, 1, linestyles = 'dashed', label = 'stitching_points')\n",
    "    for val in all_stitching_points:\n",
    "        plt.text(val, 1., str(val))\n",
    "\n",
    "plt.savefig(os.path.join(folder, 'SimpleDecoupling_stitching_pts.png'))\n",
    "\n",
    "all_stitching_points = []"
   ]
  },
  {
   "cell_type": "code",
   "execution_count": null,
   "metadata": {
    "collapsed": false
   },
   "outputs": [],
   "source": [
    "import numpy as np\n",
    "from analysis.lib.tools import toolbox\n",
    "from analysis.lib.m2.ssro import mbi\n",
    "import analysis.lib.qec.nuclear_spin_characterisation as SC #used for simulating FP response of spins\n",
    "import matplotlib.cm as cm\n",
    "from matplotlib import pyplot as plt\n",
    "import analysis.lib.qec.hyperfine_params as hyperfine_params; reload(hyperfine_params) \n",
    "\n",
    "hyperfine_params = {}\n",
    "hyperfine_params['C1']  = {'par' : 0.45e3, 'perp':.25e3}\n",
    "hyperfine_params['C2']  = {'par' : 53e3, 'perp':8.01e3}\n",
    "hyperfine_params['C3']  = {'par' : 12e3, 'perp':2e3}\n",
    "hyperfine_params['C4']  = {'par' : 3.1e3, 'perp':0.6e3}\n",
    "hyperfine_params['C5']  = {'par' : 4.07e3, 'perp':1.04e3}\n",
    "hyperfine_params['C6']  = {'par' : 4.5e3, 'perp':.01e3}\n",
    "hyperfine_params['C7']  = {'par' : 0.05e3, 'perp':1.008e3}\n",
    "hyperfine_params['C8']  = {'par' : 0.25e3, 'perp':1.0e3}\n",
    "hyperfine_params['C9']  = {'par' : 0.32e3, 'perp':1.0e3}\n",
    "\n",
    "hf = hyperfine_params\n",
    "\n",
    "ZFS                 = 2.87180e9\n",
    "g_factor            = 2.8025e6\n",
    "\n",
    "def plot_sim_vs_Bx(spin_list=['C1'],Bx_list = [0],B_Field = 12, N =2):\n",
    "\n",
    "    for ii in range(len(spin_list)):\n",
    "        print spin_list\n",
    "        fig = figure(ii+1,figsize=(25,6))\n",
    "        ax = fig.add_subplot(111)\n",
    "        # ax.title('Vary Bx for Spin '+ spin_list[ii])\n",
    "        start, end = ax.get_xlim()\n",
    "        # ax.xaxis.set_ticks(np.arange(start, end, 0.1))\n",
    "\n",
    "        for b in range(len(Bx_list)):\n",
    "            Bx = Bx_list[b]\n",
    "            #print spin_list[ii]\n",
    "\n",
    "            HF_par=[hf[spin_list[ii]]['par']  - hf[spin_list[ii]]['perp']*Bx/B_Field]#HF_par \t= [10e3]\n",
    "            HF_perp=[hf[spin_list[ii]]['perp'] + hf[spin_list[ii]]['par']*Bx/B_Field]#HF_perp = [100e3]\n",
    "            '''\n",
    "            print Bx/B_Field\n",
    "\n",
    "            print hf[spin_list[ii]]['par']\n",
    "            print hf[spin_list[ii]]['perp']\n",
    "\n",
    "            print HF_par\n",
    "            print HF_perp\n",
    "            '''\n",
    "            print 'ii =' ,ii\n",
    "            \n",
    "            tau_lst = np.linspace(12.5e-6,14.5e-6,2510)\n",
    "            if ii == 0:\n",
    "                Mt = SC.dyn_dec_signal(HF_par,HF_perp,B_Field,N,tau_lst)\n",
    "            else:\n",
    "                Mt=Mt*SC.dyn_dec_signal(HF_par,HF_perp,B_Field,N,tau_lst)\n",
    "            #if ii == 0:\n",
    "            FP_signal = ((Mt+1)/2)\n",
    "            #else:\n",
    "            #    FP_signal = FP_signal*((Mt+1)/2)\n",
    "            ax.plot(tau_lst*1e6, FP_signal[0,:],'.-',lw=.8,label = 'spin_'+spin_list[ii]+'_Bx_'+str(Bx))\n",
    "    ax.set_xlabel('tau (us)')\n",
    "    ax.set_ylim([0.0,1.05])\n",
    "    plt.legend(loc=4)\n",
    "\n",
    "# plot_sim_vs_Bx(spin_list=['C1'],Bx_list = [8.5],B_Field = 22, N =8)\n",
    "# plot_sim_vs_Bx(spin_list=['C1'],Bx_list = [8],B_Field = 22, N =16)\n",
    "plot_sim_vs_Bx(spin_list=['C1'],Bx_list = [2],B_Field = 17.46, N =128)\n",
    "# plot_sim_vs_Bx(spin_list=['C1'],Bx_list = [8],B_Field = 22, N =64)\n",
    "# plot_sim_vs_Bx(spin_list=['C1'],Bx_list = [7],B_Field = 22, N =8)\n",
    "# ['C1','C3','C10']   ,'C2','C3','C4','C5','C6','C7']"
   ]
  },
  {
   "cell_type": "code",
   "execution_count": null,
   "metadata": {
    "collapsed": false
   },
   "outputs": [],
   "source": [
    "########\n",
    "# Plot data from multiple timestamps\n",
    "#######\n",
    "from analysis.scripts.Quantum_Memory import Simple_Decoupling_Analysis as sda\n",
    "reload(sda)\n",
    "import collections\n",
    "from analysis.lib.tools import toolbox\n",
    "\n",
    "### Specify data timestamps, nr_ids (= nr of loops within dynamical_decoupling_script_fp) and ssro calibration folder ####\n",
    "data_stamps = collections.OrderedDict()\n",
    "# ssro_calib_folder = r\"D:\\measuring\\data\\20150507\\175920_AdwinSSRO_SSROCalibration_Gretel_sil3\"\n",
    "# data_stamps['20150507182014'] = [9, ssro_calib_folder]\n",
    "# data_stamps['20150507195604'] = [3, ssro_calib_folder]\n",
    "# data_stamps['20150507203055'] = [9, ssro_calib_folder]\n",
    "# data_stamps['20150507221631'] = [3, ssro_calib_folder]\n",
    "# data_stamps['20150507225945'] = [4, ssro_calib_folder]\n",
    "# ssro_calib_folder = r'D:\\measuring\\data\\20150508\\144847_AdwinSSRO_SSROCalibration_Gretel_sil3'\n",
    "# data_stamps['20150508145048'] = [1, ssro_calib_folder]\n",
    "# data_stamps['20150508150215'] = [1, ssro_calib_folder]\n",
    "# ssro_calib_folder = r'D:\\measuring\\data\\20150522\\145059_AdwinSSRO_SSROCalibration_Gretel_sil2'\n",
    "# timestamp = '20150522170235'\n",
    "\n",
    "##### SIL 2 DATA ###\n",
    "#### HERMITE PULSES ###\n",
    "# N = 32, dt = 256 ns\n",
    "# data_stamps['20150530143028'] = [10, r'D:\\measuring\\data\\20150529\\152001_AdwinSSRO_SSROCalibration_Gretel_sil2']\n",
    "# data_stamps['20150530153758'] = [10, r'D:\\measuring\\data\\20150529\\152001_AdwinSSRO_SSROCalibration_Gretel_sil2']\n",
    "# data_stamps['20150530221300'] = [10, r'D:\\measuring\\data\\20150530\\123542_AdwinSSRO_SSROCalibration_Gretel_sil2']\n",
    "# data_stamps['20150602125923'] = [10, r'D:\\measuring\\data\\20150602\\120142_AdwinSSRO_SSROCalibration_Gretel_sil2']\n",
    "\n",
    "# N = 64\n",
    "#data_stamps['20150530235329'] = [10, r'D:\\measuring\\data\\20150530\\235230_AdwinSSRO_SSROCalibration_Gretel_sil2']\n",
    "#data_stamps['20150531004302'] = [20, r'D:\\measuring\\data\\20150530\\235230_AdwinSSRO_SSROCalibration_Gretel_sil2']\n",
    "\n",
    "# N = 128\n",
    "# data_stamps['20150531044418'] = [2, r'D:\\measuring\\data\\20150530\\235230_AdwinSSRO_SSROCalibration_Gretel_sil2']\n",
    "# data_stamps['20150531060151'] = [11, r'D:\\measuring\\data\\20150530\\235230_AdwinSSRO_SSROCalibration_Gretel_sil2']\n",
    "\n",
    "# N = 64, zoom around second bath collapse\n",
    "#data_stamps['20150604150617'] = [8, r'D:\\measuring\\data\\20150604\\150459_AdwinSSRO_SSROCalibration_Gretel_sil2']\n",
    "\n",
    "# N = 64, 6-30 us, 8 ns \n",
    "# data_stamps['20150604161325'] = [10, r'D:\\measuring\\data\\20150604\\150459_AdwinSSRO_SSROCalibration_Gretel_sil2']\n",
    "# data_stamps['20150604164520'] = [10, r'D:\\measuring\\data\\20150604\\150459_AdwinSSRO_SSROCalibration_Gretel_sil2']\n",
    "# data_stamps['20150604171835'] = [3, r'D:\\measuring\\data\\20150604\\150459_AdwinSSRO_SSROCalibration_Gretel_sil2']\n",
    "# data_stamps['20150604191958'] = [7, r'D:\\measuring\\data\\20150604\\190142_AdwinSSRO_SSROCalibration_Gretel_sil2']\n",
    "# data_stamps['20150604194841'] = [10, r'D:\\measuring\\data\\20150604\\190142_AdwinSSRO_SSROCalibration_Gretel_sil2']\n",
    "# data_stamps['20150604201835'] = [10, r'D:\\measuring\\data\\20150604\\190142_AdwinSSRO_SSROCalibration_Gretel_sil2']\n",
    "# data_stamps['20150604205125'] = [10, r'D:\\measuring\\data\\20150604\\190142_AdwinSSRO_SSROCalibration_Gretel_sil2']\n",
    "# data_stamps['20150604214009'] = [10, r'D:\\measuring\\data\\20150604\\190142_AdwinSSRO_SSROCalibration_Gretel_sil2']\n",
    "# data_stamps['20150604221923'] = [10, r'D:\\measuring\\data\\20150604\\190142_AdwinSSRO_SSROCalibration_Gretel_sil2']\n",
    "# data_stamps['20150604225909'] = [10, r'D:\\measuring\\data\\20150604\\190142_AdwinSSRO_SSROCalibration_Gretel_sil2']\n",
    "# data_stamps['20150605010051'] = [10, r'D:\\measuring\\data\\20150605\\005228_AdwinSSRO_SSROCalibration_Gretel_sil2']\n",
    "# data_stamps['20150605014419'] = [10, r'D:\\measuring\\data\\20150605\\005228_AdwinSSRO_SSROCalibration_Gretel_sil2']\n",
    "# data_stamps['20150605022805'] = [10, r'D:\\measuring\\data\\20150605\\005228_AdwinSSRO_SSROCalibration_Gretel_sil2']\n",
    "# data_stamps['20150605022805'] = [10, r'D:\\measuring\\data\\20150605\\005228_AdwinSSRO_SSROCalibration_Gretel_sil2']\n",
    "# data_stamps['20150605031052'] = [10, r'D:\\measuring\\data\\20150605\\005228_AdwinSSRO_SSROCalibration_Gretel_sil2']\n",
    "# data_stamps['20150605035646'] = [10, r'D:\\measuring\\data\\20150605\\005228_AdwinSSRO_SSROCalibration_Gretel_sil2']\n",
    "# data_stamps['20150605044343'] = [10, r'D:\\measuring\\data\\20150605\\005228_AdwinSSRO_SSROCalibration_Gretel_sil2']\n",
    "\n",
    "# N = 8\n",
    "# data_stamps['20150603000111'] = [10, r'D:\\measuring\\data\\20150602\\234115_AdwinSSRO_SSROCalibration_Gretel_sil2']\n",
    "# data_stamps['20150603002144'] = [10, r'D:\\measuring\\data\\20150602\\234115_AdwinSSRO_SSROCalibration_Gretel_sil2']\n",
    "# data_stamps['20150603004153'] = [10, r'D:\\measuring\\data\\20150602\\234115_AdwinSSRO_SSROCalibration_Gretel_sil2']\n",
    "# data_stamps['20150603010003'] = [10, r'D:\\measuring\\data\\20150602\\234115_AdwinSSRO_SSROCalibration_Gretel_sil2']\n",
    "# data_stamps['20150603011811'] = [10, r'D:\\measuring\\data\\20150602\\234115_AdwinSSRO_SSROCalibration_Gretel_sil2']\n",
    "# data_stamps['20150603013652'] = [10, r'D:\\measuring\\data\\20150602\\234115_AdwinSSRO_SSROCalibration_Gretel_sil2']\n",
    "# data_stamps['20150603015648'] = [10, r'D:\\measuring\\data\\20150602\\234115_AdwinSSRO_SSROCalibration_Gretel_sil2']\n",
    "# data_stamps['20150603021511'] = [10, r'D:\\measuring\\data\\20150602\\234115_AdwinSSRO_SSROCalibration_Gretel_sil2']\n",
    "# data_stamps['20150603023437'] = [10, r'D:\\measuring\\data\\20150602\\234115_AdwinSSRO_SSROCalibration_Gretel_sil2']\n",
    "# data_stamps['20150603025334'] = [10, r'D:\\measuring\\data\\20150602\\234115_AdwinSSRO_SSROCalibration_Gretel_sil2']\n",
    "# data_stamps['20150603031257'] = [10, r'D:\\measuring\\data\\20150602\\234115_AdwinSSRO_SSROCalibration_Gretel_sil2']\n",
    "# data_stamps['20150603033231'] = [10, r'D:\\measuring\\data\\20150602\\234115_AdwinSSRO_SSROCalibration_Gretel_sil2']\n",
    "# data_stamps['20150603035236'] = [10, r'D:\\measuring\\data\\20150602\\234115_AdwinSSRO_SSROCalibration_Gretel_sil2']\n",
    "# data_stamps['20150603041141'] = [10, r'D:\\measuring\\data\\20150602\\234115_AdwinSSRO_SSROCalibration_Gretel_sil2']\n",
    "# data_stamps['20150603043056'] = [10, r'D:\\measuring\\data\\20150602\\234115_AdwinSSRO_SSROCalibration_Gretel_sil2']\n",
    "# data_stamps['20150603044857'] = [10, r'D:\\measuring\\data\\20150602\\234115_AdwinSSRO_SSROCalibration_Gretel_sil2']\n",
    "# data_stamps['20150603051628'] = [10, r'D:\\measuring\\data\\20150602\\234115_AdwinSSRO_SSROCalibration_Gretel_sil2']\n",
    "# data_stamps['20150603053713'] = [10, r'D:\\measuring\\data\\20150602\\234115_AdwinSSRO_SSROCalibration_Gretel_sil2']\n",
    "# data_stamps['20150603055721'] = [10, r'D:\\measuring\\data\\20150602\\234115_AdwinSSRO_SSROCalibration_Gretel_sil2']\n",
    "# data_stamps['20150603061621'] = [10, r'D:\\measuring\\data\\20150602\\234115_AdwinSSRO_SSROCalibration_Gretel_sil2']\n",
    "# data_stamps['20150603063639'] = [10, r'D:\\measuring\\data\\20150602\\234115_AdwinSSRO_SSROCalibration_Gretel_sil2']\n",
    "# data_stamps['20150603065631'] = [10, r'D:\\measuring\\data\\20150602\\234115_AdwinSSRO_SSROCalibration_Gretel_sil2']\n",
    "# data_stamps['20150603071609'] = [10, r'D:\\measuring\\data\\20150602\\234115_AdwinSSRO_SSROCalibration_Gretel_sil2']\n",
    "# data_stamps['20150603073720'] = [10, r'D:\\measuring\\data\\20150602\\234115_AdwinSSRO_SSROCalibration_Gretel_sil2']\n",
    "# data_stamps['20150603075924'] = [10, r'D:\\measuring\\data\\20150602\\234115_AdwinSSRO_SSROCalibration_Gretel_sil2']\n",
    "# data_stamps['20150603081816'] = [10, r'D:\\measuring\\data\\20150602\\234115_AdwinSSRO_SSROCalibration_Gretel_sil2']\n",
    "# data_stamps['20150603083951'] = [10, r'D:\\measuring\\data\\20150602\\234115_AdwinSSRO_SSROCalibration_Gretel_sil2']\n",
    "\n",
    "\n",
    "#### SQUARE PULSES ####\n",
    "# N = 32\n",
    "# data_stamps['20150531122222'] = [5, r'D:\\measuring\\data\\20150531\\103746_AdwinSSRO_SSROCalibration_Gretel_sil2']\n",
    "# data_stamps['20150531124045'] = [5, r'D:\\measuring\\data\\20150531\\103746_AdwinSSRO_SSROCalibration_Gretel_sil2']\n",
    "\n",
    "# N = 64\n",
    "# data_stamps['20150531131049'] = [5, r'D:\\measuring\\data\\20150531\\103746_AdwinSSRO_SSROCalibration_Gretel_sil2']\n",
    "# data_stamps['20150531134309'] = [5, r'D:\\measuring\\data\\20150531\\103746_AdwinSSRO_SSROCalibration_Gretel_sil2']\n",
    "\n",
    "# N = 128\n",
    "# data_stamps['20150531143122'] = [5, r'D:\\measuring\\data\\20150531\\103746_AdwinSSRO_SSROCalibration_Gretel_sil2']\n",
    "# data_stamps['20150531150753'] = [5, r'D:\\measuring\\data\\20150531\\103746_AdwinSSRO_SSROCalibration_Gretel_sil2']\n",
    "\n",
    "# data_stamps['20150601093001'] = [2, r'D:\\measuring\\data\\20150531\\103746_AdwinSSRO_SSROCalibration_Gretel_sil2']\n",
    "# data_stamps['20150601093518'] = [1, r'D:\\measuring\\data\\20150531\\103746_AdwinSSRO_SSROCalibration_Gretel_sil2']\n",
    "\n",
    "### Import data from multiple files ####\n",
    "x, y, yerr, folder, all_stitching_points = sda.get_data_multiple_files(data_stamps)\n",
    "\n",
    "print all_stitching_points\n",
    "\n",
    "### Plot data & format graph #####\n",
    "f = plt.figure(figsize=(25,6))\n",
    "ax = f.add_subplot(1,1,1)\n",
    "\n",
    "plt.errorbar(x,y,yerr = yerr, fmt = '-o',color='RoyalBlue')\n",
    "plt.ylabel(r'Signal corrected for RO',fontsize=25)\n",
    "plt.xlabel('tau (us)',fontsize=25)\n",
    "plt.tick_params(axis='x', labelsize=25)\n",
    "plt.tick_params(axis='y', labelsize=25)\n",
    "\n",
    "###### Store graph in latest folder ####\n",
    "keys = data_stamps.keys()\n",
    "keys.sort()\n",
    "latest_timestamp = keys[-1] # sort & select last element\n",
    "latest_folder = toolbox.data_from_time(latest_timestamp)\n",
    "plt.title(latest_timestamp)\n",
    "\n",
    "plt.savefig(os.path.join(latest_folder, 'Fingerprint_Gretel_SIL2_nostitches.png'))\n",
    "\n",
    "# plt.ylim([0.5,1.05])\n",
    "# plt.xlim([7,63])\n",
    "\n",
    "# Add stitching points as vertical lines (if they exist)\n",
    "ymin, ymax = ax.get_ylim()\n",
    "if len(all_stitching_points) != 0:\n",
    "    plt.vlines(all_stitching_points, ymin, 1.05, linestyles = 'dashed', label = 'stitching_points')\n",
    "    for val in all_stitching_points:\n",
    "        plt.text(val, 1.05, str(val))\n",
    "\n",
    "\n",
    "\n",
    "plt.savefig(os.path.join(latest_folder, 'Fingerprint_Gretel_SIL2.png'))\n",
    "print \"STORED FINGERPRINT GRAPH IN FOLDER\", latest_folder"
   ]
  },
  {
   "cell_type": "code",
   "execution_count": null,
   "metadata": {
    "collapsed": false
   },
   "outputs": [],
   "source": [
    "########\n",
    "# Plot data from multiple timestamps\n",
    "### DATA IN THIS SCRIPT: Gretel SIL2, N = 16\n",
    "#######\n",
    "from analysis.scripts.Quantum_Memory import Simple_Decoupling_Analysis as sda\n",
    "reload(sda)\n",
    "import collections\n",
    "from analysis.lib.tools import toolbox\n",
    "\n",
    "### Specify data timestamps, nr_ids (= nr of loops within dynamical_decoupling_script_fp) and ssro calibration folder ####\n",
    "data_stamps = collections.OrderedDict()\n",
    "\n",
    "##### SIL 2 DATA ###\n",
    "#### HERMITE PULSES ###\n",
    "\n",
    "# N = 16\n",
    "data_stamps['20150603163326'] = [17, r'D:\\measuring\\data\\20150603\\185212_AdwinSSRO_SSROCalibration_Gretel_sil2']\n",
    "data_stamps['20150601214033'] = [5, r'D:\\measuring\\data\\20150601\\213932_AdwinSSRO_SSROCalibration_Gretel_sil2']\n",
    "data_stamps['20150601215113'] = [11,r'D:\\measuring\\data\\20150601\\213932_AdwinSSRO_SSROCalibration_Gretel_sil2']\n",
    "data_stamps['20150601234739'] = [11, r'D:\\measuring\\data\\20150530\\235230_AdwinSSRO_SSROCalibration_Gretel_sil2']\n",
    "data_stamps['20150602000955'] = [11, r'D:\\measuring\\data\\20150530\\235230_AdwinSSRO_SSROCalibration_Gretel_sil2']\n",
    "data_stamps['20150602003258'] = [11, r'D:\\measuring\\data\\20150530\\235230_AdwinSSRO_SSROCalibration_Gretel_sil2']\n",
    "data_stamps['20150602005907'] = [11, r'D:\\measuring\\data\\20150530\\235230_AdwinSSRO_SSROCalibration_Gretel_sil2']\n",
    "data_stamps['20150602012657'] = [11, r'D:\\measuring\\data\\20150530\\235230_AdwinSSRO_SSROCalibration_Gretel_sil2']\n",
    "data_stamps['20150602015619'] = [11, r'D:\\measuring\\data\\20150530\\235230_AdwinSSRO_SSROCalibration_Gretel_sil2']\n",
    "data_stamps['20150602022709'] = [11, r'D:\\measuring\\data\\20150530\\235230_AdwinSSRO_SSROCalibration_Gretel_sil2']\n",
    "data_stamps['20150602025843'] = [11, r'D:\\measuring\\data\\20150530\\235230_AdwinSSRO_SSROCalibration_Gretel_sil2']\n",
    "data_stamps['20150602033132'] = [11, r'D:\\measuring\\data\\20150530\\235230_AdwinSSRO_SSROCalibration_Gretel_sil2']\n",
    "data_stamps['20150602040621'] = [11, r'D:\\measuring\\data\\20150530\\235230_AdwinSSRO_SSROCalibration_Gretel_sil2']\n",
    "data_stamps['20150602045247'] = [11, r'D:\\measuring\\data\\20150530\\235230_AdwinSSRO_SSROCalibration_Gretel_sil2']\n",
    "data_stamps['20150602054339'] = [11, r'D:\\measuring\\data\\20150530\\235230_AdwinSSRO_SSROCalibration_Gretel_sil2']\n",
    "data_stamps['20150602062501'] = [11, r'D:\\measuring\\data\\20150530\\235230_AdwinSSRO_SSROCalibration_Gretel_sil2']\n",
    "data_stamps['20150602072009'] = [11, r'D:\\measuring\\data\\20150530\\235230_AdwinSSRO_SSROCalibration_Gretel_sil2']\n",
    "data_stamps['20150602080426'] = [11, r'D:\\measuring\\data\\20150530\\235230_AdwinSSRO_SSROCalibration_Gretel_sil2']\n",
    "data_stamps['20150603142629'] = [11, r'D:\\measuring\\data\\20150603\\185212_AdwinSSRO_SSROCalibration_Gretel_sil2']\n",
    "data_stamps['20150603150511'] = [11, r'D:\\measuring\\data\\20150603\\185212_AdwinSSRO_SSROCalibration_Gretel_sil2']\n",
    "data_stamps['20150603154809'] = [11, r'D:\\measuring\\data\\20150603\\185212_AdwinSSRO_SSROCalibration_Gretel_sil2']\n",
    "\n",
    "### Import data from multiple files ####\n",
    "x, y, yerr, folder, all_stitching_points = sda.get_data_multiple_files(data_stamps)\n",
    "\n",
    "print all_stitching_points\n",
    "\n",
    "### Plot data & format graph #####\n",
    "f = plt.figure(figsize=(25,6))\n",
    "ax = f.add_subplot(1,1,1)\n",
    "\n",
    "plt.errorbar(x,y,yerr = yerr, fmt = '-o',color='RoyalBlue')\n",
    "plt.ylabel(r'Signal corrected for RO',fontsize=25)\n",
    "plt.xlabel('tau (us)',fontsize=25)\n",
    "plt.tick_params(axis='x', labelsize=25)\n",
    "plt.tick_params(axis='y', labelsize=25)\n",
    "\n",
    "###### Store graph in latest folder ####\n",
    "keys = data_stamps.keys()\n",
    "keys.sort()\n",
    "latest_timestamp = keys[-1] # sort & select last element\n",
    "latest_folder = toolbox.data_from_time(latest_timestamp)\n",
    "plt.title(latest_timestamp)\n",
    "\n",
    "plt.savefig(os.path.join(latest_folder, 'Fingerprint_Gretel_SIL2_nostitches.png'))\n",
    "\n",
    "# plt.ylim([0.5,1.05])\n",
    "# plt.xlim([7,63])\n",
    "\n",
    "# Add stitching points as vertical lines (if they exist)\n",
    "ymin, ymax = ax.get_ylim()\n",
    "if len(all_stitching_points) != 0:\n",
    "    plt.vlines(all_stitching_points, ymin, 1.05, linestyles = 'dashed', label = 'stitching_points')\n",
    "    for val in all_stitching_points:\n",
    "        plt.text(val, 1.05, str(val))\n",
    "\n",
    "\n",
    "\n",
    "plt.savefig(os.path.join(latest_folder, 'Fingerprint_Gretel_SIL2.png'))\n",
    "print \"STORED FINGERPRINT GRAPH IN FOLDER\", latest_folder\n"
   ]
  },
  {
   "cell_type": "code",
   "execution_count": null,
   "metadata": {
    "collapsed": false
   },
   "outputs": [],
   "source": [
    "########\n",
    "### PERIODICITY CHECK: add vertical lines to see if spikes are periodic \n",
    "## Takes data from multiple timestamps\n",
    "###\n",
    "#######\n",
    "from analysis.scripts.Quantum_Memory import Simple_Decoupling_Analysis as sda\n",
    "reload(sda)\n",
    "import collections\n",
    "from analysis.lib.tools import toolbox\n",
    "\n",
    "### Specify data timestamps, nr_ids (= nr of loops within dynamical_decoupling_script_fp) and ssro calibration folder ####\n",
    "data_stamps = collections.OrderedDict()\n",
    "\n",
    "##### SIL 2 DATA ###\n",
    "#### HERMITE PULSES ###\n",
    "\n",
    "# N = 32\n",
    "data_stamps['20150603221710'] = [10, r'D:\\measuring\\data\\20150603\\221452_AdwinSSRO_SSROCalibration_Gretel_sil2']\n",
    "data_stamps['20150603224150'] = [10, r'D:\\measuring\\data\\20150603\\221452_AdwinSSRO_SSROCalibration_Gretel_sil2']\n",
    "data_stamps['20150603231020'] = [10, r'D:\\measuring\\data\\20150603\\221452_AdwinSSRO_SSROCalibration_Gretel_sil2']\n",
    "data_stamps['20150603234050'] = [10, r'D:\\measuring\\data\\20150603\\221452_AdwinSSRO_SSROCalibration_Gretel_sil2']\n",
    "data_stamps['20150603231020'] = [10, r'D:\\measuring\\data\\20150603\\221452_AdwinSSRO_SSROCalibration_Gretel_sil2']\n",
    "data_stamps['20150604001057'] = [10, r'D:\\measuring\\data\\20150603\\221452_AdwinSSRO_SSROCalibration_Gretel_sil2']\n",
    "data_stamps['20150604004108'] = [10, r'D:\\measuring\\data\\20150603\\221452_AdwinSSRO_SSROCalibration_Gretel_sil2']\n",
    "data_stamps['20150604004108'] = [10, r'D:\\measuring\\data\\20150603\\221452_AdwinSSRO_SSROCalibration_Gretel_sil2']\n",
    "data_stamps['20150604085550'] = [5, r'D:\\measuring\\data\\20150604\\075955_AdwinSSRO_SSROCalibration_Gretel_sil2']\n",
    "data_stamps['20150604091240'] = [5, r'D:\\measuring\\data\\20150604\\075955_AdwinSSRO_SSROCalibration_Gretel_sil2']\n",
    "data_stamps['20150604092808'] = [10, r'D:\\measuring\\data\\20150604\\075955_AdwinSSRO_SSROCalibration_Gretel_sil2']\n",
    "data_stamps['20150604095612'] = [4, r'D:\\measuring\\data\\20150604\\075955_AdwinSSRO_SSROCalibration_Gretel_sil2']\n",
    "data_stamps['20150605095521'] = [9, r'D:\\measuring\\data\\20150605\\005228_AdwinSSRO_SSROCalibration_Gretel_sil2']\n",
    "data_stamps['20150605122920'] = [1, r'D:\\measuring\\data\\20150605\\005228_AdwinSSRO_SSROCalibration_Gretel_sil2']\n",
    "data_stamps['20150605123253'] = [10, r'D:\\measuring\\data\\20150605\\005228_AdwinSSRO_SSROCalibration_Gretel_sil2']\n",
    "data_stamps['20150605130758'] = [10, r'D:\\measuring\\data\\20150605\\005228_AdwinSSRO_SSROCalibration_Gretel_sil2']\n",
    "data_stamps['20150605134653'] = [10, r'D:\\measuring\\data\\20150605\\005228_AdwinSSRO_SSROCalibration_Gretel_sil2']\n",
    "data_stamps['20150605142416'] = [10, r'D:\\measuring\\data\\20150605\\005228_AdwinSSRO_SSROCalibration_Gretel_sil2']\n",
    "data_stamps['20150605150342'] = [10, r'D:\\measuring\\data\\20150605\\005228_AdwinSSRO_SSROCalibration_Gretel_sil2']\n",
    "\n",
    "# N = 64, 6-26 us \n",
    "# data_stamps['20150604161325'] = [10, r'D:\\measuring\\data\\20150604\\150459_AdwinSSRO_SSROCalibration_Gretel_sil2']\n",
    "# data_stamps['20150604164520'] = [10, r'D:\\measuring\\data\\20150604\\150459_AdwinSSRO_SSROCalibration_Gretel_sil2']\n",
    "# data_stamps['20150604171835'] = [3, r'D:\\measuring\\data\\20150604\\150459_AdwinSSRO_SSROCalibration_Gretel_sil2']\n",
    "# data_stamps['20150604191958'] = [7, r'D:\\measuring\\data\\20150604\\190142_AdwinSSRO_SSROCalibration_Gretel_sil2']\n",
    "# data_stamps['20150604194841'] = [10, r'D:\\measuring\\data\\20150604\\190142_AdwinSSRO_SSROCalibration_Gretel_sil2']\n",
    "# data_stamps['20150604201835'] = [10, r'D:\\measuring\\data\\20150604\\190142_AdwinSSRO_SSROCalibration_Gretel_sil2']\n",
    "# data_stamps['20150604205125'] = [10, r'D:\\measuring\\data\\20150604\\190142_AdwinSSRO_SSROCalibration_Gretel_sil2']\n",
    "# data_stamps['20150604214009'] = [10, r'D:\\measuring\\data\\20150604\\190142_AdwinSSRO_SSROCalibration_Gretel_sil2']\n",
    "# data_stamps['20150604221923'] = [10, r'D:\\measuring\\data\\20150604\\190142_AdwinSSRO_SSROCalibration_Gretel_sil2']\n",
    "# data_stamps['20150604225909'] = [10, r'D:\\measuring\\data\\20150604\\190142_AdwinSSRO_SSROCalibration_Gretel_sil2']\n",
    "# data_stamps['20150605010051'] = [10, r'D:\\measuring\\data\\20150605\\005228_AdwinSSRO_SSROCalibration_Gretel_sil2']\n",
    "# data_stamps['20150605014419'] = [10, r'D:\\measuring\\data\\20150605\\005228_AdwinSSRO_SSROCalibration_Gretel_sil2']\n",
    "# data_stamps['20150605022805'] = [10, r'D:\\measuring\\data\\20150605\\005228_AdwinSSRO_SSROCalibration_Gretel_sil2']\n",
    "# data_stamps['20150605022805'] = [10, r'D:\\measuring\\data\\20150605\\005228_AdwinSSRO_SSROCalibration_Gretel_sil2']\n",
    "# data_stamps['20150605031052'] = [10, r'D:\\measuring\\data\\20150605\\005228_AdwinSSRO_SSROCalibration_Gretel_sil2']\n",
    "# data_stamps['20150605035646'] = [10, r'D:\\measuring\\data\\20150605\\005228_AdwinSSRO_SSROCalibration_Gretel_sil2']\n",
    "# data_stamps['20150605044343'] = [10, r'D:\\measuring\\data\\20150605\\005228_AdwinSSRO_SSROCalibration_Gretel_sil2']\n",
    "\n",
    "### Import data from multiple files ####\n",
    "x, y, yerr, folder, all_stitching_points = sda.get_data_multiple_files(data_stamps)\n",
    "\n",
    "print x\n",
    "\n",
    "### Plot data & format graph #####\n",
    "f = plt.figure(figsize=(25,6))\n",
    "ax = f.add_subplot(1,1,1)\n",
    "\n",
    "plt.errorbar(x,y,yerr = yerr, fmt = '-o',color='RoyalBlue')\n",
    "plt.ylabel(r'Signal corrected for RO',fontsize=25)\n",
    "plt.xlabel('tau (us)',fontsize=25)\n",
    "plt.tick_params(axis='x', labelsize=25)\n",
    "plt.tick_params(axis='y', labelsize=25)\n",
    "\n",
    "###### Store graph in latest folder ####\n",
    "keys = data_stamps.keys()\n",
    "keys.sort()\n",
    "latest_timestamp = keys[-1] # sort & select last element\n",
    "latest_folder = toolbox.data_from_time(latest_timestamp)\n",
    "plt.title(latest_timestamp)\n",
    "\n",
    "# Add vertical lines to check spike periodicity\n",
    "first_spike= 6.32\n",
    "start_data = np.amin(x)\n",
    "spacing = (7.92-6.32)/11. * 1.575\n",
    "line_list = []\n",
    "start = first_spike\n",
    "for k in range(int(divmod((np.amax(x)-first_spike), spacing)[0])):\n",
    "    if start >= start_data:\n",
    "        line_list.append(np.round(start,3))\n",
    "    start += spacing\n",
    "\n",
    "print line_list    \n",
    "\n",
    "ymin, ymax = ax.get_ylim() \n",
    "plt.vlines(line_list, ymin, 1.05, linestyles = 'dashed', label = 'spike period')\n",
    "# for val in line_list:\n",
    "#     plt.text(val, 1.05, str(np.round(val,3)))\n",
    "\n",
    "plt.savefig(os.path.join(latest_folder, 'Fingerprint_Gretel_SIL2_spikeperiod_start=%s.png' % start_data))\n",
    "print \"STORED FINGERPRINT GRAPH IN FOLDER\", latest_folder\n"
   ]
  },
  {
   "cell_type": "code",
   "execution_count": null,
   "metadata": {
    "collapsed": false
   },
   "outputs": [],
   "source": [
    "#######\n",
    "# Calibrate Hermite Pi/2 pulse\n",
    "#######\n",
    "\n",
    "from analysis.scripts.espin import analysis_espin_calibration as aec\n",
    "reload(aec)\n",
    "\n",
    "aec.analyse_pi2_pulse(do_print = True)"
   ]
  },
  {
   "cell_type": "code",
   "execution_count": null,
   "metadata": {
    "collapsed": false
   },
   "outputs": [],
   "source": [
    "np.arange(24,1224, 100)"
   ]
  },
  {
   "cell_type": "code",
   "execution_count": null,
   "metadata": {
    "collapsed": false
   },
   "outputs": [],
   "source": [
    "reload(sda)\n",
    "\n",
    "spin_dict = {}\n",
    "# spin_dict['C1'] = {'par': 0.65e3, 'perp': 0.0e3}\n",
    "# spin_dict['C2'] = {'par': 0, 'perp': 0.65e3}\n",
    "spin_dict['C3']  = {'par' : 0.3e3, 'perp':0.35e3}\n",
    "# spin_dict['C4']  = {'par' : 3.1e3, 'perp':0.6e3}\n",
    "# spin_dict['C5']  = {'par' : 4.07e3, 'perp':1.04e3}\n",
    "# spin_dict['C6']  = {'par' : 4.5e3, 'perp':.01e3}\n",
    "# spin_dict['C3']  = {'par' : 0.45e3, 'perp':1.008e3}\n",
    "# spin_dict['C4']  = {'par' : 0.21e3, 'perp':1.0e3}\n",
    "# spin_dict['C5']  = {'par' : 0.36e3, 'perp':1.0e3}\n",
    "# spin_dict['C7']  = {'par' : 0.05e3, 'perp':1.008e3}\n",
    "# spin_dict['C8']  = {'par' : 0.25e3, 'perp':1.0e3}\n",
    "# spin_dict['C9']  = {'par' : 0.32e3, 'perp':1.0e3}\n",
    "\n",
    "Bx_list = np.arange(24,1224, 100)\n",
    "Bz = 21.73\n",
    "N = 16\n",
    "\n",
    "sweep_parameter = 'Bx_list' # 'Bx_list' or 'spin_dict'\n",
    "data_stamps = None\n",
    "data_stamps = collections.OrderedDict()\n",
    "# Gretel SIL2, N = 16, 16 ns resolution\n",
    "# data_stamps['20150603163326'] = [17, r'D:\\measuring\\data\\20150603\\185212_AdwinSSRO_SSROCalibration_Gretel_sil2']\n",
    "# data_stamps['20150601214033'] = [5, r'D:\\measuring\\data\\20150601\\213932_AdwinSSRO_SSROCalibration_Gretel_sil2']\n",
    "# data_stamps['20150601215113'] = [11,r'D:\\measuring\\data\\20150601\\213932_AdwinSSRO_SSROCalibration_Gretel_sil2']\n",
    "# data_stamps['20150601234739'] = [11, r'D:\\measuring\\data\\20150530\\235230_AdwinSSRO_SSROCalibration_Gretel_sil2']\n",
    "# data_stamps['20150602000955'] = [11, r'D:\\measuring\\data\\20150530\\235230_AdwinSSRO_SSROCalibration_Gretel_sil2']\n",
    "# data_stamps['20150602003258'] = [11, r'D:\\measuring\\data\\20150530\\235230_AdwinSSRO_SSROCalibration_Gretel_sil2']\n",
    "# data_stamps['20150602005907'] = [11, r'D:\\measuring\\data\\20150530\\235230_AdwinSSRO_SSROCalibration_Gretel_sil2']\n",
    "# data_stamps['20150602012657'] = [11, r'D:\\measuring\\data\\20150530\\235230_AdwinSSRO_SSROCalibration_Gretel_sil2']\n",
    "# data_stamps['20150602015619'] = [11, r'D:\\measuring\\data\\20150530\\235230_AdwinSSRO_SSROCalibration_Gretel_sil2']\n",
    "# data_stamps['20150602022709'] = [11, r'D:\\measuring\\data\\20150530\\235230_AdwinSSRO_SSROCalibration_Gretel_sil2']\n",
    "# data_stamps['20150602025843'] = [11, r'D:\\measuring\\data\\20150530\\235230_AdwinSSRO_SSROCalibration_Gretel_sil2']\n",
    "# data_stamps['20150602033132'] = [11, r'D:\\measuring\\data\\20150530\\235230_AdwinSSRO_SSROCalibration_Gretel_sil2']\n",
    "# data_stamps['20150602040621'] = [11, r'D:\\measuring\\data\\20150530\\235230_AdwinSSRO_SSROCalibration_Gretel_sil2']\n",
    "# data_stamps['20150602045247'] = [11, r'D:\\measuring\\data\\20150530\\235230_AdwinSSRO_SSROCalibration_Gretel_sil2']\n",
    "# data_stamps['20150602054339'] = [11, r'D:\\measuring\\data\\20150530\\235230_AdwinSSRO_SSROCalibration_Gretel_sil2']\n",
    "# data_stamps['20150602062501'] = [11, r'D:\\measuring\\data\\20150530\\235230_AdwinSSRO_SSROCalibration_Gretel_sil2']\n",
    "# data_stamps['20150602072009'] = [11, r'D:\\measuring\\data\\20150530\\235230_AdwinSSRO_SSROCalibration_Gretel_sil2']\n",
    "# data_stamps['20150602080426'] = [11, r'D:\\measuring\\data\\20150530\\235230_AdwinSSRO_SSROCalibration_Gretel_sil2']\n",
    "# data_stamps['20150603142629'] = [11, r'D:\\measuring\\data\\20150603\\185212_AdwinSSRO_SSROCalibration_Gretel_sil2']\n",
    "# data_stamps['20150603150511'] = [11, r'D:\\measuring\\data\\20150603\\185212_AdwinSSRO_SSROCalibration_Gretel_sil2']\n",
    "# data_stamps['20150603154809'] = [11, r'D:\\measuring\\data\\20150603\\185212_AdwinSSRO_SSROCalibration_Gretel_sil2']\n",
    "\n",
    "# Gretel SIL2 N = 16, 4 ns resolution\n",
    "# data_stamps['20150604143200'] = [8, r'D:\\measuring\\data\\20150604\\132857_AdwinSSRO_SSROCalibration_Gretel_sil2']\n",
    "\n",
    "# Gretel SIL2 N = 64, 4 ns resolution\n",
    "data_stamps['20150604150617'] = [8, r'D:\\measuring\\data\\20150604\\150459_AdwinSSRO_SSROCalibration_Gretel_sil2']\n",
    "\n",
    "\n",
    "# sweep_parameter = None\n",
    "# name_contains = '32no_pulses'\n",
    "# timestamp = '20150501022337'\n",
    "# nr_ids = 11\n",
    "\n",
    "# figsize = False\n",
    "# figsize = (45,11)\n",
    "\n",
    "sda.fit_fingerprints(spin_dict, \n",
    "                     Bx_list,\n",
    "                     Bz,\n",
    "                     N, \n",
    "                     sweep_parameter,\n",
    "                     name_contains,\n",
    "                     nr_ids = nr_ids,\n",
    "                     timestamp = timestamp,\n",
    "                     data_stamps = data_stamps,\n",
    "                     ylim = [0,1.1],\n",
    "                     add_stitching_pts = True)"
   ]
  },
  {
   "cell_type": "code",
   "execution_count": null,
   "metadata": {
    "collapsed": false
   },
   "outputs": [],
   "source": [
    "np.arange(15.592-0.006, 15.592+0.005, 0.002)"
   ]
  },
  {
   "cell_type": "code",
   "execution_count": null,
   "metadata": {
    "collapsed": false
   },
   "outputs": [],
   "source": [
    "#### Carbon control sweep N analysis #####\n",
    "from analysis.scripts.QEC import Carbon_control_analysis_sweep_N as ccan\n",
    "reload(ccan)\n",
    "\n",
    "timestamp = '20150715160714'\n",
    "guess_frq = [1./400]\n",
    "guess_amp = [0.5]\n",
    "guess_decay = [1000]\n",
    "guess_phase = [180]\n",
    "guess_offset = 0.5\n",
    "show_guess = False\n",
    "plot_fit = True\n",
    "fixed = [3] # freq, offset, amp, phase, decay\n",
    "\n",
    "fit_results = ccan.Carbon_control_sweep_N(timestamp,\n",
    "                                        frequency = guess_frq,\n",
    "                                        amplitude = guess_amp,\n",
    "                                        decay_constant = guess_decay,\n",
    "                                        phase = guess_phase,\n",
    "                                        offset = guess_offset,\n",
    "                                        plot_fit = plot_fit,\n",
    "                                        show_guess = show_guess,\n",
    "                                        do_print = True,\n",
    "                                        fixed = fixed)\n"
   ]
  },
  {
   "cell_type": "code",
   "execution_count": null,
   "metadata": {
    "collapsed": false
   },
   "outputs": [],
   "source": [
    "########\n",
    "### Fit electron Ramsey data (excite all 3 nitrogen lines)\n",
    "########\n",
    "from analysis.scripts.espin import electron_ramsey_analysis as era; reload(era)\n",
    "\n",
    "\n",
    "timestamp = '20150530125401'\n",
    "ssro_calib_folder = r'D:\\measuring\\data\\20150530\\123542_AdwinSSRO_SSROCalibration_Gretel_sil2'\n",
    "\n",
    "guess_avg = 0.5\n",
    "guess_A = 1./6.\n",
    "guess_t = 5e4\n",
    "guess_a = 2\n",
    "guess_f = 1./450.\n",
    "guess_phi = 0\n",
    "guess_b = 1\n",
    "fixed = [] # [avg, A, t, a, f, phi, b]\n",
    "\n",
    "fit_result = True\n",
    "\n",
    "era.fit_Ramsey_gausscos_withoffset(timestamp,\n",
    "                                   ssro_calib_folder,\n",
    "                                   guess_avg,\n",
    "                                   guess_A,\n",
    "                                   guess_t,\n",
    "                                   guess_a,\n",
    "                                   guess_f,\n",
    "                                   guess_phi,\n",
    "                                   guess_b,\n",
    "                                   fixed,\n",
    "                                   fit_result\n",
    "                                   )"
   ]
  },
  {
   "cell_type": "code",
   "execution_count": null,
   "metadata": {
    "collapsed": false
   },
   "outputs": [],
   "source": [
    "np.linspace(2.64 + 32 * 0.024 * 30,2.64 + 33 * 0.024 * 30,31)"
   ]
  },
  {
   "cell_type": "code",
   "execution_count": null,
   "metadata": {
    "collapsed": false
   },
   "outputs": [],
   "source": [
    "################################\n",
    "###  DD sweep N: find optimal tau ####\n",
    "################################\n",
    "\n",
    "from analysis.scripts.QEC import Carbon_control_analysis_sweep_N as ccan\n",
    "reload(ccan)\n",
    "\n",
    "# tau_array = np.concatenate( (np.arange(26.152, 26.248, 0.008),np.array([26.228, 26.236, 26.244])) ) \n",
    "tau_array = np.arange(11.975, 11.978, 0.001)\n",
    "tau_array = np.sort(tau_array)\n",
    "guess_frq = [1./150]\n",
    "guess_amp = [0.5]\n",
    "guess_decay = [1000]\n",
    "guess_phase = [0]\n",
    "guess_offset = 0.5\n",
    "show_guess = False\n",
    "plot_fit = True\n",
    "plot_data = True\n",
    "do_print = True\n",
    "fixed = [3] # freq, offset, amp, phase, decay\n",
    "\n",
    "fit_results, fitted_values, fitted_errors = ccan.Carbon_control_sweep_N_zoomtau(tau_array,\n",
    "                                        frequency = guess_frq,\n",
    "                                        amplitude = guess_amp,\n",
    "                                        decay_constant = guess_decay,\n",
    "                                        phase = guess_phase,\n",
    "                                        offset = guess_offset,\n",
    "                                        plot_fit = plot_fit,\n",
    "                                        plot_data = plot_data,\n",
    "                                        show_guess = show_guess,\n",
    "                                        do_print = do_print,\n",
    "                                        fixed = fixed)"
   ]
  },
  {
   "cell_type": "code",
   "execution_count": null,
   "metadata": {
    "collapsed": false
   },
   "outputs": [],
   "source": [
    "np.arange(26.152,26.232, 0.008)"
   ]
  },
  {
   "cell_type": "code",
   "execution_count": null,
   "metadata": {
    "collapsed": false
   },
   "outputs": [],
   "source": [
    "from analysis.scripts.QEC import carbon_ramsey_analysis as cra\n",
    "\n",
    "cra.Carbon_Ramsey(timestamp = '20150605115017', frequency = 1./35, plot_fit = False)\n",
    "\n"
   ]
  },
  {
   "cell_type": "code",
   "execution_count": null,
   "metadata": {
    "collapsed": false
   },
   "outputs": [],
   "source": [
    "#######################\n",
    "### Fit sum of 2 cosines to Carbon_Ramsey_noDD data ###\n",
    "#######################\n",
    "\n",
    "from analysis.scripts.QEC import carbon_ramsey_analysis as cra\n",
    "reload(cra)\n",
    "import collections\n",
    "\n",
    "# ssro_calib_folder = r'D:\\measuring\\data\\20150601\\161727_AdwinSSRO_SSROCalibration_Gretel_sil2'\n",
    "# ssro_calib_folder = r'D:\\measuring\\data\\20150602\\150319_AdwinSSRO_SSROCalibration_Gretel_sil2'\n",
    "ssro_calib_folder = r'D:\\measuring\\data\\20150604\\190142_AdwinSSRO_SSROCalibration_Gretel_sil2'\n",
    "data_stamps = collections.OrderedDict()\n",
    "\n",
    "start_time = 4\n",
    "end_time = 50\n",
    "for k in range(1):\n",
    "    t_range = '[%s-%s]' % (start_time, end_time)\n",
    "    data_stamps[t_range] = ssro_calib_folder\n",
    "    start_time += 50\n",
    "    end_time += 50\n",
    "start_time = 54\n",
    "end_time = 100\n",
    "\n",
    "# for k in range(4):\n",
    "#     t_range = '[%s-%s]' % (start_time, end_time)\n",
    "#     data_stamps[t_range] = ssro_calib_folder\n",
    "#     start_time += 50\n",
    "#     end_time += 50\n",
    "\n",
    "# start_time = 254\n",
    "# end_time = 350\n",
    "# for k in range(26):\n",
    "#     t_range = '[%s-%s]' % (start_time, end_time)\n",
    "#     data_stamps[t_range] = ssro_calib_folder\n",
    "#     start_time += 100\n",
    "#     end_time += 100\n",
    "\n",
    "\n",
    "\n",
    "# start_time = 681\n",
    "# end_time = 781\n",
    "# for k in range(1):\n",
    "#     t_range = '[%s-%s]' % (start_time, end_time)\n",
    "#     data_stamps[t_range] = ssro_calib_folder\n",
    "#     start_time += 50\n",
    "#     end_time += 50\n",
    "\n",
    "# Fit guesses\n",
    "g_avg = 0.5\n",
    "g_A = -0.365\n",
    "g_f_a = 0.02819\n",
    "g_phi_a = 194.45\n",
    "g_B = -0.425\n",
    "g_f_b = 0.028874\n",
    "g_phi_b = -147.37\n",
    "\n",
    "plot_fit = True\n",
    "do_print = True\n",
    "fixed = []\n",
    "show_guess = False\n",
    "return_results = False\n",
    "close_plot = False\n",
    "title = 'Carbon_Ramsey'\n",
    "\n",
    "cra.Carbon_RamseynoDD_stitch_fit2cos(data_stamps,\n",
    "                              g_avg,\n",
    "                              g_A,\n",
    "                              g_f_a,\n",
    "                              g_phi_a,\n",
    "                              g_B,\n",
    "                              g_f_b,\n",
    "                              g_phi_b,\n",
    "                              plot_fit,\n",
    "                              do_print,\n",
    "                              fixed,\n",
    "                              show_guess,\n",
    "                              return_results,\n",
    "                              close_plot,\n",
    "                              title)"
   ]
  },
  {
   "cell_type": "code",
   "execution_count": null,
   "metadata": {
    "collapsed": false
   },
   "outputs": [],
   "source": [
    "# np.concatenate( (np.array([4]), np.linspace(700, 9800, 14)))\n",
    "# np.arange(2193,8771,731)\n",
    "np.arange(0,101,10)"
   ]
  },
  {
   "cell_type": "code",
   "execution_count": null,
   "metadata": {
    "collapsed": false
   },
   "outputs": [],
   "source": [
    "#######################\n",
    "### Fit Gaussian decaying sum of 2 cosines to Carbon_Ramsey_noDD data ###\n",
    "#######################\n",
    "\n",
    "from analysis.scripts.QEC import carbon_ramsey_analysis as cra\n",
    "reload(cra)\n",
    "import collections\n",
    "\n",
    "ssro_calib_folder = r'D:\\measuring\\data\\20150602\\150319_AdwinSSRO_SSROCalibration_Gretel_sil2'\n",
    "data_stamps = collections.OrderedDict()\n",
    "\n",
    "# start_time = 4\n",
    "# end_time = 50\n",
    "# for k in range(1):\n",
    "#     t_range = '[%s-%s]' % (start_time, end_time)\n",
    "#     data_stamps[t_range] = ssro_calib_folder\n",
    "#     start_time += 50\n",
    "#     end_time += 50\n",
    "\n",
    "# # start_time = 681\n",
    "# # end_time = 781\n",
    "# # for k in range(1):\n",
    "# #     t_range = '[%s-%s]' % (start_time, end_time)\n",
    "# #     data_stamps[t_range] = ssro_calib_folder\n",
    "# #     start_time += 50\n",
    "# #     end_time += 50\n",
    "    \n",
    "# start_time = 1437\n",
    "# end_time = 1487\n",
    "# for k in range(9):\n",
    "#     t_range = '[%s-%s]' % (start_time, end_time)\n",
    "#     data_stamps[t_range] = ssro_calib_folder\n",
    "#     start_time += 731\n",
    "#     end_time += 731\n",
    "\n",
    "start_time = 4\n",
    "end_time = 50\n",
    "for k in range(1):\n",
    "    t_range = '[%s-%s]' % (start_time, end_time)\n",
    "    data_stamps[t_range] = ssro_calib_folder\n",
    "    start_time += 50\n",
    "    end_time += 50\n",
    "start_time = 54\n",
    "end_time = 100\n",
    "\n",
    "for k in range(4):\n",
    "    t_range = '[%s-%s]' % (start_time, end_time)\n",
    "    data_stamps[t_range] = ssro_calib_folder\n",
    "    start_time += 50\n",
    "    end_time += 50\n",
    "\n",
    "start_time = 254\n",
    "end_time = 350\n",
    "for k in range(26):\n",
    "    t_range = '[%s-%s]' % (start_time, end_time)\n",
    "    data_stamps[t_range] = ssro_calib_folder\n",
    "    start_time += 100\n",
    "    end_time += 100\n",
    "\n",
    "# Fit guesses\n",
    "g_avg = 0.45\n",
    "g_C = 0.5\n",
    "g_t = 100000\n",
    "g_A = -0.365\n",
    "g_f_a = 0.02819\n",
    "g_phi_a = 194.45\n",
    "g_B = -0.425\n",
    "g_f_b = 0.028874\n",
    "g_phi_b = -147.37\n",
    "\n",
    "plot_fit = True\n",
    "do_print = True\n",
    "fixed = [4,5,7,8] # [avg, C, t, A, f_a, phi_a, B, f_b, phi_b]\n",
    "show_guess = False\n",
    "return_results = False\n",
    "close_plot = False\n",
    "title = 'Carbon_Ramsey_fitgauss'\n",
    "\n",
    "cra.Carbon_RamseynoDD_stitch_fitgauss2cos(data_stamps,\n",
    "                              g_avg,\n",
    "                              g_C,\n",
    "                              g_t,\n",
    "                              g_A,\n",
    "                              g_f_a,\n",
    "                              g_phi_a,\n",
    "                              g_B,\n",
    "                              g_f_b,\n",
    "                              g_phi_b,\n",
    "                              plot_fit,\n",
    "                              do_print,\n",
    "                              fixed,\n",
    "                              show_guess,\n",
    "                              return_results,\n",
    "                              close_plot,\n",
    "                              title)"
   ]
  },
  {
   "cell_type": "code",
   "execution_count": null,
   "metadata": {
    "collapsed": false
   },
   "outputs": [],
   "source": [
    "np.linspace(4,54,33)"
   ]
  },
  {
   "cell_type": "code",
   "execution_count": null,
   "metadata": {
    "collapsed": false
   },
   "outputs": [],
   "source": [
    "execfile(r'D:/measuring/analysis/scripts/espin/simple_esr_fit.py')"
   ]
  },
  {
   "cell_type": "code",
   "execution_count": null,
   "metadata": {
    "collapsed": false
   },
   "outputs": [],
   "source": [
    "g_factor = 2.8025e6\n",
    "ZFS=2.87030e9#2.877336e9 LT SIL2\n",
    "def get_B_field(msm1_freq=2.8, msp1_freq=2.8):\n",
    "    ''' Returns the (Bz_field, Bx_field) for given given\n",
    "    ms=-1 and ms=0 frequencies (GHz)\n",
    "    '''\n",
    "    msm1_f = msm1_freq\n",
    "    msp1_f = msp1_freq\n",
    "    Bz = (msp1_f**2 - msm1_f**2)/(4.*ZFS*g_factor)\n",
    "    Bx = (abs(msm1_f**2 - (ZFS-g_factor*Bz)**2 )**0.5)/g_factor\n",
    "    return (Bz, Bx)\n",
    "\n",
    "p1=  2.918822\n",
    "m1=  2.821769\n",
    "Bz,Bx=get_B_field(msm1_freq=m1*1e9, msp1_freq=p1*1e9)\n",
    "\n",
    "print 'Mean = ',m1+(p1-m1)/2. , 'GHz'\n",
    "\n",
    "print 'Bz = ',Bz , 'Gauss'\n",
    "print 'Bx = ', Bx, 'Gauss'"
   ]
  },
  {
   "cell_type": "code",
   "execution_count": null,
   "metadata": {
    "collapsed": false
   },
   "outputs": [],
   "source": [
    "tau_start=39.5e-6\n",
    "pts=16\n",
    "step_size=12e-9\n",
    "start=(tau_start-2.64e-6)/step_size/float(pts-1)\n",
    "print int((tau_start-2.64e-6)/step_size/float(pts))-1\n",
    "print 'calc start', int(start)\n",
    "\n",
    "calc_tau = (int(start)-5)*(pts-1)*step_size+2.64e-6\n",
    "calc_tau_end = (int(start)+1+5)*(pts-1)*step_size+2.64e-6\n",
    "print start\n",
    "print 'start tau',calc_tau*1e6,' us'\n",
    "print 'end tau',calc_tau_end*1e6,' us'"
   ]
  },
  {
   "cell_type": "code",
   "execution_count": null,
   "metadata": {
    "collapsed": false
   },
   "outputs": [],
   "source": [
    "npX=0.5\n",
    "npX_u=.1\n",
    "npY=0.5\n",
    "npY_u=npX_u\n",
    "dB=np.sqrt((npX*npX_u)**2+(npY*npY_u)**2)/np.sqrt((npX**2+npY**2))\n",
    "print dB"
   ]
  },
  {
   "cell_type": "code",
   "execution_count": null,
   "metadata": {
    "collapsed": false
   },
   "outputs": [],
   "source": [
    ".5*1/sqrt(1000)"
   ]
  },
  {
   "cell_type": "code",
   "execution_count": null,
   "metadata": {
    "collapsed": false
   },
   "outputs": [],
   "source": [
    "a=np.linspace(1,np.log10(10000),11)\n",
    "x=10**a\n",
    "#x=a\n",
    "y=0.6*exp(-x/1814.)+0.4\n",
    "fig = plt.figure(1)\n",
    "ax = fig.add_subplot(111)\n",
    "ax.plot(x,y,'o')\n",
    "ax.set_xscale('log')"
   ]
  },
  {
   "cell_type": "code",
   "execution_count": null,
   "metadata": {
    "collapsed": false
   },
   "outputs": [],
   "source": [
    "xd=np.linspace(0,10000**(1/3.),11)\n",
    "xlin=np.linspace(0,10000,11)\n",
    "\n",
    "x=xd**3\n",
    "#x=xlin\n",
    "y=exp(-x/2000.)\n",
    "fig = plt.figure(1)\n",
    "ax = fig.add_subplot(111)\n",
    "ax.plot(x,y,'o')\n",
    "ax.set_yscale('log')\n",
    "#ax.set_xscale('log')"
   ]
  },
  {
   "cell_type": "code",
   "execution_count": null,
   "metadata": {
    "collapsed": false
   },
   "outputs": [],
   "source": [
    "np.log10(1/e)"
   ]
  },
  {
   "cell_type": "code",
   "execution_count": null,
   "metadata": {
    "collapsed": false
   },
   "outputs": [],
   "source": [
    "10**4"
   ]
  },
  {
   "cell_type": "code",
   "execution_count": null,
   "metadata": {
    "collapsed": false
   },
   "outputs": [],
   "source": [
    "np.log10(10**4)"
   ]
  },
  {
   "cell_type": "code",
   "execution_count": null,
   "metadata": {
    "collapsed": false
   },
   "outputs": [],
   "source": []
  }
 ],
 "metadata": {
  "kernelspec": {
   "display_name": "Python 2",
   "language": "python",
   "name": "python2"
  },
  "language_info": {
   "codemirror_mode": {
    "name": "ipython",
    "version": 2
   },
   "file_extension": ".py",
   "mimetype": "text/x-python",
   "name": "python",
   "nbconvert_exporter": "python",
   "pygments_lexer": "ipython2",
   "version": "2.7.3"
  }
 },
 "nbformat": 4,
 "nbformat_minor": 0
}
