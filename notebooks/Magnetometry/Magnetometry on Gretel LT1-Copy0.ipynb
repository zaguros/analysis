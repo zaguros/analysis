{
 "metadata": {
  "name": "",
  "signature": ""
 },
 "nbformat": 3,
 "nbformat_minor": 0,
 "worksheets": [
  {
   "cells": [
    {
     "cell_type": "code",
     "collapsed": false,
     "input": [
      "execfile(r'D:\\measuring\\analysis\\scripts\\setup_analysis.py')\n"
     ],
     "language": "python",
     "metadata": {},
     "outputs": []
    },
    {
     "cell_type": "code",
     "collapsed": false,
     "input": [
      "nvlevels.get_ES_ExEy(63.4,68.6)\n"
     ],
     "language": "python",
     "metadata": {},
     "outputs": []
    },
    {
     "cell_type": "code",
     "collapsed": false,
     "input": [
      "ssro.ssrocalib(plot_photon_ms0=True)"
     ],
     "language": "python",
     "metadata": {},
     "outputs": []
    },
    {
     "cell_type": "heading",
     "level": 1,
     "metadata": {},
     "source": [
      "Standard Spin measurements"
     ]
    },
    {
     "cell_type": "code",
     "collapsed": false,
     "input": [
      "execfile(r'D:\\measuring\\analysis\\scripts\\espin\\dark_esr_analysis.py')"
     ],
     "language": "python",
     "metadata": {},
     "outputs": []
    },
    {
     "cell_type": "code",
     "collapsed": false,
     "input": [
      "execfile(r'D:\\measuring\\analysis\\scripts\\espin\\electron_rabi_analysis.py')"
     ],
     "language": "python",
     "metadata": {},
     "outputs": []
    },
    {
     "cell_type": "heading",
     "level": 1,
     "metadata": {},
     "source": [
      "MBI Electron spin measurements"
     ]
    },
    {
     "cell_type": "code",
     "collapsed": false,
     "input": [
      "execfile(r'D:\\measuring\\analysis\\scripts\\mbi\\mbi_dark_esr_analysis.py')"
     ],
     "language": "python",
     "metadata": {},
     "outputs": []
    },
    {
     "cell_type": "code",
     "collapsed": false,
     "input": [
      "execfile(r'D:\\measuring\\analysis\\scripts\\mbi\\mbi_electron_rabi_analysis.py')"
     ],
     "language": "python",
     "metadata": {},
     "outputs": []
    },
    {
     "cell_type": "code",
     "collapsed": false,
     "input": [
      "execfile(r'D:\\measuring\\analysis\\scripts\\mbi\\mbi_electron_ramsey_analysis.py')"
     ],
     "language": "python",
     "metadata": {},
     "outputs": []
    },
    {
     "cell_type": "heading",
     "level": 1,
     "metadata": {},
     "source": [
      "import h5py\n",
      "import matplotlib.pyplot as plt\n",
      "fileName=r'D:\\TUD277246\\Desktop\\153003_scan2d.hdf5'\n",
      "f = h5py.File(fileName,  \"r\")\n",
      "f.keys()\n",
      "\n",
      "a=f['countrate']\n",
      "scan=a.value\n",
      "fig, ax = plt.subplots()\n",
      "p = ax.pcolor(scan)"
     ]
    },
    {
     "cell_type": "code",
     "collapsed": false,
     "input": [
      "print 50000/(sqrt(50**2+2000**2)), 'kHz'\n",
      "print 0.001/4e-6, 'kHz'"
     ],
     "language": "python",
     "metadata": {},
     "outputs": []
    },
    {
     "cell_type": "code",
     "collapsed": false,
     "input": [
      "print 1000/30.\n",
      "print 1000/32.16"
     ],
     "language": "python",
     "metadata": {},
     "outputs": []
    },
    {
     "cell_type": "code",
     "collapsed": false,
     "input": [
      "spctr_data=np.loadtxt(r'D:\\measuring\\data\\20140912\\095544_LaserScansGreenRepump_Gretel_SIL10_LT1_Red\\095544_LaserScansGreenRepump_Gretel_SIL10_LT1_Red_noheader.dat')\n",
      "\n",
      "print shape(spctr_data)\n",
      "print 42583/32.\n",
      "print spctr_data[:,3]\n",
      "frq=[]\n",
      "cnts=[]\n",
      "j=0\n",
      "\n",
      "\n",
      "for i in spctr_data[:,3]:\n",
      "    \n",
      "    if spctr_data[j,3]==2:\n",
      "        frq.append(spctr_data[j,1])\n",
      "        cnts.append(spctr_data[j,2])\n",
      "    j+=1\n",
      "plt.plot(frq,cnts)\n",
      "plt.xlim([57,59])\n",
      "carray=np.array(cnts)\n",
      "carray.max()\n",
      "cnts.index(carray.max())\n",
      "carray[921]\n",
      "print frq[cnts.index(carray.max())]\n"
     ],
     "language": "python",
     "metadata": {},
     "outputs": []
    },
    {
     "cell_type": "code",
     "collapsed": false,
     "input": [
      "carray=np.array(cnts)\n",
      "carray.max()\n",
      "cnts.index(carray.max())\n",
      "carray[921]\n",
      "print frq[cnts.index(carray.max())]"
     ],
     "language": "python",
     "metadata": {},
     "outputs": []
    },
    {
     "cell_type": "code",
     "collapsed": false,
     "input": [
      "j=0\n",
      "scan_nr=0\n",
      "plt.clf()\n",
      "frq=[]\n",
      "cnts=[]\n",
      "\n",
      "for i in spctr_data[:,3]:\n",
      "    \n",
      "    if spctr_data[j,3]==scan_nr:\n",
      "        frq.append(spctr_data[j,1])\n",
      "        if(spctr_data[j,2]>2000):\n",
      "            cnt_rate=2000\n",
      "        else:\n",
      "            cnt_rate=spctr_data[j,2]\n",
      "        cnts.append(cnt_rate+scan_nr*3000)\n",
      "    else:\n",
      "        scan_nr+=1    \n",
      "        plt.plot(frq,cnts)\n",
      "        print frq[200:205]\n",
      "        frq=[]\n",
      "        cnts=[]\n",
      "    j+=1\n",
      "\n",
      "plt.xlim(55,80)\n",
      "plt.xlabel('Laser frequency detuning (GHz) ')\n",
      "                        \n"
     ],
     "language": "python",
     "metadata": {},
     "outputs": []
    },
    {
     "cell_type": "code",
     "collapsed": false,
     "input": [
      "j=0\n",
      "scan_nr=0\n",
      "plt.clf()\n",
      "frq=[]\n",
      "cnts=[]\n",
      "for i in spctr_data[:,3]:\n",
      "    \n",
      "    if spctr_data[j,3]==2:\n",
      "        frq.append(spctr_data[j,1])\n",
      "        cnt_rate=spctr_data[j,2]\n",
      "        cnts.append(cnt_rate)\n",
      "    j+=1\n",
      "plt.plot(frq,cnts)\n",
      "plt.xlim([55,78])\n",
      "plt.ylim(0,500)"
     ],
     "language": "python",
     "metadata": {},
     "outputs": []
    },
    {
     "cell_type": "code",
     "collapsed": false,
     "input": [
      "from analysis.lib import fitting\n",
      "from analysis.lib.m2.ssro import sequence\n",
      "from analysis.lib.tools import toolbox\n",
      "from analysis.lib.fitting import fit,esr\n",
      "from analysis.lib.tools import plot\n",
      "\n",
      "ssro_calib_folder = toolbox.latest_data(contains='AdwinSSRO_SSROCalibration') \n",
      "print ssro_calib_folder\n",
      "folder = toolbox.latest_data('Multiple')\n",
      "a = sequence.SequenceAnalysis(folder)\n",
      "a.get_sweep_pts()\n",
      "a.get_readout_results('ssro')\n",
      "a.get_electron_ROC(ssro_calib_folder=ssro_calib_folder)\n",
      "fig, ax = plt.subplots(1,1)\n",
      "a.plot_result_vs_sweepparam(ret=True, name='ssro', ax=ax)"
     ],
     "language": "python",
     "metadata": {},
     "outputs": []
    },
    {
     "cell_type": "code",
     "collapsed": false,
     "input": [
      "from scipy import optimize"
     ],
     "language": "python",
     "metadata": {},
     "outputs": []
    },
    {
     "cell_type": "code",
     "collapsed": false,
     "input": [],
     "language": "python",
     "metadata": {},
     "outputs": []
    },
    {
     "cell_type": "code",
     "collapsed": false,
     "input": [
      "execfile (r'D:\\measuring\\analysis\\scripts\\magnetometry\\magnetometry_calibration.py')"
     ],
     "language": "python",
     "metadata": {},
     "outputs": []
    },
    {
     "cell_type": "heading",
     "level": 1,
     "metadata": {},
     "source": [
      "Magnetometry"
     ]
    },
    {
     "cell_type": "code",
     "collapsed": false,
     "input": [
      "execfile (r'D:\\measuring\\analysis\\scripts\\magnetometry\\adaptive_magnetometry_analysis.py')"
     ],
     "language": "python",
     "metadata": {},
     "outputs": []
    },
    {
     "cell_type": "code",
     "collapsed": false,
     "input": [],
     "language": "python",
     "metadata": {},
     "outputs": []
    },
    {
     "cell_type": "markdown",
     "metadata": {},
     "source": [
      "Magnetometry simulations"
     ]
    },
    {
     "cell_type": "code",
     "collapsed": false,
     "input": [
      "B = [-10.8193,-10.708,-10.3888,-10.0499,-10.2066,-10.14,-10.003]\n",
      "err = [0.6121,1.18025,0.7301,1.6123,0.608,0.613,1.35]\n",
      "plt.plot (B, err,'o')"
     ],
     "language": "python",
     "metadata": {},
     "outputs": []
    },
    {
     "cell_type": "code",
     "collapsed": false,
     "input": [
      "execfile (r'D:\\measuring\\analysis\\scripts\\magnetometry\\adaptive_magnetometry_simulations.py')"
     ],
     "language": "python",
     "metadata": {},
     "outputs": []
    },
    {
     "cell_type": "heading",
     "level": 3,
     "metadata": {},
     "source": [
      "Generate adaptive table"
     ]
    },
    {
     "cell_type": "code",
     "collapsed": false,
     "input": [
      "#do=float(raw_input('Do you really want to generate table?'))\n",
      "#if do==1:\n",
      "execfile (r'D:\\measuring\\analysis\\scripts\\magnetometry\\generate_adaptive_table.py')"
     ],
     "language": "python",
     "metadata": {},
     "outputs": []
    },
    {
     "cell_type": "code",
     "collapsed": false,
     "input": [
      "[1,2,3]"
     ],
     "language": "python",
     "metadata": {},
     "outputs": []
    },
    {
     "cell_type": "code",
     "collapsed": false,
     "input": [
      "import numpy as np\n",
      "\n",
      "def griddata(x, y, z, binsize=0.01, retbin=True, retloc=True):\n",
      "    \"\"\"\n",
      "    Place unevenly spaced 2D data on a grid by 2D binning (nearest\n",
      "    neighbor interpolation).\n",
      "    \n",
      "    Parameters\n",
      "    ----------\n",
      "    x : ndarray (1D)\n",
      "        The idependent data x-axis of the grid.\n",
      "    y : ndarray (1D)\n",
      "        The idependent data y-axis of the grid.\n",
      "    z : ndarray (1D)\n",
      "        The dependent data in the form z = f(x,y).\n",
      "    binsize : scalar, optional\n",
      "        The full width and height of each bin on the grid.  If each\n",
      "        bin is a cube, then this is the x and y dimension.  This is\n",
      "        the step in both directions, x and y. Defaults to 0.01.\n",
      "    retbin : boolean, optional\n",
      "        Function returns `bins` variable (see below for description)\n",
      "        if set to True.  Defaults to True.\n",
      "    retloc : boolean, optional\n",
      "        Function returns `wherebins` variable (see below for description)\n",
      "        if set to True.  Defaults to True.\n",
      "   \n",
      "    Returns\n",
      "    -------\n",
      "    grid : ndarray (2D)\n",
      "        The evenly gridded data.  The value of each cell is the median\n",
      "        value of the contents of the bin.\n",
      "    bins : ndarray (2D)\n",
      "        A grid the same shape as `grid`, except the value of each cell\n",
      "        is the number of points in that bin.  Returns only if\n",
      "        `retbin` is set to True.\n",
      "    wherebin : list (2D)\n",
      "        A 2D list the same shape as `grid` and `bins` where each cell\n",
      "        contains the indicies of `z` which contain the values stored\n",
      "        in the particular bin.\n",
      "\n",
      "    Revisions\n",
      "    ---------\n",
      "    2010-07-11  ccampo  Initial version\n",
      "    \"\"\"\n",
      "    # get extrema values.\n",
      "    xmin, xmax = x.min(), x.max()\n",
      "    ymin, ymax = y.min(), y.max()\n",
      "\n",
      "    # make coordinate arrays.\n",
      "    xi      = np.arange(xmin, xmax+binsize, binsize)\n",
      "    yi      = np.arange(ymin, ymax+binsize, binsize)\n",
      "    xi, yi = np.meshgrid(xi,yi)\n",
      "\n",
      "    # make the grid.\n",
      "    grid           = np.zeros(xi.shape, dtype=x.dtype)\n",
      "    nrow, ncol = grid.shape\n",
      "    if retbin: bins = np.copy(grid)\n",
      "\n",
      "    # create list in same shape as grid to store indices\n",
      "    if retloc:\n",
      "        wherebin = np.copy(grid)\n",
      "        wherebin = wherebin.tolist()\n",
      "\n",
      "    # fill in the grid.\n",
      "    for row in range(nrow):\n",
      "        for col in range(ncol):\n",
      "            xc = xi[row, col]    # x coordinate.\n",
      "            yc = yi[row, col]    # y coordinate.\n",
      "\n",
      "            # find the position that xc and yc correspond to.\n",
      "            posx = np.abs(x - xc)\n",
      "            posy = np.abs(y - yc)\n",
      "            ibin = np.logical_and(posx < binsize/2., posy < binsize/2.)\n",
      "            ind  = np.where(ibin == True)[0]\n",
      "\n",
      "            # fill the bin.\n",
      "            bin = z[ibin]\n",
      "            if retloc: wherebin[row][col] = ind\n",
      "            if retbin: bins[row, col] = bin.size\n",
      "            if bin.size != 0:\n",
      "                binval         = np.median(bin)\n",
      "                grid[row, col] = binval\n",
      "            else:\n",
      "                grid[row, col] = np.nan   # fill empty bins with nans.\n",
      "\n",
      "    # return the grid\n",
      "    if retbin:\n",
      "        if retloc:\n",
      "            return grid, bins, wherebin\n",
      "        else:\n",
      "            return grid, bins\n",
      "    else:\n",
      "        if retloc:\n",
      "            return grid, wherebin\n",
      "        else:\n",
      "            return grid"
     ],
     "language": "python",
     "metadata": {},
     "outputs": []
    },
    {
     "cell_type": "code",
     "collapsed": false,
     "input": [
      "print type(x)\n",
      "print type(uniform(-2,2,npts))"
     ],
     "language": "python",
     "metadata": {},
     "outputs": []
    },
    {
     "cell_type": "code",
     "collapsed": false,
     "input": [
      "import numpy as np\n",
      "from scipy.interpolate import griddata\n",
      "import matplotlib.pyplot as plt\n",
      "import numpy.ma as ma\n",
      "from numpy.random import uniform, seed\n",
      "# make up some randomly distributed data\n",
      "spctr_data=np.loadtxt(r'D:\\measuring\\data\\20140912\\095544_LaserScansGreenRepump_Gretel_SIL10_LT1_Red\\095544_LaserScansGreenRepump_Gretel_SIL10_LT1_Red_noheader.dat')\n",
      "#spctr_data=np.loadtxt(r'D:\\measuring\\data\\20140913\\125708_LaserScansGreenRepump_Gretel_SIL10_LT1_Red_Yellow/125708_LaserScansGreenRepump_Gretel_SIL10_LT1_Red_Yellow_noheader.dat')\n",
      "seed(1234)\n",
      "npts = 200\n",
      "plt.clf()\n",
      "x = spctr_data[:,1]\n",
      "y = spctr_data[:,3]\n",
      "zraw = spctr_data[:,2]\n",
      "z=np.zeros(len(zraw))\n",
      "print spctr_data[:,2].max()\n",
      "print zraw.min()\n",
      "z_max=10000\n",
      "j=0\n",
      "for i in zraw:\n",
      "    if i > z_max:\n",
      "        z[j]=z_max\n",
      "    else:\n",
      "        z[j]=zraw[j]\n",
      "    j+=1    \n",
      "\n",
      "print z.max()\n",
      "print z.min()\n",
      "# define grid.\n",
      "xi = np.linspace(50,80,30000)\n",
      "yi = np.linspace(0,31,32)\n",
      "# grid the data.\n",
      "zi = griddata((x, y), z, (xi[None,:], yi[:,None]), method='cubic')\n",
      "\n",
      "for i in np.arange(shape(zi)[0]):\n",
      "    for j in np.arange(shape(zi)[1]):\n",
      "        if zi[i,j]<0:\n",
      "            zi[i,j]=0\n",
      "\n",
      "## contour the gridded data, plotting dots at the randomly spaced data points.\n",
      "#CS = plt.contour(xi,yi,zi,15,linewidths=0.5,colors='k')\n",
      "plt.figure(figsize=[15,15])\n",
      "plt.subplot(2, 2, 1)\n",
      "CS = plt.contourf(xi,yi,zi,cmap=plt.cm.Blues,vmin=0,vmax=z_max,alpha=0.75)\n",
      "#CS = plt.imshow(xi,yi,zi,15,vmin=100, vmax=5000)\n",
      "plt.colorbar() # draw colorbar\n",
      "# plot data points.\n",
      "#plt.scatter(x,y,marker='o',c='b',s=5)\n",
      "plt.xlim(55,75)\n",
      "plt.ylim(0,31)\n",
      "plt.ylabel('Scan number')\n",
      "plt.xlabel('Laser frequency detuning (GHz)')\n",
      "#plt.title('griddata test (%d points)' % npts)\n",
      "#plt.show()"
     ],
     "language": "python",
     "metadata": {},
     "outputs": []
    },
    {
     "cell_type": "code",
     "collapsed": false,
     "input": [
      "import numpy as np\n",
      "import matplotlib.pyplot as plt\n",
      "\n",
      "\n",
      "# plot some profiles / cross-sections for some visualization.  our\n",
      "# function is a symmetric, upward opening paraboloid z = x**2 + y**2.\n",
      "# We expect it to be symmetric about and and y, attain a minimum on\n",
      "# the origin and display minor Gaussian noise.\n",
      "plt.clf()\n",
      "plt.ion()   # pyplot interactive mode on\n",
      "\n",
      "# x vs z cross-section.  notice the noise.\n",
      "plt.plot(x, z, '.')\n",
      "plt.title('X vs Z=F(X,Y=constant)')\n",
      "plt.xlabel('X')\n",
      "plt.ylabel('Z')\n",
      "\n",
      "# y vs z cross-section.  notice the noise.\n",
      "plt.plot(y, z, '.')\n",
      "plt.title('Y vs Z=F(Y,X=constant)')\n",
      "plt.xlabel('Y')\n",
      "plt.ylabel('Z')\n",
      "\n",
      "# now show the dependent data (x vs y).  we could represent the z data\n",
      "# as a third axis by either a 3d plot or contour plot, but we need to\n",
      "# grid it first....\n",
      "plt.plot(x, y, '.')\n",
      "plt.title('X vs Y')\n",
      "plt.xlabel('X')\n",
      "plt.ylabel('Y')\n",
      "\n",
      "# enter the gridding.  imagine drawing a symmetrical grid over the\n",
      "# plot above.  the binsize is the width and height of one of the grid\n",
      "# cells, or bins in units of x and y.\n",
      "binsize = 1\n",
      "grid, bins, binloc = griddata(x, y, z, binsize=binsize)  # see this routine's docstring\n",
      "\n",
      "\n",
      "# minimum values for colorbar. filter our nans which are in the grid\n",
      "zmin    = grid[np.where(np.isnan(grid) == False)].min()\n",
      "zmax    = grid[np.where(np.isnan(grid) == False)].max()\n",
      "\n",
      "# colorbar stuff\n",
      "palette = plt.matplotlib.colors.LinearSegmentedColormap('jet3',plt.cm.datad['jet'],2048)\n",
      "palette.set_under(alpha=0.0)\n",
      "\n",
      "# plot the results.  first plot is x, y vs z, where z is a filled level plot.\n",
      "extent = (x.min(), x.max(), y.min(), y.max()) # extent of the plot\n",
      "plt.subplot(1, 2, 1)\n",
      "plt.imshow(grid, extent=extent, cmap=palette, origin='lower', vmin=zmin, vmax=zmax, aspect='auto')\n",
      "plt.xlabel('X values')\n",
      "plt.ylabel('Y values')\n",
      "plt.title('Z = F(X, Y)')\n",
      "plt.colorbar()\n",
      "'''\n",
      "# now show the number of points in each bin.  since the independent data are\n",
      "# Gaussian distributed, we expect a 2D Gaussian.\n",
      "plt.subplot(1, 2, 2)\n",
      "plt.imshow(bins, extent=extent, cmap=palette, origin='lower', vmin=0, vmax=bins.max(), aspect='auto', interpolation='bilinear')\n",
      "plt.xlabel('X values')\n",
      "plt.ylabel('Y values')\n",
      "plt.title('X, Y vs The No. of Pts Per Bin')\n",
      "plt.colorbar()\n",
      "'''"
     ],
     "language": "python",
     "metadata": {},
     "outputs": []
    },
    {
     "cell_type": "code",
     "collapsed": false,
     "input": [
      "print np.rint(np.array([1.,2.,3.]))"
     ],
     "language": "python",
     "metadata": {},
     "outputs": []
    },
    {
     "cell_type": "code",
     "collapsed": false,
     "input": [
      "np.round?"
     ],
     "language": "python",
     "metadata": {},
     "outputs": []
    },
    {
     "cell_type": "code",
     "collapsed": false,
     "input": [
      "if 1<0:\n",
      "    print 'yes'\n",
      "    \n"
     ],
     "language": "python",
     "metadata": {},
     "outputs": []
    },
    {
     "cell_type": "code",
     "collapsed": false,
     "input": [
      "zi[0,3000]>0\n"
     ],
     "language": "python",
     "metadata": {},
     "outputs": []
    },
    {
     "cell_type": "code",
     "collapsed": false,
     "input": [
      "plt.contourf?"
     ],
     "language": "python",
     "metadata": {},
     "outputs": []
    },
    {
     "cell_type": "code",
     "collapsed": false,
     "input": [
      "execfile (r'D:\\measuring\\analysis\\scripts\\magnetometry\\oscilloscope_trace.py')"
     ],
     "language": "python",
     "metadata": {},
     "outputs": []
    },
    {
     "cell_type": "code",
     "collapsed": false,
     "input": [
      "x=np.linspace(0,0.02,100)\n",
      "y=266.6*exp(-42.38*x)\n",
      "plt.plot(x,y)\n"
     ],
     "language": "python",
     "metadata": {},
     "outputs": []
    },
    {
     "cell_type": "code",
     "collapsed": false,
     "input": [
      "1/42."
     ],
     "language": "python",
     "metadata": {},
     "outputs": []
    },
    {
     "cell_type": "code",
     "collapsed": false,
     "input": [
      "1/0.03358"
     ],
     "language": "python",
     "metadata": {},
     "outputs": []
    },
    {
     "cell_type": "code",
     "collapsed": false,
     "input": [
      "#time = np.array([0,20,50,70])\n",
      "#phases = np.array([313.5, 176.4, 154.4, 18.3])\n",
      "time = np.array([-10,-15,-20])\n",
      "phases = np.array([-0.0319, -0.18694, -0.349])*360.\n",
      "\n",
      "time = np.array([70,80,85,90])\n",
      "phases = np.array([16,131,186,245])\n",
      "plt.plot(time, phases,'o')"
     ],
     "language": "python",
     "metadata": {},
     "outputs": []
    },
    {
     "cell_type": "code",
     "collapsed": false,
     "input": [
      "((186-16)/360.)*1e-6/15e-9"
     ],
     "language": "python",
     "metadata": {},
     "outputs": []
    },
    {
     "cell_type": "code",
     "collapsed": false,
     "input": [],
     "language": "python",
     "metadata": {},
     "outputs": []
    }
   ],
   "metadata": {}
  }
 ]
}
