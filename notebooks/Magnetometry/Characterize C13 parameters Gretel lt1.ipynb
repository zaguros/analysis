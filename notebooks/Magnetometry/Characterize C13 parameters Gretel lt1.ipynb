{
 "cells": [
  {
   "cell_type": "code",
   "execution_count": null,
   "metadata": {
    "collapsed": false
   },
   "outputs": [],
   "source": [
    "execfile(r'D:\\measuring\\analysis\\scripts\\setup_analysis.py')\n",
    "from analysis.lib.tools import toolbox"
   ]
  },
  {
   "cell_type": "markdown",
   "metadata": {},
   "source": [
    "#### Fingerprints"
   ]
  },
  {
   "cell_type": "code",
   "execution_count": null,
   "metadata": {
    "collapsed": false
   },
   "outputs": [],
   "source": [
    "#####\n",
    "# DD analysis from single file (multiple msmts allowed)\n",
    "####\n",
    "from analysis.scripts.Quantum_Memory import Simple_Decoupling_Analysis as sda\n",
    "reload(sda)\n",
    "\n",
    "name_contains = '128pulses_9'\n",
    "\n",
    "ssro_calib_folder = toolbox.latest_data(contains='AdwinSSRO_SSROCalibration')\n",
    "timestamp = None#'20150605163851'\n",
    "nr_ids =60\n",
    "\n",
    "# '20150602022709'] = [11, r'D:\\measuring\\data\\20150530\\235230_AdwinSSRO_SSROCalibration_Gretel_sil2']\n",
    "\n",
    "if timestamp != None:\n",
    "    if nr_ids > 1:\n",
    "        x, y, yerr, folder, all_stitching_points = sda.get_data_multiple_msmts(name_contains, nr_ids, input_timestamp = timestamp, ssro_calib_folder = ssro_calib_folder)\n",
    "    else:\n",
    "        x, y, yerr, folder = sda.get_data(name_contains, input_timestamp = timestamp, ssro_calib_folder = ssro_calib_folder)\n",
    "else:\n",
    "#     x, y, yerr, folder, timestamp = sda.get_data_multiple_msmts(name_contains, nr_ids)\n",
    "    if nr_ids > 1:\n",
    "        x, y, yerr, folder, timestamp, all_stitching_points = sda.get_data_multiple_msmts(name_contains, nr_ids, input_timestamp = timestamp, ssro_calib_folder = ssro_calib_folder)\n",
    "    else:\n",
    "        x, y, yerr, folder, timestamp = sda.get_data(name_contains, ssro_calib_folder = ssro_calib_folder)\n",
    "print folder\n",
    "f = plt.figure(figsize=(25,6))\n",
    "ax = f.add_subplot(1,1,1)\n",
    "\n",
    "plt.errorbar(x,y,yerr = yerr, fmt = '-o',color='RoyalBlue')\n",
    "plt.ylabel(r'Signal corrected for RO',fontsize=25)\n",
    "plt.xlabel('tau (us)',fontsize=25)\n",
    "# plt.xlabel('Free evolution time (us)',fontsize=25)\n",
    "plt.tick_params(axis='x', labelsize=25)\n",
    "plt.tick_params(axis='y', labelsize=25)\n",
    "plt.title(timestamp)\n",
    "plt.savefig(os.path.join(folder, 'SimpleDecoupling.png'))\n",
    "\n",
    "# Add stitching points as vertical lines (if they exist)\n",
    "ymin, ymax = ax.get_ylim()\n",
    "ax.set_ylim([0,1.05])\n",
    "ax.set_xlim([50.5,52.5])\n",
    "\n",
    "if len(all_stitching_points) != 0:\n",
    "    #plt.vlines(all_stitching_points, ymin, 1, linestyles = 'dashed', label = 'stitching_points')\n",
    "    lines=0\n",
    "    for val in all_stitching_points:\n",
    "        #plt.text(val, 1., str(val))\n",
    "        lines=0\n",
    "\n",
    "plt.savefig(os.path.join(folder, 'SimpleDecoupling_stitching_pts.png'))\n",
    "\n",
    "all_stitching_points = []"
   ]
  },
  {
   "cell_type": "markdown",
   "metadata": {},
   "source": [
    "#### Simulate fingerprint"
   ]
  },
  {
   "cell_type": "code",
   "execution_count": null,
   "metadata": {
    "collapsed": false
   },
   "outputs": [],
   "source": [
    "import numpy as np\n",
    "from analysis.lib.tools import toolbox\n",
    "from analysis.lib.m2.ssro import mbi\n",
    "import analysis.lib.QEC.nuclear_spin_characterisation as SC #used for simulating FP response of spins\n",
    "import matplotlib.cm as cm\n",
    "from matplotlib import pyplot as plt\n",
    "import analysis.lib.QEC.hyperfine_params as hyperfine_params; reload(hyperfine_params) \n",
    "\n",
    "hyperfine_params = {}\n",
    "hyperfine_params['C1']  = {'par' : 0.25e3, 'perp':.18e3}\n",
    "hyperfine_params['C2']  = {'par' : -0.65e3, 'perp':0.22e3}\n",
    "hyperfine_params['C3']  = {'par' : 0.02e3, 'perp':.02e3}\n",
    "hyperfine_params['C4']  = {'par' : 0.1e3, 'perp':0.1e3}\n",
    "hyperfine_params['C5']  = {'par' : 0.07e3, 'perp':0.04e3}\n",
    "hyperfine_params['C6']  = {'par' : 0.5e3, 'perp':.01e3}\n",
    "hyperfine_params['C7']  = {'par' : 0.05e3, 'perp':0.008e3}\n",
    "hyperfine_params['C8']  = {'par' : 0.25e3, 'perp':0.01e3}\n",
    "hyperfine_params['C9']  = {'par' : 0.32e3, 'perp':0.05e3}\n",
    "\n",
    "hf = hyperfine_params\n",
    "\n",
    "ZFS                 = 2.87180e9\n",
    "g_factor            = 2.8025e6\n",
    "\n",
    "def plot_sim_vs_Bx(spin_list=['C1'],Bx_list = [0],B_Field = 12, N =2):\n",
    "\n",
    "    for ii in range(len(spin_list)):\n",
    "        print spin_list\n",
    "        fig = figure(ii+1,figsize=(25,6))\n",
    "        ax = fig.add_subplot(111)\n",
    "        # ax.title('Vary Bx for Spin '+ spin_list[ii])\n",
    "        start, end = ax.get_xlim()\n",
    "        # ax.xaxis.set_ticks(np.arange(start, end, 0.1))\n",
    "\n",
    "        for b in range(len(Bx_list)):\n",
    "            Bx = Bx_list[b]\n",
    "            #print spin_list[ii]\n",
    "\n",
    "            HF_par=[hf[spin_list[ii]]['par']  - hf[spin_list[ii]]['perp']*Bx/B_Field]#HF_par \t= [10e3]\n",
    "            HF_perp=[hf[spin_list[ii]]['perp'] + hf[spin_list[ii]]['par']*Bx/B_Field]#HF_perp = [100e3]\n",
    "            '''\n",
    "            print Bx/B_Field\n",
    "\n",
    "            print hf[spin_list[ii]]['par']\n",
    "            print hf[spin_list[ii]]['perp']\n",
    "\n",
    "            print HF_par\n",
    "            print HF_perp\n",
    "            '''\n",
    "            print 'ii =' ,ii\n",
    "            \n",
    "            tau_lst = np.linspace(30e-6,32e-6,960)\n",
    "            if ii == 0:\n",
    "                Mt = SC.dyn_dec_signal(HF_par,HF_perp,B_Field,N,tau_lst)\n",
    "            else:\n",
    "                Mt=Mt*SC.dyn_dec_signal(HF_par,HF_perp,B_Field,N,tau_lst)\n",
    "            #if ii == 0:\n",
    "            FP_signal = ((Mt+1)/2)\n",
    "            #else:\n",
    "            #    FP_signal = FP_signal*((Mt+1)/2)\n",
    "            ax.plot(tau_lst*1e6, FP_signal[0,:],'.-',lw=.8,label = 'spin_'+spin_list[ii]+'_Bx_'+str(Bx))\n",
    "    ax.set_xlabel('tau (us)')\n",
    "    ax.set_ylim([0.0,1.05])\n",
    "    plt.legend(loc=4)\n",
    "\n",
    "# plot_sim_vs_Bx(spin_list=['C1'],Bx_list = [8.5],B_Field = 22, N =8)\n",
    "# plot_sim_vs_Bx(spin_list=['C1'],Bx_list = [8],B_Field = 22, N =16)\n",
    "plot_sim_vs_Bx(spin_list=['C1','C2'],Bx_list = [2.7],B_Field = 22.6, N =400)\n",
    "# plot_sim_vs_Bx(spin_list=['C1'],Bx_list = [8],B_Field = 22, N =64)\n",
    "# plot_sim_vs_Bx(spin_list=['C1'],Bx_list = [7],B_Field = 22, N =8)\n",
    "# ['C1','C3','C10']   ,'C2','C3','C4','C5','C6','C7']"
   ]
  },
  {
   "cell_type": "markdown",
   "metadata": {},
   "source": [
    "#### Carbon rabi (DD sweep N)"
   ]
  },
  {
   "cell_type": "code",
   "execution_count": null,
   "metadata": {
    "collapsed": false
   },
   "outputs": [],
   "source": [
    "#### Carbon control sweep N analysis #####\n",
    "from analysis.scripts.QEC import Carbon_control_analysis_sweep_N as ccan\n",
    "reload(ccan)\n",
    "\n",
    "\n",
    "def plot_single_Crabi(timestamp=None,contains=None,do_print=False):\n",
    "    guess_frq = [1./500]\n",
    "    guess_amp = [0.5]\n",
    "    guess_decay = [1000]\n",
    "    guess_phase = [180]\n",
    "    guess_offset = 0.5\n",
    "    show_guess = False\n",
    "    plot_fit = True\n",
    "    fixed = [3] # freq, offset, amp, phase, decay\n",
    "    fit_result = ccan.Carbon_control_sweep_N(timestamp=timestamp,contains=contains,frequency = guess_frq,amplitude = guess_amp,decay_constant = guess_decay,\n",
    "            phase = guess_phase,offset = guess_offset, plot_fit = plot_fit,show_guess = show_guess,do_print = do_print,fixed = fixed)\n",
    "    if fit_result!=None:\n",
    "        return fit_result\n",
    "amplitudes=[]\n",
    "frequencies=[]\n",
    "tau=[]\n",
    "nr_of_points=1\n",
    "for i in np.arange(6):\n",
    "    contains_str='N_C1_tauidx_'+str(i)\n",
    "    #timestamp = '20150715160714' Note: overwritten below and by contains\n",
    "    timestamp=None\n",
    "    f_r=plot_single_Crabi(contains=contains_str)    \n",
    "    amplitudes.append(f_r['params'][2])\n",
    "    frequencies.append(f_r['params'][3])\n",
    "    tau.append(f_r['tau']*1e6)\n",
    "\n",
    "fig=plt.figure()\n",
    "ax=plt.subplot(211)\n",
    "ax.plot(tau,amplitudes,'o',color='Crimson')\n",
    "ax.set_ylabel('amplitude')\n",
    "ax.set_xticks([])\n",
    "ax2=plt.subplot(212)\n",
    "ax2.plot(tau,frequencies,'o',color='Royalblue')\n",
    "ax2.set_ylabel('frequency')\n",
    "ax2.set_xlabel('tau [us]')\n"
   ]
  },
  {
   "cell_type": "code",
   "execution_count": null,
   "metadata": {
    "collapsed": false
   },
   "outputs": [],
   "source": [
    "name='_C1pi_750ns'\n",
    "toolbox.latest_data(contains='positive_Tomo_Z1'+name)"
   ]
  },
  {
   "cell_type": "markdown",
   "metadata": {},
   "source": [
    "### Carbon ramsey (Ren - MBI - wait - Z-Gate - Ren )"
   ]
  },
  {
   "cell_type": "code",
   "execution_count": null,
   "metadata": {
    "collapsed": false
   },
   "outputs": [],
   "source": [
    "from analysis.scripts.QEC import carbon_ramsey_analysis as cr \n",
    "reload(cr)\n",
    "c=1\n",
    "f0, uf0 = cr.Carbon_Ramsey(timestamp=None, \n",
    "              offset = 0.5, amplitude = 0.4, x0=0, decay_constant =.3, exponent = 2, \n",
    "              frequency = 0.2e3, phase =-90, \n",
    "              plot_fit = False, show_guess = False,fixed = [2,3,4],            \n",
    "              return_freq = True,\n",
    "              return_results = False,\n",
    "              title = '_msm1_freq_C'+str(c))\n",
    "\n",
    "\n"
   ]
  },
  {
   "cell_type": "markdown",
   "metadata": {},
   "source": [
    "## Carbon ramsey (Ren - MBI - wait - Z-Gate - Ren )"
   ]
  },
  {
   "cell_type": "code",
   "execution_count": null,
   "metadata": {
    "collapsed": false
   },
   "outputs": [],
   "source": [
    "import analysis.scripts.QEC.carbon_ramsey_analysis as cramsey\n",
    "reload(cramsey)\n",
    "cramsey.Carbon_Ramsey_DD_freq(older_than=None,carbon=1,\n",
    "                              frequency=24.598e3, phase=-120,amplitude=0.25,decay_constant=10,fixed=[2,3,4],\n",
    "                              plot_fit=True, show_guess=False)"
   ]
  },
  {
   "cell_type": "code",
   "execution_count": null,
   "metadata": {
    "collapsed": false
   },
   "outputs": [],
   "source": [
    "###############################\n",
    "###### Stitch ramseys##########\n",
    "###############################"
   ]
  },
  {
   "cell_type": "code",
   "execution_count": null,
   "metadata": {
    "collapsed": false
   },
   "outputs": [],
   "source": [
    "from analysis.scripts.QEC import carbon_ramsey_analysis as cr \n",
    "reload(cr)\n",
    "cr.Carbon_Ramsey_mult_msmts(timestamp=None, \n",
    "              offset = 0.5, amplitude = 0.4, x0=0, decay_constant = .3, exponent = 2, \n",
    "              frequency = 0.003e3, phase =-90, \n",
    "              plot_fit = True, show_guess = False,fixed = [2],            \n",
    "              return_freq = True,\n",
    "              return_results = False,\n",
    "              title = '_msm0_freq_C'+str(c),\n",
    "              contains=['120744_CarbonRamseyInitialised_Gretel_msm0_freq_C1','125055_CarbonRamseyInitialised_Gretel_msm0_freq_C1'])"
   ]
  },
  {
   "cell_type": "markdown",
   "metadata": {},
   "source": [
    "## Optimize Carbon Gates (Sweep n,tau)"
   ]
  },
  {
   "cell_type": "code",
   "execution_count": null,
   "metadata": {
    "collapsed": false
   },
   "outputs": [],
   "source": [
    "from analysis.scripts.QEC import Carbon_gate_calibration_v2 as Cgatecal\n",
    "reload(Cgatecal)\n",
    "\n",
    "Cgatecal.get_gate_fidelity(carbon=1,older_than=None)"
   ]
  },
  {
   "cell_type": "code",
   "execution_count": null,
   "metadata": {
    "collapsed": false
   },
   "outputs": [],
   "source": [
    "import matplotlib.pyplot as plt\n",
    "import numpy as np\n",
    "\n",
    "# some data\n",
    "x = np.arange(0, 10, 0.1)\n",
    "y1 = np.sin(x)\n",
    "y2 = np.cos(x)\n",
    "\n",
    "# plot of the data\n",
    "fig = plt.figure()\n",
    "ax = fig.add_axes([0.1, 0.1, 0.6, 0.75])\n",
    "ax.plot(x, y1,'-k', lw=2, label='black sin(x)')\n",
    "ax.plot(x, y2,'-r', lw=2, label='red cos(x)')\n",
    "ax.set_xlabel('x', size=22)\n",
    "ax.set_ylabel('y', size=22)\n",
    "ax.legend(bbox_to_anchor=(1.05, 1), loc=2, borderaxespad=0.)\n",
    "\n",
    "plt.show()"
   ]
  },
  {
   "cell_type": "code",
   "execution_count": null,
   "metadata": {
    "collapsed": false
   },
   "outputs": [],
   "source": [
    "plt?"
   ]
  },
  {
   "cell_type": "code",
   "execution_count": null,
   "metadata": {
    "collapsed": false
   },
   "outputs": [],
   "source": []
  }
 ],
 "metadata": {
  "kernelspec": {
   "display_name": "Python 2",
   "language": "python",
   "name": "python2"
  },
  "language_info": {
   "codemirror_mode": {
    "name": "ipython",
    "version": 2
   },
   "file_extension": ".py",
   "mimetype": "text/x-python",
   "name": "python",
   "nbconvert_exporter": "python",
   "pygments_lexer": "ipython2",
   "version": "2.7.3"
  }
 },
 "nbformat": 4,
 "nbformat_minor": 0
}
