{
 "cells": [
  {
   "cell_type": "code",
   "execution_count": null,
   "metadata": {
    "collapsed": false,
    "deletable": true,
    "editable": true
   },
   "outputs": [],
   "source": [
    "#Import relevant modules.\n",
    "import pygsti\n",
    "import numpy as _np\n",
    "from pygsti.algorithms import fiducialselection as FS\n",
    "\n",
    "import matplotlib.pyplot as plt\n",
    "%matplotlib inline\n",
    "\n",
    "import time\n",
    "import os\n",
    "\n",
    "basedir = 'D:/measuring/measurement/scripts/Gateset_tomography'"
   ]
  },
  {
   "cell_type": "code",
   "execution_count": null,
   "metadata": {
    "collapsed": true,
    "deletable": true,
    "editable": true
   },
   "outputs": [],
   "source": [
    "#Construct a target gateset\n",
    "gs_target = pygsti.construction.build_gateset([2],[('Q0',)], [u'Gx',u'Gy',u'Gu',u'Gv'], \n",
    "                                             [ \"X(pi/2,Q0)\", \"Y(pi/2,Q0)\",\"X(pi,Q0)\",\"Y(pi,Q0)\"],\n",
    "                                             prepLabels=['rho0'], prepExpressions=[\"0\"],\n",
    "                                             effectLabels=['E0'], effectExpressions=[\"1\"], \n",
    "                                             spamdefs={'plus': ('rho0','E0'), 'minus': ('rho0','remainder') } )\n"
   ]
  },
  {
   "cell_type": "code",
   "execution_count": null,
   "metadata": {
    "collapsed": false,
    "deletable": true,
    "editable": true
   },
   "outputs": [],
   "source": [
    "#Let's try to pick out a fiducial set.  \n",
    "\n",
    "#First, we generate a candidate set which we'll attempt to prune.\n",
    "#Here, we're looking at all gate string sequences of maximum length 3.\n",
    "\n",
    "max_length = 2\n",
    "gates = [u'Gx',u'Gy',u'Gu',u'Gv']#We omit any identity operations here, as we don't want them in our fiducials.\n",
    "\n",
    "#Important for the minlength arg to equal 0, so we include the empty string.\n",
    "testFidList = pygsti.construction.list_all_gatestrings(gates,0,max_length)\n",
    "\n",
    "to_keep_fids = []\n",
    "for fid in testFidList:\n",
    "    st=fid.str\n",
    "    add = True\n",
    "    firstG = st[:2]\n",
    "    lastG = st[-2:]\n",
    "    if (lastG == 'Gx' or lastG == 'Gy' or lastG == 'Gi'):\n",
    "        add = False\n",
    "    if add!= False:\n",
    "        for x in range(len(st)/2-1):\n",
    "            curG = st[2*x:(2*x+2)]\n",
    "            nextG = st[2*(x+1):(2*(x+1)+2)]\n",
    "            if (curG == 'Gx' or curG == 'Gy' or curG == 'Gi') and (nextG == 'Gx' or nextG == 'Gy' or nextG == 'Gi'):\n",
    "                add = False\n",
    "                break\n",
    "    if add:\n",
    "        to_keep_fids.append(fid)\n",
    "\n",
    "        \n",
    "#Compute the preparation fiducials\n",
    "start = time.time()\n",
    "prepFidList = FS.optimize_integer_fiducials_slack(gs_target,to_keep_fids,prepOrMeas='prep',\\\n",
    "                                                   fixedNum=6,initialWeights=None,slackFrac=1)\n",
    "end = time.time()\n",
    "print\n",
    "print \"Preparation fiducial selection completed in {0} seconds.\".format(round(end-start, 7))\n",
    "print prepFidList\n",
    "\n",
    "print FS.test_fiducial_list(gs_target,prepFidList,'prep',returnAll=True)\n",
    "\n",
    "#Compute the measurement fiducials\n",
    "start = time.time()\n",
    "measFidList = FS.optimize_integer_fiducials_slack(gs_target,to_keep_fids,prepOrMeas='meas',\\\n",
    "                                                   fixedNum=6,initialWeights=None,slackFrac=1)\n",
    "end = time.time()\n",
    "print\n",
    "print \"Measurement fiducial selection completed in {0} seconds.\".format(round(end-start, 7))\n",
    "print measFidList\n",
    "\n",
    "print FS.test_fiducial_list(gs_target,measFidList,'meas',returnAll=True)\n"
   ]
  },
  {
   "cell_type": "code",
   "execution_count": null,
   "metadata": {
    "collapsed": false,
    "deletable": true,
    "editable": true
   },
   "outputs": [],
   "source": [
    "pygsti.io.write_gatestring_list(os.path.join(basedir,\"PrepFiducials.txt\"), prepFidList, \"My fiducial prep gate strings\")\n",
    "pygsti.io.write_gatestring_list(os.path.join(basedir,\"MeasFiducials.txt\"), measFidList, \"My fiducial meas gate strings\")"
   ]
  },
  {
   "cell_type": "code",
   "execution_count": null,
   "metadata": {
    "collapsed": true,
    "deletable": true,
    "editable": true
   },
   "outputs": [],
   "source": []
  }
 ],
 "metadata": {
  "kernelspec": {
   "display_name": "Python 2",
   "language": "python",
   "name": "python2"
  },
  "language_info": {
   "codemirror_mode": {
    "name": "ipython",
    "version": 2
   },
   "file_extension": ".py",
   "mimetype": "text/x-python",
   "name": "python",
   "nbconvert_exporter": "python",
   "pygments_lexer": "ipython2",
   "version": "2.7.3"
  }
 },
 "nbformat": 4,
 "nbformat_minor": 2
}
