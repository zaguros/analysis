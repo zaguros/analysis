{
 "cells": [
  {
   "cell_type": "code",
   "execution_count": null,
   "metadata": {
    "collapsed": true
   },
   "outputs": [],
   "source": [
    "#Import relevant modules.\n",
    "\n",
    "import pygsti\n",
    "import numpy as _np\n",
    "\n",
    "import matplotlib.pyplot as plt\n",
    "%matplotlib inline\n",
    "\n",
    "import time\n",
    "import os\n",
    "\n",
    "basedir = '/Users/phumphreys/Repositories/analysis/notebooks/Quantum Networks/Simulations/GST'"
   ]
  },
  {
   "cell_type": "code",
   "execution_count": null,
   "metadata": {
    "collapsed": false
   },
   "outputs": [],
   "source": [
    "\n",
    "\n",
    "#Construct a target gateset\n",
    "gs_target = pygsti.construction.build_gateset([2],[('Q0',)], [u'Gx',u'Gy',u'Gu',u'Gv'], \n",
    "                                             [ \"X(pi/2,Q0)\", \"Y(pi/2,Q0)\",\"X(pi,Q0)\",\"Y(pi,Q0)\"],\n",
    "                                             prepLabels=['rho0'], prepExpressions=[\"0\"],\n",
    "                                             effectLabels=['E0'], effectExpressions=[\"1\"], \n",
    "                                             spamdefs={'plus': ('rho0','E0'), 'minus': ('rho0','remainder') } )\n",
    "\n",
    "\n",
    "gs_real = gs_target.randomize_with_unitary(.001,seed=1234)\n",
    "\n",
    "max_length = 6\n",
    "gates = gs_target.gates.keys()\n",
    "\n",
    "testGermList = pygsti.construction.list_all_gatestrings_without_powers_and_cycles(gates,max_length)\n",
    "\n",
    "print(\"Is the raw germ set AC?\", pygsti.algorithms.germselection.test_germ_list_infl(gs_real,testGermList))\n",
    "\n",
    "to_keep_germs = []\n",
    "for germ in testGermList:\n",
    "    st=germ.str\n",
    "    add = True\n",
    "    lastG = st[-2:]\n",
    "    if (lastG == 'Gx' or lastG == 'Gy' or lastG == 'Gi'):\n",
    "        add = False\n",
    "    if add!= False:\n",
    "        for x in range(len(st)/2-1):\n",
    "            curG = st[2*x:(2*x+2)]\n",
    "            nextG = st[2*(x+1):(2*(x+1)+2)]\n",
    "            if (curG == 'Gx' or curG == 'Gy' or curG == 'Gi') and (nextG == 'Gx' or nextG == 'Gy' or nextG == 'Gi'):\n",
    "                add = False\n",
    "                break\n",
    "    if add:\n",
    "        to_keep_germs.append(germ)\n",
    "\n",
    "print(\"Is the to keep germ set AC?\", pygsti.algorithms.germselection.test_germ_list_infl(gs_real,to_keep_germs))\n",
    "\n",
    "print len(to_keep_germs)\n",
    "print len(testGermList)\n",
    "\n",
    "start = time.time()\n",
    "germList1 = pygsti.algorithms.germselection.optimize_integer_germs_slack(gs_target,to_keep_germs,numCopies=5,randomizationStrength=0.001,\n",
    "                                                                         initialWeights=None,slackFrac=0.1,gatePenalty=1e-1,\n",
    "                                                                         maxIter=300,force=\"singletons\",\n",
    "                                                                         verbosity=1)\n",
    "end = time.time()\n",
    "print()\n",
    "print(\"Germ selection completed in\", end-start, \"seconds.\")\n",
    "print(\"germList1 is\", \"not \"*(1-pygsti.algorithms.germselection.test_germ_list_infl(gs_real,germList1))+\"AC.\")\n",
    "\n",
    "germList2 = pygsti.algorithms.germselection.optimize_integer_germs_slack(gs_target,germList1,numCopies=5,randomizationStrength=0.001,\n",
    "                                                                         initialWeights=None,slackFrac=0.1,gatePenalty=1e0,\n",
    "                                                                         maxIter=300,force=\"singletons\",\n",
    "                                                                         verbosity=1)\n",
    "\n",
    "print(\"germList2 is\", \"not \"*(1-pygsti.algorithms.germselection.test_germ_list_infl(gs_real,germList2))+\"AC.\")\n"
   ]
  },
  {
   "cell_type": "code",
   "execution_count": null,
   "metadata": {
    "collapsed": false
   },
   "outputs": [],
   "source": [
    "max_length2 = 5\n",
    "\n",
    "testGermList2 = pygsti.construction.list_all_gatestrings_without_powers_and_cycles(gates,max_length2)\n",
    "\n",
    "refGermList = pygsti.algorithms.germselection.optimize_integer_germs_slack(gs_target,testGermList2,numCopies=1,randomizationStrength=0.001,\n",
    "                                                                         initialWeights=None,slackFrac=0.1,gatePenalty=1e-1,\n",
    "                                                                         maxIter=300,force=\"singletons\",\n",
    "                                                                         verbosity=1)\n",
    "\n",
    "print(\"refGermList is\", \"not \"*(1-pygsti.algorithms.germselection.test_germ_list_infl(gs_real,refGermList))+\"AC.\")\n"
   ]
  },
  {
   "cell_type": "code",
   "execution_count": null,
   "metadata": {
    "collapsed": false
   },
   "outputs": [],
   "source": [
    "refGermList2 = pygsti.algorithms.germselection.optimize_integer_germs_slack(gs_target,refGermList,numCopies=1,randomizationStrength=0.001,\n",
    "                                                                         initialWeights=None,slackFrac=0.1,gatePenalty=1e0,\n",
    "                                                                         maxIter=300,force=\"singletons\",\n",
    "                                                                         verbosity=1)\n"
   ]
  },
  {
   "cell_type": "code",
   "execution_count": null,
   "metadata": {
    "collapsed": false
   },
   "outputs": [],
   "source": [
    "#Let's plot the sorted* eigenvalues of AC and non-AC germ sets.\n",
    "#The horizontal line delineates gauge from non-gauge parameters.  We can never be sensitive to gauge parameters,\n",
    "#but to be AC, we must be sensitive to all other parameters.\n",
    "\n",
    "#*Due to numerical stability issues, some of the vanishingly small eigenvalues are negative;\n",
    "#we plot their absolute values here.\n",
    "\n",
    "plt.semilogy(sorted(_np.abs(pygsti.algorithms.germselection.test_germ_list_infl(gs_real,refGermList2,returnSpectrum=True)[1])),'o',label='Original germs')\n",
    "plt.semilogy(sorted(_np.abs(pygsti.algorithms.germselection.test_germ_list_infl(gs_real,germList2,returnSpectrum=True)[1])),'o',label='DD germs')\n",
    "\n",
    "plt.axvline(pygsti.algorithms.germselection.num_non_spam_gauge_params(gs_real))\n",
    "plt.legend(loc='best')"
   ]
  },
  {
   "cell_type": "code",
   "execution_count": null,
   "metadata": {
    "collapsed": false
   },
   "outputs": [],
   "source": [
    "pygsti.io.write_gatestring_list(os.path.join(basedir,\"MyGermsLong.txt\"), germList1, \"My germ gate strings\")\n",
    "pygsti.io.write_gatestring_list(os.path.join(basedir,\"MyGerms.txt\"), germList2, \"My germ gate strings, optimised to reduce the number of germs\")\n",
    "pygsti.io.write_gatestring_list(os.path.join(basedir,\"RefGerms.txt\"), refGermList2, \"Reference germ gate strings\")"
   ]
  },
  {
   "cell_type": "code",
   "execution_count": null,
   "metadata": {
    "collapsed": false
   },
   "outputs": [],
   "source": [
    "for germ in germList2:\n",
    "    print germ"
   ]
  },
  {
   "cell_type": "code",
   "execution_count": null,
   "metadata": {
    "collapsed": true
   },
   "outputs": [],
   "source": []
  }
 ],
 "metadata": {
  "kernelspec": {
   "display_name": "Python 2",
   "language": "python",
   "name": "python2"
  },
  "language_info": {
   "codemirror_mode": {
    "name": "ipython",
    "version": 2
   },
   "file_extension": ".py",
   "mimetype": "text/x-python",
   "name": "python",
   "nbconvert_exporter": "python",
   "pygments_lexer": "ipython2",
   "version": "2.7.3"
  }
 },
 "nbformat": 4,
 "nbformat_minor": 2
}
