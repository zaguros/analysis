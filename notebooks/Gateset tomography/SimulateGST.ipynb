{
 "cells": [
  {
   "cell_type": "code",
   "execution_count": null,
   "metadata": {
    "collapsed": true,
    "deletable": true,
    "editable": true
   },
   "outputs": [],
   "source": [
    "#Import relevant modules.\n",
    "import pygsti\n",
    "import numpy as _np\n",
    "\n",
    "import matplotlib.pyplot as plt\n",
    "%matplotlib inline\n",
    "\n",
    "import time\n",
    "import os\n",
    "import pickle\n",
    "\n",
    "basedir = 'D:/measuring/analysis/notebooks/Gateset tomography'"
   ]
  },
  {
   "cell_type": "code",
   "execution_count": null,
   "metadata": {
    "collapsed": true,
    "deletable": true,
    "editable": true
   },
   "outputs": [],
   "source": [
    "#Create maximum lengths list\n",
    "maxLengths = [0,1,2,4,8,16,32]\n",
    "\n",
    "pickle.dump( maxLengths, open(os.path.join(basedir,\"MyMaxLengths.pkl\"), \"wb\"))"
   ]
  },
  {
   "cell_type": "code",
   "execution_count": null,
   "metadata": {
    "collapsed": false,
    "deletable": true,
    "editable": true
   },
   "outputs": [],
   "source": [
    "#Construct a target gateset\n",
    "gs_target = pygsti.construction.build_gateset([2],[('Q0',)], [u'Gx',u'Gy',u'Gu',u'Gv'], \n",
    "                                             [ \"X(pi/2,Q0)\", \"Y(pi/2,Q0)\",\"X(pi,Q0)\",\"Y(pi,Q0)\"],\n",
    "                                             prepLabels=['rho0'], prepExpressions=[\"0\"],\n",
    "                                             effectLabels=['E0'], effectExpressions=[\"1\"], \n",
    "                                             spamdefs={'plus': ('rho0','E0'), 'minus': ('rho0','remainder') } )\n",
    "\n",
    "pygsti.io.write_gateset(gs_target, os.path.join(basedir,\"MyTargetGateset.txt\") )"
   ]
  },
  {
   "cell_type": "code",
   "execution_count": null,
   "metadata": {
    "collapsed": false,
    "deletable": true,
    "editable": true
   },
   "outputs": [],
   "source": [
    "# Load in fiducials, germs, maxLengths:\n",
    "measFidList = pygsti.io.load_gatestring_list(os.path.join(basedir,\"MeasFiducials.txt\"))\n",
    "prepFidList = pygsti.io.load_gatestring_list(os.path.join(basedir,\"PrepFiducials.txt\"))\n",
    "germList = pygsti.io.load_gatestring_list(os.path.join(basedir,\"MyGerms.txt\"))\n",
    "maxLengths = pickle.load( open(os.path.join(basedir,\"MyMaxLengths.pkl\")))\n",
    "\n",
    "#Create a list of GST experiments for this gateset, with\n",
    "#the specified fiducials, germs, and maximum lengths\n",
    "listOfExperiments = pygsti.construction.make_lsgst_experiment_list(gs_target.gates.keys(), prepFidList, measFidList, germList, maxLengths)\n",
    "\n",
    "#Create an empty dataset file, which stores the list of experiments\n",
    "#plus extra columns where data can be inserted\n",
    "pygsti.io.write_empty_dataset(os.path.join(basedir,\"MyDataTemplate.txt\"), listOfExperiments,\n",
    "                              \"## Columns = plus count, count total\")"
   ]
  },
  {
   "cell_type": "code",
   "execution_count": null,
   "metadata": {
    "collapsed": true,
    "deletable": true,
    "editable": true
   },
   "outputs": [],
   "source": [
    "#Create a gateset of depolarized gates and SPAM relative to target, and generate fake data using this gateset.\n",
    "gs_datagen = gs_target.depolarize(gate_noise=0.05, spam_noise=0.001)\n",
    "ds = pygsti.construction.generate_fake_data(gs_datagen, listOfExperiments, nSamples=10000,\n",
    "                                            sampleError=\"binomial\", seed=2015)\n",
    "\n",
    "#Save our dataset\n",
    "pygsti.io.write_dataset(os.path.join(basedir,\"MyDataset.txt\"), ds)"
   ]
  },
  {
   "cell_type": "code",
   "execution_count": null,
   "metadata": {
    "collapsed": false,
    "deletable": true,
    "editable": true
   },
   "outputs": [],
   "source": [
    "#Note; to load the dataset back again, do:\n",
    "#ds = pygsti.io.load_dataset(\"tutorial_files/MyDataset.txt\")\n",
    "\n",
    "gs_target.set_all_parameterizations(\"TP\")\n",
    "results = pygsti.do_long_sequence_gst(os.path.join(basedir,\"MyDataset.txt\"), gs_target, \n",
    "                                        prepFidList, measFidList, germList, maxLengths,\n",
    "                                        gaugeOptParams={'itemWeights': {'spam': 1e-3, 'gates': 1.0}})\n",
    "\n",
    "s = pickle.dumps(results)\n",
    "r2 = pickle.loads(s)\n",
    "print(r2.gatesets['final estimate'])"
   ]
  },
  {
   "cell_type": "code",
   "execution_count": null,
   "metadata": {
    "collapsed": false,
    "deletable": true,
    "editable": true
   },
   "outputs": [],
   "source": [
    "results.create_brief_report_pdf(confidenceLevel=95, filename=os.path.join(basedir,\"easy_brief.pdf\"), verbosity=2)\n"
   ]
  },
  {
   "cell_type": "code",
   "execution_count": null,
   "metadata": {
    "collapsed": true,
    "deletable": true,
    "editable": true
   },
   "outputs": [],
   "source": [
    "#create a full GST report (most detailed and pedagogical; best for those getting familiar with GST)\n",
    "results.create_full_report_pdf(confidenceLevel=95, filename=os.path.join(basedir,\"easy_full.pdf\"), verbosity=2)"
   ]
  }
 ],
 "metadata": {
  "kernelspec": {
   "display_name": "Python 2",
   "language": "python",
   "name": "python2"
  },
  "language_info": {
   "codemirror_mode": {
    "name": "ipython",
    "version": 2
   },
   "file_extension": ".py",
   "mimetype": "text/x-python",
   "name": "python",
   "nbconvert_exporter": "python",
   "pygments_lexer": "ipython2",
   "version": "2.7.3"
  }
 },
 "nbformat": 4,
 "nbformat_minor": 2
}
