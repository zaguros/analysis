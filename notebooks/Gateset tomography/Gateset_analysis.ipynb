{
 "cells": [
  {
   "cell_type": "code",
   "execution_count": null,
   "metadata": {
    "collapsed": false,
    "deletable": true,
    "editable": true
   },
   "outputs": [],
   "source": [
    "import sys\n",
    "import numpy as np\n",
    "\n",
    "sys.path.append(r'D:/measuring')\n",
    "sys.path.append(r'D:/measuring/analysis')\n",
    "\n",
    "from analysis.scripts.Gateset_tomography import gateset_analysis as a; reload(a)\n",
    "from analysis.lib.m2.ssro import mbi\n",
    "from analysis.lib.tools import toolbox as tb\n",
    "reload(mbi); reload(tb)\n",
    "import matplotlib.pyplot as plt"
   ]
  },
  {
   "cell_type": "code",
   "execution_count": null,
   "metadata": {
    "collapsed": false,
    "deletable": true,
    "editable": true
   },
   "outputs": [],
   "source": [
    "reload(a)\n",
    "a.analysis_gateset(contains = 'Gate',\n",
    "                     correct_ionization = False, base_folder=r'D:/TUD277459/Desktop')"
   ]
  },
  {
   "cell_type": "code",
   "execution_count": null,
   "metadata": {
    "collapsed": false,
    "deletable": true,
    "editable": true,
    "scrolled": true
   },
   "outputs": [],
   "source": [
    "reload (a)\n",
    "a.create_pygsti_report( '/MyTargetGateset.txt', \"/PrepFiducials.txt\",  \"/MeasFiducials.txt\", \"/MyGerms.txt\", \"/MyMaxLengths.pkl\", \n",
    "                        \"/Dataset_no_RO_correction.txt\", contains = 'Gate', base_folder=r'D:/TUD277459/Desktop', gauge_ratio = 1.0e-3, constrainToTP=True, full_pdf = False, easy_pdf = False)"
   ]
  },
  {
   "cell_type": "code",
   "execution_count": null,
   "metadata": {
    "collapsed": false,
    "deletable": true,
    "editable": true
   },
   "outputs": [],
   "source": [
    "reload(a)\n",
    "a.simulate_gateset_results('/MyTargetGateset.txt', \"/PrepFiducials.txt\",  \"/MeasFiducials.txt\", \"/MyGerms.txt\", \"/MyMaxLengths.pkl\", \n",
    "                        \"/Dataset_no_RO_correction.txt\", contains = 'Gate', base_folder=r'D:/TUD277459/Desktop', gauge_ratio = 1.0e-3, constrainToTP=True)\n",
    "\n",
    "\n",
    "\n"
   ]
  },
  {
   "cell_type": "code",
   "execution_count": null,
   "metadata": {
    "collapsed": true
   },
   "outputs": [],
   "source": []
  }
 ],
 "metadata": {
  "kernelspec": {
   "display_name": "Python 2",
   "language": "python",
   "name": "python2"
  }
 },
 "nbformat": 4,
 "nbformat_minor": 0
}
