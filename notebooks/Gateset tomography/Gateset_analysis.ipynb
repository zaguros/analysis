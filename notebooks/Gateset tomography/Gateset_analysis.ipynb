{
 "cells": [
  {
   "cell_type": "code",
   "execution_count": null,
   "metadata": {
    "collapsed": false
   },
   "outputs": [],
   "source": [
    "import sys\n",
    "import numpy as np\n",
    "\n",
    "sys.path.append(r'D:/measuring')\n",
    "sys.path.append(r'D:/measuring/analysis')\n",
    "\n",
    "from analysis.scripts.Gateset_tomography import gateset_analysis as a; reload(a)\n",
    "from analysis.lib.m2.ssro import mbi\n",
    "from analysis.lib.tools import toolbox as tb\n",
    "reload(mbi); reload(tb)\n",
    "import matplotlib.pyplot as plt"
   ]
  },
  {
   "cell_type": "code",
   "execution_count": null,
   "metadata": {
    "collapsed": false
   },
   "outputs": [],
   "source": [
    "reload(a)\n",
    "a.analysis_gateset(timestamp=  '20171005/170330', contains = 'Gate',\n",
    "                     correct_ionization = False)"
   ]
  },
  {
   "cell_type": "code",
   "execution_count": null,
   "metadata": {
    "collapsed": false,
    "scrolled": true
   },
   "outputs": [],
   "source": [
    "reload (a)\n",
    "a.create_pygsti_report('/Target_Gateset.txt', \"/PrepFiducials.txt\",  \"/MeasFiducials.txt\", \"/MyGerms.txt\", \"/MyMaxLengths.pkl\", \n",
    "                        \"/Dataset_no_RO_correction.txt\", contains = 'Gate',timestamp = '20171005/170330', gauge_ratio = 1.0e-3, constrainToTP=True, full_pdf = False, easy_pdf = True)"
   ]
  },
  {
   "cell_type": "code",
   "execution_count": null,
   "metadata": {
    "collapsed": true
   },
   "outputs": [],
   "source": [
    "\n",
    "\n",
    "\n",
    "\n"
   ]
  }
 ],
 "metadata": {
  "kernelspec": {
   "display_name": "Python 2",
   "language": "python",
   "name": "python2"
  },
  "language_info": {
   "codemirror_mode": {
    "name": "ipython",
    "version": 2
   },
   "file_extension": ".py",
   "mimetype": "text/x-python",
   "name": "python",
   "nbconvert_exporter": "python",
   "pygments_lexer": "ipython2",
   "version": "2.7.3"
  }
 },
 "nbformat": 4,
 "nbformat_minor": 0
}
