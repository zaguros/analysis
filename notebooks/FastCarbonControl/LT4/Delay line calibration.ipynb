{
 "cells": [
  {
   "cell_type": "code",
   "execution_count": null,
   "metadata": {
    "collapsed": false
   },
   "outputs": [],
   "source": [
    "import os\n",
    "\n",
    "if os.name == 'nt':\n",
    "    measuring_root = \"D:/measuring\"\n",
    "else:\n",
    "    measuring_root = \"/Users/jesse/Thesis/Code\"\n",
    "    \n",
    "execfile(os.path.join(measuring_root, \"analysis/scripts/setup_analysis.py\"))\n",
    "import analysis.lib.purification.purify_delayfb as pu_delayfb;reload(pu_delayfb)\n",
    "%matplotlib inline"
   ]
  },
  {
   "cell_type": "markdown",
   "metadata": {},
   "source": [
    "## Variable delay line calibration"
   ]
  },
  {
   "cell_type": "code",
   "execution_count": null,
   "metadata": {
    "collapsed": false
   },
   "outputs": [],
   "source": [
    "from analysis.scripts.bell import calibration_tools\n",
    "reload(calibration_tools)\n",
    "folder=tb.latest_data('VariableDelay_Calibration', older_than=)\n",
    "print folder\n",
    "fig, ax = plt.subplots(1,1, figsize=(4.5,4))\n",
    "fit=calibration_tools.fit_gaussian(folder, x0_guess=1300,a_guess=0.4, ax=ax)#, info_xy=(0.88,ymin-(ymax-ymin)*0.35))\n",
    "#fit=calibration_tools.fit_parabolic(folder, x0_guess=1e-9,a_guess=-2e14,of_guess=0.02, ax=ax, info_xy=(-5e-9,-0.02))\n",
    "fit_result=calibration_tools.plot_result(folder, ax=ax, ret=True)\n",
    "#ax.set_ylim(0,1.)\n",
    "print 'fitted infidelity', np.round(1-fit['params'][0]-fit['params'][2],3)\n",
    "print 'Fitted minimum at ', np.round(fit['params'][1],3)"
   ]
  },
  {
   "cell_type": "code",
   "execution_count": null,
   "metadata": {
    "collapsed": false
   },
   "outputs": [],
   "source": [
    "folder= tb.latest_data('VariableDelay_CheckCalib')\n",
    "a=sequence.SequenceAnalysis(folder)\n",
    "a.get_sweep_pts()\n",
    "a.get_readout_results(name='ssro')\n",
    "a.get_electron_ROC()\n",
    "ax = a.plot_result_vs_sweepparam(ret='ax', name='ssro')\n",
    "ax.set_ylim(0.8, 1.0)"
   ]
  },
  {
   "cell_type": "code",
   "execution_count": null,
   "metadata": {
    "collapsed": true
   },
   "outputs": [],
   "source": []
  }
 ],
 "metadata": {
  "kernelspec": {
   "display_name": "Python 2",
   "language": "python",
   "name": "python2"
  },
  "language_info": {
   "codemirror_mode": {
    "name": "ipython",
    "version": 2
   },
   "file_extension": ".py",
   "mimetype": "text/x-python",
   "name": "python",
   "nbconvert_exporter": "python",
   "pygments_lexer": "ipython2",
   "version": "2.7.13"
  }
 },
 "nbformat": 4,
 "nbformat_minor": 0
}
