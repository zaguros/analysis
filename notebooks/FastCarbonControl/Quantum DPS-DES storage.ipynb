{
 "cells": [
  {
   "cell_type": "code",
   "execution_count": null,
   "metadata": {
    "collapsed": false
   },
   "outputs": [],
   "source": [
    "import os\n",
    "\n",
    "if os.name == 'nt':\n",
    "    measuring_root = \"D:/measuring\"\n",
    "else:\n",
    "    measuring_root = \"/Users/jesse/Thesis/Code\"\n",
    "\n",
    "execfile(os.path.join(measuring_root, \"analysis/scripts/setup_analysis.py\"))\n",
    "import analysis.lib.purification.purify_delayfb as pu_delayfb\n",
    "reload(pu_delayfb)\n",
    "import analysis.lib.fastcarboncontrol.fcc as fcc\n",
    "reload(fcc)\n",
    "import matplotlib as mpl\n",
    "mpl.style.use('seaborn-bright')\n",
    "%matplotlib inline"
   ]
  },
  {
   "cell_type": "code",
   "execution_count": null,
   "metadata": {
    "collapsed": false
   },
   "outputs": [],
   "source": [
    "msmts = {\n",
    "    \"Q-DPS\": {\n",
    "        \"ots\": [\n",
    "            \"20170720155000\",\n",
    "            \"20170720174400\",\n",
    "        ],\n",
    "        \"tomos\": [\n",
    "            \"XX\",\n",
    "            \"YY\",\n",
    "            \"ZZ\",\n",
    "            \"XY\",\n",
    "            \"YX\",\n",
    "        ]\n",
    "    },\n",
    "    \"Q-DES\": {\n",
    "        \"ots\": [\n",
    "            \"20170720163100\",\n",
    "        ],\n",
    "        \"tomos\": [\n",
    "            \"XX\",\n",
    "            \"YY\",\n",
    "            \"ZZ\",\n",
    "            \"XY\",\n",
    "            \"YX\",\n",
    "        ]\n",
    "    },\n",
    "    \"cl-1\" : {\n",
    "        \"ots\": [\n",
    "            \"20170720170600\",\n",
    "        ],\n",
    "        \"tomos\": [\n",
    "            \"XI\",\n",
    "            \"IX\",\n",
    "            \"XX\"\n",
    "        ],\n",
    "    },\n",
    "    \"cl-2\": {\n",
    "        \"ots\": [\n",
    "            \"20170720172200\"\n",
    "        ],\n",
    "        \"tomos\": [\n",
    "            \"45.045.0\",\n",
    "            \"45.0-45.0\"\n",
    "        ]\n",
    "    }\n",
    "}"
   ]
  },
  {
   "cell_type": "code",
   "execution_count": null,
   "metadata": {
    "collapsed": false,
    "scrolled": true
   },
   "outputs": [],
   "source": [
    "import copy\n",
    "msmts_and_data = copy.copy(msmts)\n",
    "\n",
    "for m in msmts.iterkeys():\n",
    "    print(\"Msmt: \"+m)\n",
    "    ots = msmts[m][\"ots\"]\n",
    "    msmts_and_data[m][\"tomos_data\"] = dict()\n",
    "    for t in msmts[m][\"tomos\"]:\n",
    "        print(\"Tomo: %s - %s\" % (m, t))\n",
    "        data = dict()\n",
    "        data[\"x\"], data[\"y\"], data[\"y_u\"], data[\"fr\"] = \\\n",
    "        pu_delayfb.number_of_repetitions_stitched(\n",
    "            contains=\"phase_fb_delayline\",\n",
    "            older_thans=ots,\n",
    "            do_fit=True,\n",
    "            x_only=True,\n",
    "            tomo_basis=t,\n",
    "            fit_n=1.0,\n",
    "            fixed=[0,2,5,6,4],\n",
    "            ret_data_fit=True\n",
    "        )\n",
    "        msmts_and_data[m][\"tomos_data\"][t] = data"
   ]
  },
  {
   "cell_type": "markdown",
   "metadata": {},
   "source": [
    "# Quantum DPS measurements"
   ]
  },
  {
   "cell_type": "code",
   "execution_count": null,
   "metadata": {
    "collapsed": false
   },
   "outputs": [],
   "source": [
    "fig = plt.figure()\n",
    "ax = plt.subplot()\n",
    "\n",
    "tomos_data = msmts_and_data[\"Q-DPS\"][\"tomos_data\"]\n",
    "\n",
    "i = 0\n",
    "\n",
    "tomo_order = [\"XX\", \"YY\", \"ZZ\", \"XY\", \"YX\"]\n",
    "fit_xvals = np.linspace(0.,1000., 2000.)\n",
    "\n",
    "for t in tomo_order:\n",
    "    plt.errorbar(\n",
    "        tomos_data[t][\"x\"], tomos_data[t][\"y\"], tomos_data[t][\"y_u\"], \n",
    "        fmt='o', color=\"C%d\" % i, \n",
    "        label = r\"$\\langle %s \\rangle$, $N_{1/e} = %d \\pm %d$\" % (t, np.round(tomos_data[t][\"fr\"]['params_dict']['T']),\n",
    "                                                                 np.round(tomos_data[t][\"fr\"]['error_dict']['T']))\n",
    "    )\n",
    "    \n",
    "    plt.plot(fit_xvals, tomos_data[t][\"fr\"]['fitfunc'](fit_xvals), color=\"C%d\" % i)\n",
    "    \n",
    "    i += 1\n",
    "    \n",
    "plt.ylim(-1,1)\n",
    "plt.xlim(0,1000)\n",
    "\n",
    "plt.xlabel(\"Number of LDE attempts\")\n",
    "plt.ylabel(r\"Expectation value\")\n",
    "\n",
    "lgd = plt.legend(loc=2, bbox_to_anchor=(1,1))\n",
    "\n",
    "plt.savefig(\"quantum-dps-storage.png\", dpi=300, bbox_extra_artists=(lgd,), bbox_inches='tight')"
   ]
  },
  {
   "cell_type": "markdown",
   "metadata": {},
   "source": [
    "# Quantum DES measurements"
   ]
  },
  {
   "cell_type": "code",
   "execution_count": null,
   "metadata": {
    "collapsed": false
   },
   "outputs": [],
   "source": [
    "fig = plt.figure()\n",
    "ax = plt.subplot()\n",
    "\n",
    "tomos_data = msmts_and_data[\"Q-DES\"][\"tomos_data\"]\n",
    "\n",
    "i = 0\n",
    "\n",
    "tomo_order = [\"XX\", \"YY\", \"ZZ\", \"XY\", \"YX\"]\n",
    "fit_xvals = np.linspace(0.,1000., 2000.)\n",
    "\n",
    "for t in tomo_order:\n",
    "    plt.errorbar(\n",
    "        tomos_data[t][\"x\"], tomos_data[t][\"y\"], tomos_data[t][\"y_u\"], \n",
    "        fmt='o', color=\"C%d\" % i, \n",
    "        label = r\"$\\langle %s \\rangle$, $N_{1/e} = %d \\pm %d$\" % (t, np.round(tomos_data[t][\"fr\"]['params_dict']['T']),\n",
    "                                                                 np.round(tomos_data[t][\"fr\"]['error_dict']['T']))\n",
    "    )\n",
    "    \n",
    "    plt.plot(fit_xvals, tomos_data[t][\"fr\"]['fitfunc'](fit_xvals), color=\"C%d\" % i)\n",
    "    \n",
    "    i += 1\n",
    "    \n",
    "plt.ylim(-1,1)\n",
    "plt.xlim(0,1000)\n",
    "\n",
    "plt.xlabel(\"Number of LDE attempts\")\n",
    "plt.ylabel(r\"Expectation value\")\n",
    "\n",
    "lgd = plt.legend(loc=2, bbox_to_anchor=(1,1))\n",
    "\n",
    "plt.savefig(\"quantum-des-storage.png\", dpi=300, bbox_extra_artists=(lgd,), bbox_inches='tight')"
   ]
  },
  {
   "cell_type": "markdown",
   "metadata": {},
   "source": [
    "# Classical measurements"
   ]
  },
  {
   "cell_type": "code",
   "execution_count": null,
   "metadata": {
    "collapsed": false
   },
   "outputs": [],
   "source": [
    "fig = plt.figure()\n",
    "ax = plt.subplot()\n",
    "\n",
    "tomos_data = msmts_and_data[\"cl-1\"][\"tomos_data\"].copy()\n",
    "tomos_data.update(msmts_and_data[\"cl-2\"][\"tomos_data\"])\n",
    "\n",
    "i = 0\n",
    "\n",
    "tomo_order = [\"IX\",\"XI\",\"XX\",\"45.0-45.0\",\"45.045.0\"]\n",
    "labels = [\"IX\", \"XI\", \"XX\", \"X+45\\degree, X-45\\degree\", \"X+45\\degree, X+45\\degree\"]\n",
    "fit_xvals = np.linspace(0.,1000., 2000.)\n",
    "\n",
    "for t in tomo_order:\n",
    "    plt.errorbar(\n",
    "        tomos_data[t][\"x\"], tomos_data[t][\"y\"], tomos_data[t][\"y_u\"], \n",
    "        fmt='o', color=\"C%d\" % i, \n",
    "        label = r\"$\\langle %s \\rangle$, $N_{1/e} = %d \\pm %d$\" % (labels[i], np.round(tomos_data[t][\"fr\"]['params_dict']['T']),\n",
    "                                                                 np.round(tomos_data[t][\"fr\"]['error_dict']['T']))\n",
    "    )\n",
    "    \n",
    "    plt.plot(fit_xvals, tomos_data[t][\"fr\"]['fitfunc'](fit_xvals), color=\"C%d\" % i)\n",
    "    \n",
    "    i += 1\n",
    "    \n",
    "plt.ylim(-1,1)\n",
    "plt.xlim(0,1000)\n",
    "\n",
    "plt.xlabel(\"Number of LDE attempts\")\n",
    "plt.ylabel(r\"Expectation value\")\n",
    "\n",
    "lgd = plt.legend(loc=2, bbox_to_anchor=(1,1))\n",
    "\n",
    "plt.savefig(\"classical-des-dps-storage.png\", dpi=300, bbox_extra_artists=(lgd,), bbox_inches='tight')"
   ]
  },
  {
   "cell_type": "code",
   "execution_count": null,
   "metadata": {
    "collapsed": true
   },
   "outputs": [],
   "source": []
  }
 ],
 "metadata": {
  "kernelspec": {
   "display_name": "Python 2",
   "language": "python",
   "name": "python2"
  },
  "language_info": {
   "codemirror_mode": {
    "name": "ipython",
    "version": 2
   },
   "file_extension": ".py",
   "mimetype": "text/x-python",
   "name": "python",
   "nbconvert_exporter": "python",
   "pygments_lexer": "ipython2",
   "version": "2.7.13"
  }
 },
 "nbformat": 4,
 "nbformat_minor": 2
}
