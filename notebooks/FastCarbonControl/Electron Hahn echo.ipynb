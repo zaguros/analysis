{
 "cells": [
  {
   "cell_type": "code",
   "execution_count": null,
   "metadata": {
    "collapsed": false
   },
   "outputs": [],
   "source": [
    "execfile(r'D:\\measuring\\analysis\\scripts\\setup_analysis.py')\n",
    "%matplotlib inline\n",
    "\n",
    "#datadir = r'D:\\measuring\\analysis_data\\delayline'\n",
    "#ssro_calib_folder = r'D:\\measuring\\analysis_data\\delayline\\20170224\\120011_SSRO_calib_MWInit_Pippin_SIL3_SSROCalibration_MWInit'"
   ]
  },
  {
   "cell_type": "code",
   "execution_count": null,
   "metadata": {
    "collapsed": false
   },
   "outputs": [],
   "source": [
    "folder= tb.latest_data('VariableDelay_Defocussing_0T')\n",
    "a=sequence.SequenceAnalysis(folder)\n",
    "a.get_sweep_pts()\n",
    "a.get_readout_results(name='ssro')\n",
    "a.get_electron_ROC()\n",
    "ax = a.plot_result_vs_sweepparam(ret='ax', name='ssro')\n",
    "ax.set_ylim(0.0, 1.0)"
   ]
  },
  {
   "cell_type": "code",
   "execution_count": null,
   "metadata": {
    "collapsed": false
   },
   "outputs": [],
   "source": [
    "folder= tb.latest_data('VariableDelay_Defocussing_1T')#, older_than=\"20170328125814\")\n",
    "a=sequence.SequenceAnalysis(folder)\n",
    "a.get_sweep_pts()\n",
    "a.get_readout_results(name='ssro')\n",
    "a.get_electron_ROC()\n",
    "ax = a.plot_result_vs_sweepparam(ret='ax', name='ssro')\n",
    "ax.set_ylim(0.0, 1.0)\n"
   ]
  },
  {
   "cell_type": "code",
   "execution_count": null,
   "metadata": {
    "collapsed": false
   },
   "outputs": [],
   "source": [
    "from analysis.scripts.bell import calibration_tools\n",
    "reload(calibration_tools)\n",
    "folder=tb.latest_data('VariableDelay_Defocussing_1T')\n",
    "print folder\n",
    "fig, ax = plt.subplots(1,1)\n",
    "\n",
    "x0_guess = -0.380747\n",
    "\n",
    "fit=calibration_tools.fit_parabolic(folder, x0_guess=x0_guess,a_guess=-25,of_guess=1, ax=ax, x_min = x0_guess-0.1, x_max = x0_guess+0.1, do_print=True)\n",
    "fit_result=calibration_tools.plot_result(folder, ax=ax, ret=True)\n",
    "ax.set_ylim(0,1.)\n",
    "print 'fitted infidelity', np.round(1-fit['params'][0],3)\n",
    "print 'Fitted minimum at ', np.round(fit['params'][2],3)"
   ]
  },
  {
   "cell_type": "code",
   "execution_count": null,
   "metadata": {
    "collapsed": false
   },
   "outputs": [],
   "source": [
    "folder= tb.latest_data('VariableDelay_HahnEcho_0T')#, older_than=\"20170328125814\")\n",
    "a=sequence.SequenceAnalysis(folder)\n",
    "a.get_sweep_pts()\n",
    "a.get_readout_results(name='ssro')\n",
    "a.get_electron_ROC()\n",
    "ax = a.plot_result_vs_sweepparam(ret='ax', name='ssro')\n",
    "ax.set_ylim(0.0, 1.0)"
   ]
  },
  {
   "cell_type": "code",
   "execution_count": null,
   "metadata": {
    "collapsed": false
   },
   "outputs": [],
   "source": [
    "folder= tb.latest_data('VariableDelay_HahnEcho_2T')#, older_than=\"20170328125814\")\n",
    "a=sequence.SequenceAnalysis(folder)\n",
    "a.get_sweep_pts()\n",
    "a.get_readout_results(name='ssro')\n",
    "a.get_electron_ROC()\n",
    "ax = a.plot_result_vs_sweepparam(ret='ax', name='ssro')\n",
    "ax.set_ylim(0.0, 1.0)"
   ]
  },
  {
   "cell_type": "code",
   "execution_count": null,
   "metadata": {
    "collapsed": true
   },
   "outputs": [],
   "source": []
  }
 ],
 "metadata": {
  "kernelspec": {
   "display_name": "Python 2",
   "language": "python",
   "name": "python2"
  },
  "language_info": {
   "codemirror_mode": {
    "name": "ipython",
    "version": 2
   },
   "file_extension": ".py",
   "mimetype": "text/x-python",
   "name": "python",
   "nbconvert_exporter": "python",
   "pygments_lexer": "ipython2",
   "version": "2.7.3"
  }
 },
 "nbformat": 4,
 "nbformat_minor": 0
}
