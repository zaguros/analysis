{
 "cells": [
  {
   "cell_type": "code",
   "execution_count": null,
   "metadata": {
    "collapsed": false
   },
   "outputs": [],
   "source": [
    "import os\n",
    "\n",
    "if os.name == 'nt':\n",
    "    measuring_root = \"D:/measuring\"\n",
    "else:\n",
    "    measuring_root = \"/Users/jesse/Thesis/Code\"\n",
    "\n",
    "execfile(os.path.join(measuring_root, \"analysis/scripts/setup_analysis.py\"))\n",
    "import analysis.lib.purification.purify_delayfb as pu_delayfb;reload(pu_delayfb)\n",
    "import analysis.lib.fastcarboncontrol.fcc as fcc; reload(fcc)\n",
    "\n",
    "from analysis.lib.fitting import common, fit; reload(common); reload(fit)\n",
    "\n",
    "import matplotlib as mpl\n",
    "mpl.style.use('seaborn-bright')\n",
    "%matplotlib inline\n",
    "def savefig(name):\n",
    "    plt.savefig(name + \".png\", dpi=300, bbox_inches='tight')\n",
    "    plt.savefig(name + \".pdf\", bbox_inches='tight')"
   ]
  },
  {
   "cell_type": "code",
   "execution_count": null,
   "metadata": {
    "collapsed": false
   },
   "outputs": [],
   "source": [
    "reload(pu_delayfb)\n",
    "\n",
    "det6_ts = 20170531141332\n",
    "det12_ts  = 20170531142610\n",
    "\n",
    "det6_x, det6_y, det6_y_u, det6_fr = pu_delayfb.calibrate_LDE_phase(\n",
    "    contains=\"phase_fb_delayline\", older_than=str(det6_ts + 1), do_fit=True, ret_data_fit=True,\n",
    "    fixed=[0,1]\n",
    ")\n",
    "\n",
    "det12_x, det12_y, det12_y_u, det12_fr = pu_delayfb.calibrate_LDE_phase(\n",
    "    contains=\"phase_fb_delayline\", older_than=str(det12_ts + 1), do_fit=True, ret_data_fit=True,\n",
    "    fixed=[0,1]\n",
    ")"
   ]
  },
  {
   "cell_type": "code",
   "execution_count": null,
   "metadata": {
    "collapsed": false
   },
   "outputs": [],
   "source": [
    "plt.figure()\n",
    "\n",
    "eb6 = plt.errorbar(det6_x, det6_y, det6_y_u, fmt='o', label=r'$6\\degree$ over-rotation')\n",
    "eb12 = plt.errorbar(det12_x, det12_y, det12_y_u, fmt='o', label=r'$12\\degree$ over-rotation')\n",
    "\n",
    "def avg_param(param):\n",
    "    return (det6_fr['params_dict'][param] + det12_fr['params_dict'][param]) / 2.0\n",
    "\n",
    "avg_T = avg_param('t')\n",
    "avg_phi = avg_param('phi')\n",
    "avg_A = avg_param('A')\n",
    "\n",
    "_, ff_6, _ = common.fit_decaying_cos(6./360., 0.0, avg_A, avg_phi, avg_T)\n",
    "_, ff_12, _ = common.fit_decaying_cos(12./360., 0.0, avg_A, avg_phi, avg_T)\n",
    "\n",
    "plot_xvals = np.linspace(0,60,1000)\n",
    "\n",
    "plt.plot(plot_xvals, ff_6(plot_xvals), color=eb6[0].get_color())\n",
    "plt.plot(plot_xvals, ff_12(plot_xvals), color=eb12[0].get_color())\n",
    "\n",
    "plt.xlim(0, 60)\n",
    "plt.ylim(-1, 1)\n",
    "plt.legend(loc=1)\n",
    "plt.xlabel(\"number of LDE attempts\")\n",
    "plt.ylabel(r\"$\\langle X \\rangle$\")\n",
    "savefig(\"thesis-plots/phase-control-detuning\")"
   ]
  },
  {
   "cell_type": "code",
   "execution_count": null,
   "metadata": {
    "collapsed": false
   },
   "outputs": [],
   "source": [
    "avg_phi"
   ]
  },
  {
   "cell_type": "code",
   "execution_count": null,
   "metadata": {
    "collapsed": false
   },
   "outputs": [],
   "source": [
    "2/360.0/443e3"
   ]
  },
  {
   "cell_type": "code",
   "execution_count": null,
   "metadata": {
    "collapsed": true
   },
   "outputs": [],
   "source": [
    "carbons = np.arange(1,8)"
   ]
  },
  {
   "cell_type": "code",
   "execution_count": null,
   "metadata": {
    "collapsed": false
   },
   "outputs": [],
   "source": [
    "import measurement.scripts.lt4_scripts.setup.msmt_params as msmt_params\n",
    "reload(msmt_params)\n",
    "import itertools\n",
    "\n",
    "carbon_combis = list(itertools.combinations(carbons, 2))\n",
    "import scipy.stats\n",
    "\n",
    "freqs = np.zeros((len(carbons) + 2*len(carbon_combis), 3)) # -1, 0, +1\n",
    "T2stars = np.zeros((len(carbons) + 2*len(carbon_combis)))\n",
    "\n",
    "c_idxs = dict()\n",
    "\n",
    "T2_star_us = np.array([\n",
    "    [0.14, 0.15],\n",
    "    [0.26, 0.15],\n",
    "    [0.09, 0.11],\n",
    "    [0.48, 0.33],\n",
    "    [0.05, 0.06],\n",
    "    [0.12, 0.10],\n",
    "    [0.08, 0.10]\n",
    "])\n",
    "\n",
    "T2_star_u = np.sqrt(np.sum(T2_star_us**2, axis=1))\n",
    "\n",
    "for i_c, c in enumerate(carbons):\n",
    "    ms0_freq = msmt_params.cfg['samples']['111no2']['C%d_freq_0' % c]\n",
    "    msp1_freq = msmt_params.cfg['samples']['111no2']['C%d_freq_1_%s' % (c, \"p1\")]\n",
    "    msm1_freq = msmt_params.cfg['samples']['111no2']['C%d_freq_1_%s' % (c, \"m1\")]\n",
    "    T2star_0 = msmt_params.cfg['samples']['111no2']['C%d_T2star_0' % (c)]\n",
    "    T2star_1 = msmt_params.cfg['samples']['111no2']['C%d_T2star_1_%s' % (c, \"m1\")]\n",
    "    \n",
    "    T2star_arr = np.array([T2star_0, T2star_1])\n",
    "    # take the sqrt of the harmonic mean of the squared T2stars\n",
    "    T2star = np.sqrt(scipy.stats.hmean(T2star_arr ** 2))\n",
    "    print(\"avg. T2* for C%d: %.2f\" % (c, T2star * 1e3))\n",
    "    T2stars[i_c] = T2star\n",
    "    \n",
    "    \n",
    "    freqs[i_c,0] = msm1_freq\n",
    "    freqs[i_c,1] = ms0_freq\n",
    "    freqs[i_c,2] = msp1_freq\n",
    "    \n",
    "    print(\"C%d dephasing rate parameter: %.3f kHz\" % (c, 1e-3 * (msp1_freq-msm1_freq)) )\n",
    "#     T2stars[i_c] = T2star\n",
    "    \n",
    "    c_idxs[str(c)] = i_c\n",
    "    \n",
    "# \n",
    "# +1 frequencies of C4 and C5 are interchanged\n",
    "# freqs[3:5,2] = freqs[3:5,2][::-1]\n",
    "    \n",
    "for i_cc, cc in enumerate(carbon_combis):\n",
    "    idx = 2*i_cc + len(carbons)\n",
    "    freqs[idx,:] = (freqs[c_idxs[str(cc[0])],:] + freqs[c_idxs[str(cc[1])],:])\n",
    "    print(\"C%s dephasing rate parameter: %.3f kHz\" % (\"%d%d+\" % cc, 1e-3 * (freqs[idx,2] - freqs[idx,0])) )\n",
    "    c_idxs[\"%d%d+\" % cc] = idx\n",
    "    freqs[idx+1,:] = (freqs[c_idxs[str(cc[0])],:] - freqs[c_idxs[str(cc[1])],:])\n",
    "    print(\"C%s dephasing rate parameter: %.3f kHz\" % (\"%d%d-\" % cc, 1e-3 * (freqs[idx+1,2] - freqs[idx+1,0])) )\n",
    "    c_idxs[\"%d%d-\" % cc] = idx+1\n",
    "    \n",
    "\n",
    "freqs[3,2], freqs[4,2] = freqs[4,2], freqs[3,2]\n",
    "freqs = freqs[0:7,:]\n",
    "    \n",
    "print freqs"
   ]
  },
  {
   "cell_type": "code",
   "execution_count": null,
   "metadata": {
    "collapsed": true
   },
   "outputs": [],
   "source": []
  },
  {
   "cell_type": "code",
   "execution_count": null,
   "metadata": {
    "collapsed": false
   },
   "outputs": [],
   "source": [
    "freqs[0:7,:]"
   ]
  },
  {
   "cell_type": "code",
   "execution_count": null,
   "metadata": {
    "collapsed": false
   },
   "outputs": [],
   "source": [
    "np.mean(freqs[0:7,1])"
   ]
  },
  {
   "cell_type": "code",
   "execution_count": null,
   "metadata": {
    "collapsed": false
   },
   "outputs": [],
   "source": [
    "np.round((freqs[0:7,2] - freqs[0:7,1]) / 1e2)"
   ]
  },
  {
   "cell_type": "code",
   "execution_count": null,
   "metadata": {
    "collapsed": false
   },
   "outputs": [],
   "source": [
    "np.round(freqs[0:7,1] / 1e2)"
   ]
  },
  {
   "cell_type": "code",
   "execution_count": null,
   "metadata": {
    "collapsed": false
   },
   "outputs": [],
   "source": [
    "A_par = (freqs[:,2]**2 - freqs[:,0]**2)/(4*freqs[:,1])\n",
    "A_perp = np.sqrt((freqs[:,2]**2 + freqs[:,0]**2)/2 - freqs[:,1]**2 - A_par**2)"
   ]
  },
  {
   "cell_type": "code",
   "execution_count": null,
   "metadata": {
    "collapsed": false
   },
   "outputs": [],
   "source": [
    "np.round(A_perp / 1e2)"
   ]
  },
  {
   "cell_type": "code",
   "execution_count": null,
   "metadata": {
    "collapsed": false
   },
   "outputs": [],
   "source": [
    "T2_star_u"
   ]
  },
  {
   "cell_type": "code",
   "execution_count": null,
   "metadata": {
    "collapsed": false
   },
   "outputs": [],
   "source": [
    "T2stars[0:7]*1e3"
   ]
  },
  {
   "cell_type": "code",
   "execution_count": null,
   "metadata": {
    "collapsed": false
   },
   "outputs": [],
   "source": [
    "np.round(np.array([443349.78,  442982.61,  442978.96, 442824.75, 443732.93, 443851.31, 443261.6])/1e2)\n"
   ]
  },
  {
   "cell_type": "code",
   "execution_count": null,
   "metadata": {
    "collapsed": true
   },
   "outputs": [],
   "source": []
  }
 ],
 "metadata": {
  "kernelspec": {
   "display_name": "Python 2",
   "language": "python",
   "name": "python2"
  },
  "language_info": {
   "codemirror_mode": {
    "name": "ipython",
    "version": 2
   },
   "file_extension": ".py",
   "mimetype": "text/x-python",
   "name": "python",
   "nbconvert_exporter": "python",
   "pygments_lexer": "ipython2",
   "version": "2.7.13"
  }
 },
 "nbformat": 4,
 "nbformat_minor": 2
}
