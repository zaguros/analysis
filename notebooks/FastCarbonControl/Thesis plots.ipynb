{
 "cells": [
  {
   "cell_type": "code",
   "execution_count": null,
   "metadata": {
    "collapsed": false
   },
   "outputs": [],
   "source": [
    "import os\n",
    "\n",
    "if os.name == 'nt':\n",
    "    measuring_root = \"D:/measuring\"\n",
    "else:\n",
    "    measuring_root = \"/Users/jesse/Thesis/Code\"\n",
    "\n",
    "execfile(os.path.join(measuring_root, \"analysis/scripts/setup_analysis.py\"))\n",
    "import analysis.lib.purification.purify_delayfb as pu_delayfb;reload(pu_delayfb)\n",
    "import analysis.lib.fastcarboncontrol.fcc as fcc; reload(fcc)\n",
    "\n",
    "from analysis.lib.fitting import common, fit; reload(common); reload(fit)\n",
    "\n",
    "import matplotlib as mpl\n",
    "mpl.style.use('seaborn-bright')\n",
    "%matplotlib inline"
   ]
  },
  {
   "cell_type": "code",
   "execution_count": null,
   "metadata": {
    "collapsed": false
   },
   "outputs": [],
   "source": [
    "reload(pu_delayfb)\n",
    "\n",
    "det6_ts = 20170531141332\n",
    "det12_ts  = 20170531142610\n",
    "\n",
    "det6_x, det6_y, det6_y_u, det6_fr = pu_delayfb.calibrate_LDE_phase(\n",
    "    contains=\"phase_fb_delayline\", older_than=str(det6_ts + 1), do_fit=True, ret_data_fit=True,\n",
    "    fixed=[0,1]\n",
    ")\n",
    "\n",
    "det12_x, det12_y, det12_y_u, det12_fr = pu_delayfb.calibrate_LDE_phase(\n",
    "    contains=\"phase_fb_delayline\", older_than=str(det12_ts + 1), do_fit=True, ret_data_fit=True,\n",
    "    fixed=[0,1]\n",
    ")"
   ]
  },
  {
   "cell_type": "code",
   "execution_count": null,
   "metadata": {
    "collapsed": false
   },
   "outputs": [],
   "source": [
    "plt.figure()\n",
    "\n",
    "eb6 = plt.errorbar(det6_x, det6_y, det6_y_u, fmt='o', label=r'$6\\degree$ over-rotation')\n",
    "eb12 = plt.errorbar(det12_x, det12_y, det12_y_u, fmt='o', label=r'$12\\degree$ over-rotation')\n",
    "\n",
    "def avg_param(param):\n",
    "    return (det6_fr['params_dict'][param] + det12_fr['params_dict'][param]) / 2.0\n",
    "\n",
    "avg_T = avg_param('t')\n",
    "avg_phi = avg_param('phi')\n",
    "avg_A = avg_param('A')\n",
    "\n",
    "_, ff_6, _ = common.fit_decaying_cos(6./360., 0.0, avg_A, avg_phi, avg_T)\n",
    "_, ff_12, _ = common.fit_decaying_cos(12./360., 0.0, avg_A, avg_phi, avg_T)\n",
    "\n",
    "plot_xvals = np.linspace(0,60,1000)\n",
    "\n",
    "plt.plot(plot_xvals, ff_6(plot_xvals), color=eb6[0].get_color())\n",
    "plt.plot(plot_xvals, ff_12(plot_xvals), color=eb12[0].get_color())\n",
    "\n",
    "plt.xlim(0, 60)\n",
    "plt.ylim(-1, 1)\n",
    "plt.legend(loc=1)\n",
    "plt.xlabel(\"Number of LDE attempts\")\n",
    "plt.ylabel(r\"Nuclear expectation value $\\langle X \\rangle$\")\n",
    "plt.savefig(\"thesis-plots/phase-control-detuning.png\", dpi=300)"
   ]
  },
  {
   "cell_type": "code",
   "execution_count": null,
   "metadata": {
    "collapsed": false
   },
   "outputs": [],
   "source": [
    "avg_phi"
   ]
  },
  {
   "cell_type": "code",
   "execution_count": null,
   "metadata": {
    "collapsed": false
   },
   "outputs": [],
   "source": [
    "2/360.0/443e3"
   ]
  },
  {
   "cell_type": "code",
   "execution_count": null,
   "metadata": {
    "collapsed": true
   },
   "outputs": [],
   "source": []
  }
 ],
 "metadata": {
  "kernelspec": {
   "display_name": "Python 2",
   "language": "python",
   "name": "python2"
  },
  "language_info": {
   "codemirror_mode": {
    "name": "ipython",
    "version": 2
   },
   "file_extension": ".py",
   "mimetype": "text/x-python",
   "name": "python",
   "nbconvert_exporter": "python",
   "pygments_lexer": "ipython2",
   "version": "2.7.13"
  }
 },
 "nbformat": 4,
 "nbformat_minor": 2
}
