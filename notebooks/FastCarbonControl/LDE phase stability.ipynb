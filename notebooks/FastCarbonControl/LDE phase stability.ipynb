{
 "cells": [
  {
   "cell_type": "code",
   "execution_count": null,
   "metadata": {
    "collapsed": false
   },
   "outputs": [],
   "source": [
    "import os\n",
    "\n",
    "if os.name == 'nt':\n",
    "    measuring_root = \"D:/measuring\"\n",
    "else:\n",
    "    measuring_root = \"/Users/jesse/Thesis/Code\"\n",
    "    \n",
    "execfile(os.path.join(measuring_root, \"analysis/scripts/setup_analysis.py\"))\n",
    "import analysis.lib.purification.purify_delayfb as pu_delayfb\n",
    "from analysis.lib.tools import toolbox\n",
    "reload(pu_delayfb)\n",
    "%matplotlib inline"
   ]
  },
  {
   "cell_type": "code",
   "execution_count": null,
   "metadata": {
    "collapsed": false
   },
   "outputs": [],
   "source": [
    "ts_start = \"20170801232700\"\n",
    "ts_end = \"20170803130500\"\n",
    "\n",
    "f_template = \"LDE_phase_calibration_C%d\"\n",
    "\n",
    "carbons = [2,4,5,3,6,7]\n",
    "folders = {}\n",
    "for c in carbons:\n",
    "    folders[str(c)] = toolbox.latest_data(contains=f_template % c, newer_than=ts_start, older_than=ts_end, return_all=True)[::-1]"
   ]
  },
  {
   "cell_type": "code",
   "execution_count": null,
   "metadata": {
    "collapsed": false
   },
   "outputs": [],
   "source": [
    "reload(pu_delayfb)\n",
    "\n",
    "data = {}\n",
    "\n",
    "for c in carbons:\n",
    "    data[str(c)] = dict()\n",
    "    for f in folders[str(c)]:\n",
    "        dt_str = \"\".join(toolbox.get_date_time_string_from_folder(f))\n",
    "        data[str(c)][dt_str] = pu_delayfb.calibrate_LDE_phase(\n",
    "            folder=f, \n",
    "            older_than=ts_end,\n",
    "            fixed=[1],\n",
    "            show_guess=True,\n",
    "            phi0=180.0,\n",
    "            ret=True,\n",
    "            show_plot=True,\n",
    "            do_fit=True\n",
    "        )"
   ]
  },
  {
   "cell_type": "code",
   "execution_count": null,
   "metadata": {
    "collapsed": false
   },
   "outputs": [],
   "source": [
    "time_points = len(folders['2'])\n",
    "\n",
    "phase_dev = np.zeros((len(carbons), time_points))\n",
    "phase_dev_u = np.zeros_like(phase_dev)\n",
    "times = np.zeros_like(phase_dev)\n",
    "\n",
    "first_ts = toolbox.get_datetime_from_folder(folders['2'][0])\n",
    "\n",
    "for i_c, c in enumerate(carbons):\n",
    "    c_key = str(c)\n",
    "    for i_dt, dt in enumerate(data[c_key].iterkeys()):\n",
    "        phase_dev[i_c,i_dt] = data[c_key][dt]['acq_phase_per_rep']\n",
    "        phase_dev_u[i_c,i_dt] = data[c_key][dt]['u_acq_phase_per_rep']\n",
    "        times[i_c,i_dt] = (toolbox.datetime_from_timestamp(dt) - first_ts).total_seconds()"
   ]
  },
  {
   "cell_type": "code",
   "execution_count": null,
   "metadata": {
    "collapsed": false
   },
   "outputs": [],
   "source": [
    "import measurement.scripts.lt4_scripts.setup.msmt_params as msmt_params\n",
    "reload(msmt_params)\n",
    "\n",
    "trans = \"m1\"\n",
    "\n",
    "couplings = []\n",
    "deviations = []\n",
    "\n",
    "for c in carbons:\n",
    "    print (\"Carbon: %d\" % c)\n",
    "    ms0_freq = msmt_params.cfg['samples']['111no2']['C%d_freq_0' % c]\n",
    "    ms1_freq = msmt_params.cfg['samples']['111no2']['C%d_freq_1_%s' % (c, trans)]\n",
    "    avg_freq = msmt_params.cfg['samples']['111no2']['C%d_freq_%s' % (c, trans)]\n",
    "    \n",
    "    parallel_coupling = ms1_freq - ms0_freq\n",
    "    print(\"parallel coupling (kHz): \\t%.3f\" % (parallel_coupling*1e-3))\n",
    "    \n",
    "    couplings.append(parallel_coupling)\n",
    "    \n",
    "couplings = np.array(couplings) * 1e-3"
   ]
  },
  {
   "cell_type": "code",
   "execution_count": null,
   "metadata": {
    "collapsed": false
   },
   "outputs": [],
   "source": [
    "plt.figure(figsize=(10,10))\n",
    "\n",
    "i_offset = 0\n",
    "for i_c in np.argsort(couplings):\n",
    "    c = carbons[i_c]\n",
    "    plt.errorbar(times[i_c,:]/3600, phase_dev[i_c,:]+i_offset, phase_dev_u[i_c,:], fmt='o', label=\"C%d (%d kHz)\" % (c, couplings[i_c]))\n",
    "    i_offset += 1\n",
    "\n",
    "plt.legend(loc=2, bbox_to_anchor=(1,1))\n",
    "plt.xlabel(\"time (h)\")\n",
    "plt.ylabel(\"LDE phase deviation (degrees)\")"
   ]
  },
  {
   "cell_type": "code",
   "execution_count": null,
   "metadata": {
    "collapsed": false
   },
   "outputs": [],
   "source": [
    "np.argsort(couplings)"
   ]
  },
  {
   "cell_type": "code",
   "execution_count": null,
   "metadata": {
    "collapsed": true
   },
   "outputs": [],
   "source": []
  }
 ],
 "metadata": {
  "kernelspec": {
   "display_name": "Python 2",
   "language": "python",
   "name": "python2"
  },
  "language_info": {
   "codemirror_mode": {
    "name": "ipython",
    "version": 2
   },
   "file_extension": ".py",
   "mimetype": "text/x-python",
   "name": "python",
   "nbconvert_exporter": "python",
   "pygments_lexer": "ipython2",
   "version": "2.7.13"
  }
 },
 "nbformat": 4,
 "nbformat_minor": 2
}
