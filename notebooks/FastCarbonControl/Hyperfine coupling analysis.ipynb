{
 "cells": [
  {
   "cell_type": "code",
   "execution_count": null,
   "metadata": {
    "collapsed": false
   },
   "outputs": [],
   "source": [
    "import os\n",
    "\n",
    "if os.name == 'nt':\n",
    "    measuring_root = \"D:/measuring\"\n",
    "else:\n",
    "    measuring_root = \"/Users/jesse/Thesis/Code\"\n",
    "    \n",
    "execfile(os.path.join(measuring_root, \"analysis/scripts/setup_analysis.py\"))\n",
    "import analysis.lib.purification.purify_delayfb as pu_delayfb\n",
    "from analysis.lib.tools import toolbox\n",
    "reload(pu_delayfb)\n",
    "%matplotlib inline"
   ]
  },
  {
   "cell_type": "code",
   "execution_count": null,
   "metadata": {
    "collapsed": false
   },
   "outputs": [],
   "source": [
    "carbons = np.arange(1,8)\n",
    "\n",
    "import measurement.scripts.lt4_scripts.setup.msmt_params as msmt_params\n",
    "reload(msmt_params)\n",
    "\n",
    "freqs = np.zeros((len(carbons), 3)) # -1, 0, +1\n",
    "\n",
    "for i_c, c in enumerate(carbons):\n",
    "    print (\"Carbon: %d\" % c)\n",
    "    ms0_freq = msmt_params.cfg['samples']['111no2']['C%d_freq_0' % c]\n",
    "    msp1_freq = msmt_params.cfg['samples']['111no2']['C%d_freq_1_%s' % (c, \"p1\")]\n",
    "    msm1_freq = msmt_params.cfg['samples']['111no2']['C%d_freq_1_%s' % (c, \"m1\")]\n",
    "    \n",
    "    freqs[i_c,0] = msm1_freq\n",
    "    freqs[i_c,1] = ms0_freq\n",
    "    freqs[i_c,2] = msp1_freq\n",
    "    \n",
    "print freqs"
   ]
  },
  {
   "cell_type": "code",
   "execution_count": null,
   "metadata": {
    "collapsed": false
   },
   "outputs": [],
   "source": [
    "A_par = (freqs[:,2]**2 - freqs[:,0]**2)/(4*freqs[:,1])\n",
    "A_perp = np.sqrt((freqs[:,2]**2 + freqs[:,0]**2)/2 - freqs[:,1]**2 - A_par**2)"
   ]
  },
  {
   "cell_type": "code",
   "execution_count": null,
   "metadata": {
    "collapsed": false
   },
   "outputs": [],
   "source": [
    "A_perp"
   ]
  },
  {
   "cell_type": "code",
   "execution_count": null,
   "metadata": {
    "collapsed": false
   },
   "outputs": [],
   "source": [
    "A_par"
   ]
  },
  {
   "cell_type": "code",
   "execution_count": null,
   "metadata": {
    "collapsed": false
   },
   "outputs": [],
   "source": [
    "coupling_diff"
   ]
  },
  {
   "cell_type": "code",
   "execution_count": null,
   "metadata": {
    "collapsed": false
   },
   "outputs": [],
   "source": [
    "(freqs[:,2]**2 + freqs[:,0]**2)/2 - freqs[:,1]**2 - A_par**2"
   ]
  },
  {
   "cell_type": "code",
   "execution_count": null,
   "metadata": {
    "collapsed": true
   },
   "outputs": [],
   "source": []
  }
 ],
 "metadata": {
  "kernelspec": {
   "display_name": "Python 2",
   "language": "python",
   "name": "python2"
  },
  "language_info": {
   "codemirror_mode": {
    "name": "ipython",
    "version": 2
   },
   "file_extension": ".py",
   "mimetype": "text/x-python",
   "name": "python",
   "nbconvert_exporter": "python",
   "pygments_lexer": "ipython2",
   "version": "2.7.13"
  }
 },
 "nbformat": 4,
 "nbformat_minor": 2
}
