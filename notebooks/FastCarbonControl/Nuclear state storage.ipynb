{
 "cells": [
  {
   "cell_type": "code",
   "execution_count": null,
   "metadata": {
    "collapsed": false
   },
   "outputs": [],
   "source": [
    "import os\n",
    "\n",
    "if os.name == 'nt':\n",
    "    measuring_root = \"D:/measuring\"\n",
    "else:\n",
    "    measuring_root = \"/Users/jesse/Thesis/Code\"\n",
    "\n",
    "execfile(os.path.join(measuring_root, \"analysis/scripts/setup_analysis.py\"))\n",
    "import analysis.lib.purification.purify_delayfb as purify_delayfb;reload(purify_delayfb)\n",
    "%matplotlib inline\n"
   ]
  },
  {
   "cell_type": "code",
   "execution_count": null,
   "metadata": {
    "collapsed": false
   },
   "outputs": [],
   "source": [
    "reload(pu_ssro)\n",
    "bl_x, bl_y, bl_y_u = pu_ssro.number_of_repetitions(contains = '_X',older_than=\"20170621132600\",do_fit = True,fixed=[0,2,5,6], ret_data=True)"
   ]
  },
  {
   "cell_type": "markdown",
   "metadata": {},
   "source": [
    "# Old feedback"
   ]
  },
  {
   "cell_type": "code",
   "execution_count": null,
   "metadata": {
    "collapsed": false
   },
   "outputs": [],
   "source": [
    "reload(purify_delayfb)\n",
    "\n",
    "data_older_thans = [\"20170621164100\", \"20170621164600\", \"20170621170900\"]\n",
    "\n",
    "# for ot in data_older_thans:\n",
    "#     pu_ssro.number_of_repetitions(contains = 'ADwin_phase_compensation',\n",
    "#                                   older_than=ot,\n",
    "#                                   do_fit = True,\n",
    "#                                   fixed=[0,2,5,6],\n",
    "#                                   x_only=True)\n",
    "\n",
    "oldfb_x, oldfb_y, oldfb_y_u = purify_delayfb.number_of_repetitions_stitched(contains='ADwin_phase_compensation', \n",
    "                                       older_thans=data_older_thans, \n",
    "                                       do_fit=True, \n",
    "                                       x_only=True,\n",
    "                                       fixed=[0,2,5,6],\n",
    "                                       ret_data=True)"
   ]
  },
  {
   "cell_type": "markdown",
   "metadata": {},
   "source": [
    "# New feedback"
   ]
  },
  {
   "cell_type": "code",
   "execution_count": null,
   "metadata": {
    "collapsed": false
   },
   "outputs": [],
   "source": [
    "reload(purify_delayfb)\n",
    "\n",
    "data_older_thans = [\"20170621180000\", \"20170621180700\", \"20170621181100\"]\n",
    "\n",
    "# for ot in data_older_thans:\n",
    "#     pu_ssro.number_of_repetitions(contains = 'ADwin_phase_compensation',\n",
    "#                                   older_than=ot,\n",
    "#                                   do_fit = True,\n",
    "#                                   fixed=[0,2,5,6],\n",
    "#                                   x_only=True)\n",
    "\n",
    "newfb_x, newfb_y, newfb_y_u = purify_delayfb.number_of_repetitions_stitched(contains='phase_fb_delayline', \n",
    "                                                                            older_thans=data_older_thans, \n",
    "                                                                            do_fit=True, \n",
    "                                                                            x_only=True,\n",
    "                                                                            fit_n=1.0,\n",
    "                                                                            fixed=[0,2,5,6,4],\n",
    "                                                                            ret_data=True)"
   ]
  },
  {
   "cell_type": "markdown",
   "metadata": {},
   "source": [
    "# Combined plot"
   ]
  },
  {
   "cell_type": "code",
   "execution_count": null,
   "metadata": {
    "collapsed": false
   },
   "outputs": [],
   "source": [
    "fig = plt.figure()\n",
    "ax = plt.subplot(111)\n",
    "plt.xlabel(\"Number of LDE attempts\")\n",
    "plt.ylabel(r\"$\\langle$X$\\rangle$\")\n",
    "\n",
    "plt.errorbar(bl_x, bl_y, bl_y_u, fmt='o', label='No feedback')\n",
    "plt.errorbar(oldfb_x, oldfb_y, oldfb_y_u, fmt='o', label='Old feedback')\n",
    "plt.errorbar(newfb_x, newfb_y, newfb_y_u, fmt='o', label='New feedback')\n",
    "plt.legend()\n",
    "plt.xlim(0,300)\n",
    "plt.ylim(-0.1,1)\n",
    "\n",
    "plt.savefig(\"feedback_comparison.png\", dpi=300)"
   ]
  },
  {
   "cell_type": "markdown",
   "metadata": {},
   "source": [
    "# Multi-carbon measurements"
   ]
  },
  {
   "cell_type": "code",
   "execution_count": null,
   "metadata": {
    "collapsed": false,
    "scrolled": false
   },
   "outputs": [],
   "source": [
    "XI_ot = \"20170623172000\"\n",
    "IX_ot = \"20170623172700\"\n",
    "XX_ot = \"20170623173400\"\n",
    "\n",
    "reload(pu_ssro)\n",
    "XI_data = pu_ssro.calibrate_LDE_phase(contains=\"phase_fb_delayline\", older_than=XI_ot, ret_data=True)\n",
    "IX_data = pu_ssro.calibrate_LDE_phase(contains=\"phase_fb_delayline\", older_than=IX_ot, ret_data=True)\n",
    "XX_data = pu_ssro.calibrate_LDE_phase(contains=\"phase_fb_delayline\", older_than=XX_ot, ret_data=True)\n",
    "\n",
    "XI_fit = pu_ssro.calibrate_LDE_phase(contains=\"phase_fb_delayline\", older_than=XI_ot, ret=True, do_fit=True, freq=6./360.)\n",
    "IX_fit = pu_ssro.calibrate_LDE_phase(contains=\"phase_fb_delayline\", older_than=IX_ot, ret=True, do_fit=True, freq=6./360.)\n",
    "XX_fit = pu_ssro.calibrate_LDE_phase(contains=\"phase_fb_delayline\", older_than=XX_ot, ret=True, do_fit=True, freq=12./260.)"
   ]
  },
  {
   "cell_type": "code",
   "execution_count": null,
   "metadata": {
    "collapsed": false
   },
   "outputs": [],
   "source": [
    "fig = plt.figure()\n",
    "ax = plt.subplot(111)\n",
    "plt.xlabel(\"Number of LDE attempts\")\n",
    "plt.ylabel(r\"Expectation value\")\n",
    "\n",
    "XI_ebar, _, _ = plt.errorbar(XI_data[0], XI_data[1], XI_data[2], fmt='o', label=r\"$\\langle XI \\rangle$\")\n",
    "IX_ebar, _, _ = plt.errorbar(IX_data[0], IX_data[1], IX_data[2], fmt='o', label=r\"$\\langle IX \\rangle$\")\n",
    "XX_ebar, _, _ = plt.errorbar(XX_data[0], XX_data[1], XX_data[2], fmt='o', label=r\"$\\langle XX \\rangle$\")\n",
    "\n",
    "xvals = np.linspace(0,80)\n",
    "XI_fitfunc = XI_fit['fitfunc']\n",
    "plt.plot(xvals, XI_fitfunc(xvals), color=XI_ebar.get_color())\n",
    "\n",
    "IX_fitfunc = IX_fit['fitfunc']\n",
    "plt.plot(xvals, IX_fitfunc(xvals), color=IX_ebar.get_color())\n",
    "\n",
    "plt.plot(xvals, XI_fitfunc(xvals)*IX_fitfunc(xvals), color=XX_ebar.get_color(), label=r\"$\\langle XI \\rangle \\cdot \\langle IX \\rangle$\")\n",
    "\n",
    "plt.legend()\n",
    "\n",
    "plt.savefig(\"IX_XI_XX_detuned_unclean_msmt.png\", dpi=300)"
   ]
  },
  {
   "cell_type": "markdown",
   "metadata": {},
   "source": [
    "# Multi-carbon state preservation"
   ]
  },
  {
   "cell_type": "code",
   "execution_count": null,
   "metadata": {
    "collapsed": false
   },
   "outputs": [],
   "source": [
    "data_older_thans = [\"20170623185500\", \"20170623191000\", \"20170623192000\"]\n",
    "\n",
    "newfb_x, newfb_y, newfb_y_u = pu_ssro.number_of_repetitions_stitched(contains='phase_fb_delayline', \n",
    "                                       older_thans=data_older_thans, \n",
    "                                       do_fit=True, \n",
    "                                       x_only=True,\n",
    "                                       fixed=[0,2,6],\n",
    "                                                                     fit_A=0.7, \n",
    "                                                                     fit_T=300,\n",
    "                                                                     fit_n=3,\n",
    "                                                                     fit_f=0.5/360.0,\n",
    "                                                                     \n",
    "                                        ret_data=True,\n",
    "                                                                    show_guess=True)"
   ]
  },
  {
   "cell_type": "code",
   "execution_count": null,
   "metadata": {
    "collapsed": false
   },
   "outputs": [],
   "source": [
    "0.001322*360.0"
   ]
  },
  {
   "cell_type": "code",
   "execution_count": null,
   "metadata": {
    "collapsed": true
   },
   "outputs": [],
   "source": []
  }
 ],
 "metadata": {
  "kernelspec": {
   "display_name": "Python 2",
   "language": "python",
   "name": "python2"
  },
  "language_info": {
   "codemirror_mode": {
    "name": "ipython",
    "version": 2
   },
   "file_extension": ".py",
   "mimetype": "text/x-python",
   "name": "python",
   "nbconvert_exporter": "python",
   "pygments_lexer": "ipython2",
   "version": "2.7.3"
  }
 },
 "nbformat": 4,
 "nbformat_minor": 2
}
