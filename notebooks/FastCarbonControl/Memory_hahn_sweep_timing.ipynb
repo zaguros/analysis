{
 "cells": [
  {
   "cell_type": "code",
   "execution_count": null,
   "metadata": {
    "collapsed": false
   },
   "outputs": [],
   "source": [
    "execfile(r'D:\\measuring\\analysis\\scripts\\setup_analysis.py')\n",
    "import analysis.lib.purification.purify_ssro as pu_ssro;reload(pu_ssro)\n",
    "%matplotlib inline\n",
    "import matplotlib as mpl\n",
    "base_f = r\"M:\\tnw\\ns\\qt\\Diamond\\Eigenpapers\\17_QMemories2\\Data\\MemoryNOMWErrors\""
   ]
  },
  {
   "cell_type": "code",
   "execution_count": null,
   "metadata": {
    "collapsed": false
   },
   "outputs": [],
   "source": [
    "### plotting options\n",
    "mpl.rc(\"pdf\", fonttype =42),\n",
    "mpl.rc(\"font\",**{'family':'sans-serif','sans-serif':['Helvetica Neue LT Std 55 Roman','DejaVu Sans'],'size':11})# \n",
    "mpl.rc(\"xtick\",**{'top':True,'direction':'in'})\n",
    "mpl.rc(\"ytick\",**{'right':True,'direction':'in'})\n",
    "mpl.rc(\"savefig\", **{'transparent':True,'bbox':'tight'})\n",
    "mpl.rc('font', size = 11)"
   ]
  },
  {
   "cell_type": "code",
   "execution_count": null,
   "metadata": {
    "collapsed": true
   },
   "outputs": [],
   "source": [
    "### additional functions and definitions\n",
    "def save_plt(fig,name,folder=None):\n",
    "    if folder == None:\n",
    "        plt.savefig(os.path.join(base_f, name+'.pdf'),\n",
    "            format='pdf')\n",
    "    else:\n",
    "        plt.savefig(os.path.join(folder, name+'.pdf'),\n",
    "            format='pdf')\n",
    "def merge_two_dicts(x, y):\n",
    "    z = x.copy()   # start with x's keys and values\n",
    "    z.update(y)    # modifies z with y's keys and values & returns None\n",
    "    return z"
   ]
  },
  {
   "cell_type": "code",
   "execution_count": null,
   "metadata": {
    "collapsed": false
   },
   "outputs": [],
   "source": [
    "### data extraction\n",
    "reload(pu_ssro)\n",
    "tstamp_standard = '183127'\n",
    "tstamp_pi = '181828'\n",
    "tstamp_matched  ='190944'\n",
    "kws = {'folder': base_f,'ret':True,'do_plot':False,'do_fit':True,'do_print':False,'fixed':[0,2,4,5,6]}\n",
    "fit_pi= pu_ssro.number_of_repetitions(contains = tstamp_pi,**kws)[0]\n",
    "fit_match = pu_ssro.number_of_repetitions(contains = tstamp_matched,**kws)[0]\n",
    "fit_standard = pu_ssro.number_of_repetitions(contains = tstamp_standard,**kws)[0]\n",
    "fit_list = [fit_standard,fit_pi,fit_match]"
   ]
  },
  {
   "cell_type": "code",
   "execution_count": null,
   "metadata": {
    "collapsed": false
   },
   "outputs": [],
   "source": [
    "### plotting\n",
    "lab0 = r\"$\\mathrm{N_{1/e}}=$\"\n",
    "legendlabels = [lab0,lab0,lab0]\n",
    "default_cols = [  'tab:purple', 'tab:olive',\n",
    "                'tab:brown', 'tab:pink', 'tab:gray',  'tab:cyan','tab:red','tab:blue', 'tab:orange', 'tab:green']\n",
    "fig,ax = plt.subplots(figsize=(4,3))\n",
    "for cur_fit,lab,col in zip(fit_list,legendlabels,default_cols):\n",
    "    fit_x = np.linspace(np.amin(cur_fit['x']),480,100)\n",
    "    current_legend = lab + str(np.int(cur_fit['params_dict']['T'])) + r' $\\pm$ '+ str(np.int(cur_fit['error_dict']['T']))\n",
    "    ax.errorbar(cur_fit['x'],cur_fit['y'],cur_fit['y_u'],fmt='o',label = current_legend,color = col)\n",
    "    ax.plot(fit_x,cur_fit['fitfunc'](fit_x),'-',color=col)\n",
    "    \n",
    "plt.legend(frameon=False)\n",
    "plt.xlim([0,500])\n",
    "plt.ylabel('Equatorial Bloch vector length')\n",
    "plt.xlabel('Entangling attempts')\n",
    "\n",
    "### save to server\n",
    "# save_plt(fig,'Fig4_Mem_decay')\n",
    "### save to local repo\n",
    "# save_plt(fig,'Fig4_Mem_decay',folder = r'D:\\nkalb\\Desktop\\Purification\\NoCode2\\memories_v2\\Analysis')"
   ]
  },
  {
   "cell_type": "markdown",
   "metadata": {},
   "source": [
    "## analyze sweep time"
   ]
  },
  {
   "cell_type": "code",
   "execution_count": null,
   "metadata": {
    "collapsed": true
   },
   "outputs": [],
   "source": [
    "### more func definitions\n",
    "def plot_fit_vals(list_of_fits,vals):\n",
    "    fig,ax = plt.subplots()\n",
    "    for val in vals:\n",
    "        for fits in list_of_fits:\n",
    "            val_res,val_res_u,val_x = [],[],[] ## init empty\n",
    "            for f in fits:\n",
    "                if f['error_dict'][val] > 20000:\n",
    "                    print 'had to exclude one result. Errorbar VERY LARGE'\n",
    "                else:\n",
    "                    val_x.append(f['a'].g.attrs['LDE_decouple_time']/2.256e-6)\n",
    "                    val_res.append(f['params_dict'][val]);val_res_u.append(f['error_dict'][val])\n",
    "            ax.errorbar(val_x,val_res,val_res_u,label = val)\n",
    "    plt.xlabel(r'decoupling time ($\\tau_L$)')\n",
    "    plt.ylabel(val)\n",
    "    plt.legend()\n",
    "    return fig,ax\n",
    "\n",
    "def plot_all_raw(fits):\n",
    "    fig,ax = plt.subplots()\n",
    "    for fit in fits:\n",
    "        fit_x = np.linspace(fit['x'][0],fit['x'][-1],100)\n",
    "        order = np.round(fit['a'].g.attrs['LDE_decouple_time']/2.256e-6,2)\n",
    "        ax.errorbar(fit['x'],fit['y'],fit['y_u'],fmt='o',label=r't = %s * $\\tau_L$' % order,zorder=5)\n",
    "        ax.plot(fit_x,fit['fitfunc'](fit_x),color='black',zorder=0)\n",
    "    plt.legend(bbox_to_anchor=(1.05, 1), loc=2, borderaxespad=0.)\n",
    "    plt.xlabel(fit['a'].g.attrs['sweep_name'])"
   ]
  },
  {
   "cell_type": "code",
   "execution_count": null,
   "metadata": {
    "collapsed": false
   },
   "outputs": [],
   "source": [
    "## data selection and analysis style\n",
    "base_f2 = r\"M:\\tnw\\ns\\qt\\Diamond\\Eigenpapers\\17_QMemories2\\Data\\NoMWErrorsSweepTime\"\n",
    "kws = {'folder': base_f2,'ret':True,'do_plot':False,'do_fit':True,'show_guess':False,\n",
    "       'do_print':False,'fixed':[0,2,4,5,6],'return_all':True}\n",
    "\n",
    "# tstampsxC61 = ['151038','151644','152248','152853','153456','154101','154709',\n",
    "#            '155318_','155928','160539']\n",
    "# tstampszC61 = ['151419','152023','152627','153231','153834','154441','155051',\n",
    "#            '155701','160311','160922']\n",
    "# tstampsxC3 = ['202222','203002','203736','204457','205230','210003','210727','211459','212229','213005']\n",
    "# tstampszC3 = ['202717','203451','204214','204944','205718','210443','211214','211944','212716','213459']#,'','']\n",
    "\n",
    "### C6\n",
    "kwsC6_x = merge_two_dicts(kws,{'contains':'C6_X','older_than':'20171102_232823','newer_than':'20171102_223352',})\n",
    "kwsC6_x_100nW = merge_two_dicts(kws,{'contains':'C6_0.1uW_X','older_than':'20171103_231238','newer_than':'20171103_041337',})\n",
    "kwsC6_z_100nW = merge_two_dicts(kwsC6_x_100nW,{'contains':'C6_0.1uW_Z'});kwsC6_z_100nW['fit_A'] = -0.8;kwsC6_z_100nW['fit_T']=100\n",
    "C6_x_1uW=merge_two_dicts(kwsC6_x_100nW,{'contains':'C6_1.0uW_X',})\n",
    "C6_x_4uW=merge_two_dicts(kwsC6_x_100nW,{'contains':'C6_4.0uW_X',})\n",
    "\n",
    "\n",
    "### C3\n",
    "kwsC3_x_100nW = merge_two_dicts(kws,{'contains':'C3_0.1uW_X','older_than':'20171103_190025','newer_than':'20171103_012211',})\n",
    "C3_x_1uW=merge_two_dicts(kwsC3_x_100nW,{'contains':'C3_1.0uW_X',})\n",
    "C3_x_4uW=merge_two_dicts(kwsC3_x_100nW,{'contains':'C3_4.0uW_X',})\n",
    "\n",
    "# some massaging of z for C3\n",
    "kwsC3_z_100nW = merge_two_dicts(kwsC3_x_100nW,{'contains':'C3_0.1uW_Z'})\n",
    "kwsC3_z_100nW['fit_A'] = -0.9;kwsC3_z_100nW['fit_T']=3000;\n",
    "\n",
    "\n",
    "### C1\n",
    "kwsC1_x_100nW = merge_two_dicts(kws,{'contains':'C1_0.1uW_X','older_than':'20171103_012000','newer_than':'20171102_234400',})\n",
    "kwsC1_z_100nW = merge_two_dicts(kwsC1_x_100nW,{'contains':'C1_0.1uW_Z'});kwsC1_z_100nW['fit_A'] = -0.8;kwsC1_z_100nW['fit_T']=100\n"
   ]
  },
  {
   "cell_type": "code",
   "execution_count": null,
   "metadata": {
    "collapsed": false
   },
   "outputs": [],
   "source": [
    "reload(pu_ssro)\n",
    "#gather data\n",
    "data_set = C1_x_1uW\n",
    "fits = pu_ssro.number_of_repetitions(**kwsC3_x_100nW)\n",
    "fits2 = pu_ssro.number_of_repetitions(**C3_x_1uW)\n",
    "fits3 = pu_ssro.number_of_repetitions(**C3_x_4uW)\n",
    "list_of_fits=[fits,fits2,fits3]"
   ]
  },
  {
   "cell_type": "code",
   "execution_count": null,
   "metadata": {
    "collapsed": false
   },
   "outputs": [],
   "source": [
    "i = 6\n",
    "f = fits3[i:i+2]\n",
    "plot_all_raw(f)\n",
    "print f[0]['params_dict']['T'],f[0]['error_dict']['T']\n",
    "fig,ax = plot_fit_vals(list_of_fits,['T'])\n",
    "plt.show()\n",
    "plt.close('all')"
   ]
  },
  {
   "cell_type": "code",
   "execution_count": null,
   "metadata": {
    "collapsed": true
   },
   "outputs": [],
   "source": []
  }
 ],
 "metadata": {
  "kernelspec": {
   "display_name": "Python 2",
   "language": "python",
   "name": "python2"
  },
  "language_info": {
   "codemirror_mode": {
    "name": "ipython",
    "version": 2
   },
   "file_extension": ".py",
   "mimetype": "text/x-python",
   "name": "python",
   "nbconvert_exporter": "python",
   "pygments_lexer": "ipython2",
   "version": "2.7.11"
  }
 },
 "nbformat": 4,
 "nbformat_minor": 1
}
