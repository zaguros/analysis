{
 "cells": [
  {
   "cell_type": "code",
   "execution_count": null,
   "metadata": {
    "collapsed": false
   },
   "outputs": [],
   "source": [
    "execfile(r'D:\\measuring\\analysis\\scripts\\setup_analysis.py')\n",
    "import analysis.lib.purification.purify_ssro as pu_ssro;reload(pu_ssro)\n",
    "%matplotlib inline\n",
    "import matplotlib as mpl\n",
    "base_f = r\"M:\\tnw\\ns\\qt\\Diamond\\Eigenpapers\\17_QMemories2\\Data\\MemoryNOMWErrors\""
   ]
  },
  {
   "cell_type": "code",
   "execution_count": null,
   "metadata": {
    "collapsed": false
   },
   "outputs": [],
   "source": [
    "### plotting options\n",
    "# mpl.rc(\"pdf\", fonttype =42),\n",
    "# mpl.rc(\"font\",**{'family':'sans-serif','sans-serif':['Helvetica Neue LT Std 55 Roman','DejaVu Sans'],'size':11})# \n",
    "# mpl.rc(\"xtick\",**{'top':True,'direction':'in'})\n",
    "# mpl.rc(\"ytick\",**{'right':True,'direction':'in'})\n",
    "# mpl.rc(\"savefig\", **{'transparent':True,'bbox':'tight'})\n",
    "# mpl.rc('font', size = 11)"
   ]
  },
  {
   "cell_type": "code",
   "execution_count": null,
   "metadata": {
    "collapsed": true
   },
   "outputs": [],
   "source": [
    "### additional functions and definitions\n",
    "def save_plt(fig,name,folder=None):\n",
    "    if folder == None:\n",
    "        plt.savefig(os.path.join(base_f, name+'.pdf'),\n",
    "            format='pdf')\n",
    "    else:\n",
    "        plt.savefig(os.path.join(folder, name+'.pdf'),\n",
    "            format='pdf')\n",
    "def merge_two_dicts(x, y):\n",
    "    z = x.copy()   # start with x's keys and values\n",
    "    z.update(y)    # modifies z with y's keys and values & returns None\n",
    "    return z"
   ]
  },
  {
   "cell_type": "code",
   "execution_count": null,
   "metadata": {
    "collapsed": false
   },
   "outputs": [],
   "source": [
    "### data extraction\n",
    "reload(pu_ssro)\n",
    "tstamp_standard = '183127'\n",
    "tstamp_pi = '181828'\n",
    "tstamp_matched  ='190944'\n",
    "kws = {'folder': base_f,'ret':True,'do_plot':False,'do_fit':True,'do_print':False,'fixed':[0,2,4,5,6]}\n",
    "fit_pi= pu_ssro.number_of_repetitions(contains = tstamp_pi,**kws)[0]\n",
    "fit_match = pu_ssro.number_of_repetitions(contains = tstamp_matched,**kws)[0]\n",
    "fit_standard = pu_ssro.number_of_repetitions(contains = tstamp_standard,**kws)[0]\n",
    "fit_list = [fit_standard,fit_pi,fit_match]"
   ]
  },
  {
   "cell_type": "code",
   "execution_count": null,
   "metadata": {
    "collapsed": false
   },
   "outputs": [],
   "source": [
    "### plotting\n",
    "lab0 = r\"$\\mathrm{N_{1/e}}=$\"\n",
    "legendlabels = [lab0,lab0,lab0]\n",
    "default_cols = ['blue','green','red']\n",
    "fig,ax = plt.subplots(figsize=(4,3))\n",
    "for cur_fit,lab,col in zip(fit_list,legendlabels,default_cols):\n",
    "    fit_x = np.linspace(np.amin(cur_fit['x']),480,100)\n",
    "    current_legend = lab + str(np.int(cur_fit['params_dict']['T'])) + r' $\\pm$ '+ str(np.int(cur_fit['error_dict']['T']))\n",
    "    ax.errorbar(cur_fit['x'],cur_fit['y'],cur_fit['y_u'],fmt='o',label = current_legend,color = col)\n",
    "    ax.plot(fit_x,cur_fit['fitfunc'](fit_x),'-',color=col)\n",
    "    \n",
    "plt.legend(frameon=False)\n",
    "plt.xlim([0,500])\n",
    "plt.ylabel('Equatorial Bloch vector length')\n",
    "plt.xlabel('Entangling attempts')\n",
    "\n",
    "### save to server\n",
    "# save_plt(fig,'Fig4_Mem_decay')\n",
    "### save to local repo\n",
    "# save_plt(fig,'Fig4_Mem_decay',folder = r'D:\\nkalb\\Desktop\\Purification\\NoCode2\\memories_v2\\Analysis')"
   ]
  },
  {
   "cell_type": "markdown",
   "metadata": {},
   "source": [
    "## analyze sweep time"
   ]
  },
  {
   "cell_type": "code",
   "execution_count": null,
   "metadata": {
    "collapsed": false
   },
   "outputs": [],
   "source": [
    "## data selection and analysis style\n",
    "base_f2 = r\"M:\\tnw\\ns\\qt\\Diamond\\Eigenpapers\\17_QMemories2\\Data\\NoMWErrorsSweepTime\"\n",
    "kws = {'folder': base_f2,'ret':True,'do_plot':False,'do_fit':True,'show_guess':False,\n",
    "       'do_print':False,'fixed':[0,2,4,5,6],'return_all':True}\n",
    "\n",
    "# tstampsxC61 = ['151038','151644','152248','152853','153456','154101','154709',\n",
    "#            '155318_','155928','160539']\n",
    "# tstampszC61 = ['151419','152023','152627','153231','153834','154441','155051',\n",
    "#            '155701','160311','160922']\n",
    "# tstampsxC3 = ['202222','203002','203736','204457','205230','210003','210727','211459','212229','213005']\n",
    "# tstampszC3 = ['202717','203451','204214','204944','205718','210443','211214','211944','212716','213459']#,'','']\n",
    "\n",
    "### C6\n",
    "kwsC6_x = merge_two_dicts(kws,{'contains':'C6_X','older_than':'20171102_232823','newer_than':'20171102_223352',})\n",
    "kwsC6_x_100nW = merge_two_dicts(kws,{'contains':'C6_0.1uW_X','older_than':'20171103_231238','newer_than':'20171103_041337',})\n",
    "kwsC6_z_100nW = merge_two_dicts(kwsC6_x_100nW,{'contains':'C6_0.1uW_Z'});kwsC6_z_100nW['fit_A'] = -0.8;kwsC6_z_100nW['fit_T']=100\n",
    "C6_x_1uW=merge_two_dicts(kwsC6_x_100nW,{'contains':'C6_1.0uW_X',})\n",
    "C6_x_4uW=merge_two_dicts(kwsC6_x_100nW,{'contains':'C6_4.0uW_X',})\n",
    "\n",
    "\n",
    "### C3\n",
    "kwsC3_x_100nW = merge_two_dicts(kws,{'contains':'C3_0.1uW_X','older_than':'20171103_190025','newer_than':'20171103_012211',})\n",
    "C3_x_1uW=merge_two_dicts(kwsC3_x_100nW,{'contains':'C3_1.0uW_X',})\n",
    "C3_x_4uW=merge_two_dicts(kwsC3_x_100nW,{'contains':'C3_4.0uW_X',})\n",
    "\n",
    "# some massaging of z for C3\n",
    "kwsC3_z_100nW = merge_two_dicts(kwsC3_x_100nW,{'contains':'C3_0.1uW_Z'})\n",
    "kwsC3_z_100nW['fit_A'] = -0.9;kwsC3_z_100nW['fit_T']=3000;\n",
    "\n",
    "\n",
    "### C1\n",
    "kwsC1_x_100nW = merge_two_dicts(kws,{'contains':'C1_0.1uW_X','older_than':'20171103_012000','newer_than':'20171102_234400',})\n",
    "kwsC1_z_100nW = merge_two_dicts(kwsC1_x_100nW,{'contains':'C1_0.1uW_Z'});kwsC1_z_100nW['fit_A'] = -0.8;kwsC1_z_100nW['fit_T']=100\n"
   ]
  },
  {
   "cell_type": "code",
   "execution_count": null,
   "metadata": {
    "collapsed": false
   },
   "outputs": [],
   "source": [
    "reload(pu_ssro)\n",
    "#gather data\n",
    "# data_set = C1_x_1uW\n",
    "fit_dict = {}\n",
    "fit_dict.update({'0.1': pu_ssro.number_of_repetitions(**kwsC3_x_100nW)})\n",
    "fit_dict.update({'1.0': pu_ssro.number_of_repetitions(**C3_x_1uW)})\n",
    "fit_dict.update({'4.0': pu_ssro.number_of_repetitions(**C3_x_4uW)})\n",
    "list_of_fits=[fits,fits2,fits3]"
   ]
  },
  {
   "cell_type": "code",
   "execution_count": null,
   "metadata": {
    "collapsed": false
   },
   "outputs": [],
   "source": [
    "i = 6\n",
    "f = fits3[i:i+2]\n",
    "# plot_all_raw(f)\n",
    "print f[0]['params_dict']['T'],f[0]['error_dict']['T']\n",
    "### all plot parameters for decay constants\n",
    "\n",
    "analysis_keys = ['0.1','1.0','4.0']\n",
    "\n",
    "kw_plot = {'analysis_keys':analysis_keys[::-1]}\n",
    "kw_plot.update({'insert_params':[0.35, 0.55, 0.35, 0.3]})\n",
    "kw_plot.update({'inset_lim':[6.94,7.21],'xlim':[6.94,7.21]})\n",
    "kw_plot.update({'plt_title':'decoupling time sweep for C3'})\n",
    "kw_plot.update({'yticks':[200,300,400,500,600,700,800,900],'ylim':[180,900]})\n",
    "kw_plot.update({'insert_params':[1, 0.1, 0.,0.],'yscale':\"linear\"})\n",
    "kw_plot.update({'plt_title':'sweep decoupling time before MW decline','get_bench':False})\n",
    "\n",
    "plot_fit_vals(fit_dict,'T',**kw_plot)\n",
    "plt.show()\n",
    "plt.close('all')"
   ]
  },
  {
   "cell_type": "code",
   "execution_count": null,
   "metadata": {
    "collapsed": false
   },
   "outputs": [],
   "source": [
    "reload(pu_ssro)\n",
    "carbon = 6 # can be 3 or 6\n",
    "analyzed_powers = [6.0,4.0,2.0,1.0,0.5,0.1] ### in uW\n",
    "get_z = True\n",
    "\n",
    "base_f2 = None#r\"M:\\tnw\\ns\\qt\\Diamond\\Eigenpapers\\17_QMemories2\\Data\\NoMWErrorsSweepTime\"\n",
    "kws = {'folder': base_f2,'ret':True,'do_plot':False,'do_fit':True,'show_guess':False,\n",
    "       'do_print':False,'fixed':[0,2,5,6],'return_all':True}\n",
    "       #### fit function is designed to fit A*Exp(-(t/T)^n)\n",
    "if carbon == 3:\n",
    "\tolder_than = '20171105_215538'\n",
    "\tnewer_than = '20171104_122414'\n",
    "\tkws.update({'older_than':older_than})\n",
    "\tkws.update({'newer_than':newer_than})\n",
    "elif carbon == 6:\n",
    "\tolder_than ='20171106_235959' # not done yet\n",
    "\tnewer_than = '20171105_225219' # not done yet\n",
    "\tkws.update({'older_than':older_than})\n",
    "\tkws.update({'newer_than':newer_than})\n",
    "    \n",
    "fit_res_dict = {} ### will host all fit results to play around after finishing the script\n",
    "for p in analyzed_powers:\n",
    "    search_string = 'C%s_%suW_X' % (carbon,p)\n",
    "    kws.update({'contains':search_string})\n",
    "    fits = pu_ssro.number_of_repetitions(**kws)\n",
    "    fit_res_dict.update({str(p): fits})\n",
    "    search_string = 'C%s_%suW_benchmark_X' % (carbon,p)\n",
    "    kws.update({'contains':search_string})\n",
    "    fits = pu_ssro.number_of_repetitions(**kws)\n",
    "    print str(p)+' uW done!'\n",
    "    fit_res_dict.update({str(p)+'bench': fits})\n",
    "    \n",
    "search_string = 'C%s_%suW_Z' % (carbon,'6.0')\n",
    "kws.update({'contains':search_string})\n",
    "kws.update({'fit_A':-0.8,'fit_T':1000})\n",
    "fits = pu_ssro.number_of_repetitions(**kws)\n",
    "fit_res_dict.update({'Z': fits})\n"
   ]
  },
  {
   "cell_type": "code",
   "execution_count": null,
   "metadata": {
    "collapsed": true
   },
   "outputs": [],
   "source": [
    "### plotting and stuff\n",
    "import matplotlib.colors as colors\n",
    "import matplotlib.cm as cmx\n",
    "\n",
    "def plot_fit_vals(fit_dict,val,inset_lim=[],plt_title='',analysis_keys=[],**kw):\n",
    "    \"\"\"\n",
    "    This is a general plotting function that also supplies an adjustable inset of the given data set.\n",
    "    Nice alrounder function but beware. Many keyword arguments for customization.\n",
    "    \"\"\"\n",
    "    fig,ax = plt.subplots(figsize = (5,3.5))\n",
    "    left, bottom, width, height = [0.3, 0.45, 0.4, 0.4]\n",
    "    ax2 = fig.add_axes(kw.pop('insert_params',[0.3, 0.45, 0.4, 0.4]))\n",
    "    #### setup color  map\n",
    "    cm = plt.get_cmap('viridis') \n",
    "    cNorm  = colors.Normalize(vmin=0, vmax=len(analysis_keys))\n",
    "    scalarMap = cmx.ScalarMappable(norm=cNorm, cmap=cm)\n",
    "    \n",
    "\n",
    "    for idx,key in enumerate(analysis_keys):\n",
    "        val_res,val_res_u,val_x = np.array([]),np.array([]),np.array([]) ## init empty\n",
    "        for f in fit_dict[key]:\n",
    "            if f['error_dict'][val] > kw.pop('max_fit_error',200):\n",
    "                print 'had to exclude one result. Errorbar VERY LARGE: ',f['a'].folder\n",
    "                continue\n",
    "            else:\n",
    "                val_x=np.append(val_x,f['a'].g.attrs['LDE_decouple_time']/2.256e-6)\n",
    "                val_res = np.append(val_res,f['params_dict'][val]);val_res_u=np.append(val_res_u,f['error_dict'][val])\n",
    "\n",
    "        colorVal = scalarMap.to_rgba(idx)\n",
    "        val_res = val_res[np.argsort(val_x)]; val_res_u = val_res_u[np.argsort(val_x)]; val_x = np.sort(val_x)\n",
    "        ax.errorbar(val_x,val_res,val_res_u,label = key+' uW',fmt='.',color=colorVal)\n",
    "        filt = np.logical_and(val_x >= inset_lim[0], val_x <= inset_lim[1])\n",
    "        ax2.errorbar(val_x[filt],val_res[filt],val_res_u[filt],fmt='.-',color=colorVal)\n",
    "        if key == '6.0':\n",
    "            ind = np.argmax(val_res)\n",
    "            print 'best result %s +/- %s' % (val_res[ind],val_res_u[ind])\n",
    "        if kw.get('get_bench', True):\n",
    "            benchmark_val = fit_dict[key+'bench'][0]['params_dict'][val]\n",
    "            print benchmark_val\n",
    "            ax.plot([val_x[0]-.1,val_x[-1]+.1],[benchmark_val,benchmark_val],'--',color = colorVal)\n",
    "        \n",
    "\n",
    "    plt.sca(ax)\n",
    "    plt.title(plt_title)\n",
    "    plt.xlabel(r'decoupling time ($\\tau_L$)')\n",
    "    if val == 'T':\n",
    "        plt.ylabel(r'$\\mathrm{N_{1/e}}$')\n",
    "    else:\n",
    "        plt.ylabel(val)\n",
    "    plt.legend(bbox_to_anchor=(1.05, 1), loc=2, borderaxespad=0.,numpoints =1)\n",
    "#     plt.xscale(\"log\", nonposx='clip')\n",
    "    plt.yscale(kw.pop('yscale',\"log\"), nonposy='clip')\n",
    "    plt.ylim(kw.pop('ylim',[50,700]))\n",
    "    plt.yticks(kw.pop('yticks',None))\n",
    "    plt.xlim(kw.pop('xlim',[val_x[0]-.1,val_x[-1]+.1]))\n",
    "    plt.sca(ax2)\n",
    "    plt.yscale(kw.pop('yscale2',\"linear\"))\n",
    "    plt.xticks(inset_lim+[np.ceil(inset_lim[0])])\n",
    "    plt.yticks(kw.pop('yticks2',[200,400,600,700]))\n",
    "    plt.ylim(kw.pop('ylim2',[100,700]))\n",
    "    plt.show()\n",
    "    plt.close('all')\n",
    "    \n"
   ]
  },
  {
   "cell_type": "code",
   "execution_count": null,
   "metadata": {
    "collapsed": false
   },
   "outputs": [],
   "source": [
    "analysis_keys = ['0.1','0.5','1.0','2.0','4.0','6.0']\n",
    "val ='n'\n",
    "\n",
    "kw_plot = {'analysis_keys':analysis_keys[::-1]}\n",
    "if carbon == 3:\n",
    "    ### all plot parameters for decay constants\n",
    "    kw_plot.update({'insert_params':[0.35, 0.55, 0.35, 0.3]})\n",
    "    kw_plot.update({'inset_lim':[6.8,7.35]})\n",
    "    kw_plot.update({'plt_title':'decoupling time sweep for C3'})\n",
    "    kw_plot.update({'yticks':[100,200,300,400,500,600,700]})\n",
    "    if val == 'n':\n",
    "        # plot parameters if we plot the generalized exponent of the decay\n",
    "        kw_plot.update({'ylim':[0.5,2],'ylim2':[0.5,2]})\n",
    "        kw_plot.update({'yticks':[0.5,1,2],'yticks2':[0.5,1,2]})\n",
    "        kw_plot.update({'yscale':\"linear\",'yscale2':\"linear\"})\n",
    "        kw_plot.update({'insert_params':[0.2, 0.2,0, 0]})\n",
    "        kw_plot.update({'xlim':[6.8,7.35]})\n",
    "\n",
    "if carbon == 6:\n",
    "    kw_plot.update({'insert_params':[0.2, 0.52, 0.35,0.35]})\n",
    "    kw_plot.update({'inset_lim':[5.7,6.0]})\n",
    "    kw_plot.update({'plt_title':'decoupling time sweep for C6'})\n",
    "    kw_plot.update({'ylim':[40,500],'ylim2':[150,500],'yscale':'linear','yticks':[0,100,200,300,400,500],\n",
    "                       'yticks2':[200,300,400,500]})\n",
    "    \n",
    "    if val == 'n':\n",
    "        # plot parameters if we plot the generalized exponent of the decay\n",
    "        kw_plot.update({'ylim':[0.5,2],'ylim2':[0.5,2]})\n",
    "        kw_plot.update({'yticks':[0.5,1,2],'yticks2':[0.5,1,2]})\n",
    "        kw_plot.update({'yscale':\"linear\",'yscale2':\"linear\"})\n",
    "        kw_plot.update({'insert_params':[0.2, 0.2,0, 0]})\n",
    "        kw_plot.update({'xlim':[5.65,6.05]})\n",
    "        \n",
    "plot_fit_vals(fit_res_dict,val,**kw_plot)"
   ]
  },
  {
   "cell_type": "code",
   "execution_count": null,
   "metadata": {
    "collapsed": true
   },
   "outputs": [],
   "source": [
    "def plot_all_raw(fits):\n",
    "    fig,ax = plt.subplots()\n",
    "    cm = plt.get_cmap('viridis') \n",
    "    cNorm  = colors.Normalize(vmin=0, vmax=len(fits))\n",
    "    scalarMap = cmx.ScalarMappable(norm=cNorm, cmap=cm)\n",
    "    \n",
    "    for idx,fit in enumerate(fits):\n",
    "        colorVal = scalarMap.to_rgba(idx)\n",
    "        fit_x = np.linspace(fit['x'][0],fit['x'][-1],100)\n",
    "        order = np.round(fit['a'].g.attrs['LDE_decouple_time']/2.256e-6,2)\n",
    "        ax.errorbar(fit['x'],fit['y'],fit['y_u'],fmt='o',label=r't = %s * $\\tau_L$' % order,zorder=5,color=colorVal)\n",
    "        ax.plot(fit_x,fit['fitfunc'](fit_x),color=colorVal,zorder=0)\n",
    "    plt.legend(bbox_to_anchor=(1.05, 1), loc=2, borderaxespad=0.,ncol=2)\n",
    "    plt.xlabel(fit['a'].g.attrs['sweep_name'])"
   ]
  },
  {
   "cell_type": "code",
   "execution_count": null,
   "metadata": {
    "collapsed": false
   },
   "outputs": [],
   "source": [
    "plot_all_raw(fit_res_dict['Z'])"
   ]
  },
  {
   "cell_type": "code",
   "execution_count": null,
   "metadata": {
    "collapsed": false
   },
   "outputs": [],
   "source": [
    "xs = []\n",
    "ts = []\n",
    "fig,ax = plt.subplots(figsize=(4,2.8))\n",
    "for f in fit_res_dict['Z']:\n",
    "    xs.append(f['a'].g.attrs['LDE_decouple_time']/2.256e-6)\n",
    "    ts.append(f['params_dict']['T'])\n",
    "    \n",
    "xs = np.array(xs);ts=np.array(ts)\n",
    "ts = ts[np.argsort(xs)]; xs = np.sort(xs)\n",
    "plt.plot(xs,ts,'o-')\n",
    "if carbon == 3:\n",
    "    plt.xlim([6.8,7.35])\n",
    "    plt.ylim([100,1e5])\n",
    "if carbon == 6:\n",
    "    plt.xlim([5.7,6])\n",
    "    plt.ylim([100,1e5])\n",
    "plt.ylabel('decay constant <Z>')\n",
    "plt.xlabel(r'decouple time ($\\mathrm{\\tau_L}$)')\n",
    "plt.yscale('log',nonposy='clip')"
   ]
  },
  {
   "cell_type": "code",
   "execution_count": null,
   "metadata": {
    "collapsed": false
   },
   "outputs": [],
   "source": [
    "np.argmax(np.linspace(2,5,10))"
   ]
  },
  {
   "cell_type": "code",
   "execution_count": null,
   "metadata": {
    "collapsed": true
   },
   "outputs": [],
   "source": []
  }
 ],
 "metadata": {
  "kernelspec": {
   "display_name": "Python 2",
   "language": "python",
   "name": "python2"
  },
  "language_info": {
   "codemirror_mode": {
    "name": "ipython",
    "version": 2
   },
   "file_extension": ".py",
   "mimetype": "text/x-python",
   "name": "python",
   "nbconvert_exporter": "python",
   "pygments_lexer": "ipython2",
   "version": "2.7.11"
  }
 },
 "nbformat": 4,
 "nbformat_minor": 1
}
