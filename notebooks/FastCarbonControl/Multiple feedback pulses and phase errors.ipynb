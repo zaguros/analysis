{
 "cells": [
  {
   "cell_type": "code",
   "execution_count": null,
   "metadata": {
    "collapsed": false
   },
   "outputs": [],
   "source": [
    "import os\n",
    "\n",
    "if os.name == 'nt':\n",
    "    measuring_root = \"D:/measuring\"\n",
    "else:\n",
    "    measuring_root = \"/Users/jesse/Thesis/Code\"\n",
    "    \n",
    "execfile(os.path.join(measuring_root, \"analysis/scripts/setup_analysis.py\"))\n",
    "import analysis.lib.purification.purify_delayfb as pu_delayfb;reload(pu_delayfb)\n",
    "import matplotlib as mpl\n",
    "mpl.style.use('seaborn-bright')\n",
    "%matplotlib inline\n",
    "\n",
    "def savefig(name):\n",
    "    plt.savefig(name + \".png\", dpi=300, bbox_inches='tight')\n",
    "    plt.savefig(name + \".pdf\", bbox_inches='tight')"
   ]
  },
  {
   "cell_type": "code",
   "execution_count": null,
   "metadata": {
    "collapsed": false,
    "scrolled": false
   },
   "outputs": [],
   "source": [
    "reload(pu_delayfb)\n",
    "\n",
    "N_sweep_msmts_ots = {\n",
    "    'N2': '20170615161800',\n",
    "    'N4': '20170615162800',\n",
    "    'N6': '20170615163300'\n",
    "}\n",
    "\n",
    "Ns = np.array([2, 4, 6])\n",
    "\n",
    "det_sweep_x = []\n",
    "det_sweep_y = []\n",
    "det_sweep_y_u = []\n",
    "det_sweep_fr = []\n",
    "\n",
    "for N in Ns:\n",
    "    sfr, sx, sy, sy_u = pu_delayfb.calibrate_LDE_phase(contains = 'phase_fb_delayline',\n",
    "                                older_than = N_sweep_msmts_ots['N%d' % N],\n",
    "                                do_fit = True,fixed = [1],show_guess = True, plot_fit=False, \n",
    "                                freq = 6/360.,decay = 100,phi0=0.0, ret_fit_data=True\n",
    "                                #offset=0.5, A0 = 0.4\n",
    "                               )\n",
    "    det_sweep_x.append(sx)\n",
    "    det_sweep_y.append(sy)\n",
    "    det_sweep_y_u.append(sy_u)\n",
    "    det_sweep_fr.append(sfr)"
   ]
  },
  {
   "cell_type": "code",
   "execution_count": null,
   "metadata": {
    "collapsed": false
   },
   "outputs": [],
   "source": [
    "reload(pu_delayfb)\n",
    "\n",
    "fig = plt.figure()\n",
    "ax = plt.subplot(111)\n",
    "\n",
    "xN2, yN2, _ = pu_delayfb.analyse_delay_feedback_phase_error('fb_delayline', older_than=N_sweep_msmts_ots['N2'], name='X_positive', label='N = 2', ret_data=True, all_carbons_saved=False)\n",
    "xN4, yN4, _ = pu_delayfb.analyse_delay_feedback_phase_error('fb_delayline', older_than=N_sweep_msmts_ots['N4'], name='X_positive', label='N = 4', ret_data=True, all_carbons_saved=False)\n",
    "xN6, yN6, _ = pu_delayfb.analyse_delay_feedback_phase_error('fb_delayline', older_than=N_sweep_msmts_ots['N6'], name='X_positive', label='N = 6', ret_data=True, all_carbons_saved=False)\n",
    "\n",
    "plt.legend(loc=3)\n",
    "\n",
    "plt.savefig(\"phase_error_spread_LDE2_attempts.png\", dpi=300)"
   ]
  },
  {
   "cell_type": "code",
   "execution_count": null,
   "metadata": {
    "collapsed": false
   },
   "outputs": [],
   "source": [
    "phase_error_mean = np.zeros((3))\n",
    "phase_error_std = np.zeros((3))\n",
    "\n",
    "phase_error_arrays = [yN2, yN4, yN6]\n",
    "\n",
    "for i, arr in enumerate(phase_error_arrays):\n",
    "    phase_error_mean[i] = np.mean(arr)\n",
    "    phase_error_std[i] = np.std(arr)\n",
    "    \n",
    "plt.figure()\n",
    "# plt.scatter(Ns, phase_error_mean, label='mean')\n",
    "plt.scatter(Ns, phase_error_std, label='std dev')\n",
    "plt.xlim(0,6.5)\n",
    "plt.ylim(0,12)\n",
    "\n",
    "plt.xlabel(r\"Number of feedback pulses $N$\")\n",
    "plt.ylabel(r\"Std. dev. of the phase error $\\sigma_{\\Delta\\phi}$\")\n",
    "\n",
    "plt.savefig(\"std_dev_phase_error_delay_N.png\", dpi=300)"
   ]
  },
  {
   "cell_type": "code",
   "execution_count": null,
   "metadata": {
    "collapsed": false
   },
   "outputs": [],
   "source": [
    "def fit_decaying_cos_with_phase_errors(g_f, g_a, g_A, g_phi,g_t,phase_errors):\n",
    "    fitfunc_str = 'A *exp(-x/t) cos(2pi * (f*x + (phi + phi_err/360) ) + a'\n",
    "\n",
    "    f = fit.Parameter(g_f, 'f')\n",
    "    a = fit.Parameter(g_a, 'a')\n",
    "    A = fit.Parameter(g_A, 'A')\n",
    "    phi = fit.Parameter(g_phi, 'phi')\n",
    "    t   = fit.Parameter(g_t, 't')\n",
    "    # print 'guessed frequency is '+str(g_f)\n",
    "    p0 = [f, a, A,phi,t]\n",
    "\n",
    "    def fitfunc(x):\n",
    "        return a() + A()*np.exp(-x/t()) * np.cos(2*np.pi*( f()*x + (phi()+phase_errors)/360.))\n",
    "\n",
    "    return p0, fitfunc, fitfunc_str\n",
    "\n",
    "def plot_func_decaying_cos_with_phase_errors(x, p0, phase_errors):\n",
    "    f, a, A,phi,t = p0\n",
    "    \n",
    "    return a + A*np.exp(-x/t) * np.cos(2*np.pi*( f*x + (phi+phase_errors)/360.))"
   ]
  },
  {
   "cell_type": "code",
   "execution_count": null,
   "metadata": {
    "collapsed": false
   },
   "outputs": [],
   "source": [
    "reload(pu_delayfb)\n",
    "\n",
    "lns = []\n",
    "\n",
    "plt.figure(figsize=(4,3))\n",
    "\n",
    "for i in [0, 2]:\n",
    "    N = Ns[i]\n",
    "    sx, sy, sy_u, sfr = det_sweep_x[i], det_sweep_y[i], det_sweep_y_u[i], det_sweep_fr[i]\n",
    "\n",
    "#     fig = plt.figure()\n",
    "    if i == 0:\n",
    "        ax = plt.subplot(111)\n",
    "    else:\n",
    "        ax2 = ax.twinx()\n",
    "    plt.xlabel(\"Number of LDE attempts\")\n",
    "    if i == 0:\n",
    "        plt.ylabel((r\"$\\langle X \\rangle$\" % N) + \"\\t\\t\")\n",
    "    else:\n",
    "        plt.ylabel(\"\\t\\t\"+r\"$\\langle X \\rangle$\" % N)\n",
    "\n",
    "    xvals = np.linspace(0., 60., 1000.)\n",
    "\n",
    "    msmt_eb = plt.errorbar(sx, sy, sy_u, fmt='o', label=\"N = %d\" % N, color=\"C%d\" % i)\n",
    "\n",
    "    fit_ln = plt.plot(xvals, sfr['fitfunc'](xvals), color=\"C%d\" % i, label=\"N = %d\" % N)\n",
    "    fit_plus_phase_errors = np.zeros_like(phase_error_arrays[i])\n",
    "\n",
    "    old_phi = sfr['params_dict']['phi']\n",
    "    phi_idx = 2\n",
    "\n",
    "    for j, phase_err in enumerate(phase_error_arrays[i]):\n",
    "        sfr['p0'][phi_idx].set(old_phi + phase_err)\n",
    "        fit_plus_phase_errors[j] = sfr['fitfunc'](sx[j])\n",
    "    sfr['p0'][phi_idx].set(old_phi)\n",
    "    pherr_eb = plt.errorbar(sx, fit_plus_phase_errors, sy_u, markersize=8, fmt='*', label=\"N = %d fit plus phase error\" % N, color=\"C%d\" % ((3*i)/2+1))\n",
    "    \n",
    "    lns += [msmt_eb]\n",
    "    \n",
    "dummy_eb = plt.errorbar(np.array([]), np.array([]), markersize=8, fmt='*', color='k', label=\"fit plus phase error\")\n",
    "lns += [dummy_eb]\n",
    "\n",
    "yticks = [-0.5, 0.0, 0.5]\n",
    "ax.set_ylim(-0.5, 1.0)\n",
    "ax.set_yticks(yticks)\n",
    "ax.tick_params(axis='y', colors='C0')\n",
    "ax.yaxis.label.set_color(\"C0\")\n",
    "ax.spines['left'].set_color(\"C0\")\n",
    "ax.spines['right'].set_color(\"C2\")\n",
    "\n",
    "ax2.set_ylim(-1.0,0.5)\n",
    "ax2.set_yticks(yticks)\n",
    "ax2.tick_params(axis='y', colors='C2')\n",
    "ax2.yaxis.label.set_color(\"C2\")\n",
    "ax2.spines['left'].set_color(\"C0\")\n",
    "ax2.spines['right'].set_color(\"C2\")\n",
    "\n",
    "labs = [l.get_label() for l in lns]\n",
    "ax.legend(lns, labs, loc=9)\n",
    "\n",
    "plt.xlim(0,60)\n",
    "\n",
    "savefig(\"thesis-plots/phase-resolution-errors\")\n",
    "\n",
    "#     plt.savefig(\"detuning_sweep_normal_fit_with_phase_errors_N_%d.png\" % N, dpi=300)"
   ]
  },
  {
   "cell_type": "code",
   "execution_count": null,
   "metadata": {
    "collapsed": false
   },
   "outputs": [],
   "source": [
    "msmt_eb[2][0]"
   ]
  },
  {
   "cell_type": "code",
   "execution_count": null,
   "metadata": {
    "collapsed": false
   },
   "outputs": [],
   "source": [
    "reload(pu_delayfb)\n",
    "\n",
    "i = 0\n",
    "N = Ns[i]\n",
    "\n",
    "sx, sy, sy_u = det_sweep_x[i], det_sweep_y[i], det_sweep_y_u[i]\n",
    "\n",
    "\n",
    "\n",
    "freq = 6.0/360.0\n",
    "phi0 = 0.0\n",
    "decay = 100.0\n",
    "offset = 0.0\n",
    "A0 = 0.5\n",
    "\n",
    "fixed = [1]\n",
    "\n",
    "p0, fitfunc, fitfunc_str = fit_decaying_cos_with_phase_errors(freq,offset,A0,phi0,decay, phase_errors=phase_error_arrays[i])\n",
    "sfr = fit.fit1d(sx, sy,None,p0=p0, fitfunc=fitfunc, do_print=True, ret=True, VERBOSE=True, fixed=fixed)\n",
    "\n",
    "\n",
    "fig = plt.figure()\n",
    "ax = plt.subplot(111)\n",
    "plt.xlabel(\"Number of LDE attempts\")\n",
    "plt.ylabel(r\"$\\langle X \\rangle$\")\n",
    "\n",
    "\n",
    "\n",
    "xvals = np.linspace(0, np.max(sx))\n",
    "\n",
    "color = plt.errorbar(sx, sy, sy_u, fmt='o', label=\"N = %d\" % N)[0].get_color()\n",
    "\n",
    "params_dict = sfr['params_dict']\n",
    "p0 = [params_dict['f'], offset, params_dict['A'], params_dict['phi'], params_dict['t']]\n",
    "\n",
    "plotfunc = lambda x: plot_func_decaying_cos_with_phase_errors(x, p0, 0.0)\n",
    "\n",
    "plt.plot(xvals, plotfunc(xvals), label=\"N = %d, fit, phase errors corrected\" % N)\n",
    "fit_plus_phase_errors = np.zeros_like(phase_error_arrays[i])\n",
    "\n",
    "fit_plus_phase_errors = plot_func_decaying_cos_with_phase_errors(sx, p0, phase_errors=phase_error_arrays[i])\n",
    "\n",
    "plt.errorbar(sx, fit_plus_phase_errors, sy_u, fmt='x', label=\"N = %d, fit with phase errors\" % N)\n",
    "\n",
    "plt.legend()\n",
    "\n",
    "plt.savefig(\"detuning_sweep_phase_error_fit_N_%d.png\" % N, dpi=300)"
   ]
  },
  {
   "cell_type": "code",
   "execution_count": null,
   "metadata": {
    "collapsed": false
   },
   "outputs": [],
   "source": [
    "reload(pu_delayfb)\n",
    "\n",
    "multiC_ot = \"20170710174200\"\n",
    "\n",
    "contains = \"phase_fb_delayline\"\n",
    "\n",
    "### acquire data\n",
    "f = pu_delayfb.toolbox.latest_data(contains, older_than=multiC_ot)\n",
    "a = pu_delayfb.PurificationDelayFBAnalysis(f)"
   ]
  },
  {
   "cell_type": "code",
   "execution_count": null,
   "metadata": {
    "collapsed": false
   },
   "outputs": [],
   "source": [
    "name = \"X_positive\"\n",
    "max_nuclei = 6\n",
    "\n",
    "agrp = a.adwingrp(name)\n",
    "reps = agrp.attrs['reps_per_ROsequence']\n",
    "pts = agrp.attrs['sweep_length']\n",
    "sweep_pts = agrp.attrs['sweep_pts']\n",
    "sweep_name = agrp.attrs['sweep_name']\n",
    "\n",
    "feedback_delay_cycles = agrp['feedback_delay_cycles'].value.reshape((max_nuclei, pts, reps), order='F')"
   ]
  },
  {
   "cell_type": "code",
   "execution_count": null,
   "metadata": {
    "collapsed": false
   },
   "outputs": [],
   "source": [
    "feedback_delay_cycles[2]"
   ]
  },
  {
   "cell_type": "code",
   "execution_count": null,
   "metadata": {
    "collapsed": true
   },
   "outputs": [],
   "source": []
  }
 ],
 "metadata": {
  "kernelspec": {
   "display_name": "Python 2",
   "language": "python",
   "name": "python2"
  },
  "language_info": {
   "codemirror_mode": {
    "name": "ipython",
    "version": 2
   },
   "file_extension": ".py",
   "mimetype": "text/x-python",
   "name": "python",
   "nbconvert_exporter": "python",
   "pygments_lexer": "ipython2",
   "version": "2.7.13"
  }
 },
 "nbformat": 4,
 "nbformat_minor": 2
}
