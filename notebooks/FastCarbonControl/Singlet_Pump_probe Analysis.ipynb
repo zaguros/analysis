{
 "cells": [
  {
   "cell_type": "code",
   "execution_count": null,
   "metadata": {
    "collapsed": false
   },
   "outputs": [],
   "source": [
    "execfile(r'D:\\measuring\\analysis\\scripts\\setup_analysis.py')\n",
    "%matplotlib inline\n",
    "\n",
    "import matplotlib as mpl\n",
    "def save_plt(fig,name,folder):\n",
    "    plt.savefig(os.path.join(folder, name+'.pdf'),\n",
    "        format='pdf')"
   ]
  },
  {
   "cell_type": "code",
   "execution_count": null,
   "metadata": {
    "collapsed": false
   },
   "outputs": [],
   "source": [
    "def get_pump_probe(window_start,window_length,folder_normalization):\n",
    "    name = 'adwindata'\n",
    "    b = pqsequence.TailAnalysis(folder_normalization, hdf5_mode='r', pq_device = '')\n",
    "    b.get_sweep_pts()\n",
    "    b.get_sweep_idxs(noof_syncs_per_sweep_pt=1)\n",
    "    b.get_readout_results(name)\n",
    "    b.get_tail_vs_sweep(0,window_start,window_length, pq_binsize_ns=1, hist_binsize_ns=1.,verbose=False)\n",
    "    #b.plot_tail_hists_vs_sweep(save=False,log_plot = True)\n",
    "    return b,b.tail_cts_per_sweep_idx\n",
    "\n",
    "def get_norm_pump_probe(window_start,window_length,folder_normalization):\n",
    "    syncs_per_sweep = 1\n",
    "    cum_reps=0\n",
    "    name = 'adwindata'\n",
    "    b = pqsequence.TailAnalysis(folder_normalization, hdf5_mode='r', pq_device = '')\n",
    "    b.get_sweep_pts()\n",
    "    b.get_sweep_idxs(noof_syncs_per_sweep_pt=1)\n",
    "    b.get_readout_results(name)\n",
    "    b.get_tail_vs_sweep(0,window_start,window_length, pq_binsize_ns=1, hist_binsize_ns=1.,verbose=False)\n",
    "    norm_y_err = np.sqrt(b.tail_cts_per_sweep_idx)/np.sqrt((b.reps*syncs_per_sweep/b.sweep_length))\n",
    "    y_norm = np.average(b.tail_cts_per_sweep_idx)\n",
    "    norm_y_err = np.sqrt(np.sum(norm_y_err**2))/len(norm_y_err)\n",
    "    #b.plot_tail_hists_vs_sweep(save=False,log_plot = True)\n",
    "    return y_norm,norm_y_err\n",
    "\n",
    "def get_raw_singlet_data(f_list,base_f = None,norm_inside=False):\n",
    "    cum_reps = 0\n",
    "    syncs_per_sweep = 1\n",
    "    name = 'adwindata'\n",
    "    for fold in f_list:\n",
    "        a = pqsequence.TailAnalysis(fold, hdf5_mode='r', pq_device = '')\n",
    "        a.get_sweep_pts()\n",
    "        a.get_sweep_idxs(noof_syncs_per_sweep_pt=1)\n",
    "        a.get_readout_results(name)\n",
    "        a.get_tail_vs_sweep(0,window_start,window_length, pq_binsize_ns=1, hist_binsize_ns=1.,verbose=False)\n",
    "        cum_reps += a.reps\n",
    "        if fold == f_list[0]:\n",
    "            cum_tail_cts_per_sweep_idx = a.reps*a.tail_cts_per_sweep_idx\n",
    "        else:\n",
    "            cum_tail_cts_per_sweep_idx += a.reps*a.tail_cts_per_sweep_idx\n",
    "\n",
    "    cum_tail_cts_per_sweep_idx = cum_tail_cts_per_sweep_idx/cum_reps\n",
    "    print cum_reps\n",
    "    x = a.sweep_pts ### correction factor for distance\n",
    "    y = cum_tail_cts_per_sweep_idx\n",
    "    y_err = np.sqrt(cum_tail_cts_per_sweep_idx)/np.sqrt((cum_reps*syncs_per_sweep/a.sweep_length))\n",
    "    \n",
    "    if norm_inside:\n",
    "        print y\n",
    "        y_norm = y[0]\n",
    "        norm_y_err = y_err[0]\n",
    "        y_dark = y[1]\n",
    "        y_err = np.sqrt((y_norm*y_err)**2+(y*norm_y_err)**2)/y_norm**2\n",
    "        y = (y-y_dark)/y_norm\n",
    "        print y\n",
    "        x = x[2:];y=y[2:];y_err=y_err[2:]\n",
    "    a.plot_tail_hists_vs_sweep(save=False,log_plot = True)\n",
    "    plt.show()\n",
    "    return a,x,y,y_err"
   ]
  },
  {
   "cell_type": "code",
   "execution_count": null,
   "metadata": {
    "collapsed": false
   },
   "outputs": [],
   "source": [
    "base_f = r\"M:\\tnw\\ns\\qt\\Diamond\\Eigenpapers\\17_QMemories2\\Data\\SingletPumpProbeLT4\"\n",
    "#insert your time stamps here\n",
    "#pump_prob = ['170402','170640','170737','170837','170933','171029'] #results\n",
    "#normalization = '171416' # NV in |0> and no optical pi pulse\n",
    "#dark_cts  ='171232' # NV in |1> and no optical pi pulse\n",
    "ssro_tstamp = '143110' # for potential PSB_SPCorr\n",
    "\n",
    "contains = '-0.9V'\n",
    "older_than = None\n",
    "newer_than = '20171218_143000'\n",
    "dark_cts = 'bg'+contains[2:]\n",
    "normalization = 'ms0'+contains[2:]\n",
    "\n",
    "window_start = 5230\n",
    "window_length = 40\n",
    "minimal_pulse_start = 5190\n",
    "\n",
    "\n",
    "folder_list = tb.latest_data(contains=contains,older_than=older_than,\n",
    "                             newer_than=newer_than,return_all=True,folder=base_f)\n",
    "# folder_normalization = tb.latest_data(normalization,folder= base_f)\n",
    "# folder_dark = tb.latest_data(dark_cts,folder = base_f)"
   ]
  },
  {
   "cell_type": "code",
   "execution_count": null,
   "metadata": {
    "collapsed": false
   },
   "outputs": [],
   "source": [
    "### get data\n",
    "a,x,y,y_err = get_raw_singlet_data(folder_list,base_f=base_f,norm_inside=True)\n",
    "\n",
    "### rescale the x-axis:\n",
    "# min distance between pump and probe has to be calculated from starting points in the counthistogram\n",
    "#here all input values were taken for a window start of 5230 ns\n",
    "x = x*(-1)\n",
    "x = x-np.amin(x)+(5230-minimal_pulse_start)*1e-3 + (window_start-5230)*1e-3\n",
    "### normalize to the reference msmt (we only detect counts from ms=0)\n",
    "# y_norm,norm_y_err = get_norm_pump_probe(window_start,window_length,folder_normalization)\n",
    "\n",
    "### incorporate dark counts\n",
    "# b,y_dark = get_pump_probe(window_start,window_length,folder_dark)\n",
    "# y_err = np.sqrt((y_norm*y_err)**2+(y*norm_y_err)**2)/y_norm**2\n",
    "\n",
    "\n",
    "# y = (y-y_dark)/y_norm\n",
    "y_lt4 = y;x_lt4 = x;y_err_lt4=y_err"
   ]
  },
  {
   "cell_type": "code",
   "execution_count": null,
   "metadata": {
    "collapsed": false
   },
   "outputs": [],
   "source": [
    "#plotting\n",
    "fig = plt.figure()\n",
    "ax = plt.subplot(111)\n",
    "\n",
    "ax.errorbar(x_lt4,y_lt4,y_err_lt4, fmt = 'o')\n",
    "p0,fitfunc,fitfunc_str = common.fit_exp_decay_shifted_with_offset(np.amax(y),-np.amax(y)/3.,0.4,0)\n",
    "fit_result4 = fit.fit1d(x_lt4,y_lt4,None,p0=p0,fitfunc=fitfunc,do_print=True,fixed=[3],ret=True)\n",
    "plot.plot_fit1d(fit_result4,fit_xvals=np.linspace(0,np.amax(x_lt4),100),ax=ax)\n",
    "ax.set_xlabel(r'Pump-probe delay ($\\mu$s)')\n",
    "ax.set_ylabel(r'$\\mathrm{F(|0\\rangle)}$')\n",
    "plt.legend(frameon=False,loc=1,bbox_to_anchor=(0.95, 1))\n",
    "#plt.ylim([0,0.45])\n",
    "print 'plot saved in ', a.folder\n",
    "save_plt(fig,'singlet_pump_prob',folder = a.folder)\n",
    "plt.show()\n"
   ]
  },
  {
   "cell_type": "code",
   "execution_count": null,
   "metadata": {
    "collapsed": true
   },
   "outputs": [],
   "source": []
  },
  {
   "cell_type": "code",
   "execution_count": null,
   "metadata": {
    "collapsed": true
   },
   "outputs": [],
   "source": []
  }
 ],
 "metadata": {
  "kernelspec": {
   "display_name": "Python 2",
   "language": "python",
   "name": "python2"
  },
  "language_info": {
   "codemirror_mode": {
    "name": "ipython",
    "version": 2
   },
   "file_extension": ".py",
   "mimetype": "text/x-python",
   "name": "python",
   "nbconvert_exporter": "python",
   "pygments_lexer": "ipython2",
   "version": "2.7.3"
  }
 },
 "nbformat": 4,
 "nbformat_minor": 1
}
