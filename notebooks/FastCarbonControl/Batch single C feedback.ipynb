{
 "cells": [
  {
   "cell_type": "code",
   "execution_count": null,
   "metadata": {
    "collapsed": false
   },
   "outputs": [],
   "source": [
    "import os\n",
    "\n",
    "if os.name == 'nt':\n",
    "    measuring_root = \"D:/measuring\"\n",
    "else:\n",
    "    measuring_root = \"/Users/jesse/Thesis/Code\"\n",
    "\n",
    "execfile(os.path.join(measuring_root, \"analysis/scripts/setup_analysis.py\"))\n",
    "import analysis.lib.purification.purify_delayfb as pu_delayfb;reload(pu_delayfb)\n",
    "import analysis.lib.fastcarboncontrol.fcc as fcc; reload(fcc)\n",
    "import matplotlib as mpl\n",
    "mpl.style.use('seaborn-bright')\n",
    "%matplotlib inline\n",
    "def savefig(name):\n",
    "    plt.savefig(name + \".png\", dpi=300, bbox_inches='tight')\n",
    "    plt.savefig(name + \".pdf\", bbox_inches='tight')"
   ]
  },
  {
   "cell_type": "code",
   "execution_count": null,
   "metadata": {
    "collapsed": false
   },
   "outputs": [],
   "source": [
    "reload(pu_delayfb)\n",
    "carbons = [1,2,3,4,5,6,7]\n",
    "\n",
    "single_C_decay_data = dict()\n",
    "\n",
    "for c in carbons:\n",
    "    data = dict()\n",
    "    data[\"x\"], data[\"y\"], data[\"y_u\"], data[\"fr\"] = \\\n",
    "    pu_delayfb.number_of_repetitions_stitched(\n",
    "        multi_contains = ['sweep_number_of_reps_C%d_X' % (c)],\n",
    "        older_than=\"20170812000000\",\n",
    "        do_fit = True,\n",
    "        fixed=[0,2,5,6,4], \n",
    "        ret_data_fit=True,\n",
    "        T2star_correction=True,\n",
    "        LDE_element_length=7e-6,\n",
    "    )\n",
    "    single_C_decay_data[c] = data"
   ]
  },
  {
   "cell_type": "code",
   "execution_count": null,
   "metadata": {
    "collapsed": false
   },
   "outputs": [],
   "source": [
    "reload(pu_delayfb)\n",
    "fb_results = {}\n",
    "tomo_list = ['X', 'Y']\n",
    "\n",
    "for c in carbons:\n",
    "    c_key = c\n",
    "    fb_results[c_key] = {}\n",
    "\n",
    "    folder_names = []\n",
    "    for d_i in range(2):\n",
    "        name_template = \"phase_fb_delayline_C%d_sec%d\" % (\n",
    "            c,\n",
    "            d_i\n",
    "        )\n",
    "        folder_names += [name_template]\n",
    "    print folder_names\n",
    "    for t in tomo_list:\n",
    "        print(\"Tomo: %s\" % t)\n",
    "        data = dict()\n",
    "        data[\"x\"], data[\"y\"], data[\"y_u\"], data[\"fr\"] = \\\n",
    "        pu_delayfb.number_of_repetitions_stitched(\n",
    "            contains=\"\",\n",
    "            multi_contains=folder_names,\n",
    "            older_than='20170816000000',\n",
    "            do_fit=True,\n",
    "            x_only=True,\n",
    "            tomo_basis=t,\n",
    "            fit_n=1.0,\n",
    "            fixed=[0,2,5,6,4],\n",
    "            ret_data_fit=True,\n",
    "            T2star_correction=True,\n",
    "            LDE_element_length=7e-6\n",
    "        )\n",
    "        fb_results[c_key][t] = data"
   ]
  },
  {
   "cell_type": "code",
   "execution_count": null,
   "metadata": {
    "collapsed": false
   },
   "outputs": [],
   "source": [
    "fig = plt.figure(figsize=(4,3))\n",
    "ax = plt.subplot()\n",
    "i=0\n",
    "fit_xvals = np.linspace(0.,1000., 2000.)\n",
    "for c in carbons:\n",
    "    data = single_C_decay_data[c]\n",
    "    plt.errorbar(\n",
    "        data[\"x\"], data[\"y\"], data[\"y_u\"], \n",
    "        fmt='o', color=\"C%d\" % i, \n",
    "        label = r\"C%d, $N_{1/e} = %d \\pm %d$\" % (c, np.round(data[\"fr\"]['params_dict']['T']),\n",
    "                                                                 np.round(data[\"fr\"]['error_dict']['T']))\n",
    "    )\n",
    "    plt.plot(fit_xvals, data[\"fr\"]['fitfunc'](fit_xvals), color=\"C%d\" % i)\n",
    "    i += 1\n",
    "\n",
    "plt.ylim(0,1)\n",
    "plt.xlim(0,600)\n",
    "\n",
    "plt.xlabel(\"Number of LDE attempts\")\n",
    "plt.ylabel(r\"Bloch vector length\")\n",
    "# plt.title(\"Single-nuclear state decay\")\n",
    "\n",
    "# ax.set_yscale('log', nonposy='clip')\n",
    "# plt.ylim(0.001,1.0)\n",
    "\n",
    "lgd = plt.legend(loc=2, bbox_to_anchor=(1,1))    \n",
    "# plt.savefig(\"batch-plots/single-nuclear-state-decay.png\", dpi=300, bbox_extra_artists=(lgd,), bbox_inches='tight')\n",
    "savefig(\"thesis-plots/single-nuclear-state-decay\")\n",
    "plt.show()\n",
    "plt.close('all')"
   ]
  },
  {
   "cell_type": "code",
   "execution_count": null,
   "metadata": {
    "collapsed": false
   },
   "outputs": [],
   "source": [
    "data[\"x\"]"
   ]
  },
  {
   "cell_type": "code",
   "execution_count": null,
   "metadata": {
    "collapsed": false
   },
   "outputs": [],
   "source": [
    "fig = plt.figure(figsize=(4.4,4.2))\n",
    "gs = mpl.gridspec.GridSpec(2, 1, height_ratios=[3, 1])\n",
    "ax1 = plt.subplot(gs[0])\n",
    "ax2 = plt.subplot(gs[1])\n",
    "fit_xvals = np.linspace(0.,1000., 2000.)\n",
    "\n",
    "colors = [\"C%d\" % d for d in range(6)] + ['0.5']\n",
    "\n",
    "for i_c, c in enumerate(carbons):\n",
    "    data = fb_results[c]['X']\n",
    "    nofbdata = single_C_decay_data[c]\n",
    "    eb = ax1.errorbar(\n",
    "        data[\"x\"], data[\"y\"], data[\"y_u\"], \n",
    "        fmt='o',\n",
    "        color= colors[i_c],\n",
    "        alpha=0.5,\n",
    "        label = r\"C%d, $N_{1/e} = %d \\pm %d$\" % (c, np.round(data[\"fr\"]['params_dict']['T']),\n",
    "                                                                 np.round(data[\"fr\"]['error_dict']['T']))\n",
    "    )\n",
    "    ax1.plot(fit_xvals, data[\"fr\"]['fitfunc'](fit_xvals), color=eb[0].get_color())\n",
    "    \n",
    "    eb2 = ax2.errorbar(\n",
    "        data[\"x\"]+i_c*3, data[\"y\"] - nofbdata[\"y\"], np.sqrt(nofbdata[\"y_u\"]**2 + data[\"y_u\"]**2),\n",
    "        fmt='o',\n",
    "        ms=3,\n",
    "        alpha=0.5,\n",
    "        color=eb[0].get_color()\n",
    "    )\n",
    "    i += 1\n",
    "\n",
    "ax1.set_ylim(0,1)\n",
    "ax1.set_xlim(0,600)\n",
    "ax2.set_xlim(0,600)\n",
    "\n",
    "# ax1.set_xlabel(\"Number of LDE attempts\")\n",
    "ax1.set_ylabel(r\"$\\langle X \\rangle$\")\n",
    "# plt.title(\"Single-nuclear state decay\")\n",
    "ax2.set_xlabel(\"number of LDE attempts\")\n",
    "ax2.set_ylabel(\"Bloch vector\\ndifference\")\n",
    "ax2.set_ylim(-0.2,0.2)\n",
    "\n",
    "lgd = ax1.legend(loc=2, bbox_to_anchor=(1,1))    \n",
    "# plt.savefig(\"batch-plots/single-nuclear-feedback-decay.png\", dpi=300, bbox_extra_artists=(lgd,), bbox_inches='tight')\n",
    "plt.tight_layout()\n",
    "savefig(\"thesis-plots/single-nuclear-feedback-decay-w-residuals\")\n",
    "plt.show()\n",
    "plt.close('all')"
   ]
  },
  {
   "cell_type": "code",
   "execution_count": null,
   "metadata": {
    "collapsed": false
   },
   "outputs": [],
   "source": [
    "diffs = []\n",
    "\n",
    "for c in carbons:\n",
    "    data = fb_results[c]['X']\n",
    "    nofbdata = single_C_decay_data[c]\n",
    "    diffs += [data[\"y\"] - nofbdata[\"y\"]]\n",
    "    \n",
    "diff_arr = np.concatenate(diffs)"
   ]
  },
  {
   "cell_type": "code",
   "execution_count": null,
   "metadata": {
    "collapsed": false
   },
   "outputs": [],
   "source": [
    "np.mean(diff_arr)"
   ]
  },
  {
   "cell_type": "code",
   "execution_count": null,
   "metadata": {
    "collapsed": false
   },
   "outputs": [],
   "source": [
    "len(diff_arr)"
   ]
  },
  {
   "cell_type": "code",
   "execution_count": null,
   "metadata": {
    "collapsed": false
   },
   "outputs": [],
   "source": [
    "np.std(diff_arr) / np.sqrt(len(diff_arr) - 1)"
   ]
  },
  {
   "cell_type": "code",
   "execution_count": null,
   "metadata": {
    "collapsed": false
   },
   "outputs": [],
   "source": [
    "for i_c in carbons: \n",
    "    print \"carbon: \", i_c\n",
    "    data = single_C_decay_data[i_c]\n",
    "    print data[\"fr\"]['params_dict']['A']\n",
    "    print data[\"fr\"]['error_dict']['A']\n",
    "    print data[\"y\"][0]\n",
    "    print data[\"y_u\"][0]"
   ]
  },
  {
   "cell_type": "code",
   "execution_count": null,
   "metadata": {
    "collapsed": false
   },
   "outputs": [],
   "source": [
    "import measurement.scripts.lt4_scripts.setup.msmt_params as msmt_params\n",
    "reload(msmt_params)\n",
    "import itertools\n",
    "\n",
    "freqs = np.zeros((len(carbons), 3)) # -1, 0, +1\n",
    "# T2stars = np.zeros((len(carbons) + 2*len(carbon_combis)))\n",
    "\n",
    "c_idxs = dict()\n",
    "\n",
    "for i_c, c in enumerate(carbons):\n",
    "    ms0_freq = msmt_params.cfg['samples']['111no2']['C%d_freq_0' % c]\n",
    "    msp1_freq = msmt_params.cfg['samples']['111no2']['C%d_freq_1_%s' % (c, \"p1\")]\n",
    "    msm1_freq = msmt_params.cfg['samples']['111no2']['C%d_freq_1_%s' % (c, \"m1\")]  \n",
    "    freqs[i_c,0] = msm1_freq\n",
    "    freqs[i_c,1] = ms0_freq\n",
    "    freqs[i_c,2] = msp1_freq\n",
    "    \n",
    "# \n",
    "# +1 frequencies of C4 and C5 are interchanged\n",
    "freqs[3:5,2] = freqs[3:5,2][::-1]\n",
    "\n",
    "for i_c, c in enumerate(carbons):\n",
    "    print(\"C%d dephasing rate parameter: %.3f kHz\" % (c, 1e-3 * (freqs[i_c,2]-freqs[i_c,0])) )\n",
    "    \n",
    "    c_idxs[str(c)] = i_c\n",
    "    \n",
    "print freqs"
   ]
  },
  {
   "cell_type": "code",
   "execution_count": null,
   "metadata": {
    "collapsed": false
   },
   "outputs": [],
   "source": [
    "tau_naive = 30e-9\n",
    "tau_singlet = 300e-9\n",
    "\n",
    "for i_c, c in enumerate(carbons):\n",
    "    N_naive = 4. / (tau_naive * 2*np.pi*(freqs[i_c, 0] - freqs[i_c, 1]))**2\n",
    "    N_singlet = 4. / (tau_singlet * 2*np.pi*(freqs[i_c,0] - freqs[i_c,2]))**2\n",
    "    \n",
    "    print \"carbon: \", c\n",
    "    print \"N naive: \", N_naive\n",
    "    print \"N singlet\", N_singlet"
   ]
  },
  {
   "cell_type": "code",
   "execution_count": null,
   "metadata": {
    "collapsed": true
   },
   "outputs": [],
   "source": []
  }
 ],
 "metadata": {
  "kernelspec": {
   "display_name": "Python 2",
   "language": "python",
   "name": "python2"
  },
  "language_info": {
   "codemirror_mode": {
    "name": "ipython",
    "version": 2
   },
   "file_extension": ".py",
   "mimetype": "text/x-python",
   "name": "python",
   "nbconvert_exporter": "python",
   "pygments_lexer": "ipython2",
   "version": "2.7.13"
  }
 },
 "nbformat": 4,
 "nbformat_minor": 2
}
