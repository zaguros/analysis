{
 "cells": [
  {
   "cell_type": "code",
   "execution_count": 13,
   "metadata": {
    "collapsed": false
   },
   "outputs": [
    {
     "name": "stdout",
     "output_type": "stream",
     "text": [
      "Loading config for Jesse's MacBook\n",
      "Loading config for Jesse's MacBook\n",
      "Loading config for Jesse's MacBook\n",
      "Setting up analysis environment for Jesse's MacBook\n",
      "reloaded\n",
      "Loading config for Jesse's MacBook\n"
     ]
    }
   ],
   "source": [
    "import os\n",
    "\n",
    "if os.name == 'nt':\n",
    "    measuring_root = \"D:/measuring\"\n",
    "else:\n",
    "    measuring_root = \"/Users/jesse/Thesis/Code\"\n",
    "    \n",
    "execfile(os.path.join(measuring_root, \"analysis/scripts/setup_analysis.py\"))\n",
    "import analysis.lib.purification.purify_delayfb as pu_delayfb;reload(pu_delayfb)\n",
    "import matplotlib as mpl\n",
    "mpl.style.use('seaborn-bright')\n",
    "%matplotlib inline"
   ]
  },
  {
   "cell_type": "code",
   "execution_count": 2,
   "metadata": {
    "collapsed": false
   },
   "outputs": [
    {
     "name": "stdout",
     "output_type": "stream",
     "text": [
      "reloaded\n",
      "Loading config for Jesse's MacBook\n"
     ]
    },
    {
     "name": "stderr",
     "output_type": "stream",
     "text": [
      "/Users/jesse/Thesis/Code/analysis/lib/math/error.py:70: FutureWarning: comparison to `None` will result in an elementwise object comparison in the future.\n",
      "  if uncertainties == None:\n"
     ]
    },
    {
     "ename": "ValueError",
     "evalue": "total size of new array must be unchanged",
     "output_type": "error",
     "traceback": [
      "\u001b[0;31m---------------------------------------------------------------------------\u001b[0m",
      "\u001b[0;31mValueError\u001b[0m                                Traceback (most recent call last)",
      "\u001b[0;32m<ipython-input-2-e818485d0b17>\u001b[0m in \u001b[0;36m<module>\u001b[0;34m()\u001b[0m\n\u001b[1;32m      6\u001b[0m pu_delayfb.analyse_sequence_phase(contains=\"phase_fb_delayline\", older_than=C4_ot, ret_data=False, \n\u001b[1;32m      7\u001b[0m                                   \u001b[0mdo_fit\u001b[0m\u001b[0;34m=\u001b[0m\u001b[0mTrue\u001b[0m\u001b[0;34m,\u001b[0m \u001b[0mfixed\u001b[0m\u001b[0;34m=\u001b[0m\u001b[0;34m[\u001b[0m\u001b[0;36m1\u001b[0m\u001b[0;34m]\u001b[0m\u001b[0;34m,\u001b[0m\u001b[0;34m\u001b[0m\u001b[0m\n\u001b[0;32m----> 8\u001b[0;31m                                  freq=6./360., decay=100, carbon_idx=1)\n\u001b[0m",
      "\u001b[0;32m/Users/jesse/Thesis/Code/analysis/lib/purification/purify_delayfb.pyc\u001b[0m in \u001b[0;36manalyse_sequence_phase\u001b[0;34m(contains, do_fit, **kw)\u001b[0m\n\u001b[1;32m    594\u001b[0m             \u001b[0mA0\u001b[0m \u001b[0;34m=\u001b[0m \u001b[0mmax\u001b[0m\u001b[0;34m(\u001b[0m\u001b[0my\u001b[0m\u001b[0;34m)\u001b[0m\u001b[0;34m\u001b[0m\u001b[0m\n\u001b[1;32m    595\u001b[0m \u001b[0;34m\u001b[0m\u001b[0m\n\u001b[0;32m--> 596\u001b[0;31m         \u001b[0m_\u001b[0m\u001b[0;34m,\u001b[0m \u001b[0mphase_errors\u001b[0m\u001b[0;34m,\u001b[0m \u001b[0m_\u001b[0m \u001b[0;34m=\u001b[0m \u001b[0ma\u001b[0m\u001b[0;34m.\u001b[0m\u001b[0mget_phase_errors\u001b[0m\u001b[0;34m(\u001b[0m\u001b[0mname\u001b[0m\u001b[0;34m=\u001b[0m\u001b[0madwindata_str\u001b[0m\u001b[0;34m+\u001b[0m\u001b[0mro_array\u001b[0m\u001b[0;34m[\u001b[0m\u001b[0;36m0\u001b[0m\u001b[0;34m]\u001b[0m\u001b[0;34m,\u001b[0m \u001b[0;34m**\u001b[0m\u001b[0mkw\u001b[0m\u001b[0;34m)\u001b[0m\u001b[0;34m\u001b[0m\u001b[0m\n\u001b[0m\u001b[1;32m    597\u001b[0m         \u001b[0;32mprint\u001b[0m \u001b[0mphase_errors\u001b[0m\u001b[0;34m\u001b[0m\u001b[0m\n\u001b[1;32m    598\u001b[0m \u001b[0;34m\u001b[0m\u001b[0m\n",
      "\u001b[0;32m/Users/jesse/Thesis/Code/analysis/lib/purification/purify_delayfb.pyc\u001b[0m in \u001b[0;36mget_phase_errors\u001b[0;34m(self, name, return_aggregate_results, carbon_idx, all_carbons_saved, **kw)\u001b[0m\n\u001b[1;32m     32\u001b[0m \u001b[0;34m\u001b[0m\u001b[0m\n\u001b[1;32m     33\u001b[0m         \u001b[0;32mif\u001b[0m \u001b[0mall_carbons_saved\u001b[0m\u001b[0;34m:\u001b[0m\u001b[0;34m\u001b[0m\u001b[0m\n\u001b[0;32m---> 34\u001b[0;31m             \u001b[0mfeedback_delay_cycles\u001b[0m \u001b[0;34m=\u001b[0m \u001b[0magrp\u001b[0m\u001b[0;34m[\u001b[0m\u001b[0;34m'feedback_delay_cycles'\u001b[0m\u001b[0;34m]\u001b[0m\u001b[0;34m.\u001b[0m\u001b[0mvalue\u001b[0m\u001b[0;34m.\u001b[0m\u001b[0mreshape\u001b[0m\u001b[0;34m(\u001b[0m\u001b[0;34m(\u001b[0m\u001b[0mself\u001b[0m\u001b[0;34m.\u001b[0m\u001b[0mmax_nuclei\u001b[0m\u001b[0;34m,\u001b[0m \u001b[0mpts\u001b[0m\u001b[0;34m,\u001b[0m \u001b[0mreps\u001b[0m\u001b[0;34m)\u001b[0m\u001b[0;34m,\u001b[0m \u001b[0morder\u001b[0m\u001b[0;34m=\u001b[0m\u001b[0;34m'F'\u001b[0m\u001b[0;34m)\u001b[0m\u001b[0;34m[\u001b[0m\u001b[0mcarbon_idx\u001b[0m\u001b[0;34m]\u001b[0m\u001b[0;34m\u001b[0m\u001b[0m\n\u001b[0m\u001b[1;32m     35\u001b[0m             \u001b[0minput_phases\u001b[0m \u001b[0;34m=\u001b[0m \u001b[0magrp\u001b[0m\u001b[0;34m[\u001b[0m\u001b[0;34m'compensated_phase'\u001b[0m\u001b[0;34m]\u001b[0m\u001b[0;34m.\u001b[0m\u001b[0mvalue\u001b[0m\u001b[0;34m.\u001b[0m\u001b[0mreshape\u001b[0m\u001b[0;34m(\u001b[0m\u001b[0;34m(\u001b[0m\u001b[0mself\u001b[0m\u001b[0;34m.\u001b[0m\u001b[0mmax_nuclei\u001b[0m\u001b[0;34m,\u001b[0m\u001b[0mpts\u001b[0m\u001b[0;34m,\u001b[0m \u001b[0mreps\u001b[0m\u001b[0;34m)\u001b[0m\u001b[0;34m,\u001b[0m \u001b[0morder\u001b[0m\u001b[0;34m=\u001b[0m\u001b[0;34m'F'\u001b[0m\u001b[0;34m)\u001b[0m\u001b[0;34m[\u001b[0m\u001b[0mcarbon_idx\u001b[0m\u001b[0;34m]\u001b[0m\u001b[0;34m\u001b[0m\u001b[0m\n\u001b[1;32m     36\u001b[0m         \u001b[0;32melse\u001b[0m\u001b[0;34m:\u001b[0m\u001b[0;34m\u001b[0m\u001b[0m\n",
      "\u001b[0;31mValueError\u001b[0m: total size of new array must be unchanged"
     ]
    },
    {
     "data": {
      "image/png": "[encoded data removed]",
      "text/plain": [
       "<matplotlib.figure.Figure at 0x114481110>"
      ]
     },
     "metadata": {},
     "output_type": "display_data"
    }
   ],
   "source": [
    "reload(pu_delayfb)\n",
    "\n",
    "C2_ot = \"20170623172000\"\n",
    "C4_ot = \"20170623172700\"\n",
    "\n",
    "pu_delayfb.analyse_sequence_phase(contains=\"phase_fb_delayline\", older_than=C4_ot, ret_data=False, \n",
    "                                  do_fit=True, fixed=[1],\n",
    "                                 freq=6./360., decay=100, carbon_idx=1)"
   ]
  },
  {
   "cell_type": "code",
   "execution_count": 3,
   "metadata": {
    "collapsed": false
   },
   "outputs": [
    {
     "name": "stdout",
     "output_type": "stream",
     "text": [
      "reloaded\n",
      "Loading config for Jesse's MacBook\n"
     ]
    },
    {
     "ename": "IOError",
     "evalue": "Unable to open file (Unable to open file: name = '/users/jesse/thesis/data/localthesisdata/20170714/135407_ssro_calib_mwinit_111no2_sil2_ssrocalibration_mwinit/analysis.hdf5', errno = 2, error message = 'no such file or directory', flags = 0, o_flags = 0)",
     "output_type": "error",
     "traceback": [
      "\u001b[0;31m---------------------------------------------------------------------------\u001b[0m",
      "\u001b[0;31mIOError\u001b[0m                                   Traceback (most recent call last)",
      "\u001b[0;32m<ipython-input-3-fb3fe95313f0>\u001b[0m in \u001b[0;36m<module>\u001b[0;34m()\u001b[0m\n\u001b[1;32m      4\u001b[0m \u001b[0mrepump_speed_ot\u001b[0m \u001b[0;34m=\u001b[0m \u001b[0mNone\u001b[0m\u001b[0;34m\u001b[0m\u001b[0m\n\u001b[1;32m      5\u001b[0m \u001b[0;34m\u001b[0m\u001b[0m\n\u001b[0;32m----> 6\u001b[0;31m \u001b[0mfr\u001b[0m \u001b[0;34m=\u001b[0m \u001b[0mpu_delayfb\u001b[0m\u001b[0;34m.\u001b[0m\u001b[0mrepump_speed\u001b[0m\u001b[0;34m(\u001b[0m\u001b[0molder_than\u001b[0m\u001b[0;34m=\u001b[0m\u001b[0mrepump_speed_ot\u001b[0m\u001b[0;34m,\u001b[0m \u001b[0mdo_fit\u001b[0m\u001b[0;34m=\u001b[0m\u001b[0mTrue\u001b[0m\u001b[0;34m,\u001b[0m \u001b[0mshow_guess\u001b[0m\u001b[0;34m=\u001b[0m\u001b[0mTrue\u001b[0m\u001b[0;34m,\u001b[0m \u001b[0mfixed\u001b[0m\u001b[0;34m=\u001b[0m\u001b[0;34m[\u001b[0m\u001b[0;34m]\u001b[0m\u001b[0;34m,\u001b[0m \u001b[0mret\u001b[0m\u001b[0;34m=\u001b[0m\u001b[0mTrue\u001b[0m\u001b[0;34m)\u001b[0m\u001b[0;34m\u001b[0m\u001b[0m\n\u001b[0m",
      "\u001b[0;32m/Users/jesse/Thesis/Code/analysis/lib/purification/purify_delayfb.pyc\u001b[0m in \u001b[0;36mrepump_speed\u001b[0;34m(contains, name, do_fit, **kw)\u001b[0m\n\u001b[1;32m    774\u001b[0m     \u001b[0ma\u001b[0m\u001b[0;34m.\u001b[0m\u001b[0mget_sweep_pts\u001b[0m\u001b[0;34m(\u001b[0m\u001b[0;34m)\u001b[0m\u001b[0;34m\u001b[0m\u001b[0m\n\u001b[1;32m    775\u001b[0m     \u001b[0ma\u001b[0m\u001b[0;34m.\u001b[0m\u001b[0mget_readout_results\u001b[0m\u001b[0;34m(\u001b[0m\u001b[0mname\u001b[0m\u001b[0;34m=\u001b[0m\u001b[0mname\u001b[0m\u001b[0;34m)\u001b[0m\u001b[0;34m\u001b[0m\u001b[0m\n\u001b[0;32m--> 776\u001b[0;31m     \u001b[0ma\u001b[0m\u001b[0;34m.\u001b[0m\u001b[0mget_electron_ROC\u001b[0m\u001b[0;34m(\u001b[0m\u001b[0;34m**\u001b[0m\u001b[0mkw\u001b[0m\u001b[0;34m)\u001b[0m\u001b[0;34m\u001b[0m\u001b[0m\n\u001b[0m\u001b[1;32m    777\u001b[0m \u001b[0;34m\u001b[0m\u001b[0m\n\u001b[1;32m    778\u001b[0m     \u001b[0mx\u001b[0m \u001b[0;34m=\u001b[0m \u001b[0ma\u001b[0m\u001b[0;34m.\u001b[0m\u001b[0msweep_pts\u001b[0m\u001b[0;34m.\u001b[0m\u001b[0mreshape\u001b[0m\u001b[0;34m(\u001b[0m\u001b[0;34m-\u001b[0m\u001b[0;36m1\u001b[0m\u001b[0;34m)\u001b[0m\u001b[0;34m\u001b[0m\u001b[0m\n",
      "\u001b[0;32m/Users/jesse/Thesis/Code/analysis/lib/m2/ssro/mbi.pyc\u001b[0m in \u001b[0;36mget_electron_ROC\u001b[0;34m(self, ssro_calib_folder, **kw)\u001b[0m\n\u001b[1;32m    170\u001b[0m                 \u001b[0mroc\u001b[0m\u001b[0;34m.\u001b[0m\u001b[0mF0\u001b[0m\u001b[0;34m,\u001b[0m \u001b[0mroc\u001b[0m\u001b[0;34m.\u001b[0m\u001b[0mu_F0\u001b[0m\u001b[0;34m,\u001b[0m \u001b[0mroc\u001b[0m\u001b[0;34m.\u001b[0m\u001b[0mF1\u001b[0m\u001b[0;34m,\u001b[0m \u001b[0mroc\u001b[0m\u001b[0;34m.\u001b[0m\u001b[0mu_F1\u001b[0m \u001b[0;34m=\u001b[0m\u001b[0;31m \u001b[0m\u001b[0;31m\\\u001b[0m\u001b[0;34m\u001b[0m\u001b[0m\n\u001b[1;32m    171\u001b[0m                     ssro.get_SSRO_MWInit_calibration(ssro_calib_folder,\n\u001b[0;32m--> 172\u001b[0;31m                             ro_durations[i],el_state)\n\u001b[0m\u001b[1;32m    173\u001b[0m \u001b[0;34m\u001b[0m\u001b[0m\n\u001b[1;32m    174\u001b[0m                 p0, u_p0 = roc.num_eval(self.normalized_ssro[:,i],\n",
      "\u001b[0;32m/Users/jesse/Thesis/Code/analysis/lib/m2/ssro/ssro.pyc\u001b[0m in \u001b[0;36mget_SSRO_MWInit_calibration\u001b[0;34m(folder, readout_time, el_state)\u001b[0m\n\u001b[1;32m     21\u001b[0m     \u001b[0;32melse\u001b[0m\u001b[0;34m:\u001b[0m\u001b[0;34m\u001b[0m\u001b[0m\n\u001b[1;32m     22\u001b[0m         \u001b[0mfp\u001b[0m \u001b[0;34m=\u001b[0m \u001b[0mos\u001b[0m\u001b[0;34m.\u001b[0m\u001b[0mpath\u001b[0m\u001b[0;34m.\u001b[0m\u001b[0mjoin\u001b[0m\u001b[0;34m(\u001b[0m\u001b[0mfolder\u001b[0m\u001b[0;34m,\u001b[0m \u001b[0;34m'analysis.hdf5'\u001b[0m\u001b[0;34m)\u001b[0m\u001b[0;34m\u001b[0m\u001b[0m\n\u001b[0;32m---> 23\u001b[0;31m     \u001b[0mf\u001b[0m \u001b[0;34m=\u001b[0m \u001b[0mh5py\u001b[0m\u001b[0;34m.\u001b[0m\u001b[0mFile\u001b[0m\u001b[0;34m(\u001b[0m\u001b[0mfp\u001b[0m\u001b[0;34m,\u001b[0m \u001b[0;34m'r'\u001b[0m\u001b[0;34m)\u001b[0m\u001b[0;34m\u001b[0m\u001b[0m\n\u001b[0m\u001b[1;32m     24\u001b[0m \u001b[0;34m\u001b[0m\u001b[0m\n\u001b[1;32m     25\u001b[0m     \u001b[0mtimes\u001b[0m \u001b[0;34m=\u001b[0m \u001b[0mf\u001b[0m\u001b[0;34m[\u001b[0m\u001b[0;34m'fidelity/time'\u001b[0m\u001b[0;34m]\u001b[0m\u001b[0;34m.\u001b[0m\u001b[0mvalue\u001b[0m\u001b[0;34m\u001b[0m\u001b[0m\n",
      "\u001b[0;32m/Users/jesse/anaconda2/lib/python2.7/site-packages/h5py/_hl/files.pyc\u001b[0m in \u001b[0;36m__init__\u001b[0;34m(self, name, mode, driver, libver, userblock_size, swmr, **kwds)\u001b[0m\n\u001b[1;32m    269\u001b[0m \u001b[0;34m\u001b[0m\u001b[0m\n\u001b[1;32m    270\u001b[0m                 \u001b[0mfapl\u001b[0m \u001b[0;34m=\u001b[0m \u001b[0mmake_fapl\u001b[0m\u001b[0;34m(\u001b[0m\u001b[0mdriver\u001b[0m\u001b[0;34m,\u001b[0m \u001b[0mlibver\u001b[0m\u001b[0;34m,\u001b[0m \u001b[0;34m**\u001b[0m\u001b[0mkwds\u001b[0m\u001b[0;34m)\u001b[0m\u001b[0;34m\u001b[0m\u001b[0m\n\u001b[0;32m--> 271\u001b[0;31m                 \u001b[0mfid\u001b[0m \u001b[0;34m=\u001b[0m \u001b[0mmake_fid\u001b[0m\u001b[0;34m(\u001b[0m\u001b[0mname\u001b[0m\u001b[0;34m,\u001b[0m \u001b[0mmode\u001b[0m\u001b[0;34m,\u001b[0m \u001b[0muserblock_size\u001b[0m\u001b[0;34m,\u001b[0m \u001b[0mfapl\u001b[0m\u001b[0;34m,\u001b[0m \u001b[0mswmr\u001b[0m\u001b[0;34m=\u001b[0m\u001b[0mswmr\u001b[0m\u001b[0;34m)\u001b[0m\u001b[0;34m\u001b[0m\u001b[0m\n\u001b[0m\u001b[1;32m    272\u001b[0m \u001b[0;34m\u001b[0m\u001b[0m\n\u001b[1;32m    273\u001b[0m                 \u001b[0;32mif\u001b[0m \u001b[0mswmr_support\u001b[0m\u001b[0;34m:\u001b[0m\u001b[0;34m\u001b[0m\u001b[0m\n",
      "\u001b[0;32m/Users/jesse/anaconda2/lib/python2.7/site-packages/h5py/_hl/files.pyc\u001b[0m in \u001b[0;36mmake_fid\u001b[0;34m(name, mode, userblock_size, fapl, fcpl, swmr)\u001b[0m\n\u001b[1;32m     99\u001b[0m         \u001b[0;32mif\u001b[0m \u001b[0mswmr\u001b[0m \u001b[0;32mand\u001b[0m \u001b[0mswmr_support\u001b[0m\u001b[0;34m:\u001b[0m\u001b[0;34m\u001b[0m\u001b[0m\n\u001b[1;32m    100\u001b[0m             \u001b[0mflags\u001b[0m \u001b[0;34m|=\u001b[0m \u001b[0mh5f\u001b[0m\u001b[0;34m.\u001b[0m\u001b[0mACC_SWMR_READ\u001b[0m\u001b[0;34m\u001b[0m\u001b[0m\n\u001b[0;32m--> 101\u001b[0;31m         \u001b[0mfid\u001b[0m \u001b[0;34m=\u001b[0m \u001b[0mh5f\u001b[0m\u001b[0;34m.\u001b[0m\u001b[0mopen\u001b[0m\u001b[0;34m(\u001b[0m\u001b[0mname\u001b[0m\u001b[0;34m,\u001b[0m \u001b[0mflags\u001b[0m\u001b[0;34m,\u001b[0m \u001b[0mfapl\u001b[0m\u001b[0;34m=\u001b[0m\u001b[0mfapl\u001b[0m\u001b[0;34m)\u001b[0m\u001b[0;34m\u001b[0m\u001b[0m\n\u001b[0m\u001b[1;32m    102\u001b[0m     \u001b[0;32melif\u001b[0m \u001b[0mmode\u001b[0m \u001b[0;34m==\u001b[0m \u001b[0;34m'r+'\u001b[0m\u001b[0;34m:\u001b[0m\u001b[0;34m\u001b[0m\u001b[0m\n\u001b[1;32m    103\u001b[0m         \u001b[0mfid\u001b[0m \u001b[0;34m=\u001b[0m \u001b[0mh5f\u001b[0m\u001b[0;34m.\u001b[0m\u001b[0mopen\u001b[0m\u001b[0;34m(\u001b[0m\u001b[0mname\u001b[0m\u001b[0;34m,\u001b[0m \u001b[0mh5f\u001b[0m\u001b[0;34m.\u001b[0m\u001b[0mACC_RDWR\u001b[0m\u001b[0;34m,\u001b[0m \u001b[0mfapl\u001b[0m\u001b[0;34m=\u001b[0m\u001b[0mfapl\u001b[0m\u001b[0;34m)\u001b[0m\u001b[0;34m\u001b[0m\u001b[0m\n",
      "\u001b[0;32mh5py/_objects.pyx\u001b[0m in \u001b[0;36mh5py._objects.with_phil.wrapper (/Users/ilan/minonda/conda-bld/h5py_1490025880382/work/h5py/_objects.c:2846)\u001b[0;34m()\u001b[0m\n",
      "\u001b[0;32mh5py/_objects.pyx\u001b[0m in \u001b[0;36mh5py._objects.with_phil.wrapper (/Users/ilan/minonda/conda-bld/h5py_1490025880382/work/h5py/_objects.c:2804)\u001b[0;34m()\u001b[0m\n",
      "\u001b[0;32mh5py/h5f.pyx\u001b[0m in \u001b[0;36mh5py.h5f.open (/Users/ilan/minonda/conda-bld/h5py_1490025880382/work/h5py/h5f.c:2123)\u001b[0;34m()\u001b[0m\n",
      "\u001b[0;31mIOError\u001b[0m: Unable to open file (Unable to open file: name = '/users/jesse/thesis/data/localthesisdata/20170714/135407_ssro_calib_mwinit_111no2_sil2_ssrocalibration_mwinit/analysis.hdf5', errno = 2, error message = 'no such file or directory', flags = 0, o_flags = 0)"
     ]
    }
   ],
   "source": [
    "reload(pu_delayfb)\n",
    "\n",
    "#repump_speed_ot = \"20170530170400\"\n",
    "repump_speed_ot = None\n",
    "\n",
    "fr = pu_delayfb.repump_speed(older_than=repump_speed_ot, do_fit=True, show_guess=True, fixed=[], ret=True)"
   ]
  },
  {
   "cell_type": "code",
   "execution_count": null,
   "metadata": {
    "collapsed": false
   },
   "outputs": [],
   "source": [
    "reload(pu_delayfb)\n",
    "\n",
    "fr = pu_delayfb.analyse_sequence_phase(\n",
    "    contains='phase_offset',\n",
    "    do_fit = True,\n",
    "    fixed = [1,4],\n",
    "    show_guess = True,\n",
    "    freq = 1./360, \n",
    "    decay=np.inf,\n",
    "    phi0=0.0\n",
    ")\n"
   ]
  },
  {
   "cell_type": "code",
   "execution_count": null,
   "metadata": {
    "collapsed": false
   },
   "outputs": [],
   "source": [
    "reload(pu_delayfb)\n",
    "\n",
    "fr = pu_delayfb.analyse_sequence_phase(\n",
    "    contains='phase_fb',\n",
    "    do_fit = True,\n",
    "    fixed = [1],\n",
    "    show_guess = True,\n",
    "    freq = 8./360, \n",
    "    phi0=0.0\n",
    ")\n"
   ]
  },
  {
   "cell_type": "code",
   "execution_count": 5,
   "metadata": {
    "collapsed": false
   },
   "outputs": [
    {
     "name": "stdout",
     "output_type": "stream",
     "text": [
      "reloaded\n",
      "Loading config for Jesse's MacBook\n"
     ]
    }
   ],
   "source": [
    "reload(pu_delayfb)\n",
    "\n",
    "jitter_test_ot = \"20170711160000\"\n",
    "\n",
    "contains = \"fb_delayline\"\n",
    "\n",
    "f = pu_delayfb.toolbox.latest_data(contains, older_than=jitter_test_ot)\n",
    "a = pu_delayfb.PurificationDelayFBPQAnalysis(f)\n",
    "a.select_dataset('X_positive')\n",
    "\n",
    "tomo = 'X'\n",
    "ro_array = ['positive', 'negative']\n",
    "# print ro_array\n",
    "if tomo == '':\n",
    "    adwindata_str = tomo\n",
    "else:\n",
    "    adwindata_str = tomo + '_'\n",
    "x, y, y_u = pu_delayfb.get_pos_neg_data(a, adwindata_str=adwindata_str, ro_array=ro_array, older_than=jitter_test_ot)\n",
    "ylabel = tomo\n",
    "\n",
    "a.get_sweep_idxs()\n",
    "a.extract_pulse_data()"
   ]
  },
  {
   "cell_type": "code",
   "execution_count": 104,
   "metadata": {
    "collapsed": false
   },
   "outputs": [
    {
     "data": {
      "image/png": "[encoded data removed]",
      "text/plain": [
       "<matplotlib.figure.Figure at 0x11aa22290>"
      ]
     },
     "metadata": {},
     "output_type": "display_data"
    }
   ],
   "source": [
    "analysis_pulse = 3\n",
    "analysis_pt = 0\n",
    "\n",
    "t_data = a.pulse_sync_times[analysis_pulse, analysis_pt, :].flatten()\n",
    "plt.hist((t_data - np.mean(t_data))/1e3, label=\"pt %d\" % analysis_pt, bins=100)\n",
    "plt.title(\"Histogram for pulse %d in sweep pt %d\" % (analysis_pulse, analysis_pulse))\n",
    "plt.xlim(-2, 2)\n",
    "plt.xlabel(\"time offset (ns)\")\n",
    "plt.show()"
   ]
  },
  {
   "cell_type": "code",
   "execution_count": 7,
   "metadata": {
    "collapsed": false
   },
   "outputs": [],
   "source": [
    "dt_data = np.diff(a.pulse_sync_times, n=1, axis=0)"
   ]
  },
  {
   "cell_type": "code",
   "execution_count": 86,
   "metadata": {
    "collapsed": false
   },
   "outputs": [
    {
     "name": "stdout",
     "output_type": "stream",
     "text": [
      "Average delay: 2688.90 ns, std dev: 0.60 ns\n",
      "Min delay: 2687.63 ns, max delay: 2690.10 ns\n",
      "Max - min delay: 2.46 ns\n"
     ]
    },
    {
     "data": {
      "image/png": "[encoded data removed]",
      "text/plain": [
       "<matplotlib.figure.Figure at 0x11b4ea4d0>"
      ]
     },
     "metadata": {},
     "output_type": "display_data"
    }
   ],
   "source": [
    "analysis_dt = 3\n",
    "analysis_pt = 4\n",
    "\n",
    "for analysis_pt in range(1):\n",
    "\n",
    "    plt.hist(dt_data[analysis_dt,analysis_pt,:] / 1e3, bins=20)\n",
    "    plt.title(\"delta T between AWG and TiCo triggers, sweep pt %d\" % analysis_pt)\n",
    "\n",
    "    avg_delay = np.mean(dt_data[analysis_dt,analysis_pt,:] / 1e3)\n",
    "    std_delay = np.std(dt_data[analysis_dt,analysis_pt,:] / 1e3)\n",
    "    min_delay = np.min(dt_data[analysis_dt,analysis_pt,:] / 1e3)\n",
    "    max_delay = np.max(dt_data[analysis_dt,analysis_pt,:] / 1e3)\n",
    "    print(\"Average delay: %.2f ns, std dev: %.2f ns\\nMin delay: %.2f ns, max delay: %.2f ns\\nMax - min delay: %.2f ns\" \n",
    "          % (avg_delay, std_delay, min_delay, max_delay, max_delay - min_delay))\n",
    "    plt.show()"
   ]
  },
  {
   "cell_type": "code",
   "execution_count": null,
   "metadata": {
    "collapsed": false,
    "scrolled": false
   },
   "outputs": [],
   "source": [
    "reload(pu_delayfb)\n",
    "pu_delayfb.tomo_analysis()"
   ]
  },
  {
   "cell_type": "code",
   "execution_count": null,
   "metadata": {
    "collapsed": false
   },
   "outputs": [],
   "source": [
    "folder= tb.latest_data('FakeLDE')#, older_than=\"20170328125814\")\n",
    "a=sequence.SequenceAnalysis(folder)\n",
    "a.get_sweep_pts()\n",
    "a.get_readout_results(name='ssro')\n",
    "a.get_electron_ROC()\n",
    "ax = a.plot_result_vs_sweepparam(ret='ax', name='ssro')\n",
    "ax.set_ylim(0.0, 1.0)"
   ]
  },
  {
   "cell_type": "code",
   "execution_count": null,
   "metadata": {
    "collapsed": false
   },
   "outputs": [],
   "source": [
    "    reload(pu_delayfb)\n",
    "\n",
    "fr = pu_delayfb.calibrate_LDE_phase(\n",
    "    contains='phase_fb',\n",
    "    do_fit = False,\n",
    "    fixed = [1],\n",
    "    show_guess = False,\n",
    "    freq = 8./360, \n",
    "    phi0=0.0,\n",
    "    tomo_basis='Z'\n",
    ")"
   ]
  },
  {
   "cell_type": "code",
   "execution_count": null,
   "metadata": {
    "collapsed": true
   },
   "outputs": [],
   "source": []
  }
 ],
 "metadata": {
  "kernelspec": {
   "display_name": "Python 2",
   "language": "python",
   "name": "python2"
  },
  "language_info": {
   "codemirror_mode": {
    "name": "ipython",
    "version": 2
   },
   "file_extension": ".py",
   "mimetype": "text/x-python",
   "name": "python",
   "nbconvert_exporter": "python",
   "pygments_lexer": "ipython2",
   "version": "2.7.13"
  }
 },
 "nbformat": 4,
 "nbformat_minor": 2
}
