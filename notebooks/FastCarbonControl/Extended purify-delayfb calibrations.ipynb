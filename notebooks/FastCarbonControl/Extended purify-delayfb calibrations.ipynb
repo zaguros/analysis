{
 "cells": [
  {
   "cell_type": "code",
   "execution_count": null,
   "metadata": {
    "collapsed": false
   },
   "outputs": [],
   "source": [
    "import os\n",
    "\n",
    "if os.name == 'nt':\n",
    "    measuring_root = \"D:/measuring\"\n",
    "else:\n",
    "    measuring_root = \"/Users/jesse/Thesis/Code\"\n",
    "    \n",
    "execfile(os.path.join(measuring_root, \"analysis/scripts/setup_analysis.py\"))\n",
    "import analysis.lib.purification.purify_delayfb as pu_delayfb\n",
    "reload(pu_delayfb)\n",
    "import matplotlib as mpl\n",
    "mpl.style.use('seaborn-bright')\n",
    "%matplotlib inline\n",
    "\n",
    "def savefig(name):\n",
    "    plt.savefig(name + \".png\", dpi=300, bbox_inches='tight')\n",
    "    plt.savefig(name + \".pdf\", bbox_inches='tight')"
   ]
  },
  {
   "cell_type": "code",
   "execution_count": null,
   "metadata": {
    "collapsed": false
   },
   "outputs": [],
   "source": [
    "reload(pu_delayfb)\n",
    "\n",
    "C2_ot = \"20170623172000\"\n",
    "C4_ot = \"20170623172700\"\n",
    "\n",
    "pu_delayfb.analyse_sequence_phase(contains=\"phase_fb_delayline\", older_than=C4_ot, ret_data=False, \n",
    "                                  do_fit=True, fixed=[1],\n",
    "                                 freq=6./360., decay=100, carbon_idx=1)"
   ]
  },
  {
   "cell_type": "code",
   "execution_count": null,
   "metadata": {
    "collapsed": false
   },
   "outputs": [],
   "source": [
    "reload(pu_delayfb)\n",
    "\n",
    "#repump_speed_ot = \"20170530170400\"\n",
    "repump_speed_ot = None\n",
    "fr = pu_delayfb.repump_speed(older_than=repump_speed_ot, do_fit=True, show_guess=False, fixed=[], ret=True)\n",
    "\n",
    "# fr = pu_delayfb.repump_speed(contains = '0.02_',older_than=repump_speed_ot, do_fit=True, show_guess=False, fixed=[], ret=True)\n",
    "# fr = pu_delayfb.repump_speed(contains = '0.1_',older_than=repump_speed_ot, do_fit=True, show_guess=False, fixed=[], ret=True)\n",
    "# fr = pu_delayfb.repump_speed(contains = '0.8_',older_than=repump_speed_ot, do_fit=True, show_guess=False, fixed=[], ret=True)\n",
    "# fr = pu_delayfb.repump_speed(contains = '2.0_',older_than=repump_speed_ot, do_fit=True, show_guess=False, fixed=[], ret=True)"
   ]
  },
  {
   "cell_type": "code",
   "execution_count": null,
   "metadata": {
    "collapsed": false
   },
   "outputs": [],
   "source": [
    "reload(pu_delayfb)\n",
    "\n",
    "fr = pu_delayfb.analyse_sequence_phase(\n",
    "    contains='phase_offset',\n",
    "    do_fit = True,\n",
    "    fixed = [1,4],\n",
    "    show_guess = True,\n",
    "    freq = 1./360, \n",
    "    decay=np.inf,\n",
    "    phi0=0.0\n",
    ")\n"
   ]
  },
  {
   "cell_type": "code",
   "execution_count": null,
   "metadata": {
    "collapsed": false
   },
   "outputs": [],
   "source": [
    "reload(pu_delayfb)\n",
    "\n",
    "fr = pu_delayfb.analyse_sequence_phase(\n",
    "    contains='174053',#phase_fb',\n",
    "    do_fit = True,\n",
    "    fixed = [0,1,3],\n",
    "    show_guess = True,\n",
    "    freq = 0./360, \n",
    "    phi0=0.0,\n",
    "    decay=500,\n",
    "    tomo_basis='Z'\n",
    ")\n"
   ]
  },
  {
   "cell_type": "code",
   "execution_count": null,
   "metadata": {
    "collapsed": false
   },
   "outputs": [],
   "source": [
    "reload(pu_delayfb)\n",
    "\n",
    "contains = \"fb_delayline\"\n",
    "\n",
    "f = pu_delayfb.toolbox.latest_data(contains, older_than=\"20170711160000\")\n",
    "a = pu_delayfb.PurificationDelayFBPQAnalysis(f)\n",
    "a.select_dataset('X_positive')\n",
    "\n",
    "tomo = 'X'\n",
    "ro_array = ['positive', 'negative']\n",
    "# print ro_array\n",
    "if tomo == '':\n",
    "    adwindata_str = tomo\n",
    "else:\n",
    "    adwindata_str = tomo + '_'\n",
    "x, y, y_u = pu_delayfb.get_pos_neg_data(a, adwindata_str=adwindata_str, ro_array=ro_array)\n",
    "ylabel = tomo\n",
    "\n",
    "a.get_sweep_idxs()\n",
    "a.extract_pulse_data()"
   ]
  },
  {
   "cell_type": "code",
   "execution_count": null,
   "metadata": {
    "collapsed": false
   },
   "outputs": [],
   "source": [
    "analysis_pulse = 1\n",
    "analysis_pt = 10\n",
    "\n",
    "plt.figure(figsize=(4,2))\n",
    "\n",
    "total_data = []\n",
    "for analysis_pt in xrange(11):\n",
    "    t_data = np.array(a.pulse_sync_times[analysis_pulse, analysis_pt, :].flatten(), dtype=np.double)\n",
    "    print np.mean(t_data)\n",
    "    t_data -= np.mean(t_data)\n",
    "    total_data.append(t_data)\n",
    "    \n",
    "total_data = np.concatenate(total_data)\n",
    "plt.hist(total_data/1e3, label=\"pt %d\" % analysis_pt, bins=50)\n",
    "# plt.xlim(901.,902.)\n",
    "plt.xlim(-2,2)\n",
    "plt.ylim(0,200)\n",
    "# plt.title(\"Histogram for pulse %d in sweet pt %d\" % (analysis_pulse, analysis_pt))\n",
    "plt.xlabel(\"time offset (ns)\")\n",
    "plt.ylabel(\"counts\")\n",
    "\n",
    "savefig(\"thesis-plots/delay-trigger-histogram\")"
   ]
  },
  {
   "cell_type": "code",
   "execution_count": null,
   "metadata": {
    "collapsed": false
   },
   "outputs": [],
   "source": [
    "dt_data = np.diff(a.pulse_sync_times, n=1, axis=0)"
   ]
  },
  {
   "cell_type": "code",
   "execution_count": null,
   "metadata": {
    "collapsed": false
   },
   "outputs": [],
   "source": [
    "analysis_dt = 0\n",
    "analysis_pt = 0\n",
    "\n",
    "for analysis_pt in range(11):\n",
    "\n",
    "    plt.hist(dt_data[analysis_dt,analysis_pt,:] / 1e3, bins=20)\n",
    "    plt.title(\"delta T between AWG and TiCo triggers, sweep pt %d\" % analysis_pt)\n",
    "\n",
    "    avg_delay = np.mean(dt_data[analysis_dt,analysis_pt,:] / 1e3)\n",
    "    std_delay = np.std(dt_data[analysis_dt,analysis_pt,:] / 1e3)\n",
    "    min_delay = np.min(dt_data[analysis_dt,analysis_pt,:] / 1e3)\n",
    "    max_delay = np.max(dt_data[analysis_dt,analysis_pt,:] / 1e3)\n",
    "    print(\"Average delay: %.2f ns, std dev: %.2f ns\\nMin delay: %.2f ns, max delay: %.2f ns\\nMax - min delay: %.2f ns\" \n",
    "          % (avg_delay, std_delay, min_delay, max_delay, max_delay - min_delay))\n",
    "    plt.show()"
   ]
  },
  {
   "cell_type": "code",
   "execution_count": null,
   "metadata": {
    "collapsed": false,
    "scrolled": false
   },
   "outputs": [],
   "source": [
    "reload(pu_delayfb)\n",
    "pu_delayfb.tomo_analysis()"
   ]
  },
  {
   "cell_type": "code",
   "execution_count": null,
   "metadata": {
    "collapsed": false
   },
   "outputs": [],
   "source": [
    "folder= tb.latest_data('FakeLDE')#, older_than=\"20170328125814\")\n",
    "a=sequence.SequenceAnalysis(folder)\n",
    "a.get_sweep_pts()\n",
    "a.get_readout_results(name='ssro')\n",
    "a.get_electron_ROC()\n",
    "ax = a.plot_result_vs_sweepparam(ret='ax', name='ssro')\n",
    "ax.set_ylim(0.0, 1.0)"
   ]
  },
  {
   "cell_type": "code",
   "execution_count": null,
   "metadata": {
    "collapsed": false
   },
   "outputs": [],
   "source": [
    "    reload(pu_delayfb)\n",
    "frx = pu_delayfb.calibrate_LDE_phase(\n",
    "    contains='singlet',\n",
    "    do_fit = True,\n",
    "    fixed = [1,3,4],\n",
    "    show_guess = False,\n",
    "    freq = 1./37., decay = 23.,\n",
    "    phi0=120, ret = True,\n",
    "    tomo_basis='X'\n",
    ")\n",
    "fry = pu_delayfb.calibrate_LDE_phase(\n",
    "    contains='singlet',\n",
    "    do_fit = True,\n",
    "    fixed = [1,3,4],ret = True,\n",
    "    show_guess = False,\n",
    "    freq = 1./37., decay = 23.,\n",
    "    phi0=30,\n",
    "    tomo_basis='Y'\n",
    ")"
   ]
  },
  {
   "cell_type": "code",
   "execution_count": null,
   "metadata": {
    "collapsed": false
   },
   "outputs": [],
   "source": [
    "print frx['y']\n",
    "print fry['y']"
   ]
  },
  {
   "cell_type": "code",
   "execution_count": null,
   "metadata": {
    "collapsed": false
   },
   "outputs": [],
   "source": [
    "reload(pu_delayfb)\n",
    "\n",
    "pu_delayfb.average_repump_time(contains='Decoupling_time')"
   ]
  },
  {
   "cell_type": "code",
   "execution_count": null,
   "metadata": {
    "collapsed": true
   },
   "outputs": [],
   "source": [
    "Cfreqs = np.array([442986.36, 442804.48, 443720.0, 442993.52, 443849.06, 443245.18])"
   ]
  },
  {
   "cell_type": "code",
   "execution_count": null,
   "metadata": {
    "collapsed": false
   },
   "outputs": [],
   "source": [
    "larmors = 1./Cfreqs"
   ]
  },
  {
   "cell_type": "code",
   "execution_count": null,
   "metadata": {
    "collapsed": false
   },
   "outputs": [],
   "source": [
    "larmors"
   ]
  },
  {
   "cell_type": "code",
   "execution_count": null,
   "metadata": {
    "collapsed": true
   },
   "outputs": [],
   "source": [
    "avglarmor = np.mean(larmors)"
   ]
  },
  {
   "cell_type": "code",
   "execution_count": null,
   "metadata": {
    "collapsed": false
   },
   "outputs": [],
   "source": [
    "devs = (larmors / avglarmor) - 1.0"
   ]
  },
  {
   "cell_type": "code",
   "execution_count": null,
   "metadata": {
    "collapsed": false
   },
   "outputs": [],
   "source": [
    "devs * 360.0"
   ]
  },
  {
   "cell_type": "code",
   "execution_count": null,
   "metadata": {
    "collapsed": false
   },
   "outputs": [],
   "source": [
    "1.0/2256.0*360.0"
   ]
  },
  {
   "cell_type": "code",
   "execution_count": null,
   "metadata": {
    "collapsed": false
   },
   "outputs": [],
   "source": [
    "import measurement.scripts.lt4_scripts.setup.msmt_params as msmt_params\n",
    "reload(msmt_params)"
   ]
  },
  {
   "cell_type": "code",
   "execution_count": null,
   "metadata": {
    "collapsed": false
   },
   "outputs": [],
   "source": [
    "carbons = [2,4,5,3,6,7]\n",
    "trans = \"m1\"\n",
    "\n",
    "LDE_length = 7e-6\n",
    "dec_time = 2.256e-6 * 2\n",
    "ms0_time = LDE_length - dec_time\n",
    "\n",
    "couplings = []\n",
    "deviations = []\n",
    "\n",
    "print(\"LDE length (s): \\t\\t\\t\\t%e\" % LDE_length)\n",
    "print(\"Decoupling time (s): \\t\\t\\t\\t%e\" % dec_time)\n",
    "print(\"ms = 0 time (LDE length - dec. time) (s): \\t%e\" % ms0_time)\n",
    "print(\"\")\n",
    "\n",
    "for c in carbons:\n",
    "    print (\"Carbon: %d\" % c)\n",
    "    ms0_freq = msmt_params.cfg['samples']['111no2']['C%d_freq_0' % c]\n",
    "    ms1_freq = msmt_params.cfg['samples']['111no2']['C%d_freq_1_%s' % (c, trans)]\n",
    "    avg_freq = msmt_params.cfg['samples']['111no2']['C%d_freq_%s' % (c, trans)]\n",
    "    calibrated_phase_deg = msmt_params.cfg['samples']['111no2']['C%d_phase_per_LDE_sequence_%s' % (c, trans)]\n",
    "    \n",
    "    parallel_coupling = ms1_freq - ms0_freq\n",
    "    print(\"ms = 0 frequency (kHz): \\t\\t%.3f\" % (ms0_freq * 1e-3))\n",
    "    print(\"ms = -1 frequency (kHz): \\t\\t%.3f\" % (ms1_freq * 1e-3))\n",
    "    print(\"frequency difference (kHz): \\t\\t%.3f\" % (parallel_coupling*1e-3))\n",
    "    \n",
    "    phase = ms0_time * ms0_freq + dec_time * avg_freq\n",
    "    print(\"calc. LDE phase (full rotations): \\t%.3f\" % phase)\n",
    "    phase_deg = (phase % 1.0) * 360.0\n",
    "    print(\"calc. LDE phase (degrees): \\t\\t%.3f\" % phase_deg)\n",
    "    print(\"meas. LDE phase (degrees): \\t\\t%.3f\" % calibrated_phase_deg)\n",
    "    \n",
    "    phase_dev = phase_deg - calibrated_phase_deg\n",
    "    print(\"phase deviation (degrees): \\t\\t%.3f\" % phase_dev)\n",
    "    \n",
    "    couplings.append(parallel_coupling)\n",
    "    deviations.append(phase_dev)\n",
    "    \n",
    "couplings = np.array(couplings) * 1e-3\n",
    "deviations = np.array(deviations)\n",
    "\n",
    "plt.scatter(couplings, deviations)\n",
    "\n",
    "fit = np.polyfit(couplings, deviations, 1)\n",
    "p = np.poly1d(fit)\n",
    "\n",
    "plt.plot(couplings, p(couplings))\n",
    "plt.xlabel(\"parallel hyperfine coupling (kHz)\")\n",
    "plt.ylabel(\"phase deviation (degrees)\")\n",
    "\n",
    "print(\"fit parameters: \" + str(fit))"
   ]
  },
  {
   "cell_type": "code",
   "execution_count": null,
   "metadata": {
    "collapsed": true
   },
   "outputs": [],
   "source": [
    "0.048/(400e-9)"
   ]
  },
  {
   "cell_type": "code",
   "execution_count": null,
   "metadata": {
    "collapsed": true
   },
   "outputs": [],
   "source": []
  }
 ],
 "metadata": {
  "kernelspec": {
   "display_name": "Python 2",
   "language": "python",
   "name": "python2"
  },
  "language_info": {
   "codemirror_mode": {
    "name": "ipython",
    "version": 2
   },
   "file_extension": ".py",
   "mimetype": "text/x-python",
   "name": "python",
   "nbconvert_exporter": "python",
   "pygments_lexer": "ipython2",
   "version": "2.7.13"
  }
 },
 "nbformat": 4,
 "nbformat_minor": 2
}
