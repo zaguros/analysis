{
 "cells": [
  {
   "cell_type": "code",
   "execution_count": null,
   "metadata": {
    "collapsed": false
   },
   "outputs": [],
   "source": [
    "import os\n",
    "\n",
    "if os.name == 'nt':\n",
    "    measuring_root = \"D:/measuring\"\n",
    "else:\n",
    "    measuring_root = \"/Users/jesse/Thesis/Code\"\n",
    "\n",
    "execfile(os.path.join(measuring_root, \"analysis/scripts/setup_analysis.py\"))\n",
    "import analysis.lib.purification.purify_delayfb as pu_delayfb;reload(pu_delayfb)\n",
    "import analysis.lib.fastcarboncontrol.fcc as fcc; reload(fcc)\n",
    "import matplotlib as mpl\n",
    "mpl.style.use('seaborn-bright')\n",
    "%matplotlib inline\n",
    "def savefig(name):\n",
    "    plt.savefig(name + \".png\", dpi=300, bbox_inches='tight')\n",
    "    plt.savefig(name + \".pdf\", bbox_inches='tight')\n"
   ]
  },
  {
   "cell_type": "code",
   "execution_count": null,
   "metadata": {
    "collapsed": false
   },
   "outputs": [],
   "source": [
    "%%html\n",
    "<style>\n",
    "  table {margin-left: 0 !important;}\n",
    "</style>"
   ]
  },
  {
   "cell_type": "markdown",
   "metadata": {},
   "source": [
    "# Data loading"
   ]
  },
  {
   "cell_type": "code",
   "execution_count": null,
   "metadata": {
    "collapsed": true
   },
   "outputs": [],
   "source": [
    "carbons = np.arange(1,8)"
   ]
  },
  {
   "cell_type": "code",
   "execution_count": null,
   "metadata": {
    "collapsed": false,
    "scrolled": false
   },
   "outputs": [],
   "source": [
    "reload(pu_delayfb)\n",
    "carbons = [1,2,3,4,5,6,7]\n",
    "\n",
    "single_C_decay_data = dict()\n",
    "\n",
    "for c in carbons:\n",
    "    data = dict()\n",
    "    data[\"x\"], data[\"y\"], data[\"y_u\"], data[\"fr\"] = \\\n",
    "    pu_delayfb.number_of_repetitions_stitched(\n",
    "        contains = 'sweep_number_of_reps_C%d_X' % (c),\n",
    "        older_thans = [\"20170912000000\"],\n",
    "        do_fit = True,\n",
    "        fixed=[0,2,5,6,4],\n",
    "        T2star_correction=True,\n",
    "        LDE_element_length=7e-6,\n",
    "        ret_data_fit=True)\n",
    "    single_C_decay_data[c] = data"
   ]
  },
  {
   "cell_type": "code",
   "execution_count": null,
   "metadata": {
    "collapsed": false
   },
   "outputs": [],
   "source": [
    "import measurement.scripts.lt4_scripts.setup.msmt_params as msmt_params\n",
    "reload(msmt_params)\n",
    "import itertools\n",
    "\n",
    "carbon_combis = list(itertools.combinations(carbons, 2))\n",
    "\n",
    "freqs = np.zeros((len(carbons) + 2*len(carbon_combis), 3)) # -1, 0, +1\n",
    "# T2stars = np.zeros((len(carbons) + 2*len(carbon_combis)))\n",
    "\n",
    "c_idxs = dict()\n",
    "\n",
    "for i_c, c in enumerate(carbons):\n",
    "    ms0_freq = msmt_params.cfg['samples']['111no2']['C%d_freq_0' % c]\n",
    "    msp1_freq = msmt_params.cfg['samples']['111no2']['C%d_freq_1_%s' % (c, \"p1\")]\n",
    "    msm1_freq = msmt_params.cfg['samples']['111no2']['C%d_freq_1_%s' % (c, \"m1\")]\n",
    "#     T2star = msmt_params.cfg['samples']['111no2']['C%d_T2star_0' % (c, \"m1\")]\n",
    "    \n",
    "    freqs[i_c,0] = msm1_freq\n",
    "    freqs[i_c,1] = ms0_freq\n",
    "    freqs[i_c,2] = msp1_freq\n",
    "    \n",
    "    print(\"C%d dephasing rate parameter: %.3f kHz\" % (c, 1e-3 * (msp1_freq-msm1_freq)) )\n",
    "#     T2stars[i_c] = T2star\n",
    "    \n",
    "    c_idxs[str(c)] = i_c\n",
    "    \n",
    "# \n",
    "# +1 frequencies of C4 and C5 are interchanged\n",
    "freqs[3:5,2] = freqs[3:5,2][::-1]\n",
    "    \n",
    "for i_cc, cc in enumerate(carbon_combis):\n",
    "    idx = 2*i_cc + len(carbons)\n",
    "    freqs[idx,:] = (freqs[c_idxs[str(cc[0])],:] + freqs[c_idxs[str(cc[1])],:])\n",
    "    print(\"C%s dephasing rate parameter: %.3f kHz\" % (\"%d%d+\" % cc, 1e-3 * (freqs[idx,2] - freqs[idx,0])) )\n",
    "    c_idxs[\"%d%d+\" % cc] = idx\n",
    "    freqs[idx+1,:] = (freqs[c_idxs[str(cc[0])],:] - freqs[c_idxs[str(cc[1])],:])\n",
    "    print(\"C%s dephasing rate parameter: %.3f kHz\" % (\"%d%d-\" % cc, 1e-3 * (freqs[idx+1,2] - freqs[idx+1,0])) )\n",
    "    c_idxs[\"%d%d-\" % cc] = idx+1\n",
    "    \n",
    "print freqs"
   ]
  },
  {
   "cell_type": "code",
   "execution_count": null,
   "metadata": {
    "collapsed": false
   },
   "outputs": [],
   "source": [
    "testcombi = \"24+\"\n",
    "testidx = c_idxs[testcombi]\n",
    "testidx_1 = c_idxs[testcombi[0]]\n",
    "testidx_2 = c_idxs[testcombi[1]]\n",
    "\n",
    "print freqs[testidx]\n",
    "print np.diff(freqs[testidx])\n",
    "print freqs[testidx_1]\n",
    "print np.diff(freqs[testidx_1])\n",
    "print freqs[testidx_2]\n",
    "print np.diff(freqs[testidx_2])\n"
   ]
  },
  {
   "cell_type": "markdown",
   "metadata": {},
   "source": [
    "# Markov chain model\n",
    "\n",
    "## State space\n",
    "\n",
    "state | index\n",
    "--- | ---\n",
    "0 | 0\n",
    "-1 | 1\n",
    "+1 | 2\n",
    "E' | 3\n",
    "S | 4"
   ]
  },
  {
   "cell_type": "code",
   "execution_count": null,
   "metadata": {
    "collapsed": true
   },
   "outputs": [],
   "source": [
    "# rates\n",
    "\n",
    "excitation_rate = 1 / 70e-9\n",
    "\n",
    "Ep_branching = np.array([0.03, 0.94, 0.03, 0.0, 0.63])\n",
    "Ep_lifetime = 11.7e-9\n",
    "\n",
    "S_branching = np.array([9., 1., 1., 0., 0.])\n",
    "S_lifetime = 300e-9\n",
    "\n",
    "# normalization\n",
    "Ep_branching = Ep_branching / np.sum(Ep_branching)\n",
    "S_branching = S_branching / np.sum(S_branching)\n",
    "\n",
    "Ep_rate = 1 / Ep_lifetime\n",
    "S_rate = 1 / S_lifetime"
   ]
  },
  {
   "cell_type": "code",
   "execution_count": null,
   "metadata": {
    "collapsed": false
   },
   "outputs": [],
   "source": [
    "# construct generator matrix\n",
    "num_states = 5\n",
    "\n",
    "G = np.zeros((num_states, num_states))\n",
    "\n",
    "# rates leaving state 0\n",
    "G[0,:] = 0.0\n",
    "# rates leaving state -1\n",
    "G[1,3] = excitation_rate\n",
    "# rates leaving state +1\n",
    "G[2,3] = excitation_rate\n",
    "# rates leaving state E'\n",
    "G[3,:] = Ep_rate * Ep_branching\n",
    "# rates leaving state S\n",
    "G[4,:] = S_rate * S_branching\n",
    "\n",
    "# compute diagonal elements\n",
    "diagonal_sum = np.sum(np.abs(G*np.eye(num_states)))\n",
    "if diagonal_sum > 0:\n",
    "    print(\"WARNING! There are diagonal rates in the generator matrix\")\n",
    "    \n",
    "G[np.diag_indices_from(G)] = -1. * np.sum(G, axis=1)"
   ]
  },
  {
   "cell_type": "code",
   "execution_count": null,
   "metadata": {
    "collapsed": false
   },
   "outputs": [],
   "source": [
    "print(\"Generator matrix in MHz\")\n",
    "print(str(G / 1e6))"
   ]
  },
  {
   "cell_type": "code",
   "execution_count": null,
   "metadata": {
    "collapsed": false
   },
   "outputs": [],
   "source": [
    "stationary_dist = np.array([1., 0., 0., 0., 0.])\n",
    "np.dot(stationary_dist, G)"
   ]
  },
  {
   "cell_type": "code",
   "execution_count": null,
   "metadata": {
    "collapsed": false
   },
   "outputs": [],
   "source": [
    "import numpy.linalg as la\n",
    "\n",
    "# la.solve(G, np.zeros((num_states)))"
   ]
  },
  {
   "cell_type": "markdown",
   "metadata": {},
   "source": [
    "# Binomial - geometric model"
   ]
  },
  {
   "cell_type": "code",
   "execution_count": null,
   "metadata": {
    "collapsed": false
   },
   "outputs": [],
   "source": [
    "from scipy import stats\n",
    "from numpy import random\n",
    "\n",
    "singlet_lifetime = 300e-9\n",
    "repump_success = 9./11.\n",
    "excitation_time = 40e-9\n",
    "\n",
    "t_repump = np.linspace(0,10e-6,1000)"
   ]
  },
  {
   "cell_type": "code",
   "execution_count": null,
   "metadata": {
    "collapsed": false
   },
   "outputs": [],
   "source": [
    "plt.plot(t_repump*1e6, stats.erlang.pdf(t_repump/singlet_lifetime, 3))"
   ]
  },
  {
   "cell_type": "code",
   "execution_count": null,
   "metadata": {
    "collapsed": false
   },
   "outputs": [],
   "source": [
    "def compound_geom_erlang_dist(x, r, tau):\n",
    "    sum_cutoff = 100\n",
    "    pdf = np.zeros_like(x, dtype=np.double)\n",
    "    for i in xrange(1,sum_cutoff):\n",
    "        pdf += stats.geom.pmf(i, r) * stats.erlang.pdf(x/tau, i)\n",
    "        \n",
    "    return pdf"
   ]
  },
  {
   "cell_type": "code",
   "execution_count": null,
   "metadata": {
    "collapsed": false
   },
   "outputs": [],
   "source": [
    "plt.plot(t_repump*1e6, compound_geom_erlang_dist(t_repump, repump_success, singlet_lifetime))"
   ]
  },
  {
   "cell_type": "code",
   "execution_count": null,
   "metadata": {
    "collapsed": true
   },
   "outputs": [],
   "source": [
    "def p_singlet(t, r, tau, tau_exc):\n",
    "    sum_cutoff = 1000\n",
    "    pdf = np.zeros_like(t, dtype=np.double)\n",
    "    geom_weight_sum = 0.0\n",
    "    for i in xrange(1,sum_cutoff):\n",
    "        # current_tau = tau + tau_exc if i > 1 else tau\n",
    "        geom_weight = stats.geom.pmf(i, r)\n",
    "        pdf += geom_weight * (1 - stats.erlang.cdf(t/tau, i))\n",
    "        geom_weight_sum += geom_weight\n",
    "    return pdf"
   ]
  },
  {
   "cell_type": "code",
   "execution_count": null,
   "metadata": {
    "collapsed": true
   },
   "outputs": [],
   "source": [
    "def p_repumped(t, r, tau, tau_exc):\n",
    "    ps = p_singlet(t, r, tau, tau_exc)\n",
    "    p0 = (1. - ps) + r*ps\n",
    "    return p0"
   ]
  },
  {
   "cell_type": "code",
   "execution_count": null,
   "metadata": {
    "collapsed": true
   },
   "outputs": [],
   "source": [
    "def p_excited(t, tau_exc):\n",
    "    return 1-stats.expon.pdf(t/tau_exc)"
   ]
  },
  {
   "cell_type": "code",
   "execution_count": null,
   "metadata": {
    "collapsed": true
   },
   "outputs": [],
   "source": [
    "def p_excited_repumped(t, r, tau, tau_exc):\n",
    "    pr = p_repumped(t, r, tau, tau_exc)\n",
    "    pexc = p_excited(t, tau_exc)\n",
    "    \n",
    "    return 1-(pexc*pr)"
   ]
  },
  {
   "cell_type": "code",
   "execution_count": null,
   "metadata": {
    "collapsed": false
   },
   "outputs": [],
   "source": [
    "plt.plot(t_repump*1e6, p_singlet(t_repump, repump_success, singlet_lifetime, excitation_time), label='singlet')\n",
    "plt.plot(t_repump*1e6, p_repumped(t_repump, repump_success, singlet_lifetime, excitation_time), label='repump success')\n",
    "plt.plot(t_repump*1e6, 1. - p_repumped(t_repump, repump_success, singlet_lifetime, excitation_time), label='repump failure')\n",
    "plt.plot(t_repump*1e6, p_excited_repumped(t_repump, repump_success, singlet_lifetime, excitation_time), label='repump failure with excitation')\n",
    "plt.plot(t_repump*1e6, p_excited(t_repump, excitation_time), label='excitation')\n",
    "\n",
    "plt.legend()\n",
    "plt.xlabel(\"repumping duration (us)\")\n",
    "plt.ylabel(\"probability\")\n",
    "plt.xlim(0,2)"
   ]
  },
  {
   "cell_type": "code",
   "execution_count": null,
   "metadata": {
    "collapsed": false
   },
   "outputs": [],
   "source": [
    "# lets try overlaying a repump time measurement with the above model\n",
    "reload(pu_delayfb)\n",
    "\n",
    "ot = \"20170727114000\"\n",
    "\n",
    "repump_x, repump_y, repump_y_u = pu_delayfb.repump_speed(older_than=ot, ret_data=True)\n"
   ]
  },
  {
   "cell_type": "code",
   "execution_count": null,
   "metadata": {
    "collapsed": false
   },
   "outputs": [],
   "source": [
    "plt.errorbar(repump_x, repump_y, repump_y_u, fmt='o', label='repump failure')\n",
    "# plt.plot(t_repump*1e9, p_excited(t_repump, excitation_time), label='excitation')\n",
    "plt.plot(t_repump*1e9, p_excited_repumped(t_repump, repump_success, singlet_lifetime, excitation_time), label='repump failure with excitation', color='r')\n",
    "\n",
    "plt.ylabel(\"repump failure rate\")\n",
    "plt.xlabel(\"repump duration\")\n",
    "\n",
    "plt.xlim(0,2000)"
   ]
  },
  {
   "cell_type": "code",
   "execution_count": null,
   "metadata": {
    "collapsed": false
   },
   "outputs": [],
   "source": [
    "exc_range = 30. # ns\n",
    "\n",
    "#plt.errorbar(repump_x, np.log(repump_y), fmt='o')\n",
    "\n",
    "exc_range_mask = repump_x < exc_range\n",
    "repump_exc_x = repump_x[exc_range_mask]\n",
    "repump_exc_y = repump_y[exc_range_mask]\n",
    "\n",
    "plt.errorbar(repump_exc_x, np.log(repump_exc_y), fmt='o')\n",
    "\n",
    "fr = fit.fit1d(repump_exc_x*1e-9, np.log(repump_exc_y), common.fit_line, 1, -1, do_print=True)\n",
    "print(fr['fitfunc_str'])\n",
    "gamma_exc = -fr['params_dict']['b']\n",
    "print(gamma_exc / 1e6)\n",
    "tau_exc = 1/gamma_exc\n",
    "print(tau_exc*1e9)"
   ]
  },
  {
   "cell_type": "markdown",
   "metadata": {
    "collapsed": true
   },
   "source": [
    "# Gaussianized model"
   ]
  },
  {
   "cell_type": "code",
   "execution_count": null,
   "metadata": {
    "collapsed": true
   },
   "outputs": [],
   "source": [
    "a = 0.5\n",
    "b = 9./11.\n",
    "c = (1 - b)/b**2\n",
    "d = a*(1-a)\n",
    "tau = 300. # ns\n",
    "L = 50\n",
    "tau_exc = 0. # ns\n",
    "\n",
    "n_tries = int(1e7)"
   ]
  },
  {
   "cell_type": "code",
   "execution_count": null,
   "metadata": {
    "collapsed": false
   },
   "outputs": [],
   "source": [
    "Z_R = stats.norm.rvs(size=n_tries)\n",
    "Z_S = stats.norm.rvs(size=n_tries)\n",
    "Z_Sp = stats.norm.rvs(size=n_tries)\n",
    "Z_Tp = stats.norm.rvs(size=n_tries)\n",
    "Z_Tm = stats.norm.rvs(size=n_tries)"
   ]
  },
  {
   "cell_type": "code",
   "execution_count": null,
   "metadata": {
    "collapsed": false
   },
   "outputs": [],
   "source": [
    "R = a*L + Z_R * np.sqrt(d*L)\n",
    "S = R/b + Z_S * np.sqrt(c*R)\n",
    "Sp = S/2 + Z_Sp * np.sqrt(S/4)\n",
    "Tp = Sp*tau + Z_Tp * np.sqrt(Sp*tau**2)\n",
    "\n",
    "Sm = S - Sp\n",
    "Tm = Sm*tau + Z_Tm * np.sqrt(Sm*tau**2)"
   ]
  },
  {
   "cell_type": "code",
   "execution_count": null,
   "metadata": {
    "collapsed": false
   },
   "outputs": [],
   "source": [
    "valids = (R > 0.0) & (S > 0.0) & (Sp > 0.0) & (Tp > 0.0) & (Sm > 0.0) & (Tm > 0.0)\n",
    "print(\"valid values: \" + str(np.sum(valids)))\n",
    "\n",
    "R = R[valids]\n",
    "S = S[valids]\n",
    "Sp = Sp[valids]\n",
    "Tp = Tp[valids]\n",
    "Sm = Sm[valids]\n",
    "Tm = Tm[valids]"
   ]
  },
  {
   "cell_type": "code",
   "execution_count": null,
   "metadata": {
    "collapsed": false
   },
   "outputs": [],
   "source": [
    "plt.figure()\n",
    "plt.hist(R, bins=100)\n",
    "plt.figure()\n",
    "plt.hist(S, bins=100)\n",
    "plt.figure()\n",
    "plt.hist(Sp, bins=100)\n",
    "plt.figure()\n",
    "plt.hist(Tp, bins=100)\n",
    "plt.figure()\n",
    "plt.hist(Sm, bins=100)\n",
    "plt.figure()\n",
    "plt.hist(Tm, bins=100)\n",
    "\n",
    "plt.show()"
   ]
  },
  {
   "cell_type": "code",
   "execution_count": null,
   "metadata": {
    "collapsed": false
   },
   "outputs": [],
   "source": [
    "# anti-correlation check between Tp and Tm\n",
    "\n",
    "Tp_dev = Tp - np.mean(Tp)\n",
    "Tm_dev = Tm - np.mean(Tm)\n",
    "\n",
    "corr = Tp_dev*Tm_dev\n",
    "\n",
    "corr_cut = corr[(corr > -1e4) & (corr < 1e4)]\n",
    "\n",
    "plt.figure()\n",
    "plt.hist(corr_cut, bins=100)\n",
    "plt.xlim(-1e3, 1e3)\n",
    "plt.show()\n",
    "plt.close('all')"
   ]
  },
  {
   "cell_type": "code",
   "execution_count": null,
   "metadata": {
    "collapsed": false
   },
   "outputs": [],
   "source": [
    "np.mean(corr)"
   ]
  },
  {
   "cell_type": "code",
   "execution_count": null,
   "metadata": {
    "collapsed": false
   },
   "outputs": [],
   "source": [
    "carbon = 2\n",
    "\n",
    "freq_diffs = np.diff(freqs[carbon-1,:]) * np.array([-1.0, 1.0])\n",
    "\n",
    "d_phi = (freq_diffs[0] * Tm*1e-9 + freq_diffs[1] * Tp*1e-9) * 360.0"
   ]
  },
  {
   "cell_type": "code",
   "execution_count": null,
   "metadata": {
    "collapsed": false
   },
   "outputs": [],
   "source": [
    "plt.hist(d_phi, bins=100)\n",
    "plt.show()\n",
    "\n",
    "print(\"mean phase: \" + str(np.mean(d_phi)))\n",
    "print(\"phase standard deviation: \" + str(np.std(d_phi)))"
   ]
  },
  {
   "cell_type": "code",
   "execution_count": null,
   "metadata": {
    "collapsed": true
   },
   "outputs": [],
   "source": [
    "## import time\n",
    "\n",
    "def calculate_phase_mean_stddev(a, b, c, d, tau, tau_exc, L, carbon):\n",
    "    n_tries = int(1e6)\n",
    "    \n",
    "    Z_R = stats.norm.rvs(size=n_tries)\n",
    "    Z_S = stats.norm.rvs(size=n_tries)\n",
    "    Z_Sp = stats.norm.rvs(size=n_tries)\n",
    "    Z_Tp = stats.norm.rvs(size=n_tries)\n",
    "    Z_Tm = stats.norm.rvs(size=n_tries)\n",
    "    Z_Te = stats.norm.rvs(size=n_tries)\n",
    "    \n",
    "    R = a*L + Z_R * np.sqrt(d*L)\n",
    "    S = R/b + Z_S * np.sqrt(c*R)\n",
    "    Sp = S/2 + Z_Sp * np.sqrt(S/4)\n",
    "    Tp = Sp*tau + Z_Tp * np.sqrt(Sp) * tau\n",
    "\n",
    "    Sm = S - Sp\n",
    "    Tm = Sm*tau + Z_Tm * np.sqrt(Sm) * tau\n",
    "    \n",
    "    Te = 0.0 + Z_Te * np.sqrt(R) * tau_exc\n",
    "    \n",
    "    \n",
    "    \n",
    "    # valids = (R > 0.0) & (S > 0.0) & (Sp > 0.0) & (Tp > 0.0) & (Sm > 0.0) & (Tm > 0.0)\n",
    "    validity_matrix = np.vstack((R, S, Sp, Tp, Sm, Tm))\n",
    "    validity_matrix[np.isnan(validity_matrix)] = -1.\n",
    "    valids = np.all(validity_matrix > 0.0, axis=0)\n",
    "#     print(\"valid values: \" + str(np.sum(valids)))\n",
    "    \n",
    "    R = R[valids]\n",
    "    S = S[valids]\n",
    "    Sp = Sp[valids]\n",
    "    Tp = Tp[valids]\n",
    "    Sm = Sm[valids]\n",
    "    Tm = Tm[valids]\n",
    "    Te = Te[valids]\n",
    "    \n",
    "    \n",
    "    freq_diffs = np.diff(freqs[carbon,:]) * np.array([-1.0, 1.0])\n",
    "\n",
    "    d_phi = (freq_diffs[0] * Tm*1e-9 + freq_diffs[1] * Tp*1e-9) * 360.0\n",
    "    \n",
    "    proj = np.cos(np.deg2rad(d_phi))\n",
    "    \n",
    "    \n",
    "    \n",
    "    return np.mean(d_phi), np.std(d_phi), np.mean(proj), np.std(proj)"
   ]
  },
  {
   "cell_type": "code",
   "execution_count": null,
   "metadata": {
    "collapsed": false,
    "scrolled": false
   },
   "outputs": [],
   "source": [
    "carbon_str = \"2\"\n",
    "carbon = c_idxs[carbon_str]\n",
    "\n",
    "a = 0.5\n",
    "b = 9./11.\n",
    "c = (1 - b)/b**2\n",
    "d = a*(1-a)\n",
    "tau = 300. # ns\n",
    "L = 50\n",
    "tau_exc = 0. # ns\n",
    "\n",
    "# for carbon_str, carbon in c_idxs:\n",
    "if True:\n",
    "    print \"Working on carbon \" + carbon_str\n",
    "    L = np.array([50,60,70,80,90,100,120,140,160,180,200,250,300,350,400,450,500,550,600])\n",
    "    phi_means = np.zeros_like(L, dtype=np.double)\n",
    "    phi_stds = np.zeros_like(L, dtype=np.double)\n",
    "\n",
    "    proj_means = np.zeros_like(L, dtype=np.double)\n",
    "    proj_std = np.zeros_like(L, dtype=np.double)\n",
    "\n",
    "    for i_l, l in enumerate(L):\n",
    "        print(\"Iteration %d/%d\" % (i_l+1, len(L)))\n",
    "        phi_means[i_l], phi_stds[i_l], proj_means[i_l], proj_std[i_l] = calculate_phase_mean_stddev(a, b, c, d, tau, tau_exc, l, carbon)\n",
    "\n",
    "    plt.figure()\n",
    "    plt.scatter(L, phi_means, label='mean')\n",
    "    plt.scatter(L, phi_stds, label='std dev')\n",
    "    plt.xlim(0,610)\n",
    "    plt.ylim(0,120)\n",
    "    plt.xlabel(\"number of LDE attempts\")\n",
    "    plt.ylabel(\"angle (degrees)\")\n",
    "    plt.title(\"repump phase statistics on C%s\" % carbon_str)\n",
    "    plt.legend()\n",
    "    plt.savefig(\"plots/repump-phase-stats-T2star-C%s.png\" % carbon_str, dpi=300)\n",
    "\n",
    "    plt.figure()\n",
    "    plt.scatter(L, np.deg2rad(phi_stds)**2)\n",
    "    fr = fit.fit1d(L, np.deg2rad(phi_stds)**2, common.fit_line, 0, 0.01, do_print=True, fixed=[0])\n",
    "    decay_N = 2. / fr['params_dict']['b']\n",
    "    plt.plot(np.linspace(0,600), fr['fitfunc'](np.linspace(0,600)), label='N = %.0f' % decay_N)\n",
    "    plt.savefig(\"plots/repump-sigma-T2star-C%s.png\" % carbon_str, dpi=300)\n",
    "\n",
    "    decay_fun = lambda mu, sigma: np.cos(mu)*np.exp(-0.5*sigma**2)\n",
    "\n",
    "    plt.figure()\n",
    "\n",
    "    # plt.figure(figsize=(10,10))\n",
    "    # plt.scatter(L, proj_means, label='sim. mean')\n",
    "    # plt.scatter(L, proj_std, label='sim. std dev')\n",
    "    # plt.scatter(L, decay_fun(np.deg2rad(phi_means), np.deg2rad(phi_stds)), label='mu + sigma decay')\n",
    "    plt.scatter(L, decay_fun(np.deg2rad(0.0), np.deg2rad(phi_stds)), label=r'sigma decay, N = %.f' % decay_N)\n",
    "    # plt.scatter(L, decay_fun(np.deg2rad(phi_means), np.deg2rad(0.0)), label='mu decay')\n",
    "\n",
    "    if carbon < len(carbons):\n",
    "        c_data = single_C_decay_data[int(carbon_str)]\n",
    "\n",
    "\n",
    "    #     T2star_corrfactors = 1. / T2star_envelope(c_data[\"x\"]*LDE_duration, 20e-3)\n",
    "    #     plt.errorbar(c_data[\"x\"], c_data[\"y\"]*T2star_corrfactors, c_data[\"y_u\"]*T2star_corrfactors, fmt='o', label=\"meas. data, T2* corrected\", color=\"C5\")\n",
    "        LDE_duration = 7e-6\n",
    "        plt.errorbar(\n",
    "            c_data[\"x\"], c_data[\"y\"], c_data[\"y_u\"], fmt='o', \n",
    "            label='T2* corr. meas. data, N = %.f' % c_data['fr']['params_dict']['T'],\n",
    "            color='r'\n",
    "        )\n",
    "\n",
    "    plt.legend()\n",
    "    plt.xlim(0,610)\n",
    "    plt.ylim(0,1.1)\n",
    "    plt.xlabel(\"number of LDE attempts\")\n",
    "    plt.ylabel(r\"$\\langle X \\rangle$\")\n",
    "    plt.title(\"nuclear dephasing for C%s, index %s\" % (carbon_str, carbon))\n",
    "    plt.savefig(\"plots/repump-decay-T2star-C%s.png\" % carbon_str, dpi=300)"
   ]
  },
  {
   "cell_type": "code",
   "execution_count": null,
   "metadata": {
    "collapsed": false
   },
   "outputs": [],
   "source": []
  },
  {
   "cell_type": "code",
   "execution_count": null,
   "metadata": {
    "collapsed": true
   },
   "outputs": [],
   "source": []
  },
  {
   "cell_type": "code",
   "execution_count": null,
   "metadata": {
    "collapsed": false
   },
   "outputs": [],
   "source": [
    "taus = stats.expon.rvs(scale=tau, size=n_tries) * 1e-9\n",
    "omega_choices = stats.bernoulli.rvs(0.5,size=n_tries) * 2. - 1.\n",
    "\n",
    "cfreqs = freqs[carbon,:]\n",
    "avg_pm_freq = np.mean(cfreqs[[0,2]])\n",
    "diff_pm_freq = np.diff(cfreqs[[0,2]])[0]\n",
    "diff_pm_omega = diff_pm_freq * 2 * np.pi\n",
    "\n",
    "omegas = (0.5 * diff_pm_freq * omega_choices) * 2 * np.pi\n",
    "\n",
    "single_phis = omegas * taus\n",
    "\n",
    "plt.hist(single_phis, bins=100)\n",
    "plt.show()"
   ]
  },
  {
   "cell_type": "code",
   "execution_count": null,
   "metadata": {
    "collapsed": false
   },
   "outputs": [],
   "source": [
    "single_phi_var = np.var(single_phis)\n",
    "print single_phi_var"
   ]
  },
  {
   "cell_type": "code",
   "execution_count": null,
   "metadata": {
    "collapsed": false
   },
   "outputs": [],
   "source": [
    "calc_single_phi_var = (diff_pm_omega ** 2) / 2 * (tau * 1e-9)**2\n",
    "print(calc_single_phi_var)"
   ]
  },
  {
   "cell_type": "code",
   "execution_count": null,
   "metadata": {
    "collapsed": false
   },
   "outputs": [],
   "source": [
    "2. / calc_single_phi_var"
   ]
  },
  {
   "cell_type": "code",
   "execution_count": null,
   "metadata": {
    "collapsed": false
   },
   "outputs": [],
   "source": [
    "carbon"
   ]
  },
  {
   "cell_type": "code",
   "execution_count": null,
   "metadata": {
    "collapsed": false
   },
   "outputs": [],
   "source": [
    "%timeit -n 10 Z_R = stats.norm.rvs(size=int(1e6))"
   ]
  },
  {
   "cell_type": "code",
   "execution_count": null,
   "metadata": {
    "collapsed": false
   },
   "outputs": [],
   "source": [
    "for ccs in ['13+', '1', '3']:\n",
    "    print (freqs[c_idxs[ccs],:])"
   ]
  },
  {
   "cell_type": "code",
   "execution_count": null,
   "metadata": {
    "collapsed": false
   },
   "outputs": [],
   "source": [
    "a"
   ]
  },
  {
   "cell_type": "code",
   "execution_count": null,
   "metadata": {
    "collapsed": true
   },
   "outputs": [],
   "source": []
  },
  {
   "cell_type": "code",
   "execution_count": null,
   "metadata": {
    "collapsed": false
   },
   "outputs": [],
   "source": [
    "def naive_fidelity(N, sigma_phi):\n",
    "    return 0.5+0.5*np.exp(-.5*(N/2)*(sigma_phi)**2)\n",
    "\n",
    "def faraday_fidelity(N, sigma_phi):\n",
    "    return 0.5+((1/2.)**(N+1))*(1+np.exp(-0.5*(sigma_phi)**2))**N"
   ]
  },
  {
   "cell_type": "code",
   "execution_count": null,
   "metadata": {
    "collapsed": false
   },
   "outputs": [],
   "source": [
    "sigma_phi = 0.05\n",
    "\n",
    "Nvals = np.arange(1,600)\n",
    "\n",
    "plt.plot(Nvals, naive_fidelity(Nvals, sigma_phi), label='naive')\n",
    "plt.plot(Nvals, faraday_fidelity(Nvals, sigma_phi), label='faraday')\n",
    "\n",
    "plt.legend()\n",
    "\n",
    "plt.figure()\n",
    "plt.plot(Nvals, naive_fidelity(Nvals, sigma_phi)-faraday_fidelity(Nvals, sigma_phi))\n",
    "\n"
   ]
  },
  {
   "cell_type": "code",
   "execution_count": null,
   "metadata": {
    "collapsed": true
   },
   "outputs": [],
   "source": []
  },
  {
   "cell_type": "code",
   "execution_count": null,
   "metadata": {
    "collapsed": true
   },
   "outputs": [],
   "source": []
  }
 ],
 "metadata": {
  "kernelspec": {
   "display_name": "Python 2",
   "language": "python",
   "name": "python2"
  },
  "language_info": {
   "codemirror_mode": {
    "name": "ipython",
    "version": 2
   },
   "file_extension": ".py",
   "mimetype": "text/x-python",
   "name": "python",
   "nbconvert_exporter": "python",
   "pygments_lexer": "ipython2",
   "version": "2.7.13"
  }
 },
 "nbformat": 4,
 "nbformat_minor": 2
}
